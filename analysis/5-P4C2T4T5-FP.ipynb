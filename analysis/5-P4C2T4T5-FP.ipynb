{
 "cells": [
  {
   "cell_type": "code",
   "execution_count": 1,
   "id": "4f735660",
   "metadata": {},
   "outputs": [],
   "source": [
    "import pandas as pd\n",
    "import plotly.express as px\n",
    "import os \n",
    "\n",
    "def read_FP_tables(inputdir):\n",
    "    df_FP = pd.DataFrame()\n",
    "    for dirpath, dirnames, filenames in os.walk(inputdir):\n",
    "        for file in filenames:\n",
    "            if file == 'TableOfEstimates.csv':\n",
    "                df = pd.read_csv(dirpath+\"/\"+file)\n",
    "                df['folder'] = dirpath.split(\"/\")[-1] \n",
    "                df_FP = pd.concat([df, df_FP])\n",
    "\n",
    "    return df_FP\n",
    "strain_color_dict = {  'ST1': px.colors.qualitative.D3[0],\n",
    "                'ST2': px.colors.qualitative.D3[1],\n",
    "                'ST4': px.colors.qualitative.D3[2],\n",
    "                'ST5': px.colors.qualitative.D3[3],\n",
    "                'ST6': px.colors.qualitative.D3[4],\n",
    "                'ST7': px.colors.qualitative.D3[5],\n",
    "                'ST8': px.colors.qualitative.D3[6],\n",
    "                'ST9': px.colors.qualitative.D3[7]}"
   ]
  },
  {
   "cell_type": "code",
   "execution_count": 48,
   "id": "38cccca4",
   "metadata": {},
   "outputs": [
    {
     "data": {
      "text/html": [
       "<div>\n",
       "<style scoped>\n",
       "    .dataframe tbody tr th:only-of-type {\n",
       "        vertical-align: middle;\n",
       "    }\n",
       "\n",
       "    .dataframe tbody tr th {\n",
       "        vertical-align: top;\n",
       "    }\n",
       "\n",
       "    .dataframe thead th {\n",
       "        text-align: right;\n",
       "    }\n",
       "</style>\n",
       "<table border=\"1\" class=\"dataframe\">\n",
       "  <thead>\n",
       "    <tr style=\"text-align: right;\">\n",
       "      <th></th>\n",
       "      <th>sample_name</th>\n",
       "      <th>TotalReads</th>\n",
       "      <th>Number of barcodes</th>\n",
       "      <th>Ns_MinCutoff</th>\n",
       "      <th>Nb</th>\n",
       "      <th>Ns</th>\n",
       "      <th>AverageFrequency</th>\n",
       "      <th>CFU</th>\n",
       "      <th>Log10Ns</th>\n",
       "      <th>Log10CFU</th>\n",
       "      <th>CFU/Ns</th>\n",
       "      <th>strain</th>\n",
       "      <th>sample_id</th>\n",
       "      <th>project</th>\n",
       "      <th>seq_sample_type</th>\n",
       "    </tr>\n",
       "  </thead>\n",
       "  <tbody>\n",
       "    <tr>\n",
       "      <th>0</th>\n",
       "      <td>P4C2T4_s1.A1_stool.DNA</td>\n",
       "      <td>9432</td>\n",
       "      <td>214</td>\n",
       "      <td>208.500000</td>\n",
       "      <td>39.970035</td>\n",
       "      <td>255.117647</td>\n",
       "      <td>312.727973</td>\n",
       "      <td>0</td>\n",
       "      <td>2.406741</td>\n",
       "      <td>-inf</td>\n",
       "      <td>0</td>\n",
       "      <td>ST6</td>\n",
       "      <td>s1</td>\n",
       "      <td>P4C2T4</td>\n",
       "      <td>sample</td>\n",
       "    </tr>\n",
       "    <tr>\n",
       "      <th>1</th>\n",
       "      <td>P4C2T4_s1.A6_stool.DNA</td>\n",
       "      <td>9957</td>\n",
       "      <td>195</td>\n",
       "      <td>214.333333</td>\n",
       "      <td>33.516052</td>\n",
       "      <td>226.882353</td>\n",
       "      <td>247.122033</td>\n",
       "      <td>0</td>\n",
       "      <td>2.355801</td>\n",
       "      <td>-inf</td>\n",
       "      <td>0</td>\n",
       "      <td>ST6</td>\n",
       "      <td>s1</td>\n",
       "      <td>P4C2T4</td>\n",
       "      <td>sample</td>\n",
       "    </tr>\n",
       "    <tr>\n",
       "      <th>2</th>\n",
       "      <td>P4C2T4_s11.F1_stool.DNA</td>\n",
       "      <td>13241</td>\n",
       "      <td>201</td>\n",
       "      <td>181.000000</td>\n",
       "      <td>82.555483</td>\n",
       "      <td>233.941176</td>\n",
       "      <td>345.310447</td>\n",
       "      <td>0</td>\n",
       "      <td>2.369107</td>\n",
       "      <td>-inf</td>\n",
       "      <td>0</td>\n",
       "      <td>ST6</td>\n",
       "      <td>s11</td>\n",
       "      <td>P4C2T4</td>\n",
       "      <td>sample</td>\n",
       "    </tr>\n",
       "    <tr>\n",
       "      <th>3</th>\n",
       "      <td>P4C2T4_s11.F6_stool.DNA</td>\n",
       "      <td>3522</td>\n",
       "      <td>161</td>\n",
       "      <td>183.666667</td>\n",
       "      <td>158.171979</td>\n",
       "      <td>208.500000</td>\n",
       "      <td>248.821111</td>\n",
       "      <td>0</td>\n",
       "      <td>2.319106</td>\n",
       "      <td>-inf</td>\n",
       "      <td>0</td>\n",
       "      <td>ST6</td>\n",
       "      <td>s11</td>\n",
       "      <td>P4C2T4</td>\n",
       "      <td>sample</td>\n",
       "    </tr>\n",
       "    <tr>\n",
       "      <th>4</th>\n",
       "      <td>P4C2T4_s13.G1_stool.DNA</td>\n",
       "      <td>21541</td>\n",
       "      <td>608</td>\n",
       "      <td>192.111111</td>\n",
       "      <td>113.285514</td>\n",
       "      <td>693.941176</td>\n",
       "      <td>661.952610</td>\n",
       "      <td>0</td>\n",
       "      <td>2.841323</td>\n",
       "      <td>-inf</td>\n",
       "      <td>0</td>\n",
       "      <td>ST6</td>\n",
       "      <td>s13</td>\n",
       "      <td>P4C2T4</td>\n",
       "      <td>sample</td>\n",
       "    </tr>\n",
       "    <tr>\n",
       "      <th>...</th>\n",
       "      <td>...</td>\n",
       "      <td>...</td>\n",
       "      <td>...</td>\n",
       "      <td>...</td>\n",
       "      <td>...</td>\n",
       "      <td>...</td>\n",
       "      <td>...</td>\n",
       "      <td>...</td>\n",
       "      <td>...</td>\n",
       "      <td>...</td>\n",
       "      <td>...</td>\n",
       "      <td>...</td>\n",
       "      <td>...</td>\n",
       "      <td>...</td>\n",
       "      <td>...</td>\n",
       "    </tr>\n",
       "    <tr>\n",
       "      <th>132</th>\n",
       "      <td>NTC_G5_NTC</td>\n",
       "      <td>32254</td>\n",
       "      <td>220</td>\n",
       "      <td>455.285714</td>\n",
       "      <td>4.484329</td>\n",
       "      <td>486.714286</td>\n",
       "      <td>238.795714</td>\n",
       "      <td>0</td>\n",
       "      <td>2.687274</td>\n",
       "      <td>-inf</td>\n",
       "      <td>0</td>\n",
       "      <td>ST1</td>\n",
       "      <td>G5</td>\n",
       "      <td>NTC</td>\n",
       "      <td>NTC</td>\n",
       "    </tr>\n",
       "    <tr>\n",
       "      <th>133</th>\n",
       "      <td>NTC_H10_NTC</td>\n",
       "      <td>9676</td>\n",
       "      <td>25</td>\n",
       "      <td>35.545455</td>\n",
       "      <td>0.386335</td>\n",
       "      <td>44.636364</td>\n",
       "      <td>39.069849</td>\n",
       "      <td>0</td>\n",
       "      <td>1.649689</td>\n",
       "      <td>-inf</td>\n",
       "      <td>0</td>\n",
       "      <td>ST1</td>\n",
       "      <td>H10</td>\n",
       "      <td>NTC</td>\n",
       "      <td>NTC</td>\n",
       "    </tr>\n",
       "    <tr>\n",
       "      <th>134</th>\n",
       "      <td>NTC_H5_NTC</td>\n",
       "      <td>51524</td>\n",
       "      <td>1352</td>\n",
       "      <td>4757.666667</td>\n",
       "      <td>26.814889</td>\n",
       "      <td>5241.000000</td>\n",
       "      <td>1484.064300</td>\n",
       "      <td>0</td>\n",
       "      <td>3.719414</td>\n",
       "      <td>-inf</td>\n",
       "      <td>0</td>\n",
       "      <td>ST1</td>\n",
       "      <td>H5</td>\n",
       "      <td>NTC</td>\n",
       "      <td>NTC</td>\n",
       "    </tr>\n",
       "    <tr>\n",
       "      <th>135</th>\n",
       "      <td>WATER_A2_WATER</td>\n",
       "      <td>4348</td>\n",
       "      <td>43</td>\n",
       "      <td>46.454545</td>\n",
       "      <td>0.685682</td>\n",
       "      <td>77.363636</td>\n",
       "      <td>129.635761</td>\n",
       "      <td>0</td>\n",
       "      <td>1.888537</td>\n",
       "      <td>-inf</td>\n",
       "      <td>0</td>\n",
       "      <td>ST1</td>\n",
       "      <td>A2</td>\n",
       "      <td>WATER</td>\n",
       "      <td>WATER</td>\n",
       "    </tr>\n",
       "    <tr>\n",
       "      <th>136</th>\n",
       "      <td>WATER_A7_WATER</td>\n",
       "      <td>3321</td>\n",
       "      <td>25</td>\n",
       "      <td>41.000000</td>\n",
       "      <td>0.607935</td>\n",
       "      <td>44.636364</td>\n",
       "      <td>49.695694</td>\n",
       "      <td>0</td>\n",
       "      <td>1.649689</td>\n",
       "      <td>-inf</td>\n",
       "      <td>0</td>\n",
       "      <td>ST1</td>\n",
       "      <td>A7</td>\n",
       "      <td>WATER</td>\n",
       "      <td>WATER</td>\n",
       "    </tr>\n",
       "  </tbody>\n",
       "</table>\n",
       "<p>548 rows × 15 columns</p>\n",
       "</div>"
      ],
      "text/plain": [
       "                 sample_name  TotalReads  Number of barcodes  Ns_MinCutoff  \\\n",
       "0     P4C2T4_s1.A1_stool.DNA        9432                 214    208.500000   \n",
       "1     P4C2T4_s1.A6_stool.DNA        9957                 195    214.333333   \n",
       "2    P4C2T4_s11.F1_stool.DNA       13241                 201    181.000000   \n",
       "3    P4C2T4_s11.F6_stool.DNA        3522                 161    183.666667   \n",
       "4    P4C2T4_s13.G1_stool.DNA       21541                 608    192.111111   \n",
       "..                       ...         ...                 ...           ...   \n",
       "132               NTC_G5_NTC       32254                 220    455.285714   \n",
       "133              NTC_H10_NTC        9676                  25     35.545455   \n",
       "134               NTC_H5_NTC       51524                1352   4757.666667   \n",
       "135           WATER_A2_WATER        4348                  43     46.454545   \n",
       "136           WATER_A7_WATER        3321                  25     41.000000   \n",
       "\n",
       "             Nb           Ns  AverageFrequency  CFU   Log10Ns  Log10CFU  \\\n",
       "0     39.970035   255.117647        312.727973    0  2.406741      -inf   \n",
       "1     33.516052   226.882353        247.122033    0  2.355801      -inf   \n",
       "2     82.555483   233.941176        345.310447    0  2.369107      -inf   \n",
       "3    158.171979   208.500000        248.821111    0  2.319106      -inf   \n",
       "4    113.285514   693.941176        661.952610    0  2.841323      -inf   \n",
       "..          ...          ...               ...  ...       ...       ...   \n",
       "132    4.484329   486.714286        238.795714    0  2.687274      -inf   \n",
       "133    0.386335    44.636364         39.069849    0  1.649689      -inf   \n",
       "134   26.814889  5241.000000       1484.064300    0  3.719414      -inf   \n",
       "135    0.685682    77.363636        129.635761    0  1.888537      -inf   \n",
       "136    0.607935    44.636364         49.695694    0  1.649689      -inf   \n",
       "\n",
       "     CFU/Ns strain sample_id project seq_sample_type  \n",
       "0         0    ST6        s1  P4C2T4          sample  \n",
       "1         0    ST6        s1  P4C2T4          sample  \n",
       "2         0    ST6       s11  P4C2T4          sample  \n",
       "3         0    ST6       s11  P4C2T4          sample  \n",
       "4         0    ST6       s13  P4C2T4          sample  \n",
       "..      ...    ...       ...     ...             ...  \n",
       "132       0    ST1        G5     NTC             NTC  \n",
       "133       0    ST1       H10     NTC             NTC  \n",
       "134       0    ST1        H5     NTC             NTC  \n",
       "135       0    ST1        A2   WATER           WATER  \n",
       "136       0    ST1        A7   WATER           WATER  \n",
       "\n",
       "[548 rows x 15 columns]"
      ]
     },
     "execution_count": 48,
     "metadata": {},
     "output_type": "execute_result"
    }
   ],
   "source": [
    "df_FP = read_FP_tables('/Volumes/sd/faith/MTCSB/projects/P4-barcoding_strains/20241029_analysis/rerun/P4C2T4T5/FP')\n",
    "df_FP = df_FP.rename(columns = {'Unnamed: 0': 'sample_name',\n",
    "                                'folder': 'strain'})\n",
    "df_FP['sample_id'] = df_FP['sample_name'].apply(lambda x: str(x).split(\"_\")[1].split('.')[0])\n",
    "df_FP['project'] = df_FP['sample_name'].apply(lambda x: str(x).split(\"_\")[0])\n",
    "df_FP['seq_sample_type'] = df_FP['sample_name'].apply(lambda x: 'sample' if 's' in str(x) else str(x).split('_')[0])\n",
    "df_FP\n"
   ]
  },
  {
   "cell_type": "code",
   "execution_count": 49,
   "id": "7c1d6b57",
   "metadata": {},
   "outputs": [
    {
     "data": {
      "text/html": [
       "<div>\n",
       "<style scoped>\n",
       "    .dataframe tbody tr th:only-of-type {\n",
       "        vertical-align: middle;\n",
       "    }\n",
       "\n",
       "    .dataframe tbody tr th {\n",
       "        vertical-align: top;\n",
       "    }\n",
       "\n",
       "    .dataframe thead th {\n",
       "        text-align: right;\n",
       "    }\n",
       "</style>\n",
       "<table border=\"1\" class=\"dataframe\">\n",
       "  <thead>\n",
       "    <tr style=\"text-align: right;\">\n",
       "      <th></th>\n",
       "      <th>strain</th>\n",
       "      <th>sample_id</th>\n",
       "      <th>seq_sample_type</th>\n",
       "      <th>type</th>\n",
       "      <th>value</th>\n",
       "    </tr>\n",
       "  </thead>\n",
       "  <tbody>\n",
       "    <tr>\n",
       "      <th>0</th>\n",
       "      <td>ST6</td>\n",
       "      <td>s1</td>\n",
       "      <td>sample</td>\n",
       "      <td>Nb</td>\n",
       "      <td>39.970035</td>\n",
       "    </tr>\n",
       "    <tr>\n",
       "      <th>1</th>\n",
       "      <td>ST6</td>\n",
       "      <td>s1</td>\n",
       "      <td>sample</td>\n",
       "      <td>Ns</td>\n",
       "      <td>255.117647</td>\n",
       "    </tr>\n",
       "    <tr>\n",
       "      <th>2</th>\n",
       "      <td>ST6</td>\n",
       "      <td>s1</td>\n",
       "      <td>sample</td>\n",
       "      <td>Ns_MinCutoff</td>\n",
       "      <td>208.500000</td>\n",
       "    </tr>\n",
       "    <tr>\n",
       "      <th>3</th>\n",
       "      <td>ST6</td>\n",
       "      <td>s1</td>\n",
       "      <td>sample</td>\n",
       "      <td>Nb</td>\n",
       "      <td>33.516052</td>\n",
       "    </tr>\n",
       "    <tr>\n",
       "      <th>4</th>\n",
       "      <td>ST6</td>\n",
       "      <td>s1</td>\n",
       "      <td>sample</td>\n",
       "      <td>Ns</td>\n",
       "      <td>226.882353</td>\n",
       "    </tr>\n",
       "    <tr>\n",
       "      <th>...</th>\n",
       "      <td>...</td>\n",
       "      <td>...</td>\n",
       "      <td>...</td>\n",
       "      <td>...</td>\n",
       "      <td>...</td>\n",
       "    </tr>\n",
       "    <tr>\n",
       "      <th>1639</th>\n",
       "      <td>ST1</td>\n",
       "      <td>A2</td>\n",
       "      <td>WATER</td>\n",
       "      <td>Ns</td>\n",
       "      <td>77.363636</td>\n",
       "    </tr>\n",
       "    <tr>\n",
       "      <th>1640</th>\n",
       "      <td>ST1</td>\n",
       "      <td>A2</td>\n",
       "      <td>WATER</td>\n",
       "      <td>Ns_MinCutoff</td>\n",
       "      <td>46.454545</td>\n",
       "    </tr>\n",
       "    <tr>\n",
       "      <th>1641</th>\n",
       "      <td>ST1</td>\n",
       "      <td>A7</td>\n",
       "      <td>WATER</td>\n",
       "      <td>Nb</td>\n",
       "      <td>0.607935</td>\n",
       "    </tr>\n",
       "    <tr>\n",
       "      <th>1642</th>\n",
       "      <td>ST1</td>\n",
       "      <td>A7</td>\n",
       "      <td>WATER</td>\n",
       "      <td>Ns</td>\n",
       "      <td>44.636364</td>\n",
       "    </tr>\n",
       "    <tr>\n",
       "      <th>1643</th>\n",
       "      <td>ST1</td>\n",
       "      <td>A7</td>\n",
       "      <td>WATER</td>\n",
       "      <td>Ns_MinCutoff</td>\n",
       "      <td>41.000000</td>\n",
       "    </tr>\n",
       "  </tbody>\n",
       "</table>\n",
       "<p>1644 rows × 5 columns</p>\n",
       "</div>"
      ],
      "text/plain": [
       "     strain sample_id seq_sample_type          type       value\n",
       "0       ST6        s1          sample            Nb   39.970035\n",
       "1       ST6        s1          sample            Ns  255.117647\n",
       "2       ST6        s1          sample  Ns_MinCutoff  208.500000\n",
       "3       ST6        s1          sample            Nb   33.516052\n",
       "4       ST6        s1          sample            Ns  226.882353\n",
       "...     ...       ...             ...           ...         ...\n",
       "1639    ST1        A2           WATER            Ns   77.363636\n",
       "1640    ST1        A2           WATER  Ns_MinCutoff   46.454545\n",
       "1641    ST1        A7           WATER            Nb    0.607935\n",
       "1642    ST1        A7           WATER            Ns   44.636364\n",
       "1643    ST1        A7           WATER  Ns_MinCutoff   41.000000\n",
       "\n",
       "[1644 rows x 5 columns]"
      ]
     },
     "metadata": {},
     "output_type": "display_data"
    },
    {
     "data": {
      "application/vnd.plotly.v1+json": {
       "config": {
        "plotlyServerURL": "https://plotly.com"
       },
       "data": [
        {
         "alignmentgroup": "True",
         "boxpoints": "all",
         "hovertemplate": "type=Nb<br>seq_sample_type=%{x}<br>value=%{y}<extra></extra>",
         "legendgroup": "Nb",
         "marker": {
          "color": "#1F77B4"
         },
         "name": "Nb",
         "notched": false,
         "offsetgroup": "Nb",
         "orientation": "v",
         "showlegend": true,
         "type": "box",
         "x": [
          "sample",
          "sample",
          "sample",
          "sample",
          "sample",
          "sample",
          "sample",
          "sample",
          "sample",
          "sample",
          "sample",
          "sample",
          "sample",
          "sample",
          "sample",
          "sample",
          "sample",
          "sample",
          "sample",
          "sample",
          "sample",
          "sample",
          "sample",
          "sample",
          "sample",
          "sample",
          "sample",
          "sample",
          "sample",
          "sample",
          "sample",
          "sample",
          "sample",
          "sample",
          "sample",
          "sample",
          "sample",
          "sample",
          "sample",
          "sample",
          "sample",
          "sample",
          "sample",
          "sample",
          "sample",
          "sample",
          "sample",
          "sample",
          "sample",
          "sample",
          "sample",
          "sample",
          "sample",
          "sample",
          "sample",
          "sample",
          "sample",
          "sample",
          "sample",
          "sample",
          "sample",
          "sample",
          "sample",
          "sample",
          "sample",
          "sample",
          "sample",
          "sample",
          "sample",
          "sample",
          "sample",
          "sample",
          "sample",
          "sample",
          "sample",
          "sample",
          "sample",
          "sample",
          "sample",
          "sample",
          "sample",
          "sample",
          "sample",
          "sample",
          "sample",
          "sample",
          "sample",
          "sample",
          "sample",
          "sample",
          "sample",
          "sample",
          "sample",
          "sample",
          "sample",
          "sample",
          "sample",
          "sample",
          "sample",
          "sample",
          "sample",
          "sample",
          "sample",
          "sample",
          "sample",
          "sample",
          "sample",
          "sample",
          "sample",
          "sample",
          "sample",
          "sample",
          "sample",
          "sample",
          "sample",
          "sample",
          "sample",
          "sample",
          "sample",
          "sample",
          "sample",
          "sample",
          "sample",
          "sample",
          "sample",
          "sample",
          "sample",
          "sample",
          "sample",
          "sample",
          "NTC",
          "NTC",
          "NTC",
          "NTC",
          "NTC",
          "WATER",
          "WATER",
          "sample",
          "sample",
          "sample",
          "sample",
          "sample",
          "sample",
          "sample",
          "sample",
          "sample",
          "sample",
          "sample",
          "sample",
          "sample",
          "sample",
          "sample",
          "sample",
          "sample",
          "sample",
          "sample",
          "sample",
          "sample",
          "sample",
          "sample",
          "sample",
          "sample",
          "sample",
          "sample",
          "sample",
          "sample",
          "sample",
          "sample",
          "sample",
          "sample",
          "sample",
          "sample",
          "sample",
          "sample",
          "sample",
          "sample",
          "sample",
          "sample",
          "sample",
          "sample",
          "sample",
          "sample",
          "sample",
          "sample",
          "sample",
          "sample",
          "sample",
          "sample",
          "sample",
          "sample",
          "sample",
          "sample",
          "sample",
          "sample",
          "sample",
          "sample",
          "sample",
          "sample",
          "sample",
          "sample",
          "sample",
          "sample",
          "sample",
          "sample",
          "sample",
          "sample",
          "sample",
          "sample",
          "sample",
          "sample",
          "sample",
          "sample",
          "sample",
          "sample",
          "sample",
          "sample",
          "sample",
          "sample",
          "sample",
          "sample",
          "sample",
          "sample",
          "sample",
          "sample",
          "sample",
          "sample",
          "sample",
          "sample",
          "sample",
          "sample",
          "sample",
          "sample",
          "sample",
          "sample",
          "sample",
          "sample",
          "sample",
          "sample",
          "sample",
          "sample",
          "sample",
          "sample",
          "sample",
          "sample",
          "sample",
          "sample",
          "sample",
          "sample",
          "sample",
          "sample",
          "sample",
          "sample",
          "sample",
          "sample",
          "sample",
          "sample",
          "sample",
          "sample",
          "sample",
          "sample",
          "sample",
          "sample",
          "sample",
          "sample",
          "sample",
          "sample",
          "sample",
          "NTC",
          "NTC",
          "NTC",
          "NTC",
          "NTC",
          "WATER",
          "WATER",
          "sample",
          "sample",
          "sample",
          "sample",
          "sample",
          "sample",
          "sample",
          "sample",
          "sample",
          "sample",
          "sample",
          "sample",
          "sample",
          "sample",
          "sample",
          "sample",
          "sample",
          "sample",
          "sample",
          "sample",
          "sample",
          "sample",
          "sample",
          "sample",
          "sample",
          "sample",
          "sample",
          "sample",
          "sample",
          "sample",
          "sample",
          "sample",
          "sample",
          "sample",
          "sample",
          "sample",
          "sample",
          "sample",
          "sample",
          "sample",
          "sample",
          "sample",
          "sample",
          "sample",
          "sample",
          "sample",
          "sample",
          "sample",
          "sample",
          "sample",
          "sample",
          "sample",
          "sample",
          "sample",
          "sample",
          "sample",
          "sample",
          "sample",
          "sample",
          "sample",
          "sample",
          "sample",
          "sample",
          "sample",
          "sample",
          "sample",
          "sample",
          "sample",
          "sample",
          "sample",
          "sample",
          "sample",
          "sample",
          "sample",
          "sample",
          "sample",
          "sample",
          "sample",
          "sample",
          "sample",
          "sample",
          "sample",
          "sample",
          "sample",
          "sample",
          "sample",
          "sample",
          "sample",
          "sample",
          "sample",
          "sample",
          "sample",
          "sample",
          "sample",
          "sample",
          "sample",
          "sample",
          "sample",
          "sample",
          "sample",
          "sample",
          "sample",
          "sample",
          "sample",
          "sample",
          "sample",
          "sample",
          "sample",
          "sample",
          "sample",
          "sample",
          "sample",
          "sample",
          "sample",
          "sample",
          "sample",
          "sample",
          "sample",
          "sample",
          "sample",
          "sample",
          "sample",
          "sample",
          "sample",
          "sample",
          "sample",
          "sample",
          "sample",
          "sample",
          "sample",
          "NTC",
          "NTC",
          "NTC",
          "NTC",
          "NTC",
          "WATER",
          "WATER",
          "sample",
          "sample",
          "sample",
          "sample",
          "sample",
          "sample",
          "sample",
          "sample",
          "sample",
          "sample",
          "sample",
          "sample",
          "sample",
          "sample",
          "sample",
          "sample",
          "sample",
          "sample",
          "sample",
          "sample",
          "sample",
          "sample",
          "sample",
          "sample",
          "sample",
          "sample",
          "sample",
          "sample",
          "sample",
          "sample",
          "sample",
          "sample",
          "sample",
          "sample",
          "sample",
          "sample",
          "sample",
          "sample",
          "sample",
          "sample",
          "sample",
          "sample",
          "sample",
          "sample",
          "sample",
          "sample",
          "sample",
          "sample",
          "sample",
          "sample",
          "sample",
          "sample",
          "sample",
          "sample",
          "sample",
          "sample",
          "sample",
          "sample",
          "sample",
          "sample",
          "sample",
          "sample",
          "sample",
          "sample",
          "sample",
          "sample",
          "sample",
          "sample",
          "sample",
          "sample",
          "sample",
          "sample",
          "sample",
          "sample",
          "sample",
          "sample",
          "sample",
          "sample",
          "sample",
          "sample",
          "sample",
          "sample",
          "sample",
          "sample",
          "sample",
          "sample",
          "sample",
          "sample",
          "sample",
          "sample",
          "sample",
          "sample",
          "sample",
          "sample",
          "sample",
          "sample",
          "sample",
          "sample",
          "sample",
          "sample",
          "sample",
          "sample",
          "sample",
          "sample",
          "sample",
          "sample",
          "sample",
          "sample",
          "sample",
          "sample",
          "sample",
          "sample",
          "sample",
          "sample",
          "sample",
          "sample",
          "sample",
          "sample",
          "sample",
          "sample",
          "sample",
          "sample",
          "sample",
          "sample",
          "sample",
          "sample",
          "sample",
          "sample",
          "sample",
          "sample",
          "NTC",
          "NTC",
          "NTC",
          "NTC",
          "NTC",
          "WATER",
          "WATER"
         ],
         "x0": " ",
         "xaxis": "x",
         "y": {
          "bdata": "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",
          "dtype": "f8"
         },
         "y0": " ",
         "yaxis": "y"
        },
        {
         "alignmentgroup": "True",
         "boxpoints": "all",
         "hovertemplate": "type=Ns<br>seq_sample_type=%{x}<br>value=%{y}<extra></extra>",
         "legendgroup": "Ns",
         "marker": {
          "color": "#FF7F0E"
         },
         "name": "Ns",
         "notched": false,
         "offsetgroup": "Ns",
         "orientation": "v",
         "showlegend": true,
         "type": "box",
         "x": [
          "sample",
          "sample",
          "sample",
          "sample",
          "sample",
          "sample",
          "sample",
          "sample",
          "sample",
          "sample",
          "sample",
          "sample",
          "sample",
          "sample",
          "sample",
          "sample",
          "sample",
          "sample",
          "sample",
          "sample",
          "sample",
          "sample",
          "sample",
          "sample",
          "sample",
          "sample",
          "sample",
          "sample",
          "sample",
          "sample",
          "sample",
          "sample",
          "sample",
          "sample",
          "sample",
          "sample",
          "sample",
          "sample",
          "sample",
          "sample",
          "sample",
          "sample",
          "sample",
          "sample",
          "sample",
          "sample",
          "sample",
          "sample",
          "sample",
          "sample",
          "sample",
          "sample",
          "sample",
          "sample",
          "sample",
          "sample",
          "sample",
          "sample",
          "sample",
          "sample",
          "sample",
          "sample",
          "sample",
          "sample",
          "sample",
          "sample",
          "sample",
          "sample",
          "sample",
          "sample",
          "sample",
          "sample",
          "sample",
          "sample",
          "sample",
          "sample",
          "sample",
          "sample",
          "sample",
          "sample",
          "sample",
          "sample",
          "sample",
          "sample",
          "sample",
          "sample",
          "sample",
          "sample",
          "sample",
          "sample",
          "sample",
          "sample",
          "sample",
          "sample",
          "sample",
          "sample",
          "sample",
          "sample",
          "sample",
          "sample",
          "sample",
          "sample",
          "sample",
          "sample",
          "sample",
          "sample",
          "sample",
          "sample",
          "sample",
          "sample",
          "sample",
          "sample",
          "sample",
          "sample",
          "sample",
          "sample",
          "sample",
          "sample",
          "sample",
          "sample",
          "sample",
          "sample",
          "sample",
          "sample",
          "sample",
          "sample",
          "sample",
          "sample",
          "sample",
          "sample",
          "NTC",
          "NTC",
          "NTC",
          "NTC",
          "NTC",
          "WATER",
          "WATER",
          "sample",
          "sample",
          "sample",
          "sample",
          "sample",
          "sample",
          "sample",
          "sample",
          "sample",
          "sample",
          "sample",
          "sample",
          "sample",
          "sample",
          "sample",
          "sample",
          "sample",
          "sample",
          "sample",
          "sample",
          "sample",
          "sample",
          "sample",
          "sample",
          "sample",
          "sample",
          "sample",
          "sample",
          "sample",
          "sample",
          "sample",
          "sample",
          "sample",
          "sample",
          "sample",
          "sample",
          "sample",
          "sample",
          "sample",
          "sample",
          "sample",
          "sample",
          "sample",
          "sample",
          "sample",
          "sample",
          "sample",
          "sample",
          "sample",
          "sample",
          "sample",
          "sample",
          "sample",
          "sample",
          "sample",
          "sample",
          "sample",
          "sample",
          "sample",
          "sample",
          "sample",
          "sample",
          "sample",
          "sample",
          "sample",
          "sample",
          "sample",
          "sample",
          "sample",
          "sample",
          "sample",
          "sample",
          "sample",
          "sample",
          "sample",
          "sample",
          "sample",
          "sample",
          "sample",
          "sample",
          "sample",
          "sample",
          "sample",
          "sample",
          "sample",
          "sample",
          "sample",
          "sample",
          "sample",
          "sample",
          "sample",
          "sample",
          "sample",
          "sample",
          "sample",
          "sample",
          "sample",
          "sample",
          "sample",
          "sample",
          "sample",
          "sample",
          "sample",
          "sample",
          "sample",
          "sample",
          "sample",
          "sample",
          "sample",
          "sample",
          "sample",
          "sample",
          "sample",
          "sample",
          "sample",
          "sample",
          "sample",
          "sample",
          "sample",
          "sample",
          "sample",
          "sample",
          "sample",
          "sample",
          "sample",
          "sample",
          "sample",
          "sample",
          "sample",
          "sample",
          "NTC",
          "NTC",
          "NTC",
          "NTC",
          "NTC",
          "WATER",
          "WATER",
          "sample",
          "sample",
          "sample",
          "sample",
          "sample",
          "sample",
          "sample",
          "sample",
          "sample",
          "sample",
          "sample",
          "sample",
          "sample",
          "sample",
          "sample",
          "sample",
          "sample",
          "sample",
          "sample",
          "sample",
          "sample",
          "sample",
          "sample",
          "sample",
          "sample",
          "sample",
          "sample",
          "sample",
          "sample",
          "sample",
          "sample",
          "sample",
          "sample",
          "sample",
          "sample",
          "sample",
          "sample",
          "sample",
          "sample",
          "sample",
          "sample",
          "sample",
          "sample",
          "sample",
          "sample",
          "sample",
          "sample",
          "sample",
          "sample",
          "sample",
          "sample",
          "sample",
          "sample",
          "sample",
          "sample",
          "sample",
          "sample",
          "sample",
          "sample",
          "sample",
          "sample",
          "sample",
          "sample",
          "sample",
          "sample",
          "sample",
          "sample",
          "sample",
          "sample",
          "sample",
          "sample",
          "sample",
          "sample",
          "sample",
          "sample",
          "sample",
          "sample",
          "sample",
          "sample",
          "sample",
          "sample",
          "sample",
          "sample",
          "sample",
          "sample",
          "sample",
          "sample",
          "sample",
          "sample",
          "sample",
          "sample",
          "sample",
          "sample",
          "sample",
          "sample",
          "sample",
          "sample",
          "sample",
          "sample",
          "sample",
          "sample",
          "sample",
          "sample",
          "sample",
          "sample",
          "sample",
          "sample",
          "sample",
          "sample",
          "sample",
          "sample",
          "sample",
          "sample",
          "sample",
          "sample",
          "sample",
          "sample",
          "sample",
          "sample",
          "sample",
          "sample",
          "sample",
          "sample",
          "sample",
          "sample",
          "sample",
          "sample",
          "sample",
          "sample",
          "sample",
          "NTC",
          "NTC",
          "NTC",
          "NTC",
          "NTC",
          "WATER",
          "WATER",
          "sample",
          "sample",
          "sample",
          "sample",
          "sample",
          "sample",
          "sample",
          "sample",
          "sample",
          "sample",
          "sample",
          "sample",
          "sample",
          "sample",
          "sample",
          "sample",
          "sample",
          "sample",
          "sample",
          "sample",
          "sample",
          "sample",
          "sample",
          "sample",
          "sample",
          "sample",
          "sample",
          "sample",
          "sample",
          "sample",
          "sample",
          "sample",
          "sample",
          "sample",
          "sample",
          "sample",
          "sample",
          "sample",
          "sample",
          "sample",
          "sample",
          "sample",
          "sample",
          "sample",
          "sample",
          "sample",
          "sample",
          "sample",
          "sample",
          "sample",
          "sample",
          "sample",
          "sample",
          "sample",
          "sample",
          "sample",
          "sample",
          "sample",
          "sample",
          "sample",
          "sample",
          "sample",
          "sample",
          "sample",
          "sample",
          "sample",
          "sample",
          "sample",
          "sample",
          "sample",
          "sample",
          "sample",
          "sample",
          "sample",
          "sample",
          "sample",
          "sample",
          "sample",
          "sample",
          "sample",
          "sample",
          "sample",
          "sample",
          "sample",
          "sample",
          "sample",
          "sample",
          "sample",
          "sample",
          "sample",
          "sample",
          "sample",
          "sample",
          "sample",
          "sample",
          "sample",
          "sample",
          "sample",
          "sample",
          "sample",
          "sample",
          "sample",
          "sample",
          "sample",
          "sample",
          "sample",
          "sample",
          "sample",
          "sample",
          "sample",
          "sample",
          "sample",
          "sample",
          "sample",
          "sample",
          "sample",
          "sample",
          "sample",
          "sample",
          "sample",
          "sample",
          "sample",
          "sample",
          "sample",
          "sample",
          "sample",
          "sample",
          "sample",
          "sample",
          "sample",
          "NTC",
          "NTC",
          "NTC",
          "NTC",
          "NTC",
          "WATER",
          "WATER"
         ],
         "x0": " ",
         "xaxis": "x",
         "y": {
          "bdata": "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",
          "dtype": "f8"
         },
         "y0": " ",
         "yaxis": "y"
        },
        {
         "alignmentgroup": "True",
         "boxpoints": "all",
         "hovertemplate": "type=Ns_MinCutoff<br>seq_sample_type=%{x}<br>value=%{y}<extra></extra>",
         "legendgroup": "Ns_MinCutoff",
         "marker": {
          "color": "#2CA02C"
         },
         "name": "Ns_MinCutoff",
         "notched": false,
         "offsetgroup": "Ns_MinCutoff",
         "orientation": "v",
         "showlegend": true,
         "type": "box",
         "x": [
          "sample",
          "sample",
          "sample",
          "sample",
          "sample",
          "sample",
          "sample",
          "sample",
          "sample",
          "sample",
          "sample",
          "sample",
          "sample",
          "sample",
          "sample",
          "sample",
          "sample",
          "sample",
          "sample",
          "sample",
          "sample",
          "sample",
          "sample",
          "sample",
          "sample",
          "sample",
          "sample",
          "sample",
          "sample",
          "sample",
          "sample",
          "sample",
          "sample",
          "sample",
          "sample",
          "sample",
          "sample",
          "sample",
          "sample",
          "sample",
          "sample",
          "sample",
          "sample",
          "sample",
          "sample",
          "sample",
          "sample",
          "sample",
          "sample",
          "sample",
          "sample",
          "sample",
          "sample",
          "sample",
          "sample",
          "sample",
          "sample",
          "sample",
          "sample",
          "sample",
          "sample",
          "sample",
          "sample",
          "sample",
          "sample",
          "sample",
          "sample",
          "sample",
          "sample",
          "sample",
          "sample",
          "sample",
          "sample",
          "sample",
          "sample",
          "sample",
          "sample",
          "sample",
          "sample",
          "sample",
          "sample",
          "sample",
          "sample",
          "sample",
          "sample",
          "sample",
          "sample",
          "sample",
          "sample",
          "sample",
          "sample",
          "sample",
          "sample",
          "sample",
          "sample",
          "sample",
          "sample",
          "sample",
          "sample",
          "sample",
          "sample",
          "sample",
          "sample",
          "sample",
          "sample",
          "sample",
          "sample",
          "sample",
          "sample",
          "sample",
          "sample",
          "sample",
          "sample",
          "sample",
          "sample",
          "sample",
          "sample",
          "sample",
          "sample",
          "sample",
          "sample",
          "sample",
          "sample",
          "sample",
          "sample",
          "sample",
          "sample",
          "sample",
          "sample",
          "sample",
          "NTC",
          "NTC",
          "NTC",
          "NTC",
          "NTC",
          "WATER",
          "WATER",
          "sample",
          "sample",
          "sample",
          "sample",
          "sample",
          "sample",
          "sample",
          "sample",
          "sample",
          "sample",
          "sample",
          "sample",
          "sample",
          "sample",
          "sample",
          "sample",
          "sample",
          "sample",
          "sample",
          "sample",
          "sample",
          "sample",
          "sample",
          "sample",
          "sample",
          "sample",
          "sample",
          "sample",
          "sample",
          "sample",
          "sample",
          "sample",
          "sample",
          "sample",
          "sample",
          "sample",
          "sample",
          "sample",
          "sample",
          "sample",
          "sample",
          "sample",
          "sample",
          "sample",
          "sample",
          "sample",
          "sample",
          "sample",
          "sample",
          "sample",
          "sample",
          "sample",
          "sample",
          "sample",
          "sample",
          "sample",
          "sample",
          "sample",
          "sample",
          "sample",
          "sample",
          "sample",
          "sample",
          "sample",
          "sample",
          "sample",
          "sample",
          "sample",
          "sample",
          "sample",
          "sample",
          "sample",
          "sample",
          "sample",
          "sample",
          "sample",
          "sample",
          "sample",
          "sample",
          "sample",
          "sample",
          "sample",
          "sample",
          "sample",
          "sample",
          "sample",
          "sample",
          "sample",
          "sample",
          "sample",
          "sample",
          "sample",
          "sample",
          "sample",
          "sample",
          "sample",
          "sample",
          "sample",
          "sample",
          "sample",
          "sample",
          "sample",
          "sample",
          "sample",
          "sample",
          "sample",
          "sample",
          "sample",
          "sample",
          "sample",
          "sample",
          "sample",
          "sample",
          "sample",
          "sample",
          "sample",
          "sample",
          "sample",
          "sample",
          "sample",
          "sample",
          "sample",
          "sample",
          "sample",
          "sample",
          "sample",
          "sample",
          "sample",
          "sample",
          "sample",
          "NTC",
          "NTC",
          "NTC",
          "NTC",
          "NTC",
          "WATER",
          "WATER",
          "sample",
          "sample",
          "sample",
          "sample",
          "sample",
          "sample",
          "sample",
          "sample",
          "sample",
          "sample",
          "sample",
          "sample",
          "sample",
          "sample",
          "sample",
          "sample",
          "sample",
          "sample",
          "sample",
          "sample",
          "sample",
          "sample",
          "sample",
          "sample",
          "sample",
          "sample",
          "sample",
          "sample",
          "sample",
          "sample",
          "sample",
          "sample",
          "sample",
          "sample",
          "sample",
          "sample",
          "sample",
          "sample",
          "sample",
          "sample",
          "sample",
          "sample",
          "sample",
          "sample",
          "sample",
          "sample",
          "sample",
          "sample",
          "sample",
          "sample",
          "sample",
          "sample",
          "sample",
          "sample",
          "sample",
          "sample",
          "sample",
          "sample",
          "sample",
          "sample",
          "sample",
          "sample",
          "sample",
          "sample",
          "sample",
          "sample",
          "sample",
          "sample",
          "sample",
          "sample",
          "sample",
          "sample",
          "sample",
          "sample",
          "sample",
          "sample",
          "sample",
          "sample",
          "sample",
          "sample",
          "sample",
          "sample",
          "sample",
          "sample",
          "sample",
          "sample",
          "sample",
          "sample",
          "sample",
          "sample",
          "sample",
          "sample",
          "sample",
          "sample",
          "sample",
          "sample",
          "sample",
          "sample",
          "sample",
          "sample",
          "sample",
          "sample",
          "sample",
          "sample",
          "sample",
          "sample",
          "sample",
          "sample",
          "sample",
          "sample",
          "sample",
          "sample",
          "sample",
          "sample",
          "sample",
          "sample",
          "sample",
          "sample",
          "sample",
          "sample",
          "sample",
          "sample",
          "sample",
          "sample",
          "sample",
          "sample",
          "sample",
          "sample",
          "sample",
          "sample",
          "NTC",
          "NTC",
          "NTC",
          "NTC",
          "NTC",
          "WATER",
          "WATER",
          "sample",
          "sample",
          "sample",
          "sample",
          "sample",
          "sample",
          "sample",
          "sample",
          "sample",
          "sample",
          "sample",
          "sample",
          "sample",
          "sample",
          "sample",
          "sample",
          "sample",
          "sample",
          "sample",
          "sample",
          "sample",
          "sample",
          "sample",
          "sample",
          "sample",
          "sample",
          "sample",
          "sample",
          "sample",
          "sample",
          "sample",
          "sample",
          "sample",
          "sample",
          "sample",
          "sample",
          "sample",
          "sample",
          "sample",
          "sample",
          "sample",
          "sample",
          "sample",
          "sample",
          "sample",
          "sample",
          "sample",
          "sample",
          "sample",
          "sample",
          "sample",
          "sample",
          "sample",
          "sample",
          "sample",
          "sample",
          "sample",
          "sample",
          "sample",
          "sample",
          "sample",
          "sample",
          "sample",
          "sample",
          "sample",
          "sample",
          "sample",
          "sample",
          "sample",
          "sample",
          "sample",
          "sample",
          "sample",
          "sample",
          "sample",
          "sample",
          "sample",
          "sample",
          "sample",
          "sample",
          "sample",
          "sample",
          "sample",
          "sample",
          "sample",
          "sample",
          "sample",
          "sample",
          "sample",
          "sample",
          "sample",
          "sample",
          "sample",
          "sample",
          "sample",
          "sample",
          "sample",
          "sample",
          "sample",
          "sample",
          "sample",
          "sample",
          "sample",
          "sample",
          "sample",
          "sample",
          "sample",
          "sample",
          "sample",
          "sample",
          "sample",
          "sample",
          "sample",
          "sample",
          "sample",
          "sample",
          "sample",
          "sample",
          "sample",
          "sample",
          "sample",
          "sample",
          "sample",
          "sample",
          "sample",
          "sample",
          "sample",
          "sample",
          "sample",
          "sample",
          "NTC",
          "NTC",
          "NTC",
          "NTC",
          "NTC",
          "WATER",
          "WATER"
         ],
         "x0": " ",
         "xaxis": "x",
         "y": {
          "bdata": "AAAAAAAQakCfqqqqqspqQAAAAAAAoGZAYVVVVVX1ZkA1juM4jgNoQN/S0tLS8mdAy3Ecx3EEh0AAAAAAACiHQMBt27ZtqaNAQJIkSZK6o0DEcRzHcdxSQAAAAAAAcFFAPlVVVVWVXUAAAAAAAKBdQAAAAAAA4GJAhYeHh4cnZUAhLS0tLU1qQGocx3Ecp2pAAAAAAACYZEB427Zt29ZkQAAAAAAAZHBAIS0tLS1NakBIS0tLSzOBQHt4eHh4gIBAAAAAAABqoEAAAAAAANCfQGocx3EcZ2RAAAAAAADoaUDq4eHh4QFqQNTDw8PDY2hAe3h4eHiYZUBwaWlpaQlmQJCWlpaWtmlAe3h4eHiYZUBYVVVVVa2CQAAAAAAAKIJAAAAAAADYhkAax3Ecx+mGQAAAAAAAmGRAAAAAAAAgYUBr27Zt23ijQGvbtm3btKNACw8PDw+PS0BXWlpaWppRQAAAAAAAQE1AJDuxEzvxW0CZbdu2bZteQAAAAAAAoGFAAAAAAABAWUDwtm3bti1dQLxt27ZtO2NAAAAAAAAgZUCoqqqqqvKGQMtxHMdxBIdAXVVVVVW/o0CjqqqqquSjQB0eHh4eXlhAFh4eHh6+YEAAAAAAAIBjQAAAAAAAkF5AAAAAAABUcUAAAAAAADxwQGVaWlpaemZA39LS0tJyZUBLkiRJkuRYQAAAAAAAsFxAAAAAAACAY0CfqqqqqspiQAAAAAAAoGZAprS0tLTUaEAAAAAAANSRQKKlpaWlJUxAqKqqqqoihEC5qqqqqiaRQAAAAAAAOJJAAAAAAACcl0B0eHh4eHgxQOY4juM4toxAAAAAAAAIhEAAAAAAAEAxQAAAAAAAQE1API7jOI6jUEBFS0tLS0swQJbjOI7jCHBA1DiO4zjOXkAAAAAAAEiAQGeSJEmSZFtAy3Ecx3FMc0Dh4eHh4UmEQAAAAAAAAAJApqqqqqoqRkAAAAAAAADwP8PDw8PDa4ZAlSRJkiRjpEAAAAAAANyYQAAAAAAA05dAWFVVVVWtjEDmOI7jOPaDQFNVVVVVFVBAAAAAAAAADEBzHMdxHH+BQD2SJEmSJDxAAAAAAADAVkDmOI7jOJ55QIjjOI7jODdAAAAAAABEkkAAAAAAABubQOY4juM4FoxAR1VVVVWJl0DLcRzHcWSLQBrHcRzH4XxAFh4eHh6uekC4tLS0tERxQBMtLS0tLSdA5jiO4zjmhEBlWlpaWnpmQFDsxE7sBFVAXCd2Yid2FkBHVVVVVcmeQCtJkiRJTKRAAAAAAACYlkAAAAAAAB6YQFhVVVVV/YxAjeM4juNghECW4ziO41hrQBrHcRzHAXtAAAAAAAAANUBTVVVVVZVXQAAAAAAAKIJAAAAAAADUkUC4tLS0tLyNQJbjOI7jGGpAkJaWlpa2aUA1juM4jkNpQAAAAAAAkHBAAAAAAACga0BqHMdxHOdmQAAAAAAAnoRAAAAAAADGhEAAAAAAgI6/QAAAAAAAPb5AAAAAAIBZuEAAAAAAgErIQAAAAACAwb5AAAAAAICUvkBEF1100a+nQAAAAAAAJqhAAAAAAAD4fEAAAAAAAABmQGbbtm3b5nJAvG3btm3rcUAAAAAAAKCHQAAAAAAAVpJAYVVVVVX1ZkCfqqqqqkpnQDRJkiRJsmxA4UUXXXRxbUDxoosuuoKoQAAAAAAAkqdAAAAAAIDUukAAAAAAAIK6QLzooosuTKhAy0UXXXRTqEAAAAAAALGRQAAAAAAAPpFAT1VVVVWlfkBPVVVVVWV8QAAAAAAATIZAqKqqqqrSgkCxqqqqqvp4QAAAAAAALHZA1kUXXXQqs0AaXXTRRdyyQAAAAAAAR75AAAAAAIC3vkAAAAAAgBikQAAAAACA4qJAy0UXXXQ7p0BTdNFFF2enQAAAAAAA5JdAuaqqqqr+lkAAAAAAACiDQCJJkiRJSodAoosuuujntEAAAAAAAJG0QD5VVVVVlV1AH7rooovOaUAAAAAAAGiEQKiqqqqqMoRAAAAAAIDRvUAAAAAAAJe+QDW66KKLwKhAD1100UUxqUBHVVVVVZmXQAAAAAAAc5hAtW3btu2BwUCpqqqqKkLAQAAAAAAA65hAAAAAAAD1mEAAAAAAAC2TQLmqqqqqTpRAN7ETO7Ejd0AAAAAAAJh4QLGqqqqqunZAAAAAAACQdkBPVVVVVWVzQJ+qqqqqym9AXnTRRRfeskDwtm3btq1aQAAAAAAAIqdAAAAAAIBLvEDLRRdddIOqQKKLLrrod7FAAAAAAAAvlkBXVVVV1WbAQFdVVVXVQsFApqqqqqoqRUCIJEmSJGltQEdVVVVVGZJAAAAAAABIm0BSVVVVVVayQAAAAAAA+odAaFVVVdUsyECYqqqqKmHEQIguuuiitahAiC666KKVqkAAAAAAAHx2QAAAAAAAi55AAAAAAADKpEBEF1100eemQAAAAAAAS51AD1100UXpqkDWRRdddKa0QHjRRRddRqxAvOiiiy6ztECpEzuxEzs+QGFVVVVV9WNAkCRJkqQfwEDqxE7sxI5WQPGiiy664qdAo6qqqqpGrECxqqqqqjpyQAAAAAAAR6VAAAAAAACMnUCILrroouWqQAAAAAAAmbdAAAAAAABGnUAAAAAAgCugQAAAAAAAoH9AAAAAAAAgb0AAAAAAAK+TQAAAAACA36BAsaqqqqr6eEAAAAAAALB+QLSqqqqqqjFANbrooovwpUAAAAAAAB+cQEQXXXTRp6pAAAAAAIDmt0AAAAAAAPS2QJiqqqoqYMVAAAAAAAA8f0CpqqqqKnTAQJ+qqqqqSm9AAAAAAAB3u0BAkiRJknKlQAAAAAAA5IRAAAAAAIDEu0DMtm3bto1qQMy2bdu2zWtAAAAAAABwaUCSndiJnahxQAAAAAAA0H9AAAAAAAA0fUAAAAAAAIBEQAAAAAAAgEZAAAAAAACAPEAAAAAAAEBeQAAAAAAAzHtAAAAAAACATkAPXXTRRVmkQLzooosuPKRAAAAAAIB2x0AAAAAAgLzHQAAAAAAAEFJAoIsuuujiV0AAAAAAAEBUQAAAAAAAgERAAAAAAACAUEAAAAAAABBlQAAAAAAAQFRAAAAAAAAwVUAAAAAAAMBWQAAAAAAAgE5AvG3btm27ZUC8bdu2bXtkQAAAAAAAp5ZAAAAAAADklUCQJEmSpN3AQAAAAAAAPb5AAAAAAACATkAAAAAAAIBOQAAAAAAAwFVAAAAAAAAAU0CtqqqqqupVQAAAAAAAgE5AAAAAAACAREBLkiRJkqRBQAAAAAAAapdAAAAAAAC7lkAAAAAAAJ6jQKOqqqqqrqNAAAAAAABAVEAAAAAAAEBZQAAAAACAaMdAAAAAAIDQx0DMtm3bts1rQJ+qqqqq6mNAAAAAAABAWUCfqqqqqkpjQIgkSZIkiV1AwqqqqqpqXUAAAAAAAKBTQAAAAAAAoFhASezETuzUeUBm27Zt2yZ5QF1VVVVVq6NAo6qqqqrWo0AAAAAAgFrHQAAAAACAdcdAkp3YiZ14akBEkiRJkoRnQAAAAAAAADBAAAAAAAAA8D8AAAAAAAmZQAAAAAAAnJdAbSd2Yie2XEAAAAAAAEBeQAAAAAAAoGFAAAAAAABAX0BTVVVVVZVXQAAAAAAAIGBAAAAAAACAQEAtSZIkSZI9QAAAAAAAABhAAAAAAACgaUAAAAAAAF+yQAAAAACARcBAAAAAAIBGyEA+juM4jiiwQAsPDw8Pj0tAH8dxHMdKs0CjqqqqqiShQAAAAAAA8FNAjyRJkiQJUUAAAAAAAJRyQK2lpaWl9XxAAAAAAAAXlUAAAAAAAG+SQIguuuii/aZAAAAAAACYgUCFh4eHh++LQF1VVVVVX6lAPxdddNHFS0AAAAAAADh5QAAAAAAAUHpAAAAAAAAZs0AAAAAAQFXUQAAAAACAsMhArqqqqqoLsEAAAAAAAOOyQKOqqqqqaqFAWktLS0traUAAAAAAAAAdQAAAAAAAmHNAAAAAAAAAa0CILrroos2kQKOqqqqqpqZAAAAAAACATkCP4ziO4zG0QAAAAABA5NFAAAAAAID2xECP4ziO40mwQFJVVVVVQrJAAAAAAAB5l0CkpaWlpa2LQAAAAAAAxJJAV1paWlqaUUAAAAAAAHqbQAAAAAAAKIxAZtu2bdtGfEAAAAAAAMBRQEuSJEmSqb5AtKqqquoV1EAAAAAAgMbIQAAAAAAAibBAAAAAAACTs0AAAAAAAOahQIguuuiiTadAAAAAAAAglkAAAAAAAIBMQBYeHh4eLnNAXVVVVVWjpkA9kiRJkiQyQAAAAACANcFAAAAAAAAA8D8AAAAAAADwPwAAAAAAAPA/AAAAAABAVEDCqqqqqupaQAAAAAAAQFlAAAAAAABgZEBhVVVVVRVjQAAAAAAAgEFAjS666KILSUAAAAAAABB0QOaiiy66KFVAS5IkSRI9wkCYqqqqKrPMQAAAAADAwNRAAAAAAMDV40AAAAAAAHBuQAAAAAAAACFAAAAAAAAAJkAAAAAAAAAmQAAAAADAOPBAAAAAAOAV70BaVVVVVVVFQDS66KKLLjNARhdddNGFUUC66KKLLvpRQCBJkiRJL7dAAAAAAADFtEBYVVVVVV2HQKiqqqqqgoNAqm3btm1fmUAAAAAAALSZQOaiiy66aEVAAAAAAAAAM0AaXXTRRZdDQDS66KKLrkJAAAAAAACDuUAAAAAAALK8QH8uuuiiK2FAfy666KKrY0A0SZIkSTJvQCJJkiRJonJAAAAAAID52kAAAAAAgEnbQAAAAAAAADNAzEUXXXTRNkAAAAAA4PTsQAAAAABgZ+ZAgdFFF110OkBNF1100UU8QAAAAAAAACJAAAAAAAAAKkAAAAAAYJzoQAAAAABAeORAWXTRRRfdQEAAAAAAAAAmQDS66KKLrkJANLrooouuQkC0qqqq6vrQQAAAAABAKNBAAAAAAIDB1kBoVVVV1aPOQD8XXXTRxUFAZ3TRRRddMUAAAAAAAAAcQG0cx3EcxwlAgdFFF110OkDB6KKLLjpHQAAAAADgKulAAAAAAGBO60DMRRdddFFGQBpddNFFFz5APxdddNHlY0AhXXTRRTdjQFl00UUX3UBAWXTRRRfdQEA0uuiiiy4kQGB00UUX/WdAAAAAAIBIx0AAAAAAAASUQAAAAADgc+tAAAAAAACx1UC5qqqqqj6SQAAAAADAKdBAAAAAAIDryUA0uuiii65CQAAAAAAA+I5ANLrooosuJEBTVVVVVZVXQE9VVVVV5X5AjS666KLLU0Bm27Zt24Z4QG/btm3bPoJAweiiiy46R0A0uuiiiy4zQOaiiy66aEVAAAAAAACASkA0uuiiiy4kQAAAAACARcpAAAAAAOAZ5kAAAAAAwBrlQAAAAAAAZ+BAAAAAAECZ0UAAAAAAgIDLQDS66KKLrkxAmYsuuuiiOECB0UUXXXQ6QP5cdNFFFy9AoIsuuujiUkCZiy666KI4QBpddNFFFz5AWFVVVVXdhEAAAAAAQL3wQAAAAAAAOqhAAAAAAIDiw0AAAAAAAHKsQAAAAAAAAqxAAAAAAABAbEBZdNFFF91AQAAAAAAAQFVALbroootuV0AAAAAAAAAiQBpddNFFl0NAWXTRRRfdSkAAAAAAgFrLQAAAAADgwudAAAAAAMDm8UAAAAAAwE/iQAAAAACAC9hAAAAAAEBm0kACo4suuihfQKeLLrroIkhAWXTRRRfdQEDMRRdddNE2QLSqqqqqqjZAtKqqqqqqO0Cniy666CJIQAAAAAAAaHZARJIkSZJ0fEA/F1100cVBQK6qqqqqlbJAweiiiy46R0AAAAAAAIBEQA==",
          "dtype": "f8"
         },
         "y0": " ",
         "yaxis": "y"
        }
       ],
       "layout": {
        "boxmode": "group",
        "height": 400,
        "legend": {
         "title": {
          "text": "type"
         },
         "tracegroupgap": 0
        },
        "margin": {
         "t": 60
        },
        "template": {
         "data": {
          "bar": [
           {
            "error_x": {
             "color": "rgb(36,36,36)"
            },
            "error_y": {
             "color": "rgb(36,36,36)"
            },
            "marker": {
             "line": {
              "color": "white",
              "width": 0.5
             },
             "pattern": {
              "fillmode": "overlay",
              "size": 10,
              "solidity": 0.2
             }
            },
            "type": "bar"
           }
          ],
          "barpolar": [
           {
            "marker": {
             "line": {
              "color": "white",
              "width": 0.5
             },
             "pattern": {
              "fillmode": "overlay",
              "size": 10,
              "solidity": 0.2
             }
            },
            "type": "barpolar"
           }
          ],
          "carpet": [
           {
            "aaxis": {
             "endlinecolor": "rgb(36,36,36)",
             "gridcolor": "white",
             "linecolor": "white",
             "minorgridcolor": "white",
             "startlinecolor": "rgb(36,36,36)"
            },
            "baxis": {
             "endlinecolor": "rgb(36,36,36)",
             "gridcolor": "white",
             "linecolor": "white",
             "minorgridcolor": "white",
             "startlinecolor": "rgb(36,36,36)"
            },
            "type": "carpet"
           }
          ],
          "choropleth": [
           {
            "colorbar": {
             "outlinewidth": 1,
             "tickcolor": "rgb(36,36,36)",
             "ticks": "outside"
            },
            "type": "choropleth"
           }
          ],
          "contour": [
           {
            "colorbar": {
             "outlinewidth": 1,
             "tickcolor": "rgb(36,36,36)",
             "ticks": "outside"
            },
            "colorscale": [
             [
              0,
              "#440154"
             ],
             [
              0.1111111111111111,
              "#482878"
             ],
             [
              0.2222222222222222,
              "#3e4989"
             ],
             [
              0.3333333333333333,
              "#31688e"
             ],
             [
              0.4444444444444444,
              "#26828e"
             ],
             [
              0.5555555555555556,
              "#1f9e89"
             ],
             [
              0.6666666666666666,
              "#35b779"
             ],
             [
              0.7777777777777778,
              "#6ece58"
             ],
             [
              0.8888888888888888,
              "#b5de2b"
             ],
             [
              1,
              "#fde725"
             ]
            ],
            "type": "contour"
           }
          ],
          "contourcarpet": [
           {
            "colorbar": {
             "outlinewidth": 1,
             "tickcolor": "rgb(36,36,36)",
             "ticks": "outside"
            },
            "type": "contourcarpet"
           }
          ],
          "heatmap": [
           {
            "colorbar": {
             "outlinewidth": 1,
             "tickcolor": "rgb(36,36,36)",
             "ticks": "outside"
            },
            "colorscale": [
             [
              0,
              "#440154"
             ],
             [
              0.1111111111111111,
              "#482878"
             ],
             [
              0.2222222222222222,
              "#3e4989"
             ],
             [
              0.3333333333333333,
              "#31688e"
             ],
             [
              0.4444444444444444,
              "#26828e"
             ],
             [
              0.5555555555555556,
              "#1f9e89"
             ],
             [
              0.6666666666666666,
              "#35b779"
             ],
             [
              0.7777777777777778,
              "#6ece58"
             ],
             [
              0.8888888888888888,
              "#b5de2b"
             ],
             [
              1,
              "#fde725"
             ]
            ],
            "type": "heatmap"
           }
          ],
          "histogram": [
           {
            "marker": {
             "line": {
              "color": "white",
              "width": 0.6
             }
            },
            "type": "histogram"
           }
          ],
          "histogram2d": [
           {
            "colorbar": {
             "outlinewidth": 1,
             "tickcolor": "rgb(36,36,36)",
             "ticks": "outside"
            },
            "colorscale": [
             [
              0,
              "#440154"
             ],
             [
              0.1111111111111111,
              "#482878"
             ],
             [
              0.2222222222222222,
              "#3e4989"
             ],
             [
              0.3333333333333333,
              "#31688e"
             ],
             [
              0.4444444444444444,
              "#26828e"
             ],
             [
              0.5555555555555556,
              "#1f9e89"
             ],
             [
              0.6666666666666666,
              "#35b779"
             ],
             [
              0.7777777777777778,
              "#6ece58"
             ],
             [
              0.8888888888888888,
              "#b5de2b"
             ],
             [
              1,
              "#fde725"
             ]
            ],
            "type": "histogram2d"
           }
          ],
          "histogram2dcontour": [
           {
            "colorbar": {
             "outlinewidth": 1,
             "tickcolor": "rgb(36,36,36)",
             "ticks": "outside"
            },
            "colorscale": [
             [
              0,
              "#440154"
             ],
             [
              0.1111111111111111,
              "#482878"
             ],
             [
              0.2222222222222222,
              "#3e4989"
             ],
             [
              0.3333333333333333,
              "#31688e"
             ],
             [
              0.4444444444444444,
              "#26828e"
             ],
             [
              0.5555555555555556,
              "#1f9e89"
             ],
             [
              0.6666666666666666,
              "#35b779"
             ],
             [
              0.7777777777777778,
              "#6ece58"
             ],
             [
              0.8888888888888888,
              "#b5de2b"
             ],
             [
              1,
              "#fde725"
             ]
            ],
            "type": "histogram2dcontour"
           }
          ],
          "mesh3d": [
           {
            "colorbar": {
             "outlinewidth": 1,
             "tickcolor": "rgb(36,36,36)",
             "ticks": "outside"
            },
            "type": "mesh3d"
           }
          ],
          "parcoords": [
           {
            "line": {
             "colorbar": {
              "outlinewidth": 1,
              "tickcolor": "rgb(36,36,36)",
              "ticks": "outside"
             }
            },
            "type": "parcoords"
           }
          ],
          "pie": [
           {
            "automargin": true,
            "type": "pie"
           }
          ],
          "scatter": [
           {
            "fillpattern": {
             "fillmode": "overlay",
             "size": 10,
             "solidity": 0.2
            },
            "type": "scatter"
           }
          ],
          "scatter3d": [
           {
            "line": {
             "colorbar": {
              "outlinewidth": 1,
              "tickcolor": "rgb(36,36,36)",
              "ticks": "outside"
             }
            },
            "marker": {
             "colorbar": {
              "outlinewidth": 1,
              "tickcolor": "rgb(36,36,36)",
              "ticks": "outside"
             }
            },
            "type": "scatter3d"
           }
          ],
          "scattercarpet": [
           {
            "marker": {
             "colorbar": {
              "outlinewidth": 1,
              "tickcolor": "rgb(36,36,36)",
              "ticks": "outside"
             }
            },
            "type": "scattercarpet"
           }
          ],
          "scattergeo": [
           {
            "marker": {
             "colorbar": {
              "outlinewidth": 1,
              "tickcolor": "rgb(36,36,36)",
              "ticks": "outside"
             }
            },
            "type": "scattergeo"
           }
          ],
          "scattergl": [
           {
            "marker": {
             "colorbar": {
              "outlinewidth": 1,
              "tickcolor": "rgb(36,36,36)",
              "ticks": "outside"
             }
            },
            "type": "scattergl"
           }
          ],
          "scattermap": [
           {
            "marker": {
             "colorbar": {
              "outlinewidth": 1,
              "tickcolor": "rgb(36,36,36)",
              "ticks": "outside"
             }
            },
            "type": "scattermap"
           }
          ],
          "scattermapbox": [
           {
            "marker": {
             "colorbar": {
              "outlinewidth": 1,
              "tickcolor": "rgb(36,36,36)",
              "ticks": "outside"
             }
            },
            "type": "scattermapbox"
           }
          ],
          "scatterpolar": [
           {
            "marker": {
             "colorbar": {
              "outlinewidth": 1,
              "tickcolor": "rgb(36,36,36)",
              "ticks": "outside"
             }
            },
            "type": "scatterpolar"
           }
          ],
          "scatterpolargl": [
           {
            "marker": {
             "colorbar": {
              "outlinewidth": 1,
              "tickcolor": "rgb(36,36,36)",
              "ticks": "outside"
             }
            },
            "type": "scatterpolargl"
           }
          ],
          "scatterternary": [
           {
            "marker": {
             "colorbar": {
              "outlinewidth": 1,
              "tickcolor": "rgb(36,36,36)",
              "ticks": "outside"
             }
            },
            "type": "scatterternary"
           }
          ],
          "surface": [
           {
            "colorbar": {
             "outlinewidth": 1,
             "tickcolor": "rgb(36,36,36)",
             "ticks": "outside"
            },
            "colorscale": [
             [
              0,
              "#440154"
             ],
             [
              0.1111111111111111,
              "#482878"
             ],
             [
              0.2222222222222222,
              "#3e4989"
             ],
             [
              0.3333333333333333,
              "#31688e"
             ],
             [
              0.4444444444444444,
              "#26828e"
             ],
             [
              0.5555555555555556,
              "#1f9e89"
             ],
             [
              0.6666666666666666,
              "#35b779"
             ],
             [
              0.7777777777777778,
              "#6ece58"
             ],
             [
              0.8888888888888888,
              "#b5de2b"
             ],
             [
              1,
              "#fde725"
             ]
            ],
            "type": "surface"
           }
          ],
          "table": [
           {
            "cells": {
             "fill": {
              "color": "rgb(237,237,237)"
             },
             "line": {
              "color": "white"
             }
            },
            "header": {
             "fill": {
              "color": "rgb(217,217,217)"
             },
             "line": {
              "color": "white"
             }
            },
            "type": "table"
           }
          ]
         },
         "layout": {
          "annotationdefaults": {
           "arrowhead": 0,
           "arrowwidth": 1
          },
          "autotypenumbers": "strict",
          "coloraxis": {
           "colorbar": {
            "outlinewidth": 1,
            "tickcolor": "rgb(36,36,36)",
            "ticks": "outside"
           }
          },
          "colorscale": {
           "diverging": [
            [
             0,
             "rgb(103,0,31)"
            ],
            [
             0.1,
             "rgb(178,24,43)"
            ],
            [
             0.2,
             "rgb(214,96,77)"
            ],
            [
             0.3,
             "rgb(244,165,130)"
            ],
            [
             0.4,
             "rgb(253,219,199)"
            ],
            [
             0.5,
             "rgb(247,247,247)"
            ],
            [
             0.6,
             "rgb(209,229,240)"
            ],
            [
             0.7,
             "rgb(146,197,222)"
            ],
            [
             0.8,
             "rgb(67,147,195)"
            ],
            [
             0.9,
             "rgb(33,102,172)"
            ],
            [
             1,
             "rgb(5,48,97)"
            ]
           ],
           "sequential": [
            [
             0,
             "#440154"
            ],
            [
             0.1111111111111111,
             "#482878"
            ],
            [
             0.2222222222222222,
             "#3e4989"
            ],
            [
             0.3333333333333333,
             "#31688e"
            ],
            [
             0.4444444444444444,
             "#26828e"
            ],
            [
             0.5555555555555556,
             "#1f9e89"
            ],
            [
             0.6666666666666666,
             "#35b779"
            ],
            [
             0.7777777777777778,
             "#6ece58"
            ],
            [
             0.8888888888888888,
             "#b5de2b"
            ],
            [
             1,
             "#fde725"
            ]
           ],
           "sequentialminus": [
            [
             0,
             "#440154"
            ],
            [
             0.1111111111111111,
             "#482878"
            ],
            [
             0.2222222222222222,
             "#3e4989"
            ],
            [
             0.3333333333333333,
             "#31688e"
            ],
            [
             0.4444444444444444,
             "#26828e"
            ],
            [
             0.5555555555555556,
             "#1f9e89"
            ],
            [
             0.6666666666666666,
             "#35b779"
            ],
            [
             0.7777777777777778,
             "#6ece58"
            ],
            [
             0.8888888888888888,
             "#b5de2b"
            ],
            [
             1,
             "#fde725"
            ]
           ]
          },
          "colorway": [
           "#1F77B4",
           "#FF7F0E",
           "#2CA02C",
           "#D62728",
           "#9467BD",
           "#8C564B",
           "#E377C2",
           "#7F7F7F",
           "#BCBD22",
           "#17BECF"
          ],
          "font": {
           "color": "rgb(36,36,36)"
          },
          "geo": {
           "bgcolor": "white",
           "lakecolor": "white",
           "landcolor": "white",
           "showlakes": true,
           "showland": true,
           "subunitcolor": "white"
          },
          "hoverlabel": {
           "align": "left"
          },
          "hovermode": "closest",
          "mapbox": {
           "style": "light"
          },
          "paper_bgcolor": "white",
          "plot_bgcolor": "white",
          "polar": {
           "angularaxis": {
            "gridcolor": "rgb(232,232,232)",
            "linecolor": "rgb(36,36,36)",
            "showgrid": false,
            "showline": true,
            "ticks": "outside"
           },
           "bgcolor": "white",
           "radialaxis": {
            "gridcolor": "rgb(232,232,232)",
            "linecolor": "rgb(36,36,36)",
            "showgrid": false,
            "showline": true,
            "ticks": "outside"
           }
          },
          "scene": {
           "xaxis": {
            "backgroundcolor": "white",
            "gridcolor": "rgb(232,232,232)",
            "gridwidth": 2,
            "linecolor": "rgb(36,36,36)",
            "showbackground": true,
            "showgrid": false,
            "showline": true,
            "ticks": "outside",
            "zeroline": false,
            "zerolinecolor": "rgb(36,36,36)"
           },
           "yaxis": {
            "backgroundcolor": "white",
            "gridcolor": "rgb(232,232,232)",
            "gridwidth": 2,
            "linecolor": "rgb(36,36,36)",
            "showbackground": true,
            "showgrid": false,
            "showline": true,
            "ticks": "outside",
            "zeroline": false,
            "zerolinecolor": "rgb(36,36,36)"
           },
           "zaxis": {
            "backgroundcolor": "white",
            "gridcolor": "rgb(232,232,232)",
            "gridwidth": 2,
            "linecolor": "rgb(36,36,36)",
            "showbackground": true,
            "showgrid": false,
            "showline": true,
            "ticks": "outside",
            "zeroline": false,
            "zerolinecolor": "rgb(36,36,36)"
           }
          },
          "shapedefaults": {
           "fillcolor": "black",
           "line": {
            "width": 0
           },
           "opacity": 0.3
          },
          "ternary": {
           "aaxis": {
            "gridcolor": "rgb(232,232,232)",
            "linecolor": "rgb(36,36,36)",
            "showgrid": false,
            "showline": true,
            "ticks": "outside"
           },
           "baxis": {
            "gridcolor": "rgb(232,232,232)",
            "linecolor": "rgb(36,36,36)",
            "showgrid": false,
            "showline": true,
            "ticks": "outside"
           },
           "bgcolor": "white",
           "caxis": {
            "gridcolor": "rgb(232,232,232)",
            "linecolor": "rgb(36,36,36)",
            "showgrid": false,
            "showline": true,
            "ticks": "outside"
           }
          },
          "title": {
           "x": 0.05
          },
          "xaxis": {
           "automargin": true,
           "gridcolor": "rgb(232,232,232)",
           "linecolor": "rgb(36,36,36)",
           "showgrid": false,
           "showline": true,
           "ticks": "outside",
           "title": {
            "standoff": 15
           },
           "zeroline": false,
           "zerolinecolor": "rgb(36,36,36)"
          },
          "yaxis": {
           "automargin": true,
           "gridcolor": "rgb(232,232,232)",
           "linecolor": "rgb(36,36,36)",
           "showgrid": false,
           "showline": true,
           "ticks": "outside",
           "title": {
            "standoff": 15
           },
           "zeroline": false,
           "zerolinecolor": "rgb(36,36,36)"
          }
         }
        },
        "width": 800,
        "xaxis": {
         "anchor": "y",
         "domain": [
          0,
          1
         ],
         "title": {
          "text": "seq_sample_type"
         }
        },
        "yaxis": {
         "anchor": "x",
         "domain": [
          0,
          1
         ],
         "title": {
          "text": "value"
         },
         "type": "log"
        }
       }
      }
     },
     "metadata": {},
     "output_type": "display_data"
    },
    {
     "data": {
      "application/vnd.plotly.v1+json": {
       "config": {
        "plotlyServerURL": "https://plotly.com"
       },
       "data": [
        {
         "alignmentgroup": "True",
         "boxpoints": "all",
         "hovertemplate": "type=Nb<br>strain=ST6<br>seq_sample_type=%{x}<br>value=%{y}<extra></extra>",
         "legendgroup": "Nb",
         "marker": {
          "color": "#1F77B4"
         },
         "name": "Nb",
         "notched": false,
         "offsetgroup": "Nb",
         "orientation": "v",
         "showlegend": true,
         "type": "box",
         "x": [
          "sample",
          "sample",
          "sample",
          "sample",
          "sample",
          "sample",
          "sample",
          "sample",
          "sample",
          "sample",
          "sample",
          "sample",
          "sample",
          "sample",
          "sample",
          "sample",
          "sample",
          "sample",
          "sample",
          "sample",
          "sample",
          "sample",
          "sample",
          "sample",
          "sample",
          "sample",
          "sample",
          "sample",
          "sample",
          "sample",
          "sample",
          "sample",
          "sample",
          "sample",
          "sample",
          "sample",
          "sample",
          "sample",
          "sample",
          "sample",
          "sample",
          "sample",
          "sample",
          "sample",
          "sample",
          "sample",
          "sample",
          "sample",
          "sample",
          "sample",
          "sample",
          "sample",
          "sample",
          "sample",
          "sample",
          "sample",
          "sample",
          "sample",
          "sample",
          "sample",
          "sample",
          "sample",
          "sample",
          "sample",
          "sample",
          "sample",
          "sample",
          "sample",
          "sample",
          "sample",
          "sample",
          "sample",
          "sample",
          "sample",
          "sample",
          "sample",
          "sample",
          "sample",
          "sample",
          "sample",
          "sample",
          "sample",
          "sample",
          "sample",
          "sample",
          "sample",
          "sample",
          "sample",
          "sample",
          "sample",
          "sample",
          "sample",
          "sample",
          "sample",
          "sample",
          "sample",
          "sample",
          "sample",
          "sample",
          "sample",
          "sample",
          "sample",
          "sample",
          "sample",
          "sample",
          "sample",
          "sample",
          "sample",
          "sample",
          "sample",
          "sample",
          "sample",
          "sample",
          "sample",
          "sample",
          "sample",
          "sample",
          "sample",
          "sample",
          "sample",
          "sample",
          "sample",
          "sample",
          "sample",
          "sample",
          "sample",
          "sample",
          "sample",
          "sample",
          "sample",
          "NTC",
          "NTC",
          "NTC",
          "NTC",
          "NTC",
          "WATER",
          "WATER"
         ],
         "x0": " ",
         "xaxis": "x4",
         "y": {
          "bdata": "N/96GSr8Q0DvOlz/DcJAQBf7tAiNo1RAAxbB2YDFY0Ck43neRVJcQMGit9QEQVhARL24rL42WUAR1+HBJfpZQJdGuCT6B29AIHySnKBbbkBl7cCaFXQqQEE0YQ3JVSFAyGSvgXZBWEBYggJfjzJMQIfIkgVeYF9AHFWq8B9UT0BdJT1nj5loQB/URJPv72JAmCO51l6bSEAAFnwJqbFTQGdJI3kMDSlAVUYxe8IfQUBQ/FB4DIpGQEqnA/z+PztAaac+4OkOcEDMv7PENAZsQK6O4m8f2l5APjjbNX0rSEDX+94+rh48QNWP0FkqEy1A6t4v+q5IUEAaAnJ7y4tTQEg86cUVpTlAlX3lRxe1U0Du+OcgTfVYQCvDXGS011BAbMIL8jRuWUDYCjBhgPpYQDsUEk1otV5AsB1eEunmWkDtUx/D029kQP/HvjEHgmRAIh1noY/aHkAjyvg0JAIgQE3YqEjB1B9AjCpzC/nQUEC10Q8Fo7lEQJruAhld31ZAp4oKXSKhSkDCgkOqKWpEQNZBamIzDlRAbyS7n/0YQ0CdJzakdr5ZQKA6bBtZqVpAFVv5eZn7bkDo/T2priZwQKFMfTJXEipAa5CC4P+1P0Dxf4bK6Z9WQImtojGBDkxAPtuc3RqhPED0pIY9X8g7QNx+3TzxyzlA87/IhwQcM0BEQo+d2KMgQPEKR0isID9ARxMaJ/J7JECgTp3b/jFIQL7hcac03UhAG7F7XxzeX0CjYMhED1k1wHsKkPoFY0tAc08pA6bGbEAM75vdwdicQLw854qLP4NAG/677YSHg0AQVV4UrnfLPz75baTZDYJADDPRC4oOjUChD+k43+sqQB5cDEAv8EtAWdSvT3RJGUAaVVwpyjoKQLD0dk4MPztA1D/OboXCG0Bc/dCPLuIYQMEsHYJDHz9AlEnITxa70D91qZxgQDb/P19ygxNo59I/wKK68J09F0Ch6qtlGZ8UQDXzfPOT33BA+Kyh09sHi0D6GzJ+qQSDQFwf5U5gjoJAErEXbzz9gUBGpjaPYkWMQGclLOvdyUtAEgwzo5kgK0DoLNiB+Q0rQJXKiSpuUz5AtJXuuMSptj9buzxWNXAuQBn/Pdq65uQ/X+b9IQg6Q0C+c69oxK98QEDFVARbqXVAfJ3jDhwVg0DRG8jkixV/QLUpne1kI4VA7/IH9k5BR0Dbrih5KIJRQItCYXuMiUFAXfD/RWdlR0ACKBQw/Bc1QGBckV+7rCVAD+vRh1vUHEBWZo1CKGpnQOBFVFC254pAfOaL/50Sg0BMoy9J0kWDQBzP8uiF9oFAGJgsA8VvjEA6Gii4SUAfQH5TD5KgOIBAccf9uQ0eDkBXt4GTaNgiQByD0bPn2zdAMTzVd3AzNMBW97+HJopUQKEwlK+I2llA/eCC8XSzS0BLqKDC+PJHQIp6u3vNF0hAqj6G9F7IOkC2dBvJohM5QA==",
          "dtype": "f8"
         },
         "y0": " ",
         "yaxis": "y4"
        },
        {
         "alignmentgroup": "True",
         "boxpoints": "all",
         "hovertemplate": "type=Nb<br>strain=ST5<br>seq_sample_type=%{x}<br>value=%{y}<extra></extra>",
         "legendgroup": "Nb",
         "marker": {
          "color": "#1F77B4"
         },
         "name": "Nb",
         "notched": false,
         "offsetgroup": "Nb",
         "orientation": "v",
         "showlegend": false,
         "type": "box",
         "x": [
          "sample",
          "sample",
          "sample",
          "sample",
          "sample",
          "sample",
          "sample",
          "sample",
          "sample",
          "sample",
          "sample",
          "sample",
          "sample",
          "sample",
          "sample",
          "sample",
          "sample",
          "sample",
          "sample",
          "sample",
          "sample",
          "sample",
          "sample",
          "sample",
          "sample",
          "sample",
          "sample",
          "sample",
          "sample",
          "sample",
          "sample",
          "sample",
          "sample",
          "sample",
          "sample",
          "sample",
          "sample",
          "sample",
          "sample",
          "sample",
          "sample",
          "sample",
          "sample",
          "sample",
          "sample",
          "sample",
          "sample",
          "sample",
          "sample",
          "sample",
          "sample",
          "sample",
          "sample",
          "sample",
          "sample",
          "sample",
          "sample",
          "sample",
          "sample",
          "sample",
          "sample",
          "sample",
          "sample",
          "sample",
          "sample",
          "sample",
          "sample",
          "sample",
          "sample",
          "sample",
          "sample",
          "sample",
          "sample",
          "sample",
          "sample",
          "sample",
          "sample",
          "sample",
          "sample",
          "sample",
          "sample",
          "sample",
          "sample",
          "sample",
          "sample",
          "sample",
          "sample",
          "sample",
          "sample",
          "sample",
          "sample",
          "sample",
          "sample",
          "sample",
          "sample",
          "sample",
          "sample",
          "sample",
          "sample",
          "sample",
          "sample",
          "sample",
          "sample",
          "sample",
          "sample",
          "sample",
          "sample",
          "sample",
          "sample",
          "sample",
          "sample",
          "sample",
          "sample",
          "sample",
          "sample",
          "sample",
          "sample",
          "sample",
          "sample",
          "sample",
          "sample",
          "sample",
          "sample",
          "sample",
          "sample",
          "sample",
          "sample",
          "sample",
          "sample",
          "sample",
          "NTC",
          "NTC",
          "NTC",
          "NTC",
          "NTC",
          "WATER",
          "WATER"
         ],
         "x0": " ",
         "xaxis": "x3",
         "y": {
          "bdata": "rY6viKpMwkCgliZ8dcW/QBabZdZ4jfFA0JIZqWAR5UB1jSUTb/6xQHckyfWKdgNBuS+dDuLS7ECPsgzNFvXsQAIZEqzP59lAWbr+fcf/2UBhssRNHPWWQFNd8Betln1AXR69CIyYokBHAMf0exanQGwLqur4O7lAn1MznEnTxECjKtkblvCjQHc6g2xSj5NAKG4ie48AoEDrrgbCU7mCQOK0RlagJ9hAHCyrXyPk2kBGltPEdWTpQDuUvMkMI+lAh4cF/q8c2kAwnSNxKhnaQFQ2qGRhQl5AIf6Ulu0igUBo+BSZsT9kQEBWgLGSN6xA08Iz99OOW0BIWgb4ULNdQMrihl+So0ZAu58yjftBpUBdGln3QUDXQJ8MgKO8Wc1AIAdFJRi17ED6PRInpJjsQDBV7CuWSa5ACcP0ZCGd0UCYdpK2hUPYQBKXgNTAO9hAGzbuLnHwxECv0vO+hyiIQGLJ1zIx+K9AHXGFT0p4wkATEn8BnqDxQAEOJN7mYvVAH7Eb/4o2gEBcACBTHlRVQDEW/xcIhMlALOrt2bGzw0Cm9De1isfsQEmSU0OsquxANN2xsC5E2kD2ZBLWjS3aQGyn28nyT8NAoIusYwiE0UDlYgeD0Lr5QK86xUp1B/ZAbpUWBPUn1kA3dHFXRJaBQL5u9N37O7tADVPF8bqJc0DG1N71pV06QCJ86J8VVqVA5KoDmHRGqUCQbrVT+CQCQFX4FOIwYLFAqRekgJLsNkBSANeJzF7nQF+hBweQn4RAYJY6vD8B1UDS9b6iBQzDQEzNVnl8wNVAw9dA+YvBuUBtcEjhIT/HQHKPdCKR68JAEfyQU26LxEB++z1n7neCQLMHDvMSKaBA8wHbQS7NlUB4yG08UvHQQA8B/WK339hAZhpsiXMxvUDhWdXewVTpQDPKdzianQXBZKgGuqBi2UB6vjIWShCmQMa6QXRfIJlAuwYXWaGXz0C/3W2hzTLYQK9VQpxIVdVAHoXfdV8BxUBgSWssAejVQPLkh324iMBA5AgRn5zot0BSODCRmYzDQCtHwjnyNm9ADJZoMnbJjEBuZNxAdonCQNobcB0kO39AzixPqZfV3ECfGZlx1fiiQDvJCW+C1KFAXHclmPTz1UAIfMIVa6HIQAxTkp8zc9VAqp8OoGqVv0A+dUqBezq7QEn8SxNm0Z9AuUg2Lox1sEBNHcRDtaWZQEyWQDZBtMNA2ed2LG9Gd0C8hvco1qalQG4o37Qhxq9Ay6cpYA3aZUCMXdawHgrMQJzl47UhIMBAGpDd/r3H1EB0Vd1jnerAQF7VJoWd/8NAZ/L9rxj4xUBiNXm3jGi3QAfR8V2b6bNAP9uXVsq/hkDXdIzkeY6YQGREVUnazKtAFEBnMxckwEDIJA14GViEQKIIEh04GC9AuySuMeNkBUDXO/n1djYrQLI5sMJS0fo/10ErPwvznkCW7z5bWoM3QA==",
          "dtype": "f8"
         },
         "y0": " ",
         "yaxis": "y3"
        },
        {
         "alignmentgroup": "True",
         "boxpoints": "all",
         "hovertemplate": "type=Nb<br>strain=ST4<br>seq_sample_type=%{x}<br>value=%{y}<extra></extra>",
         "legendgroup": "Nb",
         "marker": {
          "color": "#1F77B4"
         },
         "name": "Nb",
         "notched": false,
         "offsetgroup": "Nb",
         "orientation": "v",
         "showlegend": false,
         "type": "box",
         "x": [
          "sample",
          "sample",
          "sample",
          "sample",
          "sample",
          "sample",
          "sample",
          "sample",
          "sample",
          "sample",
          "sample",
          "sample",
          "sample",
          "sample",
          "sample",
          "sample",
          "sample",
          "sample",
          "sample",
          "sample",
          "sample",
          "sample",
          "sample",
          "sample",
          "sample",
          "sample",
          "sample",
          "sample",
          "sample",
          "sample",
          "sample",
          "sample",
          "sample",
          "sample",
          "sample",
          "sample",
          "sample",
          "sample",
          "sample",
          "sample",
          "sample",
          "sample",
          "sample",
          "sample",
          "sample",
          "sample",
          "sample",
          "sample",
          "sample",
          "sample",
          "sample",
          "sample",
          "sample",
          "sample",
          "sample",
          "sample",
          "sample",
          "sample",
          "sample",
          "sample",
          "sample",
          "sample",
          "sample",
          "sample",
          "sample",
          "sample",
          "sample",
          "sample",
          "sample",
          "sample",
          "sample",
          "sample",
          "sample",
          "sample",
          "sample",
          "sample",
          "sample",
          "sample",
          "sample",
          "sample",
          "sample",
          "sample",
          "sample",
          "sample",
          "sample",
          "sample",
          "sample",
          "sample",
          "sample",
          "sample",
          "sample",
          "sample",
          "sample",
          "sample",
          "sample",
          "sample",
          "sample",
          "sample",
          "sample",
          "sample",
          "sample",
          "sample",
          "sample",
          "sample",
          "sample",
          "sample",
          "sample",
          "sample",
          "sample",
          "sample",
          "sample",
          "sample",
          "sample",
          "sample",
          "sample",
          "sample",
          "sample",
          "sample",
          "sample",
          "sample",
          "sample",
          "sample",
          "sample",
          "sample",
          "sample",
          "sample",
          "sample",
          "sample",
          "sample",
          "sample",
          "NTC",
          "NTC",
          "NTC",
          "NTC",
          "NTC",
          "WATER",
          "WATER"
         ],
         "x0": " ",
         "xaxis": "x2",
         "y": {
          "bdata": "vbtVwo/KYkD0jgiPd4VGQBDWa5o3WD9ABVZVwn5cHEBNq7sDsWt4QKWdw0zyfhBAkbOCODToq0AVjpSpP6usQPGaR/UE29JAhgP5l2Tc0kAvw6DeFydfQFIDru0+DyNACseCnTWoS0DQF4JNtXcrQOrcN5tOk50/89QkKyZNzz/B6EiRMbNKQAwx+FM2U1xAHX6CCXW2NkCYmJQI+VsdQDZ/hXGOkIZAfU1dykDBgUDg30Q0Yfh2QH5HJM6nk3ZAonCmm5kizUB2Mp8IumrIQMuCuRHhpUJAdn+AUVKAJ0Cdyh8rE5B4QGhMSbShF1xApSP43R9mUUCLUZ4GctUlQG9C7IvMP1hAb1PeoYr/C0Bzmw6+GIWgQLmAdD+7nqJAh+8jIte4p0AZD6dMzXenQAUNPbqFe2NAyXRqpUxsO0BMEeZr2BHSQOkBijHmAtJAvzJrWhkbbEDqBArc0jtsQLcHvafFvWdAcoK+tqc5YUAS4QjMYI0HQG8dPASh2GNAHuKNxpcZVUAZNPAkMHdTQCpz4kTcjI9AGk8uzIkXlED2Jegx2g+pQG9bp89cr6lAvQGuqANT0kCg0J2OpC7SQKBvp+SGT2tA3VdZkBVMcUCPnAt/S/tFQDSaO2uV7wnAmAzPGTPyrECZePXH+q2oQJr2HYhRYnJA54Aq4OuZ9T97r76PQrNdQDoyqaJXgUVAj4tdf9OAa0AMc3S7y+5bQOeHNlVbZFNAIzjkXMskR0CAh26iE/taQD2UoGANhXZAh1PzJ31hw0CyzxyeJQe6QEYoWJEGG8tAETCQy56QvkDDk2nbxwJYQHAqrLU1CchA/bg6NuPPtkB2tOkU75lrQBT1c/GbrUFA49LWhbfkcEA1mqEtA3Z0QDlnaveJS3pAAGHQt9UUPECazqwVW+aCQIps+6j5ncZA9eRNN3uWgUDmFHLmbZN2QLVYdMitYVVAccF9yGEdhkC00IAf5jNkwIrWz3PU3cJAJT/rlGA22UCqIX7ZifTLQC7C977eDb5AkiJXjgOGx0ByrG0d5RW3QPpgbL9xHXNAU5/dlym/MUDg0RlOHS9vQPD75cVuOIBAXkhg6tf3VEBuNqpBW/l7QEm/eQGs8WRAD00bp+V+j0B07gRYzBLTQPgXoK+Yur9Au2EqoGjCvkBCxX/9lAXHQD1bNwnIbrJAOUi8qanbk0A3PprH1qBwQOEtaz19/F1AHNDcmumHeUDV3IsCmTucQPFjOWQQ8JBAKfZQCWlGNUAQzepnKjLDQN8E2JiwzNVAiQT+seFWzEBh1Bmvbhy+QCBv/zOnfMdAlKfIfEpntkCJ7dTITfFRQKoEX8gaiadAx7yztD80YkDeXkRxWcBwQPxrrx8N+3tAcnex6hWPUEACyWyjCOltQLfh4x5dEBNA8AMLyFoYMUBR5fxRW7ZHQGj3gGjQN4E/nKzWmNFydUDQswXwCYZzQA==",
          "dtype": "f8"
         },
         "y0": " ",
         "yaxis": "y2"
        },
        {
         "alignmentgroup": "True",
         "boxpoints": "all",
         "hovertemplate": "type=Nb<br>strain=ST1<br>seq_sample_type=%{x}<br>value=%{y}<extra></extra>",
         "legendgroup": "Nb",
         "marker": {
          "color": "#1F77B4"
         },
         "name": "Nb",
         "notched": false,
         "offsetgroup": "Nb",
         "orientation": "v",
         "showlegend": false,
         "type": "box",
         "x": [
          "sample",
          "sample",
          "sample",
          "sample",
          "sample",
          "sample",
          "sample",
          "sample",
          "sample",
          "sample",
          "sample",
          "sample",
          "sample",
          "sample",
          "sample",
          "sample",
          "sample",
          "sample",
          "sample",
          "sample",
          "sample",
          "sample",
          "sample",
          "sample",
          "sample",
          "sample",
          "sample",
          "sample",
          "sample",
          "sample",
          "sample",
          "sample",
          "sample",
          "sample",
          "sample",
          "sample",
          "sample",
          "sample",
          "sample",
          "sample",
          "sample",
          "sample",
          "sample",
          "sample",
          "sample",
          "sample",
          "sample",
          "sample",
          "sample",
          "sample",
          "sample",
          "sample",
          "sample",
          "sample",
          "sample",
          "sample",
          "sample",
          "sample",
          "sample",
          "sample",
          "sample",
          "sample",
          "sample",
          "sample",
          "sample",
          "sample",
          "sample",
          "sample",
          "sample",
          "sample",
          "sample",
          "sample",
          "sample",
          "sample",
          "sample",
          "sample",
          "sample",
          "sample",
          "sample",
          "sample",
          "sample",
          "sample",
          "sample",
          "sample",
          "sample",
          "sample",
          "sample",
          "sample",
          "sample",
          "sample",
          "sample",
          "sample",
          "sample",
          "sample",
          "sample",
          "sample",
          "sample",
          "sample",
          "sample",
          "sample",
          "sample",
          "sample",
          "sample",
          "sample",
          "sample",
          "sample",
          "sample",
          "sample",
          "sample",
          "sample",
          "sample",
          "sample",
          "sample",
          "sample",
          "sample",
          "sample",
          "sample",
          "sample",
          "sample",
          "sample",
          "sample",
          "sample",
          "sample",
          "sample",
          "sample",
          "sample",
          "sample",
          "sample",
          "sample",
          "sample",
          "NTC",
          "NTC",
          "NTC",
          "NTC",
          "NTC",
          "WATER",
          "WATER"
         ],
         "x0": " ",
         "xaxis": "x",
         "y": {
          "bdata": "ogdFcVK2G0A5V3sWd6wRQAwjtk3omeM/EtuxlmZb+D81uWO7fGo4QGmj0GlaNQxA0QWff9iSXUBt/1VNJXlhQM/y3c//IXNAlYgSuHkzdUBuDpOnfD7kP0oLp2YHyqQ/llJubjYtwT+h6+tu71vPP5TsVzbh/XhA7AfxIsCLeEAw/VyICG/vP+X7ObsBb+A/LsJAntCF8D8ZfVYi4//yP5k6Q2SURlRAkFBQSs9KUkDSeTgaErUmQEZug6kCCyhAnUnQ9Gz/TkCDM3LRNJpMQJWBfLdAe+A/zQkxpSftuz+Bp/S+1b3hP5rraHhaz9k/ZMYP7I/DWUBVamyM8WdeQGpi2Vwp4PY/EVHGBHrE9j+rYHM1qsUBQCcTZ1FH7QdAFRrQNl3kakATe0gNpHlqQMGK6sSKEOs/+vw/b1SI0D/XysWYzAV2QGt/qqnd33ZABsHaDi0Xzz/K2HG2WVLVP29r6wfROcQ/0kI5OP3OAUBi1LXzNRp2QOaaZEJqWnRAI3jystwvLkCe/gF98IzsP6pOClHvSOY/xUMa9mQi2j877H5FFM1kQM8imeqYf2RA2DO5VRVPcUD/Ri9WuchvQMegfDtYyuE/sZJ3VJqjyz9O05XaMoLRP2Pe4+5bUvM/OeKPWwkIzz+h5y/5NL3gP3ygZ5oyA3dARJ0atCYKeECQhNaqiqTiP9Q/PhYG4NQ/F99uXyfI/z+nw4Ck/D0AQB7nMR2Q5khAWS80Fccs3j/FifR/n3srQIcoeisUklNA9ltMceYLXUAjIZiwIIxjQMNDE12TC3tAitpaElybaUB7gar4CitPQIgdyXt6FWlAGU7+HximZEAjQC0MtdAGQLTjx/wOLl1Aqh8bTVIJ8j+J5TcXEhYnQJbwII405ytAnRdBNediEEA8U5CtyLbsP2IwwYW6FjhA3IE2869wI0Cddl+5qwEJQGCnvJcdtwlAgXF5bjY0GkBctZq2E0X6P9RKzXpK6WBAHaBRMS3/eEBMauZzxLp5QLHivbJySnBA/eeetfc/akBKkO0I+oxkQIffTitTUitAH4IA9pn1+T8rM3bxphMJQFYoSJ1Gw+k/ar2FHU459z/gpBFj3ZL8P4/hz0t+9xNAjMaesxuGGkDFHKAZURZ8QG00tDtBRUpAlvubjmqFXUCOVFrQKoRFQD0RHIOoD0pAjvrXPqF80z97q6Lnjc35P07Kfx1m5wJApdpFNv1bJ0DgsRX+EdHsP2dYQJbJ0xdAHJ5oqF2xEECTR+bDRmFgQFmps0t2u3lApLImSn9NfECeKAB4WPZxQJAk9lcRNmxAhLru/PMwaEBU2ic/ZvwcQEN4dNg+wxZAptkzcXPi8z+79QqM4LXlP+IV0qFWrgtAuJBX5ApXB0BRTV3e5M0DQA5TbA8JXApA3g7P+fPvEUAtCryZtrnYP+bq7Iqc0DpA4VJgDBzx5T+8s2BFM3TjPw==",
          "dtype": "f8"
         },
         "y0": " ",
         "yaxis": "y"
        },
        {
         "alignmentgroup": "True",
         "boxpoints": "all",
         "hovertemplate": "type=Ns<br>strain=ST6<br>seq_sample_type=%{x}<br>value=%{y}<extra></extra>",
         "legendgroup": "Ns",
         "marker": {
          "color": "#FF7F0E"
         },
         "name": "Ns",
         "notched": false,
         "offsetgroup": "Ns",
         "orientation": "v",
         "showlegend": true,
         "type": "box",
         "x": [
          "sample",
          "sample",
          "sample",
          "sample",
          "sample",
          "sample",
          "sample",
          "sample",
          "sample",
          "sample",
          "sample",
          "sample",
          "sample",
          "sample",
          "sample",
          "sample",
          "sample",
          "sample",
          "sample",
          "sample",
          "sample",
          "sample",
          "sample",
          "sample",
          "sample",
          "sample",
          "sample",
          "sample",
          "sample",
          "sample",
          "sample",
          "sample",
          "sample",
          "sample",
          "sample",
          "sample",
          "sample",
          "sample",
          "sample",
          "sample",
          "sample",
          "sample",
          "sample",
          "sample",
          "sample",
          "sample",
          "sample",
          "sample",
          "sample",
          "sample",
          "sample",
          "sample",
          "sample",
          "sample",
          "sample",
          "sample",
          "sample",
          "sample",
          "sample",
          "sample",
          "sample",
          "sample",
          "sample",
          "sample",
          "sample",
          "sample",
          "sample",
          "sample",
          "sample",
          "sample",
          "sample",
          "sample",
          "sample",
          "sample",
          "sample",
          "sample",
          "sample",
          "sample",
          "sample",
          "sample",
          "sample",
          "sample",
          "sample",
          "sample",
          "sample",
          "sample",
          "sample",
          "sample",
          "sample",
          "sample",
          "sample",
          "sample",
          "sample",
          "sample",
          "sample",
          "sample",
          "sample",
          "sample",
          "sample",
          "sample",
          "sample",
          "sample",
          "sample",
          "sample",
          "sample",
          "sample",
          "sample",
          "sample",
          "sample",
          "sample",
          "sample",
          "sample",
          "sample",
          "sample",
          "sample",
          "sample",
          "sample",
          "sample",
          "sample",
          "sample",
          "sample",
          "sample",
          "sample",
          "sample",
          "sample",
          "sample",
          "sample",
          "sample",
          "sample",
          "sample",
          "NTC",
          "NTC",
          "NTC",
          "NTC",
          "NTC",
          "WATER",
          "WATER"
         ],
         "x0": " ",
         "xaxis": "x4",
         "y": {
          "bdata": "1MPDw8Pjb0AsPDw8PFxsQBYeHh4ePm1AAAAAAAAQakCFh4eHh6+FQNTDw8PDY21Ay3Ecx3E0iUB7eHh4eKCIQHtiJ3ZifLFAPrETO7HIskDUOI7jOO5lQAAAAAAAIFtAn6qqqqpKZUAAAAAAAHhmQKa0tLS01GhAU1paWloqcECxqqqqqrpwQIWHh4eHl3JAAAAAAABgakAAAAAAACBqQAAAAAAAEHRAMi0tLS09cEAAAAAAAGiDQCotLS0t9YNArhM7sRPYskAAAAAAAIGxQBYeHh4evmpAAAAAAADwa0AAAAAAAEBxQIWHh4eHJ29AZVpaWlp6a0AAAAAAAFBrQM7S0tLSYnBAhYeHh4enbEAAAAAAAGiIQFhVVVVV/YdAAAAAAADoikDmOI7jOCaLQAAAAAAAiGpAAAAAAADIZkAgSZIkSTe0QJnYiZ3Y6rRAHR4eHh5eU0AAAAAAAKBdQAAAAAAAQFJAtxM7sRPbYEC8bdu2bbtgQESSJEmSRGZAe3h4eHiYZUAAAAAAAGBgQLxt27Zte2RAAAAAAAAYbEBYVVVVVd2JQDWO4ziOu4pAUlVVVVXKsUCFndiJnV2xQAAAAAAAoGFA6uHh4eGBZ0AAAAAAABBqQAAAAAAAoGNAcGlpaWn5dUAAAAAAABxyQJCWlpaWtm5AAAAAAAAwbUCZbdu2bZtZQIWHh4eHJ2VAAAAAAABIaUCfqqqqqkpmQAAAAAAAaGxA6uHh4eEBb0AAAAAAAADwP3t4eHh4uFBAlSRJkiTrqEBr27Zt22SoQMBt27ZtjatAmdiJndhqskCmqqqqqipLQAAAAAAAsZFAqKqqqqoCi0AAAAAAAEAxQO7w8PDwMFJAj+M4juN4VkA1juM4jjN+QDWO4ziO64xAy3Ecx3FMfUBzHMdxHE+OQAAAAAAAQF5AAAAAAACElUAAAAAAAPGSQAAAAAAAAAJAqKqqqqqCg0AAAAAAAADwPwAAAAAAs5lAAAAAAAAbvUAVO7ETO7ayQOaiiy66nbpAmZaWlpbKkUCoqqqqqlKLQFdaWlpamlZAAAAAAAAAE0AAAAAAAMKjQJYkSZIkyUNAcxzHcRxvh0AAAAAAAKaXQDyO4ziO4z1AXCd2YidQokBSVVVVVX+2QLmqqqqqrpxAAAAAAIA0oUAAAAAAAI6RQBrHcRzHyYNAuaqqqqrumkCW4ziO48h4QCw8PDw8PC5AuaqqqqpemUDf0tLS0nJlQHjbtm3b9llA1Imd2ImdHEBSVVVVVWmzQK4TO7ETJLxAFTuxEztGtEDRRRdd9JXAQAAAAAAAJJRAAAAAAAA4i0A+juM4jt+QQKiqqqqq8oFAAAAAAAAAIkBr27Zt2wilQAAAAAAASZ9AAAAAAAAA8D+kpaWlpa2GQGocx3Ecl3BA1MPDw8Pjb0Asx3Ecx1FsQAAAAAAA0HJANY7jOI6zcUBwaWlpaYltQA==",
          "dtype": "f8"
         },
         "y0": " ",
         "yaxis": "y4"
        },
        {
         "alignmentgroup": "True",
         "boxpoints": "all",
         "hovertemplate": "type=Ns<br>strain=ST5<br>seq_sample_type=%{x}<br>value=%{y}<extra></extra>",
         "legendgroup": "Ns",
         "marker": {
          "color": "#FF7F0E"
         },
         "name": "Ns",
         "notched": false,
         "offsetgroup": "Ns",
         "orientation": "v",
         "showlegend": false,
         "type": "box",
         "x": [
          "sample",
          "sample",
          "sample",
          "sample",
          "sample",
          "sample",
          "sample",
          "sample",
          "sample",
          "sample",
          "sample",
          "sample",
          "sample",
          "sample",
          "sample",
          "sample",
          "sample",
          "sample",
          "sample",
          "sample",
          "sample",
          "sample",
          "sample",
          "sample",
          "sample",
          "sample",
          "sample",
          "sample",
          "sample",
          "sample",
          "sample",
          "sample",
          "sample",
          "sample",
          "sample",
          "sample",
          "sample",
          "sample",
          "sample",
          "sample",
          "sample",
          "sample",
          "sample",
          "sample",
          "sample",
          "sample",
          "sample",
          "sample",
          "sample",
          "sample",
          "sample",
          "sample",
          "sample",
          "sample",
          "sample",
          "sample",
          "sample",
          "sample",
          "sample",
          "sample",
          "sample",
          "sample",
          "sample",
          "sample",
          "sample",
          "sample",
          "sample",
          "sample",
          "sample",
          "sample",
          "sample",
          "sample",
          "sample",
          "sample",
          "sample",
          "sample",
          "sample",
          "sample",
          "sample",
          "sample",
          "sample",
          "sample",
          "sample",
          "sample",
          "sample",
          "sample",
          "sample",
          "sample",
          "sample",
          "sample",
          "sample",
          "sample",
          "sample",
          "sample",
          "sample",
          "sample",
          "sample",
          "sample",
          "sample",
          "sample",
          "sample",
          "sample",
          "sample",
          "sample",
          "sample",
          "sample",
          "sample",
          "sample",
          "sample",
          "sample",
          "sample",
          "sample",
          "sample",
          "sample",
          "sample",
          "sample",
          "sample",
          "sample",
          "sample",
          "sample",
          "sample",
          "sample",
          "sample",
          "sample",
          "sample",
          "sample",
          "sample",
          "sample",
          "sample",
          "sample",
          "NTC",
          "NTC",
          "NTC",
          "NTC",
          "NTC",
          "WATER",
          "WATER"
         ],
         "x0": " ",
         "xaxis": "x3",
         "y": {
          "bdata": "AAAAAABshEAAAAAAAEKGQJiqqqoqdclAAAAAAIAgx0C0qqqq6qTRQAAAAABARdVAAAAAAFvbO0EAAAAAt/I7QQAAAAAAs7RAAAAAAFiZK0G86KKLLr+yQAAAAAAAYG9ARJIkSZIUeEBPVVVVVeV2QAAAAAAADo1AAAAAAADCnkDMtm3btk1uQGFVVVVVdW9A3rZt27Z9cEBPVVVVVRVyQPGiiy66sq9Ay0UXXXRDrkAAAAAAgETIQAAAAACAxMdAKrrooouvtECiiy666Eu1QAAAAAAAfpdAAAAAAACJlkBYVVVVVd2CQLGqqqqqOnxAAAAAAABYiUAAAAAAAHiHQAAAAAAAkH9AT1VVVVWle0AAAAAAgAm9QAAAAACAeLxAAAAAAInPNUEAAAAArjY3QVN00UUXb65AeNFFF112qUAAAAAAIQkyQQAAAADpRTJBAAAAAACGnkAAAAAAAJSaQAAAAAAAqIhA3rZt27YVi0CpqqqqKh7BQAAAAACAebtAn6qqqqrKZ0CfqqqqquptQAAAAAAAaIhAWFVVVVUdi0AAAAAAmEQcQQAAAIAGzkFBAAAAAEAGLEEAAAAAgFkqQQAAAAAAsKBAAAAAAIDLoEAAAAAAAE3PQAAAAACAVs1AXVVVVVVXoUAAAAAAAJygQAAAAAAAIZpAAAAAAAAImkC8bdu2bSt9QAAAAAAAoIJAAAAAAABQeEDbiZ3YiS17QAAAAAAAkHVAAAAAAADQdEAAAAAAAB6/QDRJkiRJ8mNAAAAAAKifKkEAAAAAQMDSQAAAAAAYUitBJUmSJMnOwkAAAAAAwOLfQAAAAABAENhAAAAAAEC/2EAAAAAAAIBIQLxt27ZtS3ZAAAAAAAAUkkAAAAAAPkgmQQAAAAAZfzJBAAAAAADii0AAAAAALyNOQWhVVVXVIcRAAAAAALAaMUEAAAAAQGrYQAAAAAAA0phAAAAAAIh0L0Equuiii6OxQAAAAACgaSxBAAAAAEXjM0EAAAAAL/I8QQAAAACA6MdAAAAAAABCvkBoVVVV1QfFQEnsxE7sREVAYVVVVVX1akAAAAAAQE7WQAAAAAAAQF5AAAAAAJRpMEG0qqqq6n/TQAAAAAAAAHpAAAAAAPjRKkEAAAAApuk2QQAAAAB9bzNBAAAAAIByy0AAAAAAgL7FQAAAAACArMJAAAAAAAB8g0AAAAAAABB3QPGiiy660q1ARBdddNG3rkBYVVVVVT2BQE2SJEmSzIFAtKqqqqqqMUAAAAAAAaIxQQAAAADRNTJBAAAAAL+vOkEAAAAAgLzKQAAAAACAvMpAAAAAAKBY40AAAAAA0ALwQAAAAADATthAAAAAAADQekAAAAAAAIDQQAAAAADA599AAAAAAACGjUAAAAAAAMK7QJ+qqqqqym9AIkmSJEnCcEAAAAAAAHBpQNuJndiJLXZAAAAAAACSgUAAAAAAAFCCQA==",
          "dtype": "f8"
         },
         "y0": " ",
         "yaxis": "y3"
        },
        {
         "alignmentgroup": "True",
         "boxpoints": "all",
         "hovertemplate": "type=Ns<br>strain=ST4<br>seq_sample_type=%{x}<br>value=%{y}<extra></extra>",
         "legendgroup": "Ns",
         "marker": {
          "color": "#FF7F0E"
         },
         "name": "Ns",
         "notched": false,
         "offsetgroup": "Ns",
         "orientation": "v",
         "showlegend": false,
         "type": "box",
         "x": [
          "sample",
          "sample",
          "sample",
          "sample",
          "sample",
          "sample",
          "sample",
          "sample",
          "sample",
          "sample",
          "sample",
          "sample",
          "sample",
          "sample",
          "sample",
          "sample",
          "sample",
          "sample",
          "sample",
          "sample",
          "sample",
          "sample",
          "sample",
          "sample",
          "sample",
          "sample",
          "sample",
          "sample",
          "sample",
          "sample",
          "sample",
          "sample",
          "sample",
          "sample",
          "sample",
          "sample",
          "sample",
          "sample",
          "sample",
          "sample",
          "sample",
          "sample",
          "sample",
          "sample",
          "sample",
          "sample",
          "sample",
          "sample",
          "sample",
          "sample",
          "sample",
          "sample",
          "sample",
          "sample",
          "sample",
          "sample",
          "sample",
          "sample",
          "sample",
          "sample",
          "sample",
          "sample",
          "sample",
          "sample",
          "sample",
          "sample",
          "sample",
          "sample",
          "sample",
          "sample",
          "sample",
          "sample",
          "sample",
          "sample",
          "sample",
          "sample",
          "sample",
          "sample",
          "sample",
          "sample",
          "sample",
          "sample",
          "sample",
          "sample",
          "sample",
          "sample",
          "sample",
          "sample",
          "sample",
          "sample",
          "sample",
          "sample",
          "sample",
          "sample",
          "sample",
          "sample",
          "sample",
          "sample",
          "sample",
          "sample",
          "sample",
          "sample",
          "sample",
          "sample",
          "sample",
          "sample",
          "sample",
          "sample",
          "sample",
          "sample",
          "sample",
          "sample",
          "sample",
          "sample",
          "sample",
          "sample",
          "sample",
          "sample",
          "sample",
          "sample",
          "sample",
          "sample",
          "sample",
          "sample",
          "sample",
          "sample",
          "sample",
          "sample",
          "sample",
          "sample",
          "NTC",
          "NTC",
          "NTC",
          "NTC",
          "NTC",
          "WATER",
          "WATER"
         ],
         "x0": " ",
         "xaxis": "x2",
         "y": {
          "bdata": "AAAAAACAREAAAAAAAIBKQAAAAAAAAD9AAAAAAACgYUAAAAAAAEKSQAAAAAAAgE5AtKqqqurq1kAAAAAAwHfXQAAAAACQeglBAAAAAMxnGUGXlpaWltZUQAAAAAAAQF1AAAAAAADAUUAAAAAAAIBEQAAAAAAAQF5AAAAAAACgYUAAAAAAAOBZQL6lpaWl5VtAAAAAAABAVEAAAAAAAIBOQIgkSZIkqWlAvG3btm07aECjqqqqqjihQGl00UUXYZ9AAAAAAMBo0kAAAAAAAJTQQDuxEzuxU1JAU1VVVVWVUkAAAAAAAMBZQAAAAAAAwFZAU1VVVVWVV0AAAAAAAABMQLVt27ZtW0dA4bZt27btRUCILrrooh+fQOFFF110VZ1AAAAAACAZ5EBaVVVVdSvkQAAAAAAAoGFAAAAAAABAXkAAAAAA8CgKQQAAAABQrgtBAAAAAACga0AAAAAAAEBnQJlt27ZtG1xAAAAAAADgYkBhVVVVVTVhQAAAAAAAIGJAvqWlpaXlW0AAAAAAAKBhQKTYiZ3YWXlAXCd2YidGe0AAAAAAgMjNQAAAAAAAkM1AAAAAALCwCEEAAAAAkFQHQQAAAAAA4GxARJIkSZKEbEAAAAAAAAA1QAAAAAAAAPA/D1100UWbn0AAAAAAAIyeQCWxEzuxU1xAoIsuuujCYkAAAAAAAKBmQAAAAAAA4GdAAAAAAACgXUAAAAAAACBiQAAAAAAAgEJALUmSJEmSPUAAAAAAAAAYQLGqqqqqunBAAAAAAChgAUEAAAAAgOvVQAAAAABgIyZBAAAAAJwyH0HR0tLS0lJNQAAAAADw6yJBAAAAAEhiIkEAAAAAAKBYQAAAAAAAQFxAAAAAAAC8lUAAAAAAABO2QAAAAAAAybRAAAAAAACqoUC1bdu27UXBQAAAAAAACIFAAAAAAICSw0AgSZIkSQu9QFl00UUX3UpAAAAAAACMf0AAAAAAAFB1QAAAAABArtpAAAAAANgbNEEAAAAA0J8lQeC2bdu2trhAAAAAAJBICUEAAAAAXG0aQQAAAAAA6HhATEtLS0uLVEBwaWlpaXl4QAAAAAAApHFAlSRJkiTCuEAAAAAAAAPQQOrETuzEjlFAAAAAAICkwEAAAAAAPkkwQUxVVVWVV9VAAAAAAIADuUAAAAAAzPcaQUdVVVVVYZ5AAAAAAMDU1EDMw8PDwyeaQAAAAAAAgFVAAAAAAIAjyUAAAAAAAE2RQE9VVVVVJX9AAAAAAACASEAAAAAAUDMJQQAAAABfvjFBAAAAAArMKkEAAAAAdDguQQAAAADrczFBAAAAACAoJUGVJEmSJGa6QAAAAAAA2ppApqqqqqoqTUAAAAAAAFx9QAAAAABAiddAatu2bdu2OkBXVVVV1TPBQAAAAAAAAPA/AAAAAAAA8D8AAAAAAADwPwAAAAAAQFRAzLZt27aNYEAAAAAAACBgQA==",
          "dtype": "f8"
         },
         "y0": " ",
         "yaxis": "y2"
        },
        {
         "alignmentgroup": "True",
         "boxpoints": "all",
         "hovertemplate": "type=Ns<br>strain=ST1<br>seq_sample_type=%{x}<br>value=%{y}<extra></extra>",
         "legendgroup": "Ns",
         "marker": {
          "color": "#FF7F0E"
         },
         "name": "Ns",
         "notched": false,
         "offsetgroup": "Ns",
         "orientation": "v",
         "showlegend": false,
         "type": "box",
         "x": [
          "sample",
          "sample",
          "sample",
          "sample",
          "sample",
          "sample",
          "sample",
          "sample",
          "sample",
          "sample",
          "sample",
          "sample",
          "sample",
          "sample",
          "sample",
          "sample",
          "sample",
          "sample",
          "sample",
          "sample",
          "sample",
          "sample",
          "sample",
          "sample",
          "sample",
          "sample",
          "sample",
          "sample",
          "sample",
          "sample",
          "sample",
          "sample",
          "sample",
          "sample",
          "sample",
          "sample",
          "sample",
          "sample",
          "sample",
          "sample",
          "sample",
          "sample",
          "sample",
          "sample",
          "sample",
          "sample",
          "sample",
          "sample",
          "sample",
          "sample",
          "sample",
          "sample",
          "sample",
          "sample",
          "sample",
          "sample",
          "sample",
          "sample",
          "sample",
          "sample",
          "sample",
          "sample",
          "sample",
          "sample",
          "sample",
          "sample",
          "sample",
          "sample",
          "sample",
          "sample",
          "sample",
          "sample",
          "sample",
          "sample",
          "sample",
          "sample",
          "sample",
          "sample",
          "sample",
          "sample",
          "sample",
          "sample",
          "sample",
          "sample",
          "sample",
          "sample",
          "sample",
          "sample",
          "sample",
          "sample",
          "sample",
          "sample",
          "sample",
          "sample",
          "sample",
          "sample",
          "sample",
          "sample",
          "sample",
          "sample",
          "sample",
          "sample",
          "sample",
          "sample",
          "sample",
          "sample",
          "sample",
          "sample",
          "sample",
          "sample",
          "sample",
          "sample",
          "sample",
          "sample",
          "sample",
          "sample",
          "sample",
          "sample",
          "sample",
          "sample",
          "sample",
          "sample",
          "sample",
          "sample",
          "sample",
          "sample",
          "sample",
          "sample",
          "sample",
          "sample",
          "NTC",
          "NTC",
          "NTC",
          "NTC",
          "NTC",
          "WATER",
          "WATER"
         ],
         "x0": " ",
         "xaxis": "x",
         "y": {
          "bdata": "AAAAAAC4cUAAAAAAAIBjQAAAAAAAgE5A5qKLLrpoT0BdVVVVVUOiQEYXXXTRhVZAAAAAAABR0kAAAAAAAObXQAAAAABgJ+pAAAAAAMCV8kCjqqqqqjynQAAAAAAAACtAAAAAAAAALkAAAAAAAAAmQAAAAACgCAVBAAAAAJgBAkFaVVVVVVVFQFl00UUX3UBALbroootuV0AAAAAAAEBVQAAAAACAtsxAmKqqqioFy0CoqqqqqrKKQKiqqqqqQodAAAAAAAChtUBSVVVVVeq0QLrooosu+lFAAAAAAAAANUAAAAAAAIBEQGB00UUXnVBAAAAAAECo0UAAAAAAQHLQQD8XXXTRZWFAfy666KKrY0Detm3btn16QLGqqqqqWntAAAAAAODs6kAAAAAAYHfqQAAAAAAAADVAzEUXXXTRNkAAAAAAkA33QAAAAABQ7PhAGl100UUXPkBZdNFFF91AQAAAAAAAACpAAAAAAAAAM0AAAAAA4HP7QAAAAACQQvlATRdddNFFPEAAAAAAAAAmQD8XXXTRxUFAAAAAAACARUAAAAAAQBTkQAAAAABADeFAAAAAAOB070AAAAAAYGPlQHPRRRdd9ElAZ3TRRRddMUAAAAAAAAAcQG0cx3EcxxVATRdddNFFPEDB6KKLLjpHQAAAAAAw5P9AAAAAADh3AEGNLrroogtJQOaiiy666D9A36KLLroIZUBhVVVVVVVkQOaiiy66aEVAWXTRRRfdQEA0uuiiiy4kQNQ4juM4rmlAtKqqquov00AAAAAAAAC6QAAAAAAQgflAAAAAAIDM30C5qqqqqt6SQAAAAACA4N9AAAAAAIDj10BCuuiii25cQAAAAAAAxJFAAAAAAAAAOkAAAAAAAJycQAAAAAAAKqlAb9u2bds+gkAAAAAAAAqlQFhVVVVVvYZAp4suuugiSEAAAAAAAAA1QMHooosuOkdAAAAAAACASkBl0UUXXXQrQAAAAACAj9ZAAAAAABDp9UAAAAAAUF71QAAAAADgvexAAAAAAAAg30AAAAAAAEDYQAAAAAAAgE5AGl100UWXQ0AAAAAAAHm3QP5cdNFFFy9AAAAAAAC0mEAAAAAAAPmwQOaiiy666D9AAAAAAAD5sUAAAAAAiFUFQQAAAAAAjb5AAAAAAIBo1UAAAAAAgLDNQAAAAACA9s1Ao6qqqqrspkAAAAAAAEBUQAAAAAAAiHRAAAAAAACiqUAAAAAAAAAiQOaiiy66aEVAU1VVVVWVV0AAAAAAgOPXQAAAAABQLvhAAAAAALh5AEEAAAAAACHwQAAAAABAJ+VAAAAAAIDx5EBr27Zt25ihQAAAAAAAhJxAYHTRRRedUEAAAAAAAOSVQKOqqqqq/KVAAAAAAAAAP0A/F1100WVhQAAAAAAAAHpAvG3btm1rfkDMRRdddFFGQAAAAAAAebRAGl100UVXU0DMRRdddFFGQA==",
          "dtype": "f8"
         },
         "y0": " ",
         "yaxis": "y"
        },
        {
         "alignmentgroup": "True",
         "boxpoints": "all",
         "hovertemplate": "type=Ns_MinCutoff<br>strain=ST6<br>seq_sample_type=%{x}<br>value=%{y}<extra></extra>",
         "legendgroup": "Ns_MinCutoff",
         "marker": {
          "color": "#2CA02C"
         },
         "name": "Ns_MinCutoff",
         "notched": false,
         "offsetgroup": "Ns_MinCutoff",
         "orientation": "v",
         "showlegend": true,
         "type": "box",
         "x": [
          "sample",
          "sample",
          "sample",
          "sample",
          "sample",
          "sample",
          "sample",
          "sample",
          "sample",
          "sample",
          "sample",
          "sample",
          "sample",
          "sample",
          "sample",
          "sample",
          "sample",
          "sample",
          "sample",
          "sample",
          "sample",
          "sample",
          "sample",
          "sample",
          "sample",
          "sample",
          "sample",
          "sample",
          "sample",
          "sample",
          "sample",
          "sample",
          "sample",
          "sample",
          "sample",
          "sample",
          "sample",
          "sample",
          "sample",
          "sample",
          "sample",
          "sample",
          "sample",
          "sample",
          "sample",
          "sample",
          "sample",
          "sample",
          "sample",
          "sample",
          "sample",
          "sample",
          "sample",
          "sample",
          "sample",
          "sample",
          "sample",
          "sample",
          "sample",
          "sample",
          "sample",
          "sample",
          "sample",
          "sample",
          "sample",
          "sample",
          "sample",
          "sample",
          "sample",
          "sample",
          "sample",
          "sample",
          "sample",
          "sample",
          "sample",
          "sample",
          "sample",
          "sample",
          "sample",
          "sample",
          "sample",
          "sample",
          "sample",
          "sample",
          "sample",
          "sample",
          "sample",
          "sample",
          "sample",
          "sample",
          "sample",
          "sample",
          "sample",
          "sample",
          "sample",
          "sample",
          "sample",
          "sample",
          "sample",
          "sample",
          "sample",
          "sample",
          "sample",
          "sample",
          "sample",
          "sample",
          "sample",
          "sample",
          "sample",
          "sample",
          "sample",
          "sample",
          "sample",
          "sample",
          "sample",
          "sample",
          "sample",
          "sample",
          "sample",
          "sample",
          "sample",
          "sample",
          "sample",
          "sample",
          "sample",
          "sample",
          "sample",
          "sample",
          "sample",
          "sample",
          "NTC",
          "NTC",
          "NTC",
          "NTC",
          "NTC",
          "WATER",
          "WATER"
         ],
         "x0": " ",
         "xaxis": "x4",
         "y": {
          "bdata": "AAAAAAAQakCfqqqqqspqQAAAAAAAoGZAYVVVVVX1ZkA1juM4jgNoQN/S0tLS8mdAy3Ecx3EEh0AAAAAAACiHQMBt27ZtqaNAQJIkSZK6o0DEcRzHcdxSQAAAAAAAcFFAPlVVVVWVXUAAAAAAAKBdQAAAAAAA4GJAhYeHh4cnZUAhLS0tLU1qQGocx3Ecp2pAAAAAAACYZEB427Zt29ZkQAAAAAAAZHBAIS0tLS1NakBIS0tLSzOBQHt4eHh4gIBAAAAAAABqoEAAAAAAANCfQGocx3EcZ2RAAAAAAADoaUDq4eHh4QFqQNTDw8PDY2hAe3h4eHiYZUBwaWlpaQlmQJCWlpaWtmlAe3h4eHiYZUBYVVVVVa2CQAAAAAAAKIJAAAAAAADYhkAax3Ecx+mGQAAAAAAAmGRAAAAAAAAgYUBr27Zt23ijQGvbtm3btKNACw8PDw+PS0BXWlpaWppRQAAAAAAAQE1AJDuxEzvxW0CZbdu2bZteQAAAAAAAoGFAAAAAAABAWUDwtm3bti1dQLxt27ZtO2NAAAAAAAAgZUCoqqqqqvKGQMtxHMdxBIdAXVVVVVW/o0CjqqqqquSjQB0eHh4eXlhAFh4eHh6+YEAAAAAAAIBjQAAAAAAAkF5AAAAAAABUcUAAAAAAADxwQGVaWlpaemZA39LS0tJyZUBLkiRJkuRYQAAAAAAAsFxAAAAAAACAY0CfqqqqqspiQAAAAAAAoGZAprS0tLTUaEAAAAAAANSRQKKlpaWlJUxAqKqqqqoihEC5qqqqqiaRQAAAAAAAOJJAAAAAAACcl0B0eHh4eHgxQOY4juM4toxAAAAAAAAIhEAAAAAAAEAxQAAAAAAAQE1API7jOI6jUEBFS0tLS0swQJbjOI7jCHBA1DiO4zjOXkAAAAAAAEiAQGeSJEmSZFtAy3Ecx3FMc0Dh4eHh4UmEQAAAAAAAAAJApqqqqqoqRkAAAAAAAADwP8PDw8PDa4ZAlSRJkiRjpEAAAAAAANyYQAAAAAAA05dAWFVVVVWtjEDmOI7jOPaDQFNVVVVVFVBAAAAAAAAADEBzHMdxHH+BQD2SJEmSJDxAAAAAAADAVkDmOI7jOJ55QIjjOI7jODdAAAAAAABEkkAAAAAAABubQOY4juM4FoxAR1VVVVWJl0DLcRzHcWSLQBrHcRzH4XxAFh4eHh6uekC4tLS0tERxQBMtLS0tLSdA5jiO4zjmhEBlWlpaWnpmQFDsxE7sBFVAXCd2Yid2FkBHVVVVVcmeQCtJkiRJTKRAAAAAAACYlkAAAAAAAB6YQFhVVVVV/YxAjeM4juNghECW4ziO41hrQBrHcRzHAXtAAAAAAAAANUBTVVVVVZVXQAAAAAAAKIJAAAAAAADUkUC4tLS0tLyNQJbjOI7jGGpAkJaWlpa2aUA1juM4jkNpQAAAAAAAkHBAAAAAAACga0BqHMdxHOdmQA==",
          "dtype": "f8"
         },
         "y0": " ",
         "yaxis": "y4"
        },
        {
         "alignmentgroup": "True",
         "boxpoints": "all",
         "hovertemplate": "type=Ns_MinCutoff<br>strain=ST5<br>seq_sample_type=%{x}<br>value=%{y}<extra></extra>",
         "legendgroup": "Ns_MinCutoff",
         "marker": {
          "color": "#2CA02C"
         },
         "name": "Ns_MinCutoff",
         "notched": false,
         "offsetgroup": "Ns_MinCutoff",
         "orientation": "v",
         "showlegend": false,
         "type": "box",
         "x": [
          "sample",
          "sample",
          "sample",
          "sample",
          "sample",
          "sample",
          "sample",
          "sample",
          "sample",
          "sample",
          "sample",
          "sample",
          "sample",
          "sample",
          "sample",
          "sample",
          "sample",
          "sample",
          "sample",
          "sample",
          "sample",
          "sample",
          "sample",
          "sample",
          "sample",
          "sample",
          "sample",
          "sample",
          "sample",
          "sample",
          "sample",
          "sample",
          "sample",
          "sample",
          "sample",
          "sample",
          "sample",
          "sample",
          "sample",
          "sample",
          "sample",
          "sample",
          "sample",
          "sample",
          "sample",
          "sample",
          "sample",
          "sample",
          "sample",
          "sample",
          "sample",
          "sample",
          "sample",
          "sample",
          "sample",
          "sample",
          "sample",
          "sample",
          "sample",
          "sample",
          "sample",
          "sample",
          "sample",
          "sample",
          "sample",
          "sample",
          "sample",
          "sample",
          "sample",
          "sample",
          "sample",
          "sample",
          "sample",
          "sample",
          "sample",
          "sample",
          "sample",
          "sample",
          "sample",
          "sample",
          "sample",
          "sample",
          "sample",
          "sample",
          "sample",
          "sample",
          "sample",
          "sample",
          "sample",
          "sample",
          "sample",
          "sample",
          "sample",
          "sample",
          "sample",
          "sample",
          "sample",
          "sample",
          "sample",
          "sample",
          "sample",
          "sample",
          "sample",
          "sample",
          "sample",
          "sample",
          "sample",
          "sample",
          "sample",
          "sample",
          "sample",
          "sample",
          "sample",
          "sample",
          "sample",
          "sample",
          "sample",
          "sample",
          "sample",
          "sample",
          "sample",
          "sample",
          "sample",
          "sample",
          "sample",
          "sample",
          "sample",
          "sample",
          "sample",
          "sample",
          "NTC",
          "NTC",
          "NTC",
          "NTC",
          "NTC",
          "WATER",
          "WATER"
         ],
         "x0": " ",
         "xaxis": "x3",
         "y": {
          "bdata": "AAAAAACehEAAAAAAAMaEQAAAAACAjr9AAAAAAAA9vkAAAAAAgFm4QAAAAACASshAAAAAAIDBvkAAAAAAgJS+QEQXXXTRr6dAAAAAAAAmqEAAAAAAAPh8QAAAAAAAAGZAZtu2bdvmckC8bdu2betxQAAAAAAAoIdAAAAAAABWkkBhVVVVVfVmQJ+qqqqqSmdANEmSJEmybEDhRRdddHFtQPGiiy66gqhAAAAAAACSp0AAAAAAgNS6QAAAAAAAgrpAvOiiiy5MqEDLRRdddFOoQAAAAAAAsZFAAAAAAAA+kUBPVVVVVaV+QE9VVVVVZXxAAAAAAABMhkCoqqqqqtKCQLGqqqqq+nhAAAAAAAAsdkDWRRdddCqzQBpddNFF3LJAAAAAAABHvkAAAAAAgLe+QAAAAACAGKRAAAAAAIDiokDLRRdddDunQFN00UUXZ6dAAAAAAADkl0C5qqqqqv6WQAAAAAAAKINAIkmSJElKh0Ciiy666Oe0QAAAAAAAkbRAPlVVVVWVXUAfuuiii85pQAAAAAAAaIRAqKqqqqoyhEAAAAAAgNG9QAAAAAAAl75ANbrooovAqEAPXXTRRTGpQEdVVVVVmZdAAAAAAABzmEC1bdu27YHBQKmqqqoqQsBAAAAAAADrmEAAAAAAAPWYQAAAAAAALZNAuaqqqqpOlEA3sRM7sSN3QAAAAAAAmHhAsaqqqqq6dkAAAAAAAJB2QE9VVVVVZXNAn6qqqqrKb0BedNFFF96yQPC2bdu2rVpAAAAAAAAip0AAAAAAgEu8QMtFF110g6pAoosuuuh3sUAAAAAAAC+WQFdVVVXVZsBAV1VVVdVCwUCmqqqqqipFQIgkSZIkaW1AR1VVVVUZkkAAAAAAAEibQFJVVVVVVrJAAAAAAAD6h0BoVVVV1SzIQJiqqqoqYcRAiC666KK1qECILrroopWqQAAAAAAAfHZAAAAAAACLnkAAAAAAAMqkQEQXXXTR56ZAAAAAAABLnUAPXXTRRemqQNZFF110prRAeNFFF11GrEC86KKLLrO0QKkTO7ETOz5AYVVVVVX1Y0CQJEmSpB/AQOrETuzEjlZA8aKLLrrip0CjqqqqqkasQLGqqqqqOnJAAAAAAABHpUAAAAAAAIydQIguuuii5apAAAAAAACZt0AAAAAAAEadQAAAAACAK6BAAAAAAACgf0AAAAAAACBvQAAAAAAAr5NAAAAAAIDfoECxqqqqqvp4QAAAAAAAsH5AtKqqqqqqMUA1uuiii/ClQAAAAAAAH5xARBdddNGnqkAAAAAAgOa3QAAAAAAA9LZAmKqqqipgxUAAAAAAADx/QKmqqqoqdMBAn6qqqqpKb0AAAAAAAHe7QECSJEmScqVAAAAAAADkhEAAAAAAgMS7QMy2bdu2jWpAzLZt27bNa0AAAAAAAHBpQJKd2ImdqHFAAAAAAADQf0AAAAAAADR9QA==",
          "dtype": "f8"
         },
         "y0": " ",
         "yaxis": "y3"
        },
        {
         "alignmentgroup": "True",
         "boxpoints": "all",
         "hovertemplate": "type=Ns_MinCutoff<br>strain=ST4<br>seq_sample_type=%{x}<br>value=%{y}<extra></extra>",
         "legendgroup": "Ns_MinCutoff",
         "marker": {
          "color": "#2CA02C"
         },
         "name": "Ns_MinCutoff",
         "notched": false,
         "offsetgroup": "Ns_MinCutoff",
         "orientation": "v",
         "showlegend": false,
         "type": "box",
         "x": [
          "sample",
          "sample",
          "sample",
          "sample",
          "sample",
          "sample",
          "sample",
          "sample",
          "sample",
          "sample",
          "sample",
          "sample",
          "sample",
          "sample",
          "sample",
          "sample",
          "sample",
          "sample",
          "sample",
          "sample",
          "sample",
          "sample",
          "sample",
          "sample",
          "sample",
          "sample",
          "sample",
          "sample",
          "sample",
          "sample",
          "sample",
          "sample",
          "sample",
          "sample",
          "sample",
          "sample",
          "sample",
          "sample",
          "sample",
          "sample",
          "sample",
          "sample",
          "sample",
          "sample",
          "sample",
          "sample",
          "sample",
          "sample",
          "sample",
          "sample",
          "sample",
          "sample",
          "sample",
          "sample",
          "sample",
          "sample",
          "sample",
          "sample",
          "sample",
          "sample",
          "sample",
          "sample",
          "sample",
          "sample",
          "sample",
          "sample",
          "sample",
          "sample",
          "sample",
          "sample",
          "sample",
          "sample",
          "sample",
          "sample",
          "sample",
          "sample",
          "sample",
          "sample",
          "sample",
          "sample",
          "sample",
          "sample",
          "sample",
          "sample",
          "sample",
          "sample",
          "sample",
          "sample",
          "sample",
          "sample",
          "sample",
          "sample",
          "sample",
          "sample",
          "sample",
          "sample",
          "sample",
          "sample",
          "sample",
          "sample",
          "sample",
          "sample",
          "sample",
          "sample",
          "sample",
          "sample",
          "sample",
          "sample",
          "sample",
          "sample",
          "sample",
          "sample",
          "sample",
          "sample",
          "sample",
          "sample",
          "sample",
          "sample",
          "sample",
          "sample",
          "sample",
          "sample",
          "sample",
          "sample",
          "sample",
          "sample",
          "sample",
          "sample",
          "sample",
          "sample",
          "NTC",
          "NTC",
          "NTC",
          "NTC",
          "NTC",
          "WATER",
          "WATER"
         ],
         "x0": " ",
         "xaxis": "x2",
         "y": {
          "bdata": "AAAAAACAREAAAAAAAIBGQAAAAAAAgDxAAAAAAABAXkAAAAAAAMx7QAAAAAAAgE5AD1100UVZpEC86KKLLjykQAAAAACAdsdAAAAAAIC8x0AAAAAAABBSQKCLLrro4ldAAAAAAABAVEAAAAAAAIBEQAAAAAAAgFBAAAAAAAAQZUAAAAAAAEBUQAAAAAAAMFVAAAAAAADAVkAAAAAAAIBOQLxt27Ztu2VAvG3btm17ZEAAAAAAAKeWQAAAAAAA5JVAkCRJkqTdwEAAAAAAAD2+QAAAAAAAgE5AAAAAAACATkAAAAAAAMBVQAAAAAAAAFNAraqqqqrqVUAAAAAAAIBOQAAAAAAAgERAS5IkSZKkQUAAAAAAAGqXQAAAAAAAu5ZAAAAAAACeo0Cjqqqqqq6jQAAAAAAAQFRAAAAAAABAWUAAAAAAgGjHQAAAAACA0MdAzLZt27bNa0CfqqqqqupjQAAAAAAAQFlAn6qqqqpKY0CIJEmSJIldQMKqqqqqal1AAAAAAACgU0AAAAAAAKBYQEnsxE7s1HlAZtu2bdsmeUBdVVVVVaujQKOqqqqq1qNAAAAAAIBax0AAAAAAgHXHQJKd2ImdeGpARJIkSZKEZ0AAAAAAAAAwQAAAAAAAAPA/AAAAAAAJmUAAAAAAAJyXQG0ndmIntlxAAAAAAABAXkAAAAAAAKBhQAAAAAAAQF9AU1VVVVWVV0AAAAAAACBgQAAAAAAAgEBALUmSJEmSPUAAAAAAAAAYQAAAAAAAoGlAAAAAAABfskAAAAAAgEXAQAAAAACARshAPo7jOI4osEALDw8PD49LQB/HcRzHSrNAo6qqqqokoUAAAAAAAPBTQI8kSZIkCVFAAAAAAACUckCtpaWlpfV8QAAAAAAAF5VAAAAAAABvkkCILrroov2mQAAAAAAAmIFAhYeHh4fvi0BdVVVVVV+pQD8XXXTRxUtAAAAAAAA4eUAAAAAAAFB6QAAAAAAAGbNAAAAAAEBV1EAAAAAAgLDIQK6qqqqqC7BAAAAAAADjskCjqqqqqmqhQFpLS0tLa2lAAAAAAAAAHUAAAAAAAJhzQAAAAAAAAGtAiC666KLNpECjqqqqqqamQAAAAAAAgE5Aj+M4juMxtEAAAAAAQOTRQAAAAACA9sRAj+M4juNJsEBSVVVVVUKyQAAAAAAAeZdApKWlpaWti0AAAAAAAMSSQFdaWlpamlFAAAAAAAB6m0AAAAAAACiMQGbbtm3bRnxAAAAAAADAUUBLkiRJkqm+QLSqqqrqFdRAAAAAAIDGyEAAAAAAAImwQAAAAAAAk7NAAAAAAADmoUCILrrook2nQAAAAAAAIJZAAAAAAACATEAWHh4eHi5zQF1VVVVVo6ZAPZIkSZIkMkAAAAAAgDXBQAAAAAAAAPA/AAAAAAAA8D8AAAAAAADwPwAAAAAAQFRAwqqqqqrqWkAAAAAAAEBZQA==",
          "dtype": "f8"
         },
         "y0": " ",
         "yaxis": "y2"
        },
        {
         "alignmentgroup": "True",
         "boxpoints": "all",
         "hovertemplate": "type=Ns_MinCutoff<br>strain=ST1<br>seq_sample_type=%{x}<br>value=%{y}<extra></extra>",
         "legendgroup": "Ns_MinCutoff",
         "marker": {
          "color": "#2CA02C"
         },
         "name": "Ns_MinCutoff",
         "notched": false,
         "offsetgroup": "Ns_MinCutoff",
         "orientation": "v",
         "showlegend": false,
         "type": "box",
         "x": [
          "sample",
          "sample",
          "sample",
          "sample",
          "sample",
          "sample",
          "sample",
          "sample",
          "sample",
          "sample",
          "sample",
          "sample",
          "sample",
          "sample",
          "sample",
          "sample",
          "sample",
          "sample",
          "sample",
          "sample",
          "sample",
          "sample",
          "sample",
          "sample",
          "sample",
          "sample",
          "sample",
          "sample",
          "sample",
          "sample",
          "sample",
          "sample",
          "sample",
          "sample",
          "sample",
          "sample",
          "sample",
          "sample",
          "sample",
          "sample",
          "sample",
          "sample",
          "sample",
          "sample",
          "sample",
          "sample",
          "sample",
          "sample",
          "sample",
          "sample",
          "sample",
          "sample",
          "sample",
          "sample",
          "sample",
          "sample",
          "sample",
          "sample",
          "sample",
          "sample",
          "sample",
          "sample",
          "sample",
          "sample",
          "sample",
          "sample",
          "sample",
          "sample",
          "sample",
          "sample",
          "sample",
          "sample",
          "sample",
          "sample",
          "sample",
          "sample",
          "sample",
          "sample",
          "sample",
          "sample",
          "sample",
          "sample",
          "sample",
          "sample",
          "sample",
          "sample",
          "sample",
          "sample",
          "sample",
          "sample",
          "sample",
          "sample",
          "sample",
          "sample",
          "sample",
          "sample",
          "sample",
          "sample",
          "sample",
          "sample",
          "sample",
          "sample",
          "sample",
          "sample",
          "sample",
          "sample",
          "sample",
          "sample",
          "sample",
          "sample",
          "sample",
          "sample",
          "sample",
          "sample",
          "sample",
          "sample",
          "sample",
          "sample",
          "sample",
          "sample",
          "sample",
          "sample",
          "sample",
          "sample",
          "sample",
          "sample",
          "sample",
          "sample",
          "sample",
          "sample",
          "NTC",
          "NTC",
          "NTC",
          "NTC",
          "NTC",
          "WATER",
          "WATER"
         ],
         "x0": " ",
         "xaxis": "x",
         "y": {
          "bdata": "AAAAAABgZEBhVVVVVRVjQAAAAAAAgEFAjS666KILSUAAAAAAABB0QOaiiy66KFVAS5IkSRI9wkCYqqqqKrPMQAAAAADAwNRAAAAAAMDV40AAAAAAAHBuQAAAAAAAACFAAAAAAAAAJkAAAAAAAAAmQAAAAADAOPBAAAAAAOAV70BaVVVVVVVFQDS66KKLLjNARhdddNGFUUC66KKLLvpRQCBJkiRJL7dAAAAAAADFtEBYVVVVVV2HQKiqqqqqgoNAqm3btm1fmUAAAAAAALSZQOaiiy66aEVAAAAAAAAAM0AaXXTRRZdDQDS66KKLrkJAAAAAAACDuUAAAAAAALK8QH8uuuiiK2FAfy666KKrY0A0SZIkSTJvQCJJkiRJonJAAAAAAID52kAAAAAAgEnbQAAAAAAAADNAzEUXXXTRNkAAAAAA4PTsQAAAAABgZ+ZAgdFFF110OkBNF1100UU8QAAAAAAAACJAAAAAAAAAKkAAAAAAYJzoQAAAAABAeORAWXTRRRfdQEAAAAAAAAAmQDS66KKLrkJANLrooouuQkC0qqqq6vrQQAAAAABAKNBAAAAAAIDB1kBoVVVV1aPOQD8XXXTRxUFAZ3TRRRddMUAAAAAAAAAcQG0cx3EcxwlAgdFFF110OkDB6KKLLjpHQAAAAADgKulAAAAAAGBO60DMRRdddFFGQBpddNFFFz5APxdddNHlY0AhXXTRRTdjQFl00UUX3UBAWXTRRRfdQEA0uuiiiy4kQGB00UUX/WdAAAAAAIBIx0AAAAAAAASUQAAAAADgc+tAAAAAAACx1UC5qqqqqj6SQAAAAADAKdBAAAAAAIDryUA0uuiii65CQAAAAAAA+I5ANLrooosuJEBTVVVVVZVXQE9VVVVV5X5AjS666KLLU0Bm27Zt24Z4QG/btm3bPoJAweiiiy46R0A0uuiiiy4zQOaiiy66aEVAAAAAAACASkA0uuiiiy4kQAAAAACARcpAAAAAAOAZ5kAAAAAAwBrlQAAAAAAAZ+BAAAAAAECZ0UAAAAAAgIDLQDS66KKLrkxAmYsuuuiiOECB0UUXXXQ6QP5cdNFFFy9AoIsuuujiUkCZiy666KI4QBpddNFFFz5AWFVVVVXdhEAAAAAAQL3wQAAAAAAAOqhAAAAAAIDiw0AAAAAAAHKsQAAAAAAAAqxAAAAAAABAbEBZdNFFF91AQAAAAAAAQFVALbroootuV0AAAAAAAAAiQBpddNFFl0NAWXTRRRfdSkAAAAAAgFrLQAAAAADgwudAAAAAAMDm8UAAAAAAwE/iQAAAAACAC9hAAAAAAEBm0kACo4suuihfQKeLLrroIkhAWXTRRRfdQEDMRRdddNE2QLSqqqqqqjZAtKqqqqqqO0Cniy666CJIQAAAAAAAaHZARJIkSZJ0fEA/F1100cVBQK6qqqqqlbJAweiiiy46R0AAAAAAAIBEQA==",
          "dtype": "f8"
         },
         "y0": " ",
         "yaxis": "y"
        }
       ],
       "layout": {
        "annotations": [
         {
          "font": {},
          "showarrow": false,
          "text": "strain=ST1",
          "textangle": 90,
          "x": 0.98,
          "xanchor": "left",
          "xref": "paper",
          "y": 0.11375,
          "yanchor": "middle",
          "yref": "paper"
         },
         {
          "font": {},
          "showarrow": false,
          "text": "strain=ST4",
          "textangle": 90,
          "x": 0.98,
          "xanchor": "left",
          "xref": "paper",
          "y": 0.37124999999999997,
          "yanchor": "middle",
          "yref": "paper"
         },
         {
          "font": {},
          "showarrow": false,
          "text": "strain=ST5",
          "textangle": 90,
          "x": 0.98,
          "xanchor": "left",
          "xref": "paper",
          "y": 0.62875,
          "yanchor": "middle",
          "yref": "paper"
         },
         {
          "font": {},
          "showarrow": false,
          "text": "strain=ST6",
          "textangle": 90,
          "x": 0.98,
          "xanchor": "left",
          "xref": "paper",
          "y": 0.88625,
          "yanchor": "middle",
          "yref": "paper"
         }
        ],
        "boxmode": "group",
        "height": 800,
        "legend": {
         "title": {
          "text": "type"
         },
         "tracegroupgap": 0
        },
        "margin": {
         "t": 60
        },
        "template": {
         "data": {
          "bar": [
           {
            "error_x": {
             "color": "rgb(36,36,36)"
            },
            "error_y": {
             "color": "rgb(36,36,36)"
            },
            "marker": {
             "line": {
              "color": "white",
              "width": 0.5
             },
             "pattern": {
              "fillmode": "overlay",
              "size": 10,
              "solidity": 0.2
             }
            },
            "type": "bar"
           }
          ],
          "barpolar": [
           {
            "marker": {
             "line": {
              "color": "white",
              "width": 0.5
             },
             "pattern": {
              "fillmode": "overlay",
              "size": 10,
              "solidity": 0.2
             }
            },
            "type": "barpolar"
           }
          ],
          "carpet": [
           {
            "aaxis": {
             "endlinecolor": "rgb(36,36,36)",
             "gridcolor": "white",
             "linecolor": "white",
             "minorgridcolor": "white",
             "startlinecolor": "rgb(36,36,36)"
            },
            "baxis": {
             "endlinecolor": "rgb(36,36,36)",
             "gridcolor": "white",
             "linecolor": "white",
             "minorgridcolor": "white",
             "startlinecolor": "rgb(36,36,36)"
            },
            "type": "carpet"
           }
          ],
          "choropleth": [
           {
            "colorbar": {
             "outlinewidth": 1,
             "tickcolor": "rgb(36,36,36)",
             "ticks": "outside"
            },
            "type": "choropleth"
           }
          ],
          "contour": [
           {
            "colorbar": {
             "outlinewidth": 1,
             "tickcolor": "rgb(36,36,36)",
             "ticks": "outside"
            },
            "colorscale": [
             [
              0,
              "#440154"
             ],
             [
              0.1111111111111111,
              "#482878"
             ],
             [
              0.2222222222222222,
              "#3e4989"
             ],
             [
              0.3333333333333333,
              "#31688e"
             ],
             [
              0.4444444444444444,
              "#26828e"
             ],
             [
              0.5555555555555556,
              "#1f9e89"
             ],
             [
              0.6666666666666666,
              "#35b779"
             ],
             [
              0.7777777777777778,
              "#6ece58"
             ],
             [
              0.8888888888888888,
              "#b5de2b"
             ],
             [
              1,
              "#fde725"
             ]
            ],
            "type": "contour"
           }
          ],
          "contourcarpet": [
           {
            "colorbar": {
             "outlinewidth": 1,
             "tickcolor": "rgb(36,36,36)",
             "ticks": "outside"
            },
            "type": "contourcarpet"
           }
          ],
          "heatmap": [
           {
            "colorbar": {
             "outlinewidth": 1,
             "tickcolor": "rgb(36,36,36)",
             "ticks": "outside"
            },
            "colorscale": [
             [
              0,
              "#440154"
             ],
             [
              0.1111111111111111,
              "#482878"
             ],
             [
              0.2222222222222222,
              "#3e4989"
             ],
             [
              0.3333333333333333,
              "#31688e"
             ],
             [
              0.4444444444444444,
              "#26828e"
             ],
             [
              0.5555555555555556,
              "#1f9e89"
             ],
             [
              0.6666666666666666,
              "#35b779"
             ],
             [
              0.7777777777777778,
              "#6ece58"
             ],
             [
              0.8888888888888888,
              "#b5de2b"
             ],
             [
              1,
              "#fde725"
             ]
            ],
            "type": "heatmap"
           }
          ],
          "histogram": [
           {
            "marker": {
             "line": {
              "color": "white",
              "width": 0.6
             }
            },
            "type": "histogram"
           }
          ],
          "histogram2d": [
           {
            "colorbar": {
             "outlinewidth": 1,
             "tickcolor": "rgb(36,36,36)",
             "ticks": "outside"
            },
            "colorscale": [
             [
              0,
              "#440154"
             ],
             [
              0.1111111111111111,
              "#482878"
             ],
             [
              0.2222222222222222,
              "#3e4989"
             ],
             [
              0.3333333333333333,
              "#31688e"
             ],
             [
              0.4444444444444444,
              "#26828e"
             ],
             [
              0.5555555555555556,
              "#1f9e89"
             ],
             [
              0.6666666666666666,
              "#35b779"
             ],
             [
              0.7777777777777778,
              "#6ece58"
             ],
             [
              0.8888888888888888,
              "#b5de2b"
             ],
             [
              1,
              "#fde725"
             ]
            ],
            "type": "histogram2d"
           }
          ],
          "histogram2dcontour": [
           {
            "colorbar": {
             "outlinewidth": 1,
             "tickcolor": "rgb(36,36,36)",
             "ticks": "outside"
            },
            "colorscale": [
             [
              0,
              "#440154"
             ],
             [
              0.1111111111111111,
              "#482878"
             ],
             [
              0.2222222222222222,
              "#3e4989"
             ],
             [
              0.3333333333333333,
              "#31688e"
             ],
             [
              0.4444444444444444,
              "#26828e"
             ],
             [
              0.5555555555555556,
              "#1f9e89"
             ],
             [
              0.6666666666666666,
              "#35b779"
             ],
             [
              0.7777777777777778,
              "#6ece58"
             ],
             [
              0.8888888888888888,
              "#b5de2b"
             ],
             [
              1,
              "#fde725"
             ]
            ],
            "type": "histogram2dcontour"
           }
          ],
          "mesh3d": [
           {
            "colorbar": {
             "outlinewidth": 1,
             "tickcolor": "rgb(36,36,36)",
             "ticks": "outside"
            },
            "type": "mesh3d"
           }
          ],
          "parcoords": [
           {
            "line": {
             "colorbar": {
              "outlinewidth": 1,
              "tickcolor": "rgb(36,36,36)",
              "ticks": "outside"
             }
            },
            "type": "parcoords"
           }
          ],
          "pie": [
           {
            "automargin": true,
            "type": "pie"
           }
          ],
          "scatter": [
           {
            "fillpattern": {
             "fillmode": "overlay",
             "size": 10,
             "solidity": 0.2
            },
            "type": "scatter"
           }
          ],
          "scatter3d": [
           {
            "line": {
             "colorbar": {
              "outlinewidth": 1,
              "tickcolor": "rgb(36,36,36)",
              "ticks": "outside"
             }
            },
            "marker": {
             "colorbar": {
              "outlinewidth": 1,
              "tickcolor": "rgb(36,36,36)",
              "ticks": "outside"
             }
            },
            "type": "scatter3d"
           }
          ],
          "scattercarpet": [
           {
            "marker": {
             "colorbar": {
              "outlinewidth": 1,
              "tickcolor": "rgb(36,36,36)",
              "ticks": "outside"
             }
            },
            "type": "scattercarpet"
           }
          ],
          "scattergeo": [
           {
            "marker": {
             "colorbar": {
              "outlinewidth": 1,
              "tickcolor": "rgb(36,36,36)",
              "ticks": "outside"
             }
            },
            "type": "scattergeo"
           }
          ],
          "scattergl": [
           {
            "marker": {
             "colorbar": {
              "outlinewidth": 1,
              "tickcolor": "rgb(36,36,36)",
              "ticks": "outside"
             }
            },
            "type": "scattergl"
           }
          ],
          "scattermap": [
           {
            "marker": {
             "colorbar": {
              "outlinewidth": 1,
              "tickcolor": "rgb(36,36,36)",
              "ticks": "outside"
             }
            },
            "type": "scattermap"
           }
          ],
          "scattermapbox": [
           {
            "marker": {
             "colorbar": {
              "outlinewidth": 1,
              "tickcolor": "rgb(36,36,36)",
              "ticks": "outside"
             }
            },
            "type": "scattermapbox"
           }
          ],
          "scatterpolar": [
           {
            "marker": {
             "colorbar": {
              "outlinewidth": 1,
              "tickcolor": "rgb(36,36,36)",
              "ticks": "outside"
             }
            },
            "type": "scatterpolar"
           }
          ],
          "scatterpolargl": [
           {
            "marker": {
             "colorbar": {
              "outlinewidth": 1,
              "tickcolor": "rgb(36,36,36)",
              "ticks": "outside"
             }
            },
            "type": "scatterpolargl"
           }
          ],
          "scatterternary": [
           {
            "marker": {
             "colorbar": {
              "outlinewidth": 1,
              "tickcolor": "rgb(36,36,36)",
              "ticks": "outside"
             }
            },
            "type": "scatterternary"
           }
          ],
          "surface": [
           {
            "colorbar": {
             "outlinewidth": 1,
             "tickcolor": "rgb(36,36,36)",
             "ticks": "outside"
            },
            "colorscale": [
             [
              0,
              "#440154"
             ],
             [
              0.1111111111111111,
              "#482878"
             ],
             [
              0.2222222222222222,
              "#3e4989"
             ],
             [
              0.3333333333333333,
              "#31688e"
             ],
             [
              0.4444444444444444,
              "#26828e"
             ],
             [
              0.5555555555555556,
              "#1f9e89"
             ],
             [
              0.6666666666666666,
              "#35b779"
             ],
             [
              0.7777777777777778,
              "#6ece58"
             ],
             [
              0.8888888888888888,
              "#b5de2b"
             ],
             [
              1,
              "#fde725"
             ]
            ],
            "type": "surface"
           }
          ],
          "table": [
           {
            "cells": {
             "fill": {
              "color": "rgb(237,237,237)"
             },
             "line": {
              "color": "white"
             }
            },
            "header": {
             "fill": {
              "color": "rgb(217,217,217)"
             },
             "line": {
              "color": "white"
             }
            },
            "type": "table"
           }
          ]
         },
         "layout": {
          "annotationdefaults": {
           "arrowhead": 0,
           "arrowwidth": 1
          },
          "autotypenumbers": "strict",
          "coloraxis": {
           "colorbar": {
            "outlinewidth": 1,
            "tickcolor": "rgb(36,36,36)",
            "ticks": "outside"
           }
          },
          "colorscale": {
           "diverging": [
            [
             0,
             "rgb(103,0,31)"
            ],
            [
             0.1,
             "rgb(178,24,43)"
            ],
            [
             0.2,
             "rgb(214,96,77)"
            ],
            [
             0.3,
             "rgb(244,165,130)"
            ],
            [
             0.4,
             "rgb(253,219,199)"
            ],
            [
             0.5,
             "rgb(247,247,247)"
            ],
            [
             0.6,
             "rgb(209,229,240)"
            ],
            [
             0.7,
             "rgb(146,197,222)"
            ],
            [
             0.8,
             "rgb(67,147,195)"
            ],
            [
             0.9,
             "rgb(33,102,172)"
            ],
            [
             1,
             "rgb(5,48,97)"
            ]
           ],
           "sequential": [
            [
             0,
             "#440154"
            ],
            [
             0.1111111111111111,
             "#482878"
            ],
            [
             0.2222222222222222,
             "#3e4989"
            ],
            [
             0.3333333333333333,
             "#31688e"
            ],
            [
             0.4444444444444444,
             "#26828e"
            ],
            [
             0.5555555555555556,
             "#1f9e89"
            ],
            [
             0.6666666666666666,
             "#35b779"
            ],
            [
             0.7777777777777778,
             "#6ece58"
            ],
            [
             0.8888888888888888,
             "#b5de2b"
            ],
            [
             1,
             "#fde725"
            ]
           ],
           "sequentialminus": [
            [
             0,
             "#440154"
            ],
            [
             0.1111111111111111,
             "#482878"
            ],
            [
             0.2222222222222222,
             "#3e4989"
            ],
            [
             0.3333333333333333,
             "#31688e"
            ],
            [
             0.4444444444444444,
             "#26828e"
            ],
            [
             0.5555555555555556,
             "#1f9e89"
            ],
            [
             0.6666666666666666,
             "#35b779"
            ],
            [
             0.7777777777777778,
             "#6ece58"
            ],
            [
             0.8888888888888888,
             "#b5de2b"
            ],
            [
             1,
             "#fde725"
            ]
           ]
          },
          "colorway": [
           "#1F77B4",
           "#FF7F0E",
           "#2CA02C",
           "#D62728",
           "#9467BD",
           "#8C564B",
           "#E377C2",
           "#7F7F7F",
           "#BCBD22",
           "#17BECF"
          ],
          "font": {
           "color": "rgb(36,36,36)"
          },
          "geo": {
           "bgcolor": "white",
           "lakecolor": "white",
           "landcolor": "white",
           "showlakes": true,
           "showland": true,
           "subunitcolor": "white"
          },
          "hoverlabel": {
           "align": "left"
          },
          "hovermode": "closest",
          "mapbox": {
           "style": "light"
          },
          "paper_bgcolor": "white",
          "plot_bgcolor": "white",
          "polar": {
           "angularaxis": {
            "gridcolor": "rgb(232,232,232)",
            "linecolor": "rgb(36,36,36)",
            "showgrid": false,
            "showline": true,
            "ticks": "outside"
           },
           "bgcolor": "white",
           "radialaxis": {
            "gridcolor": "rgb(232,232,232)",
            "linecolor": "rgb(36,36,36)",
            "showgrid": false,
            "showline": true,
            "ticks": "outside"
           }
          },
          "scene": {
           "xaxis": {
            "backgroundcolor": "white",
            "gridcolor": "rgb(232,232,232)",
            "gridwidth": 2,
            "linecolor": "rgb(36,36,36)",
            "showbackground": true,
            "showgrid": false,
            "showline": true,
            "ticks": "outside",
            "zeroline": false,
            "zerolinecolor": "rgb(36,36,36)"
           },
           "yaxis": {
            "backgroundcolor": "white",
            "gridcolor": "rgb(232,232,232)",
            "gridwidth": 2,
            "linecolor": "rgb(36,36,36)",
            "showbackground": true,
            "showgrid": false,
            "showline": true,
            "ticks": "outside",
            "zeroline": false,
            "zerolinecolor": "rgb(36,36,36)"
           },
           "zaxis": {
            "backgroundcolor": "white",
            "gridcolor": "rgb(232,232,232)",
            "gridwidth": 2,
            "linecolor": "rgb(36,36,36)",
            "showbackground": true,
            "showgrid": false,
            "showline": true,
            "ticks": "outside",
            "zeroline": false,
            "zerolinecolor": "rgb(36,36,36)"
           }
          },
          "shapedefaults": {
           "fillcolor": "black",
           "line": {
            "width": 0
           },
           "opacity": 0.3
          },
          "ternary": {
           "aaxis": {
            "gridcolor": "rgb(232,232,232)",
            "linecolor": "rgb(36,36,36)",
            "showgrid": false,
            "showline": true,
            "ticks": "outside"
           },
           "baxis": {
            "gridcolor": "rgb(232,232,232)",
            "linecolor": "rgb(36,36,36)",
            "showgrid": false,
            "showline": true,
            "ticks": "outside"
           },
           "bgcolor": "white",
           "caxis": {
            "gridcolor": "rgb(232,232,232)",
            "linecolor": "rgb(36,36,36)",
            "showgrid": false,
            "showline": true,
            "ticks": "outside"
           }
          },
          "title": {
           "x": 0.05
          },
          "xaxis": {
           "automargin": true,
           "gridcolor": "rgb(232,232,232)",
           "linecolor": "rgb(36,36,36)",
           "showgrid": false,
           "showline": true,
           "ticks": "outside",
           "title": {
            "standoff": 15
           },
           "zeroline": false,
           "zerolinecolor": "rgb(36,36,36)"
          },
          "yaxis": {
           "automargin": true,
           "gridcolor": "rgb(232,232,232)",
           "linecolor": "rgb(36,36,36)",
           "showgrid": false,
           "showline": true,
           "ticks": "outside",
           "title": {
            "standoff": 15
           },
           "zeroline": false,
           "zerolinecolor": "rgb(36,36,36)"
          }
         }
        },
        "width": 800,
        "xaxis": {
         "anchor": "y",
         "domain": [
          0,
          0.98
         ],
         "title": {
          "text": "seq_sample_type"
         }
        },
        "xaxis2": {
         "anchor": "y2",
         "domain": [
          0,
          0.98
         ],
         "matches": "x",
         "showticklabels": false
        },
        "xaxis3": {
         "anchor": "y3",
         "domain": [
          0,
          0.98
         ],
         "matches": "x",
         "showticklabels": false
        },
        "xaxis4": {
         "anchor": "y4",
         "domain": [
          0,
          0.98
         ],
         "matches": "x",
         "showticklabels": false
        },
        "yaxis": {
         "anchor": "x",
         "domain": [
          0,
          0.2275
         ],
         "title": {
          "text": "value"
         },
         "type": "log"
        },
        "yaxis2": {
         "anchor": "x2",
         "domain": [
          0.2575,
          0.485
         ],
         "matches": "y",
         "title": {
          "text": "value"
         },
         "type": "log"
        },
        "yaxis3": {
         "anchor": "x3",
         "domain": [
          0.515,
          0.7425
         ],
         "matches": "y",
         "title": {
          "text": "value"
         },
         "type": "log"
        },
        "yaxis4": {
         "anchor": "x4",
         "domain": [
          0.7725,
          1
         ],
         "matches": "y",
         "title": {
          "text": "value"
         },
         "type": "log"
        }
       }
      }
     },
     "metadata": {},
     "output_type": "display_data"
    }
   ],
   "source": [
    "df_plot = df_FP[['strain', 'sample_id', 'seq_sample_type','Nb', 'Ns', 'Ns_MinCutoff']].set_index(['strain', 'sample_id', 'seq_sample_type']).stack()\n",
    "df_plot = df_plot.reset_index()\n",
    "df_plot = df_plot.rename(columns = {'level_3': 'type', 0: 'value'})\n",
    "display(df_plot)\n",
    "fig = px.box(df_plot,\n",
    "            y = 'value',\n",
    "            x = 'seq_sample_type',\n",
    "            color = 'type',\n",
    "            points = 'all',\n",
    "            template = 'simple_white',\n",
    "            width = 800,\n",
    "            height = 400,\n",
    "            log_y = True)\n",
    "fig.show()\n",
    "fig = px.box(df_plot,\n",
    "            y = 'value',\n",
    "            x = 'seq_sample_type',\n",
    "            facet_row = 'strain',\n",
    "            color = 'type',\n",
    "            points = 'all',\n",
    "            template = 'simple_white',\n",
    "            width = 800,\n",
    "            height = 800,\n",
    "            log_y = True)\n",
    "fig.show()"
   ]
  },
  {
   "cell_type": "markdown",
   "id": "ef26a9d3",
   "metadata": {},
   "source": [
    "# FP time course"
   ]
  },
  {
   "cell_type": "code",
   "execution_count": 50,
   "id": "f54f2a60",
   "metadata": {},
   "outputs": [
    {
     "data": {
      "text/html": [
       "<div>\n",
       "<style scoped>\n",
       "    .dataframe tbody tr th:only-of-type {\n",
       "        vertical-align: middle;\n",
       "    }\n",
       "\n",
       "    .dataframe tbody tr th {\n",
       "        vertical-align: top;\n",
       "    }\n",
       "\n",
       "    .dataframe thead th {\n",
       "        text-align: right;\n",
       "    }\n",
       "</style>\n",
       "<table border=\"1\" class=\"dataframe\">\n",
       "  <thead>\n",
       "    <tr style=\"text-align: right;\">\n",
       "      <th></th>\n",
       "      <th>sample_name</th>\n",
       "      <th>TotalReads</th>\n",
       "      <th>Number of barcodes</th>\n",
       "      <th>Ns_MinCutoff</th>\n",
       "      <th>Nb</th>\n",
       "      <th>Ns</th>\n",
       "      <th>AverageFrequency</th>\n",
       "      <th>CFU</th>\n",
       "      <th>Log10Ns</th>\n",
       "      <th>Log10CFU</th>\n",
       "      <th>...</th>\n",
       "      <th>strain_bcs</th>\n",
       "      <th>strains</th>\n",
       "      <th>tube_type</th>\n",
       "      <th>tube_weight_empty</th>\n",
       "      <th>tube_weight_full</th>\n",
       "      <th>stool_weight_mg</th>\n",
       "      <th>cfu_g_stool</th>\n",
       "      <th>cfu_incubation_time</th>\n",
       "      <th>dna_conc_ng_ul</th>\n",
       "      <th>dna_conc_ng_ul.1</th>\n",
       "    </tr>\n",
       "  </thead>\n",
       "  <tbody>\n",
       "    <tr>\n",
       "      <th>0</th>\n",
       "      <td>P4C2T4_s1.A1_stool.DNA</td>\n",
       "      <td>9432</td>\n",
       "      <td>214</td>\n",
       "      <td>208.500000</td>\n",
       "      <td>39.970035</td>\n",
       "      <td>255.117647</td>\n",
       "      <td>312.727973</td>\n",
       "      <td>0</td>\n",
       "      <td>2.406741</td>\n",
       "      <td>-inf</td>\n",
       "      <td>...</td>\n",
       "      <td>ST1a|ST2d|ST4a|ST5a|ST6a</td>\n",
       "      <td>E. coli|E.coli|B.uniformis|B.longum|P.distasonis</td>\n",
       "      <td>2ml_screwcap</td>\n",
       "      <td>1651.8</td>\n",
       "      <td>1693.0</td>\n",
       "      <td>41.2</td>\n",
       "      <td>NaN</td>\n",
       "      <td>NaN</td>\n",
       "      <td>-0.040486</td>\n",
       "      <td>0.398801</td>\n",
       "    </tr>\n",
       "    <tr>\n",
       "      <th>1</th>\n",
       "      <td>P4C2T4_s1.A6_stool.DNA</td>\n",
       "      <td>9957</td>\n",
       "      <td>195</td>\n",
       "      <td>214.333333</td>\n",
       "      <td>33.516052</td>\n",
       "      <td>226.882353</td>\n",
       "      <td>247.122033</td>\n",
       "      <td>0</td>\n",
       "      <td>2.355801</td>\n",
       "      <td>-inf</td>\n",
       "      <td>...</td>\n",
       "      <td>ST1a|ST2d|ST4a|ST5a|ST6a</td>\n",
       "      <td>E. coli|E.coli|B.uniformis|B.longum|P.distasonis</td>\n",
       "      <td>2ml_screwcap</td>\n",
       "      <td>1651.8</td>\n",
       "      <td>1693.0</td>\n",
       "      <td>41.2</td>\n",
       "      <td>NaN</td>\n",
       "      <td>NaN</td>\n",
       "      <td>-0.040486</td>\n",
       "      <td>0.398801</td>\n",
       "    </tr>\n",
       "    <tr>\n",
       "      <th>2</th>\n",
       "      <td>P4C2T4_s11.F1_stool.DNA</td>\n",
       "      <td>13241</td>\n",
       "      <td>201</td>\n",
       "      <td>181.000000</td>\n",
       "      <td>82.555483</td>\n",
       "      <td>233.941176</td>\n",
       "      <td>345.310447</td>\n",
       "      <td>0</td>\n",
       "      <td>2.369107</td>\n",
       "      <td>-inf</td>\n",
       "      <td>...</td>\n",
       "      <td>ST1a|ST2d|ST4a|ST5a|ST6a</td>\n",
       "      <td>E. coli|E.coli|B.uniformis|B.longum|P.distasonis</td>\n",
       "      <td>2ml_screwcap</td>\n",
       "      <td>1694.6</td>\n",
       "      <td>1736.8</td>\n",
       "      <td>42.2</td>\n",
       "      <td>NaN</td>\n",
       "      <td>NaN</td>\n",
       "      <td>4.990206</td>\n",
       "      <td>0.521678</td>\n",
       "    </tr>\n",
       "    <tr>\n",
       "      <th>3</th>\n",
       "      <td>P4C2T4_s11.F6_stool.DNA</td>\n",
       "      <td>3522</td>\n",
       "      <td>161</td>\n",
       "      <td>183.666667</td>\n",
       "      <td>158.171979</td>\n",
       "      <td>208.500000</td>\n",
       "      <td>248.821111</td>\n",
       "      <td>0</td>\n",
       "      <td>2.319106</td>\n",
       "      <td>-inf</td>\n",
       "      <td>...</td>\n",
       "      <td>ST1a|ST2d|ST4a|ST5a|ST6a</td>\n",
       "      <td>E. coli|E.coli|B.uniformis|B.longum|P.distasonis</td>\n",
       "      <td>2ml_screwcap</td>\n",
       "      <td>1694.6</td>\n",
       "      <td>1736.8</td>\n",
       "      <td>42.2</td>\n",
       "      <td>NaN</td>\n",
       "      <td>NaN</td>\n",
       "      <td>4.990206</td>\n",
       "      <td>0.521678</td>\n",
       "    </tr>\n",
       "    <tr>\n",
       "      <th>4</th>\n",
       "      <td>P4C2T4_s13.G1_stool.DNA</td>\n",
       "      <td>21541</td>\n",
       "      <td>608</td>\n",
       "      <td>192.111111</td>\n",
       "      <td>113.285514</td>\n",
       "      <td>693.941176</td>\n",
       "      <td>661.952610</td>\n",
       "      <td>0</td>\n",
       "      <td>2.841323</td>\n",
       "      <td>-inf</td>\n",
       "      <td>...</td>\n",
       "      <td>ST1a|ST2d|ST4a|ST5a|ST6a</td>\n",
       "      <td>E. coli|E.coli|B.uniformis|B.longum|P.distasonis</td>\n",
       "      <td>2ml_screwcap</td>\n",
       "      <td>1651.3</td>\n",
       "      <td>1696.2</td>\n",
       "      <td>44.9</td>\n",
       "      <td>NaN</td>\n",
       "      <td>NaN</td>\n",
       "      <td>5.564207</td>\n",
       "      <td>0.629570</td>\n",
       "    </tr>\n",
       "    <tr>\n",
       "      <th>...</th>\n",
       "      <td>...</td>\n",
       "      <td>...</td>\n",
       "      <td>...</td>\n",
       "      <td>...</td>\n",
       "      <td>...</td>\n",
       "      <td>...</td>\n",
       "      <td>...</td>\n",
       "      <td>...</td>\n",
       "      <td>...</td>\n",
       "      <td>...</td>\n",
       "      <td>...</td>\n",
       "      <td>...</td>\n",
       "      <td>...</td>\n",
       "      <td>...</td>\n",
       "      <td>...</td>\n",
       "      <td>...</td>\n",
       "      <td>...</td>\n",
       "      <td>...</td>\n",
       "      <td>...</td>\n",
       "      <td>...</td>\n",
       "      <td>...</td>\n",
       "    </tr>\n",
       "    <tr>\n",
       "      <th>543</th>\n",
       "      <td>NTC_G5_NTC</td>\n",
       "      <td>32254</td>\n",
       "      <td>220</td>\n",
       "      <td>455.285714</td>\n",
       "      <td>4.484329</td>\n",
       "      <td>486.714286</td>\n",
       "      <td>238.795714</td>\n",
       "      <td>0</td>\n",
       "      <td>2.687274</td>\n",
       "      <td>-inf</td>\n",
       "      <td>...</td>\n",
       "      <td>NaN</td>\n",
       "      <td>NaN</td>\n",
       "      <td>NaN</td>\n",
       "      <td>NaN</td>\n",
       "      <td>NaN</td>\n",
       "      <td>NaN</td>\n",
       "      <td>NaN</td>\n",
       "      <td>NaN</td>\n",
       "      <td>NaN</td>\n",
       "      <td>NaN</td>\n",
       "    </tr>\n",
       "    <tr>\n",
       "      <th>544</th>\n",
       "      <td>NTC_H10_NTC</td>\n",
       "      <td>9676</td>\n",
       "      <td>25</td>\n",
       "      <td>35.545455</td>\n",
       "      <td>0.386335</td>\n",
       "      <td>44.636364</td>\n",
       "      <td>39.069849</td>\n",
       "      <td>0</td>\n",
       "      <td>1.649689</td>\n",
       "      <td>-inf</td>\n",
       "      <td>...</td>\n",
       "      <td>NaN</td>\n",
       "      <td>NaN</td>\n",
       "      <td>NaN</td>\n",
       "      <td>NaN</td>\n",
       "      <td>NaN</td>\n",
       "      <td>NaN</td>\n",
       "      <td>NaN</td>\n",
       "      <td>NaN</td>\n",
       "      <td>NaN</td>\n",
       "      <td>NaN</td>\n",
       "    </tr>\n",
       "    <tr>\n",
       "      <th>545</th>\n",
       "      <td>NTC_H5_NTC</td>\n",
       "      <td>51524</td>\n",
       "      <td>1352</td>\n",
       "      <td>4757.666667</td>\n",
       "      <td>26.814889</td>\n",
       "      <td>5241.000000</td>\n",
       "      <td>1484.064300</td>\n",
       "      <td>0</td>\n",
       "      <td>3.719414</td>\n",
       "      <td>-inf</td>\n",
       "      <td>...</td>\n",
       "      <td>NaN</td>\n",
       "      <td>NaN</td>\n",
       "      <td>NaN</td>\n",
       "      <td>NaN</td>\n",
       "      <td>NaN</td>\n",
       "      <td>NaN</td>\n",
       "      <td>NaN</td>\n",
       "      <td>NaN</td>\n",
       "      <td>NaN</td>\n",
       "      <td>NaN</td>\n",
       "    </tr>\n",
       "    <tr>\n",
       "      <th>546</th>\n",
       "      <td>WATER_A2_WATER</td>\n",
       "      <td>4348</td>\n",
       "      <td>43</td>\n",
       "      <td>46.454545</td>\n",
       "      <td>0.685682</td>\n",
       "      <td>77.363636</td>\n",
       "      <td>129.635761</td>\n",
       "      <td>0</td>\n",
       "      <td>1.888537</td>\n",
       "      <td>-inf</td>\n",
       "      <td>...</td>\n",
       "      <td>NaN</td>\n",
       "      <td>NaN</td>\n",
       "      <td>NaN</td>\n",
       "      <td>NaN</td>\n",
       "      <td>NaN</td>\n",
       "      <td>NaN</td>\n",
       "      <td>NaN</td>\n",
       "      <td>NaN</td>\n",
       "      <td>NaN</td>\n",
       "      <td>NaN</td>\n",
       "    </tr>\n",
       "    <tr>\n",
       "      <th>547</th>\n",
       "      <td>WATER_A7_WATER</td>\n",
       "      <td>3321</td>\n",
       "      <td>25</td>\n",
       "      <td>41.000000</td>\n",
       "      <td>0.607935</td>\n",
       "      <td>44.636364</td>\n",
       "      <td>49.695694</td>\n",
       "      <td>0</td>\n",
       "      <td>1.649689</td>\n",
       "      <td>-inf</td>\n",
       "      <td>...</td>\n",
       "      <td>NaN</td>\n",
       "      <td>NaN</td>\n",
       "      <td>NaN</td>\n",
       "      <td>NaN</td>\n",
       "      <td>NaN</td>\n",
       "      <td>NaN</td>\n",
       "      <td>NaN</td>\n",
       "      <td>NaN</td>\n",
       "      <td>NaN</td>\n",
       "      <td>NaN</td>\n",
       "    </tr>\n",
       "  </tbody>\n",
       "</table>\n",
       "<p>548 rows × 34 columns</p>\n",
       "</div>"
      ],
      "text/plain": [
       "                 sample_name  TotalReads  Number of barcodes  Ns_MinCutoff  \\\n",
       "0     P4C2T4_s1.A1_stool.DNA        9432                 214    208.500000   \n",
       "1     P4C2T4_s1.A6_stool.DNA        9957                 195    214.333333   \n",
       "2    P4C2T4_s11.F1_stool.DNA       13241                 201    181.000000   \n",
       "3    P4C2T4_s11.F6_stool.DNA        3522                 161    183.666667   \n",
       "4    P4C2T4_s13.G1_stool.DNA       21541                 608    192.111111   \n",
       "..                       ...         ...                 ...           ...   \n",
       "543               NTC_G5_NTC       32254                 220    455.285714   \n",
       "544              NTC_H10_NTC        9676                  25     35.545455   \n",
       "545               NTC_H5_NTC       51524                1352   4757.666667   \n",
       "546           WATER_A2_WATER        4348                  43     46.454545   \n",
       "547           WATER_A7_WATER        3321                  25     41.000000   \n",
       "\n",
       "             Nb           Ns  AverageFrequency  CFU   Log10Ns  Log10CFU  ...  \\\n",
       "0     39.970035   255.117647        312.727973    0  2.406741      -inf  ...   \n",
       "1     33.516052   226.882353        247.122033    0  2.355801      -inf  ...   \n",
       "2     82.555483   233.941176        345.310447    0  2.369107      -inf  ...   \n",
       "3    158.171979   208.500000        248.821111    0  2.319106      -inf  ...   \n",
       "4    113.285514   693.941176        661.952610    0  2.841323      -inf  ...   \n",
       "..          ...          ...               ...  ...       ...       ...  ...   \n",
       "543    4.484329   486.714286        238.795714    0  2.687274      -inf  ...   \n",
       "544    0.386335    44.636364         39.069849    0  1.649689      -inf  ...   \n",
       "545   26.814889  5241.000000       1484.064300    0  3.719414      -inf  ...   \n",
       "546    0.685682    77.363636        129.635761    0  1.888537      -inf  ...   \n",
       "547    0.607935    44.636364         49.695694    0  1.649689      -inf  ...   \n",
       "\n",
       "                   strain_bcs  \\\n",
       "0    ST1a|ST2d|ST4a|ST5a|ST6a   \n",
       "1    ST1a|ST2d|ST4a|ST5a|ST6a   \n",
       "2    ST1a|ST2d|ST4a|ST5a|ST6a   \n",
       "3    ST1a|ST2d|ST4a|ST5a|ST6a   \n",
       "4    ST1a|ST2d|ST4a|ST5a|ST6a   \n",
       "..                        ...   \n",
       "543                       NaN   \n",
       "544                       NaN   \n",
       "545                       NaN   \n",
       "546                       NaN   \n",
       "547                       NaN   \n",
       "\n",
       "                                              strains     tube_type  \\\n",
       "0    E. coli|E.coli|B.uniformis|B.longum|P.distasonis  2ml_screwcap   \n",
       "1    E. coli|E.coli|B.uniformis|B.longum|P.distasonis  2ml_screwcap   \n",
       "2    E. coli|E.coli|B.uniformis|B.longum|P.distasonis  2ml_screwcap   \n",
       "3    E. coli|E.coli|B.uniformis|B.longum|P.distasonis  2ml_screwcap   \n",
       "4    E. coli|E.coli|B.uniformis|B.longum|P.distasonis  2ml_screwcap   \n",
       "..                                                ...           ...   \n",
       "543                                               NaN           NaN   \n",
       "544                                               NaN           NaN   \n",
       "545                                               NaN           NaN   \n",
       "546                                               NaN           NaN   \n",
       "547                                               NaN           NaN   \n",
       "\n",
       "    tube_weight_empty tube_weight_full stool_weight_mg  cfu_g_stool  \\\n",
       "0              1651.8           1693.0            41.2          NaN   \n",
       "1              1651.8           1693.0            41.2          NaN   \n",
       "2              1694.6           1736.8            42.2          NaN   \n",
       "3              1694.6           1736.8            42.2          NaN   \n",
       "4              1651.3           1696.2            44.9          NaN   \n",
       "..                ...              ...             ...          ...   \n",
       "543               NaN              NaN             NaN          NaN   \n",
       "544               NaN              NaN             NaN          NaN   \n",
       "545               NaN              NaN             NaN          NaN   \n",
       "546               NaN              NaN             NaN          NaN   \n",
       "547               NaN              NaN             NaN          NaN   \n",
       "\n",
       "    cfu_incubation_time dna_conc_ng_ul dna_conc_ng_ul.1  \n",
       "0                   NaN      -0.040486         0.398801  \n",
       "1                   NaN      -0.040486         0.398801  \n",
       "2                   NaN       4.990206         0.521678  \n",
       "3                   NaN       4.990206         0.521678  \n",
       "4                   NaN       5.564207         0.629570  \n",
       "..                  ...            ...              ...  \n",
       "543                 NaN            NaN              NaN  \n",
       "544                 NaN            NaN              NaN  \n",
       "545                 NaN            NaN              NaN  \n",
       "546                 NaN            NaN              NaN  \n",
       "547                 NaN            NaN              NaN  \n",
       "\n",
       "[548 rows x 34 columns]"
      ]
     },
     "execution_count": 50,
     "metadata": {},
     "output_type": "execute_result"
    }
   ],
   "source": [
    "df_meta1 = pd.read_csv('/Users/ruprec01/Documents/Faith_lab/Git/population_bottlenecks/input_files/metadata/P4C2T4_cr_mouse_sample - P4C2T4.tsv', sep = \"\\t\")\n",
    "df_meta2 = pd.read_csv('/Users/ruprec01/Documents/Faith_lab/Git/population_bottlenecks/input_files/metadata/P4C2T5_cr_mouse_sample - P4C2T5.tsv', sep = \"\\t\")\n",
    "df_meta = pd.concat([df_meta1, df_meta2], axis = 0)\n",
    "df_results = pd.merge(df_FP, df_meta, on = ['sample_id', 'project'], how = 'left')\n",
    "df_results\n"
   ]
  },
  {
   "cell_type": "code",
   "execution_count": 51,
   "id": "514548aa",
   "metadata": {},
   "outputs": [
    {
     "data": {
      "text/plain": [
       "Index(['sample_name', 'TotalReads', 'Number of barcodes', 'Ns_MinCutoff', 'Nb',\n",
       "       'Ns', 'AverageFrequency', 'CFU', 'Log10Ns', 'Log10CFU', 'CFU/Ns',\n",
       "       'strain', 'sample_id', 'project', 'seq_sample_type', 'sample_type',\n",
       "       'date_collected', 'time_point_h', 'cage_id', 'mouse_type',\n",
       "       'pretreatment', 'mouse_id', 'gender', 'gavage_dose_200ul', 'strain_bcs',\n",
       "       'strains', 'tube_type', 'tube_weight_empty', 'tube_weight_full',\n",
       "       'stool_weight_mg', 'cfu_g_stool', 'cfu_incubation_time',\n",
       "       'dna_conc_ng_ul', 'dna_conc_ng_ul.1'],\n",
       "      dtype='object')"
      ]
     },
     "execution_count": 51,
     "metadata": {},
     "output_type": "execute_result"
    }
   ],
   "source": [
    "df_results.columns"
   ]
  },
  {
   "cell_type": "code",
   "execution_count": null,
   "id": "1bcfb2b9",
   "metadata": {},
   "outputs": [
    {
     "data": {
      "text/plain": [
       "array(['NTC|NA', 'SPF|NA', 'SPF|antibiotic_vancomycin', 'WATER|NA',\n",
       "       'germ_free|NA', 'germ_free|donor_BSD2780'], dtype=object)"
      ]
     },
     "metadata": {},
     "output_type": "display_data"
    },
    {
     "data": {
      "application/vnd.plotly.v1+json": {
       "config": {
        "plotlyServerURL": "https://plotly.com"
       },
       "data": [
        {
         "alignmentgroup": "True",
         "boxpoints": "all",
         "hovertemplate": "x_coord=NTC|NA<br>strain=%{x}<br>Nb=%{y}<extra></extra>",
         "legendgroup": "NTC|NA",
         "marker": {
          "color": "#1F77B4"
         },
         "name": "NTC|NA",
         "notched": false,
         "offsetgroup": "NTC|NA",
         "orientation": "v",
         "showlegend": true,
         "type": "box",
         "x": [
          "ST1",
          "ST6",
          "ST6",
          "ST6",
          "ST6",
          "ST5",
          "ST5",
          "ST5",
          "ST5",
          "ST5",
          "ST6",
          "ST4",
          "ST4",
          "ST4",
          "ST4",
          "ST1",
          "ST1",
          "ST1",
          "ST1",
          "ST4"
         ],
         "x0": " ",
         "xaxis": "x",
         "y": {
          "bdata": "UU1d3uTNA0CKert7zRdIQEuooML48kdA/eCC8XSzS0BW97+HJopUQLI5sMJS0fo/1zv59XY2K0C7JK4x42QFQKIIEh04GC9AyCQNeBlYhEChMJSviNpZQFHl/FFbtkdA8AMLyFoYMUC34eMeXRATQALJbKMI6W1A5ursipzQOkAtCryZtrnYP94Oz/nz7xFADlNsDwlcCkBo94Bo0DeBPw==",
          "dtype": "f8"
         },
         "y0": " ",
         "yaxis": "y"
        },
        {
         "alignmentgroup": "True",
         "boxpoints": "all",
         "hovertemplate": "x_coord=WATER|NA<br>strain=%{x}<br>Nb=%{y}<extra></extra>",
         "legendgroup": "WATER|NA",
         "marker": {
          "color": "#FF7F0E"
         },
         "name": "WATER|NA",
         "notched": false,
         "offsetgroup": "WATER|NA",
         "orientation": "v",
         "showlegend": true,
         "type": "box",
         "x": [
          "ST6",
          "ST6",
          "ST5",
          "ST5",
          "ST4",
          "ST1",
          "ST1",
          "ST4"
         ],
         "x0": " ",
         "xaxis": "x",
         "y": {
          "bdata": "tnQbyaITOUCqPob0Xsg6QJbvPltagzdA10ErPwvznkCcrNaY0XJ1QLyzYEUzdOM/4VJgDBzx5T/QswXwCYZzQA==",
          "dtype": "f8"
         },
         "y0": " ",
         "yaxis": "y"
        },
        {
         "alignmentgroup": "True",
         "boxpoints": "all",
         "hovertemplate": "x_coord=SPF|NA<br>strain=%{x}<br>Nb=%{y}<extra></extra>",
         "legendgroup": "SPF|NA",
         "marker": {
          "color": "#2CA02C"
         },
         "name": "SPF|NA",
         "notched": false,
         "offsetgroup": "SPF|NA",
         "orientation": "v",
         "showlegend": true,
         "type": "box",
         "x": [
          "ST6",
          "ST6",
          "ST6",
          "ST6",
          "ST6",
          "ST5",
          "ST4",
          "ST5",
          "ST1",
          "ST1",
          "ST1",
          "ST1",
          "ST5",
          "ST1",
          "ST4",
          "ST4",
          "ST4",
          "ST5",
          "ST5",
          "ST4"
         ],
         "x0": " ",
         "xaxis": "x",
         "y": {
          "bdata": "vvxAfb/EZUDoLNiB+Q0rQBIMM6OZICtAZyUs693JS0DMp9h0WP9PQG5k3EB2icJAtlJOjmfWVEArR8I58jZvQIp8yyEF7+c/pJ9L4NnC8T+H304rU1IrQB+CAPaZ9fk/DJZoMnbJjEArM3bxphMJQPpgbL9xHXNAU5/dlym/MUDg0RlOHS9vQN7HGlI/uJ1A4xmka+SulEBDpKdLcw0uQA==",
          "dtype": "f8"
         },
         "y0": " ",
         "yaxis": "y"
        },
        {
         "alignmentgroup": "True",
         "boxpoints": "all",
         "hovertemplate": "x_coord=SPF|antibiotic_vancomycin<br>strain=%{x}<br>Nb=%{y}<extra></extra>",
         "legendgroup": "SPF|antibiotic_vancomycin",
         "marker": {
          "color": "#D62728"
         },
         "name": "SPF|antibiotic_vancomycin",
         "notched": false,
         "offsetgroup": "SPF|antibiotic_vancomycin",
         "orientation": "v",
         "showlegend": true,
         "type": "box",
         "x": [
          "ST6",
          "ST6",
          "ST6",
          "ST6",
          "ST5",
          "ST5",
          "ST1",
          "ST1",
          "ST1",
          "ST4",
          "ST1",
          "ST4",
          "ST4",
          "ST5",
          "ST5",
          "ST4"
         ],
         "x0": " ",
         "xaxis": "x",
         "y": {
          "bdata": "XB/lTmCOgkBGpjaPYkWMQBKxF288/YFAivnz/jaFV0BSODCRmYzDQOQIEZ+c6LdAQHqkrNDEeED955619z9qQEqQ7Qj6jGRASOhF/8d/wT+x4r2yckpwQJIiV44DhsdAcqxtHeUVt0CqLMQIo7jAQPLkh324iMBALsL3vt4NvkA=",
          "dtype": "f8"
         },
         "y0": " ",
         "yaxis": "y"
        },
        {
         "alignmentgroup": "True",
         "boxpoints": "all",
         "hovertemplate": "x_coord=germ_free|donor_BSD2780<br>strain=%{x}<br>Nb=%{y}<extra></extra>",
         "legendgroup": "germ_free|donor_BSD2780",
         "marker": {
          "color": "#9467BD"
         },
         "name": "germ_free|donor_BSD2780",
         "notched": false,
         "offsetgroup": "germ_free|donor_BSD2780",
         "orientation": "v",
         "showlegend": true,
         "type": "box",
         "x": [
          "ST4",
          "ST1",
          "ST1",
          "ST1",
          "ST4",
          "ST4",
          "ST4",
          "ST4",
          "ST5",
          "ST5",
          "ST5",
          "ST5",
          "ST1",
          "ST6",
          "ST6",
          "ST6",
          "ST5",
          "ST1",
          "ST6",
          "ST6"
         ],
         "x0": " ",
         "xaxis": "x",
         "y": {
          "bdata": "JT/rlGA22UDUSs16SulgQB2gUTEt/3hATGrmc8S6eUDNQSvef8RQQH+mcXgRQ0FAitbPc9TdwkCqIX7ZifTLQGBJaywB6NVAUg/C/oPXpECvVUKcSFXVQB6F33VfAcVAHB+t7pJEyD/TEBFU7+QlQPpSmBhfLVNANfN885PfcEC2ycCTx1qOQCN//R0di9U/+hsyfqkEg0D4rKHT2weLQA==",
          "dtype": "f8"
         },
         "y0": " ",
         "yaxis": "y"
        },
        {
         "alignmentgroup": "True",
         "boxpoints": "all",
         "hovertemplate": "x_coord=germ_free|NA<br>strain=%{x}<br>Nb=%{y}<extra></extra>",
         "legendgroup": "germ_free|NA",
         "marker": {
          "color": "#8C564B"
         },
         "name": "germ_free|NA",
         "notched": false,
         "offsetgroup": "germ_free|NA",
         "orientation": "v",
         "showlegend": true,
         "type": "box",
         "x": [
          "ST6",
          "ST1",
          "ST1",
          "ST1",
          "ST1",
          "ST1",
          "ST4",
          "ST4",
          "ST4",
          "ST4",
          "ST4",
          "ST5",
          "ST5",
          "ST5",
          "ST5",
          "ST6",
          "ST6",
          "ST6",
          "ST6",
          "ST5"
         ],
         "x0": " ",
         "xaxis": "x",
         "y": {
          "bdata": "wKK68J09F0ArwZLGSCFgQLI9+MO8KnRAnXZfuasBCUBgp7yXHbcJQIFxeW42NBpA06AL8blJrEA8T6DGtNvSQOYUcuZtk3ZAtVh0yK1hVUBxwX3IYR2GQCTx1G384+xArmkIlcvz2UB6vjIWShCmQMa6QXRfIJlAKkpNN3KYWUBcYaVgzbFuQHWpnGBANv8/X3KDE2jn0j+7BhdZoZfPQA==",
          "dtype": "f8"
         },
         "y0": " ",
         "yaxis": "y"
        }
       ],
       "layout": {
        "boxmode": "group",
        "height": 600,
        "legend": {
         "title": {
          "text": "x_coord"
         },
         "tracegroupgap": 0
        },
        "margin": {
         "t": 60
        },
        "template": {
         "data": {
          "bar": [
           {
            "error_x": {
             "color": "rgb(36,36,36)"
            },
            "error_y": {
             "color": "rgb(36,36,36)"
            },
            "marker": {
             "line": {
              "color": "white",
              "width": 0.5
             },
             "pattern": {
              "fillmode": "overlay",
              "size": 10,
              "solidity": 0.2
             }
            },
            "type": "bar"
           }
          ],
          "barpolar": [
           {
            "marker": {
             "line": {
              "color": "white",
              "width": 0.5
             },
             "pattern": {
              "fillmode": "overlay",
              "size": 10,
              "solidity": 0.2
             }
            },
            "type": "barpolar"
           }
          ],
          "carpet": [
           {
            "aaxis": {
             "endlinecolor": "rgb(36,36,36)",
             "gridcolor": "white",
             "linecolor": "white",
             "minorgridcolor": "white",
             "startlinecolor": "rgb(36,36,36)"
            },
            "baxis": {
             "endlinecolor": "rgb(36,36,36)",
             "gridcolor": "white",
             "linecolor": "white",
             "minorgridcolor": "white",
             "startlinecolor": "rgb(36,36,36)"
            },
            "type": "carpet"
           }
          ],
          "choropleth": [
           {
            "colorbar": {
             "outlinewidth": 1,
             "tickcolor": "rgb(36,36,36)",
             "ticks": "outside"
            },
            "type": "choropleth"
           }
          ],
          "contour": [
           {
            "colorbar": {
             "outlinewidth": 1,
             "tickcolor": "rgb(36,36,36)",
             "ticks": "outside"
            },
            "colorscale": [
             [
              0,
              "#440154"
             ],
             [
              0.1111111111111111,
              "#482878"
             ],
             [
              0.2222222222222222,
              "#3e4989"
             ],
             [
              0.3333333333333333,
              "#31688e"
             ],
             [
              0.4444444444444444,
              "#26828e"
             ],
             [
              0.5555555555555556,
              "#1f9e89"
             ],
             [
              0.6666666666666666,
              "#35b779"
             ],
             [
              0.7777777777777778,
              "#6ece58"
             ],
             [
              0.8888888888888888,
              "#b5de2b"
             ],
             [
              1,
              "#fde725"
             ]
            ],
            "type": "contour"
           }
          ],
          "contourcarpet": [
           {
            "colorbar": {
             "outlinewidth": 1,
             "tickcolor": "rgb(36,36,36)",
             "ticks": "outside"
            },
            "type": "contourcarpet"
           }
          ],
          "heatmap": [
           {
            "colorbar": {
             "outlinewidth": 1,
             "tickcolor": "rgb(36,36,36)",
             "ticks": "outside"
            },
            "colorscale": [
             [
              0,
              "#440154"
             ],
             [
              0.1111111111111111,
              "#482878"
             ],
             [
              0.2222222222222222,
              "#3e4989"
             ],
             [
              0.3333333333333333,
              "#31688e"
             ],
             [
              0.4444444444444444,
              "#26828e"
             ],
             [
              0.5555555555555556,
              "#1f9e89"
             ],
             [
              0.6666666666666666,
              "#35b779"
             ],
             [
              0.7777777777777778,
              "#6ece58"
             ],
             [
              0.8888888888888888,
              "#b5de2b"
             ],
             [
              1,
              "#fde725"
             ]
            ],
            "type": "heatmap"
           }
          ],
          "histogram": [
           {
            "marker": {
             "line": {
              "color": "white",
              "width": 0.6
             }
            },
            "type": "histogram"
           }
          ],
          "histogram2d": [
           {
            "colorbar": {
             "outlinewidth": 1,
             "tickcolor": "rgb(36,36,36)",
             "ticks": "outside"
            },
            "colorscale": [
             [
              0,
              "#440154"
             ],
             [
              0.1111111111111111,
              "#482878"
             ],
             [
              0.2222222222222222,
              "#3e4989"
             ],
             [
              0.3333333333333333,
              "#31688e"
             ],
             [
              0.4444444444444444,
              "#26828e"
             ],
             [
              0.5555555555555556,
              "#1f9e89"
             ],
             [
              0.6666666666666666,
              "#35b779"
             ],
             [
              0.7777777777777778,
              "#6ece58"
             ],
             [
              0.8888888888888888,
              "#b5de2b"
             ],
             [
              1,
              "#fde725"
             ]
            ],
            "type": "histogram2d"
           }
          ],
          "histogram2dcontour": [
           {
            "colorbar": {
             "outlinewidth": 1,
             "tickcolor": "rgb(36,36,36)",
             "ticks": "outside"
            },
            "colorscale": [
             [
              0,
              "#440154"
             ],
             [
              0.1111111111111111,
              "#482878"
             ],
             [
              0.2222222222222222,
              "#3e4989"
             ],
             [
              0.3333333333333333,
              "#31688e"
             ],
             [
              0.4444444444444444,
              "#26828e"
             ],
             [
              0.5555555555555556,
              "#1f9e89"
             ],
             [
              0.6666666666666666,
              "#35b779"
             ],
             [
              0.7777777777777778,
              "#6ece58"
             ],
             [
              0.8888888888888888,
              "#b5de2b"
             ],
             [
              1,
              "#fde725"
             ]
            ],
            "type": "histogram2dcontour"
           }
          ],
          "mesh3d": [
           {
            "colorbar": {
             "outlinewidth": 1,
             "tickcolor": "rgb(36,36,36)",
             "ticks": "outside"
            },
            "type": "mesh3d"
           }
          ],
          "parcoords": [
           {
            "line": {
             "colorbar": {
              "outlinewidth": 1,
              "tickcolor": "rgb(36,36,36)",
              "ticks": "outside"
             }
            },
            "type": "parcoords"
           }
          ],
          "pie": [
           {
            "automargin": true,
            "type": "pie"
           }
          ],
          "scatter": [
           {
            "fillpattern": {
             "fillmode": "overlay",
             "size": 10,
             "solidity": 0.2
            },
            "type": "scatter"
           }
          ],
          "scatter3d": [
           {
            "line": {
             "colorbar": {
              "outlinewidth": 1,
              "tickcolor": "rgb(36,36,36)",
              "ticks": "outside"
             }
            },
            "marker": {
             "colorbar": {
              "outlinewidth": 1,
              "tickcolor": "rgb(36,36,36)",
              "ticks": "outside"
             }
            },
            "type": "scatter3d"
           }
          ],
          "scattercarpet": [
           {
            "marker": {
             "colorbar": {
              "outlinewidth": 1,
              "tickcolor": "rgb(36,36,36)",
              "ticks": "outside"
             }
            },
            "type": "scattercarpet"
           }
          ],
          "scattergeo": [
           {
            "marker": {
             "colorbar": {
              "outlinewidth": 1,
              "tickcolor": "rgb(36,36,36)",
              "ticks": "outside"
             }
            },
            "type": "scattergeo"
           }
          ],
          "scattergl": [
           {
            "marker": {
             "colorbar": {
              "outlinewidth": 1,
              "tickcolor": "rgb(36,36,36)",
              "ticks": "outside"
             }
            },
            "type": "scattergl"
           }
          ],
          "scattermap": [
           {
            "marker": {
             "colorbar": {
              "outlinewidth": 1,
              "tickcolor": "rgb(36,36,36)",
              "ticks": "outside"
             }
            },
            "type": "scattermap"
           }
          ],
          "scattermapbox": [
           {
            "marker": {
             "colorbar": {
              "outlinewidth": 1,
              "tickcolor": "rgb(36,36,36)",
              "ticks": "outside"
             }
            },
            "type": "scattermapbox"
           }
          ],
          "scatterpolar": [
           {
            "marker": {
             "colorbar": {
              "outlinewidth": 1,
              "tickcolor": "rgb(36,36,36)",
              "ticks": "outside"
             }
            },
            "type": "scatterpolar"
           }
          ],
          "scatterpolargl": [
           {
            "marker": {
             "colorbar": {
              "outlinewidth": 1,
              "tickcolor": "rgb(36,36,36)",
              "ticks": "outside"
             }
            },
            "type": "scatterpolargl"
           }
          ],
          "scatterternary": [
           {
            "marker": {
             "colorbar": {
              "outlinewidth": 1,
              "tickcolor": "rgb(36,36,36)",
              "ticks": "outside"
             }
            },
            "type": "scatterternary"
           }
          ],
          "surface": [
           {
            "colorbar": {
             "outlinewidth": 1,
             "tickcolor": "rgb(36,36,36)",
             "ticks": "outside"
            },
            "colorscale": [
             [
              0,
              "#440154"
             ],
             [
              0.1111111111111111,
              "#482878"
             ],
             [
              0.2222222222222222,
              "#3e4989"
             ],
             [
              0.3333333333333333,
              "#31688e"
             ],
             [
              0.4444444444444444,
              "#26828e"
             ],
             [
              0.5555555555555556,
              "#1f9e89"
             ],
             [
              0.6666666666666666,
              "#35b779"
             ],
             [
              0.7777777777777778,
              "#6ece58"
             ],
             [
              0.8888888888888888,
              "#b5de2b"
             ],
             [
              1,
              "#fde725"
             ]
            ],
            "type": "surface"
           }
          ],
          "table": [
           {
            "cells": {
             "fill": {
              "color": "rgb(237,237,237)"
             },
             "line": {
              "color": "white"
             }
            },
            "header": {
             "fill": {
              "color": "rgb(217,217,217)"
             },
             "line": {
              "color": "white"
             }
            },
            "type": "table"
           }
          ]
         },
         "layout": {
          "annotationdefaults": {
           "arrowhead": 0,
           "arrowwidth": 1
          },
          "autotypenumbers": "strict",
          "coloraxis": {
           "colorbar": {
            "outlinewidth": 1,
            "tickcolor": "rgb(36,36,36)",
            "ticks": "outside"
           }
          },
          "colorscale": {
           "diverging": [
            [
             0,
             "rgb(103,0,31)"
            ],
            [
             0.1,
             "rgb(178,24,43)"
            ],
            [
             0.2,
             "rgb(214,96,77)"
            ],
            [
             0.3,
             "rgb(244,165,130)"
            ],
            [
             0.4,
             "rgb(253,219,199)"
            ],
            [
             0.5,
             "rgb(247,247,247)"
            ],
            [
             0.6,
             "rgb(209,229,240)"
            ],
            [
             0.7,
             "rgb(146,197,222)"
            ],
            [
             0.8,
             "rgb(67,147,195)"
            ],
            [
             0.9,
             "rgb(33,102,172)"
            ],
            [
             1,
             "rgb(5,48,97)"
            ]
           ],
           "sequential": [
            [
             0,
             "#440154"
            ],
            [
             0.1111111111111111,
             "#482878"
            ],
            [
             0.2222222222222222,
             "#3e4989"
            ],
            [
             0.3333333333333333,
             "#31688e"
            ],
            [
             0.4444444444444444,
             "#26828e"
            ],
            [
             0.5555555555555556,
             "#1f9e89"
            ],
            [
             0.6666666666666666,
             "#35b779"
            ],
            [
             0.7777777777777778,
             "#6ece58"
            ],
            [
             0.8888888888888888,
             "#b5de2b"
            ],
            [
             1,
             "#fde725"
            ]
           ],
           "sequentialminus": [
            [
             0,
             "#440154"
            ],
            [
             0.1111111111111111,
             "#482878"
            ],
            [
             0.2222222222222222,
             "#3e4989"
            ],
            [
             0.3333333333333333,
             "#31688e"
            ],
            [
             0.4444444444444444,
             "#26828e"
            ],
            [
             0.5555555555555556,
             "#1f9e89"
            ],
            [
             0.6666666666666666,
             "#35b779"
            ],
            [
             0.7777777777777778,
             "#6ece58"
            ],
            [
             0.8888888888888888,
             "#b5de2b"
            ],
            [
             1,
             "#fde725"
            ]
           ]
          },
          "colorway": [
           "#1F77B4",
           "#FF7F0E",
           "#2CA02C",
           "#D62728",
           "#9467BD",
           "#8C564B",
           "#E377C2",
           "#7F7F7F",
           "#BCBD22",
           "#17BECF"
          ],
          "font": {
           "color": "rgb(36,36,36)"
          },
          "geo": {
           "bgcolor": "white",
           "lakecolor": "white",
           "landcolor": "white",
           "showlakes": true,
           "showland": true,
           "subunitcolor": "white"
          },
          "hoverlabel": {
           "align": "left"
          },
          "hovermode": "closest",
          "mapbox": {
           "style": "light"
          },
          "paper_bgcolor": "white",
          "plot_bgcolor": "white",
          "polar": {
           "angularaxis": {
            "gridcolor": "rgb(232,232,232)",
            "linecolor": "rgb(36,36,36)",
            "showgrid": false,
            "showline": true,
            "ticks": "outside"
           },
           "bgcolor": "white",
           "radialaxis": {
            "gridcolor": "rgb(232,232,232)",
            "linecolor": "rgb(36,36,36)",
            "showgrid": false,
            "showline": true,
            "ticks": "outside"
           }
          },
          "scene": {
           "xaxis": {
            "backgroundcolor": "white",
            "gridcolor": "rgb(232,232,232)",
            "gridwidth": 2,
            "linecolor": "rgb(36,36,36)",
            "showbackground": true,
            "showgrid": false,
            "showline": true,
            "ticks": "outside",
            "zeroline": false,
            "zerolinecolor": "rgb(36,36,36)"
           },
           "yaxis": {
            "backgroundcolor": "white",
            "gridcolor": "rgb(232,232,232)",
            "gridwidth": 2,
            "linecolor": "rgb(36,36,36)",
            "showbackground": true,
            "showgrid": false,
            "showline": true,
            "ticks": "outside",
            "zeroline": false,
            "zerolinecolor": "rgb(36,36,36)"
           },
           "zaxis": {
            "backgroundcolor": "white",
            "gridcolor": "rgb(232,232,232)",
            "gridwidth": 2,
            "linecolor": "rgb(36,36,36)",
            "showbackground": true,
            "showgrid": false,
            "showline": true,
            "ticks": "outside",
            "zeroline": false,
            "zerolinecolor": "rgb(36,36,36)"
           }
          },
          "shapedefaults": {
           "fillcolor": "black",
           "line": {
            "width": 0
           },
           "opacity": 0.3
          },
          "ternary": {
           "aaxis": {
            "gridcolor": "rgb(232,232,232)",
            "linecolor": "rgb(36,36,36)",
            "showgrid": false,
            "showline": true,
            "ticks": "outside"
           },
           "baxis": {
            "gridcolor": "rgb(232,232,232)",
            "linecolor": "rgb(36,36,36)",
            "showgrid": false,
            "showline": true,
            "ticks": "outside"
           },
           "bgcolor": "white",
           "caxis": {
            "gridcolor": "rgb(232,232,232)",
            "linecolor": "rgb(36,36,36)",
            "showgrid": false,
            "showline": true,
            "ticks": "outside"
           }
          },
          "title": {
           "x": 0.05
          },
          "xaxis": {
           "automargin": true,
           "gridcolor": "rgb(232,232,232)",
           "linecolor": "rgb(36,36,36)",
           "showgrid": false,
           "showline": true,
           "ticks": "outside",
           "title": {
            "standoff": 15
           },
           "zeroline": false,
           "zerolinecolor": "rgb(36,36,36)"
          },
          "yaxis": {
           "automargin": true,
           "gridcolor": "rgb(232,232,232)",
           "linecolor": "rgb(36,36,36)",
           "showgrid": false,
           "showline": true,
           "ticks": "outside",
           "title": {
            "standoff": 15
           },
           "zeroline": false,
           "zerolinecolor": "rgb(36,36,36)"
          }
         }
        },
        "width": 1000,
        "xaxis": {
         "anchor": "y",
         "domain": [
          0,
          1
         ],
         "title": {
          "text": "strain"
         }
        },
        "yaxis": {
         "anchor": "x",
         "domain": [
          0,
          1
         ],
         "title": {
          "text": "Nb"
         },
         "type": "log"
        }
       }
      }
     },
     "metadata": {},
     "output_type": "display_data"
    }
   ],
   "source": [
    "from pandas.api.types import CategoricalDtype\n",
    "\n",
    "df_plot = df_results.copy() #.dropna(subset = 'cage_id')\n",
    "df_plot['mouse_type'] = df_plot.apply(lambda x: x['seq_sample_type'] if x['seq_sample_type'] != 'sample' else x['mouse_type'], axis = 1)\n",
    "\n",
    "df_plot = df_plot.loc[(df_plot['sample_type'].str.contains('stool'))& (df_plot['time_point_h'] == '24 h')|\n",
    "                        (df_plot['seq_sample_type']!='sample')].copy()\n",
    "#df_plot = df_plot.sort_values(['cage_id', 'time', 'strain'], ascending=True)\n",
    "df_plot['x_coord'] = df_plot['mouse_type'] +\"|\"+ df_plot['pretreatment'].fillna('NA')\n",
    "\n",
    "df_plot = df_plot.groupby(['x_coord' ,'strain','sample_id'])['Nb'].mean()\n",
    "df_plot = df_plot.reset_index()\n",
    "display(df_plot['x_coord'].unique())\n",
    "#sort\n",
    "li_order = ['NTC|NA','WATER|NA', 'SPF|NA', 'SPF|antibiotic_vancomycin',  'germ_free|donor_BSD2780','germ_free|NA']\n",
    "cat_type = CategoricalDtype(categories=li_order, ordered=True)\n",
    "\n",
    "df_plot['x_coord'] = df_plot['x_coord'].astype(cat_type)\n",
    "df_plot = df_plot.sort_values('x_coord')\n",
    "fig = px.box(df_plot,\n",
    "                 x = 'strain', #pretreatment',\n",
    "                 y = 'Nb',\n",
    "                 color = 'x_coord',\n",
    "                 template = 'simple_white',\n",
    "                 points = 'all',\n",
    "                 #color_discrete_map=strain_color_dict,\n",
    "                 #facet_col = 'mouse_type',\n",
    "                 #facet_row = 'mouse_id',\n",
    "                 log_y = True,\n",
    "                 width = 1000,\n",
    "                 height = 600\n",
    "                 )\n",
    "fig.show()\n",
    "fig.write_image('P4C2T4T5-FP.png', scale = 1)"
   ]
  },
  {
   "cell_type": "code",
   "execution_count": null,
   "id": "64bc7523",
   "metadata": {},
   "outputs": [],
   "source": []
  }
 ],
 "metadata": {
  "kernelspec": {
   "display_name": "pouch",
   "language": "python",
   "name": "python3"
  },
  "language_info": {
   "codemirror_mode": {
    "name": "ipython",
    "version": 3
   },
   "file_extension": ".py",
   "mimetype": "text/x-python",
   "name": "python",
   "nbconvert_exporter": "python",
   "pygments_lexer": "ipython3",
   "version": "3.13.7"
  }
 },
 "nbformat": 4,
 "nbformat_minor": 5
}
