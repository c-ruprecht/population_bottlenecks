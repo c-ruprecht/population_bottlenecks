{
 "cells": [
  {
   "cell_type": "code",
   "execution_count": 2,
   "id": "d954242f",
   "metadata": {},
   "outputs": [],
   "source": [
    "import pandas as pd\n",
    "import os\n",
    "import plotly.express as px\n",
    "from scipy import stats"
   ]
  },
  {
   "cell_type": "markdown",
   "id": "7e74cce2",
   "metadata": {},
   "source": [
    "# Get metadata"
   ]
  },
  {
   "cell_type": "code",
   "execution_count": 3,
   "id": "a3b26b93",
   "metadata": {},
   "outputs": [
    {
     "data": {
      "text/html": [
       "<div>\n",
       "<style scoped>\n",
       "    .dataframe tbody tr th:only-of-type {\n",
       "        vertical-align: middle;\n",
       "    }\n",
       "\n",
       "    .dataframe tbody tr th {\n",
       "        vertical-align: top;\n",
       "    }\n",
       "\n",
       "    .dataframe thead th {\n",
       "        text-align: right;\n",
       "    }\n",
       "</style>\n",
       "<table border=\"1\" class=\"dataframe\">\n",
       "  <thead>\n",
       "    <tr style=\"text-align: right;\">\n",
       "      <th></th>\n",
       "      <th>Unnamed: 0</th>\n",
       "      <th>sample_id</th>\n",
       "      <th>Row</th>\n",
       "      <th>Column</th>\n",
       "      <th>OD620</th>\n",
       "      <th>Sample</th>\n",
       "      <th>Inoculation</th>\n",
       "      <th>Inoculation_2</th>\n",
       "      <th>Inoculation_2_time</th>\n",
       "      <th>CmR</th>\n",
       "      <th>Media</th>\n",
       "    </tr>\n",
       "  </thead>\n",
       "  <tbody>\n",
       "    <tr>\n",
       "      <th>0</th>\n",
       "      <td>0</td>\n",
       "      <td>A1</td>\n",
       "      <td>A</td>\n",
       "      <td>1</td>\n",
       "      <td>0.384</td>\n",
       "      <td>Sample 2</td>\n",
       "      <td>barcodes</td>\n",
       "      <td>NA</td>\n",
       "      <td>0</td>\n",
       "      <td>NA</td>\n",
       "      <td>GAM+</td>\n",
       "    </tr>\n",
       "    <tr>\n",
       "      <th>1</th>\n",
       "      <td>1</td>\n",
       "      <td>A2</td>\n",
       "      <td>A</td>\n",
       "      <td>2</td>\n",
       "      <td>0.363</td>\n",
       "      <td>Sample 10</td>\n",
       "      <td>barcodes</td>\n",
       "      <td>mtc01</td>\n",
       "      <td>3h</td>\n",
       "      <td>NA</td>\n",
       "      <td>GAM+</td>\n",
       "    </tr>\n",
       "    <tr>\n",
       "      <th>2</th>\n",
       "      <td>2</td>\n",
       "      <td>A3</td>\n",
       "      <td>A</td>\n",
       "      <td>3</td>\n",
       "      <td>0.419</td>\n",
       "      <td>Sample 18</td>\n",
       "      <td>barcodes</td>\n",
       "      <td>mtc01</td>\n",
       "      <td>6h</td>\n",
       "      <td>NA</td>\n",
       "      <td>GAM+</td>\n",
       "    </tr>\n",
       "    <tr>\n",
       "      <th>3</th>\n",
       "      <td>3</td>\n",
       "      <td>A4</td>\n",
       "      <td>A</td>\n",
       "      <td>4</td>\n",
       "      <td>0.426</td>\n",
       "      <td>Sample 26</td>\n",
       "      <td>mtc01</td>\n",
       "      <td>NA</td>\n",
       "      <td>0</td>\n",
       "      <td>NA</td>\n",
       "      <td>GAM+</td>\n",
       "    </tr>\n",
       "    <tr>\n",
       "      <th>4</th>\n",
       "      <td>4</td>\n",
       "      <td>A5</td>\n",
       "      <td>A</td>\n",
       "      <td>5</td>\n",
       "      <td>0.424</td>\n",
       "      <td>Sample 34</td>\n",
       "      <td>mtc01</td>\n",
       "      <td>barcodes</td>\n",
       "      <td>3h</td>\n",
       "      <td>NA</td>\n",
       "      <td>GAM+</td>\n",
       "    </tr>\n",
       "    <tr>\n",
       "      <th>...</th>\n",
       "      <td>...</td>\n",
       "      <td>...</td>\n",
       "      <td>...</td>\n",
       "      <td>...</td>\n",
       "      <td>...</td>\n",
       "      <td>...</td>\n",
       "      <td>...</td>\n",
       "      <td>...</td>\n",
       "      <td>...</td>\n",
       "      <td>...</td>\n",
       "      <td>...</td>\n",
       "    </tr>\n",
       "    <tr>\n",
       "      <th>91</th>\n",
       "      <td>91</td>\n",
       "      <td>H8</td>\n",
       "      <td>H</td>\n",
       "      <td>8</td>\n",
       "      <td>0.128</td>\n",
       "      <td>NA</td>\n",
       "      <td>barcodes</td>\n",
       "      <td>mtc01</td>\n",
       "      <td>3h</td>\n",
       "      <td>CmR 20</td>\n",
       "      <td>GAM-</td>\n",
       "    </tr>\n",
       "    <tr>\n",
       "      <th>92</th>\n",
       "      <td>92</td>\n",
       "      <td>H9</td>\n",
       "      <td>H</td>\n",
       "      <td>9</td>\n",
       "      <td>0.134</td>\n",
       "      <td>NA</td>\n",
       "      <td>barcodes</td>\n",
       "      <td>mtc01</td>\n",
       "      <td>6h</td>\n",
       "      <td>CmR 20</td>\n",
       "      <td>GAM-</td>\n",
       "    </tr>\n",
       "    <tr>\n",
       "      <th>93</th>\n",
       "      <td>93</td>\n",
       "      <td>H10</td>\n",
       "      <td>H</td>\n",
       "      <td>10</td>\n",
       "      <td>0.047</td>\n",
       "      <td>NA</td>\n",
       "      <td>mtc01</td>\n",
       "      <td>NA</td>\n",
       "      <td>0</td>\n",
       "      <td>CmR 20</td>\n",
       "      <td>GAM-</td>\n",
       "    </tr>\n",
       "    <tr>\n",
       "      <th>94</th>\n",
       "      <td>94</td>\n",
       "      <td>H11</td>\n",
       "      <td>H</td>\n",
       "      <td>11</td>\n",
       "      <td>0.069</td>\n",
       "      <td>NA</td>\n",
       "      <td>mtc01</td>\n",
       "      <td>barcodes</td>\n",
       "      <td>3h</td>\n",
       "      <td>CmR 20</td>\n",
       "      <td>GAM-</td>\n",
       "    </tr>\n",
       "    <tr>\n",
       "      <th>95</th>\n",
       "      <td>95</td>\n",
       "      <td>H12</td>\n",
       "      <td>H</td>\n",
       "      <td>12</td>\n",
       "      <td>0.047</td>\n",
       "      <td>NA</td>\n",
       "      <td>mtc01</td>\n",
       "      <td>barcodes</td>\n",
       "      <td>6h</td>\n",
       "      <td>CmR 20</td>\n",
       "      <td>GAM-</td>\n",
       "    </tr>\n",
       "  </tbody>\n",
       "</table>\n",
       "<p>96 rows × 11 columns</p>\n",
       "</div>"
      ],
      "text/plain": [
       "    Unnamed: 0 sample_id Row  Column  OD620     Sample Inoculation  \\\n",
       "0            0        A1   A       1  0.384   Sample 2    barcodes   \n",
       "1            1        A2   A       2  0.363  Sample 10    barcodes   \n",
       "2            2        A3   A       3  0.419  Sample 18    barcodes   \n",
       "3            3        A4   A       4  0.426  Sample 26       mtc01   \n",
       "4            4        A5   A       5  0.424  Sample 34       mtc01   \n",
       "..         ...       ...  ..     ...    ...        ...         ...   \n",
       "91          91        H8   H       8  0.128         NA    barcodes   \n",
       "92          92        H9   H       9  0.134         NA    barcodes   \n",
       "93          93       H10   H      10  0.047         NA       mtc01   \n",
       "94          94       H11   H      11  0.069         NA       mtc01   \n",
       "95          95       H12   H      12  0.047         NA       mtc01   \n",
       "\n",
       "   Inoculation_2 Inoculation_2_time     CmR Media  \n",
       "0             NA                  0      NA  GAM+  \n",
       "1          mtc01                 3h      NA  GAM+  \n",
       "2          mtc01                 6h      NA  GAM+  \n",
       "3             NA                  0      NA  GAM+  \n",
       "4       barcodes                 3h      NA  GAM+  \n",
       "..           ...                ...     ...   ...  \n",
       "91         mtc01                 3h  CmR 20  GAM-  \n",
       "92         mtc01                 6h  CmR 20  GAM-  \n",
       "93            NA                  0  CmR 20  GAM-  \n",
       "94      barcodes                 3h  CmR 20  GAM-  \n",
       "95      barcodes                 6h  CmR 20  GAM-  \n",
       "\n",
       "[96 rows x 11 columns]"
      ]
     },
     "execution_count": 3,
     "metadata": {},
     "output_type": "execute_result"
    }
   ],
   "source": [
    "df_meta = pd.read_csv('/Users/ruprec01/Documents/Faith_lab/Git/population_bottlenecks/input_files/metadata/P4C4T1_metadata.tsv',\n",
    "                    sep = \"\\t\")\n",
    "df_meta['Inoculation_2_time'] = df_meta['Inoculation_2_time'].fillna(0)\n",
    "df_meta.fillna('NA', inplace=True)\n",
    "df_meta"
   ]
  },
  {
   "cell_type": "code",
   "execution_count": 4,
   "id": "3d52c082",
   "metadata": {},
   "outputs": [
    {
     "data": {
      "text/html": [
       "<div>\n",
       "<style scoped>\n",
       "    .dataframe tbody tr th:only-of-type {\n",
       "        vertical-align: middle;\n",
       "    }\n",
       "\n",
       "    .dataframe tbody tr th {\n",
       "        vertical-align: top;\n",
       "    }\n",
       "\n",
       "    .dataframe thead th {\n",
       "        text-align: right;\n",
       "    }\n",
       "</style>\n",
       "<table border=\"1\" class=\"dataframe\">\n",
       "  <thead>\n",
       "    <tr style=\"text-align: right;\">\n",
       "      <th></th>\n",
       "      <th>Unnamed: 0</th>\n",
       "      <th>TotalReads</th>\n",
       "      <th>Number of barcodes</th>\n",
       "      <th>Ns_MinCutoff</th>\n",
       "      <th>Nb</th>\n",
       "      <th>Ns</th>\n",
       "      <th>AverageFrequency</th>\n",
       "      <th>CFU</th>\n",
       "      <th>Log10Ns</th>\n",
       "      <th>Log10CFU</th>\n",
       "      <th>CFU/Ns</th>\n",
       "      <th>strain</th>\n",
       "      <th>sample_id</th>\n",
       "    </tr>\n",
       "  </thead>\n",
       "  <tbody>\n",
       "    <tr>\n",
       "      <th>0</th>\n",
       "      <td>P4C4T1_A1</td>\n",
       "      <td>84533752</td>\n",
       "      <td>25627</td>\n",
       "      <td>28307.666667</td>\n",
       "      <td>12049.245399</td>\n",
       "      <td>111381.000000</td>\n",
       "      <td>104777.812112</td>\n",
       "      <td>0</td>\n",
       "      <td>5.046811</td>\n",
       "      <td>-inf</td>\n",
       "      <td>0</td>\n",
       "      <td>ST6</td>\n",
       "      <td>A1</td>\n",
       "    </tr>\n",
       "    <tr>\n",
       "      <th>1</th>\n",
       "      <td>P4C4T1_A10</td>\n",
       "      <td>4691</td>\n",
       "      <td>135</td>\n",
       "      <td>142.250000</td>\n",
       "      <td>109.052495</td>\n",
       "      <td>168.500000</td>\n",
       "      <td>199.039408</td>\n",
       "      <td>0</td>\n",
       "      <td>2.226600</td>\n",
       "      <td>-inf</td>\n",
       "      <td>0</td>\n",
       "      <td>ST6</td>\n",
       "      <td>A10</td>\n",
       "    </tr>\n",
       "    <tr>\n",
       "      <th>2</th>\n",
       "      <td>P4C4T1_A11</td>\n",
       "      <td>7240803</td>\n",
       "      <td>23768</td>\n",
       "      <td>29361.000000</td>\n",
       "      <td>11576.483769</td>\n",
       "      <td>89201.000000</td>\n",
       "      <td>74559.708068</td>\n",
       "      <td>0</td>\n",
       "      <td>4.950370</td>\n",
       "      <td>-inf</td>\n",
       "      <td>0</td>\n",
       "      <td>ST6</td>\n",
       "      <td>A11</td>\n",
       "    </tr>\n",
       "    <tr>\n",
       "      <th>3</th>\n",
       "      <td>P4C4T1_A12</td>\n",
       "      <td>714111</td>\n",
       "      <td>13747</td>\n",
       "      <td>11253.000000</td>\n",
       "      <td>3562.633152</td>\n",
       "      <td>28601.000000</td>\n",
       "      <td>48420.119285</td>\n",
       "      <td>0</td>\n",
       "      <td>4.456381</td>\n",
       "      <td>-inf</td>\n",
       "      <td>0</td>\n",
       "      <td>ST6</td>\n",
       "      <td>A12</td>\n",
       "    </tr>\n",
       "    <tr>\n",
       "      <th>4</th>\n",
       "      <td>P4C4T1_A2</td>\n",
       "      <td>87743563</td>\n",
       "      <td>27317</td>\n",
       "      <td>31941.000000</td>\n",
       "      <td>10147.064555</td>\n",
       "      <td>137162.000000</td>\n",
       "      <td>112227.845370</td>\n",
       "      <td>0</td>\n",
       "      <td>5.137234</td>\n",
       "      <td>-inf</td>\n",
       "      <td>0</td>\n",
       "      <td>ST6</td>\n",
       "      <td>A2</td>\n",
       "    </tr>\n",
       "    <tr>\n",
       "      <th>...</th>\n",
       "      <td>...</td>\n",
       "      <td>...</td>\n",
       "      <td>...</td>\n",
       "      <td>...</td>\n",
       "      <td>...</td>\n",
       "      <td>...</td>\n",
       "      <td>...</td>\n",
       "      <td>...</td>\n",
       "      <td>...</td>\n",
       "      <td>...</td>\n",
       "      <td>...</td>\n",
       "      <td>...</td>\n",
       "      <td>...</td>\n",
       "    </tr>\n",
       "    <tr>\n",
       "      <th>91</th>\n",
       "      <td>P4C4T1_H5</td>\n",
       "      <td>11900</td>\n",
       "      <td>210</td>\n",
       "      <td>41.000000</td>\n",
       "      <td>12.162530</td>\n",
       "      <td>463.857143</td>\n",
       "      <td>219.093725</td>\n",
       "      <td>0</td>\n",
       "      <td>2.666384</td>\n",
       "      <td>-inf</td>\n",
       "      <td>0</td>\n",
       "      <td>ST1</td>\n",
       "      <td>H5</td>\n",
       "    </tr>\n",
       "    <tr>\n",
       "      <th>92</th>\n",
       "      <td>P4C4T1_H6</td>\n",
       "      <td>10426</td>\n",
       "      <td>217</td>\n",
       "      <td>31.909091</td>\n",
       "      <td>12.924276</td>\n",
       "      <td>491.000000</td>\n",
       "      <td>226.602892</td>\n",
       "      <td>0</td>\n",
       "      <td>2.691081</td>\n",
       "      <td>-inf</td>\n",
       "      <td>0</td>\n",
       "      <td>ST1</td>\n",
       "      <td>H6</td>\n",
       "    </tr>\n",
       "    <tr>\n",
       "      <th>93</th>\n",
       "      <td>P4C4T1_H7</td>\n",
       "      <td>1921</td>\n",
       "      <td>116</td>\n",
       "      <td>68.272727</td>\n",
       "      <td>1.871906</td>\n",
       "      <td>213.500000</td>\n",
       "      <td>224.604189</td>\n",
       "      <td>0</td>\n",
       "      <td>2.329398</td>\n",
       "      <td>-inf</td>\n",
       "      <td>0</td>\n",
       "      <td>ST1</td>\n",
       "      <td>H7</td>\n",
       "    </tr>\n",
       "    <tr>\n",
       "      <th>94</th>\n",
       "      <td>P4C4T1_H8</td>\n",
       "      <td>49183</td>\n",
       "      <td>767</td>\n",
       "      <td>678.142857</td>\n",
       "      <td>51.891740</td>\n",
       "      <td>2444.333333</td>\n",
       "      <td>904.892362</td>\n",
       "      <td>0</td>\n",
       "      <td>3.388160</td>\n",
       "      <td>-inf</td>\n",
       "      <td>0</td>\n",
       "      <td>ST1</td>\n",
       "      <td>H8</td>\n",
       "    </tr>\n",
       "    <tr>\n",
       "      <th>95</th>\n",
       "      <td>P4C4T1_H9</td>\n",
       "      <td>24611</td>\n",
       "      <td>656</td>\n",
       "      <td>492.428571</td>\n",
       "      <td>42.977652</td>\n",
       "      <td>2003.857143</td>\n",
       "      <td>767.927166</td>\n",
       "      <td>0</td>\n",
       "      <td>3.301867</td>\n",
       "      <td>-inf</td>\n",
       "      <td>0</td>\n",
       "      <td>ST1</td>\n",
       "      <td>H9</td>\n",
       "    </tr>\n",
       "  </tbody>\n",
       "</table>\n",
       "<p>480 rows × 13 columns</p>\n",
       "</div>"
      ],
      "text/plain": [
       "    Unnamed: 0  TotalReads  Number of barcodes  Ns_MinCutoff            Nb  \\\n",
       "0    P4C4T1_A1    84533752               25627  28307.666667  12049.245399   \n",
       "1   P4C4T1_A10        4691                 135    142.250000    109.052495   \n",
       "2   P4C4T1_A11     7240803               23768  29361.000000  11576.483769   \n",
       "3   P4C4T1_A12      714111               13747  11253.000000   3562.633152   \n",
       "4    P4C4T1_A2    87743563               27317  31941.000000  10147.064555   \n",
       "..         ...         ...                 ...           ...           ...   \n",
       "91   P4C4T1_H5       11900                 210     41.000000     12.162530   \n",
       "92   P4C4T1_H6       10426                 217     31.909091     12.924276   \n",
       "93   P4C4T1_H7        1921                 116     68.272727      1.871906   \n",
       "94   P4C4T1_H8       49183                 767    678.142857     51.891740   \n",
       "95   P4C4T1_H9       24611                 656    492.428571     42.977652   \n",
       "\n",
       "               Ns  AverageFrequency  CFU   Log10Ns  Log10CFU  CFU/Ns strain  \\\n",
       "0   111381.000000     104777.812112    0  5.046811      -inf       0    ST6   \n",
       "1      168.500000        199.039408    0  2.226600      -inf       0    ST6   \n",
       "2    89201.000000      74559.708068    0  4.950370      -inf       0    ST6   \n",
       "3    28601.000000      48420.119285    0  4.456381      -inf       0    ST6   \n",
       "4   137162.000000     112227.845370    0  5.137234      -inf       0    ST6   \n",
       "..            ...               ...  ...       ...       ...     ...    ...   \n",
       "91     463.857143        219.093725    0  2.666384      -inf       0    ST1   \n",
       "92     491.000000        226.602892    0  2.691081      -inf       0    ST1   \n",
       "93     213.500000        224.604189    0  2.329398      -inf       0    ST1   \n",
       "94    2444.333333        904.892362    0  3.388160      -inf       0    ST1   \n",
       "95    2003.857143        767.927166    0  3.301867      -inf       0    ST1   \n",
       "\n",
       "   sample_id  \n",
       "0         A1  \n",
       "1        A10  \n",
       "2        A11  \n",
       "3        A12  \n",
       "4         A2  \n",
       "..       ...  \n",
       "91        H5  \n",
       "92        H6  \n",
       "93        H7  \n",
       "94        H8  \n",
       "95        H9  \n",
       "\n",
       "[480 rows x 13 columns]"
      ]
     },
     "execution_count": 4,
     "metadata": {},
     "output_type": "execute_result"
    }
   ],
   "source": [
    "basepath = '/Volumes/sd/faith/MTCSB/projects/P4-barcoding_strains/r2_data/P4C4T1/FP'\n",
    "\n",
    "# Get all CSV files in the directory\n",
    "df_fp = pd.DataFrame()\n",
    "for  dirpath, dirnames, filenames in os.walk(basepath):\n",
    "    for dir in dirnames:\n",
    "        df = pd.read_csv(basepath+\"/\"+dir+\"/TableOfEstimates.csv\")\n",
    "        df['strain'] = dir\n",
    "        df_fp =pd.concat([ df, df_fp])\n",
    "df_fp['sample_id'] = df_fp['Unnamed: 0'].apply(lambda x: str(x).split(\"_\")[1])\n",
    "df_fp"
   ]
  },
  {
   "cell_type": "code",
   "execution_count": 5,
   "id": "6d443ac6",
   "metadata": {},
   "outputs": [
    {
     "data": {
      "text/html": [
       "<div>\n",
       "<style scoped>\n",
       "    .dataframe tbody tr th:only-of-type {\n",
       "        vertical-align: middle;\n",
       "    }\n",
       "\n",
       "    .dataframe tbody tr th {\n",
       "        vertical-align: top;\n",
       "    }\n",
       "\n",
       "    .dataframe thead th {\n",
       "        text-align: right;\n",
       "    }\n",
       "</style>\n",
       "<table border=\"1\" class=\"dataframe\">\n",
       "  <thead>\n",
       "    <tr style=\"text-align: right;\">\n",
       "      <th></th>\n",
       "      <th>Unnamed: 0_x</th>\n",
       "      <th>sample_id</th>\n",
       "      <th>Row</th>\n",
       "      <th>Column</th>\n",
       "      <th>OD620</th>\n",
       "      <th>Sample</th>\n",
       "      <th>Inoculation</th>\n",
       "      <th>Inoculation_2</th>\n",
       "      <th>Inoculation_2_time</th>\n",
       "      <th>CmR</th>\n",
       "      <th>...</th>\n",
       "      <th>Number of barcodes</th>\n",
       "      <th>Ns_MinCutoff</th>\n",
       "      <th>Nb</th>\n",
       "      <th>Ns</th>\n",
       "      <th>AverageFrequency</th>\n",
       "      <th>CFU</th>\n",
       "      <th>Log10Ns</th>\n",
       "      <th>Log10CFU</th>\n",
       "      <th>CFU/Ns</th>\n",
       "      <th>strain</th>\n",
       "    </tr>\n",
       "  </thead>\n",
       "  <tbody>\n",
       "    <tr>\n",
       "      <th>0</th>\n",
       "      <td>0</td>\n",
       "      <td>A1</td>\n",
       "      <td>A</td>\n",
       "      <td>1</td>\n",
       "      <td>0.384</td>\n",
       "      <td>Sample 2</td>\n",
       "      <td>barcodes</td>\n",
       "      <td>NA</td>\n",
       "      <td>0</td>\n",
       "      <td>NA</td>\n",
       "      <td>...</td>\n",
       "      <td>25627</td>\n",
       "      <td>28307.666667</td>\n",
       "      <td>12049.245399</td>\n",
       "      <td>1.113810e+05</td>\n",
       "      <td>104777.812112</td>\n",
       "      <td>0</td>\n",
       "      <td>5.046811</td>\n",
       "      <td>-inf</td>\n",
       "      <td>0</td>\n",
       "      <td>ST6</td>\n",
       "    </tr>\n",
       "    <tr>\n",
       "      <th>1</th>\n",
       "      <td>0</td>\n",
       "      <td>A1</td>\n",
       "      <td>A</td>\n",
       "      <td>1</td>\n",
       "      <td>0.384</td>\n",
       "      <td>Sample 2</td>\n",
       "      <td>barcodes</td>\n",
       "      <td>NA</td>\n",
       "      <td>0</td>\n",
       "      <td>NA</td>\n",
       "      <td>...</td>\n",
       "      <td>17916</td>\n",
       "      <td>26181.000000</td>\n",
       "      <td>91805.184223</td>\n",
       "      <td>4.836420e+05</td>\n",
       "      <td>73935.074090</td>\n",
       "      <td>0</td>\n",
       "      <td>5.684524</td>\n",
       "      <td>-inf</td>\n",
       "      <td>0</td>\n",
       "      <td>ST5</td>\n",
       "    </tr>\n",
       "    <tr>\n",
       "      <th>2</th>\n",
       "      <td>0</td>\n",
       "      <td>A1</td>\n",
       "      <td>A</td>\n",
       "      <td>1</td>\n",
       "      <td>0.384</td>\n",
       "      <td>Sample 2</td>\n",
       "      <td>barcodes</td>\n",
       "      <td>NA</td>\n",
       "      <td>0</td>\n",
       "      <td>NA</td>\n",
       "      <td>...</td>\n",
       "      <td>43475</td>\n",
       "      <td>60771.000000</td>\n",
       "      <td>64574.126981</td>\n",
       "      <td>2.375573e+06</td>\n",
       "      <td>620034.197037</td>\n",
       "      <td>0</td>\n",
       "      <td>6.375768</td>\n",
       "      <td>-inf</td>\n",
       "      <td>0</td>\n",
       "      <td>ST4</td>\n",
       "    </tr>\n",
       "    <tr>\n",
       "      <th>3</th>\n",
       "      <td>0</td>\n",
       "      <td>A1</td>\n",
       "      <td>A</td>\n",
       "      <td>1</td>\n",
       "      <td>0.384</td>\n",
       "      <td>Sample 2</td>\n",
       "      <td>barcodes</td>\n",
       "      <td>NA</td>\n",
       "      <td>0</td>\n",
       "      <td>NA</td>\n",
       "      <td>...</td>\n",
       "      <td>3</td>\n",
       "      <td>3.857143</td>\n",
       "      <td>0.162719</td>\n",
       "      <td>3.857143e+00</td>\n",
       "      <td>4.468711</td>\n",
       "      <td>0</td>\n",
       "      <td>0.586266</td>\n",
       "      <td>-inf</td>\n",
       "      <td>0</td>\n",
       "      <td>ST2</td>\n",
       "    </tr>\n",
       "    <tr>\n",
       "      <th>4</th>\n",
       "      <td>0</td>\n",
       "      <td>A1</td>\n",
       "      <td>A</td>\n",
       "      <td>1</td>\n",
       "      <td>0.384</td>\n",
       "      <td>Sample 2</td>\n",
       "      <td>barcodes</td>\n",
       "      <td>NA</td>\n",
       "      <td>0</td>\n",
       "      <td>NA</td>\n",
       "      <td>...</td>\n",
       "      <td>8161</td>\n",
       "      <td>62703.000000</td>\n",
       "      <td>442.376749</td>\n",
       "      <td>1.032450e+05</td>\n",
       "      <td>12066.330572</td>\n",
       "      <td>0</td>\n",
       "      <td>5.013869</td>\n",
       "      <td>-inf</td>\n",
       "      <td>0</td>\n",
       "      <td>ST1</td>\n",
       "    </tr>\n",
       "    <tr>\n",
       "      <th>...</th>\n",
       "      <td>...</td>\n",
       "      <td>...</td>\n",
       "      <td>...</td>\n",
       "      <td>...</td>\n",
       "      <td>...</td>\n",
       "      <td>...</td>\n",
       "      <td>...</td>\n",
       "      <td>...</td>\n",
       "      <td>...</td>\n",
       "      <td>...</td>\n",
       "      <td>...</td>\n",
       "      <td>...</td>\n",
       "      <td>...</td>\n",
       "      <td>...</td>\n",
       "      <td>...</td>\n",
       "      <td>...</td>\n",
       "      <td>...</td>\n",
       "      <td>...</td>\n",
       "      <td>...</td>\n",
       "      <td>...</td>\n",
       "      <td>...</td>\n",
       "    </tr>\n",
       "    <tr>\n",
       "      <th>475</th>\n",
       "      <td>95</td>\n",
       "      <td>H12</td>\n",
       "      <td>H</td>\n",
       "      <td>12</td>\n",
       "      <td>0.047</td>\n",
       "      <td>NA</td>\n",
       "      <td>mtc01</td>\n",
       "      <td>barcodes</td>\n",
       "      <td>6h</td>\n",
       "      <td>CmR 20</td>\n",
       "      <td>...</td>\n",
       "      <td>13623</td>\n",
       "      <td>13827.000000</td>\n",
       "      <td>4417.522281</td>\n",
       "      <td>2.775767e+04</td>\n",
       "      <td>35488.753241</td>\n",
       "      <td>0</td>\n",
       "      <td>4.443383</td>\n",
       "      <td>-inf</td>\n",
       "      <td>0</td>\n",
       "      <td>ST6</td>\n",
       "    </tr>\n",
       "    <tr>\n",
       "      <th>476</th>\n",
       "      <td>95</td>\n",
       "      <td>H12</td>\n",
       "      <td>H</td>\n",
       "      <td>12</td>\n",
       "      <td>0.047</td>\n",
       "      <td>NA</td>\n",
       "      <td>mtc01</td>\n",
       "      <td>barcodes</td>\n",
       "      <td>6h</td>\n",
       "      <td>CmR 20</td>\n",
       "      <td>...</td>\n",
       "      <td>12763</td>\n",
       "      <td>8146.000000</td>\n",
       "      <td>40677.965112</td>\n",
       "      <td>1.524010e+05</td>\n",
       "      <td>75591.345961</td>\n",
       "      <td>0</td>\n",
       "      <td>5.182988</td>\n",
       "      <td>-inf</td>\n",
       "      <td>0</td>\n",
       "      <td>ST5</td>\n",
       "    </tr>\n",
       "    <tr>\n",
       "      <th>477</th>\n",
       "      <td>95</td>\n",
       "      <td>H12</td>\n",
       "      <td>H</td>\n",
       "      <td>12</td>\n",
       "      <td>0.047</td>\n",
       "      <td>NA</td>\n",
       "      <td>mtc01</td>\n",
       "      <td>barcodes</td>\n",
       "      <td>6h</td>\n",
       "      <td>CmR 20</td>\n",
       "      <td>...</td>\n",
       "      <td>45977</td>\n",
       "      <td>64621.000000</td>\n",
       "      <td>60194.921676</td>\n",
       "      <td>2.820856e+06</td>\n",
       "      <td>703903.331891</td>\n",
       "      <td>0</td>\n",
       "      <td>6.450381</td>\n",
       "      <td>-inf</td>\n",
       "      <td>0</td>\n",
       "      <td>ST4</td>\n",
       "    </tr>\n",
       "    <tr>\n",
       "      <th>478</th>\n",
       "      <td>95</td>\n",
       "      <td>H12</td>\n",
       "      <td>H</td>\n",
       "      <td>12</td>\n",
       "      <td>0.047</td>\n",
       "      <td>NA</td>\n",
       "      <td>mtc01</td>\n",
       "      <td>barcodes</td>\n",
       "      <td>6h</td>\n",
       "      <td>CmR 20</td>\n",
       "      <td>...</td>\n",
       "      <td>4</td>\n",
       "      <td>6.000000</td>\n",
       "      <td>0.071070</td>\n",
       "      <td>6.000000e+00</td>\n",
       "      <td>8.010290</td>\n",
       "      <td>0</td>\n",
       "      <td>0.778151</td>\n",
       "      <td>-inf</td>\n",
       "      <td>0</td>\n",
       "      <td>ST2</td>\n",
       "    </tr>\n",
       "    <tr>\n",
       "      <th>479</th>\n",
       "      <td>95</td>\n",
       "      <td>H12</td>\n",
       "      <td>H</td>\n",
       "      <td>12</td>\n",
       "      <td>0.047</td>\n",
       "      <td>NA</td>\n",
       "      <td>mtc01</td>\n",
       "      <td>barcodes</td>\n",
       "      <td>6h</td>\n",
       "      <td>CmR 20</td>\n",
       "      <td>...</td>\n",
       "      <td>448</td>\n",
       "      <td>117.363636</td>\n",
       "      <td>4.250172</td>\n",
       "      <td>1.397000e+03</td>\n",
       "      <td>903.672179</td>\n",
       "      <td>0</td>\n",
       "      <td>3.145196</td>\n",
       "      <td>-inf</td>\n",
       "      <td>0</td>\n",
       "      <td>ST1</td>\n",
       "    </tr>\n",
       "  </tbody>\n",
       "</table>\n",
       "<p>480 rows × 23 columns</p>\n",
       "</div>"
      ],
      "text/plain": [
       "     Unnamed: 0_x sample_id Row  Column  OD620    Sample Inoculation  \\\n",
       "0               0        A1   A       1  0.384  Sample 2    barcodes   \n",
       "1               0        A1   A       1  0.384  Sample 2    barcodes   \n",
       "2               0        A1   A       1  0.384  Sample 2    barcodes   \n",
       "3               0        A1   A       1  0.384  Sample 2    barcodes   \n",
       "4               0        A1   A       1  0.384  Sample 2    barcodes   \n",
       "..            ...       ...  ..     ...    ...       ...         ...   \n",
       "475            95       H12   H      12  0.047        NA       mtc01   \n",
       "476            95       H12   H      12  0.047        NA       mtc01   \n",
       "477            95       H12   H      12  0.047        NA       mtc01   \n",
       "478            95       H12   H      12  0.047        NA       mtc01   \n",
       "479            95       H12   H      12  0.047        NA       mtc01   \n",
       "\n",
       "    Inoculation_2 Inoculation_2_time     CmR  ... Number of barcodes  \\\n",
       "0              NA                  0      NA  ...              25627   \n",
       "1              NA                  0      NA  ...              17916   \n",
       "2              NA                  0      NA  ...              43475   \n",
       "3              NA                  0      NA  ...                  3   \n",
       "4              NA                  0      NA  ...               8161   \n",
       "..            ...                ...     ...  ...                ...   \n",
       "475      barcodes                 6h  CmR 20  ...              13623   \n",
       "476      barcodes                 6h  CmR 20  ...              12763   \n",
       "477      barcodes                 6h  CmR 20  ...              45977   \n",
       "478      barcodes                 6h  CmR 20  ...                  4   \n",
       "479      barcodes                 6h  CmR 20  ...                448   \n",
       "\n",
       "     Ns_MinCutoff            Nb            Ns  AverageFrequency  CFU  \\\n",
       "0    28307.666667  12049.245399  1.113810e+05     104777.812112    0   \n",
       "1    26181.000000  91805.184223  4.836420e+05      73935.074090    0   \n",
       "2    60771.000000  64574.126981  2.375573e+06     620034.197037    0   \n",
       "3        3.857143      0.162719  3.857143e+00          4.468711    0   \n",
       "4    62703.000000    442.376749  1.032450e+05      12066.330572    0   \n",
       "..            ...           ...           ...               ...  ...   \n",
       "475  13827.000000   4417.522281  2.775767e+04      35488.753241    0   \n",
       "476   8146.000000  40677.965112  1.524010e+05      75591.345961    0   \n",
       "477  64621.000000  60194.921676  2.820856e+06     703903.331891    0   \n",
       "478      6.000000      0.071070  6.000000e+00          8.010290    0   \n",
       "479    117.363636      4.250172  1.397000e+03        903.672179    0   \n",
       "\n",
       "      Log10Ns  Log10CFU  CFU/Ns  strain  \n",
       "0    5.046811      -inf       0     ST6  \n",
       "1    5.684524      -inf       0     ST5  \n",
       "2    6.375768      -inf       0     ST4  \n",
       "3    0.586266      -inf       0     ST2  \n",
       "4    5.013869      -inf       0     ST1  \n",
       "..        ...       ...     ...     ...  \n",
       "475  4.443383      -inf       0     ST6  \n",
       "476  5.182988      -inf       0     ST5  \n",
       "477  6.450381      -inf       0     ST4  \n",
       "478  0.778151      -inf       0     ST2  \n",
       "479  3.145196      -inf       0     ST1  \n",
       "\n",
       "[480 rows x 23 columns]"
      ]
     },
     "execution_count": 5,
     "metadata": {},
     "output_type": "execute_result"
    }
   ],
   "source": [
    "df_merge = pd.merge(df_meta, df_fp, on = 'sample_id', how = 'left')\n",
    "df_merge"
   ]
  },
  {
   "cell_type": "code",
   "execution_count": 6,
   "id": "44788099",
   "metadata": {},
   "outputs": [
    {
     "data": {
      "application/vnd.plotly.v1+json": {
       "config": {
        "plotlyServerURL": "https://plotly.com"
       },
       "data": [
        {
         "alignmentgroup": "True",
         "boxpoints": "all",
         "hovertemplate": "CmR=NA<br>Media=GAM+<br>Inoculation_2_time=%{x}<br>OD620=%{y}<extra></extra>",
         "legendgroup": "",
         "marker": {
          "color": "#1F77B4"
         },
         "name": "",
         "notched": false,
         "offsetgroup": "",
         "orientation": "v",
         "showlegend": false,
         "type": "box",
         "x": [
          0,
          "3h",
          "6h",
          0,
          "3h",
          "6h",
          0,
          "3h",
          "6h",
          0,
          "3h",
          "6h",
          0,
          "3h",
          "6h",
          0,
          "3h",
          "6h",
          0,
          "3h",
          "6h",
          0,
          "3h",
          "6h"
         ],
         "x0": " ",
         "xaxis": "x3",
         "y": {
          "bdata": "+n5qvHST2D8IrBxaZDvXPzeJQWDl0No/3SQGgZVD2z+JQWDl0CLbP30/NV66Sdw/bxKDwMqh1T/D9Shcj8LVPxsv3SQGgdU/rkfhehSu3z9YObTIdr7XP65H4XoUrtc/eekmMQis1D8j2/l+arzUP3Noke18P9U/aJHtfD813j+28/3UeOnWP+f7qfHSTdo/nMQgsHJo0T8hsHJoke3UP39qvHSTGNQ/MQisHFpk2z/LoUW28/3UP5zEILByaNk/",
          "dtype": "f8"
         },
         "y0": " ",
         "yaxis": "y3"
        },
        {
         "alignmentgroup": "True",
         "boxpoints": "all",
         "hovertemplate": "CmR=NA<br>Media=GAM-<br>Inoculation_2_time=%{x}<br>OD620=%{y}<extra></extra>",
         "legendgroup": "",
         "marker": {
          "color": "#1F77B4"
         },
         "name": "",
         "notched": false,
         "offsetgroup": "",
         "orientation": "v",
         "showlegend": false,
         "type": "box",
         "x": [
          0,
          "3h",
          "6h",
          0,
          "3h",
          "6h",
          0,
          "3h",
          "6h",
          0,
          "3h",
          "6h",
          0,
          "3h",
          "6h",
          0,
          "3h",
          "6h",
          0,
          "3h",
          "6h",
          0,
          "3h",
          "6h"
         ],
         "x0": " ",
         "xaxis": "x4",
         "y": {
          "bdata": "YOXQItv51j+wcmiR7XzXP2iR7Xw/NdY/YhBYObTI1j/n+6nx0k3aPy/dJAaBlds/XrpJDAIr1z/wp8ZLN4nZP1YOLbKd79c/9P3UeOkm5T9U46WbxCDgP0w3iUFg5eA/tvP91Hjp1j+oxks3iUHYPxKDwMqhRdY/I9v5fmq83D/2KFyPwvXYP5qZmZmZmdk/vp8aL90k1j9eukkMAivXPxkEVg4tstU/1XjpJjEI6D/8qfHSTWLgP5HtfD81Xto/",
          "dtype": "f8"
         },
         "y0": " ",
         "yaxis": "y4"
        },
        {
         "alignmentgroup": "True",
         "boxpoints": "all",
         "hovertemplate": "CmR=CmR 20<br>Media=GAM+<br>Inoculation_2_time=%{x}<br>OD620=%{y}<extra></extra>",
         "legendgroup": "",
         "marker": {
          "color": "#1F77B4"
         },
         "name": "",
         "notched": false,
         "offsetgroup": "",
         "orientation": "v",
         "showlegend": false,
         "type": "box",
         "x": [
          0,
          "3h",
          "6h",
          0,
          "3h",
          "6h",
          0,
          "3h",
          "6h",
          0,
          "3h",
          "6h",
          0,
          "3h",
          "6h",
          0,
          "3h",
          "6h",
          0,
          "3h",
          "6h",
          0,
          "3h",
          "6h"
         ],
         "x0": " ",
         "xaxis": "x",
         "y": {
          "bdata": "KVyPwvUo4D8OLbKd76fePyGwcmiR7dw/GQRWDi2yrT9CYOXQItvZP9V46SYxCMw/w/UoXI/C3T/TTWIQWDncP4XrUbgehds/CKwcWmQ7rz/6fmq8dJPYP3npJjEIrMw/H4XrUbge3T8UrkfhehTePxkEVg4tst0/yXa+nxovrT+cxCCwcmjZPylcj8L1KMw/F9nO91Pj3T8rhxbZzvfbP8l2vp8aL90/eekmMQisrD+TGARWDi3aP7x0kxgEVs4/",
          "dtype": "f8"
         },
         "y0": " ",
         "yaxis": "y"
        },
        {
         "alignmentgroup": "True",
         "boxpoints": "all",
         "hovertemplate": "CmR=CmR 20<br>Media=GAM-<br>Inoculation_2_time=%{x}<br>OD620=%{y}<extra></extra>",
         "legendgroup": "",
         "marker": {
          "color": "#1F77B4"
         },
         "name": "",
         "notched": false,
         "offsetgroup": "",
         "orientation": "v",
         "showlegend": false,
         "type": "box",
         "x": [
          0,
          "3h",
          "6h",
          0,
          "3h",
          "6h",
          0,
          "3h",
          "6h",
          0,
          "3h",
          "6h",
          0,
          "3h",
          "6h",
          0,
          "3h",
          "6h",
          0,
          "3h",
          "6h",
          0,
          "3h",
          "6h"
         ],
         "x0": " ",
         "xaxis": "x2",
         "y": {
          "bdata": "GQRWDi2yrT+wcmiR7Xy/PyPb+X5qvMQ/qvHSTWIQqD+LbOf7qfGyP+kmMQisHKo/ObTIdr6fqj9QjZduEoPAP0SLbOf7qcE/WmQ730+Npz8zMzMzMzOzP0oMAiuHFqk/2c73U+Olqz/4U+Olm8TAP6RwPQrXo8A/qvHSTWIQqD8rhxbZzvezP9nO91Pjpas/6SYxCKwcqj/8qfHSTWLAP/T91HjpJsE/qvHSTWIQqD9Ei2zn+6mxP6rx0k1iEKg/",
          "dtype": "f8"
         },
         "y0": " ",
         "yaxis": "y2"
        }
       ],
       "layout": {
        "annotations": [
         {
          "font": {},
          "showarrow": false,
          "text": "Media=GAM+",
          "x": 0.24,
          "xanchor": "center",
          "xref": "paper",
          "y": 1,
          "yanchor": "bottom",
          "yref": "paper"
         },
         {
          "font": {},
          "showarrow": false,
          "text": "Media=GAM-",
          "x": 0.74,
          "xanchor": "center",
          "xref": "paper",
          "y": 1,
          "yanchor": "bottom",
          "yref": "paper"
         },
         {
          "font": {},
          "showarrow": false,
          "text": "CmR=CmR 20",
          "textangle": 90,
          "x": 0.98,
          "xanchor": "left",
          "xref": "paper",
          "y": 0.2425,
          "yanchor": "middle",
          "yref": "paper"
         },
         {
          "font": {},
          "showarrow": false,
          "text": "CmR=NA",
          "textangle": 90,
          "x": 0.98,
          "xanchor": "left",
          "xref": "paper",
          "y": 0.7575000000000001,
          "yanchor": "middle",
          "yref": "paper"
         }
        ],
        "boxmode": "group",
        "legend": {
         "tracegroupgap": 0
        },
        "margin": {
         "t": 60
        },
        "template": {
         "data": {
          "bar": [
           {
            "error_x": {
             "color": "rgb(36,36,36)"
            },
            "error_y": {
             "color": "rgb(36,36,36)"
            },
            "marker": {
             "line": {
              "color": "white",
              "width": 0.5
             },
             "pattern": {
              "fillmode": "overlay",
              "size": 10,
              "solidity": 0.2
             }
            },
            "type": "bar"
           }
          ],
          "barpolar": [
           {
            "marker": {
             "line": {
              "color": "white",
              "width": 0.5
             },
             "pattern": {
              "fillmode": "overlay",
              "size": 10,
              "solidity": 0.2
             }
            },
            "type": "barpolar"
           }
          ],
          "carpet": [
           {
            "aaxis": {
             "endlinecolor": "rgb(36,36,36)",
             "gridcolor": "white",
             "linecolor": "white",
             "minorgridcolor": "white",
             "startlinecolor": "rgb(36,36,36)"
            },
            "baxis": {
             "endlinecolor": "rgb(36,36,36)",
             "gridcolor": "white",
             "linecolor": "white",
             "minorgridcolor": "white",
             "startlinecolor": "rgb(36,36,36)"
            },
            "type": "carpet"
           }
          ],
          "choropleth": [
           {
            "colorbar": {
             "outlinewidth": 1,
             "tickcolor": "rgb(36,36,36)",
             "ticks": "outside"
            },
            "type": "choropleth"
           }
          ],
          "contour": [
           {
            "colorbar": {
             "outlinewidth": 1,
             "tickcolor": "rgb(36,36,36)",
             "ticks": "outside"
            },
            "colorscale": [
             [
              0,
              "#440154"
             ],
             [
              0.1111111111111111,
              "#482878"
             ],
             [
              0.2222222222222222,
              "#3e4989"
             ],
             [
              0.3333333333333333,
              "#31688e"
             ],
             [
              0.4444444444444444,
              "#26828e"
             ],
             [
              0.5555555555555556,
              "#1f9e89"
             ],
             [
              0.6666666666666666,
              "#35b779"
             ],
             [
              0.7777777777777778,
              "#6ece58"
             ],
             [
              0.8888888888888888,
              "#b5de2b"
             ],
             [
              1,
              "#fde725"
             ]
            ],
            "type": "contour"
           }
          ],
          "contourcarpet": [
           {
            "colorbar": {
             "outlinewidth": 1,
             "tickcolor": "rgb(36,36,36)",
             "ticks": "outside"
            },
            "type": "contourcarpet"
           }
          ],
          "heatmap": [
           {
            "colorbar": {
             "outlinewidth": 1,
             "tickcolor": "rgb(36,36,36)",
             "ticks": "outside"
            },
            "colorscale": [
             [
              0,
              "#440154"
             ],
             [
              0.1111111111111111,
              "#482878"
             ],
             [
              0.2222222222222222,
              "#3e4989"
             ],
             [
              0.3333333333333333,
              "#31688e"
             ],
             [
              0.4444444444444444,
              "#26828e"
             ],
             [
              0.5555555555555556,
              "#1f9e89"
             ],
             [
              0.6666666666666666,
              "#35b779"
             ],
             [
              0.7777777777777778,
              "#6ece58"
             ],
             [
              0.8888888888888888,
              "#b5de2b"
             ],
             [
              1,
              "#fde725"
             ]
            ],
            "type": "heatmap"
           }
          ],
          "histogram": [
           {
            "marker": {
             "line": {
              "color": "white",
              "width": 0.6
             }
            },
            "type": "histogram"
           }
          ],
          "histogram2d": [
           {
            "colorbar": {
             "outlinewidth": 1,
             "tickcolor": "rgb(36,36,36)",
             "ticks": "outside"
            },
            "colorscale": [
             [
              0,
              "#440154"
             ],
             [
              0.1111111111111111,
              "#482878"
             ],
             [
              0.2222222222222222,
              "#3e4989"
             ],
             [
              0.3333333333333333,
              "#31688e"
             ],
             [
              0.4444444444444444,
              "#26828e"
             ],
             [
              0.5555555555555556,
              "#1f9e89"
             ],
             [
              0.6666666666666666,
              "#35b779"
             ],
             [
              0.7777777777777778,
              "#6ece58"
             ],
             [
              0.8888888888888888,
              "#b5de2b"
             ],
             [
              1,
              "#fde725"
             ]
            ],
            "type": "histogram2d"
           }
          ],
          "histogram2dcontour": [
           {
            "colorbar": {
             "outlinewidth": 1,
             "tickcolor": "rgb(36,36,36)",
             "ticks": "outside"
            },
            "colorscale": [
             [
              0,
              "#440154"
             ],
             [
              0.1111111111111111,
              "#482878"
             ],
             [
              0.2222222222222222,
              "#3e4989"
             ],
             [
              0.3333333333333333,
              "#31688e"
             ],
             [
              0.4444444444444444,
              "#26828e"
             ],
             [
              0.5555555555555556,
              "#1f9e89"
             ],
             [
              0.6666666666666666,
              "#35b779"
             ],
             [
              0.7777777777777778,
              "#6ece58"
             ],
             [
              0.8888888888888888,
              "#b5de2b"
             ],
             [
              1,
              "#fde725"
             ]
            ],
            "type": "histogram2dcontour"
           }
          ],
          "mesh3d": [
           {
            "colorbar": {
             "outlinewidth": 1,
             "tickcolor": "rgb(36,36,36)",
             "ticks": "outside"
            },
            "type": "mesh3d"
           }
          ],
          "parcoords": [
           {
            "line": {
             "colorbar": {
              "outlinewidth": 1,
              "tickcolor": "rgb(36,36,36)",
              "ticks": "outside"
             }
            },
            "type": "parcoords"
           }
          ],
          "pie": [
           {
            "automargin": true,
            "type": "pie"
           }
          ],
          "scatter": [
           {
            "fillpattern": {
             "fillmode": "overlay",
             "size": 10,
             "solidity": 0.2
            },
            "type": "scatter"
           }
          ],
          "scatter3d": [
           {
            "line": {
             "colorbar": {
              "outlinewidth": 1,
              "tickcolor": "rgb(36,36,36)",
              "ticks": "outside"
             }
            },
            "marker": {
             "colorbar": {
              "outlinewidth": 1,
              "tickcolor": "rgb(36,36,36)",
              "ticks": "outside"
             }
            },
            "type": "scatter3d"
           }
          ],
          "scattercarpet": [
           {
            "marker": {
             "colorbar": {
              "outlinewidth": 1,
              "tickcolor": "rgb(36,36,36)",
              "ticks": "outside"
             }
            },
            "type": "scattercarpet"
           }
          ],
          "scattergeo": [
           {
            "marker": {
             "colorbar": {
              "outlinewidth": 1,
              "tickcolor": "rgb(36,36,36)",
              "ticks": "outside"
             }
            },
            "type": "scattergeo"
           }
          ],
          "scattergl": [
           {
            "marker": {
             "colorbar": {
              "outlinewidth": 1,
              "tickcolor": "rgb(36,36,36)",
              "ticks": "outside"
             }
            },
            "type": "scattergl"
           }
          ],
          "scattermap": [
           {
            "marker": {
             "colorbar": {
              "outlinewidth": 1,
              "tickcolor": "rgb(36,36,36)",
              "ticks": "outside"
             }
            },
            "type": "scattermap"
           }
          ],
          "scattermapbox": [
           {
            "marker": {
             "colorbar": {
              "outlinewidth": 1,
              "tickcolor": "rgb(36,36,36)",
              "ticks": "outside"
             }
            },
            "type": "scattermapbox"
           }
          ],
          "scatterpolar": [
           {
            "marker": {
             "colorbar": {
              "outlinewidth": 1,
              "tickcolor": "rgb(36,36,36)",
              "ticks": "outside"
             }
            },
            "type": "scatterpolar"
           }
          ],
          "scatterpolargl": [
           {
            "marker": {
             "colorbar": {
              "outlinewidth": 1,
              "tickcolor": "rgb(36,36,36)",
              "ticks": "outside"
             }
            },
            "type": "scatterpolargl"
           }
          ],
          "scatterternary": [
           {
            "marker": {
             "colorbar": {
              "outlinewidth": 1,
              "tickcolor": "rgb(36,36,36)",
              "ticks": "outside"
             }
            },
            "type": "scatterternary"
           }
          ],
          "surface": [
           {
            "colorbar": {
             "outlinewidth": 1,
             "tickcolor": "rgb(36,36,36)",
             "ticks": "outside"
            },
            "colorscale": [
             [
              0,
              "#440154"
             ],
             [
              0.1111111111111111,
              "#482878"
             ],
             [
              0.2222222222222222,
              "#3e4989"
             ],
             [
              0.3333333333333333,
              "#31688e"
             ],
             [
              0.4444444444444444,
              "#26828e"
             ],
             [
              0.5555555555555556,
              "#1f9e89"
             ],
             [
              0.6666666666666666,
              "#35b779"
             ],
             [
              0.7777777777777778,
              "#6ece58"
             ],
             [
              0.8888888888888888,
              "#b5de2b"
             ],
             [
              1,
              "#fde725"
             ]
            ],
            "type": "surface"
           }
          ],
          "table": [
           {
            "cells": {
             "fill": {
              "color": "rgb(237,237,237)"
             },
             "line": {
              "color": "white"
             }
            },
            "header": {
             "fill": {
              "color": "rgb(217,217,217)"
             },
             "line": {
              "color": "white"
             }
            },
            "type": "table"
           }
          ]
         },
         "layout": {
          "annotationdefaults": {
           "arrowhead": 0,
           "arrowwidth": 1
          },
          "autotypenumbers": "strict",
          "coloraxis": {
           "colorbar": {
            "outlinewidth": 1,
            "tickcolor": "rgb(36,36,36)",
            "ticks": "outside"
           }
          },
          "colorscale": {
           "diverging": [
            [
             0,
             "rgb(103,0,31)"
            ],
            [
             0.1,
             "rgb(178,24,43)"
            ],
            [
             0.2,
             "rgb(214,96,77)"
            ],
            [
             0.3,
             "rgb(244,165,130)"
            ],
            [
             0.4,
             "rgb(253,219,199)"
            ],
            [
             0.5,
             "rgb(247,247,247)"
            ],
            [
             0.6,
             "rgb(209,229,240)"
            ],
            [
             0.7,
             "rgb(146,197,222)"
            ],
            [
             0.8,
             "rgb(67,147,195)"
            ],
            [
             0.9,
             "rgb(33,102,172)"
            ],
            [
             1,
             "rgb(5,48,97)"
            ]
           ],
           "sequential": [
            [
             0,
             "#440154"
            ],
            [
             0.1111111111111111,
             "#482878"
            ],
            [
             0.2222222222222222,
             "#3e4989"
            ],
            [
             0.3333333333333333,
             "#31688e"
            ],
            [
             0.4444444444444444,
             "#26828e"
            ],
            [
             0.5555555555555556,
             "#1f9e89"
            ],
            [
             0.6666666666666666,
             "#35b779"
            ],
            [
             0.7777777777777778,
             "#6ece58"
            ],
            [
             0.8888888888888888,
             "#b5de2b"
            ],
            [
             1,
             "#fde725"
            ]
           ],
           "sequentialminus": [
            [
             0,
             "#440154"
            ],
            [
             0.1111111111111111,
             "#482878"
            ],
            [
             0.2222222222222222,
             "#3e4989"
            ],
            [
             0.3333333333333333,
             "#31688e"
            ],
            [
             0.4444444444444444,
             "#26828e"
            ],
            [
             0.5555555555555556,
             "#1f9e89"
            ],
            [
             0.6666666666666666,
             "#35b779"
            ],
            [
             0.7777777777777778,
             "#6ece58"
            ],
            [
             0.8888888888888888,
             "#b5de2b"
            ],
            [
             1,
             "#fde725"
            ]
           ]
          },
          "colorway": [
           "#1F77B4",
           "#FF7F0E",
           "#2CA02C",
           "#D62728",
           "#9467BD",
           "#8C564B",
           "#E377C2",
           "#7F7F7F",
           "#BCBD22",
           "#17BECF"
          ],
          "font": {
           "color": "rgb(36,36,36)"
          },
          "geo": {
           "bgcolor": "white",
           "lakecolor": "white",
           "landcolor": "white",
           "showlakes": true,
           "showland": true,
           "subunitcolor": "white"
          },
          "hoverlabel": {
           "align": "left"
          },
          "hovermode": "closest",
          "mapbox": {
           "style": "light"
          },
          "paper_bgcolor": "white",
          "plot_bgcolor": "white",
          "polar": {
           "angularaxis": {
            "gridcolor": "rgb(232,232,232)",
            "linecolor": "rgb(36,36,36)",
            "showgrid": false,
            "showline": true,
            "ticks": "outside"
           },
           "bgcolor": "white",
           "radialaxis": {
            "gridcolor": "rgb(232,232,232)",
            "linecolor": "rgb(36,36,36)",
            "showgrid": false,
            "showline": true,
            "ticks": "outside"
           }
          },
          "scene": {
           "xaxis": {
            "backgroundcolor": "white",
            "gridcolor": "rgb(232,232,232)",
            "gridwidth": 2,
            "linecolor": "rgb(36,36,36)",
            "showbackground": true,
            "showgrid": false,
            "showline": true,
            "ticks": "outside",
            "zeroline": false,
            "zerolinecolor": "rgb(36,36,36)"
           },
           "yaxis": {
            "backgroundcolor": "white",
            "gridcolor": "rgb(232,232,232)",
            "gridwidth": 2,
            "linecolor": "rgb(36,36,36)",
            "showbackground": true,
            "showgrid": false,
            "showline": true,
            "ticks": "outside",
            "zeroline": false,
            "zerolinecolor": "rgb(36,36,36)"
           },
           "zaxis": {
            "backgroundcolor": "white",
            "gridcolor": "rgb(232,232,232)",
            "gridwidth": 2,
            "linecolor": "rgb(36,36,36)",
            "showbackground": true,
            "showgrid": false,
            "showline": true,
            "ticks": "outside",
            "zeroline": false,
            "zerolinecolor": "rgb(36,36,36)"
           }
          },
          "shapedefaults": {
           "fillcolor": "black",
           "line": {
            "width": 0
           },
           "opacity": 0.3
          },
          "ternary": {
           "aaxis": {
            "gridcolor": "rgb(232,232,232)",
            "linecolor": "rgb(36,36,36)",
            "showgrid": false,
            "showline": true,
            "ticks": "outside"
           },
           "baxis": {
            "gridcolor": "rgb(232,232,232)",
            "linecolor": "rgb(36,36,36)",
            "showgrid": false,
            "showline": true,
            "ticks": "outside"
           },
           "bgcolor": "white",
           "caxis": {
            "gridcolor": "rgb(232,232,232)",
            "linecolor": "rgb(36,36,36)",
            "showgrid": false,
            "showline": true,
            "ticks": "outside"
           }
          },
          "title": {
           "x": 0.05
          },
          "xaxis": {
           "automargin": true,
           "gridcolor": "rgb(232,232,232)",
           "linecolor": "rgb(36,36,36)",
           "showgrid": false,
           "showline": true,
           "ticks": "outside",
           "title": {
            "standoff": 15
           },
           "zeroline": false,
           "zerolinecolor": "rgb(36,36,36)"
          },
          "yaxis": {
           "automargin": true,
           "gridcolor": "rgb(232,232,232)",
           "linecolor": "rgb(36,36,36)",
           "showgrid": false,
           "showline": true,
           "ticks": "outside",
           "title": {
            "standoff": 15
           },
           "zeroline": false,
           "zerolinecolor": "rgb(36,36,36)"
          }
         }
        },
        "xaxis": {
         "anchor": "y",
         "domain": [
          0,
          0.48
         ],
         "title": {
          "text": "Inoculation_2_time"
         }
        },
        "xaxis2": {
         "anchor": "y2",
         "domain": [
          0.5,
          0.98
         ],
         "title": {
          "text": "Inoculation_2_time"
         }
        },
        "xaxis3": {
         "anchor": "y3",
         "domain": [
          0,
          0.48
         ],
         "showticklabels": false
        },
        "xaxis4": {
         "anchor": "y4",
         "domain": [
          0.5,
          0.98
         ],
         "showticklabels": false
        },
        "yaxis": {
         "anchor": "x",
         "domain": [
          0,
          0.485
         ],
         "title": {
          "text": "OD620"
         }
        },
        "yaxis2": {
         "anchor": "x2",
         "domain": [
          0,
          0.485
         ],
         "matches": "y",
         "showticklabels": false
        },
        "yaxis3": {
         "anchor": "x3",
         "domain": [
          0.515,
          1
         ],
         "matches": "y",
         "title": {
          "text": "OD620"
         }
        },
        "yaxis4": {
         "anchor": "x4",
         "domain": [
          0.515,
          1
         ],
         "matches": "y",
         "showticklabels": false
        }
       }
      }
     },
     "metadata": {},
     "output_type": "display_data"
    },
    {
     "data": {
      "application/vnd.plotly.v1+json": {
       "config": {
        "plotlyServerURL": "https://plotly.com"
       },
       "data": [
        {
         "alignmentgroup": "True",
         "boxpoints": "all",
         "hovertemplate": "CmR=NA<br>Media=GAM+<br>Inoculation_2_time=%{x}<br>OD620=%{y}<extra></extra>",
         "legendgroup": "",
         "marker": {
          "color": "#1F77B4"
         },
         "name": "",
         "notched": false,
         "offsetgroup": "",
         "orientation": "v",
         "showlegend": false,
         "type": "box",
         "x": [
          0,
          "3h",
          "6h",
          0,
          "3h",
          "6h",
          0,
          "3h",
          "6h",
          0,
          "3h",
          "6h",
          0,
          "3h",
          "6h",
          0,
          "3h",
          "6h",
          0,
          "3h",
          "6h",
          0,
          "3h",
          "6h"
         ],
         "x0": " ",
         "xaxis": "x3",
         "y": {
          "bdata": "+n5qvHST2D8IrBxaZDvXPzeJQWDl0No/3SQGgZVD2z+JQWDl0CLbP30/NV66Sdw/bxKDwMqh1T/D9Shcj8LVPxsv3SQGgdU/rkfhehSu3z9YObTIdr7XP65H4XoUrtc/eekmMQis1D8j2/l+arzUP3Noke18P9U/aJHtfD813j+28/3UeOnWP+f7qfHSTdo/nMQgsHJo0T8hsHJoke3UP39qvHSTGNQ/MQisHFpk2z/LoUW28/3UP5zEILByaNk/",
          "dtype": "f8"
         },
         "y0": " ",
         "yaxis": "y3"
        },
        {
         "alignmentgroup": "True",
         "boxpoints": "all",
         "hovertemplate": "CmR=NA<br>Media=GAM-<br>Inoculation_2_time=%{x}<br>OD620=%{y}<extra></extra>",
         "legendgroup": "",
         "marker": {
          "color": "#1F77B4"
         },
         "name": "",
         "notched": false,
         "offsetgroup": "",
         "orientation": "v",
         "showlegend": false,
         "type": "box",
         "x": [
          0,
          "3h",
          "6h",
          0,
          "3h",
          "6h",
          0,
          "3h",
          "6h",
          0,
          "3h",
          "6h",
          0,
          "3h",
          "6h",
          0,
          "3h",
          "6h",
          0,
          "3h",
          "6h",
          0,
          "3h",
          "6h"
         ],
         "x0": " ",
         "xaxis": "x4",
         "y": {
          "bdata": "YOXQItv51j+wcmiR7XzXP2iR7Xw/NdY/YhBYObTI1j/n+6nx0k3aPy/dJAaBlds/XrpJDAIr1z/wp8ZLN4nZP1YOLbKd79c/9P3UeOkm5T9U46WbxCDgP0w3iUFg5eA/tvP91Hjp1j+oxks3iUHYPxKDwMqhRdY/I9v5fmq83D/2KFyPwvXYP5qZmZmZmdk/vp8aL90k1j9eukkMAivXPxkEVg4tstU/1XjpJjEI6D/8qfHSTWLgP5HtfD81Xto/",
          "dtype": "f8"
         },
         "y0": " ",
         "yaxis": "y4"
        },
        {
         "alignmentgroup": "True",
         "boxpoints": "all",
         "hovertemplate": "CmR=CmR 20<br>Media=GAM+<br>Inoculation_2_time=%{x}<br>OD620=%{y}<extra></extra>",
         "legendgroup": "",
         "marker": {
          "color": "#1F77B4"
         },
         "name": "",
         "notched": false,
         "offsetgroup": "",
         "orientation": "v",
         "showlegend": false,
         "type": "box",
         "x": [
          0,
          "3h",
          "6h",
          0,
          "3h",
          "6h",
          0,
          "3h",
          "6h",
          0,
          "3h",
          "6h",
          0,
          "3h",
          "6h",
          0,
          "3h",
          "6h",
          0,
          "3h",
          "6h",
          0,
          "3h",
          "6h"
         ],
         "x0": " ",
         "xaxis": "x",
         "y": {
          "bdata": "KVyPwvUo4D8OLbKd76fePyGwcmiR7dw/GQRWDi2yrT9CYOXQItvZP9V46SYxCMw/w/UoXI/C3T/TTWIQWDncP4XrUbgehds/CKwcWmQ7rz/6fmq8dJPYP3npJjEIrMw/H4XrUbge3T8UrkfhehTePxkEVg4tst0/yXa+nxovrT+cxCCwcmjZPylcj8L1KMw/F9nO91Pj3T8rhxbZzvfbP8l2vp8aL90/eekmMQisrD+TGARWDi3aP7x0kxgEVs4/",
          "dtype": "f8"
         },
         "y0": " ",
         "yaxis": "y"
        },
        {
         "alignmentgroup": "True",
         "boxpoints": "all",
         "hovertemplate": "CmR=CmR 20<br>Media=GAM-<br>Inoculation_2_time=%{x}<br>OD620=%{y}<extra></extra>",
         "legendgroup": "",
         "marker": {
          "color": "#1F77B4"
         },
         "name": "",
         "notched": false,
         "offsetgroup": "",
         "orientation": "v",
         "showlegend": false,
         "type": "box",
         "x": [
          0,
          "3h",
          "6h",
          0,
          "3h",
          "6h",
          0,
          "3h",
          "6h",
          0,
          "3h",
          "6h",
          0,
          "3h",
          "6h",
          0,
          "3h",
          "6h",
          0,
          "3h",
          "6h",
          0,
          "3h",
          "6h"
         ],
         "x0": " ",
         "xaxis": "x2",
         "y": {
          "bdata": "GQRWDi2yrT+wcmiR7Xy/PyPb+X5qvMQ/qvHSTWIQqD+LbOf7qfGyP+kmMQisHKo/ObTIdr6fqj9QjZduEoPAP0SLbOf7qcE/WmQ730+Npz8zMzMzMzOzP0oMAiuHFqk/2c73U+Olqz/4U+Olm8TAP6RwPQrXo8A/qvHSTWIQqD8rhxbZzvezP9nO91Pjpas/6SYxCKwcqj/8qfHSTWLAP/T91HjpJsE/qvHSTWIQqD9Ei2zn+6mxP6rx0k1iEKg/",
          "dtype": "f8"
         },
         "y0": " ",
         "yaxis": "y2"
        }
       ],
       "layout": {
        "annotations": [
         {
          "font": {},
          "showarrow": false,
          "text": "Media=GAM+",
          "x": 0.24,
          "xanchor": "center",
          "xref": "paper",
          "y": 1,
          "yanchor": "bottom",
          "yref": "paper"
         },
         {
          "font": {},
          "showarrow": false,
          "text": "Media=GAM-",
          "x": 0.74,
          "xanchor": "center",
          "xref": "paper",
          "y": 1,
          "yanchor": "bottom",
          "yref": "paper"
         },
         {
          "font": {},
          "showarrow": false,
          "text": "CmR=CmR 20",
          "textangle": 90,
          "x": 0.98,
          "xanchor": "left",
          "xref": "paper",
          "y": 0.2425,
          "yanchor": "middle",
          "yref": "paper"
         },
         {
          "font": {},
          "showarrow": false,
          "text": "CmR=NA",
          "textangle": 90,
          "x": 0.98,
          "xanchor": "left",
          "xref": "paper",
          "y": 0.7575000000000001,
          "yanchor": "middle",
          "yref": "paper"
         }
        ],
        "boxmode": "group",
        "legend": {
         "tracegroupgap": 0
        },
        "margin": {
         "t": 60
        },
        "template": {
         "data": {
          "bar": [
           {
            "error_x": {
             "color": "rgb(36,36,36)"
            },
            "error_y": {
             "color": "rgb(36,36,36)"
            },
            "marker": {
             "line": {
              "color": "white",
              "width": 0.5
             },
             "pattern": {
              "fillmode": "overlay",
              "size": 10,
              "solidity": 0.2
             }
            },
            "type": "bar"
           }
          ],
          "barpolar": [
           {
            "marker": {
             "line": {
              "color": "white",
              "width": 0.5
             },
             "pattern": {
              "fillmode": "overlay",
              "size": 10,
              "solidity": 0.2
             }
            },
            "type": "barpolar"
           }
          ],
          "carpet": [
           {
            "aaxis": {
             "endlinecolor": "rgb(36,36,36)",
             "gridcolor": "white",
             "linecolor": "white",
             "minorgridcolor": "white",
             "startlinecolor": "rgb(36,36,36)"
            },
            "baxis": {
             "endlinecolor": "rgb(36,36,36)",
             "gridcolor": "white",
             "linecolor": "white",
             "minorgridcolor": "white",
             "startlinecolor": "rgb(36,36,36)"
            },
            "type": "carpet"
           }
          ],
          "choropleth": [
           {
            "colorbar": {
             "outlinewidth": 1,
             "tickcolor": "rgb(36,36,36)",
             "ticks": "outside"
            },
            "type": "choropleth"
           }
          ],
          "contour": [
           {
            "colorbar": {
             "outlinewidth": 1,
             "tickcolor": "rgb(36,36,36)",
             "ticks": "outside"
            },
            "colorscale": [
             [
              0,
              "#440154"
             ],
             [
              0.1111111111111111,
              "#482878"
             ],
             [
              0.2222222222222222,
              "#3e4989"
             ],
             [
              0.3333333333333333,
              "#31688e"
             ],
             [
              0.4444444444444444,
              "#26828e"
             ],
             [
              0.5555555555555556,
              "#1f9e89"
             ],
             [
              0.6666666666666666,
              "#35b779"
             ],
             [
              0.7777777777777778,
              "#6ece58"
             ],
             [
              0.8888888888888888,
              "#b5de2b"
             ],
             [
              1,
              "#fde725"
             ]
            ],
            "type": "contour"
           }
          ],
          "contourcarpet": [
           {
            "colorbar": {
             "outlinewidth": 1,
             "tickcolor": "rgb(36,36,36)",
             "ticks": "outside"
            },
            "type": "contourcarpet"
           }
          ],
          "heatmap": [
           {
            "colorbar": {
             "outlinewidth": 1,
             "tickcolor": "rgb(36,36,36)",
             "ticks": "outside"
            },
            "colorscale": [
             [
              0,
              "#440154"
             ],
             [
              0.1111111111111111,
              "#482878"
             ],
             [
              0.2222222222222222,
              "#3e4989"
             ],
             [
              0.3333333333333333,
              "#31688e"
             ],
             [
              0.4444444444444444,
              "#26828e"
             ],
             [
              0.5555555555555556,
              "#1f9e89"
             ],
             [
              0.6666666666666666,
              "#35b779"
             ],
             [
              0.7777777777777778,
              "#6ece58"
             ],
             [
              0.8888888888888888,
              "#b5de2b"
             ],
             [
              1,
              "#fde725"
             ]
            ],
            "type": "heatmap"
           }
          ],
          "histogram": [
           {
            "marker": {
             "line": {
              "color": "white",
              "width": 0.6
             }
            },
            "type": "histogram"
           }
          ],
          "histogram2d": [
           {
            "colorbar": {
             "outlinewidth": 1,
             "tickcolor": "rgb(36,36,36)",
             "ticks": "outside"
            },
            "colorscale": [
             [
              0,
              "#440154"
             ],
             [
              0.1111111111111111,
              "#482878"
             ],
             [
              0.2222222222222222,
              "#3e4989"
             ],
             [
              0.3333333333333333,
              "#31688e"
             ],
             [
              0.4444444444444444,
              "#26828e"
             ],
             [
              0.5555555555555556,
              "#1f9e89"
             ],
             [
              0.6666666666666666,
              "#35b779"
             ],
             [
              0.7777777777777778,
              "#6ece58"
             ],
             [
              0.8888888888888888,
              "#b5de2b"
             ],
             [
              1,
              "#fde725"
             ]
            ],
            "type": "histogram2d"
           }
          ],
          "histogram2dcontour": [
           {
            "colorbar": {
             "outlinewidth": 1,
             "tickcolor": "rgb(36,36,36)",
             "ticks": "outside"
            },
            "colorscale": [
             [
              0,
              "#440154"
             ],
             [
              0.1111111111111111,
              "#482878"
             ],
             [
              0.2222222222222222,
              "#3e4989"
             ],
             [
              0.3333333333333333,
              "#31688e"
             ],
             [
              0.4444444444444444,
              "#26828e"
             ],
             [
              0.5555555555555556,
              "#1f9e89"
             ],
             [
              0.6666666666666666,
              "#35b779"
             ],
             [
              0.7777777777777778,
              "#6ece58"
             ],
             [
              0.8888888888888888,
              "#b5de2b"
             ],
             [
              1,
              "#fde725"
             ]
            ],
            "type": "histogram2dcontour"
           }
          ],
          "mesh3d": [
           {
            "colorbar": {
             "outlinewidth": 1,
             "tickcolor": "rgb(36,36,36)",
             "ticks": "outside"
            },
            "type": "mesh3d"
           }
          ],
          "parcoords": [
           {
            "line": {
             "colorbar": {
              "outlinewidth": 1,
              "tickcolor": "rgb(36,36,36)",
              "ticks": "outside"
             }
            },
            "type": "parcoords"
           }
          ],
          "pie": [
           {
            "automargin": true,
            "type": "pie"
           }
          ],
          "scatter": [
           {
            "fillpattern": {
             "fillmode": "overlay",
             "size": 10,
             "solidity": 0.2
            },
            "type": "scatter"
           }
          ],
          "scatter3d": [
           {
            "line": {
             "colorbar": {
              "outlinewidth": 1,
              "tickcolor": "rgb(36,36,36)",
              "ticks": "outside"
             }
            },
            "marker": {
             "colorbar": {
              "outlinewidth": 1,
              "tickcolor": "rgb(36,36,36)",
              "ticks": "outside"
             }
            },
            "type": "scatter3d"
           }
          ],
          "scattercarpet": [
           {
            "marker": {
             "colorbar": {
              "outlinewidth": 1,
              "tickcolor": "rgb(36,36,36)",
              "ticks": "outside"
             }
            },
            "type": "scattercarpet"
           }
          ],
          "scattergeo": [
           {
            "marker": {
             "colorbar": {
              "outlinewidth": 1,
              "tickcolor": "rgb(36,36,36)",
              "ticks": "outside"
             }
            },
            "type": "scattergeo"
           }
          ],
          "scattergl": [
           {
            "marker": {
             "colorbar": {
              "outlinewidth": 1,
              "tickcolor": "rgb(36,36,36)",
              "ticks": "outside"
             }
            },
            "type": "scattergl"
           }
          ],
          "scattermap": [
           {
            "marker": {
             "colorbar": {
              "outlinewidth": 1,
              "tickcolor": "rgb(36,36,36)",
              "ticks": "outside"
             }
            },
            "type": "scattermap"
           }
          ],
          "scattermapbox": [
           {
            "marker": {
             "colorbar": {
              "outlinewidth": 1,
              "tickcolor": "rgb(36,36,36)",
              "ticks": "outside"
             }
            },
            "type": "scattermapbox"
           }
          ],
          "scatterpolar": [
           {
            "marker": {
             "colorbar": {
              "outlinewidth": 1,
              "tickcolor": "rgb(36,36,36)",
              "ticks": "outside"
             }
            },
            "type": "scatterpolar"
           }
          ],
          "scatterpolargl": [
           {
            "marker": {
             "colorbar": {
              "outlinewidth": 1,
              "tickcolor": "rgb(36,36,36)",
              "ticks": "outside"
             }
            },
            "type": "scatterpolargl"
           }
          ],
          "scatterternary": [
           {
            "marker": {
             "colorbar": {
              "outlinewidth": 1,
              "tickcolor": "rgb(36,36,36)",
              "ticks": "outside"
             }
            },
            "type": "scatterternary"
           }
          ],
          "surface": [
           {
            "colorbar": {
             "outlinewidth": 1,
             "tickcolor": "rgb(36,36,36)",
             "ticks": "outside"
            },
            "colorscale": [
             [
              0,
              "#440154"
             ],
             [
              0.1111111111111111,
              "#482878"
             ],
             [
              0.2222222222222222,
              "#3e4989"
             ],
             [
              0.3333333333333333,
              "#31688e"
             ],
             [
              0.4444444444444444,
              "#26828e"
             ],
             [
              0.5555555555555556,
              "#1f9e89"
             ],
             [
              0.6666666666666666,
              "#35b779"
             ],
             [
              0.7777777777777778,
              "#6ece58"
             ],
             [
              0.8888888888888888,
              "#b5de2b"
             ],
             [
              1,
              "#fde725"
             ]
            ],
            "type": "surface"
           }
          ],
          "table": [
           {
            "cells": {
             "fill": {
              "color": "rgb(237,237,237)"
             },
             "line": {
              "color": "white"
             }
            },
            "header": {
             "fill": {
              "color": "rgb(217,217,217)"
             },
             "line": {
              "color": "white"
             }
            },
            "type": "table"
           }
          ]
         },
         "layout": {
          "annotationdefaults": {
           "arrowhead": 0,
           "arrowwidth": 1
          },
          "autotypenumbers": "strict",
          "coloraxis": {
           "colorbar": {
            "outlinewidth": 1,
            "tickcolor": "rgb(36,36,36)",
            "ticks": "outside"
           }
          },
          "colorscale": {
           "diverging": [
            [
             0,
             "rgb(103,0,31)"
            ],
            [
             0.1,
             "rgb(178,24,43)"
            ],
            [
             0.2,
             "rgb(214,96,77)"
            ],
            [
             0.3,
             "rgb(244,165,130)"
            ],
            [
             0.4,
             "rgb(253,219,199)"
            ],
            [
             0.5,
             "rgb(247,247,247)"
            ],
            [
             0.6,
             "rgb(209,229,240)"
            ],
            [
             0.7,
             "rgb(146,197,222)"
            ],
            [
             0.8,
             "rgb(67,147,195)"
            ],
            [
             0.9,
             "rgb(33,102,172)"
            ],
            [
             1,
             "rgb(5,48,97)"
            ]
           ],
           "sequential": [
            [
             0,
             "#440154"
            ],
            [
             0.1111111111111111,
             "#482878"
            ],
            [
             0.2222222222222222,
             "#3e4989"
            ],
            [
             0.3333333333333333,
             "#31688e"
            ],
            [
             0.4444444444444444,
             "#26828e"
            ],
            [
             0.5555555555555556,
             "#1f9e89"
            ],
            [
             0.6666666666666666,
             "#35b779"
            ],
            [
             0.7777777777777778,
             "#6ece58"
            ],
            [
             0.8888888888888888,
             "#b5de2b"
            ],
            [
             1,
             "#fde725"
            ]
           ],
           "sequentialminus": [
            [
             0,
             "#440154"
            ],
            [
             0.1111111111111111,
             "#482878"
            ],
            [
             0.2222222222222222,
             "#3e4989"
            ],
            [
             0.3333333333333333,
             "#31688e"
            ],
            [
             0.4444444444444444,
             "#26828e"
            ],
            [
             0.5555555555555556,
             "#1f9e89"
            ],
            [
             0.6666666666666666,
             "#35b779"
            ],
            [
             0.7777777777777778,
             "#6ece58"
            ],
            [
             0.8888888888888888,
             "#b5de2b"
            ],
            [
             1,
             "#fde725"
            ]
           ]
          },
          "colorway": [
           "#1F77B4",
           "#FF7F0E",
           "#2CA02C",
           "#D62728",
           "#9467BD",
           "#8C564B",
           "#E377C2",
           "#7F7F7F",
           "#BCBD22",
           "#17BECF"
          ],
          "font": {
           "color": "rgb(36,36,36)"
          },
          "geo": {
           "bgcolor": "white",
           "lakecolor": "white",
           "landcolor": "white",
           "showlakes": true,
           "showland": true,
           "subunitcolor": "white"
          },
          "hoverlabel": {
           "align": "left"
          },
          "hovermode": "closest",
          "mapbox": {
           "style": "light"
          },
          "paper_bgcolor": "white",
          "plot_bgcolor": "white",
          "polar": {
           "angularaxis": {
            "gridcolor": "rgb(232,232,232)",
            "linecolor": "rgb(36,36,36)",
            "showgrid": false,
            "showline": true,
            "ticks": "outside"
           },
           "bgcolor": "white",
           "radialaxis": {
            "gridcolor": "rgb(232,232,232)",
            "linecolor": "rgb(36,36,36)",
            "showgrid": false,
            "showline": true,
            "ticks": "outside"
           }
          },
          "scene": {
           "xaxis": {
            "backgroundcolor": "white",
            "gridcolor": "rgb(232,232,232)",
            "gridwidth": 2,
            "linecolor": "rgb(36,36,36)",
            "showbackground": true,
            "showgrid": false,
            "showline": true,
            "ticks": "outside",
            "zeroline": false,
            "zerolinecolor": "rgb(36,36,36)"
           },
           "yaxis": {
            "backgroundcolor": "white",
            "gridcolor": "rgb(232,232,232)",
            "gridwidth": 2,
            "linecolor": "rgb(36,36,36)",
            "showbackground": true,
            "showgrid": false,
            "showline": true,
            "ticks": "outside",
            "zeroline": false,
            "zerolinecolor": "rgb(36,36,36)"
           },
           "zaxis": {
            "backgroundcolor": "white",
            "gridcolor": "rgb(232,232,232)",
            "gridwidth": 2,
            "linecolor": "rgb(36,36,36)",
            "showbackground": true,
            "showgrid": false,
            "showline": true,
            "ticks": "outside",
            "zeroline": false,
            "zerolinecolor": "rgb(36,36,36)"
           }
          },
          "shapedefaults": {
           "fillcolor": "black",
           "line": {
            "width": 0
           },
           "opacity": 0.3
          },
          "ternary": {
           "aaxis": {
            "gridcolor": "rgb(232,232,232)",
            "linecolor": "rgb(36,36,36)",
            "showgrid": false,
            "showline": true,
            "ticks": "outside"
           },
           "baxis": {
            "gridcolor": "rgb(232,232,232)",
            "linecolor": "rgb(36,36,36)",
            "showgrid": false,
            "showline": true,
            "ticks": "outside"
           },
           "bgcolor": "white",
           "caxis": {
            "gridcolor": "rgb(232,232,232)",
            "linecolor": "rgb(36,36,36)",
            "showgrid": false,
            "showline": true,
            "ticks": "outside"
           }
          },
          "title": {
           "x": 0.05
          },
          "xaxis": {
           "automargin": true,
           "gridcolor": "rgb(232,232,232)",
           "linecolor": "rgb(36,36,36)",
           "showgrid": false,
           "showline": true,
           "ticks": "outside",
           "title": {
            "standoff": 15
           },
           "zeroline": false,
           "zerolinecolor": "rgb(36,36,36)"
          },
          "yaxis": {
           "automargin": true,
           "gridcolor": "rgb(232,232,232)",
           "linecolor": "rgb(36,36,36)",
           "showgrid": false,
           "showline": true,
           "ticks": "outside",
           "title": {
            "standoff": 15
           },
           "zeroline": false,
           "zerolinecolor": "rgb(36,36,36)"
          }
         }
        },
        "xaxis": {
         "anchor": "y",
         "domain": [
          0,
          0.48
         ],
         "title": {
          "text": "Inoculation_2_time"
         }
        },
        "xaxis2": {
         "anchor": "y2",
         "domain": [
          0.5,
          0.98
         ],
         "title": {
          "text": "Inoculation_2_time"
         }
        },
        "xaxis3": {
         "anchor": "y3",
         "domain": [
          0,
          0.48
         ],
         "showticklabels": false
        },
        "xaxis4": {
         "anchor": "y4",
         "domain": [
          0.5,
          0.98
         ],
         "showticklabels": false
        },
        "yaxis": {
         "anchor": "x",
         "domain": [
          0,
          0.485
         ],
         "title": {
          "text": "OD620"
         }
        },
        "yaxis2": {
         "anchor": "x2",
         "domain": [
          0,
          0.485
         ],
         "matches": "y",
         "showticklabels": false
        },
        "yaxis3": {
         "anchor": "x3",
         "domain": [
          0.515,
          1
         ],
         "matches": "y",
         "title": {
          "text": "OD620"
         }
        },
        "yaxis4": {
         "anchor": "x4",
         "domain": [
          0.515,
          1
         ],
         "matches": "y",
         "showticklabels": false
        }
       }
      }
     },
     "metadata": {},
     "output_type": "display_data"
    }
   ],
   "source": [
    "for inoc in df_meta['Inoculation'].unique():\n",
    "    df_inoc = df_meta[df_meta['Inoculation']==inoc]\n",
    "    fig = px.box(df_meta,\n",
    "                x = 'Inoculation_2_time',\n",
    "                y = 'OD620',\n",
    "                #color = 'CmR',\n",
    "                facet_row = 'CmR',\n",
    "                facet_col='Media',\n",
    "                template = 'simple_white',\n",
    "                points = 'all'\n",
    "                )\n",
    "    fig.update_xaxes(matches = None)\n",
    "    fig.show()"
   ]
  },
  {
   "cell_type": "markdown",
   "id": "b4cf6219",
   "metadata": {},
   "source": [
    "# Major effects "
   ]
  },
  {
   "cell_type": "markdown",
   "id": "c21f5571",
   "metadata": {},
   "source": [
    "## Chloramphenicol treatment"
   ]
  },
  {
   "cell_type": "code",
   "execution_count": 11,
   "id": "e4e3d5df",
   "metadata": {},
   "outputs": [
    {
     "data": {
      "application/vnd.plotly.v1+json": {
       "config": {
        "plotlyServerURL": "https://plotly.com"
       },
       "data": [
        {
         "alignmentgroup": "True",
         "boxpoints": "all",
         "customdata": [
          [
           "E1"
          ],
          [
           "E2"
          ],
          [
           "E3"
          ],
          [
           "E5"
          ],
          [
           "E6"
          ],
          [
           "E7"
          ],
          [
           "E8"
          ],
          [
           "E9"
          ],
          [
           "E11"
          ],
          [
           "E12"
          ],
          [
           "F1"
          ],
          [
           "F2"
          ],
          [
           "F3"
          ],
          [
           "F5"
          ],
          [
           "F6"
          ],
          [
           "F7"
          ],
          [
           "F8"
          ],
          [
           "F9"
          ],
          [
           "F11"
          ],
          [
           "F12"
          ],
          [
           "G1"
          ],
          [
           "G2"
          ],
          [
           "G3"
          ],
          [
           "G5"
          ],
          [
           "G6"
          ],
          [
           "G7"
          ],
          [
           "G8"
          ],
          [
           "G9"
          ],
          [
           "G11"
          ],
          [
           "G12"
          ],
          [
           "H1"
          ],
          [
           "H2"
          ],
          [
           "H3"
          ],
          [
           "H5"
          ],
          [
           "H6"
          ],
          [
           "H7"
          ],
          [
           "H8"
          ],
          [
           "H9"
          ],
          [
           "H11"
          ],
          [
           "H12"
          ],
          [
           "E1"
          ],
          [
           "E2"
          ],
          [
           "E3"
          ],
          [
           "E5"
          ],
          [
           "E6"
          ],
          [
           "E7"
          ],
          [
           "E8"
          ],
          [
           "E9"
          ],
          [
           "E11"
          ],
          [
           "E12"
          ],
          [
           "F1"
          ],
          [
           "F2"
          ],
          [
           "F3"
          ],
          [
           "F5"
          ],
          [
           "F6"
          ],
          [
           "F7"
          ],
          [
           "F8"
          ],
          [
           "F9"
          ],
          [
           "F11"
          ],
          [
           "F12"
          ],
          [
           "G1"
          ],
          [
           "G2"
          ],
          [
           "G3"
          ],
          [
           "G5"
          ],
          [
           "G6"
          ],
          [
           "G7"
          ],
          [
           "G8"
          ],
          [
           "G9"
          ],
          [
           "G11"
          ],
          [
           "G12"
          ],
          [
           "H1"
          ],
          [
           "H2"
          ],
          [
           "H3"
          ],
          [
           "H5"
          ],
          [
           "H6"
          ],
          [
           "H7"
          ],
          [
           "H8"
          ],
          [
           "H9"
          ],
          [
           "H11"
          ],
          [
           "H12"
          ],
          [
           "E1"
          ],
          [
           "E2"
          ],
          [
           "E3"
          ],
          [
           "E5"
          ],
          [
           "E6"
          ],
          [
           "E7"
          ],
          [
           "E8"
          ],
          [
           "E9"
          ],
          [
           "E11"
          ],
          [
           "E12"
          ],
          [
           "F1"
          ],
          [
           "F2"
          ],
          [
           "F3"
          ],
          [
           "F5"
          ],
          [
           "F6"
          ],
          [
           "F7"
          ],
          [
           "F8"
          ],
          [
           "F9"
          ],
          [
           "F11"
          ],
          [
           "F12"
          ],
          [
           "G1"
          ],
          [
           "G2"
          ],
          [
           "G3"
          ],
          [
           "G5"
          ],
          [
           "G6"
          ],
          [
           "G7"
          ],
          [
           "G8"
          ],
          [
           "G9"
          ],
          [
           "G11"
          ],
          [
           "G12"
          ],
          [
           "H1"
          ],
          [
           "H2"
          ],
          [
           "H3"
          ],
          [
           "H5"
          ],
          [
           "H6"
          ],
          [
           "H7"
          ],
          [
           "H8"
          ],
          [
           "H9"
          ],
          [
           "H11"
          ],
          [
           "H12"
          ],
          [
           "E1"
          ],
          [
           "E2"
          ],
          [
           "E3"
          ],
          [
           "E5"
          ],
          [
           "E6"
          ],
          [
           "E7"
          ],
          [
           "E8"
          ],
          [
           "E9"
          ],
          [
           "E11"
          ],
          [
           "E12"
          ],
          [
           "F1"
          ],
          [
           "F2"
          ],
          [
           "F3"
          ],
          [
           "F5"
          ],
          [
           "F6"
          ],
          [
           "F7"
          ],
          [
           "F8"
          ],
          [
           "F9"
          ],
          [
           "F11"
          ],
          [
           "F12"
          ],
          [
           "G1"
          ],
          [
           "G2"
          ],
          [
           "G3"
          ],
          [
           "G5"
          ],
          [
           "G6"
          ],
          [
           "G7"
          ],
          [
           "G8"
          ],
          [
           "G9"
          ],
          [
           "G11"
          ],
          [
           "G12"
          ],
          [
           "H1"
          ],
          [
           "H2"
          ],
          [
           "H3"
          ],
          [
           "H5"
          ],
          [
           "H6"
          ],
          [
           "H7"
          ],
          [
           "H8"
          ],
          [
           "H9"
          ],
          [
           "H11"
          ],
          [
           "H12"
          ],
          [
           "E1"
          ],
          [
           "E2"
          ],
          [
           "E3"
          ],
          [
           "E5"
          ],
          [
           "E6"
          ],
          [
           "E7"
          ],
          [
           "E8"
          ],
          [
           "E9"
          ],
          [
           "E11"
          ],
          [
           "E12"
          ],
          [
           "F1"
          ],
          [
           "F2"
          ],
          [
           "F3"
          ],
          [
           "F5"
          ],
          [
           "F6"
          ],
          [
           "F7"
          ],
          [
           "F8"
          ],
          [
           "F9"
          ],
          [
           "F11"
          ],
          [
           "F12"
          ],
          [
           "G1"
          ],
          [
           "G2"
          ],
          [
           "G3"
          ],
          [
           "G5"
          ],
          [
           "G6"
          ],
          [
           "G7"
          ],
          [
           "G8"
          ],
          [
           "G9"
          ],
          [
           "G11"
          ],
          [
           "G12"
          ],
          [
           "H1"
          ],
          [
           "H2"
          ],
          [
           "H3"
          ],
          [
           "H5"
          ],
          [
           "H6"
          ],
          [
           "H7"
          ],
          [
           "H8"
          ],
          [
           "H9"
          ],
          [
           "H11"
          ],
          [
           "H12"
          ]
         ],
         "hovertemplate": "CmR=CmR 20<br>strain=%{x}<br>Nb=%{y}<br>sample_id=%{customdata[0]}<extra></extra>",
         "legendgroup": "CmR 20",
         "marker": {
          "color": "#1F77B4"
         },
         "name": "CmR 20",
         "notched": false,
         "offsetgroup": "CmR 20",
         "orientation": "v",
         "showlegend": true,
         "type": "box",
         "x": [
          "ST1",
          "ST1",
          "ST1",
          "ST1",
          "ST1",
          "ST1",
          "ST1",
          "ST1",
          "ST1",
          "ST1",
          "ST1",
          "ST1",
          "ST1",
          "ST1",
          "ST1",
          "ST1",
          "ST1",
          "ST1",
          "ST1",
          "ST1",
          "ST1",
          "ST1",
          "ST1",
          "ST1",
          "ST1",
          "ST1",
          "ST1",
          "ST1",
          "ST1",
          "ST1",
          "ST1",
          "ST1",
          "ST1",
          "ST1",
          "ST1",
          "ST1",
          "ST1",
          "ST1",
          "ST1",
          "ST1",
          "ST2",
          "ST2",
          "ST2",
          "ST2",
          "ST2",
          "ST2",
          "ST2",
          "ST2",
          "ST2",
          "ST2",
          "ST2",
          "ST2",
          "ST2",
          "ST2",
          "ST2",
          "ST2",
          "ST2",
          "ST2",
          "ST2",
          "ST2",
          "ST2",
          "ST2",
          "ST2",
          "ST2",
          "ST2",
          "ST2",
          "ST2",
          "ST2",
          "ST2",
          "ST2",
          "ST2",
          "ST2",
          "ST2",
          "ST2",
          "ST2",
          "ST2",
          "ST2",
          "ST2",
          "ST2",
          "ST2",
          "ST4",
          "ST4",
          "ST4",
          "ST4",
          "ST4",
          "ST4",
          "ST4",
          "ST4",
          "ST4",
          "ST4",
          "ST4",
          "ST4",
          "ST4",
          "ST4",
          "ST4",
          "ST4",
          "ST4",
          "ST4",
          "ST4",
          "ST4",
          "ST4",
          "ST4",
          "ST4",
          "ST4",
          "ST4",
          "ST4",
          "ST4",
          "ST4",
          "ST4",
          "ST4",
          "ST4",
          "ST4",
          "ST4",
          "ST4",
          "ST4",
          "ST4",
          "ST4",
          "ST4",
          "ST4",
          "ST4",
          "ST5",
          "ST5",
          "ST5",
          "ST5",
          "ST5",
          "ST5",
          "ST5",
          "ST5",
          "ST5",
          "ST5",
          "ST5",
          "ST5",
          "ST5",
          "ST5",
          "ST5",
          "ST5",
          "ST5",
          "ST5",
          "ST5",
          "ST5",
          "ST5",
          "ST5",
          "ST5",
          "ST5",
          "ST5",
          "ST5",
          "ST5",
          "ST5",
          "ST5",
          "ST5",
          "ST5",
          "ST5",
          "ST5",
          "ST5",
          "ST5",
          "ST5",
          "ST5",
          "ST5",
          "ST5",
          "ST5",
          "ST6",
          "ST6",
          "ST6",
          "ST6",
          "ST6",
          "ST6",
          "ST6",
          "ST6",
          "ST6",
          "ST6",
          "ST6",
          "ST6",
          "ST6",
          "ST6",
          "ST6",
          "ST6",
          "ST6",
          "ST6",
          "ST6",
          "ST6",
          "ST6",
          "ST6",
          "ST6",
          "ST6",
          "ST6",
          "ST6",
          "ST6",
          "ST6",
          "ST6",
          "ST6",
          "ST6",
          "ST6",
          "ST6",
          "ST6",
          "ST6",
          "ST6",
          "ST6",
          "ST6",
          "ST6",
          "ST6"
         ],
         "x0": " ",
         "xaxis": "x",
         "y": {
          "bdata": "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",
          "dtype": "f8"
         },
         "y0": " ",
         "yaxis": "y"
        },
        {
         "alignmentgroup": "True",
         "boxpoints": "all",
         "customdata": [
          [
           "A1"
          ],
          [
           "A2"
          ],
          [
           "A3"
          ],
          [
           "A5"
          ],
          [
           "A6"
          ],
          [
           "A7"
          ],
          [
           "A8"
          ],
          [
           "A9"
          ],
          [
           "A11"
          ],
          [
           "A12"
          ],
          [
           "B1"
          ],
          [
           "B2"
          ],
          [
           "B3"
          ],
          [
           "B5"
          ],
          [
           "B6"
          ],
          [
           "B7"
          ],
          [
           "B8"
          ],
          [
           "B9"
          ],
          [
           "B11"
          ],
          [
           "B12"
          ],
          [
           "C1"
          ],
          [
           "C2"
          ],
          [
           "C3"
          ],
          [
           "C5"
          ],
          [
           "C6"
          ],
          [
           "C7"
          ],
          [
           "C8"
          ],
          [
           "C9"
          ],
          [
           "C11"
          ],
          [
           "C12"
          ],
          [
           "D1"
          ],
          [
           "D2"
          ],
          [
           "D3"
          ],
          [
           "D5"
          ],
          [
           "D6"
          ],
          [
           "D7"
          ],
          [
           "D8"
          ],
          [
           "D9"
          ],
          [
           "D11"
          ],
          [
           "D12"
          ],
          [
           "A1"
          ],
          [
           "A2"
          ],
          [
           "A3"
          ],
          [
           "A5"
          ],
          [
           "A6"
          ],
          [
           "A7"
          ],
          [
           "A8"
          ],
          [
           "A9"
          ],
          [
           "A11"
          ],
          [
           "A12"
          ],
          [
           "B1"
          ],
          [
           "B2"
          ],
          [
           "B3"
          ],
          [
           "B5"
          ],
          [
           "B6"
          ],
          [
           "B7"
          ],
          [
           "B8"
          ],
          [
           "B9"
          ],
          [
           "B11"
          ],
          [
           "B12"
          ],
          [
           "C1"
          ],
          [
           "C2"
          ],
          [
           "C3"
          ],
          [
           "C5"
          ],
          [
           "C6"
          ],
          [
           "C7"
          ],
          [
           "C8"
          ],
          [
           "C9"
          ],
          [
           "C11"
          ],
          [
           "C12"
          ],
          [
           "D1"
          ],
          [
           "D2"
          ],
          [
           "D3"
          ],
          [
           "D5"
          ],
          [
           "D6"
          ],
          [
           "D7"
          ],
          [
           "D8"
          ],
          [
           "D9"
          ],
          [
           "D11"
          ],
          [
           "D12"
          ],
          [
           "A1"
          ],
          [
           "A2"
          ],
          [
           "A3"
          ],
          [
           "A5"
          ],
          [
           "A6"
          ],
          [
           "A7"
          ],
          [
           "A8"
          ],
          [
           "A9"
          ],
          [
           "A11"
          ],
          [
           "A12"
          ],
          [
           "B1"
          ],
          [
           "B2"
          ],
          [
           "B3"
          ],
          [
           "B5"
          ],
          [
           "B6"
          ],
          [
           "B7"
          ],
          [
           "B8"
          ],
          [
           "B9"
          ],
          [
           "B11"
          ],
          [
           "B12"
          ],
          [
           "C1"
          ],
          [
           "C2"
          ],
          [
           "C3"
          ],
          [
           "C5"
          ],
          [
           "C6"
          ],
          [
           "C7"
          ],
          [
           "C8"
          ],
          [
           "C9"
          ],
          [
           "C11"
          ],
          [
           "C12"
          ],
          [
           "D1"
          ],
          [
           "D2"
          ],
          [
           "D3"
          ],
          [
           "D5"
          ],
          [
           "D6"
          ],
          [
           "D7"
          ],
          [
           "D8"
          ],
          [
           "D9"
          ],
          [
           "D11"
          ],
          [
           "D12"
          ],
          [
           "A1"
          ],
          [
           "A2"
          ],
          [
           "A3"
          ],
          [
           "A5"
          ],
          [
           "A6"
          ],
          [
           "A7"
          ],
          [
           "A8"
          ],
          [
           "A9"
          ],
          [
           "A11"
          ],
          [
           "A12"
          ],
          [
           "B1"
          ],
          [
           "B2"
          ],
          [
           "B3"
          ],
          [
           "B5"
          ],
          [
           "B6"
          ],
          [
           "B7"
          ],
          [
           "B8"
          ],
          [
           "B9"
          ],
          [
           "B11"
          ],
          [
           "B12"
          ],
          [
           "C1"
          ],
          [
           "C2"
          ],
          [
           "C3"
          ],
          [
           "C5"
          ],
          [
           "C6"
          ],
          [
           "C7"
          ],
          [
           "C8"
          ],
          [
           "C9"
          ],
          [
           "C11"
          ],
          [
           "C12"
          ],
          [
           "D1"
          ],
          [
           "D2"
          ],
          [
           "D3"
          ],
          [
           "D5"
          ],
          [
           "D6"
          ],
          [
           "D7"
          ],
          [
           "D8"
          ],
          [
           "D9"
          ],
          [
           "D11"
          ],
          [
           "D12"
          ],
          [
           "A1"
          ],
          [
           "A2"
          ],
          [
           "A3"
          ],
          [
           "A5"
          ],
          [
           "A6"
          ],
          [
           "A7"
          ],
          [
           "A8"
          ],
          [
           "A9"
          ],
          [
           "A11"
          ],
          [
           "A12"
          ],
          [
           "B1"
          ],
          [
           "B2"
          ],
          [
           "B3"
          ],
          [
           "B5"
          ],
          [
           "B6"
          ],
          [
           "B7"
          ],
          [
           "B8"
          ],
          [
           "B9"
          ],
          [
           "B11"
          ],
          [
           "B12"
          ],
          [
           "C1"
          ],
          [
           "C2"
          ],
          [
           "C3"
          ],
          [
           "C5"
          ],
          [
           "C6"
          ],
          [
           "C7"
          ],
          [
           "C8"
          ],
          [
           "C9"
          ],
          [
           "C11"
          ],
          [
           "C12"
          ],
          [
           "D1"
          ],
          [
           "D2"
          ],
          [
           "D3"
          ],
          [
           "D5"
          ],
          [
           "D6"
          ],
          [
           "D7"
          ],
          [
           "D8"
          ],
          [
           "D9"
          ],
          [
           "D11"
          ],
          [
           "D12"
          ]
         ],
         "hovertemplate": "CmR=NA<br>strain=%{x}<br>Nb=%{y}<br>sample_id=%{customdata[0]}<extra></extra>",
         "legendgroup": "NA",
         "marker": {
          "color": "#FF7F0E"
         },
         "name": "NA",
         "notched": false,
         "offsetgroup": "NA",
         "orientation": "v",
         "showlegend": true,
         "type": "box",
         "x": [
          "ST1",
          "ST1",
          "ST1",
          "ST1",
          "ST1",
          "ST1",
          "ST1",
          "ST1",
          "ST1",
          "ST1",
          "ST1",
          "ST1",
          "ST1",
          "ST1",
          "ST1",
          "ST1",
          "ST1",
          "ST1",
          "ST1",
          "ST1",
          "ST1",
          "ST1",
          "ST1",
          "ST1",
          "ST1",
          "ST1",
          "ST1",
          "ST1",
          "ST1",
          "ST1",
          "ST1",
          "ST1",
          "ST1",
          "ST1",
          "ST1",
          "ST1",
          "ST1",
          "ST1",
          "ST1",
          "ST1",
          "ST2",
          "ST2",
          "ST2",
          "ST2",
          "ST2",
          "ST2",
          "ST2",
          "ST2",
          "ST2",
          "ST2",
          "ST2",
          "ST2",
          "ST2",
          "ST2",
          "ST2",
          "ST2",
          "ST2",
          "ST2",
          "ST2",
          "ST2",
          "ST2",
          "ST2",
          "ST2",
          "ST2",
          "ST2",
          "ST2",
          "ST2",
          "ST2",
          "ST2",
          "ST2",
          "ST2",
          "ST2",
          "ST2",
          "ST2",
          "ST2",
          "ST2",
          "ST2",
          "ST2",
          "ST2",
          "ST2",
          "ST4",
          "ST4",
          "ST4",
          "ST4",
          "ST4",
          "ST4",
          "ST4",
          "ST4",
          "ST4",
          "ST4",
          "ST4",
          "ST4",
          "ST4",
          "ST4",
          "ST4",
          "ST4",
          "ST4",
          "ST4",
          "ST4",
          "ST4",
          "ST4",
          "ST4",
          "ST4",
          "ST4",
          "ST4",
          "ST4",
          "ST4",
          "ST4",
          "ST4",
          "ST4",
          "ST4",
          "ST4",
          "ST4",
          "ST4",
          "ST4",
          "ST4",
          "ST4",
          "ST4",
          "ST4",
          "ST4",
          "ST5",
          "ST5",
          "ST5",
          "ST5",
          "ST5",
          "ST5",
          "ST5",
          "ST5",
          "ST5",
          "ST5",
          "ST5",
          "ST5",
          "ST5",
          "ST5",
          "ST5",
          "ST5",
          "ST5",
          "ST5",
          "ST5",
          "ST5",
          "ST5",
          "ST5",
          "ST5",
          "ST5",
          "ST5",
          "ST5",
          "ST5",
          "ST5",
          "ST5",
          "ST5",
          "ST5",
          "ST5",
          "ST5",
          "ST5",
          "ST5",
          "ST5",
          "ST5",
          "ST5",
          "ST5",
          "ST5",
          "ST6",
          "ST6",
          "ST6",
          "ST6",
          "ST6",
          "ST6",
          "ST6",
          "ST6",
          "ST6",
          "ST6",
          "ST6",
          "ST6",
          "ST6",
          "ST6",
          "ST6",
          "ST6",
          "ST6",
          "ST6",
          "ST6",
          "ST6",
          "ST6",
          "ST6",
          "ST6",
          "ST6",
          "ST6",
          "ST6",
          "ST6",
          "ST6",
          "ST6",
          "ST6",
          "ST6",
          "ST6",
          "ST6",
          "ST6",
          "ST6",
          "ST6",
          "ST6",
          "ST6",
          "ST6",
          "ST6"
         ],
         "x0": " ",
         "xaxis": "x",
         "y": {
          "bdata": "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",
          "dtype": "f8"
         },
         "y0": " ",
         "yaxis": "y"
        }
       ],
       "layout": {
        "boxmode": "group",
        "height": 500,
        "legend": {
         "title": {
          "text": "CmR"
         },
         "tracegroupgap": 0
        },
        "margin": {
         "t": 60
        },
        "template": {
         "data": {
          "bar": [
           {
            "error_x": {
             "color": "rgb(36,36,36)"
            },
            "error_y": {
             "color": "rgb(36,36,36)"
            },
            "marker": {
             "line": {
              "color": "white",
              "width": 0.5
             },
             "pattern": {
              "fillmode": "overlay",
              "size": 10,
              "solidity": 0.2
             }
            },
            "type": "bar"
           }
          ],
          "barpolar": [
           {
            "marker": {
             "line": {
              "color": "white",
              "width": 0.5
             },
             "pattern": {
              "fillmode": "overlay",
              "size": 10,
              "solidity": 0.2
             }
            },
            "type": "barpolar"
           }
          ],
          "carpet": [
           {
            "aaxis": {
             "endlinecolor": "rgb(36,36,36)",
             "gridcolor": "white",
             "linecolor": "white",
             "minorgridcolor": "white",
             "startlinecolor": "rgb(36,36,36)"
            },
            "baxis": {
             "endlinecolor": "rgb(36,36,36)",
             "gridcolor": "white",
             "linecolor": "white",
             "minorgridcolor": "white",
             "startlinecolor": "rgb(36,36,36)"
            },
            "type": "carpet"
           }
          ],
          "choropleth": [
           {
            "colorbar": {
             "outlinewidth": 1,
             "tickcolor": "rgb(36,36,36)",
             "ticks": "outside"
            },
            "type": "choropleth"
           }
          ],
          "contour": [
           {
            "colorbar": {
             "outlinewidth": 1,
             "tickcolor": "rgb(36,36,36)",
             "ticks": "outside"
            },
            "colorscale": [
             [
              0,
              "#440154"
             ],
             [
              0.1111111111111111,
              "#482878"
             ],
             [
              0.2222222222222222,
              "#3e4989"
             ],
             [
              0.3333333333333333,
              "#31688e"
             ],
             [
              0.4444444444444444,
              "#26828e"
             ],
             [
              0.5555555555555556,
              "#1f9e89"
             ],
             [
              0.6666666666666666,
              "#35b779"
             ],
             [
              0.7777777777777778,
              "#6ece58"
             ],
             [
              0.8888888888888888,
              "#b5de2b"
             ],
             [
              1,
              "#fde725"
             ]
            ],
            "type": "contour"
           }
          ],
          "contourcarpet": [
           {
            "colorbar": {
             "outlinewidth": 1,
             "tickcolor": "rgb(36,36,36)",
             "ticks": "outside"
            },
            "type": "contourcarpet"
           }
          ],
          "heatmap": [
           {
            "colorbar": {
             "outlinewidth": 1,
             "tickcolor": "rgb(36,36,36)",
             "ticks": "outside"
            },
            "colorscale": [
             [
              0,
              "#440154"
             ],
             [
              0.1111111111111111,
              "#482878"
             ],
             [
              0.2222222222222222,
              "#3e4989"
             ],
             [
              0.3333333333333333,
              "#31688e"
             ],
             [
              0.4444444444444444,
              "#26828e"
             ],
             [
              0.5555555555555556,
              "#1f9e89"
             ],
             [
              0.6666666666666666,
              "#35b779"
             ],
             [
              0.7777777777777778,
              "#6ece58"
             ],
             [
              0.8888888888888888,
              "#b5de2b"
             ],
             [
              1,
              "#fde725"
             ]
            ],
            "type": "heatmap"
           }
          ],
          "histogram": [
           {
            "marker": {
             "line": {
              "color": "white",
              "width": 0.6
             }
            },
            "type": "histogram"
           }
          ],
          "histogram2d": [
           {
            "colorbar": {
             "outlinewidth": 1,
             "tickcolor": "rgb(36,36,36)",
             "ticks": "outside"
            },
            "colorscale": [
             [
              0,
              "#440154"
             ],
             [
              0.1111111111111111,
              "#482878"
             ],
             [
              0.2222222222222222,
              "#3e4989"
             ],
             [
              0.3333333333333333,
              "#31688e"
             ],
             [
              0.4444444444444444,
              "#26828e"
             ],
             [
              0.5555555555555556,
              "#1f9e89"
             ],
             [
              0.6666666666666666,
              "#35b779"
             ],
             [
              0.7777777777777778,
              "#6ece58"
             ],
             [
              0.8888888888888888,
              "#b5de2b"
             ],
             [
              1,
              "#fde725"
             ]
            ],
            "type": "histogram2d"
           }
          ],
          "histogram2dcontour": [
           {
            "colorbar": {
             "outlinewidth": 1,
             "tickcolor": "rgb(36,36,36)",
             "ticks": "outside"
            },
            "colorscale": [
             [
              0,
              "#440154"
             ],
             [
              0.1111111111111111,
              "#482878"
             ],
             [
              0.2222222222222222,
              "#3e4989"
             ],
             [
              0.3333333333333333,
              "#31688e"
             ],
             [
              0.4444444444444444,
              "#26828e"
             ],
             [
              0.5555555555555556,
              "#1f9e89"
             ],
             [
              0.6666666666666666,
              "#35b779"
             ],
             [
              0.7777777777777778,
              "#6ece58"
             ],
             [
              0.8888888888888888,
              "#b5de2b"
             ],
             [
              1,
              "#fde725"
             ]
            ],
            "type": "histogram2dcontour"
           }
          ],
          "mesh3d": [
           {
            "colorbar": {
             "outlinewidth": 1,
             "tickcolor": "rgb(36,36,36)",
             "ticks": "outside"
            },
            "type": "mesh3d"
           }
          ],
          "parcoords": [
           {
            "line": {
             "colorbar": {
              "outlinewidth": 1,
              "tickcolor": "rgb(36,36,36)",
              "ticks": "outside"
             }
            },
            "type": "parcoords"
           }
          ],
          "pie": [
           {
            "automargin": true,
            "type": "pie"
           }
          ],
          "scatter": [
           {
            "fillpattern": {
             "fillmode": "overlay",
             "size": 10,
             "solidity": 0.2
            },
            "type": "scatter"
           }
          ],
          "scatter3d": [
           {
            "line": {
             "colorbar": {
              "outlinewidth": 1,
              "tickcolor": "rgb(36,36,36)",
              "ticks": "outside"
             }
            },
            "marker": {
             "colorbar": {
              "outlinewidth": 1,
              "tickcolor": "rgb(36,36,36)",
              "ticks": "outside"
             }
            },
            "type": "scatter3d"
           }
          ],
          "scattercarpet": [
           {
            "marker": {
             "colorbar": {
              "outlinewidth": 1,
              "tickcolor": "rgb(36,36,36)",
              "ticks": "outside"
             }
            },
            "type": "scattercarpet"
           }
          ],
          "scattergeo": [
           {
            "marker": {
             "colorbar": {
              "outlinewidth": 1,
              "tickcolor": "rgb(36,36,36)",
              "ticks": "outside"
             }
            },
            "type": "scattergeo"
           }
          ],
          "scattergl": [
           {
            "marker": {
             "colorbar": {
              "outlinewidth": 1,
              "tickcolor": "rgb(36,36,36)",
              "ticks": "outside"
             }
            },
            "type": "scattergl"
           }
          ],
          "scattermap": [
           {
            "marker": {
             "colorbar": {
              "outlinewidth": 1,
              "tickcolor": "rgb(36,36,36)",
              "ticks": "outside"
             }
            },
            "type": "scattermap"
           }
          ],
          "scattermapbox": [
           {
            "marker": {
             "colorbar": {
              "outlinewidth": 1,
              "tickcolor": "rgb(36,36,36)",
              "ticks": "outside"
             }
            },
            "type": "scattermapbox"
           }
          ],
          "scatterpolar": [
           {
            "marker": {
             "colorbar": {
              "outlinewidth": 1,
              "tickcolor": "rgb(36,36,36)",
              "ticks": "outside"
             }
            },
            "type": "scatterpolar"
           }
          ],
          "scatterpolargl": [
           {
            "marker": {
             "colorbar": {
              "outlinewidth": 1,
              "tickcolor": "rgb(36,36,36)",
              "ticks": "outside"
             }
            },
            "type": "scatterpolargl"
           }
          ],
          "scatterternary": [
           {
            "marker": {
             "colorbar": {
              "outlinewidth": 1,
              "tickcolor": "rgb(36,36,36)",
              "ticks": "outside"
             }
            },
            "type": "scatterternary"
           }
          ],
          "surface": [
           {
            "colorbar": {
             "outlinewidth": 1,
             "tickcolor": "rgb(36,36,36)",
             "ticks": "outside"
            },
            "colorscale": [
             [
              0,
              "#440154"
             ],
             [
              0.1111111111111111,
              "#482878"
             ],
             [
              0.2222222222222222,
              "#3e4989"
             ],
             [
              0.3333333333333333,
              "#31688e"
             ],
             [
              0.4444444444444444,
              "#26828e"
             ],
             [
              0.5555555555555556,
              "#1f9e89"
             ],
             [
              0.6666666666666666,
              "#35b779"
             ],
             [
              0.7777777777777778,
              "#6ece58"
             ],
             [
              0.8888888888888888,
              "#b5de2b"
             ],
             [
              1,
              "#fde725"
             ]
            ],
            "type": "surface"
           }
          ],
          "table": [
           {
            "cells": {
             "fill": {
              "color": "rgb(237,237,237)"
             },
             "line": {
              "color": "white"
             }
            },
            "header": {
             "fill": {
              "color": "rgb(217,217,217)"
             },
             "line": {
              "color": "white"
             }
            },
            "type": "table"
           }
          ]
         },
         "layout": {
          "annotationdefaults": {
           "arrowhead": 0,
           "arrowwidth": 1
          },
          "autotypenumbers": "strict",
          "coloraxis": {
           "colorbar": {
            "outlinewidth": 1,
            "tickcolor": "rgb(36,36,36)",
            "ticks": "outside"
           }
          },
          "colorscale": {
           "diverging": [
            [
             0,
             "rgb(103,0,31)"
            ],
            [
             0.1,
             "rgb(178,24,43)"
            ],
            [
             0.2,
             "rgb(214,96,77)"
            ],
            [
             0.3,
             "rgb(244,165,130)"
            ],
            [
             0.4,
             "rgb(253,219,199)"
            ],
            [
             0.5,
             "rgb(247,247,247)"
            ],
            [
             0.6,
             "rgb(209,229,240)"
            ],
            [
             0.7,
             "rgb(146,197,222)"
            ],
            [
             0.8,
             "rgb(67,147,195)"
            ],
            [
             0.9,
             "rgb(33,102,172)"
            ],
            [
             1,
             "rgb(5,48,97)"
            ]
           ],
           "sequential": [
            [
             0,
             "#440154"
            ],
            [
             0.1111111111111111,
             "#482878"
            ],
            [
             0.2222222222222222,
             "#3e4989"
            ],
            [
             0.3333333333333333,
             "#31688e"
            ],
            [
             0.4444444444444444,
             "#26828e"
            ],
            [
             0.5555555555555556,
             "#1f9e89"
            ],
            [
             0.6666666666666666,
             "#35b779"
            ],
            [
             0.7777777777777778,
             "#6ece58"
            ],
            [
             0.8888888888888888,
             "#b5de2b"
            ],
            [
             1,
             "#fde725"
            ]
           ],
           "sequentialminus": [
            [
             0,
             "#440154"
            ],
            [
             0.1111111111111111,
             "#482878"
            ],
            [
             0.2222222222222222,
             "#3e4989"
            ],
            [
             0.3333333333333333,
             "#31688e"
            ],
            [
             0.4444444444444444,
             "#26828e"
            ],
            [
             0.5555555555555556,
             "#1f9e89"
            ],
            [
             0.6666666666666666,
             "#35b779"
            ],
            [
             0.7777777777777778,
             "#6ece58"
            ],
            [
             0.8888888888888888,
             "#b5de2b"
            ],
            [
             1,
             "#fde725"
            ]
           ]
          },
          "colorway": [
           "#1F77B4",
           "#FF7F0E",
           "#2CA02C",
           "#D62728",
           "#9467BD",
           "#8C564B",
           "#E377C2",
           "#7F7F7F",
           "#BCBD22",
           "#17BECF"
          ],
          "font": {
           "color": "rgb(36,36,36)"
          },
          "geo": {
           "bgcolor": "white",
           "lakecolor": "white",
           "landcolor": "white",
           "showlakes": true,
           "showland": true,
           "subunitcolor": "white"
          },
          "hoverlabel": {
           "align": "left"
          },
          "hovermode": "closest",
          "mapbox": {
           "style": "light"
          },
          "paper_bgcolor": "white",
          "plot_bgcolor": "white",
          "polar": {
           "angularaxis": {
            "gridcolor": "rgb(232,232,232)",
            "linecolor": "rgb(36,36,36)",
            "showgrid": false,
            "showline": true,
            "ticks": "outside"
           },
           "bgcolor": "white",
           "radialaxis": {
            "gridcolor": "rgb(232,232,232)",
            "linecolor": "rgb(36,36,36)",
            "showgrid": false,
            "showline": true,
            "ticks": "outside"
           }
          },
          "scene": {
           "xaxis": {
            "backgroundcolor": "white",
            "gridcolor": "rgb(232,232,232)",
            "gridwidth": 2,
            "linecolor": "rgb(36,36,36)",
            "showbackground": true,
            "showgrid": false,
            "showline": true,
            "ticks": "outside",
            "zeroline": false,
            "zerolinecolor": "rgb(36,36,36)"
           },
           "yaxis": {
            "backgroundcolor": "white",
            "gridcolor": "rgb(232,232,232)",
            "gridwidth": 2,
            "linecolor": "rgb(36,36,36)",
            "showbackground": true,
            "showgrid": false,
            "showline": true,
            "ticks": "outside",
            "zeroline": false,
            "zerolinecolor": "rgb(36,36,36)"
           },
           "zaxis": {
            "backgroundcolor": "white",
            "gridcolor": "rgb(232,232,232)",
            "gridwidth": 2,
            "linecolor": "rgb(36,36,36)",
            "showbackground": true,
            "showgrid": false,
            "showline": true,
            "ticks": "outside",
            "zeroline": false,
            "zerolinecolor": "rgb(36,36,36)"
           }
          },
          "shapedefaults": {
           "fillcolor": "black",
           "line": {
            "width": 0
           },
           "opacity": 0.3
          },
          "ternary": {
           "aaxis": {
            "gridcolor": "rgb(232,232,232)",
            "linecolor": "rgb(36,36,36)",
            "showgrid": false,
            "showline": true,
            "ticks": "outside"
           },
           "baxis": {
            "gridcolor": "rgb(232,232,232)",
            "linecolor": "rgb(36,36,36)",
            "showgrid": false,
            "showline": true,
            "ticks": "outside"
           },
           "bgcolor": "white",
           "caxis": {
            "gridcolor": "rgb(232,232,232)",
            "linecolor": "rgb(36,36,36)",
            "showgrid": false,
            "showline": true,
            "ticks": "outside"
           }
          },
          "title": {
           "x": 0.05
          },
          "xaxis": {
           "automargin": true,
           "gridcolor": "rgb(232,232,232)",
           "linecolor": "rgb(36,36,36)",
           "showgrid": false,
           "showline": true,
           "ticks": "outside",
           "title": {
            "standoff": 15
           },
           "zeroline": false,
           "zerolinecolor": "rgb(36,36,36)"
          },
          "yaxis": {
           "automargin": true,
           "gridcolor": "rgb(232,232,232)",
           "linecolor": "rgb(36,36,36)",
           "showgrid": false,
           "showline": true,
           "ticks": "outside",
           "title": {
            "standoff": 15
           },
           "zeroline": false,
           "zerolinecolor": "rgb(36,36,36)"
          }
         }
        },
        "width": 700,
        "xaxis": {
         "anchor": "y",
         "domain": [
          0,
          1
         ],
         "title": {
          "text": "strain"
         }
        },
        "yaxis": {
         "anchor": "x",
         "domain": [
          0,
          1
         ],
         "title": {
          "text": "Nb"
         },
         "type": "log"
        }
       }
      }
     },
     "metadata": {},
     "output_type": "display_data"
    },
    {
     "name": "stdout",
     "output_type": "stream",
     "text": [
      "ST1\n",
      "comparison: CmR 20 vs NA\n",
      "statistic: -22.931617134457113\n",
      "p_value: 2.0841732022461782e-36\n",
      "significant: True\n",
      "ST2\n",
      "comparison: CmR 20 vs NA\n",
      "statistic: -1.9088240245105894\n",
      "p_value: 0.0599632359426199\n",
      "significant: False\n",
      "ST4\n",
      "comparison: CmR 20 vs NA\n",
      "statistic: 2.8448337258306227\n",
      "p_value: 0.005672889379230291\n",
      "significant: True\n",
      "ST5\n",
      "comparison: CmR 20 vs NA\n",
      "statistic: -24.683442212738488\n",
      "p_value: 1.3293259222646708e-38\n",
      "significant: True\n",
      "ST6\n",
      "comparison: CmR 20 vs NA\n",
      "statistic: -1.581835296580436\n",
      "p_value: 0.11773389222354885\n",
      "significant: False\n"
     ]
    }
   ],
   "source": [
    "df_merge = df_merge.sort_values(['strain', 'CmR'],ascending=True)\n",
    "df_plot = df_merge.loc[(df_merge['Inoculation']=='barcodes')|(df_merge['Inoculation_2']=='barcodes')]\n",
    "fig = px.box(df_plot,\n",
    "                x = 'strain', \n",
    "                y = 'Nb',\n",
    "                color = 'CmR',\n",
    "                points = 'all',\n",
    "                log_y=True,\n",
    "                template = 'simple_white',\n",
    "                hover_data=['sample_id'],width = 700,\n",
    "                height = 500,\n",
    "                )\n",
    "fig.show()\n",
    "\n",
    "def compare_groups_ttest(df, grouping_col, response_col):\n",
    "    \"\"\"\n",
    "    Two-sample t-test for comparing two groups\n",
    "    \"\"\"\n",
    "    groups = df[grouping_col].unique()\n",
    "    \n",
    "    if len(groups) == 2:\n",
    "        group1 = df[df[grouping_col] == groups[0]][response_col].dropna()\n",
    "        group2 = df[df[grouping_col] == groups[1]][response_col].dropna()\n",
    "        \n",
    "        # Perform t-test\n",
    "        statistic, p_value = stats.ttest_ind(group1, group2)\n",
    "        \n",
    "        return {\n",
    "            'comparison': f'{groups[0]} vs {groups[1]}',\n",
    "            'statistic': statistic,\n",
    "            'p_value': p_value,\n",
    "            'significant': p_value < 0.05\n",
    "        }\n",
    "    elif len(groups) > 2:\n",
    "        # Use ANOVA for >2 groups\n",
    "        group_data = [df[df[grouping_col] == g][response_col].dropna() for g in groups]\n",
    "        statistic, p_value = stats.f_oneway(*group_data)\n",
    "        \n",
    "        return {\n",
    "            'comparison': f'{grouping_col} (ANOVA)',\n",
    "            'statistic': statistic,\n",
    "            'p_value': p_value,\n",
    "            'significant': p_value < 0.05\n",
    "        }\n",
    "\n",
    "# Example usage:\n",
    "for strain in df_plot['strain'].unique():\n",
    "    df_plot = df_plot.sort_values(['CmR'])\n",
    "    print(strain)\n",
    "    result = compare_groups_ttest(df_plot[df_plot['strain']==strain], 'CmR', 'Nb')\n",
    "    \n",
    "    for  entry in result.keys():\n",
    "        print(entry + \": \" + str(result[entry]))"
   ]
  },
  {
   "cell_type": "markdown",
   "id": "acf574b0",
   "metadata": {},
   "source": [
    "## GAM media"
   ]
  },
  {
   "cell_type": "code",
   "execution_count": 8,
   "id": "5cd17107",
   "metadata": {},
   "outputs": [
    {
     "data": {
      "application/vnd.plotly.v1+json": {
       "config": {
        "plotlyServerURL": "https://plotly.com"
       },
       "data": [
        {
         "alignmentgroup": "True",
         "boxpoints": "all",
         "customdata": [
          [
           "E1"
          ],
          [
           "E2"
          ],
          [
           "E3"
          ],
          [
           "E5"
          ],
          [
           "E6"
          ],
          [
           "F1"
          ],
          [
           "F2"
          ],
          [
           "F3"
          ],
          [
           "F5"
          ],
          [
           "F6"
          ],
          [
           "G1"
          ],
          [
           "G2"
          ],
          [
           "G3"
          ],
          [
           "G5"
          ],
          [
           "G6"
          ],
          [
           "H1"
          ],
          [
           "H2"
          ],
          [
           "H3"
          ],
          [
           "H5"
          ],
          [
           "H6"
          ],
          [
           "A1"
          ],
          [
           "A2"
          ],
          [
           "A3"
          ],
          [
           "A5"
          ],
          [
           "A6"
          ],
          [
           "B1"
          ],
          [
           "B2"
          ],
          [
           "B3"
          ],
          [
           "B5"
          ],
          [
           "B6"
          ],
          [
           "C1"
          ],
          [
           "C2"
          ],
          [
           "C3"
          ],
          [
           "C5"
          ],
          [
           "C6"
          ],
          [
           "D1"
          ],
          [
           "D2"
          ],
          [
           "D3"
          ],
          [
           "D5"
          ],
          [
           "D6"
          ],
          [
           "E1"
          ],
          [
           "E2"
          ],
          [
           "E3"
          ],
          [
           "E5"
          ],
          [
           "E6"
          ],
          [
           "F1"
          ],
          [
           "F2"
          ],
          [
           "F3"
          ],
          [
           "F5"
          ],
          [
           "F6"
          ],
          [
           "G1"
          ],
          [
           "G2"
          ],
          [
           "G3"
          ],
          [
           "G5"
          ],
          [
           "G6"
          ],
          [
           "H1"
          ],
          [
           "H2"
          ],
          [
           "H3"
          ],
          [
           "H5"
          ],
          [
           "H6"
          ],
          [
           "A1"
          ],
          [
           "A2"
          ],
          [
           "A3"
          ],
          [
           "A5"
          ],
          [
           "A6"
          ],
          [
           "B1"
          ],
          [
           "B2"
          ],
          [
           "B3"
          ],
          [
           "B5"
          ],
          [
           "B6"
          ],
          [
           "C1"
          ],
          [
           "C2"
          ],
          [
           "C3"
          ],
          [
           "C5"
          ],
          [
           "C6"
          ],
          [
           "D1"
          ],
          [
           "D2"
          ],
          [
           "D3"
          ],
          [
           "D5"
          ],
          [
           "D6"
          ],
          [
           "E1"
          ],
          [
           "E2"
          ],
          [
           "E3"
          ],
          [
           "E5"
          ],
          [
           "E6"
          ],
          [
           "F1"
          ],
          [
           "F2"
          ],
          [
           "F3"
          ],
          [
           "F5"
          ],
          [
           "F6"
          ],
          [
           "G1"
          ],
          [
           "G2"
          ],
          [
           "G3"
          ],
          [
           "G5"
          ],
          [
           "G6"
          ],
          [
           "H1"
          ],
          [
           "H2"
          ],
          [
           "H3"
          ],
          [
           "H5"
          ],
          [
           "H6"
          ],
          [
           "A1"
          ],
          [
           "A2"
          ],
          [
           "A3"
          ],
          [
           "A5"
          ],
          [
           "A6"
          ],
          [
           "B1"
          ],
          [
           "B2"
          ],
          [
           "B3"
          ],
          [
           "B5"
          ],
          [
           "B6"
          ],
          [
           "C1"
          ],
          [
           "C2"
          ],
          [
           "C3"
          ],
          [
           "C5"
          ],
          [
           "C6"
          ],
          [
           "D1"
          ],
          [
           "D2"
          ],
          [
           "D3"
          ],
          [
           "D5"
          ],
          [
           "D6"
          ],
          [
           "E1"
          ],
          [
           "E2"
          ],
          [
           "E3"
          ],
          [
           "E5"
          ],
          [
           "E6"
          ],
          [
           "F1"
          ],
          [
           "F2"
          ],
          [
           "F3"
          ],
          [
           "F5"
          ],
          [
           "F6"
          ],
          [
           "G1"
          ],
          [
           "G2"
          ],
          [
           "G3"
          ],
          [
           "G5"
          ],
          [
           "G6"
          ],
          [
           "H1"
          ],
          [
           "H2"
          ],
          [
           "H3"
          ],
          [
           "H5"
          ],
          [
           "H6"
          ],
          [
           "A1"
          ],
          [
           "A2"
          ],
          [
           "A3"
          ],
          [
           "A5"
          ],
          [
           "A6"
          ],
          [
           "B1"
          ],
          [
           "B2"
          ],
          [
           "B3"
          ],
          [
           "B5"
          ],
          [
           "B6"
          ],
          [
           "C1"
          ],
          [
           "C2"
          ],
          [
           "C3"
          ],
          [
           "C5"
          ],
          [
           "C6"
          ],
          [
           "D1"
          ],
          [
           "D2"
          ],
          [
           "D3"
          ],
          [
           "D5"
          ],
          [
           "D6"
          ],
          [
           "E1"
          ],
          [
           "E2"
          ],
          [
           "E3"
          ],
          [
           "E5"
          ],
          [
           "E6"
          ],
          [
           "F1"
          ],
          [
           "F2"
          ],
          [
           "F3"
          ],
          [
           "F5"
          ],
          [
           "F6"
          ],
          [
           "G1"
          ],
          [
           "G2"
          ],
          [
           "G3"
          ],
          [
           "G5"
          ],
          [
           "G6"
          ],
          [
           "H1"
          ],
          [
           "H2"
          ],
          [
           "H3"
          ],
          [
           "H5"
          ],
          [
           "H6"
          ],
          [
           "A1"
          ],
          [
           "A2"
          ],
          [
           "A3"
          ],
          [
           "A5"
          ],
          [
           "A6"
          ],
          [
           "B1"
          ],
          [
           "B2"
          ],
          [
           "B3"
          ],
          [
           "B5"
          ],
          [
           "B6"
          ],
          [
           "C1"
          ],
          [
           "C2"
          ],
          [
           "C3"
          ],
          [
           "C5"
          ],
          [
           "C6"
          ],
          [
           "D1"
          ],
          [
           "D2"
          ],
          [
           "D3"
          ],
          [
           "D5"
          ],
          [
           "D6"
          ]
         ],
         "hovertemplate": "Media=GAM+<br>strain=%{x}<br>Nb=%{y}<br>sample_id=%{customdata[0]}<extra></extra>",
         "legendgroup": "GAM+",
         "marker": {
          "color": "#1F77B4"
         },
         "name": "GAM+",
         "notched": false,
         "offsetgroup": "GAM+",
         "orientation": "v",
         "showlegend": true,
         "type": "box",
         "x": [
          "ST1",
          "ST1",
          "ST1",
          "ST1",
          "ST1",
          "ST1",
          "ST1",
          "ST1",
          "ST1",
          "ST1",
          "ST1",
          "ST1",
          "ST1",
          "ST1",
          "ST1",
          "ST1",
          "ST1",
          "ST1",
          "ST1",
          "ST1",
          "ST1",
          "ST1",
          "ST1",
          "ST1",
          "ST1",
          "ST1",
          "ST1",
          "ST1",
          "ST1",
          "ST1",
          "ST1",
          "ST1",
          "ST1",
          "ST1",
          "ST1",
          "ST1",
          "ST1",
          "ST1",
          "ST1",
          "ST1",
          "ST2",
          "ST2",
          "ST2",
          "ST2",
          "ST2",
          "ST2",
          "ST2",
          "ST2",
          "ST2",
          "ST2",
          "ST2",
          "ST2",
          "ST2",
          "ST2",
          "ST2",
          "ST2",
          "ST2",
          "ST2",
          "ST2",
          "ST2",
          "ST2",
          "ST2",
          "ST2",
          "ST2",
          "ST2",
          "ST2",
          "ST2",
          "ST2",
          "ST2",
          "ST2",
          "ST2",
          "ST2",
          "ST2",
          "ST2",
          "ST2",
          "ST2",
          "ST2",
          "ST2",
          "ST2",
          "ST2",
          "ST4",
          "ST4",
          "ST4",
          "ST4",
          "ST4",
          "ST4",
          "ST4",
          "ST4",
          "ST4",
          "ST4",
          "ST4",
          "ST4",
          "ST4",
          "ST4",
          "ST4",
          "ST4",
          "ST4",
          "ST4",
          "ST4",
          "ST4",
          "ST4",
          "ST4",
          "ST4",
          "ST4",
          "ST4",
          "ST4",
          "ST4",
          "ST4",
          "ST4",
          "ST4",
          "ST4",
          "ST4",
          "ST4",
          "ST4",
          "ST4",
          "ST4",
          "ST4",
          "ST4",
          "ST4",
          "ST4",
          "ST5",
          "ST5",
          "ST5",
          "ST5",
          "ST5",
          "ST5",
          "ST5",
          "ST5",
          "ST5",
          "ST5",
          "ST5",
          "ST5",
          "ST5",
          "ST5",
          "ST5",
          "ST5",
          "ST5",
          "ST5",
          "ST5",
          "ST5",
          "ST5",
          "ST5",
          "ST5",
          "ST5",
          "ST5",
          "ST5",
          "ST5",
          "ST5",
          "ST5",
          "ST5",
          "ST5",
          "ST5",
          "ST5",
          "ST5",
          "ST5",
          "ST5",
          "ST5",
          "ST5",
          "ST5",
          "ST5",
          "ST6",
          "ST6",
          "ST6",
          "ST6",
          "ST6",
          "ST6",
          "ST6",
          "ST6",
          "ST6",
          "ST6",
          "ST6",
          "ST6",
          "ST6",
          "ST6",
          "ST6",
          "ST6",
          "ST6",
          "ST6",
          "ST6",
          "ST6",
          "ST6",
          "ST6",
          "ST6",
          "ST6",
          "ST6",
          "ST6",
          "ST6",
          "ST6",
          "ST6",
          "ST6",
          "ST6",
          "ST6",
          "ST6",
          "ST6",
          "ST6",
          "ST6",
          "ST6",
          "ST6",
          "ST6",
          "ST6"
         ],
         "x0": " ",
         "xaxis": "x",
         "y": {
          "bdata": "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",
          "dtype": "f8"
         },
         "y0": " ",
         "yaxis": "y"
        },
        {
         "alignmentgroup": "True",
         "boxpoints": "all",
         "customdata": [
          [
           "E7"
          ],
          [
           "E8"
          ],
          [
           "E9"
          ],
          [
           "E11"
          ],
          [
           "E12"
          ],
          [
           "F7"
          ],
          [
           "F8"
          ],
          [
           "F9"
          ],
          [
           "F11"
          ],
          [
           "F12"
          ],
          [
           "G7"
          ],
          [
           "G8"
          ],
          [
           "G9"
          ],
          [
           "G11"
          ],
          [
           "G12"
          ],
          [
           "H7"
          ],
          [
           "H8"
          ],
          [
           "H9"
          ],
          [
           "H11"
          ],
          [
           "H12"
          ],
          [
           "A7"
          ],
          [
           "A8"
          ],
          [
           "A9"
          ],
          [
           "A11"
          ],
          [
           "A12"
          ],
          [
           "B7"
          ],
          [
           "B8"
          ],
          [
           "B9"
          ],
          [
           "B11"
          ],
          [
           "B12"
          ],
          [
           "C7"
          ],
          [
           "C8"
          ],
          [
           "C9"
          ],
          [
           "C11"
          ],
          [
           "C12"
          ],
          [
           "D7"
          ],
          [
           "D8"
          ],
          [
           "D9"
          ],
          [
           "D11"
          ],
          [
           "D12"
          ],
          [
           "E7"
          ],
          [
           "E8"
          ],
          [
           "E9"
          ],
          [
           "E11"
          ],
          [
           "E12"
          ],
          [
           "F7"
          ],
          [
           "F8"
          ],
          [
           "F9"
          ],
          [
           "F11"
          ],
          [
           "F12"
          ],
          [
           "G7"
          ],
          [
           "G8"
          ],
          [
           "G9"
          ],
          [
           "G11"
          ],
          [
           "G12"
          ],
          [
           "H7"
          ],
          [
           "H8"
          ],
          [
           "H9"
          ],
          [
           "H11"
          ],
          [
           "H12"
          ],
          [
           "A7"
          ],
          [
           "A8"
          ],
          [
           "A9"
          ],
          [
           "A11"
          ],
          [
           "A12"
          ],
          [
           "B7"
          ],
          [
           "B8"
          ],
          [
           "B9"
          ],
          [
           "B11"
          ],
          [
           "B12"
          ],
          [
           "C7"
          ],
          [
           "C8"
          ],
          [
           "C9"
          ],
          [
           "C11"
          ],
          [
           "C12"
          ],
          [
           "D7"
          ],
          [
           "D8"
          ],
          [
           "D9"
          ],
          [
           "D11"
          ],
          [
           "D12"
          ],
          [
           "E7"
          ],
          [
           "E8"
          ],
          [
           "E9"
          ],
          [
           "E11"
          ],
          [
           "E12"
          ],
          [
           "F7"
          ],
          [
           "F8"
          ],
          [
           "F9"
          ],
          [
           "F11"
          ],
          [
           "F12"
          ],
          [
           "G7"
          ],
          [
           "G8"
          ],
          [
           "G9"
          ],
          [
           "G11"
          ],
          [
           "G12"
          ],
          [
           "H7"
          ],
          [
           "H8"
          ],
          [
           "H9"
          ],
          [
           "H11"
          ],
          [
           "H12"
          ],
          [
           "A7"
          ],
          [
           "A8"
          ],
          [
           "A9"
          ],
          [
           "A11"
          ],
          [
           "A12"
          ],
          [
           "B7"
          ],
          [
           "B8"
          ],
          [
           "B9"
          ],
          [
           "B11"
          ],
          [
           "B12"
          ],
          [
           "C7"
          ],
          [
           "C8"
          ],
          [
           "C9"
          ],
          [
           "C11"
          ],
          [
           "C12"
          ],
          [
           "D7"
          ],
          [
           "D8"
          ],
          [
           "D9"
          ],
          [
           "D11"
          ],
          [
           "D12"
          ],
          [
           "E7"
          ],
          [
           "E8"
          ],
          [
           "E9"
          ],
          [
           "E11"
          ],
          [
           "E12"
          ],
          [
           "F7"
          ],
          [
           "F8"
          ],
          [
           "F9"
          ],
          [
           "F11"
          ],
          [
           "F12"
          ],
          [
           "G7"
          ],
          [
           "G8"
          ],
          [
           "G9"
          ],
          [
           "G11"
          ],
          [
           "G12"
          ],
          [
           "H7"
          ],
          [
           "H8"
          ],
          [
           "H9"
          ],
          [
           "H11"
          ],
          [
           "H12"
          ],
          [
           "A7"
          ],
          [
           "A8"
          ],
          [
           "A9"
          ],
          [
           "A11"
          ],
          [
           "A12"
          ],
          [
           "B7"
          ],
          [
           "B8"
          ],
          [
           "B9"
          ],
          [
           "B11"
          ],
          [
           "B12"
          ],
          [
           "C7"
          ],
          [
           "C8"
          ],
          [
           "C9"
          ],
          [
           "C11"
          ],
          [
           "C12"
          ],
          [
           "D7"
          ],
          [
           "D8"
          ],
          [
           "D9"
          ],
          [
           "D11"
          ],
          [
           "D12"
          ],
          [
           "E7"
          ],
          [
           "E8"
          ],
          [
           "E9"
          ],
          [
           "E11"
          ],
          [
           "E12"
          ],
          [
           "F7"
          ],
          [
           "F8"
          ],
          [
           "F9"
          ],
          [
           "F11"
          ],
          [
           "F12"
          ],
          [
           "G7"
          ],
          [
           "G8"
          ],
          [
           "G9"
          ],
          [
           "G11"
          ],
          [
           "G12"
          ],
          [
           "H7"
          ],
          [
           "H8"
          ],
          [
           "H9"
          ],
          [
           "H11"
          ],
          [
           "H12"
          ],
          [
           "A7"
          ],
          [
           "A8"
          ],
          [
           "A9"
          ],
          [
           "A11"
          ],
          [
           "A12"
          ],
          [
           "B7"
          ],
          [
           "B8"
          ],
          [
           "B9"
          ],
          [
           "B11"
          ],
          [
           "B12"
          ],
          [
           "C7"
          ],
          [
           "C8"
          ],
          [
           "C9"
          ],
          [
           "C11"
          ],
          [
           "C12"
          ],
          [
           "D7"
          ],
          [
           "D8"
          ],
          [
           "D9"
          ],
          [
           "D11"
          ],
          [
           "D12"
          ]
         ],
         "hovertemplate": "Media=GAM-<br>strain=%{x}<br>Nb=%{y}<br>sample_id=%{customdata[0]}<extra></extra>",
         "legendgroup": "GAM-",
         "marker": {
          "color": "#FF7F0E"
         },
         "name": "GAM-",
         "notched": false,
         "offsetgroup": "GAM-",
         "orientation": "v",
         "showlegend": true,
         "type": "box",
         "x": [
          "ST1",
          "ST1",
          "ST1",
          "ST1",
          "ST1",
          "ST1",
          "ST1",
          "ST1",
          "ST1",
          "ST1",
          "ST1",
          "ST1",
          "ST1",
          "ST1",
          "ST1",
          "ST1",
          "ST1",
          "ST1",
          "ST1",
          "ST1",
          "ST1",
          "ST1",
          "ST1",
          "ST1",
          "ST1",
          "ST1",
          "ST1",
          "ST1",
          "ST1",
          "ST1",
          "ST1",
          "ST1",
          "ST1",
          "ST1",
          "ST1",
          "ST1",
          "ST1",
          "ST1",
          "ST1",
          "ST1",
          "ST2",
          "ST2",
          "ST2",
          "ST2",
          "ST2",
          "ST2",
          "ST2",
          "ST2",
          "ST2",
          "ST2",
          "ST2",
          "ST2",
          "ST2",
          "ST2",
          "ST2",
          "ST2",
          "ST2",
          "ST2",
          "ST2",
          "ST2",
          "ST2",
          "ST2",
          "ST2",
          "ST2",
          "ST2",
          "ST2",
          "ST2",
          "ST2",
          "ST2",
          "ST2",
          "ST2",
          "ST2",
          "ST2",
          "ST2",
          "ST2",
          "ST2",
          "ST2",
          "ST2",
          "ST2",
          "ST2",
          "ST4",
          "ST4",
          "ST4",
          "ST4",
          "ST4",
          "ST4",
          "ST4",
          "ST4",
          "ST4",
          "ST4",
          "ST4",
          "ST4",
          "ST4",
          "ST4",
          "ST4",
          "ST4",
          "ST4",
          "ST4",
          "ST4",
          "ST4",
          "ST4",
          "ST4",
          "ST4",
          "ST4",
          "ST4",
          "ST4",
          "ST4",
          "ST4",
          "ST4",
          "ST4",
          "ST4",
          "ST4",
          "ST4",
          "ST4",
          "ST4",
          "ST4",
          "ST4",
          "ST4",
          "ST4",
          "ST4",
          "ST5",
          "ST5",
          "ST5",
          "ST5",
          "ST5",
          "ST5",
          "ST5",
          "ST5",
          "ST5",
          "ST5",
          "ST5",
          "ST5",
          "ST5",
          "ST5",
          "ST5",
          "ST5",
          "ST5",
          "ST5",
          "ST5",
          "ST5",
          "ST5",
          "ST5",
          "ST5",
          "ST5",
          "ST5",
          "ST5",
          "ST5",
          "ST5",
          "ST5",
          "ST5",
          "ST5",
          "ST5",
          "ST5",
          "ST5",
          "ST5",
          "ST5",
          "ST5",
          "ST5",
          "ST5",
          "ST5",
          "ST6",
          "ST6",
          "ST6",
          "ST6",
          "ST6",
          "ST6",
          "ST6",
          "ST6",
          "ST6",
          "ST6",
          "ST6",
          "ST6",
          "ST6",
          "ST6",
          "ST6",
          "ST6",
          "ST6",
          "ST6",
          "ST6",
          "ST6",
          "ST6",
          "ST6",
          "ST6",
          "ST6",
          "ST6",
          "ST6",
          "ST6",
          "ST6",
          "ST6",
          "ST6",
          "ST6",
          "ST6",
          "ST6",
          "ST6",
          "ST6",
          "ST6",
          "ST6",
          "ST6",
          "ST6",
          "ST6"
         ],
         "x0": " ",
         "xaxis": "x",
         "y": {
          "bdata": "46JAj103H0A7AinGwCtOQKVrjyE7Q0VADn2VLudFK0ALSpZvHSEhQLFxBKT9NwdAPXUUZTvhSUAr8AT83d9CQBqeJ1M/RiJAB9EoDx6yAEBY4LzyCZItQPpU+kdKkElAy+yoDkV4RkDZi5aq0BI2QOWpHaADrRVAaWmgDFTz/T+cfZiGJPJJQG+PZq8jfUVAF1eHsKb/HEAVIawfLQARQKaohfEsGnlABZw2LKqyekB5J1lxAdJ4QKiDHnAUy3hAZ3QcxNH/dEBG5A2GYu90QC09yDh+Y3dAK/yrCc1Ad0BW7UNCWq1yQKwbBVXE+XRA/dYaUvRXd0DfBY3ZsG92QJBvdQXVNXhAxzfWB5u6d0CnCTtKHw1zQJF9uzEbonBAscGEq97pdUBXWXVPKoxuQLPIS+xlCXhAMX/J5vWfbECty9guoH/rP//gchGywaQ/boXsurv3wD9IrFFrHZ2/P0QV8ahyQLI/aZFYDLVxtz8N5YtkcaL5PwSeR1wR9rc/8oWhw2seqT9BnvxFr+a7P4EsRRziuM4/8u7D5qu2wj9lYMribPi1P61Hram3vLY/er6J9rhzvj9WgIEIcnm1P/KFocNrHqk/sVRzR7qTuT/KCjlb/GLAPzxOTlunMbI/ZWrZcx9krj+mn/XqCNeyP8Bo3CIL07c/ebSRpDfJrj+K8m3zbJ8GQKOsfP/w4LQ/8oWhw2seqT+QIQMFx8L+P4CZx7iHIrQ/S9osMVADG0Dh4jXw5UWuPwSf5HKzmbI/xZlhiRdzsz8YKROwKr7bP2Ogs6tC7LI/3lCCRdilvj/e0t8a+DPBPyEnjXsqT8E/8oWhw2seqT+CtV1/DOOuP6P4NoI+SPBAUOe698Di8UCTMDGY6VvxQC89c4VEquxAnVcyxCYx7UBHkLh2SPfwQDl0nZOxi/FAqiO99Cjr8ECiTrxYGAvyQH6iI8MsfO5Ap7q+vihI7UC9sJevg5HwQAVY2UORdvFAYkVwpKpF8UBvK3IFnKXtQIBfowk0FvFAYJj3sE8i70BaIG9d4k/wQP5q1aDENPFAtbJdfl1k7UDE08ga/M7vQJ9zhEvFr+9AYwzzeHQZ8UA2tjlfoPvwQGhquK2LGOlAqMcsTmgm8kAOkkCCC7DwQAfhzC7kc/FA/zhrLZca8EDcJ9CaPJflQLUM0BwDU/BAyR5xuRx/8UBabMoOTa3wQHvCBDBq8PBAPOs0YVPc5kBlxuIpeW/wQPvqQYRawPBAmH61did+8ECv/kzH/D7xQGmFPriYJOVAzK5rjFWhe0Ahbty5i3CVQBmbyasR99BAhJXBs/Vs3UCjhjoF1tjlQPBx3dVSneBASgD3BTtllECQswWFHuKGQDtlp+uUQdhAkdxszE4L50C0wS2C82TiQPfLIsJEMtpAKmTup6InxUAy5IyUINbhQLj4/xTHd+ZAP8Am+DJq4kANNRuwCrWMQHzM9q5qnNdAxe0V69X/40CWXjPivtzjQJ0yG+4n/wBBRC9zZ473/EBaOOMI+33/QPkn4ffD8gFBTNawHPD/AUGZGL4Sr3v8QG+4/KiBjvhAJ4XhKqDF/EAGKfdR8yH8QPjHDsHyzwRBXOa25W/MAEGbfxc9m/L8QOGN1NyeCP9AiAcqQY6iA0Em/J6Vd4kGQaQbq63elPRAdNLaiNMZ+UABrPOXhD/9QKAIk36uTAZB/QBQV0r0BUHCuGo13WG2QI6Q3Kmkv8BAJQcHIVAGwkC7Ijk2FdS7QKDYt11jXrpAQvxt4KkkuEAYNGvsgBvBQMJLV8N1mbtA1VpV2frsvkB8RIMkKki0QFHq85AKrbpACkhjuKkSwEBIFyUTQJLAQAlIQS9O0L9Aqn2yGzxBskCmlVROc1+4QBZQ+9jLlMNAqpRAVkXYv0AfuT2QGre/QHblLrSFQbFATE91HJqNxEB+sAaL/xLFQJpbGL/PGMRATt4l7D2cxkCO/oQsRNWrQN7PLqKw6sJAl06rrXhVxUA0b/dE5oPDQPoTs23tqMBAVFol4+c8qEARJIO8mYfFQB3CTG6vF8JA7d1WixFvxkDCQVPmPSPCQB8s5tZcV6pAMsGGZGKawkDcmioRtdrCQN27/5BMmcZA7KaGvbaRwUC6mqE4f6SdQA==",
          "dtype": "f8"
         },
         "y0": " ",
         "yaxis": "y"
        }
       ],
       "layout": {
        "boxmode": "group",
        "height": 500,
        "legend": {
         "title": {
          "text": "Media"
         },
         "tracegroupgap": 0
        },
        "margin": {
         "t": 60
        },
        "template": {
         "data": {
          "bar": [
           {
            "error_x": {
             "color": "rgb(36,36,36)"
            },
            "error_y": {
             "color": "rgb(36,36,36)"
            },
            "marker": {
             "line": {
              "color": "white",
              "width": 0.5
             },
             "pattern": {
              "fillmode": "overlay",
              "size": 10,
              "solidity": 0.2
             }
            },
            "type": "bar"
           }
          ],
          "barpolar": [
           {
            "marker": {
             "line": {
              "color": "white",
              "width": 0.5
             },
             "pattern": {
              "fillmode": "overlay",
              "size": 10,
              "solidity": 0.2
             }
            },
            "type": "barpolar"
           }
          ],
          "carpet": [
           {
            "aaxis": {
             "endlinecolor": "rgb(36,36,36)",
             "gridcolor": "white",
             "linecolor": "white",
             "minorgridcolor": "white",
             "startlinecolor": "rgb(36,36,36)"
            },
            "baxis": {
             "endlinecolor": "rgb(36,36,36)",
             "gridcolor": "white",
             "linecolor": "white",
             "minorgridcolor": "white",
             "startlinecolor": "rgb(36,36,36)"
            },
            "type": "carpet"
           }
          ],
          "choropleth": [
           {
            "colorbar": {
             "outlinewidth": 1,
             "tickcolor": "rgb(36,36,36)",
             "ticks": "outside"
            },
            "type": "choropleth"
           }
          ],
          "contour": [
           {
            "colorbar": {
             "outlinewidth": 1,
             "tickcolor": "rgb(36,36,36)",
             "ticks": "outside"
            },
            "colorscale": [
             [
              0,
              "#440154"
             ],
             [
              0.1111111111111111,
              "#482878"
             ],
             [
              0.2222222222222222,
              "#3e4989"
             ],
             [
              0.3333333333333333,
              "#31688e"
             ],
             [
              0.4444444444444444,
              "#26828e"
             ],
             [
              0.5555555555555556,
              "#1f9e89"
             ],
             [
              0.6666666666666666,
              "#35b779"
             ],
             [
              0.7777777777777778,
              "#6ece58"
             ],
             [
              0.8888888888888888,
              "#b5de2b"
             ],
             [
              1,
              "#fde725"
             ]
            ],
            "type": "contour"
           }
          ],
          "contourcarpet": [
           {
            "colorbar": {
             "outlinewidth": 1,
             "tickcolor": "rgb(36,36,36)",
             "ticks": "outside"
            },
            "type": "contourcarpet"
           }
          ],
          "heatmap": [
           {
            "colorbar": {
             "outlinewidth": 1,
             "tickcolor": "rgb(36,36,36)",
             "ticks": "outside"
            },
            "colorscale": [
             [
              0,
              "#440154"
             ],
             [
              0.1111111111111111,
              "#482878"
             ],
             [
              0.2222222222222222,
              "#3e4989"
             ],
             [
              0.3333333333333333,
              "#31688e"
             ],
             [
              0.4444444444444444,
              "#26828e"
             ],
             [
              0.5555555555555556,
              "#1f9e89"
             ],
             [
              0.6666666666666666,
              "#35b779"
             ],
             [
              0.7777777777777778,
              "#6ece58"
             ],
             [
              0.8888888888888888,
              "#b5de2b"
             ],
             [
              1,
              "#fde725"
             ]
            ],
            "type": "heatmap"
           }
          ],
          "histogram": [
           {
            "marker": {
             "line": {
              "color": "white",
              "width": 0.6
             }
            },
            "type": "histogram"
           }
          ],
          "histogram2d": [
           {
            "colorbar": {
             "outlinewidth": 1,
             "tickcolor": "rgb(36,36,36)",
             "ticks": "outside"
            },
            "colorscale": [
             [
              0,
              "#440154"
             ],
             [
              0.1111111111111111,
              "#482878"
             ],
             [
              0.2222222222222222,
              "#3e4989"
             ],
             [
              0.3333333333333333,
              "#31688e"
             ],
             [
              0.4444444444444444,
              "#26828e"
             ],
             [
              0.5555555555555556,
              "#1f9e89"
             ],
             [
              0.6666666666666666,
              "#35b779"
             ],
             [
              0.7777777777777778,
              "#6ece58"
             ],
             [
              0.8888888888888888,
              "#b5de2b"
             ],
             [
              1,
              "#fde725"
             ]
            ],
            "type": "histogram2d"
           }
          ],
          "histogram2dcontour": [
           {
            "colorbar": {
             "outlinewidth": 1,
             "tickcolor": "rgb(36,36,36)",
             "ticks": "outside"
            },
            "colorscale": [
             [
              0,
              "#440154"
             ],
             [
              0.1111111111111111,
              "#482878"
             ],
             [
              0.2222222222222222,
              "#3e4989"
             ],
             [
              0.3333333333333333,
              "#31688e"
             ],
             [
              0.4444444444444444,
              "#26828e"
             ],
             [
              0.5555555555555556,
              "#1f9e89"
             ],
             [
              0.6666666666666666,
              "#35b779"
             ],
             [
              0.7777777777777778,
              "#6ece58"
             ],
             [
              0.8888888888888888,
              "#b5de2b"
             ],
             [
              1,
              "#fde725"
             ]
            ],
            "type": "histogram2dcontour"
           }
          ],
          "mesh3d": [
           {
            "colorbar": {
             "outlinewidth": 1,
             "tickcolor": "rgb(36,36,36)",
             "ticks": "outside"
            },
            "type": "mesh3d"
           }
          ],
          "parcoords": [
           {
            "line": {
             "colorbar": {
              "outlinewidth": 1,
              "tickcolor": "rgb(36,36,36)",
              "ticks": "outside"
             }
            },
            "type": "parcoords"
           }
          ],
          "pie": [
           {
            "automargin": true,
            "type": "pie"
           }
          ],
          "scatter": [
           {
            "fillpattern": {
             "fillmode": "overlay",
             "size": 10,
             "solidity": 0.2
            },
            "type": "scatter"
           }
          ],
          "scatter3d": [
           {
            "line": {
             "colorbar": {
              "outlinewidth": 1,
              "tickcolor": "rgb(36,36,36)",
              "ticks": "outside"
             }
            },
            "marker": {
             "colorbar": {
              "outlinewidth": 1,
              "tickcolor": "rgb(36,36,36)",
              "ticks": "outside"
             }
            },
            "type": "scatter3d"
           }
          ],
          "scattercarpet": [
           {
            "marker": {
             "colorbar": {
              "outlinewidth": 1,
              "tickcolor": "rgb(36,36,36)",
              "ticks": "outside"
             }
            },
            "type": "scattercarpet"
           }
          ],
          "scattergeo": [
           {
            "marker": {
             "colorbar": {
              "outlinewidth": 1,
              "tickcolor": "rgb(36,36,36)",
              "ticks": "outside"
             }
            },
            "type": "scattergeo"
           }
          ],
          "scattergl": [
           {
            "marker": {
             "colorbar": {
              "outlinewidth": 1,
              "tickcolor": "rgb(36,36,36)",
              "ticks": "outside"
             }
            },
            "type": "scattergl"
           }
          ],
          "scattermap": [
           {
            "marker": {
             "colorbar": {
              "outlinewidth": 1,
              "tickcolor": "rgb(36,36,36)",
              "ticks": "outside"
             }
            },
            "type": "scattermap"
           }
          ],
          "scattermapbox": [
           {
            "marker": {
             "colorbar": {
              "outlinewidth": 1,
              "tickcolor": "rgb(36,36,36)",
              "ticks": "outside"
             }
            },
            "type": "scattermapbox"
           }
          ],
          "scatterpolar": [
           {
            "marker": {
             "colorbar": {
              "outlinewidth": 1,
              "tickcolor": "rgb(36,36,36)",
              "ticks": "outside"
             }
            },
            "type": "scatterpolar"
           }
          ],
          "scatterpolargl": [
           {
            "marker": {
             "colorbar": {
              "outlinewidth": 1,
              "tickcolor": "rgb(36,36,36)",
              "ticks": "outside"
             }
            },
            "type": "scatterpolargl"
           }
          ],
          "scatterternary": [
           {
            "marker": {
             "colorbar": {
              "outlinewidth": 1,
              "tickcolor": "rgb(36,36,36)",
              "ticks": "outside"
             }
            },
            "type": "scatterternary"
           }
          ],
          "surface": [
           {
            "colorbar": {
             "outlinewidth": 1,
             "tickcolor": "rgb(36,36,36)",
             "ticks": "outside"
            },
            "colorscale": [
             [
              0,
              "#440154"
             ],
             [
              0.1111111111111111,
              "#482878"
             ],
             [
              0.2222222222222222,
              "#3e4989"
             ],
             [
              0.3333333333333333,
              "#31688e"
             ],
             [
              0.4444444444444444,
              "#26828e"
             ],
             [
              0.5555555555555556,
              "#1f9e89"
             ],
             [
              0.6666666666666666,
              "#35b779"
             ],
             [
              0.7777777777777778,
              "#6ece58"
             ],
             [
              0.8888888888888888,
              "#b5de2b"
             ],
             [
              1,
              "#fde725"
             ]
            ],
            "type": "surface"
           }
          ],
          "table": [
           {
            "cells": {
             "fill": {
              "color": "rgb(237,237,237)"
             },
             "line": {
              "color": "white"
             }
            },
            "header": {
             "fill": {
              "color": "rgb(217,217,217)"
             },
             "line": {
              "color": "white"
             }
            },
            "type": "table"
           }
          ]
         },
         "layout": {
          "annotationdefaults": {
           "arrowhead": 0,
           "arrowwidth": 1
          },
          "autotypenumbers": "strict",
          "coloraxis": {
           "colorbar": {
            "outlinewidth": 1,
            "tickcolor": "rgb(36,36,36)",
            "ticks": "outside"
           }
          },
          "colorscale": {
           "diverging": [
            [
             0,
             "rgb(103,0,31)"
            ],
            [
             0.1,
             "rgb(178,24,43)"
            ],
            [
             0.2,
             "rgb(214,96,77)"
            ],
            [
             0.3,
             "rgb(244,165,130)"
            ],
            [
             0.4,
             "rgb(253,219,199)"
            ],
            [
             0.5,
             "rgb(247,247,247)"
            ],
            [
             0.6,
             "rgb(209,229,240)"
            ],
            [
             0.7,
             "rgb(146,197,222)"
            ],
            [
             0.8,
             "rgb(67,147,195)"
            ],
            [
             0.9,
             "rgb(33,102,172)"
            ],
            [
             1,
             "rgb(5,48,97)"
            ]
           ],
           "sequential": [
            [
             0,
             "#440154"
            ],
            [
             0.1111111111111111,
             "#482878"
            ],
            [
             0.2222222222222222,
             "#3e4989"
            ],
            [
             0.3333333333333333,
             "#31688e"
            ],
            [
             0.4444444444444444,
             "#26828e"
            ],
            [
             0.5555555555555556,
             "#1f9e89"
            ],
            [
             0.6666666666666666,
             "#35b779"
            ],
            [
             0.7777777777777778,
             "#6ece58"
            ],
            [
             0.8888888888888888,
             "#b5de2b"
            ],
            [
             1,
             "#fde725"
            ]
           ],
           "sequentialminus": [
            [
             0,
             "#440154"
            ],
            [
             0.1111111111111111,
             "#482878"
            ],
            [
             0.2222222222222222,
             "#3e4989"
            ],
            [
             0.3333333333333333,
             "#31688e"
            ],
            [
             0.4444444444444444,
             "#26828e"
            ],
            [
             0.5555555555555556,
             "#1f9e89"
            ],
            [
             0.6666666666666666,
             "#35b779"
            ],
            [
             0.7777777777777778,
             "#6ece58"
            ],
            [
             0.8888888888888888,
             "#b5de2b"
            ],
            [
             1,
             "#fde725"
            ]
           ]
          },
          "colorway": [
           "#1F77B4",
           "#FF7F0E",
           "#2CA02C",
           "#D62728",
           "#9467BD",
           "#8C564B",
           "#E377C2",
           "#7F7F7F",
           "#BCBD22",
           "#17BECF"
          ],
          "font": {
           "color": "rgb(36,36,36)"
          },
          "geo": {
           "bgcolor": "white",
           "lakecolor": "white",
           "landcolor": "white",
           "showlakes": true,
           "showland": true,
           "subunitcolor": "white"
          },
          "hoverlabel": {
           "align": "left"
          },
          "hovermode": "closest",
          "mapbox": {
           "style": "light"
          },
          "paper_bgcolor": "white",
          "plot_bgcolor": "white",
          "polar": {
           "angularaxis": {
            "gridcolor": "rgb(232,232,232)",
            "linecolor": "rgb(36,36,36)",
            "showgrid": false,
            "showline": true,
            "ticks": "outside"
           },
           "bgcolor": "white",
           "radialaxis": {
            "gridcolor": "rgb(232,232,232)",
            "linecolor": "rgb(36,36,36)",
            "showgrid": false,
            "showline": true,
            "ticks": "outside"
           }
          },
          "scene": {
           "xaxis": {
            "backgroundcolor": "white",
            "gridcolor": "rgb(232,232,232)",
            "gridwidth": 2,
            "linecolor": "rgb(36,36,36)",
            "showbackground": true,
            "showgrid": false,
            "showline": true,
            "ticks": "outside",
            "zeroline": false,
            "zerolinecolor": "rgb(36,36,36)"
           },
           "yaxis": {
            "backgroundcolor": "white",
            "gridcolor": "rgb(232,232,232)",
            "gridwidth": 2,
            "linecolor": "rgb(36,36,36)",
            "showbackground": true,
            "showgrid": false,
            "showline": true,
            "ticks": "outside",
            "zeroline": false,
            "zerolinecolor": "rgb(36,36,36)"
           },
           "zaxis": {
            "backgroundcolor": "white",
            "gridcolor": "rgb(232,232,232)",
            "gridwidth": 2,
            "linecolor": "rgb(36,36,36)",
            "showbackground": true,
            "showgrid": false,
            "showline": true,
            "ticks": "outside",
            "zeroline": false,
            "zerolinecolor": "rgb(36,36,36)"
           }
          },
          "shapedefaults": {
           "fillcolor": "black",
           "line": {
            "width": 0
           },
           "opacity": 0.3
          },
          "ternary": {
           "aaxis": {
            "gridcolor": "rgb(232,232,232)",
            "linecolor": "rgb(36,36,36)",
            "showgrid": false,
            "showline": true,
            "ticks": "outside"
           },
           "baxis": {
            "gridcolor": "rgb(232,232,232)",
            "linecolor": "rgb(36,36,36)",
            "showgrid": false,
            "showline": true,
            "ticks": "outside"
           },
           "bgcolor": "white",
           "caxis": {
            "gridcolor": "rgb(232,232,232)",
            "linecolor": "rgb(36,36,36)",
            "showgrid": false,
            "showline": true,
            "ticks": "outside"
           }
          },
          "title": {
           "x": 0.05
          },
          "xaxis": {
           "automargin": true,
           "gridcolor": "rgb(232,232,232)",
           "linecolor": "rgb(36,36,36)",
           "showgrid": false,
           "showline": true,
           "ticks": "outside",
           "title": {
            "standoff": 15
           },
           "zeroline": false,
           "zerolinecolor": "rgb(36,36,36)"
          },
          "yaxis": {
           "automargin": true,
           "gridcolor": "rgb(232,232,232)",
           "linecolor": "rgb(36,36,36)",
           "showgrid": false,
           "showline": true,
           "ticks": "outside",
           "title": {
            "standoff": 15
           },
           "zeroline": false,
           "zerolinecolor": "rgb(36,36,36)"
          }
         }
        },
        "width": 700,
        "xaxis": {
         "anchor": "y",
         "domain": [
          0,
          1
         ],
         "title": {
          "text": "strain"
         }
        },
        "yaxis": {
         "anchor": "x",
         "domain": [
          0,
          1
         ],
         "title": {
          "text": "Nb"
         },
         "type": "log"
        }
       }
      }
     },
     "metadata": {},
     "output_type": "display_data"
    },
    {
     "name": "stdout",
     "output_type": "stream",
     "text": [
      "ST1\n",
      "comparison: GAM+ vs GAM-\n",
      "statistic: -0.5479210589053833\n",
      "p_value: 0.5853107586416045\n",
      "significant: False\n",
      "ST2\n",
      "comparison: GAM+ vs GAM-\n",
      "statistic: -1.1112370203377555\n",
      "p_value: 0.26987998123905443\n",
      "significant: False\n",
      "ST4\n",
      "comparison: GAM+ vs GAM-\n",
      "statistic: 0.04703552965387443\n",
      "p_value: 0.9626051317900988\n",
      "significant: False\n",
      "ST5\n",
      "comparison: GAM+ vs GAM-\n",
      "statistic: -0.6516261253703838\n",
      "p_value: 0.5165578210079994\n",
      "significant: False\n",
      "ST6\n",
      "comparison: GAM+ vs GAM-\n",
      "statistic: 4.421448178088017\n",
      "p_value: 3.133339000939136e-05\n",
      "significant: True\n"
     ]
    }
   ],
   "source": [
    "df_merge = df_merge.sort_values(['strain', 'CmR'],ascending=True)\n",
    "df_plot = df_merge.loc[(df_merge['Inoculation']=='barcodes')|(df_merge['Inoculation_2']=='barcodes')]\n",
    "fig = px.box(df_plot,\n",
    "                x = 'strain', \n",
    "                y = 'Nb',\n",
    "                color = 'Media',\n",
    "                points = 'all',\n",
    "                log_y=True,\n",
    "                template = 'simple_white',\n",
    "                hover_data=['sample_id'],width = 700,\n",
    "                height = 500,\n",
    "                )\n",
    "fig.show()\n",
    "\n",
    "def compare_groups_ttest(df, grouping_col, response_col):\n",
    "    \"\"\"\n",
    "    Two-sample t-test for comparing two groups\n",
    "    \"\"\"\n",
    "    groups = df[grouping_col].unique()\n",
    "    \n",
    "    if len(groups) == 2:\n",
    "        group1 = df[df[grouping_col] == groups[0]][response_col].dropna()\n",
    "        group2 = df[df[grouping_col] == groups[1]][response_col].dropna()\n",
    "        \n",
    "        # Perform t-test\n",
    "        statistic, p_value = stats.ttest_ind(group1, group2)\n",
    "        \n",
    "        return {\n",
    "            'comparison': f'{groups[0]} vs {groups[1]}',\n",
    "            'statistic': statistic,\n",
    "            'p_value': p_value,\n",
    "            'significant': p_value < 0.05\n",
    "        }\n",
    "    elif len(groups) > 2:\n",
    "        # Use ANOVA for >2 groups\n",
    "        group_data = [df[df[grouping_col] == g][response_col].dropna() for g in groups]\n",
    "        statistic, p_value = stats.f_oneway(*group_data)\n",
    "        \n",
    "        return {\n",
    "            'comparison': f'{grouping_col} (ANOVA)',\n",
    "            'statistic': statistic,\n",
    "            'p_value': p_value,\n",
    "            'significant': p_value < 0.05\n",
    "        }\n",
    "\n",
    "# Example usage:\n",
    "for strain in df_plot['strain'].unique():\n",
    "    df_plot = df_plot.sort_values(['CmR'])\n",
    "    print(strain)\n",
    "    result = compare_groups_ttest(df_plot[df_plot['strain']==strain], 'Media', 'Nb')\n",
    "    \n",
    "    for  entry in result.keys():\n",
    "        print(entry + \": \" + str(result[entry]))"
   ]
  },
  {
   "cell_type": "code",
   "execution_count": 9,
   "id": "48a667ab",
   "metadata": {},
   "outputs": [
    {
     "data": {
      "application/vnd.plotly.v1+json": {
       "config": {
        "plotlyServerURL": "https://plotly.com"
       },
       "data": [
        {
         "alignmentgroup": "True",
         "boxpoints": "all",
         "customdata": [
          [
           "E1"
          ],
          [
           "E2"
          ],
          [
           "E3"
          ],
          [
           "E7"
          ],
          [
           "E8"
          ],
          [
           "E9"
          ],
          [
           "F1"
          ],
          [
           "F2"
          ],
          [
           "F3"
          ],
          [
           "F7"
          ],
          [
           "F8"
          ],
          [
           "F9"
          ],
          [
           "G1"
          ],
          [
           "G2"
          ],
          [
           "G3"
          ],
          [
           "G7"
          ],
          [
           "G8"
          ],
          [
           "G9"
          ],
          [
           "H1"
          ],
          [
           "H2"
          ],
          [
           "H3"
          ],
          [
           "H7"
          ],
          [
           "H8"
          ],
          [
           "H9"
          ],
          [
           "A1"
          ],
          [
           "A2"
          ],
          [
           "A3"
          ],
          [
           "A7"
          ],
          [
           "A8"
          ],
          [
           "A9"
          ],
          [
           "B1"
          ],
          [
           "B2"
          ],
          [
           "B3"
          ],
          [
           "B7"
          ],
          [
           "B8"
          ],
          [
           "B9"
          ],
          [
           "C1"
          ],
          [
           "C2"
          ],
          [
           "C3"
          ],
          [
           "C7"
          ],
          [
           "C8"
          ],
          [
           "C9"
          ],
          [
           "D1"
          ],
          [
           "D2"
          ],
          [
           "D3"
          ],
          [
           "D7"
          ],
          [
           "D8"
          ],
          [
           "D9"
          ],
          [
           "E1"
          ],
          [
           "E2"
          ],
          [
           "E3"
          ],
          [
           "E7"
          ],
          [
           "E8"
          ],
          [
           "E9"
          ],
          [
           "F1"
          ],
          [
           "F2"
          ],
          [
           "F3"
          ],
          [
           "F7"
          ],
          [
           "F8"
          ],
          [
           "F9"
          ],
          [
           "G1"
          ],
          [
           "G2"
          ],
          [
           "G3"
          ],
          [
           "G7"
          ],
          [
           "G8"
          ],
          [
           "G9"
          ],
          [
           "H1"
          ],
          [
           "H2"
          ],
          [
           "H3"
          ],
          [
           "H7"
          ],
          [
           "H8"
          ],
          [
           "H9"
          ],
          [
           "A1"
          ],
          [
           "A2"
          ],
          [
           "A3"
          ],
          [
           "A7"
          ],
          [
           "A8"
          ],
          [
           "A9"
          ],
          [
           "B1"
          ],
          [
           "B2"
          ],
          [
           "B3"
          ],
          [
           "B7"
          ],
          [
           "B8"
          ],
          [
           "B9"
          ],
          [
           "C1"
          ],
          [
           "C2"
          ],
          [
           "C3"
          ],
          [
           "C7"
          ],
          [
           "C8"
          ],
          [
           "C9"
          ],
          [
           "D1"
          ],
          [
           "D2"
          ],
          [
           "D3"
          ],
          [
           "D7"
          ],
          [
           "D8"
          ],
          [
           "D9"
          ],
          [
           "E1"
          ],
          [
           "E2"
          ],
          [
           "E3"
          ],
          [
           "E7"
          ],
          [
           "E8"
          ],
          [
           "E9"
          ],
          [
           "F1"
          ],
          [
           "F2"
          ],
          [
           "F3"
          ],
          [
           "F7"
          ],
          [
           "F8"
          ],
          [
           "F9"
          ],
          [
           "G1"
          ],
          [
           "G2"
          ],
          [
           "G3"
          ],
          [
           "G7"
          ],
          [
           "G8"
          ],
          [
           "G9"
          ],
          [
           "H1"
          ],
          [
           "H2"
          ],
          [
           "H3"
          ],
          [
           "H7"
          ],
          [
           "H8"
          ],
          [
           "H9"
          ],
          [
           "A1"
          ],
          [
           "A2"
          ],
          [
           "A3"
          ],
          [
           "A7"
          ],
          [
           "A8"
          ],
          [
           "A9"
          ],
          [
           "B1"
          ],
          [
           "B2"
          ],
          [
           "B3"
          ],
          [
           "B7"
          ],
          [
           "B8"
          ],
          [
           "B9"
          ],
          [
           "C1"
          ],
          [
           "C2"
          ],
          [
           "C3"
          ],
          [
           "C7"
          ],
          [
           "C8"
          ],
          [
           "C9"
          ],
          [
           "D1"
          ],
          [
           "D2"
          ],
          [
           "D3"
          ],
          [
           "D7"
          ],
          [
           "D8"
          ],
          [
           "D9"
          ],
          [
           "E1"
          ],
          [
           "E2"
          ],
          [
           "E3"
          ],
          [
           "E7"
          ],
          [
           "E8"
          ],
          [
           "E9"
          ],
          [
           "F1"
          ],
          [
           "F2"
          ],
          [
           "F3"
          ],
          [
           "F7"
          ],
          [
           "F8"
          ],
          [
           "F9"
          ],
          [
           "G1"
          ],
          [
           "G2"
          ],
          [
           "G3"
          ],
          [
           "G7"
          ],
          [
           "G8"
          ],
          [
           "G9"
          ],
          [
           "H1"
          ],
          [
           "H2"
          ],
          [
           "H3"
          ],
          [
           "H7"
          ],
          [
           "H8"
          ],
          [
           "H9"
          ],
          [
           "A1"
          ],
          [
           "A2"
          ],
          [
           "A3"
          ],
          [
           "A7"
          ],
          [
           "A8"
          ],
          [
           "A9"
          ],
          [
           "B1"
          ],
          [
           "B2"
          ],
          [
           "B3"
          ],
          [
           "B7"
          ],
          [
           "B8"
          ],
          [
           "B9"
          ],
          [
           "C1"
          ],
          [
           "C2"
          ],
          [
           "C3"
          ],
          [
           "C7"
          ],
          [
           "C8"
          ],
          [
           "C9"
          ],
          [
           "D1"
          ],
          [
           "D2"
          ],
          [
           "D3"
          ],
          [
           "D7"
          ],
          [
           "D8"
          ],
          [
           "D9"
          ],
          [
           "E1"
          ],
          [
           "E2"
          ],
          [
           "E3"
          ],
          [
           "E7"
          ],
          [
           "E8"
          ],
          [
           "E9"
          ],
          [
           "F1"
          ],
          [
           "F2"
          ],
          [
           "F3"
          ],
          [
           "F7"
          ],
          [
           "F8"
          ],
          [
           "F9"
          ],
          [
           "G1"
          ],
          [
           "G2"
          ],
          [
           "G3"
          ],
          [
           "G7"
          ],
          [
           "G8"
          ],
          [
           "G9"
          ],
          [
           "H1"
          ],
          [
           "H2"
          ],
          [
           "H3"
          ],
          [
           "H7"
          ],
          [
           "H8"
          ],
          [
           "H9"
          ],
          [
           "A1"
          ],
          [
           "A2"
          ],
          [
           "A3"
          ],
          [
           "A7"
          ],
          [
           "A8"
          ],
          [
           "A9"
          ],
          [
           "B1"
          ],
          [
           "B2"
          ],
          [
           "B3"
          ],
          [
           "B7"
          ],
          [
           "B8"
          ],
          [
           "B9"
          ],
          [
           "C1"
          ],
          [
           "C2"
          ],
          [
           "C3"
          ],
          [
           "C7"
          ],
          [
           "C8"
          ],
          [
           "C9"
          ],
          [
           "D1"
          ],
          [
           "D2"
          ],
          [
           "D3"
          ],
          [
           "D7"
          ],
          [
           "D8"
          ],
          [
           "D9"
          ]
         ],
         "hovertemplate": "Inoculation=barcodes<br>strain=%{x}<br>Nb=%{y}<br>sample_id=%{customdata[0]}<extra></extra>",
         "legendgroup": "barcodes",
         "marker": {
          "color": "#1F77B4"
         },
         "name": "barcodes",
         "notched": false,
         "offsetgroup": "barcodes",
         "orientation": "v",
         "showlegend": true,
         "type": "box",
         "x": [
          "ST1",
          "ST1",
          "ST1",
          "ST1",
          "ST1",
          "ST1",
          "ST1",
          "ST1",
          "ST1",
          "ST1",
          "ST1",
          "ST1",
          "ST1",
          "ST1",
          "ST1",
          "ST1",
          "ST1",
          "ST1",
          "ST1",
          "ST1",
          "ST1",
          "ST1",
          "ST1",
          "ST1",
          "ST1",
          "ST1",
          "ST1",
          "ST1",
          "ST1",
          "ST1",
          "ST1",
          "ST1",
          "ST1",
          "ST1",
          "ST1",
          "ST1",
          "ST1",
          "ST1",
          "ST1",
          "ST1",
          "ST1",
          "ST1",
          "ST1",
          "ST1",
          "ST1",
          "ST1",
          "ST1",
          "ST1",
          "ST2",
          "ST2",
          "ST2",
          "ST2",
          "ST2",
          "ST2",
          "ST2",
          "ST2",
          "ST2",
          "ST2",
          "ST2",
          "ST2",
          "ST2",
          "ST2",
          "ST2",
          "ST2",
          "ST2",
          "ST2",
          "ST2",
          "ST2",
          "ST2",
          "ST2",
          "ST2",
          "ST2",
          "ST2",
          "ST2",
          "ST2",
          "ST2",
          "ST2",
          "ST2",
          "ST2",
          "ST2",
          "ST2",
          "ST2",
          "ST2",
          "ST2",
          "ST2",
          "ST2",
          "ST2",
          "ST2",
          "ST2",
          "ST2",
          "ST2",
          "ST2",
          "ST2",
          "ST2",
          "ST2",
          "ST2",
          "ST4",
          "ST4",
          "ST4",
          "ST4",
          "ST4",
          "ST4",
          "ST4",
          "ST4",
          "ST4",
          "ST4",
          "ST4",
          "ST4",
          "ST4",
          "ST4",
          "ST4",
          "ST4",
          "ST4",
          "ST4",
          "ST4",
          "ST4",
          "ST4",
          "ST4",
          "ST4",
          "ST4",
          "ST4",
          "ST4",
          "ST4",
          "ST4",
          "ST4",
          "ST4",
          "ST4",
          "ST4",
          "ST4",
          "ST4",
          "ST4",
          "ST4",
          "ST4",
          "ST4",
          "ST4",
          "ST4",
          "ST4",
          "ST4",
          "ST4",
          "ST4",
          "ST4",
          "ST4",
          "ST4",
          "ST4",
          "ST5",
          "ST5",
          "ST5",
          "ST5",
          "ST5",
          "ST5",
          "ST5",
          "ST5",
          "ST5",
          "ST5",
          "ST5",
          "ST5",
          "ST5",
          "ST5",
          "ST5",
          "ST5",
          "ST5",
          "ST5",
          "ST5",
          "ST5",
          "ST5",
          "ST5",
          "ST5",
          "ST5",
          "ST5",
          "ST5",
          "ST5",
          "ST5",
          "ST5",
          "ST5",
          "ST5",
          "ST5",
          "ST5",
          "ST5",
          "ST5",
          "ST5",
          "ST5",
          "ST5",
          "ST5",
          "ST5",
          "ST5",
          "ST5",
          "ST5",
          "ST5",
          "ST5",
          "ST5",
          "ST5",
          "ST5",
          "ST6",
          "ST6",
          "ST6",
          "ST6",
          "ST6",
          "ST6",
          "ST6",
          "ST6",
          "ST6",
          "ST6",
          "ST6",
          "ST6",
          "ST6",
          "ST6",
          "ST6",
          "ST6",
          "ST6",
          "ST6",
          "ST6",
          "ST6",
          "ST6",
          "ST6",
          "ST6",
          "ST6",
          "ST6",
          "ST6",
          "ST6",
          "ST6",
          "ST6",
          "ST6",
          "ST6",
          "ST6",
          "ST6",
          "ST6",
          "ST6",
          "ST6",
          "ST6",
          "ST6",
          "ST6",
          "ST6",
          "ST6",
          "ST6",
          "ST6",
          "ST6",
          "ST6",
          "ST6",
          "ST6",
          "ST6"
         ],
         "x0": " ",
         "xaxis": "x",
         "y": {
          "bdata": "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",
          "dtype": "f8"
         },
         "y0": " ",
         "yaxis": "y"
        },
        {
         "alignmentgroup": "True",
         "boxpoints": "all",
         "customdata": [
          [
           "E5"
          ],
          [
           "E6"
          ],
          [
           "E11"
          ],
          [
           "E12"
          ],
          [
           "F5"
          ],
          [
           "F6"
          ],
          [
           "F11"
          ],
          [
           "F12"
          ],
          [
           "G5"
          ],
          [
           "G6"
          ],
          [
           "G11"
          ],
          [
           "G12"
          ],
          [
           "H5"
          ],
          [
           "H6"
          ],
          [
           "H11"
          ],
          [
           "H12"
          ],
          [
           "A5"
          ],
          [
           "A6"
          ],
          [
           "A11"
          ],
          [
           "A12"
          ],
          [
           "B5"
          ],
          [
           "B6"
          ],
          [
           "B11"
          ],
          [
           "B12"
          ],
          [
           "C5"
          ],
          [
           "C6"
          ],
          [
           "C11"
          ],
          [
           "C12"
          ],
          [
           "D5"
          ],
          [
           "D6"
          ],
          [
           "D11"
          ],
          [
           "D12"
          ],
          [
           "E5"
          ],
          [
           "E6"
          ],
          [
           "E11"
          ],
          [
           "E12"
          ],
          [
           "F5"
          ],
          [
           "F6"
          ],
          [
           "F11"
          ],
          [
           "F12"
          ],
          [
           "G5"
          ],
          [
           "G6"
          ],
          [
           "G11"
          ],
          [
           "G12"
          ],
          [
           "H5"
          ],
          [
           "H6"
          ],
          [
           "H11"
          ],
          [
           "H12"
          ],
          [
           "A5"
          ],
          [
           "A6"
          ],
          [
           "A11"
          ],
          [
           "A12"
          ],
          [
           "B5"
          ],
          [
           "B6"
          ],
          [
           "B11"
          ],
          [
           "B12"
          ],
          [
           "C5"
          ],
          [
           "C6"
          ],
          [
           "C11"
          ],
          [
           "C12"
          ],
          [
           "D5"
          ],
          [
           "D6"
          ],
          [
           "D11"
          ],
          [
           "D12"
          ],
          [
           "E5"
          ],
          [
           "E6"
          ],
          [
           "E11"
          ],
          [
           "E12"
          ],
          [
           "F5"
          ],
          [
           "F6"
          ],
          [
           "F11"
          ],
          [
           "F12"
          ],
          [
           "G5"
          ],
          [
           "G6"
          ],
          [
           "G11"
          ],
          [
           "G12"
          ],
          [
           "H5"
          ],
          [
           "H6"
          ],
          [
           "H11"
          ],
          [
           "H12"
          ],
          [
           "A5"
          ],
          [
           "A6"
          ],
          [
           "A11"
          ],
          [
           "A12"
          ],
          [
           "B5"
          ],
          [
           "B6"
          ],
          [
           "B11"
          ],
          [
           "B12"
          ],
          [
           "C5"
          ],
          [
           "C6"
          ],
          [
           "C11"
          ],
          [
           "C12"
          ],
          [
           "D5"
          ],
          [
           "D6"
          ],
          [
           "D11"
          ],
          [
           "D12"
          ],
          [
           "E5"
          ],
          [
           "E6"
          ],
          [
           "E11"
          ],
          [
           "E12"
          ],
          [
           "F5"
          ],
          [
           "F6"
          ],
          [
           "F11"
          ],
          [
           "F12"
          ],
          [
           "G5"
          ],
          [
           "G6"
          ],
          [
           "G11"
          ],
          [
           "G12"
          ],
          [
           "H5"
          ],
          [
           "H6"
          ],
          [
           "H11"
          ],
          [
           "H12"
          ],
          [
           "A5"
          ],
          [
           "A6"
          ],
          [
           "A11"
          ],
          [
           "A12"
          ],
          [
           "B5"
          ],
          [
           "B6"
          ],
          [
           "B11"
          ],
          [
           "B12"
          ],
          [
           "C5"
          ],
          [
           "C6"
          ],
          [
           "C11"
          ],
          [
           "C12"
          ],
          [
           "D5"
          ],
          [
           "D6"
          ],
          [
           "D11"
          ],
          [
           "D12"
          ],
          [
           "E5"
          ],
          [
           "E6"
          ],
          [
           "E11"
          ],
          [
           "E12"
          ],
          [
           "F5"
          ],
          [
           "F6"
          ],
          [
           "F11"
          ],
          [
           "F12"
          ],
          [
           "G5"
          ],
          [
           "G6"
          ],
          [
           "G11"
          ],
          [
           "G12"
          ],
          [
           "H5"
          ],
          [
           "H6"
          ],
          [
           "H11"
          ],
          [
           "H12"
          ],
          [
           "A5"
          ],
          [
           "A6"
          ],
          [
           "A11"
          ],
          [
           "A12"
          ],
          [
           "B5"
          ],
          [
           "B6"
          ],
          [
           "B11"
          ],
          [
           "B12"
          ],
          [
           "C5"
          ],
          [
           "C6"
          ],
          [
           "C11"
          ],
          [
           "C12"
          ],
          [
           "D5"
          ],
          [
           "D6"
          ],
          [
           "D11"
          ],
          [
           "D12"
          ]
         ],
         "hovertemplate": "Inoculation=mtc01<br>strain=%{x}<br>Nb=%{y}<br>sample_id=%{customdata[0]}<extra></extra>",
         "legendgroup": "mtc01",
         "marker": {
          "color": "#FF7F0E"
         },
         "name": "mtc01",
         "notched": false,
         "offsetgroup": "mtc01",
         "orientation": "v",
         "showlegend": true,
         "type": "box",
         "x": [
          "ST1",
          "ST1",
          "ST1",
          "ST1",
          "ST1",
          "ST1",
          "ST1",
          "ST1",
          "ST1",
          "ST1",
          "ST1",
          "ST1",
          "ST1",
          "ST1",
          "ST1",
          "ST1",
          "ST1",
          "ST1",
          "ST1",
          "ST1",
          "ST1",
          "ST1",
          "ST1",
          "ST1",
          "ST1",
          "ST1",
          "ST1",
          "ST1",
          "ST1",
          "ST1",
          "ST1",
          "ST1",
          "ST2",
          "ST2",
          "ST2",
          "ST2",
          "ST2",
          "ST2",
          "ST2",
          "ST2",
          "ST2",
          "ST2",
          "ST2",
          "ST2",
          "ST2",
          "ST2",
          "ST2",
          "ST2",
          "ST2",
          "ST2",
          "ST2",
          "ST2",
          "ST2",
          "ST2",
          "ST2",
          "ST2",
          "ST2",
          "ST2",
          "ST2",
          "ST2",
          "ST2",
          "ST2",
          "ST2",
          "ST2",
          "ST4",
          "ST4",
          "ST4",
          "ST4",
          "ST4",
          "ST4",
          "ST4",
          "ST4",
          "ST4",
          "ST4",
          "ST4",
          "ST4",
          "ST4",
          "ST4",
          "ST4",
          "ST4",
          "ST4",
          "ST4",
          "ST4",
          "ST4",
          "ST4",
          "ST4",
          "ST4",
          "ST4",
          "ST4",
          "ST4",
          "ST4",
          "ST4",
          "ST4",
          "ST4",
          "ST4",
          "ST4",
          "ST5",
          "ST5",
          "ST5",
          "ST5",
          "ST5",
          "ST5",
          "ST5",
          "ST5",
          "ST5",
          "ST5",
          "ST5",
          "ST5",
          "ST5",
          "ST5",
          "ST5",
          "ST5",
          "ST5",
          "ST5",
          "ST5",
          "ST5",
          "ST5",
          "ST5",
          "ST5",
          "ST5",
          "ST5",
          "ST5",
          "ST5",
          "ST5",
          "ST5",
          "ST5",
          "ST5",
          "ST5",
          "ST6",
          "ST6",
          "ST6",
          "ST6",
          "ST6",
          "ST6",
          "ST6",
          "ST6",
          "ST6",
          "ST6",
          "ST6",
          "ST6",
          "ST6",
          "ST6",
          "ST6",
          "ST6",
          "ST6",
          "ST6",
          "ST6",
          "ST6",
          "ST6",
          "ST6",
          "ST6",
          "ST6",
          "ST6",
          "ST6",
          "ST6",
          "ST6",
          "ST6",
          "ST6",
          "ST6",
          "ST6"
         ],
         "x0": " ",
         "xaxis": "x",
         "y": {
          "bdata": "P0gBlTxnIUD9zayccNIwQA59lS7nRStAC0qWbx0hIUCKxKnbMfEwQLu+8INNvDBAGp4nUz9GIkAH0SgPHrIAQKdU9YboOiZAusg6H47yLUDZi5aq0BI2QOWpHaADrRVAdGhnEjdTKEB7ocm2OtkpQBdXh7Cm/xxAFSGsHy0AEUBOKTV9Ys91QMbYn/6I2XBAqIMecBTLeEBndBzE0f90QNh7lir9R3hAxDVVjmCBcEBW7UNCWq1yQKwbBVXE+XRAM/kZDof5dkDtzolMrkhhQMc31gebundApwk7Sh8Nc0CBOrDyzvt3QGRahl5iq21As8hL7GUJeEAxf8nm9Z9sQPKFocNrHqk/8oWhw2seqT9IrFFrHZ2/P0QV8ahyQLI/8oWhw2seqT/yhaHDax6pP/KFocNrHqk/QZ78Ra/muz/yhaHDax6pP5AfGrR8dLo/rUetqbe8tj96von2uHO+P/KFocNrHqk/JRklLDsnuD/KCjlb/GLAPzxOTlunMbI/d09WLf3kwT/yhaHDax6pP3m0kaQ3ya4/ivJt82yfBkDji6wXmXG3PxJQh8y5TuU/gJnHuIcitD9L2iwxUAMbQFmLo8dtgao/Z2Tnx9qBqj8YKROwKr7bP2Ogs6tC7LI//YJIJtHtuT/T6vgqvG39P/KFocNrHqk/grVdfwzjrj/rQKqtvFXxQNAH4xFatfBALz1zhUSq7ECdVzLEJjHtQKMU3u2p3/BAdM4C7vqO8UCiTrxYGAvyQH6iI8MsfO5AfwNAWQSD8ECpGlsl3ATvQGJFcKSqRfFAbytyBZyl7UBxF3COGnrwQPlOcVDZXe9A/mrVoMQ08UC1sl1+XWTtQN3kES7oXe5AFi8F8Xb07EA2tjlfoPvwQGhquK2LGOlA9GfqPpov7ECkq8y5qybpQP84ay2XGvBA3CfQmjyX5UA2B6pcqvjsQDV57aIQqepAe8IEMGrw8EA86zRhU9zmQIBJ7qxNuOtA0ooDifYo60Cv/kzH/D7xQGmFPriYJOVAz0x6wOBEt0DH1seM3WDGQISVwbP1bN1Ao4Y6BdbY5UDfFbmXq2W3QLVk7cmEScdAO2Wn65RB2ECR3GzMTgvnQIba+/C2g7ZAjSBSysOTw0Ay5IyUINbhQLj4/xTHd+ZAAIaA2UjNskBk2ezheG/FQMXtFevV/+NAll4z4r7c40D4drAVK5f7QF95OtoqcgVB+Sfh98PyAUFM1rAc8P8BQV3G73vhE/1AYC+8IofSAkEGKfdR8yH8QPjHDsHyzwRBZbpCjepvAUFB9NT1WLADQYgHKkGOogNBJvyelXeJBkGNO9jI9bcDQZ738ntyfwRBoAiTfq5MBkH9AFBXSvQFQeGpXJAKaMFAc8TFBWFuxUC7Ijk2FdS7QKDYt11jXrpAWd91VpPKwkDK6HEQGCXEQNVaVdn67L5AfESDJCpItEACeWdOx1/HQJs9ZDOkOsRACUhBL07Qv0CqfbIbPEGyQC46MJTPpcNAscIkKIYEw0AfuT2QGre/QHblLrSFQbFAsO+bRz/pxUBa38yR3RvAQE7eJew9nMZAjv6ELETVq0AoDAXuvf3FQNXxTSRXDrpA+hOzbe2owEBUWiXj5zyoQAlwVNBnGMRA4bVCGcICvkDCQVPmPSPCQB8s5tZcV6pAWnn5AYPbxEAwweSKgh+7QOymhr22kcFAupqhOH+knUA=",
          "dtype": "f8"
         },
         "y0": " ",
         "yaxis": "y"
        }
       ],
       "layout": {
        "boxmode": "group",
        "height": 500,
        "legend": {
         "title": {
          "text": "Inoculation"
         },
         "tracegroupgap": 0
        },
        "margin": {
         "t": 60
        },
        "template": {
         "data": {
          "bar": [
           {
            "error_x": {
             "color": "rgb(36,36,36)"
            },
            "error_y": {
             "color": "rgb(36,36,36)"
            },
            "marker": {
             "line": {
              "color": "white",
              "width": 0.5
             },
             "pattern": {
              "fillmode": "overlay",
              "size": 10,
              "solidity": 0.2
             }
            },
            "type": "bar"
           }
          ],
          "barpolar": [
           {
            "marker": {
             "line": {
              "color": "white",
              "width": 0.5
             },
             "pattern": {
              "fillmode": "overlay",
              "size": 10,
              "solidity": 0.2
             }
            },
            "type": "barpolar"
           }
          ],
          "carpet": [
           {
            "aaxis": {
             "endlinecolor": "rgb(36,36,36)",
             "gridcolor": "white",
             "linecolor": "white",
             "minorgridcolor": "white",
             "startlinecolor": "rgb(36,36,36)"
            },
            "baxis": {
             "endlinecolor": "rgb(36,36,36)",
             "gridcolor": "white",
             "linecolor": "white",
             "minorgridcolor": "white",
             "startlinecolor": "rgb(36,36,36)"
            },
            "type": "carpet"
           }
          ],
          "choropleth": [
           {
            "colorbar": {
             "outlinewidth": 1,
             "tickcolor": "rgb(36,36,36)",
             "ticks": "outside"
            },
            "type": "choropleth"
           }
          ],
          "contour": [
           {
            "colorbar": {
             "outlinewidth": 1,
             "tickcolor": "rgb(36,36,36)",
             "ticks": "outside"
            },
            "colorscale": [
             [
              0,
              "#440154"
             ],
             [
              0.1111111111111111,
              "#482878"
             ],
             [
              0.2222222222222222,
              "#3e4989"
             ],
             [
              0.3333333333333333,
              "#31688e"
             ],
             [
              0.4444444444444444,
              "#26828e"
             ],
             [
              0.5555555555555556,
              "#1f9e89"
             ],
             [
              0.6666666666666666,
              "#35b779"
             ],
             [
              0.7777777777777778,
              "#6ece58"
             ],
             [
              0.8888888888888888,
              "#b5de2b"
             ],
             [
              1,
              "#fde725"
             ]
            ],
            "type": "contour"
           }
          ],
          "contourcarpet": [
           {
            "colorbar": {
             "outlinewidth": 1,
             "tickcolor": "rgb(36,36,36)",
             "ticks": "outside"
            },
            "type": "contourcarpet"
           }
          ],
          "heatmap": [
           {
            "colorbar": {
             "outlinewidth": 1,
             "tickcolor": "rgb(36,36,36)",
             "ticks": "outside"
            },
            "colorscale": [
             [
              0,
              "#440154"
             ],
             [
              0.1111111111111111,
              "#482878"
             ],
             [
              0.2222222222222222,
              "#3e4989"
             ],
             [
              0.3333333333333333,
              "#31688e"
             ],
             [
              0.4444444444444444,
              "#26828e"
             ],
             [
              0.5555555555555556,
              "#1f9e89"
             ],
             [
              0.6666666666666666,
              "#35b779"
             ],
             [
              0.7777777777777778,
              "#6ece58"
             ],
             [
              0.8888888888888888,
              "#b5de2b"
             ],
             [
              1,
              "#fde725"
             ]
            ],
            "type": "heatmap"
           }
          ],
          "histogram": [
           {
            "marker": {
             "line": {
              "color": "white",
              "width": 0.6
             }
            },
            "type": "histogram"
           }
          ],
          "histogram2d": [
           {
            "colorbar": {
             "outlinewidth": 1,
             "tickcolor": "rgb(36,36,36)",
             "ticks": "outside"
            },
            "colorscale": [
             [
              0,
              "#440154"
             ],
             [
              0.1111111111111111,
              "#482878"
             ],
             [
              0.2222222222222222,
              "#3e4989"
             ],
             [
              0.3333333333333333,
              "#31688e"
             ],
             [
              0.4444444444444444,
              "#26828e"
             ],
             [
              0.5555555555555556,
              "#1f9e89"
             ],
             [
              0.6666666666666666,
              "#35b779"
             ],
             [
              0.7777777777777778,
              "#6ece58"
             ],
             [
              0.8888888888888888,
              "#b5de2b"
             ],
             [
              1,
              "#fde725"
             ]
            ],
            "type": "histogram2d"
           }
          ],
          "histogram2dcontour": [
           {
            "colorbar": {
             "outlinewidth": 1,
             "tickcolor": "rgb(36,36,36)",
             "ticks": "outside"
            },
            "colorscale": [
             [
              0,
              "#440154"
             ],
             [
              0.1111111111111111,
              "#482878"
             ],
             [
              0.2222222222222222,
              "#3e4989"
             ],
             [
              0.3333333333333333,
              "#31688e"
             ],
             [
              0.4444444444444444,
              "#26828e"
             ],
             [
              0.5555555555555556,
              "#1f9e89"
             ],
             [
              0.6666666666666666,
              "#35b779"
             ],
             [
              0.7777777777777778,
              "#6ece58"
             ],
             [
              0.8888888888888888,
              "#b5de2b"
             ],
             [
              1,
              "#fde725"
             ]
            ],
            "type": "histogram2dcontour"
           }
          ],
          "mesh3d": [
           {
            "colorbar": {
             "outlinewidth": 1,
             "tickcolor": "rgb(36,36,36)",
             "ticks": "outside"
            },
            "type": "mesh3d"
           }
          ],
          "parcoords": [
           {
            "line": {
             "colorbar": {
              "outlinewidth": 1,
              "tickcolor": "rgb(36,36,36)",
              "ticks": "outside"
             }
            },
            "type": "parcoords"
           }
          ],
          "pie": [
           {
            "automargin": true,
            "type": "pie"
           }
          ],
          "scatter": [
           {
            "fillpattern": {
             "fillmode": "overlay",
             "size": 10,
             "solidity": 0.2
            },
            "type": "scatter"
           }
          ],
          "scatter3d": [
           {
            "line": {
             "colorbar": {
              "outlinewidth": 1,
              "tickcolor": "rgb(36,36,36)",
              "ticks": "outside"
             }
            },
            "marker": {
             "colorbar": {
              "outlinewidth": 1,
              "tickcolor": "rgb(36,36,36)",
              "ticks": "outside"
             }
            },
            "type": "scatter3d"
           }
          ],
          "scattercarpet": [
           {
            "marker": {
             "colorbar": {
              "outlinewidth": 1,
              "tickcolor": "rgb(36,36,36)",
              "ticks": "outside"
             }
            },
            "type": "scattercarpet"
           }
          ],
          "scattergeo": [
           {
            "marker": {
             "colorbar": {
              "outlinewidth": 1,
              "tickcolor": "rgb(36,36,36)",
              "ticks": "outside"
             }
            },
            "type": "scattergeo"
           }
          ],
          "scattergl": [
           {
            "marker": {
             "colorbar": {
              "outlinewidth": 1,
              "tickcolor": "rgb(36,36,36)",
              "ticks": "outside"
             }
            },
            "type": "scattergl"
           }
          ],
          "scattermap": [
           {
            "marker": {
             "colorbar": {
              "outlinewidth": 1,
              "tickcolor": "rgb(36,36,36)",
              "ticks": "outside"
             }
            },
            "type": "scattermap"
           }
          ],
          "scattermapbox": [
           {
            "marker": {
             "colorbar": {
              "outlinewidth": 1,
              "tickcolor": "rgb(36,36,36)",
              "ticks": "outside"
             }
            },
            "type": "scattermapbox"
           }
          ],
          "scatterpolar": [
           {
            "marker": {
             "colorbar": {
              "outlinewidth": 1,
              "tickcolor": "rgb(36,36,36)",
              "ticks": "outside"
             }
            },
            "type": "scatterpolar"
           }
          ],
          "scatterpolargl": [
           {
            "marker": {
             "colorbar": {
              "outlinewidth": 1,
              "tickcolor": "rgb(36,36,36)",
              "ticks": "outside"
             }
            },
            "type": "scatterpolargl"
           }
          ],
          "scatterternary": [
           {
            "marker": {
             "colorbar": {
              "outlinewidth": 1,
              "tickcolor": "rgb(36,36,36)",
              "ticks": "outside"
             }
            },
            "type": "scatterternary"
           }
          ],
          "surface": [
           {
            "colorbar": {
             "outlinewidth": 1,
             "tickcolor": "rgb(36,36,36)",
             "ticks": "outside"
            },
            "colorscale": [
             [
              0,
              "#440154"
             ],
             [
              0.1111111111111111,
              "#482878"
             ],
             [
              0.2222222222222222,
              "#3e4989"
             ],
             [
              0.3333333333333333,
              "#31688e"
             ],
             [
              0.4444444444444444,
              "#26828e"
             ],
             [
              0.5555555555555556,
              "#1f9e89"
             ],
             [
              0.6666666666666666,
              "#35b779"
             ],
             [
              0.7777777777777778,
              "#6ece58"
             ],
             [
              0.8888888888888888,
              "#b5de2b"
             ],
             [
              1,
              "#fde725"
             ]
            ],
            "type": "surface"
           }
          ],
          "table": [
           {
            "cells": {
             "fill": {
              "color": "rgb(237,237,237)"
             },
             "line": {
              "color": "white"
             }
            },
            "header": {
             "fill": {
              "color": "rgb(217,217,217)"
             },
             "line": {
              "color": "white"
             }
            },
            "type": "table"
           }
          ]
         },
         "layout": {
          "annotationdefaults": {
           "arrowhead": 0,
           "arrowwidth": 1
          },
          "autotypenumbers": "strict",
          "coloraxis": {
           "colorbar": {
            "outlinewidth": 1,
            "tickcolor": "rgb(36,36,36)",
            "ticks": "outside"
           }
          },
          "colorscale": {
           "diverging": [
            [
             0,
             "rgb(103,0,31)"
            ],
            [
             0.1,
             "rgb(178,24,43)"
            ],
            [
             0.2,
             "rgb(214,96,77)"
            ],
            [
             0.3,
             "rgb(244,165,130)"
            ],
            [
             0.4,
             "rgb(253,219,199)"
            ],
            [
             0.5,
             "rgb(247,247,247)"
            ],
            [
             0.6,
             "rgb(209,229,240)"
            ],
            [
             0.7,
             "rgb(146,197,222)"
            ],
            [
             0.8,
             "rgb(67,147,195)"
            ],
            [
             0.9,
             "rgb(33,102,172)"
            ],
            [
             1,
             "rgb(5,48,97)"
            ]
           ],
           "sequential": [
            [
             0,
             "#440154"
            ],
            [
             0.1111111111111111,
             "#482878"
            ],
            [
             0.2222222222222222,
             "#3e4989"
            ],
            [
             0.3333333333333333,
             "#31688e"
            ],
            [
             0.4444444444444444,
             "#26828e"
            ],
            [
             0.5555555555555556,
             "#1f9e89"
            ],
            [
             0.6666666666666666,
             "#35b779"
            ],
            [
             0.7777777777777778,
             "#6ece58"
            ],
            [
             0.8888888888888888,
             "#b5de2b"
            ],
            [
             1,
             "#fde725"
            ]
           ],
           "sequentialminus": [
            [
             0,
             "#440154"
            ],
            [
             0.1111111111111111,
             "#482878"
            ],
            [
             0.2222222222222222,
             "#3e4989"
            ],
            [
             0.3333333333333333,
             "#31688e"
            ],
            [
             0.4444444444444444,
             "#26828e"
            ],
            [
             0.5555555555555556,
             "#1f9e89"
            ],
            [
             0.6666666666666666,
             "#35b779"
            ],
            [
             0.7777777777777778,
             "#6ece58"
            ],
            [
             0.8888888888888888,
             "#b5de2b"
            ],
            [
             1,
             "#fde725"
            ]
           ]
          },
          "colorway": [
           "#1F77B4",
           "#FF7F0E",
           "#2CA02C",
           "#D62728",
           "#9467BD",
           "#8C564B",
           "#E377C2",
           "#7F7F7F",
           "#BCBD22",
           "#17BECF"
          ],
          "font": {
           "color": "rgb(36,36,36)"
          },
          "geo": {
           "bgcolor": "white",
           "lakecolor": "white",
           "landcolor": "white",
           "showlakes": true,
           "showland": true,
           "subunitcolor": "white"
          },
          "hoverlabel": {
           "align": "left"
          },
          "hovermode": "closest",
          "mapbox": {
           "style": "light"
          },
          "paper_bgcolor": "white",
          "plot_bgcolor": "white",
          "polar": {
           "angularaxis": {
            "gridcolor": "rgb(232,232,232)",
            "linecolor": "rgb(36,36,36)",
            "showgrid": false,
            "showline": true,
            "ticks": "outside"
           },
           "bgcolor": "white",
           "radialaxis": {
            "gridcolor": "rgb(232,232,232)",
            "linecolor": "rgb(36,36,36)",
            "showgrid": false,
            "showline": true,
            "ticks": "outside"
           }
          },
          "scene": {
           "xaxis": {
            "backgroundcolor": "white",
            "gridcolor": "rgb(232,232,232)",
            "gridwidth": 2,
            "linecolor": "rgb(36,36,36)",
            "showbackground": true,
            "showgrid": false,
            "showline": true,
            "ticks": "outside",
            "zeroline": false,
            "zerolinecolor": "rgb(36,36,36)"
           },
           "yaxis": {
            "backgroundcolor": "white",
            "gridcolor": "rgb(232,232,232)",
            "gridwidth": 2,
            "linecolor": "rgb(36,36,36)",
            "showbackground": true,
            "showgrid": false,
            "showline": true,
            "ticks": "outside",
            "zeroline": false,
            "zerolinecolor": "rgb(36,36,36)"
           },
           "zaxis": {
            "backgroundcolor": "white",
            "gridcolor": "rgb(232,232,232)",
            "gridwidth": 2,
            "linecolor": "rgb(36,36,36)",
            "showbackground": true,
            "showgrid": false,
            "showline": true,
            "ticks": "outside",
            "zeroline": false,
            "zerolinecolor": "rgb(36,36,36)"
           }
          },
          "shapedefaults": {
           "fillcolor": "black",
           "line": {
            "width": 0
           },
           "opacity": 0.3
          },
          "ternary": {
           "aaxis": {
            "gridcolor": "rgb(232,232,232)",
            "linecolor": "rgb(36,36,36)",
            "showgrid": false,
            "showline": true,
            "ticks": "outside"
           },
           "baxis": {
            "gridcolor": "rgb(232,232,232)",
            "linecolor": "rgb(36,36,36)",
            "showgrid": false,
            "showline": true,
            "ticks": "outside"
           },
           "bgcolor": "white",
           "caxis": {
            "gridcolor": "rgb(232,232,232)",
            "linecolor": "rgb(36,36,36)",
            "showgrid": false,
            "showline": true,
            "ticks": "outside"
           }
          },
          "title": {
           "x": 0.05
          },
          "xaxis": {
           "automargin": true,
           "gridcolor": "rgb(232,232,232)",
           "linecolor": "rgb(36,36,36)",
           "showgrid": false,
           "showline": true,
           "ticks": "outside",
           "title": {
            "standoff": 15
           },
           "zeroline": false,
           "zerolinecolor": "rgb(36,36,36)"
          },
          "yaxis": {
           "automargin": true,
           "gridcolor": "rgb(232,232,232)",
           "linecolor": "rgb(36,36,36)",
           "showgrid": false,
           "showline": true,
           "ticks": "outside",
           "title": {
            "standoff": 15
           },
           "zeroline": false,
           "zerolinecolor": "rgb(36,36,36)"
          }
         }
        },
        "width": 700,
        "xaxis": {
         "anchor": "y",
         "domain": [
          0,
          1
         ],
         "title": {
          "text": "strain"
         }
        },
        "yaxis": {
         "anchor": "x",
         "domain": [
          0,
          1
         ],
         "title": {
          "text": "Nb"
         },
         "type": "log"
        }
       }
      }
     },
     "metadata": {},
     "output_type": "display_data"
    },
    {
     "name": "stdout",
     "output_type": "stream",
     "text": [
      "ST1\n",
      "comparison: barcodes vs mtc01\n",
      "statistic: 0.4888114312703529\n",
      "p_value: 0.6263468087144507\n",
      "significant: False\n",
      "ST2\n",
      "comparison: barcodes vs mtc01\n",
      "statistic: -1.0526960278948525\n",
      "p_value: 0.29573057888931814\n",
      "significant: False\n",
      "ST4\n",
      "comparison: barcodes vs mtc01\n",
      "statistic: 4.733558022665962\n",
      "p_value: 9.681420291937217e-06\n",
      "significant: True\n",
      "ST5\n",
      "comparison: barcodes vs mtc01\n",
      "statistic: -1.6024023465057808\n",
      "p_value: 0.11310893238253539\n",
      "significant: False\n",
      "ST6\n",
      "comparison: mtc01 vs barcodes\n",
      "statistic: -3.3575892875016953\n",
      "p_value: 0.001217844175312171\n",
      "significant: True\n"
     ]
    }
   ],
   "source": [
    "df_merge = df_merge.sort_values(['strain', 'CmR'],ascending=True)\n",
    "df_plot = df_merge.loc[(df_merge['Inoculation']=='barcodes')|(df_merge['Inoculation_2']=='barcodes')]\n",
    "fig = px.box(df_plot,\n",
    "                x = 'strain', \n",
    "                y = 'Nb',\n",
    "                color = 'Inoculation',\n",
    "                points = 'all',\n",
    "                log_y=True,\n",
    "                template = 'simple_white',\n",
    "                hover_data=['sample_id'],width = 700,\n",
    "                height = 500,\n",
    "                )\n",
    "fig.show()\n",
    "\n",
    "def compare_groups_ttest(df, grouping_col, response_col):\n",
    "    \"\"\"\n",
    "    Two-sample t-test for comparing two groups\n",
    "    \"\"\"\n",
    "    groups = df[grouping_col].unique()\n",
    "    \n",
    "    if len(groups) == 2:\n",
    "        group1 = df[df[grouping_col] == groups[0]][response_col].dropna()\n",
    "        group2 = df[df[grouping_col] == groups[1]][response_col].dropna()\n",
    "        \n",
    "        # Perform t-test\n",
    "        statistic, p_value = stats.ttest_ind(group1, group2)\n",
    "        \n",
    "        return {\n",
    "            'comparison': f'{groups[0]} vs {groups[1]}',\n",
    "            'statistic': statistic,\n",
    "            'p_value': p_value,\n",
    "            'significant': p_value < 0.05\n",
    "        }\n",
    "    elif len(groups) > 2:\n",
    "        # Use ANOVA for >2 groups\n",
    "        group_data = [df[df[grouping_col] == g][response_col].dropna() for g in groups]\n",
    "        statistic, p_value = stats.f_oneway(*group_data)\n",
    "        \n",
    "        return {\n",
    "            'comparison': f'{grouping_col} (ANOVA)',\n",
    "            'statistic': statistic,\n",
    "            'p_value': p_value,\n",
    "            'significant': p_value < 0.05\n",
    "        }\n",
    "\n",
    "# Example usage:\n",
    "for strain in df_plot['strain'].unique():\n",
    "    df_plot = df_plot.sort_values(['CmR'])\n",
    "    print(strain)\n",
    "    result = compare_groups_ttest(df_plot[df_plot['strain']==strain], 'Inoculation', 'Nb')\n",
    "    \n",
    "    for  entry in result.keys():\n",
    "        print(entry + \": \" + str(result[entry]))"
   ]
  },
  {
   "cell_type": "code",
   "execution_count": 10,
   "id": "6580318a",
   "metadata": {},
   "outputs": [
    {
     "data": {
      "application/vnd.plotly.v1+json": {
       "config": {
        "plotlyServerURL": "https://plotly.com"
       },
       "data": [
        {
         "alignmentgroup": "True",
         "boxpoints": "all",
         "customdata": [
          [
           "E1"
          ],
          [
           "E7"
          ],
          [
           "F1"
          ],
          [
           "F7"
          ],
          [
           "G1"
          ],
          [
           "G7"
          ],
          [
           "H1"
          ],
          [
           "H7"
          ],
          [
           "A1"
          ],
          [
           "A7"
          ],
          [
           "B1"
          ],
          [
           "B7"
          ],
          [
           "C1"
          ],
          [
           "C7"
          ],
          [
           "D1"
          ],
          [
           "D7"
          ],
          [
           "E1"
          ],
          [
           "E7"
          ],
          [
           "F1"
          ],
          [
           "F7"
          ],
          [
           "G1"
          ],
          [
           "G7"
          ],
          [
           "H1"
          ],
          [
           "H7"
          ],
          [
           "A1"
          ],
          [
           "A7"
          ],
          [
           "B1"
          ],
          [
           "B7"
          ],
          [
           "C1"
          ],
          [
           "C7"
          ],
          [
           "D1"
          ],
          [
           "D7"
          ],
          [
           "E1"
          ],
          [
           "E7"
          ],
          [
           "F1"
          ],
          [
           "F7"
          ],
          [
           "G1"
          ],
          [
           "G7"
          ],
          [
           "H1"
          ],
          [
           "H7"
          ],
          [
           "A1"
          ],
          [
           "A7"
          ],
          [
           "B1"
          ],
          [
           "B7"
          ],
          [
           "C1"
          ],
          [
           "C7"
          ],
          [
           "D1"
          ],
          [
           "D7"
          ],
          [
           "E1"
          ],
          [
           "E7"
          ],
          [
           "F1"
          ],
          [
           "F7"
          ],
          [
           "G1"
          ],
          [
           "G7"
          ],
          [
           "H1"
          ],
          [
           "H7"
          ],
          [
           "A1"
          ],
          [
           "A7"
          ],
          [
           "B1"
          ],
          [
           "B7"
          ],
          [
           "C1"
          ],
          [
           "C7"
          ],
          [
           "D1"
          ],
          [
           "D7"
          ],
          [
           "E1"
          ],
          [
           "E7"
          ],
          [
           "F1"
          ],
          [
           "F7"
          ],
          [
           "G1"
          ],
          [
           "G7"
          ],
          [
           "H1"
          ],
          [
           "H7"
          ],
          [
           "A1"
          ],
          [
           "A7"
          ],
          [
           "B1"
          ],
          [
           "B7"
          ],
          [
           "C1"
          ],
          [
           "C7"
          ],
          [
           "D1"
          ],
          [
           "D7"
          ]
         ],
         "hovertemplate": "Inoculation_2=NA<br>strain=%{x}<br>Ns=%{y}<br>sample_id=%{customdata[0]}<extra></extra>",
         "legendgroup": "NA",
         "marker": {
          "color": "#1F77B4"
         },
         "name": "NA",
         "notched": false,
         "offsetgroup": "NA",
         "orientation": "v",
         "showlegend": true,
         "type": "box",
         "x": [
          "ST1",
          "ST1",
          "ST1",
          "ST1",
          "ST1",
          "ST1",
          "ST1",
          "ST1",
          "ST1",
          "ST1",
          "ST1",
          "ST1",
          "ST1",
          "ST1",
          "ST1",
          "ST1",
          "ST2",
          "ST2",
          "ST2",
          "ST2",
          "ST2",
          "ST2",
          "ST2",
          "ST2",
          "ST2",
          "ST2",
          "ST2",
          "ST2",
          "ST2",
          "ST2",
          "ST2",
          "ST2",
          "ST4",
          "ST4",
          "ST4",
          "ST4",
          "ST4",
          "ST4",
          "ST4",
          "ST4",
          "ST4",
          "ST4",
          "ST4",
          "ST4",
          "ST4",
          "ST4",
          "ST4",
          "ST4",
          "ST5",
          "ST5",
          "ST5",
          "ST5",
          "ST5",
          "ST5",
          "ST5",
          "ST5",
          "ST5",
          "ST5",
          "ST5",
          "ST5",
          "ST5",
          "ST5",
          "ST5",
          "ST5",
          "ST6",
          "ST6",
          "ST6",
          "ST6",
          "ST6",
          "ST6",
          "ST6",
          "ST6",
          "ST6",
          "ST6",
          "ST6",
          "ST6",
          "ST6",
          "ST6",
          "ST6",
          "ST6"
         ],
         "x0": " ",
         "xaxis": "x",
         "y": {
          "bdata": "AAAAAABgZUAAAAAAANByQD8XXXTR5WNAAAAAAAAwd0BhVVVVVbVjQAAAAAAA8HVAPxdddNFlYUAAAAAAALBqQAAAAADQNPlAAAAAAKCQ+0AAAAAA0Ov2QAAAAACAAPVAAAAAABBV+EAAAAAAoIz6QAAAAABQZvdAAAAAABBp+EDwxE7sxE4EQEiSJEmSJCNAXVVVVVVVBUCpqqqqqqoiQJAuuuiiiwZA8MRO7MROEEBdVVVVVVUFQFEndmIndiRAvW3btm3bDkCQLrrooosSQF1VVVVVVQVAXCd2Yid2FkBOkiRJkiQVQFJVVVVVVRFAvW3btm3bDkBcJ3ZiJ3YWQAAAAIC0zUdBAAAAgK9MRUEAAACAdwhLQQAAAADb4khBAAAAAMFCSUEAAACAfutGQQAAAACQgEVBAAAAAKyWRUEAAACAyh9CQQAAAADhkEJBAAAAADIvPEEAAAAAhm07QQAAAID2IUFBAAAAAFRRQEEAAAAA2j5AQQAAAICfCEtBAAAAAADOr0AAAAAAaFkOQdZFF1106rFAAAAAAOgvE0G86KKLLqexQAAAAACQA/hAAAAAAAD1sEAAAAAASDEBQQAAAADohB1BAAAAAHisGkEAAAAA2FAWQQAAAADIxg5BAAAAAIw6IEEAAAAACK4VQQAAAAAodh5BAAAAAHRcMEEAAAAAAI/oQLSqqqpqNd9ApqqqqsqN6UAAAAAAQFfeQAAAAAAgWOtAAAAAAKD/4kCmqqqqStHpQAAAAACg/+FAAAAAAFAx+0AAAAAAsFL3QAAAAAAQuvhAAAAAANB29EAAAAAA4Mv+QAAAAACwAvdAAAAAAGAa/kAAAAAAkLsEQQ==",
          "dtype": "f8"
         },
         "y0": " ",
         "yaxis": "y"
        },
        {
         "alignmentgroup": "True",
         "boxpoints": "all",
         "customdata": [
          [
           "E2"
          ],
          [
           "E3"
          ],
          [
           "E8"
          ],
          [
           "E9"
          ],
          [
           "F2"
          ],
          [
           "F3"
          ],
          [
           "F8"
          ],
          [
           "F9"
          ],
          [
           "G2"
          ],
          [
           "G3"
          ],
          [
           "G8"
          ],
          [
           "G9"
          ],
          [
           "H2"
          ],
          [
           "H3"
          ],
          [
           "H8"
          ],
          [
           "H9"
          ],
          [
           "A2"
          ],
          [
           "A3"
          ],
          [
           "A8"
          ],
          [
           "A9"
          ],
          [
           "B2"
          ],
          [
           "B3"
          ],
          [
           "B8"
          ],
          [
           "B9"
          ],
          [
           "C2"
          ],
          [
           "C3"
          ],
          [
           "C8"
          ],
          [
           "C9"
          ],
          [
           "D2"
          ],
          [
           "D3"
          ],
          [
           "D8"
          ],
          [
           "D9"
          ],
          [
           "E2"
          ],
          [
           "E3"
          ],
          [
           "E8"
          ],
          [
           "E9"
          ],
          [
           "F2"
          ],
          [
           "F3"
          ],
          [
           "F8"
          ],
          [
           "F9"
          ],
          [
           "G2"
          ],
          [
           "G3"
          ],
          [
           "G8"
          ],
          [
           "G9"
          ],
          [
           "H2"
          ],
          [
           "H3"
          ],
          [
           "H8"
          ],
          [
           "H9"
          ],
          [
           "A2"
          ],
          [
           "A3"
          ],
          [
           "A8"
          ],
          [
           "A9"
          ],
          [
           "B2"
          ],
          [
           "B3"
          ],
          [
           "B8"
          ],
          [
           "B9"
          ],
          [
           "C2"
          ],
          [
           "C3"
          ],
          [
           "C8"
          ],
          [
           "C9"
          ],
          [
           "D2"
          ],
          [
           "D3"
          ],
          [
           "D8"
          ],
          [
           "D9"
          ],
          [
           "E2"
          ],
          [
           "E3"
          ],
          [
           "E8"
          ],
          [
           "E9"
          ],
          [
           "F2"
          ],
          [
           "F3"
          ],
          [
           "F8"
          ],
          [
           "F9"
          ],
          [
           "G2"
          ],
          [
           "G3"
          ],
          [
           "G8"
          ],
          [
           "G9"
          ],
          [
           "H2"
          ],
          [
           "H3"
          ],
          [
           "H8"
          ],
          [
           "H9"
          ],
          [
           "A2"
          ],
          [
           "A3"
          ],
          [
           "A8"
          ],
          [
           "A9"
          ],
          [
           "B2"
          ],
          [
           "B3"
          ],
          [
           "B8"
          ],
          [
           "B9"
          ],
          [
           "C2"
          ],
          [
           "C3"
          ],
          [
           "C8"
          ],
          [
           "C9"
          ],
          [
           "D2"
          ],
          [
           "D3"
          ],
          [
           "D8"
          ],
          [
           "D9"
          ],
          [
           "E2"
          ],
          [
           "E3"
          ],
          [
           "E8"
          ],
          [
           "E9"
          ],
          [
           "F2"
          ],
          [
           "F3"
          ],
          [
           "F8"
          ],
          [
           "F9"
          ],
          [
           "G2"
          ],
          [
           "G3"
          ],
          [
           "G8"
          ],
          [
           "G9"
          ],
          [
           "H2"
          ],
          [
           "H3"
          ],
          [
           "H8"
          ],
          [
           "H9"
          ],
          [
           "A2"
          ],
          [
           "A3"
          ],
          [
           "A8"
          ],
          [
           "A9"
          ],
          [
           "B2"
          ],
          [
           "B3"
          ],
          [
           "B8"
          ],
          [
           "B9"
          ],
          [
           "C2"
          ],
          [
           "C3"
          ],
          [
           "C8"
          ],
          [
           "C9"
          ],
          [
           "D2"
          ],
          [
           "D3"
          ],
          [
           "D8"
          ],
          [
           "D9"
          ],
          [
           "E2"
          ],
          [
           "E3"
          ],
          [
           "E8"
          ],
          [
           "E9"
          ],
          [
           "F2"
          ],
          [
           "F3"
          ],
          [
           "F8"
          ],
          [
           "F9"
          ],
          [
           "G2"
          ],
          [
           "G3"
          ],
          [
           "G8"
          ],
          [
           "G9"
          ],
          [
           "H2"
          ],
          [
           "H3"
          ],
          [
           "H8"
          ],
          [
           "H9"
          ],
          [
           "A2"
          ],
          [
           "A3"
          ],
          [
           "A8"
          ],
          [
           "A9"
          ],
          [
           "B2"
          ],
          [
           "B3"
          ],
          [
           "B8"
          ],
          [
           "B9"
          ],
          [
           "C2"
          ],
          [
           "C3"
          ],
          [
           "C8"
          ],
          [
           "C9"
          ],
          [
           "D2"
          ],
          [
           "D3"
          ],
          [
           "D8"
          ],
          [
           "D9"
          ]
         ],
         "hovertemplate": "Inoculation_2=mtc01<br>strain=%{x}<br>Ns=%{y}<br>sample_id=%{customdata[0]}<extra></extra>",
         "legendgroup": "mtc01",
         "marker": {
          "color": "#FF7F0E"
         },
         "name": "mtc01",
         "notched": false,
         "offsetgroup": "mtc01",
         "orientation": "v",
         "showlegend": true,
         "type": "box",
         "x": [
          "ST1",
          "ST1",
          "ST1",
          "ST1",
          "ST1",
          "ST1",
          "ST1",
          "ST1",
          "ST1",
          "ST1",
          "ST1",
          "ST1",
          "ST1",
          "ST1",
          "ST1",
          "ST1",
          "ST1",
          "ST1",
          "ST1",
          "ST1",
          "ST1",
          "ST1",
          "ST1",
          "ST1",
          "ST1",
          "ST1",
          "ST1",
          "ST1",
          "ST1",
          "ST1",
          "ST1",
          "ST1",
          "ST2",
          "ST2",
          "ST2",
          "ST2",
          "ST2",
          "ST2",
          "ST2",
          "ST2",
          "ST2",
          "ST2",
          "ST2",
          "ST2",
          "ST2",
          "ST2",
          "ST2",
          "ST2",
          "ST2",
          "ST2",
          "ST2",
          "ST2",
          "ST2",
          "ST2",
          "ST2",
          "ST2",
          "ST2",
          "ST2",
          "ST2",
          "ST2",
          "ST2",
          "ST2",
          "ST2",
          "ST2",
          "ST4",
          "ST4",
          "ST4",
          "ST4",
          "ST4",
          "ST4",
          "ST4",
          "ST4",
          "ST4",
          "ST4",
          "ST4",
          "ST4",
          "ST4",
          "ST4",
          "ST4",
          "ST4",
          "ST4",
          "ST4",
          "ST4",
          "ST4",
          "ST4",
          "ST4",
          "ST4",
          "ST4",
          "ST4",
          "ST4",
          "ST4",
          "ST4",
          "ST4",
          "ST4",
          "ST4",
          "ST4",
          "ST5",
          "ST5",
          "ST5",
          "ST5",
          "ST5",
          "ST5",
          "ST5",
          "ST5",
          "ST5",
          "ST5",
          "ST5",
          "ST5",
          "ST5",
          "ST5",
          "ST5",
          "ST5",
          "ST5",
          "ST5",
          "ST5",
          "ST5",
          "ST5",
          "ST5",
          "ST5",
          "ST5",
          "ST5",
          "ST5",
          "ST5",
          "ST5",
          "ST5",
          "ST5",
          "ST5",
          "ST5",
          "ST6",
          "ST6",
          "ST6",
          "ST6",
          "ST6",
          "ST6",
          "ST6",
          "ST6",
          "ST6",
          "ST6",
          "ST6",
          "ST6",
          "ST6",
          "ST6",
          "ST6",
          "ST6",
          "ST6",
          "ST6",
          "ST6",
          "ST6",
          "ST6",
          "ST6",
          "ST6",
          "ST6",
          "ST6",
          "ST6",
          "ST6",
          "ST6",
          "ST6",
          "ST6",
          "ST6",
          "ST6"
         ],
         "x0": " ",
         "xaxis": "x",
         "y": {
          "bdata": "H7roootOZ0B/LrrooqtoQAAAAAAAFLBAAAAAAAAqoEAAAAAAAJBsQLxt27Zt+2tAAAAAAAAqqUBdVVVVVa+kQB+66KKLTmdAgdFFF120XkAAAAAAAHKpQAAAAAAAoqBAIV100UU3aECB0UUXXZRkQKOqqqqqGKNAqm3btm1Pn0AAAAAAkBX5QAAAAADQSfhAAAAAACArA0EAAAAAYBD9QAAAAACQi/ZAAAAAAFBD90AAAAAAUDn3QAAAAAAQZ/pAAAAAAKDX+kAAAAAAIEb9QAAAAACg7f1AAAAAAOCO/kAAAAAAUOT2QAAAAACQGPZAAAAAAKCM+kAAAAAA0E74QF1VVVVVVQVAXVVVVVVVBUAAAAAAAADwP/DETuzEThBAXVVVVVVVBUBdVVVVVVUFQAAAAAAAAPA/8MRO7MROEEBdVVVVVVUFQJAuuuiiiwZATpIkSZIkFUBSVVVVVVURQN+2bdu2bQNAkC666KKLBkBdVVVVVVUFQFJVVVVVVRFA37Zt27ZtA0Cybdu2bdsaQKmqqqqqqiJAXCd2Yid2FkDwxE7sxE4QQFJVVVVVVRFA8MRO7MROBEDwxE7sxE4QQJEkSZIkSSBA8MRO7MROBEDUiZ3YiZ0cQE6SJEmSJBVAUlVVVVVVEUDwxE7sxE4EQE6SJEmSJBVAkSRJkiRJIEAAAACAt2lKQQAAAICaukdBAAAAgGicR0EAAACAB9RJQQAAAICpCEtBAAAAgGMIS0EAAACAiwhLQQAAAICLCEtBAAAAAEFpSEEAAAAA9oA6QQAAAICpCEtBAAAAgEuYREEAAAAAInpGQQAAAIDcc0dBAAAAAEIjRkEAAAAANEBGQQAAAIAK+UFBAAAAAGaAQEEAAACAb2VEQQAAAADus0VBAAAAAI8SPkEAAAAAC8A8QQAAAADHizxBAAAAALLAQEEAAAAAAOFAQQAAAADqH0BBAAAAgAYXQUEAAAAAQbhCQQAAAADLcT5BAAAAANdLMUEAAACAzFpBQQAAAACOETpBAAAAAAAGrkBTdNFFF7enQAAAAADA5NhAAAAAAIAQz0Aquuiii/OxQAAAAAAAuqpAAAAAAGBB4EAAAAAAQF7aQFN00UUXh69AAAAAAIBHokAAAAAAYDLgQAAAAABAB9dAiC666KLVq0BEF1100eemQAAAAADA+NhAtKqqqupf1UAAAAAAqHsbQQAAAACY3RlBAAAAAEiIGUEAAAAAaDEZQQAAAABYvxNBAAAAAHjWE0EAAAAAyNkKQQAAAAAYJBJBAAAAAKjBG0EAAAAASAIYQQAAAAA4rRNBAAAAAOj1FUEAAAAAKOUYQQAAAABIhANBAAAAAPj7E0EAAAAAqMoMQQAAAACA3uZAWlVVVfWF5kAAAAAAwN/mQAAAAAAgSetAAAAAACAT6kAAAAAAoM3mQAAAAAAASehAAAAAAKDY6kAAAAAAoFLpQAAAAAAg3OJAAAAAAMCX6EAAAAAA4NTlQAAAAACgmuZAAAAAAABX5EAAAAAAoAzmQAAAAABg/+VAAAAAAFC+AEEAAAAAYDP+QAAAAABQ0vpAAAAAAKBR/0AAAAAA0Oj6QAAAAACwwftAAAAAAPD+9kAAAAAAkOT4QAAAAAAwjgBBAAAAAOAE/UAAAAAA8LT6QAAAAABgSP1AAAAAAJB+AEFTVVVV5Tz0QAAAAADQOPtAAAAAAHAK+EA=",
          "dtype": "f8"
         },
         "y0": " ",
         "yaxis": "y"
        },
        {
         "alignmentgroup": "True",
         "boxpoints": "all",
         "customdata": [
          [
           "E5"
          ],
          [
           "E6"
          ],
          [
           "E11"
          ],
          [
           "E12"
          ],
          [
           "F5"
          ],
          [
           "F6"
          ],
          [
           "F11"
          ],
          [
           "F12"
          ],
          [
           "G5"
          ],
          [
           "G6"
          ],
          [
           "G11"
          ],
          [
           "G12"
          ],
          [
           "H5"
          ],
          [
           "H6"
          ],
          [
           "H11"
          ],
          [
           "H12"
          ],
          [
           "A5"
          ],
          [
           "A6"
          ],
          [
           "A11"
          ],
          [
           "A12"
          ],
          [
           "B5"
          ],
          [
           "B6"
          ],
          [
           "B11"
          ],
          [
           "B12"
          ],
          [
           "C5"
          ],
          [
           "C6"
          ],
          [
           "C11"
          ],
          [
           "C12"
          ],
          [
           "D5"
          ],
          [
           "D6"
          ],
          [
           "D11"
          ],
          [
           "D12"
          ],
          [
           "E5"
          ],
          [
           "E6"
          ],
          [
           "E11"
          ],
          [
           "E12"
          ],
          [
           "F5"
          ],
          [
           "F6"
          ],
          [
           "F11"
          ],
          [
           "F12"
          ],
          [
           "G5"
          ],
          [
           "G6"
          ],
          [
           "G11"
          ],
          [
           "G12"
          ],
          [
           "H5"
          ],
          [
           "H6"
          ],
          [
           "H11"
          ],
          [
           "H12"
          ],
          [
           "A5"
          ],
          [
           "A6"
          ],
          [
           "A11"
          ],
          [
           "A12"
          ],
          [
           "B5"
          ],
          [
           "B6"
          ],
          [
           "B11"
          ],
          [
           "B12"
          ],
          [
           "C5"
          ],
          [
           "C6"
          ],
          [
           "C11"
          ],
          [
           "C12"
          ],
          [
           "D5"
          ],
          [
           "D6"
          ],
          [
           "D11"
          ],
          [
           "D12"
          ],
          [
           "E5"
          ],
          [
           "E6"
          ],
          [
           "E11"
          ],
          [
           "E12"
          ],
          [
           "F5"
          ],
          [
           "F6"
          ],
          [
           "F11"
          ],
          [
           "F12"
          ],
          [
           "G5"
          ],
          [
           "G6"
          ],
          [
           "G11"
          ],
          [
           "G12"
          ],
          [
           "H5"
          ],
          [
           "H6"
          ],
          [
           "H11"
          ],
          [
           "H12"
          ],
          [
           "A5"
          ],
          [
           "A6"
          ],
          [
           "A11"
          ],
          [
           "A12"
          ],
          [
           "B5"
          ],
          [
           "B6"
          ],
          [
           "B11"
          ],
          [
           "B12"
          ],
          [
           "C5"
          ],
          [
           "C6"
          ],
          [
           "C11"
          ],
          [
           "C12"
          ],
          [
           "D5"
          ],
          [
           "D6"
          ],
          [
           "D11"
          ],
          [
           "D12"
          ],
          [
           "E5"
          ],
          [
           "E6"
          ],
          [
           "E11"
          ],
          [
           "E12"
          ],
          [
           "F5"
          ],
          [
           "F6"
          ],
          [
           "F11"
          ],
          [
           "F12"
          ],
          [
           "G5"
          ],
          [
           "G6"
          ],
          [
           "G11"
          ],
          [
           "G12"
          ],
          [
           "H5"
          ],
          [
           "H6"
          ],
          [
           "H11"
          ],
          [
           "H12"
          ],
          [
           "A5"
          ],
          [
           "A6"
          ],
          [
           "A11"
          ],
          [
           "A12"
          ],
          [
           "B5"
          ],
          [
           "B6"
          ],
          [
           "B11"
          ],
          [
           "B12"
          ],
          [
           "C5"
          ],
          [
           "C6"
          ],
          [
           "C11"
          ],
          [
           "C12"
          ],
          [
           "D5"
          ],
          [
           "D6"
          ],
          [
           "D11"
          ],
          [
           "D12"
          ],
          [
           "E5"
          ],
          [
           "E6"
          ],
          [
           "E11"
          ],
          [
           "E12"
          ],
          [
           "F5"
          ],
          [
           "F6"
          ],
          [
           "F11"
          ],
          [
           "F12"
          ],
          [
           "G5"
          ],
          [
           "G6"
          ],
          [
           "G11"
          ],
          [
           "G12"
          ],
          [
           "H5"
          ],
          [
           "H6"
          ],
          [
           "H11"
          ],
          [
           "H12"
          ],
          [
           "A5"
          ],
          [
           "A6"
          ],
          [
           "A11"
          ],
          [
           "A12"
          ],
          [
           "B5"
          ],
          [
           "B6"
          ],
          [
           "B11"
          ],
          [
           "B12"
          ],
          [
           "C5"
          ],
          [
           "C6"
          ],
          [
           "C11"
          ],
          [
           "C12"
          ],
          [
           "D5"
          ],
          [
           "D6"
          ],
          [
           "D11"
          ],
          [
           "D12"
          ]
         ],
         "hovertemplate": "Inoculation_2=barcodes<br>strain=%{x}<br>Ns=%{y}<br>sample_id=%{customdata[0]}<extra></extra>",
         "legendgroup": "barcodes",
         "marker": {
          "color": "#2CA02C"
         },
         "name": "barcodes",
         "notched": false,
         "offsetgroup": "barcodes",
         "orientation": "v",
         "showlegend": true,
         "type": "box",
         "x": [
          "ST1",
          "ST1",
          "ST1",
          "ST1",
          "ST1",
          "ST1",
          "ST1",
          "ST1",
          "ST1",
          "ST1",
          "ST1",
          "ST1",
          "ST1",
          "ST1",
          "ST1",
          "ST1",
          "ST1",
          "ST1",
          "ST1",
          "ST1",
          "ST1",
          "ST1",
          "ST1",
          "ST1",
          "ST1",
          "ST1",
          "ST1",
          "ST1",
          "ST1",
          "ST1",
          "ST1",
          "ST1",
          "ST2",
          "ST2",
          "ST2",
          "ST2",
          "ST2",
          "ST2",
          "ST2",
          "ST2",
          "ST2",
          "ST2",
          "ST2",
          "ST2",
          "ST2",
          "ST2",
          "ST2",
          "ST2",
          "ST2",
          "ST2",
          "ST2",
          "ST2",
          "ST2",
          "ST2",
          "ST2",
          "ST2",
          "ST2",
          "ST2",
          "ST2",
          "ST2",
          "ST2",
          "ST2",
          "ST2",
          "ST2",
          "ST4",
          "ST4",
          "ST4",
          "ST4",
          "ST4",
          "ST4",
          "ST4",
          "ST4",
          "ST4",
          "ST4",
          "ST4",
          "ST4",
          "ST4",
          "ST4",
          "ST4",
          "ST4",
          "ST4",
          "ST4",
          "ST4",
          "ST4",
          "ST4",
          "ST4",
          "ST4",
          "ST4",
          "ST4",
          "ST4",
          "ST4",
          "ST4",
          "ST4",
          "ST4",
          "ST4",
          "ST4",
          "ST5",
          "ST5",
          "ST5",
          "ST5",
          "ST5",
          "ST5",
          "ST5",
          "ST5",
          "ST5",
          "ST5",
          "ST5",
          "ST5",
          "ST5",
          "ST5",
          "ST5",
          "ST5",
          "ST5",
          "ST5",
          "ST5",
          "ST5",
          "ST5",
          "ST5",
          "ST5",
          "ST5",
          "ST5",
          "ST5",
          "ST5",
          "ST5",
          "ST5",
          "ST5",
          "ST5",
          "ST5",
          "ST6",
          "ST6",
          "ST6",
          "ST6",
          "ST6",
          "ST6",
          "ST6",
          "ST6",
          "ST6",
          "ST6",
          "ST6",
          "ST6",
          "ST6",
          "ST6",
          "ST6",
          "ST6",
          "ST6",
          "ST6",
          "ST6",
          "ST6",
          "ST6",
          "ST6",
          "ST6",
          "ST6",
          "ST6",
          "ST6",
          "ST6",
          "ST6",
          "ST6",
          "ST6",
          "ST6",
          "ST6"
         ],
         "x0": " ",
         "xaxis": "x",
         "y": {
          "bdata": "miRJkiTZf0BNkiRJkoyAQFhVVVVVvYZAAAAAAACUmUDetm3btrWBQLNt27Zt44FAAAAAAADshkAAAAAAAOSfQN62bdu2fX9ATZIkSZKMgECzbdu2bWOEQEdVVVVVEZlA3rZt27b9fEAAAAAAALB+QESSJEmS9H5AAAAAAADUlUAAAAAAODsAQQAAAAAA+gNBAAAAANhrAkEAAAAASFMGQQAAAAB4qgBBAAAAABCl+EAAAAAAoCD9QAAAAAC46wFBAAAAAEAFBEEAAAAAIK0DQQAAAADYwQFBAAAAAGhDBUEAAAAAuGUAQQAAAABYCwFBAAAAAGDhAkEAAAAA+IMBQV1VVVVVVQVAXVVVVVVVBUBOkiRJkiQVQKmqqqqqqiJAXVVVVVVVBUAAAAAAAAAIQF1VVVVVVQVAUSd2Yid2JEDwxE7sxE4EQPDETuzEThBAvW3btm3bDkBRJ3ZiJ3YkQJAuuuiiiwZAvW3btm3bDkDUiZ3YiZ0cQAAAAAAAABhA1Imd2ImdHEBdVVVVVVUFQFwndmIndhZA37Zt27ZtA0BcJ3ZiJ3YWQPDETuzETgRA8MRO7MROEEAAAAAAAAATQPDETuzEThBAUlVVVVVVEUC9bdu2bdsOQFwndmIndhZAvW3btm3bDkBcJ3ZiJ3YWQPDETuzETgRAJnZiJ3ZiIUAAAAAA8ylJQQAAAICfCEtBAAAAgChQR0EAAACAU75KQQAAAICfCEtBAAAAgIEIS0EAAAAAtAhLQQAAAIBtCEtBAAAAgJUIS0EAAACAdwhLQQAAAICjzERBAAAAAItLSUEAAAAAiI1FQQAAAIBEL0dBAAAAAN1IQ0EAAAAAfIVFQQAAAAA8AEBBAAAAgKcPREEAAACAYMdHQQAAAABWKzpBAAAAANaNQEEAAAAAN949QQAAAACSvDpBAAAAACMwM0EAAACAQgJCQQAAAIDQCkJBAAAAAIHcQkEAAAAAeCo1QQAAAIB0EUJBAAAAAO1bQ0EAAAAAW55CQQAAAADCDzpBAAAAAADLt0AAAAAAgCzGQAAAAADQWfNAAAAAAMiCF0EAAAAAABm6QAAAAACATMhAAAAAAFA7+0AAAAAAiPQMQQAAAACARbhAn23btu0jxUAAAAAAoInpQAAAAADYORRBAAAAAID3tUBoVVVV1VLFQAAAAABQwfJAAAAAAIiaAkEAAAAArEshQQAAAAA+DyhBAAAAAFY3JEEAAACAJdJHQQAAAABsaCFBAAAAAFiILUEAAAAAyMUVQQAAAID0xkFBAAAAAMYDKUEAAAAATmomQQAAAACcViFBAAAAAD4BN0EAAAAAZp4lQQAAAADANtxAAAAAAB6UJ0EAAAAAaZ9MQQAAAADgZ+lAAAAAAKBm6UAAAAAAoKDmQAAAAACglOFAAAAAAMBo6kCmqqqqSoXqQFpVVVV1QOhATFVVVRWw3kAAAAAAIE/qQAAAAABgg+lAWlVVVfWK5kC0qqqqasbfQAAAAACg3edAAAAAAMBX50AAAAAAoBfjQLSqqqpqG9tAAAAAAHC690AAAAAAYPDvQAAAAAAQx/VAAAAAAEDu20AAAAAA0Ar3QAAAAACAAutAU1VVVeWG8EAAAAAAQNzZQMKqqqo6lvhAWlVVVfW+7kAAAAAAUMXzQEWSJEnSz9pAAAAAANDV+UAAAAAA4APuQAAAAABQJfNAtKqqquoq2EA=",
          "dtype": "f8"
         },
         "y0": " ",
         "yaxis": "y"
        }
       ],
       "layout": {
        "boxmode": "group",
        "height": 500,
        "legend": {
         "title": {
          "text": "Inoculation_2"
         },
         "tracegroupgap": 0
        },
        "margin": {
         "t": 60
        },
        "template": {
         "data": {
          "bar": [
           {
            "error_x": {
             "color": "rgb(36,36,36)"
            },
            "error_y": {
             "color": "rgb(36,36,36)"
            },
            "marker": {
             "line": {
              "color": "white",
              "width": 0.5
             },
             "pattern": {
              "fillmode": "overlay",
              "size": 10,
              "solidity": 0.2
             }
            },
            "type": "bar"
           }
          ],
          "barpolar": [
           {
            "marker": {
             "line": {
              "color": "white",
              "width": 0.5
             },
             "pattern": {
              "fillmode": "overlay",
              "size": 10,
              "solidity": 0.2
             }
            },
            "type": "barpolar"
           }
          ],
          "carpet": [
           {
            "aaxis": {
             "endlinecolor": "rgb(36,36,36)",
             "gridcolor": "white",
             "linecolor": "white",
             "minorgridcolor": "white",
             "startlinecolor": "rgb(36,36,36)"
            },
            "baxis": {
             "endlinecolor": "rgb(36,36,36)",
             "gridcolor": "white",
             "linecolor": "white",
             "minorgridcolor": "white",
             "startlinecolor": "rgb(36,36,36)"
            },
            "type": "carpet"
           }
          ],
          "choropleth": [
           {
            "colorbar": {
             "outlinewidth": 1,
             "tickcolor": "rgb(36,36,36)",
             "ticks": "outside"
            },
            "type": "choropleth"
           }
          ],
          "contour": [
           {
            "colorbar": {
             "outlinewidth": 1,
             "tickcolor": "rgb(36,36,36)",
             "ticks": "outside"
            },
            "colorscale": [
             [
              0,
              "#440154"
             ],
             [
              0.1111111111111111,
              "#482878"
             ],
             [
              0.2222222222222222,
              "#3e4989"
             ],
             [
              0.3333333333333333,
              "#31688e"
             ],
             [
              0.4444444444444444,
              "#26828e"
             ],
             [
              0.5555555555555556,
              "#1f9e89"
             ],
             [
              0.6666666666666666,
              "#35b779"
             ],
             [
              0.7777777777777778,
              "#6ece58"
             ],
             [
              0.8888888888888888,
              "#b5de2b"
             ],
             [
              1,
              "#fde725"
             ]
            ],
            "type": "contour"
           }
          ],
          "contourcarpet": [
           {
            "colorbar": {
             "outlinewidth": 1,
             "tickcolor": "rgb(36,36,36)",
             "ticks": "outside"
            },
            "type": "contourcarpet"
           }
          ],
          "heatmap": [
           {
            "colorbar": {
             "outlinewidth": 1,
             "tickcolor": "rgb(36,36,36)",
             "ticks": "outside"
            },
            "colorscale": [
             [
              0,
              "#440154"
             ],
             [
              0.1111111111111111,
              "#482878"
             ],
             [
              0.2222222222222222,
              "#3e4989"
             ],
             [
              0.3333333333333333,
              "#31688e"
             ],
             [
              0.4444444444444444,
              "#26828e"
             ],
             [
              0.5555555555555556,
              "#1f9e89"
             ],
             [
              0.6666666666666666,
              "#35b779"
             ],
             [
              0.7777777777777778,
              "#6ece58"
             ],
             [
              0.8888888888888888,
              "#b5de2b"
             ],
             [
              1,
              "#fde725"
             ]
            ],
            "type": "heatmap"
           }
          ],
          "histogram": [
           {
            "marker": {
             "line": {
              "color": "white",
              "width": 0.6
             }
            },
            "type": "histogram"
           }
          ],
          "histogram2d": [
           {
            "colorbar": {
             "outlinewidth": 1,
             "tickcolor": "rgb(36,36,36)",
             "ticks": "outside"
            },
            "colorscale": [
             [
              0,
              "#440154"
             ],
             [
              0.1111111111111111,
              "#482878"
             ],
             [
              0.2222222222222222,
              "#3e4989"
             ],
             [
              0.3333333333333333,
              "#31688e"
             ],
             [
              0.4444444444444444,
              "#26828e"
             ],
             [
              0.5555555555555556,
              "#1f9e89"
             ],
             [
              0.6666666666666666,
              "#35b779"
             ],
             [
              0.7777777777777778,
              "#6ece58"
             ],
             [
              0.8888888888888888,
              "#b5de2b"
             ],
             [
              1,
              "#fde725"
             ]
            ],
            "type": "histogram2d"
           }
          ],
          "histogram2dcontour": [
           {
            "colorbar": {
             "outlinewidth": 1,
             "tickcolor": "rgb(36,36,36)",
             "ticks": "outside"
            },
            "colorscale": [
             [
              0,
              "#440154"
             ],
             [
              0.1111111111111111,
              "#482878"
             ],
             [
              0.2222222222222222,
              "#3e4989"
             ],
             [
              0.3333333333333333,
              "#31688e"
             ],
             [
              0.4444444444444444,
              "#26828e"
             ],
             [
              0.5555555555555556,
              "#1f9e89"
             ],
             [
              0.6666666666666666,
              "#35b779"
             ],
             [
              0.7777777777777778,
              "#6ece58"
             ],
             [
              0.8888888888888888,
              "#b5de2b"
             ],
             [
              1,
              "#fde725"
             ]
            ],
            "type": "histogram2dcontour"
           }
          ],
          "mesh3d": [
           {
            "colorbar": {
             "outlinewidth": 1,
             "tickcolor": "rgb(36,36,36)",
             "ticks": "outside"
            },
            "type": "mesh3d"
           }
          ],
          "parcoords": [
           {
            "line": {
             "colorbar": {
              "outlinewidth": 1,
              "tickcolor": "rgb(36,36,36)",
              "ticks": "outside"
             }
            },
            "type": "parcoords"
           }
          ],
          "pie": [
           {
            "automargin": true,
            "type": "pie"
           }
          ],
          "scatter": [
           {
            "fillpattern": {
             "fillmode": "overlay",
             "size": 10,
             "solidity": 0.2
            },
            "type": "scatter"
           }
          ],
          "scatter3d": [
           {
            "line": {
             "colorbar": {
              "outlinewidth": 1,
              "tickcolor": "rgb(36,36,36)",
              "ticks": "outside"
             }
            },
            "marker": {
             "colorbar": {
              "outlinewidth": 1,
              "tickcolor": "rgb(36,36,36)",
              "ticks": "outside"
             }
            },
            "type": "scatter3d"
           }
          ],
          "scattercarpet": [
           {
            "marker": {
             "colorbar": {
              "outlinewidth": 1,
              "tickcolor": "rgb(36,36,36)",
              "ticks": "outside"
             }
            },
            "type": "scattercarpet"
           }
          ],
          "scattergeo": [
           {
            "marker": {
             "colorbar": {
              "outlinewidth": 1,
              "tickcolor": "rgb(36,36,36)",
              "ticks": "outside"
             }
            },
            "type": "scattergeo"
           }
          ],
          "scattergl": [
           {
            "marker": {
             "colorbar": {
              "outlinewidth": 1,
              "tickcolor": "rgb(36,36,36)",
              "ticks": "outside"
             }
            },
            "type": "scattergl"
           }
          ],
          "scattermap": [
           {
            "marker": {
             "colorbar": {
              "outlinewidth": 1,
              "tickcolor": "rgb(36,36,36)",
              "ticks": "outside"
             }
            },
            "type": "scattermap"
           }
          ],
          "scattermapbox": [
           {
            "marker": {
             "colorbar": {
              "outlinewidth": 1,
              "tickcolor": "rgb(36,36,36)",
              "ticks": "outside"
             }
            },
            "type": "scattermapbox"
           }
          ],
          "scatterpolar": [
           {
            "marker": {
             "colorbar": {
              "outlinewidth": 1,
              "tickcolor": "rgb(36,36,36)",
              "ticks": "outside"
             }
            },
            "type": "scatterpolar"
           }
          ],
          "scatterpolargl": [
           {
            "marker": {
             "colorbar": {
              "outlinewidth": 1,
              "tickcolor": "rgb(36,36,36)",
              "ticks": "outside"
             }
            },
            "type": "scatterpolargl"
           }
          ],
          "scatterternary": [
           {
            "marker": {
             "colorbar": {
              "outlinewidth": 1,
              "tickcolor": "rgb(36,36,36)",
              "ticks": "outside"
             }
            },
            "type": "scatterternary"
           }
          ],
          "surface": [
           {
            "colorbar": {
             "outlinewidth": 1,
             "tickcolor": "rgb(36,36,36)",
             "ticks": "outside"
            },
            "colorscale": [
             [
              0,
              "#440154"
             ],
             [
              0.1111111111111111,
              "#482878"
             ],
             [
              0.2222222222222222,
              "#3e4989"
             ],
             [
              0.3333333333333333,
              "#31688e"
             ],
             [
              0.4444444444444444,
              "#26828e"
             ],
             [
              0.5555555555555556,
              "#1f9e89"
             ],
             [
              0.6666666666666666,
              "#35b779"
             ],
             [
              0.7777777777777778,
              "#6ece58"
             ],
             [
              0.8888888888888888,
              "#b5de2b"
             ],
             [
              1,
              "#fde725"
             ]
            ],
            "type": "surface"
           }
          ],
          "table": [
           {
            "cells": {
             "fill": {
              "color": "rgb(237,237,237)"
             },
             "line": {
              "color": "white"
             }
            },
            "header": {
             "fill": {
              "color": "rgb(217,217,217)"
             },
             "line": {
              "color": "white"
             }
            },
            "type": "table"
           }
          ]
         },
         "layout": {
          "annotationdefaults": {
           "arrowhead": 0,
           "arrowwidth": 1
          },
          "autotypenumbers": "strict",
          "coloraxis": {
           "colorbar": {
            "outlinewidth": 1,
            "tickcolor": "rgb(36,36,36)",
            "ticks": "outside"
           }
          },
          "colorscale": {
           "diverging": [
            [
             0,
             "rgb(103,0,31)"
            ],
            [
             0.1,
             "rgb(178,24,43)"
            ],
            [
             0.2,
             "rgb(214,96,77)"
            ],
            [
             0.3,
             "rgb(244,165,130)"
            ],
            [
             0.4,
             "rgb(253,219,199)"
            ],
            [
             0.5,
             "rgb(247,247,247)"
            ],
            [
             0.6,
             "rgb(209,229,240)"
            ],
            [
             0.7,
             "rgb(146,197,222)"
            ],
            [
             0.8,
             "rgb(67,147,195)"
            ],
            [
             0.9,
             "rgb(33,102,172)"
            ],
            [
             1,
             "rgb(5,48,97)"
            ]
           ],
           "sequential": [
            [
             0,
             "#440154"
            ],
            [
             0.1111111111111111,
             "#482878"
            ],
            [
             0.2222222222222222,
             "#3e4989"
            ],
            [
             0.3333333333333333,
             "#31688e"
            ],
            [
             0.4444444444444444,
             "#26828e"
            ],
            [
             0.5555555555555556,
             "#1f9e89"
            ],
            [
             0.6666666666666666,
             "#35b779"
            ],
            [
             0.7777777777777778,
             "#6ece58"
            ],
            [
             0.8888888888888888,
             "#b5de2b"
            ],
            [
             1,
             "#fde725"
            ]
           ],
           "sequentialminus": [
            [
             0,
             "#440154"
            ],
            [
             0.1111111111111111,
             "#482878"
            ],
            [
             0.2222222222222222,
             "#3e4989"
            ],
            [
             0.3333333333333333,
             "#31688e"
            ],
            [
             0.4444444444444444,
             "#26828e"
            ],
            [
             0.5555555555555556,
             "#1f9e89"
            ],
            [
             0.6666666666666666,
             "#35b779"
            ],
            [
             0.7777777777777778,
             "#6ece58"
            ],
            [
             0.8888888888888888,
             "#b5de2b"
            ],
            [
             1,
             "#fde725"
            ]
           ]
          },
          "colorway": [
           "#1F77B4",
           "#FF7F0E",
           "#2CA02C",
           "#D62728",
           "#9467BD",
           "#8C564B",
           "#E377C2",
           "#7F7F7F",
           "#BCBD22",
           "#17BECF"
          ],
          "font": {
           "color": "rgb(36,36,36)"
          },
          "geo": {
           "bgcolor": "white",
           "lakecolor": "white",
           "landcolor": "white",
           "showlakes": true,
           "showland": true,
           "subunitcolor": "white"
          },
          "hoverlabel": {
           "align": "left"
          },
          "hovermode": "closest",
          "mapbox": {
           "style": "light"
          },
          "paper_bgcolor": "white",
          "plot_bgcolor": "white",
          "polar": {
           "angularaxis": {
            "gridcolor": "rgb(232,232,232)",
            "linecolor": "rgb(36,36,36)",
            "showgrid": false,
            "showline": true,
            "ticks": "outside"
           },
           "bgcolor": "white",
           "radialaxis": {
            "gridcolor": "rgb(232,232,232)",
            "linecolor": "rgb(36,36,36)",
            "showgrid": false,
            "showline": true,
            "ticks": "outside"
           }
          },
          "scene": {
           "xaxis": {
            "backgroundcolor": "white",
            "gridcolor": "rgb(232,232,232)",
            "gridwidth": 2,
            "linecolor": "rgb(36,36,36)",
            "showbackground": true,
            "showgrid": false,
            "showline": true,
            "ticks": "outside",
            "zeroline": false,
            "zerolinecolor": "rgb(36,36,36)"
           },
           "yaxis": {
            "backgroundcolor": "white",
            "gridcolor": "rgb(232,232,232)",
            "gridwidth": 2,
            "linecolor": "rgb(36,36,36)",
            "showbackground": true,
            "showgrid": false,
            "showline": true,
            "ticks": "outside",
            "zeroline": false,
            "zerolinecolor": "rgb(36,36,36)"
           },
           "zaxis": {
            "backgroundcolor": "white",
            "gridcolor": "rgb(232,232,232)",
            "gridwidth": 2,
            "linecolor": "rgb(36,36,36)",
            "showbackground": true,
            "showgrid": false,
            "showline": true,
            "ticks": "outside",
            "zeroline": false,
            "zerolinecolor": "rgb(36,36,36)"
           }
          },
          "shapedefaults": {
           "fillcolor": "black",
           "line": {
            "width": 0
           },
           "opacity": 0.3
          },
          "ternary": {
           "aaxis": {
            "gridcolor": "rgb(232,232,232)",
            "linecolor": "rgb(36,36,36)",
            "showgrid": false,
            "showline": true,
            "ticks": "outside"
           },
           "baxis": {
            "gridcolor": "rgb(232,232,232)",
            "linecolor": "rgb(36,36,36)",
            "showgrid": false,
            "showline": true,
            "ticks": "outside"
           },
           "bgcolor": "white",
           "caxis": {
            "gridcolor": "rgb(232,232,232)",
            "linecolor": "rgb(36,36,36)",
            "showgrid": false,
            "showline": true,
            "ticks": "outside"
           }
          },
          "title": {
           "x": 0.05
          },
          "xaxis": {
           "automargin": true,
           "gridcolor": "rgb(232,232,232)",
           "linecolor": "rgb(36,36,36)",
           "showgrid": false,
           "showline": true,
           "ticks": "outside",
           "title": {
            "standoff": 15
           },
           "zeroline": false,
           "zerolinecolor": "rgb(36,36,36)"
          },
          "yaxis": {
           "automargin": true,
           "gridcolor": "rgb(232,232,232)",
           "linecolor": "rgb(36,36,36)",
           "showgrid": false,
           "showline": true,
           "ticks": "outside",
           "title": {
            "standoff": 15
           },
           "zeroline": false,
           "zerolinecolor": "rgb(36,36,36)"
          }
         }
        },
        "width": 700,
        "xaxis": {
         "anchor": "y",
         "domain": [
          0,
          1
         ],
         "title": {
          "text": "strain"
         }
        },
        "yaxis": {
         "anchor": "x",
         "domain": [
          0,
          1
         ],
         "title": {
          "text": "Ns"
         },
         "type": "log"
        }
       }
      }
     },
     "metadata": {},
     "output_type": "display_data"
    },
    {
     "name": "stdout",
     "output_type": "stream",
     "text": [
      "ST1\n",
      "comparison: Inoculation_2 (ANOVA)\n",
      "statistic: 1.0171532256899456\n",
      "p_value: 0.3664295806243133\n",
      "significant: False\n",
      "ST2\n",
      "comparison: Inoculation_2 (ANOVA)\n",
      "statistic: 1.1111195205581417\n",
      "p_value: 0.3344098673115999\n",
      "significant: False\n",
      "ST4\n",
      "comparison: Inoculation_2 (ANOVA)\n",
      "statistic: 0.08198750238200198\n",
      "p_value: 0.9213637882341129\n",
      "significant: False\n",
      "ST5\n",
      "comparison: Inoculation_2 (ANOVA)\n",
      "statistic: 4.488814448073644\n",
      "p_value: 0.014323612343120158\n",
      "significant: True\n",
      "ST6\n",
      "comparison: Inoculation_2 (ANOVA)\n",
      "statistic: 5.385084092579676\n",
      "p_value: 0.006471964000139113\n",
      "significant: True\n"
     ]
    }
   ],
   "source": [
    "df_merge = df_merge.sort_values(['strain', 'CmR'],ascending=True)\n",
    "df_plot = df_merge.loc[(df_merge['Inoculation']=='barcodes')|(df_merge['Inoculation_2']=='barcodes')]\n",
    "fig = px.box(df_plot,\n",
    "                x = 'strain', \n",
    "                y = 'Ns',\n",
    "                color = 'Inoculation_2',\n",
    "                points = 'all',\n",
    "                log_y=True,\n",
    "                template = 'simple_white',\n",
    "                hover_data=['sample_id'],width = 700,\n",
    "                height = 500,\n",
    "                )\n",
    "fig.show()\n",
    "\n",
    "def compare_groups_ttest(df, grouping_col, response_col):\n",
    "    \"\"\"\n",
    "    Two-sample t-test for comparing two groups\n",
    "    \"\"\"\n",
    "    groups = df[grouping_col].unique()\n",
    "    \n",
    "    if len(groups) == 2:\n",
    "        group1 = df[df[grouping_col] == groups[0]][response_col].dropna()\n",
    "        group2 = df[df[grouping_col] == groups[1]][response_col].dropna()\n",
    "        \n",
    "        # Perform t-test\n",
    "        statistic, p_value = stats.ttest_ind(group1, group2)\n",
    "        \n",
    "        return {\n",
    "            'comparison': f'{groups[0]} vs {groups[1]}',\n",
    "            'statistic': statistic,\n",
    "            'p_value': p_value,\n",
    "            'significant': p_value < 0.05\n",
    "        }\n",
    "    elif len(groups) > 2:\n",
    "        # Use ANOVA for >2 groups\n",
    "        group_data = [df[df[grouping_col] == g][response_col].dropna() for g in groups]\n",
    "        statistic, p_value = stats.f_oneway(*group_data)\n",
    "        \n",
    "        return {\n",
    "            'comparison': f'{grouping_col} (ANOVA)',\n",
    "            'statistic': statistic,\n",
    "            'p_value': p_value,\n",
    "            'significant': p_value < 0.05\n",
    "        }\n",
    "\n",
    "# Example usage:\n",
    "for strain in df_plot['strain'].unique():\n",
    "    df_plot = df_plot.sort_values(['CmR'])\n",
    "    print(strain)\n",
    "    result = compare_groups_ttest(df_plot[df_plot['strain']==strain], 'Inoculation_2', 'Ns')\n",
    "    \n",
    "    for  entry in result.keys():\n",
    "        print(entry + \": \" + str(result[entry]))"
   ]
  },
  {
   "cell_type": "code",
   "execution_count": null,
   "id": "3134fab4",
   "metadata": {},
   "outputs": [],
   "source": []
  }
 ],
 "metadata": {
  "kernelspec": {
   "display_name": "pouch",
   "language": "python",
   "name": "python3"
  },
  "language_info": {
   "codemirror_mode": {
    "name": "ipython",
    "version": 3
   },
   "file_extension": ".py",
   "mimetype": "text/x-python",
   "name": "python",
   "nbconvert_exporter": "python",
   "pygments_lexer": "ipython3",
   "version": "3.13.7"
  }
 },
 "nbformat": 4,
 "nbformat_minor": 5
}
