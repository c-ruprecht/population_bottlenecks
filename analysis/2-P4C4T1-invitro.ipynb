{
 "cells": [
  {
   "cell_type": "code",
   "execution_count": 85,
   "id": "d954242f",
   "metadata": {},
   "outputs": [],
   "source": [
    "import pandas as pd\n",
    "import os\n",
    "import plotly.express as px\n",
    "from scipy import stats"
   ]
  },
  {
   "cell_type": "markdown",
   "id": "7e74cce2",
   "metadata": {},
   "source": [
    "# Get metadata"
   ]
  },
  {
   "cell_type": "code",
   "execution_count": 63,
   "id": "a3b26b93",
   "metadata": {},
   "outputs": [
    {
     "data": {
      "text/html": [
       "<div>\n",
       "<style scoped>\n",
       "    .dataframe tbody tr th:only-of-type {\n",
       "        vertical-align: middle;\n",
       "    }\n",
       "\n",
       "    .dataframe tbody tr th {\n",
       "        vertical-align: top;\n",
       "    }\n",
       "\n",
       "    .dataframe thead th {\n",
       "        text-align: right;\n",
       "    }\n",
       "</style>\n",
       "<table border=\"1\" class=\"dataframe\">\n",
       "  <thead>\n",
       "    <tr style=\"text-align: right;\">\n",
       "      <th></th>\n",
       "      <th>Unnamed: 0</th>\n",
       "      <th>sample_id</th>\n",
       "      <th>Row</th>\n",
       "      <th>Column</th>\n",
       "      <th>OD620</th>\n",
       "      <th>Sample</th>\n",
       "      <th>Inoculation</th>\n",
       "      <th>Inoculation_2</th>\n",
       "      <th>Inoculation_2_time</th>\n",
       "      <th>CmR</th>\n",
       "      <th>Media</th>\n",
       "    </tr>\n",
       "  </thead>\n",
       "  <tbody>\n",
       "    <tr>\n",
       "      <th>0</th>\n",
       "      <td>0</td>\n",
       "      <td>A1</td>\n",
       "      <td>A</td>\n",
       "      <td>1</td>\n",
       "      <td>0.384</td>\n",
       "      <td>Sample 2</td>\n",
       "      <td>barcodes</td>\n",
       "      <td>NA</td>\n",
       "      <td>0</td>\n",
       "      <td>NA</td>\n",
       "      <td>GAM+</td>\n",
       "    </tr>\n",
       "    <tr>\n",
       "      <th>1</th>\n",
       "      <td>1</td>\n",
       "      <td>A2</td>\n",
       "      <td>A</td>\n",
       "      <td>2</td>\n",
       "      <td>0.363</td>\n",
       "      <td>Sample 10</td>\n",
       "      <td>barcodes</td>\n",
       "      <td>mtc01</td>\n",
       "      <td>3h</td>\n",
       "      <td>NA</td>\n",
       "      <td>GAM+</td>\n",
       "    </tr>\n",
       "    <tr>\n",
       "      <th>2</th>\n",
       "      <td>2</td>\n",
       "      <td>A3</td>\n",
       "      <td>A</td>\n",
       "      <td>3</td>\n",
       "      <td>0.419</td>\n",
       "      <td>Sample 18</td>\n",
       "      <td>barcodes</td>\n",
       "      <td>mtc01</td>\n",
       "      <td>6h</td>\n",
       "      <td>NA</td>\n",
       "      <td>GAM+</td>\n",
       "    </tr>\n",
       "    <tr>\n",
       "      <th>3</th>\n",
       "      <td>3</td>\n",
       "      <td>A4</td>\n",
       "      <td>A</td>\n",
       "      <td>4</td>\n",
       "      <td>0.426</td>\n",
       "      <td>Sample 26</td>\n",
       "      <td>mtc01</td>\n",
       "      <td>NA</td>\n",
       "      <td>0</td>\n",
       "      <td>NA</td>\n",
       "      <td>GAM+</td>\n",
       "    </tr>\n",
       "    <tr>\n",
       "      <th>4</th>\n",
       "      <td>4</td>\n",
       "      <td>A5</td>\n",
       "      <td>A</td>\n",
       "      <td>5</td>\n",
       "      <td>0.424</td>\n",
       "      <td>Sample 34</td>\n",
       "      <td>mtc01</td>\n",
       "      <td>barcodes</td>\n",
       "      <td>3h</td>\n",
       "      <td>NA</td>\n",
       "      <td>GAM+</td>\n",
       "    </tr>\n",
       "    <tr>\n",
       "      <th>...</th>\n",
       "      <td>...</td>\n",
       "      <td>...</td>\n",
       "      <td>...</td>\n",
       "      <td>...</td>\n",
       "      <td>...</td>\n",
       "      <td>...</td>\n",
       "      <td>...</td>\n",
       "      <td>...</td>\n",
       "      <td>...</td>\n",
       "      <td>...</td>\n",
       "      <td>...</td>\n",
       "    </tr>\n",
       "    <tr>\n",
       "      <th>91</th>\n",
       "      <td>91</td>\n",
       "      <td>H8</td>\n",
       "      <td>H</td>\n",
       "      <td>8</td>\n",
       "      <td>0.128</td>\n",
       "      <td>NA</td>\n",
       "      <td>barcodes</td>\n",
       "      <td>mtc01</td>\n",
       "      <td>3h</td>\n",
       "      <td>CmR 20</td>\n",
       "      <td>GAM-</td>\n",
       "    </tr>\n",
       "    <tr>\n",
       "      <th>92</th>\n",
       "      <td>92</td>\n",
       "      <td>H9</td>\n",
       "      <td>H</td>\n",
       "      <td>9</td>\n",
       "      <td>0.134</td>\n",
       "      <td>NA</td>\n",
       "      <td>barcodes</td>\n",
       "      <td>mtc01</td>\n",
       "      <td>6h</td>\n",
       "      <td>CmR 20</td>\n",
       "      <td>GAM-</td>\n",
       "    </tr>\n",
       "    <tr>\n",
       "      <th>93</th>\n",
       "      <td>93</td>\n",
       "      <td>H10</td>\n",
       "      <td>H</td>\n",
       "      <td>10</td>\n",
       "      <td>0.047</td>\n",
       "      <td>NA</td>\n",
       "      <td>mtc01</td>\n",
       "      <td>NA</td>\n",
       "      <td>0</td>\n",
       "      <td>CmR 20</td>\n",
       "      <td>GAM-</td>\n",
       "    </tr>\n",
       "    <tr>\n",
       "      <th>94</th>\n",
       "      <td>94</td>\n",
       "      <td>H11</td>\n",
       "      <td>H</td>\n",
       "      <td>11</td>\n",
       "      <td>0.069</td>\n",
       "      <td>NA</td>\n",
       "      <td>mtc01</td>\n",
       "      <td>barcodes</td>\n",
       "      <td>3h</td>\n",
       "      <td>CmR 20</td>\n",
       "      <td>GAM-</td>\n",
       "    </tr>\n",
       "    <tr>\n",
       "      <th>95</th>\n",
       "      <td>95</td>\n",
       "      <td>H12</td>\n",
       "      <td>H</td>\n",
       "      <td>12</td>\n",
       "      <td>0.047</td>\n",
       "      <td>NA</td>\n",
       "      <td>mtc01</td>\n",
       "      <td>barcodes</td>\n",
       "      <td>6h</td>\n",
       "      <td>CmR 20</td>\n",
       "      <td>GAM-</td>\n",
       "    </tr>\n",
       "  </tbody>\n",
       "</table>\n",
       "<p>96 rows × 11 columns</p>\n",
       "</div>"
      ],
      "text/plain": [
       "    Unnamed: 0 sample_id Row  Column  OD620     Sample Inoculation  \\\n",
       "0            0        A1   A       1  0.384   Sample 2    barcodes   \n",
       "1            1        A2   A       2  0.363  Sample 10    barcodes   \n",
       "2            2        A3   A       3  0.419  Sample 18    barcodes   \n",
       "3            3        A4   A       4  0.426  Sample 26       mtc01   \n",
       "4            4        A5   A       5  0.424  Sample 34       mtc01   \n",
       "..         ...       ...  ..     ...    ...        ...         ...   \n",
       "91          91        H8   H       8  0.128         NA    barcodes   \n",
       "92          92        H9   H       9  0.134         NA    barcodes   \n",
       "93          93       H10   H      10  0.047         NA       mtc01   \n",
       "94          94       H11   H      11  0.069         NA       mtc01   \n",
       "95          95       H12   H      12  0.047         NA       mtc01   \n",
       "\n",
       "   Inoculation_2 Inoculation_2_time     CmR Media  \n",
       "0             NA                  0      NA  GAM+  \n",
       "1          mtc01                 3h      NA  GAM+  \n",
       "2          mtc01                 6h      NA  GAM+  \n",
       "3             NA                  0      NA  GAM+  \n",
       "4       barcodes                 3h      NA  GAM+  \n",
       "..           ...                ...     ...   ...  \n",
       "91         mtc01                 3h  CmR 20  GAM-  \n",
       "92         mtc01                 6h  CmR 20  GAM-  \n",
       "93            NA                  0  CmR 20  GAM-  \n",
       "94      barcodes                 3h  CmR 20  GAM-  \n",
       "95      barcodes                 6h  CmR 20  GAM-  \n",
       "\n",
       "[96 rows x 11 columns]"
      ]
     },
     "execution_count": 63,
     "metadata": {},
     "output_type": "execute_result"
    }
   ],
   "source": [
    "df_meta = pd.read_csv('/Users/ruprec01/Documents/Faith_lab/Git/population_bottlenecks/input_files/metadata/P4C4T1_metadata.tsv',\n",
    "                    sep = \"\\t\")\n",
    "df_meta['Inoculation_2_time'] = df_meta['Inoculation_2_time'].fillna(0)\n",
    "df_meta.fillna('NA', inplace=True)\n",
    "df_meta"
   ]
  },
  {
   "cell_type": "code",
   "execution_count": 59,
   "id": "3d52c082",
   "metadata": {},
   "outputs": [
    {
     "data": {
      "text/html": [
       "<div>\n",
       "<style scoped>\n",
       "    .dataframe tbody tr th:only-of-type {\n",
       "        vertical-align: middle;\n",
       "    }\n",
       "\n",
       "    .dataframe tbody tr th {\n",
       "        vertical-align: top;\n",
       "    }\n",
       "\n",
       "    .dataframe thead th {\n",
       "        text-align: right;\n",
       "    }\n",
       "</style>\n",
       "<table border=\"1\" class=\"dataframe\">\n",
       "  <thead>\n",
       "    <tr style=\"text-align: right;\">\n",
       "      <th></th>\n",
       "      <th>Unnamed: 0</th>\n",
       "      <th>TotalReads</th>\n",
       "      <th>Number of barcodes</th>\n",
       "      <th>Ns_MinCutoff</th>\n",
       "      <th>Nb</th>\n",
       "      <th>Ns</th>\n",
       "      <th>AverageFrequency</th>\n",
       "      <th>CFU</th>\n",
       "      <th>Log10Ns</th>\n",
       "      <th>Log10CFU</th>\n",
       "      <th>CFU/Ns</th>\n",
       "      <th>strain</th>\n",
       "      <th>sample_id</th>\n",
       "    </tr>\n",
       "  </thead>\n",
       "  <tbody>\n",
       "    <tr>\n",
       "      <th>0</th>\n",
       "      <td>P4C4T1_A1</td>\n",
       "      <td>84533752</td>\n",
       "      <td>25627</td>\n",
       "      <td>28307.666667</td>\n",
       "      <td>12049.245399</td>\n",
       "      <td>111381.000000</td>\n",
       "      <td>104777.812112</td>\n",
       "      <td>0</td>\n",
       "      <td>5.046811</td>\n",
       "      <td>-inf</td>\n",
       "      <td>0</td>\n",
       "      <td>ST6</td>\n",
       "      <td>A1</td>\n",
       "    </tr>\n",
       "    <tr>\n",
       "      <th>1</th>\n",
       "      <td>P4C4T1_A10</td>\n",
       "      <td>4691</td>\n",
       "      <td>135</td>\n",
       "      <td>142.250000</td>\n",
       "      <td>109.052495</td>\n",
       "      <td>168.500000</td>\n",
       "      <td>199.039408</td>\n",
       "      <td>0</td>\n",
       "      <td>2.226600</td>\n",
       "      <td>-inf</td>\n",
       "      <td>0</td>\n",
       "      <td>ST6</td>\n",
       "      <td>A10</td>\n",
       "    </tr>\n",
       "    <tr>\n",
       "      <th>2</th>\n",
       "      <td>P4C4T1_A11</td>\n",
       "      <td>7240803</td>\n",
       "      <td>23768</td>\n",
       "      <td>29361.000000</td>\n",
       "      <td>11576.483769</td>\n",
       "      <td>89201.000000</td>\n",
       "      <td>74559.708068</td>\n",
       "      <td>0</td>\n",
       "      <td>4.950370</td>\n",
       "      <td>-inf</td>\n",
       "      <td>0</td>\n",
       "      <td>ST6</td>\n",
       "      <td>A11</td>\n",
       "    </tr>\n",
       "    <tr>\n",
       "      <th>3</th>\n",
       "      <td>P4C4T1_A12</td>\n",
       "      <td>714111</td>\n",
       "      <td>13747</td>\n",
       "      <td>11253.000000</td>\n",
       "      <td>3562.633152</td>\n",
       "      <td>28601.000000</td>\n",
       "      <td>48420.119285</td>\n",
       "      <td>0</td>\n",
       "      <td>4.456381</td>\n",
       "      <td>-inf</td>\n",
       "      <td>0</td>\n",
       "      <td>ST6</td>\n",
       "      <td>A12</td>\n",
       "    </tr>\n",
       "    <tr>\n",
       "      <th>4</th>\n",
       "      <td>P4C4T1_A2</td>\n",
       "      <td>87743563</td>\n",
       "      <td>27317</td>\n",
       "      <td>31941.000000</td>\n",
       "      <td>10147.064555</td>\n",
       "      <td>137162.000000</td>\n",
       "      <td>112227.845370</td>\n",
       "      <td>0</td>\n",
       "      <td>5.137234</td>\n",
       "      <td>-inf</td>\n",
       "      <td>0</td>\n",
       "      <td>ST6</td>\n",
       "      <td>A2</td>\n",
       "    </tr>\n",
       "    <tr>\n",
       "      <th>...</th>\n",
       "      <td>...</td>\n",
       "      <td>...</td>\n",
       "      <td>...</td>\n",
       "      <td>...</td>\n",
       "      <td>...</td>\n",
       "      <td>...</td>\n",
       "      <td>...</td>\n",
       "      <td>...</td>\n",
       "      <td>...</td>\n",
       "      <td>...</td>\n",
       "      <td>...</td>\n",
       "      <td>...</td>\n",
       "      <td>...</td>\n",
       "    </tr>\n",
       "    <tr>\n",
       "      <th>91</th>\n",
       "      <td>P4C4T1_H5</td>\n",
       "      <td>11900</td>\n",
       "      <td>210</td>\n",
       "      <td>41.000000</td>\n",
       "      <td>12.162530</td>\n",
       "      <td>463.857143</td>\n",
       "      <td>219.093725</td>\n",
       "      <td>0</td>\n",
       "      <td>2.666384</td>\n",
       "      <td>-inf</td>\n",
       "      <td>0</td>\n",
       "      <td>ST1</td>\n",
       "      <td>H5</td>\n",
       "    </tr>\n",
       "    <tr>\n",
       "      <th>92</th>\n",
       "      <td>P4C4T1_H6</td>\n",
       "      <td>10426</td>\n",
       "      <td>217</td>\n",
       "      <td>31.909091</td>\n",
       "      <td>12.924276</td>\n",
       "      <td>491.000000</td>\n",
       "      <td>226.602892</td>\n",
       "      <td>0</td>\n",
       "      <td>2.691081</td>\n",
       "      <td>-inf</td>\n",
       "      <td>0</td>\n",
       "      <td>ST1</td>\n",
       "      <td>H6</td>\n",
       "    </tr>\n",
       "    <tr>\n",
       "      <th>93</th>\n",
       "      <td>P4C4T1_H7</td>\n",
       "      <td>1921</td>\n",
       "      <td>116</td>\n",
       "      <td>68.272727</td>\n",
       "      <td>1.871906</td>\n",
       "      <td>213.500000</td>\n",
       "      <td>224.604189</td>\n",
       "      <td>0</td>\n",
       "      <td>2.329398</td>\n",
       "      <td>-inf</td>\n",
       "      <td>0</td>\n",
       "      <td>ST1</td>\n",
       "      <td>H7</td>\n",
       "    </tr>\n",
       "    <tr>\n",
       "      <th>94</th>\n",
       "      <td>P4C4T1_H8</td>\n",
       "      <td>49183</td>\n",
       "      <td>767</td>\n",
       "      <td>678.142857</td>\n",
       "      <td>51.891740</td>\n",
       "      <td>2444.333333</td>\n",
       "      <td>904.892362</td>\n",
       "      <td>0</td>\n",
       "      <td>3.388160</td>\n",
       "      <td>-inf</td>\n",
       "      <td>0</td>\n",
       "      <td>ST1</td>\n",
       "      <td>H8</td>\n",
       "    </tr>\n",
       "    <tr>\n",
       "      <th>95</th>\n",
       "      <td>P4C4T1_H9</td>\n",
       "      <td>24611</td>\n",
       "      <td>656</td>\n",
       "      <td>492.428571</td>\n",
       "      <td>42.977652</td>\n",
       "      <td>2003.857143</td>\n",
       "      <td>767.927166</td>\n",
       "      <td>0</td>\n",
       "      <td>3.301867</td>\n",
       "      <td>-inf</td>\n",
       "      <td>0</td>\n",
       "      <td>ST1</td>\n",
       "      <td>H9</td>\n",
       "    </tr>\n",
       "  </tbody>\n",
       "</table>\n",
       "<p>480 rows × 13 columns</p>\n",
       "</div>"
      ],
      "text/plain": [
       "    Unnamed: 0  TotalReads  Number of barcodes  Ns_MinCutoff            Nb  \\\n",
       "0    P4C4T1_A1    84533752               25627  28307.666667  12049.245399   \n",
       "1   P4C4T1_A10        4691                 135    142.250000    109.052495   \n",
       "2   P4C4T1_A11     7240803               23768  29361.000000  11576.483769   \n",
       "3   P4C4T1_A12      714111               13747  11253.000000   3562.633152   \n",
       "4    P4C4T1_A2    87743563               27317  31941.000000  10147.064555   \n",
       "..         ...         ...                 ...           ...           ...   \n",
       "91   P4C4T1_H5       11900                 210     41.000000     12.162530   \n",
       "92   P4C4T1_H6       10426                 217     31.909091     12.924276   \n",
       "93   P4C4T1_H7        1921                 116     68.272727      1.871906   \n",
       "94   P4C4T1_H8       49183                 767    678.142857     51.891740   \n",
       "95   P4C4T1_H9       24611                 656    492.428571     42.977652   \n",
       "\n",
       "               Ns  AverageFrequency  CFU   Log10Ns  Log10CFU  CFU/Ns strain  \\\n",
       "0   111381.000000     104777.812112    0  5.046811      -inf       0    ST6   \n",
       "1      168.500000        199.039408    0  2.226600      -inf       0    ST6   \n",
       "2    89201.000000      74559.708068    0  4.950370      -inf       0    ST6   \n",
       "3    28601.000000      48420.119285    0  4.456381      -inf       0    ST6   \n",
       "4   137162.000000     112227.845370    0  5.137234      -inf       0    ST6   \n",
       "..            ...               ...  ...       ...       ...     ...    ...   \n",
       "91     463.857143        219.093725    0  2.666384      -inf       0    ST1   \n",
       "92     491.000000        226.602892    0  2.691081      -inf       0    ST1   \n",
       "93     213.500000        224.604189    0  2.329398      -inf       0    ST1   \n",
       "94    2444.333333        904.892362    0  3.388160      -inf       0    ST1   \n",
       "95    2003.857143        767.927166    0  3.301867      -inf       0    ST1   \n",
       "\n",
       "   sample_id  \n",
       "0         A1  \n",
       "1        A10  \n",
       "2        A11  \n",
       "3        A12  \n",
       "4         A2  \n",
       "..       ...  \n",
       "91        H5  \n",
       "92        H6  \n",
       "93        H7  \n",
       "94        H8  \n",
       "95        H9  \n",
       "\n",
       "[480 rows x 13 columns]"
      ]
     },
     "execution_count": 59,
     "metadata": {},
     "output_type": "execute_result"
    }
   ],
   "source": [
    "basepath = '/Volumes/sd/faith/MTCSB/projects/P4-barcoding_strains/r2_data/P4C4T1/FP'\n",
    "\n",
    "# Get all CSV files in the directory\n",
    "df_fp = pd.DataFrame()\n",
    "for  dirpath, dirnames, filenames in os.walk(basepath):\n",
    "    for dir in dirnames:\n",
    "        df = pd.read_csv(basepath+\"/\"+dir+\"/TableOfEstimates.csv\")\n",
    "        df['strain'] = dir\n",
    "        df_fp =pd.concat([ df, df_fp])\n",
    "df_fp['sample_id'] = df_fp['Unnamed: 0'].apply(lambda x: str(x).split(\"_\")[1])\n",
    "df_fp"
   ]
  },
  {
   "cell_type": "code",
   "execution_count": 60,
   "id": "6d443ac6",
   "metadata": {},
   "outputs": [
    {
     "data": {
      "text/html": [
       "<div>\n",
       "<style scoped>\n",
       "    .dataframe tbody tr th:only-of-type {\n",
       "        vertical-align: middle;\n",
       "    }\n",
       "\n",
       "    .dataframe tbody tr th {\n",
       "        vertical-align: top;\n",
       "    }\n",
       "\n",
       "    .dataframe thead th {\n",
       "        text-align: right;\n",
       "    }\n",
       "</style>\n",
       "<table border=\"1\" class=\"dataframe\">\n",
       "  <thead>\n",
       "    <tr style=\"text-align: right;\">\n",
       "      <th></th>\n",
       "      <th>Unnamed: 0_x</th>\n",
       "      <th>sample_id</th>\n",
       "      <th>Row</th>\n",
       "      <th>Column</th>\n",
       "      <th>OD620</th>\n",
       "      <th>Sample</th>\n",
       "      <th>Inoculation</th>\n",
       "      <th>Inoculation_2</th>\n",
       "      <th>Inoculation_2_time</th>\n",
       "      <th>CmR</th>\n",
       "      <th>...</th>\n",
       "      <th>Number of barcodes</th>\n",
       "      <th>Ns_MinCutoff</th>\n",
       "      <th>Nb</th>\n",
       "      <th>Ns</th>\n",
       "      <th>AverageFrequency</th>\n",
       "      <th>CFU</th>\n",
       "      <th>Log10Ns</th>\n",
       "      <th>Log10CFU</th>\n",
       "      <th>CFU/Ns</th>\n",
       "      <th>strain</th>\n",
       "    </tr>\n",
       "  </thead>\n",
       "  <tbody>\n",
       "    <tr>\n",
       "      <th>0</th>\n",
       "      <td>0</td>\n",
       "      <td>A1</td>\n",
       "      <td>A</td>\n",
       "      <td>1</td>\n",
       "      <td>0.384</td>\n",
       "      <td>Sample 2</td>\n",
       "      <td>barcodes</td>\n",
       "      <td>NA</td>\n",
       "      <td>0</td>\n",
       "      <td>NA</td>\n",
       "      <td>...</td>\n",
       "      <td>25627</td>\n",
       "      <td>28307.666667</td>\n",
       "      <td>12049.245399</td>\n",
       "      <td>1.113810e+05</td>\n",
       "      <td>104777.812112</td>\n",
       "      <td>0</td>\n",
       "      <td>5.046811</td>\n",
       "      <td>-inf</td>\n",
       "      <td>0</td>\n",
       "      <td>ST6</td>\n",
       "    </tr>\n",
       "    <tr>\n",
       "      <th>1</th>\n",
       "      <td>0</td>\n",
       "      <td>A1</td>\n",
       "      <td>A</td>\n",
       "      <td>1</td>\n",
       "      <td>0.384</td>\n",
       "      <td>Sample 2</td>\n",
       "      <td>barcodes</td>\n",
       "      <td>NA</td>\n",
       "      <td>0</td>\n",
       "      <td>NA</td>\n",
       "      <td>...</td>\n",
       "      <td>17916</td>\n",
       "      <td>26181.000000</td>\n",
       "      <td>91805.184223</td>\n",
       "      <td>4.836420e+05</td>\n",
       "      <td>73935.074090</td>\n",
       "      <td>0</td>\n",
       "      <td>5.684524</td>\n",
       "      <td>-inf</td>\n",
       "      <td>0</td>\n",
       "      <td>ST5</td>\n",
       "    </tr>\n",
       "    <tr>\n",
       "      <th>2</th>\n",
       "      <td>0</td>\n",
       "      <td>A1</td>\n",
       "      <td>A</td>\n",
       "      <td>1</td>\n",
       "      <td>0.384</td>\n",
       "      <td>Sample 2</td>\n",
       "      <td>barcodes</td>\n",
       "      <td>NA</td>\n",
       "      <td>0</td>\n",
       "      <td>NA</td>\n",
       "      <td>...</td>\n",
       "      <td>43475</td>\n",
       "      <td>60771.000000</td>\n",
       "      <td>64574.126981</td>\n",
       "      <td>2.375573e+06</td>\n",
       "      <td>620034.197037</td>\n",
       "      <td>0</td>\n",
       "      <td>6.375768</td>\n",
       "      <td>-inf</td>\n",
       "      <td>0</td>\n",
       "      <td>ST4</td>\n",
       "    </tr>\n",
       "    <tr>\n",
       "      <th>3</th>\n",
       "      <td>0</td>\n",
       "      <td>A1</td>\n",
       "      <td>A</td>\n",
       "      <td>1</td>\n",
       "      <td>0.384</td>\n",
       "      <td>Sample 2</td>\n",
       "      <td>barcodes</td>\n",
       "      <td>NA</td>\n",
       "      <td>0</td>\n",
       "      <td>NA</td>\n",
       "      <td>...</td>\n",
       "      <td>3</td>\n",
       "      <td>3.857143</td>\n",
       "      <td>0.162719</td>\n",
       "      <td>3.857143e+00</td>\n",
       "      <td>4.468711</td>\n",
       "      <td>0</td>\n",
       "      <td>0.586266</td>\n",
       "      <td>-inf</td>\n",
       "      <td>0</td>\n",
       "      <td>ST2</td>\n",
       "    </tr>\n",
       "    <tr>\n",
       "      <th>4</th>\n",
       "      <td>0</td>\n",
       "      <td>A1</td>\n",
       "      <td>A</td>\n",
       "      <td>1</td>\n",
       "      <td>0.384</td>\n",
       "      <td>Sample 2</td>\n",
       "      <td>barcodes</td>\n",
       "      <td>NA</td>\n",
       "      <td>0</td>\n",
       "      <td>NA</td>\n",
       "      <td>...</td>\n",
       "      <td>8161</td>\n",
       "      <td>62703.000000</td>\n",
       "      <td>442.376749</td>\n",
       "      <td>1.032450e+05</td>\n",
       "      <td>12066.330572</td>\n",
       "      <td>0</td>\n",
       "      <td>5.013869</td>\n",
       "      <td>-inf</td>\n",
       "      <td>0</td>\n",
       "      <td>ST1</td>\n",
       "    </tr>\n",
       "    <tr>\n",
       "      <th>...</th>\n",
       "      <td>...</td>\n",
       "      <td>...</td>\n",
       "      <td>...</td>\n",
       "      <td>...</td>\n",
       "      <td>...</td>\n",
       "      <td>...</td>\n",
       "      <td>...</td>\n",
       "      <td>...</td>\n",
       "      <td>...</td>\n",
       "      <td>...</td>\n",
       "      <td>...</td>\n",
       "      <td>...</td>\n",
       "      <td>...</td>\n",
       "      <td>...</td>\n",
       "      <td>...</td>\n",
       "      <td>...</td>\n",
       "      <td>...</td>\n",
       "      <td>...</td>\n",
       "      <td>...</td>\n",
       "      <td>...</td>\n",
       "      <td>...</td>\n",
       "    </tr>\n",
       "    <tr>\n",
       "      <th>475</th>\n",
       "      <td>95</td>\n",
       "      <td>H12</td>\n",
       "      <td>H</td>\n",
       "      <td>12</td>\n",
       "      <td>0.047</td>\n",
       "      <td>NA</td>\n",
       "      <td>mtc01</td>\n",
       "      <td>barcodes</td>\n",
       "      <td>6h</td>\n",
       "      <td>CmR 20</td>\n",
       "      <td>...</td>\n",
       "      <td>13623</td>\n",
       "      <td>13827.000000</td>\n",
       "      <td>4417.522281</td>\n",
       "      <td>2.775767e+04</td>\n",
       "      <td>35488.753241</td>\n",
       "      <td>0</td>\n",
       "      <td>4.443383</td>\n",
       "      <td>-inf</td>\n",
       "      <td>0</td>\n",
       "      <td>ST6</td>\n",
       "    </tr>\n",
       "    <tr>\n",
       "      <th>476</th>\n",
       "      <td>95</td>\n",
       "      <td>H12</td>\n",
       "      <td>H</td>\n",
       "      <td>12</td>\n",
       "      <td>0.047</td>\n",
       "      <td>NA</td>\n",
       "      <td>mtc01</td>\n",
       "      <td>barcodes</td>\n",
       "      <td>6h</td>\n",
       "      <td>CmR 20</td>\n",
       "      <td>...</td>\n",
       "      <td>12763</td>\n",
       "      <td>8146.000000</td>\n",
       "      <td>40677.965112</td>\n",
       "      <td>1.524010e+05</td>\n",
       "      <td>75591.345961</td>\n",
       "      <td>0</td>\n",
       "      <td>5.182988</td>\n",
       "      <td>-inf</td>\n",
       "      <td>0</td>\n",
       "      <td>ST5</td>\n",
       "    </tr>\n",
       "    <tr>\n",
       "      <th>477</th>\n",
       "      <td>95</td>\n",
       "      <td>H12</td>\n",
       "      <td>H</td>\n",
       "      <td>12</td>\n",
       "      <td>0.047</td>\n",
       "      <td>NA</td>\n",
       "      <td>mtc01</td>\n",
       "      <td>barcodes</td>\n",
       "      <td>6h</td>\n",
       "      <td>CmR 20</td>\n",
       "      <td>...</td>\n",
       "      <td>45977</td>\n",
       "      <td>64621.000000</td>\n",
       "      <td>60194.921676</td>\n",
       "      <td>2.820856e+06</td>\n",
       "      <td>703903.331891</td>\n",
       "      <td>0</td>\n",
       "      <td>6.450381</td>\n",
       "      <td>-inf</td>\n",
       "      <td>0</td>\n",
       "      <td>ST4</td>\n",
       "    </tr>\n",
       "    <tr>\n",
       "      <th>478</th>\n",
       "      <td>95</td>\n",
       "      <td>H12</td>\n",
       "      <td>H</td>\n",
       "      <td>12</td>\n",
       "      <td>0.047</td>\n",
       "      <td>NA</td>\n",
       "      <td>mtc01</td>\n",
       "      <td>barcodes</td>\n",
       "      <td>6h</td>\n",
       "      <td>CmR 20</td>\n",
       "      <td>...</td>\n",
       "      <td>4</td>\n",
       "      <td>6.000000</td>\n",
       "      <td>0.071070</td>\n",
       "      <td>6.000000e+00</td>\n",
       "      <td>8.010290</td>\n",
       "      <td>0</td>\n",
       "      <td>0.778151</td>\n",
       "      <td>-inf</td>\n",
       "      <td>0</td>\n",
       "      <td>ST2</td>\n",
       "    </tr>\n",
       "    <tr>\n",
       "      <th>479</th>\n",
       "      <td>95</td>\n",
       "      <td>H12</td>\n",
       "      <td>H</td>\n",
       "      <td>12</td>\n",
       "      <td>0.047</td>\n",
       "      <td>NA</td>\n",
       "      <td>mtc01</td>\n",
       "      <td>barcodes</td>\n",
       "      <td>6h</td>\n",
       "      <td>CmR 20</td>\n",
       "      <td>...</td>\n",
       "      <td>448</td>\n",
       "      <td>117.363636</td>\n",
       "      <td>4.250172</td>\n",
       "      <td>1.397000e+03</td>\n",
       "      <td>903.672179</td>\n",
       "      <td>0</td>\n",
       "      <td>3.145196</td>\n",
       "      <td>-inf</td>\n",
       "      <td>0</td>\n",
       "      <td>ST1</td>\n",
       "    </tr>\n",
       "  </tbody>\n",
       "</table>\n",
       "<p>480 rows × 23 columns</p>\n",
       "</div>"
      ],
      "text/plain": [
       "     Unnamed: 0_x sample_id Row  Column  OD620    Sample Inoculation  \\\n",
       "0               0        A1   A       1  0.384  Sample 2    barcodes   \n",
       "1               0        A1   A       1  0.384  Sample 2    barcodes   \n",
       "2               0        A1   A       1  0.384  Sample 2    barcodes   \n",
       "3               0        A1   A       1  0.384  Sample 2    barcodes   \n",
       "4               0        A1   A       1  0.384  Sample 2    barcodes   \n",
       "..            ...       ...  ..     ...    ...       ...         ...   \n",
       "475            95       H12   H      12  0.047        NA       mtc01   \n",
       "476            95       H12   H      12  0.047        NA       mtc01   \n",
       "477            95       H12   H      12  0.047        NA       mtc01   \n",
       "478            95       H12   H      12  0.047        NA       mtc01   \n",
       "479            95       H12   H      12  0.047        NA       mtc01   \n",
       "\n",
       "    Inoculation_2 Inoculation_2_time     CmR  ... Number of barcodes  \\\n",
       "0              NA                  0      NA  ...              25627   \n",
       "1              NA                  0      NA  ...              17916   \n",
       "2              NA                  0      NA  ...              43475   \n",
       "3              NA                  0      NA  ...                  3   \n",
       "4              NA                  0      NA  ...               8161   \n",
       "..            ...                ...     ...  ...                ...   \n",
       "475      barcodes                 6h  CmR 20  ...              13623   \n",
       "476      barcodes                 6h  CmR 20  ...              12763   \n",
       "477      barcodes                 6h  CmR 20  ...              45977   \n",
       "478      barcodes                 6h  CmR 20  ...                  4   \n",
       "479      barcodes                 6h  CmR 20  ...                448   \n",
       "\n",
       "     Ns_MinCutoff            Nb            Ns  AverageFrequency  CFU  \\\n",
       "0    28307.666667  12049.245399  1.113810e+05     104777.812112    0   \n",
       "1    26181.000000  91805.184223  4.836420e+05      73935.074090    0   \n",
       "2    60771.000000  64574.126981  2.375573e+06     620034.197037    0   \n",
       "3        3.857143      0.162719  3.857143e+00          4.468711    0   \n",
       "4    62703.000000    442.376749  1.032450e+05      12066.330572    0   \n",
       "..            ...           ...           ...               ...  ...   \n",
       "475  13827.000000   4417.522281  2.775767e+04      35488.753241    0   \n",
       "476   8146.000000  40677.965112  1.524010e+05      75591.345961    0   \n",
       "477  64621.000000  60194.921676  2.820856e+06     703903.331891    0   \n",
       "478      6.000000      0.071070  6.000000e+00          8.010290    0   \n",
       "479    117.363636      4.250172  1.397000e+03        903.672179    0   \n",
       "\n",
       "      Log10Ns  Log10CFU  CFU/Ns  strain  \n",
       "0    5.046811      -inf       0     ST6  \n",
       "1    5.684524      -inf       0     ST5  \n",
       "2    6.375768      -inf       0     ST4  \n",
       "3    0.586266      -inf       0     ST2  \n",
       "4    5.013869      -inf       0     ST1  \n",
       "..        ...       ...     ...     ...  \n",
       "475  4.443383      -inf       0     ST6  \n",
       "476  5.182988      -inf       0     ST5  \n",
       "477  6.450381      -inf       0     ST4  \n",
       "478  0.778151      -inf       0     ST2  \n",
       "479  3.145196      -inf       0     ST1  \n",
       "\n",
       "[480 rows x 23 columns]"
      ]
     },
     "execution_count": 60,
     "metadata": {},
     "output_type": "execute_result"
    }
   ],
   "source": [
    "df_merge = pd.merge(df_meta, df_fp, on = 'sample_id', how = 'left')\n",
    "df_merge"
   ]
  },
  {
   "cell_type": "code",
   "execution_count": 61,
   "id": "44788099",
   "metadata": {},
   "outputs": [
    {
     "data": {
      "application/vnd.plotly.v1+json": {
       "config": {
        "plotlyServerURL": "https://plotly.com"
       },
       "data": [
        {
         "alignmentgroup": "True",
         "boxpoints": "all",
         "hovertemplate": "CmR=NA<br>Media=GAM+<br>Inoculation_2_time=%{x}<br>OD620=%{y}<extra></extra>",
         "legendgroup": "",
         "marker": {
          "color": "#1F77B4"
         },
         "name": "",
         "notched": false,
         "offsetgroup": "",
         "orientation": "v",
         "showlegend": false,
         "type": "box",
         "x": [
          0,
          "3h",
          "6h",
          0,
          "3h",
          "6h",
          0,
          "3h",
          "6h",
          0,
          "3h",
          "6h",
          0,
          "3h",
          "6h",
          0,
          "3h",
          "6h",
          0,
          "3h",
          "6h",
          0,
          "3h",
          "6h"
         ],
         "x0": " ",
         "xaxis": "x3",
         "y": {
          "bdata": "+n5qvHST2D8IrBxaZDvXPzeJQWDl0No/3SQGgZVD2z+JQWDl0CLbP30/NV66Sdw/bxKDwMqh1T/D9Shcj8LVPxsv3SQGgdU/rkfhehSu3z9YObTIdr7XP65H4XoUrtc/eekmMQis1D8j2/l+arzUP3Noke18P9U/aJHtfD813j+28/3UeOnWP+f7qfHSTdo/nMQgsHJo0T8hsHJoke3UP39qvHSTGNQ/MQisHFpk2z/LoUW28/3UP5zEILByaNk/",
          "dtype": "f8"
         },
         "y0": " ",
         "yaxis": "y3"
        },
        {
         "alignmentgroup": "True",
         "boxpoints": "all",
         "hovertemplate": "CmR=NA<br>Media=GAM-<br>Inoculation_2_time=%{x}<br>OD620=%{y}<extra></extra>",
         "legendgroup": "",
         "marker": {
          "color": "#1F77B4"
         },
         "name": "",
         "notched": false,
         "offsetgroup": "",
         "orientation": "v",
         "showlegend": false,
         "type": "box",
         "x": [
          0,
          "3h",
          "6h",
          0,
          "3h",
          "6h",
          0,
          "3h",
          "6h",
          0,
          "3h",
          "6h",
          0,
          "3h",
          "6h",
          0,
          "3h",
          "6h",
          0,
          "3h",
          "6h",
          0,
          "3h",
          "6h"
         ],
         "x0": " ",
         "xaxis": "x4",
         "y": {
          "bdata": "YOXQItv51j+wcmiR7XzXP2iR7Xw/NdY/YhBYObTI1j/n+6nx0k3aPy/dJAaBlds/XrpJDAIr1z/wp8ZLN4nZP1YOLbKd79c/9P3UeOkm5T9U46WbxCDgP0w3iUFg5eA/tvP91Hjp1j+oxks3iUHYPxKDwMqhRdY/I9v5fmq83D/2KFyPwvXYP5qZmZmZmdk/vp8aL90k1j9eukkMAivXPxkEVg4tstU/1XjpJjEI6D/8qfHSTWLgP5HtfD81Xto/",
          "dtype": "f8"
         },
         "y0": " ",
         "yaxis": "y4"
        },
        {
         "alignmentgroup": "True",
         "boxpoints": "all",
         "hovertemplate": "CmR=CmR 20<br>Media=GAM+<br>Inoculation_2_time=%{x}<br>OD620=%{y}<extra></extra>",
         "legendgroup": "",
         "marker": {
          "color": "#1F77B4"
         },
         "name": "",
         "notched": false,
         "offsetgroup": "",
         "orientation": "v",
         "showlegend": false,
         "type": "box",
         "x": [
          0,
          "3h",
          "6h",
          0,
          "3h",
          "6h",
          0,
          "3h",
          "6h",
          0,
          "3h",
          "6h",
          0,
          "3h",
          "6h",
          0,
          "3h",
          "6h",
          0,
          "3h",
          "6h",
          0,
          "3h",
          "6h"
         ],
         "x0": " ",
         "xaxis": "x",
         "y": {
          "bdata": "KVyPwvUo4D8OLbKd76fePyGwcmiR7dw/GQRWDi2yrT9CYOXQItvZP9V46SYxCMw/w/UoXI/C3T/TTWIQWDncP4XrUbgehds/CKwcWmQ7rz/6fmq8dJPYP3npJjEIrMw/H4XrUbge3T8UrkfhehTePxkEVg4tst0/yXa+nxovrT+cxCCwcmjZPylcj8L1KMw/F9nO91Pj3T8rhxbZzvfbP8l2vp8aL90/eekmMQisrD+TGARWDi3aP7x0kxgEVs4/",
          "dtype": "f8"
         },
         "y0": " ",
         "yaxis": "y"
        },
        {
         "alignmentgroup": "True",
         "boxpoints": "all",
         "hovertemplate": "CmR=CmR 20<br>Media=GAM-<br>Inoculation_2_time=%{x}<br>OD620=%{y}<extra></extra>",
         "legendgroup": "",
         "marker": {
          "color": "#1F77B4"
         },
         "name": "",
         "notched": false,
         "offsetgroup": "",
         "orientation": "v",
         "showlegend": false,
         "type": "box",
         "x": [
          0,
          "3h",
          "6h",
          0,
          "3h",
          "6h",
          0,
          "3h",
          "6h",
          0,
          "3h",
          "6h",
          0,
          "3h",
          "6h",
          0,
          "3h",
          "6h",
          0,
          "3h",
          "6h",
          0,
          "3h",
          "6h"
         ],
         "x0": " ",
         "xaxis": "x2",
         "y": {
          "bdata": "GQRWDi2yrT+wcmiR7Xy/PyPb+X5qvMQ/qvHSTWIQqD+LbOf7qfGyP+kmMQisHKo/ObTIdr6fqj9QjZduEoPAP0SLbOf7qcE/WmQ730+Npz8zMzMzMzOzP0oMAiuHFqk/2c73U+Olqz/4U+Olm8TAP6RwPQrXo8A/qvHSTWIQqD8rhxbZzvezP9nO91Pjpas/6SYxCKwcqj/8qfHSTWLAP/T91HjpJsE/qvHSTWIQqD9Ei2zn+6mxP6rx0k1iEKg/",
          "dtype": "f8"
         },
         "y0": " ",
         "yaxis": "y2"
        }
       ],
       "layout": {
        "annotations": [
         {
          "font": {},
          "showarrow": false,
          "text": "Media=GAM+",
          "x": 0.24,
          "xanchor": "center",
          "xref": "paper",
          "y": 1,
          "yanchor": "bottom",
          "yref": "paper"
         },
         {
          "font": {},
          "showarrow": false,
          "text": "Media=GAM-",
          "x": 0.74,
          "xanchor": "center",
          "xref": "paper",
          "y": 1,
          "yanchor": "bottom",
          "yref": "paper"
         },
         {
          "font": {},
          "showarrow": false,
          "text": "CmR=CmR 20",
          "textangle": 90,
          "x": 0.98,
          "xanchor": "left",
          "xref": "paper",
          "y": 0.2425,
          "yanchor": "middle",
          "yref": "paper"
         },
         {
          "font": {},
          "showarrow": false,
          "text": "CmR=NA",
          "textangle": 90,
          "x": 0.98,
          "xanchor": "left",
          "xref": "paper",
          "y": 0.7575000000000001,
          "yanchor": "middle",
          "yref": "paper"
         }
        ],
        "boxmode": "group",
        "legend": {
         "tracegroupgap": 0
        },
        "margin": {
         "t": 60
        },
        "template": {
         "data": {
          "bar": [
           {
            "error_x": {
             "color": "rgb(36,36,36)"
            },
            "error_y": {
             "color": "rgb(36,36,36)"
            },
            "marker": {
             "line": {
              "color": "white",
              "width": 0.5
             },
             "pattern": {
              "fillmode": "overlay",
              "size": 10,
              "solidity": 0.2
             }
            },
            "type": "bar"
           }
          ],
          "barpolar": [
           {
            "marker": {
             "line": {
              "color": "white",
              "width": 0.5
             },
             "pattern": {
              "fillmode": "overlay",
              "size": 10,
              "solidity": 0.2
             }
            },
            "type": "barpolar"
           }
          ],
          "carpet": [
           {
            "aaxis": {
             "endlinecolor": "rgb(36,36,36)",
             "gridcolor": "white",
             "linecolor": "white",
             "minorgridcolor": "white",
             "startlinecolor": "rgb(36,36,36)"
            },
            "baxis": {
             "endlinecolor": "rgb(36,36,36)",
             "gridcolor": "white",
             "linecolor": "white",
             "minorgridcolor": "white",
             "startlinecolor": "rgb(36,36,36)"
            },
            "type": "carpet"
           }
          ],
          "choropleth": [
           {
            "colorbar": {
             "outlinewidth": 1,
             "tickcolor": "rgb(36,36,36)",
             "ticks": "outside"
            },
            "type": "choropleth"
           }
          ],
          "contour": [
           {
            "colorbar": {
             "outlinewidth": 1,
             "tickcolor": "rgb(36,36,36)",
             "ticks": "outside"
            },
            "colorscale": [
             [
              0,
              "#440154"
             ],
             [
              0.1111111111111111,
              "#482878"
             ],
             [
              0.2222222222222222,
              "#3e4989"
             ],
             [
              0.3333333333333333,
              "#31688e"
             ],
             [
              0.4444444444444444,
              "#26828e"
             ],
             [
              0.5555555555555556,
              "#1f9e89"
             ],
             [
              0.6666666666666666,
              "#35b779"
             ],
             [
              0.7777777777777778,
              "#6ece58"
             ],
             [
              0.8888888888888888,
              "#b5de2b"
             ],
             [
              1,
              "#fde725"
             ]
            ],
            "type": "contour"
           }
          ],
          "contourcarpet": [
           {
            "colorbar": {
             "outlinewidth": 1,
             "tickcolor": "rgb(36,36,36)",
             "ticks": "outside"
            },
            "type": "contourcarpet"
           }
          ],
          "heatmap": [
           {
            "colorbar": {
             "outlinewidth": 1,
             "tickcolor": "rgb(36,36,36)",
             "ticks": "outside"
            },
            "colorscale": [
             [
              0,
              "#440154"
             ],
             [
              0.1111111111111111,
              "#482878"
             ],
             [
              0.2222222222222222,
              "#3e4989"
             ],
             [
              0.3333333333333333,
              "#31688e"
             ],
             [
              0.4444444444444444,
              "#26828e"
             ],
             [
              0.5555555555555556,
              "#1f9e89"
             ],
             [
              0.6666666666666666,
              "#35b779"
             ],
             [
              0.7777777777777778,
              "#6ece58"
             ],
             [
              0.8888888888888888,
              "#b5de2b"
             ],
             [
              1,
              "#fde725"
             ]
            ],
            "type": "heatmap"
           }
          ],
          "histogram": [
           {
            "marker": {
             "line": {
              "color": "white",
              "width": 0.6
             }
            },
            "type": "histogram"
           }
          ],
          "histogram2d": [
           {
            "colorbar": {
             "outlinewidth": 1,
             "tickcolor": "rgb(36,36,36)",
             "ticks": "outside"
            },
            "colorscale": [
             [
              0,
              "#440154"
             ],
             [
              0.1111111111111111,
              "#482878"
             ],
             [
              0.2222222222222222,
              "#3e4989"
             ],
             [
              0.3333333333333333,
              "#31688e"
             ],
             [
              0.4444444444444444,
              "#26828e"
             ],
             [
              0.5555555555555556,
              "#1f9e89"
             ],
             [
              0.6666666666666666,
              "#35b779"
             ],
             [
              0.7777777777777778,
              "#6ece58"
             ],
             [
              0.8888888888888888,
              "#b5de2b"
             ],
             [
              1,
              "#fde725"
             ]
            ],
            "type": "histogram2d"
           }
          ],
          "histogram2dcontour": [
           {
            "colorbar": {
             "outlinewidth": 1,
             "tickcolor": "rgb(36,36,36)",
             "ticks": "outside"
            },
            "colorscale": [
             [
              0,
              "#440154"
             ],
             [
              0.1111111111111111,
              "#482878"
             ],
             [
              0.2222222222222222,
              "#3e4989"
             ],
             [
              0.3333333333333333,
              "#31688e"
             ],
             [
              0.4444444444444444,
              "#26828e"
             ],
             [
              0.5555555555555556,
              "#1f9e89"
             ],
             [
              0.6666666666666666,
              "#35b779"
             ],
             [
              0.7777777777777778,
              "#6ece58"
             ],
             [
              0.8888888888888888,
              "#b5de2b"
             ],
             [
              1,
              "#fde725"
             ]
            ],
            "type": "histogram2dcontour"
           }
          ],
          "mesh3d": [
           {
            "colorbar": {
             "outlinewidth": 1,
             "tickcolor": "rgb(36,36,36)",
             "ticks": "outside"
            },
            "type": "mesh3d"
           }
          ],
          "parcoords": [
           {
            "line": {
             "colorbar": {
              "outlinewidth": 1,
              "tickcolor": "rgb(36,36,36)",
              "ticks": "outside"
             }
            },
            "type": "parcoords"
           }
          ],
          "pie": [
           {
            "automargin": true,
            "type": "pie"
           }
          ],
          "scatter": [
           {
            "fillpattern": {
             "fillmode": "overlay",
             "size": 10,
             "solidity": 0.2
            },
            "type": "scatter"
           }
          ],
          "scatter3d": [
           {
            "line": {
             "colorbar": {
              "outlinewidth": 1,
              "tickcolor": "rgb(36,36,36)",
              "ticks": "outside"
             }
            },
            "marker": {
             "colorbar": {
              "outlinewidth": 1,
              "tickcolor": "rgb(36,36,36)",
              "ticks": "outside"
             }
            },
            "type": "scatter3d"
           }
          ],
          "scattercarpet": [
           {
            "marker": {
             "colorbar": {
              "outlinewidth": 1,
              "tickcolor": "rgb(36,36,36)",
              "ticks": "outside"
             }
            },
            "type": "scattercarpet"
           }
          ],
          "scattergeo": [
           {
            "marker": {
             "colorbar": {
              "outlinewidth": 1,
              "tickcolor": "rgb(36,36,36)",
              "ticks": "outside"
             }
            },
            "type": "scattergeo"
           }
          ],
          "scattergl": [
           {
            "marker": {
             "colorbar": {
              "outlinewidth": 1,
              "tickcolor": "rgb(36,36,36)",
              "ticks": "outside"
             }
            },
            "type": "scattergl"
           }
          ],
          "scattermap": [
           {
            "marker": {
             "colorbar": {
              "outlinewidth": 1,
              "tickcolor": "rgb(36,36,36)",
              "ticks": "outside"
             }
            },
            "type": "scattermap"
           }
          ],
          "scattermapbox": [
           {
            "marker": {
             "colorbar": {
              "outlinewidth": 1,
              "tickcolor": "rgb(36,36,36)",
              "ticks": "outside"
             }
            },
            "type": "scattermapbox"
           }
          ],
          "scatterpolar": [
           {
            "marker": {
             "colorbar": {
              "outlinewidth": 1,
              "tickcolor": "rgb(36,36,36)",
              "ticks": "outside"
             }
            },
            "type": "scatterpolar"
           }
          ],
          "scatterpolargl": [
           {
            "marker": {
             "colorbar": {
              "outlinewidth": 1,
              "tickcolor": "rgb(36,36,36)",
              "ticks": "outside"
             }
            },
            "type": "scatterpolargl"
           }
          ],
          "scatterternary": [
           {
            "marker": {
             "colorbar": {
              "outlinewidth": 1,
              "tickcolor": "rgb(36,36,36)",
              "ticks": "outside"
             }
            },
            "type": "scatterternary"
           }
          ],
          "surface": [
           {
            "colorbar": {
             "outlinewidth": 1,
             "tickcolor": "rgb(36,36,36)",
             "ticks": "outside"
            },
            "colorscale": [
             [
              0,
              "#440154"
             ],
             [
              0.1111111111111111,
              "#482878"
             ],
             [
              0.2222222222222222,
              "#3e4989"
             ],
             [
              0.3333333333333333,
              "#31688e"
             ],
             [
              0.4444444444444444,
              "#26828e"
             ],
             [
              0.5555555555555556,
              "#1f9e89"
             ],
             [
              0.6666666666666666,
              "#35b779"
             ],
             [
              0.7777777777777778,
              "#6ece58"
             ],
             [
              0.8888888888888888,
              "#b5de2b"
             ],
             [
              1,
              "#fde725"
             ]
            ],
            "type": "surface"
           }
          ],
          "table": [
           {
            "cells": {
             "fill": {
              "color": "rgb(237,237,237)"
             },
             "line": {
              "color": "white"
             }
            },
            "header": {
             "fill": {
              "color": "rgb(217,217,217)"
             },
             "line": {
              "color": "white"
             }
            },
            "type": "table"
           }
          ]
         },
         "layout": {
          "annotationdefaults": {
           "arrowhead": 0,
           "arrowwidth": 1
          },
          "autotypenumbers": "strict",
          "coloraxis": {
           "colorbar": {
            "outlinewidth": 1,
            "tickcolor": "rgb(36,36,36)",
            "ticks": "outside"
           }
          },
          "colorscale": {
           "diverging": [
            [
             0,
             "rgb(103,0,31)"
            ],
            [
             0.1,
             "rgb(178,24,43)"
            ],
            [
             0.2,
             "rgb(214,96,77)"
            ],
            [
             0.3,
             "rgb(244,165,130)"
            ],
            [
             0.4,
             "rgb(253,219,199)"
            ],
            [
             0.5,
             "rgb(247,247,247)"
            ],
            [
             0.6,
             "rgb(209,229,240)"
            ],
            [
             0.7,
             "rgb(146,197,222)"
            ],
            [
             0.8,
             "rgb(67,147,195)"
            ],
            [
             0.9,
             "rgb(33,102,172)"
            ],
            [
             1,
             "rgb(5,48,97)"
            ]
           ],
           "sequential": [
            [
             0,
             "#440154"
            ],
            [
             0.1111111111111111,
             "#482878"
            ],
            [
             0.2222222222222222,
             "#3e4989"
            ],
            [
             0.3333333333333333,
             "#31688e"
            ],
            [
             0.4444444444444444,
             "#26828e"
            ],
            [
             0.5555555555555556,
             "#1f9e89"
            ],
            [
             0.6666666666666666,
             "#35b779"
            ],
            [
             0.7777777777777778,
             "#6ece58"
            ],
            [
             0.8888888888888888,
             "#b5de2b"
            ],
            [
             1,
             "#fde725"
            ]
           ],
           "sequentialminus": [
            [
             0,
             "#440154"
            ],
            [
             0.1111111111111111,
             "#482878"
            ],
            [
             0.2222222222222222,
             "#3e4989"
            ],
            [
             0.3333333333333333,
             "#31688e"
            ],
            [
             0.4444444444444444,
             "#26828e"
            ],
            [
             0.5555555555555556,
             "#1f9e89"
            ],
            [
             0.6666666666666666,
             "#35b779"
            ],
            [
             0.7777777777777778,
             "#6ece58"
            ],
            [
             0.8888888888888888,
             "#b5de2b"
            ],
            [
             1,
             "#fde725"
            ]
           ]
          },
          "colorway": [
           "#1F77B4",
           "#FF7F0E",
           "#2CA02C",
           "#D62728",
           "#9467BD",
           "#8C564B",
           "#E377C2",
           "#7F7F7F",
           "#BCBD22",
           "#17BECF"
          ],
          "font": {
           "color": "rgb(36,36,36)"
          },
          "geo": {
           "bgcolor": "white",
           "lakecolor": "white",
           "landcolor": "white",
           "showlakes": true,
           "showland": true,
           "subunitcolor": "white"
          },
          "hoverlabel": {
           "align": "left"
          },
          "hovermode": "closest",
          "mapbox": {
           "style": "light"
          },
          "paper_bgcolor": "white",
          "plot_bgcolor": "white",
          "polar": {
           "angularaxis": {
            "gridcolor": "rgb(232,232,232)",
            "linecolor": "rgb(36,36,36)",
            "showgrid": false,
            "showline": true,
            "ticks": "outside"
           },
           "bgcolor": "white",
           "radialaxis": {
            "gridcolor": "rgb(232,232,232)",
            "linecolor": "rgb(36,36,36)",
            "showgrid": false,
            "showline": true,
            "ticks": "outside"
           }
          },
          "scene": {
           "xaxis": {
            "backgroundcolor": "white",
            "gridcolor": "rgb(232,232,232)",
            "gridwidth": 2,
            "linecolor": "rgb(36,36,36)",
            "showbackground": true,
            "showgrid": false,
            "showline": true,
            "ticks": "outside",
            "zeroline": false,
            "zerolinecolor": "rgb(36,36,36)"
           },
           "yaxis": {
            "backgroundcolor": "white",
            "gridcolor": "rgb(232,232,232)",
            "gridwidth": 2,
            "linecolor": "rgb(36,36,36)",
            "showbackground": true,
            "showgrid": false,
            "showline": true,
            "ticks": "outside",
            "zeroline": false,
            "zerolinecolor": "rgb(36,36,36)"
           },
           "zaxis": {
            "backgroundcolor": "white",
            "gridcolor": "rgb(232,232,232)",
            "gridwidth": 2,
            "linecolor": "rgb(36,36,36)",
            "showbackground": true,
            "showgrid": false,
            "showline": true,
            "ticks": "outside",
            "zeroline": false,
            "zerolinecolor": "rgb(36,36,36)"
           }
          },
          "shapedefaults": {
           "fillcolor": "black",
           "line": {
            "width": 0
           },
           "opacity": 0.3
          },
          "ternary": {
           "aaxis": {
            "gridcolor": "rgb(232,232,232)",
            "linecolor": "rgb(36,36,36)",
            "showgrid": false,
            "showline": true,
            "ticks": "outside"
           },
           "baxis": {
            "gridcolor": "rgb(232,232,232)",
            "linecolor": "rgb(36,36,36)",
            "showgrid": false,
            "showline": true,
            "ticks": "outside"
           },
           "bgcolor": "white",
           "caxis": {
            "gridcolor": "rgb(232,232,232)",
            "linecolor": "rgb(36,36,36)",
            "showgrid": false,
            "showline": true,
            "ticks": "outside"
           }
          },
          "title": {
           "x": 0.05
          },
          "xaxis": {
           "automargin": true,
           "gridcolor": "rgb(232,232,232)",
           "linecolor": "rgb(36,36,36)",
           "showgrid": false,
           "showline": true,
           "ticks": "outside",
           "title": {
            "standoff": 15
           },
           "zeroline": false,
           "zerolinecolor": "rgb(36,36,36)"
          },
          "yaxis": {
           "automargin": true,
           "gridcolor": "rgb(232,232,232)",
           "linecolor": "rgb(36,36,36)",
           "showgrid": false,
           "showline": true,
           "ticks": "outside",
           "title": {
            "standoff": 15
           },
           "zeroline": false,
           "zerolinecolor": "rgb(36,36,36)"
          }
         }
        },
        "xaxis": {
         "anchor": "y",
         "domain": [
          0,
          0.48
         ],
         "title": {
          "text": "Inoculation_2_time"
         }
        },
        "xaxis2": {
         "anchor": "y2",
         "domain": [
          0.5,
          0.98
         ],
         "title": {
          "text": "Inoculation_2_time"
         }
        },
        "xaxis3": {
         "anchor": "y3",
         "domain": [
          0,
          0.48
         ],
         "showticklabels": false
        },
        "xaxis4": {
         "anchor": "y4",
         "domain": [
          0.5,
          0.98
         ],
         "showticklabels": false
        },
        "yaxis": {
         "anchor": "x",
         "domain": [
          0,
          0.485
         ],
         "title": {
          "text": "OD620"
         }
        },
        "yaxis2": {
         "anchor": "x2",
         "domain": [
          0,
          0.485
         ],
         "matches": "y",
         "showticklabels": false
        },
        "yaxis3": {
         "anchor": "x3",
         "domain": [
          0.515,
          1
         ],
         "matches": "y",
         "title": {
          "text": "OD620"
         }
        },
        "yaxis4": {
         "anchor": "x4",
         "domain": [
          0.515,
          1
         ],
         "matches": "y",
         "showticklabels": false
        }
       }
      }
     },
     "metadata": {},
     "output_type": "display_data"
    },
    {
     "data": {
      "application/vnd.plotly.v1+json": {
       "config": {
        "plotlyServerURL": "https://plotly.com"
       },
       "data": [
        {
         "alignmentgroup": "True",
         "boxpoints": "all",
         "hovertemplate": "CmR=NA<br>Media=GAM+<br>Inoculation_2_time=%{x}<br>OD620=%{y}<extra></extra>",
         "legendgroup": "",
         "marker": {
          "color": "#1F77B4"
         },
         "name": "",
         "notched": false,
         "offsetgroup": "",
         "orientation": "v",
         "showlegend": false,
         "type": "box",
         "x": [
          0,
          "3h",
          "6h",
          0,
          "3h",
          "6h",
          0,
          "3h",
          "6h",
          0,
          "3h",
          "6h",
          0,
          "3h",
          "6h",
          0,
          "3h",
          "6h",
          0,
          "3h",
          "6h",
          0,
          "3h",
          "6h"
         ],
         "x0": " ",
         "xaxis": "x3",
         "y": {
          "bdata": "+n5qvHST2D8IrBxaZDvXPzeJQWDl0No/3SQGgZVD2z+JQWDl0CLbP30/NV66Sdw/bxKDwMqh1T/D9Shcj8LVPxsv3SQGgdU/rkfhehSu3z9YObTIdr7XP65H4XoUrtc/eekmMQis1D8j2/l+arzUP3Noke18P9U/aJHtfD813j+28/3UeOnWP+f7qfHSTdo/nMQgsHJo0T8hsHJoke3UP39qvHSTGNQ/MQisHFpk2z/LoUW28/3UP5zEILByaNk/",
          "dtype": "f8"
         },
         "y0": " ",
         "yaxis": "y3"
        },
        {
         "alignmentgroup": "True",
         "boxpoints": "all",
         "hovertemplate": "CmR=NA<br>Media=GAM-<br>Inoculation_2_time=%{x}<br>OD620=%{y}<extra></extra>",
         "legendgroup": "",
         "marker": {
          "color": "#1F77B4"
         },
         "name": "",
         "notched": false,
         "offsetgroup": "",
         "orientation": "v",
         "showlegend": false,
         "type": "box",
         "x": [
          0,
          "3h",
          "6h",
          0,
          "3h",
          "6h",
          0,
          "3h",
          "6h",
          0,
          "3h",
          "6h",
          0,
          "3h",
          "6h",
          0,
          "3h",
          "6h",
          0,
          "3h",
          "6h",
          0,
          "3h",
          "6h"
         ],
         "x0": " ",
         "xaxis": "x4",
         "y": {
          "bdata": "YOXQItv51j+wcmiR7XzXP2iR7Xw/NdY/YhBYObTI1j/n+6nx0k3aPy/dJAaBlds/XrpJDAIr1z/wp8ZLN4nZP1YOLbKd79c/9P3UeOkm5T9U46WbxCDgP0w3iUFg5eA/tvP91Hjp1j+oxks3iUHYPxKDwMqhRdY/I9v5fmq83D/2KFyPwvXYP5qZmZmZmdk/vp8aL90k1j9eukkMAivXPxkEVg4tstU/1XjpJjEI6D/8qfHSTWLgP5HtfD81Xto/",
          "dtype": "f8"
         },
         "y0": " ",
         "yaxis": "y4"
        },
        {
         "alignmentgroup": "True",
         "boxpoints": "all",
         "hovertemplate": "CmR=CmR 20<br>Media=GAM+<br>Inoculation_2_time=%{x}<br>OD620=%{y}<extra></extra>",
         "legendgroup": "",
         "marker": {
          "color": "#1F77B4"
         },
         "name": "",
         "notched": false,
         "offsetgroup": "",
         "orientation": "v",
         "showlegend": false,
         "type": "box",
         "x": [
          0,
          "3h",
          "6h",
          0,
          "3h",
          "6h",
          0,
          "3h",
          "6h",
          0,
          "3h",
          "6h",
          0,
          "3h",
          "6h",
          0,
          "3h",
          "6h",
          0,
          "3h",
          "6h",
          0,
          "3h",
          "6h"
         ],
         "x0": " ",
         "xaxis": "x",
         "y": {
          "bdata": "KVyPwvUo4D8OLbKd76fePyGwcmiR7dw/GQRWDi2yrT9CYOXQItvZP9V46SYxCMw/w/UoXI/C3T/TTWIQWDncP4XrUbgehds/CKwcWmQ7rz/6fmq8dJPYP3npJjEIrMw/H4XrUbge3T8UrkfhehTePxkEVg4tst0/yXa+nxovrT+cxCCwcmjZPylcj8L1KMw/F9nO91Pj3T8rhxbZzvfbP8l2vp8aL90/eekmMQisrD+TGARWDi3aP7x0kxgEVs4/",
          "dtype": "f8"
         },
         "y0": " ",
         "yaxis": "y"
        },
        {
         "alignmentgroup": "True",
         "boxpoints": "all",
         "hovertemplate": "CmR=CmR 20<br>Media=GAM-<br>Inoculation_2_time=%{x}<br>OD620=%{y}<extra></extra>",
         "legendgroup": "",
         "marker": {
          "color": "#1F77B4"
         },
         "name": "",
         "notched": false,
         "offsetgroup": "",
         "orientation": "v",
         "showlegend": false,
         "type": "box",
         "x": [
          0,
          "3h",
          "6h",
          0,
          "3h",
          "6h",
          0,
          "3h",
          "6h",
          0,
          "3h",
          "6h",
          0,
          "3h",
          "6h",
          0,
          "3h",
          "6h",
          0,
          "3h",
          "6h",
          0,
          "3h",
          "6h"
         ],
         "x0": " ",
         "xaxis": "x2",
         "y": {
          "bdata": "GQRWDi2yrT+wcmiR7Xy/PyPb+X5qvMQ/qvHSTWIQqD+LbOf7qfGyP+kmMQisHKo/ObTIdr6fqj9QjZduEoPAP0SLbOf7qcE/WmQ730+Npz8zMzMzMzOzP0oMAiuHFqk/2c73U+Olqz/4U+Olm8TAP6RwPQrXo8A/qvHSTWIQqD8rhxbZzvezP9nO91Pjpas/6SYxCKwcqj/8qfHSTWLAP/T91HjpJsE/qvHSTWIQqD9Ei2zn+6mxP6rx0k1iEKg/",
          "dtype": "f8"
         },
         "y0": " ",
         "yaxis": "y2"
        }
       ],
       "layout": {
        "annotations": [
         {
          "font": {},
          "showarrow": false,
          "text": "Media=GAM+",
          "x": 0.24,
          "xanchor": "center",
          "xref": "paper",
          "y": 1,
          "yanchor": "bottom",
          "yref": "paper"
         },
         {
          "font": {},
          "showarrow": false,
          "text": "Media=GAM-",
          "x": 0.74,
          "xanchor": "center",
          "xref": "paper",
          "y": 1,
          "yanchor": "bottom",
          "yref": "paper"
         },
         {
          "font": {},
          "showarrow": false,
          "text": "CmR=CmR 20",
          "textangle": 90,
          "x": 0.98,
          "xanchor": "left",
          "xref": "paper",
          "y": 0.2425,
          "yanchor": "middle",
          "yref": "paper"
         },
         {
          "font": {},
          "showarrow": false,
          "text": "CmR=NA",
          "textangle": 90,
          "x": 0.98,
          "xanchor": "left",
          "xref": "paper",
          "y": 0.7575000000000001,
          "yanchor": "middle",
          "yref": "paper"
         }
        ],
        "boxmode": "group",
        "legend": {
         "tracegroupgap": 0
        },
        "margin": {
         "t": 60
        },
        "template": {
         "data": {
          "bar": [
           {
            "error_x": {
             "color": "rgb(36,36,36)"
            },
            "error_y": {
             "color": "rgb(36,36,36)"
            },
            "marker": {
             "line": {
              "color": "white",
              "width": 0.5
             },
             "pattern": {
              "fillmode": "overlay",
              "size": 10,
              "solidity": 0.2
             }
            },
            "type": "bar"
           }
          ],
          "barpolar": [
           {
            "marker": {
             "line": {
              "color": "white",
              "width": 0.5
             },
             "pattern": {
              "fillmode": "overlay",
              "size": 10,
              "solidity": 0.2
             }
            },
            "type": "barpolar"
           }
          ],
          "carpet": [
           {
            "aaxis": {
             "endlinecolor": "rgb(36,36,36)",
             "gridcolor": "white",
             "linecolor": "white",
             "minorgridcolor": "white",
             "startlinecolor": "rgb(36,36,36)"
            },
            "baxis": {
             "endlinecolor": "rgb(36,36,36)",
             "gridcolor": "white",
             "linecolor": "white",
             "minorgridcolor": "white",
             "startlinecolor": "rgb(36,36,36)"
            },
            "type": "carpet"
           }
          ],
          "choropleth": [
           {
            "colorbar": {
             "outlinewidth": 1,
             "tickcolor": "rgb(36,36,36)",
             "ticks": "outside"
            },
            "type": "choropleth"
           }
          ],
          "contour": [
           {
            "colorbar": {
             "outlinewidth": 1,
             "tickcolor": "rgb(36,36,36)",
             "ticks": "outside"
            },
            "colorscale": [
             [
              0,
              "#440154"
             ],
             [
              0.1111111111111111,
              "#482878"
             ],
             [
              0.2222222222222222,
              "#3e4989"
             ],
             [
              0.3333333333333333,
              "#31688e"
             ],
             [
              0.4444444444444444,
              "#26828e"
             ],
             [
              0.5555555555555556,
              "#1f9e89"
             ],
             [
              0.6666666666666666,
              "#35b779"
             ],
             [
              0.7777777777777778,
              "#6ece58"
             ],
             [
              0.8888888888888888,
              "#b5de2b"
             ],
             [
              1,
              "#fde725"
             ]
            ],
            "type": "contour"
           }
          ],
          "contourcarpet": [
           {
            "colorbar": {
             "outlinewidth": 1,
             "tickcolor": "rgb(36,36,36)",
             "ticks": "outside"
            },
            "type": "contourcarpet"
           }
          ],
          "heatmap": [
           {
            "colorbar": {
             "outlinewidth": 1,
             "tickcolor": "rgb(36,36,36)",
             "ticks": "outside"
            },
            "colorscale": [
             [
              0,
              "#440154"
             ],
             [
              0.1111111111111111,
              "#482878"
             ],
             [
              0.2222222222222222,
              "#3e4989"
             ],
             [
              0.3333333333333333,
              "#31688e"
             ],
             [
              0.4444444444444444,
              "#26828e"
             ],
             [
              0.5555555555555556,
              "#1f9e89"
             ],
             [
              0.6666666666666666,
              "#35b779"
             ],
             [
              0.7777777777777778,
              "#6ece58"
             ],
             [
              0.8888888888888888,
              "#b5de2b"
             ],
             [
              1,
              "#fde725"
             ]
            ],
            "type": "heatmap"
           }
          ],
          "histogram": [
           {
            "marker": {
             "line": {
              "color": "white",
              "width": 0.6
             }
            },
            "type": "histogram"
           }
          ],
          "histogram2d": [
           {
            "colorbar": {
             "outlinewidth": 1,
             "tickcolor": "rgb(36,36,36)",
             "ticks": "outside"
            },
            "colorscale": [
             [
              0,
              "#440154"
             ],
             [
              0.1111111111111111,
              "#482878"
             ],
             [
              0.2222222222222222,
              "#3e4989"
             ],
             [
              0.3333333333333333,
              "#31688e"
             ],
             [
              0.4444444444444444,
              "#26828e"
             ],
             [
              0.5555555555555556,
              "#1f9e89"
             ],
             [
              0.6666666666666666,
              "#35b779"
             ],
             [
              0.7777777777777778,
              "#6ece58"
             ],
             [
              0.8888888888888888,
              "#b5de2b"
             ],
             [
              1,
              "#fde725"
             ]
            ],
            "type": "histogram2d"
           }
          ],
          "histogram2dcontour": [
           {
            "colorbar": {
             "outlinewidth": 1,
             "tickcolor": "rgb(36,36,36)",
             "ticks": "outside"
            },
            "colorscale": [
             [
              0,
              "#440154"
             ],
             [
              0.1111111111111111,
              "#482878"
             ],
             [
              0.2222222222222222,
              "#3e4989"
             ],
             [
              0.3333333333333333,
              "#31688e"
             ],
             [
              0.4444444444444444,
              "#26828e"
             ],
             [
              0.5555555555555556,
              "#1f9e89"
             ],
             [
              0.6666666666666666,
              "#35b779"
             ],
             [
              0.7777777777777778,
              "#6ece58"
             ],
             [
              0.8888888888888888,
              "#b5de2b"
             ],
             [
              1,
              "#fde725"
             ]
            ],
            "type": "histogram2dcontour"
           }
          ],
          "mesh3d": [
           {
            "colorbar": {
             "outlinewidth": 1,
             "tickcolor": "rgb(36,36,36)",
             "ticks": "outside"
            },
            "type": "mesh3d"
           }
          ],
          "parcoords": [
           {
            "line": {
             "colorbar": {
              "outlinewidth": 1,
              "tickcolor": "rgb(36,36,36)",
              "ticks": "outside"
             }
            },
            "type": "parcoords"
           }
          ],
          "pie": [
           {
            "automargin": true,
            "type": "pie"
           }
          ],
          "scatter": [
           {
            "fillpattern": {
             "fillmode": "overlay",
             "size": 10,
             "solidity": 0.2
            },
            "type": "scatter"
           }
          ],
          "scatter3d": [
           {
            "line": {
             "colorbar": {
              "outlinewidth": 1,
              "tickcolor": "rgb(36,36,36)",
              "ticks": "outside"
             }
            },
            "marker": {
             "colorbar": {
              "outlinewidth": 1,
              "tickcolor": "rgb(36,36,36)",
              "ticks": "outside"
             }
            },
            "type": "scatter3d"
           }
          ],
          "scattercarpet": [
           {
            "marker": {
             "colorbar": {
              "outlinewidth": 1,
              "tickcolor": "rgb(36,36,36)",
              "ticks": "outside"
             }
            },
            "type": "scattercarpet"
           }
          ],
          "scattergeo": [
           {
            "marker": {
             "colorbar": {
              "outlinewidth": 1,
              "tickcolor": "rgb(36,36,36)",
              "ticks": "outside"
             }
            },
            "type": "scattergeo"
           }
          ],
          "scattergl": [
           {
            "marker": {
             "colorbar": {
              "outlinewidth": 1,
              "tickcolor": "rgb(36,36,36)",
              "ticks": "outside"
             }
            },
            "type": "scattergl"
           }
          ],
          "scattermap": [
           {
            "marker": {
             "colorbar": {
              "outlinewidth": 1,
              "tickcolor": "rgb(36,36,36)",
              "ticks": "outside"
             }
            },
            "type": "scattermap"
           }
          ],
          "scattermapbox": [
           {
            "marker": {
             "colorbar": {
              "outlinewidth": 1,
              "tickcolor": "rgb(36,36,36)",
              "ticks": "outside"
             }
            },
            "type": "scattermapbox"
           }
          ],
          "scatterpolar": [
           {
            "marker": {
             "colorbar": {
              "outlinewidth": 1,
              "tickcolor": "rgb(36,36,36)",
              "ticks": "outside"
             }
            },
            "type": "scatterpolar"
           }
          ],
          "scatterpolargl": [
           {
            "marker": {
             "colorbar": {
              "outlinewidth": 1,
              "tickcolor": "rgb(36,36,36)",
              "ticks": "outside"
             }
            },
            "type": "scatterpolargl"
           }
          ],
          "scatterternary": [
           {
            "marker": {
             "colorbar": {
              "outlinewidth": 1,
              "tickcolor": "rgb(36,36,36)",
              "ticks": "outside"
             }
            },
            "type": "scatterternary"
           }
          ],
          "surface": [
           {
            "colorbar": {
             "outlinewidth": 1,
             "tickcolor": "rgb(36,36,36)",
             "ticks": "outside"
            },
            "colorscale": [
             [
              0,
              "#440154"
             ],
             [
              0.1111111111111111,
              "#482878"
             ],
             [
              0.2222222222222222,
              "#3e4989"
             ],
             [
              0.3333333333333333,
              "#31688e"
             ],
             [
              0.4444444444444444,
              "#26828e"
             ],
             [
              0.5555555555555556,
              "#1f9e89"
             ],
             [
              0.6666666666666666,
              "#35b779"
             ],
             [
              0.7777777777777778,
              "#6ece58"
             ],
             [
              0.8888888888888888,
              "#b5de2b"
             ],
             [
              1,
              "#fde725"
             ]
            ],
            "type": "surface"
           }
          ],
          "table": [
           {
            "cells": {
             "fill": {
              "color": "rgb(237,237,237)"
             },
             "line": {
              "color": "white"
             }
            },
            "header": {
             "fill": {
              "color": "rgb(217,217,217)"
             },
             "line": {
              "color": "white"
             }
            },
            "type": "table"
           }
          ]
         },
         "layout": {
          "annotationdefaults": {
           "arrowhead": 0,
           "arrowwidth": 1
          },
          "autotypenumbers": "strict",
          "coloraxis": {
           "colorbar": {
            "outlinewidth": 1,
            "tickcolor": "rgb(36,36,36)",
            "ticks": "outside"
           }
          },
          "colorscale": {
           "diverging": [
            [
             0,
             "rgb(103,0,31)"
            ],
            [
             0.1,
             "rgb(178,24,43)"
            ],
            [
             0.2,
             "rgb(214,96,77)"
            ],
            [
             0.3,
             "rgb(244,165,130)"
            ],
            [
             0.4,
             "rgb(253,219,199)"
            ],
            [
             0.5,
             "rgb(247,247,247)"
            ],
            [
             0.6,
             "rgb(209,229,240)"
            ],
            [
             0.7,
             "rgb(146,197,222)"
            ],
            [
             0.8,
             "rgb(67,147,195)"
            ],
            [
             0.9,
             "rgb(33,102,172)"
            ],
            [
             1,
             "rgb(5,48,97)"
            ]
           ],
           "sequential": [
            [
             0,
             "#440154"
            ],
            [
             0.1111111111111111,
             "#482878"
            ],
            [
             0.2222222222222222,
             "#3e4989"
            ],
            [
             0.3333333333333333,
             "#31688e"
            ],
            [
             0.4444444444444444,
             "#26828e"
            ],
            [
             0.5555555555555556,
             "#1f9e89"
            ],
            [
             0.6666666666666666,
             "#35b779"
            ],
            [
             0.7777777777777778,
             "#6ece58"
            ],
            [
             0.8888888888888888,
             "#b5de2b"
            ],
            [
             1,
             "#fde725"
            ]
           ],
           "sequentialminus": [
            [
             0,
             "#440154"
            ],
            [
             0.1111111111111111,
             "#482878"
            ],
            [
             0.2222222222222222,
             "#3e4989"
            ],
            [
             0.3333333333333333,
             "#31688e"
            ],
            [
             0.4444444444444444,
             "#26828e"
            ],
            [
             0.5555555555555556,
             "#1f9e89"
            ],
            [
             0.6666666666666666,
             "#35b779"
            ],
            [
             0.7777777777777778,
             "#6ece58"
            ],
            [
             0.8888888888888888,
             "#b5de2b"
            ],
            [
             1,
             "#fde725"
            ]
           ]
          },
          "colorway": [
           "#1F77B4",
           "#FF7F0E",
           "#2CA02C",
           "#D62728",
           "#9467BD",
           "#8C564B",
           "#E377C2",
           "#7F7F7F",
           "#BCBD22",
           "#17BECF"
          ],
          "font": {
           "color": "rgb(36,36,36)"
          },
          "geo": {
           "bgcolor": "white",
           "lakecolor": "white",
           "landcolor": "white",
           "showlakes": true,
           "showland": true,
           "subunitcolor": "white"
          },
          "hoverlabel": {
           "align": "left"
          },
          "hovermode": "closest",
          "mapbox": {
           "style": "light"
          },
          "paper_bgcolor": "white",
          "plot_bgcolor": "white",
          "polar": {
           "angularaxis": {
            "gridcolor": "rgb(232,232,232)",
            "linecolor": "rgb(36,36,36)",
            "showgrid": false,
            "showline": true,
            "ticks": "outside"
           },
           "bgcolor": "white",
           "radialaxis": {
            "gridcolor": "rgb(232,232,232)",
            "linecolor": "rgb(36,36,36)",
            "showgrid": false,
            "showline": true,
            "ticks": "outside"
           }
          },
          "scene": {
           "xaxis": {
            "backgroundcolor": "white",
            "gridcolor": "rgb(232,232,232)",
            "gridwidth": 2,
            "linecolor": "rgb(36,36,36)",
            "showbackground": true,
            "showgrid": false,
            "showline": true,
            "ticks": "outside",
            "zeroline": false,
            "zerolinecolor": "rgb(36,36,36)"
           },
           "yaxis": {
            "backgroundcolor": "white",
            "gridcolor": "rgb(232,232,232)",
            "gridwidth": 2,
            "linecolor": "rgb(36,36,36)",
            "showbackground": true,
            "showgrid": false,
            "showline": true,
            "ticks": "outside",
            "zeroline": false,
            "zerolinecolor": "rgb(36,36,36)"
           },
           "zaxis": {
            "backgroundcolor": "white",
            "gridcolor": "rgb(232,232,232)",
            "gridwidth": 2,
            "linecolor": "rgb(36,36,36)",
            "showbackground": true,
            "showgrid": false,
            "showline": true,
            "ticks": "outside",
            "zeroline": false,
            "zerolinecolor": "rgb(36,36,36)"
           }
          },
          "shapedefaults": {
           "fillcolor": "black",
           "line": {
            "width": 0
           },
           "opacity": 0.3
          },
          "ternary": {
           "aaxis": {
            "gridcolor": "rgb(232,232,232)",
            "linecolor": "rgb(36,36,36)",
            "showgrid": false,
            "showline": true,
            "ticks": "outside"
           },
           "baxis": {
            "gridcolor": "rgb(232,232,232)",
            "linecolor": "rgb(36,36,36)",
            "showgrid": false,
            "showline": true,
            "ticks": "outside"
           },
           "bgcolor": "white",
           "caxis": {
            "gridcolor": "rgb(232,232,232)",
            "linecolor": "rgb(36,36,36)",
            "showgrid": false,
            "showline": true,
            "ticks": "outside"
           }
          },
          "title": {
           "x": 0.05
          },
          "xaxis": {
           "automargin": true,
           "gridcolor": "rgb(232,232,232)",
           "linecolor": "rgb(36,36,36)",
           "showgrid": false,
           "showline": true,
           "ticks": "outside",
           "title": {
            "standoff": 15
           },
           "zeroline": false,
           "zerolinecolor": "rgb(36,36,36)"
          },
          "yaxis": {
           "automargin": true,
           "gridcolor": "rgb(232,232,232)",
           "linecolor": "rgb(36,36,36)",
           "showgrid": false,
           "showline": true,
           "ticks": "outside",
           "title": {
            "standoff": 15
           },
           "zeroline": false,
           "zerolinecolor": "rgb(36,36,36)"
          }
         }
        },
        "xaxis": {
         "anchor": "y",
         "domain": [
          0,
          0.48
         ],
         "title": {
          "text": "Inoculation_2_time"
         }
        },
        "xaxis2": {
         "anchor": "y2",
         "domain": [
          0.5,
          0.98
         ],
         "title": {
          "text": "Inoculation_2_time"
         }
        },
        "xaxis3": {
         "anchor": "y3",
         "domain": [
          0,
          0.48
         ],
         "showticklabels": false
        },
        "xaxis4": {
         "anchor": "y4",
         "domain": [
          0.5,
          0.98
         ],
         "showticklabels": false
        },
        "yaxis": {
         "anchor": "x",
         "domain": [
          0,
          0.485
         ],
         "title": {
          "text": "OD620"
         }
        },
        "yaxis2": {
         "anchor": "x2",
         "domain": [
          0,
          0.485
         ],
         "matches": "y",
         "showticklabels": false
        },
        "yaxis3": {
         "anchor": "x3",
         "domain": [
          0.515,
          1
         ],
         "matches": "y",
         "title": {
          "text": "OD620"
         }
        },
        "yaxis4": {
         "anchor": "x4",
         "domain": [
          0.515,
          1
         ],
         "matches": "y",
         "showticklabels": false
        }
       }
      }
     },
     "metadata": {},
     "output_type": "display_data"
    }
   ],
   "source": [
    "for inoc in df_meta['Inoculation'].unique():\n",
    "    df_inoc = df_meta[df_meta['Inoculation']==inoc]\n",
    "    fig = px.box(df_meta,\n",
    "                x = 'Inoculation_2_time',\n",
    "                y = 'OD620',\n",
    "                #color = 'CmR',\n",
    "                facet_row = 'CmR',\n",
    "                facet_col='Media',\n",
    "                template = 'simple_white',\n",
    "                points = 'all'\n",
    "                )\n",
    "    fig.update_xaxes(matches = None)\n",
    "    fig.show()"
   ]
  },
  {
   "cell_type": "markdown",
   "id": "b4cf6219",
   "metadata": {},
   "source": [
    "# Major effects "
   ]
  },
  {
   "cell_type": "markdown",
   "id": "c21f5571",
   "metadata": {},
   "source": [
    "## Chloramphenicol treatment"
   ]
  },
  {
   "cell_type": "code",
   "execution_count": 104,
   "id": "e4e3d5df",
   "metadata": {},
   "outputs": [
    {
     "data": {
      "application/vnd.plotly.v1+json": {
       "config": {
        "plotlyServerURL": "https://plotly.com"
       },
       "data": [
        {
         "alignmentgroup": "True",
         "boxpoints": "all",
         "customdata": [
          [
           "G2"
          ],
          [
           "F1"
          ],
          [
           "H5"
          ],
          [
           "E2"
          ],
          [
           "E1"
          ],
          [
           "G8"
          ],
          [
           "F3"
          ],
          [
           "G9"
          ],
          [
           "G3"
          ],
          [
           "E12"
          ],
          [
           "E7"
          ],
          [
           "F9"
          ],
          [
           "H9"
          ],
          [
           "E8"
          ],
          [
           "G5"
          ],
          [
           "H7"
          ],
          [
           "H8"
          ],
          [
           "G11"
          ],
          [
           "F8"
          ],
          [
           "E9"
          ],
          [
           "G1"
          ],
          [
           "G12"
          ],
          [
           "H1"
          ],
          [
           "E6"
          ],
          [
           "F2"
          ],
          [
           "H12"
          ],
          [
           "F5"
          ],
          [
           "F7"
          ],
          [
           "H6"
          ],
          [
           "H11"
          ],
          [
           "F11"
          ],
          [
           "H3"
          ],
          [
           "F6"
          ],
          [
           "E5"
          ],
          [
           "G6"
          ],
          [
           "G7"
          ],
          [
           "E11"
          ],
          [
           "H2"
          ],
          [
           "E3"
          ],
          [
           "F12"
          ],
          [
           "F1"
          ],
          [
           "G6"
          ],
          [
           "G8"
          ],
          [
           "E1"
          ],
          [
           "E9"
          ],
          [
           "E8"
          ],
          [
           "F6"
          ],
          [
           "F8"
          ],
          [
           "H5"
          ],
          [
           "H7"
          ],
          [
           "H9"
          ],
          [
           "F12"
          ],
          [
           "H11"
          ],
          [
           "H2"
          ],
          [
           "G5"
          ],
          [
           "H1"
          ],
          [
           "G9"
          ],
          [
           "E5"
          ],
          [
           "H8"
          ],
          [
           "E2"
          ],
          [
           "E3"
          ],
          [
           "G7"
          ],
          [
           "E11"
          ],
          [
           "G1"
          ],
          [
           "E6"
          ],
          [
           "F5"
          ],
          [
           "E7"
          ],
          [
           "F11"
          ],
          [
           "G3"
          ],
          [
           "F7"
          ],
          [
           "F2"
          ],
          [
           "H3"
          ],
          [
           "H12"
          ],
          [
           "G12"
          ],
          [
           "G11"
          ],
          [
           "E12"
          ],
          [
           "G2"
          ],
          [
           "H6"
          ],
          [
           "F3"
          ],
          [
           "F9"
          ],
          [
           "G7"
          ],
          [
           "H1"
          ],
          [
           "G1"
          ],
          [
           "E9"
          ],
          [
           "H12"
          ],
          [
           "F5"
          ],
          [
           "F1"
          ],
          [
           "H2"
          ],
          [
           "G3"
          ],
          [
           "E6"
          ],
          [
           "E7"
          ],
          [
           "H11"
          ],
          [
           "H9"
          ],
          [
           "F8"
          ],
          [
           "E3"
          ],
          [
           "G6"
          ],
          [
           "E11"
          ],
          [
           "G8"
          ],
          [
           "G2"
          ],
          [
           "H8"
          ],
          [
           "F12"
          ],
          [
           "E5"
          ],
          [
           "F7"
          ],
          [
           "G12"
          ],
          [
           "H7"
          ],
          [
           "F3"
          ],
          [
           "H5"
          ],
          [
           "E1"
          ],
          [
           "H3"
          ],
          [
           "G11"
          ],
          [
           "F9"
          ],
          [
           "G9"
          ],
          [
           "H6"
          ],
          [
           "E8"
          ],
          [
           "E12"
          ],
          [
           "F6"
          ],
          [
           "E2"
          ],
          [
           "F2"
          ],
          [
           "G5"
          ],
          [
           "F11"
          ],
          [
           "H9"
          ],
          [
           "G11"
          ],
          [
           "G3"
          ],
          [
           "F7"
          ],
          [
           "H1"
          ],
          [
           "E11"
          ],
          [
           "F5"
          ],
          [
           "G8"
          ],
          [
           "H12"
          ],
          [
           "H7"
          ],
          [
           "G12"
          ],
          [
           "E2"
          ],
          [
           "E8"
          ],
          [
           "F2"
          ],
          [
           "E5"
          ],
          [
           "E1"
          ],
          [
           "E7"
          ],
          [
           "H2"
          ],
          [
           "E12"
          ],
          [
           "H8"
          ],
          [
           "E6"
          ],
          [
           "G1"
          ],
          [
           "H11"
          ],
          [
           "G6"
          ],
          [
           "E9"
          ],
          [
           "E3"
          ],
          [
           "H3"
          ],
          [
           "G9"
          ],
          [
           "F3"
          ],
          [
           "G7"
          ],
          [
           "F6"
          ],
          [
           "F1"
          ],
          [
           "G5"
          ],
          [
           "F11"
          ],
          [
           "F12"
          ],
          [
           "G2"
          ],
          [
           "F9"
          ],
          [
           "H5"
          ],
          [
           "H6"
          ],
          [
           "F8"
          ],
          [
           "E3"
          ],
          [
           "G2"
          ],
          [
           "H6"
          ],
          [
           "H1"
          ],
          [
           "G1"
          ],
          [
           "F9"
          ],
          [
           "F7"
          ],
          [
           "G11"
          ],
          [
           "G12"
          ],
          [
           "G9"
          ],
          [
           "E6"
          ],
          [
           "H12"
          ],
          [
           "E2"
          ],
          [
           "H5"
          ],
          [
           "F11"
          ],
          [
           "E1"
          ],
          [
           "H9"
          ],
          [
           "G5"
          ],
          [
           "E11"
          ],
          [
           "F8"
          ],
          [
           "H2"
          ],
          [
           "F2"
          ],
          [
           "H7"
          ],
          [
           "F12"
          ],
          [
           "E8"
          ],
          [
           "F6"
          ],
          [
           "E5"
          ],
          [
           "F1"
          ],
          [
           "G6"
          ],
          [
           "H3"
          ],
          [
           "G7"
          ],
          [
           "G3"
          ],
          [
           "E9"
          ],
          [
           "G8"
          ],
          [
           "F5"
          ],
          [
           "F3"
          ],
          [
           "H8"
          ],
          [
           "E7"
          ],
          [
           "H11"
          ],
          [
           "E12"
          ]
         ],
         "hovertemplate": "CmR=CmR 20<br>strain=%{x}<br>Ns=%{y}<br>sample_id=%{customdata[0]}<extra></extra>",
         "legendgroup": "CmR 20",
         "marker": {
          "color": "#1F77B4"
         },
         "name": "CmR 20",
         "notched": false,
         "offsetgroup": "CmR 20",
         "orientation": "v",
         "showlegend": true,
         "type": "box",
         "x": [
          "ST1",
          "ST1",
          "ST1",
          "ST1",
          "ST1",
          "ST1",
          "ST1",
          "ST1",
          "ST1",
          "ST1",
          "ST1",
          "ST1",
          "ST1",
          "ST1",
          "ST1",
          "ST1",
          "ST1",
          "ST1",
          "ST1",
          "ST1",
          "ST1",
          "ST1",
          "ST1",
          "ST1",
          "ST1",
          "ST1",
          "ST1",
          "ST1",
          "ST1",
          "ST1",
          "ST1",
          "ST1",
          "ST1",
          "ST1",
          "ST1",
          "ST1",
          "ST1",
          "ST1",
          "ST1",
          "ST1",
          "ST2",
          "ST2",
          "ST2",
          "ST2",
          "ST2",
          "ST2",
          "ST2",
          "ST2",
          "ST2",
          "ST2",
          "ST2",
          "ST2",
          "ST2",
          "ST2",
          "ST2",
          "ST2",
          "ST2",
          "ST2",
          "ST2",
          "ST2",
          "ST2",
          "ST2",
          "ST2",
          "ST2",
          "ST2",
          "ST2",
          "ST2",
          "ST2",
          "ST2",
          "ST2",
          "ST2",
          "ST2",
          "ST2",
          "ST2",
          "ST2",
          "ST2",
          "ST2",
          "ST2",
          "ST2",
          "ST2",
          "ST4",
          "ST4",
          "ST4",
          "ST4",
          "ST4",
          "ST4",
          "ST4",
          "ST4",
          "ST4",
          "ST4",
          "ST4",
          "ST4",
          "ST4",
          "ST4",
          "ST4",
          "ST4",
          "ST4",
          "ST4",
          "ST4",
          "ST4",
          "ST4",
          "ST4",
          "ST4",
          "ST4",
          "ST4",
          "ST4",
          "ST4",
          "ST4",
          "ST4",
          "ST4",
          "ST4",
          "ST4",
          "ST4",
          "ST4",
          "ST4",
          "ST4",
          "ST4",
          "ST4",
          "ST4",
          "ST4",
          "ST5",
          "ST5",
          "ST5",
          "ST5",
          "ST5",
          "ST5",
          "ST5",
          "ST5",
          "ST5",
          "ST5",
          "ST5",
          "ST5",
          "ST5",
          "ST5",
          "ST5",
          "ST5",
          "ST5",
          "ST5",
          "ST5",
          "ST5",
          "ST5",
          "ST5",
          "ST5",
          "ST5",
          "ST5",
          "ST5",
          "ST5",
          "ST5",
          "ST5",
          "ST5",
          "ST5",
          "ST5",
          "ST5",
          "ST5",
          "ST5",
          "ST5",
          "ST5",
          "ST5",
          "ST5",
          "ST5",
          "ST6",
          "ST6",
          "ST6",
          "ST6",
          "ST6",
          "ST6",
          "ST6",
          "ST6",
          "ST6",
          "ST6",
          "ST6",
          "ST6",
          "ST6",
          "ST6",
          "ST6",
          "ST6",
          "ST6",
          "ST6",
          "ST6",
          "ST6",
          "ST6",
          "ST6",
          "ST6",
          "ST6",
          "ST6",
          "ST6",
          "ST6",
          "ST6",
          "ST6",
          "ST6",
          "ST6",
          "ST6",
          "ST6",
          "ST6",
          "ST6",
          "ST6",
          "ST6",
          "ST6",
          "ST6",
          "ST6"
         ],
         "x0": " ",
         "xaxis": "x",
         "y": {
          "bdata": "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",
          "dtype": "f8"
         },
         "y0": " ",
         "yaxis": "y"
        },
        {
         "alignmentgroup": "True",
         "boxpoints": "all",
         "customdata": [
          [
           "D8"
          ],
          [
           "B1"
          ],
          [
           "B9"
          ],
          [
           "D1"
          ],
          [
           "A7"
          ],
          [
           "A11"
          ],
          [
           "C8"
          ],
          [
           "C9"
          ],
          [
           "C2"
          ],
          [
           "D5"
          ],
          [
           "D3"
          ],
          [
           "A3"
          ],
          [
           "D9"
          ],
          [
           "B3"
          ],
          [
           "D7"
          ],
          [
           "B2"
          ],
          [
           "C1"
          ],
          [
           "A8"
          ],
          [
           "B5"
          ],
          [
           "C11"
          ],
          [
           "A6"
          ],
          [
           "D2"
          ],
          [
           "B11"
          ],
          [
           "A5"
          ],
          [
           "B7"
          ],
          [
           "C12"
          ],
          [
           "B6"
          ],
          [
           "D6"
          ],
          [
           "B8"
          ],
          [
           "A9"
          ],
          [
           "D12"
          ],
          [
           "D11"
          ],
          [
           "A12"
          ],
          [
           "A2"
          ],
          [
           "A1"
          ],
          [
           "C3"
          ],
          [
           "B12"
          ],
          [
           "C5"
          ],
          [
           "C6"
          ],
          [
           "C7"
          ],
          [
           "B7"
          ],
          [
           "A1"
          ],
          [
           "B1"
          ],
          [
           "B12"
          ],
          [
           "A12"
          ],
          [
           "A3"
          ],
          [
           "A5"
          ],
          [
           "D3"
          ],
          [
           "C3"
          ],
          [
           "C8"
          ],
          [
           "A8"
          ],
          [
           "B5"
          ],
          [
           "D11"
          ],
          [
           "D2"
          ],
          [
           "D6"
          ],
          [
           "D7"
          ],
          [
           "D8"
          ],
          [
           "C2"
          ],
          [
           "B8"
          ],
          [
           "B2"
          ],
          [
           "D12"
          ],
          [
           "D5"
          ],
          [
           "B3"
          ],
          [
           "A2"
          ],
          [
           "C12"
          ],
          [
           "C6"
          ],
          [
           "B6"
          ],
          [
           "D9"
          ],
          [
           "C1"
          ],
          [
           "C11"
          ],
          [
           "A9"
          ],
          [
           "A11"
          ],
          [
           "B11"
          ],
          [
           "B9"
          ],
          [
           "A7"
          ],
          [
           "C7"
          ],
          [
           "C9"
          ],
          [
           "D1"
          ],
          [
           "A6"
          ],
          [
           "C5"
          ],
          [
           "B12"
          ],
          [
           "A8"
          ],
          [
           "C3"
          ],
          [
           "D11"
          ],
          [
           "C12"
          ],
          [
           "B9"
          ],
          [
           "B8"
          ],
          [
           "B3"
          ],
          [
           "C5"
          ],
          [
           "A11"
          ],
          [
           "A3"
          ],
          [
           "A2"
          ],
          [
           "D9"
          ],
          [
           "A1"
          ],
          [
           "C6"
          ],
          [
           "C7"
          ],
          [
           "D3"
          ],
          [
           "D5"
          ],
          [
           "A7"
          ],
          [
           "C9"
          ],
          [
           "D8"
          ],
          [
           "A9"
          ],
          [
           "D2"
          ],
          [
           "D1"
          ],
          [
           "D12"
          ],
          [
           "B7"
          ],
          [
           "D7"
          ],
          [
           "B5"
          ],
          [
           "B2"
          ],
          [
           "B11"
          ],
          [
           "B6"
          ],
          [
           "C1"
          ],
          [
           "C2"
          ],
          [
           "C8"
          ],
          [
           "A5"
          ],
          [
           "A6"
          ],
          [
           "A12"
          ],
          [
           "D6"
          ],
          [
           "B1"
          ],
          [
           "C11"
          ],
          [
           "C7"
          ],
          [
           "C3"
          ],
          [
           "A5"
          ],
          [
           "A8"
          ],
          [
           "C5"
          ],
          [
           "A2"
          ],
          [
           "B3"
          ],
          [
           "D2"
          ],
          [
           "C11"
          ],
          [
           "B11"
          ],
          [
           "B2"
          ],
          [
           "A6"
          ],
          [
           "D9"
          ],
          [
           "B12"
          ],
          [
           "C2"
          ],
          [
           "C8"
          ],
          [
           "A1"
          ],
          [
           "A3"
          ],
          [
           "A9"
          ],
          [
           "B9"
          ],
          [
           "D6"
          ],
          [
           "D11"
          ],
          [
           "D5"
          ],
          [
           "C6"
          ],
          [
           "D8"
          ],
          [
           "D1"
          ],
          [
           "B6"
          ],
          [
           "B5"
          ],
          [
           "D7"
          ],
          [
           "D3"
          ],
          [
           "C12"
          ],
          [
           "D12"
          ],
          [
           "A12"
          ],
          [
           "A7"
          ],
          [
           "C1"
          ],
          [
           "B8"
          ],
          [
           "B1"
          ],
          [
           "A11"
          ],
          [
           "B7"
          ],
          [
           "C9"
          ],
          [
           "B8"
          ],
          [
           "A5"
          ],
          [
           "B9"
          ],
          [
           "C11"
          ],
          [
           "A6"
          ],
          [
           "C8"
          ],
          [
           "D3"
          ],
          [
           "B6"
          ],
          [
           "A2"
          ],
          [
           "B5"
          ],
          [
           "D6"
          ],
          [
           "D2"
          ],
          [
           "D9"
          ],
          [
           "A11"
          ],
          [
           "B2"
          ],
          [
           "C2"
          ],
          [
           "C1"
          ],
          [
           "B3"
          ],
          [
           "A8"
          ],
          [
           "A9"
          ],
          [
           "B1"
          ],
          [
           "D12"
          ],
          [
           "C9"
          ],
          [
           "C6"
          ],
          [
           "D11"
          ],
          [
           "D5"
          ],
          [
           "D8"
          ],
          [
           "B11"
          ],
          [
           "B12"
          ],
          [
           "B7"
          ],
          [
           "C12"
          ],
          [
           "C5"
          ],
          [
           "A7"
          ],
          [
           "A12"
          ],
          [
           "C7"
          ],
          [
           "D7"
          ],
          [
           "D1"
          ],
          [
           "A3"
          ],
          [
           "C3"
          ],
          [
           "A1"
          ]
         ],
         "hovertemplate": "CmR=NA<br>strain=%{x}<br>Ns=%{y}<br>sample_id=%{customdata[0]}<extra></extra>",
         "legendgroup": "NA",
         "marker": {
          "color": "#FF7F0E"
         },
         "name": "NA",
         "notched": false,
         "offsetgroup": "NA",
         "orientation": "v",
         "showlegend": true,
         "type": "box",
         "x": [
          "ST1",
          "ST1",
          "ST1",
          "ST1",
          "ST1",
          "ST1",
          "ST1",
          "ST1",
          "ST1",
          "ST1",
          "ST1",
          "ST1",
          "ST1",
          "ST1",
          "ST1",
          "ST1",
          "ST1",
          "ST1",
          "ST1",
          "ST1",
          "ST1",
          "ST1",
          "ST1",
          "ST1",
          "ST1",
          "ST1",
          "ST1",
          "ST1",
          "ST1",
          "ST1",
          "ST1",
          "ST1",
          "ST1",
          "ST1",
          "ST1",
          "ST1",
          "ST1",
          "ST1",
          "ST1",
          "ST1",
          "ST2",
          "ST2",
          "ST2",
          "ST2",
          "ST2",
          "ST2",
          "ST2",
          "ST2",
          "ST2",
          "ST2",
          "ST2",
          "ST2",
          "ST2",
          "ST2",
          "ST2",
          "ST2",
          "ST2",
          "ST2",
          "ST2",
          "ST2",
          "ST2",
          "ST2",
          "ST2",
          "ST2",
          "ST2",
          "ST2",
          "ST2",
          "ST2",
          "ST2",
          "ST2",
          "ST2",
          "ST2",
          "ST2",
          "ST2",
          "ST2",
          "ST2",
          "ST2",
          "ST2",
          "ST2",
          "ST2",
          "ST4",
          "ST4",
          "ST4",
          "ST4",
          "ST4",
          "ST4",
          "ST4",
          "ST4",
          "ST4",
          "ST4",
          "ST4",
          "ST4",
          "ST4",
          "ST4",
          "ST4",
          "ST4",
          "ST4",
          "ST4",
          "ST4",
          "ST4",
          "ST4",
          "ST4",
          "ST4",
          "ST4",
          "ST4",
          "ST4",
          "ST4",
          "ST4",
          "ST4",
          "ST4",
          "ST4",
          "ST4",
          "ST4",
          "ST4",
          "ST4",
          "ST4",
          "ST4",
          "ST4",
          "ST4",
          "ST4",
          "ST5",
          "ST5",
          "ST5",
          "ST5",
          "ST5",
          "ST5",
          "ST5",
          "ST5",
          "ST5",
          "ST5",
          "ST5",
          "ST5",
          "ST5",
          "ST5",
          "ST5",
          "ST5",
          "ST5",
          "ST5",
          "ST5",
          "ST5",
          "ST5",
          "ST5",
          "ST5",
          "ST5",
          "ST5",
          "ST5",
          "ST5",
          "ST5",
          "ST5",
          "ST5",
          "ST5",
          "ST5",
          "ST5",
          "ST5",
          "ST5",
          "ST5",
          "ST5",
          "ST5",
          "ST5",
          "ST5",
          "ST6",
          "ST6",
          "ST6",
          "ST6",
          "ST6",
          "ST6",
          "ST6",
          "ST6",
          "ST6",
          "ST6",
          "ST6",
          "ST6",
          "ST6",
          "ST6",
          "ST6",
          "ST6",
          "ST6",
          "ST6",
          "ST6",
          "ST6",
          "ST6",
          "ST6",
          "ST6",
          "ST6",
          "ST6",
          "ST6",
          "ST6",
          "ST6",
          "ST6",
          "ST6",
          "ST6",
          "ST6",
          "ST6",
          "ST6",
          "ST6",
          "ST6",
          "ST6",
          "ST6",
          "ST6",
          "ST6"
         ],
         "x0": " ",
         "xaxis": "x",
         "y": {
          "bdata": "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",
          "dtype": "f8"
         },
         "y0": " ",
         "yaxis": "y"
        }
       ],
       "layout": {
        "boxmode": "group",
        "height": 500,
        "legend": {
         "title": {
          "text": "CmR"
         },
         "tracegroupgap": 0
        },
        "margin": {
         "t": 60
        },
        "template": {
         "data": {
          "bar": [
           {
            "error_x": {
             "color": "rgb(36,36,36)"
            },
            "error_y": {
             "color": "rgb(36,36,36)"
            },
            "marker": {
             "line": {
              "color": "white",
              "width": 0.5
             },
             "pattern": {
              "fillmode": "overlay",
              "size": 10,
              "solidity": 0.2
             }
            },
            "type": "bar"
           }
          ],
          "barpolar": [
           {
            "marker": {
             "line": {
              "color": "white",
              "width": 0.5
             },
             "pattern": {
              "fillmode": "overlay",
              "size": 10,
              "solidity": 0.2
             }
            },
            "type": "barpolar"
           }
          ],
          "carpet": [
           {
            "aaxis": {
             "endlinecolor": "rgb(36,36,36)",
             "gridcolor": "white",
             "linecolor": "white",
             "minorgridcolor": "white",
             "startlinecolor": "rgb(36,36,36)"
            },
            "baxis": {
             "endlinecolor": "rgb(36,36,36)",
             "gridcolor": "white",
             "linecolor": "white",
             "minorgridcolor": "white",
             "startlinecolor": "rgb(36,36,36)"
            },
            "type": "carpet"
           }
          ],
          "choropleth": [
           {
            "colorbar": {
             "outlinewidth": 1,
             "tickcolor": "rgb(36,36,36)",
             "ticks": "outside"
            },
            "type": "choropleth"
           }
          ],
          "contour": [
           {
            "colorbar": {
             "outlinewidth": 1,
             "tickcolor": "rgb(36,36,36)",
             "ticks": "outside"
            },
            "colorscale": [
             [
              0,
              "#440154"
             ],
             [
              0.1111111111111111,
              "#482878"
             ],
             [
              0.2222222222222222,
              "#3e4989"
             ],
             [
              0.3333333333333333,
              "#31688e"
             ],
             [
              0.4444444444444444,
              "#26828e"
             ],
             [
              0.5555555555555556,
              "#1f9e89"
             ],
             [
              0.6666666666666666,
              "#35b779"
             ],
             [
              0.7777777777777778,
              "#6ece58"
             ],
             [
              0.8888888888888888,
              "#b5de2b"
             ],
             [
              1,
              "#fde725"
             ]
            ],
            "type": "contour"
           }
          ],
          "contourcarpet": [
           {
            "colorbar": {
             "outlinewidth": 1,
             "tickcolor": "rgb(36,36,36)",
             "ticks": "outside"
            },
            "type": "contourcarpet"
           }
          ],
          "heatmap": [
           {
            "colorbar": {
             "outlinewidth": 1,
             "tickcolor": "rgb(36,36,36)",
             "ticks": "outside"
            },
            "colorscale": [
             [
              0,
              "#440154"
             ],
             [
              0.1111111111111111,
              "#482878"
             ],
             [
              0.2222222222222222,
              "#3e4989"
             ],
             [
              0.3333333333333333,
              "#31688e"
             ],
             [
              0.4444444444444444,
              "#26828e"
             ],
             [
              0.5555555555555556,
              "#1f9e89"
             ],
             [
              0.6666666666666666,
              "#35b779"
             ],
             [
              0.7777777777777778,
              "#6ece58"
             ],
             [
              0.8888888888888888,
              "#b5de2b"
             ],
             [
              1,
              "#fde725"
             ]
            ],
            "type": "heatmap"
           }
          ],
          "histogram": [
           {
            "marker": {
             "line": {
              "color": "white",
              "width": 0.6
             }
            },
            "type": "histogram"
           }
          ],
          "histogram2d": [
           {
            "colorbar": {
             "outlinewidth": 1,
             "tickcolor": "rgb(36,36,36)",
             "ticks": "outside"
            },
            "colorscale": [
             [
              0,
              "#440154"
             ],
             [
              0.1111111111111111,
              "#482878"
             ],
             [
              0.2222222222222222,
              "#3e4989"
             ],
             [
              0.3333333333333333,
              "#31688e"
             ],
             [
              0.4444444444444444,
              "#26828e"
             ],
             [
              0.5555555555555556,
              "#1f9e89"
             ],
             [
              0.6666666666666666,
              "#35b779"
             ],
             [
              0.7777777777777778,
              "#6ece58"
             ],
             [
              0.8888888888888888,
              "#b5de2b"
             ],
             [
              1,
              "#fde725"
             ]
            ],
            "type": "histogram2d"
           }
          ],
          "histogram2dcontour": [
           {
            "colorbar": {
             "outlinewidth": 1,
             "tickcolor": "rgb(36,36,36)",
             "ticks": "outside"
            },
            "colorscale": [
             [
              0,
              "#440154"
             ],
             [
              0.1111111111111111,
              "#482878"
             ],
             [
              0.2222222222222222,
              "#3e4989"
             ],
             [
              0.3333333333333333,
              "#31688e"
             ],
             [
              0.4444444444444444,
              "#26828e"
             ],
             [
              0.5555555555555556,
              "#1f9e89"
             ],
             [
              0.6666666666666666,
              "#35b779"
             ],
             [
              0.7777777777777778,
              "#6ece58"
             ],
             [
              0.8888888888888888,
              "#b5de2b"
             ],
             [
              1,
              "#fde725"
             ]
            ],
            "type": "histogram2dcontour"
           }
          ],
          "mesh3d": [
           {
            "colorbar": {
             "outlinewidth": 1,
             "tickcolor": "rgb(36,36,36)",
             "ticks": "outside"
            },
            "type": "mesh3d"
           }
          ],
          "parcoords": [
           {
            "line": {
             "colorbar": {
              "outlinewidth": 1,
              "tickcolor": "rgb(36,36,36)",
              "ticks": "outside"
             }
            },
            "type": "parcoords"
           }
          ],
          "pie": [
           {
            "automargin": true,
            "type": "pie"
           }
          ],
          "scatter": [
           {
            "fillpattern": {
             "fillmode": "overlay",
             "size": 10,
             "solidity": 0.2
            },
            "type": "scatter"
           }
          ],
          "scatter3d": [
           {
            "line": {
             "colorbar": {
              "outlinewidth": 1,
              "tickcolor": "rgb(36,36,36)",
              "ticks": "outside"
             }
            },
            "marker": {
             "colorbar": {
              "outlinewidth": 1,
              "tickcolor": "rgb(36,36,36)",
              "ticks": "outside"
             }
            },
            "type": "scatter3d"
           }
          ],
          "scattercarpet": [
           {
            "marker": {
             "colorbar": {
              "outlinewidth": 1,
              "tickcolor": "rgb(36,36,36)",
              "ticks": "outside"
             }
            },
            "type": "scattercarpet"
           }
          ],
          "scattergeo": [
           {
            "marker": {
             "colorbar": {
              "outlinewidth": 1,
              "tickcolor": "rgb(36,36,36)",
              "ticks": "outside"
             }
            },
            "type": "scattergeo"
           }
          ],
          "scattergl": [
           {
            "marker": {
             "colorbar": {
              "outlinewidth": 1,
              "tickcolor": "rgb(36,36,36)",
              "ticks": "outside"
             }
            },
            "type": "scattergl"
           }
          ],
          "scattermap": [
           {
            "marker": {
             "colorbar": {
              "outlinewidth": 1,
              "tickcolor": "rgb(36,36,36)",
              "ticks": "outside"
             }
            },
            "type": "scattermap"
           }
          ],
          "scattermapbox": [
           {
            "marker": {
             "colorbar": {
              "outlinewidth": 1,
              "tickcolor": "rgb(36,36,36)",
              "ticks": "outside"
             }
            },
            "type": "scattermapbox"
           }
          ],
          "scatterpolar": [
           {
            "marker": {
             "colorbar": {
              "outlinewidth": 1,
              "tickcolor": "rgb(36,36,36)",
              "ticks": "outside"
             }
            },
            "type": "scatterpolar"
           }
          ],
          "scatterpolargl": [
           {
            "marker": {
             "colorbar": {
              "outlinewidth": 1,
              "tickcolor": "rgb(36,36,36)",
              "ticks": "outside"
             }
            },
            "type": "scatterpolargl"
           }
          ],
          "scatterternary": [
           {
            "marker": {
             "colorbar": {
              "outlinewidth": 1,
              "tickcolor": "rgb(36,36,36)",
              "ticks": "outside"
             }
            },
            "type": "scatterternary"
           }
          ],
          "surface": [
           {
            "colorbar": {
             "outlinewidth": 1,
             "tickcolor": "rgb(36,36,36)",
             "ticks": "outside"
            },
            "colorscale": [
             [
              0,
              "#440154"
             ],
             [
              0.1111111111111111,
              "#482878"
             ],
             [
              0.2222222222222222,
              "#3e4989"
             ],
             [
              0.3333333333333333,
              "#31688e"
             ],
             [
              0.4444444444444444,
              "#26828e"
             ],
             [
              0.5555555555555556,
              "#1f9e89"
             ],
             [
              0.6666666666666666,
              "#35b779"
             ],
             [
              0.7777777777777778,
              "#6ece58"
             ],
             [
              0.8888888888888888,
              "#b5de2b"
             ],
             [
              1,
              "#fde725"
             ]
            ],
            "type": "surface"
           }
          ],
          "table": [
           {
            "cells": {
             "fill": {
              "color": "rgb(237,237,237)"
             },
             "line": {
              "color": "white"
             }
            },
            "header": {
             "fill": {
              "color": "rgb(217,217,217)"
             },
             "line": {
              "color": "white"
             }
            },
            "type": "table"
           }
          ]
         },
         "layout": {
          "annotationdefaults": {
           "arrowhead": 0,
           "arrowwidth": 1
          },
          "autotypenumbers": "strict",
          "coloraxis": {
           "colorbar": {
            "outlinewidth": 1,
            "tickcolor": "rgb(36,36,36)",
            "ticks": "outside"
           }
          },
          "colorscale": {
           "diverging": [
            [
             0,
             "rgb(103,0,31)"
            ],
            [
             0.1,
             "rgb(178,24,43)"
            ],
            [
             0.2,
             "rgb(214,96,77)"
            ],
            [
             0.3,
             "rgb(244,165,130)"
            ],
            [
             0.4,
             "rgb(253,219,199)"
            ],
            [
             0.5,
             "rgb(247,247,247)"
            ],
            [
             0.6,
             "rgb(209,229,240)"
            ],
            [
             0.7,
             "rgb(146,197,222)"
            ],
            [
             0.8,
             "rgb(67,147,195)"
            ],
            [
             0.9,
             "rgb(33,102,172)"
            ],
            [
             1,
             "rgb(5,48,97)"
            ]
           ],
           "sequential": [
            [
             0,
             "#440154"
            ],
            [
             0.1111111111111111,
             "#482878"
            ],
            [
             0.2222222222222222,
             "#3e4989"
            ],
            [
             0.3333333333333333,
             "#31688e"
            ],
            [
             0.4444444444444444,
             "#26828e"
            ],
            [
             0.5555555555555556,
             "#1f9e89"
            ],
            [
             0.6666666666666666,
             "#35b779"
            ],
            [
             0.7777777777777778,
             "#6ece58"
            ],
            [
             0.8888888888888888,
             "#b5de2b"
            ],
            [
             1,
             "#fde725"
            ]
           ],
           "sequentialminus": [
            [
             0,
             "#440154"
            ],
            [
             0.1111111111111111,
             "#482878"
            ],
            [
             0.2222222222222222,
             "#3e4989"
            ],
            [
             0.3333333333333333,
             "#31688e"
            ],
            [
             0.4444444444444444,
             "#26828e"
            ],
            [
             0.5555555555555556,
             "#1f9e89"
            ],
            [
             0.6666666666666666,
             "#35b779"
            ],
            [
             0.7777777777777778,
             "#6ece58"
            ],
            [
             0.8888888888888888,
             "#b5de2b"
            ],
            [
             1,
             "#fde725"
            ]
           ]
          },
          "colorway": [
           "#1F77B4",
           "#FF7F0E",
           "#2CA02C",
           "#D62728",
           "#9467BD",
           "#8C564B",
           "#E377C2",
           "#7F7F7F",
           "#BCBD22",
           "#17BECF"
          ],
          "font": {
           "color": "rgb(36,36,36)"
          },
          "geo": {
           "bgcolor": "white",
           "lakecolor": "white",
           "landcolor": "white",
           "showlakes": true,
           "showland": true,
           "subunitcolor": "white"
          },
          "hoverlabel": {
           "align": "left"
          },
          "hovermode": "closest",
          "mapbox": {
           "style": "light"
          },
          "paper_bgcolor": "white",
          "plot_bgcolor": "white",
          "polar": {
           "angularaxis": {
            "gridcolor": "rgb(232,232,232)",
            "linecolor": "rgb(36,36,36)",
            "showgrid": false,
            "showline": true,
            "ticks": "outside"
           },
           "bgcolor": "white",
           "radialaxis": {
            "gridcolor": "rgb(232,232,232)",
            "linecolor": "rgb(36,36,36)",
            "showgrid": false,
            "showline": true,
            "ticks": "outside"
           }
          },
          "scene": {
           "xaxis": {
            "backgroundcolor": "white",
            "gridcolor": "rgb(232,232,232)",
            "gridwidth": 2,
            "linecolor": "rgb(36,36,36)",
            "showbackground": true,
            "showgrid": false,
            "showline": true,
            "ticks": "outside",
            "zeroline": false,
            "zerolinecolor": "rgb(36,36,36)"
           },
           "yaxis": {
            "backgroundcolor": "white",
            "gridcolor": "rgb(232,232,232)",
            "gridwidth": 2,
            "linecolor": "rgb(36,36,36)",
            "showbackground": true,
            "showgrid": false,
            "showline": true,
            "ticks": "outside",
            "zeroline": false,
            "zerolinecolor": "rgb(36,36,36)"
           },
           "zaxis": {
            "backgroundcolor": "white",
            "gridcolor": "rgb(232,232,232)",
            "gridwidth": 2,
            "linecolor": "rgb(36,36,36)",
            "showbackground": true,
            "showgrid": false,
            "showline": true,
            "ticks": "outside",
            "zeroline": false,
            "zerolinecolor": "rgb(36,36,36)"
           }
          },
          "shapedefaults": {
           "fillcolor": "black",
           "line": {
            "width": 0
           },
           "opacity": 0.3
          },
          "ternary": {
           "aaxis": {
            "gridcolor": "rgb(232,232,232)",
            "linecolor": "rgb(36,36,36)",
            "showgrid": false,
            "showline": true,
            "ticks": "outside"
           },
           "baxis": {
            "gridcolor": "rgb(232,232,232)",
            "linecolor": "rgb(36,36,36)",
            "showgrid": false,
            "showline": true,
            "ticks": "outside"
           },
           "bgcolor": "white",
           "caxis": {
            "gridcolor": "rgb(232,232,232)",
            "linecolor": "rgb(36,36,36)",
            "showgrid": false,
            "showline": true,
            "ticks": "outside"
           }
          },
          "title": {
           "x": 0.05
          },
          "xaxis": {
           "automargin": true,
           "gridcolor": "rgb(232,232,232)",
           "linecolor": "rgb(36,36,36)",
           "showgrid": false,
           "showline": true,
           "ticks": "outside",
           "title": {
            "standoff": 15
           },
           "zeroline": false,
           "zerolinecolor": "rgb(36,36,36)"
          },
          "yaxis": {
           "automargin": true,
           "gridcolor": "rgb(232,232,232)",
           "linecolor": "rgb(36,36,36)",
           "showgrid": false,
           "showline": true,
           "ticks": "outside",
           "title": {
            "standoff": 15
           },
           "zeroline": false,
           "zerolinecolor": "rgb(36,36,36)"
          }
         }
        },
        "width": 700,
        "xaxis": {
         "anchor": "y",
         "domain": [
          0,
          1
         ],
         "title": {
          "text": "strain"
         }
        },
        "yaxis": {
         "anchor": "x",
         "domain": [
          0,
          1
         ],
         "title": {
          "text": "Ns"
         },
         "type": "log"
        }
       }
      }
     },
     "metadata": {},
     "output_type": "display_data"
    },
    {
     "name": "stdout",
     "output_type": "stream",
     "text": [
      "ST1\n",
      "comparison: CmR 20 vs NA\n",
      "statistic: -28.686459111978248\n",
      "p_value: 3.409664224470537e-43\n",
      "significant: True\n",
      "ST2\n",
      "comparison: CmR 20 vs NA\n",
      "statistic: -1.0199741951254302\n",
      "p_value: 0.3108939262364204\n",
      "significant: False\n",
      "ST4\n",
      "comparison: CmR 20 vs NA\n",
      "statistic: 10.482506346972663\n",
      "p_value: 1.5041411142191768e-16\n",
      "significant: True\n",
      "ST5\n",
      "comparison: CmR 20 vs NA\n",
      "statistic: -5.255220224808519\n",
      "p_value: 1.251979945510771e-06\n",
      "significant: True\n",
      "ST6\n",
      "comparison: CmR 20 vs NA\n",
      "statistic: -9.204819357557778\n",
      "p_value: 4.32454253833657e-14\n",
      "significant: True\n"
     ]
    }
   ],
   "source": [
    "df_merge = df_merge.sort_values(['strain', 'CmR'],ascending=True)\n",
    "df_plot = df_merge.loc[(df_merge['Inoculation']=='barcodes')|(df_merge['Inoculation_2']=='barcodes')]\n",
    "fig = px.box(df_plot,\n",
    "                x = 'strain', \n",
    "                y = 'Ns',\n",
    "                color = 'CmR',\n",
    "                points = 'all',\n",
    "                log_y=True,\n",
    "                template = 'simple_white',\n",
    "                hover_data=['sample_id'],width = 700,\n",
    "                height = 500,\n",
    "                )\n",
    "fig.show()\n",
    "\n",
    "def compare_groups_ttest(df, grouping_col, response_col):\n",
    "    \"\"\"\n",
    "    Two-sample t-test for comparing two groups\n",
    "    \"\"\"\n",
    "    groups = df[grouping_col].unique()\n",
    "    \n",
    "    if len(groups) == 2:\n",
    "        group1 = df[df[grouping_col] == groups[0]][response_col].dropna()\n",
    "        group2 = df[df[grouping_col] == groups[1]][response_col].dropna()\n",
    "        \n",
    "        # Perform t-test\n",
    "        statistic, p_value = stats.ttest_ind(group1, group2)\n",
    "        \n",
    "        return {\n",
    "            'comparison': f'{groups[0]} vs {groups[1]}',\n",
    "            'statistic': statistic,\n",
    "            'p_value': p_value,\n",
    "            'significant': p_value < 0.05\n",
    "        }\n",
    "    elif len(groups) > 2:\n",
    "        # Use ANOVA for >2 groups\n",
    "        group_data = [df[df[grouping_col] == g][response_col].dropna() for g in groups]\n",
    "        statistic, p_value = stats.f_oneway(*group_data)\n",
    "        \n",
    "        return {\n",
    "            'comparison': f'{grouping_col} (ANOVA)',\n",
    "            'statistic': statistic,\n",
    "            'p_value': p_value,\n",
    "            'significant': p_value < 0.05\n",
    "        }\n",
    "\n",
    "# Example usage:\n",
    "for strain in df_plot['strain'].unique():\n",
    "    df_plot = df_plot.sort_values(['CmR'])\n",
    "    print(strain)\n",
    "    result = compare_groups_ttest(df_plot[df_plot['strain']==strain], 'CmR', 'Ns')\n",
    "    \n",
    "    for  entry in result.keys():\n",
    "        print(entry + \": \" + str(result[entry]))"
   ]
  },
  {
   "cell_type": "markdown",
   "id": "acf574b0",
   "metadata": {},
   "source": [
    "## GAM media"
   ]
  },
  {
   "cell_type": "code",
   "execution_count": 105,
   "id": "5cd17107",
   "metadata": {},
   "outputs": [
    {
     "data": {
      "application/vnd.plotly.v1+json": {
       "config": {
        "plotlyServerURL": "https://plotly.com"
       },
       "data": [
        {
         "alignmentgroup": "True",
         "boxpoints": "all",
         "customdata": [
          [
           "G2"
          ],
          [
           "F1"
          ],
          [
           "H5"
          ],
          [
           "E2"
          ],
          [
           "E1"
          ],
          [
           "F3"
          ],
          [
           "G3"
          ],
          [
           "G5"
          ],
          [
           "G1"
          ],
          [
           "H1"
          ],
          [
           "E6"
          ],
          [
           "F2"
          ],
          [
           "F5"
          ],
          [
           "H6"
          ],
          [
           "H3"
          ],
          [
           "F6"
          ],
          [
           "E5"
          ],
          [
           "G6"
          ],
          [
           "H2"
          ],
          [
           "E3"
          ],
          [
           "B1"
          ],
          [
           "D1"
          ],
          [
           "C2"
          ],
          [
           "D5"
          ],
          [
           "D3"
          ],
          [
           "A3"
          ],
          [
           "B3"
          ],
          [
           "B2"
          ],
          [
           "C1"
          ],
          [
           "B5"
          ],
          [
           "A6"
          ],
          [
           "D2"
          ],
          [
           "A5"
          ],
          [
           "B6"
          ],
          [
           "D6"
          ],
          [
           "A2"
          ],
          [
           "A1"
          ],
          [
           "C3"
          ],
          [
           "C5"
          ],
          [
           "C6"
          ],
          [
           "F1"
          ],
          [
           "G6"
          ],
          [
           "E1"
          ],
          [
           "F6"
          ],
          [
           "H5"
          ],
          [
           "H2"
          ],
          [
           "G5"
          ],
          [
           "H1"
          ],
          [
           "E5"
          ],
          [
           "E2"
          ],
          [
           "E3"
          ],
          [
           "G1"
          ],
          [
           "E6"
          ],
          [
           "F5"
          ],
          [
           "G3"
          ],
          [
           "F2"
          ],
          [
           "H3"
          ],
          [
           "G2"
          ],
          [
           "H6"
          ],
          [
           "F3"
          ],
          [
           "A1"
          ],
          [
           "B1"
          ],
          [
           "A3"
          ],
          [
           "A5"
          ],
          [
           "D3"
          ],
          [
           "C3"
          ],
          [
           "B5"
          ],
          [
           "D2"
          ],
          [
           "D6"
          ],
          [
           "C2"
          ],
          [
           "B2"
          ],
          [
           "D5"
          ],
          [
           "B3"
          ],
          [
           "A2"
          ],
          [
           "C6"
          ],
          [
           "B6"
          ],
          [
           "C1"
          ],
          [
           "D1"
          ],
          [
           "A6"
          ],
          [
           "C5"
          ],
          [
           "H1"
          ],
          [
           "G1"
          ],
          [
           "F5"
          ],
          [
           "F1"
          ],
          [
           "H2"
          ],
          [
           "G3"
          ],
          [
           "E6"
          ],
          [
           "E3"
          ],
          [
           "G6"
          ],
          [
           "G2"
          ],
          [
           "E5"
          ],
          [
           "F3"
          ],
          [
           "H5"
          ],
          [
           "E1"
          ],
          [
           "H3"
          ],
          [
           "H6"
          ],
          [
           "F6"
          ],
          [
           "E2"
          ],
          [
           "F2"
          ],
          [
           "G5"
          ],
          [
           "C3"
          ],
          [
           "B3"
          ],
          [
           "C5"
          ],
          [
           "A3"
          ],
          [
           "A2"
          ],
          [
           "A1"
          ],
          [
           "C6"
          ],
          [
           "D3"
          ],
          [
           "D5"
          ],
          [
           "D2"
          ],
          [
           "D1"
          ],
          [
           "B5"
          ],
          [
           "B2"
          ],
          [
           "B6"
          ],
          [
           "C1"
          ],
          [
           "C2"
          ],
          [
           "A5"
          ],
          [
           "A6"
          ],
          [
           "D6"
          ],
          [
           "B1"
          ],
          [
           "G3"
          ],
          [
           "H1"
          ],
          [
           "F5"
          ],
          [
           "E2"
          ],
          [
           "F2"
          ],
          [
           "E5"
          ],
          [
           "E1"
          ],
          [
           "H2"
          ],
          [
           "E6"
          ],
          [
           "G1"
          ],
          [
           "G6"
          ],
          [
           "E3"
          ],
          [
           "H3"
          ],
          [
           "F3"
          ],
          [
           "F6"
          ],
          [
           "F1"
          ],
          [
           "G5"
          ],
          [
           "G2"
          ],
          [
           "H5"
          ],
          [
           "H6"
          ],
          [
           "C3"
          ],
          [
           "A5"
          ],
          [
           "C5"
          ],
          [
           "A2"
          ],
          [
           "B3"
          ],
          [
           "D2"
          ],
          [
           "B2"
          ],
          [
           "A6"
          ],
          [
           "C2"
          ],
          [
           "A1"
          ],
          [
           "A3"
          ],
          [
           "D6"
          ],
          [
           "D5"
          ],
          [
           "C6"
          ],
          [
           "D1"
          ],
          [
           "B6"
          ],
          [
           "B5"
          ],
          [
           "D3"
          ],
          [
           "C1"
          ],
          [
           "B1"
          ],
          [
           "E3"
          ],
          [
           "G2"
          ],
          [
           "H6"
          ],
          [
           "H1"
          ],
          [
           "G1"
          ],
          [
           "E6"
          ],
          [
           "E2"
          ],
          [
           "H5"
          ],
          [
           "E1"
          ],
          [
           "G5"
          ],
          [
           "H2"
          ],
          [
           "F2"
          ],
          [
           "F6"
          ],
          [
           "E5"
          ],
          [
           "F1"
          ],
          [
           "G6"
          ],
          [
           "H3"
          ],
          [
           "G3"
          ],
          [
           "F5"
          ],
          [
           "F3"
          ],
          [
           "A5"
          ],
          [
           "A6"
          ],
          [
           "D3"
          ],
          [
           "B6"
          ],
          [
           "A2"
          ],
          [
           "B5"
          ],
          [
           "D6"
          ],
          [
           "D2"
          ],
          [
           "B2"
          ],
          [
           "C2"
          ],
          [
           "C1"
          ],
          [
           "B3"
          ],
          [
           "B1"
          ],
          [
           "C6"
          ],
          [
           "D5"
          ],
          [
           "C5"
          ],
          [
           "D1"
          ],
          [
           "A3"
          ],
          [
           "C3"
          ],
          [
           "A1"
          ]
         ],
         "hovertemplate": "Media=GAM+<br>strain=%{x}<br>Ns=%{y}<br>sample_id=%{customdata[0]}<extra></extra>",
         "legendgroup": "GAM+",
         "marker": {
          "color": "#1F77B4"
         },
         "name": "GAM+",
         "notched": false,
         "offsetgroup": "GAM+",
         "orientation": "v",
         "showlegend": true,
         "type": "box",
         "x": [
          "ST1",
          "ST1",
          "ST1",
          "ST1",
          "ST1",
          "ST1",
          "ST1",
          "ST1",
          "ST1",
          "ST1",
          "ST1",
          "ST1",
          "ST1",
          "ST1",
          "ST1",
          "ST1",
          "ST1",
          "ST1",
          "ST1",
          "ST1",
          "ST1",
          "ST1",
          "ST1",
          "ST1",
          "ST1",
          "ST1",
          "ST1",
          "ST1",
          "ST1",
          "ST1",
          "ST1",
          "ST1",
          "ST1",
          "ST1",
          "ST1",
          "ST1",
          "ST1",
          "ST1",
          "ST1",
          "ST1",
          "ST2",
          "ST2",
          "ST2",
          "ST2",
          "ST2",
          "ST2",
          "ST2",
          "ST2",
          "ST2",
          "ST2",
          "ST2",
          "ST2",
          "ST2",
          "ST2",
          "ST2",
          "ST2",
          "ST2",
          "ST2",
          "ST2",
          "ST2",
          "ST2",
          "ST2",
          "ST2",
          "ST2",
          "ST2",
          "ST2",
          "ST2",
          "ST2",
          "ST2",
          "ST2",
          "ST2",
          "ST2",
          "ST2",
          "ST2",
          "ST2",
          "ST2",
          "ST2",
          "ST2",
          "ST2",
          "ST2",
          "ST4",
          "ST4",
          "ST4",
          "ST4",
          "ST4",
          "ST4",
          "ST4",
          "ST4",
          "ST4",
          "ST4",
          "ST4",
          "ST4",
          "ST4",
          "ST4",
          "ST4",
          "ST4",
          "ST4",
          "ST4",
          "ST4",
          "ST4",
          "ST4",
          "ST4",
          "ST4",
          "ST4",
          "ST4",
          "ST4",
          "ST4",
          "ST4",
          "ST4",
          "ST4",
          "ST4",
          "ST4",
          "ST4",
          "ST4",
          "ST4",
          "ST4",
          "ST4",
          "ST4",
          "ST4",
          "ST4",
          "ST5",
          "ST5",
          "ST5",
          "ST5",
          "ST5",
          "ST5",
          "ST5",
          "ST5",
          "ST5",
          "ST5",
          "ST5",
          "ST5",
          "ST5",
          "ST5",
          "ST5",
          "ST5",
          "ST5",
          "ST5",
          "ST5",
          "ST5",
          "ST5",
          "ST5",
          "ST5",
          "ST5",
          "ST5",
          "ST5",
          "ST5",
          "ST5",
          "ST5",
          "ST5",
          "ST5",
          "ST5",
          "ST5",
          "ST5",
          "ST5",
          "ST5",
          "ST5",
          "ST5",
          "ST5",
          "ST5",
          "ST6",
          "ST6",
          "ST6",
          "ST6",
          "ST6",
          "ST6",
          "ST6",
          "ST6",
          "ST6",
          "ST6",
          "ST6",
          "ST6",
          "ST6",
          "ST6",
          "ST6",
          "ST6",
          "ST6",
          "ST6",
          "ST6",
          "ST6",
          "ST6",
          "ST6",
          "ST6",
          "ST6",
          "ST6",
          "ST6",
          "ST6",
          "ST6",
          "ST6",
          "ST6",
          "ST6",
          "ST6",
          "ST6",
          "ST6",
          "ST6",
          "ST6",
          "ST6",
          "ST6",
          "ST6",
          "ST6"
         ],
         "x0": " ",
         "xaxis": "x",
         "y": {
          "bdata": "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",
          "dtype": "f8"
         },
         "y0": " ",
         "yaxis": "y"
        },
        {
         "alignmentgroup": "True",
         "boxpoints": "all",
         "customdata": [
          [
           "G8"
          ],
          [
           "G9"
          ],
          [
           "E12"
          ],
          [
           "E7"
          ],
          [
           "F9"
          ],
          [
           "H9"
          ],
          [
           "E8"
          ],
          [
           "H7"
          ],
          [
           "H8"
          ],
          [
           "G11"
          ],
          [
           "F8"
          ],
          [
           "E9"
          ],
          [
           "G12"
          ],
          [
           "H12"
          ],
          [
           "F7"
          ],
          [
           "H11"
          ],
          [
           "F11"
          ],
          [
           "G7"
          ],
          [
           "E11"
          ],
          [
           "F12"
          ],
          [
           "D8"
          ],
          [
           "B9"
          ],
          [
           "A7"
          ],
          [
           "A11"
          ],
          [
           "C8"
          ],
          [
           "C9"
          ],
          [
           "D9"
          ],
          [
           "D7"
          ],
          [
           "A8"
          ],
          [
           "C11"
          ],
          [
           "B11"
          ],
          [
           "B7"
          ],
          [
           "C12"
          ],
          [
           "B8"
          ],
          [
           "A9"
          ],
          [
           "D12"
          ],
          [
           "D11"
          ],
          [
           "A12"
          ],
          [
           "B12"
          ],
          [
           "C7"
          ],
          [
           "G8"
          ],
          [
           "E9"
          ],
          [
           "E8"
          ],
          [
           "F8"
          ],
          [
           "H7"
          ],
          [
           "H9"
          ],
          [
           "F12"
          ],
          [
           "H11"
          ],
          [
           "G9"
          ],
          [
           "H8"
          ],
          [
           "G7"
          ],
          [
           "E11"
          ],
          [
           "E7"
          ],
          [
           "F11"
          ],
          [
           "F7"
          ],
          [
           "H12"
          ],
          [
           "G12"
          ],
          [
           "G11"
          ],
          [
           "E12"
          ],
          [
           "F9"
          ],
          [
           "B7"
          ],
          [
           "B12"
          ],
          [
           "A12"
          ],
          [
           "C8"
          ],
          [
           "A8"
          ],
          [
           "D11"
          ],
          [
           "D7"
          ],
          [
           "D8"
          ],
          [
           "B8"
          ],
          [
           "D12"
          ],
          [
           "C12"
          ],
          [
           "D9"
          ],
          [
           "C11"
          ],
          [
           "A9"
          ],
          [
           "A11"
          ],
          [
           "B11"
          ],
          [
           "B9"
          ],
          [
           "A7"
          ],
          [
           "C7"
          ],
          [
           "C9"
          ],
          [
           "G7"
          ],
          [
           "E9"
          ],
          [
           "H12"
          ],
          [
           "E7"
          ],
          [
           "H11"
          ],
          [
           "H9"
          ],
          [
           "F8"
          ],
          [
           "E11"
          ],
          [
           "G8"
          ],
          [
           "H8"
          ],
          [
           "F12"
          ],
          [
           "F7"
          ],
          [
           "G12"
          ],
          [
           "H7"
          ],
          [
           "G11"
          ],
          [
           "F9"
          ],
          [
           "G9"
          ],
          [
           "E8"
          ],
          [
           "E12"
          ],
          [
           "F11"
          ],
          [
           "B12"
          ],
          [
           "A8"
          ],
          [
           "D11"
          ],
          [
           "C12"
          ],
          [
           "B9"
          ],
          [
           "B8"
          ],
          [
           "A11"
          ],
          [
           "D9"
          ],
          [
           "C7"
          ],
          [
           "A7"
          ],
          [
           "C9"
          ],
          [
           "D8"
          ],
          [
           "A9"
          ],
          [
           "D12"
          ],
          [
           "B7"
          ],
          [
           "D7"
          ],
          [
           "B11"
          ],
          [
           "C8"
          ],
          [
           "A12"
          ],
          [
           "C11"
          ],
          [
           "H9"
          ],
          [
           "G11"
          ],
          [
           "F7"
          ],
          [
           "E11"
          ],
          [
           "G8"
          ],
          [
           "H12"
          ],
          [
           "H7"
          ],
          [
           "G12"
          ],
          [
           "E8"
          ],
          [
           "E7"
          ],
          [
           "E12"
          ],
          [
           "H8"
          ],
          [
           "H11"
          ],
          [
           "E9"
          ],
          [
           "G9"
          ],
          [
           "G7"
          ],
          [
           "F11"
          ],
          [
           "F12"
          ],
          [
           "F9"
          ],
          [
           "F8"
          ],
          [
           "C7"
          ],
          [
           "A8"
          ],
          [
           "C11"
          ],
          [
           "B11"
          ],
          [
           "D9"
          ],
          [
           "B12"
          ],
          [
           "C8"
          ],
          [
           "A9"
          ],
          [
           "B9"
          ],
          [
           "D11"
          ],
          [
           "D8"
          ],
          [
           "D7"
          ],
          [
           "C12"
          ],
          [
           "D12"
          ],
          [
           "A12"
          ],
          [
           "A7"
          ],
          [
           "B8"
          ],
          [
           "A11"
          ],
          [
           "B7"
          ],
          [
           "C9"
          ],
          [
           "F9"
          ],
          [
           "F7"
          ],
          [
           "G11"
          ],
          [
           "G12"
          ],
          [
           "G9"
          ],
          [
           "H12"
          ],
          [
           "F11"
          ],
          [
           "H9"
          ],
          [
           "E11"
          ],
          [
           "F8"
          ],
          [
           "H7"
          ],
          [
           "F12"
          ],
          [
           "E8"
          ],
          [
           "G7"
          ],
          [
           "E9"
          ],
          [
           "G8"
          ],
          [
           "H8"
          ],
          [
           "E7"
          ],
          [
           "H11"
          ],
          [
           "E12"
          ],
          [
           "B8"
          ],
          [
           "B9"
          ],
          [
           "C11"
          ],
          [
           "C8"
          ],
          [
           "D9"
          ],
          [
           "A11"
          ],
          [
           "A8"
          ],
          [
           "A9"
          ],
          [
           "D12"
          ],
          [
           "C9"
          ],
          [
           "D11"
          ],
          [
           "D8"
          ],
          [
           "B11"
          ],
          [
           "B12"
          ],
          [
           "B7"
          ],
          [
           "C12"
          ],
          [
           "A7"
          ],
          [
           "A12"
          ],
          [
           "C7"
          ],
          [
           "D7"
          ]
         ],
         "hovertemplate": "Media=GAM-<br>strain=%{x}<br>Ns=%{y}<br>sample_id=%{customdata[0]}<extra></extra>",
         "legendgroup": "GAM-",
         "marker": {
          "color": "#FF7F0E"
         },
         "name": "GAM-",
         "notched": false,
         "offsetgroup": "GAM-",
         "orientation": "v",
         "showlegend": true,
         "type": "box",
         "x": [
          "ST1",
          "ST1",
          "ST1",
          "ST1",
          "ST1",
          "ST1",
          "ST1",
          "ST1",
          "ST1",
          "ST1",
          "ST1",
          "ST1",
          "ST1",
          "ST1",
          "ST1",
          "ST1",
          "ST1",
          "ST1",
          "ST1",
          "ST1",
          "ST1",
          "ST1",
          "ST1",
          "ST1",
          "ST1",
          "ST1",
          "ST1",
          "ST1",
          "ST1",
          "ST1",
          "ST1",
          "ST1",
          "ST1",
          "ST1",
          "ST1",
          "ST1",
          "ST1",
          "ST1",
          "ST1",
          "ST1",
          "ST2",
          "ST2",
          "ST2",
          "ST2",
          "ST2",
          "ST2",
          "ST2",
          "ST2",
          "ST2",
          "ST2",
          "ST2",
          "ST2",
          "ST2",
          "ST2",
          "ST2",
          "ST2",
          "ST2",
          "ST2",
          "ST2",
          "ST2",
          "ST2",
          "ST2",
          "ST2",
          "ST2",
          "ST2",
          "ST2",
          "ST2",
          "ST2",
          "ST2",
          "ST2",
          "ST2",
          "ST2",
          "ST2",
          "ST2",
          "ST2",
          "ST2",
          "ST2",
          "ST2",
          "ST2",
          "ST2",
          "ST4",
          "ST4",
          "ST4",
          "ST4",
          "ST4",
          "ST4",
          "ST4",
          "ST4",
          "ST4",
          "ST4",
          "ST4",
          "ST4",
          "ST4",
          "ST4",
          "ST4",
          "ST4",
          "ST4",
          "ST4",
          "ST4",
          "ST4",
          "ST4",
          "ST4",
          "ST4",
          "ST4",
          "ST4",
          "ST4",
          "ST4",
          "ST4",
          "ST4",
          "ST4",
          "ST4",
          "ST4",
          "ST4",
          "ST4",
          "ST4",
          "ST4",
          "ST4",
          "ST4",
          "ST4",
          "ST4",
          "ST5",
          "ST5",
          "ST5",
          "ST5",
          "ST5",
          "ST5",
          "ST5",
          "ST5",
          "ST5",
          "ST5",
          "ST5",
          "ST5",
          "ST5",
          "ST5",
          "ST5",
          "ST5",
          "ST5",
          "ST5",
          "ST5",
          "ST5",
          "ST5",
          "ST5",
          "ST5",
          "ST5",
          "ST5",
          "ST5",
          "ST5",
          "ST5",
          "ST5",
          "ST5",
          "ST5",
          "ST5",
          "ST5",
          "ST5",
          "ST5",
          "ST5",
          "ST5",
          "ST5",
          "ST5",
          "ST5",
          "ST6",
          "ST6",
          "ST6",
          "ST6",
          "ST6",
          "ST6",
          "ST6",
          "ST6",
          "ST6",
          "ST6",
          "ST6",
          "ST6",
          "ST6",
          "ST6",
          "ST6",
          "ST6",
          "ST6",
          "ST6",
          "ST6",
          "ST6",
          "ST6",
          "ST6",
          "ST6",
          "ST6",
          "ST6",
          "ST6",
          "ST6",
          "ST6",
          "ST6",
          "ST6",
          "ST6",
          "ST6",
          "ST6",
          "ST6",
          "ST6",
          "ST6",
          "ST6",
          "ST6",
          "ST6",
          "ST6"
         ],
         "x0": " ",
         "xaxis": "x",
         "y": {
          "bdata": "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",
          "dtype": "f8"
         },
         "y0": " ",
         "yaxis": "y"
        }
       ],
       "layout": {
        "boxmode": "group",
        "height": 500,
        "legend": {
         "title": {
          "text": "Media"
         },
         "tracegroupgap": 0
        },
        "margin": {
         "t": 60
        },
        "template": {
         "data": {
          "bar": [
           {
            "error_x": {
             "color": "rgb(36,36,36)"
            },
            "error_y": {
             "color": "rgb(36,36,36)"
            },
            "marker": {
             "line": {
              "color": "white",
              "width": 0.5
             },
             "pattern": {
              "fillmode": "overlay",
              "size": 10,
              "solidity": 0.2
             }
            },
            "type": "bar"
           }
          ],
          "barpolar": [
           {
            "marker": {
             "line": {
              "color": "white",
              "width": 0.5
             },
             "pattern": {
              "fillmode": "overlay",
              "size": 10,
              "solidity": 0.2
             }
            },
            "type": "barpolar"
           }
          ],
          "carpet": [
           {
            "aaxis": {
             "endlinecolor": "rgb(36,36,36)",
             "gridcolor": "white",
             "linecolor": "white",
             "minorgridcolor": "white",
             "startlinecolor": "rgb(36,36,36)"
            },
            "baxis": {
             "endlinecolor": "rgb(36,36,36)",
             "gridcolor": "white",
             "linecolor": "white",
             "minorgridcolor": "white",
             "startlinecolor": "rgb(36,36,36)"
            },
            "type": "carpet"
           }
          ],
          "choropleth": [
           {
            "colorbar": {
             "outlinewidth": 1,
             "tickcolor": "rgb(36,36,36)",
             "ticks": "outside"
            },
            "type": "choropleth"
           }
          ],
          "contour": [
           {
            "colorbar": {
             "outlinewidth": 1,
             "tickcolor": "rgb(36,36,36)",
             "ticks": "outside"
            },
            "colorscale": [
             [
              0,
              "#440154"
             ],
             [
              0.1111111111111111,
              "#482878"
             ],
             [
              0.2222222222222222,
              "#3e4989"
             ],
             [
              0.3333333333333333,
              "#31688e"
             ],
             [
              0.4444444444444444,
              "#26828e"
             ],
             [
              0.5555555555555556,
              "#1f9e89"
             ],
             [
              0.6666666666666666,
              "#35b779"
             ],
             [
              0.7777777777777778,
              "#6ece58"
             ],
             [
              0.8888888888888888,
              "#b5de2b"
             ],
             [
              1,
              "#fde725"
             ]
            ],
            "type": "contour"
           }
          ],
          "contourcarpet": [
           {
            "colorbar": {
             "outlinewidth": 1,
             "tickcolor": "rgb(36,36,36)",
             "ticks": "outside"
            },
            "type": "contourcarpet"
           }
          ],
          "heatmap": [
           {
            "colorbar": {
             "outlinewidth": 1,
             "tickcolor": "rgb(36,36,36)",
             "ticks": "outside"
            },
            "colorscale": [
             [
              0,
              "#440154"
             ],
             [
              0.1111111111111111,
              "#482878"
             ],
             [
              0.2222222222222222,
              "#3e4989"
             ],
             [
              0.3333333333333333,
              "#31688e"
             ],
             [
              0.4444444444444444,
              "#26828e"
             ],
             [
              0.5555555555555556,
              "#1f9e89"
             ],
             [
              0.6666666666666666,
              "#35b779"
             ],
             [
              0.7777777777777778,
              "#6ece58"
             ],
             [
              0.8888888888888888,
              "#b5de2b"
             ],
             [
              1,
              "#fde725"
             ]
            ],
            "type": "heatmap"
           }
          ],
          "histogram": [
           {
            "marker": {
             "line": {
              "color": "white",
              "width": 0.6
             }
            },
            "type": "histogram"
           }
          ],
          "histogram2d": [
           {
            "colorbar": {
             "outlinewidth": 1,
             "tickcolor": "rgb(36,36,36)",
             "ticks": "outside"
            },
            "colorscale": [
             [
              0,
              "#440154"
             ],
             [
              0.1111111111111111,
              "#482878"
             ],
             [
              0.2222222222222222,
              "#3e4989"
             ],
             [
              0.3333333333333333,
              "#31688e"
             ],
             [
              0.4444444444444444,
              "#26828e"
             ],
             [
              0.5555555555555556,
              "#1f9e89"
             ],
             [
              0.6666666666666666,
              "#35b779"
             ],
             [
              0.7777777777777778,
              "#6ece58"
             ],
             [
              0.8888888888888888,
              "#b5de2b"
             ],
             [
              1,
              "#fde725"
             ]
            ],
            "type": "histogram2d"
           }
          ],
          "histogram2dcontour": [
           {
            "colorbar": {
             "outlinewidth": 1,
             "tickcolor": "rgb(36,36,36)",
             "ticks": "outside"
            },
            "colorscale": [
             [
              0,
              "#440154"
             ],
             [
              0.1111111111111111,
              "#482878"
             ],
             [
              0.2222222222222222,
              "#3e4989"
             ],
             [
              0.3333333333333333,
              "#31688e"
             ],
             [
              0.4444444444444444,
              "#26828e"
             ],
             [
              0.5555555555555556,
              "#1f9e89"
             ],
             [
              0.6666666666666666,
              "#35b779"
             ],
             [
              0.7777777777777778,
              "#6ece58"
             ],
             [
              0.8888888888888888,
              "#b5de2b"
             ],
             [
              1,
              "#fde725"
             ]
            ],
            "type": "histogram2dcontour"
           }
          ],
          "mesh3d": [
           {
            "colorbar": {
             "outlinewidth": 1,
             "tickcolor": "rgb(36,36,36)",
             "ticks": "outside"
            },
            "type": "mesh3d"
           }
          ],
          "parcoords": [
           {
            "line": {
             "colorbar": {
              "outlinewidth": 1,
              "tickcolor": "rgb(36,36,36)",
              "ticks": "outside"
             }
            },
            "type": "parcoords"
           }
          ],
          "pie": [
           {
            "automargin": true,
            "type": "pie"
           }
          ],
          "scatter": [
           {
            "fillpattern": {
             "fillmode": "overlay",
             "size": 10,
             "solidity": 0.2
            },
            "type": "scatter"
           }
          ],
          "scatter3d": [
           {
            "line": {
             "colorbar": {
              "outlinewidth": 1,
              "tickcolor": "rgb(36,36,36)",
              "ticks": "outside"
             }
            },
            "marker": {
             "colorbar": {
              "outlinewidth": 1,
              "tickcolor": "rgb(36,36,36)",
              "ticks": "outside"
             }
            },
            "type": "scatter3d"
           }
          ],
          "scattercarpet": [
           {
            "marker": {
             "colorbar": {
              "outlinewidth": 1,
              "tickcolor": "rgb(36,36,36)",
              "ticks": "outside"
             }
            },
            "type": "scattercarpet"
           }
          ],
          "scattergeo": [
           {
            "marker": {
             "colorbar": {
              "outlinewidth": 1,
              "tickcolor": "rgb(36,36,36)",
              "ticks": "outside"
             }
            },
            "type": "scattergeo"
           }
          ],
          "scattergl": [
           {
            "marker": {
             "colorbar": {
              "outlinewidth": 1,
              "tickcolor": "rgb(36,36,36)",
              "ticks": "outside"
             }
            },
            "type": "scattergl"
           }
          ],
          "scattermap": [
           {
            "marker": {
             "colorbar": {
              "outlinewidth": 1,
              "tickcolor": "rgb(36,36,36)",
              "ticks": "outside"
             }
            },
            "type": "scattermap"
           }
          ],
          "scattermapbox": [
           {
            "marker": {
             "colorbar": {
              "outlinewidth": 1,
              "tickcolor": "rgb(36,36,36)",
              "ticks": "outside"
             }
            },
            "type": "scattermapbox"
           }
          ],
          "scatterpolar": [
           {
            "marker": {
             "colorbar": {
              "outlinewidth": 1,
              "tickcolor": "rgb(36,36,36)",
              "ticks": "outside"
             }
            },
            "type": "scatterpolar"
           }
          ],
          "scatterpolargl": [
           {
            "marker": {
             "colorbar": {
              "outlinewidth": 1,
              "tickcolor": "rgb(36,36,36)",
              "ticks": "outside"
             }
            },
            "type": "scatterpolargl"
           }
          ],
          "scatterternary": [
           {
            "marker": {
             "colorbar": {
              "outlinewidth": 1,
              "tickcolor": "rgb(36,36,36)",
              "ticks": "outside"
             }
            },
            "type": "scatterternary"
           }
          ],
          "surface": [
           {
            "colorbar": {
             "outlinewidth": 1,
             "tickcolor": "rgb(36,36,36)",
             "ticks": "outside"
            },
            "colorscale": [
             [
              0,
              "#440154"
             ],
             [
              0.1111111111111111,
              "#482878"
             ],
             [
              0.2222222222222222,
              "#3e4989"
             ],
             [
              0.3333333333333333,
              "#31688e"
             ],
             [
              0.4444444444444444,
              "#26828e"
             ],
             [
              0.5555555555555556,
              "#1f9e89"
             ],
             [
              0.6666666666666666,
              "#35b779"
             ],
             [
              0.7777777777777778,
              "#6ece58"
             ],
             [
              0.8888888888888888,
              "#b5de2b"
             ],
             [
              1,
              "#fde725"
             ]
            ],
            "type": "surface"
           }
          ],
          "table": [
           {
            "cells": {
             "fill": {
              "color": "rgb(237,237,237)"
             },
             "line": {
              "color": "white"
             }
            },
            "header": {
             "fill": {
              "color": "rgb(217,217,217)"
             },
             "line": {
              "color": "white"
             }
            },
            "type": "table"
           }
          ]
         },
         "layout": {
          "annotationdefaults": {
           "arrowhead": 0,
           "arrowwidth": 1
          },
          "autotypenumbers": "strict",
          "coloraxis": {
           "colorbar": {
            "outlinewidth": 1,
            "tickcolor": "rgb(36,36,36)",
            "ticks": "outside"
           }
          },
          "colorscale": {
           "diverging": [
            [
             0,
             "rgb(103,0,31)"
            ],
            [
             0.1,
             "rgb(178,24,43)"
            ],
            [
             0.2,
             "rgb(214,96,77)"
            ],
            [
             0.3,
             "rgb(244,165,130)"
            ],
            [
             0.4,
             "rgb(253,219,199)"
            ],
            [
             0.5,
             "rgb(247,247,247)"
            ],
            [
             0.6,
             "rgb(209,229,240)"
            ],
            [
             0.7,
             "rgb(146,197,222)"
            ],
            [
             0.8,
             "rgb(67,147,195)"
            ],
            [
             0.9,
             "rgb(33,102,172)"
            ],
            [
             1,
             "rgb(5,48,97)"
            ]
           ],
           "sequential": [
            [
             0,
             "#440154"
            ],
            [
             0.1111111111111111,
             "#482878"
            ],
            [
             0.2222222222222222,
             "#3e4989"
            ],
            [
             0.3333333333333333,
             "#31688e"
            ],
            [
             0.4444444444444444,
             "#26828e"
            ],
            [
             0.5555555555555556,
             "#1f9e89"
            ],
            [
             0.6666666666666666,
             "#35b779"
            ],
            [
             0.7777777777777778,
             "#6ece58"
            ],
            [
             0.8888888888888888,
             "#b5de2b"
            ],
            [
             1,
             "#fde725"
            ]
           ],
           "sequentialminus": [
            [
             0,
             "#440154"
            ],
            [
             0.1111111111111111,
             "#482878"
            ],
            [
             0.2222222222222222,
             "#3e4989"
            ],
            [
             0.3333333333333333,
             "#31688e"
            ],
            [
             0.4444444444444444,
             "#26828e"
            ],
            [
             0.5555555555555556,
             "#1f9e89"
            ],
            [
             0.6666666666666666,
             "#35b779"
            ],
            [
             0.7777777777777778,
             "#6ece58"
            ],
            [
             0.8888888888888888,
             "#b5de2b"
            ],
            [
             1,
             "#fde725"
            ]
           ]
          },
          "colorway": [
           "#1F77B4",
           "#FF7F0E",
           "#2CA02C",
           "#D62728",
           "#9467BD",
           "#8C564B",
           "#E377C2",
           "#7F7F7F",
           "#BCBD22",
           "#17BECF"
          ],
          "font": {
           "color": "rgb(36,36,36)"
          },
          "geo": {
           "bgcolor": "white",
           "lakecolor": "white",
           "landcolor": "white",
           "showlakes": true,
           "showland": true,
           "subunitcolor": "white"
          },
          "hoverlabel": {
           "align": "left"
          },
          "hovermode": "closest",
          "mapbox": {
           "style": "light"
          },
          "paper_bgcolor": "white",
          "plot_bgcolor": "white",
          "polar": {
           "angularaxis": {
            "gridcolor": "rgb(232,232,232)",
            "linecolor": "rgb(36,36,36)",
            "showgrid": false,
            "showline": true,
            "ticks": "outside"
           },
           "bgcolor": "white",
           "radialaxis": {
            "gridcolor": "rgb(232,232,232)",
            "linecolor": "rgb(36,36,36)",
            "showgrid": false,
            "showline": true,
            "ticks": "outside"
           }
          },
          "scene": {
           "xaxis": {
            "backgroundcolor": "white",
            "gridcolor": "rgb(232,232,232)",
            "gridwidth": 2,
            "linecolor": "rgb(36,36,36)",
            "showbackground": true,
            "showgrid": false,
            "showline": true,
            "ticks": "outside",
            "zeroline": false,
            "zerolinecolor": "rgb(36,36,36)"
           },
           "yaxis": {
            "backgroundcolor": "white",
            "gridcolor": "rgb(232,232,232)",
            "gridwidth": 2,
            "linecolor": "rgb(36,36,36)",
            "showbackground": true,
            "showgrid": false,
            "showline": true,
            "ticks": "outside",
            "zeroline": false,
            "zerolinecolor": "rgb(36,36,36)"
           },
           "zaxis": {
            "backgroundcolor": "white",
            "gridcolor": "rgb(232,232,232)",
            "gridwidth": 2,
            "linecolor": "rgb(36,36,36)",
            "showbackground": true,
            "showgrid": false,
            "showline": true,
            "ticks": "outside",
            "zeroline": false,
            "zerolinecolor": "rgb(36,36,36)"
           }
          },
          "shapedefaults": {
           "fillcolor": "black",
           "line": {
            "width": 0
           },
           "opacity": 0.3
          },
          "ternary": {
           "aaxis": {
            "gridcolor": "rgb(232,232,232)",
            "linecolor": "rgb(36,36,36)",
            "showgrid": false,
            "showline": true,
            "ticks": "outside"
           },
           "baxis": {
            "gridcolor": "rgb(232,232,232)",
            "linecolor": "rgb(36,36,36)",
            "showgrid": false,
            "showline": true,
            "ticks": "outside"
           },
           "bgcolor": "white",
           "caxis": {
            "gridcolor": "rgb(232,232,232)",
            "linecolor": "rgb(36,36,36)",
            "showgrid": false,
            "showline": true,
            "ticks": "outside"
           }
          },
          "title": {
           "x": 0.05
          },
          "xaxis": {
           "automargin": true,
           "gridcolor": "rgb(232,232,232)",
           "linecolor": "rgb(36,36,36)",
           "showgrid": false,
           "showline": true,
           "ticks": "outside",
           "title": {
            "standoff": 15
           },
           "zeroline": false,
           "zerolinecolor": "rgb(36,36,36)"
          },
          "yaxis": {
           "automargin": true,
           "gridcolor": "rgb(232,232,232)",
           "linecolor": "rgb(36,36,36)",
           "showgrid": false,
           "showline": true,
           "ticks": "outside",
           "title": {
            "standoff": 15
           },
           "zeroline": false,
           "zerolinecolor": "rgb(36,36,36)"
          }
         }
        },
        "width": 700,
        "xaxis": {
         "anchor": "y",
         "domain": [
          0,
          1
         ],
         "title": {
          "text": "strain"
         }
        },
        "yaxis": {
         "anchor": "x",
         "domain": [
          0,
          1
         ],
         "title": {
          "text": "Ns"
         },
         "type": "log"
        }
       }
      }
     },
     "metadata": {},
     "output_type": "display_data"
    },
    {
     "name": "stdout",
     "output_type": "stream",
     "text": [
      "ST1\n",
      "comparison: GAM+ vs GAM-\n",
      "statistic: -0.44774713857297954\n",
      "p_value: 0.6555767946572938\n",
      "significant: False\n",
      "ST2\n",
      "comparison: GAM+ vs GAM-\n",
      "statistic: -4.160227589033374\n",
      "p_value: 8.107893015830818e-05\n",
      "significant: True\n",
      "ST4\n",
      "comparison: GAM+ vs GAM-\n",
      "statistic: 0.10508295720927287\n",
      "p_value: 0.9165797419182531\n",
      "significant: False\n",
      "ST5\n",
      "comparison: GAM+ vs GAM-\n",
      "statistic: -1.8460571408035673\n",
      "p_value: 0.06867782755410859\n",
      "significant: False\n",
      "ST6\n",
      "comparison: GAM- vs GAM+\n",
      "statistic: -1.5811216374390404\n",
      "p_value: 0.117897050688078\n",
      "significant: False\n"
     ]
    }
   ],
   "source": [
    "df_merge = df_merge.sort_values(['strain', 'CmR'],ascending=True)\n",
    "df_plot = df_merge.loc[(df_merge['Inoculation']=='barcodes')|(df_merge['Inoculation_2']=='barcodes')]\n",
    "fig = px.box(df_plot,\n",
    "                x = 'strain', \n",
    "                y = 'Ns',\n",
    "                color = 'Media',\n",
    "                points = 'all',\n",
    "                log_y=True,\n",
    "                template = 'simple_white',\n",
    "                hover_data=['sample_id'],width = 700,\n",
    "                height = 500,\n",
    "                )\n",
    "fig.show()\n",
    "\n",
    "def compare_groups_ttest(df, grouping_col, response_col):\n",
    "    \"\"\"\n",
    "    Two-sample t-test for comparing two groups\n",
    "    \"\"\"\n",
    "    groups = df[grouping_col].unique()\n",
    "    \n",
    "    if len(groups) == 2:\n",
    "        group1 = df[df[grouping_col] == groups[0]][response_col].dropna()\n",
    "        group2 = df[df[grouping_col] == groups[1]][response_col].dropna()\n",
    "        \n",
    "        # Perform t-test\n",
    "        statistic, p_value = stats.ttest_ind(group1, group2)\n",
    "        \n",
    "        return {\n",
    "            'comparison': f'{groups[0]} vs {groups[1]}',\n",
    "            'statistic': statistic,\n",
    "            'p_value': p_value,\n",
    "            'significant': p_value < 0.05\n",
    "        }\n",
    "    elif len(groups) > 2:\n",
    "        # Use ANOVA for >2 groups\n",
    "        group_data = [df[df[grouping_col] == g][response_col].dropna() for g in groups]\n",
    "        statistic, p_value = stats.f_oneway(*group_data)\n",
    "        \n",
    "        return {\n",
    "            'comparison': f'{grouping_col} (ANOVA)',\n",
    "            'statistic': statistic,\n",
    "            'p_value': p_value,\n",
    "            'significant': p_value < 0.05\n",
    "        }\n",
    "\n",
    "# Example usage:\n",
    "for strain in df_plot['strain'].unique():\n",
    "    df_plot = df_plot.sort_values(['CmR'])\n",
    "    print(strain)\n",
    "    result = compare_groups_ttest(df_plot[df_plot['strain']==strain], 'Media', 'Ns')\n",
    "    \n",
    "    for  entry in result.keys():\n",
    "        print(entry + \": \" + str(result[entry]))"
   ]
  },
  {
   "cell_type": "code",
   "execution_count": 106,
   "id": "48a667ab",
   "metadata": {},
   "outputs": [
    {
     "data": {
      "application/vnd.plotly.v1+json": {
       "config": {
        "plotlyServerURL": "https://plotly.com"
       },
       "data": [
        {
         "alignmentgroup": "True",
         "boxpoints": "all",
         "customdata": [
          [
           "G2"
          ],
          [
           "F1"
          ],
          [
           "E2"
          ],
          [
           "E1"
          ],
          [
           "G8"
          ],
          [
           "F3"
          ],
          [
           "G9"
          ],
          [
           "G3"
          ],
          [
           "E7"
          ],
          [
           "F9"
          ],
          [
           "H9"
          ],
          [
           "E8"
          ],
          [
           "H7"
          ],
          [
           "H8"
          ],
          [
           "F8"
          ],
          [
           "E9"
          ],
          [
           "G1"
          ],
          [
           "H1"
          ],
          [
           "F2"
          ],
          [
           "F7"
          ],
          [
           "H3"
          ],
          [
           "G7"
          ],
          [
           "H2"
          ],
          [
           "E3"
          ],
          [
           "D8"
          ],
          [
           "B1"
          ],
          [
           "B9"
          ],
          [
           "D1"
          ],
          [
           "A7"
          ],
          [
           "C8"
          ],
          [
           "C9"
          ],
          [
           "C2"
          ],
          [
           "D3"
          ],
          [
           "A3"
          ],
          [
           "D9"
          ],
          [
           "B3"
          ],
          [
           "D7"
          ],
          [
           "B2"
          ],
          [
           "C1"
          ],
          [
           "A8"
          ],
          [
           "D2"
          ],
          [
           "B7"
          ],
          [
           "B8"
          ],
          [
           "A9"
          ],
          [
           "A2"
          ],
          [
           "A1"
          ],
          [
           "C3"
          ],
          [
           "C7"
          ],
          [
           "F1"
          ],
          [
           "G8"
          ],
          [
           "E1"
          ],
          [
           "E9"
          ],
          [
           "E8"
          ],
          [
           "F8"
          ],
          [
           "H7"
          ],
          [
           "H9"
          ],
          [
           "H2"
          ],
          [
           "H1"
          ],
          [
           "G9"
          ],
          [
           "H8"
          ],
          [
           "E2"
          ],
          [
           "E3"
          ],
          [
           "G7"
          ],
          [
           "G1"
          ],
          [
           "E7"
          ],
          [
           "G3"
          ],
          [
           "F7"
          ],
          [
           "F2"
          ],
          [
           "H3"
          ],
          [
           "G2"
          ],
          [
           "F3"
          ],
          [
           "F9"
          ],
          [
           "B7"
          ],
          [
           "A1"
          ],
          [
           "B1"
          ],
          [
           "A3"
          ],
          [
           "D3"
          ],
          [
           "C3"
          ],
          [
           "C8"
          ],
          [
           "A8"
          ],
          [
           "D2"
          ],
          [
           "D7"
          ],
          [
           "D8"
          ],
          [
           "C2"
          ],
          [
           "B8"
          ],
          [
           "B2"
          ],
          [
           "B3"
          ],
          [
           "A2"
          ],
          [
           "D9"
          ],
          [
           "C1"
          ],
          [
           "A9"
          ],
          [
           "B9"
          ],
          [
           "A7"
          ],
          [
           "C7"
          ],
          [
           "C9"
          ],
          [
           "D1"
          ],
          [
           "G7"
          ],
          [
           "H1"
          ],
          [
           "G1"
          ],
          [
           "E9"
          ],
          [
           "F1"
          ],
          [
           "H2"
          ],
          [
           "G3"
          ],
          [
           "E7"
          ],
          [
           "H9"
          ],
          [
           "F8"
          ],
          [
           "E3"
          ],
          [
           "G8"
          ],
          [
           "G2"
          ],
          [
           "H8"
          ],
          [
           "F7"
          ],
          [
           "H7"
          ],
          [
           "F3"
          ],
          [
           "E1"
          ],
          [
           "H3"
          ],
          [
           "F9"
          ],
          [
           "G9"
          ],
          [
           "E8"
          ],
          [
           "E2"
          ],
          [
           "F2"
          ],
          [
           "A8"
          ],
          [
           "C3"
          ],
          [
           "B9"
          ],
          [
           "B8"
          ],
          [
           "B3"
          ],
          [
           "A3"
          ],
          [
           "A2"
          ],
          [
           "D9"
          ],
          [
           "A1"
          ],
          [
           "C7"
          ],
          [
           "D3"
          ],
          [
           "A7"
          ],
          [
           "C9"
          ],
          [
           "D8"
          ],
          [
           "A9"
          ],
          [
           "D2"
          ],
          [
           "D1"
          ],
          [
           "B7"
          ],
          [
           "D7"
          ],
          [
           "B2"
          ],
          [
           "C1"
          ],
          [
           "C2"
          ],
          [
           "C8"
          ],
          [
           "B1"
          ],
          [
           "H9"
          ],
          [
           "G3"
          ],
          [
           "F7"
          ],
          [
           "H1"
          ],
          [
           "G8"
          ],
          [
           "H7"
          ],
          [
           "E2"
          ],
          [
           "E8"
          ],
          [
           "F2"
          ],
          [
           "E1"
          ],
          [
           "E7"
          ],
          [
           "H2"
          ],
          [
           "H8"
          ],
          [
           "G1"
          ],
          [
           "E9"
          ],
          [
           "E3"
          ],
          [
           "H3"
          ],
          [
           "G9"
          ],
          [
           "F3"
          ],
          [
           "G7"
          ],
          [
           "F1"
          ],
          [
           "G2"
          ],
          [
           "F9"
          ],
          [
           "F8"
          ],
          [
           "C7"
          ],
          [
           "C3"
          ],
          [
           "A8"
          ],
          [
           "A2"
          ],
          [
           "B3"
          ],
          [
           "D2"
          ],
          [
           "B2"
          ],
          [
           "D9"
          ],
          [
           "C2"
          ],
          [
           "C8"
          ],
          [
           "A1"
          ],
          [
           "A3"
          ],
          [
           "A9"
          ],
          [
           "B9"
          ],
          [
           "D8"
          ],
          [
           "D1"
          ],
          [
           "D7"
          ],
          [
           "D3"
          ],
          [
           "A7"
          ],
          [
           "C1"
          ],
          [
           "B8"
          ],
          [
           "B1"
          ],
          [
           "B7"
          ],
          [
           "C9"
          ],
          [
           "E3"
          ],
          [
           "G2"
          ],
          [
           "H1"
          ],
          [
           "G1"
          ],
          [
           "F9"
          ],
          [
           "F7"
          ],
          [
           "G9"
          ],
          [
           "E2"
          ],
          [
           "E1"
          ],
          [
           "H9"
          ],
          [
           "F8"
          ],
          [
           "H2"
          ],
          [
           "F2"
          ],
          [
           "H7"
          ],
          [
           "E8"
          ],
          [
           "F1"
          ],
          [
           "H3"
          ],
          [
           "G7"
          ],
          [
           "G3"
          ],
          [
           "E9"
          ],
          [
           "G8"
          ],
          [
           "F3"
          ],
          [
           "H8"
          ],
          [
           "E7"
          ],
          [
           "B8"
          ],
          [
           "B9"
          ],
          [
           "C8"
          ],
          [
           "D3"
          ],
          [
           "A2"
          ],
          [
           "D2"
          ],
          [
           "D9"
          ],
          [
           "B2"
          ],
          [
           "C2"
          ],
          [
           "C1"
          ],
          [
           "B3"
          ],
          [
           "A8"
          ],
          [
           "A9"
          ],
          [
           "B1"
          ],
          [
           "C9"
          ],
          [
           "D8"
          ],
          [
           "B7"
          ],
          [
           "A7"
          ],
          [
           "C7"
          ],
          [
           "D7"
          ],
          [
           "D1"
          ],
          [
           "A3"
          ],
          [
           "C3"
          ],
          [
           "A1"
          ]
         ],
         "hovertemplate": "Inoculation=barcodes<br>strain=%{x}<br>Ns=%{y}<br>sample_id=%{customdata[0]}<extra></extra>",
         "legendgroup": "barcodes",
         "marker": {
          "color": "#1F77B4"
         },
         "name": "barcodes",
         "notched": false,
         "offsetgroup": "barcodes",
         "orientation": "v",
         "showlegend": true,
         "type": "box",
         "x": [
          "ST1",
          "ST1",
          "ST1",
          "ST1",
          "ST1",
          "ST1",
          "ST1",
          "ST1",
          "ST1",
          "ST1",
          "ST1",
          "ST1",
          "ST1",
          "ST1",
          "ST1",
          "ST1",
          "ST1",
          "ST1",
          "ST1",
          "ST1",
          "ST1",
          "ST1",
          "ST1",
          "ST1",
          "ST1",
          "ST1",
          "ST1",
          "ST1",
          "ST1",
          "ST1",
          "ST1",
          "ST1",
          "ST1",
          "ST1",
          "ST1",
          "ST1",
          "ST1",
          "ST1",
          "ST1",
          "ST1",
          "ST1",
          "ST1",
          "ST1",
          "ST1",
          "ST1",
          "ST1",
          "ST1",
          "ST1",
          "ST2",
          "ST2",
          "ST2",
          "ST2",
          "ST2",
          "ST2",
          "ST2",
          "ST2",
          "ST2",
          "ST2",
          "ST2",
          "ST2",
          "ST2",
          "ST2",
          "ST2",
          "ST2",
          "ST2",
          "ST2",
          "ST2",
          "ST2",
          "ST2",
          "ST2",
          "ST2",
          "ST2",
          "ST2",
          "ST2",
          "ST2",
          "ST2",
          "ST2",
          "ST2",
          "ST2",
          "ST2",
          "ST2",
          "ST2",
          "ST2",
          "ST2",
          "ST2",
          "ST2",
          "ST2",
          "ST2",
          "ST2",
          "ST2",
          "ST2",
          "ST2",
          "ST2",
          "ST2",
          "ST2",
          "ST2",
          "ST4",
          "ST4",
          "ST4",
          "ST4",
          "ST4",
          "ST4",
          "ST4",
          "ST4",
          "ST4",
          "ST4",
          "ST4",
          "ST4",
          "ST4",
          "ST4",
          "ST4",
          "ST4",
          "ST4",
          "ST4",
          "ST4",
          "ST4",
          "ST4",
          "ST4",
          "ST4",
          "ST4",
          "ST4",
          "ST4",
          "ST4",
          "ST4",
          "ST4",
          "ST4",
          "ST4",
          "ST4",
          "ST4",
          "ST4",
          "ST4",
          "ST4",
          "ST4",
          "ST4",
          "ST4",
          "ST4",
          "ST4",
          "ST4",
          "ST4",
          "ST4",
          "ST4",
          "ST4",
          "ST4",
          "ST4",
          "ST5",
          "ST5",
          "ST5",
          "ST5",
          "ST5",
          "ST5",
          "ST5",
          "ST5",
          "ST5",
          "ST5",
          "ST5",
          "ST5",
          "ST5",
          "ST5",
          "ST5",
          "ST5",
          "ST5",
          "ST5",
          "ST5",
          "ST5",
          "ST5",
          "ST5",
          "ST5",
          "ST5",
          "ST5",
          "ST5",
          "ST5",
          "ST5",
          "ST5",
          "ST5",
          "ST5",
          "ST5",
          "ST5",
          "ST5",
          "ST5",
          "ST5",
          "ST5",
          "ST5",
          "ST5",
          "ST5",
          "ST5",
          "ST5",
          "ST5",
          "ST5",
          "ST5",
          "ST5",
          "ST5",
          "ST5",
          "ST6",
          "ST6",
          "ST6",
          "ST6",
          "ST6",
          "ST6",
          "ST6",
          "ST6",
          "ST6",
          "ST6",
          "ST6",
          "ST6",
          "ST6",
          "ST6",
          "ST6",
          "ST6",
          "ST6",
          "ST6",
          "ST6",
          "ST6",
          "ST6",
          "ST6",
          "ST6",
          "ST6",
          "ST6",
          "ST6",
          "ST6",
          "ST6",
          "ST6",
          "ST6",
          "ST6",
          "ST6",
          "ST6",
          "ST6",
          "ST6",
          "ST6",
          "ST6",
          "ST6",
          "ST6",
          "ST6",
          "ST6",
          "ST6",
          "ST6",
          "ST6",
          "ST6",
          "ST6",
          "ST6",
          "ST6"
         ],
         "x0": " ",
         "xaxis": "x",
         "y": {
          "bdata": "H7roootOZ0A/F1100eVjQB+66KKLTmdAAAAAAABgZUAAAAAAAHKpQLxt27Zt+2tAAAAAAACioECB0UUXXbReQAAAAAAA0HJAXVVVVVWvpECqbdu2bU+fQAAAAAAAFLBAAAAAAACwakCjqqqqqhijQAAAAAAAKqlAAAAAAAAqoEBhVVVVVbVjQD8XXXTRZWFAAAAAAACQbEAAAAAAADB3QIHRRRddlGRAAAAAAADwdUAhXXTRRTdoQH8uuuiiq2hAAAAAAKCM+kAAAAAA0Ov2QAAAAAAQZ/pAAAAAAFBm90AAAAAAoJD7QAAAAACg7f1AAAAAAOCO/kAAAAAAoNf6QAAAAACQGPZAAAAAANBJ+EAAAAAA0E74QAAAAABQQ/dAAAAAABBp+EAAAAAAkIv2QAAAAAAQVfhAAAAAACArA0EAAAAAUOT2QAAAAACAAPVAAAAAAFA590AAAAAAYBD9QAAAAACQFflAAAAAANA0+UAAAAAAIEb9QAAAAACgjPpAXVVVVVVVBUBOkiRJkiQVQPDETuzETgRA8MRO7MROEEAAAAAAAADwPwAAAAAAAPA/USd2Yid2JEBSVVVVVVURQN+2bdu2bQNAXVVVVVVVBUBSVVVVVVURQF1VVVVVVQVAXVVVVVVVBUBdVVVVVVUFQPDETuzEThBAkC666KKLBkBIkiRJkiQjQJAuuuiiiwZAqaqqqqqqIkBdVVVVVVUFQJAuuuiiiwZAXVVVVVVVBUBdVVVVVVUFQPDETuzEThBAXCd2Yid2FkC9bdu2bdsOQF1VVVVVVQVAsm3btm3bGkDwxE7sxE4EQPDETuzETgRA1Imd2ImdHECpqqqqqqoiQFJVVVVVVRFAXCd2Yid2FkBOkiRJkiQVQJEkSZIkSSBA8MRO7MROBEDwxE7sxE4QQFJVVVVVVRFA37Zt27ZtA0CRJEmSJEkgQE6SJEmSJBVAXCd2Yid2FkDwxE7sxE4QQJAuuuiiixJAUlVVVVVVEUBOkiRJkiQVQL1t27Zt2w5AAAAAgH7rRkEAAAAAkIBFQQAAAADBQklBAAAAgAfUSUEAAACAdwhLQQAAAAAiekZBAAAAAPaAOkEAAACAr0xFQQAAAAA0QEZBAAAAgIsIS0EAAACAmrpHQQAAAICpCEtBAAAAAEFpSEEAAAAAQiNGQQAAAADb4khBAAAAAKyWRUEAAACAYwhLQQAAAIC0zUdBAAAAgNxzR0EAAACAiwhLQQAAAIBLmERBAAAAgGicR0EAAACAt2lKQQAAAICpCEtBAAAAgG9lREEAAAAA6h9AQQAAAACywEBBAAAAAMeLPEEAAAAAC8A8QQAAAABmgEBBAAAAgAr5QUEAAAAAjhE6QQAAAIDKH0JBAAAAAFRRQEEAAAAA10sxQQAAAADhkEJBAAAAAEG4QkEAAACAzFpBQQAAAADus0VBAAAAAMtxPkEAAAAA2j5AQQAAAACGbTtBAAAAgJ8IS0EAAAAAjxI+QQAAAID2IUFBAAAAAADhQEEAAACABhdBQQAAAAAyLzxBtKqqqupf1UAAAAAAgEeiQAAAAADoLxNBAAAAAAD1sEAAAAAAYDLgQAAAAABIMQFBAAAAAAAGrkAAAAAAwOTYQCq66KKL87FAAAAAAADOr0AAAAAAaFkOQYguuuii1atAAAAAAMD42EC86KKLLqexQAAAAACAEM9AU3TRRRe3p0BEF1100eemQAAAAABAB9dAAAAAAAC6qkAAAAAAkAP4QNZFF1106rFAU3TRRReHr0AAAAAAQF7aQAAAAABgQeBAAAAAAAiuFUEAAAAASAIYQQAAAABIiBlBAAAAAKh7G0EAAAAAeNYTQQAAAAAo5RhBAAAAAFi/E0EAAAAAqMoMQQAAAACowRtBAAAAADitE0EAAAAA6IQdQQAAAACY3RlBAAAAAGgxGUEAAAAAGCQSQQAAAAD4+xNBAAAAACh2HkEAAAAAdFwwQQAAAABIhANBAAAAAHisGkEAAAAAjDogQQAAAADI2QpBAAAAANhQFkEAAAAAyMYOQQAAAADo9RVBWlVVVfWF5kAAAAAAoFLpQKaqqqpK0elAAAAAACBY60AAAAAAoNjqQAAAAABAV95AAAAAAODU5UAAAAAAgN7mQAAAAAAAj+hAAAAAAGD/5UAAAAAAAEnoQAAAAACgmuZAAAAAACAT6kAAAAAAoP/hQAAAAADA3+ZApqqqqsqN6UAAAAAAAFfkQAAAAACg/+JAAAAAACDc4kAAAAAAIEnrQAAAAADAl+hAAAAAAKDN5kAAAAAAoAzmQLSqqqpqNd9AAAAAAPD+9kAAAAAAkOT4QAAAAADwtPpAU1VVVeU89EAAAAAAUL4AQQAAAACQfgBBAAAAAHAK+EAAAAAA0Oj6QAAAAAAwjgBBAAAAAODL/kAAAAAAsMH7QAAAAABQ0vpAAAAAAKBR/0AAAAAAELr4QAAAAABgSP1AAAAAANA4+0AAAAAA0Hb0QAAAAACwUvdAAAAAALAC90AAAAAAkLsEQQAAAABgGv5AAAAAAGAz/kAAAAAA4AT9QAAAAABQMftA",
          "dtype": "f8"
         },
         "y0": " ",
         "yaxis": "y"
        },
        {
         "alignmentgroup": "True",
         "boxpoints": "all",
         "customdata": [
          [
           "H5"
          ],
          [
           "E12"
          ],
          [
           "G5"
          ],
          [
           "G11"
          ],
          [
           "G12"
          ],
          [
           "E6"
          ],
          [
           "H12"
          ],
          [
           "F5"
          ],
          [
           "H6"
          ],
          [
           "H11"
          ],
          [
           "F11"
          ],
          [
           "F6"
          ],
          [
           "E5"
          ],
          [
           "G6"
          ],
          [
           "E11"
          ],
          [
           "F12"
          ],
          [
           "A11"
          ],
          [
           "D5"
          ],
          [
           "B5"
          ],
          [
           "C11"
          ],
          [
           "A6"
          ],
          [
           "B11"
          ],
          [
           "A5"
          ],
          [
           "C12"
          ],
          [
           "B6"
          ],
          [
           "D6"
          ],
          [
           "D12"
          ],
          [
           "D11"
          ],
          [
           "A12"
          ],
          [
           "B12"
          ],
          [
           "C5"
          ],
          [
           "C6"
          ],
          [
           "G6"
          ],
          [
           "F6"
          ],
          [
           "H5"
          ],
          [
           "F12"
          ],
          [
           "H11"
          ],
          [
           "G5"
          ],
          [
           "E5"
          ],
          [
           "E11"
          ],
          [
           "E6"
          ],
          [
           "F5"
          ],
          [
           "F11"
          ],
          [
           "H12"
          ],
          [
           "G12"
          ],
          [
           "G11"
          ],
          [
           "E12"
          ],
          [
           "H6"
          ],
          [
           "B12"
          ],
          [
           "A12"
          ],
          [
           "A5"
          ],
          [
           "B5"
          ],
          [
           "D11"
          ],
          [
           "D6"
          ],
          [
           "D12"
          ],
          [
           "D5"
          ],
          [
           "C12"
          ],
          [
           "C6"
          ],
          [
           "B6"
          ],
          [
           "C11"
          ],
          [
           "A11"
          ],
          [
           "B11"
          ],
          [
           "A6"
          ],
          [
           "C5"
          ],
          [
           "H12"
          ],
          [
           "F5"
          ],
          [
           "E6"
          ],
          [
           "H11"
          ],
          [
           "G6"
          ],
          [
           "E11"
          ],
          [
           "F12"
          ],
          [
           "E5"
          ],
          [
           "G12"
          ],
          [
           "H5"
          ],
          [
           "G11"
          ],
          [
           "H6"
          ],
          [
           "E12"
          ],
          [
           "F6"
          ],
          [
           "G5"
          ],
          [
           "F11"
          ],
          [
           "B12"
          ],
          [
           "D11"
          ],
          [
           "C12"
          ],
          [
           "C5"
          ],
          [
           "A11"
          ],
          [
           "C6"
          ],
          [
           "D5"
          ],
          [
           "D12"
          ],
          [
           "B5"
          ],
          [
           "B11"
          ],
          [
           "B6"
          ],
          [
           "A5"
          ],
          [
           "A6"
          ],
          [
           "A12"
          ],
          [
           "D6"
          ],
          [
           "C11"
          ],
          [
           "G11"
          ],
          [
           "E11"
          ],
          [
           "F5"
          ],
          [
           "H12"
          ],
          [
           "G12"
          ],
          [
           "E5"
          ],
          [
           "E12"
          ],
          [
           "E6"
          ],
          [
           "H11"
          ],
          [
           "G6"
          ],
          [
           "F6"
          ],
          [
           "G5"
          ],
          [
           "F11"
          ],
          [
           "F12"
          ],
          [
           "H5"
          ],
          [
           "H6"
          ],
          [
           "A5"
          ],
          [
           "C5"
          ],
          [
           "C11"
          ],
          [
           "B11"
          ],
          [
           "A6"
          ],
          [
           "B12"
          ],
          [
           "D6"
          ],
          [
           "D11"
          ],
          [
           "D5"
          ],
          [
           "C6"
          ],
          [
           "B6"
          ],
          [
           "B5"
          ],
          [
           "C12"
          ],
          [
           "D12"
          ],
          [
           "A12"
          ],
          [
           "A11"
          ],
          [
           "H6"
          ],
          [
           "G11"
          ],
          [
           "G12"
          ],
          [
           "E6"
          ],
          [
           "H12"
          ],
          [
           "H5"
          ],
          [
           "F11"
          ],
          [
           "G5"
          ],
          [
           "E11"
          ],
          [
           "F12"
          ],
          [
           "F6"
          ],
          [
           "E5"
          ],
          [
           "G6"
          ],
          [
           "F5"
          ],
          [
           "H11"
          ],
          [
           "E12"
          ],
          [
           "A5"
          ],
          [
           "C11"
          ],
          [
           "A6"
          ],
          [
           "B6"
          ],
          [
           "B5"
          ],
          [
           "D6"
          ],
          [
           "A11"
          ],
          [
           "D12"
          ],
          [
           "C6"
          ],
          [
           "D11"
          ],
          [
           "D5"
          ],
          [
           "B11"
          ],
          [
           "B12"
          ],
          [
           "C12"
          ],
          [
           "C5"
          ],
          [
           "A12"
          ]
         ],
         "hovertemplate": "Inoculation=mtc01<br>strain=%{x}<br>Ns=%{y}<br>sample_id=%{customdata[0]}<extra></extra>",
         "legendgroup": "mtc01",
         "marker": {
          "color": "#FF7F0E"
         },
         "name": "mtc01",
         "notched": false,
         "offsetgroup": "mtc01",
         "orientation": "v",
         "showlegend": true,
         "type": "box",
         "x": [
          "ST1",
          "ST1",
          "ST1",
          "ST1",
          "ST1",
          "ST1",
          "ST1",
          "ST1",
          "ST1",
          "ST1",
          "ST1",
          "ST1",
          "ST1",
          "ST1",
          "ST1",
          "ST1",
          "ST1",
          "ST1",
          "ST1",
          "ST1",
          "ST1",
          "ST1",
          "ST1",
          "ST1",
          "ST1",
          "ST1",
          "ST1",
          "ST1",
          "ST1",
          "ST1",
          "ST1",
          "ST1",
          "ST2",
          "ST2",
          "ST2",
          "ST2",
          "ST2",
          "ST2",
          "ST2",
          "ST2",
          "ST2",
          "ST2",
          "ST2",
          "ST2",
          "ST2",
          "ST2",
          "ST2",
          "ST2",
          "ST2",
          "ST2",
          "ST2",
          "ST2",
          "ST2",
          "ST2",
          "ST2",
          "ST2",
          "ST2",
          "ST2",
          "ST2",
          "ST2",
          "ST2",
          "ST2",
          "ST2",
          "ST2",
          "ST4",
          "ST4",
          "ST4",
          "ST4",
          "ST4",
          "ST4",
          "ST4",
          "ST4",
          "ST4",
          "ST4",
          "ST4",
          "ST4",
          "ST4",
          "ST4",
          "ST4",
          "ST4",
          "ST4",
          "ST4",
          "ST4",
          "ST4",
          "ST4",
          "ST4",
          "ST4",
          "ST4",
          "ST4",
          "ST4",
          "ST4",
          "ST4",
          "ST4",
          "ST4",
          "ST4",
          "ST4",
          "ST5",
          "ST5",
          "ST5",
          "ST5",
          "ST5",
          "ST5",
          "ST5",
          "ST5",
          "ST5",
          "ST5",
          "ST5",
          "ST5",
          "ST5",
          "ST5",
          "ST5",
          "ST5",
          "ST5",
          "ST5",
          "ST5",
          "ST5",
          "ST5",
          "ST5",
          "ST5",
          "ST5",
          "ST5",
          "ST5",
          "ST5",
          "ST5",
          "ST5",
          "ST5",
          "ST5",
          "ST5",
          "ST6",
          "ST6",
          "ST6",
          "ST6",
          "ST6",
          "ST6",
          "ST6",
          "ST6",
          "ST6",
          "ST6",
          "ST6",
          "ST6",
          "ST6",
          "ST6",
          "ST6",
          "ST6",
          "ST6",
          "ST6",
          "ST6",
          "ST6",
          "ST6",
          "ST6",
          "ST6",
          "ST6",
          "ST6",
          "ST6",
          "ST6",
          "ST6",
          "ST6",
          "ST6",
          "ST6",
          "ST6"
         ],
         "x0": " ",
         "xaxis": "x",
         "y": {
          "bdata": "3rZt27b9fEAAAAAAAJSZQN62bdu2fX9As23btm1jhEBHVVVVVRGZQE2SJEmSjIBAAAAAAADUlUDetm3btrWBQAAAAAAAsH5ARJIkSZL0fkAAAAAAAOyGQLNt27Zt44FAmiRJkiTZf0BNkiRJkoyAQFhVVVVVvYZAAAAAAADkn0AAAAAA2GsCQQAAAAC4ZQBBAAAAAHiqAEEAAAAA2MEBQQAAAAAA+gNBAAAAAKAg/UAAAAAAODsAQQAAAABoQwVBAAAAABCl+EAAAAAAWAsBQQAAAAD4gwFBAAAAAGDhAkEAAAAASFMGQQAAAAC46wFBAAAAAEAFBEEAAAAAIK0DQfDETuzEThBAAAAAAAAACECQLrrooosGQFEndmIndiRA1Imd2ImdHEDwxE7sxE4EQF1VVVVVVQVATpIkSZIkFUBdVVVVVVUFQF1VVVVVVQVAXVVVVVVVBUAAAAAAAAAYQFEndmIndiRAvW3btm3bDkCpqqqqqqoiQL1t27Zt2w5AAAAAAAAAE0Dftm3btm0DQNSJndiJnRxAXCd2Yid2FkDwxE7sxE4EQFwndmIndhZAJnZiJ3ZiIUC9bdu2bdsOQFwndmIndhZAUlVVVVVVEUDwxE7sxE4EQL1t27Zt2w5AXCd2Yid2FkDwxE7sxE4QQF1VVVVVVQVA8MRO7MROEEAAAAAAfIVFQQAAAICfCEtBAAAAgJ8IS0EAAAAA3UhDQQAAAIB3CEtBAAAAgChQR0EAAACAbQhLQQAAAADzKUlBAAAAAItLSUEAAAAAiI1FQQAAAICjzERBAAAAgEQvR0EAAACAU75KQQAAAICBCEtBAAAAgJUIS0EAAAAAtAhLQQAAAAAjMDNBAAAAAFueQkEAAAAAeCo1QQAAAIBCAkJBAAAAgGDHR0EAAACA0ApCQQAAAIB0EUJBAAAAAMIPOkEAAAAA1o1AQQAAAACSvDpBAAAAADfePUEAAAAAPABAQQAAAICnD0RBAAAAAFYrOkEAAAAA7VtDQQAAAACB3EJBAAAAAKCJ6UAAAAAA0FnzQAAAAAAAGbpAAAAAAIiaAkEAAAAA2DkUQQAAAAAAy7dAAAAAAMiCF0EAAAAAgCzGQAAAAABQwfJAn23btu0jxUAAAAAAgEzIQAAAAACARbhAAAAAAFA7+0AAAAAAiPQMQQAAAACA97VAaFVVVdVSxUAAAAAArEshQQAAAADGAylBAAAAAJxWIUEAAAAAyMUVQQAAAAA+DyhBAAAAgPTGQUEAAAAAwDbcQAAAAAAelCdBAAAAAGaeJUEAAAAATmomQQAAAABYiC1BAAAAAGxoIUEAAAAAPgE3QQAAAABpn0xBAAAAgCXSR0EAAAAAVjckQQAAAADAV+dAWlVVVfWK5kC0qqqqasbfQAAAAACgZulAtKqqqmob20AAAAAAoN3nQFpVVVV1QOhAAAAAACBP6kAAAAAAoKDmQExVVVUVsN5ApqqqqkqF6kAAAAAA4GfpQAAAAABgg+lAAAAAAMBo6kAAAAAAoBfjQAAAAACglOFAAAAAAHC690AAAAAAUMXzQAAAAABg8O9AAAAAAIAC60AAAAAA0Ar3QAAAAADgA+5AAAAAABDH9UC0qqqq6irYQFpVVVX1vu5AAAAAAFAl80AAAAAA0NX5QFNVVVXlhvBAAAAAAEDc2UBFkiRJ0s/aQMKqqqo6lvhAAAAAAEDu20A=",
          "dtype": "f8"
         },
         "y0": " ",
         "yaxis": "y"
        }
       ],
       "layout": {
        "boxmode": "group",
        "height": 500,
        "legend": {
         "title": {
          "text": "Inoculation"
         },
         "tracegroupgap": 0
        },
        "margin": {
         "t": 60
        },
        "template": {
         "data": {
          "bar": [
           {
            "error_x": {
             "color": "rgb(36,36,36)"
            },
            "error_y": {
             "color": "rgb(36,36,36)"
            },
            "marker": {
             "line": {
              "color": "white",
              "width": 0.5
             },
             "pattern": {
              "fillmode": "overlay",
              "size": 10,
              "solidity": 0.2
             }
            },
            "type": "bar"
           }
          ],
          "barpolar": [
           {
            "marker": {
             "line": {
              "color": "white",
              "width": 0.5
             },
             "pattern": {
              "fillmode": "overlay",
              "size": 10,
              "solidity": 0.2
             }
            },
            "type": "barpolar"
           }
          ],
          "carpet": [
           {
            "aaxis": {
             "endlinecolor": "rgb(36,36,36)",
             "gridcolor": "white",
             "linecolor": "white",
             "minorgridcolor": "white",
             "startlinecolor": "rgb(36,36,36)"
            },
            "baxis": {
             "endlinecolor": "rgb(36,36,36)",
             "gridcolor": "white",
             "linecolor": "white",
             "minorgridcolor": "white",
             "startlinecolor": "rgb(36,36,36)"
            },
            "type": "carpet"
           }
          ],
          "choropleth": [
           {
            "colorbar": {
             "outlinewidth": 1,
             "tickcolor": "rgb(36,36,36)",
             "ticks": "outside"
            },
            "type": "choropleth"
           }
          ],
          "contour": [
           {
            "colorbar": {
             "outlinewidth": 1,
             "tickcolor": "rgb(36,36,36)",
             "ticks": "outside"
            },
            "colorscale": [
             [
              0,
              "#440154"
             ],
             [
              0.1111111111111111,
              "#482878"
             ],
             [
              0.2222222222222222,
              "#3e4989"
             ],
             [
              0.3333333333333333,
              "#31688e"
             ],
             [
              0.4444444444444444,
              "#26828e"
             ],
             [
              0.5555555555555556,
              "#1f9e89"
             ],
             [
              0.6666666666666666,
              "#35b779"
             ],
             [
              0.7777777777777778,
              "#6ece58"
             ],
             [
              0.8888888888888888,
              "#b5de2b"
             ],
             [
              1,
              "#fde725"
             ]
            ],
            "type": "contour"
           }
          ],
          "contourcarpet": [
           {
            "colorbar": {
             "outlinewidth": 1,
             "tickcolor": "rgb(36,36,36)",
             "ticks": "outside"
            },
            "type": "contourcarpet"
           }
          ],
          "heatmap": [
           {
            "colorbar": {
             "outlinewidth": 1,
             "tickcolor": "rgb(36,36,36)",
             "ticks": "outside"
            },
            "colorscale": [
             [
              0,
              "#440154"
             ],
             [
              0.1111111111111111,
              "#482878"
             ],
             [
              0.2222222222222222,
              "#3e4989"
             ],
             [
              0.3333333333333333,
              "#31688e"
             ],
             [
              0.4444444444444444,
              "#26828e"
             ],
             [
              0.5555555555555556,
              "#1f9e89"
             ],
             [
              0.6666666666666666,
              "#35b779"
             ],
             [
              0.7777777777777778,
              "#6ece58"
             ],
             [
              0.8888888888888888,
              "#b5de2b"
             ],
             [
              1,
              "#fde725"
             ]
            ],
            "type": "heatmap"
           }
          ],
          "histogram": [
           {
            "marker": {
             "line": {
              "color": "white",
              "width": 0.6
             }
            },
            "type": "histogram"
           }
          ],
          "histogram2d": [
           {
            "colorbar": {
             "outlinewidth": 1,
             "tickcolor": "rgb(36,36,36)",
             "ticks": "outside"
            },
            "colorscale": [
             [
              0,
              "#440154"
             ],
             [
              0.1111111111111111,
              "#482878"
             ],
             [
              0.2222222222222222,
              "#3e4989"
             ],
             [
              0.3333333333333333,
              "#31688e"
             ],
             [
              0.4444444444444444,
              "#26828e"
             ],
             [
              0.5555555555555556,
              "#1f9e89"
             ],
             [
              0.6666666666666666,
              "#35b779"
             ],
             [
              0.7777777777777778,
              "#6ece58"
             ],
             [
              0.8888888888888888,
              "#b5de2b"
             ],
             [
              1,
              "#fde725"
             ]
            ],
            "type": "histogram2d"
           }
          ],
          "histogram2dcontour": [
           {
            "colorbar": {
             "outlinewidth": 1,
             "tickcolor": "rgb(36,36,36)",
             "ticks": "outside"
            },
            "colorscale": [
             [
              0,
              "#440154"
             ],
             [
              0.1111111111111111,
              "#482878"
             ],
             [
              0.2222222222222222,
              "#3e4989"
             ],
             [
              0.3333333333333333,
              "#31688e"
             ],
             [
              0.4444444444444444,
              "#26828e"
             ],
             [
              0.5555555555555556,
              "#1f9e89"
             ],
             [
              0.6666666666666666,
              "#35b779"
             ],
             [
              0.7777777777777778,
              "#6ece58"
             ],
             [
              0.8888888888888888,
              "#b5de2b"
             ],
             [
              1,
              "#fde725"
             ]
            ],
            "type": "histogram2dcontour"
           }
          ],
          "mesh3d": [
           {
            "colorbar": {
             "outlinewidth": 1,
             "tickcolor": "rgb(36,36,36)",
             "ticks": "outside"
            },
            "type": "mesh3d"
           }
          ],
          "parcoords": [
           {
            "line": {
             "colorbar": {
              "outlinewidth": 1,
              "tickcolor": "rgb(36,36,36)",
              "ticks": "outside"
             }
            },
            "type": "parcoords"
           }
          ],
          "pie": [
           {
            "automargin": true,
            "type": "pie"
           }
          ],
          "scatter": [
           {
            "fillpattern": {
             "fillmode": "overlay",
             "size": 10,
             "solidity": 0.2
            },
            "type": "scatter"
           }
          ],
          "scatter3d": [
           {
            "line": {
             "colorbar": {
              "outlinewidth": 1,
              "tickcolor": "rgb(36,36,36)",
              "ticks": "outside"
             }
            },
            "marker": {
             "colorbar": {
              "outlinewidth": 1,
              "tickcolor": "rgb(36,36,36)",
              "ticks": "outside"
             }
            },
            "type": "scatter3d"
           }
          ],
          "scattercarpet": [
           {
            "marker": {
             "colorbar": {
              "outlinewidth": 1,
              "tickcolor": "rgb(36,36,36)",
              "ticks": "outside"
             }
            },
            "type": "scattercarpet"
           }
          ],
          "scattergeo": [
           {
            "marker": {
             "colorbar": {
              "outlinewidth": 1,
              "tickcolor": "rgb(36,36,36)",
              "ticks": "outside"
             }
            },
            "type": "scattergeo"
           }
          ],
          "scattergl": [
           {
            "marker": {
             "colorbar": {
              "outlinewidth": 1,
              "tickcolor": "rgb(36,36,36)",
              "ticks": "outside"
             }
            },
            "type": "scattergl"
           }
          ],
          "scattermap": [
           {
            "marker": {
             "colorbar": {
              "outlinewidth": 1,
              "tickcolor": "rgb(36,36,36)",
              "ticks": "outside"
             }
            },
            "type": "scattermap"
           }
          ],
          "scattermapbox": [
           {
            "marker": {
             "colorbar": {
              "outlinewidth": 1,
              "tickcolor": "rgb(36,36,36)",
              "ticks": "outside"
             }
            },
            "type": "scattermapbox"
           }
          ],
          "scatterpolar": [
           {
            "marker": {
             "colorbar": {
              "outlinewidth": 1,
              "tickcolor": "rgb(36,36,36)",
              "ticks": "outside"
             }
            },
            "type": "scatterpolar"
           }
          ],
          "scatterpolargl": [
           {
            "marker": {
             "colorbar": {
              "outlinewidth": 1,
              "tickcolor": "rgb(36,36,36)",
              "ticks": "outside"
             }
            },
            "type": "scatterpolargl"
           }
          ],
          "scatterternary": [
           {
            "marker": {
             "colorbar": {
              "outlinewidth": 1,
              "tickcolor": "rgb(36,36,36)",
              "ticks": "outside"
             }
            },
            "type": "scatterternary"
           }
          ],
          "surface": [
           {
            "colorbar": {
             "outlinewidth": 1,
             "tickcolor": "rgb(36,36,36)",
             "ticks": "outside"
            },
            "colorscale": [
             [
              0,
              "#440154"
             ],
             [
              0.1111111111111111,
              "#482878"
             ],
             [
              0.2222222222222222,
              "#3e4989"
             ],
             [
              0.3333333333333333,
              "#31688e"
             ],
             [
              0.4444444444444444,
              "#26828e"
             ],
             [
              0.5555555555555556,
              "#1f9e89"
             ],
             [
              0.6666666666666666,
              "#35b779"
             ],
             [
              0.7777777777777778,
              "#6ece58"
             ],
             [
              0.8888888888888888,
              "#b5de2b"
             ],
             [
              1,
              "#fde725"
             ]
            ],
            "type": "surface"
           }
          ],
          "table": [
           {
            "cells": {
             "fill": {
              "color": "rgb(237,237,237)"
             },
             "line": {
              "color": "white"
             }
            },
            "header": {
             "fill": {
              "color": "rgb(217,217,217)"
             },
             "line": {
              "color": "white"
             }
            },
            "type": "table"
           }
          ]
         },
         "layout": {
          "annotationdefaults": {
           "arrowhead": 0,
           "arrowwidth": 1
          },
          "autotypenumbers": "strict",
          "coloraxis": {
           "colorbar": {
            "outlinewidth": 1,
            "tickcolor": "rgb(36,36,36)",
            "ticks": "outside"
           }
          },
          "colorscale": {
           "diverging": [
            [
             0,
             "rgb(103,0,31)"
            ],
            [
             0.1,
             "rgb(178,24,43)"
            ],
            [
             0.2,
             "rgb(214,96,77)"
            ],
            [
             0.3,
             "rgb(244,165,130)"
            ],
            [
             0.4,
             "rgb(253,219,199)"
            ],
            [
             0.5,
             "rgb(247,247,247)"
            ],
            [
             0.6,
             "rgb(209,229,240)"
            ],
            [
             0.7,
             "rgb(146,197,222)"
            ],
            [
             0.8,
             "rgb(67,147,195)"
            ],
            [
             0.9,
             "rgb(33,102,172)"
            ],
            [
             1,
             "rgb(5,48,97)"
            ]
           ],
           "sequential": [
            [
             0,
             "#440154"
            ],
            [
             0.1111111111111111,
             "#482878"
            ],
            [
             0.2222222222222222,
             "#3e4989"
            ],
            [
             0.3333333333333333,
             "#31688e"
            ],
            [
             0.4444444444444444,
             "#26828e"
            ],
            [
             0.5555555555555556,
             "#1f9e89"
            ],
            [
             0.6666666666666666,
             "#35b779"
            ],
            [
             0.7777777777777778,
             "#6ece58"
            ],
            [
             0.8888888888888888,
             "#b5de2b"
            ],
            [
             1,
             "#fde725"
            ]
           ],
           "sequentialminus": [
            [
             0,
             "#440154"
            ],
            [
             0.1111111111111111,
             "#482878"
            ],
            [
             0.2222222222222222,
             "#3e4989"
            ],
            [
             0.3333333333333333,
             "#31688e"
            ],
            [
             0.4444444444444444,
             "#26828e"
            ],
            [
             0.5555555555555556,
             "#1f9e89"
            ],
            [
             0.6666666666666666,
             "#35b779"
            ],
            [
             0.7777777777777778,
             "#6ece58"
            ],
            [
             0.8888888888888888,
             "#b5de2b"
            ],
            [
             1,
             "#fde725"
            ]
           ]
          },
          "colorway": [
           "#1F77B4",
           "#FF7F0E",
           "#2CA02C",
           "#D62728",
           "#9467BD",
           "#8C564B",
           "#E377C2",
           "#7F7F7F",
           "#BCBD22",
           "#17BECF"
          ],
          "font": {
           "color": "rgb(36,36,36)"
          },
          "geo": {
           "bgcolor": "white",
           "lakecolor": "white",
           "landcolor": "white",
           "showlakes": true,
           "showland": true,
           "subunitcolor": "white"
          },
          "hoverlabel": {
           "align": "left"
          },
          "hovermode": "closest",
          "mapbox": {
           "style": "light"
          },
          "paper_bgcolor": "white",
          "plot_bgcolor": "white",
          "polar": {
           "angularaxis": {
            "gridcolor": "rgb(232,232,232)",
            "linecolor": "rgb(36,36,36)",
            "showgrid": false,
            "showline": true,
            "ticks": "outside"
           },
           "bgcolor": "white",
           "radialaxis": {
            "gridcolor": "rgb(232,232,232)",
            "linecolor": "rgb(36,36,36)",
            "showgrid": false,
            "showline": true,
            "ticks": "outside"
           }
          },
          "scene": {
           "xaxis": {
            "backgroundcolor": "white",
            "gridcolor": "rgb(232,232,232)",
            "gridwidth": 2,
            "linecolor": "rgb(36,36,36)",
            "showbackground": true,
            "showgrid": false,
            "showline": true,
            "ticks": "outside",
            "zeroline": false,
            "zerolinecolor": "rgb(36,36,36)"
           },
           "yaxis": {
            "backgroundcolor": "white",
            "gridcolor": "rgb(232,232,232)",
            "gridwidth": 2,
            "linecolor": "rgb(36,36,36)",
            "showbackground": true,
            "showgrid": false,
            "showline": true,
            "ticks": "outside",
            "zeroline": false,
            "zerolinecolor": "rgb(36,36,36)"
           },
           "zaxis": {
            "backgroundcolor": "white",
            "gridcolor": "rgb(232,232,232)",
            "gridwidth": 2,
            "linecolor": "rgb(36,36,36)",
            "showbackground": true,
            "showgrid": false,
            "showline": true,
            "ticks": "outside",
            "zeroline": false,
            "zerolinecolor": "rgb(36,36,36)"
           }
          },
          "shapedefaults": {
           "fillcolor": "black",
           "line": {
            "width": 0
           },
           "opacity": 0.3
          },
          "ternary": {
           "aaxis": {
            "gridcolor": "rgb(232,232,232)",
            "linecolor": "rgb(36,36,36)",
            "showgrid": false,
            "showline": true,
            "ticks": "outside"
           },
           "baxis": {
            "gridcolor": "rgb(232,232,232)",
            "linecolor": "rgb(36,36,36)",
            "showgrid": false,
            "showline": true,
            "ticks": "outside"
           },
           "bgcolor": "white",
           "caxis": {
            "gridcolor": "rgb(232,232,232)",
            "linecolor": "rgb(36,36,36)",
            "showgrid": false,
            "showline": true,
            "ticks": "outside"
           }
          },
          "title": {
           "x": 0.05
          },
          "xaxis": {
           "automargin": true,
           "gridcolor": "rgb(232,232,232)",
           "linecolor": "rgb(36,36,36)",
           "showgrid": false,
           "showline": true,
           "ticks": "outside",
           "title": {
            "standoff": 15
           },
           "zeroline": false,
           "zerolinecolor": "rgb(36,36,36)"
          },
          "yaxis": {
           "automargin": true,
           "gridcolor": "rgb(232,232,232)",
           "linecolor": "rgb(36,36,36)",
           "showgrid": false,
           "showline": true,
           "ticks": "outside",
           "title": {
            "standoff": 15
           },
           "zeroline": false,
           "zerolinecolor": "rgb(36,36,36)"
          }
         }
        },
        "width": 700,
        "xaxis": {
         "anchor": "y",
         "domain": [
          0,
          1
         ],
         "title": {
          "text": "strain"
         }
        },
        "yaxis": {
         "anchor": "x",
         "domain": [
          0,
          1
         ],
         "title": {
          "text": "Ns"
         },
         "type": "log"
        }
       }
      }
     },
     "metadata": {},
     "output_type": "display_data"
    },
    {
     "name": "stdout",
     "output_type": "stream",
     "text": [
      "ST1\n",
      "comparison: barcodes vs mtc01\n",
      "statistic: -1.412115641844773\n",
      "p_value: 0.16189316721340216\n",
      "significant: False\n",
      "ST2\n",
      "comparison: mtc01 vs barcodes\n",
      "statistic: 0.7310232519835423\n",
      "p_value: 0.46695529730997587\n",
      "significant: False\n",
      "ST4\n",
      "comparison: mtc01 vs barcodes\n",
      "statistic: 0.2561173819436477\n",
      "p_value: 0.7985344663105356\n",
      "significant: False\n",
      "ST5\n",
      "comparison: mtc01 vs barcodes\n",
      "statistic: 2.93248698982083\n",
      "p_value: 0.00441199358087889\n",
      "significant: True\n",
      "ST6\n",
      "comparison: mtc01 vs barcodes\n",
      "statistic: -3.2910266613892603\n",
      "p_value: 0.0015006066310015195\n",
      "significant: True\n"
     ]
    }
   ],
   "source": [
    "df_merge = df_merge.sort_values(['strain', 'CmR'],ascending=True)\n",
    "df_plot = df_merge.loc[(df_merge['Inoculation']=='barcodes')|(df_merge['Inoculation_2']=='barcodes')]\n",
    "fig = px.box(df_plot,\n",
    "                x = 'strain', \n",
    "                y = 'Ns',\n",
    "                color = 'Inoculation',\n",
    "                points = 'all',\n",
    "                log_y=True,\n",
    "                template = 'simple_white',\n",
    "                hover_data=['sample_id'],width = 700,\n",
    "                height = 500,\n",
    "                )\n",
    "fig.show()\n",
    "\n",
    "def compare_groups_ttest(df, grouping_col, response_col):\n",
    "    \"\"\"\n",
    "    Two-sample t-test for comparing two groups\n",
    "    \"\"\"\n",
    "    groups = df[grouping_col].unique()\n",
    "    \n",
    "    if len(groups) == 2:\n",
    "        group1 = df[df[grouping_col] == groups[0]][response_col].dropna()\n",
    "        group2 = df[df[grouping_col] == groups[1]][response_col].dropna()\n",
    "        \n",
    "        # Perform t-test\n",
    "        statistic, p_value = stats.ttest_ind(group1, group2)\n",
    "        \n",
    "        return {\n",
    "            'comparison': f'{groups[0]} vs {groups[1]}',\n",
    "            'statistic': statistic,\n",
    "            'p_value': p_value,\n",
    "            'significant': p_value < 0.05\n",
    "        }\n",
    "    elif len(groups) > 2:\n",
    "        # Use ANOVA for >2 groups\n",
    "        group_data = [df[df[grouping_col] == g][response_col].dropna() for g in groups]\n",
    "        statistic, p_value = stats.f_oneway(*group_data)\n",
    "        \n",
    "        return {\n",
    "            'comparison': f'{grouping_col} (ANOVA)',\n",
    "            'statistic': statistic,\n",
    "            'p_value': p_value,\n",
    "            'significant': p_value < 0.05\n",
    "        }\n",
    "\n",
    "# Example usage:\n",
    "for strain in df_plot['strain'].unique():\n",
    "    df_plot = df_plot.sort_values(['CmR'])\n",
    "    print(strain)\n",
    "    result = compare_groups_ttest(df_plot[df_plot['strain']==strain], 'Inoculation', 'Ns')\n",
    "    \n",
    "    for  entry in result.keys():\n",
    "        print(entry + \": \" + str(result[entry]))"
   ]
  },
  {
   "cell_type": "code",
   "execution_count": 107,
   "id": "6580318a",
   "metadata": {},
   "outputs": [
    {
     "data": {
      "application/vnd.plotly.v1+json": {
       "config": {
        "plotlyServerURL": "https://plotly.com"
       },
       "data": [
        {
         "alignmentgroup": "True",
         "boxpoints": "all",
         "customdata": [
          [
           "G2"
          ],
          [
           "E2"
          ],
          [
           "G8"
          ],
          [
           "F3"
          ],
          [
           "G9"
          ],
          [
           "G3"
          ],
          [
           "F9"
          ],
          [
           "H9"
          ],
          [
           "E8"
          ],
          [
           "H8"
          ],
          [
           "F8"
          ],
          [
           "E9"
          ],
          [
           "F2"
          ],
          [
           "H3"
          ],
          [
           "H2"
          ],
          [
           "E3"
          ],
          [
           "D8"
          ],
          [
           "B9"
          ],
          [
           "C8"
          ],
          [
           "C9"
          ],
          [
           "C2"
          ],
          [
           "D3"
          ],
          [
           "A3"
          ],
          [
           "D9"
          ],
          [
           "B3"
          ],
          [
           "B2"
          ],
          [
           "A8"
          ],
          [
           "D2"
          ],
          [
           "B8"
          ],
          [
           "A9"
          ],
          [
           "A2"
          ],
          [
           "C3"
          ],
          [
           "G8"
          ],
          [
           "E9"
          ],
          [
           "E8"
          ],
          [
           "F8"
          ],
          [
           "H9"
          ],
          [
           "H2"
          ],
          [
           "G9"
          ],
          [
           "H8"
          ],
          [
           "E2"
          ],
          [
           "E3"
          ],
          [
           "G3"
          ],
          [
           "F2"
          ],
          [
           "H3"
          ],
          [
           "G2"
          ],
          [
           "F3"
          ],
          [
           "F9"
          ],
          [
           "A3"
          ],
          [
           "D3"
          ],
          [
           "C3"
          ],
          [
           "C8"
          ],
          [
           "A8"
          ],
          [
           "D2"
          ],
          [
           "D8"
          ],
          [
           "C2"
          ],
          [
           "B8"
          ],
          [
           "B2"
          ],
          [
           "B3"
          ],
          [
           "A2"
          ],
          [
           "D9"
          ],
          [
           "A9"
          ],
          [
           "B9"
          ],
          [
           "C9"
          ],
          [
           "E9"
          ],
          [
           "H2"
          ],
          [
           "G3"
          ],
          [
           "H9"
          ],
          [
           "F8"
          ],
          [
           "E3"
          ],
          [
           "G8"
          ],
          [
           "G2"
          ],
          [
           "H8"
          ],
          [
           "F3"
          ],
          [
           "H3"
          ],
          [
           "F9"
          ],
          [
           "G9"
          ],
          [
           "E8"
          ],
          [
           "E2"
          ],
          [
           "F2"
          ],
          [
           "A8"
          ],
          [
           "C3"
          ],
          [
           "B9"
          ],
          [
           "B8"
          ],
          [
           "B3"
          ],
          [
           "A3"
          ],
          [
           "A2"
          ],
          [
           "D9"
          ],
          [
           "D3"
          ],
          [
           "C9"
          ],
          [
           "D8"
          ],
          [
           "A9"
          ],
          [
           "D2"
          ],
          [
           "B2"
          ],
          [
           "C2"
          ],
          [
           "C8"
          ],
          [
           "H9"
          ],
          [
           "G3"
          ],
          [
           "G8"
          ],
          [
           "E2"
          ],
          [
           "E8"
          ],
          [
           "F2"
          ],
          [
           "H2"
          ],
          [
           "H8"
          ],
          [
           "E9"
          ],
          [
           "E3"
          ],
          [
           "H3"
          ],
          [
           "G9"
          ],
          [
           "F3"
          ],
          [
           "G2"
          ],
          [
           "F9"
          ],
          [
           "F8"
          ],
          [
           "C3"
          ],
          [
           "A8"
          ],
          [
           "A2"
          ],
          [
           "B3"
          ],
          [
           "D2"
          ],
          [
           "B2"
          ],
          [
           "D9"
          ],
          [
           "C2"
          ],
          [
           "C8"
          ],
          [
           "A3"
          ],
          [
           "A9"
          ],
          [
           "B9"
          ],
          [
           "D8"
          ],
          [
           "D3"
          ],
          [
           "B8"
          ],
          [
           "C9"
          ],
          [
           "E3"
          ],
          [
           "G2"
          ],
          [
           "F9"
          ],
          [
           "G9"
          ],
          [
           "E2"
          ],
          [
           "H9"
          ],
          [
           "F8"
          ],
          [
           "H2"
          ],
          [
           "F2"
          ],
          [
           "E8"
          ],
          [
           "H3"
          ],
          [
           "G3"
          ],
          [
           "E9"
          ],
          [
           "G8"
          ],
          [
           "F3"
          ],
          [
           "H8"
          ],
          [
           "B8"
          ],
          [
           "B9"
          ],
          [
           "C8"
          ],
          [
           "D3"
          ],
          [
           "A2"
          ],
          [
           "D2"
          ],
          [
           "D9"
          ],
          [
           "B2"
          ],
          [
           "C2"
          ],
          [
           "B3"
          ],
          [
           "A8"
          ],
          [
           "A9"
          ],
          [
           "C9"
          ],
          [
           "D8"
          ],
          [
           "A3"
          ],
          [
           "C3"
          ]
         ],
         "hovertemplate": "Inoculation_2=mtc01<br>strain=%{x}<br>Ns=%{y}<br>sample_id=%{customdata[0]}<extra></extra>",
         "legendgroup": "mtc01",
         "marker": {
          "color": "#1F77B4"
         },
         "name": "mtc01",
         "notched": false,
         "offsetgroup": "mtc01",
         "orientation": "v",
         "showlegend": true,
         "type": "box",
         "x": [
          "ST1",
          "ST1",
          "ST1",
          "ST1",
          "ST1",
          "ST1",
          "ST1",
          "ST1",
          "ST1",
          "ST1",
          "ST1",
          "ST1",
          "ST1",
          "ST1",
          "ST1",
          "ST1",
          "ST1",
          "ST1",
          "ST1",
          "ST1",
          "ST1",
          "ST1",
          "ST1",
          "ST1",
          "ST1",
          "ST1",
          "ST1",
          "ST1",
          "ST1",
          "ST1",
          "ST1",
          "ST1",
          "ST2",
          "ST2",
          "ST2",
          "ST2",
          "ST2",
          "ST2",
          "ST2",
          "ST2",
          "ST2",
          "ST2",
          "ST2",
          "ST2",
          "ST2",
          "ST2",
          "ST2",
          "ST2",
          "ST2",
          "ST2",
          "ST2",
          "ST2",
          "ST2",
          "ST2",
          "ST2",
          "ST2",
          "ST2",
          "ST2",
          "ST2",
          "ST2",
          "ST2",
          "ST2",
          "ST2",
          "ST2",
          "ST4",
          "ST4",
          "ST4",
          "ST4",
          "ST4",
          "ST4",
          "ST4",
          "ST4",
          "ST4",
          "ST4",
          "ST4",
          "ST4",
          "ST4",
          "ST4",
          "ST4",
          "ST4",
          "ST4",
          "ST4",
          "ST4",
          "ST4",
          "ST4",
          "ST4",
          "ST4",
          "ST4",
          "ST4",
          "ST4",
          "ST4",
          "ST4",
          "ST4",
          "ST4",
          "ST4",
          "ST4",
          "ST5",
          "ST5",
          "ST5",
          "ST5",
          "ST5",
          "ST5",
          "ST5",
          "ST5",
          "ST5",
          "ST5",
          "ST5",
          "ST5",
          "ST5",
          "ST5",
          "ST5",
          "ST5",
          "ST5",
          "ST5",
          "ST5",
          "ST5",
          "ST5",
          "ST5",
          "ST5",
          "ST5",
          "ST5",
          "ST5",
          "ST5",
          "ST5",
          "ST5",
          "ST5",
          "ST5",
          "ST5",
          "ST6",
          "ST6",
          "ST6",
          "ST6",
          "ST6",
          "ST6",
          "ST6",
          "ST6",
          "ST6",
          "ST6",
          "ST6",
          "ST6",
          "ST6",
          "ST6",
          "ST6",
          "ST6",
          "ST6",
          "ST6",
          "ST6",
          "ST6",
          "ST6",
          "ST6",
          "ST6",
          "ST6",
          "ST6",
          "ST6",
          "ST6",
          "ST6",
          "ST6",
          "ST6",
          "ST6",
          "ST6"
         ],
         "x0": " ",
         "xaxis": "x",
         "y": {
          "bdata": "H7roootOZ0Afuuiii05nQAAAAAAAcqlAvG3btm37a0AAAAAAAKKgQIHRRRddtF5AXVVVVVWvpECqbdu2bU+fQAAAAAAAFLBAo6qqqqoYo0AAAAAAACqpQAAAAAAAKqBAAAAAAACQbECB0UUXXZRkQCFddNFFN2hAfy666KKraEAAAAAAoIz6QAAAAAAQZ/pAAAAAAKDt/UAAAAAA4I7+QAAAAACg1/pAAAAAAJAY9kAAAAAA0En4QAAAAADQTvhAAAAAAFBD90AAAAAAkIv2QAAAAAAgKwNBAAAAAFDk9kAAAAAAUDn3QAAAAABgEP1AAAAAAJAV+UAAAAAAIEb9QE6SJEmSJBVA8MRO7MROEEAAAAAAAADwPwAAAAAAAPA/UlVVVVVVEUDftm3btm0DQFJVVVVVVRFAXVVVVVVVBUBdVVVVVVUFQF1VVVVVVQVAkC666KKLBkBdVVVVVVUFQJAuuuiiiwZAXVVVVVVVBUBdVVVVVVUFQPDETuzEThBAsm3btm3bGkDwxE7sxE4EQPDETuzETgRA1Imd2ImdHECpqqqqqqoiQFJVVVVVVRFATpIkSZIkFUCRJEmSJEkgQPDETuzETgRA8MRO7MROEEBSVVVVVVURQN+2bdu2bQNAkSRJkiRJIEBcJ3ZiJ3YWQPDETuzEThBATpIkSZIkFUAAAACAB9RJQQAAAAAiekZBAAAAAPaAOkEAAAAANEBGQQAAAICLCEtBAAAAgJq6R0EAAACAqQhLQQAAAABBaUhBAAAAAEIjRkEAAACAYwhLQQAAAIDcc0dBAAAAgIsIS0EAAACAS5hEQQAAAIBonEdBAAAAgLdpSkEAAACAqQhLQQAAAIBvZURBAAAAAOofQEEAAAAAssBAQQAAAADHizxBAAAAAAvAPEEAAAAAZoBAQQAAAIAK+UFBAAAAAI4ROkEAAAAA10sxQQAAAABBuEJBAAAAgMxaQUEAAAAA7rNFQQAAAADLcT5BAAAAAI8SPkEAAAAAAOFAQQAAAIAGF0FBtKqqqupf1UAAAAAAgEeiQAAAAABgMuBAAAAAAAAGrkAAAAAAwOTYQCq66KKL87FAiC666KLVq0AAAAAAwPjYQAAAAACAEM9AU3TRRRe3p0BEF1100eemQAAAAABAB9dAAAAAAAC6qkBTdNFFF4evQAAAAABAXtpAAAAAAGBB4EAAAAAASAIYQQAAAABIiBlBAAAAAKh7G0EAAAAAeNYTQQAAAAAo5RhBAAAAAFi/E0EAAAAAqMoMQQAAAACowRtBAAAAADitE0EAAAAAmN0ZQQAAAABoMRlBAAAAABgkEkEAAAAA+PsTQQAAAABIhANBAAAAAMjZCkEAAAAA6PUVQVpVVVX1heZAAAAAAKBS6UAAAAAAoNjqQAAAAADg1OVAAAAAAIDe5kAAAAAAYP/lQAAAAAAASehAAAAAAKCa5kAAAAAAIBPqQAAAAADA3+ZAAAAAAABX5EAAAAAAINziQAAAAAAgSetAAAAAAMCX6EAAAAAAoM3mQAAAAACgDOZAAAAAAPD+9kAAAAAAkOT4QAAAAADwtPpAU1VVVeU89EAAAAAAUL4AQQAAAACQfgBBAAAAAHAK+EAAAAAA0Oj6QAAAAAAwjgBBAAAAALDB+0AAAAAAUNL6QAAAAACgUf9AAAAAAGBI/UAAAAAA0Dj7QAAAAABgM/5AAAAAAOAE/UA=",
          "dtype": "f8"
         },
         "y0": " ",
         "yaxis": "y"
        },
        {
         "alignmentgroup": "True",
         "boxpoints": "all",
         "customdata": [
          [
           "F1"
          ],
          [
           "E1"
          ],
          [
           "E7"
          ],
          [
           "H7"
          ],
          [
           "G1"
          ],
          [
           "H1"
          ],
          [
           "F7"
          ],
          [
           "G7"
          ],
          [
           "B1"
          ],
          [
           "D1"
          ],
          [
           "A7"
          ],
          [
           "D7"
          ],
          [
           "C1"
          ],
          [
           "B7"
          ],
          [
           "A1"
          ],
          [
           "C7"
          ],
          [
           "F1"
          ],
          [
           "E1"
          ],
          [
           "H7"
          ],
          [
           "H1"
          ],
          [
           "G7"
          ],
          [
           "G1"
          ],
          [
           "E7"
          ],
          [
           "F7"
          ],
          [
           "B7"
          ],
          [
           "A1"
          ],
          [
           "B1"
          ],
          [
           "D7"
          ],
          [
           "C1"
          ],
          [
           "A7"
          ],
          [
           "C7"
          ],
          [
           "D1"
          ],
          [
           "G7"
          ],
          [
           "H1"
          ],
          [
           "G1"
          ],
          [
           "F1"
          ],
          [
           "E7"
          ],
          [
           "F7"
          ],
          [
           "H7"
          ],
          [
           "E1"
          ],
          [
           "A1"
          ],
          [
           "C7"
          ],
          [
           "A7"
          ],
          [
           "D1"
          ],
          [
           "B7"
          ],
          [
           "D7"
          ],
          [
           "C1"
          ],
          [
           "B1"
          ],
          [
           "F7"
          ],
          [
           "H1"
          ],
          [
           "H7"
          ],
          [
           "E1"
          ],
          [
           "E7"
          ],
          [
           "G1"
          ],
          [
           "G7"
          ],
          [
           "F1"
          ],
          [
           "C7"
          ],
          [
           "A1"
          ],
          [
           "D1"
          ],
          [
           "D7"
          ],
          [
           "A7"
          ],
          [
           "C1"
          ],
          [
           "B1"
          ],
          [
           "B7"
          ],
          [
           "H1"
          ],
          [
           "G1"
          ],
          [
           "F7"
          ],
          [
           "E1"
          ],
          [
           "H7"
          ],
          [
           "F1"
          ],
          [
           "G7"
          ],
          [
           "E7"
          ],
          [
           "C1"
          ],
          [
           "B1"
          ],
          [
           "B7"
          ],
          [
           "A7"
          ],
          [
           "C7"
          ],
          [
           "D7"
          ],
          [
           "D1"
          ],
          [
           "A1"
          ]
         ],
         "hovertemplate": "Inoculation_2=NA<br>strain=%{x}<br>Ns=%{y}<br>sample_id=%{customdata[0]}<extra></extra>",
         "legendgroup": "NA",
         "marker": {
          "color": "#FF7F0E"
         },
         "name": "NA",
         "notched": false,
         "offsetgroup": "NA",
         "orientation": "v",
         "showlegend": true,
         "type": "box",
         "x": [
          "ST1",
          "ST1",
          "ST1",
          "ST1",
          "ST1",
          "ST1",
          "ST1",
          "ST1",
          "ST1",
          "ST1",
          "ST1",
          "ST1",
          "ST1",
          "ST1",
          "ST1",
          "ST1",
          "ST2",
          "ST2",
          "ST2",
          "ST2",
          "ST2",
          "ST2",
          "ST2",
          "ST2",
          "ST2",
          "ST2",
          "ST2",
          "ST2",
          "ST2",
          "ST2",
          "ST2",
          "ST2",
          "ST4",
          "ST4",
          "ST4",
          "ST4",
          "ST4",
          "ST4",
          "ST4",
          "ST4",
          "ST4",
          "ST4",
          "ST4",
          "ST4",
          "ST4",
          "ST4",
          "ST4",
          "ST4",
          "ST5",
          "ST5",
          "ST5",
          "ST5",
          "ST5",
          "ST5",
          "ST5",
          "ST5",
          "ST5",
          "ST5",
          "ST5",
          "ST5",
          "ST5",
          "ST5",
          "ST5",
          "ST5",
          "ST6",
          "ST6",
          "ST6",
          "ST6",
          "ST6",
          "ST6",
          "ST6",
          "ST6",
          "ST6",
          "ST6",
          "ST6",
          "ST6",
          "ST6",
          "ST6",
          "ST6",
          "ST6"
         ],
         "x0": " ",
         "xaxis": "x",
         "y": {
          "bdata": "PxdddNHlY0AAAAAAAGBlQAAAAAAA0HJAAAAAAACwakBhVVVVVbVjQD8XXXTRZWFAAAAAAAAwd0AAAAAAAPB1QAAAAADQ6/ZAAAAAAFBm90AAAAAAoJD7QAAAAAAQafhAAAAAABBV+EAAAAAAgAD1QAAAAADQNPlAAAAAAKCM+kBdVVVVVVUFQPDETuzETgRAUSd2Yid2JEBdVVVVVVUFQPDETuzEThBAkC666KKLBkBIkiRJkiQjQKmqqqqqqiJAXCd2Yid2FkC9bdu2bdsOQF1VVVVVVQVAXCd2Yid2FkBOkiRJkiQVQJAuuuiiixJAUlVVVVVVEUC9bdu2bdsOQAAAAIB+60ZBAAAAAJCARUEAAAAAwUJJQQAAAIB3CEtBAAAAgK9MRUEAAAAA2+JIQQAAAACslkVBAAAAgLTNR0EAAACAyh9CQQAAAABUUUBBAAAAAOGQQkEAAAAA2j5AQQAAAACGbTtBAAAAgJ8IS0EAAACA9iFBQQAAAAAyLzxBAAAAAOgvE0EAAAAAAPWwQAAAAABIMQFBAAAAAADOr0AAAAAAaFkOQbzooosup7FAAAAAAJAD+EDWRRdddOqxQAAAAAAIrhVBAAAAAOiEHUEAAAAAKHYeQQAAAAB0XDBBAAAAAHisGkEAAAAAjDogQQAAAADYUBZBAAAAAMjGDkGmqqqqStHpQAAAAAAgWOtAAAAAAEBX3kAAAAAAAI/oQAAAAACg/+FApqqqqsqN6UAAAAAAoP/iQLSqqqpqNd9AAAAAAODL/kAAAAAAELr4QAAAAADQdvRAAAAAALBS90AAAAAAsAL3QAAAAACQuwRBAAAAAGAa/kAAAAAAUDH7QA==",
          "dtype": "f8"
         },
         "y0": " ",
         "yaxis": "y"
        },
        {
         "alignmentgroup": "True",
         "boxpoints": "all",
         "customdata": [
          [
           "H5"
          ],
          [
           "E12"
          ],
          [
           "G5"
          ],
          [
           "G11"
          ],
          [
           "G12"
          ],
          [
           "E6"
          ],
          [
           "H12"
          ],
          [
           "F5"
          ],
          [
           "H6"
          ],
          [
           "H11"
          ],
          [
           "F11"
          ],
          [
           "F6"
          ],
          [
           "E5"
          ],
          [
           "G6"
          ],
          [
           "E11"
          ],
          [
           "F12"
          ],
          [
           "A11"
          ],
          [
           "D5"
          ],
          [
           "B5"
          ],
          [
           "C11"
          ],
          [
           "A6"
          ],
          [
           "B11"
          ],
          [
           "A5"
          ],
          [
           "C12"
          ],
          [
           "B6"
          ],
          [
           "D6"
          ],
          [
           "D12"
          ],
          [
           "D11"
          ],
          [
           "A12"
          ],
          [
           "B12"
          ],
          [
           "C5"
          ],
          [
           "C6"
          ],
          [
           "G6"
          ],
          [
           "F6"
          ],
          [
           "H5"
          ],
          [
           "F12"
          ],
          [
           "H11"
          ],
          [
           "G5"
          ],
          [
           "E5"
          ],
          [
           "E11"
          ],
          [
           "E6"
          ],
          [
           "F5"
          ],
          [
           "F11"
          ],
          [
           "H12"
          ],
          [
           "G12"
          ],
          [
           "G11"
          ],
          [
           "E12"
          ],
          [
           "H6"
          ],
          [
           "B12"
          ],
          [
           "A12"
          ],
          [
           "A5"
          ],
          [
           "B5"
          ],
          [
           "D11"
          ],
          [
           "D6"
          ],
          [
           "D12"
          ],
          [
           "D5"
          ],
          [
           "C12"
          ],
          [
           "C6"
          ],
          [
           "B6"
          ],
          [
           "C11"
          ],
          [
           "A11"
          ],
          [
           "B11"
          ],
          [
           "A6"
          ],
          [
           "C5"
          ],
          [
           "H12"
          ],
          [
           "F5"
          ],
          [
           "E6"
          ],
          [
           "H11"
          ],
          [
           "G6"
          ],
          [
           "E11"
          ],
          [
           "F12"
          ],
          [
           "E5"
          ],
          [
           "G12"
          ],
          [
           "H5"
          ],
          [
           "G11"
          ],
          [
           "H6"
          ],
          [
           "E12"
          ],
          [
           "F6"
          ],
          [
           "G5"
          ],
          [
           "F11"
          ],
          [
           "B12"
          ],
          [
           "D11"
          ],
          [
           "C12"
          ],
          [
           "C5"
          ],
          [
           "A11"
          ],
          [
           "C6"
          ],
          [
           "D5"
          ],
          [
           "D12"
          ],
          [
           "B5"
          ],
          [
           "B11"
          ],
          [
           "B6"
          ],
          [
           "A5"
          ],
          [
           "A6"
          ],
          [
           "A12"
          ],
          [
           "D6"
          ],
          [
           "C11"
          ],
          [
           "G11"
          ],
          [
           "E11"
          ],
          [
           "F5"
          ],
          [
           "H12"
          ],
          [
           "G12"
          ],
          [
           "E5"
          ],
          [
           "E12"
          ],
          [
           "E6"
          ],
          [
           "H11"
          ],
          [
           "G6"
          ],
          [
           "F6"
          ],
          [
           "G5"
          ],
          [
           "F11"
          ],
          [
           "F12"
          ],
          [
           "H5"
          ],
          [
           "H6"
          ],
          [
           "A5"
          ],
          [
           "C5"
          ],
          [
           "C11"
          ],
          [
           "B11"
          ],
          [
           "A6"
          ],
          [
           "B12"
          ],
          [
           "D6"
          ],
          [
           "D11"
          ],
          [
           "D5"
          ],
          [
           "C6"
          ],
          [
           "B6"
          ],
          [
           "B5"
          ],
          [
           "C12"
          ],
          [
           "D12"
          ],
          [
           "A12"
          ],
          [
           "A11"
          ],
          [
           "H6"
          ],
          [
           "G11"
          ],
          [
           "G12"
          ],
          [
           "E6"
          ],
          [
           "H12"
          ],
          [
           "H5"
          ],
          [
           "F11"
          ],
          [
           "G5"
          ],
          [
           "E11"
          ],
          [
           "F12"
          ],
          [
           "F6"
          ],
          [
           "E5"
          ],
          [
           "G6"
          ],
          [
           "F5"
          ],
          [
           "H11"
          ],
          [
           "E12"
          ],
          [
           "A5"
          ],
          [
           "C11"
          ],
          [
           "A6"
          ],
          [
           "B6"
          ],
          [
           "B5"
          ],
          [
           "D6"
          ],
          [
           "A11"
          ],
          [
           "D12"
          ],
          [
           "C6"
          ],
          [
           "D11"
          ],
          [
           "D5"
          ],
          [
           "B11"
          ],
          [
           "B12"
          ],
          [
           "C12"
          ],
          [
           "C5"
          ],
          [
           "A12"
          ]
         ],
         "hovertemplate": "Inoculation_2=barcodes<br>strain=%{x}<br>Ns=%{y}<br>sample_id=%{customdata[0]}<extra></extra>",
         "legendgroup": "barcodes",
         "marker": {
          "color": "#2CA02C"
         },
         "name": "barcodes",
         "notched": false,
         "offsetgroup": "barcodes",
         "orientation": "v",
         "showlegend": true,
         "type": "box",
         "x": [
          "ST1",
          "ST1",
          "ST1",
          "ST1",
          "ST1",
          "ST1",
          "ST1",
          "ST1",
          "ST1",
          "ST1",
          "ST1",
          "ST1",
          "ST1",
          "ST1",
          "ST1",
          "ST1",
          "ST1",
          "ST1",
          "ST1",
          "ST1",
          "ST1",
          "ST1",
          "ST1",
          "ST1",
          "ST1",
          "ST1",
          "ST1",
          "ST1",
          "ST1",
          "ST1",
          "ST1",
          "ST1",
          "ST2",
          "ST2",
          "ST2",
          "ST2",
          "ST2",
          "ST2",
          "ST2",
          "ST2",
          "ST2",
          "ST2",
          "ST2",
          "ST2",
          "ST2",
          "ST2",
          "ST2",
          "ST2",
          "ST2",
          "ST2",
          "ST2",
          "ST2",
          "ST2",
          "ST2",
          "ST2",
          "ST2",
          "ST2",
          "ST2",
          "ST2",
          "ST2",
          "ST2",
          "ST2",
          "ST2",
          "ST2",
          "ST4",
          "ST4",
          "ST4",
          "ST4",
          "ST4",
          "ST4",
          "ST4",
          "ST4",
          "ST4",
          "ST4",
          "ST4",
          "ST4",
          "ST4",
          "ST4",
          "ST4",
          "ST4",
          "ST4",
          "ST4",
          "ST4",
          "ST4",
          "ST4",
          "ST4",
          "ST4",
          "ST4",
          "ST4",
          "ST4",
          "ST4",
          "ST4",
          "ST4",
          "ST4",
          "ST4",
          "ST4",
          "ST5",
          "ST5",
          "ST5",
          "ST5",
          "ST5",
          "ST5",
          "ST5",
          "ST5",
          "ST5",
          "ST5",
          "ST5",
          "ST5",
          "ST5",
          "ST5",
          "ST5",
          "ST5",
          "ST5",
          "ST5",
          "ST5",
          "ST5",
          "ST5",
          "ST5",
          "ST5",
          "ST5",
          "ST5",
          "ST5",
          "ST5",
          "ST5",
          "ST5",
          "ST5",
          "ST5",
          "ST5",
          "ST6",
          "ST6",
          "ST6",
          "ST6",
          "ST6",
          "ST6",
          "ST6",
          "ST6",
          "ST6",
          "ST6",
          "ST6",
          "ST6",
          "ST6",
          "ST6",
          "ST6",
          "ST6",
          "ST6",
          "ST6",
          "ST6",
          "ST6",
          "ST6",
          "ST6",
          "ST6",
          "ST6",
          "ST6",
          "ST6",
          "ST6",
          "ST6",
          "ST6",
          "ST6",
          "ST6",
          "ST6"
         ],
         "x0": " ",
         "xaxis": "x",
         "y": {
          "bdata": "3rZt27b9fEAAAAAAAJSZQN62bdu2fX9As23btm1jhEBHVVVVVRGZQE2SJEmSjIBAAAAAAADUlUDetm3btrWBQAAAAAAAsH5ARJIkSZL0fkAAAAAAAOyGQLNt27Zt44FAmiRJkiTZf0BNkiRJkoyAQFhVVVVVvYZAAAAAAADkn0AAAAAA2GsCQQAAAAC4ZQBBAAAAAHiqAEEAAAAA2MEBQQAAAAAA+gNBAAAAAKAg/UAAAAAAODsAQQAAAABoQwVBAAAAABCl+EAAAAAAWAsBQQAAAAD4gwFBAAAAAGDhAkEAAAAASFMGQQAAAAC46wFBAAAAAEAFBEEAAAAAIK0DQfDETuzEThBAAAAAAAAACECQLrrooosGQFEndmIndiRA1Imd2ImdHEDwxE7sxE4EQF1VVVVVVQVATpIkSZIkFUBdVVVVVVUFQF1VVVVVVQVAXVVVVVVVBUAAAAAAAAAYQFEndmIndiRAvW3btm3bDkCpqqqqqqoiQL1t27Zt2w5AAAAAAAAAE0Dftm3btm0DQNSJndiJnRxAXCd2Yid2FkDwxE7sxE4EQFwndmIndhZAJnZiJ3ZiIUC9bdu2bdsOQFwndmIndhZAUlVVVVVVEUDwxE7sxE4EQL1t27Zt2w5AXCd2Yid2FkDwxE7sxE4QQF1VVVVVVQVA8MRO7MROEEAAAAAAfIVFQQAAAICfCEtBAAAAgJ8IS0EAAAAA3UhDQQAAAIB3CEtBAAAAgChQR0EAAACAbQhLQQAAAADzKUlBAAAAAItLSUEAAAAAiI1FQQAAAICjzERBAAAAgEQvR0EAAACAU75KQQAAAICBCEtBAAAAgJUIS0EAAAAAtAhLQQAAAAAjMDNBAAAAAFueQkEAAAAAeCo1QQAAAIBCAkJBAAAAgGDHR0EAAACA0ApCQQAAAIB0EUJBAAAAAMIPOkEAAAAA1o1AQQAAAACSvDpBAAAAADfePUEAAAAAPABAQQAAAICnD0RBAAAAAFYrOkEAAAAA7VtDQQAAAACB3EJBAAAAAKCJ6UAAAAAA0FnzQAAAAAAAGbpAAAAAAIiaAkEAAAAA2DkUQQAAAAAAy7dAAAAAAMiCF0EAAAAAgCzGQAAAAABQwfJAn23btu0jxUAAAAAAgEzIQAAAAACARbhAAAAAAFA7+0AAAAAAiPQMQQAAAACA97VAaFVVVdVSxUAAAAAArEshQQAAAADGAylBAAAAAJxWIUEAAAAAyMUVQQAAAAA+DyhBAAAAgPTGQUEAAAAAwDbcQAAAAAAelCdBAAAAAGaeJUEAAAAATmomQQAAAABYiC1BAAAAAGxoIUEAAAAAPgE3QQAAAABpn0xBAAAAgCXSR0EAAAAAVjckQQAAAADAV+dAWlVVVfWK5kC0qqqqasbfQAAAAACgZulAtKqqqmob20AAAAAAoN3nQFpVVVV1QOhAAAAAACBP6kAAAAAAoKDmQExVVVUVsN5ApqqqqkqF6kAAAAAA4GfpQAAAAABgg+lAAAAAAMBo6kAAAAAAoBfjQAAAAACglOFAAAAAAHC690AAAAAAUMXzQAAAAABg8O9AAAAAAIAC60AAAAAA0Ar3QAAAAADgA+5AAAAAABDH9UC0qqqq6irYQFpVVVX1vu5AAAAAAFAl80AAAAAA0NX5QFNVVVXlhvBAAAAAAEDc2UBFkiRJ0s/aQMKqqqo6lvhAAAAAAEDu20A=",
          "dtype": "f8"
         },
         "y0": " ",
         "yaxis": "y"
        }
       ],
       "layout": {
        "boxmode": "group",
        "height": 500,
        "legend": {
         "title": {
          "text": "Inoculation_2"
         },
         "tracegroupgap": 0
        },
        "margin": {
         "t": 60
        },
        "template": {
         "data": {
          "bar": [
           {
            "error_x": {
             "color": "rgb(36,36,36)"
            },
            "error_y": {
             "color": "rgb(36,36,36)"
            },
            "marker": {
             "line": {
              "color": "white",
              "width": 0.5
             },
             "pattern": {
              "fillmode": "overlay",
              "size": 10,
              "solidity": 0.2
             }
            },
            "type": "bar"
           }
          ],
          "barpolar": [
           {
            "marker": {
             "line": {
              "color": "white",
              "width": 0.5
             },
             "pattern": {
              "fillmode": "overlay",
              "size": 10,
              "solidity": 0.2
             }
            },
            "type": "barpolar"
           }
          ],
          "carpet": [
           {
            "aaxis": {
             "endlinecolor": "rgb(36,36,36)",
             "gridcolor": "white",
             "linecolor": "white",
             "minorgridcolor": "white",
             "startlinecolor": "rgb(36,36,36)"
            },
            "baxis": {
             "endlinecolor": "rgb(36,36,36)",
             "gridcolor": "white",
             "linecolor": "white",
             "minorgridcolor": "white",
             "startlinecolor": "rgb(36,36,36)"
            },
            "type": "carpet"
           }
          ],
          "choropleth": [
           {
            "colorbar": {
             "outlinewidth": 1,
             "tickcolor": "rgb(36,36,36)",
             "ticks": "outside"
            },
            "type": "choropleth"
           }
          ],
          "contour": [
           {
            "colorbar": {
             "outlinewidth": 1,
             "tickcolor": "rgb(36,36,36)",
             "ticks": "outside"
            },
            "colorscale": [
             [
              0,
              "#440154"
             ],
             [
              0.1111111111111111,
              "#482878"
             ],
             [
              0.2222222222222222,
              "#3e4989"
             ],
             [
              0.3333333333333333,
              "#31688e"
             ],
             [
              0.4444444444444444,
              "#26828e"
             ],
             [
              0.5555555555555556,
              "#1f9e89"
             ],
             [
              0.6666666666666666,
              "#35b779"
             ],
             [
              0.7777777777777778,
              "#6ece58"
             ],
             [
              0.8888888888888888,
              "#b5de2b"
             ],
             [
              1,
              "#fde725"
             ]
            ],
            "type": "contour"
           }
          ],
          "contourcarpet": [
           {
            "colorbar": {
             "outlinewidth": 1,
             "tickcolor": "rgb(36,36,36)",
             "ticks": "outside"
            },
            "type": "contourcarpet"
           }
          ],
          "heatmap": [
           {
            "colorbar": {
             "outlinewidth": 1,
             "tickcolor": "rgb(36,36,36)",
             "ticks": "outside"
            },
            "colorscale": [
             [
              0,
              "#440154"
             ],
             [
              0.1111111111111111,
              "#482878"
             ],
             [
              0.2222222222222222,
              "#3e4989"
             ],
             [
              0.3333333333333333,
              "#31688e"
             ],
             [
              0.4444444444444444,
              "#26828e"
             ],
             [
              0.5555555555555556,
              "#1f9e89"
             ],
             [
              0.6666666666666666,
              "#35b779"
             ],
             [
              0.7777777777777778,
              "#6ece58"
             ],
             [
              0.8888888888888888,
              "#b5de2b"
             ],
             [
              1,
              "#fde725"
             ]
            ],
            "type": "heatmap"
           }
          ],
          "histogram": [
           {
            "marker": {
             "line": {
              "color": "white",
              "width": 0.6
             }
            },
            "type": "histogram"
           }
          ],
          "histogram2d": [
           {
            "colorbar": {
             "outlinewidth": 1,
             "tickcolor": "rgb(36,36,36)",
             "ticks": "outside"
            },
            "colorscale": [
             [
              0,
              "#440154"
             ],
             [
              0.1111111111111111,
              "#482878"
             ],
             [
              0.2222222222222222,
              "#3e4989"
             ],
             [
              0.3333333333333333,
              "#31688e"
             ],
             [
              0.4444444444444444,
              "#26828e"
             ],
             [
              0.5555555555555556,
              "#1f9e89"
             ],
             [
              0.6666666666666666,
              "#35b779"
             ],
             [
              0.7777777777777778,
              "#6ece58"
             ],
             [
              0.8888888888888888,
              "#b5de2b"
             ],
             [
              1,
              "#fde725"
             ]
            ],
            "type": "histogram2d"
           }
          ],
          "histogram2dcontour": [
           {
            "colorbar": {
             "outlinewidth": 1,
             "tickcolor": "rgb(36,36,36)",
             "ticks": "outside"
            },
            "colorscale": [
             [
              0,
              "#440154"
             ],
             [
              0.1111111111111111,
              "#482878"
             ],
             [
              0.2222222222222222,
              "#3e4989"
             ],
             [
              0.3333333333333333,
              "#31688e"
             ],
             [
              0.4444444444444444,
              "#26828e"
             ],
             [
              0.5555555555555556,
              "#1f9e89"
             ],
             [
              0.6666666666666666,
              "#35b779"
             ],
             [
              0.7777777777777778,
              "#6ece58"
             ],
             [
              0.8888888888888888,
              "#b5de2b"
             ],
             [
              1,
              "#fde725"
             ]
            ],
            "type": "histogram2dcontour"
           }
          ],
          "mesh3d": [
           {
            "colorbar": {
             "outlinewidth": 1,
             "tickcolor": "rgb(36,36,36)",
             "ticks": "outside"
            },
            "type": "mesh3d"
           }
          ],
          "parcoords": [
           {
            "line": {
             "colorbar": {
              "outlinewidth": 1,
              "tickcolor": "rgb(36,36,36)",
              "ticks": "outside"
             }
            },
            "type": "parcoords"
           }
          ],
          "pie": [
           {
            "automargin": true,
            "type": "pie"
           }
          ],
          "scatter": [
           {
            "fillpattern": {
             "fillmode": "overlay",
             "size": 10,
             "solidity": 0.2
            },
            "type": "scatter"
           }
          ],
          "scatter3d": [
           {
            "line": {
             "colorbar": {
              "outlinewidth": 1,
              "tickcolor": "rgb(36,36,36)",
              "ticks": "outside"
             }
            },
            "marker": {
             "colorbar": {
              "outlinewidth": 1,
              "tickcolor": "rgb(36,36,36)",
              "ticks": "outside"
             }
            },
            "type": "scatter3d"
           }
          ],
          "scattercarpet": [
           {
            "marker": {
             "colorbar": {
              "outlinewidth": 1,
              "tickcolor": "rgb(36,36,36)",
              "ticks": "outside"
             }
            },
            "type": "scattercarpet"
           }
          ],
          "scattergeo": [
           {
            "marker": {
             "colorbar": {
              "outlinewidth": 1,
              "tickcolor": "rgb(36,36,36)",
              "ticks": "outside"
             }
            },
            "type": "scattergeo"
           }
          ],
          "scattergl": [
           {
            "marker": {
             "colorbar": {
              "outlinewidth": 1,
              "tickcolor": "rgb(36,36,36)",
              "ticks": "outside"
             }
            },
            "type": "scattergl"
           }
          ],
          "scattermap": [
           {
            "marker": {
             "colorbar": {
              "outlinewidth": 1,
              "tickcolor": "rgb(36,36,36)",
              "ticks": "outside"
             }
            },
            "type": "scattermap"
           }
          ],
          "scattermapbox": [
           {
            "marker": {
             "colorbar": {
              "outlinewidth": 1,
              "tickcolor": "rgb(36,36,36)",
              "ticks": "outside"
             }
            },
            "type": "scattermapbox"
           }
          ],
          "scatterpolar": [
           {
            "marker": {
             "colorbar": {
              "outlinewidth": 1,
              "tickcolor": "rgb(36,36,36)",
              "ticks": "outside"
             }
            },
            "type": "scatterpolar"
           }
          ],
          "scatterpolargl": [
           {
            "marker": {
             "colorbar": {
              "outlinewidth": 1,
              "tickcolor": "rgb(36,36,36)",
              "ticks": "outside"
             }
            },
            "type": "scatterpolargl"
           }
          ],
          "scatterternary": [
           {
            "marker": {
             "colorbar": {
              "outlinewidth": 1,
              "tickcolor": "rgb(36,36,36)",
              "ticks": "outside"
             }
            },
            "type": "scatterternary"
           }
          ],
          "surface": [
           {
            "colorbar": {
             "outlinewidth": 1,
             "tickcolor": "rgb(36,36,36)",
             "ticks": "outside"
            },
            "colorscale": [
             [
              0,
              "#440154"
             ],
             [
              0.1111111111111111,
              "#482878"
             ],
             [
              0.2222222222222222,
              "#3e4989"
             ],
             [
              0.3333333333333333,
              "#31688e"
             ],
             [
              0.4444444444444444,
              "#26828e"
             ],
             [
              0.5555555555555556,
              "#1f9e89"
             ],
             [
              0.6666666666666666,
              "#35b779"
             ],
             [
              0.7777777777777778,
              "#6ece58"
             ],
             [
              0.8888888888888888,
              "#b5de2b"
             ],
             [
              1,
              "#fde725"
             ]
            ],
            "type": "surface"
           }
          ],
          "table": [
           {
            "cells": {
             "fill": {
              "color": "rgb(237,237,237)"
             },
             "line": {
              "color": "white"
             }
            },
            "header": {
             "fill": {
              "color": "rgb(217,217,217)"
             },
             "line": {
              "color": "white"
             }
            },
            "type": "table"
           }
          ]
         },
         "layout": {
          "annotationdefaults": {
           "arrowhead": 0,
           "arrowwidth": 1
          },
          "autotypenumbers": "strict",
          "coloraxis": {
           "colorbar": {
            "outlinewidth": 1,
            "tickcolor": "rgb(36,36,36)",
            "ticks": "outside"
           }
          },
          "colorscale": {
           "diverging": [
            [
             0,
             "rgb(103,0,31)"
            ],
            [
             0.1,
             "rgb(178,24,43)"
            ],
            [
             0.2,
             "rgb(214,96,77)"
            ],
            [
             0.3,
             "rgb(244,165,130)"
            ],
            [
             0.4,
             "rgb(253,219,199)"
            ],
            [
             0.5,
             "rgb(247,247,247)"
            ],
            [
             0.6,
             "rgb(209,229,240)"
            ],
            [
             0.7,
             "rgb(146,197,222)"
            ],
            [
             0.8,
             "rgb(67,147,195)"
            ],
            [
             0.9,
             "rgb(33,102,172)"
            ],
            [
             1,
             "rgb(5,48,97)"
            ]
           ],
           "sequential": [
            [
             0,
             "#440154"
            ],
            [
             0.1111111111111111,
             "#482878"
            ],
            [
             0.2222222222222222,
             "#3e4989"
            ],
            [
             0.3333333333333333,
             "#31688e"
            ],
            [
             0.4444444444444444,
             "#26828e"
            ],
            [
             0.5555555555555556,
             "#1f9e89"
            ],
            [
             0.6666666666666666,
             "#35b779"
            ],
            [
             0.7777777777777778,
             "#6ece58"
            ],
            [
             0.8888888888888888,
             "#b5de2b"
            ],
            [
             1,
             "#fde725"
            ]
           ],
           "sequentialminus": [
            [
             0,
             "#440154"
            ],
            [
             0.1111111111111111,
             "#482878"
            ],
            [
             0.2222222222222222,
             "#3e4989"
            ],
            [
             0.3333333333333333,
             "#31688e"
            ],
            [
             0.4444444444444444,
             "#26828e"
            ],
            [
             0.5555555555555556,
             "#1f9e89"
            ],
            [
             0.6666666666666666,
             "#35b779"
            ],
            [
             0.7777777777777778,
             "#6ece58"
            ],
            [
             0.8888888888888888,
             "#b5de2b"
            ],
            [
             1,
             "#fde725"
            ]
           ]
          },
          "colorway": [
           "#1F77B4",
           "#FF7F0E",
           "#2CA02C",
           "#D62728",
           "#9467BD",
           "#8C564B",
           "#E377C2",
           "#7F7F7F",
           "#BCBD22",
           "#17BECF"
          ],
          "font": {
           "color": "rgb(36,36,36)"
          },
          "geo": {
           "bgcolor": "white",
           "lakecolor": "white",
           "landcolor": "white",
           "showlakes": true,
           "showland": true,
           "subunitcolor": "white"
          },
          "hoverlabel": {
           "align": "left"
          },
          "hovermode": "closest",
          "mapbox": {
           "style": "light"
          },
          "paper_bgcolor": "white",
          "plot_bgcolor": "white",
          "polar": {
           "angularaxis": {
            "gridcolor": "rgb(232,232,232)",
            "linecolor": "rgb(36,36,36)",
            "showgrid": false,
            "showline": true,
            "ticks": "outside"
           },
           "bgcolor": "white",
           "radialaxis": {
            "gridcolor": "rgb(232,232,232)",
            "linecolor": "rgb(36,36,36)",
            "showgrid": false,
            "showline": true,
            "ticks": "outside"
           }
          },
          "scene": {
           "xaxis": {
            "backgroundcolor": "white",
            "gridcolor": "rgb(232,232,232)",
            "gridwidth": 2,
            "linecolor": "rgb(36,36,36)",
            "showbackground": true,
            "showgrid": false,
            "showline": true,
            "ticks": "outside",
            "zeroline": false,
            "zerolinecolor": "rgb(36,36,36)"
           },
           "yaxis": {
            "backgroundcolor": "white",
            "gridcolor": "rgb(232,232,232)",
            "gridwidth": 2,
            "linecolor": "rgb(36,36,36)",
            "showbackground": true,
            "showgrid": false,
            "showline": true,
            "ticks": "outside",
            "zeroline": false,
            "zerolinecolor": "rgb(36,36,36)"
           },
           "zaxis": {
            "backgroundcolor": "white",
            "gridcolor": "rgb(232,232,232)",
            "gridwidth": 2,
            "linecolor": "rgb(36,36,36)",
            "showbackground": true,
            "showgrid": false,
            "showline": true,
            "ticks": "outside",
            "zeroline": false,
            "zerolinecolor": "rgb(36,36,36)"
           }
          },
          "shapedefaults": {
           "fillcolor": "black",
           "line": {
            "width": 0
           },
           "opacity": 0.3
          },
          "ternary": {
           "aaxis": {
            "gridcolor": "rgb(232,232,232)",
            "linecolor": "rgb(36,36,36)",
            "showgrid": false,
            "showline": true,
            "ticks": "outside"
           },
           "baxis": {
            "gridcolor": "rgb(232,232,232)",
            "linecolor": "rgb(36,36,36)",
            "showgrid": false,
            "showline": true,
            "ticks": "outside"
           },
           "bgcolor": "white",
           "caxis": {
            "gridcolor": "rgb(232,232,232)",
            "linecolor": "rgb(36,36,36)",
            "showgrid": false,
            "showline": true,
            "ticks": "outside"
           }
          },
          "title": {
           "x": 0.05
          },
          "xaxis": {
           "automargin": true,
           "gridcolor": "rgb(232,232,232)",
           "linecolor": "rgb(36,36,36)",
           "showgrid": false,
           "showline": true,
           "ticks": "outside",
           "title": {
            "standoff": 15
           },
           "zeroline": false,
           "zerolinecolor": "rgb(36,36,36)"
          },
          "yaxis": {
           "automargin": true,
           "gridcolor": "rgb(232,232,232)",
           "linecolor": "rgb(36,36,36)",
           "showgrid": false,
           "showline": true,
           "ticks": "outside",
           "title": {
            "standoff": 15
           },
           "zeroline": false,
           "zerolinecolor": "rgb(36,36,36)"
          }
         }
        },
        "width": 700,
        "xaxis": {
         "anchor": "y",
         "domain": [
          0,
          1
         ],
         "title": {
          "text": "strain"
         }
        },
        "yaxis": {
         "anchor": "x",
         "domain": [
          0,
          1
         ],
         "title": {
          "text": "Ns"
         },
         "type": "log"
        }
       }
      }
     },
     "metadata": {},
     "output_type": "display_data"
    },
    {
     "name": "stdout",
     "output_type": "stream",
     "text": [
      "ST1\n",
      "comparison: Inoculation_2 (ANOVA)\n",
      "statistic: 1.0171532256899456\n",
      "p_value: 0.3664295806243133\n",
      "significant: False\n",
      "ST2\n",
      "comparison: Inoculation_2 (ANOVA)\n",
      "statistic: 1.1111195205581417\n",
      "p_value: 0.3344098673115999\n",
      "significant: False\n",
      "ST4\n",
      "comparison: Inoculation_2 (ANOVA)\n",
      "statistic: 0.08198750238200198\n",
      "p_value: 0.9213637882341129\n",
      "significant: False\n",
      "ST5\n",
      "comparison: Inoculation_2 (ANOVA)\n",
      "statistic: 4.488814448073645\n",
      "p_value: 0.014323612343120089\n",
      "significant: True\n",
      "ST6\n",
      "comparison: Inoculation_2 (ANOVA)\n",
      "statistic: 5.3850840925796755\n",
      "p_value: 0.006471964000139113\n",
      "significant: True\n"
     ]
    }
   ],
   "source": [
    "df_merge = df_merge.sort_values(['strain', 'CmR'],ascending=True)\n",
    "df_plot = df_merge.loc[(df_merge['Inoculation']=='barcodes')|(df_merge['Inoculation_2']=='barcodes')]\n",
    "fig = px.box(df_plot,\n",
    "                x = 'strain', \n",
    "                y = 'Ns',\n",
    "                color = 'Inoculation_2',\n",
    "                points = 'all',\n",
    "                log_y=True,\n",
    "                template = 'simple_white',\n",
    "                hover_data=['sample_id'],width = 700,\n",
    "                height = 500,\n",
    "                )\n",
    "fig.show()\n",
    "\n",
    "def compare_groups_ttest(df, grouping_col, response_col):\n",
    "    \"\"\"\n",
    "    Two-sample t-test for comparing two groups\n",
    "    \"\"\"\n",
    "    groups = df[grouping_col].unique()\n",
    "    \n",
    "    if len(groups) == 2:\n",
    "        group1 = df[df[grouping_col] == groups[0]][response_col].dropna()\n",
    "        group2 = df[df[grouping_col] == groups[1]][response_col].dropna()\n",
    "        \n",
    "        # Perform t-test\n",
    "        statistic, p_value = stats.ttest_ind(group1, group2)\n",
    "        \n",
    "        return {\n",
    "            'comparison': f'{groups[0]} vs {groups[1]}',\n",
    "            'statistic': statistic,\n",
    "            'p_value': p_value,\n",
    "            'significant': p_value < 0.05\n",
    "        }\n",
    "    elif len(groups) > 2:\n",
    "        # Use ANOVA for >2 groups\n",
    "        group_data = [df[df[grouping_col] == g][response_col].dropna() for g in groups]\n",
    "        statistic, p_value = stats.f_oneway(*group_data)\n",
    "        \n",
    "        return {\n",
    "            'comparison': f'{grouping_col} (ANOVA)',\n",
    "            'statistic': statistic,\n",
    "            'p_value': p_value,\n",
    "            'significant': p_value < 0.05\n",
    "        }\n",
    "\n",
    "# Example usage:\n",
    "for strain in df_plot['strain'].unique():\n",
    "    df_plot = df_plot.sort_values(['CmR'])\n",
    "    print(strain)\n",
    "    result = compare_groups_ttest(df_plot[df_plot['strain']==strain], 'Inoculation_2', 'Ns')\n",
    "    \n",
    "    for  entry in result.keys():\n",
    "        print(entry + \": \" + str(result[entry]))"
   ]
  },
  {
   "cell_type": "code",
   "execution_count": null,
   "id": "3134fab4",
   "metadata": {},
   "outputs": [],
   "source": []
  }
 ],
 "metadata": {
  "kernelspec": {
   "display_name": "pouch",
   "language": "python",
   "name": "python3"
  },
  "language_info": {
   "codemirror_mode": {
    "name": "ipython",
    "version": 3
   },
   "file_extension": ".py",
   "mimetype": "text/x-python",
   "name": "python",
   "nbconvert_exporter": "python",
   "pygments_lexer": "ipython3",
   "version": "3.13.7"
  }
 },
 "nbformat": 4,
 "nbformat_minor": 5
}
