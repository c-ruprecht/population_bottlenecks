{
 "cells": [
  {
   "cell_type": "code",
   "execution_count": 37,
   "id": "4f735660",
   "metadata": {},
   "outputs": [],
   "source": [
    "import pandas as pd\n",
    "import plotly.express as px\n",
    "import os \n",
    "\n",
    "def read_FP_tables(inputdir):\n",
    "    df_FP = pd.DataFrame()\n",
    "    for dirpath, dirnames, filenames in os.walk(inputdir):\n",
    "        for file in filenames:\n",
    "            if file == 'TableOfEstimates.csv':\n",
    "                df = pd.read_csv(dirpath+\"/\"+file)\n",
    "                df['folder'] = dirpath.split(\"/\")[-1] \n",
    "                df_FP = pd.concat([df, df_FP])\n",
    "\n",
    "    return df_FP\n",
    "strain_color_dict = {  'ST1': px.colors.qualitative.D3[0],\n",
    "                'ST2': px.colors.qualitative.D3[1],\n",
    "                'ST4': px.colors.qualitative.D3[2],\n",
    "                'ST5': px.colors.qualitative.D3[3],\n",
    "                'ST6': px.colors.qualitative.D3[4],\n",
    "                'ST7': px.colors.qualitative.D3[5],\n",
    "                'ST8': px.colors.qualitative.D3[6],\n",
    "                'ST9': px.colors.qualitative.D3[7]}"
   ]
  },
  {
   "cell_type": "code",
   "execution_count": 2,
   "id": "4d4ac37f",
   "metadata": {},
   "outputs": [
    {
     "data": {
      "text/html": [
       "<div>\n",
       "<style scoped>\n",
       "    .dataframe tbody tr th:only-of-type {\n",
       "        vertical-align: middle;\n",
       "    }\n",
       "\n",
       "    .dataframe tbody tr th {\n",
       "        vertical-align: top;\n",
       "    }\n",
       "\n",
       "    .dataframe thead th {\n",
       "        text-align: right;\n",
       "    }\n",
       "</style>\n",
       "<table border=\"1\" class=\"dataframe\">\n",
       "  <thead>\n",
       "    <tr style=\"text-align: right;\">\n",
       "      <th></th>\n",
       "      <th>sample_name</th>\n",
       "      <th>TotalReads</th>\n",
       "      <th>Number of barcodes</th>\n",
       "      <th>Ns_MinCutoff</th>\n",
       "      <th>Nb</th>\n",
       "      <th>Ns</th>\n",
       "      <th>AverageFrequency</th>\n",
       "      <th>CFU</th>\n",
       "      <th>Log10Ns</th>\n",
       "      <th>Log10CFU</th>\n",
       "      <th>CFU/Ns</th>\n",
       "      <th>folder</th>\n",
       "      <th>cage</th>\n",
       "      <th>strain</th>\n",
       "      <th>sample_id</th>\n",
       "      <th>sample_type</th>\n",
       "    </tr>\n",
       "  </thead>\n",
       "  <tbody>\n",
       "    <tr>\n",
       "      <th>0</th>\n",
       "      <td>s107_SI.DNA</td>\n",
       "      <td>272153976</td>\n",
       "      <td>30843</td>\n",
       "      <td>17309.000000</td>\n",
       "      <td>199275.123474</td>\n",
       "      <td>1.073467e+06</td>\n",
       "      <td>647358.137318</td>\n",
       "      <td>0</td>\n",
       "      <td>6.030789</td>\n",
       "      <td>-inf</td>\n",
       "      <td>0</td>\n",
       "      <td>c5_ST4</td>\n",
       "      <td>c5</td>\n",
       "      <td>ST4</td>\n",
       "      <td>s107</td>\n",
       "      <td>sample</td>\n",
       "    </tr>\n",
       "    <tr>\n",
       "      <th>1</th>\n",
       "      <td>s108_SI.DNA</td>\n",
       "      <td>13767059</td>\n",
       "      <td>33191</td>\n",
       "      <td>22586.000000</td>\n",
       "      <td>253160.424163</td>\n",
       "      <td>1.298768e+06</td>\n",
       "      <td>586216.751585</td>\n",
       "      <td>0</td>\n",
       "      <td>6.113532</td>\n",
       "      <td>-inf</td>\n",
       "      <td>0</td>\n",
       "      <td>c5_ST4</td>\n",
       "      <td>c5</td>\n",
       "      <td>ST4</td>\n",
       "      <td>s108</td>\n",
       "      <td>sample</td>\n",
       "    </tr>\n",
       "    <tr>\n",
       "      <th>2</th>\n",
       "      <td>s117_Cecum.DNA</td>\n",
       "      <td>916213852</td>\n",
       "      <td>38349</td>\n",
       "      <td>23841.000000</td>\n",
       "      <td>265666.399773</td>\n",
       "      <td>1.651211e+06</td>\n",
       "      <td>791628.592118</td>\n",
       "      <td>0</td>\n",
       "      <td>6.217803</td>\n",
       "      <td>-inf</td>\n",
       "      <td>0</td>\n",
       "      <td>c5_ST4</td>\n",
       "      <td>c5</td>\n",
       "      <td>ST4</td>\n",
       "      <td>s117</td>\n",
       "      <td>sample</td>\n",
       "    </tr>\n",
       "    <tr>\n",
       "      <th>3</th>\n",
       "      <td>s118_Cecum.DNA</td>\n",
       "      <td>443324713</td>\n",
       "      <td>35013</td>\n",
       "      <td>22166.000000</td>\n",
       "      <td>236899.873212</td>\n",
       "      <td>1.396209e+06</td>\n",
       "      <td>609438.905726</td>\n",
       "      <td>0</td>\n",
       "      <td>6.144950</td>\n",
       "      <td>-inf</td>\n",
       "      <td>0</td>\n",
       "      <td>c5_ST4</td>\n",
       "      <td>c5</td>\n",
       "      <td>ST4</td>\n",
       "      <td>s118</td>\n",
       "      <td>sample</td>\n",
       "    </tr>\n",
       "    <tr>\n",
       "      <th>4</th>\n",
       "      <td>s127_Pr..Colon.DNA</td>\n",
       "      <td>1079846256</td>\n",
       "      <td>38083</td>\n",
       "      <td>24567.666667</td>\n",
       "      <td>280752.369659</td>\n",
       "      <td>1.632911e+06</td>\n",
       "      <td>783783.101241</td>\n",
       "      <td>0</td>\n",
       "      <td>6.212963</td>\n",
       "      <td>-inf</td>\n",
       "      <td>0</td>\n",
       "      <td>c5_ST4</td>\n",
       "      <td>c5</td>\n",
       "      <td>ST4</td>\n",
       "      <td>s127</td>\n",
       "      <td>sample</td>\n",
       "    </tr>\n",
       "    <tr>\n",
       "      <th>...</th>\n",
       "      <td>...</td>\n",
       "      <td>...</td>\n",
       "      <td>...</td>\n",
       "      <td>...</td>\n",
       "      <td>...</td>\n",
       "      <td>...</td>\n",
       "      <td>...</td>\n",
       "      <td>...</td>\n",
       "      <td>...</td>\n",
       "      <td>...</td>\n",
       "      <td>...</td>\n",
       "      <td>...</td>\n",
       "      <td>...</td>\n",
       "      <td>...</td>\n",
       "      <td>...</td>\n",
       "      <td>...</td>\n",
       "    </tr>\n",
       "    <tr>\n",
       "      <th>14</th>\n",
       "      <td>NTC_H3_NTC</td>\n",
       "      <td>220639</td>\n",
       "      <td>8746</td>\n",
       "      <td>6270.411765</td>\n",
       "      <td>14.071304</td>\n",
       "      <td>1.002350e+04</td>\n",
       "      <td>36020.615573</td>\n",
       "      <td>0</td>\n",
       "      <td>4.001019</td>\n",
       "      <td>-inf</td>\n",
       "      <td>0</td>\n",
       "      <td>c1_ST1</td>\n",
       "      <td>c1</td>\n",
       "      <td>ST1</td>\n",
       "      <td>NTC</td>\n",
       "      <td>NTC</td>\n",
       "    </tr>\n",
       "    <tr>\n",
       "      <th>15</th>\n",
       "      <td>WATER_B3_WATER</td>\n",
       "      <td>14439</td>\n",
       "      <td>42</td>\n",
       "      <td>110.411765</td>\n",
       "      <td>10.150313</td>\n",
       "      <td>5.100000e+01</td>\n",
       "      <td>54.549464</td>\n",
       "      <td>0</td>\n",
       "      <td>1.707570</td>\n",
       "      <td>-inf</td>\n",
       "      <td>0</td>\n",
       "      <td>c1_ST1</td>\n",
       "      <td>c1</td>\n",
       "      <td>ST1</td>\n",
       "      <td>WATER</td>\n",
       "      <td>WATER</td>\n",
       "    </tr>\n",
       "    <tr>\n",
       "      <th>16</th>\n",
       "      <td>WATER_C6_WATER</td>\n",
       "      <td>134191</td>\n",
       "      <td>1226</td>\n",
       "      <td>804.333333</td>\n",
       "      <td>8.641978</td>\n",
       "      <td>1.319947e+03</td>\n",
       "      <td>5637.197143</td>\n",
       "      <td>0</td>\n",
       "      <td>3.120557</td>\n",
       "      <td>-inf</td>\n",
       "      <td>0</td>\n",
       "      <td>c1_ST1</td>\n",
       "      <td>c1</td>\n",
       "      <td>ST1</td>\n",
       "      <td>WATER</td>\n",
       "      <td>WATER</td>\n",
       "    </tr>\n",
       "    <tr>\n",
       "      <th>17</th>\n",
       "      <td>WATER_D2_WATER</td>\n",
       "      <td>250482</td>\n",
       "      <td>15145</td>\n",
       "      <td>4338.777778</td>\n",
       "      <td>19.385610</td>\n",
       "      <td>1.861638e+04</td>\n",
       "      <td>93435.803121</td>\n",
       "      <td>0</td>\n",
       "      <td>4.269895</td>\n",
       "      <td>-inf</td>\n",
       "      <td>0</td>\n",
       "      <td>c1_ST1</td>\n",
       "      <td>c1</td>\n",
       "      <td>ST1</td>\n",
       "      <td>WATER</td>\n",
       "      <td>WATER</td>\n",
       "    </tr>\n",
       "    <tr>\n",
       "      <th>18</th>\n",
       "      <td>WATER_F9_WATER</td>\n",
       "      <td>12648</td>\n",
       "      <td>80</td>\n",
       "      <td>48.058824</td>\n",
       "      <td>13.013818</td>\n",
       "      <td>9.629412e+01</td>\n",
       "      <td>395.949663</td>\n",
       "      <td>0</td>\n",
       "      <td>1.983600</td>\n",
       "      <td>-inf</td>\n",
       "      <td>0</td>\n",
       "      <td>c1_ST1</td>\n",
       "      <td>c1</td>\n",
       "      <td>ST1</td>\n",
       "      <td>WATER</td>\n",
       "      <td>WATER</td>\n",
       "    </tr>\n",
       "  </tbody>\n",
       "</table>\n",
       "<p>209 rows × 16 columns</p>\n",
       "</div>"
      ],
      "text/plain": [
       "           sample_name  TotalReads  Number of barcodes  Ns_MinCutoff  \\\n",
       "0          s107_SI.DNA   272153976               30843  17309.000000   \n",
       "1          s108_SI.DNA    13767059               33191  22586.000000   \n",
       "2       s117_Cecum.DNA   916213852               38349  23841.000000   \n",
       "3       s118_Cecum.DNA   443324713               35013  22166.000000   \n",
       "4   s127_Pr..Colon.DNA  1079846256               38083  24567.666667   \n",
       "..                 ...         ...                 ...           ...   \n",
       "14          NTC_H3_NTC      220639                8746   6270.411765   \n",
       "15      WATER_B3_WATER       14439                  42    110.411765   \n",
       "16      WATER_C6_WATER      134191                1226    804.333333   \n",
       "17      WATER_D2_WATER      250482               15145   4338.777778   \n",
       "18      WATER_F9_WATER       12648                  80     48.058824   \n",
       "\n",
       "               Nb            Ns  AverageFrequency  CFU   Log10Ns  Log10CFU  \\\n",
       "0   199275.123474  1.073467e+06     647358.137318    0  6.030789      -inf   \n",
       "1   253160.424163  1.298768e+06     586216.751585    0  6.113532      -inf   \n",
       "2   265666.399773  1.651211e+06     791628.592118    0  6.217803      -inf   \n",
       "3   236899.873212  1.396209e+06     609438.905726    0  6.144950      -inf   \n",
       "4   280752.369659  1.632911e+06     783783.101241    0  6.212963      -inf   \n",
       "..            ...           ...               ...  ...       ...       ...   \n",
       "14      14.071304  1.002350e+04      36020.615573    0  4.001019      -inf   \n",
       "15      10.150313  5.100000e+01         54.549464    0  1.707570      -inf   \n",
       "16       8.641978  1.319947e+03       5637.197143    0  3.120557      -inf   \n",
       "17      19.385610  1.861638e+04      93435.803121    0  4.269895      -inf   \n",
       "18      13.013818  9.629412e+01        395.949663    0  1.983600      -inf   \n",
       "\n",
       "    CFU/Ns  folder cage strain sample_id sample_type  \n",
       "0        0  c5_ST4   c5    ST4      s107      sample  \n",
       "1        0  c5_ST4   c5    ST4      s108      sample  \n",
       "2        0  c5_ST4   c5    ST4      s117      sample  \n",
       "3        0  c5_ST4   c5    ST4      s118      sample  \n",
       "4        0  c5_ST4   c5    ST4      s127      sample  \n",
       "..     ...     ...  ...    ...       ...         ...  \n",
       "14       0  c1_ST1   c1    ST1       NTC         NTC  \n",
       "15       0  c1_ST1   c1    ST1     WATER       WATER  \n",
       "16       0  c1_ST1   c1    ST1     WATER       WATER  \n",
       "17       0  c1_ST1   c1    ST1     WATER       WATER  \n",
       "18       0  c1_ST1   c1    ST1     WATER       WATER  \n",
       "\n",
       "[209 rows x 16 columns]"
      ]
     },
     "execution_count": 2,
     "metadata": {},
     "output_type": "execute_result"
    }
   ],
   "source": [
    "df_FP = read_FP_tables('/Volumes/sd/faith/MTCSB/projects/P4-barcoding_strains/20241029_analysis/population-bottlenecks/experiments/P4C1T8/FP')\n",
    "df_FP['cage'] = df_FP['folder'].apply(lambda x: str(x).split(\"_\")[0])\n",
    "df_FP['strain'] = df_FP['folder'].apply(lambda x: str(x).split(\"_\")[1])\n",
    "df_FP = df_FP.rename(columns = {'Unnamed: 0': 'sample_name'})\n",
    "df_FP['sample_id'] = df_FP['sample_name'].apply(lambda x: str(x).split(\"_\")[0])\n",
    "df_FP['sample_type'] = df_FP['sample_id'].apply(lambda x: 'sample' if 's' in str(x) else x)\n",
    "df_FP"
   ]
  },
  {
   "cell_type": "code",
   "execution_count": 19,
   "id": "7c1d6b57",
   "metadata": {},
   "outputs": [
    {
     "data": {
      "text/html": [
       "<div>\n",
       "<style scoped>\n",
       "    .dataframe tbody tr th:only-of-type {\n",
       "        vertical-align: middle;\n",
       "    }\n",
       "\n",
       "    .dataframe tbody tr th {\n",
       "        vertical-align: top;\n",
       "    }\n",
       "\n",
       "    .dataframe thead th {\n",
       "        text-align: right;\n",
       "    }\n",
       "</style>\n",
       "<table border=\"1\" class=\"dataframe\">\n",
       "  <thead>\n",
       "    <tr style=\"text-align: right;\">\n",
       "      <th></th>\n",
       "      <th>cage</th>\n",
       "      <th>strain</th>\n",
       "      <th>sample_id</th>\n",
       "      <th>sample_type</th>\n",
       "      <th>type</th>\n",
       "      <th>value</th>\n",
       "    </tr>\n",
       "  </thead>\n",
       "  <tbody>\n",
       "    <tr>\n",
       "      <th>0</th>\n",
       "      <td>c5</td>\n",
       "      <td>ST4</td>\n",
       "      <td>s107</td>\n",
       "      <td>sample</td>\n",
       "      <td>Nb</td>\n",
       "      <td>1.992751e+05</td>\n",
       "    </tr>\n",
       "    <tr>\n",
       "      <th>1</th>\n",
       "      <td>c5</td>\n",
       "      <td>ST4</td>\n",
       "      <td>s107</td>\n",
       "      <td>sample</td>\n",
       "      <td>Ns</td>\n",
       "      <td>1.073467e+06</td>\n",
       "    </tr>\n",
       "    <tr>\n",
       "      <th>2</th>\n",
       "      <td>c5</td>\n",
       "      <td>ST4</td>\n",
       "      <td>s107</td>\n",
       "      <td>sample</td>\n",
       "      <td>Ns_MinCutoff</td>\n",
       "      <td>1.730900e+04</td>\n",
       "    </tr>\n",
       "    <tr>\n",
       "      <th>3</th>\n",
       "      <td>c5</td>\n",
       "      <td>ST4</td>\n",
       "      <td>s108</td>\n",
       "      <td>sample</td>\n",
       "      <td>Nb</td>\n",
       "      <td>2.531604e+05</td>\n",
       "    </tr>\n",
       "    <tr>\n",
       "      <th>4</th>\n",
       "      <td>c5</td>\n",
       "      <td>ST4</td>\n",
       "      <td>s108</td>\n",
       "      <td>sample</td>\n",
       "      <td>Ns</td>\n",
       "      <td>1.298768e+06</td>\n",
       "    </tr>\n",
       "    <tr>\n",
       "      <th>...</th>\n",
       "      <td>...</td>\n",
       "      <td>...</td>\n",
       "      <td>...</td>\n",
       "      <td>...</td>\n",
       "      <td>...</td>\n",
       "      <td>...</td>\n",
       "    </tr>\n",
       "    <tr>\n",
       "      <th>622</th>\n",
       "      <td>c1</td>\n",
       "      <td>ST1</td>\n",
       "      <td>WATER</td>\n",
       "      <td>WATER</td>\n",
       "      <td>Ns</td>\n",
       "      <td>1.861638e+04</td>\n",
       "    </tr>\n",
       "    <tr>\n",
       "      <th>623</th>\n",
       "      <td>c1</td>\n",
       "      <td>ST1</td>\n",
       "      <td>WATER</td>\n",
       "      <td>WATER</td>\n",
       "      <td>Ns_MinCutoff</td>\n",
       "      <td>4.338778e+03</td>\n",
       "    </tr>\n",
       "    <tr>\n",
       "      <th>624</th>\n",
       "      <td>c1</td>\n",
       "      <td>ST1</td>\n",
       "      <td>WATER</td>\n",
       "      <td>WATER</td>\n",
       "      <td>Nb</td>\n",
       "      <td>1.301382e+01</td>\n",
       "    </tr>\n",
       "    <tr>\n",
       "      <th>625</th>\n",
       "      <td>c1</td>\n",
       "      <td>ST1</td>\n",
       "      <td>WATER</td>\n",
       "      <td>WATER</td>\n",
       "      <td>Ns</td>\n",
       "      <td>9.629412e+01</td>\n",
       "    </tr>\n",
       "    <tr>\n",
       "      <th>626</th>\n",
       "      <td>c1</td>\n",
       "      <td>ST1</td>\n",
       "      <td>WATER</td>\n",
       "      <td>WATER</td>\n",
       "      <td>Ns_MinCutoff</td>\n",
       "      <td>4.805882e+01</td>\n",
       "    </tr>\n",
       "  </tbody>\n",
       "</table>\n",
       "<p>627 rows × 6 columns</p>\n",
       "</div>"
      ],
      "text/plain": [
       "    cage strain sample_id sample_type          type         value\n",
       "0     c5    ST4      s107      sample            Nb  1.992751e+05\n",
       "1     c5    ST4      s107      sample            Ns  1.073467e+06\n",
       "2     c5    ST4      s107      sample  Ns_MinCutoff  1.730900e+04\n",
       "3     c5    ST4      s108      sample            Nb  2.531604e+05\n",
       "4     c5    ST4      s108      sample            Ns  1.298768e+06\n",
       "..   ...    ...       ...         ...           ...           ...\n",
       "622   c1    ST1     WATER       WATER            Ns  1.861638e+04\n",
       "623   c1    ST1     WATER       WATER  Ns_MinCutoff  4.338778e+03\n",
       "624   c1    ST1     WATER       WATER            Nb  1.301382e+01\n",
       "625   c1    ST1     WATER       WATER            Ns  9.629412e+01\n",
       "626   c1    ST1     WATER       WATER  Ns_MinCutoff  4.805882e+01\n",
       "\n",
       "[627 rows x 6 columns]"
      ]
     },
     "metadata": {},
     "output_type": "display_data"
    },
    {
     "data": {
      "application/vnd.plotly.v1+json": {
       "config": {
        "plotlyServerURL": "https://plotly.com"
       },
       "data": [
        {
         "alignmentgroup": "True",
         "boxpoints": "all",
         "hovertemplate": "type=Nb<br>sample_type=%{x}<br>value=%{y}<extra></extra>",
         "legendgroup": "Nb",
         "marker": {
          "color": "#1F77B4"
         },
         "name": "Nb",
         "notched": false,
         "offsetgroup": "Nb",
         "orientation": "v",
         "showlegend": true,
         "type": "box",
         "x": [
          "sample",
          "sample",
          "sample",
          "sample",
          "sample",
          "sample",
          "sample",
          "sample",
          "sample",
          "sample",
          "sample",
          "sample",
          "sample",
          "sample",
          "NTC",
          "WATER",
          "WATER",
          "WATER",
          "WATER",
          "sample",
          "sample",
          "sample",
          "sample",
          "sample",
          "sample",
          "sample",
          "sample",
          "sample",
          "sample",
          "sample",
          "sample",
          "sample",
          "sample",
          "NTC",
          "WATER",
          "WATER",
          "WATER",
          "WATER",
          "sample",
          "sample",
          "sample",
          "sample",
          "sample",
          "sample",
          "sample",
          "sample",
          "sample",
          "sample",
          "sample",
          "sample",
          "sample",
          "sample",
          "NTC",
          "WATER",
          "WATER",
          "WATER",
          "WATER",
          "sample",
          "sample",
          "sample",
          "sample",
          "sample",
          "sample",
          "sample",
          "sample",
          "sample",
          "sample",
          "sample",
          "sample",
          "sample",
          "sample",
          "NTC",
          "WATER",
          "WATER",
          "WATER",
          "WATER",
          "sample",
          "sample",
          "sample",
          "sample",
          "sample",
          "sample",
          "sample",
          "sample",
          "sample",
          "sample",
          "sample",
          "sample",
          "sample",
          "sample",
          "NTC",
          "WATER",
          "WATER",
          "WATER",
          "WATER",
          "sample",
          "sample",
          "sample",
          "sample",
          "sample",
          "sample",
          "sample",
          "sample",
          "sample",
          "sample",
          "sample",
          "sample",
          "sample",
          "sample",
          "NTC",
          "WATER",
          "WATER",
          "WATER",
          "WATER",
          "sample",
          "sample",
          "sample",
          "sample",
          "sample",
          "sample",
          "sample",
          "sample",
          "sample",
          "sample",
          "sample",
          "sample",
          "sample",
          "sample",
          "NTC",
          "WATER",
          "WATER",
          "WATER",
          "WATER",
          "sample",
          "sample",
          "sample",
          "sample",
          "sample",
          "sample",
          "sample",
          "sample",
          "sample",
          "sample",
          "sample",
          "sample",
          "sample",
          "sample",
          "NTC",
          "WATER",
          "WATER",
          "WATER",
          "WATER",
          "sample",
          "sample",
          "sample",
          "sample",
          "sample",
          "sample",
          "sample",
          "sample",
          "sample",
          "sample",
          "sample",
          "sample",
          "sample",
          "sample",
          "NTC",
          "WATER",
          "WATER",
          "WATER",
          "WATER",
          "sample",
          "sample",
          "sample",
          "sample",
          "sample",
          "sample",
          "sample",
          "sample",
          "sample",
          "sample",
          "sample",
          "sample",
          "sample",
          "sample",
          "NTC",
          "WATER",
          "WATER",
          "WATER",
          "WATER",
          "sample",
          "sample",
          "sample",
          "sample",
          "sample",
          "sample",
          "sample",
          "sample",
          "sample",
          "sample",
          "sample",
          "sample",
          "sample",
          "sample",
          "NTC",
          "WATER",
          "WATER",
          "WATER",
          "WATER"
         ],
         "x0": " ",
         "xaxis": "x",
         "y": {
          "bdata": "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",
          "dtype": "f8"
         },
         "y0": " ",
         "yaxis": "y"
        },
        {
         "alignmentgroup": "True",
         "boxpoints": "all",
         "hovertemplate": "type=Ns<br>sample_type=%{x}<br>value=%{y}<extra></extra>",
         "legendgroup": "Ns",
         "marker": {
          "color": "#FF7F0E"
         },
         "name": "Ns",
         "notched": false,
         "offsetgroup": "Ns",
         "orientation": "v",
         "showlegend": true,
         "type": "box",
         "x": [
          "sample",
          "sample",
          "sample",
          "sample",
          "sample",
          "sample",
          "sample",
          "sample",
          "sample",
          "sample",
          "sample",
          "sample",
          "sample",
          "sample",
          "NTC",
          "WATER",
          "WATER",
          "WATER",
          "WATER",
          "sample",
          "sample",
          "sample",
          "sample",
          "sample",
          "sample",
          "sample",
          "sample",
          "sample",
          "sample",
          "sample",
          "sample",
          "sample",
          "sample",
          "NTC",
          "WATER",
          "WATER",
          "WATER",
          "WATER",
          "sample",
          "sample",
          "sample",
          "sample",
          "sample",
          "sample",
          "sample",
          "sample",
          "sample",
          "sample",
          "sample",
          "sample",
          "sample",
          "sample",
          "NTC",
          "WATER",
          "WATER",
          "WATER",
          "WATER",
          "sample",
          "sample",
          "sample",
          "sample",
          "sample",
          "sample",
          "sample",
          "sample",
          "sample",
          "sample",
          "sample",
          "sample",
          "sample",
          "sample",
          "NTC",
          "WATER",
          "WATER",
          "WATER",
          "WATER",
          "sample",
          "sample",
          "sample",
          "sample",
          "sample",
          "sample",
          "sample",
          "sample",
          "sample",
          "sample",
          "sample",
          "sample",
          "sample",
          "sample",
          "NTC",
          "WATER",
          "WATER",
          "WATER",
          "WATER",
          "sample",
          "sample",
          "sample",
          "sample",
          "sample",
          "sample",
          "sample",
          "sample",
          "sample",
          "sample",
          "sample",
          "sample",
          "sample",
          "sample",
          "NTC",
          "WATER",
          "WATER",
          "WATER",
          "WATER",
          "sample",
          "sample",
          "sample",
          "sample",
          "sample",
          "sample",
          "sample",
          "sample",
          "sample",
          "sample",
          "sample",
          "sample",
          "sample",
          "sample",
          "NTC",
          "WATER",
          "WATER",
          "WATER",
          "WATER",
          "sample",
          "sample",
          "sample",
          "sample",
          "sample",
          "sample",
          "sample",
          "sample",
          "sample",
          "sample",
          "sample",
          "sample",
          "sample",
          "sample",
          "NTC",
          "WATER",
          "WATER",
          "WATER",
          "WATER",
          "sample",
          "sample",
          "sample",
          "sample",
          "sample",
          "sample",
          "sample",
          "sample",
          "sample",
          "sample",
          "sample",
          "sample",
          "sample",
          "sample",
          "NTC",
          "WATER",
          "WATER",
          "WATER",
          "WATER",
          "sample",
          "sample",
          "sample",
          "sample",
          "sample",
          "sample",
          "sample",
          "sample",
          "sample",
          "sample",
          "sample",
          "sample",
          "sample",
          "sample",
          "NTC",
          "WATER",
          "WATER",
          "WATER",
          "WATER",
          "sample",
          "sample",
          "sample",
          "sample",
          "sample",
          "sample",
          "sample",
          "sample",
          "sample",
          "sample",
          "sample",
          "sample",
          "sample",
          "sample",
          "NTC",
          "WATER",
          "WATER",
          "WATER",
          "WATER"
         ],
         "x0": " ",
         "xaxis": "x",
         "y": {
          "bdata": "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",
          "dtype": "f8"
         },
         "y0": " ",
         "yaxis": "y"
        },
        {
         "alignmentgroup": "True",
         "boxpoints": "all",
         "hovertemplate": "type=Ns_MinCutoff<br>sample_type=%{x}<br>value=%{y}<extra></extra>",
         "legendgroup": "Ns_MinCutoff",
         "marker": {
          "color": "#2CA02C"
         },
         "name": "Ns_MinCutoff",
         "notched": false,
         "offsetgroup": "Ns_MinCutoff",
         "orientation": "v",
         "showlegend": true,
         "type": "box",
         "x": [
          "sample",
          "sample",
          "sample",
          "sample",
          "sample",
          "sample",
          "sample",
          "sample",
          "sample",
          "sample",
          "sample",
          "sample",
          "sample",
          "sample",
          "NTC",
          "WATER",
          "WATER",
          "WATER",
          "WATER",
          "sample",
          "sample",
          "sample",
          "sample",
          "sample",
          "sample",
          "sample",
          "sample",
          "sample",
          "sample",
          "sample",
          "sample",
          "sample",
          "sample",
          "NTC",
          "WATER",
          "WATER",
          "WATER",
          "WATER",
          "sample",
          "sample",
          "sample",
          "sample",
          "sample",
          "sample",
          "sample",
          "sample",
          "sample",
          "sample",
          "sample",
          "sample",
          "sample",
          "sample",
          "NTC",
          "WATER",
          "WATER",
          "WATER",
          "WATER",
          "sample",
          "sample",
          "sample",
          "sample",
          "sample",
          "sample",
          "sample",
          "sample",
          "sample",
          "sample",
          "sample",
          "sample",
          "sample",
          "sample",
          "NTC",
          "WATER",
          "WATER",
          "WATER",
          "WATER",
          "sample",
          "sample",
          "sample",
          "sample",
          "sample",
          "sample",
          "sample",
          "sample",
          "sample",
          "sample",
          "sample",
          "sample",
          "sample",
          "sample",
          "NTC",
          "WATER",
          "WATER",
          "WATER",
          "WATER",
          "sample",
          "sample",
          "sample",
          "sample",
          "sample",
          "sample",
          "sample",
          "sample",
          "sample",
          "sample",
          "sample",
          "sample",
          "sample",
          "sample",
          "NTC",
          "WATER",
          "WATER",
          "WATER",
          "WATER",
          "sample",
          "sample",
          "sample",
          "sample",
          "sample",
          "sample",
          "sample",
          "sample",
          "sample",
          "sample",
          "sample",
          "sample",
          "sample",
          "sample",
          "NTC",
          "WATER",
          "WATER",
          "WATER",
          "WATER",
          "sample",
          "sample",
          "sample",
          "sample",
          "sample",
          "sample",
          "sample",
          "sample",
          "sample",
          "sample",
          "sample",
          "sample",
          "sample",
          "sample",
          "NTC",
          "WATER",
          "WATER",
          "WATER",
          "WATER",
          "sample",
          "sample",
          "sample",
          "sample",
          "sample",
          "sample",
          "sample",
          "sample",
          "sample",
          "sample",
          "sample",
          "sample",
          "sample",
          "sample",
          "NTC",
          "WATER",
          "WATER",
          "WATER",
          "WATER",
          "sample",
          "sample",
          "sample",
          "sample",
          "sample",
          "sample",
          "sample",
          "sample",
          "sample",
          "sample",
          "sample",
          "sample",
          "sample",
          "sample",
          "NTC",
          "WATER",
          "WATER",
          "WATER",
          "WATER",
          "sample",
          "sample",
          "sample",
          "sample",
          "sample",
          "sample",
          "sample",
          "sample",
          "sample",
          "sample",
          "sample",
          "sample",
          "sample",
          "sample",
          "NTC",
          "WATER",
          "WATER",
          "WATER",
          "WATER"
         ],
         "x0": " ",
         "xaxis": "x",
         "y": {
          "bdata": "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",
          "dtype": "f8"
         },
         "y0": " ",
         "yaxis": "y"
        }
       ],
       "layout": {
        "boxmode": "group",
        "height": 400,
        "legend": {
         "title": {
          "text": "type"
         },
         "tracegroupgap": 0
        },
        "margin": {
         "t": 60
        },
        "template": {
         "data": {
          "bar": [
           {
            "error_x": {
             "color": "rgb(36,36,36)"
            },
            "error_y": {
             "color": "rgb(36,36,36)"
            },
            "marker": {
             "line": {
              "color": "white",
              "width": 0.5
             },
             "pattern": {
              "fillmode": "overlay",
              "size": 10,
              "solidity": 0.2
             }
            },
            "type": "bar"
           }
          ],
          "barpolar": [
           {
            "marker": {
             "line": {
              "color": "white",
              "width": 0.5
             },
             "pattern": {
              "fillmode": "overlay",
              "size": 10,
              "solidity": 0.2
             }
            },
            "type": "barpolar"
           }
          ],
          "carpet": [
           {
            "aaxis": {
             "endlinecolor": "rgb(36,36,36)",
             "gridcolor": "white",
             "linecolor": "white",
             "minorgridcolor": "white",
             "startlinecolor": "rgb(36,36,36)"
            },
            "baxis": {
             "endlinecolor": "rgb(36,36,36)",
             "gridcolor": "white",
             "linecolor": "white",
             "minorgridcolor": "white",
             "startlinecolor": "rgb(36,36,36)"
            },
            "type": "carpet"
           }
          ],
          "choropleth": [
           {
            "colorbar": {
             "outlinewidth": 1,
             "tickcolor": "rgb(36,36,36)",
             "ticks": "outside"
            },
            "type": "choropleth"
           }
          ],
          "contour": [
           {
            "colorbar": {
             "outlinewidth": 1,
             "tickcolor": "rgb(36,36,36)",
             "ticks": "outside"
            },
            "colorscale": [
             [
              0,
              "#440154"
             ],
             [
              0.1111111111111111,
              "#482878"
             ],
             [
              0.2222222222222222,
              "#3e4989"
             ],
             [
              0.3333333333333333,
              "#31688e"
             ],
             [
              0.4444444444444444,
              "#26828e"
             ],
             [
              0.5555555555555556,
              "#1f9e89"
             ],
             [
              0.6666666666666666,
              "#35b779"
             ],
             [
              0.7777777777777778,
              "#6ece58"
             ],
             [
              0.8888888888888888,
              "#b5de2b"
             ],
             [
              1,
              "#fde725"
             ]
            ],
            "type": "contour"
           }
          ],
          "contourcarpet": [
           {
            "colorbar": {
             "outlinewidth": 1,
             "tickcolor": "rgb(36,36,36)",
             "ticks": "outside"
            },
            "type": "contourcarpet"
           }
          ],
          "heatmap": [
           {
            "colorbar": {
             "outlinewidth": 1,
             "tickcolor": "rgb(36,36,36)",
             "ticks": "outside"
            },
            "colorscale": [
             [
              0,
              "#440154"
             ],
             [
              0.1111111111111111,
              "#482878"
             ],
             [
              0.2222222222222222,
              "#3e4989"
             ],
             [
              0.3333333333333333,
              "#31688e"
             ],
             [
              0.4444444444444444,
              "#26828e"
             ],
             [
              0.5555555555555556,
              "#1f9e89"
             ],
             [
              0.6666666666666666,
              "#35b779"
             ],
             [
              0.7777777777777778,
              "#6ece58"
             ],
             [
              0.8888888888888888,
              "#b5de2b"
             ],
             [
              1,
              "#fde725"
             ]
            ],
            "type": "heatmap"
           }
          ],
          "histogram": [
           {
            "marker": {
             "line": {
              "color": "white",
              "width": 0.6
             }
            },
            "type": "histogram"
           }
          ],
          "histogram2d": [
           {
            "colorbar": {
             "outlinewidth": 1,
             "tickcolor": "rgb(36,36,36)",
             "ticks": "outside"
            },
            "colorscale": [
             [
              0,
              "#440154"
             ],
             [
              0.1111111111111111,
              "#482878"
             ],
             [
              0.2222222222222222,
              "#3e4989"
             ],
             [
              0.3333333333333333,
              "#31688e"
             ],
             [
              0.4444444444444444,
              "#26828e"
             ],
             [
              0.5555555555555556,
              "#1f9e89"
             ],
             [
              0.6666666666666666,
              "#35b779"
             ],
             [
              0.7777777777777778,
              "#6ece58"
             ],
             [
              0.8888888888888888,
              "#b5de2b"
             ],
             [
              1,
              "#fde725"
             ]
            ],
            "type": "histogram2d"
           }
          ],
          "histogram2dcontour": [
           {
            "colorbar": {
             "outlinewidth": 1,
             "tickcolor": "rgb(36,36,36)",
             "ticks": "outside"
            },
            "colorscale": [
             [
              0,
              "#440154"
             ],
             [
              0.1111111111111111,
              "#482878"
             ],
             [
              0.2222222222222222,
              "#3e4989"
             ],
             [
              0.3333333333333333,
              "#31688e"
             ],
             [
              0.4444444444444444,
              "#26828e"
             ],
             [
              0.5555555555555556,
              "#1f9e89"
             ],
             [
              0.6666666666666666,
              "#35b779"
             ],
             [
              0.7777777777777778,
              "#6ece58"
             ],
             [
              0.8888888888888888,
              "#b5de2b"
             ],
             [
              1,
              "#fde725"
             ]
            ],
            "type": "histogram2dcontour"
           }
          ],
          "mesh3d": [
           {
            "colorbar": {
             "outlinewidth": 1,
             "tickcolor": "rgb(36,36,36)",
             "ticks": "outside"
            },
            "type": "mesh3d"
           }
          ],
          "parcoords": [
           {
            "line": {
             "colorbar": {
              "outlinewidth": 1,
              "tickcolor": "rgb(36,36,36)",
              "ticks": "outside"
             }
            },
            "type": "parcoords"
           }
          ],
          "pie": [
           {
            "automargin": true,
            "type": "pie"
           }
          ],
          "scatter": [
           {
            "fillpattern": {
             "fillmode": "overlay",
             "size": 10,
             "solidity": 0.2
            },
            "type": "scatter"
           }
          ],
          "scatter3d": [
           {
            "line": {
             "colorbar": {
              "outlinewidth": 1,
              "tickcolor": "rgb(36,36,36)",
              "ticks": "outside"
             }
            },
            "marker": {
             "colorbar": {
              "outlinewidth": 1,
              "tickcolor": "rgb(36,36,36)",
              "ticks": "outside"
             }
            },
            "type": "scatter3d"
           }
          ],
          "scattercarpet": [
           {
            "marker": {
             "colorbar": {
              "outlinewidth": 1,
              "tickcolor": "rgb(36,36,36)",
              "ticks": "outside"
             }
            },
            "type": "scattercarpet"
           }
          ],
          "scattergeo": [
           {
            "marker": {
             "colorbar": {
              "outlinewidth": 1,
              "tickcolor": "rgb(36,36,36)",
              "ticks": "outside"
             }
            },
            "type": "scattergeo"
           }
          ],
          "scattergl": [
           {
            "marker": {
             "colorbar": {
              "outlinewidth": 1,
              "tickcolor": "rgb(36,36,36)",
              "ticks": "outside"
             }
            },
            "type": "scattergl"
           }
          ],
          "scattermap": [
           {
            "marker": {
             "colorbar": {
              "outlinewidth": 1,
              "tickcolor": "rgb(36,36,36)",
              "ticks": "outside"
             }
            },
            "type": "scattermap"
           }
          ],
          "scattermapbox": [
           {
            "marker": {
             "colorbar": {
              "outlinewidth": 1,
              "tickcolor": "rgb(36,36,36)",
              "ticks": "outside"
             }
            },
            "type": "scattermapbox"
           }
          ],
          "scatterpolar": [
           {
            "marker": {
             "colorbar": {
              "outlinewidth": 1,
              "tickcolor": "rgb(36,36,36)",
              "ticks": "outside"
             }
            },
            "type": "scatterpolar"
           }
          ],
          "scatterpolargl": [
           {
            "marker": {
             "colorbar": {
              "outlinewidth": 1,
              "tickcolor": "rgb(36,36,36)",
              "ticks": "outside"
             }
            },
            "type": "scatterpolargl"
           }
          ],
          "scatterternary": [
           {
            "marker": {
             "colorbar": {
              "outlinewidth": 1,
              "tickcolor": "rgb(36,36,36)",
              "ticks": "outside"
             }
            },
            "type": "scatterternary"
           }
          ],
          "surface": [
           {
            "colorbar": {
             "outlinewidth": 1,
             "tickcolor": "rgb(36,36,36)",
             "ticks": "outside"
            },
            "colorscale": [
             [
              0,
              "#440154"
             ],
             [
              0.1111111111111111,
              "#482878"
             ],
             [
              0.2222222222222222,
              "#3e4989"
             ],
             [
              0.3333333333333333,
              "#31688e"
             ],
             [
              0.4444444444444444,
              "#26828e"
             ],
             [
              0.5555555555555556,
              "#1f9e89"
             ],
             [
              0.6666666666666666,
              "#35b779"
             ],
             [
              0.7777777777777778,
              "#6ece58"
             ],
             [
              0.8888888888888888,
              "#b5de2b"
             ],
             [
              1,
              "#fde725"
             ]
            ],
            "type": "surface"
           }
          ],
          "table": [
           {
            "cells": {
             "fill": {
              "color": "rgb(237,237,237)"
             },
             "line": {
              "color": "white"
             }
            },
            "header": {
             "fill": {
              "color": "rgb(217,217,217)"
             },
             "line": {
              "color": "white"
             }
            },
            "type": "table"
           }
          ]
         },
         "layout": {
          "annotationdefaults": {
           "arrowhead": 0,
           "arrowwidth": 1
          },
          "autotypenumbers": "strict",
          "coloraxis": {
           "colorbar": {
            "outlinewidth": 1,
            "tickcolor": "rgb(36,36,36)",
            "ticks": "outside"
           }
          },
          "colorscale": {
           "diverging": [
            [
             0,
             "rgb(103,0,31)"
            ],
            [
             0.1,
             "rgb(178,24,43)"
            ],
            [
             0.2,
             "rgb(214,96,77)"
            ],
            [
             0.3,
             "rgb(244,165,130)"
            ],
            [
             0.4,
             "rgb(253,219,199)"
            ],
            [
             0.5,
             "rgb(247,247,247)"
            ],
            [
             0.6,
             "rgb(209,229,240)"
            ],
            [
             0.7,
             "rgb(146,197,222)"
            ],
            [
             0.8,
             "rgb(67,147,195)"
            ],
            [
             0.9,
             "rgb(33,102,172)"
            ],
            [
             1,
             "rgb(5,48,97)"
            ]
           ],
           "sequential": [
            [
             0,
             "#440154"
            ],
            [
             0.1111111111111111,
             "#482878"
            ],
            [
             0.2222222222222222,
             "#3e4989"
            ],
            [
             0.3333333333333333,
             "#31688e"
            ],
            [
             0.4444444444444444,
             "#26828e"
            ],
            [
             0.5555555555555556,
             "#1f9e89"
            ],
            [
             0.6666666666666666,
             "#35b779"
            ],
            [
             0.7777777777777778,
             "#6ece58"
            ],
            [
             0.8888888888888888,
             "#b5de2b"
            ],
            [
             1,
             "#fde725"
            ]
           ],
           "sequentialminus": [
            [
             0,
             "#440154"
            ],
            [
             0.1111111111111111,
             "#482878"
            ],
            [
             0.2222222222222222,
             "#3e4989"
            ],
            [
             0.3333333333333333,
             "#31688e"
            ],
            [
             0.4444444444444444,
             "#26828e"
            ],
            [
             0.5555555555555556,
             "#1f9e89"
            ],
            [
             0.6666666666666666,
             "#35b779"
            ],
            [
             0.7777777777777778,
             "#6ece58"
            ],
            [
             0.8888888888888888,
             "#b5de2b"
            ],
            [
             1,
             "#fde725"
            ]
           ]
          },
          "colorway": [
           "#1F77B4",
           "#FF7F0E",
           "#2CA02C",
           "#D62728",
           "#9467BD",
           "#8C564B",
           "#E377C2",
           "#7F7F7F",
           "#BCBD22",
           "#17BECF"
          ],
          "font": {
           "color": "rgb(36,36,36)"
          },
          "geo": {
           "bgcolor": "white",
           "lakecolor": "white",
           "landcolor": "white",
           "showlakes": true,
           "showland": true,
           "subunitcolor": "white"
          },
          "hoverlabel": {
           "align": "left"
          },
          "hovermode": "closest",
          "mapbox": {
           "style": "light"
          },
          "paper_bgcolor": "white",
          "plot_bgcolor": "white",
          "polar": {
           "angularaxis": {
            "gridcolor": "rgb(232,232,232)",
            "linecolor": "rgb(36,36,36)",
            "showgrid": false,
            "showline": true,
            "ticks": "outside"
           },
           "bgcolor": "white",
           "radialaxis": {
            "gridcolor": "rgb(232,232,232)",
            "linecolor": "rgb(36,36,36)",
            "showgrid": false,
            "showline": true,
            "ticks": "outside"
           }
          },
          "scene": {
           "xaxis": {
            "backgroundcolor": "white",
            "gridcolor": "rgb(232,232,232)",
            "gridwidth": 2,
            "linecolor": "rgb(36,36,36)",
            "showbackground": true,
            "showgrid": false,
            "showline": true,
            "ticks": "outside",
            "zeroline": false,
            "zerolinecolor": "rgb(36,36,36)"
           },
           "yaxis": {
            "backgroundcolor": "white",
            "gridcolor": "rgb(232,232,232)",
            "gridwidth": 2,
            "linecolor": "rgb(36,36,36)",
            "showbackground": true,
            "showgrid": false,
            "showline": true,
            "ticks": "outside",
            "zeroline": false,
            "zerolinecolor": "rgb(36,36,36)"
           },
           "zaxis": {
            "backgroundcolor": "white",
            "gridcolor": "rgb(232,232,232)",
            "gridwidth": 2,
            "linecolor": "rgb(36,36,36)",
            "showbackground": true,
            "showgrid": false,
            "showline": true,
            "ticks": "outside",
            "zeroline": false,
            "zerolinecolor": "rgb(36,36,36)"
           }
          },
          "shapedefaults": {
           "fillcolor": "black",
           "line": {
            "width": 0
           },
           "opacity": 0.3
          },
          "ternary": {
           "aaxis": {
            "gridcolor": "rgb(232,232,232)",
            "linecolor": "rgb(36,36,36)",
            "showgrid": false,
            "showline": true,
            "ticks": "outside"
           },
           "baxis": {
            "gridcolor": "rgb(232,232,232)",
            "linecolor": "rgb(36,36,36)",
            "showgrid": false,
            "showline": true,
            "ticks": "outside"
           },
           "bgcolor": "white",
           "caxis": {
            "gridcolor": "rgb(232,232,232)",
            "linecolor": "rgb(36,36,36)",
            "showgrid": false,
            "showline": true,
            "ticks": "outside"
           }
          },
          "title": {
           "x": 0.05
          },
          "xaxis": {
           "automargin": true,
           "gridcolor": "rgb(232,232,232)",
           "linecolor": "rgb(36,36,36)",
           "showgrid": false,
           "showline": true,
           "ticks": "outside",
           "title": {
            "standoff": 15
           },
           "zeroline": false,
           "zerolinecolor": "rgb(36,36,36)"
          },
          "yaxis": {
           "automargin": true,
           "gridcolor": "rgb(232,232,232)",
           "linecolor": "rgb(36,36,36)",
           "showgrid": false,
           "showline": true,
           "ticks": "outside",
           "title": {
            "standoff": 15
           },
           "zeroline": false,
           "zerolinecolor": "rgb(36,36,36)"
          }
         }
        },
        "width": 800,
        "xaxis": {
         "anchor": "y",
         "domain": [
          0,
          1
         ],
         "title": {
          "text": "sample_type"
         }
        },
        "yaxis": {
         "anchor": "x",
         "domain": [
          0,
          1
         ],
         "title": {
          "text": "value"
         },
         "type": "log"
        }
       }
      }
     },
     "metadata": {},
     "output_type": "display_data"
    },
    {
     "data": {
      "application/vnd.plotly.v1+json": {
       "config": {
        "plotlyServerURL": "https://plotly.com"
       },
       "data": [
        {
         "alignmentgroup": "True",
         "boxpoints": "all",
         "hovertemplate": "type=Nb<br>strain=ST4<br>sample_type=%{x}<br>value=%{y}<extra></extra>",
         "legendgroup": "Nb",
         "marker": {
          "color": "#1F77B4"
         },
         "name": "Nb",
         "notched": false,
         "offsetgroup": "Nb",
         "orientation": "v",
         "showlegend": true,
         "type": "box",
         "x": [
          "sample",
          "sample",
          "sample",
          "sample",
          "sample",
          "sample",
          "sample",
          "sample",
          "sample",
          "sample",
          "sample",
          "sample",
          "sample",
          "sample",
          "NTC",
          "WATER",
          "WATER",
          "WATER",
          "WATER"
         ],
         "x0": " ",
         "xaxis": "x4",
         "y": {
          "bdata": "IOzf/FhTCEH6vK9kQ+cOQeswXpkJNxBBn1NW/B7rDEH35Id6wSIRQXi2IRSbHw1BgfzllcsJ0EAOkkIgaeDuQNvI1R9cIxRBNz/Vb1+zEEEGnU1H9BATQQjSnOP34Q9BQneV9tcZEUEZhntsYDgNQT4lY/UudldAY2iGcqRha0DEWJLCdDqGQDS2Ef9D/YVAiSnlUYFFhEA=",
          "dtype": "f8"
         },
         "y0": " ",
         "yaxis": "y4"
        },
        {
         "alignmentgroup": "True",
         "boxpoints": "all",
         "hovertemplate": "type=Nb<br>strain=ST1<br>sample_type=%{x}<br>value=%{y}<extra></extra>",
         "legendgroup": "Nb",
         "marker": {
          "color": "#1F77B4"
         },
         "name": "Nb",
         "notched": false,
         "offsetgroup": "Nb",
         "orientation": "v",
         "showlegend": false,
         "type": "box",
         "x": [
          "sample",
          "sample",
          "sample",
          "sample",
          "sample",
          "sample",
          "sample",
          "sample",
          "sample",
          "sample",
          "sample",
          "sample",
          "sample",
          "sample",
          "NTC",
          "WATER",
          "WATER",
          "WATER",
          "WATER",
          "sample",
          "sample",
          "sample",
          "sample",
          "sample",
          "sample",
          "sample",
          "sample",
          "sample",
          "sample",
          "sample",
          "sample",
          "sample",
          "sample",
          "NTC",
          "WATER",
          "WATER",
          "WATER",
          "WATER",
          "sample",
          "sample",
          "sample",
          "sample",
          "sample",
          "sample",
          "sample",
          "sample",
          "sample",
          "sample",
          "sample",
          "sample",
          "sample",
          "sample",
          "NTC",
          "WATER",
          "WATER",
          "WATER",
          "WATER",
          "sample",
          "sample",
          "sample",
          "sample",
          "sample",
          "sample",
          "sample",
          "sample",
          "sample",
          "sample",
          "sample",
          "sample",
          "sample",
          "sample",
          "NTC",
          "WATER",
          "WATER",
          "WATER",
          "WATER",
          "sample",
          "sample",
          "sample",
          "sample",
          "sample",
          "sample",
          "sample",
          "sample",
          "sample",
          "sample",
          "sample",
          "sample",
          "sample",
          "sample",
          "NTC",
          "WATER",
          "WATER",
          "WATER",
          "WATER"
         ],
         "x0": " ",
         "xaxis": "x3",
         "y": {
          "bdata": "+TSMgIhmOkD6xJdPZ7dBQGroqyrI6yhAyBKCUqGFKUDnocEt+QwhQKWqNpOJbShAH92hkzzdYkBe/qx9QPhzQIIZfY71YDFA9rIRcMjmMUD6lclUHgoqQIbqLuzCdStAFIHyAEPcLEAQ7MMhNGwtQNYONr94ezpAGyV2quItIEDNffXxa8c6QKMkwAHVuRRAjQd/NFVUMUAnjsywlIKgQAEW9v6jCXJAhcEH4L55l0ArTNdOnUCZQICOQiUCwZpAS4sBhyULmUDBbd5pzs5OQDMnmea7HVVAnUkOD/LplkBKl4/KsG6aQNugR3df2pZAvSGk3ZR3m0CzsTyt2y+aQEQRRnBWCZlAoqECj0RXGEDjn+lEkAIzQI9WdielTShAXIfGl6H0GUC5lt4XAxZIQMND6P3tKwJAKZrOkYOcNkBBboJmbuI1QGppgsjfDVlAngG7eCL3NEBzZNcXqi4zQHIR9QTbZQdAvs+aGbjW9D/MCa+nFKc1QLgoNEjc8zVAKhIPpqviNUAJ9UYsylE4QLR/wzuPgDVAldOuJ3OIOEDZZ18/D5YKQEsyuDQdDxNArnrgfZmgKkC1/V3P/2gVQK/VPIyEYDtAKvZ5d9DbG0BO3h5SWicNQElSoHm5bA9A0GuZKubGLUDrgp2Ph6X2P4VU4cBf1UhAn8Ew4ou04j/US4hMhnXiP0liGzhy+UBAgsC/vdjAPUAtI6w+mcA6QKIBz01GpUhAGwo6GSUy/z+lg8wZwEY+QM821nn/FiFAaGV5SnzPKEDotTbuEskVQJ5aUnFtnANALfAqboxJOkCkiFt/sDVcQOYRZuyN3K1AMDvxQFmIq0Crq9GPEYJhQJoZUmy4rpBAO+1F5UzwxUAhQ3aFxrE+QIAiKfm4/9VACOEDz85qakAuyI9CoYjTQKGzYP9EKZBAbyuGmz32n0C5Us04k6OnQHr050b3KTZA7my67IEkLECun0zD9UwkQLCDa1axSCFAGHv/V7diM0A7VLAkEwcqQA==",
          "dtype": "f8"
         },
         "y0": " ",
         "yaxis": "y3"
        },
        {
         "alignmentgroup": "True",
         "boxpoints": "all",
         "hovertemplate": "type=Nb<br>strain=ST5<br>sample_type=%{x}<br>value=%{y}<extra></extra>",
         "legendgroup": "Nb",
         "marker": {
          "color": "#1F77B4"
         },
         "name": "Nb",
         "notched": false,
         "offsetgroup": "Nb",
         "orientation": "v",
         "showlegend": false,
         "type": "box",
         "x": [
          "sample",
          "sample",
          "sample",
          "sample",
          "sample",
          "sample",
          "sample",
          "sample",
          "sample",
          "sample",
          "sample",
          "sample",
          "sample",
          "sample",
          "NTC",
          "WATER",
          "WATER",
          "WATER",
          "WATER",
          "sample",
          "sample",
          "sample",
          "sample",
          "sample",
          "sample",
          "sample",
          "sample",
          "sample",
          "sample",
          "sample",
          "sample",
          "sample",
          "sample",
          "NTC",
          "WATER",
          "WATER",
          "WATER",
          "WATER",
          "sample",
          "sample",
          "sample",
          "sample",
          "sample",
          "sample",
          "sample",
          "sample",
          "sample",
          "sample",
          "sample",
          "sample",
          "sample",
          "sample",
          "NTC",
          "WATER",
          "WATER",
          "WATER",
          "WATER",
          "sample",
          "sample",
          "sample",
          "sample",
          "sample",
          "sample",
          "sample",
          "sample",
          "sample",
          "sample",
          "sample",
          "sample",
          "sample",
          "sample",
          "NTC",
          "WATER",
          "WATER",
          "WATER",
          "WATER"
         ],
         "x0": " ",
         "xaxis": "x2",
         "y": {
          "bdata": "Ov5orxxEuj+kECkAyTXXP3m5swDjTM4/8mYbYcSA5T9U/Cp9qhzSP5QXqA7d8uA/o9IHncEjvD/tf9d6Bb/YPyhWRQf8h+I//0v3a2oL6D/kYxR9bdTgP95o/KKP8Oc/mUdvn5nf2j+3MBm5TuvUPyv2OhB4k7c/ITtpbzhI4D9rauW7AX/LP1auPAP3IMk/ZvNskrH04D83oiXs9gjhP5Dvohtz9CNAugWDboXqI0Djln5v3+gkQIyAVArqpBhAz6acG5jVJEDRoNlbOz+1P9qjFqYGM+E/9Hdrx7WuJEBdZlPYm9wkQK9Pz4SOiCRAM/Kvgl/CJECpwHoQsRwjQHVwYi8d2CRAYYNE2NBTsT/ZIH9wmX/tP+InRFtkYhNApUHj4H0zMkBhXnGoLizUP2UPHVQc9wZA06Unjgxq9T/Le6XzbtEwQENUwA1gMUBAj33nQFHYKEDU+fWZ4sk/QN+wAuNVuPE/MTKWEqOK7j+XGGALEAQvQDGyWO8nIURApknmpm84KkC5AG8qxTtEQI/9bkQGAihAmnxfB4giQUBr6EAEhzX6P6wgcA4KukBAg9GYmUAyIEAbSecgcONZQP365F9jYSBAmm/z3ZOVgEAeqhVCU3mLQMilBDMveqhAUsqFYPYmDUD6aTULymGfQAt18uQCwiZAAaS29rjIrkAV5xEusCRFQFLsNYRn5sFAn8NyS5H7iEA6cI1FtCTAQI64A/UIv4ZA183GRirKnkBr2YgdD3zvPy1lO8/7Wsw/kORssE2HDkCNVCaV2j8IQFI8jCNpIxhA17RxWn5L8j8=",
          "dtype": "f8"
         },
         "y0": " ",
         "yaxis": "y2"
        },
        {
         "alignmentgroup": "True",
         "boxpoints": "all",
         "hovertemplate": "type=Nb<br>strain=ST6<br>sample_type=%{x}<br>value=%{y}<extra></extra>",
         "legendgroup": "Nb",
         "marker": {
          "color": "#1F77B4"
         },
         "name": "Nb",
         "notched": false,
         "offsetgroup": "Nb",
         "orientation": "v",
         "showlegend": false,
         "type": "box",
         "x": [
          "sample",
          "sample",
          "sample",
          "sample",
          "sample",
          "sample",
          "sample",
          "sample",
          "sample",
          "sample",
          "sample",
          "sample",
          "sample",
          "sample",
          "NTC",
          "WATER",
          "WATER",
          "WATER",
          "WATER"
         ],
         "x0": " ",
         "xaxis": "x",
         "y": {
          "bdata": "KzdGagbVrj/F9jRmB42uP3rTYF/HiNU/ZBZCZ9kd/z+YVe44j17gPyH9vMj6WfE/48tvUxsA4T9uveCUGqkuQNjsrvB+twZAmXLQWh8JwD8OSI/g6JKvP8HvD5fq5mNADJYTRd2cQUB2fi8BUmztP9C9lQifLdM/1FaCjiUI4j+Kj/0N46HYP4oUY9GVXsE/C7hw1CmDuj8=",
          "dtype": "f8"
         },
         "y0": " ",
         "yaxis": "y"
        },
        {
         "alignmentgroup": "True",
         "boxpoints": "all",
         "hovertemplate": "type=Ns<br>strain=ST4<br>sample_type=%{x}<br>value=%{y}<extra></extra>",
         "legendgroup": "Ns",
         "marker": {
          "color": "#FF7F0E"
         },
         "name": "Ns",
         "notched": false,
         "offsetgroup": "Ns",
         "orientation": "v",
         "showlegend": true,
         "type": "box",
         "x": [
          "sample",
          "sample",
          "sample",
          "sample",
          "sample",
          "sample",
          "sample",
          "sample",
          "sample",
          "sample",
          "sample",
          "sample",
          "sample",
          "sample",
          "NTC",
          "WATER",
          "WATER",
          "WATER",
          "WATER"
         ],
         "x0": " ",
         "xaxis": "x4",
         "y": {
          "bdata": "AAAAADthMEEAAAAAUNEzQQAAAAALMjlBAAAAAPFNNUEAAAAAj+o4QQAAAAB+iTZBwk7sxE49tkAAAAAAwE8eQQAAAACzTTlBAAAAAPSLPUEAAAAABjM3QQAAAAA/FjFBAAAAAH+eOkEAAAAAjLUxQfc4juM4WpBA1DiO4zjOWUAL5TWU15BVQAAAAACAAM5Aj+M4juN4VkA=",
          "dtype": "f8"
         },
         "y0": " ",
         "yaxis": "y4"
        },
        {
         "alignmentgroup": "True",
         "boxpoints": "all",
         "hovertemplate": "type=Ns<br>strain=ST1<br>sample_type=%{x}<br>value=%{y}<extra></extra>",
         "legendgroup": "Ns",
         "marker": {
          "color": "#FF7F0E"
         },
         "name": "Ns",
         "notched": false,
         "offsetgroup": "Ns",
         "orientation": "v",
         "showlegend": false,
         "type": "box",
         "x": [
          "sample",
          "sample",
          "sample",
          "sample",
          "sample",
          "sample",
          "sample",
          "sample",
          "sample",
          "sample",
          "sample",
          "sample",
          "sample",
          "sample",
          "NTC",
          "WATER",
          "WATER",
          "WATER",
          "WATER",
          "sample",
          "sample",
          "sample",
          "sample",
          "sample",
          "sample",
          "sample",
          "sample",
          "sample",
          "sample",
          "sample",
          "sample",
          "sample",
          "sample",
          "NTC",
          "WATER",
          "WATER",
          "WATER",
          "WATER",
          "sample",
          "sample",
          "sample",
          "sample",
          "sample",
          "sample",
          "sample",
          "sample",
          "sample",
          "sample",
          "sample",
          "sample",
          "sample",
          "sample",
          "NTC",
          "WATER",
          "WATER",
          "WATER",
          "WATER",
          "sample",
          "sample",
          "sample",
          "sample",
          "sample",
          "sample",
          "sample",
          "sample",
          "sample",
          "sample",
          "sample",
          "sample",
          "sample",
          "sample",
          "NTC",
          "WATER",
          "WATER",
          "WATER",
          "WATER",
          "sample",
          "sample",
          "sample",
          "sample",
          "sample",
          "sample",
          "sample",
          "sample",
          "sample",
          "sample",
          "sample",
          "sample",
          "sample",
          "sample",
          "NTC",
          "WATER",
          "WATER",
          "WATER",
          "WATER"
         ],
         "x0": " ",
         "xaxis": "x3",
         "y": {
          "bdata": "qKqqqqoSi0Asx3Ecx9FuQKOqqqqqRqdAiC666KLNpEBr27Zt2xCiQAAAAAAAEqVAAAAAAAAmqEDmoosuuum0QAAAAAAAHbZAAAAAAABht0AAAAAAAOaoQCBJkiRJJ7BAAAAAAADarUBSVVVVVU6wQFwndmInepxAhfIaymsoOECF8hrKa2hXQK4TO7ETP5hAAAAAAACAUEAAAAAAAHSbQAAAAAAATbRANLrooosuM0BndNFFF10xQDS66KKLLjNA5qKLLrooUEAAAAAAgILOQC266KKLblJANLrooosuM0AaXXTRRRc+QAAAAAAAADVALbroootuUkCgiy666EJlQGd00UUXXTFAUlVVVVXytkAAAAAAACBtQK6qqqqq2blAtKqqqioR1EDhRRdddPFgQAAAAAAAhJtAAAAAAAB6pEAAAAAAALKoQAAAAAAA1KlAo6qqqqrEq0AAAAAAACqkQAAAAAAAOqhAAAAAAAAaoEAAAAAAAIKrQF1VVVVVS6RAAAAAAACqq0AAAAAAAGqlQF1VVVVV16lAAAAAAAAupUAAAAAAABXJQAAAAAAAIGlAAAAAAAApyUAAAAAAwG7UQOrETuzEzkZAiC666KLzjEAAAAAAAAA1QAAAAAAA5qFAAAAAAACOkUCjqqqqqrypQAAAAAAAvJpAAAAAAACQWUAAAAAAAFSeQLmqqqqqbplAR1VVVVXpk0BHVVVVVcGTQAAAAAAAYLBAPo7jOI43k0AAAAAAADSTQDWO4ziOw2FA3rZt27Z9ekAAAAAAAJB4QAAAAAAAlJVAC+U1lNdQO0ChobyG8u6YQAAAAADYaBxBdtFFF32C5UAAAAAAUIr8QLSqqqrqANRAAAAAAIQfEEGzEzuxU7TSQAAAAABYIRZBdtu2bZvI1ECwqqqqbhcRQc1O7MSOq99AAAAAAOhPFkFzHMdx7DrwQKaqqqqKwOJAAAAAAMCTw0AAAAAAAIBJQLGG8hrKn5RAmdiJnRgu0kDR0tLS0hJYQA==",
          "dtype": "f8"
         },
         "y0": " ",
         "yaxis": "y3"
        },
        {
         "alignmentgroup": "True",
         "boxpoints": "all",
         "hovertemplate": "type=Ns<br>strain=ST5<br>sample_type=%{x}<br>value=%{y}<extra></extra>",
         "legendgroup": "Ns",
         "marker": {
          "color": "#FF7F0E"
         },
         "name": "Ns",
         "notched": false,
         "offsetgroup": "Ns",
         "orientation": "v",
         "showlegend": false,
         "type": "box",
         "x": [
          "sample",
          "sample",
          "sample",
          "sample",
          "sample",
          "sample",
          "sample",
          "sample",
          "sample",
          "sample",
          "sample",
          "sample",
          "sample",
          "sample",
          "NTC",
          "WATER",
          "WATER",
          "WATER",
          "WATER",
          "sample",
          "sample",
          "sample",
          "sample",
          "sample",
          "sample",
          "sample",
          "sample",
          "sample",
          "sample",
          "sample",
          "sample",
          "sample",
          "sample",
          "NTC",
          "WATER",
          "WATER",
          "WATER",
          "WATER",
          "sample",
          "sample",
          "sample",
          "sample",
          "sample",
          "sample",
          "sample",
          "sample",
          "sample",
          "sample",
          "sample",
          "sample",
          "sample",
          "sample",
          "NTC",
          "WATER",
          "WATER",
          "WATER",
          "WATER",
          "sample",
          "sample",
          "sample",
          "sample",
          "sample",
          "sample",
          "sample",
          "sample",
          "sample",
          "sample",
          "sample",
          "sample",
          "sample",
          "sample",
          "NTC",
          "WATER",
          "WATER",
          "WATER",
          "WATER"
         ],
         "x0": " ",
         "xaxis": "x2",
         "y": {
          "bdata": "AAAAAAAAK0AAAAAAgDfAQAAAAACA4cBAAAAAAABMykAAAAAAALKoQAAAAAAABMxAAAAAAAAatUC0qqqqqqo/QAAAAACAstJAH0mSJEkSQ0AAAAAAgEzPQAAAAACAjs5AAAAAAHAe8UAAAAAAgOPTQAAAAAAAoGJAtKqqqqqqN0C0qqqqqqo7QAAAAAAA69tAw23btm3bN0AAAAAAAPK4QAAAAAAAoGFAAAAAAABAW0AQSZIkSdJcQAAAAAAA3rhAPlVVVVUVX0AAAAAAAPiUQAAAAAAA4GJAAAAAAADAW0AAAAAAAIBfQAAAAAAAgFpAAAAAAABAXkBTVVVVVZVXQIgkSZIkiV1ARUtLS0tLMEAAAAAAABidQD5VVVVVlVxAAAAAAIAayUAAAAAAAMiCQAAAAAAAIp5AV3h4eHi4X0CuqqqqqiW+QEuSJEmSqblAV1VVVdVHwUArSZIkSbynQNJQXkN5jUVAIEmSJEnvsEAAAAAAACrDQAAAAAAAvbZAAAAAAAABtEBSVVVVVTa0QAAAAAAAe8dAAAAAAACXtEA6PDw8PLxCQFReQ3kNJVJAAAAAAAAAUUAAAAAAgMDfQB7HcRzHMVFAAAAAAAAdv0BMVVVVlajUQAAAAAAYtRJBAAAAAMCD0EAAAAAAAJL+QAAAAADAuLlAAAAAANBJ80BTdNFFV9fYQMKqqqp6vf9ArYsuuihb1EAAAAAAYAP7QOuiiy76K9hAAAAAAPBFC0EAAAAAALKoQAAAAAAAIGRAU1VVVVUVVUAAAAAAAEBUQAAAAAAwkfJAAAAAAABgV0A=",
          "dtype": "f8"
         },
         "y0": " ",
         "yaxis": "y2"
        },
        {
         "alignmentgroup": "True",
         "boxpoints": "all",
         "hovertemplate": "type=Ns<br>strain=ST6<br>sample_type=%{x}<br>value=%{y}<extra></extra>",
         "legendgroup": "Ns",
         "marker": {
          "color": "#FF7F0E"
         },
         "name": "Ns",
         "notched": false,
         "offsetgroup": "Ns",
         "orientation": "v",
         "showlegend": false,
         "type": "box",
         "x": [
          "sample",
          "sample",
          "sample",
          "sample",
          "sample",
          "sample",
          "sample",
          "sample",
          "sample",
          "sample",
          "sample",
          "sample",
          "sample",
          "sample",
          "NTC",
          "WATER",
          "WATER",
          "WATER",
          "WATER"
         ],
         "x0": " ",
         "xaxis": "x",
         "y": {
          "bdata": "AAAAAAAAFEAex3Ecx/FNQMRxHMdxnEpAAAAAAAAA8D8AAAAAABB+QAAAAAAAgFBAchzHcRzHI0BoVVVV1aXHQPPw8PDwnbpA4jiO4zgOQEDiOI7jOA5KQAAAAAAAdIZAqKqqqqoCgUAWO7ETOzFCQAAAAAAA0HxALUmSJEmSM0AAAAAAAMiCQJbjOI7jKH1ArqqqqqqqHkA=",
          "dtype": "f8"
         },
         "y0": " ",
         "yaxis": "y"
        },
        {
         "alignmentgroup": "True",
         "boxpoints": "all",
         "hovertemplate": "type=Ns_MinCutoff<br>strain=ST4<br>sample_type=%{x}<br>value=%{y}<extra></extra>",
         "legendgroup": "Ns_MinCutoff",
         "marker": {
          "color": "#2CA02C"
         },
         "name": "Ns_MinCutoff",
         "notched": false,
         "offsetgroup": "Ns_MinCutoff",
         "orientation": "v",
         "showlegend": true,
         "type": "box",
         "x": [
          "sample",
          "sample",
          "sample",
          "sample",
          "sample",
          "sample",
          "sample",
          "sample",
          "sample",
          "sample",
          "sample",
          "sample",
          "sample",
          "sample",
          "NTC",
          "WATER",
          "WATER",
          "WATER",
          "WATER"
         ],
         "x0": " ",
         "xaxis": "x4",
         "y": {
          "bdata": "AAAAAEDn0EAAAAAAgA7WQAAAAABASNdAAAAAAICl1UC0qqqq6v3XQAAAAABApNRAAAAAAADzo0DNcRzH8dLDQAAAAABA3txATFVVVZWK2UAAAAAAQKPbQAAAAAAALdhAAAAAAEAe2UAAAAAAANrVQLmqqqqqXpBAAAAAAABAVEBxHMdxHAdSQMprKK+h5ItAcRzHcRyHVEA=",
          "dtype": "f8"
         },
         "y0": " ",
         "yaxis": "y4"
        },
        {
         "alignmentgroup": "True",
         "boxpoints": "all",
         "hovertemplate": "type=Ns_MinCutoff<br>strain=ST1<br>sample_type=%{x}<br>value=%{y}<extra></extra>",
         "legendgroup": "Ns_MinCutoff",
         "marker": {
          "color": "#2CA02C"
         },
         "name": "Ns_MinCutoff",
         "notched": false,
         "offsetgroup": "Ns_MinCutoff",
         "orientation": "v",
         "showlegend": false,
         "type": "box",
         "x": [
          "sample",
          "sample",
          "sample",
          "sample",
          "sample",
          "sample",
          "sample",
          "sample",
          "sample",
          "sample",
          "sample",
          "sample",
          "sample",
          "sample",
          "NTC",
          "WATER",
          "WATER",
          "WATER",
          "WATER",
          "sample",
          "sample",
          "sample",
          "sample",
          "sample",
          "sample",
          "sample",
          "sample",
          "sample",
          "sample",
          "sample",
          "sample",
          "sample",
          "sample",
          "NTC",
          "WATER",
          "WATER",
          "WATER",
          "WATER",
          "sample",
          "sample",
          "sample",
          "sample",
          "sample",
          "sample",
          "sample",
          "sample",
          "sample",
          "sample",
          "sample",
          "sample",
          "sample",
          "sample",
          "NTC",
          "WATER",
          "WATER",
          "WATER",
          "WATER",
          "sample",
          "sample",
          "sample",
          "sample",
          "sample",
          "sample",
          "sample",
          "sample",
          "sample",
          "sample",
          "sample",
          "sample",
          "sample",
          "sample",
          "NTC",
          "WATER",
          "WATER",
          "WATER",
          "WATER",
          "sample",
          "sample",
          "sample",
          "sample",
          "sample",
          "sample",
          "sample",
          "sample",
          "sample",
          "sample",
          "sample",
          "sample",
          "sample",
          "sample",
          "NTC",
          "WATER",
          "WATER",
          "WATER",
          "WATER"
         ],
         "x0": " ",
         "xaxis": "x3",
         "y": {
          "bdata": "luM4juOYYkA1eQ3lNdRfQLdO7MRO9I9AAAAAAAAUgkBbKK+hvKZpQAAAAAAAVINAAAAAAAAogkAAAAAAAGSTQNW2bdu2Y6JAo6qqqqoqpUDtiZ3YiXGRQAAAAAAAH5dAR1VVVVV5mEATdmIndnaYQCotLS0t9YNAhfIaymsoOEAAAAAAAABRQMtxHMdx/GNAAAAAAAAAQUAAAAAAALB+QFl00UUX3UBAZ3TRRRddMUD+XHTRRRcvQGd00UUXXTFA/lx00UUXL0AAAAAAAIiGQD8XXXTRxUFAZ3TRRRddMUD+XHTRRRcvQAAAAAAAADNA/lx00UUXL0BndNFFF10xQP5cdNFFFy9AAAAAAAAapUAAAAAAAKBtQAAAAAAAQqxAUlVVVVWGtEAAAAAAAABMQAAAAAAA6IpAAAAAAAAiokAAAAAAANqjQAAAAAAAGqBAAAAAAADuo0AAAAAAAC6gQAAAAAAA6IVAAAAAAADmoUBdVVVVVeejQAAAAAAAWqFAAAAAAABCpUAAAAAAAOqiQCtJkiRJ/KNAAAAAAADGo0AAAAAAAJKgQAAAAAAAQFlAAAAAAADSq0AAAAAAAAKkQNSJndiJHUlAT1VVVVUlcEBbXkN5DeUyQAAAAAAAhJFA5jiO4zhec0CFh4eHh4+HQJKd2ImdqHZAew3lNZRXQUDhRRdddPFvQN62bdu2VYxAsaqqqqqqdkDetm3btqWHQKiqqqqqioBAAAAAAADIg0BqHMdxHNd2QAAAAAAAQFtAn6qqqqrqbUCgiy666HJ2QLGqqqqqunBAKpTXUF5DOkCavIbyGtp5QAAAAABItQNBAAAAAEAGzEB8HMdxHCmrQFReQ3kNHrFAAAAAACAR6UAYDw8PD1muQMKqqqpaYv1As7S0tLSNuEDdtm3bRtf3QAAAAAAACbZAwqqqqhrI/0B227ZtGy3SQB/HcRzH6L9AZ2lpaWl+uEBCWlpaWppbQKiqqqqqIolAH8dxHMfysECMh4eHhwdIQA==",
          "dtype": "f8"
         },
         "y0": " ",
         "yaxis": "y3"
        },
        {
         "alignmentgroup": "True",
         "boxpoints": "all",
         "hovertemplate": "type=Ns_MinCutoff<br>strain=ST5<br>sample_type=%{x}<br>value=%{y}<extra></extra>",
         "legendgroup": "Ns_MinCutoff",
         "marker": {
          "color": "#2CA02C"
         },
         "name": "Ns_MinCutoff",
         "notched": false,
         "offsetgroup": "Ns_MinCutoff",
         "orientation": "v",
         "showlegend": false,
         "type": "box",
         "x": [
          "sample",
          "sample",
          "sample",
          "sample",
          "sample",
          "sample",
          "sample",
          "sample",
          "sample",
          "sample",
          "sample",
          "sample",
          "sample",
          "sample",
          "NTC",
          "WATER",
          "WATER",
          "WATER",
          "WATER",
          "sample",
          "sample",
          "sample",
          "sample",
          "sample",
          "sample",
          "sample",
          "sample",
          "sample",
          "sample",
          "sample",
          "sample",
          "sample",
          "sample",
          "NTC",
          "WATER",
          "WATER",
          "WATER",
          "WATER",
          "sample",
          "sample",
          "sample",
          "sample",
          "sample",
          "sample",
          "sample",
          "sample",
          "sample",
          "sample",
          "sample",
          "sample",
          "sample",
          "sample",
          "NTC",
          "WATER",
          "WATER",
          "WATER",
          "WATER",
          "sample",
          "sample",
          "sample",
          "sample",
          "sample",
          "sample",
          "sample",
          "sample",
          "sample",
          "sample",
          "sample",
          "sample",
          "sample",
          "sample",
          "NTC",
          "WATER",
          "WATER",
          "WATER",
          "WATER"
         ],
         "x0": " ",
         "xaxis": "x2",
         "y": {
          "bdata": "AAAAAAAAK0AAAAAAAAA1QFpVVVVV1UFAAAAAAABAXUAAAAAAAIBFQAAAAAAAyIdAAAAAAAAANUC0qqqqqqozQAAAAAAAarBALUmSJEmSPUAAAAAAALKjQAAAAAAAQFxAAAAAAABEkEAAAAAAADqjQI8kSZIkiVhAtKqqqqqqN0BMVVVVVVU2QExVVVVVVT5AliRJkiRJOUAAAAAAAIBOQAAAAAAAwFNAjyRJkiSJWEAAAAAAAEBUQB7HcRzHsVNAraqqqqrqVUAAAAAAAJBxQHEcx3EcB1JAcRzHcRwHV0AAAAAAACBWQCZJkiRJ0ldA2rZt27atVUCtqqqqqupVQNq2bdu2rVVA19LS0tLSFkAAAAAAAHBzQD5VVVVVFVpAAAAAAACWpUAAAAAAAIBOQHt4eHh4yHFAFcprKK8hR0AAAAAAAKiOQAAAAAAAZJ1AR1VVVVVRkEAAAAAAACqkQBXKayivIUdAAAAAAACQZ0DxoosuusqhQJUkSZIky6pAqKqqqqoiiUCjqqqqqpiqQAAAAAAATJdAXVVVVVXDqUDR0tLS0lJDQO7w8PDwMFdALq+hvIZyTUBoVVVVVV7EQI/jOI7jeFFAf3h4eHhCpkAaHh4eHpu0QAAAAAAw+/tAAAAAAMCLuUAAAAAAsOrhQD6O4ziOOaRAiiRJkqQ1yEC1bdu27SbCQBnHcRwHEd9AztLS0tKXskA+F110ERDaQAAAAAAAw7VAAAAAADBq9kDKayivoeSBQI/jOI7j+FNAU1VVVVWVUkA8juM4jqNQQAAAAADAYtpACw8PDw+PS0A=",
          "dtype": "f8"
         },
         "y0": " ",
         "yaxis": "y2"
        },
        {
         "alignmentgroup": "True",
         "boxpoints": "all",
         "hovertemplate": "type=Ns_MinCutoff<br>strain=ST6<br>sample_type=%{x}<br>value=%{y}<extra></extra>",
         "legendgroup": "Ns_MinCutoff",
         "marker": {
          "color": "#2CA02C"
         },
         "name": "Ns_MinCutoff",
         "notched": false,
         "offsetgroup": "Ns_MinCutoff",
         "orientation": "v",
         "showlegend": false,
         "type": "box",
         "x": [
          "sample",
          "sample",
          "sample",
          "sample",
          "sample",
          "sample",
          "sample",
          "sample",
          "sample",
          "sample",
          "sample",
          "sample",
          "sample",
          "sample",
          "NTC",
          "WATER",
          "WATER",
          "WATER",
          "WATER"
         ],
         "x0": " ",
         "xaxis": "x",
         "y": {
          "bdata": "XVVVVVVVDUC0qqqqqqo7QAAAAAAAADVAAAAAAAAA8D8AAAAAACBuQFpVVVVVVUBAchzHcRzHI0CC11BeQ32dQLOhvIbygopAxHEcx3EcNkDc4eHh4WFAQAAAAAAAOGVAgtdQXkO5XUAWO7ETO7E8QAAAAAAA0HxALUmSJEmSM0AAAAAAACiMQAAAAAAAACZArqqqqqqqHkA=",
          "dtype": "f8"
         },
         "y0": " ",
         "yaxis": "y"
        }
       ],
       "layout": {
        "annotations": [
         {
          "font": {},
          "showarrow": false,
          "text": "strain=ST6",
          "textangle": 90,
          "x": 0.98,
          "xanchor": "left",
          "xref": "paper",
          "y": 0.11375,
          "yanchor": "middle",
          "yref": "paper"
         },
         {
          "font": {},
          "showarrow": false,
          "text": "strain=ST5",
          "textangle": 90,
          "x": 0.98,
          "xanchor": "left",
          "xref": "paper",
          "y": 0.37124999999999997,
          "yanchor": "middle",
          "yref": "paper"
         },
         {
          "font": {},
          "showarrow": false,
          "text": "strain=ST1",
          "textangle": 90,
          "x": 0.98,
          "xanchor": "left",
          "xref": "paper",
          "y": 0.62875,
          "yanchor": "middle",
          "yref": "paper"
         },
         {
          "font": {},
          "showarrow": false,
          "text": "strain=ST4",
          "textangle": 90,
          "x": 0.98,
          "xanchor": "left",
          "xref": "paper",
          "y": 0.88625,
          "yanchor": "middle",
          "yref": "paper"
         }
        ],
        "boxmode": "group",
        "height": 800,
        "legend": {
         "title": {
          "text": "type"
         },
         "tracegroupgap": 0
        },
        "margin": {
         "t": 60
        },
        "template": {
         "data": {
          "bar": [
           {
            "error_x": {
             "color": "rgb(36,36,36)"
            },
            "error_y": {
             "color": "rgb(36,36,36)"
            },
            "marker": {
             "line": {
              "color": "white",
              "width": 0.5
             },
             "pattern": {
              "fillmode": "overlay",
              "size": 10,
              "solidity": 0.2
             }
            },
            "type": "bar"
           }
          ],
          "barpolar": [
           {
            "marker": {
             "line": {
              "color": "white",
              "width": 0.5
             },
             "pattern": {
              "fillmode": "overlay",
              "size": 10,
              "solidity": 0.2
             }
            },
            "type": "barpolar"
           }
          ],
          "carpet": [
           {
            "aaxis": {
             "endlinecolor": "rgb(36,36,36)",
             "gridcolor": "white",
             "linecolor": "white",
             "minorgridcolor": "white",
             "startlinecolor": "rgb(36,36,36)"
            },
            "baxis": {
             "endlinecolor": "rgb(36,36,36)",
             "gridcolor": "white",
             "linecolor": "white",
             "minorgridcolor": "white",
             "startlinecolor": "rgb(36,36,36)"
            },
            "type": "carpet"
           }
          ],
          "choropleth": [
           {
            "colorbar": {
             "outlinewidth": 1,
             "tickcolor": "rgb(36,36,36)",
             "ticks": "outside"
            },
            "type": "choropleth"
           }
          ],
          "contour": [
           {
            "colorbar": {
             "outlinewidth": 1,
             "tickcolor": "rgb(36,36,36)",
             "ticks": "outside"
            },
            "colorscale": [
             [
              0,
              "#440154"
             ],
             [
              0.1111111111111111,
              "#482878"
             ],
             [
              0.2222222222222222,
              "#3e4989"
             ],
             [
              0.3333333333333333,
              "#31688e"
             ],
             [
              0.4444444444444444,
              "#26828e"
             ],
             [
              0.5555555555555556,
              "#1f9e89"
             ],
             [
              0.6666666666666666,
              "#35b779"
             ],
             [
              0.7777777777777778,
              "#6ece58"
             ],
             [
              0.8888888888888888,
              "#b5de2b"
             ],
             [
              1,
              "#fde725"
             ]
            ],
            "type": "contour"
           }
          ],
          "contourcarpet": [
           {
            "colorbar": {
             "outlinewidth": 1,
             "tickcolor": "rgb(36,36,36)",
             "ticks": "outside"
            },
            "type": "contourcarpet"
           }
          ],
          "heatmap": [
           {
            "colorbar": {
             "outlinewidth": 1,
             "tickcolor": "rgb(36,36,36)",
             "ticks": "outside"
            },
            "colorscale": [
             [
              0,
              "#440154"
             ],
             [
              0.1111111111111111,
              "#482878"
             ],
             [
              0.2222222222222222,
              "#3e4989"
             ],
             [
              0.3333333333333333,
              "#31688e"
             ],
             [
              0.4444444444444444,
              "#26828e"
             ],
             [
              0.5555555555555556,
              "#1f9e89"
             ],
             [
              0.6666666666666666,
              "#35b779"
             ],
             [
              0.7777777777777778,
              "#6ece58"
             ],
             [
              0.8888888888888888,
              "#b5de2b"
             ],
             [
              1,
              "#fde725"
             ]
            ],
            "type": "heatmap"
           }
          ],
          "histogram": [
           {
            "marker": {
             "line": {
              "color": "white",
              "width": 0.6
             }
            },
            "type": "histogram"
           }
          ],
          "histogram2d": [
           {
            "colorbar": {
             "outlinewidth": 1,
             "tickcolor": "rgb(36,36,36)",
             "ticks": "outside"
            },
            "colorscale": [
             [
              0,
              "#440154"
             ],
             [
              0.1111111111111111,
              "#482878"
             ],
             [
              0.2222222222222222,
              "#3e4989"
             ],
             [
              0.3333333333333333,
              "#31688e"
             ],
             [
              0.4444444444444444,
              "#26828e"
             ],
             [
              0.5555555555555556,
              "#1f9e89"
             ],
             [
              0.6666666666666666,
              "#35b779"
             ],
             [
              0.7777777777777778,
              "#6ece58"
             ],
             [
              0.8888888888888888,
              "#b5de2b"
             ],
             [
              1,
              "#fde725"
             ]
            ],
            "type": "histogram2d"
           }
          ],
          "histogram2dcontour": [
           {
            "colorbar": {
             "outlinewidth": 1,
             "tickcolor": "rgb(36,36,36)",
             "ticks": "outside"
            },
            "colorscale": [
             [
              0,
              "#440154"
             ],
             [
              0.1111111111111111,
              "#482878"
             ],
             [
              0.2222222222222222,
              "#3e4989"
             ],
             [
              0.3333333333333333,
              "#31688e"
             ],
             [
              0.4444444444444444,
              "#26828e"
             ],
             [
              0.5555555555555556,
              "#1f9e89"
             ],
             [
              0.6666666666666666,
              "#35b779"
             ],
             [
              0.7777777777777778,
              "#6ece58"
             ],
             [
              0.8888888888888888,
              "#b5de2b"
             ],
             [
              1,
              "#fde725"
             ]
            ],
            "type": "histogram2dcontour"
           }
          ],
          "mesh3d": [
           {
            "colorbar": {
             "outlinewidth": 1,
             "tickcolor": "rgb(36,36,36)",
             "ticks": "outside"
            },
            "type": "mesh3d"
           }
          ],
          "parcoords": [
           {
            "line": {
             "colorbar": {
              "outlinewidth": 1,
              "tickcolor": "rgb(36,36,36)",
              "ticks": "outside"
             }
            },
            "type": "parcoords"
           }
          ],
          "pie": [
           {
            "automargin": true,
            "type": "pie"
           }
          ],
          "scatter": [
           {
            "fillpattern": {
             "fillmode": "overlay",
             "size": 10,
             "solidity": 0.2
            },
            "type": "scatter"
           }
          ],
          "scatter3d": [
           {
            "line": {
             "colorbar": {
              "outlinewidth": 1,
              "tickcolor": "rgb(36,36,36)",
              "ticks": "outside"
             }
            },
            "marker": {
             "colorbar": {
              "outlinewidth": 1,
              "tickcolor": "rgb(36,36,36)",
              "ticks": "outside"
             }
            },
            "type": "scatter3d"
           }
          ],
          "scattercarpet": [
           {
            "marker": {
             "colorbar": {
              "outlinewidth": 1,
              "tickcolor": "rgb(36,36,36)",
              "ticks": "outside"
             }
            },
            "type": "scattercarpet"
           }
          ],
          "scattergeo": [
           {
            "marker": {
             "colorbar": {
              "outlinewidth": 1,
              "tickcolor": "rgb(36,36,36)",
              "ticks": "outside"
             }
            },
            "type": "scattergeo"
           }
          ],
          "scattergl": [
           {
            "marker": {
             "colorbar": {
              "outlinewidth": 1,
              "tickcolor": "rgb(36,36,36)",
              "ticks": "outside"
             }
            },
            "type": "scattergl"
           }
          ],
          "scattermap": [
           {
            "marker": {
             "colorbar": {
              "outlinewidth": 1,
              "tickcolor": "rgb(36,36,36)",
              "ticks": "outside"
             }
            },
            "type": "scattermap"
           }
          ],
          "scattermapbox": [
           {
            "marker": {
             "colorbar": {
              "outlinewidth": 1,
              "tickcolor": "rgb(36,36,36)",
              "ticks": "outside"
             }
            },
            "type": "scattermapbox"
           }
          ],
          "scatterpolar": [
           {
            "marker": {
             "colorbar": {
              "outlinewidth": 1,
              "tickcolor": "rgb(36,36,36)",
              "ticks": "outside"
             }
            },
            "type": "scatterpolar"
           }
          ],
          "scatterpolargl": [
           {
            "marker": {
             "colorbar": {
              "outlinewidth": 1,
              "tickcolor": "rgb(36,36,36)",
              "ticks": "outside"
             }
            },
            "type": "scatterpolargl"
           }
          ],
          "scatterternary": [
           {
            "marker": {
             "colorbar": {
              "outlinewidth": 1,
              "tickcolor": "rgb(36,36,36)",
              "ticks": "outside"
             }
            },
            "type": "scatterternary"
           }
          ],
          "surface": [
           {
            "colorbar": {
             "outlinewidth": 1,
             "tickcolor": "rgb(36,36,36)",
             "ticks": "outside"
            },
            "colorscale": [
             [
              0,
              "#440154"
             ],
             [
              0.1111111111111111,
              "#482878"
             ],
             [
              0.2222222222222222,
              "#3e4989"
             ],
             [
              0.3333333333333333,
              "#31688e"
             ],
             [
              0.4444444444444444,
              "#26828e"
             ],
             [
              0.5555555555555556,
              "#1f9e89"
             ],
             [
              0.6666666666666666,
              "#35b779"
             ],
             [
              0.7777777777777778,
              "#6ece58"
             ],
             [
              0.8888888888888888,
              "#b5de2b"
             ],
             [
              1,
              "#fde725"
             ]
            ],
            "type": "surface"
           }
          ],
          "table": [
           {
            "cells": {
             "fill": {
              "color": "rgb(237,237,237)"
             },
             "line": {
              "color": "white"
             }
            },
            "header": {
             "fill": {
              "color": "rgb(217,217,217)"
             },
             "line": {
              "color": "white"
             }
            },
            "type": "table"
           }
          ]
         },
         "layout": {
          "annotationdefaults": {
           "arrowhead": 0,
           "arrowwidth": 1
          },
          "autotypenumbers": "strict",
          "coloraxis": {
           "colorbar": {
            "outlinewidth": 1,
            "tickcolor": "rgb(36,36,36)",
            "ticks": "outside"
           }
          },
          "colorscale": {
           "diverging": [
            [
             0,
             "rgb(103,0,31)"
            ],
            [
             0.1,
             "rgb(178,24,43)"
            ],
            [
             0.2,
             "rgb(214,96,77)"
            ],
            [
             0.3,
             "rgb(244,165,130)"
            ],
            [
             0.4,
             "rgb(253,219,199)"
            ],
            [
             0.5,
             "rgb(247,247,247)"
            ],
            [
             0.6,
             "rgb(209,229,240)"
            ],
            [
             0.7,
             "rgb(146,197,222)"
            ],
            [
             0.8,
             "rgb(67,147,195)"
            ],
            [
             0.9,
             "rgb(33,102,172)"
            ],
            [
             1,
             "rgb(5,48,97)"
            ]
           ],
           "sequential": [
            [
             0,
             "#440154"
            ],
            [
             0.1111111111111111,
             "#482878"
            ],
            [
             0.2222222222222222,
             "#3e4989"
            ],
            [
             0.3333333333333333,
             "#31688e"
            ],
            [
             0.4444444444444444,
             "#26828e"
            ],
            [
             0.5555555555555556,
             "#1f9e89"
            ],
            [
             0.6666666666666666,
             "#35b779"
            ],
            [
             0.7777777777777778,
             "#6ece58"
            ],
            [
             0.8888888888888888,
             "#b5de2b"
            ],
            [
             1,
             "#fde725"
            ]
           ],
           "sequentialminus": [
            [
             0,
             "#440154"
            ],
            [
             0.1111111111111111,
             "#482878"
            ],
            [
             0.2222222222222222,
             "#3e4989"
            ],
            [
             0.3333333333333333,
             "#31688e"
            ],
            [
             0.4444444444444444,
             "#26828e"
            ],
            [
             0.5555555555555556,
             "#1f9e89"
            ],
            [
             0.6666666666666666,
             "#35b779"
            ],
            [
             0.7777777777777778,
             "#6ece58"
            ],
            [
             0.8888888888888888,
             "#b5de2b"
            ],
            [
             1,
             "#fde725"
            ]
           ]
          },
          "colorway": [
           "#1F77B4",
           "#FF7F0E",
           "#2CA02C",
           "#D62728",
           "#9467BD",
           "#8C564B",
           "#E377C2",
           "#7F7F7F",
           "#BCBD22",
           "#17BECF"
          ],
          "font": {
           "color": "rgb(36,36,36)"
          },
          "geo": {
           "bgcolor": "white",
           "lakecolor": "white",
           "landcolor": "white",
           "showlakes": true,
           "showland": true,
           "subunitcolor": "white"
          },
          "hoverlabel": {
           "align": "left"
          },
          "hovermode": "closest",
          "mapbox": {
           "style": "light"
          },
          "paper_bgcolor": "white",
          "plot_bgcolor": "white",
          "polar": {
           "angularaxis": {
            "gridcolor": "rgb(232,232,232)",
            "linecolor": "rgb(36,36,36)",
            "showgrid": false,
            "showline": true,
            "ticks": "outside"
           },
           "bgcolor": "white",
           "radialaxis": {
            "gridcolor": "rgb(232,232,232)",
            "linecolor": "rgb(36,36,36)",
            "showgrid": false,
            "showline": true,
            "ticks": "outside"
           }
          },
          "scene": {
           "xaxis": {
            "backgroundcolor": "white",
            "gridcolor": "rgb(232,232,232)",
            "gridwidth": 2,
            "linecolor": "rgb(36,36,36)",
            "showbackground": true,
            "showgrid": false,
            "showline": true,
            "ticks": "outside",
            "zeroline": false,
            "zerolinecolor": "rgb(36,36,36)"
           },
           "yaxis": {
            "backgroundcolor": "white",
            "gridcolor": "rgb(232,232,232)",
            "gridwidth": 2,
            "linecolor": "rgb(36,36,36)",
            "showbackground": true,
            "showgrid": false,
            "showline": true,
            "ticks": "outside",
            "zeroline": false,
            "zerolinecolor": "rgb(36,36,36)"
           },
           "zaxis": {
            "backgroundcolor": "white",
            "gridcolor": "rgb(232,232,232)",
            "gridwidth": 2,
            "linecolor": "rgb(36,36,36)",
            "showbackground": true,
            "showgrid": false,
            "showline": true,
            "ticks": "outside",
            "zeroline": false,
            "zerolinecolor": "rgb(36,36,36)"
           }
          },
          "shapedefaults": {
           "fillcolor": "black",
           "line": {
            "width": 0
           },
           "opacity": 0.3
          },
          "ternary": {
           "aaxis": {
            "gridcolor": "rgb(232,232,232)",
            "linecolor": "rgb(36,36,36)",
            "showgrid": false,
            "showline": true,
            "ticks": "outside"
           },
           "baxis": {
            "gridcolor": "rgb(232,232,232)",
            "linecolor": "rgb(36,36,36)",
            "showgrid": false,
            "showline": true,
            "ticks": "outside"
           },
           "bgcolor": "white",
           "caxis": {
            "gridcolor": "rgb(232,232,232)",
            "linecolor": "rgb(36,36,36)",
            "showgrid": false,
            "showline": true,
            "ticks": "outside"
           }
          },
          "title": {
           "x": 0.05
          },
          "xaxis": {
           "automargin": true,
           "gridcolor": "rgb(232,232,232)",
           "linecolor": "rgb(36,36,36)",
           "showgrid": false,
           "showline": true,
           "ticks": "outside",
           "title": {
            "standoff": 15
           },
           "zeroline": false,
           "zerolinecolor": "rgb(36,36,36)"
          },
          "yaxis": {
           "automargin": true,
           "gridcolor": "rgb(232,232,232)",
           "linecolor": "rgb(36,36,36)",
           "showgrid": false,
           "showline": true,
           "ticks": "outside",
           "title": {
            "standoff": 15
           },
           "zeroline": false,
           "zerolinecolor": "rgb(36,36,36)"
          }
         }
        },
        "width": 800,
        "xaxis": {
         "anchor": "y",
         "domain": [
          0,
          0.98
         ],
         "title": {
          "text": "sample_type"
         }
        },
        "xaxis2": {
         "anchor": "y2",
         "domain": [
          0,
          0.98
         ],
         "matches": "x",
         "showticklabels": false
        },
        "xaxis3": {
         "anchor": "y3",
         "domain": [
          0,
          0.98
         ],
         "matches": "x",
         "showticklabels": false
        },
        "xaxis4": {
         "anchor": "y4",
         "domain": [
          0,
          0.98
         ],
         "matches": "x",
         "showticklabels": false
        },
        "yaxis": {
         "anchor": "x",
         "domain": [
          0,
          0.2275
         ],
         "title": {
          "text": "value"
         },
         "type": "log"
        },
        "yaxis2": {
         "anchor": "x2",
         "domain": [
          0.2575,
          0.485
         ],
         "matches": "y",
         "title": {
          "text": "value"
         },
         "type": "log"
        },
        "yaxis3": {
         "anchor": "x3",
         "domain": [
          0.515,
          0.7425
         ],
         "matches": "y",
         "title": {
          "text": "value"
         },
         "type": "log"
        },
        "yaxis4": {
         "anchor": "x4",
         "domain": [
          0.7725,
          1
         ],
         "matches": "y",
         "title": {
          "text": "value"
         },
         "type": "log"
        }
       }
      }
     },
     "metadata": {},
     "output_type": "display_data"
    }
   ],
   "source": [
    "df_plot = df_FP[['cage','strain', 'sample_id', 'sample_type','Nb', 'Ns', 'Ns_MinCutoff']].set_index(['cage','strain', 'sample_id', 'sample_type']).stack()\n",
    "df_plot = df_plot.reset_index()\n",
    "df_plot = df_plot.rename(columns = {'level_4': 'type', 0: 'value'})\n",
    "display(df_plot)\n",
    "fig = px.box(df_plot,\n",
    "            y = 'value',\n",
    "            x = 'sample_type',\n",
    "            color = 'type',\n",
    "            points = 'all',\n",
    "            template = 'simple_white',\n",
    "            width = 800,\n",
    "            height = 400,\n",
    "            log_y = True)\n",
    "fig.show()\n",
    "fig = px.box(df_plot,\n",
    "            y = 'value',\n",
    "            x = 'sample_type',\n",
    "            facet_row = 'strain',\n",
    "            color = 'type',\n",
    "            points = 'all',\n",
    "            template = 'simple_white',\n",
    "            width = 800,\n",
    "            height = 800,\n",
    "            log_y = True)\n",
    "fig.show()"
   ]
  },
  {
   "cell_type": "markdown",
   "id": "ef26a9d3",
   "metadata": {},
   "source": [
    "# FP time course"
   ]
  },
  {
   "cell_type": "code",
   "execution_count": null,
   "id": "f54f2a60",
   "metadata": {},
   "outputs": [
    {
     "data": {
      "text/html": [
       "<div>\n",
       "<style scoped>\n",
       "    .dataframe tbody tr th:only-of-type {\n",
       "        vertical-align: middle;\n",
       "    }\n",
       "\n",
       "    .dataframe tbody tr th {\n",
       "        vertical-align: top;\n",
       "    }\n",
       "\n",
       "    .dataframe thead th {\n",
       "        text-align: right;\n",
       "    }\n",
       "</style>\n",
       "<table border=\"1\" class=\"dataframe\">\n",
       "  <thead>\n",
       "    <tr style=\"text-align: right;\">\n",
       "      <th></th>\n",
       "      <th>sample_name</th>\n",
       "      <th>TotalReads</th>\n",
       "      <th>Number of barcodes</th>\n",
       "      <th>Ns_MinCutoff</th>\n",
       "      <th>Nb</th>\n",
       "      <th>Ns</th>\n",
       "      <th>AverageFrequency</th>\n",
       "      <th>CFU</th>\n",
       "      <th>Log10Ns</th>\n",
       "      <th>Log10CFU</th>\n",
       "      <th>...</th>\n",
       "      <th>strains</th>\n",
       "      <th>tube_type</th>\n",
       "      <th>tube_weight_empty</th>\n",
       "      <th>tube_weight_full</th>\n",
       "      <th>stool_weight_mg</th>\n",
       "      <th>cfu_g_stool</th>\n",
       "      <th>dna_conc_ng_ul</th>\n",
       "      <th>cfu_incubation_time</th>\n",
       "      <th>cfu_g_stool_spec</th>\n",
       "      <th>cfu_g_stool_cmr</th>\n",
       "    </tr>\n",
       "  </thead>\n",
       "  <tbody>\n",
       "    <tr>\n",
       "      <th>0</th>\n",
       "      <td>s107_SI.DNA</td>\n",
       "      <td>272153976</td>\n",
       "      <td>30843</td>\n",
       "      <td>17309.000000</td>\n",
       "      <td>199275.123474</td>\n",
       "      <td>1.073467e+06</td>\n",
       "      <td>647358.137318</td>\n",
       "      <td>0</td>\n",
       "      <td>6.030789</td>\n",
       "      <td>-inf</td>\n",
       "      <td>...</td>\n",
       "      <td>E. coli|E.coli|B.uniformis</td>\n",
       "      <td>2ml_screwcap</td>\n",
       "      <td>1651.32</td>\n",
       "      <td>1674.9</td>\n",
       "      <td>23.58</td>\n",
       "      <td>NaN</td>\n",
       "      <td>0.74</td>\n",
       "      <td>NaN</td>\n",
       "      <td>NaN</td>\n",
       "      <td>NaN</td>\n",
       "    </tr>\n",
       "    <tr>\n",
       "      <th>1</th>\n",
       "      <td>s108_SI.DNA</td>\n",
       "      <td>13767059</td>\n",
       "      <td>33191</td>\n",
       "      <td>22586.000000</td>\n",
       "      <td>253160.424163</td>\n",
       "      <td>1.298768e+06</td>\n",
       "      <td>586216.751585</td>\n",
       "      <td>0</td>\n",
       "      <td>6.113532</td>\n",
       "      <td>-inf</td>\n",
       "      <td>...</td>\n",
       "      <td>E. coli|E.coli|B.uniformis</td>\n",
       "      <td>2ml_screwcap</td>\n",
       "      <td>1679.87</td>\n",
       "      <td>1701.5</td>\n",
       "      <td>21.63</td>\n",
       "      <td>NaN</td>\n",
       "      <td>12.88</td>\n",
       "      <td>NaN</td>\n",
       "      <td>NaN</td>\n",
       "      <td>NaN</td>\n",
       "    </tr>\n",
       "    <tr>\n",
       "      <th>2</th>\n",
       "      <td>s117_Cecum.DNA</td>\n",
       "      <td>916213852</td>\n",
       "      <td>38349</td>\n",
       "      <td>23841.000000</td>\n",
       "      <td>265666.399773</td>\n",
       "      <td>1.651211e+06</td>\n",
       "      <td>791628.592118</td>\n",
       "      <td>0</td>\n",
       "      <td>6.217803</td>\n",
       "      <td>-inf</td>\n",
       "      <td>...</td>\n",
       "      <td>E. coli|E.coli|B.uniformis</td>\n",
       "      <td>2ml_screwcap</td>\n",
       "      <td>1650.13</td>\n",
       "      <td>1684.7</td>\n",
       "      <td>34.57</td>\n",
       "      <td>NaN</td>\n",
       "      <td>57.78</td>\n",
       "      <td>NaN</td>\n",
       "      <td>NaN</td>\n",
       "      <td>NaN</td>\n",
       "    </tr>\n",
       "    <tr>\n",
       "      <th>3</th>\n",
       "      <td>s118_Cecum.DNA</td>\n",
       "      <td>443324713</td>\n",
       "      <td>35013</td>\n",
       "      <td>22166.000000</td>\n",
       "      <td>236899.873212</td>\n",
       "      <td>1.396209e+06</td>\n",
       "      <td>609438.905726</td>\n",
       "      <td>0</td>\n",
       "      <td>6.144950</td>\n",
       "      <td>-inf</td>\n",
       "      <td>...</td>\n",
       "      <td>E. coli|E.coli|B.uniformis</td>\n",
       "      <td>2ml_screwcap</td>\n",
       "      <td>1658.60</td>\n",
       "      <td>1747.3</td>\n",
       "      <td>88.70</td>\n",
       "      <td>NaN</td>\n",
       "      <td>50.31</td>\n",
       "      <td>NaN</td>\n",
       "      <td>NaN</td>\n",
       "      <td>NaN</td>\n",
       "    </tr>\n",
       "    <tr>\n",
       "      <th>4</th>\n",
       "      <td>s127_Pr..Colon.DNA</td>\n",
       "      <td>1079846256</td>\n",
       "      <td>38083</td>\n",
       "      <td>24567.666667</td>\n",
       "      <td>280752.369659</td>\n",
       "      <td>1.632911e+06</td>\n",
       "      <td>783783.101241</td>\n",
       "      <td>0</td>\n",
       "      <td>6.212963</td>\n",
       "      <td>-inf</td>\n",
       "      <td>...</td>\n",
       "      <td>E. coli|E.coli|B.uniformis</td>\n",
       "      <td>2ml_screwcap</td>\n",
       "      <td>1651.19</td>\n",
       "      <td>1670.4</td>\n",
       "      <td>19.21</td>\n",
       "      <td>NaN</td>\n",
       "      <td>22.12</td>\n",
       "      <td>NaN</td>\n",
       "      <td>NaN</td>\n",
       "      <td>NaN</td>\n",
       "    </tr>\n",
       "    <tr>\n",
       "      <th>...</th>\n",
       "      <td>...</td>\n",
       "      <td>...</td>\n",
       "      <td>...</td>\n",
       "      <td>...</td>\n",
       "      <td>...</td>\n",
       "      <td>...</td>\n",
       "      <td>...</td>\n",
       "      <td>...</td>\n",
       "      <td>...</td>\n",
       "      <td>...</td>\n",
       "      <td>...</td>\n",
       "      <td>...</td>\n",
       "      <td>...</td>\n",
       "      <td>...</td>\n",
       "      <td>...</td>\n",
       "      <td>...</td>\n",
       "      <td>...</td>\n",
       "      <td>...</td>\n",
       "      <td>...</td>\n",
       "      <td>...</td>\n",
       "      <td>...</td>\n",
       "    </tr>\n",
       "    <tr>\n",
       "      <th>204</th>\n",
       "      <td>NTC_H3_NTC</td>\n",
       "      <td>220639</td>\n",
       "      <td>8746</td>\n",
       "      <td>6270.411765</td>\n",
       "      <td>14.071304</td>\n",
       "      <td>1.002350e+04</td>\n",
       "      <td>36020.615573</td>\n",
       "      <td>0</td>\n",
       "      <td>4.001019</td>\n",
       "      <td>-inf</td>\n",
       "      <td>...</td>\n",
       "      <td>NaN</td>\n",
       "      <td>NaN</td>\n",
       "      <td>NaN</td>\n",
       "      <td>NaN</td>\n",
       "      <td>NaN</td>\n",
       "      <td>NaN</td>\n",
       "      <td>NaN</td>\n",
       "      <td>NaN</td>\n",
       "      <td>NaN</td>\n",
       "      <td>NaN</td>\n",
       "    </tr>\n",
       "    <tr>\n",
       "      <th>205</th>\n",
       "      <td>WATER_B3_WATER</td>\n",
       "      <td>14439</td>\n",
       "      <td>42</td>\n",
       "      <td>110.411765</td>\n",
       "      <td>10.150313</td>\n",
       "      <td>5.100000e+01</td>\n",
       "      <td>54.549464</td>\n",
       "      <td>0</td>\n",
       "      <td>1.707570</td>\n",
       "      <td>-inf</td>\n",
       "      <td>...</td>\n",
       "      <td>NaN</td>\n",
       "      <td>NaN</td>\n",
       "      <td>NaN</td>\n",
       "      <td>NaN</td>\n",
       "      <td>NaN</td>\n",
       "      <td>NaN</td>\n",
       "      <td>NaN</td>\n",
       "      <td>NaN</td>\n",
       "      <td>NaN</td>\n",
       "      <td>NaN</td>\n",
       "    </tr>\n",
       "    <tr>\n",
       "      <th>206</th>\n",
       "      <td>WATER_C6_WATER</td>\n",
       "      <td>134191</td>\n",
       "      <td>1226</td>\n",
       "      <td>804.333333</td>\n",
       "      <td>8.641978</td>\n",
       "      <td>1.319947e+03</td>\n",
       "      <td>5637.197143</td>\n",
       "      <td>0</td>\n",
       "      <td>3.120557</td>\n",
       "      <td>-inf</td>\n",
       "      <td>...</td>\n",
       "      <td>NaN</td>\n",
       "      <td>NaN</td>\n",
       "      <td>NaN</td>\n",
       "      <td>NaN</td>\n",
       "      <td>NaN</td>\n",
       "      <td>NaN</td>\n",
       "      <td>NaN</td>\n",
       "      <td>NaN</td>\n",
       "      <td>NaN</td>\n",
       "      <td>NaN</td>\n",
       "    </tr>\n",
       "    <tr>\n",
       "      <th>207</th>\n",
       "      <td>WATER_D2_WATER</td>\n",
       "      <td>250482</td>\n",
       "      <td>15145</td>\n",
       "      <td>4338.777778</td>\n",
       "      <td>19.385610</td>\n",
       "      <td>1.861638e+04</td>\n",
       "      <td>93435.803121</td>\n",
       "      <td>0</td>\n",
       "      <td>4.269895</td>\n",
       "      <td>-inf</td>\n",
       "      <td>...</td>\n",
       "      <td>NaN</td>\n",
       "      <td>NaN</td>\n",
       "      <td>NaN</td>\n",
       "      <td>NaN</td>\n",
       "      <td>NaN</td>\n",
       "      <td>NaN</td>\n",
       "      <td>NaN</td>\n",
       "      <td>NaN</td>\n",
       "      <td>NaN</td>\n",
       "      <td>NaN</td>\n",
       "    </tr>\n",
       "    <tr>\n",
       "      <th>208</th>\n",
       "      <td>WATER_F9_WATER</td>\n",
       "      <td>12648</td>\n",
       "      <td>80</td>\n",
       "      <td>48.058824</td>\n",
       "      <td>13.013818</td>\n",
       "      <td>9.629412e+01</td>\n",
       "      <td>395.949663</td>\n",
       "      <td>0</td>\n",
       "      <td>1.983600</td>\n",
       "      <td>-inf</td>\n",
       "      <td>...</td>\n",
       "      <td>NaN</td>\n",
       "      <td>NaN</td>\n",
       "      <td>NaN</td>\n",
       "      <td>NaN</td>\n",
       "      <td>NaN</td>\n",
       "      <td>NaN</td>\n",
       "      <td>NaN</td>\n",
       "      <td>NaN</td>\n",
       "      <td>NaN</td>\n",
       "      <td>NaN</td>\n",
       "    </tr>\n",
       "  </tbody>\n",
       "</table>\n",
       "<p>209 rows × 35 columns</p>\n",
       "</div>"
      ],
      "text/plain": [
       "            sample_name  TotalReads  Number of barcodes  Ns_MinCutoff  \\\n",
       "0           s107_SI.DNA   272153976               30843  17309.000000   \n",
       "1           s108_SI.DNA    13767059               33191  22586.000000   \n",
       "2        s117_Cecum.DNA   916213852               38349  23841.000000   \n",
       "3        s118_Cecum.DNA   443324713               35013  22166.000000   \n",
       "4    s127_Pr..Colon.DNA  1079846256               38083  24567.666667   \n",
       "..                  ...         ...                 ...           ...   \n",
       "204          NTC_H3_NTC      220639                8746   6270.411765   \n",
       "205      WATER_B3_WATER       14439                  42    110.411765   \n",
       "206      WATER_C6_WATER      134191                1226    804.333333   \n",
       "207      WATER_D2_WATER      250482               15145   4338.777778   \n",
       "208      WATER_F9_WATER       12648                  80     48.058824   \n",
       "\n",
       "                Nb            Ns  AverageFrequency  CFU   Log10Ns  Log10CFU  \\\n",
       "0    199275.123474  1.073467e+06     647358.137318    0  6.030789      -inf   \n",
       "1    253160.424163  1.298768e+06     586216.751585    0  6.113532      -inf   \n",
       "2    265666.399773  1.651211e+06     791628.592118    0  6.217803      -inf   \n",
       "3    236899.873212  1.396209e+06     609438.905726    0  6.144950      -inf   \n",
       "4    280752.369659  1.632911e+06     783783.101241    0  6.212963      -inf   \n",
       "..             ...           ...               ...  ...       ...       ...   \n",
       "204      14.071304  1.002350e+04      36020.615573    0  4.001019      -inf   \n",
       "205      10.150313  5.100000e+01         54.549464    0  1.707570      -inf   \n",
       "206       8.641978  1.319947e+03       5637.197143    0  3.120557      -inf   \n",
       "207      19.385610  1.861638e+04      93435.803121    0  4.269895      -inf   \n",
       "208      13.013818  9.629412e+01        395.949663    0  1.983600      -inf   \n",
       "\n",
       "     ...                     strains     tube_type tube_weight_empty  \\\n",
       "0    ...  E. coli|E.coli|B.uniformis  2ml_screwcap           1651.32   \n",
       "1    ...  E. coli|E.coli|B.uniformis  2ml_screwcap           1679.87   \n",
       "2    ...  E. coli|E.coli|B.uniformis  2ml_screwcap           1650.13   \n",
       "3    ...  E. coli|E.coli|B.uniformis  2ml_screwcap           1658.60   \n",
       "4    ...  E. coli|E.coli|B.uniformis  2ml_screwcap           1651.19   \n",
       "..   ...                         ...           ...               ...   \n",
       "204  ...                         NaN           NaN               NaN   \n",
       "205  ...                         NaN           NaN               NaN   \n",
       "206  ...                         NaN           NaN               NaN   \n",
       "207  ...                         NaN           NaN               NaN   \n",
       "208  ...                         NaN           NaN               NaN   \n",
       "\n",
       "    tube_weight_full stool_weight_mg cfu_g_stool dna_conc_ng_ul  \\\n",
       "0             1674.9           23.58         NaN           0.74   \n",
       "1             1701.5           21.63         NaN          12.88   \n",
       "2             1684.7           34.57         NaN          57.78   \n",
       "3             1747.3           88.70         NaN          50.31   \n",
       "4             1670.4           19.21         NaN          22.12   \n",
       "..               ...             ...         ...            ...   \n",
       "204              NaN             NaN         NaN            NaN   \n",
       "205              NaN             NaN         NaN            NaN   \n",
       "206              NaN             NaN         NaN            NaN   \n",
       "207              NaN             NaN         NaN            NaN   \n",
       "208              NaN             NaN         NaN            NaN   \n",
       "\n",
       "    cfu_incubation_time  cfu_g_stool_spec cfu_g_stool_cmr  \n",
       "0                   NaN               NaN             NaN  \n",
       "1                   NaN               NaN             NaN  \n",
       "2                   NaN               NaN             NaN  \n",
       "3                   NaN               NaN             NaN  \n",
       "4                   NaN               NaN             NaN  \n",
       "..                  ...               ...             ...  \n",
       "204                 NaN               NaN             NaN  \n",
       "205                 NaN               NaN             NaN  \n",
       "206                 NaN               NaN             NaN  \n",
       "207                 NaN               NaN             NaN  \n",
       "208                 NaN               NaN             NaN  \n",
       "\n",
       "[209 rows x 35 columns]"
      ]
     },
     "execution_count": 22,
     "metadata": {},
     "output_type": "execute_result"
    }
   ],
   "source": [
    "df_meta = pd.read_csv('/Users/ruprec01/Documents/Faith_lab/Git/population_bottlenecks/input_files/metadata/P4C1T8-sample_sheets - P4C1T8.tsv', sep = \"\\t\")\n",
    "df_results = pd.merge(df_FP, df_meta, on = 'sample_id', how = 'left')\n",
    "df_results"
   ]
  },
  {
   "cell_type": "code",
   "execution_count": 23,
   "id": "860376e5",
   "metadata": {},
   "outputs": [
    {
     "data": {
      "text/plain": [
       "Index(['sample_name', 'TotalReads', 'Number of barcodes', 'Ns_MinCutoff', 'Nb',\n",
       "       'Ns', 'AverageFrequency', 'CFU', 'Log10Ns', 'Log10CFU', 'CFU/Ns',\n",
       "       'folder', 'cage', 'strain', 'sample_id', 'sample_type_x', 'project',\n",
       "       'sample_type_y', 'date_collected', 'time_point_h', 'cage_id',\n",
       "       'mouse_id', 'gender', 'gavage_dose_200ul', 'strain_bcs', 'strains',\n",
       "       'tube_type', 'tube_weight_empty', 'tube_weight_full', 'stool_weight_mg',\n",
       "       'cfu_g_stool', 'dna_conc_ng_ul', 'cfu_incubation_time',\n",
       "       'cfu_g_stool_spec', 'cfu_g_stool_cmr'],\n",
       "      dtype='object')"
      ]
     },
     "execution_count": 23,
     "metadata": {},
     "output_type": "execute_result"
    }
   ],
   "source": [
    "df_results.columns"
   ]
  },
  {
   "cell_type": "code",
   "execution_count": 52,
   "id": "ecd1cda8",
   "metadata": {},
   "outputs": [
    {
     "name": "stderr",
     "output_type": "stream",
     "text": [
      "WARNING\tThread(Thread-302 (run)) Task(Task-5) choreographer.browser_async:browser_async.py:_close()- Resorting to unclean kill browser.\n"
     ]
    },
    {
     "data": {
      "application/vnd.plotly.v1+json": {
       "config": {
        "plotlyServerURL": "https://plotly.com"
       },
       "data": [
        {
         "hovertemplate": "strain=ST1<br>mouse_id=mA<br>cage_id=c1<br>time=%{x}<br>Nb=%{y}<extra></extra>",
         "legendgroup": "ST1",
         "marker": {
          "color": "#1F77B4",
          "symbol": "circle"
         },
         "mode": "markers",
         "name": "ST1",
         "orientation": "v",
         "showlegend": true,
         "type": "scatter",
         "x": {
          "bdata": "CBggMA==",
          "dtype": "i1"
         },
         "xaxis": "x6",
         "y": {
          "bdata": "O+1F5UzwxUCAIin5uP/VQC7Ij0KhiNNAbyuGmz32n0A=",
          "dtype": "f8"
         },
         "yaxis": "y6"
        },
        {
         "hovertemplate": "strain=ST1<br>mouse_id=mA<br>cage_id=c2<br>time=%{x}<br>Nb=%{y}<extra></extra>",
         "legendgroup": "ST1",
         "marker": {
          "color": "#1F77B4",
          "symbol": "circle"
         },
         "mode": "markers",
         "name": "ST1",
         "orientation": "v",
         "showlegend": false,
         "type": "scatter",
         "x": {
          "bdata": "CBggMA==",
          "dtype": "i1"
         },
         "xaxis": "x7",
         "y": {
          "bdata": "n8Ew4ou04j9JYhs4cvlAQC0jrD6ZwDpAGwo6GSUy/z8=",
          "dtype": "f8"
         },
         "yaxis": "y7"
        },
        {
         "hovertemplate": "strain=ST1<br>mouse_id=mA<br>cage_id=c3<br>time=%{x}<br>Nb=%{y}<extra></extra>",
         "legendgroup": "ST1",
         "marker": {
          "color": "#1F77B4",
          "symbol": "circle"
         },
         "mode": "markers",
         "name": "ST1",
         "orientation": "v",
         "showlegend": false,
         "type": "scatter",
         "x": {
          "bdata": "CBggMA==",
          "dtype": "i1"
         },
         "xaxis": "x8",
         "y": {
          "bdata": "chH1BNtlB0DMCa+nFKc1QCoSD6ar4jVAtH/DO4+ANUA=",
          "dtype": "f8"
         },
         "yaxis": "y8"
        },
        {
         "hovertemplate": "strain=ST1<br>mouse_id=mA<br>cage_id=c4<br>time=%{x}<br>Nb=%{y}<extra></extra>",
         "legendgroup": "ST1",
         "marker": {
          "color": "#1F77B4",
          "symbol": "circle"
         },
         "mode": "markers",
         "name": "ST1",
         "orientation": "v",
         "showlegend": false,
         "type": "scatter",
         "x": {
          "bdata": "CBggMA==",
          "dtype": "i1"
         },
         "xaxis": "x9",
         "y": {
          "bdata": "wW3eac7OTkCdSQ4P8umWQNugR3df2pZAs7E8rdsvmkA=",
          "dtype": "f8"
         },
         "yaxis": "y9"
        },
        {
         "hovertemplate": "strain=ST1<br>mouse_id=mA<br>cage_id=c5<br>time=%{x}<br>Nb=%{y}<extra></extra>",
         "legendgroup": "ST1",
         "marker": {
          "color": "#1F77B4",
          "symbol": "circle"
         },
         "mode": "markers",
         "name": "ST1",
         "orientation": "v",
         "showlegend": false,
         "type": "scatter",
         "x": {
          "bdata": "CBggMA==",
          "dtype": "i1"
         },
         "xaxis": "x10",
         "y": {
          "bdata": "H92hkzzdYkCCGX2O9WAxQPqVyVQeCipAFIHyAEPcLEA=",
          "dtype": "f8"
         },
         "yaxis": "y10"
        },
        {
         "hovertemplate": "strain=ST1<br>mouse_id=mB<br>cage_id=c1<br>time=%{x}<br>Nb=%{y}<extra></extra>",
         "legendgroup": "ST1",
         "marker": {
          "color": "#1F77B4",
          "symbol": "circle"
         },
         "mode": "markers",
         "name": "ST1",
         "orientation": "v",
         "showlegend": false,
         "type": "scatter",
         "x": {
          "bdata": "CBggMA==",
          "dtype": "i1"
         },
         "xaxis": "x",
         "y": {
          "bdata": "IUN2hcaxPkAI4QPPzmpqQKGzYP9EKZBAuVLNOJOjp0A=",
          "dtype": "f8"
         },
         "yaxis": "y"
        },
        {
         "hovertemplate": "strain=ST1<br>mouse_id=mB<br>cage_id=c2<br>time=%{x}<br>Nb=%{y}<extra></extra>",
         "legendgroup": "ST1",
         "marker": {
          "color": "#1F77B4",
          "symbol": "circle"
         },
         "mode": "markers",
         "name": "ST1",
         "orientation": "v",
         "showlegend": false,
         "type": "scatter",
         "x": {
          "bdata": "CBggMA==",
          "dtype": "i1"
         },
         "xaxis": "x2",
         "y": {
          "bdata": "1EuITIZ14j+CwL+92MA9QKIBz01GpUhApYPMGcBGPkA=",
          "dtype": "f8"
         },
         "yaxis": "y2"
        },
        {
         "hovertemplate": "strain=ST1<br>mouse_id=mB<br>cage_id=c3<br>time=%{x}<br>Nb=%{y}<extra></extra>",
         "legendgroup": "ST1",
         "marker": {
          "color": "#1F77B4",
          "symbol": "circle"
         },
         "mode": "markers",
         "name": "ST1",
         "orientation": "v",
         "showlegend": false,
         "type": "scatter",
         "x": {
          "bdata": "CBggMA==",
          "dtype": "i1"
         },
         "xaxis": "x3",
         "y": {
          "bdata": "vs+aGbjW9D+4KDRI3PM1QAn1RizKUThAldOuJ3OIOEA=",
          "dtype": "f8"
         },
         "yaxis": "y3"
        },
        {
         "hovertemplate": "strain=ST1<br>mouse_id=mB<br>cage_id=c4<br>time=%{x}<br>Nb=%{y}<extra></extra>",
         "legendgroup": "ST1",
         "marker": {
          "color": "#1F77B4",
          "symbol": "circle"
         },
         "mode": "markers",
         "name": "ST1",
         "orientation": "v",
         "showlegend": false,
         "type": "scatter",
         "x": {
          "bdata": "CBggMA==",
          "dtype": "i1"
         },
         "xaxis": "x4",
         "y": {
          "bdata": "MyeZ5rsdVUBKl4/KsG6aQL0hpN2Ud5tARBFGcFYJmUA=",
          "dtype": "f8"
         },
         "yaxis": "y4"
        },
        {
         "hovertemplate": "strain=ST1<br>mouse_id=mB<br>cage_id=c5<br>time=%{x}<br>Nb=%{y}<extra></extra>",
         "legendgroup": "ST1",
         "marker": {
          "color": "#1F77B4",
          "symbol": "circle"
         },
         "mode": "markers",
         "name": "ST1",
         "orientation": "v",
         "showlegend": false,
         "type": "scatter",
         "x": {
          "bdata": "CBggMA==",
          "dtype": "i1"
         },
         "xaxis": "x5",
         "y": {
          "bdata": "Xv6sfUD4c0D2shFwyOYxQIbqLuzCdStAEOzDITRsLUA=",
          "dtype": "f8"
         },
         "yaxis": "y5"
        },
        {
         "hovertemplate": "strain=ST5<br>mouse_id=mA<br>cage_id=c1<br>time=%{x}<br>Nb=%{y}<extra></extra>",
         "legendgroup": "ST5",
         "marker": {
          "color": "#D62728",
          "symbol": "circle"
         },
         "mode": "markers",
         "name": "ST5",
         "orientation": "v",
         "showlegend": true,
         "type": "scatter",
         "x": {
          "bdata": "CBggMA==",
          "dtype": "i1"
         },
         "xaxis": "x6",
         "y": {
          "bdata": "C3Xy5ALCJkAV5xEusCRFQJ/DckuR+4hAjrgD9Qi/hkA=",
          "dtype": "f8"
         },
         "yaxis": "y6"
        },
        {
         "hovertemplate": "strain=ST5<br>mouse_id=mA<br>cage_id=c2<br>time=%{x}<br>Nb=%{y}<extra></extra>",
         "legendgroup": "ST5",
         "marker": {
          "color": "#D62728",
          "symbol": "circle"
         },
         "mode": "markers",
         "name": "ST5",
         "orientation": "v",
         "showlegend": false,
         "type": "scatter",
         "x": {
          "bdata": "CBggMA==",
          "dtype": "i1"
         },
         "xaxis": "x7",
         "y": {
          "bdata": "37AC41W48T+XGGALEAQvQKZJ5qZvOCpAj/1uRAYCKEA=",
          "dtype": "f8"
         },
         "yaxis": "y7"
        },
        {
         "hovertemplate": "strain=ST5<br>mouse_id=mA<br>cage_id=c3<br>time=%{x}<br>Nb=%{y}<extra></extra>",
         "legendgroup": "ST5",
         "marker": {
          "color": "#D62728",
          "symbol": "circle"
         },
         "mode": "markers",
         "name": "ST5",
         "orientation": "v",
         "showlegend": false,
         "type": "scatter",
         "x": {
          "bdata": "CBggMA==",
          "dtype": "i1"
         },
         "xaxis": "x8",
         "y": {
          "bdata": "0aDZWzs/tT/0d2vHta4kQK9Pz4SOiCRAqcB6ELEcI0A=",
          "dtype": "f8"
         },
         "yaxis": "y8"
        },
        {
         "hovertemplate": "strain=ST5<br>mouse_id=mA<br>cage_id=c4<br>time=%{x}<br>Nb=%{y}<extra></extra>",
         "legendgroup": "ST5",
         "marker": {
          "color": "#D62728",
          "symbol": "circle"
         },
         "mode": "markers",
         "name": "ST5",
         "orientation": "v",
         "showlegend": false,
         "type": "scatter",
         "x": {
          "bdata": "CBggMA==",
          "dtype": "i1"
         },
         "xaxis": "x9",
         "y": {
          "bdata": "o9IHncEjvD8oVkUH/IfiP+RjFH1t1OA/mUdvn5nf2j8=",
          "dtype": "f8"
         },
         "yaxis": "y9"
        },
        {
         "hovertemplate": "strain=ST5<br>mouse_id=mB<br>cage_id=c1<br>time=%{x}<br>Nb=%{y}<extra></extra>",
         "legendgroup": "ST5",
         "marker": {
          "color": "#D62728",
          "symbol": "circle"
         },
         "mode": "markers",
         "name": "ST5",
         "orientation": "v",
         "showlegend": false,
         "type": "scatter",
         "x": {
          "bdata": "CBggMA==",
          "dtype": "i1"
         },
         "xaxis": "x",
         "y": {
          "bdata": "AaS29rjIrkBS7DWEZ+bBQDpwjUW0JMBA183GRirKnkA=",
          "dtype": "f8"
         },
         "yaxis": "y"
        },
        {
         "hovertemplate": "strain=ST5<br>mouse_id=mB<br>cage_id=c2<br>time=%{x}<br>Nb=%{y}<extra></extra>",
         "legendgroup": "ST5",
         "marker": {
          "color": "#D62728",
          "symbol": "circle"
         },
         "mode": "markers",
         "name": "ST5",
         "orientation": "v",
         "showlegend": false,
         "type": "scatter",
         "x": {
          "bdata": "CBggMA==",
          "dtype": "i1"
         },
         "xaxis": "x2",
         "y": {
          "bdata": "MTKWEqOK7j8xsljvJyFEQLkAbyrFO0RAmnxfB4giQUA=",
          "dtype": "f8"
         },
         "yaxis": "y2"
        },
        {
         "hovertemplate": "strain=ST5<br>mouse_id=mB<br>cage_id=c3<br>time=%{x}<br>Nb=%{y}<extra></extra>",
         "legendgroup": "ST5",
         "marker": {
          "color": "#D62728",
          "symbol": "circle"
         },
         "mode": "markers",
         "name": "ST5",
         "orientation": "v",
         "showlegend": false,
         "type": "scatter",
         "x": {
          "bdata": "CBggMA==",
          "dtype": "i1"
         },
         "xaxis": "x3",
         "y": {
          "bdata": "2qMWpgYz4T9dZlPYm9wkQDPyr4JfwiRAdXBiLx3YJEA=",
          "dtype": "f8"
         },
         "yaxis": "y3"
        },
        {
         "hovertemplate": "strain=ST5<br>mouse_id=mB<br>cage_id=c4<br>time=%{x}<br>Nb=%{y}<extra></extra>",
         "legendgroup": "ST5",
         "marker": {
          "color": "#D62728",
          "symbol": "circle"
         },
         "mode": "markers",
         "name": "ST5",
         "orientation": "v",
         "showlegend": false,
         "type": "scatter",
         "x": {
          "bdata": "CBggMA==",
          "dtype": "i1"
         },
         "xaxis": "x4",
         "y": {
          "bdata": "7X/XegW/2D//S/dragvoP95o/KKP8Oc/tzAZuU7r1D8=",
          "dtype": "f8"
         },
         "yaxis": "y4"
        },
        {
         "hovertemplate": "strain=ST4<br>mouse_id=mA<br>cage_id=c5<br>time=%{x}<br>Nb=%{y}<extra></extra>",
         "legendgroup": "ST4",
         "marker": {
          "color": "#2CA02C",
          "symbol": "circle"
         },
         "mode": "markers",
         "name": "ST4",
         "orientation": "v",
         "showlegend": true,
         "type": "scatter",
         "x": {
          "bdata": "CBggMA==",
          "dtype": "i1"
         },
         "xaxis": "x10",
         "y": {
          "bdata": "gfzllcsJ0EDbyNUfXCMUQQadTUf0EBNBQneV9tcZEUE=",
          "dtype": "f8"
         },
         "yaxis": "y10"
        },
        {
         "hovertemplate": "strain=ST4<br>mouse_id=mB<br>cage_id=c5<br>time=%{x}<br>Nb=%{y}<extra></extra>",
         "legendgroup": "ST4",
         "marker": {
          "color": "#2CA02C",
          "symbol": "circle"
         },
         "mode": "markers",
         "name": "ST4",
         "orientation": "v",
         "showlegend": false,
         "type": "scatter",
         "x": {
          "bdata": "CBggMA==",
          "dtype": "i1"
         },
         "xaxis": "x5",
         "y": {
          "bdata": "DpJCIGng7kA3P9VvX7MQQQjSnOP34Q9BGYZ7bGA4DUE=",
          "dtype": "f8"
         },
         "yaxis": "y5"
        }
       ],
       "layout": {
        "annotations": [
         {
          "font": {},
          "showarrow": false,
          "text": "cage_id=c1",
          "x": 0.09000000000000001,
          "xanchor": "center",
          "xref": "paper",
          "y": 1,
          "yanchor": "bottom",
          "yref": "paper"
         },
         {
          "font": {},
          "showarrow": false,
          "text": "cage_id=c2",
          "x": 0.29000000000000004,
          "xanchor": "center",
          "xref": "paper",
          "y": 1,
          "yanchor": "bottom",
          "yref": "paper"
         },
         {
          "font": {},
          "showarrow": false,
          "text": "cage_id=c3",
          "x": 0.49000000000000005,
          "xanchor": "center",
          "xref": "paper",
          "y": 1,
          "yanchor": "bottom",
          "yref": "paper"
         },
         {
          "font": {},
          "showarrow": false,
          "text": "cage_id=c4",
          "x": 0.6900000000000002,
          "xanchor": "center",
          "xref": "paper",
          "y": 1,
          "yanchor": "bottom",
          "yref": "paper"
         },
         {
          "font": {},
          "showarrow": false,
          "text": "cage_id=c5",
          "x": 0.8900000000000001,
          "xanchor": "center",
          "xref": "paper",
          "y": 1,
          "yanchor": "bottom",
          "yref": "paper"
         },
         {
          "font": {},
          "showarrow": false,
          "text": "mouse_id=mB",
          "textangle": 90,
          "x": 0.9800000000000001,
          "xanchor": "left",
          "xref": "paper",
          "y": 0.2425,
          "yanchor": "middle",
          "yref": "paper"
         },
         {
          "font": {},
          "showarrow": false,
          "text": "mouse_id=mA",
          "textangle": 90,
          "x": 0.9800000000000001,
          "xanchor": "left",
          "xref": "paper",
          "y": 0.7575000000000001,
          "yanchor": "middle",
          "yref": "paper"
         }
        ],
        "height": 600,
        "legend": {
         "title": {
          "text": "strain"
         },
         "tracegroupgap": 0
        },
        "margin": {
         "t": 60
        },
        "template": {
         "data": {
          "bar": [
           {
            "error_x": {
             "color": "rgb(36,36,36)"
            },
            "error_y": {
             "color": "rgb(36,36,36)"
            },
            "marker": {
             "line": {
              "color": "white",
              "width": 0.5
             },
             "pattern": {
              "fillmode": "overlay",
              "size": 10,
              "solidity": 0.2
             }
            },
            "type": "bar"
           }
          ],
          "barpolar": [
           {
            "marker": {
             "line": {
              "color": "white",
              "width": 0.5
             },
             "pattern": {
              "fillmode": "overlay",
              "size": 10,
              "solidity": 0.2
             }
            },
            "type": "barpolar"
           }
          ],
          "carpet": [
           {
            "aaxis": {
             "endlinecolor": "rgb(36,36,36)",
             "gridcolor": "white",
             "linecolor": "white",
             "minorgridcolor": "white",
             "startlinecolor": "rgb(36,36,36)"
            },
            "baxis": {
             "endlinecolor": "rgb(36,36,36)",
             "gridcolor": "white",
             "linecolor": "white",
             "minorgridcolor": "white",
             "startlinecolor": "rgb(36,36,36)"
            },
            "type": "carpet"
           }
          ],
          "choropleth": [
           {
            "colorbar": {
             "outlinewidth": 1,
             "tickcolor": "rgb(36,36,36)",
             "ticks": "outside"
            },
            "type": "choropleth"
           }
          ],
          "contour": [
           {
            "colorbar": {
             "outlinewidth": 1,
             "tickcolor": "rgb(36,36,36)",
             "ticks": "outside"
            },
            "colorscale": [
             [
              0,
              "#440154"
             ],
             [
              0.1111111111111111,
              "#482878"
             ],
             [
              0.2222222222222222,
              "#3e4989"
             ],
             [
              0.3333333333333333,
              "#31688e"
             ],
             [
              0.4444444444444444,
              "#26828e"
             ],
             [
              0.5555555555555556,
              "#1f9e89"
             ],
             [
              0.6666666666666666,
              "#35b779"
             ],
             [
              0.7777777777777778,
              "#6ece58"
             ],
             [
              0.8888888888888888,
              "#b5de2b"
             ],
             [
              1,
              "#fde725"
             ]
            ],
            "type": "contour"
           }
          ],
          "contourcarpet": [
           {
            "colorbar": {
             "outlinewidth": 1,
             "tickcolor": "rgb(36,36,36)",
             "ticks": "outside"
            },
            "type": "contourcarpet"
           }
          ],
          "heatmap": [
           {
            "colorbar": {
             "outlinewidth": 1,
             "tickcolor": "rgb(36,36,36)",
             "ticks": "outside"
            },
            "colorscale": [
             [
              0,
              "#440154"
             ],
             [
              0.1111111111111111,
              "#482878"
             ],
             [
              0.2222222222222222,
              "#3e4989"
             ],
             [
              0.3333333333333333,
              "#31688e"
             ],
             [
              0.4444444444444444,
              "#26828e"
             ],
             [
              0.5555555555555556,
              "#1f9e89"
             ],
             [
              0.6666666666666666,
              "#35b779"
             ],
             [
              0.7777777777777778,
              "#6ece58"
             ],
             [
              0.8888888888888888,
              "#b5de2b"
             ],
             [
              1,
              "#fde725"
             ]
            ],
            "type": "heatmap"
           }
          ],
          "histogram": [
           {
            "marker": {
             "line": {
              "color": "white",
              "width": 0.6
             }
            },
            "type": "histogram"
           }
          ],
          "histogram2d": [
           {
            "colorbar": {
             "outlinewidth": 1,
             "tickcolor": "rgb(36,36,36)",
             "ticks": "outside"
            },
            "colorscale": [
             [
              0,
              "#440154"
             ],
             [
              0.1111111111111111,
              "#482878"
             ],
             [
              0.2222222222222222,
              "#3e4989"
             ],
             [
              0.3333333333333333,
              "#31688e"
             ],
             [
              0.4444444444444444,
              "#26828e"
             ],
             [
              0.5555555555555556,
              "#1f9e89"
             ],
             [
              0.6666666666666666,
              "#35b779"
             ],
             [
              0.7777777777777778,
              "#6ece58"
             ],
             [
              0.8888888888888888,
              "#b5de2b"
             ],
             [
              1,
              "#fde725"
             ]
            ],
            "type": "histogram2d"
           }
          ],
          "histogram2dcontour": [
           {
            "colorbar": {
             "outlinewidth": 1,
             "tickcolor": "rgb(36,36,36)",
             "ticks": "outside"
            },
            "colorscale": [
             [
              0,
              "#440154"
             ],
             [
              0.1111111111111111,
              "#482878"
             ],
             [
              0.2222222222222222,
              "#3e4989"
             ],
             [
              0.3333333333333333,
              "#31688e"
             ],
             [
              0.4444444444444444,
              "#26828e"
             ],
             [
              0.5555555555555556,
              "#1f9e89"
             ],
             [
              0.6666666666666666,
              "#35b779"
             ],
             [
              0.7777777777777778,
              "#6ece58"
             ],
             [
              0.8888888888888888,
              "#b5de2b"
             ],
             [
              1,
              "#fde725"
             ]
            ],
            "type": "histogram2dcontour"
           }
          ],
          "mesh3d": [
           {
            "colorbar": {
             "outlinewidth": 1,
             "tickcolor": "rgb(36,36,36)",
             "ticks": "outside"
            },
            "type": "mesh3d"
           }
          ],
          "parcoords": [
           {
            "line": {
             "colorbar": {
              "outlinewidth": 1,
              "tickcolor": "rgb(36,36,36)",
              "ticks": "outside"
             }
            },
            "type": "parcoords"
           }
          ],
          "pie": [
           {
            "automargin": true,
            "type": "pie"
           }
          ],
          "scatter": [
           {
            "fillpattern": {
             "fillmode": "overlay",
             "size": 10,
             "solidity": 0.2
            },
            "type": "scatter"
           }
          ],
          "scatter3d": [
           {
            "line": {
             "colorbar": {
              "outlinewidth": 1,
              "tickcolor": "rgb(36,36,36)",
              "ticks": "outside"
             }
            },
            "marker": {
             "colorbar": {
              "outlinewidth": 1,
              "tickcolor": "rgb(36,36,36)",
              "ticks": "outside"
             }
            },
            "type": "scatter3d"
           }
          ],
          "scattercarpet": [
           {
            "marker": {
             "colorbar": {
              "outlinewidth": 1,
              "tickcolor": "rgb(36,36,36)",
              "ticks": "outside"
             }
            },
            "type": "scattercarpet"
           }
          ],
          "scattergeo": [
           {
            "marker": {
             "colorbar": {
              "outlinewidth": 1,
              "tickcolor": "rgb(36,36,36)",
              "ticks": "outside"
             }
            },
            "type": "scattergeo"
           }
          ],
          "scattergl": [
           {
            "marker": {
             "colorbar": {
              "outlinewidth": 1,
              "tickcolor": "rgb(36,36,36)",
              "ticks": "outside"
             }
            },
            "type": "scattergl"
           }
          ],
          "scattermap": [
           {
            "marker": {
             "colorbar": {
              "outlinewidth": 1,
              "tickcolor": "rgb(36,36,36)",
              "ticks": "outside"
             }
            },
            "type": "scattermap"
           }
          ],
          "scattermapbox": [
           {
            "marker": {
             "colorbar": {
              "outlinewidth": 1,
              "tickcolor": "rgb(36,36,36)",
              "ticks": "outside"
             }
            },
            "type": "scattermapbox"
           }
          ],
          "scatterpolar": [
           {
            "marker": {
             "colorbar": {
              "outlinewidth": 1,
              "tickcolor": "rgb(36,36,36)",
              "ticks": "outside"
             }
            },
            "type": "scatterpolar"
           }
          ],
          "scatterpolargl": [
           {
            "marker": {
             "colorbar": {
              "outlinewidth": 1,
              "tickcolor": "rgb(36,36,36)",
              "ticks": "outside"
             }
            },
            "type": "scatterpolargl"
           }
          ],
          "scatterternary": [
           {
            "marker": {
             "colorbar": {
              "outlinewidth": 1,
              "tickcolor": "rgb(36,36,36)",
              "ticks": "outside"
             }
            },
            "type": "scatterternary"
           }
          ],
          "surface": [
           {
            "colorbar": {
             "outlinewidth": 1,
             "tickcolor": "rgb(36,36,36)",
             "ticks": "outside"
            },
            "colorscale": [
             [
              0,
              "#440154"
             ],
             [
              0.1111111111111111,
              "#482878"
             ],
             [
              0.2222222222222222,
              "#3e4989"
             ],
             [
              0.3333333333333333,
              "#31688e"
             ],
             [
              0.4444444444444444,
              "#26828e"
             ],
             [
              0.5555555555555556,
              "#1f9e89"
             ],
             [
              0.6666666666666666,
              "#35b779"
             ],
             [
              0.7777777777777778,
              "#6ece58"
             ],
             [
              0.8888888888888888,
              "#b5de2b"
             ],
             [
              1,
              "#fde725"
             ]
            ],
            "type": "surface"
           }
          ],
          "table": [
           {
            "cells": {
             "fill": {
              "color": "rgb(237,237,237)"
             },
             "line": {
              "color": "white"
             }
            },
            "header": {
             "fill": {
              "color": "rgb(217,217,217)"
             },
             "line": {
              "color": "white"
             }
            },
            "type": "table"
           }
          ]
         },
         "layout": {
          "annotationdefaults": {
           "arrowhead": 0,
           "arrowwidth": 1
          },
          "autotypenumbers": "strict",
          "coloraxis": {
           "colorbar": {
            "outlinewidth": 1,
            "tickcolor": "rgb(36,36,36)",
            "ticks": "outside"
           }
          },
          "colorscale": {
           "diverging": [
            [
             0,
             "rgb(103,0,31)"
            ],
            [
             0.1,
             "rgb(178,24,43)"
            ],
            [
             0.2,
             "rgb(214,96,77)"
            ],
            [
             0.3,
             "rgb(244,165,130)"
            ],
            [
             0.4,
             "rgb(253,219,199)"
            ],
            [
             0.5,
             "rgb(247,247,247)"
            ],
            [
             0.6,
             "rgb(209,229,240)"
            ],
            [
             0.7,
             "rgb(146,197,222)"
            ],
            [
             0.8,
             "rgb(67,147,195)"
            ],
            [
             0.9,
             "rgb(33,102,172)"
            ],
            [
             1,
             "rgb(5,48,97)"
            ]
           ],
           "sequential": [
            [
             0,
             "#440154"
            ],
            [
             0.1111111111111111,
             "#482878"
            ],
            [
             0.2222222222222222,
             "#3e4989"
            ],
            [
             0.3333333333333333,
             "#31688e"
            ],
            [
             0.4444444444444444,
             "#26828e"
            ],
            [
             0.5555555555555556,
             "#1f9e89"
            ],
            [
             0.6666666666666666,
             "#35b779"
            ],
            [
             0.7777777777777778,
             "#6ece58"
            ],
            [
             0.8888888888888888,
             "#b5de2b"
            ],
            [
             1,
             "#fde725"
            ]
           ],
           "sequentialminus": [
            [
             0,
             "#440154"
            ],
            [
             0.1111111111111111,
             "#482878"
            ],
            [
             0.2222222222222222,
             "#3e4989"
            ],
            [
             0.3333333333333333,
             "#31688e"
            ],
            [
             0.4444444444444444,
             "#26828e"
            ],
            [
             0.5555555555555556,
             "#1f9e89"
            ],
            [
             0.6666666666666666,
             "#35b779"
            ],
            [
             0.7777777777777778,
             "#6ece58"
            ],
            [
             0.8888888888888888,
             "#b5de2b"
            ],
            [
             1,
             "#fde725"
            ]
           ]
          },
          "colorway": [
           "#1F77B4",
           "#FF7F0E",
           "#2CA02C",
           "#D62728",
           "#9467BD",
           "#8C564B",
           "#E377C2",
           "#7F7F7F",
           "#BCBD22",
           "#17BECF"
          ],
          "font": {
           "color": "rgb(36,36,36)"
          },
          "geo": {
           "bgcolor": "white",
           "lakecolor": "white",
           "landcolor": "white",
           "showlakes": true,
           "showland": true,
           "subunitcolor": "white"
          },
          "hoverlabel": {
           "align": "left"
          },
          "hovermode": "closest",
          "mapbox": {
           "style": "light"
          },
          "paper_bgcolor": "white",
          "plot_bgcolor": "white",
          "polar": {
           "angularaxis": {
            "gridcolor": "rgb(232,232,232)",
            "linecolor": "rgb(36,36,36)",
            "showgrid": false,
            "showline": true,
            "ticks": "outside"
           },
           "bgcolor": "white",
           "radialaxis": {
            "gridcolor": "rgb(232,232,232)",
            "linecolor": "rgb(36,36,36)",
            "showgrid": false,
            "showline": true,
            "ticks": "outside"
           }
          },
          "scene": {
           "xaxis": {
            "backgroundcolor": "white",
            "gridcolor": "rgb(232,232,232)",
            "gridwidth": 2,
            "linecolor": "rgb(36,36,36)",
            "showbackground": true,
            "showgrid": false,
            "showline": true,
            "ticks": "outside",
            "zeroline": false,
            "zerolinecolor": "rgb(36,36,36)"
           },
           "yaxis": {
            "backgroundcolor": "white",
            "gridcolor": "rgb(232,232,232)",
            "gridwidth": 2,
            "linecolor": "rgb(36,36,36)",
            "showbackground": true,
            "showgrid": false,
            "showline": true,
            "ticks": "outside",
            "zeroline": false,
            "zerolinecolor": "rgb(36,36,36)"
           },
           "zaxis": {
            "backgroundcolor": "white",
            "gridcolor": "rgb(232,232,232)",
            "gridwidth": 2,
            "linecolor": "rgb(36,36,36)",
            "showbackground": true,
            "showgrid": false,
            "showline": true,
            "ticks": "outside",
            "zeroline": false,
            "zerolinecolor": "rgb(36,36,36)"
           }
          },
          "shapedefaults": {
           "fillcolor": "black",
           "line": {
            "width": 0
           },
           "opacity": 0.3
          },
          "ternary": {
           "aaxis": {
            "gridcolor": "rgb(232,232,232)",
            "linecolor": "rgb(36,36,36)",
            "showgrid": false,
            "showline": true,
            "ticks": "outside"
           },
           "baxis": {
            "gridcolor": "rgb(232,232,232)",
            "linecolor": "rgb(36,36,36)",
            "showgrid": false,
            "showline": true,
            "ticks": "outside"
           },
           "bgcolor": "white",
           "caxis": {
            "gridcolor": "rgb(232,232,232)",
            "linecolor": "rgb(36,36,36)",
            "showgrid": false,
            "showline": true,
            "ticks": "outside"
           }
          },
          "title": {
           "x": 0.05
          },
          "xaxis": {
           "automargin": true,
           "gridcolor": "rgb(232,232,232)",
           "linecolor": "rgb(36,36,36)",
           "showgrid": false,
           "showline": true,
           "ticks": "outside",
           "title": {
            "standoff": 15
           },
           "zeroline": false,
           "zerolinecolor": "rgb(36,36,36)"
          },
          "yaxis": {
           "automargin": true,
           "gridcolor": "rgb(232,232,232)",
           "linecolor": "rgb(36,36,36)",
           "showgrid": false,
           "showline": true,
           "ticks": "outside",
           "title": {
            "standoff": 15
           },
           "zeroline": false,
           "zerolinecolor": "rgb(36,36,36)"
          }
         }
        },
        "width": 800,
        "xaxis": {
         "anchor": "y",
         "domain": [
          0,
          0.18000000000000002
         ],
         "title": {
          "text": "time"
         }
        },
        "xaxis10": {
         "anchor": "y10",
         "domain": [
          0.8,
          0.9800000000000001
         ],
         "matches": "x",
         "showticklabels": false
        },
        "xaxis2": {
         "anchor": "y2",
         "domain": [
          0.2,
          0.38
         ],
         "matches": "x",
         "title": {
          "text": "time"
         }
        },
        "xaxis3": {
         "anchor": "y3",
         "domain": [
          0.4,
          0.5800000000000001
         ],
         "matches": "x",
         "title": {
          "text": "time"
         }
        },
        "xaxis4": {
         "anchor": "y4",
         "domain": [
          0.6000000000000001,
          0.7800000000000001
         ],
         "matches": "x",
         "title": {
          "text": "time"
         }
        },
        "xaxis5": {
         "anchor": "y5",
         "domain": [
          0.8,
          0.9800000000000001
         ],
         "matches": "x",
         "title": {
          "text": "time"
         }
        },
        "xaxis6": {
         "anchor": "y6",
         "domain": [
          0,
          0.18000000000000002
         ],
         "matches": "x",
         "showticklabels": false
        },
        "xaxis7": {
         "anchor": "y7",
         "domain": [
          0.2,
          0.38
         ],
         "matches": "x",
         "showticklabels": false
        },
        "xaxis8": {
         "anchor": "y8",
         "domain": [
          0.4,
          0.5800000000000001
         ],
         "matches": "x",
         "showticklabels": false
        },
        "xaxis9": {
         "anchor": "y9",
         "domain": [
          0.6000000000000001,
          0.7800000000000001
         ],
         "matches": "x",
         "showticklabels": false
        },
        "yaxis": {
         "anchor": "x",
         "domain": [
          0,
          0.485
         ],
         "title": {
          "text": "Nb"
         },
         "type": "log"
        },
        "yaxis10": {
         "anchor": "x10",
         "domain": [
          0.515,
          1
         ],
         "matches": "y",
         "showticklabels": false,
         "type": "log"
        },
        "yaxis2": {
         "anchor": "x2",
         "domain": [
          0,
          0.485
         ],
         "matches": "y",
         "showticklabels": false,
         "type": "log"
        },
        "yaxis3": {
         "anchor": "x3",
         "domain": [
          0,
          0.485
         ],
         "matches": "y",
         "showticklabels": false,
         "type": "log"
        },
        "yaxis4": {
         "anchor": "x4",
         "domain": [
          0,
          0.485
         ],
         "matches": "y",
         "showticklabels": false,
         "type": "log"
        },
        "yaxis5": {
         "anchor": "x5",
         "domain": [
          0,
          0.485
         ],
         "matches": "y",
         "showticklabels": false,
         "type": "log"
        },
        "yaxis6": {
         "anchor": "x6",
         "domain": [
          0.515,
          1
         ],
         "matches": "y",
         "title": {
          "text": "Nb"
         },
         "type": "log"
        },
        "yaxis7": {
         "anchor": "x7",
         "domain": [
          0.515,
          1
         ],
         "matches": "y",
         "showticklabels": false,
         "type": "log"
        },
        "yaxis8": {
         "anchor": "x8",
         "domain": [
          0.515,
          1
         ],
         "matches": "y",
         "showticklabels": false,
         "type": "log"
        },
        "yaxis9": {
         "anchor": "x9",
         "domain": [
          0.515,
          1
         ],
         "matches": "y",
         "showticklabels": false,
         "type": "log"
        }
       }
      }
     },
     "metadata": {},
     "output_type": "display_data"
    },
    {
     "data": {
      "application/vnd.plotly.v1+json": {
       "config": {
        "plotlyServerURL": "https://plotly.com"
       },
       "data": [
        {
         "hovertemplate": "strain=ST1<br>mouse_id=mA<br>cage_id=c1<br>time=%{x}<br>Ns=%{y}<extra></extra>",
         "legendgroup": "ST1",
         "marker": {
          "color": "#1F77B4",
          "symbol": "circle"
         },
         "mode": "markers",
         "name": "ST1",
         "orientation": "v",
         "showlegend": true,
         "type": "scatter",
         "x": {
          "bdata": "CBggMA==",
          "dtype": "i1"
         },
         "xaxis": "x6",
         "y": {
          "bdata": "AAAAAIQfEEEAAAAAWCEWQbCqqqpuFxFBAAAAAOhPFkE=",
          "dtype": "f8"
         },
         "yaxis": "y6"
        },
        {
         "hovertemplate": "strain=ST1<br>mouse_id=mA<br>cage_id=c2<br>time=%{x}<br>Ns=%{y}<extra></extra>",
         "legendgroup": "ST1",
         "marker": {
          "color": "#1F77B4",
          "symbol": "circle"
         },
         "mode": "markers",
         "name": "ST1",
         "orientation": "v",
         "showlegend": false,
         "type": "scatter",
         "x": {
          "bdata": "CBggMA==",
          "dtype": "i1"
         },
         "xaxis": "x7",
         "y": {
          "bdata": "AAAAAACQWUC5qqqqqm6ZQEdVVVVVwZNAPo7jOI43k0A=",
          "dtype": "f8"
         },
         "yaxis": "y7"
        },
        {
         "hovertemplate": "strain=ST1<br>mouse_id=mA<br>cage_id=c3<br>time=%{x}<br>Ns=%{y}<extra></extra>",
         "legendgroup": "ST1",
         "marker": {
          "color": "#1F77B4",
          "symbol": "circle"
         },
         "mode": "markers",
         "name": "ST1",
         "orientation": "v",
         "showlegend": false,
         "type": "scatter",
         "x": {
          "bdata": "CBggMA==",
          "dtype": "i1"
         },
         "xaxis": "x8",
         "y": {
          "bdata": "AAAAAAA6qEAAAAAAAIKrQAAAAAAAqqtAXVVVVVXXqUA=",
          "dtype": "f8"
         },
         "yaxis": "y8"
        },
        {
         "hovertemplate": "strain=ST1<br>mouse_id=mA<br>cage_id=c4<br>time=%{x}<br>Ns=%{y}<extra></extra>",
         "legendgroup": "ST1",
         "marker": {
          "color": "#1F77B4",
          "symbol": "circle"
         },
         "mode": "markers",
         "name": "ST1",
         "orientation": "v",
         "showlegend": false,
         "type": "scatter",
         "x": {
          "bdata": "CBggMA==",
          "dtype": "i1"
         },
         "xaxis": "x9",
         "y": {
          "bdata": "AAAAAICCzkA0uuiiiy4zQAAAAAAAADVAoIsuuuhCZUA=",
          "dtype": "f8"
         },
         "yaxis": "y9"
        },
        {
         "hovertemplate": "strain=ST1<br>mouse_id=mA<br>cage_id=c5<br>time=%{x}<br>Ns=%{y}<extra></extra>",
         "legendgroup": "ST1",
         "marker": {
          "color": "#1F77B4",
          "symbol": "circle"
         },
         "mode": "markers",
         "name": "ST1",
         "orientation": "v",
         "showlegend": false,
         "type": "scatter",
         "x": {
          "bdata": "CBggMA==",
          "dtype": "i1"
         },
         "xaxis": "x10",
         "y": {
          "bdata": "AAAAAAAmqEAAAAAAAB22QAAAAAAA5qhAAAAAAADarUA=",
          "dtype": "f8"
         },
         "yaxis": "y10"
        },
        {
         "hovertemplate": "strain=ST1<br>mouse_id=mB<br>cage_id=c1<br>time=%{x}<br>Ns=%{y}<extra></extra>",
         "legendgroup": "ST1",
         "marker": {
          "color": "#1F77B4",
          "symbol": "circle"
         },
         "mode": "markers",
         "name": "ST1",
         "orientation": "v",
         "showlegend": false,
         "type": "scatter",
         "x": {
          "bdata": "CBggMA==",
          "dtype": "i1"
         },
         "xaxis": "x",
         "y": {
          "bdata": "sxM7sVO00kB227Ztm8jUQM1O7MSOq99AcxzHcew68EA=",
          "dtype": "f8"
         },
         "yaxis": "y"
        },
        {
         "hovertemplate": "strain=ST1<br>mouse_id=mB<br>cage_id=c2<br>time=%{x}<br>Ns=%{y}<extra></extra>",
         "legendgroup": "ST1",
         "marker": {
          "color": "#1F77B4",
          "symbol": "circle"
         },
         "mode": "markers",
         "name": "ST1",
         "orientation": "v",
         "showlegend": false,
         "type": "scatter",
         "x": {
          "bdata": "CBggMA==",
          "dtype": "i1"
         },
         "xaxis": "x2",
         "y": {
          "bdata": "AAAAAABUnkBHVVVVVemTQAAAAAAAYLBAAAAAAAA0k0A=",
          "dtype": "f8"
         },
         "yaxis": "y2"
        },
        {
         "hovertemplate": "strain=ST1<br>mouse_id=mB<br>cage_id=c3<br>time=%{x}<br>Ns=%{y}<extra></extra>",
         "legendgroup": "ST1",
         "marker": {
          "color": "#1F77B4",
          "symbol": "circle"
         },
         "mode": "markers",
         "name": "ST1",
         "orientation": "v",
         "showlegend": false,
         "type": "scatter",
         "x": {
          "bdata": "CBggMA==",
          "dtype": "i1"
         },
         "xaxis": "x3",
         "y": {
          "bdata": "AAAAAAAaoEBdVVVVVUukQAAAAAAAaqVAAAAAAAAupUA=",
          "dtype": "f8"
         },
         "yaxis": "y3"
        },
        {
         "hovertemplate": "strain=ST1<br>mouse_id=mB<br>cage_id=c4<br>time=%{x}<br>Ns=%{y}<extra></extra>",
         "legendgroup": "ST1",
         "marker": {
          "color": "#1F77B4",
          "symbol": "circle"
         },
         "mode": "markers",
         "name": "ST1",
         "orientation": "v",
         "showlegend": false,
         "type": "scatter",
         "x": {
          "bdata": "CBggMA==",
          "dtype": "i1"
         },
         "xaxis": "x4",
         "y": {
          "bdata": "LbroootuUkAaXXTRRRc+QC266KKLblJAZ3TRRRddMUA=",
          "dtype": "f8"
         },
         "yaxis": "y4"
        },
        {
         "hovertemplate": "strain=ST1<br>mouse_id=mB<br>cage_id=c5<br>time=%{x}<br>Ns=%{y}<extra></extra>",
         "legendgroup": "ST1",
         "marker": {
          "color": "#1F77B4",
          "symbol": "circle"
         },
         "mode": "markers",
         "name": "ST1",
         "orientation": "v",
         "showlegend": false,
         "type": "scatter",
         "x": {
          "bdata": "CBggMA==",
          "dtype": "i1"
         },
         "xaxis": "x5",
         "y": {
          "bdata": "5qKLLrrptEAAAAAAAGG3QCBJkiRJJ7BAUlVVVVVOsEA=",
          "dtype": "f8"
         },
         "yaxis": "y5"
        },
        {
         "hovertemplate": "strain=ST5<br>mouse_id=mA<br>cage_id=c1<br>time=%{x}<br>Ns=%{y}<extra></extra>",
         "legendgroup": "ST5",
         "marker": {
          "color": "#D62728",
          "symbol": "circle"
         },
         "mode": "markers",
         "name": "ST5",
         "orientation": "v",
         "showlegend": true,
         "type": "scatter",
         "x": {
          "bdata": "CBggMA==",
          "dtype": "i1"
         },
         "xaxis": "x6",
         "y": {
          "bdata": "AAAAAMC4uUBTdNFFV9fYQK2LLrooW9RA66KLLvor2EA=",
          "dtype": "f8"
         },
         "yaxis": "y6"
        },
        {
         "hovertemplate": "strain=ST5<br>mouse_id=mA<br>cage_id=c2<br>time=%{x}<br>Ns=%{y}<extra></extra>",
         "legendgroup": "ST5",
         "marker": {
          "color": "#D62728",
          "symbol": "circle"
         },
         "mode": "markers",
         "name": "ST5",
         "orientation": "v",
         "showlegend": false,
         "type": "scatter",
         "x": {
          "bdata": "CBggMA==",
          "dtype": "i1"
         },
         "xaxis": "x7",
         "y": {
          "bdata": "0lBeQ3mNRUAAAAAAACrDQAAAAAAAAbRAAAAAAAB7x0A=",
          "dtype": "f8"
         },
         "yaxis": "y7"
        },
        {
         "hovertemplate": "strain=ST5<br>mouse_id=mA<br>cage_id=c3<br>time=%{x}<br>Ns=%{y}<extra></extra>",
         "legendgroup": "ST5",
         "marker": {
          "color": "#D62728",
          "symbol": "circle"
         },
         "mode": "markers",
         "name": "ST5",
         "orientation": "v",
         "showlegend": false,
         "type": "scatter",
         "x": {
          "bdata": "CBggMA==",
          "dtype": "i1"
         },
         "xaxis": "x8",
         "y": {
          "bdata": "AAAAAAD4lEAAAAAAAMBbQAAAAAAAgFpAU1VVVVWVV0A=",
          "dtype": "f8"
         },
         "yaxis": "y8"
        },
        {
         "hovertemplate": "strain=ST5<br>mouse_id=mA<br>cage_id=c4<br>time=%{x}<br>Ns=%{y}<extra></extra>",
         "legendgroup": "ST5",
         "marker": {
          "color": "#D62728",
          "symbol": "circle"
         },
         "mode": "markers",
         "name": "ST5",
         "orientation": "v",
         "showlegend": false,
         "type": "scatter",
         "x": {
          "bdata": "CBggMA==",
          "dtype": "i1"
         },
         "xaxis": "x9",
         "y": {
          "bdata": "AAAAAAAatUAAAAAAgLLSQAAAAACATM9AAAAAAHAe8UA=",
          "dtype": "f8"
         },
         "yaxis": "y9"
        },
        {
         "hovertemplate": "strain=ST5<br>mouse_id=mB<br>cage_id=c1<br>time=%{x}<br>Ns=%{y}<extra></extra>",
         "legendgroup": "ST5",
         "marker": {
          "color": "#D62728",
          "symbol": "circle"
         },
         "mode": "markers",
         "name": "ST5",
         "orientation": "v",
         "showlegend": false,
         "type": "scatter",
         "x": {
          "bdata": "CBggMA==",
          "dtype": "i1"
         },
         "xaxis": "x",
         "y": {
          "bdata": "AAAAANBJ80DCqqqqer3/QAAAAABgA/tAAAAAAPBFC0E=",
          "dtype": "f8"
         },
         "yaxis": "y"
        },
        {
         "hovertemplate": "strain=ST5<br>mouse_id=mB<br>cage_id=c2<br>time=%{x}<br>Ns=%{y}<extra></extra>",
         "legendgroup": "ST5",
         "marker": {
          "color": "#D62728",
          "symbol": "circle"
         },
         "mode": "markers",
         "name": "ST5",
         "orientation": "v",
         "showlegend": false,
         "type": "scatter",
         "x": {
          "bdata": "CBggMA==",
          "dtype": "i1"
         },
         "xaxis": "x2",
         "y": {
          "bdata": "IEmSJEnvsEAAAAAAAL22QFJVVVVVNrRAAAAAAACXtEA=",
          "dtype": "f8"
         },
         "yaxis": "y2"
        },
        {
         "hovertemplate": "strain=ST5<br>mouse_id=mB<br>cage_id=c3<br>time=%{x}<br>Ns=%{y}<extra></extra>",
         "legendgroup": "ST5",
         "marker": {
          "color": "#D62728",
          "symbol": "circle"
         },
         "mode": "markers",
         "name": "ST5",
         "orientation": "v",
         "showlegend": false,
         "type": "scatter",
         "x": {
          "bdata": "CBggMA==",
          "dtype": "i1"
         },
         "xaxis": "x3",
         "y": {
          "bdata": "AAAAAADgYkAAAAAAAIBfQAAAAAAAQF5AiCRJkiSJXUA=",
          "dtype": "f8"
         },
         "yaxis": "y3"
        },
        {
         "hovertemplate": "strain=ST5<br>mouse_id=mB<br>cage_id=c4<br>time=%{x}<br>Ns=%{y}<extra></extra>",
         "legendgroup": "ST5",
         "marker": {
          "color": "#D62728",
          "symbol": "circle"
         },
         "mode": "markers",
         "name": "ST5",
         "orientation": "v",
         "showlegend": false,
         "type": "scatter",
         "x": {
          "bdata": "CBggMA==",
          "dtype": "i1"
         },
         "xaxis": "x4",
         "y": {
          "bdata": "tKqqqqqqP0AfSZIkSRJDQAAAAACAjs5AAAAAAIDj00A=",
          "dtype": "f8"
         },
         "yaxis": "y4"
        },
        {
         "hovertemplate": "strain=ST4<br>mouse_id=mA<br>cage_id=c5<br>time=%{x}<br>Ns=%{y}<extra></extra>",
         "legendgroup": "ST4",
         "marker": {
          "color": "#2CA02C",
          "symbol": "circle"
         },
         "mode": "markers",
         "name": "ST4",
         "orientation": "v",
         "showlegend": true,
         "type": "scatter",
         "x": {
          "bdata": "CBggMA==",
          "dtype": "i1"
         },
         "xaxis": "x10",
         "y": {
          "bdata": "wk7sxE49tkAAAAAAs005QQAAAAAGMzdBAAAAAH+eOkE=",
          "dtype": "f8"
         },
         "yaxis": "y10"
        },
        {
         "hovertemplate": "strain=ST4<br>mouse_id=mB<br>cage_id=c5<br>time=%{x}<br>Ns=%{y}<extra></extra>",
         "legendgroup": "ST4",
         "marker": {
          "color": "#2CA02C",
          "symbol": "circle"
         },
         "mode": "markers",
         "name": "ST4",
         "orientation": "v",
         "showlegend": false,
         "type": "scatter",
         "x": {
          "bdata": "CBggMA==",
          "dtype": "i1"
         },
         "xaxis": "x5",
         "y": {
          "bdata": "AAAAAMBPHkEAAAAA9Is9QQAAAAA/FjFBAAAAAIy1MUE=",
          "dtype": "f8"
         },
         "yaxis": "y5"
        }
       ],
       "layout": {
        "annotations": [
         {
          "font": {},
          "showarrow": false,
          "text": "cage_id=c1",
          "x": 0.09000000000000001,
          "xanchor": "center",
          "xref": "paper",
          "y": 1,
          "yanchor": "bottom",
          "yref": "paper"
         },
         {
          "font": {},
          "showarrow": false,
          "text": "cage_id=c2",
          "x": 0.29000000000000004,
          "xanchor": "center",
          "xref": "paper",
          "y": 1,
          "yanchor": "bottom",
          "yref": "paper"
         },
         {
          "font": {},
          "showarrow": false,
          "text": "cage_id=c3",
          "x": 0.49000000000000005,
          "xanchor": "center",
          "xref": "paper",
          "y": 1,
          "yanchor": "bottom",
          "yref": "paper"
         },
         {
          "font": {},
          "showarrow": false,
          "text": "cage_id=c4",
          "x": 0.6900000000000002,
          "xanchor": "center",
          "xref": "paper",
          "y": 1,
          "yanchor": "bottom",
          "yref": "paper"
         },
         {
          "font": {},
          "showarrow": false,
          "text": "cage_id=c5",
          "x": 0.8900000000000001,
          "xanchor": "center",
          "xref": "paper",
          "y": 1,
          "yanchor": "bottom",
          "yref": "paper"
         },
         {
          "font": {},
          "showarrow": false,
          "text": "mouse_id=mB",
          "textangle": 90,
          "x": 0.9800000000000001,
          "xanchor": "left",
          "xref": "paper",
          "y": 0.2425,
          "yanchor": "middle",
          "yref": "paper"
         },
         {
          "font": {},
          "showarrow": false,
          "text": "mouse_id=mA",
          "textangle": 90,
          "x": 0.9800000000000001,
          "xanchor": "left",
          "xref": "paper",
          "y": 0.7575000000000001,
          "yanchor": "middle",
          "yref": "paper"
         }
        ],
        "height": 600,
        "legend": {
         "title": {
          "text": "strain"
         },
         "tracegroupgap": 0
        },
        "margin": {
         "t": 60
        },
        "template": {
         "data": {
          "bar": [
           {
            "error_x": {
             "color": "rgb(36,36,36)"
            },
            "error_y": {
             "color": "rgb(36,36,36)"
            },
            "marker": {
             "line": {
              "color": "white",
              "width": 0.5
             },
             "pattern": {
              "fillmode": "overlay",
              "size": 10,
              "solidity": 0.2
             }
            },
            "type": "bar"
           }
          ],
          "barpolar": [
           {
            "marker": {
             "line": {
              "color": "white",
              "width": 0.5
             },
             "pattern": {
              "fillmode": "overlay",
              "size": 10,
              "solidity": 0.2
             }
            },
            "type": "barpolar"
           }
          ],
          "carpet": [
           {
            "aaxis": {
             "endlinecolor": "rgb(36,36,36)",
             "gridcolor": "white",
             "linecolor": "white",
             "minorgridcolor": "white",
             "startlinecolor": "rgb(36,36,36)"
            },
            "baxis": {
             "endlinecolor": "rgb(36,36,36)",
             "gridcolor": "white",
             "linecolor": "white",
             "minorgridcolor": "white",
             "startlinecolor": "rgb(36,36,36)"
            },
            "type": "carpet"
           }
          ],
          "choropleth": [
           {
            "colorbar": {
             "outlinewidth": 1,
             "tickcolor": "rgb(36,36,36)",
             "ticks": "outside"
            },
            "type": "choropleth"
           }
          ],
          "contour": [
           {
            "colorbar": {
             "outlinewidth": 1,
             "tickcolor": "rgb(36,36,36)",
             "ticks": "outside"
            },
            "colorscale": [
             [
              0,
              "#440154"
             ],
             [
              0.1111111111111111,
              "#482878"
             ],
             [
              0.2222222222222222,
              "#3e4989"
             ],
             [
              0.3333333333333333,
              "#31688e"
             ],
             [
              0.4444444444444444,
              "#26828e"
             ],
             [
              0.5555555555555556,
              "#1f9e89"
             ],
             [
              0.6666666666666666,
              "#35b779"
             ],
             [
              0.7777777777777778,
              "#6ece58"
             ],
             [
              0.8888888888888888,
              "#b5de2b"
             ],
             [
              1,
              "#fde725"
             ]
            ],
            "type": "contour"
           }
          ],
          "contourcarpet": [
           {
            "colorbar": {
             "outlinewidth": 1,
             "tickcolor": "rgb(36,36,36)",
             "ticks": "outside"
            },
            "type": "contourcarpet"
           }
          ],
          "heatmap": [
           {
            "colorbar": {
             "outlinewidth": 1,
             "tickcolor": "rgb(36,36,36)",
             "ticks": "outside"
            },
            "colorscale": [
             [
              0,
              "#440154"
             ],
             [
              0.1111111111111111,
              "#482878"
             ],
             [
              0.2222222222222222,
              "#3e4989"
             ],
             [
              0.3333333333333333,
              "#31688e"
             ],
             [
              0.4444444444444444,
              "#26828e"
             ],
             [
              0.5555555555555556,
              "#1f9e89"
             ],
             [
              0.6666666666666666,
              "#35b779"
             ],
             [
              0.7777777777777778,
              "#6ece58"
             ],
             [
              0.8888888888888888,
              "#b5de2b"
             ],
             [
              1,
              "#fde725"
             ]
            ],
            "type": "heatmap"
           }
          ],
          "histogram": [
           {
            "marker": {
             "line": {
              "color": "white",
              "width": 0.6
             }
            },
            "type": "histogram"
           }
          ],
          "histogram2d": [
           {
            "colorbar": {
             "outlinewidth": 1,
             "tickcolor": "rgb(36,36,36)",
             "ticks": "outside"
            },
            "colorscale": [
             [
              0,
              "#440154"
             ],
             [
              0.1111111111111111,
              "#482878"
             ],
             [
              0.2222222222222222,
              "#3e4989"
             ],
             [
              0.3333333333333333,
              "#31688e"
             ],
             [
              0.4444444444444444,
              "#26828e"
             ],
             [
              0.5555555555555556,
              "#1f9e89"
             ],
             [
              0.6666666666666666,
              "#35b779"
             ],
             [
              0.7777777777777778,
              "#6ece58"
             ],
             [
              0.8888888888888888,
              "#b5de2b"
             ],
             [
              1,
              "#fde725"
             ]
            ],
            "type": "histogram2d"
           }
          ],
          "histogram2dcontour": [
           {
            "colorbar": {
             "outlinewidth": 1,
             "tickcolor": "rgb(36,36,36)",
             "ticks": "outside"
            },
            "colorscale": [
             [
              0,
              "#440154"
             ],
             [
              0.1111111111111111,
              "#482878"
             ],
             [
              0.2222222222222222,
              "#3e4989"
             ],
             [
              0.3333333333333333,
              "#31688e"
             ],
             [
              0.4444444444444444,
              "#26828e"
             ],
             [
              0.5555555555555556,
              "#1f9e89"
             ],
             [
              0.6666666666666666,
              "#35b779"
             ],
             [
              0.7777777777777778,
              "#6ece58"
             ],
             [
              0.8888888888888888,
              "#b5de2b"
             ],
             [
              1,
              "#fde725"
             ]
            ],
            "type": "histogram2dcontour"
           }
          ],
          "mesh3d": [
           {
            "colorbar": {
             "outlinewidth": 1,
             "tickcolor": "rgb(36,36,36)",
             "ticks": "outside"
            },
            "type": "mesh3d"
           }
          ],
          "parcoords": [
           {
            "line": {
             "colorbar": {
              "outlinewidth": 1,
              "tickcolor": "rgb(36,36,36)",
              "ticks": "outside"
             }
            },
            "type": "parcoords"
           }
          ],
          "pie": [
           {
            "automargin": true,
            "type": "pie"
           }
          ],
          "scatter": [
           {
            "fillpattern": {
             "fillmode": "overlay",
             "size": 10,
             "solidity": 0.2
            },
            "type": "scatter"
           }
          ],
          "scatter3d": [
           {
            "line": {
             "colorbar": {
              "outlinewidth": 1,
              "tickcolor": "rgb(36,36,36)",
              "ticks": "outside"
             }
            },
            "marker": {
             "colorbar": {
              "outlinewidth": 1,
              "tickcolor": "rgb(36,36,36)",
              "ticks": "outside"
             }
            },
            "type": "scatter3d"
           }
          ],
          "scattercarpet": [
           {
            "marker": {
             "colorbar": {
              "outlinewidth": 1,
              "tickcolor": "rgb(36,36,36)",
              "ticks": "outside"
             }
            },
            "type": "scattercarpet"
           }
          ],
          "scattergeo": [
           {
            "marker": {
             "colorbar": {
              "outlinewidth": 1,
              "tickcolor": "rgb(36,36,36)",
              "ticks": "outside"
             }
            },
            "type": "scattergeo"
           }
          ],
          "scattergl": [
           {
            "marker": {
             "colorbar": {
              "outlinewidth": 1,
              "tickcolor": "rgb(36,36,36)",
              "ticks": "outside"
             }
            },
            "type": "scattergl"
           }
          ],
          "scattermap": [
           {
            "marker": {
             "colorbar": {
              "outlinewidth": 1,
              "tickcolor": "rgb(36,36,36)",
              "ticks": "outside"
             }
            },
            "type": "scattermap"
           }
          ],
          "scattermapbox": [
           {
            "marker": {
             "colorbar": {
              "outlinewidth": 1,
              "tickcolor": "rgb(36,36,36)",
              "ticks": "outside"
             }
            },
            "type": "scattermapbox"
           }
          ],
          "scatterpolar": [
           {
            "marker": {
             "colorbar": {
              "outlinewidth": 1,
              "tickcolor": "rgb(36,36,36)",
              "ticks": "outside"
             }
            },
            "type": "scatterpolar"
           }
          ],
          "scatterpolargl": [
           {
            "marker": {
             "colorbar": {
              "outlinewidth": 1,
              "tickcolor": "rgb(36,36,36)",
              "ticks": "outside"
             }
            },
            "type": "scatterpolargl"
           }
          ],
          "scatterternary": [
           {
            "marker": {
             "colorbar": {
              "outlinewidth": 1,
              "tickcolor": "rgb(36,36,36)",
              "ticks": "outside"
             }
            },
            "type": "scatterternary"
           }
          ],
          "surface": [
           {
            "colorbar": {
             "outlinewidth": 1,
             "tickcolor": "rgb(36,36,36)",
             "ticks": "outside"
            },
            "colorscale": [
             [
              0,
              "#440154"
             ],
             [
              0.1111111111111111,
              "#482878"
             ],
             [
              0.2222222222222222,
              "#3e4989"
             ],
             [
              0.3333333333333333,
              "#31688e"
             ],
             [
              0.4444444444444444,
              "#26828e"
             ],
             [
              0.5555555555555556,
              "#1f9e89"
             ],
             [
              0.6666666666666666,
              "#35b779"
             ],
             [
              0.7777777777777778,
              "#6ece58"
             ],
             [
              0.8888888888888888,
              "#b5de2b"
             ],
             [
              1,
              "#fde725"
             ]
            ],
            "type": "surface"
           }
          ],
          "table": [
           {
            "cells": {
             "fill": {
              "color": "rgb(237,237,237)"
             },
             "line": {
              "color": "white"
             }
            },
            "header": {
             "fill": {
              "color": "rgb(217,217,217)"
             },
             "line": {
              "color": "white"
             }
            },
            "type": "table"
           }
          ]
         },
         "layout": {
          "annotationdefaults": {
           "arrowhead": 0,
           "arrowwidth": 1
          },
          "autotypenumbers": "strict",
          "coloraxis": {
           "colorbar": {
            "outlinewidth": 1,
            "tickcolor": "rgb(36,36,36)",
            "ticks": "outside"
           }
          },
          "colorscale": {
           "diverging": [
            [
             0,
             "rgb(103,0,31)"
            ],
            [
             0.1,
             "rgb(178,24,43)"
            ],
            [
             0.2,
             "rgb(214,96,77)"
            ],
            [
             0.3,
             "rgb(244,165,130)"
            ],
            [
             0.4,
             "rgb(253,219,199)"
            ],
            [
             0.5,
             "rgb(247,247,247)"
            ],
            [
             0.6,
             "rgb(209,229,240)"
            ],
            [
             0.7,
             "rgb(146,197,222)"
            ],
            [
             0.8,
             "rgb(67,147,195)"
            ],
            [
             0.9,
             "rgb(33,102,172)"
            ],
            [
             1,
             "rgb(5,48,97)"
            ]
           ],
           "sequential": [
            [
             0,
             "#440154"
            ],
            [
             0.1111111111111111,
             "#482878"
            ],
            [
             0.2222222222222222,
             "#3e4989"
            ],
            [
             0.3333333333333333,
             "#31688e"
            ],
            [
             0.4444444444444444,
             "#26828e"
            ],
            [
             0.5555555555555556,
             "#1f9e89"
            ],
            [
             0.6666666666666666,
             "#35b779"
            ],
            [
             0.7777777777777778,
             "#6ece58"
            ],
            [
             0.8888888888888888,
             "#b5de2b"
            ],
            [
             1,
             "#fde725"
            ]
           ],
           "sequentialminus": [
            [
             0,
             "#440154"
            ],
            [
             0.1111111111111111,
             "#482878"
            ],
            [
             0.2222222222222222,
             "#3e4989"
            ],
            [
             0.3333333333333333,
             "#31688e"
            ],
            [
             0.4444444444444444,
             "#26828e"
            ],
            [
             0.5555555555555556,
             "#1f9e89"
            ],
            [
             0.6666666666666666,
             "#35b779"
            ],
            [
             0.7777777777777778,
             "#6ece58"
            ],
            [
             0.8888888888888888,
             "#b5de2b"
            ],
            [
             1,
             "#fde725"
            ]
           ]
          },
          "colorway": [
           "#1F77B4",
           "#FF7F0E",
           "#2CA02C",
           "#D62728",
           "#9467BD",
           "#8C564B",
           "#E377C2",
           "#7F7F7F",
           "#BCBD22",
           "#17BECF"
          ],
          "font": {
           "color": "rgb(36,36,36)"
          },
          "geo": {
           "bgcolor": "white",
           "lakecolor": "white",
           "landcolor": "white",
           "showlakes": true,
           "showland": true,
           "subunitcolor": "white"
          },
          "hoverlabel": {
           "align": "left"
          },
          "hovermode": "closest",
          "mapbox": {
           "style": "light"
          },
          "paper_bgcolor": "white",
          "plot_bgcolor": "white",
          "polar": {
           "angularaxis": {
            "gridcolor": "rgb(232,232,232)",
            "linecolor": "rgb(36,36,36)",
            "showgrid": false,
            "showline": true,
            "ticks": "outside"
           },
           "bgcolor": "white",
           "radialaxis": {
            "gridcolor": "rgb(232,232,232)",
            "linecolor": "rgb(36,36,36)",
            "showgrid": false,
            "showline": true,
            "ticks": "outside"
           }
          },
          "scene": {
           "xaxis": {
            "backgroundcolor": "white",
            "gridcolor": "rgb(232,232,232)",
            "gridwidth": 2,
            "linecolor": "rgb(36,36,36)",
            "showbackground": true,
            "showgrid": false,
            "showline": true,
            "ticks": "outside",
            "zeroline": false,
            "zerolinecolor": "rgb(36,36,36)"
           },
           "yaxis": {
            "backgroundcolor": "white",
            "gridcolor": "rgb(232,232,232)",
            "gridwidth": 2,
            "linecolor": "rgb(36,36,36)",
            "showbackground": true,
            "showgrid": false,
            "showline": true,
            "ticks": "outside",
            "zeroline": false,
            "zerolinecolor": "rgb(36,36,36)"
           },
           "zaxis": {
            "backgroundcolor": "white",
            "gridcolor": "rgb(232,232,232)",
            "gridwidth": 2,
            "linecolor": "rgb(36,36,36)",
            "showbackground": true,
            "showgrid": false,
            "showline": true,
            "ticks": "outside",
            "zeroline": false,
            "zerolinecolor": "rgb(36,36,36)"
           }
          },
          "shapedefaults": {
           "fillcolor": "black",
           "line": {
            "width": 0
           },
           "opacity": 0.3
          },
          "ternary": {
           "aaxis": {
            "gridcolor": "rgb(232,232,232)",
            "linecolor": "rgb(36,36,36)",
            "showgrid": false,
            "showline": true,
            "ticks": "outside"
           },
           "baxis": {
            "gridcolor": "rgb(232,232,232)",
            "linecolor": "rgb(36,36,36)",
            "showgrid": false,
            "showline": true,
            "ticks": "outside"
           },
           "bgcolor": "white",
           "caxis": {
            "gridcolor": "rgb(232,232,232)",
            "linecolor": "rgb(36,36,36)",
            "showgrid": false,
            "showline": true,
            "ticks": "outside"
           }
          },
          "title": {
           "x": 0.05
          },
          "xaxis": {
           "automargin": true,
           "gridcolor": "rgb(232,232,232)",
           "linecolor": "rgb(36,36,36)",
           "showgrid": false,
           "showline": true,
           "ticks": "outside",
           "title": {
            "standoff": 15
           },
           "zeroline": false,
           "zerolinecolor": "rgb(36,36,36)"
          },
          "yaxis": {
           "automargin": true,
           "gridcolor": "rgb(232,232,232)",
           "linecolor": "rgb(36,36,36)",
           "showgrid": false,
           "showline": true,
           "ticks": "outside",
           "title": {
            "standoff": 15
           },
           "zeroline": false,
           "zerolinecolor": "rgb(36,36,36)"
          }
         }
        },
        "width": 800,
        "xaxis": {
         "anchor": "y",
         "domain": [
          0,
          0.18000000000000002
         ],
         "title": {
          "text": "time"
         }
        },
        "xaxis10": {
         "anchor": "y10",
         "domain": [
          0.8,
          0.9800000000000001
         ],
         "matches": "x",
         "showticklabels": false
        },
        "xaxis2": {
         "anchor": "y2",
         "domain": [
          0.2,
          0.38
         ],
         "matches": "x",
         "title": {
          "text": "time"
         }
        },
        "xaxis3": {
         "anchor": "y3",
         "domain": [
          0.4,
          0.5800000000000001
         ],
         "matches": "x",
         "title": {
          "text": "time"
         }
        },
        "xaxis4": {
         "anchor": "y4",
         "domain": [
          0.6000000000000001,
          0.7800000000000001
         ],
         "matches": "x",
         "title": {
          "text": "time"
         }
        },
        "xaxis5": {
         "anchor": "y5",
         "domain": [
          0.8,
          0.9800000000000001
         ],
         "matches": "x",
         "title": {
          "text": "time"
         }
        },
        "xaxis6": {
         "anchor": "y6",
         "domain": [
          0,
          0.18000000000000002
         ],
         "matches": "x",
         "showticklabels": false
        },
        "xaxis7": {
         "anchor": "y7",
         "domain": [
          0.2,
          0.38
         ],
         "matches": "x",
         "showticklabels": false
        },
        "xaxis8": {
         "anchor": "y8",
         "domain": [
          0.4,
          0.5800000000000001
         ],
         "matches": "x",
         "showticklabels": false
        },
        "xaxis9": {
         "anchor": "y9",
         "domain": [
          0.6000000000000001,
          0.7800000000000001
         ],
         "matches": "x",
         "showticklabels": false
        },
        "yaxis": {
         "anchor": "x",
         "domain": [
          0,
          0.485
         ],
         "title": {
          "text": "Ns"
         },
         "type": "log"
        },
        "yaxis10": {
         "anchor": "x10",
         "domain": [
          0.515,
          1
         ],
         "matches": "y",
         "showticklabels": false,
         "type": "log"
        },
        "yaxis2": {
         "anchor": "x2",
         "domain": [
          0,
          0.485
         ],
         "matches": "y",
         "showticklabels": false,
         "type": "log"
        },
        "yaxis3": {
         "anchor": "x3",
         "domain": [
          0,
          0.485
         ],
         "matches": "y",
         "showticklabels": false,
         "type": "log"
        },
        "yaxis4": {
         "anchor": "x4",
         "domain": [
          0,
          0.485
         ],
         "matches": "y",
         "showticklabels": false,
         "type": "log"
        },
        "yaxis5": {
         "anchor": "x5",
         "domain": [
          0,
          0.485
         ],
         "matches": "y",
         "showticklabels": false,
         "type": "log"
        },
        "yaxis6": {
         "anchor": "x6",
         "domain": [
          0.515,
          1
         ],
         "matches": "y",
         "title": {
          "text": "Ns"
         },
         "type": "log"
        },
        "yaxis7": {
         "anchor": "x7",
         "domain": [
          0.515,
          1
         ],
         "matches": "y",
         "showticklabels": false,
         "type": "log"
        },
        "yaxis8": {
         "anchor": "x8",
         "domain": [
          0.515,
          1
         ],
         "matches": "y",
         "showticklabels": false,
         "type": "log"
        },
        "yaxis9": {
         "anchor": "x9",
         "domain": [
          0.515,
          1
         ],
         "matches": "y",
         "showticklabels": false,
         "type": "log"
        }
       }
      }
     },
     "metadata": {},
     "output_type": "display_data"
    },
    {
     "data": {
      "application/vnd.plotly.v1+json": {
       "config": {
        "plotlyServerURL": "https://plotly.com"
       },
       "data": [
        {
         "hovertemplate": "strain=ST1<br>mouse_id=mA<br>cage_id=c1<br>time=%{x}<br>Ns_MinCutoff=%{y}<extra></extra>",
         "legendgroup": "ST1",
         "marker": {
          "color": "#1F77B4",
          "symbol": "circle"
         },
         "mode": "markers",
         "name": "ST1",
         "orientation": "v",
         "showlegend": true,
         "type": "scatter",
         "x": {
          "bdata": "CBggMA==",
          "dtype": "i1"
         },
         "xaxis": "x6",
         "y": {
          "bdata": "AAAAACAR6UDCqqqqWmL9QN22bdtG1/dAwqqqqhrI/0A=",
          "dtype": "f8"
         },
         "yaxis": "y6"
        },
        {
         "hovertemplate": "strain=ST1<br>mouse_id=mA<br>cage_id=c2<br>time=%{x}<br>Ns_MinCutoff=%{y}<extra></extra>",
         "legendgroup": "ST1",
         "marker": {
          "color": "#1F77B4",
          "symbol": "circle"
         },
         "mode": "markers",
         "name": "ST1",
         "orientation": "v",
         "showlegend": false,
         "type": "scatter",
         "x": {
          "bdata": "CBggMA==",
          "dtype": "i1"
         },
         "xaxis": "x7",
         "y": {
          "bdata": "ew3lNZRXQUDetm3btlWMQN62bdu2pYdAAAAAAADIg0A=",
          "dtype": "f8"
         },
         "yaxis": "y7"
        },
        {
         "hovertemplate": "strain=ST1<br>mouse_id=mA<br>cage_id=c3<br>time=%{x}<br>Ns_MinCutoff=%{y}<extra></extra>",
         "legendgroup": "ST1",
         "marker": {
          "color": "#1F77B4",
          "symbol": "circle"
         },
         "mode": "markers",
         "name": "ST1",
         "orientation": "v",
         "showlegend": false,
         "type": "scatter",
         "x": {
          "bdata": "CBggMA==",
          "dtype": "i1"
         },
         "xaxis": "x8",
         "y": {
          "bdata": "AAAAAADohUBdVVVVVeejQAAAAAAAQqVAK0mSJEn8o0A=",
          "dtype": "f8"
         },
         "yaxis": "y8"
        },
        {
         "hovertemplate": "strain=ST1<br>mouse_id=mA<br>cage_id=c4<br>time=%{x}<br>Ns_MinCutoff=%{y}<extra></extra>",
         "legendgroup": "ST1",
         "marker": {
          "color": "#1F77B4",
          "symbol": "circle"
         },
         "mode": "markers",
         "name": "ST1",
         "orientation": "v",
         "showlegend": false,
         "type": "scatter",
         "x": {
          "bdata": "CBggMA==",
          "dtype": "i1"
         },
         "xaxis": "x9",
         "y": {
          "bdata": "AAAAAACIhkBndNFFF10xQAAAAAAAADNAZ3TRRRddMUA=",
          "dtype": "f8"
         },
         "yaxis": "y9"
        },
        {
         "hovertemplate": "strain=ST1<br>mouse_id=mA<br>cage_id=c5<br>time=%{x}<br>Ns_MinCutoff=%{y}<extra></extra>",
         "legendgroup": "ST1",
         "marker": {
          "color": "#1F77B4",
          "symbol": "circle"
         },
         "mode": "markers",
         "name": "ST1",
         "orientation": "v",
         "showlegend": false,
         "type": "scatter",
         "x": {
          "bdata": "CBggMA==",
          "dtype": "i1"
         },
         "xaxis": "x10",
         "y": {
          "bdata": "AAAAAAAogkDVtm3btmOiQO2JndiJcZFAR1VVVVV5mEA=",
          "dtype": "f8"
         },
         "yaxis": "y10"
        },
        {
         "hovertemplate": "strain=ST1<br>mouse_id=mB<br>cage_id=c1<br>time=%{x}<br>Ns_MinCutoff=%{y}<extra></extra>",
         "legendgroup": "ST1",
         "marker": {
          "color": "#1F77B4",
          "symbol": "circle"
         },
         "mode": "markers",
         "name": "ST1",
         "orientation": "v",
         "showlegend": false,
         "type": "scatter",
         "x": {
          "bdata": "CBggMA==",
          "dtype": "i1"
         },
         "xaxis": "x",
         "y": {
          "bdata": "GA8PDw9ZrkCztLS0tI24QAAAAAAACbZAdtu2bRst0kA=",
          "dtype": "f8"
         },
         "yaxis": "y"
        },
        {
         "hovertemplate": "strain=ST1<br>mouse_id=mB<br>cage_id=c2<br>time=%{x}<br>Ns_MinCutoff=%{y}<extra></extra>",
         "legendgroup": "ST1",
         "marker": {
          "color": "#1F77B4",
          "symbol": "circle"
         },
         "mode": "markers",
         "name": "ST1",
         "orientation": "v",
         "showlegend": false,
         "type": "scatter",
         "x": {
          "bdata": "CBggMA==",
          "dtype": "i1"
         },
         "xaxis": "x2",
         "y": {
          "bdata": "4UUXXXTxb0Cxqqqqqqp2QKiqqqqqioBAahzHcRzXdkA=",
          "dtype": "f8"
         },
         "yaxis": "y2"
        },
        {
         "hovertemplate": "strain=ST1<br>mouse_id=mB<br>cage_id=c3<br>time=%{x}<br>Ns_MinCutoff=%{y}<extra></extra>",
         "legendgroup": "ST1",
         "marker": {
          "color": "#1F77B4",
          "symbol": "circle"
         },
         "mode": "markers",
         "name": "ST1",
         "orientation": "v",
         "showlegend": false,
         "type": "scatter",
         "x": {
          "bdata": "CBggMA==",
          "dtype": "i1"
         },
         "xaxis": "x3",
         "y": {
          "bdata": "AAAAAADmoUAAAAAAAFqhQAAAAAAA6qJAAAAAAADGo0A=",
          "dtype": "f8"
         },
         "yaxis": "y3"
        },
        {
         "hovertemplate": "strain=ST1<br>mouse_id=mB<br>cage_id=c4<br>time=%{x}<br>Ns_MinCutoff=%{y}<extra></extra>",
         "legendgroup": "ST1",
         "marker": {
          "color": "#1F77B4",
          "symbol": "circle"
         },
         "mode": "markers",
         "name": "ST1",
         "orientation": "v",
         "showlegend": false,
         "type": "scatter",
         "x": {
          "bdata": "CBggMA==",
          "dtype": "i1"
         },
         "xaxis": "x4",
         "y": {
          "bdata": "PxdddNHFQUD+XHTRRRcvQP5cdNFFFy9A/lx00UUXL0A=",
          "dtype": "f8"
         },
         "yaxis": "y4"
        },
        {
         "hovertemplate": "strain=ST1<br>mouse_id=mB<br>cage_id=c5<br>time=%{x}<br>Ns_MinCutoff=%{y}<extra></extra>",
         "legendgroup": "ST1",
         "marker": {
          "color": "#1F77B4",
          "symbol": "circle"
         },
         "mode": "markers",
         "name": "ST1",
         "orientation": "v",
         "showlegend": false,
         "type": "scatter",
         "x": {
          "bdata": "CBggMA==",
          "dtype": "i1"
         },
         "xaxis": "x5",
         "y": {
          "bdata": "AAAAAABkk0CjqqqqqiqlQAAAAAAAH5dAE3ZiJ3Z2mEA=",
          "dtype": "f8"
         },
         "yaxis": "y5"
        },
        {
         "hovertemplate": "strain=ST5<br>mouse_id=mA<br>cage_id=c1<br>time=%{x}<br>Ns_MinCutoff=%{y}<extra></extra>",
         "legendgroup": "ST5",
         "marker": {
          "color": "#D62728",
          "symbol": "circle"
         },
         "mode": "markers",
         "name": "ST5",
         "orientation": "v",
         "showlegend": true,
         "type": "scatter",
         "x": {
          "bdata": "CBggMA==",
          "dtype": "i1"
         },
         "xaxis": "x6",
         "y": {
          "bdata": "Po7jOI45pEC1bdu27SbCQM7S0tLSl7JAAAAAAADDtUA=",
          "dtype": "f8"
         },
         "yaxis": "y6"
        },
        {
         "hovertemplate": "strain=ST5<br>mouse_id=mA<br>cage_id=c2<br>time=%{x}<br>Ns_MinCutoff=%{y}<extra></extra>",
         "legendgroup": "ST5",
         "marker": {
          "color": "#D62728",
          "symbol": "circle"
         },
         "mode": "markers",
         "name": "ST5",
         "orientation": "v",
         "showlegend": false,
         "type": "scatter",
         "x": {
          "bdata": "CBggMA==",
          "dtype": "i1"
         },
         "xaxis": "x7",
         "y": {
          "bdata": "FcprKK8hR0DxoosuusqhQKiqqqqqIolAAAAAAABMl0A=",
          "dtype": "f8"
         },
         "yaxis": "y7"
        },
        {
         "hovertemplate": "strain=ST5<br>mouse_id=mA<br>cage_id=c3<br>time=%{x}<br>Ns_MinCutoff=%{y}<extra></extra>",
         "legendgroup": "ST5",
         "marker": {
          "color": "#D62728",
          "symbol": "circle"
         },
         "mode": "markers",
         "name": "ST5",
         "orientation": "v",
         "showlegend": false,
         "type": "scatter",
         "x": {
          "bdata": "CBggMA==",
          "dtype": "i1"
         },
         "xaxis": "x8",
         "y": {
          "bdata": "AAAAAACQcUBxHMdxHAdXQCZJkiRJ0ldAraqqqqrqVUA=",
          "dtype": "f8"
         },
         "yaxis": "y8"
        },
        {
         "hovertemplate": "strain=ST5<br>mouse_id=mA<br>cage_id=c4<br>time=%{x}<br>Ns_MinCutoff=%{y}<extra></extra>",
         "legendgroup": "ST5",
         "marker": {
          "color": "#D62728",
          "symbol": "circle"
         },
         "mode": "markers",
         "name": "ST5",
         "orientation": "v",
         "showlegend": false,
         "type": "scatter",
         "x": {
          "bdata": "CBggMA==",
          "dtype": "i1"
         },
         "xaxis": "x9",
         "y": {
          "bdata": "AAAAAAAANUAAAAAAAGqwQAAAAAAAsqNAAAAAAABEkEA=",
          "dtype": "f8"
         },
         "yaxis": "y9"
        },
        {
         "hovertemplate": "strain=ST5<br>mouse_id=mB<br>cage_id=c1<br>time=%{x}<br>Ns_MinCutoff=%{y}<extra></extra>",
         "legendgroup": "ST5",
         "marker": {
          "color": "#D62728",
          "symbol": "circle"
         },
         "mode": "markers",
         "name": "ST5",
         "orientation": "v",
         "showlegend": false,
         "type": "scatter",
         "x": {
          "bdata": "CBggMA==",
          "dtype": "i1"
         },
         "xaxis": "x",
         "y": {
          "bdata": "iiRJkqQ1yEAZx3EcBxHfQD4XXXQRENpAAAAAADBq9kA=",
          "dtype": "f8"
         },
         "yaxis": "y"
        },
        {
         "hovertemplate": "strain=ST5<br>mouse_id=mB<br>cage_id=c2<br>time=%{x}<br>Ns_MinCutoff=%{y}<extra></extra>",
         "legendgroup": "ST5",
         "marker": {
          "color": "#D62728",
          "symbol": "circle"
         },
         "mode": "markers",
         "name": "ST5",
         "orientation": "v",
         "showlegend": false,
         "type": "scatter",
         "x": {
          "bdata": "CBggMA==",
          "dtype": "i1"
         },
         "xaxis": "x2",
         "y": {
          "bdata": "AAAAAACQZ0CVJEmSJMuqQKOqqqqqmKpAXVVVVVXDqUA=",
          "dtype": "f8"
         },
         "yaxis": "y2"
        },
        {
         "hovertemplate": "strain=ST5<br>mouse_id=mB<br>cage_id=c3<br>time=%{x}<br>Ns_MinCutoff=%{y}<extra></extra>",
         "legendgroup": "ST5",
         "marker": {
          "color": "#D62728",
          "symbol": "circle"
         },
         "mode": "markers",
         "name": "ST5",
         "orientation": "v",
         "showlegend": false,
         "type": "scatter",
         "x": {
          "bdata": "CBggMA==",
          "dtype": "i1"
         },
         "xaxis": "x3",
         "y": {
          "bdata": "cRzHcRwHUkAAAAAAACBWQNq2bdu2rVVA2rZt27atVUA=",
          "dtype": "f8"
         },
         "yaxis": "y3"
        },
        {
         "hovertemplate": "strain=ST5<br>mouse_id=mB<br>cage_id=c4<br>time=%{x}<br>Ns_MinCutoff=%{y}<extra></extra>",
         "legendgroup": "ST5",
         "marker": {
          "color": "#D62728",
          "symbol": "circle"
         },
         "mode": "markers",
         "name": "ST5",
         "orientation": "v",
         "showlegend": false,
         "type": "scatter",
         "x": {
          "bdata": "CBggMA==",
          "dtype": "i1"
         },
         "xaxis": "x4",
         "y": {
          "bdata": "tKqqqqqqM0AtSZIkSZI9QAAAAAAAQFxAAAAAAAA6o0A=",
          "dtype": "f8"
         },
         "yaxis": "y4"
        },
        {
         "hovertemplate": "strain=ST4<br>mouse_id=mA<br>cage_id=c5<br>time=%{x}<br>Ns_MinCutoff=%{y}<extra></extra>",
         "legendgroup": "ST4",
         "marker": {
          "color": "#2CA02C",
          "symbol": "circle"
         },
         "mode": "markers",
         "name": "ST4",
         "orientation": "v",
         "showlegend": true,
         "type": "scatter",
         "x": {
          "bdata": "CBggMA==",
          "dtype": "i1"
         },
         "xaxis": "x10",
         "y": {
          "bdata": "AAAAAADzo0AAAAAAQN7cQAAAAABAo9tAAAAAAEAe2UA=",
          "dtype": "f8"
         },
         "yaxis": "y10"
        },
        {
         "hovertemplate": "strain=ST4<br>mouse_id=mB<br>cage_id=c5<br>time=%{x}<br>Ns_MinCutoff=%{y}<extra></extra>",
         "legendgroup": "ST4",
         "marker": {
          "color": "#2CA02C",
          "symbol": "circle"
         },
         "mode": "markers",
         "name": "ST4",
         "orientation": "v",
         "showlegend": false,
         "type": "scatter",
         "x": {
          "bdata": "CBggMA==",
          "dtype": "i1"
         },
         "xaxis": "x5",
         "y": {
          "bdata": "zXEcx/HSw0BMVVVVlYrZQAAAAAAALdhAAAAAAADa1UA=",
          "dtype": "f8"
         },
         "yaxis": "y5"
        }
       ],
       "layout": {
        "annotations": [
         {
          "font": {},
          "showarrow": false,
          "text": "cage_id=c1",
          "x": 0.09000000000000001,
          "xanchor": "center",
          "xref": "paper",
          "y": 1,
          "yanchor": "bottom",
          "yref": "paper"
         },
         {
          "font": {},
          "showarrow": false,
          "text": "cage_id=c2",
          "x": 0.29000000000000004,
          "xanchor": "center",
          "xref": "paper",
          "y": 1,
          "yanchor": "bottom",
          "yref": "paper"
         },
         {
          "font": {},
          "showarrow": false,
          "text": "cage_id=c3",
          "x": 0.49000000000000005,
          "xanchor": "center",
          "xref": "paper",
          "y": 1,
          "yanchor": "bottom",
          "yref": "paper"
         },
         {
          "font": {},
          "showarrow": false,
          "text": "cage_id=c4",
          "x": 0.6900000000000002,
          "xanchor": "center",
          "xref": "paper",
          "y": 1,
          "yanchor": "bottom",
          "yref": "paper"
         },
         {
          "font": {},
          "showarrow": false,
          "text": "cage_id=c5",
          "x": 0.8900000000000001,
          "xanchor": "center",
          "xref": "paper",
          "y": 1,
          "yanchor": "bottom",
          "yref": "paper"
         },
         {
          "font": {},
          "showarrow": false,
          "text": "mouse_id=mB",
          "textangle": 90,
          "x": 0.9800000000000001,
          "xanchor": "left",
          "xref": "paper",
          "y": 0.2425,
          "yanchor": "middle",
          "yref": "paper"
         },
         {
          "font": {},
          "showarrow": false,
          "text": "mouse_id=mA",
          "textangle": 90,
          "x": 0.9800000000000001,
          "xanchor": "left",
          "xref": "paper",
          "y": 0.7575000000000001,
          "yanchor": "middle",
          "yref": "paper"
         }
        ],
        "height": 600,
        "legend": {
         "title": {
          "text": "strain"
         },
         "tracegroupgap": 0
        },
        "margin": {
         "t": 60
        },
        "template": {
         "data": {
          "bar": [
           {
            "error_x": {
             "color": "rgb(36,36,36)"
            },
            "error_y": {
             "color": "rgb(36,36,36)"
            },
            "marker": {
             "line": {
              "color": "white",
              "width": 0.5
             },
             "pattern": {
              "fillmode": "overlay",
              "size": 10,
              "solidity": 0.2
             }
            },
            "type": "bar"
           }
          ],
          "barpolar": [
           {
            "marker": {
             "line": {
              "color": "white",
              "width": 0.5
             },
             "pattern": {
              "fillmode": "overlay",
              "size": 10,
              "solidity": 0.2
             }
            },
            "type": "barpolar"
           }
          ],
          "carpet": [
           {
            "aaxis": {
             "endlinecolor": "rgb(36,36,36)",
             "gridcolor": "white",
             "linecolor": "white",
             "minorgridcolor": "white",
             "startlinecolor": "rgb(36,36,36)"
            },
            "baxis": {
             "endlinecolor": "rgb(36,36,36)",
             "gridcolor": "white",
             "linecolor": "white",
             "minorgridcolor": "white",
             "startlinecolor": "rgb(36,36,36)"
            },
            "type": "carpet"
           }
          ],
          "choropleth": [
           {
            "colorbar": {
             "outlinewidth": 1,
             "tickcolor": "rgb(36,36,36)",
             "ticks": "outside"
            },
            "type": "choropleth"
           }
          ],
          "contour": [
           {
            "colorbar": {
             "outlinewidth": 1,
             "tickcolor": "rgb(36,36,36)",
             "ticks": "outside"
            },
            "colorscale": [
             [
              0,
              "#440154"
             ],
             [
              0.1111111111111111,
              "#482878"
             ],
             [
              0.2222222222222222,
              "#3e4989"
             ],
             [
              0.3333333333333333,
              "#31688e"
             ],
             [
              0.4444444444444444,
              "#26828e"
             ],
             [
              0.5555555555555556,
              "#1f9e89"
             ],
             [
              0.6666666666666666,
              "#35b779"
             ],
             [
              0.7777777777777778,
              "#6ece58"
             ],
             [
              0.8888888888888888,
              "#b5de2b"
             ],
             [
              1,
              "#fde725"
             ]
            ],
            "type": "contour"
           }
          ],
          "contourcarpet": [
           {
            "colorbar": {
             "outlinewidth": 1,
             "tickcolor": "rgb(36,36,36)",
             "ticks": "outside"
            },
            "type": "contourcarpet"
           }
          ],
          "heatmap": [
           {
            "colorbar": {
             "outlinewidth": 1,
             "tickcolor": "rgb(36,36,36)",
             "ticks": "outside"
            },
            "colorscale": [
             [
              0,
              "#440154"
             ],
             [
              0.1111111111111111,
              "#482878"
             ],
             [
              0.2222222222222222,
              "#3e4989"
             ],
             [
              0.3333333333333333,
              "#31688e"
             ],
             [
              0.4444444444444444,
              "#26828e"
             ],
             [
              0.5555555555555556,
              "#1f9e89"
             ],
             [
              0.6666666666666666,
              "#35b779"
             ],
             [
              0.7777777777777778,
              "#6ece58"
             ],
             [
              0.8888888888888888,
              "#b5de2b"
             ],
             [
              1,
              "#fde725"
             ]
            ],
            "type": "heatmap"
           }
          ],
          "histogram": [
           {
            "marker": {
             "line": {
              "color": "white",
              "width": 0.6
             }
            },
            "type": "histogram"
           }
          ],
          "histogram2d": [
           {
            "colorbar": {
             "outlinewidth": 1,
             "tickcolor": "rgb(36,36,36)",
             "ticks": "outside"
            },
            "colorscale": [
             [
              0,
              "#440154"
             ],
             [
              0.1111111111111111,
              "#482878"
             ],
             [
              0.2222222222222222,
              "#3e4989"
             ],
             [
              0.3333333333333333,
              "#31688e"
             ],
             [
              0.4444444444444444,
              "#26828e"
             ],
             [
              0.5555555555555556,
              "#1f9e89"
             ],
             [
              0.6666666666666666,
              "#35b779"
             ],
             [
              0.7777777777777778,
              "#6ece58"
             ],
             [
              0.8888888888888888,
              "#b5de2b"
             ],
             [
              1,
              "#fde725"
             ]
            ],
            "type": "histogram2d"
           }
          ],
          "histogram2dcontour": [
           {
            "colorbar": {
             "outlinewidth": 1,
             "tickcolor": "rgb(36,36,36)",
             "ticks": "outside"
            },
            "colorscale": [
             [
              0,
              "#440154"
             ],
             [
              0.1111111111111111,
              "#482878"
             ],
             [
              0.2222222222222222,
              "#3e4989"
             ],
             [
              0.3333333333333333,
              "#31688e"
             ],
             [
              0.4444444444444444,
              "#26828e"
             ],
             [
              0.5555555555555556,
              "#1f9e89"
             ],
             [
              0.6666666666666666,
              "#35b779"
             ],
             [
              0.7777777777777778,
              "#6ece58"
             ],
             [
              0.8888888888888888,
              "#b5de2b"
             ],
             [
              1,
              "#fde725"
             ]
            ],
            "type": "histogram2dcontour"
           }
          ],
          "mesh3d": [
           {
            "colorbar": {
             "outlinewidth": 1,
             "tickcolor": "rgb(36,36,36)",
             "ticks": "outside"
            },
            "type": "mesh3d"
           }
          ],
          "parcoords": [
           {
            "line": {
             "colorbar": {
              "outlinewidth": 1,
              "tickcolor": "rgb(36,36,36)",
              "ticks": "outside"
             }
            },
            "type": "parcoords"
           }
          ],
          "pie": [
           {
            "automargin": true,
            "type": "pie"
           }
          ],
          "scatter": [
           {
            "fillpattern": {
             "fillmode": "overlay",
             "size": 10,
             "solidity": 0.2
            },
            "type": "scatter"
           }
          ],
          "scatter3d": [
           {
            "line": {
             "colorbar": {
              "outlinewidth": 1,
              "tickcolor": "rgb(36,36,36)",
              "ticks": "outside"
             }
            },
            "marker": {
             "colorbar": {
              "outlinewidth": 1,
              "tickcolor": "rgb(36,36,36)",
              "ticks": "outside"
             }
            },
            "type": "scatter3d"
           }
          ],
          "scattercarpet": [
           {
            "marker": {
             "colorbar": {
              "outlinewidth": 1,
              "tickcolor": "rgb(36,36,36)",
              "ticks": "outside"
             }
            },
            "type": "scattercarpet"
           }
          ],
          "scattergeo": [
           {
            "marker": {
             "colorbar": {
              "outlinewidth": 1,
              "tickcolor": "rgb(36,36,36)",
              "ticks": "outside"
             }
            },
            "type": "scattergeo"
           }
          ],
          "scattergl": [
           {
            "marker": {
             "colorbar": {
              "outlinewidth": 1,
              "tickcolor": "rgb(36,36,36)",
              "ticks": "outside"
             }
            },
            "type": "scattergl"
           }
          ],
          "scattermap": [
           {
            "marker": {
             "colorbar": {
              "outlinewidth": 1,
              "tickcolor": "rgb(36,36,36)",
              "ticks": "outside"
             }
            },
            "type": "scattermap"
           }
          ],
          "scattermapbox": [
           {
            "marker": {
             "colorbar": {
              "outlinewidth": 1,
              "tickcolor": "rgb(36,36,36)",
              "ticks": "outside"
             }
            },
            "type": "scattermapbox"
           }
          ],
          "scatterpolar": [
           {
            "marker": {
             "colorbar": {
              "outlinewidth": 1,
              "tickcolor": "rgb(36,36,36)",
              "ticks": "outside"
             }
            },
            "type": "scatterpolar"
           }
          ],
          "scatterpolargl": [
           {
            "marker": {
             "colorbar": {
              "outlinewidth": 1,
              "tickcolor": "rgb(36,36,36)",
              "ticks": "outside"
             }
            },
            "type": "scatterpolargl"
           }
          ],
          "scatterternary": [
           {
            "marker": {
             "colorbar": {
              "outlinewidth": 1,
              "tickcolor": "rgb(36,36,36)",
              "ticks": "outside"
             }
            },
            "type": "scatterternary"
           }
          ],
          "surface": [
           {
            "colorbar": {
             "outlinewidth": 1,
             "tickcolor": "rgb(36,36,36)",
             "ticks": "outside"
            },
            "colorscale": [
             [
              0,
              "#440154"
             ],
             [
              0.1111111111111111,
              "#482878"
             ],
             [
              0.2222222222222222,
              "#3e4989"
             ],
             [
              0.3333333333333333,
              "#31688e"
             ],
             [
              0.4444444444444444,
              "#26828e"
             ],
             [
              0.5555555555555556,
              "#1f9e89"
             ],
             [
              0.6666666666666666,
              "#35b779"
             ],
             [
              0.7777777777777778,
              "#6ece58"
             ],
             [
              0.8888888888888888,
              "#b5de2b"
             ],
             [
              1,
              "#fde725"
             ]
            ],
            "type": "surface"
           }
          ],
          "table": [
           {
            "cells": {
             "fill": {
              "color": "rgb(237,237,237)"
             },
             "line": {
              "color": "white"
             }
            },
            "header": {
             "fill": {
              "color": "rgb(217,217,217)"
             },
             "line": {
              "color": "white"
             }
            },
            "type": "table"
           }
          ]
         },
         "layout": {
          "annotationdefaults": {
           "arrowhead": 0,
           "arrowwidth": 1
          },
          "autotypenumbers": "strict",
          "coloraxis": {
           "colorbar": {
            "outlinewidth": 1,
            "tickcolor": "rgb(36,36,36)",
            "ticks": "outside"
           }
          },
          "colorscale": {
           "diverging": [
            [
             0,
             "rgb(103,0,31)"
            ],
            [
             0.1,
             "rgb(178,24,43)"
            ],
            [
             0.2,
             "rgb(214,96,77)"
            ],
            [
             0.3,
             "rgb(244,165,130)"
            ],
            [
             0.4,
             "rgb(253,219,199)"
            ],
            [
             0.5,
             "rgb(247,247,247)"
            ],
            [
             0.6,
             "rgb(209,229,240)"
            ],
            [
             0.7,
             "rgb(146,197,222)"
            ],
            [
             0.8,
             "rgb(67,147,195)"
            ],
            [
             0.9,
             "rgb(33,102,172)"
            ],
            [
             1,
             "rgb(5,48,97)"
            ]
           ],
           "sequential": [
            [
             0,
             "#440154"
            ],
            [
             0.1111111111111111,
             "#482878"
            ],
            [
             0.2222222222222222,
             "#3e4989"
            ],
            [
             0.3333333333333333,
             "#31688e"
            ],
            [
             0.4444444444444444,
             "#26828e"
            ],
            [
             0.5555555555555556,
             "#1f9e89"
            ],
            [
             0.6666666666666666,
             "#35b779"
            ],
            [
             0.7777777777777778,
             "#6ece58"
            ],
            [
             0.8888888888888888,
             "#b5de2b"
            ],
            [
             1,
             "#fde725"
            ]
           ],
           "sequentialminus": [
            [
             0,
             "#440154"
            ],
            [
             0.1111111111111111,
             "#482878"
            ],
            [
             0.2222222222222222,
             "#3e4989"
            ],
            [
             0.3333333333333333,
             "#31688e"
            ],
            [
             0.4444444444444444,
             "#26828e"
            ],
            [
             0.5555555555555556,
             "#1f9e89"
            ],
            [
             0.6666666666666666,
             "#35b779"
            ],
            [
             0.7777777777777778,
             "#6ece58"
            ],
            [
             0.8888888888888888,
             "#b5de2b"
            ],
            [
             1,
             "#fde725"
            ]
           ]
          },
          "colorway": [
           "#1F77B4",
           "#FF7F0E",
           "#2CA02C",
           "#D62728",
           "#9467BD",
           "#8C564B",
           "#E377C2",
           "#7F7F7F",
           "#BCBD22",
           "#17BECF"
          ],
          "font": {
           "color": "rgb(36,36,36)"
          },
          "geo": {
           "bgcolor": "white",
           "lakecolor": "white",
           "landcolor": "white",
           "showlakes": true,
           "showland": true,
           "subunitcolor": "white"
          },
          "hoverlabel": {
           "align": "left"
          },
          "hovermode": "closest",
          "mapbox": {
           "style": "light"
          },
          "paper_bgcolor": "white",
          "plot_bgcolor": "white",
          "polar": {
           "angularaxis": {
            "gridcolor": "rgb(232,232,232)",
            "linecolor": "rgb(36,36,36)",
            "showgrid": false,
            "showline": true,
            "ticks": "outside"
           },
           "bgcolor": "white",
           "radialaxis": {
            "gridcolor": "rgb(232,232,232)",
            "linecolor": "rgb(36,36,36)",
            "showgrid": false,
            "showline": true,
            "ticks": "outside"
           }
          },
          "scene": {
           "xaxis": {
            "backgroundcolor": "white",
            "gridcolor": "rgb(232,232,232)",
            "gridwidth": 2,
            "linecolor": "rgb(36,36,36)",
            "showbackground": true,
            "showgrid": false,
            "showline": true,
            "ticks": "outside",
            "zeroline": false,
            "zerolinecolor": "rgb(36,36,36)"
           },
           "yaxis": {
            "backgroundcolor": "white",
            "gridcolor": "rgb(232,232,232)",
            "gridwidth": 2,
            "linecolor": "rgb(36,36,36)",
            "showbackground": true,
            "showgrid": false,
            "showline": true,
            "ticks": "outside",
            "zeroline": false,
            "zerolinecolor": "rgb(36,36,36)"
           },
           "zaxis": {
            "backgroundcolor": "white",
            "gridcolor": "rgb(232,232,232)",
            "gridwidth": 2,
            "linecolor": "rgb(36,36,36)",
            "showbackground": true,
            "showgrid": false,
            "showline": true,
            "ticks": "outside",
            "zeroline": false,
            "zerolinecolor": "rgb(36,36,36)"
           }
          },
          "shapedefaults": {
           "fillcolor": "black",
           "line": {
            "width": 0
           },
           "opacity": 0.3
          },
          "ternary": {
           "aaxis": {
            "gridcolor": "rgb(232,232,232)",
            "linecolor": "rgb(36,36,36)",
            "showgrid": false,
            "showline": true,
            "ticks": "outside"
           },
           "baxis": {
            "gridcolor": "rgb(232,232,232)",
            "linecolor": "rgb(36,36,36)",
            "showgrid": false,
            "showline": true,
            "ticks": "outside"
           },
           "bgcolor": "white",
           "caxis": {
            "gridcolor": "rgb(232,232,232)",
            "linecolor": "rgb(36,36,36)",
            "showgrid": false,
            "showline": true,
            "ticks": "outside"
           }
          },
          "title": {
           "x": 0.05
          },
          "xaxis": {
           "automargin": true,
           "gridcolor": "rgb(232,232,232)",
           "linecolor": "rgb(36,36,36)",
           "showgrid": false,
           "showline": true,
           "ticks": "outside",
           "title": {
            "standoff": 15
           },
           "zeroline": false,
           "zerolinecolor": "rgb(36,36,36)"
          },
          "yaxis": {
           "automargin": true,
           "gridcolor": "rgb(232,232,232)",
           "linecolor": "rgb(36,36,36)",
           "showgrid": false,
           "showline": true,
           "ticks": "outside",
           "title": {
            "standoff": 15
           },
           "zeroline": false,
           "zerolinecolor": "rgb(36,36,36)"
          }
         }
        },
        "width": 800,
        "xaxis": {
         "anchor": "y",
         "domain": [
          0,
          0.18000000000000002
         ],
         "title": {
          "text": "time"
         }
        },
        "xaxis10": {
         "anchor": "y10",
         "domain": [
          0.8,
          0.9800000000000001
         ],
         "matches": "x",
         "showticklabels": false
        },
        "xaxis2": {
         "anchor": "y2",
         "domain": [
          0.2,
          0.38
         ],
         "matches": "x",
         "title": {
          "text": "time"
         }
        },
        "xaxis3": {
         "anchor": "y3",
         "domain": [
          0.4,
          0.5800000000000001
         ],
         "matches": "x",
         "title": {
          "text": "time"
         }
        },
        "xaxis4": {
         "anchor": "y4",
         "domain": [
          0.6000000000000001,
          0.7800000000000001
         ],
         "matches": "x",
         "title": {
          "text": "time"
         }
        },
        "xaxis5": {
         "anchor": "y5",
         "domain": [
          0.8,
          0.9800000000000001
         ],
         "matches": "x",
         "title": {
          "text": "time"
         }
        },
        "xaxis6": {
         "anchor": "y6",
         "domain": [
          0,
          0.18000000000000002
         ],
         "matches": "x",
         "showticklabels": false
        },
        "xaxis7": {
         "anchor": "y7",
         "domain": [
          0.2,
          0.38
         ],
         "matches": "x",
         "showticklabels": false
        },
        "xaxis8": {
         "anchor": "y8",
         "domain": [
          0.4,
          0.5800000000000001
         ],
         "matches": "x",
         "showticklabels": false
        },
        "xaxis9": {
         "anchor": "y9",
         "domain": [
          0.6000000000000001,
          0.7800000000000001
         ],
         "matches": "x",
         "showticklabels": false
        },
        "yaxis": {
         "anchor": "x",
         "domain": [
          0,
          0.485
         ],
         "title": {
          "text": "Ns_MinCutoff"
         },
         "type": "log"
        },
        "yaxis10": {
         "anchor": "x10",
         "domain": [
          0.515,
          1
         ],
         "matches": "y",
         "showticklabels": false,
         "type": "log"
        },
        "yaxis2": {
         "anchor": "x2",
         "domain": [
          0,
          0.485
         ],
         "matches": "y",
         "showticklabels": false,
         "type": "log"
        },
        "yaxis3": {
         "anchor": "x3",
         "domain": [
          0,
          0.485
         ],
         "matches": "y",
         "showticklabels": false,
         "type": "log"
        },
        "yaxis4": {
         "anchor": "x4",
         "domain": [
          0,
          0.485
         ],
         "matches": "y",
         "showticklabels": false,
         "type": "log"
        },
        "yaxis5": {
         "anchor": "x5",
         "domain": [
          0,
          0.485
         ],
         "matches": "y",
         "showticklabels": false,
         "type": "log"
        },
        "yaxis6": {
         "anchor": "x6",
         "domain": [
          0.515,
          1
         ],
         "matches": "y",
         "title": {
          "text": "Ns_MinCutoff"
         },
         "type": "log"
        },
        "yaxis7": {
         "anchor": "x7",
         "domain": [
          0.515,
          1
         ],
         "matches": "y",
         "showticklabels": false,
         "type": "log"
        },
        "yaxis8": {
         "anchor": "x8",
         "domain": [
          0.515,
          1
         ],
         "matches": "y",
         "showticklabels": false,
         "type": "log"
        },
        "yaxis9": {
         "anchor": "x9",
         "domain": [
          0.515,
          1
         ],
         "matches": "y",
         "showticklabels": false,
         "type": "log"
        }
       }
      }
     },
     "metadata": {},
     "output_type": "display_data"
    }
   ],
   "source": [
    "df_plot = df_results.copy().dropna(subset = 'cage_id')\n",
    "df_plot = df_plot.loc[(df_plot['sample_type_y'].str.contains('stool')) & (df_plot['strain'].str.contains(\"ST1|ST5|ST4\"))].copy()\n",
    "df_plot['time'] = df_plot['time_point_h'].apply(lambda x: str(x).split('h')[0]).astype(int)\n",
    "df_plot = df_plot.sort_values(['cage_id', 'time', 'strain'], ascending=True)\n",
    "\n",
    "fig = px.scatter(df_plot,\n",
    "                 x = 'time',\n",
    "                 y = 'Nb',\n",
    "                 color = 'strain',\n",
    "                 template = 'simple_white',\n",
    "                 color_discrete_map=strain_color_dict,\n",
    "                 facet_col = 'cage_id',\n",
    "                 facet_row = 'mouse_id',\n",
    "                 log_y = True,\n",
    "                 width = 800,\n",
    "                 height = 600\n",
    "                 )\n",
    "fig.write_image('P4C1T8-FP_timecourse_Nb.png', scale = 2)\n",
    "# Create a mean box with stadard deviation for negative controls and plot\n",
    "\n",
    "fig.show()\n",
    "fig = px.scatter(df_plot,\n",
    "                 x = 'time',\n",
    "                 y = 'Ns',\n",
    "                 color = 'strain',\n",
    "                 template = 'simple_white',\n",
    "                 color_discrete_map=strain_color_dict,\n",
    "                 facet_col = 'cage_id',\n",
    "                 facet_row = 'mouse_id',\n",
    "                 log_y = True,\n",
    "                 width = 800,\n",
    "                 height = 600\n",
    "                 )\n",
    "\n",
    "# Create a mean box with stadard deviation for negative controls and plot\n",
    "\n",
    "fig.show()\n",
    "fig = px.scatter(df_plot,\n",
    "                 x = 'time',\n",
    "                 y = 'Ns_MinCutoff',\n",
    "                 color = 'strain',\n",
    "                 template = 'simple_white',\n",
    "                 color_discrete_map=strain_color_dict,\n",
    "                 facet_col = 'cage_id',\n",
    "                 facet_row = 'mouse_id',\n",
    "                 log_y = True,\n",
    "                 width = 800,\n",
    "                 height = 600\n",
    "                 )\n",
    "\n",
    "# Create a mean box with stadard deviation for negative controls and plot\n",
    "\n",
    "fig.show()"
   ]
  },
  {
   "cell_type": "markdown",
   "id": "5a8f28d1",
   "metadata": {},
   "source": [
    "# Cage 1 as gavage"
   ]
  },
  {
   "cell_type": "code",
   "execution_count": 59,
   "id": "a9970cb3",
   "metadata": {},
   "outputs": [
    {
     "data": {
      "text/html": [
       "<div>\n",
       "<style scoped>\n",
       "    .dataframe tbody tr th:only-of-type {\n",
       "        vertical-align: middle;\n",
       "    }\n",
       "\n",
       "    .dataframe tbody tr th {\n",
       "        vertical-align: top;\n",
       "    }\n",
       "\n",
       "    .dataframe thead th {\n",
       "        text-align: right;\n",
       "    }\n",
       "</style>\n",
       "<table border=\"1\" class=\"dataframe\">\n",
       "  <thead>\n",
       "    <tr style=\"text-align: right;\">\n",
       "      <th></th>\n",
       "      <th>sample_name</th>\n",
       "      <th>TotalReads</th>\n",
       "      <th>Number of barcodes</th>\n",
       "      <th>Ns_MinCutoff</th>\n",
       "      <th>Nb</th>\n",
       "      <th>Ns</th>\n",
       "      <th>AverageFrequency</th>\n",
       "      <th>CFU</th>\n",
       "      <th>Log10Ns</th>\n",
       "      <th>Log10CFU</th>\n",
       "      <th>...</th>\n",
       "      <th>strains</th>\n",
       "      <th>tube_type</th>\n",
       "      <th>tube_weight_empty</th>\n",
       "      <th>tube_weight_full</th>\n",
       "      <th>stool_weight_mg</th>\n",
       "      <th>cfu_g_stool</th>\n",
       "      <th>dna_conc_ng_ul</th>\n",
       "      <th>cfu_incubation_time</th>\n",
       "      <th>cfu_g_stool_spec</th>\n",
       "      <th>cfu_g_stool_cmr</th>\n",
       "    </tr>\n",
       "  </thead>\n",
       "  <tbody>\n",
       "    <tr>\n",
       "      <th>0</th>\n",
       "      <td>s107_SI.DNA</td>\n",
       "      <td>272153976</td>\n",
       "      <td>30843</td>\n",
       "      <td>17237.666667</td>\n",
       "      <td>199275.123474</td>\n",
       "      <td>1.078987e+06</td>\n",
       "      <td>647358.137318</td>\n",
       "      <td>0</td>\n",
       "      <td>6.033016</td>\n",
       "      <td>-inf</td>\n",
       "      <td>...</td>\n",
       "      <td>E. coli|E.coli|B.uniformis</td>\n",
       "      <td>2ml_screwcap</td>\n",
       "      <td>1651.32</td>\n",
       "      <td>1674.9</td>\n",
       "      <td>23.58</td>\n",
       "      <td>NaN</td>\n",
       "      <td>0.74</td>\n",
       "      <td>NaN</td>\n",
       "      <td>NaN</td>\n",
       "      <td>NaN</td>\n",
       "    </tr>\n",
       "    <tr>\n",
       "      <th>1</th>\n",
       "      <td>s108_SI.DNA</td>\n",
       "      <td>13767059</td>\n",
       "      <td>33191</td>\n",
       "      <td>22541.000000</td>\n",
       "      <td>253160.424163</td>\n",
       "      <td>1.306909e+06</td>\n",
       "      <td>586216.751585</td>\n",
       "      <td>0</td>\n",
       "      <td>6.116245</td>\n",
       "      <td>-inf</td>\n",
       "      <td>...</td>\n",
       "      <td>E. coli|E.coli|B.uniformis</td>\n",
       "      <td>2ml_screwcap</td>\n",
       "      <td>1679.87</td>\n",
       "      <td>1701.5</td>\n",
       "      <td>21.63</td>\n",
       "      <td>NaN</td>\n",
       "      <td>12.88</td>\n",
       "      <td>NaN</td>\n",
       "      <td>NaN</td>\n",
       "      <td>NaN</td>\n",
       "    </tr>\n",
       "    <tr>\n",
       "      <th>2</th>\n",
       "      <td>s117_Cecum.DNA</td>\n",
       "      <td>916213852</td>\n",
       "      <td>38349</td>\n",
       "      <td>24037.000000</td>\n",
       "      <td>265666.399773</td>\n",
       "      <td>1.654711e+06</td>\n",
       "      <td>791628.592118</td>\n",
       "      <td>0</td>\n",
       "      <td>6.218722</td>\n",
       "      <td>-inf</td>\n",
       "      <td>...</td>\n",
       "      <td>E. coli|E.coli|B.uniformis</td>\n",
       "      <td>2ml_screwcap</td>\n",
       "      <td>1650.13</td>\n",
       "      <td>1684.7</td>\n",
       "      <td>34.57</td>\n",
       "      <td>NaN</td>\n",
       "      <td>57.78</td>\n",
       "      <td>NaN</td>\n",
       "      <td>NaN</td>\n",
       "      <td>NaN</td>\n",
       "    </tr>\n",
       "    <tr>\n",
       "      <th>3</th>\n",
       "      <td>s118_Cecum.DNA</td>\n",
       "      <td>443324713</td>\n",
       "      <td>35013</td>\n",
       "      <td>22186.000000</td>\n",
       "      <td>236899.873212</td>\n",
       "      <td>1.385529e+06</td>\n",
       "      <td>609438.905726</td>\n",
       "      <td>0</td>\n",
       "      <td>6.141616</td>\n",
       "      <td>-inf</td>\n",
       "      <td>...</td>\n",
       "      <td>E. coli|E.coli|B.uniformis</td>\n",
       "      <td>2ml_screwcap</td>\n",
       "      <td>1658.60</td>\n",
       "      <td>1747.3</td>\n",
       "      <td>88.70</td>\n",
       "      <td>NaN</td>\n",
       "      <td>50.31</td>\n",
       "      <td>NaN</td>\n",
       "      <td>NaN</td>\n",
       "      <td>NaN</td>\n",
       "    </tr>\n",
       "    <tr>\n",
       "      <th>4</th>\n",
       "      <td>s127_Pr..Colon.DNA</td>\n",
       "      <td>1079846256</td>\n",
       "      <td>38083</td>\n",
       "      <td>24681.000000</td>\n",
       "      <td>280752.369659</td>\n",
       "      <td>1.637511e+06</td>\n",
       "      <td>783783.101241</td>\n",
       "      <td>0</td>\n",
       "      <td>6.214184</td>\n",
       "      <td>-inf</td>\n",
       "      <td>...</td>\n",
       "      <td>E. coli|E.coli|B.uniformis</td>\n",
       "      <td>2ml_screwcap</td>\n",
       "      <td>1651.19</td>\n",
       "      <td>1670.4</td>\n",
       "      <td>19.21</td>\n",
       "      <td>NaN</td>\n",
       "      <td>22.12</td>\n",
       "      <td>NaN</td>\n",
       "      <td>NaN</td>\n",
       "      <td>NaN</td>\n",
       "    </tr>\n",
       "    <tr>\n",
       "      <th>...</th>\n",
       "      <td>...</td>\n",
       "      <td>...</td>\n",
       "      <td>...</td>\n",
       "      <td>...</td>\n",
       "      <td>...</td>\n",
       "      <td>...</td>\n",
       "      <td>...</td>\n",
       "      <td>...</td>\n",
       "      <td>...</td>\n",
       "      <td>...</td>\n",
       "      <td>...</td>\n",
       "      <td>...</td>\n",
       "      <td>...</td>\n",
       "      <td>...</td>\n",
       "      <td>...</td>\n",
       "      <td>...</td>\n",
       "      <td>...</td>\n",
       "      <td>...</td>\n",
       "      <td>...</td>\n",
       "      <td>...</td>\n",
       "      <td>...</td>\n",
       "    </tr>\n",
       "    <tr>\n",
       "      <th>240</th>\n",
       "      <td>NTC_H3_NTC</td>\n",
       "      <td>220639</td>\n",
       "      <td>8746</td>\n",
       "      <td>6295.117647</td>\n",
       "      <td>14.071176</td>\n",
       "      <td>1.003433e+04</td>\n",
       "      <td>36020.615573</td>\n",
       "      <td>0</td>\n",
       "      <td>4.001489</td>\n",
       "      <td>-inf</td>\n",
       "      <td>...</td>\n",
       "      <td>NaN</td>\n",
       "      <td>NaN</td>\n",
       "      <td>NaN</td>\n",
       "      <td>NaN</td>\n",
       "      <td>NaN</td>\n",
       "      <td>NaN</td>\n",
       "      <td>NaN</td>\n",
       "      <td>NaN</td>\n",
       "      <td>NaN</td>\n",
       "      <td>NaN</td>\n",
       "    </tr>\n",
       "    <tr>\n",
       "      <th>241</th>\n",
       "      <td>WATER_B3_WATER</td>\n",
       "      <td>14439</td>\n",
       "      <td>42</td>\n",
       "      <td>109.750000</td>\n",
       "      <td>10.150653</td>\n",
       "      <td>5.100000e+01</td>\n",
       "      <td>54.515747</td>\n",
       "      <td>0</td>\n",
       "      <td>1.707570</td>\n",
       "      <td>-inf</td>\n",
       "      <td>...</td>\n",
       "      <td>NaN</td>\n",
       "      <td>NaN</td>\n",
       "      <td>NaN</td>\n",
       "      <td>NaN</td>\n",
       "      <td>NaN</td>\n",
       "      <td>NaN</td>\n",
       "      <td>NaN</td>\n",
       "      <td>NaN</td>\n",
       "      <td>NaN</td>\n",
       "      <td>NaN</td>\n",
       "    </tr>\n",
       "    <tr>\n",
       "      <th>242</th>\n",
       "      <td>WATER_C6_WATER</td>\n",
       "      <td>134191</td>\n",
       "      <td>1231</td>\n",
       "      <td>801.000000</td>\n",
       "      <td>8.644377</td>\n",
       "      <td>1.322053e+03</td>\n",
       "      <td>5697.801405</td>\n",
       "      <td>0</td>\n",
       "      <td>3.121249</td>\n",
       "      <td>-inf</td>\n",
       "      <td>...</td>\n",
       "      <td>NaN</td>\n",
       "      <td>NaN</td>\n",
       "      <td>NaN</td>\n",
       "      <td>NaN</td>\n",
       "      <td>NaN</td>\n",
       "      <td>NaN</td>\n",
       "      <td>NaN</td>\n",
       "      <td>NaN</td>\n",
       "      <td>NaN</td>\n",
       "      <td>NaN</td>\n",
       "    </tr>\n",
       "    <tr>\n",
       "      <th>243</th>\n",
       "      <td>WATER_D2_WATER</td>\n",
       "      <td>250482</td>\n",
       "      <td>15145</td>\n",
       "      <td>4334.333333</td>\n",
       "      <td>19.385610</td>\n",
       "      <td>1.862814e+04</td>\n",
       "      <td>93435.803121</td>\n",
       "      <td>0</td>\n",
       "      <td>4.270170</td>\n",
       "      <td>-inf</td>\n",
       "      <td>...</td>\n",
       "      <td>NaN</td>\n",
       "      <td>NaN</td>\n",
       "      <td>NaN</td>\n",
       "      <td>NaN</td>\n",
       "      <td>NaN</td>\n",
       "      <td>NaN</td>\n",
       "      <td>NaN</td>\n",
       "      <td>NaN</td>\n",
       "      <td>NaN</td>\n",
       "      <td>NaN</td>\n",
       "    </tr>\n",
       "    <tr>\n",
       "      <th>244</th>\n",
       "      <td>WATER_F9_WATER</td>\n",
       "      <td>12648</td>\n",
       "      <td>79</td>\n",
       "      <td>48.058824</td>\n",
       "      <td>13.007781</td>\n",
       "      <td>9.511765e+01</td>\n",
       "      <td>382.563683</td>\n",
       "      <td>0</td>\n",
       "      <td>1.978261</td>\n",
       "      <td>-inf</td>\n",
       "      <td>...</td>\n",
       "      <td>NaN</td>\n",
       "      <td>NaN</td>\n",
       "      <td>NaN</td>\n",
       "      <td>NaN</td>\n",
       "      <td>NaN</td>\n",
       "      <td>NaN</td>\n",
       "      <td>NaN</td>\n",
       "      <td>NaN</td>\n",
       "      <td>NaN</td>\n",
       "      <td>NaN</td>\n",
       "    </tr>\n",
       "  </tbody>\n",
       "</table>\n",
       "<p>245 rows × 35 columns</p>\n",
       "</div>"
      ],
      "text/plain": [
       "            sample_name  TotalReads  Number of barcodes  Ns_MinCutoff  \\\n",
       "0           s107_SI.DNA   272153976               30843  17237.666667   \n",
       "1           s108_SI.DNA    13767059               33191  22541.000000   \n",
       "2        s117_Cecum.DNA   916213852               38349  24037.000000   \n",
       "3        s118_Cecum.DNA   443324713               35013  22186.000000   \n",
       "4    s127_Pr..Colon.DNA  1079846256               38083  24681.000000   \n",
       "..                  ...         ...                 ...           ...   \n",
       "240          NTC_H3_NTC      220639                8746   6295.117647   \n",
       "241      WATER_B3_WATER       14439                  42    109.750000   \n",
       "242      WATER_C6_WATER      134191                1231    801.000000   \n",
       "243      WATER_D2_WATER      250482               15145   4334.333333   \n",
       "244      WATER_F9_WATER       12648                  79     48.058824   \n",
       "\n",
       "                Nb            Ns  AverageFrequency  CFU   Log10Ns  Log10CFU  \\\n",
       "0    199275.123474  1.078987e+06     647358.137318    0  6.033016      -inf   \n",
       "1    253160.424163  1.306909e+06     586216.751585    0  6.116245      -inf   \n",
       "2    265666.399773  1.654711e+06     791628.592118    0  6.218722      -inf   \n",
       "3    236899.873212  1.385529e+06     609438.905726    0  6.141616      -inf   \n",
       "4    280752.369659  1.637511e+06     783783.101241    0  6.214184      -inf   \n",
       "..             ...           ...               ...  ...       ...       ...   \n",
       "240      14.071176  1.003433e+04      36020.615573    0  4.001489      -inf   \n",
       "241      10.150653  5.100000e+01         54.515747    0  1.707570      -inf   \n",
       "242       8.644377  1.322053e+03       5697.801405    0  3.121249      -inf   \n",
       "243      19.385610  1.862814e+04      93435.803121    0  4.270170      -inf   \n",
       "244      13.007781  9.511765e+01        382.563683    0  1.978261      -inf   \n",
       "\n",
       "     ...                     strains     tube_type tube_weight_empty  \\\n",
       "0    ...  E. coli|E.coli|B.uniformis  2ml_screwcap           1651.32   \n",
       "1    ...  E. coli|E.coli|B.uniformis  2ml_screwcap           1679.87   \n",
       "2    ...  E. coli|E.coli|B.uniformis  2ml_screwcap           1650.13   \n",
       "3    ...  E. coli|E.coli|B.uniformis  2ml_screwcap           1658.60   \n",
       "4    ...  E. coli|E.coli|B.uniformis  2ml_screwcap           1651.19   \n",
       "..   ...                         ...           ...               ...   \n",
       "240  ...                         NaN           NaN               NaN   \n",
       "241  ...                         NaN           NaN               NaN   \n",
       "242  ...                         NaN           NaN               NaN   \n",
       "243  ...                         NaN           NaN               NaN   \n",
       "244  ...                         NaN           NaN               NaN   \n",
       "\n",
       "    tube_weight_full stool_weight_mg cfu_g_stool dna_conc_ng_ul  \\\n",
       "0             1674.9           23.58         NaN           0.74   \n",
       "1             1701.5           21.63         NaN          12.88   \n",
       "2             1684.7           34.57         NaN          57.78   \n",
       "3             1747.3           88.70         NaN          50.31   \n",
       "4             1670.4           19.21         NaN          22.12   \n",
       "..               ...             ...         ...            ...   \n",
       "240              NaN             NaN         NaN            NaN   \n",
       "241              NaN             NaN         NaN            NaN   \n",
       "242              NaN             NaN         NaN            NaN   \n",
       "243              NaN             NaN         NaN            NaN   \n",
       "244              NaN             NaN         NaN            NaN   \n",
       "\n",
       "    cfu_incubation_time  cfu_g_stool_spec cfu_g_stool_cmr  \n",
       "0                   NaN               NaN             NaN  \n",
       "1                   NaN               NaN             NaN  \n",
       "2                   NaN               NaN             NaN  \n",
       "3                   NaN               NaN             NaN  \n",
       "4                   NaN               NaN             NaN  \n",
       "..                  ...               ...             ...  \n",
       "240                 NaN               NaN             NaN  \n",
       "241                 NaN               NaN             NaN  \n",
       "242                 NaN               NaN             NaN  \n",
       "243                 NaN               NaN             NaN  \n",
       "244                 NaN               NaN             NaN  \n",
       "\n",
       "[245 rows x 35 columns]"
      ]
     },
     "execution_count": 59,
     "metadata": {},
     "output_type": "execute_result"
    }
   ],
   "source": [
    "df_FP = read_FP_tables('/Volumes/sd/faith/MTCSB/projects/P4-barcoding_strains/20241029_analysis/rerun/P4C1T8/c1gavageFP')\n",
    "df_FP['cage'] = df_FP['folder'].apply(lambda x: str(x).split(\"_\")[0])\n",
    "df_FP['strain'] = df_FP['folder'].apply(lambda x: str(x).split(\"_\")[1])\n",
    "df_FP = df_FP.rename(columns = {'Unnamed: 0': 'sample_name'})\n",
    "df_FP['sample_id'] = df_FP['sample_name'].apply(lambda x: str(x).split(\"_\")[0])\n",
    "df_FP['sample_type'] = df_FP['sample_id'].apply(lambda x: 'sample' if 's' in str(x) else x)\n",
    "df_FP\n",
    "\n",
    "df_meta = pd.read_csv('/Users/ruprec01/Documents/Faith_lab/Git/population_bottlenecks/input_files/metadata/P4C1T8-sample_sheets - P4C1T8.tsv', sep = \"\\t\")\n",
    "df_results = pd.merge(df_FP, df_meta, on = 'sample_id', how = 'left')\n",
    "df_results"
   ]
  },
  {
   "cell_type": "code",
   "execution_count": 60,
   "id": "b329ec4f",
   "metadata": {},
   "outputs": [
    {
     "data": {
      "text/html": [
       "<div>\n",
       "<style scoped>\n",
       "    .dataframe tbody tr th:only-of-type {\n",
       "        vertical-align: middle;\n",
       "    }\n",
       "\n",
       "    .dataframe tbody tr th {\n",
       "        vertical-align: top;\n",
       "    }\n",
       "\n",
       "    .dataframe thead th {\n",
       "        text-align: right;\n",
       "    }\n",
       "</style>\n",
       "<table border=\"1\" class=\"dataframe\">\n",
       "  <thead>\n",
       "    <tr style=\"text-align: right;\">\n",
       "      <th></th>\n",
       "      <th>cage</th>\n",
       "      <th>strain</th>\n",
       "      <th>sample_id</th>\n",
       "      <th>sample_type</th>\n",
       "      <th>type</th>\n",
       "      <th>value</th>\n",
       "    </tr>\n",
       "  </thead>\n",
       "  <tbody>\n",
       "    <tr>\n",
       "      <th>0</th>\n",
       "      <td>c5</td>\n",
       "      <td>ST4</td>\n",
       "      <td>s107</td>\n",
       "      <td>sample</td>\n",
       "      <td>Nb</td>\n",
       "      <td>1.992751e+05</td>\n",
       "    </tr>\n",
       "    <tr>\n",
       "      <th>1</th>\n",
       "      <td>c5</td>\n",
       "      <td>ST4</td>\n",
       "      <td>s107</td>\n",
       "      <td>sample</td>\n",
       "      <td>Ns</td>\n",
       "      <td>1.078987e+06</td>\n",
       "    </tr>\n",
       "    <tr>\n",
       "      <th>2</th>\n",
       "      <td>c5</td>\n",
       "      <td>ST4</td>\n",
       "      <td>s107</td>\n",
       "      <td>sample</td>\n",
       "      <td>Ns_MinCutoff</td>\n",
       "      <td>1.723767e+04</td>\n",
       "    </tr>\n",
       "    <tr>\n",
       "      <th>3</th>\n",
       "      <td>c5</td>\n",
       "      <td>ST4</td>\n",
       "      <td>s108</td>\n",
       "      <td>sample</td>\n",
       "      <td>Nb</td>\n",
       "      <td>2.531604e+05</td>\n",
       "    </tr>\n",
       "    <tr>\n",
       "      <th>4</th>\n",
       "      <td>c5</td>\n",
       "      <td>ST4</td>\n",
       "      <td>s108</td>\n",
       "      <td>sample</td>\n",
       "      <td>Ns</td>\n",
       "      <td>1.306909e+06</td>\n",
       "    </tr>\n",
       "    <tr>\n",
       "      <th>...</th>\n",
       "      <td>...</td>\n",
       "      <td>...</td>\n",
       "      <td>...</td>\n",
       "      <td>...</td>\n",
       "      <td>...</td>\n",
       "      <td>...</td>\n",
       "    </tr>\n",
       "    <tr>\n",
       "      <th>730</th>\n",
       "      <td>c1</td>\n",
       "      <td>ST1</td>\n",
       "      <td>WATER</td>\n",
       "      <td>WATER</td>\n",
       "      <td>Ns</td>\n",
       "      <td>1.862814e+04</td>\n",
       "    </tr>\n",
       "    <tr>\n",
       "      <th>731</th>\n",
       "      <td>c1</td>\n",
       "      <td>ST1</td>\n",
       "      <td>WATER</td>\n",
       "      <td>WATER</td>\n",
       "      <td>Ns_MinCutoff</td>\n",
       "      <td>4.334333e+03</td>\n",
       "    </tr>\n",
       "    <tr>\n",
       "      <th>732</th>\n",
       "      <td>c1</td>\n",
       "      <td>ST1</td>\n",
       "      <td>WATER</td>\n",
       "      <td>WATER</td>\n",
       "      <td>Nb</td>\n",
       "      <td>1.300778e+01</td>\n",
       "    </tr>\n",
       "    <tr>\n",
       "      <th>733</th>\n",
       "      <td>c1</td>\n",
       "      <td>ST1</td>\n",
       "      <td>WATER</td>\n",
       "      <td>WATER</td>\n",
       "      <td>Ns</td>\n",
       "      <td>9.511765e+01</td>\n",
       "    </tr>\n",
       "    <tr>\n",
       "      <th>734</th>\n",
       "      <td>c1</td>\n",
       "      <td>ST1</td>\n",
       "      <td>WATER</td>\n",
       "      <td>WATER</td>\n",
       "      <td>Ns_MinCutoff</td>\n",
       "      <td>4.805882e+01</td>\n",
       "    </tr>\n",
       "  </tbody>\n",
       "</table>\n",
       "<p>735 rows × 6 columns</p>\n",
       "</div>"
      ],
      "text/plain": [
       "    cage strain sample_id sample_type          type         value\n",
       "0     c5    ST4      s107      sample            Nb  1.992751e+05\n",
       "1     c5    ST4      s107      sample            Ns  1.078987e+06\n",
       "2     c5    ST4      s107      sample  Ns_MinCutoff  1.723767e+04\n",
       "3     c5    ST4      s108      sample            Nb  2.531604e+05\n",
       "4     c5    ST4      s108      sample            Ns  1.306909e+06\n",
       "..   ...    ...       ...         ...           ...           ...\n",
       "730   c1    ST1     WATER       WATER            Ns  1.862814e+04\n",
       "731   c1    ST1     WATER       WATER  Ns_MinCutoff  4.334333e+03\n",
       "732   c1    ST1     WATER       WATER            Nb  1.300778e+01\n",
       "733   c1    ST1     WATER       WATER            Ns  9.511765e+01\n",
       "734   c1    ST1     WATER       WATER  Ns_MinCutoff  4.805882e+01\n",
       "\n",
       "[735 rows x 6 columns]"
      ]
     },
     "metadata": {},
     "output_type": "display_data"
    },
    {
     "data": {
      "application/vnd.plotly.v1+json": {
       "config": {
        "plotlyServerURL": "https://plotly.com"
       },
       "data": [
        {
         "alignmentgroup": "True",
         "boxpoints": "all",
         "hovertemplate": "type=Nb<br>sample_type=%{x}<br>value=%{y}<extra></extra>",
         "legendgroup": "Nb",
         "marker": {
          "color": "#1F77B4"
         },
         "name": "Nb",
         "notched": false,
         "offsetgroup": "Nb",
         "orientation": "v",
         "showlegend": true,
         "type": "box",
         "x": [
          "sample",
          "sample",
          "sample",
          "sample",
          "sample",
          "sample",
          "sample",
          "sample",
          "sample",
          "sample",
          "sample",
          "sample",
          "sample",
          "sample",
          "NTC",
          "WATER",
          "WATER",
          "WATER",
          "sample",
          "sample",
          "sample",
          "sample",
          "sample",
          "sample",
          "sample",
          "sample",
          "sample",
          "sample",
          "sample",
          "sample",
          "sample",
          "sample",
          "NTC",
          "WATER",
          "WATER",
          "WATER",
          "sample",
          "sample",
          "sample",
          "sample",
          "sample",
          "sample",
          "sample",
          "sample",
          "sample",
          "sample",
          "sample",
          "sample",
          "sample",
          "sample",
          "NTC",
          "WATER",
          "WATER",
          "WATER",
          "WATER",
          "sample",
          "sample",
          "sample",
          "sample",
          "sample",
          "sample",
          "sample",
          "sample",
          "sample",
          "sample",
          "sample",
          "sample",
          "sample",
          "sample",
          "NTC",
          "WATER",
          "WATER",
          "WATER",
          "WATER",
          "sample",
          "sample",
          "sample",
          "sample",
          "sample",
          "sample",
          "sample",
          "sample",
          "sample",
          "sample",
          "sample",
          "sample",
          "sample",
          "sample",
          "NTC",
          "WATER",
          "WATER",
          "WATER",
          "WATER",
          "sample",
          "sample",
          "sample",
          "sample",
          "sample",
          "sample",
          "sample",
          "sample",
          "sample",
          "sample",
          "sample",
          "sample",
          "sample",
          "sample",
          "NTC",
          "WATER",
          "WATER",
          "WATER",
          "WATER",
          "sample",
          "sample",
          "sample",
          "sample",
          "sample",
          "sample",
          "sample",
          "sample",
          "sample",
          "sample",
          "sample",
          "sample",
          "sample",
          "sample",
          "NTC",
          "WATER",
          "WATER",
          "WATER",
          "WATER",
          "sample",
          "sample",
          "sample",
          "sample",
          "sample",
          "sample",
          "sample",
          "sample",
          "sample",
          "sample",
          "sample",
          "sample",
          "sample",
          "sample",
          "NTC",
          "WATER",
          "WATER",
          "WATER",
          "WATER",
          "sample",
          "sample",
          "sample",
          "sample",
          "sample",
          "sample",
          "sample",
          "sample",
          "sample",
          "sample",
          "sample",
          "sample",
          "sample",
          "sample",
          "NTC",
          "WATER",
          "WATER",
          "WATER",
          "WATER",
          "sample",
          "sample",
          "sample",
          "sample",
          "sample",
          "sample",
          "sample",
          "sample",
          "sample",
          "sample",
          "sample",
          "sample",
          "sample",
          "sample",
          "NTC",
          "WATER",
          "WATER",
          "WATER",
          "WATER",
          "sample",
          "sample",
          "sample",
          "sample",
          "sample",
          "sample",
          "sample",
          "sample",
          "sample",
          "sample",
          "sample",
          "sample",
          "sample",
          "sample",
          "NTC",
          "WATER",
          "WATER",
          "WATER",
          "WATER",
          "sample",
          "sample",
          "sample",
          "sample",
          "sample",
          "sample",
          "sample",
          "sample",
          "sample",
          "sample",
          "sample",
          "sample",
          "sample",
          "sample",
          "NTC",
          "WATER",
          "WATER",
          "WATER",
          "WATER",
          "sample",
          "sample",
          "sample",
          "sample",
          "sample",
          "sample",
          "sample",
          "sample",
          "sample",
          "sample",
          "sample",
          "sample",
          "sample",
          "sample",
          "NTC",
          "WATER",
          "WATER",
          "WATER",
          "WATER"
         ],
         "x0": " ",
         "xaxis": "x",
         "y": {
          "bdata": "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",
          "dtype": "f8"
         },
         "y0": " ",
         "yaxis": "y"
        },
        {
         "alignmentgroup": "True",
         "boxpoints": "all",
         "hovertemplate": "type=Ns<br>sample_type=%{x}<br>value=%{y}<extra></extra>",
         "legendgroup": "Ns",
         "marker": {
          "color": "#FF7F0E"
         },
         "name": "Ns",
         "notched": false,
         "offsetgroup": "Ns",
         "orientation": "v",
         "showlegend": true,
         "type": "box",
         "x": [
          "sample",
          "sample",
          "sample",
          "sample",
          "sample",
          "sample",
          "sample",
          "sample",
          "sample",
          "sample",
          "sample",
          "sample",
          "sample",
          "sample",
          "NTC",
          "WATER",
          "WATER",
          "WATER",
          "sample",
          "sample",
          "sample",
          "sample",
          "sample",
          "sample",
          "sample",
          "sample",
          "sample",
          "sample",
          "sample",
          "sample",
          "sample",
          "sample",
          "NTC",
          "WATER",
          "WATER",
          "WATER",
          "sample",
          "sample",
          "sample",
          "sample",
          "sample",
          "sample",
          "sample",
          "sample",
          "sample",
          "sample",
          "sample",
          "sample",
          "sample",
          "sample",
          "NTC",
          "WATER",
          "WATER",
          "WATER",
          "WATER",
          "sample",
          "sample",
          "sample",
          "sample",
          "sample",
          "sample",
          "sample",
          "sample",
          "sample",
          "sample",
          "sample",
          "sample",
          "sample",
          "sample",
          "NTC",
          "WATER",
          "WATER",
          "WATER",
          "WATER",
          "sample",
          "sample",
          "sample",
          "sample",
          "sample",
          "sample",
          "sample",
          "sample",
          "sample",
          "sample",
          "sample",
          "sample",
          "sample",
          "sample",
          "NTC",
          "WATER",
          "WATER",
          "WATER",
          "WATER",
          "sample",
          "sample",
          "sample",
          "sample",
          "sample",
          "sample",
          "sample",
          "sample",
          "sample",
          "sample",
          "sample",
          "sample",
          "sample",
          "sample",
          "NTC",
          "WATER",
          "WATER",
          "WATER",
          "WATER",
          "sample",
          "sample",
          "sample",
          "sample",
          "sample",
          "sample",
          "sample",
          "sample",
          "sample",
          "sample",
          "sample",
          "sample",
          "sample",
          "sample",
          "NTC",
          "WATER",
          "WATER",
          "WATER",
          "WATER",
          "sample",
          "sample",
          "sample",
          "sample",
          "sample",
          "sample",
          "sample",
          "sample",
          "sample",
          "sample",
          "sample",
          "sample",
          "sample",
          "sample",
          "NTC",
          "WATER",
          "WATER",
          "WATER",
          "WATER",
          "sample",
          "sample",
          "sample",
          "sample",
          "sample",
          "sample",
          "sample",
          "sample",
          "sample",
          "sample",
          "sample",
          "sample",
          "sample",
          "sample",
          "NTC",
          "WATER",
          "WATER",
          "WATER",
          "WATER",
          "sample",
          "sample",
          "sample",
          "sample",
          "sample",
          "sample",
          "sample",
          "sample",
          "sample",
          "sample",
          "sample",
          "sample",
          "sample",
          "sample",
          "NTC",
          "WATER",
          "WATER",
          "WATER",
          "WATER",
          "sample",
          "sample",
          "sample",
          "sample",
          "sample",
          "sample",
          "sample",
          "sample",
          "sample",
          "sample",
          "sample",
          "sample",
          "sample",
          "sample",
          "NTC",
          "WATER",
          "WATER",
          "WATER",
          "WATER",
          "sample",
          "sample",
          "sample",
          "sample",
          "sample",
          "sample",
          "sample",
          "sample",
          "sample",
          "sample",
          "sample",
          "sample",
          "sample",
          "sample",
          "NTC",
          "WATER",
          "WATER",
          "WATER",
          "WATER",
          "sample",
          "sample",
          "sample",
          "sample",
          "sample",
          "sample",
          "sample",
          "sample",
          "sample",
          "sample",
          "sample",
          "sample",
          "sample",
          "sample",
          "NTC",
          "WATER",
          "WATER",
          "WATER",
          "WATER"
         ],
         "x0": " ",
         "xaxis": "x",
         "y": {
          "bdata": "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",
          "dtype": "f8"
         },
         "y0": " ",
         "yaxis": "y"
        },
        {
         "alignmentgroup": "True",
         "boxpoints": "all",
         "hovertemplate": "type=Ns_MinCutoff<br>sample_type=%{x}<br>value=%{y}<extra></extra>",
         "legendgroup": "Ns_MinCutoff",
         "marker": {
          "color": "#2CA02C"
         },
         "name": "Ns_MinCutoff",
         "notched": false,
         "offsetgroup": "Ns_MinCutoff",
         "orientation": "v",
         "showlegend": true,
         "type": "box",
         "x": [
          "sample",
          "sample",
          "sample",
          "sample",
          "sample",
          "sample",
          "sample",
          "sample",
          "sample",
          "sample",
          "sample",
          "sample",
          "sample",
          "sample",
          "NTC",
          "WATER",
          "WATER",
          "WATER",
          "sample",
          "sample",
          "sample",
          "sample",
          "sample",
          "sample",
          "sample",
          "sample",
          "sample",
          "sample",
          "sample",
          "sample",
          "sample",
          "sample",
          "NTC",
          "WATER",
          "WATER",
          "WATER",
          "sample",
          "sample",
          "sample",
          "sample",
          "sample",
          "sample",
          "sample",
          "sample",
          "sample",
          "sample",
          "sample",
          "sample",
          "sample",
          "sample",
          "NTC",
          "WATER",
          "WATER",
          "WATER",
          "WATER",
          "sample",
          "sample",
          "sample",
          "sample",
          "sample",
          "sample",
          "sample",
          "sample",
          "sample",
          "sample",
          "sample",
          "sample",
          "sample",
          "sample",
          "NTC",
          "WATER",
          "WATER",
          "WATER",
          "WATER",
          "sample",
          "sample",
          "sample",
          "sample",
          "sample",
          "sample",
          "sample",
          "sample",
          "sample",
          "sample",
          "sample",
          "sample",
          "sample",
          "sample",
          "NTC",
          "WATER",
          "WATER",
          "WATER",
          "WATER",
          "sample",
          "sample",
          "sample",
          "sample",
          "sample",
          "sample",
          "sample",
          "sample",
          "sample",
          "sample",
          "sample",
          "sample",
          "sample",
          "sample",
          "NTC",
          "WATER",
          "WATER",
          "WATER",
          "WATER",
          "sample",
          "sample",
          "sample",
          "sample",
          "sample",
          "sample",
          "sample",
          "sample",
          "sample",
          "sample",
          "sample",
          "sample",
          "sample",
          "sample",
          "NTC",
          "WATER",
          "WATER",
          "WATER",
          "WATER",
          "sample",
          "sample",
          "sample",
          "sample",
          "sample",
          "sample",
          "sample",
          "sample",
          "sample",
          "sample",
          "sample",
          "sample",
          "sample",
          "sample",
          "NTC",
          "WATER",
          "WATER",
          "WATER",
          "WATER",
          "sample",
          "sample",
          "sample",
          "sample",
          "sample",
          "sample",
          "sample",
          "sample",
          "sample",
          "sample",
          "sample",
          "sample",
          "sample",
          "sample",
          "NTC",
          "WATER",
          "WATER",
          "WATER",
          "WATER",
          "sample",
          "sample",
          "sample",
          "sample",
          "sample",
          "sample",
          "sample",
          "sample",
          "sample",
          "sample",
          "sample",
          "sample",
          "sample",
          "sample",
          "NTC",
          "WATER",
          "WATER",
          "WATER",
          "WATER",
          "sample",
          "sample",
          "sample",
          "sample",
          "sample",
          "sample",
          "sample",
          "sample",
          "sample",
          "sample",
          "sample",
          "sample",
          "sample",
          "sample",
          "NTC",
          "WATER",
          "WATER",
          "WATER",
          "WATER",
          "sample",
          "sample",
          "sample",
          "sample",
          "sample",
          "sample",
          "sample",
          "sample",
          "sample",
          "sample",
          "sample",
          "sample",
          "sample",
          "sample",
          "NTC",
          "WATER",
          "WATER",
          "WATER",
          "WATER",
          "sample",
          "sample",
          "sample",
          "sample",
          "sample",
          "sample",
          "sample",
          "sample",
          "sample",
          "sample",
          "sample",
          "sample",
          "sample",
          "sample",
          "NTC",
          "WATER",
          "WATER",
          "WATER",
          "WATER"
         ],
         "x0": " ",
         "xaxis": "x",
         "y": {
          "bdata": "tKqqqmrV0EAAAAAAQAPWQAAAAABAeddAAAAAAICq1UAAAAAAQBrYQAAAAABAntRAAAAAAADko0AAAAAAwLvDQLSqqqrqt9xATFVVVZVx2UAAAAAAgHLbQAAAAADAJthAAAAAAAAi2UAAAAAAwNjVQPc4juM4WpBAcRzHcRyHVEBxHMdxHAdSQExLS0tLi1RAy4byGsqLYkB+KK+hvMZeQLmqqqqqDpBAWFVVVVUNgkA1juM4jkNpQKiqqqqqUoNAXUN5DeX9gUBJsRM7sVeTQF1VVVVVj6JAAAAAAADApEBJsRM7sXeRQPbETuzEopZAuaqqqqoumED2xE7sxIKYQAAAAAAAEoRAhfIaymsoOEAAAAAAAMBQQAAAAAAAAEFAAAAAAADAUUAAAAAAANByQK/YiZ3YiSdALDw8PDw8LkAAAAAAAKiEQLSqqqqqqjFAbRzHcRzHCUAAAAAAAADwP6e8hvIadKJA8DiO4ziOMEB4HMdxHMc8QK6qqqqqqh5AAAAAAACYgECfqqqqqkpvQAAAAAAA0HxATFVVVVVVMkAAAAAAACiMQAAAAAAAACZArqqqqqqqHkAAAAAAAIBOQMtxHMdxTHhAAAAAAACUn0AAAAAAAMGyQMFrKK+hXGtAAAAAAIDKukChvIbyGgpQQAAAAAAAADVAAAAAAID3wkCP4ziO43hRQAAAAABABLxAAAAAAEDOukAAAAAAALSrQAAAAADA0rhAAAAAAABAVEDEcRzHcdxSQKG8hvIaClBAAAAAAEBV2kAAAAAAAIA3QIzyGspryGRATV5DeQ1lQkAAAAAAAAAmQHIcx3EcxyNAAAAAAAAAJkByHMdxHMcjQOE4juM4iKxAxHEcx3GcSkAAAAAAAAAmQHIcx3EcxyNAAAAAAAAAJkByHMdxHMcjQAAAAAAAACZAchzHcRzHI0ANDw8PD5C4QL6lpaWl5VtAfQ3lNZR/i0A/PDw8PP2wQIyHh4eHB0hAeBzHcRxHQkAAAAAAAADwPwAAAAAAwDNAPxdddNHFQUBSVVVVVVURQIjjOI7jODdAzEUXXXTRGUAAAAAAAADwP44N5TWU25BANEmSJElyYUAAAAAAAIBHQAAAAAAAgEhAWI7jOI4jXUAAAAAAADBoQAAAAAAA0HxALUmSJEmSM0AAAAAAACiMQAAAAAAAACZArqqqqqqqHkCBh4eHh9miQB7HcRzH8U1AAAAAAED7tUAex3Ecx/FNQAAAAACAl7FAHsdxHMfxTUCMh4eHhwdIQKKlpaWlJUxAP5TXUF7nmUCQ11BeQ/lNQKalpaWlmrNALq+hvIZyTUAAAAAAAPagQB7HcRzH8U1AtLS0tLT0U0BTVVVVVZVSQAAAAAAAMHJAAAAAAEBz2kAAAAAAAIA3QG0or6G8roJAZkN5DeVFfUAnr6G8hjqOQBDlNZTX+IpA6TWU11BGjUAAAAAAAGiIQMKqqqqq6lpA6uHh4eHhOkA2lNdQXkuOQHQN5TWUd2NAEOU1lNcYjkA/lNdQXuNhQPAaymso941As6G8hvJCjkCztLS0tI24QKKlpaWlJUxAcCivobwGT0B0eHh4ePGwQCQeHh4enkhAzMPDw8MtokAAAAAAAKBhQKmqqqoq0cBAV1VVVdURwECztLS0tPGzQJ9t27bt+sVAHsdxHMcxUUBYVVVVVe2DQJiqqqoqT8VAM7ETOzGQzUAAAAAAAKiOQGhVVVVVqMxAUlVVVVUOvECYqqqqKoHMQAAAAAAAQFRA4jiO4zhOUkDEcRzHcVxQQAAAAADAStpACw8PDw+PS0BxHMdxHHC0QMRxHMdxnEBAAAAAAIBW3kA1juM4jgNoQDBJkiQJCtZAAAAAAOAFyECRvIbyGi6UQAAAAACgs8hATFVVVZWu1kCuqqqqqtOwQDBJkiSJIdVAAAAAAIBjz0C7bdu2LdTRQB/HcRzHv6xAwcPDw8OUuEAAAAAAAMBKQCevobyGmohAGh4eHh4DsUD18PDw8HBHQF1VVVVVVQ1AtKqqqqqqO0AAAAAAAAA1QAAAAAAAAPA/AAAAAAAgbkBaVVVVVVVAQHIcx3EcxyNAb0N5DeWJnUCzobyG8oKKQMRxHMdxHDZA3OHh4eFhQECFh4eHhydlQJbjOI7j+F1AFjuxEzuxPEAAAAAAANB8QC1JkiRJkjNAAAAAAAAojEAAAAAAAAAmQK6qqqqqqh5AAAAAAABapkAAAAAAAKu0QD5VVVXl6ftAAAAAAMCauUAzjuM4Lt3hQDQ8PDw8RqRAFUmSJMktyEC1bdu27RfCQExVVVWVL99APzw8PDyhskAVXXTRhRraQAAAAAAAwbVAraqqqtpN9kCoqqqqqvKBQAAAAAAAQFRAU1VVVVWVUkBDeQ3lNdRQQAAAAADAZNpACw8PDw+PS0CzobyG8up5QAAAAAAYvgNBAAAAAOAVzEB8HMdxHCmrQOE4juM4KbFAAAAAAGAY6UDCcRzHcWquQD5VVVUlZ/1As7S0tLShuEAjSZIkWd33QK6qqqqqBbZAAAAAAFCp/0BMVVVVlSrSQA0PDw8P6L9AGh4eHh6XuEAAAAAAAHBbQAAAAAAACIlAUlVVVVXusECMh4eHhwdIQA==",
          "dtype": "f8"
         },
         "y0": " ",
         "yaxis": "y"
        }
       ],
       "layout": {
        "boxmode": "group",
        "height": 400,
        "legend": {
         "title": {
          "text": "type"
         },
         "tracegroupgap": 0
        },
        "margin": {
         "t": 60
        },
        "template": {
         "data": {
          "bar": [
           {
            "error_x": {
             "color": "rgb(36,36,36)"
            },
            "error_y": {
             "color": "rgb(36,36,36)"
            },
            "marker": {
             "line": {
              "color": "white",
              "width": 0.5
             },
             "pattern": {
              "fillmode": "overlay",
              "size": 10,
              "solidity": 0.2
             }
            },
            "type": "bar"
           }
          ],
          "barpolar": [
           {
            "marker": {
             "line": {
              "color": "white",
              "width": 0.5
             },
             "pattern": {
              "fillmode": "overlay",
              "size": 10,
              "solidity": 0.2
             }
            },
            "type": "barpolar"
           }
          ],
          "carpet": [
           {
            "aaxis": {
             "endlinecolor": "rgb(36,36,36)",
             "gridcolor": "white",
             "linecolor": "white",
             "minorgridcolor": "white",
             "startlinecolor": "rgb(36,36,36)"
            },
            "baxis": {
             "endlinecolor": "rgb(36,36,36)",
             "gridcolor": "white",
             "linecolor": "white",
             "minorgridcolor": "white",
             "startlinecolor": "rgb(36,36,36)"
            },
            "type": "carpet"
           }
          ],
          "choropleth": [
           {
            "colorbar": {
             "outlinewidth": 1,
             "tickcolor": "rgb(36,36,36)",
             "ticks": "outside"
            },
            "type": "choropleth"
           }
          ],
          "contour": [
           {
            "colorbar": {
             "outlinewidth": 1,
             "tickcolor": "rgb(36,36,36)",
             "ticks": "outside"
            },
            "colorscale": [
             [
              0,
              "#440154"
             ],
             [
              0.1111111111111111,
              "#482878"
             ],
             [
              0.2222222222222222,
              "#3e4989"
             ],
             [
              0.3333333333333333,
              "#31688e"
             ],
             [
              0.4444444444444444,
              "#26828e"
             ],
             [
              0.5555555555555556,
              "#1f9e89"
             ],
             [
              0.6666666666666666,
              "#35b779"
             ],
             [
              0.7777777777777778,
              "#6ece58"
             ],
             [
              0.8888888888888888,
              "#b5de2b"
             ],
             [
              1,
              "#fde725"
             ]
            ],
            "type": "contour"
           }
          ],
          "contourcarpet": [
           {
            "colorbar": {
             "outlinewidth": 1,
             "tickcolor": "rgb(36,36,36)",
             "ticks": "outside"
            },
            "type": "contourcarpet"
           }
          ],
          "heatmap": [
           {
            "colorbar": {
             "outlinewidth": 1,
             "tickcolor": "rgb(36,36,36)",
             "ticks": "outside"
            },
            "colorscale": [
             [
              0,
              "#440154"
             ],
             [
              0.1111111111111111,
              "#482878"
             ],
             [
              0.2222222222222222,
              "#3e4989"
             ],
             [
              0.3333333333333333,
              "#31688e"
             ],
             [
              0.4444444444444444,
              "#26828e"
             ],
             [
              0.5555555555555556,
              "#1f9e89"
             ],
             [
              0.6666666666666666,
              "#35b779"
             ],
             [
              0.7777777777777778,
              "#6ece58"
             ],
             [
              0.8888888888888888,
              "#b5de2b"
             ],
             [
              1,
              "#fde725"
             ]
            ],
            "type": "heatmap"
           }
          ],
          "histogram": [
           {
            "marker": {
             "line": {
              "color": "white",
              "width": 0.6
             }
            },
            "type": "histogram"
           }
          ],
          "histogram2d": [
           {
            "colorbar": {
             "outlinewidth": 1,
             "tickcolor": "rgb(36,36,36)",
             "ticks": "outside"
            },
            "colorscale": [
             [
              0,
              "#440154"
             ],
             [
              0.1111111111111111,
              "#482878"
             ],
             [
              0.2222222222222222,
              "#3e4989"
             ],
             [
              0.3333333333333333,
              "#31688e"
             ],
             [
              0.4444444444444444,
              "#26828e"
             ],
             [
              0.5555555555555556,
              "#1f9e89"
             ],
             [
              0.6666666666666666,
              "#35b779"
             ],
             [
              0.7777777777777778,
              "#6ece58"
             ],
             [
              0.8888888888888888,
              "#b5de2b"
             ],
             [
              1,
              "#fde725"
             ]
            ],
            "type": "histogram2d"
           }
          ],
          "histogram2dcontour": [
           {
            "colorbar": {
             "outlinewidth": 1,
             "tickcolor": "rgb(36,36,36)",
             "ticks": "outside"
            },
            "colorscale": [
             [
              0,
              "#440154"
             ],
             [
              0.1111111111111111,
              "#482878"
             ],
             [
              0.2222222222222222,
              "#3e4989"
             ],
             [
              0.3333333333333333,
              "#31688e"
             ],
             [
              0.4444444444444444,
              "#26828e"
             ],
             [
              0.5555555555555556,
              "#1f9e89"
             ],
             [
              0.6666666666666666,
              "#35b779"
             ],
             [
              0.7777777777777778,
              "#6ece58"
             ],
             [
              0.8888888888888888,
              "#b5de2b"
             ],
             [
              1,
              "#fde725"
             ]
            ],
            "type": "histogram2dcontour"
           }
          ],
          "mesh3d": [
           {
            "colorbar": {
             "outlinewidth": 1,
             "tickcolor": "rgb(36,36,36)",
             "ticks": "outside"
            },
            "type": "mesh3d"
           }
          ],
          "parcoords": [
           {
            "line": {
             "colorbar": {
              "outlinewidth": 1,
              "tickcolor": "rgb(36,36,36)",
              "ticks": "outside"
             }
            },
            "type": "parcoords"
           }
          ],
          "pie": [
           {
            "automargin": true,
            "type": "pie"
           }
          ],
          "scatter": [
           {
            "fillpattern": {
             "fillmode": "overlay",
             "size": 10,
             "solidity": 0.2
            },
            "type": "scatter"
           }
          ],
          "scatter3d": [
           {
            "line": {
             "colorbar": {
              "outlinewidth": 1,
              "tickcolor": "rgb(36,36,36)",
              "ticks": "outside"
             }
            },
            "marker": {
             "colorbar": {
              "outlinewidth": 1,
              "tickcolor": "rgb(36,36,36)",
              "ticks": "outside"
             }
            },
            "type": "scatter3d"
           }
          ],
          "scattercarpet": [
           {
            "marker": {
             "colorbar": {
              "outlinewidth": 1,
              "tickcolor": "rgb(36,36,36)",
              "ticks": "outside"
             }
            },
            "type": "scattercarpet"
           }
          ],
          "scattergeo": [
           {
            "marker": {
             "colorbar": {
              "outlinewidth": 1,
              "tickcolor": "rgb(36,36,36)",
              "ticks": "outside"
             }
            },
            "type": "scattergeo"
           }
          ],
          "scattergl": [
           {
            "marker": {
             "colorbar": {
              "outlinewidth": 1,
              "tickcolor": "rgb(36,36,36)",
              "ticks": "outside"
             }
            },
            "type": "scattergl"
           }
          ],
          "scattermap": [
           {
            "marker": {
             "colorbar": {
              "outlinewidth": 1,
              "tickcolor": "rgb(36,36,36)",
              "ticks": "outside"
             }
            },
            "type": "scattermap"
           }
          ],
          "scattermapbox": [
           {
            "marker": {
             "colorbar": {
              "outlinewidth": 1,
              "tickcolor": "rgb(36,36,36)",
              "ticks": "outside"
             }
            },
            "type": "scattermapbox"
           }
          ],
          "scatterpolar": [
           {
            "marker": {
             "colorbar": {
              "outlinewidth": 1,
              "tickcolor": "rgb(36,36,36)",
              "ticks": "outside"
             }
            },
            "type": "scatterpolar"
           }
          ],
          "scatterpolargl": [
           {
            "marker": {
             "colorbar": {
              "outlinewidth": 1,
              "tickcolor": "rgb(36,36,36)",
              "ticks": "outside"
             }
            },
            "type": "scatterpolargl"
           }
          ],
          "scatterternary": [
           {
            "marker": {
             "colorbar": {
              "outlinewidth": 1,
              "tickcolor": "rgb(36,36,36)",
              "ticks": "outside"
             }
            },
            "type": "scatterternary"
           }
          ],
          "surface": [
           {
            "colorbar": {
             "outlinewidth": 1,
             "tickcolor": "rgb(36,36,36)",
             "ticks": "outside"
            },
            "colorscale": [
             [
              0,
              "#440154"
             ],
             [
              0.1111111111111111,
              "#482878"
             ],
             [
              0.2222222222222222,
              "#3e4989"
             ],
             [
              0.3333333333333333,
              "#31688e"
             ],
             [
              0.4444444444444444,
              "#26828e"
             ],
             [
              0.5555555555555556,
              "#1f9e89"
             ],
             [
              0.6666666666666666,
              "#35b779"
             ],
             [
              0.7777777777777778,
              "#6ece58"
             ],
             [
              0.8888888888888888,
              "#b5de2b"
             ],
             [
              1,
              "#fde725"
             ]
            ],
            "type": "surface"
           }
          ],
          "table": [
           {
            "cells": {
             "fill": {
              "color": "rgb(237,237,237)"
             },
             "line": {
              "color": "white"
             }
            },
            "header": {
             "fill": {
              "color": "rgb(217,217,217)"
             },
             "line": {
              "color": "white"
             }
            },
            "type": "table"
           }
          ]
         },
         "layout": {
          "annotationdefaults": {
           "arrowhead": 0,
           "arrowwidth": 1
          },
          "autotypenumbers": "strict",
          "coloraxis": {
           "colorbar": {
            "outlinewidth": 1,
            "tickcolor": "rgb(36,36,36)",
            "ticks": "outside"
           }
          },
          "colorscale": {
           "diverging": [
            [
             0,
             "rgb(103,0,31)"
            ],
            [
             0.1,
             "rgb(178,24,43)"
            ],
            [
             0.2,
             "rgb(214,96,77)"
            ],
            [
             0.3,
             "rgb(244,165,130)"
            ],
            [
             0.4,
             "rgb(253,219,199)"
            ],
            [
             0.5,
             "rgb(247,247,247)"
            ],
            [
             0.6,
             "rgb(209,229,240)"
            ],
            [
             0.7,
             "rgb(146,197,222)"
            ],
            [
             0.8,
             "rgb(67,147,195)"
            ],
            [
             0.9,
             "rgb(33,102,172)"
            ],
            [
             1,
             "rgb(5,48,97)"
            ]
           ],
           "sequential": [
            [
             0,
             "#440154"
            ],
            [
             0.1111111111111111,
             "#482878"
            ],
            [
             0.2222222222222222,
             "#3e4989"
            ],
            [
             0.3333333333333333,
             "#31688e"
            ],
            [
             0.4444444444444444,
             "#26828e"
            ],
            [
             0.5555555555555556,
             "#1f9e89"
            ],
            [
             0.6666666666666666,
             "#35b779"
            ],
            [
             0.7777777777777778,
             "#6ece58"
            ],
            [
             0.8888888888888888,
             "#b5de2b"
            ],
            [
             1,
             "#fde725"
            ]
           ],
           "sequentialminus": [
            [
             0,
             "#440154"
            ],
            [
             0.1111111111111111,
             "#482878"
            ],
            [
             0.2222222222222222,
             "#3e4989"
            ],
            [
             0.3333333333333333,
             "#31688e"
            ],
            [
             0.4444444444444444,
             "#26828e"
            ],
            [
             0.5555555555555556,
             "#1f9e89"
            ],
            [
             0.6666666666666666,
             "#35b779"
            ],
            [
             0.7777777777777778,
             "#6ece58"
            ],
            [
             0.8888888888888888,
             "#b5de2b"
            ],
            [
             1,
             "#fde725"
            ]
           ]
          },
          "colorway": [
           "#1F77B4",
           "#FF7F0E",
           "#2CA02C",
           "#D62728",
           "#9467BD",
           "#8C564B",
           "#E377C2",
           "#7F7F7F",
           "#BCBD22",
           "#17BECF"
          ],
          "font": {
           "color": "rgb(36,36,36)"
          },
          "geo": {
           "bgcolor": "white",
           "lakecolor": "white",
           "landcolor": "white",
           "showlakes": true,
           "showland": true,
           "subunitcolor": "white"
          },
          "hoverlabel": {
           "align": "left"
          },
          "hovermode": "closest",
          "mapbox": {
           "style": "light"
          },
          "paper_bgcolor": "white",
          "plot_bgcolor": "white",
          "polar": {
           "angularaxis": {
            "gridcolor": "rgb(232,232,232)",
            "linecolor": "rgb(36,36,36)",
            "showgrid": false,
            "showline": true,
            "ticks": "outside"
           },
           "bgcolor": "white",
           "radialaxis": {
            "gridcolor": "rgb(232,232,232)",
            "linecolor": "rgb(36,36,36)",
            "showgrid": false,
            "showline": true,
            "ticks": "outside"
           }
          },
          "scene": {
           "xaxis": {
            "backgroundcolor": "white",
            "gridcolor": "rgb(232,232,232)",
            "gridwidth": 2,
            "linecolor": "rgb(36,36,36)",
            "showbackground": true,
            "showgrid": false,
            "showline": true,
            "ticks": "outside",
            "zeroline": false,
            "zerolinecolor": "rgb(36,36,36)"
           },
           "yaxis": {
            "backgroundcolor": "white",
            "gridcolor": "rgb(232,232,232)",
            "gridwidth": 2,
            "linecolor": "rgb(36,36,36)",
            "showbackground": true,
            "showgrid": false,
            "showline": true,
            "ticks": "outside",
            "zeroline": false,
            "zerolinecolor": "rgb(36,36,36)"
           },
           "zaxis": {
            "backgroundcolor": "white",
            "gridcolor": "rgb(232,232,232)",
            "gridwidth": 2,
            "linecolor": "rgb(36,36,36)",
            "showbackground": true,
            "showgrid": false,
            "showline": true,
            "ticks": "outside",
            "zeroline": false,
            "zerolinecolor": "rgb(36,36,36)"
           }
          },
          "shapedefaults": {
           "fillcolor": "black",
           "line": {
            "width": 0
           },
           "opacity": 0.3
          },
          "ternary": {
           "aaxis": {
            "gridcolor": "rgb(232,232,232)",
            "linecolor": "rgb(36,36,36)",
            "showgrid": false,
            "showline": true,
            "ticks": "outside"
           },
           "baxis": {
            "gridcolor": "rgb(232,232,232)",
            "linecolor": "rgb(36,36,36)",
            "showgrid": false,
            "showline": true,
            "ticks": "outside"
           },
           "bgcolor": "white",
           "caxis": {
            "gridcolor": "rgb(232,232,232)",
            "linecolor": "rgb(36,36,36)",
            "showgrid": false,
            "showline": true,
            "ticks": "outside"
           }
          },
          "title": {
           "x": 0.05
          },
          "xaxis": {
           "automargin": true,
           "gridcolor": "rgb(232,232,232)",
           "linecolor": "rgb(36,36,36)",
           "showgrid": false,
           "showline": true,
           "ticks": "outside",
           "title": {
            "standoff": 15
           },
           "zeroline": false,
           "zerolinecolor": "rgb(36,36,36)"
          },
          "yaxis": {
           "automargin": true,
           "gridcolor": "rgb(232,232,232)",
           "linecolor": "rgb(36,36,36)",
           "showgrid": false,
           "showline": true,
           "ticks": "outside",
           "title": {
            "standoff": 15
           },
           "zeroline": false,
           "zerolinecolor": "rgb(36,36,36)"
          }
         }
        },
        "width": 800,
        "xaxis": {
         "anchor": "y",
         "domain": [
          0,
          1
         ],
         "title": {
          "text": "sample_type"
         }
        },
        "yaxis": {
         "anchor": "x",
         "domain": [
          0,
          1
         ],
         "title": {
          "text": "value"
         },
         "type": "log"
        }
       }
      }
     },
     "metadata": {},
     "output_type": "display_data"
    },
    {
     "data": {
      "application/vnd.plotly.v1+json": {
       "config": {
        "plotlyServerURL": "https://plotly.com"
       },
       "data": [
        {
         "alignmentgroup": "True",
         "boxpoints": "all",
         "hovertemplate": "type=Nb<br>strain=ST4<br>sample_type=%{x}<br>value=%{y}<extra></extra>",
         "legendgroup": "Nb",
         "marker": {
          "color": "#1F77B4"
         },
         "name": "Nb",
         "notched": false,
         "offsetgroup": "Nb",
         "orientation": "v",
         "showlegend": true,
         "type": "box",
         "x": [
          "sample",
          "sample",
          "sample",
          "sample",
          "sample",
          "sample",
          "sample",
          "sample",
          "sample",
          "sample",
          "sample",
          "sample",
          "sample",
          "sample",
          "NTC",
          "WATER",
          "WATER",
          "WATER"
         ],
         "x0": " ",
         "xaxis": "x4",
         "y": {
          "bdata": "IOzf/FhTCEH6vK9kQ+cOQeswXpkJNxBBn1NW/B7rDEH35Id6wSIRQXi2IRSbHw1BqRE07t4J0EAOkkIgaeDuQNvI1R9cIxRBNz/Vb1+zEEEGnU1H9BATQQjSnOP34Q9BQneV9tcZEUEZhntsYDgNQaVmvUeydldAuF+Tmedia0BiwHyeBDqGQGU5uRiKRYRA",
          "dtype": "f8"
         },
         "y0": " ",
         "yaxis": "y4"
        },
        {
         "alignmentgroup": "True",
         "boxpoints": "all",
         "hovertemplate": "type=Nb<br>strain=ST1<br>sample_type=%{x}<br>value=%{y}<extra></extra>",
         "legendgroup": "Nb",
         "marker": {
          "color": "#1F77B4"
         },
         "name": "Nb",
         "notched": false,
         "offsetgroup": "Nb",
         "orientation": "v",
         "showlegend": false,
         "type": "box",
         "x": [
          "sample",
          "sample",
          "sample",
          "sample",
          "sample",
          "sample",
          "sample",
          "sample",
          "sample",
          "sample",
          "sample",
          "sample",
          "sample",
          "sample",
          "NTC",
          "WATER",
          "WATER",
          "WATER",
          "sample",
          "sample",
          "sample",
          "sample",
          "sample",
          "sample",
          "sample",
          "sample",
          "sample",
          "sample",
          "sample",
          "sample",
          "sample",
          "sample",
          "NTC",
          "WATER",
          "WATER",
          "WATER",
          "WATER",
          "sample",
          "sample",
          "sample",
          "sample",
          "sample",
          "sample",
          "sample",
          "sample",
          "sample",
          "sample",
          "sample",
          "sample",
          "sample",
          "sample",
          "NTC",
          "WATER",
          "WATER",
          "WATER",
          "WATER",
          "sample",
          "sample",
          "sample",
          "sample",
          "sample",
          "sample",
          "sample",
          "sample",
          "sample",
          "sample",
          "sample",
          "sample",
          "sample",
          "sample",
          "NTC",
          "WATER",
          "WATER",
          "WATER",
          "WATER",
          "sample",
          "sample",
          "sample",
          "sample",
          "sample",
          "sample",
          "sample",
          "sample",
          "sample",
          "sample",
          "sample",
          "sample",
          "sample",
          "sample",
          "NTC",
          "WATER",
          "WATER",
          "WATER",
          "WATER"
         ],
         "x0": " ",
         "xaxis": "x3",
         "y": {
          "bdata": "+TSMgIhmOkCaIAsMUqpBQGroqyrI6yhAyBKCUqGFKUDnocEt+QwhQKWqNpOJbShApyyp5CTdYkBe/qx9QPhzQIIZfY71YDFA9rIRcMjmMUD6lclUHgoqQIbqLuzCdStAFIHyAEPcLEAQ7MMhNGwtQNYONr94ezpAxeyswK06IEDNNGCljM46QAlvc6CKUjFAYr/Q82njIkDY39IeV4coQDQ2qlx2PR1ALJSJXImuE0DjEUk8AyAgQBKBTIJBdRNADngTcgZPR0BGOWnZxqYrQDdm3BG9xRxAv5EjoTkQFECPkmM9KI4cQBarbs3kVBZA3V4uwbWEH0BDclR8/lcTQGp17ku5IyxAi+O22rWxJEDRKTDDyiwiQBh7/1e3YjNAzP+DIaFJKkANQQDE+EYaQCn+oZrFVV9Axj7SVP8Oa0BCJxCMB1c7QJ2pztdWumlAKXZLSLlIZUC/zwM59bcxQBz+vfe3eiZAm/8huqOrakAKZ+NO12hHQADsnLw/MmtACIkPbEpuSkBv5fFNVpVqQLjC4c6hymhAER81WQ8YLECMye/N7ZIjQGlYhVxXZBJAGHv/V7diM0ClIqKIV0oqQDnS/cUkPiBAjmvWpSZMIUB5TuBX1SKkQHQ1nx3dkClAr23f2WJikUB1cFx6m8dNQEIGiEcvmm5A6XBHlbHAL0AYWKBvwuKtQFA/TsFH7mdAfDp/fSBzrUDzr6VhnnRaQFF4/773+ZdANEStAbpIZ0BAiUsphyMsQFA0GtfvUSNA5iSm0d6GIEAYe/9Xt2IzQIE/99X/tilAYUnRah02XEDmEWbsjdytQDA78UBZiKtAq6vRjxGCYUCaGVJsuK6QQDvtReVM8MVAIUN2hcaxPkCAIin5uP/VQAjhA8/OampALsiPQqGI00Chs2D/RCmQQG8rhps99p9AuVLNOJOjp0B69OdG9yk2QH7ZbzRxJCxA1PAJZiJNJECBopPU60khQBh7/1e3YjNADyDK7PsDKkA=",
          "dtype": "f8"
         },
         "y0": " ",
         "yaxis": "y3"
        },
        {
         "alignmentgroup": "True",
         "boxpoints": "all",
         "hovertemplate": "type=Nb<br>strain=ST6<br>sample_type=%{x}<br>value=%{y}<extra></extra>",
         "legendgroup": "Nb",
         "marker": {
          "color": "#1F77B4"
         },
         "name": "Nb",
         "notched": false,
         "offsetgroup": "Nb",
         "orientation": "v",
         "showlegend": false,
         "type": "box",
         "x": [
          "sample",
          "sample",
          "sample",
          "sample",
          "sample",
          "sample",
          "sample",
          "sample",
          "sample",
          "sample",
          "sample",
          "sample",
          "sample",
          "sample",
          "NTC",
          "WATER",
          "WATER",
          "WATER",
          "WATER",
          "sample",
          "sample",
          "sample",
          "sample",
          "sample",
          "sample",
          "sample",
          "sample",
          "sample",
          "sample",
          "sample",
          "sample",
          "sample",
          "sample",
          "NTC",
          "WATER",
          "WATER",
          "WATER",
          "WATER",
          "sample",
          "sample",
          "sample",
          "sample",
          "sample",
          "sample",
          "sample",
          "sample",
          "sample",
          "sample",
          "sample",
          "sample",
          "sample",
          "sample",
          "NTC",
          "WATER",
          "WATER",
          "WATER",
          "WATER"
         ],
         "x0": " ",
         "xaxis": "x2",
         "y": {
          "bdata": "LxcE+4nj7j8Im+kMRAjiP5qJf6aw4L8/1LRAfHJtnT9+p8WzvLbaPx+titOkC7k/k9boJ5ZRtD9WHimcUHWXP8GYWsHlbSBA1nkUsDq2yD978GKRSPnAP+64eBTZEb0/78bCA1z59D/fZ6836vsPQNC9lQifLdM/1FaCjiUI4j+Kj/0N46HYP4oUY9GVXsE/C7hw1CmDuj8FDowfmMvmP6vZY1LWZLo/FPv3u+A+2z95o0P9WAfEP3kqgyT7n8c/P3UG6Xz39T/Yj46eKC65P1UlJq19g6c/vK+0vOdhK0Au1vaU8UzUP4bqob0KSvA/jeSJZOj5yD9B4m8Di3oxQPF/haBUTGZA0L2VCJ8t0z+SwWeVtAbiP4qP/Q3jodg/ihRj0ZVewT8LuHDUKYO6P5MXZSDU1a4/xfY0ZgeNrj9602Bfx4jVP2QWQmfZHf8/mFXuOI9e4D8h/bzI+lnxP+PLb1MbAOE/br3glBqpLkDY7K7wfrcGQJly0FofCcA/DkiP4OiSrz/B7w+X6uZjQAyWE0XdnEFAdn4vAVJs7T/QvZUIny3TP9RWgo4lCOI/io/9DeOh2D+KFGPRlV7BPwu4cNQpg7o/",
          "dtype": "f8"
         },
         "y0": " ",
         "yaxis": "y2"
        },
        {
         "alignmentgroup": "True",
         "boxpoints": "all",
         "hovertemplate": "type=Nb<br>strain=ST5<br>sample_type=%{x}<br>value=%{y}<extra></extra>",
         "legendgroup": "Nb",
         "marker": {
          "color": "#1F77B4"
         },
         "name": "Nb",
         "notched": false,
         "offsetgroup": "Nb",
         "orientation": "v",
         "showlegend": false,
         "type": "box",
         "x": [
          "sample",
          "sample",
          "sample",
          "sample",
          "sample",
          "sample",
          "sample",
          "sample",
          "sample",
          "sample",
          "sample",
          "sample",
          "sample",
          "sample",
          "NTC",
          "WATER",
          "WATER",
          "WATER",
          "WATER",
          "sample",
          "sample",
          "sample",
          "sample",
          "sample",
          "sample",
          "sample",
          "sample",
          "sample",
          "sample",
          "sample",
          "sample",
          "sample",
          "sample",
          "NTC",
          "WATER",
          "WATER",
          "WATER",
          "WATER",
          "sample",
          "sample",
          "sample",
          "sample",
          "sample",
          "sample",
          "sample",
          "sample",
          "sample",
          "sample",
          "sample",
          "sample",
          "sample",
          "sample",
          "NTC",
          "WATER",
          "WATER",
          "WATER",
          "WATER",
          "sample",
          "sample",
          "sample",
          "sample",
          "sample",
          "sample",
          "sample",
          "sample",
          "sample",
          "sample",
          "sample",
          "sample",
          "sample",
          "sample",
          "NTC",
          "WATER",
          "WATER",
          "WATER",
          "WATER"
         ],
         "x0": " ",
         "xaxis": "x",
         "y": {
          "bdata": "caWwhrk8dUDkQ7SBCfgCQHcrCtyhb1JAKyWmzKILREAyx0eHjetTQAHKoT8CjTNAaNS8banfdEB2zQls4avwP+Ed/bukS05A6/l2O1mVCUBJQXy0501kQCLWswz6CiVA1JjicBEMLEAwSkGQA7VbQAymT7YOR8w/nA4/6sqDDkD5NcUevVUIQFI8jCNpIxhApyNORCJS7z8CUUGUOjEGQCnSIhkgu3RABbnMETNDeUCEpDEishF1QE9Yppe5N1RAgwubqUwqdUCN8bxFuJz0PwcdtzYmDPc/gD0TV4nidEBwuvszhZ51QOLbIdY+p3dAX3eUP9d7dUAtKgGeStVyQJEgD62m63RAUf4DdcNMzD81SJV3laIOQEveuPAAyAlAUjyMI2kjGEDmlkazjALvP/o4mlcyR/8/BCx89VDkSkD/GpCvxPZnQAqupO6C1ahAN6sBknszYkDIdvbJs7GtQG/ZasyBdvU/ZGmTnTWqNEBPzv/TixRwQMdOO6YPmLFAEdAAadX1ZUB+EH2rymqxQJfgsE7CPWRA0vg9x9+zsUBgmsapZVjMP/U/Usipfw5ANACpPToGCEBSPIwjaSMYQMzCXdv/UfI/GAk69v+VgEAeqhVCU3mLQMilBDMveqhAUsqFYPYmDUD6aTULymGfQAt18uQCwiZAAaS29rjIrkAV5xEusCRFQFLsNYRn5sFAn8NyS5H7iEA6cI1FtCTAQI64A/UIv4ZA183GRirKnkBr2YgdD3zvPy1lO8/7Wsw/f02AbsyGDkBto+wCQj4IQFI8jCNpIxhAmZO8IRlO8j8=",
          "dtype": "f8"
         },
         "y0": " ",
         "yaxis": "y"
        },
        {
         "alignmentgroup": "True",
         "boxpoints": "all",
         "hovertemplate": "type=Ns<br>strain=ST4<br>sample_type=%{x}<br>value=%{y}<extra></extra>",
         "legendgroup": "Ns",
         "marker": {
          "color": "#FF7F0E"
         },
         "name": "Ns",
         "notched": false,
         "offsetgroup": "Ns",
         "orientation": "v",
         "showlegend": true,
         "type": "box",
         "x": [
          "sample",
          "sample",
          "sample",
          "sample",
          "sample",
          "sample",
          "sample",
          "sample",
          "sample",
          "sample",
          "sample",
          "sample",
          "sample",
          "sample",
          "NTC",
          "WATER",
          "WATER",
          "WATER"
         ],
         "x0": " ",
         "xaxis": "x4",
         "y": {
          "bdata": "AAAAAMt2MEEAAAAAHfEzQQAAAAC3PzlBAAAAADkkNUEAAAAAh/w4QQAAAACOlzZBUlVVVVU0tkAAAAAAkI4eQQAAAADrTDlBAAAAAAycPUEAAAAAuik3QQAAAAATGjFBAAAAAMuTOkEAAAAAqNUxQQnHcRzHVZBA1DiO4zjOWUAL5TWU15BVQFdaWlpamlZA",
          "dtype": "f8"
         },
         "y0": " ",
         "yaxis": "y4"
        },
        {
         "alignmentgroup": "True",
         "boxpoints": "all",
         "hovertemplate": "type=Ns<br>strain=ST1<br>sample_type=%{x}<br>value=%{y}<extra></extra>",
         "legendgroup": "Ns",
         "marker": {
          "color": "#FF7F0E"
         },
         "name": "Ns",
         "notched": false,
         "offsetgroup": "Ns",
         "orientation": "v",
         "showlegend": false,
         "type": "box",
         "x": [
          "sample",
          "sample",
          "sample",
          "sample",
          "sample",
          "sample",
          "sample",
          "sample",
          "sample",
          "sample",
          "sample",
          "sample",
          "sample",
          "sample",
          "NTC",
          "WATER",
          "WATER",
          "WATER",
          "sample",
          "sample",
          "sample",
          "sample",
          "sample",
          "sample",
          "sample",
          "sample",
          "sample",
          "sample",
          "sample",
          "sample",
          "sample",
          "sample",
          "NTC",
          "WATER",
          "WATER",
          "WATER",
          "WATER",
          "sample",
          "sample",
          "sample",
          "sample",
          "sample",
          "sample",
          "sample",
          "sample",
          "sample",
          "sample",
          "sample",
          "sample",
          "sample",
          "sample",
          "NTC",
          "WATER",
          "WATER",
          "WATER",
          "WATER",
          "sample",
          "sample",
          "sample",
          "sample",
          "sample",
          "sample",
          "sample",
          "sample",
          "sample",
          "sample",
          "sample",
          "sample",
          "sample",
          "sample",
          "NTC",
          "WATER",
          "WATER",
          "WATER",
          "WATER",
          "sample",
          "sample",
          "sample",
          "sample",
          "sample",
          "sample",
          "sample",
          "sample",
          "sample",
          "sample",
          "sample",
          "sample",
          "sample",
          "sample",
          "NTC",
          "WATER",
          "WATER",
          "WATER",
          "WATER"
         ],
         "x0": " ",
         "xaxis": "x3",
         "y": {
          "bdata": "AAAAAADoikBaS0tLS2tuQMtFF110Y6dAo6qqqqrkpEAAAAAAADaiQAAAAAAAAaVAwG3btm3Np0BedNFFF/q0QAAAAAAA57VAAAAAAABdt0C86KKLLuyoQAAAAAAAQbBAH8dxHMcTrkCiiy666DewQAAAAAAAfpxAhfIaymsoOEBUXkN5DSVXQAAAAAAAAFBAL6+hvIbmnUBNXkN5DWVCQIjjOI7jOChAAAAAAAAAJkCI4ziO4zgoQIjjOI7jOChAFUmSJMmPz0DEcRzHcZxKQIjjOI7jOChAqLyG8hpKQECI4ziO4zgoQAAAAAAAACZAiOM4juM4KEAAAAAAAAAmQAAAAACAlsNAAAAAAAAgSkCzobyG8sKLQBo7sRN7LtJAtLS0tLT0WEDHhvIayj2gQHMcx3EcH4JAkbyG8hpOkkAAAAAAQBfQQMFrKK+hMJJAGcdxHEfFwEBhVVVVVbVjQOrh4eHh4TpA8BrKayjDkUAAAAAAAKBrQPAaymsoY5JAAAAAAAD6oUC5qqqqqhaSQAAAAACARMpAAAAAAACGw0Dc4eHh4WFKQAvlNZTXkFBAAAAAAMA70kD18PDw8DBcQGhVVVXVectApqqqqqoqRkCfiy66iMHpQKiqqqqqEoBAAAAAACDC5UAwSZIkCXLXQHLyGspr3JZA1kUXXRSe5ECfiy66iPLlQAAAAADgvdBAYXTRRbd95UCmqqqqKmbjQCq66KIrhORAaFVVVdXHzUBoVVVV1YvDQAAAAAAAIEpA0VBeQ3nRk0AAAAAAwCzSQOPh4eHhIVVAL6+hvIbmmEAAAAAAQFEcQdZFF12Ud+VAPlVVVUWY/EC0qqqq6v/TQAAAAABEFBBB0LZt23al0kAAAAAAmCIWQQAAAABA19RAAAAAALQWEUGZ2ImdGKPfQAAAAAA4MhZBAAAAAIg28EAAAAAA4NLiQJiqqqoqmcNAAAAAAACASUBPeQ3lNaiUQDBJkiQJMdJAhYeHh4fHV0A=",
          "dtype": "f8"
         },
         "y0": " ",
         "yaxis": "y3"
        },
        {
         "alignmentgroup": "True",
         "boxpoints": "all",
         "hovertemplate": "type=Ns<br>strain=ST6<br>sample_type=%{x}<br>value=%{y}<extra></extra>",
         "legendgroup": "Ns",
         "marker": {
          "color": "#FF7F0E"
         },
         "name": "Ns",
         "notched": false,
         "offsetgroup": "Ns",
         "orientation": "v",
         "showlegend": false,
         "type": "box",
         "x": [
          "sample",
          "sample",
          "sample",
          "sample",
          "sample",
          "sample",
          "sample",
          "sample",
          "sample",
          "sample",
          "sample",
          "sample",
          "sample",
          "sample",
          "NTC",
          "WATER",
          "WATER",
          "WATER",
          "WATER",
          "sample",
          "sample",
          "sample",
          "sample",
          "sample",
          "sample",
          "sample",
          "sample",
          "sample",
          "sample",
          "sample",
          "sample",
          "sample",
          "sample",
          "NTC",
          "WATER",
          "WATER",
          "WATER",
          "WATER",
          "sample",
          "sample",
          "sample",
          "sample",
          "sample",
          "sample",
          "sample",
          "sample",
          "sample",
          "sample",
          "sample",
          "sample",
          "sample",
          "sample",
          "NTC",
          "WATER",
          "WATER",
          "WATER",
          "WATER"
         ],
         "x0": " ",
         "xaxis": "x2",
         "y": {
          "bdata": "AAAAAACQcUAAAAAAANB8QOG2bdu27UpA6uHh4eHhOkAAAAAAAMiCQMRxHMdxnEVAbRzHcRzHCUAAAAAAAADwP2hVVVXVZ8pA8DiO4ziOMEBaVVVVVdVHQAvlNZTXUDtAAAAAAABIgECoqqqqqhKKQAAAAAAA0HxATFVVVVVVMkAAAAAAAMiCQJbjOI7jKH1ArqqqqqqqHkDiOI7jOA5KQAAAAAAAAPA/AAAAAADAQEAAAAAAAEBUQFJVVVVVVRFAAAAAAACAREDMRRdddNEZQAAAAAAAAPA/AAAAAEAzv0AAAAAAAMBRQK2qqqqq6lVAAAAAAACAQkCN4ziO41CAQHMcx3Ec745AAAAAAADQfEAtSZIkSZIzQAAAAAAAyIJAluM4juMofUCuqqqqqqoeQAAAAAAAABRAHsdxHMfxTUDEcRzHcZxKQAAAAAAAAPA/AAAAAABQf0B1Yid2YmdQQHIcx3EcxyNAaFVVVdWxx0BnaWlpaYa6QOI4juM4DkBA4jiO4zgOSkBcWlpaWmKGQBfKayivCYFAFjuxEzsxQkAAAAAAANB8QC1JkiRJkjNAAAAAAADIgkCW4ziO4yh9QK6qqqqqqh5A",
          "dtype": "f8"
         },
         "y0": " ",
         "yaxis": "y2"
        },
        {
         "alignmentgroup": "True",
         "boxpoints": "all",
         "hovertemplate": "type=Ns<br>strain=ST5<br>sample_type=%{x}<br>value=%{y}<extra></extra>",
         "legendgroup": "Ns",
         "marker": {
          "color": "#FF7F0E"
         },
         "name": "Ns",
         "notched": false,
         "offsetgroup": "Ns",
         "orientation": "v",
         "showlegend": false,
         "type": "box",
         "x": [
          "sample",
          "sample",
          "sample",
          "sample",
          "sample",
          "sample",
          "sample",
          "sample",
          "sample",
          "sample",
          "sample",
          "sample",
          "sample",
          "sample",
          "NTC",
          "WATER",
          "WATER",
          "WATER",
          "WATER",
          "sample",
          "sample",
          "sample",
          "sample",
          "sample",
          "sample",
          "sample",
          "sample",
          "sample",
          "sample",
          "sample",
          "sample",
          "sample",
          "sample",
          "NTC",
          "WATER",
          "WATER",
          "WATER",
          "WATER",
          "sample",
          "sample",
          "sample",
          "sample",
          "sample",
          "sample",
          "sample",
          "sample",
          "sample",
          "sample",
          "sample",
          "sample",
          "sample",
          "sample",
          "NTC",
          "WATER",
          "WATER",
          "WATER",
          "WATER",
          "sample",
          "sample",
          "sample",
          "sample",
          "sample",
          "sample",
          "sample",
          "sample",
          "sample",
          "sample",
          "sample",
          "sample",
          "sample",
          "sample",
          "NTC",
          "WATER",
          "WATER",
          "WATER",
          "WATER"
         ],
         "x0": " ",
         "xaxis": "x",
         "y": {
          "bdata": "rKG8hvJaUUAAAAAAAKalQK6qqqqqg75ANHZiJ/ZUzUCE4ziO45STQH+d2Indt9BAVF5DeQ0lUkAAAAAAAAA1QNZFF120HtlACw8PDw9PW0DNTuzEjs7QQJud2Ikd+c9AAAAAAACqq0Bo0UUXnUnSQJulpaWlRWRAPI7jOI6jVUBUXkN5DSVSQAAAAADwivJAAAAAAADAOEAAAAAAgMLCQIXyGspraFJAU3TRRVcz0kDkNZTXUJ5RQAAAAABAlrFAcRzHcRwHV0AvLS0tLa1FQB0eHh4eXlhAAAAAAABc0UA8juM4jiNTQAAAAAAAoNNAHsdxHMcxUUCYEzuxkynLQOQ1lNdQnlFAAAAAAAAgZEDEcRzHcVxVQJG8hvIaXpFAAAAAABCW8kAAAAAAAMA4QKmqqqoqPcBAP5TXUF5jbkAAAAAAQDXZQMyJndjJ79FAAAAAAEAu20AAAAAAQPDaQGocx3Ec13FAAcVO7ESDzkAAAAAAYLfgQOc4juN4+N1Af3h4eHgiqEBMVVVVlRvfQAAAAABAZtxAtKqqquqJ3UBaS0tLS2tkQNQ4juM4bmNAAAAAAABAVEAAAAAA0IvyQAAAAAAAsFdArqqqqqozv0BMVVVVlajUQAAAAAA4sxJBTFVVVZWO0EDCqqqqeof+QAAAAACAnrlAAAAAAFA/80AAAAAAQNjYQD5VVVWlvP9AtKqqqmpe1EA+VVVVJfH6QAAAAABARNhAAAAAAOAtC0Hm4eHh4aOoQGocx3EcZ2RAU1VVVVUVVUAAAAAAAEBUQK2qqqp6k/JAAAAAAABgV0A=",
          "dtype": "f8"
         },
         "y0": " ",
         "yaxis": "y"
        },
        {
         "alignmentgroup": "True",
         "boxpoints": "all",
         "hovertemplate": "type=Ns_MinCutoff<br>strain=ST4<br>sample_type=%{x}<br>value=%{y}<extra></extra>",
         "legendgroup": "Ns_MinCutoff",
         "marker": {
          "color": "#2CA02C"
         },
         "name": "Ns_MinCutoff",
         "notched": false,
         "offsetgroup": "Ns_MinCutoff",
         "orientation": "v",
         "showlegend": true,
         "type": "box",
         "x": [
          "sample",
          "sample",
          "sample",
          "sample",
          "sample",
          "sample",
          "sample",
          "sample",
          "sample",
          "sample",
          "sample",
          "sample",
          "sample",
          "sample",
          "NTC",
          "WATER",
          "WATER",
          "WATER"
         ],
         "x0": " ",
         "xaxis": "x4",
         "y": {
          "bdata": "tKqqqmrV0EAAAAAAQAPWQAAAAABAeddAAAAAAICq1UAAAAAAQBrYQAAAAABAntRAAAAAAADko0AAAAAAwLvDQLSqqqrqt9xATFVVVZVx2UAAAAAAgHLbQAAAAADAJthAAAAAAAAi2UAAAAAAwNjVQPc4juM4WpBAcRzHcRyHVEBxHMdxHAdSQExLS0tLi1RA",
          "dtype": "f8"
         },
         "y0": " ",
         "yaxis": "y4"
        },
        {
         "alignmentgroup": "True",
         "boxpoints": "all",
         "hovertemplate": "type=Ns_MinCutoff<br>strain=ST1<br>sample_type=%{x}<br>value=%{y}<extra></extra>",
         "legendgroup": "Ns_MinCutoff",
         "marker": {
          "color": "#2CA02C"
         },
         "name": "Ns_MinCutoff",
         "notched": false,
         "offsetgroup": "Ns_MinCutoff",
         "orientation": "v",
         "showlegend": false,
         "type": "box",
         "x": [
          "sample",
          "sample",
          "sample",
          "sample",
          "sample",
          "sample",
          "sample",
          "sample",
          "sample",
          "sample",
          "sample",
          "sample",
          "sample",
          "sample",
          "NTC",
          "WATER",
          "WATER",
          "WATER",
          "sample",
          "sample",
          "sample",
          "sample",
          "sample",
          "sample",
          "sample",
          "sample",
          "sample",
          "sample",
          "sample",
          "sample",
          "sample",
          "sample",
          "NTC",
          "WATER",
          "WATER",
          "WATER",
          "WATER",
          "sample",
          "sample",
          "sample",
          "sample",
          "sample",
          "sample",
          "sample",
          "sample",
          "sample",
          "sample",
          "sample",
          "sample",
          "sample",
          "sample",
          "NTC",
          "WATER",
          "WATER",
          "WATER",
          "WATER",
          "sample",
          "sample",
          "sample",
          "sample",
          "sample",
          "sample",
          "sample",
          "sample",
          "sample",
          "sample",
          "sample",
          "sample",
          "sample",
          "sample",
          "NTC",
          "WATER",
          "WATER",
          "WATER",
          "WATER",
          "sample",
          "sample",
          "sample",
          "sample",
          "sample",
          "sample",
          "sample",
          "sample",
          "sample",
          "sample",
          "sample",
          "sample",
          "sample",
          "sample",
          "NTC",
          "WATER",
          "WATER",
          "WATER",
          "WATER"
         ],
         "x0": " ",
         "xaxis": "x3",
         "y": {
          "bdata": "y4byGsqLYkB+KK+hvMZeQLmqqqqqDpBAWFVVVVUNgkA1juM4jkNpQKiqqqqqUoNAXUN5DeX9gUBJsRM7sVeTQF1VVVVVj6JAAAAAAADApEBJsRM7sXeRQPbETuzEopZAuaqqqqoumED2xE7sxIKYQAAAAAAAEoRAhfIaymsoOEAAAAAAAMBQQAAAAAAAAEFAjPIaymvIZEBNXkN5DWVCQAAAAAAAACZAchzHcRzHI0AAAAAAAAAmQHIcx3EcxyNA4TiO4ziIrEDEcRzHcZxKQAAAAAAAACZAchzHcRzHI0AAAAAAAAAmQHIcx3EcxyNAAAAAAAAAJkByHMdxHMcjQA0PDw8PkLhAvqWlpaXlW0B9DeU1lH+LQD88PDw8/bBAjIeHh4cHSEBtKK+hvK6CQGZDeQ3lRX1AJ6+hvIY6jkAQ5TWU1/iKQOk1lNdQRo1AAAAAAABoiEDCqqqqqupaQOrh4eHh4TpANpTXUF5LjkB0DeU1lHdjQBDlNZTXGI5AP5TXUF7jYUDwGsprKPeNQLOhvIbyQo5As7S0tLSNuECipaWlpSVMQHAor6G8Bk9AdHh4eHjxsEAkHh4eHp5IQHEcx3EccLRAxHEcx3GcQEAAAAAAgFbeQDWO4ziOA2hAMEmSJAkK1kAAAAAA4AXIQJG8hvIaLpRAAAAAAKCzyEBMVVVVla7WQK6qqqqq07BAMEmSJIkh1UAAAAAAgGPPQLtt27Yt1NFAH8dxHMe/rEDBw8PDw5S4QAAAAAAAwEpAJ6+hvIaaiEAaHh4eHgOxQPXw8PDwcEdAs6G8hvLqeUAAAAAAGL4DQQAAAADgFcxAfBzHcRwpq0DhOI7jOCmxQAAAAABgGOlAwnEcx3FqrkA+VVVVJWf9QLO0tLS0obhAI0mSJFnd90CuqqqqqgW2QAAAAABQqf9ATFVVVZUq0kANDw8PD+i/QBoeHh4el7hAAAAAAABwW0AAAAAAAAiJQFJVVVVV7rBAjIeHh4cHSEA=",
          "dtype": "f8"
         },
         "y0": " ",
         "yaxis": "y3"
        },
        {
         "alignmentgroup": "True",
         "boxpoints": "all",
         "hovertemplate": "type=Ns_MinCutoff<br>strain=ST6<br>sample_type=%{x}<br>value=%{y}<extra></extra>",
         "legendgroup": "Ns_MinCutoff",
         "marker": {
          "color": "#2CA02C"
         },
         "name": "Ns_MinCutoff",
         "notched": false,
         "offsetgroup": "Ns_MinCutoff",
         "orientation": "v",
         "showlegend": false,
         "type": "box",
         "x": [
          "sample",
          "sample",
          "sample",
          "sample",
          "sample",
          "sample",
          "sample",
          "sample",
          "sample",
          "sample",
          "sample",
          "sample",
          "sample",
          "sample",
          "NTC",
          "WATER",
          "WATER",
          "WATER",
          "WATER",
          "sample",
          "sample",
          "sample",
          "sample",
          "sample",
          "sample",
          "sample",
          "sample",
          "sample",
          "sample",
          "sample",
          "sample",
          "sample",
          "sample",
          "NTC",
          "WATER",
          "WATER",
          "WATER",
          "WATER",
          "sample",
          "sample",
          "sample",
          "sample",
          "sample",
          "sample",
          "sample",
          "sample",
          "sample",
          "sample",
          "sample",
          "sample",
          "sample",
          "sample",
          "NTC",
          "WATER",
          "WATER",
          "WATER",
          "WATER"
         ],
         "x0": " ",
         "xaxis": "x2",
         "y": {
          "bdata": "AAAAAADAUUAAAAAAANByQK/YiZ3YiSdALDw8PDw8LkAAAAAAAKiEQLSqqqqqqjFAbRzHcRzHCUAAAAAAAADwP6e8hvIadKJA8DiO4ziOMEB4HMdxHMc8QK6qqqqqqh5AAAAAAACYgECfqqqqqkpvQAAAAAAA0HxATFVVVVVVMkAAAAAAACiMQAAAAAAAACZArqqqqqqqHkB4HMdxHEdCQAAAAAAAAPA/AAAAAADAM0A/F1100cVBQFJVVVVVVRFAiOM4juM4N0DMRRdddNEZQAAAAAAAAPA/jg3lNZTbkEA0SZIkSXJhQAAAAAAAgEdAAAAAAACASEBYjuM4jiNdQAAAAAAAMGhAAAAAAADQfEAtSZIkSZIzQAAAAAAAKIxAAAAAAAAAJkCuqqqqqqoeQF1VVVVVVQ1AtKqqqqqqO0AAAAAAAAA1QAAAAAAAAPA/AAAAAAAgbkBaVVVVVVVAQHIcx3EcxyNAb0N5DeWJnUCzobyG8oKKQMRxHMdxHDZA3OHh4eFhQECFh4eHhydlQJbjOI7j+F1AFjuxEzuxPEAAAAAAANB8QC1JkiRJkjNAAAAAAAAojEAAAAAAAAAmQK6qqqqqqh5A",
          "dtype": "f8"
         },
         "y0": " ",
         "yaxis": "y2"
        },
        {
         "alignmentgroup": "True",
         "boxpoints": "all",
         "hovertemplate": "type=Ns_MinCutoff<br>strain=ST5<br>sample_type=%{x}<br>value=%{y}<extra></extra>",
         "legendgroup": "Ns_MinCutoff",
         "marker": {
          "color": "#2CA02C"
         },
         "name": "Ns_MinCutoff",
         "notched": false,
         "offsetgroup": "Ns_MinCutoff",
         "orientation": "v",
         "showlegend": false,
         "type": "box",
         "x": [
          "sample",
          "sample",
          "sample",
          "sample",
          "sample",
          "sample",
          "sample",
          "sample",
          "sample",
          "sample",
          "sample",
          "sample",
          "sample",
          "sample",
          "NTC",
          "WATER",
          "WATER",
          "WATER",
          "WATER",
          "sample",
          "sample",
          "sample",
          "sample",
          "sample",
          "sample",
          "sample",
          "sample",
          "sample",
          "sample",
          "sample",
          "sample",
          "sample",
          "sample",
          "NTC",
          "WATER",
          "WATER",
          "WATER",
          "WATER",
          "sample",
          "sample",
          "sample",
          "sample",
          "sample",
          "sample",
          "sample",
          "sample",
          "sample",
          "sample",
          "sample",
          "sample",
          "sample",
          "sample",
          "NTC",
          "WATER",
          "WATER",
          "WATER",
          "WATER",
          "sample",
          "sample",
          "sample",
          "sample",
          "sample",
          "sample",
          "sample",
          "sample",
          "sample",
          "sample",
          "sample",
          "sample",
          "sample",
          "sample",
          "NTC",
          "WATER",
          "WATER",
          "WATER",
          "WATER"
         ],
         "x0": " ",
         "xaxis": "x",
         "y": {
          "bdata": "AAAAAACATkDLcRzHcUx4QAAAAAAAlJ9AAAAAAADBskDBayivoVxrQAAAAACAyrpAobyG8hoKUEAAAAAAAAA1QAAAAACA98JAj+M4juN4UUAAAAAAQAS8QAAAAABAzrpAAAAAAAC0q0AAAAAAwNK4QAAAAAAAQFRAxHEcx3HcUkChvIbyGgpQQAAAAABAVdpAAAAAAACAN0CBh4eHh9miQB7HcRzH8U1AAAAAAED7tUAex3Ecx/FNQAAAAACAl7FAHsdxHMfxTUCMh4eHhwdIQKKlpaWlJUxAP5TXUF7nmUCQ11BeQ/lNQKalpaWlmrNALq+hvIZyTUAAAAAAAPagQB7HcRzH8U1AtLS0tLT0U0BTVVVVVZVSQAAAAAAAMHJAAAAAAEBz2kAAAAAAAIA3QMzDw8PDLaJAAAAAAACgYUCpqqqqKtHAQFdVVVXVEcBAs7S0tLTxs0Cfbdu27frFQB7HcRzHMVFAWFVVVVXtg0CYqqqqKk/FQDOxEzsxkM1AAAAAAACojkBoVVVVVajMQFJVVVVVDrxAmKqqqiqBzEAAAAAAAEBUQOI4juM4TlJAxHEcx3FcUEAAAAAAwEraQAsPDw8Pj0tAAAAAAABapkAAAAAAAKu0QD5VVVXl6ftAAAAAAMCauUAzjuM4Lt3hQDQ8PDw8RqRAFUmSJMktyEC1bdu27RfCQExVVVWVL99APzw8PDyhskAVXXTRhRraQAAAAAAAwbVAraqqqtpN9kCoqqqqqvKBQAAAAAAAQFRAU1VVVVWVUkBDeQ3lNdRQQAAAAADAZNpACw8PDw+PS0A=",
          "dtype": "f8"
         },
         "y0": " ",
         "yaxis": "y"
        }
       ],
       "layout": {
        "annotations": [
         {
          "font": {},
          "showarrow": false,
          "text": "strain=ST5",
          "textangle": 90,
          "x": 0.98,
          "xanchor": "left",
          "xref": "paper",
          "y": 0.11375,
          "yanchor": "middle",
          "yref": "paper"
         },
         {
          "font": {},
          "showarrow": false,
          "text": "strain=ST6",
          "textangle": 90,
          "x": 0.98,
          "xanchor": "left",
          "xref": "paper",
          "y": 0.37124999999999997,
          "yanchor": "middle",
          "yref": "paper"
         },
         {
          "font": {},
          "showarrow": false,
          "text": "strain=ST1",
          "textangle": 90,
          "x": 0.98,
          "xanchor": "left",
          "xref": "paper",
          "y": 0.62875,
          "yanchor": "middle",
          "yref": "paper"
         },
         {
          "font": {},
          "showarrow": false,
          "text": "strain=ST4",
          "textangle": 90,
          "x": 0.98,
          "xanchor": "left",
          "xref": "paper",
          "y": 0.88625,
          "yanchor": "middle",
          "yref": "paper"
         }
        ],
        "boxmode": "group",
        "height": 800,
        "legend": {
         "title": {
          "text": "type"
         },
         "tracegroupgap": 0
        },
        "margin": {
         "t": 60
        },
        "template": {
         "data": {
          "bar": [
           {
            "error_x": {
             "color": "rgb(36,36,36)"
            },
            "error_y": {
             "color": "rgb(36,36,36)"
            },
            "marker": {
             "line": {
              "color": "white",
              "width": 0.5
             },
             "pattern": {
              "fillmode": "overlay",
              "size": 10,
              "solidity": 0.2
             }
            },
            "type": "bar"
           }
          ],
          "barpolar": [
           {
            "marker": {
             "line": {
              "color": "white",
              "width": 0.5
             },
             "pattern": {
              "fillmode": "overlay",
              "size": 10,
              "solidity": 0.2
             }
            },
            "type": "barpolar"
           }
          ],
          "carpet": [
           {
            "aaxis": {
             "endlinecolor": "rgb(36,36,36)",
             "gridcolor": "white",
             "linecolor": "white",
             "minorgridcolor": "white",
             "startlinecolor": "rgb(36,36,36)"
            },
            "baxis": {
             "endlinecolor": "rgb(36,36,36)",
             "gridcolor": "white",
             "linecolor": "white",
             "minorgridcolor": "white",
             "startlinecolor": "rgb(36,36,36)"
            },
            "type": "carpet"
           }
          ],
          "choropleth": [
           {
            "colorbar": {
             "outlinewidth": 1,
             "tickcolor": "rgb(36,36,36)",
             "ticks": "outside"
            },
            "type": "choropleth"
           }
          ],
          "contour": [
           {
            "colorbar": {
             "outlinewidth": 1,
             "tickcolor": "rgb(36,36,36)",
             "ticks": "outside"
            },
            "colorscale": [
             [
              0,
              "#440154"
             ],
             [
              0.1111111111111111,
              "#482878"
             ],
             [
              0.2222222222222222,
              "#3e4989"
             ],
             [
              0.3333333333333333,
              "#31688e"
             ],
             [
              0.4444444444444444,
              "#26828e"
             ],
             [
              0.5555555555555556,
              "#1f9e89"
             ],
             [
              0.6666666666666666,
              "#35b779"
             ],
             [
              0.7777777777777778,
              "#6ece58"
             ],
             [
              0.8888888888888888,
              "#b5de2b"
             ],
             [
              1,
              "#fde725"
             ]
            ],
            "type": "contour"
           }
          ],
          "contourcarpet": [
           {
            "colorbar": {
             "outlinewidth": 1,
             "tickcolor": "rgb(36,36,36)",
             "ticks": "outside"
            },
            "type": "contourcarpet"
           }
          ],
          "heatmap": [
           {
            "colorbar": {
             "outlinewidth": 1,
             "tickcolor": "rgb(36,36,36)",
             "ticks": "outside"
            },
            "colorscale": [
             [
              0,
              "#440154"
             ],
             [
              0.1111111111111111,
              "#482878"
             ],
             [
              0.2222222222222222,
              "#3e4989"
             ],
             [
              0.3333333333333333,
              "#31688e"
             ],
             [
              0.4444444444444444,
              "#26828e"
             ],
             [
              0.5555555555555556,
              "#1f9e89"
             ],
             [
              0.6666666666666666,
              "#35b779"
             ],
             [
              0.7777777777777778,
              "#6ece58"
             ],
             [
              0.8888888888888888,
              "#b5de2b"
             ],
             [
              1,
              "#fde725"
             ]
            ],
            "type": "heatmap"
           }
          ],
          "histogram": [
           {
            "marker": {
             "line": {
              "color": "white",
              "width": 0.6
             }
            },
            "type": "histogram"
           }
          ],
          "histogram2d": [
           {
            "colorbar": {
             "outlinewidth": 1,
             "tickcolor": "rgb(36,36,36)",
             "ticks": "outside"
            },
            "colorscale": [
             [
              0,
              "#440154"
             ],
             [
              0.1111111111111111,
              "#482878"
             ],
             [
              0.2222222222222222,
              "#3e4989"
             ],
             [
              0.3333333333333333,
              "#31688e"
             ],
             [
              0.4444444444444444,
              "#26828e"
             ],
             [
              0.5555555555555556,
              "#1f9e89"
             ],
             [
              0.6666666666666666,
              "#35b779"
             ],
             [
              0.7777777777777778,
              "#6ece58"
             ],
             [
              0.8888888888888888,
              "#b5de2b"
             ],
             [
              1,
              "#fde725"
             ]
            ],
            "type": "histogram2d"
           }
          ],
          "histogram2dcontour": [
           {
            "colorbar": {
             "outlinewidth": 1,
             "tickcolor": "rgb(36,36,36)",
             "ticks": "outside"
            },
            "colorscale": [
             [
              0,
              "#440154"
             ],
             [
              0.1111111111111111,
              "#482878"
             ],
             [
              0.2222222222222222,
              "#3e4989"
             ],
             [
              0.3333333333333333,
              "#31688e"
             ],
             [
              0.4444444444444444,
              "#26828e"
             ],
             [
              0.5555555555555556,
              "#1f9e89"
             ],
             [
              0.6666666666666666,
              "#35b779"
             ],
             [
              0.7777777777777778,
              "#6ece58"
             ],
             [
              0.8888888888888888,
              "#b5de2b"
             ],
             [
              1,
              "#fde725"
             ]
            ],
            "type": "histogram2dcontour"
           }
          ],
          "mesh3d": [
           {
            "colorbar": {
             "outlinewidth": 1,
             "tickcolor": "rgb(36,36,36)",
             "ticks": "outside"
            },
            "type": "mesh3d"
           }
          ],
          "parcoords": [
           {
            "line": {
             "colorbar": {
              "outlinewidth": 1,
              "tickcolor": "rgb(36,36,36)",
              "ticks": "outside"
             }
            },
            "type": "parcoords"
           }
          ],
          "pie": [
           {
            "automargin": true,
            "type": "pie"
           }
          ],
          "scatter": [
           {
            "fillpattern": {
             "fillmode": "overlay",
             "size": 10,
             "solidity": 0.2
            },
            "type": "scatter"
           }
          ],
          "scatter3d": [
           {
            "line": {
             "colorbar": {
              "outlinewidth": 1,
              "tickcolor": "rgb(36,36,36)",
              "ticks": "outside"
             }
            },
            "marker": {
             "colorbar": {
              "outlinewidth": 1,
              "tickcolor": "rgb(36,36,36)",
              "ticks": "outside"
             }
            },
            "type": "scatter3d"
           }
          ],
          "scattercarpet": [
           {
            "marker": {
             "colorbar": {
              "outlinewidth": 1,
              "tickcolor": "rgb(36,36,36)",
              "ticks": "outside"
             }
            },
            "type": "scattercarpet"
           }
          ],
          "scattergeo": [
           {
            "marker": {
             "colorbar": {
              "outlinewidth": 1,
              "tickcolor": "rgb(36,36,36)",
              "ticks": "outside"
             }
            },
            "type": "scattergeo"
           }
          ],
          "scattergl": [
           {
            "marker": {
             "colorbar": {
              "outlinewidth": 1,
              "tickcolor": "rgb(36,36,36)",
              "ticks": "outside"
             }
            },
            "type": "scattergl"
           }
          ],
          "scattermap": [
           {
            "marker": {
             "colorbar": {
              "outlinewidth": 1,
              "tickcolor": "rgb(36,36,36)",
              "ticks": "outside"
             }
            },
            "type": "scattermap"
           }
          ],
          "scattermapbox": [
           {
            "marker": {
             "colorbar": {
              "outlinewidth": 1,
              "tickcolor": "rgb(36,36,36)",
              "ticks": "outside"
             }
            },
            "type": "scattermapbox"
           }
          ],
          "scatterpolar": [
           {
            "marker": {
             "colorbar": {
              "outlinewidth": 1,
              "tickcolor": "rgb(36,36,36)",
              "ticks": "outside"
             }
            },
            "type": "scatterpolar"
           }
          ],
          "scatterpolargl": [
           {
            "marker": {
             "colorbar": {
              "outlinewidth": 1,
              "tickcolor": "rgb(36,36,36)",
              "ticks": "outside"
             }
            },
            "type": "scatterpolargl"
           }
          ],
          "scatterternary": [
           {
            "marker": {
             "colorbar": {
              "outlinewidth": 1,
              "tickcolor": "rgb(36,36,36)",
              "ticks": "outside"
             }
            },
            "type": "scatterternary"
           }
          ],
          "surface": [
           {
            "colorbar": {
             "outlinewidth": 1,
             "tickcolor": "rgb(36,36,36)",
             "ticks": "outside"
            },
            "colorscale": [
             [
              0,
              "#440154"
             ],
             [
              0.1111111111111111,
              "#482878"
             ],
             [
              0.2222222222222222,
              "#3e4989"
             ],
             [
              0.3333333333333333,
              "#31688e"
             ],
             [
              0.4444444444444444,
              "#26828e"
             ],
             [
              0.5555555555555556,
              "#1f9e89"
             ],
             [
              0.6666666666666666,
              "#35b779"
             ],
             [
              0.7777777777777778,
              "#6ece58"
             ],
             [
              0.8888888888888888,
              "#b5de2b"
             ],
             [
              1,
              "#fde725"
             ]
            ],
            "type": "surface"
           }
          ],
          "table": [
           {
            "cells": {
             "fill": {
              "color": "rgb(237,237,237)"
             },
             "line": {
              "color": "white"
             }
            },
            "header": {
             "fill": {
              "color": "rgb(217,217,217)"
             },
             "line": {
              "color": "white"
             }
            },
            "type": "table"
           }
          ]
         },
         "layout": {
          "annotationdefaults": {
           "arrowhead": 0,
           "arrowwidth": 1
          },
          "autotypenumbers": "strict",
          "coloraxis": {
           "colorbar": {
            "outlinewidth": 1,
            "tickcolor": "rgb(36,36,36)",
            "ticks": "outside"
           }
          },
          "colorscale": {
           "diverging": [
            [
             0,
             "rgb(103,0,31)"
            ],
            [
             0.1,
             "rgb(178,24,43)"
            ],
            [
             0.2,
             "rgb(214,96,77)"
            ],
            [
             0.3,
             "rgb(244,165,130)"
            ],
            [
             0.4,
             "rgb(253,219,199)"
            ],
            [
             0.5,
             "rgb(247,247,247)"
            ],
            [
             0.6,
             "rgb(209,229,240)"
            ],
            [
             0.7,
             "rgb(146,197,222)"
            ],
            [
             0.8,
             "rgb(67,147,195)"
            ],
            [
             0.9,
             "rgb(33,102,172)"
            ],
            [
             1,
             "rgb(5,48,97)"
            ]
           ],
           "sequential": [
            [
             0,
             "#440154"
            ],
            [
             0.1111111111111111,
             "#482878"
            ],
            [
             0.2222222222222222,
             "#3e4989"
            ],
            [
             0.3333333333333333,
             "#31688e"
            ],
            [
             0.4444444444444444,
             "#26828e"
            ],
            [
             0.5555555555555556,
             "#1f9e89"
            ],
            [
             0.6666666666666666,
             "#35b779"
            ],
            [
             0.7777777777777778,
             "#6ece58"
            ],
            [
             0.8888888888888888,
             "#b5de2b"
            ],
            [
             1,
             "#fde725"
            ]
           ],
           "sequentialminus": [
            [
             0,
             "#440154"
            ],
            [
             0.1111111111111111,
             "#482878"
            ],
            [
             0.2222222222222222,
             "#3e4989"
            ],
            [
             0.3333333333333333,
             "#31688e"
            ],
            [
             0.4444444444444444,
             "#26828e"
            ],
            [
             0.5555555555555556,
             "#1f9e89"
            ],
            [
             0.6666666666666666,
             "#35b779"
            ],
            [
             0.7777777777777778,
             "#6ece58"
            ],
            [
             0.8888888888888888,
             "#b5de2b"
            ],
            [
             1,
             "#fde725"
            ]
           ]
          },
          "colorway": [
           "#1F77B4",
           "#FF7F0E",
           "#2CA02C",
           "#D62728",
           "#9467BD",
           "#8C564B",
           "#E377C2",
           "#7F7F7F",
           "#BCBD22",
           "#17BECF"
          ],
          "font": {
           "color": "rgb(36,36,36)"
          },
          "geo": {
           "bgcolor": "white",
           "lakecolor": "white",
           "landcolor": "white",
           "showlakes": true,
           "showland": true,
           "subunitcolor": "white"
          },
          "hoverlabel": {
           "align": "left"
          },
          "hovermode": "closest",
          "mapbox": {
           "style": "light"
          },
          "paper_bgcolor": "white",
          "plot_bgcolor": "white",
          "polar": {
           "angularaxis": {
            "gridcolor": "rgb(232,232,232)",
            "linecolor": "rgb(36,36,36)",
            "showgrid": false,
            "showline": true,
            "ticks": "outside"
           },
           "bgcolor": "white",
           "radialaxis": {
            "gridcolor": "rgb(232,232,232)",
            "linecolor": "rgb(36,36,36)",
            "showgrid": false,
            "showline": true,
            "ticks": "outside"
           }
          },
          "scene": {
           "xaxis": {
            "backgroundcolor": "white",
            "gridcolor": "rgb(232,232,232)",
            "gridwidth": 2,
            "linecolor": "rgb(36,36,36)",
            "showbackground": true,
            "showgrid": false,
            "showline": true,
            "ticks": "outside",
            "zeroline": false,
            "zerolinecolor": "rgb(36,36,36)"
           },
           "yaxis": {
            "backgroundcolor": "white",
            "gridcolor": "rgb(232,232,232)",
            "gridwidth": 2,
            "linecolor": "rgb(36,36,36)",
            "showbackground": true,
            "showgrid": false,
            "showline": true,
            "ticks": "outside",
            "zeroline": false,
            "zerolinecolor": "rgb(36,36,36)"
           },
           "zaxis": {
            "backgroundcolor": "white",
            "gridcolor": "rgb(232,232,232)",
            "gridwidth": 2,
            "linecolor": "rgb(36,36,36)",
            "showbackground": true,
            "showgrid": false,
            "showline": true,
            "ticks": "outside",
            "zeroline": false,
            "zerolinecolor": "rgb(36,36,36)"
           }
          },
          "shapedefaults": {
           "fillcolor": "black",
           "line": {
            "width": 0
           },
           "opacity": 0.3
          },
          "ternary": {
           "aaxis": {
            "gridcolor": "rgb(232,232,232)",
            "linecolor": "rgb(36,36,36)",
            "showgrid": false,
            "showline": true,
            "ticks": "outside"
           },
           "baxis": {
            "gridcolor": "rgb(232,232,232)",
            "linecolor": "rgb(36,36,36)",
            "showgrid": false,
            "showline": true,
            "ticks": "outside"
           },
           "bgcolor": "white",
           "caxis": {
            "gridcolor": "rgb(232,232,232)",
            "linecolor": "rgb(36,36,36)",
            "showgrid": false,
            "showline": true,
            "ticks": "outside"
           }
          },
          "title": {
           "x": 0.05
          },
          "xaxis": {
           "automargin": true,
           "gridcolor": "rgb(232,232,232)",
           "linecolor": "rgb(36,36,36)",
           "showgrid": false,
           "showline": true,
           "ticks": "outside",
           "title": {
            "standoff": 15
           },
           "zeroline": false,
           "zerolinecolor": "rgb(36,36,36)"
          },
          "yaxis": {
           "automargin": true,
           "gridcolor": "rgb(232,232,232)",
           "linecolor": "rgb(36,36,36)",
           "showgrid": false,
           "showline": true,
           "ticks": "outside",
           "title": {
            "standoff": 15
           },
           "zeroline": false,
           "zerolinecolor": "rgb(36,36,36)"
          }
         }
        },
        "width": 800,
        "xaxis": {
         "anchor": "y",
         "domain": [
          0,
          0.98
         ],
         "title": {
          "text": "sample_type"
         }
        },
        "xaxis2": {
         "anchor": "y2",
         "domain": [
          0,
          0.98
         ],
         "matches": "x",
         "showticklabels": false
        },
        "xaxis3": {
         "anchor": "y3",
         "domain": [
          0,
          0.98
         ],
         "matches": "x",
         "showticklabels": false
        },
        "xaxis4": {
         "anchor": "y4",
         "domain": [
          0,
          0.98
         ],
         "matches": "x",
         "showticklabels": false
        },
        "yaxis": {
         "anchor": "x",
         "domain": [
          0,
          0.2275
         ],
         "title": {
          "text": "value"
         },
         "type": "log"
        },
        "yaxis2": {
         "anchor": "x2",
         "domain": [
          0.2575,
          0.485
         ],
         "matches": "y",
         "title": {
          "text": "value"
         },
         "type": "log"
        },
        "yaxis3": {
         "anchor": "x3",
         "domain": [
          0.515,
          0.7425
         ],
         "matches": "y",
         "title": {
          "text": "value"
         },
         "type": "log"
        },
        "yaxis4": {
         "anchor": "x4",
         "domain": [
          0.7725,
          1
         ],
         "matches": "y",
         "title": {
          "text": "value"
         },
         "type": "log"
        }
       }
      }
     },
     "metadata": {},
     "output_type": "display_data"
    }
   ],
   "source": [
    "df_plot = df_FP[['cage','strain', 'sample_id', 'sample_type','Nb', 'Ns', 'Ns_MinCutoff']].set_index(['cage','strain', 'sample_id', 'sample_type']).stack()\n",
    "df_plot = df_plot.reset_index()\n",
    "df_plot = df_plot.rename(columns = {'level_4': 'type', 0: 'value'})\n",
    "display(df_plot)\n",
    "fig = px.box(df_plot,\n",
    "            y = 'value',\n",
    "            x = 'sample_type',\n",
    "            color = 'type',\n",
    "            points = 'all',\n",
    "            template = 'simple_white',\n",
    "            width = 800,\n",
    "            height = 400,\n",
    "            log_y = True)\n",
    "fig.show()\n",
    "fig = px.box(df_plot,\n",
    "            y = 'value',\n",
    "            x = 'sample_type',\n",
    "            facet_row = 'strain',\n",
    "            color = 'type',\n",
    "            points = 'all',\n",
    "            template = 'simple_white',\n",
    "            width = 800,\n",
    "            height = 800,\n",
    "            log_y = True)\n",
    "fig.show()"
   ]
  },
  {
   "cell_type": "code",
   "execution_count": 61,
   "id": "8ce4dc44",
   "metadata": {},
   "outputs": [
    {
     "name": "stderr",
     "output_type": "stream",
     "text": [
      "WARNING\tThread(Thread-306 (run)) Task(Task-76) choreographer.browser_async:browser_async.py:_close()- Resorting to unclean kill browser.\n"
     ]
    },
    {
     "data": {
      "application/vnd.plotly.v1+json": {
       "config": {
        "plotlyServerURL": "https://plotly.com"
       },
       "data": [
        {
         "hovertemplate": "strain=ST1<br>mouse_id=mA<br>cage_id=c1<br>time=%{x}<br>Nb=%{y}<extra></extra>",
         "legendgroup": "ST1",
         "marker": {
          "color": "#1F77B4",
          "symbol": "circle"
         },
         "mode": "markers",
         "name": "ST1",
         "orientation": "v",
         "showlegend": true,
         "type": "scatter",
         "x": {
          "bdata": "CBggMA==",
          "dtype": "i1"
         },
         "xaxis": "x6",
         "y": {
          "bdata": "O+1F5UzwxUCAIin5uP/VQC7Ij0KhiNNAbyuGmz32n0A=",
          "dtype": "f8"
         },
         "yaxis": "y6"
        },
        {
         "hovertemplate": "strain=ST1<br>mouse_id=mA<br>cage_id=c2<br>time=%{x}<br>Nb=%{y}<extra></extra>",
         "legendgroup": "ST1",
         "marker": {
          "color": "#1F77B4",
          "symbol": "circle"
         },
         "mode": "markers",
         "name": "ST1",
         "orientation": "v",
         "showlegend": false,
         "type": "scatter",
         "x": {
          "bdata": "CBggMA==",
          "dtype": "i1"
         },
         "xaxis": "x7",
         "y": {
          "bdata": "QgaIRy+abkAYWKBvwuKtQHw6f30gc61AUXj/vvf5l0A=",
          "dtype": "f8"
         },
         "yaxis": "y7"
        },
        {
         "hovertemplate": "strain=ST1<br>mouse_id=mA<br>cage_id=c3<br>time=%{x}<br>Nb=%{y}<extra></extra>",
         "legendgroup": "ST1",
         "marker": {
          "color": "#1F77B4",
          "symbol": "circle"
         },
         "mode": "markers",
         "name": "ST1",
         "orientation": "v",
         "showlegend": false,
         "type": "scatter",
         "x": {
          "bdata": "CBggMA==",
          "dtype": "i1"
         },
         "xaxis": "x8",
         "y": {
          "bdata": "v88DOfW3MUCb/yG6o6tqQADsnLw/MmtAb+XxTVaVakA=",
          "dtype": "f8"
         },
         "yaxis": "y8"
        },
        {
         "hovertemplate": "strain=ST1<br>mouse_id=mA<br>cage_id=c4<br>time=%{x}<br>Nb=%{y}<extra></extra>",
         "legendgroup": "ST1",
         "marker": {
          "color": "#1F77B4",
          "symbol": "circle"
         },
         "mode": "markers",
         "name": "ST1",
         "orientation": "v",
         "showlegend": false,
         "type": "scatter",
         "x": {
          "bdata": "CBggMA==",
          "dtype": "i1"
         },
         "xaxis": "x9",
         "y": {
          "bdata": "DngTcgZPR0A3ZtwRvcUcQI+SYz0ojhxA3V4uwbWEH0A=",
          "dtype": "f8"
         },
         "yaxis": "y9"
        },
        {
         "hovertemplate": "strain=ST1<br>mouse_id=mA<br>cage_id=c5<br>time=%{x}<br>Nb=%{y}<extra></extra>",
         "legendgroup": "ST1",
         "marker": {
          "color": "#1F77B4",
          "symbol": "circle"
         },
         "mode": "markers",
         "name": "ST1",
         "orientation": "v",
         "showlegend": false,
         "type": "scatter",
         "x": {
          "bdata": "CBggMA==",
          "dtype": "i1"
         },
         "xaxis": "x10",
         "y": {
          "bdata": "pyyp5CTdYkCCGX2O9WAxQPqVyVQeCipAFIHyAEPcLEA=",
          "dtype": "f8"
         },
         "yaxis": "y10"
        },
        {
         "hovertemplate": "strain=ST1<br>mouse_id=mB<br>cage_id=c1<br>time=%{x}<br>Nb=%{y}<extra></extra>",
         "legendgroup": "ST1",
         "marker": {
          "color": "#1F77B4",
          "symbol": "circle"
         },
         "mode": "markers",
         "name": "ST1",
         "orientation": "v",
         "showlegend": false,
         "type": "scatter",
         "x": {
          "bdata": "CBggMA==",
          "dtype": "i1"
         },
         "xaxis": "x",
         "y": {
          "bdata": "IUN2hcaxPkAI4QPPzmpqQKGzYP9EKZBAuVLNOJOjp0A=",
          "dtype": "f8"
         },
         "yaxis": "y"
        },
        {
         "hovertemplate": "strain=ST1<br>mouse_id=mB<br>cage_id=c2<br>time=%{x}<br>Nb=%{y}<extra></extra>",
         "legendgroup": "ST1",
         "marker": {
          "color": "#1F77B4",
          "symbol": "circle"
         },
         "mode": "markers",
         "name": "ST1",
         "orientation": "v",
         "showlegend": false,
         "type": "scatter",
         "x": {
          "bdata": "CBggMA==",
          "dtype": "i1"
         },
         "xaxis": "x2",
         "y": {
          "bdata": "6XBHlbHAL0BQP07BR+5nQPOvpWGedFpANEStAbpIZ0A=",
          "dtype": "f8"
         },
         "yaxis": "y2"
        },
        {
         "hovertemplate": "strain=ST1<br>mouse_id=mB<br>cage_id=c3<br>time=%{x}<br>Nb=%{y}<extra></extra>",
         "legendgroup": "ST1",
         "marker": {
          "color": "#1F77B4",
          "symbol": "circle"
         },
         "mode": "markers",
         "name": "ST1",
         "orientation": "v",
         "showlegend": false,
         "type": "scatter",
         "x": {
          "bdata": "CBggMA==",
          "dtype": "i1"
         },
         "xaxis": "x3",
         "y": {
          "bdata": "HP6997d6JkAKZ+NO12hHQAiJD2xKbkpAuMLhzqHKaEA=",
          "dtype": "f8"
         },
         "yaxis": "y3"
        },
        {
         "hovertemplate": "strain=ST1<br>mouse_id=mB<br>cage_id=c4<br>time=%{x}<br>Nb=%{y}<extra></extra>",
         "legendgroup": "ST1",
         "marker": {
          "color": "#1F77B4",
          "symbol": "circle"
         },
         "mode": "markers",
         "name": "ST1",
         "orientation": "v",
         "showlegend": false,
         "type": "scatter",
         "x": {
          "bdata": "CBggMA==",
          "dtype": "i1"
         },
         "xaxis": "x4",
         "y": {
          "bdata": "Rjlp2camK0C/kSOhORAUQBarbs3kVBZAQ3JUfP5XE0A=",
          "dtype": "f8"
         },
         "yaxis": "y4"
        },
        {
         "hovertemplate": "strain=ST1<br>mouse_id=mB<br>cage_id=c5<br>time=%{x}<br>Nb=%{y}<extra></extra>",
         "legendgroup": "ST1",
         "marker": {
          "color": "#1F77B4",
          "symbol": "circle"
         },
         "mode": "markers",
         "name": "ST1",
         "orientation": "v",
         "showlegend": false,
         "type": "scatter",
         "x": {
          "bdata": "CBggMA==",
          "dtype": "i1"
         },
         "xaxis": "x5",
         "y": {
          "bdata": "Xv6sfUD4c0D2shFwyOYxQIbqLuzCdStAEOzDITRsLUA=",
          "dtype": "f8"
         },
         "yaxis": "y5"
        },
        {
         "hovertemplate": "strain=ST5<br>mouse_id=mA<br>cage_id=c1<br>time=%{x}<br>Nb=%{y}<extra></extra>",
         "legendgroup": "ST5",
         "marker": {
          "color": "#D62728",
          "symbol": "circle"
         },
         "mode": "markers",
         "name": "ST5",
         "orientation": "v",
         "showlegend": true,
         "type": "scatter",
         "x": {
          "bdata": "CBggMA==",
          "dtype": "i1"
         },
         "xaxis": "x6",
         "y": {
          "bdata": "C3Xy5ALCJkAV5xEusCRFQJ/DckuR+4hAjrgD9Qi/hkA=",
          "dtype": "f8"
         },
         "yaxis": "y6"
        },
        {
         "hovertemplate": "strain=ST5<br>mouse_id=mA<br>cage_id=c2<br>time=%{x}<br>Nb=%{y}<extra></extra>",
         "legendgroup": "ST5",
         "marker": {
          "color": "#D62728",
          "symbol": "circle"
         },
         "mode": "markers",
         "name": "ST5",
         "orientation": "v",
         "showlegend": false,
         "type": "scatter",
         "x": {
          "bdata": "CBggMA==",
          "dtype": "i1"
         },
         "xaxis": "x7",
         "y": {
          "bdata": "b9lqzIF29T9Pzv/TixRwQBHQAGnV9WVAl+CwTsI9ZEA=",
          "dtype": "f8"
         },
         "yaxis": "y7"
        },
        {
         "hovertemplate": "strain=ST5<br>mouse_id=mA<br>cage_id=c3<br>time=%{x}<br>Nb=%{y}<extra></extra>",
         "legendgroup": "ST5",
         "marker": {
          "color": "#D62728",
          "symbol": "circle"
         },
         "mode": "markers",
         "name": "ST5",
         "orientation": "v",
         "showlegend": false,
         "type": "scatter",
         "x": {
          "bdata": "CBggMA==",
          "dtype": "i1"
         },
         "xaxis": "x8",
         "y": {
          "bdata": "jfG8Rbic9D+APRNXieJ0QOLbIdY+p3dALSoBnkrVckA=",
          "dtype": "f8"
         },
         "yaxis": "y8"
        },
        {
         "hovertemplate": "strain=ST5<br>mouse_id=mA<br>cage_id=c4<br>time=%{x}<br>Nb=%{y}<extra></extra>",
         "legendgroup": "ST5",
         "marker": {
          "color": "#D62728",
          "symbol": "circle"
         },
         "mode": "markers",
         "name": "ST5",
         "orientation": "v",
         "showlegend": false,
         "type": "scatter",
         "x": {
          "bdata": "CBggMA==",
          "dtype": "i1"
         },
         "xaxis": "x9",
         "y": {
          "bdata": "aNS8banfdEDhHf27pEtOQElBfLTnTWRA1JjicBEMLEA=",
          "dtype": "f8"
         },
         "yaxis": "y9"
        },
        {
         "hovertemplate": "strain=ST5<br>mouse_id=mB<br>cage_id=c1<br>time=%{x}<br>Nb=%{y}<extra></extra>",
         "legendgroup": "ST5",
         "marker": {
          "color": "#D62728",
          "symbol": "circle"
         },
         "mode": "markers",
         "name": "ST5",
         "orientation": "v",
         "showlegend": false,
         "type": "scatter",
         "x": {
          "bdata": "CBggMA==",
          "dtype": "i1"
         },
         "xaxis": "x",
         "y": {
          "bdata": "AaS29rjIrkBS7DWEZ+bBQDpwjUW0JMBA183GRirKnkA=",
          "dtype": "f8"
         },
         "yaxis": "y"
        },
        {
         "hovertemplate": "strain=ST5<br>mouse_id=mB<br>cage_id=c2<br>time=%{x}<br>Nb=%{y}<extra></extra>",
         "legendgroup": "ST5",
         "marker": {
          "color": "#D62728",
          "symbol": "circle"
         },
         "mode": "markers",
         "name": "ST5",
         "orientation": "v",
         "showlegend": false,
         "type": "scatter",
         "x": {
          "bdata": "CBggMA==",
          "dtype": "i1"
         },
         "xaxis": "x2",
         "y": {
          "bdata": "ZGmTnTWqNEDHTjumD5ixQH4QfavKarFA0vg9x9+zsUA=",
          "dtype": "f8"
         },
         "yaxis": "y2"
        },
        {
         "hovertemplate": "strain=ST5<br>mouse_id=mB<br>cage_id=c3<br>time=%{x}<br>Nb=%{y}<extra></extra>",
         "legendgroup": "ST5",
         "marker": {
          "color": "#D62728",
          "symbol": "circle"
         },
         "mode": "markers",
         "name": "ST5",
         "orientation": "v",
         "showlegend": false,
         "type": "scatter",
         "x": {
          "bdata": "CBggMA==",
          "dtype": "i1"
         },
         "xaxis": "x3",
         "y": {
          "bdata": "Bx23NiYM9z9wuvszhZ51QF93lD/Xe3VAkSAPrabrdEA=",
          "dtype": "f8"
         },
         "yaxis": "y3"
        },
        {
         "hovertemplate": "strain=ST5<br>mouse_id=mB<br>cage_id=c4<br>time=%{x}<br>Nb=%{y}<extra></extra>",
         "legendgroup": "ST5",
         "marker": {
          "color": "#D62728",
          "symbol": "circle"
         },
         "mode": "markers",
         "name": "ST5",
         "orientation": "v",
         "showlegend": false,
         "type": "scatter",
         "x": {
          "bdata": "CBggMA==",
          "dtype": "i1"
         },
         "xaxis": "x4",
         "y": {
          "bdata": "ds0JbOGr8D/r+XY7WZUJQCLWswz6CiVAMEpBkAO1W0A=",
          "dtype": "f8"
         },
         "yaxis": "y4"
        },
        {
         "hovertemplate": "strain=ST4<br>mouse_id=mA<br>cage_id=c5<br>time=%{x}<br>Nb=%{y}<extra></extra>",
         "legendgroup": "ST4",
         "marker": {
          "color": "#2CA02C",
          "symbol": "circle"
         },
         "mode": "markers",
         "name": "ST4",
         "orientation": "v",
         "showlegend": true,
         "type": "scatter",
         "x": {
          "bdata": "CBggMA==",
          "dtype": "i1"
         },
         "xaxis": "x10",
         "y": {
          "bdata": "qRE07t4J0EDbyNUfXCMUQQadTUf0EBNBQneV9tcZEUE=",
          "dtype": "f8"
         },
         "yaxis": "y10"
        },
        {
         "hovertemplate": "strain=ST4<br>mouse_id=mB<br>cage_id=c5<br>time=%{x}<br>Nb=%{y}<extra></extra>",
         "legendgroup": "ST4",
         "marker": {
          "color": "#2CA02C",
          "symbol": "circle"
         },
         "mode": "markers",
         "name": "ST4",
         "orientation": "v",
         "showlegend": false,
         "type": "scatter",
         "x": {
          "bdata": "CBggMA==",
          "dtype": "i1"
         },
         "xaxis": "x5",
         "y": {
          "bdata": "DpJCIGng7kA3P9VvX7MQQQjSnOP34Q9BGYZ7bGA4DUE=",
          "dtype": "f8"
         },
         "yaxis": "y5"
        }
       ],
       "layout": {
        "annotations": [
         {
          "font": {},
          "showarrow": false,
          "text": "cage_id=c1",
          "x": 0.09000000000000001,
          "xanchor": "center",
          "xref": "paper",
          "y": 1,
          "yanchor": "bottom",
          "yref": "paper"
         },
         {
          "font": {},
          "showarrow": false,
          "text": "cage_id=c2",
          "x": 0.29000000000000004,
          "xanchor": "center",
          "xref": "paper",
          "y": 1,
          "yanchor": "bottom",
          "yref": "paper"
         },
         {
          "font": {},
          "showarrow": false,
          "text": "cage_id=c3",
          "x": 0.49000000000000005,
          "xanchor": "center",
          "xref": "paper",
          "y": 1,
          "yanchor": "bottom",
          "yref": "paper"
         },
         {
          "font": {},
          "showarrow": false,
          "text": "cage_id=c4",
          "x": 0.6900000000000002,
          "xanchor": "center",
          "xref": "paper",
          "y": 1,
          "yanchor": "bottom",
          "yref": "paper"
         },
         {
          "font": {},
          "showarrow": false,
          "text": "cage_id=c5",
          "x": 0.8900000000000001,
          "xanchor": "center",
          "xref": "paper",
          "y": 1,
          "yanchor": "bottom",
          "yref": "paper"
         },
         {
          "font": {},
          "showarrow": false,
          "text": "mouse_id=mB",
          "textangle": 90,
          "x": 0.9800000000000001,
          "xanchor": "left",
          "xref": "paper",
          "y": 0.2425,
          "yanchor": "middle",
          "yref": "paper"
         },
         {
          "font": {},
          "showarrow": false,
          "text": "mouse_id=mA",
          "textangle": 90,
          "x": 0.9800000000000001,
          "xanchor": "left",
          "xref": "paper",
          "y": 0.7575000000000001,
          "yanchor": "middle",
          "yref": "paper"
         }
        ],
        "height": 600,
        "legend": {
         "title": {
          "text": "strain"
         },
         "tracegroupgap": 0
        },
        "margin": {
         "t": 60
        },
        "template": {
         "data": {
          "bar": [
           {
            "error_x": {
             "color": "rgb(36,36,36)"
            },
            "error_y": {
             "color": "rgb(36,36,36)"
            },
            "marker": {
             "line": {
              "color": "white",
              "width": 0.5
             },
             "pattern": {
              "fillmode": "overlay",
              "size": 10,
              "solidity": 0.2
             }
            },
            "type": "bar"
           }
          ],
          "barpolar": [
           {
            "marker": {
             "line": {
              "color": "white",
              "width": 0.5
             },
             "pattern": {
              "fillmode": "overlay",
              "size": 10,
              "solidity": 0.2
             }
            },
            "type": "barpolar"
           }
          ],
          "carpet": [
           {
            "aaxis": {
             "endlinecolor": "rgb(36,36,36)",
             "gridcolor": "white",
             "linecolor": "white",
             "minorgridcolor": "white",
             "startlinecolor": "rgb(36,36,36)"
            },
            "baxis": {
             "endlinecolor": "rgb(36,36,36)",
             "gridcolor": "white",
             "linecolor": "white",
             "minorgridcolor": "white",
             "startlinecolor": "rgb(36,36,36)"
            },
            "type": "carpet"
           }
          ],
          "choropleth": [
           {
            "colorbar": {
             "outlinewidth": 1,
             "tickcolor": "rgb(36,36,36)",
             "ticks": "outside"
            },
            "type": "choropleth"
           }
          ],
          "contour": [
           {
            "colorbar": {
             "outlinewidth": 1,
             "tickcolor": "rgb(36,36,36)",
             "ticks": "outside"
            },
            "colorscale": [
             [
              0,
              "#440154"
             ],
             [
              0.1111111111111111,
              "#482878"
             ],
             [
              0.2222222222222222,
              "#3e4989"
             ],
             [
              0.3333333333333333,
              "#31688e"
             ],
             [
              0.4444444444444444,
              "#26828e"
             ],
             [
              0.5555555555555556,
              "#1f9e89"
             ],
             [
              0.6666666666666666,
              "#35b779"
             ],
             [
              0.7777777777777778,
              "#6ece58"
             ],
             [
              0.8888888888888888,
              "#b5de2b"
             ],
             [
              1,
              "#fde725"
             ]
            ],
            "type": "contour"
           }
          ],
          "contourcarpet": [
           {
            "colorbar": {
             "outlinewidth": 1,
             "tickcolor": "rgb(36,36,36)",
             "ticks": "outside"
            },
            "type": "contourcarpet"
           }
          ],
          "heatmap": [
           {
            "colorbar": {
             "outlinewidth": 1,
             "tickcolor": "rgb(36,36,36)",
             "ticks": "outside"
            },
            "colorscale": [
             [
              0,
              "#440154"
             ],
             [
              0.1111111111111111,
              "#482878"
             ],
             [
              0.2222222222222222,
              "#3e4989"
             ],
             [
              0.3333333333333333,
              "#31688e"
             ],
             [
              0.4444444444444444,
              "#26828e"
             ],
             [
              0.5555555555555556,
              "#1f9e89"
             ],
             [
              0.6666666666666666,
              "#35b779"
             ],
             [
              0.7777777777777778,
              "#6ece58"
             ],
             [
              0.8888888888888888,
              "#b5de2b"
             ],
             [
              1,
              "#fde725"
             ]
            ],
            "type": "heatmap"
           }
          ],
          "histogram": [
           {
            "marker": {
             "line": {
              "color": "white",
              "width": 0.6
             }
            },
            "type": "histogram"
           }
          ],
          "histogram2d": [
           {
            "colorbar": {
             "outlinewidth": 1,
             "tickcolor": "rgb(36,36,36)",
             "ticks": "outside"
            },
            "colorscale": [
             [
              0,
              "#440154"
             ],
             [
              0.1111111111111111,
              "#482878"
             ],
             [
              0.2222222222222222,
              "#3e4989"
             ],
             [
              0.3333333333333333,
              "#31688e"
             ],
             [
              0.4444444444444444,
              "#26828e"
             ],
             [
              0.5555555555555556,
              "#1f9e89"
             ],
             [
              0.6666666666666666,
              "#35b779"
             ],
             [
              0.7777777777777778,
              "#6ece58"
             ],
             [
              0.8888888888888888,
              "#b5de2b"
             ],
             [
              1,
              "#fde725"
             ]
            ],
            "type": "histogram2d"
           }
          ],
          "histogram2dcontour": [
           {
            "colorbar": {
             "outlinewidth": 1,
             "tickcolor": "rgb(36,36,36)",
             "ticks": "outside"
            },
            "colorscale": [
             [
              0,
              "#440154"
             ],
             [
              0.1111111111111111,
              "#482878"
             ],
             [
              0.2222222222222222,
              "#3e4989"
             ],
             [
              0.3333333333333333,
              "#31688e"
             ],
             [
              0.4444444444444444,
              "#26828e"
             ],
             [
              0.5555555555555556,
              "#1f9e89"
             ],
             [
              0.6666666666666666,
              "#35b779"
             ],
             [
              0.7777777777777778,
              "#6ece58"
             ],
             [
              0.8888888888888888,
              "#b5de2b"
             ],
             [
              1,
              "#fde725"
             ]
            ],
            "type": "histogram2dcontour"
           }
          ],
          "mesh3d": [
           {
            "colorbar": {
             "outlinewidth": 1,
             "tickcolor": "rgb(36,36,36)",
             "ticks": "outside"
            },
            "type": "mesh3d"
           }
          ],
          "parcoords": [
           {
            "line": {
             "colorbar": {
              "outlinewidth": 1,
              "tickcolor": "rgb(36,36,36)",
              "ticks": "outside"
             }
            },
            "type": "parcoords"
           }
          ],
          "pie": [
           {
            "automargin": true,
            "type": "pie"
           }
          ],
          "scatter": [
           {
            "fillpattern": {
             "fillmode": "overlay",
             "size": 10,
             "solidity": 0.2
            },
            "type": "scatter"
           }
          ],
          "scatter3d": [
           {
            "line": {
             "colorbar": {
              "outlinewidth": 1,
              "tickcolor": "rgb(36,36,36)",
              "ticks": "outside"
             }
            },
            "marker": {
             "colorbar": {
              "outlinewidth": 1,
              "tickcolor": "rgb(36,36,36)",
              "ticks": "outside"
             }
            },
            "type": "scatter3d"
           }
          ],
          "scattercarpet": [
           {
            "marker": {
             "colorbar": {
              "outlinewidth": 1,
              "tickcolor": "rgb(36,36,36)",
              "ticks": "outside"
             }
            },
            "type": "scattercarpet"
           }
          ],
          "scattergeo": [
           {
            "marker": {
             "colorbar": {
              "outlinewidth": 1,
              "tickcolor": "rgb(36,36,36)",
              "ticks": "outside"
             }
            },
            "type": "scattergeo"
           }
          ],
          "scattergl": [
           {
            "marker": {
             "colorbar": {
              "outlinewidth": 1,
              "tickcolor": "rgb(36,36,36)",
              "ticks": "outside"
             }
            },
            "type": "scattergl"
           }
          ],
          "scattermap": [
           {
            "marker": {
             "colorbar": {
              "outlinewidth": 1,
              "tickcolor": "rgb(36,36,36)",
              "ticks": "outside"
             }
            },
            "type": "scattermap"
           }
          ],
          "scattermapbox": [
           {
            "marker": {
             "colorbar": {
              "outlinewidth": 1,
              "tickcolor": "rgb(36,36,36)",
              "ticks": "outside"
             }
            },
            "type": "scattermapbox"
           }
          ],
          "scatterpolar": [
           {
            "marker": {
             "colorbar": {
              "outlinewidth": 1,
              "tickcolor": "rgb(36,36,36)",
              "ticks": "outside"
             }
            },
            "type": "scatterpolar"
           }
          ],
          "scatterpolargl": [
           {
            "marker": {
             "colorbar": {
              "outlinewidth": 1,
              "tickcolor": "rgb(36,36,36)",
              "ticks": "outside"
             }
            },
            "type": "scatterpolargl"
           }
          ],
          "scatterternary": [
           {
            "marker": {
             "colorbar": {
              "outlinewidth": 1,
              "tickcolor": "rgb(36,36,36)",
              "ticks": "outside"
             }
            },
            "type": "scatterternary"
           }
          ],
          "surface": [
           {
            "colorbar": {
             "outlinewidth": 1,
             "tickcolor": "rgb(36,36,36)",
             "ticks": "outside"
            },
            "colorscale": [
             [
              0,
              "#440154"
             ],
             [
              0.1111111111111111,
              "#482878"
             ],
             [
              0.2222222222222222,
              "#3e4989"
             ],
             [
              0.3333333333333333,
              "#31688e"
             ],
             [
              0.4444444444444444,
              "#26828e"
             ],
             [
              0.5555555555555556,
              "#1f9e89"
             ],
             [
              0.6666666666666666,
              "#35b779"
             ],
             [
              0.7777777777777778,
              "#6ece58"
             ],
             [
              0.8888888888888888,
              "#b5de2b"
             ],
             [
              1,
              "#fde725"
             ]
            ],
            "type": "surface"
           }
          ],
          "table": [
           {
            "cells": {
             "fill": {
              "color": "rgb(237,237,237)"
             },
             "line": {
              "color": "white"
             }
            },
            "header": {
             "fill": {
              "color": "rgb(217,217,217)"
             },
             "line": {
              "color": "white"
             }
            },
            "type": "table"
           }
          ]
         },
         "layout": {
          "annotationdefaults": {
           "arrowhead": 0,
           "arrowwidth": 1
          },
          "autotypenumbers": "strict",
          "coloraxis": {
           "colorbar": {
            "outlinewidth": 1,
            "tickcolor": "rgb(36,36,36)",
            "ticks": "outside"
           }
          },
          "colorscale": {
           "diverging": [
            [
             0,
             "rgb(103,0,31)"
            ],
            [
             0.1,
             "rgb(178,24,43)"
            ],
            [
             0.2,
             "rgb(214,96,77)"
            ],
            [
             0.3,
             "rgb(244,165,130)"
            ],
            [
             0.4,
             "rgb(253,219,199)"
            ],
            [
             0.5,
             "rgb(247,247,247)"
            ],
            [
             0.6,
             "rgb(209,229,240)"
            ],
            [
             0.7,
             "rgb(146,197,222)"
            ],
            [
             0.8,
             "rgb(67,147,195)"
            ],
            [
             0.9,
             "rgb(33,102,172)"
            ],
            [
             1,
             "rgb(5,48,97)"
            ]
           ],
           "sequential": [
            [
             0,
             "#440154"
            ],
            [
             0.1111111111111111,
             "#482878"
            ],
            [
             0.2222222222222222,
             "#3e4989"
            ],
            [
             0.3333333333333333,
             "#31688e"
            ],
            [
             0.4444444444444444,
             "#26828e"
            ],
            [
             0.5555555555555556,
             "#1f9e89"
            ],
            [
             0.6666666666666666,
             "#35b779"
            ],
            [
             0.7777777777777778,
             "#6ece58"
            ],
            [
             0.8888888888888888,
             "#b5de2b"
            ],
            [
             1,
             "#fde725"
            ]
           ],
           "sequentialminus": [
            [
             0,
             "#440154"
            ],
            [
             0.1111111111111111,
             "#482878"
            ],
            [
             0.2222222222222222,
             "#3e4989"
            ],
            [
             0.3333333333333333,
             "#31688e"
            ],
            [
             0.4444444444444444,
             "#26828e"
            ],
            [
             0.5555555555555556,
             "#1f9e89"
            ],
            [
             0.6666666666666666,
             "#35b779"
            ],
            [
             0.7777777777777778,
             "#6ece58"
            ],
            [
             0.8888888888888888,
             "#b5de2b"
            ],
            [
             1,
             "#fde725"
            ]
           ]
          },
          "colorway": [
           "#1F77B4",
           "#FF7F0E",
           "#2CA02C",
           "#D62728",
           "#9467BD",
           "#8C564B",
           "#E377C2",
           "#7F7F7F",
           "#BCBD22",
           "#17BECF"
          ],
          "font": {
           "color": "rgb(36,36,36)"
          },
          "geo": {
           "bgcolor": "white",
           "lakecolor": "white",
           "landcolor": "white",
           "showlakes": true,
           "showland": true,
           "subunitcolor": "white"
          },
          "hoverlabel": {
           "align": "left"
          },
          "hovermode": "closest",
          "mapbox": {
           "style": "light"
          },
          "paper_bgcolor": "white",
          "plot_bgcolor": "white",
          "polar": {
           "angularaxis": {
            "gridcolor": "rgb(232,232,232)",
            "linecolor": "rgb(36,36,36)",
            "showgrid": false,
            "showline": true,
            "ticks": "outside"
           },
           "bgcolor": "white",
           "radialaxis": {
            "gridcolor": "rgb(232,232,232)",
            "linecolor": "rgb(36,36,36)",
            "showgrid": false,
            "showline": true,
            "ticks": "outside"
           }
          },
          "scene": {
           "xaxis": {
            "backgroundcolor": "white",
            "gridcolor": "rgb(232,232,232)",
            "gridwidth": 2,
            "linecolor": "rgb(36,36,36)",
            "showbackground": true,
            "showgrid": false,
            "showline": true,
            "ticks": "outside",
            "zeroline": false,
            "zerolinecolor": "rgb(36,36,36)"
           },
           "yaxis": {
            "backgroundcolor": "white",
            "gridcolor": "rgb(232,232,232)",
            "gridwidth": 2,
            "linecolor": "rgb(36,36,36)",
            "showbackground": true,
            "showgrid": false,
            "showline": true,
            "ticks": "outside",
            "zeroline": false,
            "zerolinecolor": "rgb(36,36,36)"
           },
           "zaxis": {
            "backgroundcolor": "white",
            "gridcolor": "rgb(232,232,232)",
            "gridwidth": 2,
            "linecolor": "rgb(36,36,36)",
            "showbackground": true,
            "showgrid": false,
            "showline": true,
            "ticks": "outside",
            "zeroline": false,
            "zerolinecolor": "rgb(36,36,36)"
           }
          },
          "shapedefaults": {
           "fillcolor": "black",
           "line": {
            "width": 0
           },
           "opacity": 0.3
          },
          "ternary": {
           "aaxis": {
            "gridcolor": "rgb(232,232,232)",
            "linecolor": "rgb(36,36,36)",
            "showgrid": false,
            "showline": true,
            "ticks": "outside"
           },
           "baxis": {
            "gridcolor": "rgb(232,232,232)",
            "linecolor": "rgb(36,36,36)",
            "showgrid": false,
            "showline": true,
            "ticks": "outside"
           },
           "bgcolor": "white",
           "caxis": {
            "gridcolor": "rgb(232,232,232)",
            "linecolor": "rgb(36,36,36)",
            "showgrid": false,
            "showline": true,
            "ticks": "outside"
           }
          },
          "title": {
           "x": 0.05
          },
          "xaxis": {
           "automargin": true,
           "gridcolor": "rgb(232,232,232)",
           "linecolor": "rgb(36,36,36)",
           "showgrid": false,
           "showline": true,
           "ticks": "outside",
           "title": {
            "standoff": 15
           },
           "zeroline": false,
           "zerolinecolor": "rgb(36,36,36)"
          },
          "yaxis": {
           "automargin": true,
           "gridcolor": "rgb(232,232,232)",
           "linecolor": "rgb(36,36,36)",
           "showgrid": false,
           "showline": true,
           "ticks": "outside",
           "title": {
            "standoff": 15
           },
           "zeroline": false,
           "zerolinecolor": "rgb(36,36,36)"
          }
         }
        },
        "width": 800,
        "xaxis": {
         "anchor": "y",
         "domain": [
          0,
          0.18000000000000002
         ],
         "title": {
          "text": "time"
         }
        },
        "xaxis10": {
         "anchor": "y10",
         "domain": [
          0.8,
          0.9800000000000001
         ],
         "matches": "x",
         "showticklabels": false
        },
        "xaxis2": {
         "anchor": "y2",
         "domain": [
          0.2,
          0.38
         ],
         "matches": "x",
         "title": {
          "text": "time"
         }
        },
        "xaxis3": {
         "anchor": "y3",
         "domain": [
          0.4,
          0.5800000000000001
         ],
         "matches": "x",
         "title": {
          "text": "time"
         }
        },
        "xaxis4": {
         "anchor": "y4",
         "domain": [
          0.6000000000000001,
          0.7800000000000001
         ],
         "matches": "x",
         "title": {
          "text": "time"
         }
        },
        "xaxis5": {
         "anchor": "y5",
         "domain": [
          0.8,
          0.9800000000000001
         ],
         "matches": "x",
         "title": {
          "text": "time"
         }
        },
        "xaxis6": {
         "anchor": "y6",
         "domain": [
          0,
          0.18000000000000002
         ],
         "matches": "x",
         "showticklabels": false
        },
        "xaxis7": {
         "anchor": "y7",
         "domain": [
          0.2,
          0.38
         ],
         "matches": "x",
         "showticklabels": false
        },
        "xaxis8": {
         "anchor": "y8",
         "domain": [
          0.4,
          0.5800000000000001
         ],
         "matches": "x",
         "showticklabels": false
        },
        "xaxis9": {
         "anchor": "y9",
         "domain": [
          0.6000000000000001,
          0.7800000000000001
         ],
         "matches": "x",
         "showticklabels": false
        },
        "yaxis": {
         "anchor": "x",
         "domain": [
          0,
          0.485
         ],
         "title": {
          "text": "Nb"
         },
         "type": "log"
        },
        "yaxis10": {
         "anchor": "x10",
         "domain": [
          0.515,
          1
         ],
         "matches": "y",
         "showticklabels": false,
         "type": "log"
        },
        "yaxis2": {
         "anchor": "x2",
         "domain": [
          0,
          0.485
         ],
         "matches": "y",
         "showticklabels": false,
         "type": "log"
        },
        "yaxis3": {
         "anchor": "x3",
         "domain": [
          0,
          0.485
         ],
         "matches": "y",
         "showticklabels": false,
         "type": "log"
        },
        "yaxis4": {
         "anchor": "x4",
         "domain": [
          0,
          0.485
         ],
         "matches": "y",
         "showticklabels": false,
         "type": "log"
        },
        "yaxis5": {
         "anchor": "x5",
         "domain": [
          0,
          0.485
         ],
         "matches": "y",
         "showticklabels": false,
         "type": "log"
        },
        "yaxis6": {
         "anchor": "x6",
         "domain": [
          0.515,
          1
         ],
         "matches": "y",
         "title": {
          "text": "Nb"
         },
         "type": "log"
        },
        "yaxis7": {
         "anchor": "x7",
         "domain": [
          0.515,
          1
         ],
         "matches": "y",
         "showticklabels": false,
         "type": "log"
        },
        "yaxis8": {
         "anchor": "x8",
         "domain": [
          0.515,
          1
         ],
         "matches": "y",
         "showticklabels": false,
         "type": "log"
        },
        "yaxis9": {
         "anchor": "x9",
         "domain": [
          0.515,
          1
         ],
         "matches": "y",
         "showticklabels": false,
         "type": "log"
        }
       }
      }
     },
     "metadata": {},
     "output_type": "display_data"
    },
    {
     "data": {
      "application/vnd.plotly.v1+json": {
       "config": {
        "plotlyServerURL": "https://plotly.com"
       },
       "data": [
        {
         "hovertemplate": "strain=ST1<br>mouse_id=mA<br>cage_id=c1<br>time=%{x}<br>Ns=%{y}<extra></extra>",
         "legendgroup": "ST1",
         "marker": {
          "color": "#1F77B4",
          "symbol": "circle"
         },
         "mode": "markers",
         "name": "ST1",
         "orientation": "v",
         "showlegend": true,
         "type": "scatter",
         "x": {
          "bdata": "CBggMA==",
          "dtype": "i1"
         },
         "xaxis": "x6",
         "y": {
          "bdata": "AAAAAEQUEEEAAAAAmCIWQQAAAAC0FhFBAAAAADgyFkE=",
          "dtype": "f8"
         },
         "yaxis": "y6"
        },
        {
         "hovertemplate": "strain=ST1<br>mouse_id=mA<br>cage_id=c2<br>time=%{x}<br>Ns=%{y}<extra></extra>",
         "legendgroup": "ST1",
         "marker": {
          "color": "#1F77B4",
          "symbol": "circle"
         },
         "mode": "markers",
         "name": "ST1",
         "orientation": "v",
         "showlegend": false,
         "type": "scatter",
         "x": {
          "bdata": "CBggMA==",
          "dtype": "i1"
         },
         "xaxis": "x7",
         "y": {
          "bdata": "cvIaymvclkCfiy66iPLlQGF00UW3feVAKrrooiuE5EA=",
          "dtype": "f8"
         },
         "yaxis": "y7"
        },
        {
         "hovertemplate": "strain=ST1<br>mouse_id=mA<br>cage_id=c3<br>time=%{x}<br>Ns=%{y}<extra></extra>",
         "legendgroup": "ST1",
         "marker": {
          "color": "#1F77B4",
          "symbol": "circle"
         },
         "mode": "markers",
         "name": "ST1",
         "orientation": "v",
         "showlegend": false,
         "type": "scatter",
         "x": {
          "bdata": "CBggMA==",
          "dtype": "i1"
         },
         "xaxis": "x8",
         "y": {
          "bdata": "YVVVVVW1Y0DwGsprKMORQPAaymsoY5JAuaqqqqoWkkA=",
          "dtype": "f8"
         },
         "yaxis": "y8"
        },
        {
         "hovertemplate": "strain=ST1<br>mouse_id=mA<br>cage_id=c4<br>time=%{x}<br>Ns=%{y}<extra></extra>",
         "legendgroup": "ST1",
         "marker": {
          "color": "#1F77B4",
          "symbol": "circle"
         },
         "mode": "markers",
         "name": "ST1",
         "orientation": "v",
         "showlegend": false,
         "type": "scatter",
         "x": {
          "bdata": "CBggMA==",
          "dtype": "i1"
         },
         "xaxis": "x9",
         "y": {
          "bdata": "FUmSJMmPz0CI4ziO4zgoQIjjOI7jOChAiOM4juM4KEA=",
          "dtype": "f8"
         },
         "yaxis": "y9"
        },
        {
         "hovertemplate": "strain=ST1<br>mouse_id=mA<br>cage_id=c5<br>time=%{x}<br>Ns=%{y}<extra></extra>",
         "legendgroup": "ST1",
         "marker": {
          "color": "#1F77B4",
          "symbol": "circle"
         },
         "mode": "markers",
         "name": "ST1",
         "orientation": "v",
         "showlegend": false,
         "type": "scatter",
         "x": {
          "bdata": "CBggMA==",
          "dtype": "i1"
         },
         "xaxis": "x10",
         "y": {
          "bdata": "wG3btm3Np0AAAAAAAOe1QLzooosu7KhAH8dxHMcTrkA=",
          "dtype": "f8"
         },
         "yaxis": "y10"
        },
        {
         "hovertemplate": "strain=ST1<br>mouse_id=mB<br>cage_id=c1<br>time=%{x}<br>Ns=%{y}<extra></extra>",
         "legendgroup": "ST1",
         "marker": {
          "color": "#1F77B4",
          "symbol": "circle"
         },
         "mode": "markers",
         "name": "ST1",
         "orientation": "v",
         "showlegend": false,
         "type": "scatter",
         "x": {
          "bdata": "CBggMA==",
          "dtype": "i1"
         },
         "xaxis": "x",
         "y": {
          "bdata": "0LZt23al0kAAAAAAQNfUQJnYiZ0Yo99AAAAAAIg28EA=",
          "dtype": "f8"
         },
         "yaxis": "y"
        },
        {
         "hovertemplate": "strain=ST1<br>mouse_id=mB<br>cage_id=c2<br>time=%{x}<br>Ns=%{y}<extra></extra>",
         "legendgroup": "ST1",
         "marker": {
          "color": "#1F77B4",
          "symbol": "circle"
         },
         "mode": "markers",
         "name": "ST1",
         "orientation": "v",
         "showlegend": false,
         "type": "scatter",
         "x": {
          "bdata": "CBggMA==",
          "dtype": "i1"
         },
         "xaxis": "x2",
         "y": {
          "bdata": "1kUXXRSe5EAAAAAA4L3QQKaqqqoqZuNAaFVVVdXHzUA=",
          "dtype": "f8"
         },
         "yaxis": "y2"
        },
        {
         "hovertemplate": "strain=ST1<br>mouse_id=mB<br>cage_id=c3<br>time=%{x}<br>Ns=%{y}<extra></extra>",
         "legendgroup": "ST1",
         "marker": {
          "color": "#1F77B4",
          "symbol": "circle"
         },
         "mode": "markers",
         "name": "ST1",
         "orientation": "v",
         "showlegend": false,
         "type": "scatter",
         "x": {
          "bdata": "CBggMA==",
          "dtype": "i1"
         },
         "xaxis": "x3",
         "y": {
          "bdata": "6uHh4eHhOkAAAAAAAKBrQAAAAAAA+qFAAAAAAIBEykA=",
          "dtype": "f8"
         },
         "yaxis": "y3"
        },
        {
         "hovertemplate": "strain=ST1<br>mouse_id=mB<br>cage_id=c4<br>time=%{x}<br>Ns=%{y}<extra></extra>",
         "legendgroup": "ST1",
         "marker": {
          "color": "#1F77B4",
          "symbol": "circle"
         },
         "mode": "markers",
         "name": "ST1",
         "orientation": "v",
         "showlegend": false,
         "type": "scatter",
         "x": {
          "bdata": "CBggMA==",
          "dtype": "i1"
         },
         "xaxis": "x4",
         "y": {
          "bdata": "xHEcx3GcSkCovIbyGkpAQAAAAAAAACZAAAAAAAAAJkA=",
          "dtype": "f8"
         },
         "yaxis": "y4"
        },
        {
         "hovertemplate": "strain=ST1<br>mouse_id=mB<br>cage_id=c5<br>time=%{x}<br>Ns=%{y}<extra></extra>",
         "legendgroup": "ST1",
         "marker": {
          "color": "#1F77B4",
          "symbol": "circle"
         },
         "mode": "markers",
         "name": "ST1",
         "orientation": "v",
         "showlegend": false,
         "type": "scatter",
         "x": {
          "bdata": "CBggMA==",
          "dtype": "i1"
         },
         "xaxis": "x5",
         "y": {
          "bdata": "XnTRRRf6tEAAAAAAAF23QAAAAAAAQbBAoosuuug3sEA=",
          "dtype": "f8"
         },
         "yaxis": "y5"
        },
        {
         "hovertemplate": "strain=ST5<br>mouse_id=mA<br>cage_id=c1<br>time=%{x}<br>Ns=%{y}<extra></extra>",
         "legendgroup": "ST5",
         "marker": {
          "color": "#D62728",
          "symbol": "circle"
         },
         "mode": "markers",
         "name": "ST5",
         "orientation": "v",
         "showlegend": true,
         "type": "scatter",
         "x": {
          "bdata": "CBggMA==",
          "dtype": "i1"
         },
         "xaxis": "x6",
         "y": {
          "bdata": "AAAAAICeuUAAAAAAQNjYQLSqqqpqXtRAAAAAAEBE2EA=",
          "dtype": "f8"
         },
         "yaxis": "y6"
        },
        {
         "hovertemplate": "strain=ST5<br>mouse_id=mA<br>cage_id=c2<br>time=%{x}<br>Ns=%{y}<extra></extra>",
         "legendgroup": "ST5",
         "marker": {
          "color": "#D62728",
          "symbol": "circle"
         },
         "mode": "markers",
         "name": "ST5",
         "orientation": "v",
         "showlegend": false,
         "type": "scatter",
         "x": {
          "bdata": "CBggMA==",
          "dtype": "i1"
         },
         "xaxis": "x7",
         "y": {
          "bdata": "ahzHcRzXcUAAAAAAYLfgQH94eHh4IqhAAAAAAEBm3EA=",
          "dtype": "f8"
         },
         "yaxis": "y7"
        },
        {
         "hovertemplate": "strain=ST5<br>mouse_id=mA<br>cage_id=c3<br>time=%{x}<br>Ns=%{y}<extra></extra>",
         "legendgroup": "ST5",
         "marker": {
          "color": "#D62728",
          "symbol": "circle"
         },
         "mode": "markers",
         "name": "ST5",
         "orientation": "v",
         "showlegend": false,
         "type": "scatter",
         "x": {
          "bdata": "CBggMA==",
          "dtype": "i1"
         },
         "xaxis": "x8",
         "y": {
          "bdata": "Ly0tLS2tRUAAAAAAAFzRQAAAAAAAoNNAmBM7sZMpy0A=",
          "dtype": "f8"
         },
         "yaxis": "y8"
        },
        {
         "hovertemplate": "strain=ST5<br>mouse_id=mA<br>cage_id=c4<br>time=%{x}<br>Ns=%{y}<extra></extra>",
         "legendgroup": "ST5",
         "marker": {
          "color": "#D62728",
          "symbol": "circle"
         },
         "mode": "markers",
         "name": "ST5",
         "orientation": "v",
         "showlegend": false,
         "type": "scatter",
         "x": {
          "bdata": "CBggMA==",
          "dtype": "i1"
         },
         "xaxis": "x9",
         "y": {
          "bdata": "VF5DeQ0lUkDWRRddtB7ZQM1O7MSOztBAAAAAAACqq0A=",
          "dtype": "f8"
         },
         "yaxis": "y9"
        },
        {
         "hovertemplate": "strain=ST5<br>mouse_id=mB<br>cage_id=c1<br>time=%{x}<br>Ns=%{y}<extra></extra>",
         "legendgroup": "ST5",
         "marker": {
          "color": "#D62728",
          "symbol": "circle"
         },
         "mode": "markers",
         "name": "ST5",
         "orientation": "v",
         "showlegend": false,
         "type": "scatter",
         "x": {
          "bdata": "CBggMA==",
          "dtype": "i1"
         },
         "xaxis": "x",
         "y": {
          "bdata": "AAAAAFA/80A+VVVVpbz/QD5VVVUl8fpAAAAAAOAtC0E=",
          "dtype": "f8"
         },
         "yaxis": "y"
        },
        {
         "hovertemplate": "strain=ST5<br>mouse_id=mB<br>cage_id=c2<br>time=%{x}<br>Ns=%{y}<extra></extra>",
         "legendgroup": "ST5",
         "marker": {
          "color": "#D62728",
          "symbol": "circle"
         },
         "mode": "markers",
         "name": "ST5",
         "orientation": "v",
         "showlegend": false,
         "type": "scatter",
         "x": {
          "bdata": "CBggMA==",
          "dtype": "i1"
         },
         "xaxis": "x2",
         "y": {
          "bdata": "AcVO7ESDzkDnOI7jePjdQExVVVWVG99AtKqqquqJ3UA=",
          "dtype": "f8"
         },
         "yaxis": "y2"
        },
        {
         "hovertemplate": "strain=ST5<br>mouse_id=mB<br>cage_id=c3<br>time=%{x}<br>Ns=%{y}<extra></extra>",
         "legendgroup": "ST5",
         "marker": {
          "color": "#D62728",
          "symbol": "circle"
         },
         "mode": "markers",
         "name": "ST5",
         "orientation": "v",
         "showlegend": false,
         "type": "scatter",
         "x": {
          "bdata": "CBggMA==",
          "dtype": "i1"
         },
         "xaxis": "x3",
         "y": {
          "bdata": "HR4eHh5eWEA8juM4jiNTQB7HcRzHMVFA5DWU11CeUUA=",
          "dtype": "f8"
         },
         "yaxis": "y3"
        },
        {
         "hovertemplate": "strain=ST5<br>mouse_id=mB<br>cage_id=c4<br>time=%{x}<br>Ns=%{y}<extra></extra>",
         "legendgroup": "ST5",
         "marker": {
          "color": "#D62728",
          "symbol": "circle"
         },
         "mode": "markers",
         "name": "ST5",
         "orientation": "v",
         "showlegend": false,
         "type": "scatter",
         "x": {
          "bdata": "CBggMA==",
          "dtype": "i1"
         },
         "xaxis": "x4",
         "y": {
          "bdata": "AAAAAAAANUALDw8PD09bQJud2Ikd+c9AaNFFF51J0kA=",
          "dtype": "f8"
         },
         "yaxis": "y4"
        },
        {
         "hovertemplate": "strain=ST4<br>mouse_id=mA<br>cage_id=c5<br>time=%{x}<br>Ns=%{y}<extra></extra>",
         "legendgroup": "ST4",
         "marker": {
          "color": "#2CA02C",
          "symbol": "circle"
         },
         "mode": "markers",
         "name": "ST4",
         "orientation": "v",
         "showlegend": true,
         "type": "scatter",
         "x": {
          "bdata": "CBggMA==",
          "dtype": "i1"
         },
         "xaxis": "x10",
         "y": {
          "bdata": "UlVVVVU0tkAAAAAA60w5QQAAAAC6KTdBAAAAAMuTOkE=",
          "dtype": "f8"
         },
         "yaxis": "y10"
        },
        {
         "hovertemplate": "strain=ST4<br>mouse_id=mB<br>cage_id=c5<br>time=%{x}<br>Ns=%{y}<extra></extra>",
         "legendgroup": "ST4",
         "marker": {
          "color": "#2CA02C",
          "symbol": "circle"
         },
         "mode": "markers",
         "name": "ST4",
         "orientation": "v",
         "showlegend": false,
         "type": "scatter",
         "x": {
          "bdata": "CBggMA==",
          "dtype": "i1"
         },
         "xaxis": "x5",
         "y": {
          "bdata": "AAAAAJCOHkEAAAAADJw9QQAAAAATGjFBAAAAAKjVMUE=",
          "dtype": "f8"
         },
         "yaxis": "y5"
        }
       ],
       "layout": {
        "annotations": [
         {
          "font": {},
          "showarrow": false,
          "text": "cage_id=c1",
          "x": 0.09000000000000001,
          "xanchor": "center",
          "xref": "paper",
          "y": 1,
          "yanchor": "bottom",
          "yref": "paper"
         },
         {
          "font": {},
          "showarrow": false,
          "text": "cage_id=c2",
          "x": 0.29000000000000004,
          "xanchor": "center",
          "xref": "paper",
          "y": 1,
          "yanchor": "bottom",
          "yref": "paper"
         },
         {
          "font": {},
          "showarrow": false,
          "text": "cage_id=c3",
          "x": 0.49000000000000005,
          "xanchor": "center",
          "xref": "paper",
          "y": 1,
          "yanchor": "bottom",
          "yref": "paper"
         },
         {
          "font": {},
          "showarrow": false,
          "text": "cage_id=c4",
          "x": 0.6900000000000002,
          "xanchor": "center",
          "xref": "paper",
          "y": 1,
          "yanchor": "bottom",
          "yref": "paper"
         },
         {
          "font": {},
          "showarrow": false,
          "text": "cage_id=c5",
          "x": 0.8900000000000001,
          "xanchor": "center",
          "xref": "paper",
          "y": 1,
          "yanchor": "bottom",
          "yref": "paper"
         },
         {
          "font": {},
          "showarrow": false,
          "text": "mouse_id=mB",
          "textangle": 90,
          "x": 0.9800000000000001,
          "xanchor": "left",
          "xref": "paper",
          "y": 0.2425,
          "yanchor": "middle",
          "yref": "paper"
         },
         {
          "font": {},
          "showarrow": false,
          "text": "mouse_id=mA",
          "textangle": 90,
          "x": 0.9800000000000001,
          "xanchor": "left",
          "xref": "paper",
          "y": 0.7575000000000001,
          "yanchor": "middle",
          "yref": "paper"
         }
        ],
        "height": 600,
        "legend": {
         "title": {
          "text": "strain"
         },
         "tracegroupgap": 0
        },
        "margin": {
         "t": 60
        },
        "template": {
         "data": {
          "bar": [
           {
            "error_x": {
             "color": "rgb(36,36,36)"
            },
            "error_y": {
             "color": "rgb(36,36,36)"
            },
            "marker": {
             "line": {
              "color": "white",
              "width": 0.5
             },
             "pattern": {
              "fillmode": "overlay",
              "size": 10,
              "solidity": 0.2
             }
            },
            "type": "bar"
           }
          ],
          "barpolar": [
           {
            "marker": {
             "line": {
              "color": "white",
              "width": 0.5
             },
             "pattern": {
              "fillmode": "overlay",
              "size": 10,
              "solidity": 0.2
             }
            },
            "type": "barpolar"
           }
          ],
          "carpet": [
           {
            "aaxis": {
             "endlinecolor": "rgb(36,36,36)",
             "gridcolor": "white",
             "linecolor": "white",
             "minorgridcolor": "white",
             "startlinecolor": "rgb(36,36,36)"
            },
            "baxis": {
             "endlinecolor": "rgb(36,36,36)",
             "gridcolor": "white",
             "linecolor": "white",
             "minorgridcolor": "white",
             "startlinecolor": "rgb(36,36,36)"
            },
            "type": "carpet"
           }
          ],
          "choropleth": [
           {
            "colorbar": {
             "outlinewidth": 1,
             "tickcolor": "rgb(36,36,36)",
             "ticks": "outside"
            },
            "type": "choropleth"
           }
          ],
          "contour": [
           {
            "colorbar": {
             "outlinewidth": 1,
             "tickcolor": "rgb(36,36,36)",
             "ticks": "outside"
            },
            "colorscale": [
             [
              0,
              "#440154"
             ],
             [
              0.1111111111111111,
              "#482878"
             ],
             [
              0.2222222222222222,
              "#3e4989"
             ],
             [
              0.3333333333333333,
              "#31688e"
             ],
             [
              0.4444444444444444,
              "#26828e"
             ],
             [
              0.5555555555555556,
              "#1f9e89"
             ],
             [
              0.6666666666666666,
              "#35b779"
             ],
             [
              0.7777777777777778,
              "#6ece58"
             ],
             [
              0.8888888888888888,
              "#b5de2b"
             ],
             [
              1,
              "#fde725"
             ]
            ],
            "type": "contour"
           }
          ],
          "contourcarpet": [
           {
            "colorbar": {
             "outlinewidth": 1,
             "tickcolor": "rgb(36,36,36)",
             "ticks": "outside"
            },
            "type": "contourcarpet"
           }
          ],
          "heatmap": [
           {
            "colorbar": {
             "outlinewidth": 1,
             "tickcolor": "rgb(36,36,36)",
             "ticks": "outside"
            },
            "colorscale": [
             [
              0,
              "#440154"
             ],
             [
              0.1111111111111111,
              "#482878"
             ],
             [
              0.2222222222222222,
              "#3e4989"
             ],
             [
              0.3333333333333333,
              "#31688e"
             ],
             [
              0.4444444444444444,
              "#26828e"
             ],
             [
              0.5555555555555556,
              "#1f9e89"
             ],
             [
              0.6666666666666666,
              "#35b779"
             ],
             [
              0.7777777777777778,
              "#6ece58"
             ],
             [
              0.8888888888888888,
              "#b5de2b"
             ],
             [
              1,
              "#fde725"
             ]
            ],
            "type": "heatmap"
           }
          ],
          "histogram": [
           {
            "marker": {
             "line": {
              "color": "white",
              "width": 0.6
             }
            },
            "type": "histogram"
           }
          ],
          "histogram2d": [
           {
            "colorbar": {
             "outlinewidth": 1,
             "tickcolor": "rgb(36,36,36)",
             "ticks": "outside"
            },
            "colorscale": [
             [
              0,
              "#440154"
             ],
             [
              0.1111111111111111,
              "#482878"
             ],
             [
              0.2222222222222222,
              "#3e4989"
             ],
             [
              0.3333333333333333,
              "#31688e"
             ],
             [
              0.4444444444444444,
              "#26828e"
             ],
             [
              0.5555555555555556,
              "#1f9e89"
             ],
             [
              0.6666666666666666,
              "#35b779"
             ],
             [
              0.7777777777777778,
              "#6ece58"
             ],
             [
              0.8888888888888888,
              "#b5de2b"
             ],
             [
              1,
              "#fde725"
             ]
            ],
            "type": "histogram2d"
           }
          ],
          "histogram2dcontour": [
           {
            "colorbar": {
             "outlinewidth": 1,
             "tickcolor": "rgb(36,36,36)",
             "ticks": "outside"
            },
            "colorscale": [
             [
              0,
              "#440154"
             ],
             [
              0.1111111111111111,
              "#482878"
             ],
             [
              0.2222222222222222,
              "#3e4989"
             ],
             [
              0.3333333333333333,
              "#31688e"
             ],
             [
              0.4444444444444444,
              "#26828e"
             ],
             [
              0.5555555555555556,
              "#1f9e89"
             ],
             [
              0.6666666666666666,
              "#35b779"
             ],
             [
              0.7777777777777778,
              "#6ece58"
             ],
             [
              0.8888888888888888,
              "#b5de2b"
             ],
             [
              1,
              "#fde725"
             ]
            ],
            "type": "histogram2dcontour"
           }
          ],
          "mesh3d": [
           {
            "colorbar": {
             "outlinewidth": 1,
             "tickcolor": "rgb(36,36,36)",
             "ticks": "outside"
            },
            "type": "mesh3d"
           }
          ],
          "parcoords": [
           {
            "line": {
             "colorbar": {
              "outlinewidth": 1,
              "tickcolor": "rgb(36,36,36)",
              "ticks": "outside"
             }
            },
            "type": "parcoords"
           }
          ],
          "pie": [
           {
            "automargin": true,
            "type": "pie"
           }
          ],
          "scatter": [
           {
            "fillpattern": {
             "fillmode": "overlay",
             "size": 10,
             "solidity": 0.2
            },
            "type": "scatter"
           }
          ],
          "scatter3d": [
           {
            "line": {
             "colorbar": {
              "outlinewidth": 1,
              "tickcolor": "rgb(36,36,36)",
              "ticks": "outside"
             }
            },
            "marker": {
             "colorbar": {
              "outlinewidth": 1,
              "tickcolor": "rgb(36,36,36)",
              "ticks": "outside"
             }
            },
            "type": "scatter3d"
           }
          ],
          "scattercarpet": [
           {
            "marker": {
             "colorbar": {
              "outlinewidth": 1,
              "tickcolor": "rgb(36,36,36)",
              "ticks": "outside"
             }
            },
            "type": "scattercarpet"
           }
          ],
          "scattergeo": [
           {
            "marker": {
             "colorbar": {
              "outlinewidth": 1,
              "tickcolor": "rgb(36,36,36)",
              "ticks": "outside"
             }
            },
            "type": "scattergeo"
           }
          ],
          "scattergl": [
           {
            "marker": {
             "colorbar": {
              "outlinewidth": 1,
              "tickcolor": "rgb(36,36,36)",
              "ticks": "outside"
             }
            },
            "type": "scattergl"
           }
          ],
          "scattermap": [
           {
            "marker": {
             "colorbar": {
              "outlinewidth": 1,
              "tickcolor": "rgb(36,36,36)",
              "ticks": "outside"
             }
            },
            "type": "scattermap"
           }
          ],
          "scattermapbox": [
           {
            "marker": {
             "colorbar": {
              "outlinewidth": 1,
              "tickcolor": "rgb(36,36,36)",
              "ticks": "outside"
             }
            },
            "type": "scattermapbox"
           }
          ],
          "scatterpolar": [
           {
            "marker": {
             "colorbar": {
              "outlinewidth": 1,
              "tickcolor": "rgb(36,36,36)",
              "ticks": "outside"
             }
            },
            "type": "scatterpolar"
           }
          ],
          "scatterpolargl": [
           {
            "marker": {
             "colorbar": {
              "outlinewidth": 1,
              "tickcolor": "rgb(36,36,36)",
              "ticks": "outside"
             }
            },
            "type": "scatterpolargl"
           }
          ],
          "scatterternary": [
           {
            "marker": {
             "colorbar": {
              "outlinewidth": 1,
              "tickcolor": "rgb(36,36,36)",
              "ticks": "outside"
             }
            },
            "type": "scatterternary"
           }
          ],
          "surface": [
           {
            "colorbar": {
             "outlinewidth": 1,
             "tickcolor": "rgb(36,36,36)",
             "ticks": "outside"
            },
            "colorscale": [
             [
              0,
              "#440154"
             ],
             [
              0.1111111111111111,
              "#482878"
             ],
             [
              0.2222222222222222,
              "#3e4989"
             ],
             [
              0.3333333333333333,
              "#31688e"
             ],
             [
              0.4444444444444444,
              "#26828e"
             ],
             [
              0.5555555555555556,
              "#1f9e89"
             ],
             [
              0.6666666666666666,
              "#35b779"
             ],
             [
              0.7777777777777778,
              "#6ece58"
             ],
             [
              0.8888888888888888,
              "#b5de2b"
             ],
             [
              1,
              "#fde725"
             ]
            ],
            "type": "surface"
           }
          ],
          "table": [
           {
            "cells": {
             "fill": {
              "color": "rgb(237,237,237)"
             },
             "line": {
              "color": "white"
             }
            },
            "header": {
             "fill": {
              "color": "rgb(217,217,217)"
             },
             "line": {
              "color": "white"
             }
            },
            "type": "table"
           }
          ]
         },
         "layout": {
          "annotationdefaults": {
           "arrowhead": 0,
           "arrowwidth": 1
          },
          "autotypenumbers": "strict",
          "coloraxis": {
           "colorbar": {
            "outlinewidth": 1,
            "tickcolor": "rgb(36,36,36)",
            "ticks": "outside"
           }
          },
          "colorscale": {
           "diverging": [
            [
             0,
             "rgb(103,0,31)"
            ],
            [
             0.1,
             "rgb(178,24,43)"
            ],
            [
             0.2,
             "rgb(214,96,77)"
            ],
            [
             0.3,
             "rgb(244,165,130)"
            ],
            [
             0.4,
             "rgb(253,219,199)"
            ],
            [
             0.5,
             "rgb(247,247,247)"
            ],
            [
             0.6,
             "rgb(209,229,240)"
            ],
            [
             0.7,
             "rgb(146,197,222)"
            ],
            [
             0.8,
             "rgb(67,147,195)"
            ],
            [
             0.9,
             "rgb(33,102,172)"
            ],
            [
             1,
             "rgb(5,48,97)"
            ]
           ],
           "sequential": [
            [
             0,
             "#440154"
            ],
            [
             0.1111111111111111,
             "#482878"
            ],
            [
             0.2222222222222222,
             "#3e4989"
            ],
            [
             0.3333333333333333,
             "#31688e"
            ],
            [
             0.4444444444444444,
             "#26828e"
            ],
            [
             0.5555555555555556,
             "#1f9e89"
            ],
            [
             0.6666666666666666,
             "#35b779"
            ],
            [
             0.7777777777777778,
             "#6ece58"
            ],
            [
             0.8888888888888888,
             "#b5de2b"
            ],
            [
             1,
             "#fde725"
            ]
           ],
           "sequentialminus": [
            [
             0,
             "#440154"
            ],
            [
             0.1111111111111111,
             "#482878"
            ],
            [
             0.2222222222222222,
             "#3e4989"
            ],
            [
             0.3333333333333333,
             "#31688e"
            ],
            [
             0.4444444444444444,
             "#26828e"
            ],
            [
             0.5555555555555556,
             "#1f9e89"
            ],
            [
             0.6666666666666666,
             "#35b779"
            ],
            [
             0.7777777777777778,
             "#6ece58"
            ],
            [
             0.8888888888888888,
             "#b5de2b"
            ],
            [
             1,
             "#fde725"
            ]
           ]
          },
          "colorway": [
           "#1F77B4",
           "#FF7F0E",
           "#2CA02C",
           "#D62728",
           "#9467BD",
           "#8C564B",
           "#E377C2",
           "#7F7F7F",
           "#BCBD22",
           "#17BECF"
          ],
          "font": {
           "color": "rgb(36,36,36)"
          },
          "geo": {
           "bgcolor": "white",
           "lakecolor": "white",
           "landcolor": "white",
           "showlakes": true,
           "showland": true,
           "subunitcolor": "white"
          },
          "hoverlabel": {
           "align": "left"
          },
          "hovermode": "closest",
          "mapbox": {
           "style": "light"
          },
          "paper_bgcolor": "white",
          "plot_bgcolor": "white",
          "polar": {
           "angularaxis": {
            "gridcolor": "rgb(232,232,232)",
            "linecolor": "rgb(36,36,36)",
            "showgrid": false,
            "showline": true,
            "ticks": "outside"
           },
           "bgcolor": "white",
           "radialaxis": {
            "gridcolor": "rgb(232,232,232)",
            "linecolor": "rgb(36,36,36)",
            "showgrid": false,
            "showline": true,
            "ticks": "outside"
           }
          },
          "scene": {
           "xaxis": {
            "backgroundcolor": "white",
            "gridcolor": "rgb(232,232,232)",
            "gridwidth": 2,
            "linecolor": "rgb(36,36,36)",
            "showbackground": true,
            "showgrid": false,
            "showline": true,
            "ticks": "outside",
            "zeroline": false,
            "zerolinecolor": "rgb(36,36,36)"
           },
           "yaxis": {
            "backgroundcolor": "white",
            "gridcolor": "rgb(232,232,232)",
            "gridwidth": 2,
            "linecolor": "rgb(36,36,36)",
            "showbackground": true,
            "showgrid": false,
            "showline": true,
            "ticks": "outside",
            "zeroline": false,
            "zerolinecolor": "rgb(36,36,36)"
           },
           "zaxis": {
            "backgroundcolor": "white",
            "gridcolor": "rgb(232,232,232)",
            "gridwidth": 2,
            "linecolor": "rgb(36,36,36)",
            "showbackground": true,
            "showgrid": false,
            "showline": true,
            "ticks": "outside",
            "zeroline": false,
            "zerolinecolor": "rgb(36,36,36)"
           }
          },
          "shapedefaults": {
           "fillcolor": "black",
           "line": {
            "width": 0
           },
           "opacity": 0.3
          },
          "ternary": {
           "aaxis": {
            "gridcolor": "rgb(232,232,232)",
            "linecolor": "rgb(36,36,36)",
            "showgrid": false,
            "showline": true,
            "ticks": "outside"
           },
           "baxis": {
            "gridcolor": "rgb(232,232,232)",
            "linecolor": "rgb(36,36,36)",
            "showgrid": false,
            "showline": true,
            "ticks": "outside"
           },
           "bgcolor": "white",
           "caxis": {
            "gridcolor": "rgb(232,232,232)",
            "linecolor": "rgb(36,36,36)",
            "showgrid": false,
            "showline": true,
            "ticks": "outside"
           }
          },
          "title": {
           "x": 0.05
          },
          "xaxis": {
           "automargin": true,
           "gridcolor": "rgb(232,232,232)",
           "linecolor": "rgb(36,36,36)",
           "showgrid": false,
           "showline": true,
           "ticks": "outside",
           "title": {
            "standoff": 15
           },
           "zeroline": false,
           "zerolinecolor": "rgb(36,36,36)"
          },
          "yaxis": {
           "automargin": true,
           "gridcolor": "rgb(232,232,232)",
           "linecolor": "rgb(36,36,36)",
           "showgrid": false,
           "showline": true,
           "ticks": "outside",
           "title": {
            "standoff": 15
           },
           "zeroline": false,
           "zerolinecolor": "rgb(36,36,36)"
          }
         }
        },
        "width": 800,
        "xaxis": {
         "anchor": "y",
         "domain": [
          0,
          0.18000000000000002
         ],
         "title": {
          "text": "time"
         }
        },
        "xaxis10": {
         "anchor": "y10",
         "domain": [
          0.8,
          0.9800000000000001
         ],
         "matches": "x",
         "showticklabels": false
        },
        "xaxis2": {
         "anchor": "y2",
         "domain": [
          0.2,
          0.38
         ],
         "matches": "x",
         "title": {
          "text": "time"
         }
        },
        "xaxis3": {
         "anchor": "y3",
         "domain": [
          0.4,
          0.5800000000000001
         ],
         "matches": "x",
         "title": {
          "text": "time"
         }
        },
        "xaxis4": {
         "anchor": "y4",
         "domain": [
          0.6000000000000001,
          0.7800000000000001
         ],
         "matches": "x",
         "title": {
          "text": "time"
         }
        },
        "xaxis5": {
         "anchor": "y5",
         "domain": [
          0.8,
          0.9800000000000001
         ],
         "matches": "x",
         "title": {
          "text": "time"
         }
        },
        "xaxis6": {
         "anchor": "y6",
         "domain": [
          0,
          0.18000000000000002
         ],
         "matches": "x",
         "showticklabels": false
        },
        "xaxis7": {
         "anchor": "y7",
         "domain": [
          0.2,
          0.38
         ],
         "matches": "x",
         "showticklabels": false
        },
        "xaxis8": {
         "anchor": "y8",
         "domain": [
          0.4,
          0.5800000000000001
         ],
         "matches": "x",
         "showticklabels": false
        },
        "xaxis9": {
         "anchor": "y9",
         "domain": [
          0.6000000000000001,
          0.7800000000000001
         ],
         "matches": "x",
         "showticklabels": false
        },
        "yaxis": {
         "anchor": "x",
         "domain": [
          0,
          0.485
         ],
         "title": {
          "text": "Ns"
         },
         "type": "log"
        },
        "yaxis10": {
         "anchor": "x10",
         "domain": [
          0.515,
          1
         ],
         "matches": "y",
         "showticklabels": false,
         "type": "log"
        },
        "yaxis2": {
         "anchor": "x2",
         "domain": [
          0,
          0.485
         ],
         "matches": "y",
         "showticklabels": false,
         "type": "log"
        },
        "yaxis3": {
         "anchor": "x3",
         "domain": [
          0,
          0.485
         ],
         "matches": "y",
         "showticklabels": false,
         "type": "log"
        },
        "yaxis4": {
         "anchor": "x4",
         "domain": [
          0,
          0.485
         ],
         "matches": "y",
         "showticklabels": false,
         "type": "log"
        },
        "yaxis5": {
         "anchor": "x5",
         "domain": [
          0,
          0.485
         ],
         "matches": "y",
         "showticklabels": false,
         "type": "log"
        },
        "yaxis6": {
         "anchor": "x6",
         "domain": [
          0.515,
          1
         ],
         "matches": "y",
         "title": {
          "text": "Ns"
         },
         "type": "log"
        },
        "yaxis7": {
         "anchor": "x7",
         "domain": [
          0.515,
          1
         ],
         "matches": "y",
         "showticklabels": false,
         "type": "log"
        },
        "yaxis8": {
         "anchor": "x8",
         "domain": [
          0.515,
          1
         ],
         "matches": "y",
         "showticklabels": false,
         "type": "log"
        },
        "yaxis9": {
         "anchor": "x9",
         "domain": [
          0.515,
          1
         ],
         "matches": "y",
         "showticklabels": false,
         "type": "log"
        }
       }
      }
     },
     "metadata": {},
     "output_type": "display_data"
    },
    {
     "data": {
      "application/vnd.plotly.v1+json": {
       "config": {
        "plotlyServerURL": "https://plotly.com"
       },
       "data": [
        {
         "hovertemplate": "strain=ST1<br>mouse_id=mA<br>cage_id=c1<br>time=%{x}<br>Ns_MinCutoff=%{y}<extra></extra>",
         "legendgroup": "ST1",
         "marker": {
          "color": "#1F77B4",
          "symbol": "circle"
         },
         "mode": "markers",
         "name": "ST1",
         "orientation": "v",
         "showlegend": true,
         "type": "scatter",
         "x": {
          "bdata": "CBggMA==",
          "dtype": "i1"
         },
         "xaxis": "x6",
         "y": {
          "bdata": "AAAAAGAY6UA+VVVVJWf9QCNJkiRZ3fdAAAAAAFCp/0A=",
          "dtype": "f8"
         },
         "yaxis": "y6"
        },
        {
         "hovertemplate": "strain=ST1<br>mouse_id=mA<br>cage_id=c2<br>time=%{x}<br>Ns_MinCutoff=%{y}<extra></extra>",
         "legendgroup": "ST1",
         "marker": {
          "color": "#1F77B4",
          "symbol": "circle"
         },
         "mode": "markers",
         "name": "ST1",
         "orientation": "v",
         "showlegend": false,
         "type": "scatter",
         "x": {
          "bdata": "CBggMA==",
          "dtype": "i1"
         },
         "xaxis": "x7",
         "y": {
          "bdata": "kbyG8houlEBMVVVVla7WQDBJkiSJIdVAu23bti3U0UA=",
          "dtype": "f8"
         },
         "yaxis": "y7"
        },
        {
         "hovertemplate": "strain=ST1<br>mouse_id=mA<br>cage_id=c3<br>time=%{x}<br>Ns_MinCutoff=%{y}<extra></extra>",
         "legendgroup": "ST1",
         "marker": {
          "color": "#1F77B4",
          "symbol": "circle"
         },
         "mode": "markers",
         "name": "ST1",
         "orientation": "v",
         "showlegend": false,
         "type": "scatter",
         "x": {
          "bdata": "CBggMA==",
          "dtype": "i1"
         },
         "xaxis": "x8",
         "y": {
          "bdata": "wqqqqqrqWkA2lNdQXkuOQBDlNZTXGI5A8BrKayj3jUA=",
          "dtype": "f8"
         },
         "yaxis": "y8"
        },
        {
         "hovertemplate": "strain=ST1<br>mouse_id=mA<br>cage_id=c4<br>time=%{x}<br>Ns_MinCutoff=%{y}<extra></extra>",
         "legendgroup": "ST1",
         "marker": {
          "color": "#1F77B4",
          "symbol": "circle"
         },
         "mode": "markers",
         "name": "ST1",
         "orientation": "v",
         "showlegend": false,
         "type": "scatter",
         "x": {
          "bdata": "CBggMA==",
          "dtype": "i1"
         },
         "xaxis": "x9",
         "y": {
          "bdata": "4TiO4ziIrEAAAAAAAAAmQAAAAAAAACZAAAAAAAAAJkA=",
          "dtype": "f8"
         },
         "yaxis": "y9"
        },
        {
         "hovertemplate": "strain=ST1<br>mouse_id=mA<br>cage_id=c5<br>time=%{x}<br>Ns_MinCutoff=%{y}<extra></extra>",
         "legendgroup": "ST1",
         "marker": {
          "color": "#1F77B4",
          "symbol": "circle"
         },
         "mode": "markers",
         "name": "ST1",
         "orientation": "v",
         "showlegend": false,
         "type": "scatter",
         "x": {
          "bdata": "CBggMA==",
          "dtype": "i1"
         },
         "xaxis": "x10",
         "y": {
          "bdata": "XUN5DeX9gUBdVVVVVY+iQEmxEzuxd5FAuaqqqqoumEA=",
          "dtype": "f8"
         },
         "yaxis": "y10"
        },
        {
         "hovertemplate": "strain=ST1<br>mouse_id=mB<br>cage_id=c1<br>time=%{x}<br>Ns_MinCutoff=%{y}<extra></extra>",
         "legendgroup": "ST1",
         "marker": {
          "color": "#1F77B4",
          "symbol": "circle"
         },
         "mode": "markers",
         "name": "ST1",
         "orientation": "v",
         "showlegend": false,
         "type": "scatter",
         "x": {
          "bdata": "CBggMA==",
          "dtype": "i1"
         },
         "xaxis": "x",
         "y": {
          "bdata": "wnEcx3FqrkCztLS0tKG4QK6qqqqqBbZATFVVVZUq0kA=",
          "dtype": "f8"
         },
         "yaxis": "y"
        },
        {
         "hovertemplate": "strain=ST1<br>mouse_id=mB<br>cage_id=c2<br>time=%{x}<br>Ns_MinCutoff=%{y}<extra></extra>",
         "legendgroup": "ST1",
         "marker": {
          "color": "#1F77B4",
          "symbol": "circle"
         },
         "mode": "markers",
         "name": "ST1",
         "orientation": "v",
         "showlegend": false,
         "type": "scatter",
         "x": {
          "bdata": "CBggMA==",
          "dtype": "i1"
         },
         "xaxis": "x2",
         "y": {
          "bdata": "AAAAAKCzyECuqqqqqtOwQAAAAACAY89AH8dxHMe/rEA=",
          "dtype": "f8"
         },
         "yaxis": "y2"
        },
        {
         "hovertemplate": "strain=ST1<br>mouse_id=mB<br>cage_id=c3<br>time=%{x}<br>Ns_MinCutoff=%{y}<extra></extra>",
         "legendgroup": "ST1",
         "marker": {
          "color": "#1F77B4",
          "symbol": "circle"
         },
         "mode": "markers",
         "name": "ST1",
         "orientation": "v",
         "showlegend": false,
         "type": "scatter",
         "x": {
          "bdata": "CBggMA==",
          "dtype": "i1"
         },
         "xaxis": "x3",
         "y": {
          "bdata": "6uHh4eHhOkB0DeU1lHdjQD+U11Be42FAs6G8hvJCjkA=",
          "dtype": "f8"
         },
         "yaxis": "y3"
        },
        {
         "hovertemplate": "strain=ST1<br>mouse_id=mB<br>cage_id=c4<br>time=%{x}<br>Ns_MinCutoff=%{y}<extra></extra>",
         "legendgroup": "ST1",
         "marker": {
          "color": "#1F77B4",
          "symbol": "circle"
         },
         "mode": "markers",
         "name": "ST1",
         "orientation": "v",
         "showlegend": false,
         "type": "scatter",
         "x": {
          "bdata": "CBggMA==",
          "dtype": "i1"
         },
         "xaxis": "x4",
         "y": {
          "bdata": "xHEcx3GcSkByHMdxHMcjQHIcx3EcxyNAchzHcRzHI0A=",
          "dtype": "f8"
         },
         "yaxis": "y4"
        },
        {
         "hovertemplate": "strain=ST1<br>mouse_id=mB<br>cage_id=c5<br>time=%{x}<br>Ns_MinCutoff=%{y}<extra></extra>",
         "legendgroup": "ST1",
         "marker": {
          "color": "#1F77B4",
          "symbol": "circle"
         },
         "mode": "markers",
         "name": "ST1",
         "orientation": "v",
         "showlegend": false,
         "type": "scatter",
         "x": {
          "bdata": "CBggMA==",
          "dtype": "i1"
         },
         "xaxis": "x5",
         "y": {
          "bdata": "SbETO7FXk0AAAAAAAMCkQPbETuzEopZA9sRO7MSCmEA=",
          "dtype": "f8"
         },
         "yaxis": "y5"
        },
        {
         "hovertemplate": "strain=ST5<br>mouse_id=mA<br>cage_id=c1<br>time=%{x}<br>Ns_MinCutoff=%{y}<extra></extra>",
         "legendgroup": "ST5",
         "marker": {
          "color": "#D62728",
          "symbol": "circle"
         },
         "mode": "markers",
         "name": "ST5",
         "orientation": "v",
         "showlegend": true,
         "type": "scatter",
         "x": {
          "bdata": "CBggMA==",
          "dtype": "i1"
         },
         "xaxis": "x6",
         "y": {
          "bdata": "NDw8PDxGpEC1bdu27RfCQD88PDw8obJAAAAAAADBtUA=",
          "dtype": "f8"
         },
         "yaxis": "y6"
        },
        {
         "hovertemplate": "strain=ST5<br>mouse_id=mA<br>cage_id=c2<br>time=%{x}<br>Ns_MinCutoff=%{y}<extra></extra>",
         "legendgroup": "ST5",
         "marker": {
          "color": "#D62728",
          "symbol": "circle"
         },
         "mode": "markers",
         "name": "ST5",
         "orientation": "v",
         "showlegend": false,
         "type": "scatter",
         "x": {
          "bdata": "CBggMA==",
          "dtype": "i1"
         },
         "xaxis": "x7",
         "y": {
          "bdata": "HsdxHMcxUUCYqqqqKk/FQAAAAAAAqI5AUlVVVVUOvEA=",
          "dtype": "f8"
         },
         "yaxis": "y7"
        },
        {
         "hovertemplate": "strain=ST5<br>mouse_id=mA<br>cage_id=c3<br>time=%{x}<br>Ns_MinCutoff=%{y}<extra></extra>",
         "legendgroup": "ST5",
         "marker": {
          "color": "#D62728",
          "symbol": "circle"
         },
         "mode": "markers",
         "name": "ST5",
         "orientation": "v",
         "showlegend": false,
         "type": "scatter",
         "x": {
          "bdata": "CBggMA==",
          "dtype": "i1"
         },
         "xaxis": "x8",
         "y": {
          "bdata": "jIeHh4cHSEA/lNdQXueZQKalpaWlmrNAAAAAAAD2oEA=",
          "dtype": "f8"
         },
         "yaxis": "y8"
        },
        {
         "hovertemplate": "strain=ST5<br>mouse_id=mA<br>cage_id=c4<br>time=%{x}<br>Ns_MinCutoff=%{y}<extra></extra>",
         "legendgroup": "ST5",
         "marker": {
          "color": "#D62728",
          "symbol": "circle"
         },
         "mode": "markers",
         "name": "ST5",
         "orientation": "v",
         "showlegend": false,
         "type": "scatter",
         "x": {
          "bdata": "CBggMA==",
          "dtype": "i1"
         },
         "xaxis": "x9",
         "y": {
          "bdata": "obyG8hoKUEAAAAAAgPfCQAAAAABABLxAAAAAAAC0q0A=",
          "dtype": "f8"
         },
         "yaxis": "y9"
        },
        {
         "hovertemplate": "strain=ST5<br>mouse_id=mB<br>cage_id=c1<br>time=%{x}<br>Ns_MinCutoff=%{y}<extra></extra>",
         "legendgroup": "ST5",
         "marker": {
          "color": "#D62728",
          "symbol": "circle"
         },
         "mode": "markers",
         "name": "ST5",
         "orientation": "v",
         "showlegend": false,
         "type": "scatter",
         "x": {
          "bdata": "CBggMA==",
          "dtype": "i1"
         },
         "xaxis": "x",
         "y": {
          "bdata": "FUmSJMktyEBMVVVVlS/fQBVddNGFGtpAraqqqtpN9kA=",
          "dtype": "f8"
         },
         "yaxis": "y"
        },
        {
         "hovertemplate": "strain=ST5<br>mouse_id=mB<br>cage_id=c2<br>time=%{x}<br>Ns_MinCutoff=%{y}<extra></extra>",
         "legendgroup": "ST5",
         "marker": {
          "color": "#D62728",
          "symbol": "circle"
         },
         "mode": "markers",
         "name": "ST5",
         "orientation": "v",
         "showlegend": false,
         "type": "scatter",
         "x": {
          "bdata": "CBggMA==",
          "dtype": "i1"
         },
         "xaxis": "x2",
         "y": {
          "bdata": "WFVVVVXtg0AzsRM7MZDNQGhVVVVVqMxAmKqqqiqBzEA=",
          "dtype": "f8"
         },
         "yaxis": "y2"
        },
        {
         "hovertemplate": "strain=ST5<br>mouse_id=mB<br>cage_id=c3<br>time=%{x}<br>Ns_MinCutoff=%{y}<extra></extra>",
         "legendgroup": "ST5",
         "marker": {
          "color": "#D62728",
          "symbol": "circle"
         },
         "mode": "markers",
         "name": "ST5",
         "orientation": "v",
         "showlegend": false,
         "type": "scatter",
         "x": {
          "bdata": "CBggMA==",
          "dtype": "i1"
         },
         "xaxis": "x3",
         "y": {
          "bdata": "oqWlpaUlTECQ11BeQ/lNQC6vobyGck1AHsdxHMfxTUA=",
          "dtype": "f8"
         },
         "yaxis": "y3"
        },
        {
         "hovertemplate": "strain=ST5<br>mouse_id=mB<br>cage_id=c4<br>time=%{x}<br>Ns_MinCutoff=%{y}<extra></extra>",
         "legendgroup": "ST5",
         "marker": {
          "color": "#D62728",
          "symbol": "circle"
         },
         "mode": "markers",
         "name": "ST5",
         "orientation": "v",
         "showlegend": false,
         "type": "scatter",
         "x": {
          "bdata": "CBggMA==",
          "dtype": "i1"
         },
         "xaxis": "x4",
         "y": {
          "bdata": "AAAAAAAANUCP4ziO43hRQAAAAABAzrpAAAAAAMDSuEA=",
          "dtype": "f8"
         },
         "yaxis": "y4"
        },
        {
         "hovertemplate": "strain=ST4<br>mouse_id=mA<br>cage_id=c5<br>time=%{x}<br>Ns_MinCutoff=%{y}<extra></extra>",
         "legendgroup": "ST4",
         "marker": {
          "color": "#2CA02C",
          "symbol": "circle"
         },
         "mode": "markers",
         "name": "ST4",
         "orientation": "v",
         "showlegend": true,
         "type": "scatter",
         "x": {
          "bdata": "CBggMA==",
          "dtype": "i1"
         },
         "xaxis": "x10",
         "y": {
          "bdata": "AAAAAADko0C0qqqq6rfcQAAAAACActtAAAAAAAAi2UA=",
          "dtype": "f8"
         },
         "yaxis": "y10"
        },
        {
         "hovertemplate": "strain=ST4<br>mouse_id=mB<br>cage_id=c5<br>time=%{x}<br>Ns_MinCutoff=%{y}<extra></extra>",
         "legendgroup": "ST4",
         "marker": {
          "color": "#2CA02C",
          "symbol": "circle"
         },
         "mode": "markers",
         "name": "ST4",
         "orientation": "v",
         "showlegend": false,
         "type": "scatter",
         "x": {
          "bdata": "CBggMA==",
          "dtype": "i1"
         },
         "xaxis": "x5",
         "y": {
          "bdata": "AAAAAMC7w0BMVVVVlXHZQAAAAADAJthAAAAAAMDY1UA=",
          "dtype": "f8"
         },
         "yaxis": "y5"
        }
       ],
       "layout": {
        "annotations": [
         {
          "font": {},
          "showarrow": false,
          "text": "cage_id=c1",
          "x": 0.09000000000000001,
          "xanchor": "center",
          "xref": "paper",
          "y": 1,
          "yanchor": "bottom",
          "yref": "paper"
         },
         {
          "font": {},
          "showarrow": false,
          "text": "cage_id=c2",
          "x": 0.29000000000000004,
          "xanchor": "center",
          "xref": "paper",
          "y": 1,
          "yanchor": "bottom",
          "yref": "paper"
         },
         {
          "font": {},
          "showarrow": false,
          "text": "cage_id=c3",
          "x": 0.49000000000000005,
          "xanchor": "center",
          "xref": "paper",
          "y": 1,
          "yanchor": "bottom",
          "yref": "paper"
         },
         {
          "font": {},
          "showarrow": false,
          "text": "cage_id=c4",
          "x": 0.6900000000000002,
          "xanchor": "center",
          "xref": "paper",
          "y": 1,
          "yanchor": "bottom",
          "yref": "paper"
         },
         {
          "font": {},
          "showarrow": false,
          "text": "cage_id=c5",
          "x": 0.8900000000000001,
          "xanchor": "center",
          "xref": "paper",
          "y": 1,
          "yanchor": "bottom",
          "yref": "paper"
         },
         {
          "font": {},
          "showarrow": false,
          "text": "mouse_id=mB",
          "textangle": 90,
          "x": 0.9800000000000001,
          "xanchor": "left",
          "xref": "paper",
          "y": 0.2425,
          "yanchor": "middle",
          "yref": "paper"
         },
         {
          "font": {},
          "showarrow": false,
          "text": "mouse_id=mA",
          "textangle": 90,
          "x": 0.9800000000000001,
          "xanchor": "left",
          "xref": "paper",
          "y": 0.7575000000000001,
          "yanchor": "middle",
          "yref": "paper"
         }
        ],
        "height": 600,
        "legend": {
         "title": {
          "text": "strain"
         },
         "tracegroupgap": 0
        },
        "margin": {
         "t": 60
        },
        "template": {
         "data": {
          "bar": [
           {
            "error_x": {
             "color": "rgb(36,36,36)"
            },
            "error_y": {
             "color": "rgb(36,36,36)"
            },
            "marker": {
             "line": {
              "color": "white",
              "width": 0.5
             },
             "pattern": {
              "fillmode": "overlay",
              "size": 10,
              "solidity": 0.2
             }
            },
            "type": "bar"
           }
          ],
          "barpolar": [
           {
            "marker": {
             "line": {
              "color": "white",
              "width": 0.5
             },
             "pattern": {
              "fillmode": "overlay",
              "size": 10,
              "solidity": 0.2
             }
            },
            "type": "barpolar"
           }
          ],
          "carpet": [
           {
            "aaxis": {
             "endlinecolor": "rgb(36,36,36)",
             "gridcolor": "white",
             "linecolor": "white",
             "minorgridcolor": "white",
             "startlinecolor": "rgb(36,36,36)"
            },
            "baxis": {
             "endlinecolor": "rgb(36,36,36)",
             "gridcolor": "white",
             "linecolor": "white",
             "minorgridcolor": "white",
             "startlinecolor": "rgb(36,36,36)"
            },
            "type": "carpet"
           }
          ],
          "choropleth": [
           {
            "colorbar": {
             "outlinewidth": 1,
             "tickcolor": "rgb(36,36,36)",
             "ticks": "outside"
            },
            "type": "choropleth"
           }
          ],
          "contour": [
           {
            "colorbar": {
             "outlinewidth": 1,
             "tickcolor": "rgb(36,36,36)",
             "ticks": "outside"
            },
            "colorscale": [
             [
              0,
              "#440154"
             ],
             [
              0.1111111111111111,
              "#482878"
             ],
             [
              0.2222222222222222,
              "#3e4989"
             ],
             [
              0.3333333333333333,
              "#31688e"
             ],
             [
              0.4444444444444444,
              "#26828e"
             ],
             [
              0.5555555555555556,
              "#1f9e89"
             ],
             [
              0.6666666666666666,
              "#35b779"
             ],
             [
              0.7777777777777778,
              "#6ece58"
             ],
             [
              0.8888888888888888,
              "#b5de2b"
             ],
             [
              1,
              "#fde725"
             ]
            ],
            "type": "contour"
           }
          ],
          "contourcarpet": [
           {
            "colorbar": {
             "outlinewidth": 1,
             "tickcolor": "rgb(36,36,36)",
             "ticks": "outside"
            },
            "type": "contourcarpet"
           }
          ],
          "heatmap": [
           {
            "colorbar": {
             "outlinewidth": 1,
             "tickcolor": "rgb(36,36,36)",
             "ticks": "outside"
            },
            "colorscale": [
             [
              0,
              "#440154"
             ],
             [
              0.1111111111111111,
              "#482878"
             ],
             [
              0.2222222222222222,
              "#3e4989"
             ],
             [
              0.3333333333333333,
              "#31688e"
             ],
             [
              0.4444444444444444,
              "#26828e"
             ],
             [
              0.5555555555555556,
              "#1f9e89"
             ],
             [
              0.6666666666666666,
              "#35b779"
             ],
             [
              0.7777777777777778,
              "#6ece58"
             ],
             [
              0.8888888888888888,
              "#b5de2b"
             ],
             [
              1,
              "#fde725"
             ]
            ],
            "type": "heatmap"
           }
          ],
          "histogram": [
           {
            "marker": {
             "line": {
              "color": "white",
              "width": 0.6
             }
            },
            "type": "histogram"
           }
          ],
          "histogram2d": [
           {
            "colorbar": {
             "outlinewidth": 1,
             "tickcolor": "rgb(36,36,36)",
             "ticks": "outside"
            },
            "colorscale": [
             [
              0,
              "#440154"
             ],
             [
              0.1111111111111111,
              "#482878"
             ],
             [
              0.2222222222222222,
              "#3e4989"
             ],
             [
              0.3333333333333333,
              "#31688e"
             ],
             [
              0.4444444444444444,
              "#26828e"
             ],
             [
              0.5555555555555556,
              "#1f9e89"
             ],
             [
              0.6666666666666666,
              "#35b779"
             ],
             [
              0.7777777777777778,
              "#6ece58"
             ],
             [
              0.8888888888888888,
              "#b5de2b"
             ],
             [
              1,
              "#fde725"
             ]
            ],
            "type": "histogram2d"
           }
          ],
          "histogram2dcontour": [
           {
            "colorbar": {
             "outlinewidth": 1,
             "tickcolor": "rgb(36,36,36)",
             "ticks": "outside"
            },
            "colorscale": [
             [
              0,
              "#440154"
             ],
             [
              0.1111111111111111,
              "#482878"
             ],
             [
              0.2222222222222222,
              "#3e4989"
             ],
             [
              0.3333333333333333,
              "#31688e"
             ],
             [
              0.4444444444444444,
              "#26828e"
             ],
             [
              0.5555555555555556,
              "#1f9e89"
             ],
             [
              0.6666666666666666,
              "#35b779"
             ],
             [
              0.7777777777777778,
              "#6ece58"
             ],
             [
              0.8888888888888888,
              "#b5de2b"
             ],
             [
              1,
              "#fde725"
             ]
            ],
            "type": "histogram2dcontour"
           }
          ],
          "mesh3d": [
           {
            "colorbar": {
             "outlinewidth": 1,
             "tickcolor": "rgb(36,36,36)",
             "ticks": "outside"
            },
            "type": "mesh3d"
           }
          ],
          "parcoords": [
           {
            "line": {
             "colorbar": {
              "outlinewidth": 1,
              "tickcolor": "rgb(36,36,36)",
              "ticks": "outside"
             }
            },
            "type": "parcoords"
           }
          ],
          "pie": [
           {
            "automargin": true,
            "type": "pie"
           }
          ],
          "scatter": [
           {
            "fillpattern": {
             "fillmode": "overlay",
             "size": 10,
             "solidity": 0.2
            },
            "type": "scatter"
           }
          ],
          "scatter3d": [
           {
            "line": {
             "colorbar": {
              "outlinewidth": 1,
              "tickcolor": "rgb(36,36,36)",
              "ticks": "outside"
             }
            },
            "marker": {
             "colorbar": {
              "outlinewidth": 1,
              "tickcolor": "rgb(36,36,36)",
              "ticks": "outside"
             }
            },
            "type": "scatter3d"
           }
          ],
          "scattercarpet": [
           {
            "marker": {
             "colorbar": {
              "outlinewidth": 1,
              "tickcolor": "rgb(36,36,36)",
              "ticks": "outside"
             }
            },
            "type": "scattercarpet"
           }
          ],
          "scattergeo": [
           {
            "marker": {
             "colorbar": {
              "outlinewidth": 1,
              "tickcolor": "rgb(36,36,36)",
              "ticks": "outside"
             }
            },
            "type": "scattergeo"
           }
          ],
          "scattergl": [
           {
            "marker": {
             "colorbar": {
              "outlinewidth": 1,
              "tickcolor": "rgb(36,36,36)",
              "ticks": "outside"
             }
            },
            "type": "scattergl"
           }
          ],
          "scattermap": [
           {
            "marker": {
             "colorbar": {
              "outlinewidth": 1,
              "tickcolor": "rgb(36,36,36)",
              "ticks": "outside"
             }
            },
            "type": "scattermap"
           }
          ],
          "scattermapbox": [
           {
            "marker": {
             "colorbar": {
              "outlinewidth": 1,
              "tickcolor": "rgb(36,36,36)",
              "ticks": "outside"
             }
            },
            "type": "scattermapbox"
           }
          ],
          "scatterpolar": [
           {
            "marker": {
             "colorbar": {
              "outlinewidth": 1,
              "tickcolor": "rgb(36,36,36)",
              "ticks": "outside"
             }
            },
            "type": "scatterpolar"
           }
          ],
          "scatterpolargl": [
           {
            "marker": {
             "colorbar": {
              "outlinewidth": 1,
              "tickcolor": "rgb(36,36,36)",
              "ticks": "outside"
             }
            },
            "type": "scatterpolargl"
           }
          ],
          "scatterternary": [
           {
            "marker": {
             "colorbar": {
              "outlinewidth": 1,
              "tickcolor": "rgb(36,36,36)",
              "ticks": "outside"
             }
            },
            "type": "scatterternary"
           }
          ],
          "surface": [
           {
            "colorbar": {
             "outlinewidth": 1,
             "tickcolor": "rgb(36,36,36)",
             "ticks": "outside"
            },
            "colorscale": [
             [
              0,
              "#440154"
             ],
             [
              0.1111111111111111,
              "#482878"
             ],
             [
              0.2222222222222222,
              "#3e4989"
             ],
             [
              0.3333333333333333,
              "#31688e"
             ],
             [
              0.4444444444444444,
              "#26828e"
             ],
             [
              0.5555555555555556,
              "#1f9e89"
             ],
             [
              0.6666666666666666,
              "#35b779"
             ],
             [
              0.7777777777777778,
              "#6ece58"
             ],
             [
              0.8888888888888888,
              "#b5de2b"
             ],
             [
              1,
              "#fde725"
             ]
            ],
            "type": "surface"
           }
          ],
          "table": [
           {
            "cells": {
             "fill": {
              "color": "rgb(237,237,237)"
             },
             "line": {
              "color": "white"
             }
            },
            "header": {
             "fill": {
              "color": "rgb(217,217,217)"
             },
             "line": {
              "color": "white"
             }
            },
            "type": "table"
           }
          ]
         },
         "layout": {
          "annotationdefaults": {
           "arrowhead": 0,
           "arrowwidth": 1
          },
          "autotypenumbers": "strict",
          "coloraxis": {
           "colorbar": {
            "outlinewidth": 1,
            "tickcolor": "rgb(36,36,36)",
            "ticks": "outside"
           }
          },
          "colorscale": {
           "diverging": [
            [
             0,
             "rgb(103,0,31)"
            ],
            [
             0.1,
             "rgb(178,24,43)"
            ],
            [
             0.2,
             "rgb(214,96,77)"
            ],
            [
             0.3,
             "rgb(244,165,130)"
            ],
            [
             0.4,
             "rgb(253,219,199)"
            ],
            [
             0.5,
             "rgb(247,247,247)"
            ],
            [
             0.6,
             "rgb(209,229,240)"
            ],
            [
             0.7,
             "rgb(146,197,222)"
            ],
            [
             0.8,
             "rgb(67,147,195)"
            ],
            [
             0.9,
             "rgb(33,102,172)"
            ],
            [
             1,
             "rgb(5,48,97)"
            ]
           ],
           "sequential": [
            [
             0,
             "#440154"
            ],
            [
             0.1111111111111111,
             "#482878"
            ],
            [
             0.2222222222222222,
             "#3e4989"
            ],
            [
             0.3333333333333333,
             "#31688e"
            ],
            [
             0.4444444444444444,
             "#26828e"
            ],
            [
             0.5555555555555556,
             "#1f9e89"
            ],
            [
             0.6666666666666666,
             "#35b779"
            ],
            [
             0.7777777777777778,
             "#6ece58"
            ],
            [
             0.8888888888888888,
             "#b5de2b"
            ],
            [
             1,
             "#fde725"
            ]
           ],
           "sequentialminus": [
            [
             0,
             "#440154"
            ],
            [
             0.1111111111111111,
             "#482878"
            ],
            [
             0.2222222222222222,
             "#3e4989"
            ],
            [
             0.3333333333333333,
             "#31688e"
            ],
            [
             0.4444444444444444,
             "#26828e"
            ],
            [
             0.5555555555555556,
             "#1f9e89"
            ],
            [
             0.6666666666666666,
             "#35b779"
            ],
            [
             0.7777777777777778,
             "#6ece58"
            ],
            [
             0.8888888888888888,
             "#b5de2b"
            ],
            [
             1,
             "#fde725"
            ]
           ]
          },
          "colorway": [
           "#1F77B4",
           "#FF7F0E",
           "#2CA02C",
           "#D62728",
           "#9467BD",
           "#8C564B",
           "#E377C2",
           "#7F7F7F",
           "#BCBD22",
           "#17BECF"
          ],
          "font": {
           "color": "rgb(36,36,36)"
          },
          "geo": {
           "bgcolor": "white",
           "lakecolor": "white",
           "landcolor": "white",
           "showlakes": true,
           "showland": true,
           "subunitcolor": "white"
          },
          "hoverlabel": {
           "align": "left"
          },
          "hovermode": "closest",
          "mapbox": {
           "style": "light"
          },
          "paper_bgcolor": "white",
          "plot_bgcolor": "white",
          "polar": {
           "angularaxis": {
            "gridcolor": "rgb(232,232,232)",
            "linecolor": "rgb(36,36,36)",
            "showgrid": false,
            "showline": true,
            "ticks": "outside"
           },
           "bgcolor": "white",
           "radialaxis": {
            "gridcolor": "rgb(232,232,232)",
            "linecolor": "rgb(36,36,36)",
            "showgrid": false,
            "showline": true,
            "ticks": "outside"
           }
          },
          "scene": {
           "xaxis": {
            "backgroundcolor": "white",
            "gridcolor": "rgb(232,232,232)",
            "gridwidth": 2,
            "linecolor": "rgb(36,36,36)",
            "showbackground": true,
            "showgrid": false,
            "showline": true,
            "ticks": "outside",
            "zeroline": false,
            "zerolinecolor": "rgb(36,36,36)"
           },
           "yaxis": {
            "backgroundcolor": "white",
            "gridcolor": "rgb(232,232,232)",
            "gridwidth": 2,
            "linecolor": "rgb(36,36,36)",
            "showbackground": true,
            "showgrid": false,
            "showline": true,
            "ticks": "outside",
            "zeroline": false,
            "zerolinecolor": "rgb(36,36,36)"
           },
           "zaxis": {
            "backgroundcolor": "white",
            "gridcolor": "rgb(232,232,232)",
            "gridwidth": 2,
            "linecolor": "rgb(36,36,36)",
            "showbackground": true,
            "showgrid": false,
            "showline": true,
            "ticks": "outside",
            "zeroline": false,
            "zerolinecolor": "rgb(36,36,36)"
           }
          },
          "shapedefaults": {
           "fillcolor": "black",
           "line": {
            "width": 0
           },
           "opacity": 0.3
          },
          "ternary": {
           "aaxis": {
            "gridcolor": "rgb(232,232,232)",
            "linecolor": "rgb(36,36,36)",
            "showgrid": false,
            "showline": true,
            "ticks": "outside"
           },
           "baxis": {
            "gridcolor": "rgb(232,232,232)",
            "linecolor": "rgb(36,36,36)",
            "showgrid": false,
            "showline": true,
            "ticks": "outside"
           },
           "bgcolor": "white",
           "caxis": {
            "gridcolor": "rgb(232,232,232)",
            "linecolor": "rgb(36,36,36)",
            "showgrid": false,
            "showline": true,
            "ticks": "outside"
           }
          },
          "title": {
           "x": 0.05
          },
          "xaxis": {
           "automargin": true,
           "gridcolor": "rgb(232,232,232)",
           "linecolor": "rgb(36,36,36)",
           "showgrid": false,
           "showline": true,
           "ticks": "outside",
           "title": {
            "standoff": 15
           },
           "zeroline": false,
           "zerolinecolor": "rgb(36,36,36)"
          },
          "yaxis": {
           "automargin": true,
           "gridcolor": "rgb(232,232,232)",
           "linecolor": "rgb(36,36,36)",
           "showgrid": false,
           "showline": true,
           "ticks": "outside",
           "title": {
            "standoff": 15
           },
           "zeroline": false,
           "zerolinecolor": "rgb(36,36,36)"
          }
         }
        },
        "width": 800,
        "xaxis": {
         "anchor": "y",
         "domain": [
          0,
          0.18000000000000002
         ],
         "title": {
          "text": "time"
         }
        },
        "xaxis10": {
         "anchor": "y10",
         "domain": [
          0.8,
          0.9800000000000001
         ],
         "matches": "x",
         "showticklabels": false
        },
        "xaxis2": {
         "anchor": "y2",
         "domain": [
          0.2,
          0.38
         ],
         "matches": "x",
         "title": {
          "text": "time"
         }
        },
        "xaxis3": {
         "anchor": "y3",
         "domain": [
          0.4,
          0.5800000000000001
         ],
         "matches": "x",
         "title": {
          "text": "time"
         }
        },
        "xaxis4": {
         "anchor": "y4",
         "domain": [
          0.6000000000000001,
          0.7800000000000001
         ],
         "matches": "x",
         "title": {
          "text": "time"
         }
        },
        "xaxis5": {
         "anchor": "y5",
         "domain": [
          0.8,
          0.9800000000000001
         ],
         "matches": "x",
         "title": {
          "text": "time"
         }
        },
        "xaxis6": {
         "anchor": "y6",
         "domain": [
          0,
          0.18000000000000002
         ],
         "matches": "x",
         "showticklabels": false
        },
        "xaxis7": {
         "anchor": "y7",
         "domain": [
          0.2,
          0.38
         ],
         "matches": "x",
         "showticklabels": false
        },
        "xaxis8": {
         "anchor": "y8",
         "domain": [
          0.4,
          0.5800000000000001
         ],
         "matches": "x",
         "showticklabels": false
        },
        "xaxis9": {
         "anchor": "y9",
         "domain": [
          0.6000000000000001,
          0.7800000000000001
         ],
         "matches": "x",
         "showticklabels": false
        },
        "yaxis": {
         "anchor": "x",
         "domain": [
          0,
          0.485
         ],
         "title": {
          "text": "Ns_MinCutoff"
         },
         "type": "log"
        },
        "yaxis10": {
         "anchor": "x10",
         "domain": [
          0.515,
          1
         ],
         "matches": "y",
         "showticklabels": false,
         "type": "log"
        },
        "yaxis2": {
         "anchor": "x2",
         "domain": [
          0,
          0.485
         ],
         "matches": "y",
         "showticklabels": false,
         "type": "log"
        },
        "yaxis3": {
         "anchor": "x3",
         "domain": [
          0,
          0.485
         ],
         "matches": "y",
         "showticklabels": false,
         "type": "log"
        },
        "yaxis4": {
         "anchor": "x4",
         "domain": [
          0,
          0.485
         ],
         "matches": "y",
         "showticklabels": false,
         "type": "log"
        },
        "yaxis5": {
         "anchor": "x5",
         "domain": [
          0,
          0.485
         ],
         "matches": "y",
         "showticklabels": false,
         "type": "log"
        },
        "yaxis6": {
         "anchor": "x6",
         "domain": [
          0.515,
          1
         ],
         "matches": "y",
         "title": {
          "text": "Ns_MinCutoff"
         },
         "type": "log"
        },
        "yaxis7": {
         "anchor": "x7",
         "domain": [
          0.515,
          1
         ],
         "matches": "y",
         "showticklabels": false,
         "type": "log"
        },
        "yaxis8": {
         "anchor": "x8",
         "domain": [
          0.515,
          1
         ],
         "matches": "y",
         "showticklabels": false,
         "type": "log"
        },
        "yaxis9": {
         "anchor": "x9",
         "domain": [
          0.515,
          1
         ],
         "matches": "y",
         "showticklabels": false,
         "type": "log"
        }
       }
      }
     },
     "metadata": {},
     "output_type": "display_data"
    }
   ],
   "source": [
    "df_plot = df_results.copy().dropna(subset = 'cage_id')\n",
    "df_plot = df_plot.loc[(df_plot['sample_type_y'].str.contains('stool')) & (df_plot['strain'].str.contains(\"ST1|ST5|ST4\"))].copy()\n",
    "df_plot['time'] = df_plot['time_point_h'].apply(lambda x: str(x).split('h')[0]).astype(int)\n",
    "df_plot = df_plot.sort_values(['cage_id', 'time', 'strain'], ascending=True)\n",
    "\n",
    "fig = px.scatter(df_plot,\n",
    "                 x = 'time',\n",
    "                 y = 'Nb',\n",
    "                 color = 'strain',\n",
    "                 template = 'simple_white',\n",
    "                 color_discrete_map=strain_color_dict,\n",
    "                 facet_col = 'cage_id',\n",
    "                 facet_row = 'mouse_id',\n",
    "                 log_y = True,\n",
    "                 width = 800,\n",
    "                 height = 600\n",
    "                 )\n",
    "fig.write_image('P4C1T8-c1_gavage_FP_timecourse_Nb.png', scale = 2)\n",
    "# Create a mean box with stadard deviation for negative controls and plot\n",
    "\n",
    "fig.show()\n",
    "fig = px.scatter(df_plot,\n",
    "                 x = 'time',\n",
    "                 y = 'Ns',\n",
    "                 color = 'strain',\n",
    "                 template = 'simple_white',\n",
    "                 color_discrete_map=strain_color_dict,\n",
    "                 facet_col = 'cage_id',\n",
    "                 facet_row = 'mouse_id',\n",
    "                 log_y = True,\n",
    "                 width = 800,\n",
    "                 height = 600\n",
    "                 )\n",
    "\n",
    "# Create a mean box with stadard deviation for negative controls and plot\n",
    "\n",
    "fig.show()\n",
    "fig = px.scatter(df_plot,\n",
    "                 x = 'time',\n",
    "                 y = 'Ns_MinCutoff',\n",
    "                 color = 'strain',\n",
    "                 template = 'simple_white',\n",
    "                 color_discrete_map=strain_color_dict,\n",
    "                 facet_col = 'cage_id',\n",
    "                 facet_row = 'mouse_id',\n",
    "                 log_y = True,\n",
    "                 width = 800,\n",
    "                 height = 600\n",
    "                 )\n",
    "\n",
    "# Create a mean box with stadard deviation for negative controls and plot\n",
    "\n",
    "fig.show()"
   ]
  },
  {
   "cell_type": "code",
   "execution_count": null,
   "id": "0946ae96",
   "metadata": {},
   "outputs": [],
   "source": []
  }
 ],
 "metadata": {
  "kernelspec": {
   "display_name": "pouch",
   "language": "python",
   "name": "python3"
  },
  "language_info": {
   "codemirror_mode": {
    "name": "ipython",
    "version": 3
   },
   "file_extension": ".py",
   "mimetype": "text/x-python",
   "name": "python",
   "nbconvert_exporter": "python",
   "pygments_lexer": "ipython3",
   "version": "3.13.7"
  }
 },
 "nbformat": 4,
 "nbformat_minor": 5
}
