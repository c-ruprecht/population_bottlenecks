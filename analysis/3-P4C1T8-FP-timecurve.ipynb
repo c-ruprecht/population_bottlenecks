{
 "cells": [
  {
   "cell_type": "markdown",
   "id": "c1e141d8",
   "metadata": {},
   "source": [
    "- based on Nb values, as getFP.py so far only matches on Nb."
   ]
  },
  {
   "cell_type": "markdown",
   "id": "76fa114a",
   "metadata": {},
   "source": []
  },
  {
   "cell_type": "code",
   "execution_count": 2,
   "id": "4f735660",
   "metadata": {},
   "outputs": [],
   "source": [
    "import pandas as pd\n",
    "import plotly.express as px"
   ]
  },
  {
   "cell_type": "code",
   "execution_count": null,
   "id": "4d4ac37f",
   "metadata": {},
   "outputs": [],
   "source": []
  }
 ],
 "metadata": {
  "kernelspec": {
   "display_name": "umi_tools_env",
   "language": "python",
   "name": "python3"
  },
  "language_info": {
   "codemirror_mode": {
    "name": "ipython",
    "version": 3
   },
   "file_extension": ".py",
   "mimetype": "text/x-python",
   "name": "python",
   "nbconvert_exporter": "python",
   "pygments_lexer": "ipython3",
   "version": "3.12.10"
  }
 },
 "nbformat": 4,
 "nbformat_minor": 5
}
