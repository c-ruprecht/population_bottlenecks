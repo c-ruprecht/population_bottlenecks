{
 "cells": [
  {
   "cell_type": "code",
   "execution_count": null,
   "id": "5ab0167f",
   "metadata": {},
   "outputs": [],
   "source": [
    "import pandas as pd\n",
    "import plotly.express as px\n",
    "import os\n",
    "\n",
    "def read_GD_tables(inputdir):\n",
    "    df_FP = pd.DataFrame()\n",
    "    for dirpath, dirnames, filenames in os.walk(inputdir):\n",
    "        for file in filenames:\n",
    "            if file == 'TableOfEstimates.csv':\n",
    "                df = pd.read_csv(dirpath+\"/\"+file)\n",
    "                df['folder'] = dirpath.split(\"/\")[-1] \n",
    "                df_FP = pd.concat([df, df_FP])\n",
    "\n",
    "    return df_FP"
   ]
  },
  {
   "cell_type": "code",
   "execution_count": null,
   "id": "b69b7bc8",
   "metadata": {},
   "outputs": [],
   "source": []
  }
 ],
 "metadata": {
  "kernelspec": {
   "display_name": "pouch",
   "language": "python",
   "name": "python3"
  },
  "language_info": {
   "codemirror_mode": {
    "name": "ipython",
    "version": 3
   },
   "file_extension": ".py",
   "mimetype": "text/x-python",
   "name": "python",
   "nbconvert_exporter": "python",
   "pygments_lexer": "ipython3",
   "version": "3.13.7"
  }
 },
 "nbformat": 4,
 "nbformat_minor": 5
}
