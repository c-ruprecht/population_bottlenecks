{
 "cells": [
  {
   "cell_type": "code",
   "execution_count": 54,
   "id": "beac4641",
   "metadata": {},
   "outputs": [],
   "source": [
    "import pandas as pd\n",
    "import plotly.express as px\n",
    "import os"
   ]
  },
  {
   "cell_type": "code",
   "execution_count": null,
   "id": "147ca159",
   "metadata": {},
   "outputs": [],
   "source": [
    "def get_readtables(path):\n",
    "    \"\"\"\n",
    "    Reads and merges molecule table CSV files from a directory.\n",
    "    \n",
    "    Separates files into two groups:\n",
    "    - All files ending with 'moleculestable.csv' (excluding onlygavage)\n",
    "    - Files ending with 'onlygavage_moleculestable.csv'\n",
    "    \n",
    "    Strategy (based on ST number in filename):\n",
    "    - Same ST number → concat horizontally (axis=1) on umi_seq (add columns for different samples)\n",
    "    - Different ST numbers → concat vertically (axis=0, add rows)\n",
    "    \n",
    "    Parameters:\n",
    "    -----------\n",
    "    path : str\n",
    "        Directory path containing the CSV files\n",
    "        \n",
    "    Returns:\n",
    "    --------\n",
    "    df_total : pd.DataFrame\n",
    "        Merged dataframe of all moleculestable files (non-gavage)\n",
    "    df_gavageonly : pd.DataFrame\n",
    "        Merged dataframe of onlygavage moleculestable files\n",
    "    \"\"\"\n",
    "    # Get all CSV files in the directory\n",
    "    all_files = [f for f in os.listdir(path) if f.endswith('.csv')]\n",
    "    \n",
    "    # Separate files into two groups\n",
    "    gavage_files = [f for f in all_files if 'onlygavage_moleculestable.csv' in f and not f.startswith('._')]\n",
    "    total_files = [f for f in all_files if 'moleculestable.csv' in f and 'onlygavage' not in f and not f.startswith('._')]\n",
    "    \n",
    "    # Function to merge multiple dataframes\n",
    "    def merge_tables(file_list, directory):\n",
    "        if not file_list:\n",
    "            return pd.DataFrame()\n",
    "        \n",
    "        from collections import defaultdict\n",
    "        \n",
    "        # Group files by ST number\n",
    "        st_groups = defaultdict(list)\n",
    "        \n",
    "        for file in file_list:\n",
    "            # Extract ST number from filename using split('_')\n",
    "            parts = file.split('_')\n",
    "            st_num = None\n",
    "            for part in parts:\n",
    "                if 'ST' in part.upper():\n",
    "                    st_num = part\n",
    "                    break\n",
    "            \n",
    "            if st_num:\n",
    "                st_groups[st_num].append(file)\n",
    "        print(st_groups)\n",
    "        # For each ST group, concat horizontally on umi_seq (same ST, different samples = add columns)\n",
    "        df_merge = pd.DataFrame()            \n",
    "        for st_num, files in sorted(st_groups.items()):\n",
    "            print(st_num, files)\n",
    "            if len(files)>1:\n",
    "                df_strain = pd.DataFrame()\n",
    "                for file in files:\n",
    "                    df = pd.read_csv(os.path.join(directory, file))\n",
    "                    df = df.set_index('umi_seq')\n",
    "                    #drop columns that already exist in df_strain\n",
    "                    drop_cols = [i for i in df.columns if i in df_strain.columns]\n",
    "                    df.drop(columns = drop_cols, inplace = True)\n",
    "                    df_strain = pd.concat([df, df_strain], axis = 1)\n",
    "            else:\n",
    "                df_strain = pd.read_csv(os.path.join(directory, files[0]))\n",
    "                df_strain = df_strain.set_index('umi_seq')  \n",
    "\n",
    "            #drop duplicate water or gavage columns\n",
    "\n",
    "            # Concat horizontally for same ST number (axis=1, add columns)\n",
    "            df_merge = pd.concat([df_strain, df_merge], axis=0)\n",
    "        \n",
    "        \n",
    "        \n",
    "        return df_merge\n",
    "    \n",
    "    # Merge both groups\n",
    "    df_total = merge_tables(total_files, path)\n",
    "    df_gavageonly = merge_tables(gavage_files, path)\n",
    "    \n",
    "    return df_total, df_gavageonly"
   ]
  },
  {
   "cell_type": "markdown",
   "id": "341ca963",
   "metadata": {},
   "source": [
    "# P4C1T8"
   ]
  },
  {
   "cell_type": "code",
   "execution_count": 35,
   "id": "07475314",
   "metadata": {},
   "outputs": [
    {
     "name": "stdout",
     "output_type": "stream",
     "text": [
      "defaultdict(<class 'list'>, {'ST1': ['c1_ST1_moleculestable.csv', 'c2_ST1_moleculestable.csv', 'c3_ST1_moleculestable.csv', 'c4_ST1_moleculestable.csv', 'c5_ST1_moleculestable.csv'], 'ST2': ['c1_ST2_moleculestable.csv', 'c2_ST2_moleculestable.csv', 'c3_ST2_moleculestable.csv', 'c4_ST2_moleculestable.csv', 'c5_ST2_moleculestable.csv'], 'ST5': ['c1_ST5_moleculestable.csv', 'c2_ST5_moleculestable.csv', 'c3_ST5_moleculestable.csv', 'c4_ST5_moleculestable.csv'], 'ST6': ['c1_ST6_moleculestable.csv', 'c2_ST6_moleculestable.csv', 'c3_ST6_moleculestable.csv', 'c4_ST6_moleculestable.csv'], 'ST4': ['c5_ST4_moleculestable.csv']})\n",
      "ST1 ['c1_ST1_moleculestable.csv', 'c2_ST1_moleculestable.csv', 'c3_ST1_moleculestable.csv', 'c4_ST1_moleculestable.csv', 'c5_ST1_moleculestable.csv']\n",
      "ST2 ['c1_ST2_moleculestable.csv', 'c2_ST2_moleculestable.csv', 'c3_ST2_moleculestable.csv', 'c4_ST2_moleculestable.csv', 'c5_ST2_moleculestable.csv']\n",
      "ST4 ['c5_ST4_moleculestable.csv']\n",
      "ST5 ['c1_ST5_moleculestable.csv', 'c2_ST5_moleculestable.csv', 'c3_ST5_moleculestable.csv', 'c4_ST5_moleculestable.csv']\n",
      "ST6 ['c1_ST6_moleculestable.csv', 'c2_ST6_moleculestable.csv', 'c3_ST6_moleculestable.csv', 'c4_ST6_moleculestable.csv']\n",
      "defaultdict(<class 'list'>, {'ST4': ['c5_ST4_onlygavage_moleculestable.csv'], 'ST1': ['c1_ST1_onlygavage_moleculestable.csv', 'c2_ST1_onlygavage_moleculestable.csv', 'c3_ST1_onlygavage_moleculestable.csv', 'c4_ST1_onlygavage_moleculestable.csv', 'c5_ST1_onlygavage_moleculestable.csv'], 'ST2': ['c1_ST2_onlygavage_moleculestable.csv', 'c2_ST2_onlygavage_moleculestable.csv', 'c3_ST2_onlygavage_moleculestable.csv', 'c4_ST2_onlygavage_moleculestable.csv', 'c5_ST2_onlygavage_moleculestable.csv'], 'ST5': ['c1_ST5_onlygavage_moleculestable.csv', 'c2_ST5_onlygavage_moleculestable.csv', 'c3_ST5_onlygavage_moleculestable.csv', 'c4_ST5_onlygavage_moleculestable.csv'], 'ST6': ['c1_ST6_onlygavage_moleculestable.csv', 'c2_ST6_onlygavage_moleculestable.csv', 'c3_ST6_onlygavage_moleculestable.csv', 'c4_ST6_onlygavage_moleculestable.csv']})\n",
      "ST1 ['c1_ST1_onlygavage_moleculestable.csv', 'c2_ST1_onlygavage_moleculestable.csv', 'c3_ST1_onlygavage_moleculestable.csv', 'c4_ST1_onlygavage_moleculestable.csv', 'c5_ST1_onlygavage_moleculestable.csv']\n",
      "ST2 ['c1_ST2_onlygavage_moleculestable.csv', 'c2_ST2_onlygavage_moleculestable.csv', 'c3_ST2_onlygavage_moleculestable.csv', 'c4_ST2_onlygavage_moleculestable.csv', 'c5_ST2_onlygavage_moleculestable.csv']\n",
      "ST4 ['c5_ST4_onlygavage_moleculestable.csv']\n",
      "ST5 ['c1_ST5_onlygavage_moleculestable.csv', 'c2_ST5_onlygavage_moleculestable.csv', 'c3_ST5_onlygavage_moleculestable.csv', 'c4_ST5_onlygavage_moleculestable.csv']\n",
      "ST6 ['c1_ST6_onlygavage_moleculestable.csv', 'c2_ST6_onlygavage_moleculestable.csv', 'c3_ST6_onlygavage_moleculestable.csv', 'c4_ST6_onlygavage_moleculestable.csv']\n"
     ]
    }
   ],
   "source": [
    "#\n",
    "df_total, df_gavageonly = get_readtables('/Volumes/sd/faith/MTCSB/projects/P4-barcoding_strains/r2_data/population-bottlenecks/fp_inputs/P4C1T8')\n"
   ]
  },
  {
   "cell_type": "code",
   "execution_count": 84,
   "id": "53e61b1d",
   "metadata": {},
   "outputs": [
    {
     "data": {
      "text/html": [
       "<div>\n",
       "<style scoped>\n",
       "    .dataframe tbody tr th:only-of-type {\n",
       "        vertical-align: middle;\n",
       "    }\n",
       "\n",
       "    .dataframe tbody tr th {\n",
       "        vertical-align: top;\n",
       "    }\n",
       "\n",
       "    .dataframe thead th {\n",
       "        text-align: right;\n",
       "    }\n",
       "</style>\n",
       "<table border=\"1\" class=\"dataframe\">\n",
       "  <thead>\n",
       "    <tr style=\"text-align: right;\">\n",
       "      <th></th>\n",
       "      <th>umi_seq</th>\n",
       "      <th>sample</th>\n",
       "      <th>counts</th>\n",
       "      <th>sample_type</th>\n",
       "      <th>strain</th>\n",
       "    </tr>\n",
       "  </thead>\n",
       "  <tbody>\n",
       "    <tr>\n",
       "      <th>0</th>\n",
       "      <td>ST6-AAACAAACCAACCTGGAA</td>\n",
       "      <td>s8_gavage-DNA</td>\n",
       "      <td>14.0</td>\n",
       "      <td>gavage</td>\n",
       "      <td>ST6</td>\n",
       "    </tr>\n",
       "    <tr>\n",
       "      <th>30</th>\n",
       "      <td>ST6-AAACAAACCAACCTGGAA</td>\n",
       "      <td>s4_gavage-DNA</td>\n",
       "      <td>2.0</td>\n",
       "      <td>gavage</td>\n",
       "      <td>ST6</td>\n",
       "    </tr>\n",
       "    <tr>\n",
       "      <th>45</th>\n",
       "      <td>ST6-AAACAAACCAACCTGGAA</td>\n",
       "      <td>s2_gavage-DNA</td>\n",
       "      <td>375.0</td>\n",
       "      <td>gavage</td>\n",
       "      <td>ST6</td>\n",
       "    </tr>\n",
       "    <tr>\n",
       "      <th>53</th>\n",
       "      <td>ST6-AAACAAACCAACCTGGAA</td>\n",
       "      <td>s29_stool-DNA</td>\n",
       "      <td>40.0</td>\n",
       "      <td>sample</td>\n",
       "      <td>ST6</td>\n",
       "    </tr>\n",
       "    <tr>\n",
       "      <th>84</th>\n",
       "      <td>ST6-AAACAAAGCACCACGAGG</td>\n",
       "      <td>s8_gavage-DNA</td>\n",
       "      <td>7.0</td>\n",
       "      <td>gavage</td>\n",
       "      <td>ST6</td>\n",
       "    </tr>\n",
       "    <tr>\n",
       "      <th>...</th>\n",
       "      <td>...</td>\n",
       "      <td>...</td>\n",
       "      <td>...</td>\n",
       "      <td>...</td>\n",
       "      <td>...</td>\n",
       "    </tr>\n",
       "    <tr>\n",
       "      <th>590724670</th>\n",
       "      <td>ST1-TTTTTTACCAAAGCAGAT</td>\n",
       "      <td>s100_SI-DNA</td>\n",
       "      <td>1.0</td>\n",
       "      <td>sample</td>\n",
       "      <td>ST1</td>\n",
       "    </tr>\n",
       "    <tr>\n",
       "      <th>590724757</th>\n",
       "      <td>ST1-TTTTTTACCCATGCCACA</td>\n",
       "      <td>s119_Pr.-Colon-DNA</td>\n",
       "      <td>7.0</td>\n",
       "      <td>sample</td>\n",
       "      <td>ST1</td>\n",
       "    </tr>\n",
       "    <tr>\n",
       "      <th>590724845</th>\n",
       "      <td>ST1-TTTTTTGCTCACGTGGAG</td>\n",
       "      <td>s29_stool-DNA</td>\n",
       "      <td>20.0</td>\n",
       "      <td>sample</td>\n",
       "      <td>ST1</td>\n",
       "    </tr>\n",
       "    <tr>\n",
       "      <th>590724923</th>\n",
       "      <td>ST1-TTTTTTTCTCCAATAAAG</td>\n",
       "      <td>s109_Cecum-DNA</td>\n",
       "      <td>42.0</td>\n",
       "      <td>sample</td>\n",
       "      <td>ST1</td>\n",
       "    </tr>\n",
       "    <tr>\n",
       "      <th>590725017</th>\n",
       "      <td>ST1-TTTTTTTTCCTGACCTGA</td>\n",
       "      <td>s49_stool-DNA</td>\n",
       "      <td>14.0</td>\n",
       "      <td>sample</td>\n",
       "      <td>ST1</td>\n",
       "    </tr>\n",
       "  </tbody>\n",
       "</table>\n",
       "<p>14156421 rows × 5 columns</p>\n",
       "</div>"
      ],
      "text/plain": [
       "                          umi_seq              sample  counts sample_type  \\\n",
       "0          ST6-AAACAAACCAACCTGGAA       s8_gavage-DNA    14.0      gavage   \n",
       "30         ST6-AAACAAACCAACCTGGAA       s4_gavage-DNA     2.0      gavage   \n",
       "45         ST6-AAACAAACCAACCTGGAA       s2_gavage-DNA   375.0      gavage   \n",
       "53         ST6-AAACAAACCAACCTGGAA       s29_stool-DNA    40.0      sample   \n",
       "84         ST6-AAACAAAGCACCACGAGG       s8_gavage-DNA     7.0      gavage   \n",
       "...                           ...                 ...     ...         ...   \n",
       "590724670  ST1-TTTTTTACCAAAGCAGAT         s100_SI-DNA     1.0      sample   \n",
       "590724757  ST1-TTTTTTACCCATGCCACA  s119_Pr.-Colon-DNA     7.0      sample   \n",
       "590724845  ST1-TTTTTTGCTCACGTGGAG       s29_stool-DNA    20.0      sample   \n",
       "590724923  ST1-TTTTTTTCTCCAATAAAG      s109_Cecum-DNA    42.0      sample   \n",
       "590725017  ST1-TTTTTTTTCCTGACCTGA       s49_stool-DNA    14.0      sample   \n",
       "\n",
       "          strain  \n",
       "0            ST6  \n",
       "30           ST6  \n",
       "45           ST6  \n",
       "53           ST6  \n",
       "84           ST6  \n",
       "...          ...  \n",
       "590724670    ST1  \n",
       "590724757    ST1  \n",
       "590724845    ST1  \n",
       "590724923    ST1  \n",
       "590725017    ST1  \n",
       "\n",
       "[14156421 rows x 5 columns]"
      ]
     },
     "execution_count": 84,
     "metadata": {},
     "output_type": "execute_result"
    }
   ],
   "source": [
    "df_total_stack = df_total.stack().reset_index()\n",
    "df_total_stack.columns = ['umi_seq', 'sample', 'counts']\n",
    "df_total_stack = df_total_stack.loc[df_total_stack['counts']>0].copy()\n",
    "df_total_stack['sample_type'] = df_total_stack['sample'].apply(\n",
    "                                                        lambda x: 'gavage' if 'gavage' in x \n",
    "                                                        else ('negative_control' if ('WATER' in x or 'NTC' in x) \n",
    "                                                        else 'sample')\n",
    "                                                    )\n",
    "df_total_stack['strain'] = df_total_stack['umi_seq'].apply(lambda x: str(x).split('-')[0])\n",
    "df_total_stack\n",
    "df_total_stack"
   ]
  },
  {
   "cell_type": "code",
   "execution_count": 124,
   "id": "bd28b123",
   "metadata": {},
   "outputs": [
    {
     "data": {
      "application/vnd.plotly.v1+json": {
       "config": {
        "plotlyServerURL": "https://plotly.com"
       },
       "data": [
        {
         "alignmentgroup": "True",
         "boxpoints": "all",
         "customdata": [
          [
           "s1_gavage-DNA"
          ],
          [
           "s2_gavage-DNA"
          ],
          [
           "s3_gavage-DNA"
          ],
          [
           "s4_gavage-DNA"
          ],
          [
           "s5_gavage-DNA"
          ],
          [
           "s6_gavage-DNA"
          ],
          [
           "s7_gavage-DNA"
          ],
          [
           "s8_gavage-DNA"
          ],
          [
           "s9_gavage-DNA"
          ],
          [
           "NTC_H3_NTC"
          ],
          [
           "WATER_B3_WATER"
          ],
          [
           "WATER_C6_WATER"
          ],
          [
           "WATER_D2_WATER"
          ],
          [
           "WATER_F9_WATER"
          ],
          [
           "s100_SI-DNA"
          ],
          [
           "s101_SI-DNA"
          ],
          [
           "s102_SI-DNA"
          ],
          [
           "s103_SI-DNA"
          ],
          [
           "s104_SI-DNA"
          ],
          [
           "s105_SI-DNA"
          ],
          [
           "s106_SI-DNA"
          ],
          [
           "s107_SI-DNA"
          ],
          [
           "s108_SI-DNA"
          ],
          [
           "s109_Cecum-DNA"
          ],
          [
           "s110_Cecum-DNA"
          ],
          [
           "s111_Cecum-DNA"
          ],
          [
           "s112_Cecum-DNA"
          ],
          [
           "s113_Cecum-DNA"
          ],
          [
           "s114_Cecum-DNA"
          ],
          [
           "s115_Cecum-DNA"
          ],
          [
           "s116_Cecum-DNA"
          ],
          [
           "s117_Cecum-DNA"
          ],
          [
           "s118_Cecum-DNA"
          ],
          [
           "s119_Pr.-Colon-DNA"
          ],
          [
           "s120_Pr.-Colon-DNA"
          ],
          [
           "s121_Pr.-Colon-DNA"
          ],
          [
           "s122_Pr.-Colon-DNA"
          ],
          [
           "s123_Pr.-Colon-DNA"
          ],
          [
           "s124_Pr.-Colon-DNA"
          ],
          [
           "s125_Pr.-Colon-DNA"
          ],
          [
           "s126_Pr.-Colon-DNA"
          ],
          [
           "s127_Pr.-Colon-DNA"
          ],
          [
           "s128_Pr.-Colon-DNA"
          ],
          [
           "s19_stool-DNA"
          ],
          [
           "s20_stool-DNA"
          ],
          [
           "s21_stool-DNA"
          ],
          [
           "s22_stool-DNA"
          ],
          [
           "s23_stool-DNA"
          ],
          [
           "s24_stool-DNA"
          ],
          [
           "s25_stool-DNA"
          ],
          [
           "s26_stool-DNA"
          ],
          [
           "s27_stool-DNA"
          ],
          [
           "s28_stool-DNA"
          ],
          [
           "s29_stool-DNA"
          ],
          [
           "s30_stool-DNA"
          ],
          [
           "s31_stool-DNA"
          ],
          [
           "s32_stool-DNA"
          ],
          [
           "s33_stool-DNA"
          ],
          [
           "s34_stool-DNA"
          ],
          [
           "s35_stool-DNA"
          ],
          [
           "s36_stool-DNA"
          ],
          [
           "s37_stool-DNA"
          ],
          [
           "s38_stool-DNA"
          ],
          [
           "s39_stool-DNA"
          ],
          [
           "s40_stool-DNA"
          ],
          [
           "s41_stool-DNA"
          ],
          [
           "s42_stool-DNA"
          ],
          [
           "s43_stool-DNA"
          ],
          [
           "s44_stool-DNA"
          ],
          [
           "s45_stool-DNA"
          ],
          [
           "s46_stool-DNA"
          ],
          [
           "s47_stool-DNA"
          ],
          [
           "s48_stool-DNA"
          ],
          [
           "s49_stool-DNA"
          ],
          [
           "s50_stool-DNA"
          ],
          [
           "s51_stool-DNA"
          ],
          [
           "s52_stool-DNA"
          ],
          [
           "s53_stool-DNA"
          ],
          [
           "s54_stool-DNA"
          ],
          [
           "s55_stool-DNA"
          ],
          [
           "s56_stool-DNA"
          ],
          [
           "s57_stool-DNA"
          ],
          [
           "s58_stool-DNA"
          ],
          [
           "s99_SI-DNA"
          ]
         ],
         "hovertemplate": "type=total_count<br>sample_type=%{x}<br>value=%{y}<br>sample=%{customdata[0]}<extra></extra>",
         "legendgroup": "total_count",
         "marker": {
          "color": "#1F77B4"
         },
         "name": "total_count",
         "notched": false,
         "offsetgroup": "total_count",
         "orientation": "v",
         "showlegend": true,
         "type": "box",
         "x": [
          "gavage",
          "gavage",
          "gavage",
          "gavage",
          "gavage",
          "gavage",
          "gavage",
          "gavage",
          "gavage",
          "negative_control",
          "negative_control",
          "negative_control",
          "negative_control",
          "negative_control",
          "sample",
          "sample",
          "sample",
          "sample",
          "sample",
          "sample",
          "sample",
          "sample",
          "sample",
          "sample",
          "sample",
          "sample",
          "sample",
          "sample",
          "sample",
          "sample",
          "sample",
          "sample",
          "sample",
          "sample",
          "sample",
          "sample",
          "sample",
          "sample",
          "sample",
          "sample",
          "sample",
          "sample",
          "sample",
          "sample",
          "sample",
          "sample",
          "sample",
          "sample",
          "sample",
          "sample",
          "sample",
          "sample",
          "sample",
          "sample",
          "sample",
          "sample",
          "sample",
          "sample",
          "sample",
          "sample",
          "sample",
          "sample",
          "sample",
          "sample",
          "sample",
          "sample",
          "sample",
          "sample",
          "sample",
          "sample",
          "sample",
          "sample",
          "sample",
          "sample",
          "sample",
          "sample",
          "sample",
          "sample",
          "sample",
          "sample",
          "sample",
          "sample",
          "sample",
          "sample"
         ],
         "x0": " ",
         "xaxis": "x",
         "y": {
          "bdata": "AAAAIC9KlUEAAAAQE6OCQQAAAAAgKvFAAAAAALyMG0EAAAAAXsYjQQAAAAAwHvJAAAAAAKA8EEEAAAAAJrU+QQAAAIgTNKxBAAAAAIj2FUEAAAAAIDX3QAAAAAAYtC9BAAAAAI1wQkEAAAAAEEHyQAAAAECxXVRBAAAAwO4bUUEAAAAAQAwKQQAAAICLynZBAAAAABLsNkEAAACIusKJQQAAAIBJw0VBAAAAiUiTtUEAAABQvBpxQQAAgGdNmMZBAACAmsDc2kEAAADLTza6QQAAAIAmQFVBAAAAI21/s0EAAABYPxqQQQAAALAzP4RBAAAAjPoir0EAAIBJQc7RQQAAAKScRMFBAAAAAP+jfkEAAADQNQaEQQAAANBrgXhBAAAABGuNoUEAAADA5hBTQQAAgNJHW8BBAAAAQMIuakEAAABQXkHKQQAAQMY1CdVBAABAuTok4UEAAABtcvO4QQAAAOBcR49BAAAAANNkSEEAAAAAg8NlQQAAAAAQhfpAAAAAAOB/7kAAAABwgfFxQQAAAADgBuxAAAAAwKChZEEAAIAATNHAQQAAAPw44bFBAACArF8qx0EAAACU5fidQQAAQEaxOtJBAAAA4eL6sEEAAADguzNmQQAAAMkY0rlBAAAAACqPJEEAAADV/F3NQQAAgFoXHMdBAADANKMW0UEAAACYSFS0QQAAACCQdW9BAAAAY42oy0EAAACj+ruzQQAAAABYomhBAAAA63lpxUEAAAAC8N23QQAAAMviONVBAACA2N78x0EAAAA4HtivQQAAgFo2ettBAAAAIJ1Zf0EAAADrs9qwQQAAgJ1Kj8NBAAAAwDp3hEEAAACwPkZxQQAAAGhdjJZBAADA7u9040EAAADigtvQQQAAAEARKIZB",
          "dtype": "f8"
         },
         "y0": " ",
         "yaxis": "y"
        },
        {
         "alignmentgroup": "True",
         "boxpoints": "all",
         "customdata": [
          [
           "s1_gavage-DNA"
          ],
          [
           "s2_gavage-DNA"
          ],
          [
           "s3_gavage-DNA"
          ],
          [
           "s4_gavage-DNA"
          ],
          [
           "s5_gavage-DNA"
          ],
          [
           "s6_gavage-DNA"
          ],
          [
           "s7_gavage-DNA"
          ],
          [
           "s8_gavage-DNA"
          ],
          [
           "s9_gavage-DNA"
          ],
          [
           "NTC_H3_NTC"
          ],
          [
           "WATER_B3_WATER"
          ],
          [
           "WATER_C6_WATER"
          ],
          [
           "WATER_D2_WATER"
          ],
          [
           "WATER_F9_WATER"
          ],
          [
           "s100_SI-DNA"
          ],
          [
           "s101_SI-DNA"
          ],
          [
           "s102_SI-DNA"
          ],
          [
           "s103_SI-DNA"
          ],
          [
           "s104_SI-DNA"
          ],
          [
           "s105_SI-DNA"
          ],
          [
           "s106_SI-DNA"
          ],
          [
           "s107_SI-DNA"
          ],
          [
           "s108_SI-DNA"
          ],
          [
           "s109_Cecum-DNA"
          ],
          [
           "s110_Cecum-DNA"
          ],
          [
           "s111_Cecum-DNA"
          ],
          [
           "s112_Cecum-DNA"
          ],
          [
           "s113_Cecum-DNA"
          ],
          [
           "s114_Cecum-DNA"
          ],
          [
           "s115_Cecum-DNA"
          ],
          [
           "s116_Cecum-DNA"
          ],
          [
           "s117_Cecum-DNA"
          ],
          [
           "s118_Cecum-DNA"
          ],
          [
           "s119_Pr.-Colon-DNA"
          ],
          [
           "s120_Pr.-Colon-DNA"
          ],
          [
           "s121_Pr.-Colon-DNA"
          ],
          [
           "s122_Pr.-Colon-DNA"
          ],
          [
           "s123_Pr.-Colon-DNA"
          ],
          [
           "s124_Pr.-Colon-DNA"
          ],
          [
           "s125_Pr.-Colon-DNA"
          ],
          [
           "s126_Pr.-Colon-DNA"
          ],
          [
           "s127_Pr.-Colon-DNA"
          ],
          [
           "s128_Pr.-Colon-DNA"
          ],
          [
           "s19_stool-DNA"
          ],
          [
           "s20_stool-DNA"
          ],
          [
           "s21_stool-DNA"
          ],
          [
           "s22_stool-DNA"
          ],
          [
           "s23_stool-DNA"
          ],
          [
           "s24_stool-DNA"
          ],
          [
           "s25_stool-DNA"
          ],
          [
           "s26_stool-DNA"
          ],
          [
           "s27_stool-DNA"
          ],
          [
           "s28_stool-DNA"
          ],
          [
           "s29_stool-DNA"
          ],
          [
           "s30_stool-DNA"
          ],
          [
           "s31_stool-DNA"
          ],
          [
           "s32_stool-DNA"
          ],
          [
           "s33_stool-DNA"
          ],
          [
           "s34_stool-DNA"
          ],
          [
           "s35_stool-DNA"
          ],
          [
           "s36_stool-DNA"
          ],
          [
           "s37_stool-DNA"
          ],
          [
           "s38_stool-DNA"
          ],
          [
           "s39_stool-DNA"
          ],
          [
           "s40_stool-DNA"
          ],
          [
           "s41_stool-DNA"
          ],
          [
           "s42_stool-DNA"
          ],
          [
           "s43_stool-DNA"
          ],
          [
           "s44_stool-DNA"
          ],
          [
           "s45_stool-DNA"
          ],
          [
           "s46_stool-DNA"
          ],
          [
           "s47_stool-DNA"
          ],
          [
           "s48_stool-DNA"
          ],
          [
           "s49_stool-DNA"
          ],
          [
           "s50_stool-DNA"
          ],
          [
           "s51_stool-DNA"
          ],
          [
           "s52_stool-DNA"
          ],
          [
           "s53_stool-DNA"
          ],
          [
           "s54_stool-DNA"
          ],
          [
           "s55_stool-DNA"
          ],
          [
           "s56_stool-DNA"
          ],
          [
           "s57_stool-DNA"
          ],
          [
           "s58_stool-DNA"
          ],
          [
           "s99_SI-DNA"
          ]
         ],
         "hovertemplate": "type=total_unique_umi<br>sample_type=%{x}<br>value=%{y}<br>sample=%{customdata[0]}<extra></extra>",
         "legendgroup": "total_unique_umi",
         "marker": {
          "color": "#FF7F0E"
         },
         "name": "total_unique_umi",
         "notched": false,
         "offsetgroup": "total_unique_umi",
         "orientation": "v",
         "showlegend": true,
         "type": "box",
         "x": [
          "gavage",
          "gavage",
          "gavage",
          "gavage",
          "gavage",
          "gavage",
          "gavage",
          "gavage",
          "gavage",
          "negative_control",
          "negative_control",
          "negative_control",
          "negative_control",
          "negative_control",
          "sample",
          "sample",
          "sample",
          "sample",
          "sample",
          "sample",
          "sample",
          "sample",
          "sample",
          "sample",
          "sample",
          "sample",
          "sample",
          "sample",
          "sample",
          "sample",
          "sample",
          "sample",
          "sample",
          "sample",
          "sample",
          "sample",
          "sample",
          "sample",
          "sample",
          "sample",
          "sample",
          "sample",
          "sample",
          "sample",
          "sample",
          "sample",
          "sample",
          "sample",
          "sample",
          "sample",
          "sample",
          "sample",
          "sample",
          "sample",
          "sample",
          "sample",
          "sample",
          "sample",
          "sample",
          "sample",
          "sample",
          "sample",
          "sample",
          "sample",
          "sample",
          "sample",
          "sample",
          "sample",
          "sample",
          "sample",
          "sample",
          "sample",
          "sample",
          "sample",
          "sample",
          "sample",
          "sample",
          "sample",
          "sample",
          "sample",
          "sample",
          "sample",
          "sample",
          "sample"
         ],
         "x0": " ",
         "xaxis": "x",
         "y": {
          "bdata": "AAAAAPxHH0EAAAAAzPYeQQAAAAAALq9AAAAAAEBF0UAAAAAAAM/HQAAAAAAAmJZAAAAAAMCt2EAAAAAAAEC5QAAAAAAYswRBAAAAAAD440AAAAAAAM+2QAAAAABgLuxAAAAAAGAL9EAAAAAAAE6uQAAAAADA3fhAAAAAAIBe3UAAAAAAAHi9QAAAAAAACNNAAAAAAABLvEAAAAAAwDTZQAAAAADAltBAAAAAAEB5BkEAAAAAKMMHQQAAAABsQiFBAAAAAAA4FkEAAAAAQL8UQQAAAABQz/BAAAAAAMhqAkEAAAAAEHD2QAAAAADAx+lAAAAAAPAh9kAAAAAAQHcPQQAAAAAArwtBAAAAAFDRAUEAAAAAYAoSQQAAAAAMkRJBAAAAANBxCkEAAAAAQMDjQAAAAAAQCPBAAAAAAOB85EAAAAAAQGTzQAAAAADIkQ1BAAAAAGhdDEEAAAAAuKYSQQAAAAD4QwRBAAAAAICn+kAAAAAA4OTwQAAAAAAAEqtAAAAAAAAUmUAAAAAA4KHgQAAAAAAANJFAAAAAAMiZBkEAAAAA4FYIQQAAAADkMh9BAAAAAJSKEkEAAAAA9AsVQQAAAABAgwtBAAAAAIABBEEAAAAA4EHyQAAAAABQJv5AAAAAAADnsEAAAAAAEBERQQAAAADgZRJBAAAAAPSDHUEAAAAAfBISQQAAAABA6RNBAAAAAOj3DkEAAAAA8EQCQQAAAAAg8+5AAAAAAKD3+UAAAAAAIEL0QAAAAAAwDA9BAAAAAExvEkEAAAAApGAhQQAAAADA+hZBAAAAAOCZE0EAAAAACN4KQQAAAAD42wNBAAAAADAX8UAAAAAAMHb5QAAAAAAwsvNAAAAAAPSoEEEAAAAA+BYSQQAAAABgi+dA",
          "dtype": "f8"
         },
         "y0": " ",
         "yaxis": "y"
        }
       ],
       "layout": {
        "boxmode": "group",
        "legend": {
         "title": {
          "text": "type"
         },
         "tracegroupgap": 0
        },
        "margin": {
         "t": 60
        },
        "template": {
         "data": {
          "bar": [
           {
            "error_x": {
             "color": "rgb(36,36,36)"
            },
            "error_y": {
             "color": "rgb(36,36,36)"
            },
            "marker": {
             "line": {
              "color": "white",
              "width": 0.5
             },
             "pattern": {
              "fillmode": "overlay",
              "size": 10,
              "solidity": 0.2
             }
            },
            "type": "bar"
           }
          ],
          "barpolar": [
           {
            "marker": {
             "line": {
              "color": "white",
              "width": 0.5
             },
             "pattern": {
              "fillmode": "overlay",
              "size": 10,
              "solidity": 0.2
             }
            },
            "type": "barpolar"
           }
          ],
          "carpet": [
           {
            "aaxis": {
             "endlinecolor": "rgb(36,36,36)",
             "gridcolor": "white",
             "linecolor": "white",
             "minorgridcolor": "white",
             "startlinecolor": "rgb(36,36,36)"
            },
            "baxis": {
             "endlinecolor": "rgb(36,36,36)",
             "gridcolor": "white",
             "linecolor": "white",
             "minorgridcolor": "white",
             "startlinecolor": "rgb(36,36,36)"
            },
            "type": "carpet"
           }
          ],
          "choropleth": [
           {
            "colorbar": {
             "outlinewidth": 1,
             "tickcolor": "rgb(36,36,36)",
             "ticks": "outside"
            },
            "type": "choropleth"
           }
          ],
          "contour": [
           {
            "colorbar": {
             "outlinewidth": 1,
             "tickcolor": "rgb(36,36,36)",
             "ticks": "outside"
            },
            "colorscale": [
             [
              0,
              "#440154"
             ],
             [
              0.1111111111111111,
              "#482878"
             ],
             [
              0.2222222222222222,
              "#3e4989"
             ],
             [
              0.3333333333333333,
              "#31688e"
             ],
             [
              0.4444444444444444,
              "#26828e"
             ],
             [
              0.5555555555555556,
              "#1f9e89"
             ],
             [
              0.6666666666666666,
              "#35b779"
             ],
             [
              0.7777777777777778,
              "#6ece58"
             ],
             [
              0.8888888888888888,
              "#b5de2b"
             ],
             [
              1,
              "#fde725"
             ]
            ],
            "type": "contour"
           }
          ],
          "contourcarpet": [
           {
            "colorbar": {
             "outlinewidth": 1,
             "tickcolor": "rgb(36,36,36)",
             "ticks": "outside"
            },
            "type": "contourcarpet"
           }
          ],
          "heatmap": [
           {
            "colorbar": {
             "outlinewidth": 1,
             "tickcolor": "rgb(36,36,36)",
             "ticks": "outside"
            },
            "colorscale": [
             [
              0,
              "#440154"
             ],
             [
              0.1111111111111111,
              "#482878"
             ],
             [
              0.2222222222222222,
              "#3e4989"
             ],
             [
              0.3333333333333333,
              "#31688e"
             ],
             [
              0.4444444444444444,
              "#26828e"
             ],
             [
              0.5555555555555556,
              "#1f9e89"
             ],
             [
              0.6666666666666666,
              "#35b779"
             ],
             [
              0.7777777777777778,
              "#6ece58"
             ],
             [
              0.8888888888888888,
              "#b5de2b"
             ],
             [
              1,
              "#fde725"
             ]
            ],
            "type": "heatmap"
           }
          ],
          "histogram": [
           {
            "marker": {
             "line": {
              "color": "white",
              "width": 0.6
             }
            },
            "type": "histogram"
           }
          ],
          "histogram2d": [
           {
            "colorbar": {
             "outlinewidth": 1,
             "tickcolor": "rgb(36,36,36)",
             "ticks": "outside"
            },
            "colorscale": [
             [
              0,
              "#440154"
             ],
             [
              0.1111111111111111,
              "#482878"
             ],
             [
              0.2222222222222222,
              "#3e4989"
             ],
             [
              0.3333333333333333,
              "#31688e"
             ],
             [
              0.4444444444444444,
              "#26828e"
             ],
             [
              0.5555555555555556,
              "#1f9e89"
             ],
             [
              0.6666666666666666,
              "#35b779"
             ],
             [
              0.7777777777777778,
              "#6ece58"
             ],
             [
              0.8888888888888888,
              "#b5de2b"
             ],
             [
              1,
              "#fde725"
             ]
            ],
            "type": "histogram2d"
           }
          ],
          "histogram2dcontour": [
           {
            "colorbar": {
             "outlinewidth": 1,
             "tickcolor": "rgb(36,36,36)",
             "ticks": "outside"
            },
            "colorscale": [
             [
              0,
              "#440154"
             ],
             [
              0.1111111111111111,
              "#482878"
             ],
             [
              0.2222222222222222,
              "#3e4989"
             ],
             [
              0.3333333333333333,
              "#31688e"
             ],
             [
              0.4444444444444444,
              "#26828e"
             ],
             [
              0.5555555555555556,
              "#1f9e89"
             ],
             [
              0.6666666666666666,
              "#35b779"
             ],
             [
              0.7777777777777778,
              "#6ece58"
             ],
             [
              0.8888888888888888,
              "#b5de2b"
             ],
             [
              1,
              "#fde725"
             ]
            ],
            "type": "histogram2dcontour"
           }
          ],
          "mesh3d": [
           {
            "colorbar": {
             "outlinewidth": 1,
             "tickcolor": "rgb(36,36,36)",
             "ticks": "outside"
            },
            "type": "mesh3d"
           }
          ],
          "parcoords": [
           {
            "line": {
             "colorbar": {
              "outlinewidth": 1,
              "tickcolor": "rgb(36,36,36)",
              "ticks": "outside"
             }
            },
            "type": "parcoords"
           }
          ],
          "pie": [
           {
            "automargin": true,
            "type": "pie"
           }
          ],
          "scatter": [
           {
            "fillpattern": {
             "fillmode": "overlay",
             "size": 10,
             "solidity": 0.2
            },
            "type": "scatter"
           }
          ],
          "scatter3d": [
           {
            "line": {
             "colorbar": {
              "outlinewidth": 1,
              "tickcolor": "rgb(36,36,36)",
              "ticks": "outside"
             }
            },
            "marker": {
             "colorbar": {
              "outlinewidth": 1,
              "tickcolor": "rgb(36,36,36)",
              "ticks": "outside"
             }
            },
            "type": "scatter3d"
           }
          ],
          "scattercarpet": [
           {
            "marker": {
             "colorbar": {
              "outlinewidth": 1,
              "tickcolor": "rgb(36,36,36)",
              "ticks": "outside"
             }
            },
            "type": "scattercarpet"
           }
          ],
          "scattergeo": [
           {
            "marker": {
             "colorbar": {
              "outlinewidth": 1,
              "tickcolor": "rgb(36,36,36)",
              "ticks": "outside"
             }
            },
            "type": "scattergeo"
           }
          ],
          "scattergl": [
           {
            "marker": {
             "colorbar": {
              "outlinewidth": 1,
              "tickcolor": "rgb(36,36,36)",
              "ticks": "outside"
             }
            },
            "type": "scattergl"
           }
          ],
          "scattermap": [
           {
            "marker": {
             "colorbar": {
              "outlinewidth": 1,
              "tickcolor": "rgb(36,36,36)",
              "ticks": "outside"
             }
            },
            "type": "scattermap"
           }
          ],
          "scattermapbox": [
           {
            "marker": {
             "colorbar": {
              "outlinewidth": 1,
              "tickcolor": "rgb(36,36,36)",
              "ticks": "outside"
             }
            },
            "type": "scattermapbox"
           }
          ],
          "scatterpolar": [
           {
            "marker": {
             "colorbar": {
              "outlinewidth": 1,
              "tickcolor": "rgb(36,36,36)",
              "ticks": "outside"
             }
            },
            "type": "scatterpolar"
           }
          ],
          "scatterpolargl": [
           {
            "marker": {
             "colorbar": {
              "outlinewidth": 1,
              "tickcolor": "rgb(36,36,36)",
              "ticks": "outside"
             }
            },
            "type": "scatterpolargl"
           }
          ],
          "scatterternary": [
           {
            "marker": {
             "colorbar": {
              "outlinewidth": 1,
              "tickcolor": "rgb(36,36,36)",
              "ticks": "outside"
             }
            },
            "type": "scatterternary"
           }
          ],
          "surface": [
           {
            "colorbar": {
             "outlinewidth": 1,
             "tickcolor": "rgb(36,36,36)",
             "ticks": "outside"
            },
            "colorscale": [
             [
              0,
              "#440154"
             ],
             [
              0.1111111111111111,
              "#482878"
             ],
             [
              0.2222222222222222,
              "#3e4989"
             ],
             [
              0.3333333333333333,
              "#31688e"
             ],
             [
              0.4444444444444444,
              "#26828e"
             ],
             [
              0.5555555555555556,
              "#1f9e89"
             ],
             [
              0.6666666666666666,
              "#35b779"
             ],
             [
              0.7777777777777778,
              "#6ece58"
             ],
             [
              0.8888888888888888,
              "#b5de2b"
             ],
             [
              1,
              "#fde725"
             ]
            ],
            "type": "surface"
           }
          ],
          "table": [
           {
            "cells": {
             "fill": {
              "color": "rgb(237,237,237)"
             },
             "line": {
              "color": "white"
             }
            },
            "header": {
             "fill": {
              "color": "rgb(217,217,217)"
             },
             "line": {
              "color": "white"
             }
            },
            "type": "table"
           }
          ]
         },
         "layout": {
          "annotationdefaults": {
           "arrowhead": 0,
           "arrowwidth": 1
          },
          "autotypenumbers": "strict",
          "coloraxis": {
           "colorbar": {
            "outlinewidth": 1,
            "tickcolor": "rgb(36,36,36)",
            "ticks": "outside"
           }
          },
          "colorscale": {
           "diverging": [
            [
             0,
             "rgb(103,0,31)"
            ],
            [
             0.1,
             "rgb(178,24,43)"
            ],
            [
             0.2,
             "rgb(214,96,77)"
            ],
            [
             0.3,
             "rgb(244,165,130)"
            ],
            [
             0.4,
             "rgb(253,219,199)"
            ],
            [
             0.5,
             "rgb(247,247,247)"
            ],
            [
             0.6,
             "rgb(209,229,240)"
            ],
            [
             0.7,
             "rgb(146,197,222)"
            ],
            [
             0.8,
             "rgb(67,147,195)"
            ],
            [
             0.9,
             "rgb(33,102,172)"
            ],
            [
             1,
             "rgb(5,48,97)"
            ]
           ],
           "sequential": [
            [
             0,
             "#440154"
            ],
            [
             0.1111111111111111,
             "#482878"
            ],
            [
             0.2222222222222222,
             "#3e4989"
            ],
            [
             0.3333333333333333,
             "#31688e"
            ],
            [
             0.4444444444444444,
             "#26828e"
            ],
            [
             0.5555555555555556,
             "#1f9e89"
            ],
            [
             0.6666666666666666,
             "#35b779"
            ],
            [
             0.7777777777777778,
             "#6ece58"
            ],
            [
             0.8888888888888888,
             "#b5de2b"
            ],
            [
             1,
             "#fde725"
            ]
           ],
           "sequentialminus": [
            [
             0,
             "#440154"
            ],
            [
             0.1111111111111111,
             "#482878"
            ],
            [
             0.2222222222222222,
             "#3e4989"
            ],
            [
             0.3333333333333333,
             "#31688e"
            ],
            [
             0.4444444444444444,
             "#26828e"
            ],
            [
             0.5555555555555556,
             "#1f9e89"
            ],
            [
             0.6666666666666666,
             "#35b779"
            ],
            [
             0.7777777777777778,
             "#6ece58"
            ],
            [
             0.8888888888888888,
             "#b5de2b"
            ],
            [
             1,
             "#fde725"
            ]
           ]
          },
          "colorway": [
           "#1F77B4",
           "#FF7F0E",
           "#2CA02C",
           "#D62728",
           "#9467BD",
           "#8C564B",
           "#E377C2",
           "#7F7F7F",
           "#BCBD22",
           "#17BECF"
          ],
          "font": {
           "color": "rgb(36,36,36)"
          },
          "geo": {
           "bgcolor": "white",
           "lakecolor": "white",
           "landcolor": "white",
           "showlakes": true,
           "showland": true,
           "subunitcolor": "white"
          },
          "hoverlabel": {
           "align": "left"
          },
          "hovermode": "closest",
          "mapbox": {
           "style": "light"
          },
          "paper_bgcolor": "white",
          "plot_bgcolor": "white",
          "polar": {
           "angularaxis": {
            "gridcolor": "rgb(232,232,232)",
            "linecolor": "rgb(36,36,36)",
            "showgrid": false,
            "showline": true,
            "ticks": "outside"
           },
           "bgcolor": "white",
           "radialaxis": {
            "gridcolor": "rgb(232,232,232)",
            "linecolor": "rgb(36,36,36)",
            "showgrid": false,
            "showline": true,
            "ticks": "outside"
           }
          },
          "scene": {
           "xaxis": {
            "backgroundcolor": "white",
            "gridcolor": "rgb(232,232,232)",
            "gridwidth": 2,
            "linecolor": "rgb(36,36,36)",
            "showbackground": true,
            "showgrid": false,
            "showline": true,
            "ticks": "outside",
            "zeroline": false,
            "zerolinecolor": "rgb(36,36,36)"
           },
           "yaxis": {
            "backgroundcolor": "white",
            "gridcolor": "rgb(232,232,232)",
            "gridwidth": 2,
            "linecolor": "rgb(36,36,36)",
            "showbackground": true,
            "showgrid": false,
            "showline": true,
            "ticks": "outside",
            "zeroline": false,
            "zerolinecolor": "rgb(36,36,36)"
           },
           "zaxis": {
            "backgroundcolor": "white",
            "gridcolor": "rgb(232,232,232)",
            "gridwidth": 2,
            "linecolor": "rgb(36,36,36)",
            "showbackground": true,
            "showgrid": false,
            "showline": true,
            "ticks": "outside",
            "zeroline": false,
            "zerolinecolor": "rgb(36,36,36)"
           }
          },
          "shapedefaults": {
           "fillcolor": "black",
           "line": {
            "width": 0
           },
           "opacity": 0.3
          },
          "ternary": {
           "aaxis": {
            "gridcolor": "rgb(232,232,232)",
            "linecolor": "rgb(36,36,36)",
            "showgrid": false,
            "showline": true,
            "ticks": "outside"
           },
           "baxis": {
            "gridcolor": "rgb(232,232,232)",
            "linecolor": "rgb(36,36,36)",
            "showgrid": false,
            "showline": true,
            "ticks": "outside"
           },
           "bgcolor": "white",
           "caxis": {
            "gridcolor": "rgb(232,232,232)",
            "linecolor": "rgb(36,36,36)",
            "showgrid": false,
            "showline": true,
            "ticks": "outside"
           }
          },
          "title": {
           "x": 0.05
          },
          "xaxis": {
           "automargin": true,
           "gridcolor": "rgb(232,232,232)",
           "linecolor": "rgb(36,36,36)",
           "showgrid": false,
           "showline": true,
           "ticks": "outside",
           "title": {
            "standoff": 15
           },
           "zeroline": false,
           "zerolinecolor": "rgb(36,36,36)"
          },
          "yaxis": {
           "automargin": true,
           "gridcolor": "rgb(232,232,232)",
           "linecolor": "rgb(36,36,36)",
           "showgrid": false,
           "showline": true,
           "ticks": "outside",
           "title": {
            "standoff": 15
           },
           "zeroline": false,
           "zerolinecolor": "rgb(36,36,36)"
          }
         }
        },
        "xaxis": {
         "anchor": "y",
         "categoryarray": [
          "gavage",
          "negative_control",
          "sample"
         ],
         "categoryorder": "trace",
         "domain": [
          0,
          1
         ],
         "showticklabels": true,
         "title": {
          "text": "sample_type"
         }
        },
        "yaxis": {
         "anchor": "x",
         "domain": [
          0,
          1
         ],
         "range": [
          3,
          10
         ],
         "showticklabels": true,
         "title": {
          "text": "value"
         },
         "type": "log"
        }
       }
      }
     },
     "metadata": {},
     "output_type": "display_data"
    }
   ],
   "source": [
    "agg_dict = {'total_count': ('counts', 'sum'),\n",
    "        'total_unique_umi': ('umi_seq', 'nunique')}\n",
    "\n",
    "df_total_gpd = df_total_stack.groupby(['sample_type', 'sample']).agg(**agg_dict)\n",
    "\n",
    "df_total_gpd = df_total_gpd.reset_index()\n",
    "df_total_gpd = df_total_gpd.set_index(['sample_type', 'sample']).stack()\n",
    "df_total_gpd = df_total_gpd.reset_index()\n",
    "df_total_gpd = df_total_gpd.rename(columns = {'level_2':'type', 0:'value'})\n",
    "df_total_gpd\n",
    "\n",
    "df_plot = df_total_gpd.loc[df_total_gpd['type'].str.contains('ST')==False]\n",
    "fig = px.box(df_plot,\n",
    "             x = 'sample_type',\n",
    "             y = 'value',\n",
    "             color = 'type',\n",
    "             hover_data = ['sample'],\n",
    "             template = 'simple_white',\n",
    "             points = 'all',\n",
    "             log_y = True,\n",
    "            category_orders={'sample_type': sorted(df_plot['sample_type'].unique())}\n",
    "             )\n",
    "\n",
    "fig.update_xaxes(matches=None, categoryorder='trace', showticklabels=True)\n",
    "fig.update_yaxes(matches=None, showticklabels=True)\n",
    "fig.update_yaxes(col=1, range=[3, 10])\n",
    "fig.update_yaxes(col=2, range=[2, 7])\n",
    "fig.show()"
   ]
  },
  {
   "cell_type": "code",
   "execution_count": 131,
   "id": "4ede2537",
   "metadata": {},
   "outputs": [
    {
     "data": {
      "text/html": [
       "<div>\n",
       "<style scoped>\n",
       "    .dataframe tbody tr th:only-of-type {\n",
       "        vertical-align: middle;\n",
       "    }\n",
       "\n",
       "    .dataframe tbody tr th {\n",
       "        vertical-align: top;\n",
       "    }\n",
       "\n",
       "    .dataframe thead th {\n",
       "        text-align: right;\n",
       "    }\n",
       "</style>\n",
       "<table border=\"1\" class=\"dataframe\">\n",
       "  <thead>\n",
       "    <tr style=\"text-align: right;\">\n",
       "      <th></th>\n",
       "      <th>sample_type</th>\n",
       "      <th>sample</th>\n",
       "      <th>strain</th>\n",
       "      <th>level_3</th>\n",
       "      <th>0</th>\n",
       "    </tr>\n",
       "  </thead>\n",
       "  <tbody>\n",
       "    <tr>\n",
       "      <th>0</th>\n",
       "      <td>gavage</td>\n",
       "      <td>s1_gavage-DNA</td>\n",
       "      <td>ST1</td>\n",
       "      <td>total_count</td>\n",
       "      <td>48588736.0</td>\n",
       "    </tr>\n",
       "    <tr>\n",
       "      <th>1</th>\n",
       "      <td>gavage</td>\n",
       "      <td>s1_gavage-DNA</td>\n",
       "      <td>ST1</td>\n",
       "      <td>total_unique_umi</td>\n",
       "      <td>298059.0</td>\n",
       "    </tr>\n",
       "    <tr>\n",
       "      <th>2</th>\n",
       "      <td>gavage</td>\n",
       "      <td>s1_gavage-DNA</td>\n",
       "      <td>ST2</td>\n",
       "      <td>total_count</td>\n",
       "      <td>40707080.0</td>\n",
       "    </tr>\n",
       "    <tr>\n",
       "      <th>3</th>\n",
       "      <td>gavage</td>\n",
       "      <td>s1_gavage-DNA</td>\n",
       "      <td>ST2</td>\n",
       "      <td>total_unique_umi</td>\n",
       "      <td>214452.0</td>\n",
       "    </tr>\n",
       "    <tr>\n",
       "      <th>4</th>\n",
       "      <td>gavage</td>\n",
       "      <td>s2_gavage-DNA</td>\n",
       "      <td>ST5</td>\n",
       "      <td>total_count</td>\n",
       "      <td>10611011.0</td>\n",
       "    </tr>\n",
       "    <tr>\n",
       "      <th>...</th>\n",
       "      <td>...</td>\n",
       "      <td>...</td>\n",
       "      <td>...</td>\n",
       "      <td>...</td>\n",
       "      <td>...</td>\n",
       "    </tr>\n",
       "    <tr>\n",
       "      <th>611</th>\n",
       "      <td>sample</td>\n",
       "      <td>s99_SI-DNA</td>\n",
       "      <td>ST2</td>\n",
       "      <td>total_unique_umi</td>\n",
       "      <td>15.0</td>\n",
       "    </tr>\n",
       "    <tr>\n",
       "      <th>612</th>\n",
       "      <td>sample</td>\n",
       "      <td>s99_SI-DNA</td>\n",
       "      <td>ST5</td>\n",
       "      <td>total_count</td>\n",
       "      <td>22163753.0</td>\n",
       "    </tr>\n",
       "    <tr>\n",
       "      <th>613</th>\n",
       "      <td>sample</td>\n",
       "      <td>s99_SI-DNA</td>\n",
       "      <td>ST5</td>\n",
       "      <td>total_unique_umi</td>\n",
       "      <td>7205.0</td>\n",
       "    </tr>\n",
       "    <tr>\n",
       "      <th>614</th>\n",
       "      <td>sample</td>\n",
       "      <td>s99_SI-DNA</td>\n",
       "      <td>ST6</td>\n",
       "      <td>total_count</td>\n",
       "      <td>2933937.0</td>\n",
       "    </tr>\n",
       "    <tr>\n",
       "      <th>615</th>\n",
       "      <td>sample</td>\n",
       "      <td>s99_SI-DNA</td>\n",
       "      <td>ST6</td>\n",
       "      <td>total_unique_umi</td>\n",
       "      <td>553.0</td>\n",
       "    </tr>\n",
       "  </tbody>\n",
       "</table>\n",
       "<p>616 rows × 5 columns</p>\n",
       "</div>"
      ],
      "text/plain": [
       "    sample_type         sample strain           level_3           0\n",
       "0        gavage  s1_gavage-DNA    ST1       total_count  48588736.0\n",
       "1        gavage  s1_gavage-DNA    ST1  total_unique_umi    298059.0\n",
       "2        gavage  s1_gavage-DNA    ST2       total_count  40707080.0\n",
       "3        gavage  s1_gavage-DNA    ST2  total_unique_umi    214452.0\n",
       "4        gavage  s2_gavage-DNA    ST5       total_count  10611011.0\n",
       "..          ...            ...    ...               ...         ...\n",
       "611      sample     s99_SI-DNA    ST2  total_unique_umi        15.0\n",
       "612      sample     s99_SI-DNA    ST5       total_count  22163753.0\n",
       "613      sample     s99_SI-DNA    ST5  total_unique_umi      7205.0\n",
       "614      sample     s99_SI-DNA    ST6       total_count   2933937.0\n",
       "615      sample     s99_SI-DNA    ST6  total_unique_umi       553.0\n",
       "\n",
       "[616 rows x 5 columns]"
      ]
     },
     "metadata": {},
     "output_type": "display_data"
    },
    {
     "data": {
      "application/vnd.plotly.v1+json": {
       "config": {
        "plotlyServerURL": "https://plotly.com"
       },
       "data": [
        {
         "alignmentgroup": "True",
         "boxpoints": "all",
         "customdata": [
          [
           "s1_gavage-DNA"
          ],
          [
           "s3_gavage-DNA"
          ],
          [
           "s5_gavage-DNA"
          ],
          [
           "s7_gavage-DNA"
          ],
          [
           "s9_gavage-DNA"
          ],
          [
           "NTC_H3_NTC"
          ],
          [
           "WATER_B3_WATER"
          ],
          [
           "WATER_C6_WATER"
          ],
          [
           "WATER_D2_WATER"
          ],
          [
           "WATER_F9_WATER"
          ],
          [
           "s100_SI-DNA"
          ],
          [
           "s101_SI-DNA"
          ],
          [
           "s102_SI-DNA"
          ],
          [
           "s103_SI-DNA"
          ],
          [
           "s104_SI-DNA"
          ],
          [
           "s105_SI-DNA"
          ],
          [
           "s106_SI-DNA"
          ],
          [
           "s107_SI-DNA"
          ],
          [
           "s108_SI-DNA"
          ],
          [
           "s109_Cecum-DNA"
          ],
          [
           "s110_Cecum-DNA"
          ],
          [
           "s111_Cecum-DNA"
          ],
          [
           "s112_Cecum-DNA"
          ],
          [
           "s113_Cecum-DNA"
          ],
          [
           "s114_Cecum-DNA"
          ],
          [
           "s115_Cecum-DNA"
          ],
          [
           "s116_Cecum-DNA"
          ],
          [
           "s117_Cecum-DNA"
          ],
          [
           "s118_Cecum-DNA"
          ],
          [
           "s119_Pr.-Colon-DNA"
          ],
          [
           "s120_Pr.-Colon-DNA"
          ],
          [
           "s121_Pr.-Colon-DNA"
          ],
          [
           "s122_Pr.-Colon-DNA"
          ],
          [
           "s123_Pr.-Colon-DNA"
          ],
          [
           "s124_Pr.-Colon-DNA"
          ],
          [
           "s125_Pr.-Colon-DNA"
          ],
          [
           "s126_Pr.-Colon-DNA"
          ],
          [
           "s127_Pr.-Colon-DNA"
          ],
          [
           "s128_Pr.-Colon-DNA"
          ],
          [
           "s19_stool-DNA"
          ],
          [
           "s20_stool-DNA"
          ],
          [
           "s21_stool-DNA"
          ],
          [
           "s22_stool-DNA"
          ],
          [
           "s23_stool-DNA"
          ],
          [
           "s24_stool-DNA"
          ],
          [
           "s25_stool-DNA"
          ],
          [
           "s26_stool-DNA"
          ],
          [
           "s27_stool-DNA"
          ],
          [
           "s28_stool-DNA"
          ],
          [
           "s29_stool-DNA"
          ],
          [
           "s30_stool-DNA"
          ],
          [
           "s31_stool-DNA"
          ],
          [
           "s32_stool-DNA"
          ],
          [
           "s33_stool-DNA"
          ],
          [
           "s34_stool-DNA"
          ],
          [
           "s35_stool-DNA"
          ],
          [
           "s36_stool-DNA"
          ],
          [
           "s37_stool-DNA"
          ],
          [
           "s38_stool-DNA"
          ],
          [
           "s39_stool-DNA"
          ],
          [
           "s40_stool-DNA"
          ],
          [
           "s41_stool-DNA"
          ],
          [
           "s42_stool-DNA"
          ],
          [
           "s43_stool-DNA"
          ],
          [
           "s44_stool-DNA"
          ],
          [
           "s45_stool-DNA"
          ],
          [
           "s46_stool-DNA"
          ],
          [
           "s47_stool-DNA"
          ],
          [
           "s48_stool-DNA"
          ],
          [
           "s49_stool-DNA"
          ],
          [
           "s50_stool-DNA"
          ],
          [
           "s51_stool-DNA"
          ],
          [
           "s52_stool-DNA"
          ],
          [
           "s53_stool-DNA"
          ],
          [
           "s54_stool-DNA"
          ],
          [
           "s55_stool-DNA"
          ],
          [
           "s56_stool-DNA"
          ],
          [
           "s57_stool-DNA"
          ],
          [
           "s58_stool-DNA"
          ],
          [
           "s99_SI-DNA"
          ]
         ],
         "hovertemplate": "strain=ST1<br>type=total_count<br>sample_type=%{x}<br>value=%{y}<br>sample=%{customdata[0]}<extra></extra>",
         "legendgroup": "ST1",
         "marker": {
          "color": "#1F77B4"
         },
         "name": "ST1",
         "notched": false,
         "offsetgroup": "ST1",
         "orientation": "v",
         "showlegend": true,
         "type": "box",
         "x": [
          "gavage",
          "gavage",
          "gavage",
          "gavage",
          "gavage",
          "negative_control",
          "negative_control",
          "negative_control",
          "negative_control",
          "negative_control",
          "sample",
          "sample",
          "sample",
          "sample",
          "sample",
          "sample",
          "sample",
          "sample",
          "sample",
          "sample",
          "sample",
          "sample",
          "sample",
          "sample",
          "sample",
          "sample",
          "sample",
          "sample",
          "sample",
          "sample",
          "sample",
          "sample",
          "sample",
          "sample",
          "sample",
          "sample",
          "sample",
          "sample",
          "sample",
          "sample",
          "sample",
          "sample",
          "sample",
          "sample",
          "sample",
          "sample",
          "sample",
          "sample",
          "sample",
          "sample",
          "sample",
          "sample",
          "sample",
          "sample",
          "sample",
          "sample",
          "sample",
          "sample",
          "sample",
          "sample",
          "sample",
          "sample",
          "sample",
          "sample",
          "sample",
          "sample",
          "sample",
          "sample",
          "sample",
          "sample",
          "sample",
          "sample",
          "sample",
          "sample",
          "sample",
          "sample",
          "sample",
          "sample",
          "sample",
          "sample"
         ],
         "x0": " ",
         "xaxis": "x2",
         "y": {
          "bdata": "AAAAAD4rh0EAAAAAAOTqQAAAAABk5iFBAAAAAGhsDkEAAAAA4OMzQQAAAADkchBBAAAAAECV0EAAAAAAENMDQQAAAABoKxJBAAAAAACQzEAAAAAAqCgjQQAAAABJHzRBAAAAAEAi3UAAAABAwVlWQQAAAACQMxZBAAAAcLR1ekEAAAAAHo01QQAAAIDkWmJBAAAAAMB3/EAAAIBN+uvFQQAAAOLO5KNBAAAANsmIuUEAAAAAYHvqQAAAAMtkFrNBAAAAQMSFYkEAAAAIxBqEQQAAAHLj6q5BAAAAwIdLVkEAAAAARBdNQQAAAGAOMHpBAAAAAGjJS0EAAADQt653QQAAAADpQzNBAAAAwCGTUkEAAAAAVzqPQQAAAEAd5mlBAAAAfzQUykEAAAAg/c1lQQAAACAjFWlBAAAA/ibBuEEAAAAAiI8TQQAAAICUCkdBAAAAAOeCMkEAAAAAgCLrQAAAAAAAicpAAAAAAI+EQ0EAAAAAwLTZQAAAAAAY3GBBAAAAEGHDt0EAAAA807axQQAAACDaOXVBAAAAwJ84nUEAAADgm3tgQQAAAJSaULBBAAAAAK+FNUEAAAC6NKW5QQAAAAD6iCNBAAAAQNc2XUEAAAAAxahWQQAAwD2betBBAAAAULZrhkEAAABgfK1uQQAAAACSW1xBAAAAqjkDs0EAAAAAQOU4QQAAgF6oUsVBAAAAlsidt0EAAABAk61eQQAAAMB0I1FBAAAAlBu2rkEAAACuu/OlQQAAAGD/FX5BAAAAAMTBO0EAAABAKRvDQQAAAABtd1FBAAAAwNopcUEAAACMfl+WQQAAAOAyBG1BAAAAALLPV0EAAABAfGB0QQ==",
          "dtype": "f8"
         },
         "y0": " ",
         "yaxis": "y2"
        },
        {
         "alignmentgroup": "True",
         "boxpoints": "all",
         "customdata": [
          [
           "s1_gavage-DNA"
          ],
          [
           "s3_gavage-DNA"
          ],
          [
           "s5_gavage-DNA"
          ],
          [
           "s7_gavage-DNA"
          ],
          [
           "s9_gavage-DNA"
          ],
          [
           "NTC_H3_NTC"
          ],
          [
           "WATER_B3_WATER"
          ],
          [
           "WATER_C6_WATER"
          ],
          [
           "WATER_D2_WATER"
          ],
          [
           "WATER_F9_WATER"
          ],
          [
           "s100_SI-DNA"
          ],
          [
           "s101_SI-DNA"
          ],
          [
           "s102_SI-DNA"
          ],
          [
           "s103_SI-DNA"
          ],
          [
           "s104_SI-DNA"
          ],
          [
           "s105_SI-DNA"
          ],
          [
           "s106_SI-DNA"
          ],
          [
           "s107_SI-DNA"
          ],
          [
           "s108_SI-DNA"
          ],
          [
           "s109_Cecum-DNA"
          ],
          [
           "s110_Cecum-DNA"
          ],
          [
           "s111_Cecum-DNA"
          ],
          [
           "s112_Cecum-DNA"
          ],
          [
           "s113_Cecum-DNA"
          ],
          [
           "s114_Cecum-DNA"
          ],
          [
           "s115_Cecum-DNA"
          ],
          [
           "s116_Cecum-DNA"
          ],
          [
           "s117_Cecum-DNA"
          ],
          [
           "s118_Cecum-DNA"
          ],
          [
           "s119_Pr.-Colon-DNA"
          ],
          [
           "s120_Pr.-Colon-DNA"
          ],
          [
           "s121_Pr.-Colon-DNA"
          ],
          [
           "s122_Pr.-Colon-DNA"
          ],
          [
           "s123_Pr.-Colon-DNA"
          ],
          [
           "s124_Pr.-Colon-DNA"
          ],
          [
           "s125_Pr.-Colon-DNA"
          ],
          [
           "s126_Pr.-Colon-DNA"
          ],
          [
           "s127_Pr.-Colon-DNA"
          ],
          [
           "s128_Pr.-Colon-DNA"
          ],
          [
           "s19_stool-DNA"
          ],
          [
           "s20_stool-DNA"
          ],
          [
           "s21_stool-DNA"
          ],
          [
           "s22_stool-DNA"
          ],
          [
           "s23_stool-DNA"
          ],
          [
           "s24_stool-DNA"
          ],
          [
           "s25_stool-DNA"
          ],
          [
           "s26_stool-DNA"
          ],
          [
           "s27_stool-DNA"
          ],
          [
           "s28_stool-DNA"
          ],
          [
           "s29_stool-DNA"
          ],
          [
           "s30_stool-DNA"
          ],
          [
           "s31_stool-DNA"
          ],
          [
           "s32_stool-DNA"
          ],
          [
           "s33_stool-DNA"
          ],
          [
           "s34_stool-DNA"
          ],
          [
           "s35_stool-DNA"
          ],
          [
           "s36_stool-DNA"
          ],
          [
           "s37_stool-DNA"
          ],
          [
           "s38_stool-DNA"
          ],
          [
           "s39_stool-DNA"
          ],
          [
           "s40_stool-DNA"
          ],
          [
           "s41_stool-DNA"
          ],
          [
           "s42_stool-DNA"
          ],
          [
           "s43_stool-DNA"
          ],
          [
           "s44_stool-DNA"
          ],
          [
           "s45_stool-DNA"
          ],
          [
           "s46_stool-DNA"
          ],
          [
           "s47_stool-DNA"
          ],
          [
           "s48_stool-DNA"
          ],
          [
           "s49_stool-DNA"
          ],
          [
           "s50_stool-DNA"
          ],
          [
           "s51_stool-DNA"
          ],
          [
           "s52_stool-DNA"
          ],
          [
           "s53_stool-DNA"
          ],
          [
           "s54_stool-DNA"
          ],
          [
           "s55_stool-DNA"
          ],
          [
           "s56_stool-DNA"
          ],
          [
           "s57_stool-DNA"
          ],
          [
           "s58_stool-DNA"
          ],
          [
           "s99_SI-DNA"
          ]
         ],
         "hovertemplate": "strain=ST1<br>type=total_unique_umi<br>sample_type=%{x}<br>value=%{y}<br>sample=%{customdata[0]}<extra></extra>",
         "legendgroup": "ST1",
         "marker": {
          "color": "#1F77B4"
         },
         "name": "ST1",
         "notched": false,
         "offsetgroup": "ST1",
         "orientation": "v",
         "showlegend": false,
         "type": "box",
         "x": [
          "gavage",
          "gavage",
          "gavage",
          "gavage",
          "gavage",
          "negative_control",
          "negative_control",
          "negative_control",
          "negative_control",
          "negative_control",
          "sample",
          "sample",
          "sample",
          "sample",
          "sample",
          "sample",
          "sample",
          "sample",
          "sample",
          "sample",
          "sample",
          "sample",
          "sample",
          "sample",
          "sample",
          "sample",
          "sample",
          "sample",
          "sample",
          "sample",
          "sample",
          "sample",
          "sample",
          "sample",
          "sample",
          "sample",
          "sample",
          "sample",
          "sample",
          "sample",
          "sample",
          "sample",
          "sample",
          "sample",
          "sample",
          "sample",
          "sample",
          "sample",
          "sample",
          "sample",
          "sample",
          "sample",
          "sample",
          "sample",
          "sample",
          "sample",
          "sample",
          "sample",
          "sample",
          "sample",
          "sample",
          "sample",
          "sample",
          "sample",
          "sample",
          "sample",
          "sample",
          "sample",
          "sample",
          "sample",
          "sample",
          "sample",
          "sample",
          "sample",
          "sample",
          "sample",
          "sample",
          "sample",
          "sample",
          "sample"
         ],
         "x0": " ",
         "xaxis": "x",
         "y": {
          "bdata": "AAAAACwxEkEAAAAAAMqoQAAAAAAAnsBAAAAAAIC80UAAAAAAACHEQAAAAADASOFAAAAAAACuqkAAAAAAgNvZQAAAAAAA2tRAAAAAAAAgiEAAAAAAAOPMQAAAAABARdFAAAAAAACQn0AAAAAAAOi0QAAAAAAAzq5AAAAAAIAvyUAAAAAAgJLAQAAAAACAWdBAAAAAAIA7wEAAAAAA7HMgQQAAAACQkvBAAAAAAPQQE0EAAAAAAOzLQAAAAADQt/9AAAAAAADA5kAAAAAAQInkQAAAAABAOPJAAAAAAMDq4EAAAAAAgELdQAAAAADglP5AAAAAAKDB5UAAAAAARMMQQQAAAABAp91AAAAAAMAe3kAAAAAAQBLeQAAAAACA0txAAAAAAADj7UAAAAAAAJLdQAAAAABAc91AAAAAACzREUEAAAAAQLbSQAAAAADgR/ZAAAAAAKAd40AAAAAAANCbQAAAAAAAGJJAAAAAAECt00AAAAAAAAiFQAAAAACoewJBAAAAALAZAkEAAAAApB0dQQAAAACAiN1AAAAAAMw6EkEAAAAAgMXYQAAAAADgawBBAAAAAMBS4EAAAAAAEIP1QAAAAAAAFqdAAAAAAGDc6UAAAAAAYNnqQAAAAAAM5htBAAAAAMAj8EAAAAAAnBUSQQAAAADgdeVAAAAAANDm/kAAAAAAIDngQAAAAADgofVAAAAAAID+70AAAAAAgALiQAAAAABAMeRAAAAAAAprIEEAAAAAYKX2QAAAAADsehFBAAAAAMCr1kAAAAAAWJIBQQAAAACgROBAAAAAALCf9EAAAAAAQCvuQAAAAADA6+RAAAAAAGBu5EAAAAAAwL/jQA==",
          "dtype": "f8"
         },
         "y0": " ",
         "yaxis": "y"
        },
        {
         "alignmentgroup": "True",
         "boxpoints": "all",
         "customdata": [
          [
           "s1_gavage-DNA"
          ],
          [
           "s3_gavage-DNA"
          ],
          [
           "s5_gavage-DNA"
          ],
          [
           "s7_gavage-DNA"
          ],
          [
           "s9_gavage-DNA"
          ],
          [
           "NTC_H3_NTC"
          ],
          [
           "WATER_B3_WATER"
          ],
          [
           "WATER_C6_WATER"
          ],
          [
           "WATER_D2_WATER"
          ],
          [
           "s100_SI-DNA"
          ],
          [
           "s101_SI-DNA"
          ],
          [
           "s102_SI-DNA"
          ],
          [
           "s103_SI-DNA"
          ],
          [
           "s104_SI-DNA"
          ],
          [
           "s105_SI-DNA"
          ],
          [
           "s106_SI-DNA"
          ],
          [
           "s107_SI-DNA"
          ],
          [
           "s108_SI-DNA"
          ],
          [
           "s109_Cecum-DNA"
          ],
          [
           "s110_Cecum-DNA"
          ],
          [
           "s111_Cecum-DNA"
          ],
          [
           "s112_Cecum-DNA"
          ],
          [
           "s113_Cecum-DNA"
          ],
          [
           "s114_Cecum-DNA"
          ],
          [
           "s115_Cecum-DNA"
          ],
          [
           "s116_Cecum-DNA"
          ],
          [
           "s117_Cecum-DNA"
          ],
          [
           "s118_Cecum-DNA"
          ],
          [
           "s119_Pr.-Colon-DNA"
          ],
          [
           "s120_Pr.-Colon-DNA"
          ],
          [
           "s121_Pr.-Colon-DNA"
          ],
          [
           "s122_Pr.-Colon-DNA"
          ],
          [
           "s123_Pr.-Colon-DNA"
          ],
          [
           "s124_Pr.-Colon-DNA"
          ],
          [
           "s125_Pr.-Colon-DNA"
          ],
          [
           "s126_Pr.-Colon-DNA"
          ],
          [
           "s127_Pr.-Colon-DNA"
          ],
          [
           "s128_Pr.-Colon-DNA"
          ],
          [
           "s19_stool-DNA"
          ],
          [
           "s20_stool-DNA"
          ],
          [
           "s21_stool-DNA"
          ],
          [
           "s22_stool-DNA"
          ],
          [
           "s23_stool-DNA"
          ],
          [
           "s24_stool-DNA"
          ],
          [
           "s25_stool-DNA"
          ],
          [
           "s26_stool-DNA"
          ],
          [
           "s27_stool-DNA"
          ],
          [
           "s28_stool-DNA"
          ],
          [
           "s29_stool-DNA"
          ],
          [
           "s30_stool-DNA"
          ],
          [
           "s31_stool-DNA"
          ],
          [
           "s32_stool-DNA"
          ],
          [
           "s33_stool-DNA"
          ],
          [
           "s34_stool-DNA"
          ],
          [
           "s35_stool-DNA"
          ],
          [
           "s37_stool-DNA"
          ],
          [
           "s38_stool-DNA"
          ],
          [
           "s39_stool-DNA"
          ],
          [
           "s40_stool-DNA"
          ],
          [
           "s41_stool-DNA"
          ],
          [
           "s42_stool-DNA"
          ],
          [
           "s43_stool-DNA"
          ],
          [
           "s44_stool-DNA"
          ],
          [
           "s45_stool-DNA"
          ],
          [
           "s46_stool-DNA"
          ],
          [
           "s47_stool-DNA"
          ],
          [
           "s48_stool-DNA"
          ],
          [
           "s49_stool-DNA"
          ],
          [
           "s50_stool-DNA"
          ],
          [
           "s51_stool-DNA"
          ],
          [
           "s52_stool-DNA"
          ],
          [
           "s53_stool-DNA"
          ],
          [
           "s54_stool-DNA"
          ],
          [
           "s55_stool-DNA"
          ],
          [
           "s56_stool-DNA"
          ],
          [
           "s57_stool-DNA"
          ],
          [
           "s58_stool-DNA"
          ],
          [
           "s99_SI-DNA"
          ]
         ],
         "hovertemplate": "strain=ST2<br>type=total_count<br>sample_type=%{x}<br>value=%{y}<br>sample=%{customdata[0]}<extra></extra>",
         "legendgroup": "ST2",
         "marker": {
          "color": "#FF7F0E"
         },
         "name": "ST2",
         "notched": false,
         "offsetgroup": "ST2",
         "orientation": "v",
         "showlegend": true,
         "type": "box",
         "x": [
          "gavage",
          "gavage",
          "gavage",
          "gavage",
          "gavage",
          "negative_control",
          "negative_control",
          "negative_control",
          "negative_control",
          "sample",
          "sample",
          "sample",
          "sample",
          "sample",
          "sample",
          "sample",
          "sample",
          "sample",
          "sample",
          "sample",
          "sample",
          "sample",
          "sample",
          "sample",
          "sample",
          "sample",
          "sample",
          "sample",
          "sample",
          "sample",
          "sample",
          "sample",
          "sample",
          "sample",
          "sample",
          "sample",
          "sample",
          "sample",
          "sample",
          "sample",
          "sample",
          "sample",
          "sample",
          "sample",
          "sample",
          "sample",
          "sample",
          "sample",
          "sample",
          "sample",
          "sample",
          "sample",
          "sample",
          "sample",
          "sample",
          "sample",
          "sample",
          "sample",
          "sample",
          "sample",
          "sample",
          "sample",
          "sample",
          "sample",
          "sample",
          "sample",
          "sample",
          "sample",
          "sample",
          "sample",
          "sample",
          "sample",
          "sample",
          "sample",
          "sample",
          "sample",
          "sample",
          "sample"
         ],
         "x0": " ",
         "xaxis": "x2",
         "y": {
          "bdata": "AAAAQCBpg0EAAAAAAMHNQAAAAACg/+1AAAAAAMBm0EAAAAAAsKMfQQAAAAAAgEBAAAAAAAA4h0AAAAAAAABVQAAAAAAAADZAAAAAAAAALEAAAAAAAIBjQAAAAAAAAABAAAAAAADgiEAAAAAAAGiMQAAAAAAAAG1AAAAAAAAAV0AAAAAAAPi6QAAAAAAAAENAAAAAAEA52EAAAAAAALDKQAAAAAAA+7VAAAAAAAAA8D8AAAAAAIiDQAAAAAAASJpAAAAAAAAAMkAAAAAAAHCMQAAAAAAANJtAAAAAAAAApEAAAAAAgMTOQAAAAAAAQFFAAAAAAACog0AAAAAAAFCAQAAAAAAAwIBAAAAAAABwhkAAAAAAAAAqQAAAAAAAnKhAAAAAAACqq0AAAAAAADKwQAAAAAAoOBFBAAAAAID+1UAAAAAAAECwQAAAAADAveRAAAAAAAAge0AAAAAAAAAIQAAAAAAAitxAAAAAAAAAiUAAAAAAAOu4QAAAAAAwHhVBAAAAAABQtEAAAAAAALSWQAAAAAAA9rVAAAAAAABAo0AAAAAAAACHQAAAAAAAADRAAAAAAADzu0AAAAAAACCgQAAAAAAAhKpAAAAAACAO4EAAAAAAAOCoQAAAAAAA7JJAAAAAAADJzUAAAAAAAMq4QAAAAAAAgFxAAAAAAADovEAAAAAAAHGzQAAAAAAAs8hAAAAAAABOwUAAAAAAgIPKQAAAAAAAe7BAAAAAAACMkkAAAAAAAABwQAAAAAAAaJFAAAAAAABAU0AAAAAAAIBJQAAAAAAAwGpAAAAAAAA6pUAAAAAAANSvQAAAAAAAKJJA",
          "dtype": "f8"
         },
         "y0": " ",
         "yaxis": "y2"
        },
        {
         "alignmentgroup": "True",
         "boxpoints": "all",
         "customdata": [
          [
           "s1_gavage-DNA"
          ],
          [
           "s3_gavage-DNA"
          ],
          [
           "s5_gavage-DNA"
          ],
          [
           "s7_gavage-DNA"
          ],
          [
           "s9_gavage-DNA"
          ],
          [
           "NTC_H3_NTC"
          ],
          [
           "WATER_B3_WATER"
          ],
          [
           "WATER_C6_WATER"
          ],
          [
           "WATER_D2_WATER"
          ],
          [
           "s100_SI-DNA"
          ],
          [
           "s101_SI-DNA"
          ],
          [
           "s102_SI-DNA"
          ],
          [
           "s103_SI-DNA"
          ],
          [
           "s104_SI-DNA"
          ],
          [
           "s105_SI-DNA"
          ],
          [
           "s106_SI-DNA"
          ],
          [
           "s107_SI-DNA"
          ],
          [
           "s108_SI-DNA"
          ],
          [
           "s109_Cecum-DNA"
          ],
          [
           "s110_Cecum-DNA"
          ],
          [
           "s111_Cecum-DNA"
          ],
          [
           "s112_Cecum-DNA"
          ],
          [
           "s113_Cecum-DNA"
          ],
          [
           "s114_Cecum-DNA"
          ],
          [
           "s115_Cecum-DNA"
          ],
          [
           "s116_Cecum-DNA"
          ],
          [
           "s117_Cecum-DNA"
          ],
          [
           "s118_Cecum-DNA"
          ],
          [
           "s119_Pr.-Colon-DNA"
          ],
          [
           "s120_Pr.-Colon-DNA"
          ],
          [
           "s121_Pr.-Colon-DNA"
          ],
          [
           "s122_Pr.-Colon-DNA"
          ],
          [
           "s123_Pr.-Colon-DNA"
          ],
          [
           "s124_Pr.-Colon-DNA"
          ],
          [
           "s125_Pr.-Colon-DNA"
          ],
          [
           "s126_Pr.-Colon-DNA"
          ],
          [
           "s127_Pr.-Colon-DNA"
          ],
          [
           "s128_Pr.-Colon-DNA"
          ],
          [
           "s19_stool-DNA"
          ],
          [
           "s20_stool-DNA"
          ],
          [
           "s21_stool-DNA"
          ],
          [
           "s22_stool-DNA"
          ],
          [
           "s23_stool-DNA"
          ],
          [
           "s24_stool-DNA"
          ],
          [
           "s25_stool-DNA"
          ],
          [
           "s26_stool-DNA"
          ],
          [
           "s27_stool-DNA"
          ],
          [
           "s28_stool-DNA"
          ],
          [
           "s29_stool-DNA"
          ],
          [
           "s30_stool-DNA"
          ],
          [
           "s31_stool-DNA"
          ],
          [
           "s32_stool-DNA"
          ],
          [
           "s33_stool-DNA"
          ],
          [
           "s34_stool-DNA"
          ],
          [
           "s35_stool-DNA"
          ],
          [
           "s37_stool-DNA"
          ],
          [
           "s38_stool-DNA"
          ],
          [
           "s39_stool-DNA"
          ],
          [
           "s40_stool-DNA"
          ],
          [
           "s41_stool-DNA"
          ],
          [
           "s42_stool-DNA"
          ],
          [
           "s43_stool-DNA"
          ],
          [
           "s44_stool-DNA"
          ],
          [
           "s45_stool-DNA"
          ],
          [
           "s46_stool-DNA"
          ],
          [
           "s47_stool-DNA"
          ],
          [
           "s48_stool-DNA"
          ],
          [
           "s49_stool-DNA"
          ],
          [
           "s50_stool-DNA"
          ],
          [
           "s51_stool-DNA"
          ],
          [
           "s52_stool-DNA"
          ],
          [
           "s53_stool-DNA"
          ],
          [
           "s54_stool-DNA"
          ],
          [
           "s55_stool-DNA"
          ],
          [
           "s56_stool-DNA"
          ],
          [
           "s57_stool-DNA"
          ],
          [
           "s58_stool-DNA"
          ],
          [
           "s99_SI-DNA"
          ]
         ],
         "hovertemplate": "strain=ST2<br>type=total_unique_umi<br>sample_type=%{x}<br>value=%{y}<br>sample=%{customdata[0]}<extra></extra>",
         "legendgroup": "ST2",
         "marker": {
          "color": "#FF7F0E"
         },
         "name": "ST2",
         "notched": false,
         "offsetgroup": "ST2",
         "orientation": "v",
         "showlegend": false,
         "type": "box",
         "x": [
          "gavage",
          "gavage",
          "gavage",
          "gavage",
          "gavage",
          "negative_control",
          "negative_control",
          "negative_control",
          "negative_control",
          "sample",
          "sample",
          "sample",
          "sample",
          "sample",
          "sample",
          "sample",
          "sample",
          "sample",
          "sample",
          "sample",
          "sample",
          "sample",
          "sample",
          "sample",
          "sample",
          "sample",
          "sample",
          "sample",
          "sample",
          "sample",
          "sample",
          "sample",
          "sample",
          "sample",
          "sample",
          "sample",
          "sample",
          "sample",
          "sample",
          "sample",
          "sample",
          "sample",
          "sample",
          "sample",
          "sample",
          "sample",
          "sample",
          "sample",
          "sample",
          "sample",
          "sample",
          "sample",
          "sample",
          "sample",
          "sample",
          "sample",
          "sample",
          "sample",
          "sample",
          "sample",
          "sample",
          "sample",
          "sample",
          "sample",
          "sample",
          "sample",
          "sample",
          "sample",
          "sample",
          "sample",
          "sample",
          "sample",
          "sample",
          "sample",
          "sample",
          "sample",
          "sample",
          "sample"
         ],
         "x0": " ",
         "xaxis": "x",
         "y": {
          "bdata": "AAAAAKAtCkEAAAAAAJCJQAAAAAAAxKxAAAAAAADFu0AAAAAAAIuwQAAAAAAAADFAAAAAAAAAHEAAAAAAAMBTQAAAAAAAACRAAAAAAAAAJEAAAAAAAAAuQAAAAAAAAABAAAAAAAAALEAAAAAAAAAgQAAAAAAAADJAAAAAAAAAMUAAAAAAAIBAQAAAAAAAADVAAAAAAAAASkAAAAAAAAA1QAAAAAAAAERAAAAAAAAA8D8AAAAAAAA0QAAAAAAAgENAAAAAAAAAGEAAAAAAAABFQAAAAAAAADdAAAAAAAAATUAAAAAAAIBHQAAAAAAAADFAAAAAAACAQ0AAAAAAAIBDQAAAAAAAACJAAAAAAAAAMkAAAAAAAAAgQAAAAAAAgElAAAAAAAAAQkAAAAAAAAA2QAAAAAAAQLRAAAAAAACMpkAAAAAAAOKvQAAAAAAAO7RAAAAAAAAAHEAAAAAAAAAAQAAAAAAAMKRAAAAAAAAAKkAAAAAAAHG1QAAAAAAA4bFAAAAAAACASEAAAAAAAAA2QAAAAAAAgElAAAAAAAAAOUAAAAAAAABAQAAAAAAAADJAAAAAAACAS0AAAAAAAAA8QAAAAAAAwFFAAAAAAADAYUAAAAAAAABXQAAAAAAAQFxAAAAAAADAXkAAAAAAAABXQAAAAAAAAFNAAAAAAAAAYkAAAAAAAGBiQAAAAAAAAFtAAAAAAABAZUAAAAAAAIBFQAAAAAAAAEBAAAAAAACASkAAAAAAAAAuQAAAAAAAADtAAAAAAAAAMkAAAAAAAABEQAAAAAAAADxAAAAAAAAAMUAAAAAAAIBPQAAAAAAAAC5A",
          "dtype": "f8"
         },
         "y0": " ",
         "yaxis": "y"
        },
        {
         "alignmentgroup": "True",
         "boxpoints": "all",
         "customdata": [
          [
           "s2_gavage-DNA"
          ],
          [
           "s4_gavage-DNA"
          ],
          [
           "s6_gavage-DNA"
          ],
          [
           "s8_gavage-DNA"
          ],
          [
           "NTC_H3_NTC"
          ],
          [
           "WATER_B3_WATER"
          ],
          [
           "WATER_C6_WATER"
          ],
          [
           "WATER_D2_WATER"
          ],
          [
           "WATER_F9_WATER"
          ],
          [
           "s100_SI-DNA"
          ],
          [
           "s101_SI-DNA"
          ],
          [
           "s102_SI-DNA"
          ],
          [
           "s103_SI-DNA"
          ],
          [
           "s104_SI-DNA"
          ],
          [
           "s105_SI-DNA"
          ],
          [
           "s106_SI-DNA"
          ],
          [
           "s109_Cecum-DNA"
          ],
          [
           "s110_Cecum-DNA"
          ],
          [
           "s111_Cecum-DNA"
          ],
          [
           "s112_Cecum-DNA"
          ],
          [
           "s113_Cecum-DNA"
          ],
          [
           "s114_Cecum-DNA"
          ],
          [
           "s115_Cecum-DNA"
          ],
          [
           "s116_Cecum-DNA"
          ],
          [
           "s119_Pr.-Colon-DNA"
          ],
          [
           "s120_Pr.-Colon-DNA"
          ],
          [
           "s121_Pr.-Colon-DNA"
          ],
          [
           "s122_Pr.-Colon-DNA"
          ],
          [
           "s123_Pr.-Colon-DNA"
          ],
          [
           "s124_Pr.-Colon-DNA"
          ],
          [
           "s125_Pr.-Colon-DNA"
          ],
          [
           "s126_Pr.-Colon-DNA"
          ],
          [
           "s19_stool-DNA"
          ],
          [
           "s20_stool-DNA"
          ],
          [
           "s21_stool-DNA"
          ],
          [
           "s22_stool-DNA"
          ],
          [
           "s23_stool-DNA"
          ],
          [
           "s24_stool-DNA"
          ],
          [
           "s25_stool-DNA"
          ],
          [
           "s26_stool-DNA"
          ],
          [
           "s29_stool-DNA"
          ],
          [
           "s30_stool-DNA"
          ],
          [
           "s31_stool-DNA"
          ],
          [
           "s32_stool-DNA"
          ],
          [
           "s33_stool-DNA"
          ],
          [
           "s34_stool-DNA"
          ],
          [
           "s35_stool-DNA"
          ],
          [
           "s36_stool-DNA"
          ],
          [
           "s39_stool-DNA"
          ],
          [
           "s40_stool-DNA"
          ],
          [
           "s41_stool-DNA"
          ],
          [
           "s42_stool-DNA"
          ],
          [
           "s43_stool-DNA"
          ],
          [
           "s44_stool-DNA"
          ],
          [
           "s45_stool-DNA"
          ],
          [
           "s46_stool-DNA"
          ],
          [
           "s49_stool-DNA"
          ],
          [
           "s50_stool-DNA"
          ],
          [
           "s51_stool-DNA"
          ],
          [
           "s52_stool-DNA"
          ],
          [
           "s53_stool-DNA"
          ],
          [
           "s54_stool-DNA"
          ],
          [
           "s55_stool-DNA"
          ],
          [
           "s56_stool-DNA"
          ],
          [
           "s99_SI-DNA"
          ]
         ],
         "hovertemplate": "strain=ST5<br>type=total_count<br>sample_type=%{x}<br>value=%{y}<br>sample=%{customdata[0]}<extra></extra>",
         "legendgroup": "ST5",
         "marker": {
          "color": "#2CA02C"
         },
         "name": "ST5",
         "notched": false,
         "offsetgroup": "ST5",
         "orientation": "v",
         "showlegend": true,
         "type": "box",
         "x": [
          "gavage",
          "gavage",
          "gavage",
          "gavage",
          "negative_control",
          "negative_control",
          "negative_control",
          "negative_control",
          "negative_control",
          "sample",
          "sample",
          "sample",
          "sample",
          "sample",
          "sample",
          "sample",
          "sample",
          "sample",
          "sample",
          "sample",
          "sample",
          "sample",
          "sample",
          "sample",
          "sample",
          "sample",
          "sample",
          "sample",
          "sample",
          "sample",
          "sample",
          "sample",
          "sample",
          "sample",
          "sample",
          "sample",
          "sample",
          "sample",
          "sample",
          "sample",
          "sample",
          "sample",
          "sample",
          "sample",
          "sample",
          "sample",
          "sample",
          "sample",
          "sample",
          "sample",
          "sample",
          "sample",
          "sample",
          "sample",
          "sample",
          "sample",
          "sample",
          "sample",
          "sample",
          "sample",
          "sample",
          "sample",
          "sample",
          "sample",
          "sample"
         ],
         "x0": " ",
         "xaxis": "x2",
         "y": {
          "bdata": "AAAAYCg9ZEEAAAAAGL4MQQAAAACg2epAAAAAADNDOkEAAAAAQAfnQAAAAACgdOJAAAAAANykF0EAAAAAZhosQQAAAACAxttAAAAAAKPPUUEAAACAB6NDQQAAAAAguQRBAAAAAPy9bUEAAAAAajsxQQAAAGDL8nhBAAAAAFHIMUEAAADQDVd1QQAAQFYeX9hBAAAAgAl7ZUEAAAAAPgZVQQAAAAAF2VlBAAAA+MuQi0EAAAAAlBQRQQAAAABa1TdBAAAAgF0DT0EAAAD4/keCQQAAAADa6ylBAAAAspBjoUEAAAAAcPD9QAAAAFxOxLxBAAAAAGj/AEEAAACASUpUQQAAAID0z0RBAAAAqNwFj0EAAAAAkHECQQAAAGB1emJBAAAAAMCS5UAAAAAAIMfjQAAAAEAbN25BAAAAAAA62EAAAAAA2C9BQQAAgEufecZBAAAAgBS2RkEAAMA10RXSQQAAAMBNqGRBAAAAwDp8Y0EAAAAA9OBBQQAAAABAl9xAAAAAeAxGg0EAAAByeoKxQQAAAADYEhhBAAAATT9sy0EAAABALc5mQQAAAMDpf2VBAAAAgHsXRUEAAAAAjGRLQQAAAABG0mFBAADA/Yy62EEAAAAA65EzQQAAAEmivbBBAAAAYJNvbEEAAAAAP0eCQQAAAAAwSvlAAAAAAEq5JEEAAACQEiN1QQ==",
          "dtype": "f8"
         },
         "y0": " ",
         "yaxis": "y2"
        },
        {
         "alignmentgroup": "True",
         "boxpoints": "all",
         "customdata": [
          [
           "s2_gavage-DNA"
          ],
          [
           "s4_gavage-DNA"
          ],
          [
           "s6_gavage-DNA"
          ],
          [
           "s8_gavage-DNA"
          ],
          [
           "NTC_H3_NTC"
          ],
          [
           "WATER_B3_WATER"
          ],
          [
           "WATER_C6_WATER"
          ],
          [
           "WATER_D2_WATER"
          ],
          [
           "WATER_F9_WATER"
          ],
          [
           "s100_SI-DNA"
          ],
          [
           "s101_SI-DNA"
          ],
          [
           "s102_SI-DNA"
          ],
          [
           "s103_SI-DNA"
          ],
          [
           "s104_SI-DNA"
          ],
          [
           "s105_SI-DNA"
          ],
          [
           "s106_SI-DNA"
          ],
          [
           "s109_Cecum-DNA"
          ],
          [
           "s110_Cecum-DNA"
          ],
          [
           "s111_Cecum-DNA"
          ],
          [
           "s112_Cecum-DNA"
          ],
          [
           "s113_Cecum-DNA"
          ],
          [
           "s114_Cecum-DNA"
          ],
          [
           "s115_Cecum-DNA"
          ],
          [
           "s116_Cecum-DNA"
          ],
          [
           "s119_Pr.-Colon-DNA"
          ],
          [
           "s120_Pr.-Colon-DNA"
          ],
          [
           "s121_Pr.-Colon-DNA"
          ],
          [
           "s122_Pr.-Colon-DNA"
          ],
          [
           "s123_Pr.-Colon-DNA"
          ],
          [
           "s124_Pr.-Colon-DNA"
          ],
          [
           "s125_Pr.-Colon-DNA"
          ],
          [
           "s126_Pr.-Colon-DNA"
          ],
          [
           "s19_stool-DNA"
          ],
          [
           "s20_stool-DNA"
          ],
          [
           "s21_stool-DNA"
          ],
          [
           "s22_stool-DNA"
          ],
          [
           "s23_stool-DNA"
          ],
          [
           "s24_stool-DNA"
          ],
          [
           "s25_stool-DNA"
          ],
          [
           "s26_stool-DNA"
          ],
          [
           "s29_stool-DNA"
          ],
          [
           "s30_stool-DNA"
          ],
          [
           "s31_stool-DNA"
          ],
          [
           "s32_stool-DNA"
          ],
          [
           "s33_stool-DNA"
          ],
          [
           "s34_stool-DNA"
          ],
          [
           "s35_stool-DNA"
          ],
          [
           "s36_stool-DNA"
          ],
          [
           "s39_stool-DNA"
          ],
          [
           "s40_stool-DNA"
          ],
          [
           "s41_stool-DNA"
          ],
          [
           "s42_stool-DNA"
          ],
          [
           "s43_stool-DNA"
          ],
          [
           "s44_stool-DNA"
          ],
          [
           "s45_stool-DNA"
          ],
          [
           "s46_stool-DNA"
          ],
          [
           "s49_stool-DNA"
          ],
          [
           "s50_stool-DNA"
          ],
          [
           "s51_stool-DNA"
          ],
          [
           "s52_stool-DNA"
          ],
          [
           "s53_stool-DNA"
          ],
          [
           "s54_stool-DNA"
          ],
          [
           "s55_stool-DNA"
          ],
          [
           "s56_stool-DNA"
          ],
          [
           "s99_SI-DNA"
          ]
         ],
         "hovertemplate": "strain=ST5<br>type=total_unique_umi<br>sample_type=%{x}<br>value=%{y}<br>sample=%{customdata[0]}<extra></extra>",
         "legendgroup": "ST5",
         "marker": {
          "color": "#2CA02C"
         },
         "name": "ST5",
         "notched": false,
         "offsetgroup": "ST5",
         "orientation": "v",
         "showlegend": false,
         "type": "box",
         "x": [
          "gavage",
          "gavage",
          "gavage",
          "gavage",
          "negative_control",
          "negative_control",
          "negative_control",
          "negative_control",
          "negative_control",
          "sample",
          "sample",
          "sample",
          "sample",
          "sample",
          "sample",
          "sample",
          "sample",
          "sample",
          "sample",
          "sample",
          "sample",
          "sample",
          "sample",
          "sample",
          "sample",
          "sample",
          "sample",
          "sample",
          "sample",
          "sample",
          "sample",
          "sample",
          "sample",
          "sample",
          "sample",
          "sample",
          "sample",
          "sample",
          "sample",
          "sample",
          "sample",
          "sample",
          "sample",
          "sample",
          "sample",
          "sample",
          "sample",
          "sample",
          "sample",
          "sample",
          "sample",
          "sample",
          "sample",
          "sample",
          "sample",
          "sample",
          "sample",
          "sample",
          "sample",
          "sample",
          "sample",
          "sample",
          "sample",
          "sample",
          "sample"
         ],
         "x0": " ",
         "xaxis": "x",
         "y": {
          "bdata": "AAAAAFgeBkEAAAAAgATBQAAAAAAAqI9AAAAAAABKrEAAAAAAAFijQAAAAAAAEJNAAAAAAIBJ0UAAAAAA4D7nQAAAAAAAsHJAAAAAAFAZ9UAAAAAAANDGQAAAAAAAxrRAAAAAAABpykAAAAAAAPqoQAAAAAAAk8hAAAAAAABKvUAAAAAAQIvZQAAAAAD0DxJBAAAAAECm2kAAAAAAAJXqQAAAAABAQ9RAAAAAAOD+5UAAAAAAAIfEQAAAAACAcc5AAAAAAACP00AAAAAAKJ0OQQAAAAAAjdxAAAAAAMCxBkEAAAAAgIzCQAAAAADA3OBAAAAAAIDgx0AAAAAAwGDRQAAAAACAAsBAAAAAAECEAUEAAAAAgAvKQAAAAAAAtddAAAAAAAA4mUAAAAAAAEB4QAAAAAAAOsVAAAAAAAAwd0AAAAAAAEnWQAAAAACYRhBBAAAAAEAT4UAAAAAAIIUHQQAAAAAAG9VAAAAAACBM4UAAAAAAwGTWQAAAAAAApJRAAAAAAEB82UAAAAAAiAYMQQAAAABAydxAAAAAAKiMCUEAAAAAAD7WQAAAAABAId1AAAAAAIDn0EAAAAAAgHHQQAAAAAAA0N1AAAAAADhGEUEAAAAAoHXgQAAAAAAQ8gdBAAAAAMCP0UAAAAAAAKLhQAAAAADAUtJAAAAAAMCM0UAAAAAAACW8QA==",
          "dtype": "f8"
         },
         "y0": " ",
         "yaxis": "y"
        },
        {
         "alignmentgroup": "True",
         "boxpoints": "all",
         "customdata": [
          [
           "s2_gavage-DNA"
          ],
          [
           "s4_gavage-DNA"
          ],
          [
           "s6_gavage-DNA"
          ],
          [
           "s8_gavage-DNA"
          ],
          [
           "NTC_H3_NTC"
          ],
          [
           "WATER_B3_WATER"
          ],
          [
           "WATER_C6_WATER"
          ],
          [
           "WATER_D2_WATER"
          ],
          [
           "WATER_F9_WATER"
          ],
          [
           "s100_SI-DNA"
          ],
          [
           "s101_SI-DNA"
          ],
          [
           "s102_SI-DNA"
          ],
          [
           "s103_SI-DNA"
          ],
          [
           "s104_SI-DNA"
          ],
          [
           "s105_SI-DNA"
          ],
          [
           "s106_SI-DNA"
          ],
          [
           "s109_Cecum-DNA"
          ],
          [
           "s110_Cecum-DNA"
          ],
          [
           "s111_Cecum-DNA"
          ],
          [
           "s112_Cecum-DNA"
          ],
          [
           "s113_Cecum-DNA"
          ],
          [
           "s114_Cecum-DNA"
          ],
          [
           "s115_Cecum-DNA"
          ],
          [
           "s116_Cecum-DNA"
          ],
          [
           "s119_Pr.-Colon-DNA"
          ],
          [
           "s120_Pr.-Colon-DNA"
          ],
          [
           "s121_Pr.-Colon-DNA"
          ],
          [
           "s122_Pr.-Colon-DNA"
          ],
          [
           "s123_Pr.-Colon-DNA"
          ],
          [
           "s124_Pr.-Colon-DNA"
          ],
          [
           "s125_Pr.-Colon-DNA"
          ],
          [
           "s126_Pr.-Colon-DNA"
          ],
          [
           "s19_stool-DNA"
          ],
          [
           "s20_stool-DNA"
          ],
          [
           "s21_stool-DNA"
          ],
          [
           "s22_stool-DNA"
          ],
          [
           "s23_stool-DNA"
          ],
          [
           "s24_stool-DNA"
          ],
          [
           "s25_stool-DNA"
          ],
          [
           "s26_stool-DNA"
          ],
          [
           "s29_stool-DNA"
          ],
          [
           "s30_stool-DNA"
          ],
          [
           "s31_stool-DNA"
          ],
          [
           "s32_stool-DNA"
          ],
          [
           "s33_stool-DNA"
          ],
          [
           "s34_stool-DNA"
          ],
          [
           "s35_stool-DNA"
          ],
          [
           "s36_stool-DNA"
          ],
          [
           "s39_stool-DNA"
          ],
          [
           "s40_stool-DNA"
          ],
          [
           "s41_stool-DNA"
          ],
          [
           "s42_stool-DNA"
          ],
          [
           "s43_stool-DNA"
          ],
          [
           "s44_stool-DNA"
          ],
          [
           "s45_stool-DNA"
          ],
          [
           "s46_stool-DNA"
          ],
          [
           "s49_stool-DNA"
          ],
          [
           "s50_stool-DNA"
          ],
          [
           "s51_stool-DNA"
          ],
          [
           "s52_stool-DNA"
          ],
          [
           "s53_stool-DNA"
          ],
          [
           "s54_stool-DNA"
          ],
          [
           "s55_stool-DNA"
          ],
          [
           "s56_stool-DNA"
          ],
          [
           "s99_SI-DNA"
          ]
         ],
         "hovertemplate": "strain=ST6<br>type=total_count<br>sample_type=%{x}<br>value=%{y}<br>sample=%{customdata[0]}<extra></extra>",
         "legendgroup": "ST6",
         "marker": {
          "color": "#D62728"
         },
         "name": "ST6",
         "notched": false,
         "offsetgroup": "ST6",
         "orientation": "v",
         "showlegend": true,
         "type": "box",
         "x": [
          "gavage",
          "gavage",
          "gavage",
          "gavage",
          "negative_control",
          "negative_control",
          "negative_control",
          "negative_control",
          "negative_control",
          "sample",
          "sample",
          "sample",
          "sample",
          "sample",
          "sample",
          "sample",
          "sample",
          "sample",
          "sample",
          "sample",
          "sample",
          "sample",
          "sample",
          "sample",
          "sample",
          "sample",
          "sample",
          "sample",
          "sample",
          "sample",
          "sample",
          "sample",
          "sample",
          "sample",
          "sample",
          "sample",
          "sample",
          "sample",
          "sample",
          "sample",
          "sample",
          "sample",
          "sample",
          "sample",
          "sample",
          "sample",
          "sample",
          "sample",
          "sample",
          "sample",
          "sample",
          "sample",
          "sample",
          "sample",
          "sample",
          "sample",
          "sample",
          "sample",
          "sample",
          "sample",
          "sample",
          "sample",
          "sample",
          "sample",
          "sample"
         ],
         "x0": " ",
         "xaxis": "x2",
         "y": {
          "bdata": "AAAA8JEne0EAAAAAYFsKQQAAAACAxdJAAAAAAMzHEUEAAAAAgG7IQAAAAAAAB75AAAAAABCD8UAAAAAASFQIQQAAAAAAZKpAAAAAAOB65EAAAAAAjhMiQQAAAACA7MpAAAAAgFunQkEAAAAAgBvAQAAAAADA5vxAAAAAACDDEEEAAAAAkKMGQQAAAAAAYg9BAAAAAOCE+UAAAAAAAMazQAAAAAAwHfpAAAAAAMBo0EAAAAAAgC/SQAAAAACUyhBBAAAAAIz1IUEAAAAAAOPJQAAAAAAAb8lAAAAAAGBz+kAAAAAAAPW1QAAAAAA25yVBAAAAAACXwkAAAAAAXDwiQQAAAADwdRFBAAAAAFihB0EAAAAAwILVQAAAAABgfhxBAAAAAIB6wEAAAAAAgFjAQAAAAADcjxdBAAAAAABctUAAAAAAAMcfQQAAAADmuitBAAAAALB6BEEAAAAAhjMvQQAAAAD8CxRBAAAAAAAjy0AAAAAAaAwiQQAAAAAAu7BAAAAAAHB3G0EAAAAAsCsRQQAAAACAlstAAAAAAEjJG0EAAAAAKLYBQQAAAAAA4MZAAAAAANC5CkEAAAAAxpUiQQAAAADY0AFBAAAAAITcEkEAAAAAwGnkQAAAAADg7fRAAAAAABgHE0EAAAAAgLvAQAAAAACAtMhAAAAAAIBH60AAAACAWGJGQQ==",
          "dtype": "f8"
         },
         "y0": " ",
         "yaxis": "y2"
        },
        {
         "alignmentgroup": "True",
         "boxpoints": "all",
         "customdata": [
          [
           "s2_gavage-DNA"
          ],
          [
           "s4_gavage-DNA"
          ],
          [
           "s6_gavage-DNA"
          ],
          [
           "s8_gavage-DNA"
          ],
          [
           "NTC_H3_NTC"
          ],
          [
           "WATER_B3_WATER"
          ],
          [
           "WATER_C6_WATER"
          ],
          [
           "WATER_D2_WATER"
          ],
          [
           "WATER_F9_WATER"
          ],
          [
           "s100_SI-DNA"
          ],
          [
           "s101_SI-DNA"
          ],
          [
           "s102_SI-DNA"
          ],
          [
           "s103_SI-DNA"
          ],
          [
           "s104_SI-DNA"
          ],
          [
           "s105_SI-DNA"
          ],
          [
           "s106_SI-DNA"
          ],
          [
           "s109_Cecum-DNA"
          ],
          [
           "s110_Cecum-DNA"
          ],
          [
           "s111_Cecum-DNA"
          ],
          [
           "s112_Cecum-DNA"
          ],
          [
           "s113_Cecum-DNA"
          ],
          [
           "s114_Cecum-DNA"
          ],
          [
           "s115_Cecum-DNA"
          ],
          [
           "s116_Cecum-DNA"
          ],
          [
           "s119_Pr.-Colon-DNA"
          ],
          [
           "s120_Pr.-Colon-DNA"
          ],
          [
           "s121_Pr.-Colon-DNA"
          ],
          [
           "s122_Pr.-Colon-DNA"
          ],
          [
           "s123_Pr.-Colon-DNA"
          ],
          [
           "s124_Pr.-Colon-DNA"
          ],
          [
           "s125_Pr.-Colon-DNA"
          ],
          [
           "s126_Pr.-Colon-DNA"
          ],
          [
           "s19_stool-DNA"
          ],
          [
           "s20_stool-DNA"
          ],
          [
           "s21_stool-DNA"
          ],
          [
           "s22_stool-DNA"
          ],
          [
           "s23_stool-DNA"
          ],
          [
           "s24_stool-DNA"
          ],
          [
           "s25_stool-DNA"
          ],
          [
           "s26_stool-DNA"
          ],
          [
           "s29_stool-DNA"
          ],
          [
           "s30_stool-DNA"
          ],
          [
           "s31_stool-DNA"
          ],
          [
           "s32_stool-DNA"
          ],
          [
           "s33_stool-DNA"
          ],
          [
           "s34_stool-DNA"
          ],
          [
           "s35_stool-DNA"
          ],
          [
           "s36_stool-DNA"
          ],
          [
           "s39_stool-DNA"
          ],
          [
           "s40_stool-DNA"
          ],
          [
           "s41_stool-DNA"
          ],
          [
           "s42_stool-DNA"
          ],
          [
           "s43_stool-DNA"
          ],
          [
           "s44_stool-DNA"
          ],
          [
           "s45_stool-DNA"
          ],
          [
           "s46_stool-DNA"
          ],
          [
           "s49_stool-DNA"
          ],
          [
           "s50_stool-DNA"
          ],
          [
           "s51_stool-DNA"
          ],
          [
           "s52_stool-DNA"
          ],
          [
           "s53_stool-DNA"
          ],
          [
           "s54_stool-DNA"
          ],
          [
           "s55_stool-DNA"
          ],
          [
           "s56_stool-DNA"
          ],
          [
           "s99_SI-DNA"
          ]
         ],
         "hovertemplate": "strain=ST6<br>type=total_unique_umi<br>sample_type=%{x}<br>value=%{y}<br>sample=%{customdata[0]}<extra></extra>",
         "legendgroup": "ST6",
         "marker": {
          "color": "#D62728"
         },
         "name": "ST6",
         "notched": false,
         "offsetgroup": "ST6",
         "orientation": "v",
         "showlegend": false,
         "type": "box",
         "x": [
          "gavage",
          "gavage",
          "gavage",
          "gavage",
          "negative_control",
          "negative_control",
          "negative_control",
          "negative_control",
          "negative_control",
          "sample",
          "sample",
          "sample",
          "sample",
          "sample",
          "sample",
          "sample",
          "sample",
          "sample",
          "sample",
          "sample",
          "sample",
          "sample",
          "sample",
          "sample",
          "sample",
          "sample",
          "sample",
          "sample",
          "sample",
          "sample",
          "sample",
          "sample",
          "sample",
          "sample",
          "sample",
          "sample",
          "sample",
          "sample",
          "sample",
          "sample",
          "sample",
          "sample",
          "sample",
          "sample",
          "sample",
          "sample",
          "sample",
          "sample",
          "sample",
          "sample",
          "sample",
          "sample",
          "sample",
          "sample",
          "sample",
          "sample",
          "sample",
          "sample",
          "sample",
          "sample",
          "sample",
          "sample",
          "sample",
          "sample",
          "sample"
         ],
         "x0": " ",
         "xaxis": "x",
         "y": {
          "bdata": "AAAAAKDnE0EAAAAAAIbBQAAAAAAAEHtAAAAAAAA2pkAAAAAAAICBQAAAAAAAAFJAAAAAAAAohkAAAAAAABiUQAAAAAAAADJAAAAAAAC4g0AAAAAAALCFQAAAAAAAgGlAAAAAAADAgkAAAAAAAMBXQAAAAAAAwHNAAAAAAADYjkAAAAAAAOBrQAAAAAAAoGhAAAAAAABAakAAAAAAAABdQAAAAAAAYGdAAAAAAABgbEAAAAAAAABsQAAAAAAA4HhAAAAAAACIg0AAAAAAAKBqQAAAAAAAcHFAAAAAAADgc0AAAAAAAEBZQAAAAAAAAHRAAAAAAACAakAAAAAAAGB3QAAAAAAA4HFAAAAAAACAfUAAAAAAACB/QAAAAAAAkIJAAAAAAAAAUEAAAAAAAIBMQAAAAAAA4HxAAAAAAAAARkAAAAAAgP3FQAAAAAAAx7pAAAAAAIC+xUAAAAAAAJW8QAAAAAAAKL5AAAAAAAAVt0AAAAAAADXIQAAAAAAAgElAAAAAAABgb0AAAAAAAGBzQAAAAAAAMHVAAAAAAADgc0AAAAAAAKBrQAAAAAAA4G9AAAAAAADgckAAAAAAAFB9QAAAAAAAEItAAAAAAABghUAAAAAAANiOQAAAAAAACIZAAAAAAADQhkAAAAAAAGCBQAAAAAAAqI9AAAAAAADQi0AAAAAAAEiBQA==",
          "dtype": "f8"
         },
         "y0": " ",
         "yaxis": "y"
        },
        {
         "alignmentgroup": "True",
         "boxpoints": "all",
         "customdata": [
          [
           "s9_gavage-DNA"
          ],
          [
           "NTC_H3_NTC"
          ],
          [
           "WATER_B3_WATER"
          ],
          [
           "WATER_C6_WATER"
          ],
          [
           "WATER_D2_WATER"
          ],
          [
           "WATER_F9_WATER"
          ],
          [
           "s107_SI-DNA"
          ],
          [
           "s108_SI-DNA"
          ],
          [
           "s117_Cecum-DNA"
          ],
          [
           "s118_Cecum-DNA"
          ],
          [
           "s127_Pr.-Colon-DNA"
          ],
          [
           "s128_Pr.-Colon-DNA"
          ],
          [
           "s27_stool-DNA"
          ],
          [
           "s28_stool-DNA"
          ],
          [
           "s37_stool-DNA"
          ],
          [
           "s38_stool-DNA"
          ],
          [
           "s47_stool-DNA"
          ],
          [
           "s48_stool-DNA"
          ],
          [
           "s57_stool-DNA"
          ],
          [
           "s58_stool-DNA"
          ]
         ],
         "hovertemplate": "strain=ST4<br>type=total_count<br>sample_type=%{x}<br>value=%{y}<br>sample=%{customdata[0]}<extra></extra>",
         "legendgroup": "ST4",
         "marker": {
          "color": "#9467BD"
         },
         "name": "ST4",
         "notched": false,
         "offsetgroup": "ST4",
         "orientation": "v",
         "showlegend": true,
         "type": "box",
         "x": [
          "gavage",
          "negative_control",
          "negative_control",
          "negative_control",
          "negative_control",
          "negative_control",
          "sample",
          "sample",
          "sample",
          "sample",
          "sample",
          "sample",
          "sample",
          "sample",
          "sample",
          "sample",
          "sample",
          "sample",
          "sample",
          "sample"
         ],
         "x0": " ",
         "xaxis": "x2",
         "y": {
          "bdata": "AAAA8Hn8q0EAAAAAQOzdQAAAAACAGt9AAAAAALh3GUEAAAAA3HwuQQAAAABAqdtAAAAAbVYAtUEAAAAwQv5wQQAAgA70t9FBAAAAYIAnwUEAAMBWlt3UQQAA4I8jC+FBAAAAAFsTPkEAAADK3rOjQQAAgB6LI81BAACAL7/uxkEAAEDeKBrVQQAAAKGG2sdBAABAaOpX40EAAIA1r8PQQQ==",
          "dtype": "f8"
         },
         "y0": " ",
         "yaxis": "y2"
        },
        {
         "alignmentgroup": "True",
         "boxpoints": "all",
         "customdata": [
          [
           "s9_gavage-DNA"
          ],
          [
           "NTC_H3_NTC"
          ],
          [
           "WATER_B3_WATER"
          ],
          [
           "WATER_C6_WATER"
          ],
          [
           "WATER_D2_WATER"
          ],
          [
           "WATER_F9_WATER"
          ],
          [
           "s107_SI-DNA"
          ],
          [
           "s108_SI-DNA"
          ],
          [
           "s117_Cecum-DNA"
          ],
          [
           "s118_Cecum-DNA"
          ],
          [
           "s127_Pr.-Colon-DNA"
          ],
          [
           "s128_Pr.-Colon-DNA"
          ],
          [
           "s27_stool-DNA"
          ],
          [
           "s28_stool-DNA"
          ],
          [
           "s37_stool-DNA"
          ],
          [
           "s38_stool-DNA"
          ],
          [
           "s47_stool-DNA"
          ],
          [
           "s48_stool-DNA"
          ],
          [
           "s57_stool-DNA"
          ],
          [
           "s58_stool-DNA"
          ]
         ],
         "hovertemplate": "strain=ST4<br>type=total_unique_umi<br>sample_type=%{x}<br>value=%{y}<br>sample=%{customdata[0]}<extra></extra>",
         "legendgroup": "ST4",
         "marker": {
          "color": "#9467BD"
         },
         "name": "ST4",
         "notched": false,
         "offsetgroup": "ST4",
         "orientation": "v",
         "showlegend": false,
         "type": "box",
         "x": [
          "gavage",
          "negative_control",
          "negative_control",
          "negative_control",
          "negative_control",
          "negative_control",
          "sample",
          "sample",
          "sample",
          "sample",
          "sample",
          "sample",
          "sample",
          "sample",
          "sample",
          "sample",
          "sample",
          "sample",
          "sample",
          "sample"
         ],
         "x0": " ",
         "xaxis": "x",
         "y": {
          "bdata": "AAAAALDsAkEAAAAAABqjQAAAAAAAlJFAAAAAAIDlyEAAAAAAgCPHQAAAAAAAzKVAAAAAAAhtBEEAAAAAyL4GQQAAAADYOwtBAAAAAOAECEEAAAAAaN4JQQAAAABQrghBAAAAAMCU20AAAAAAoLjmQAAAAAAoqgtBAAAAADATDkEAAAAAMIgKQQAAAAD4zA9BAAAAAHAWDEEAAAAAYBAPQQ==",
          "dtype": "f8"
         },
         "y0": " ",
         "yaxis": "y"
        }
       ],
       "layout": {
        "annotations": [
         {
          "font": {},
          "showarrow": false,
          "text": "type=total_unique_umi",
          "textangle": 90,
          "x": 0.98,
          "xanchor": "left",
          "xref": "paper",
          "y": 0.2425,
          "yanchor": "middle",
          "yref": "paper"
         },
         {
          "font": {},
          "showarrow": false,
          "text": "type=total_count",
          "textangle": 90,
          "x": 0.98,
          "xanchor": "left",
          "xref": "paper",
          "y": 0.7575000000000001,
          "yanchor": "middle",
          "yref": "paper"
         }
        ],
        "boxmode": "group",
        "legend": {
         "title": {
          "text": "strain"
         },
         "tracegroupgap": 0
        },
        "margin": {
         "t": 60
        },
        "template": {
         "data": {
          "bar": [
           {
            "error_x": {
             "color": "rgb(36,36,36)"
            },
            "error_y": {
             "color": "rgb(36,36,36)"
            },
            "marker": {
             "line": {
              "color": "white",
              "width": 0.5
             },
             "pattern": {
              "fillmode": "overlay",
              "size": 10,
              "solidity": 0.2
             }
            },
            "type": "bar"
           }
          ],
          "barpolar": [
           {
            "marker": {
             "line": {
              "color": "white",
              "width": 0.5
             },
             "pattern": {
              "fillmode": "overlay",
              "size": 10,
              "solidity": 0.2
             }
            },
            "type": "barpolar"
           }
          ],
          "carpet": [
           {
            "aaxis": {
             "endlinecolor": "rgb(36,36,36)",
             "gridcolor": "white",
             "linecolor": "white",
             "minorgridcolor": "white",
             "startlinecolor": "rgb(36,36,36)"
            },
            "baxis": {
             "endlinecolor": "rgb(36,36,36)",
             "gridcolor": "white",
             "linecolor": "white",
             "minorgridcolor": "white",
             "startlinecolor": "rgb(36,36,36)"
            },
            "type": "carpet"
           }
          ],
          "choropleth": [
           {
            "colorbar": {
             "outlinewidth": 1,
             "tickcolor": "rgb(36,36,36)",
             "ticks": "outside"
            },
            "type": "choropleth"
           }
          ],
          "contour": [
           {
            "colorbar": {
             "outlinewidth": 1,
             "tickcolor": "rgb(36,36,36)",
             "ticks": "outside"
            },
            "colorscale": [
             [
              0,
              "#440154"
             ],
             [
              0.1111111111111111,
              "#482878"
             ],
             [
              0.2222222222222222,
              "#3e4989"
             ],
             [
              0.3333333333333333,
              "#31688e"
             ],
             [
              0.4444444444444444,
              "#26828e"
             ],
             [
              0.5555555555555556,
              "#1f9e89"
             ],
             [
              0.6666666666666666,
              "#35b779"
             ],
             [
              0.7777777777777778,
              "#6ece58"
             ],
             [
              0.8888888888888888,
              "#b5de2b"
             ],
             [
              1,
              "#fde725"
             ]
            ],
            "type": "contour"
           }
          ],
          "contourcarpet": [
           {
            "colorbar": {
             "outlinewidth": 1,
             "tickcolor": "rgb(36,36,36)",
             "ticks": "outside"
            },
            "type": "contourcarpet"
           }
          ],
          "heatmap": [
           {
            "colorbar": {
             "outlinewidth": 1,
             "tickcolor": "rgb(36,36,36)",
             "ticks": "outside"
            },
            "colorscale": [
             [
              0,
              "#440154"
             ],
             [
              0.1111111111111111,
              "#482878"
             ],
             [
              0.2222222222222222,
              "#3e4989"
             ],
             [
              0.3333333333333333,
              "#31688e"
             ],
             [
              0.4444444444444444,
              "#26828e"
             ],
             [
              0.5555555555555556,
              "#1f9e89"
             ],
             [
              0.6666666666666666,
              "#35b779"
             ],
             [
              0.7777777777777778,
              "#6ece58"
             ],
             [
              0.8888888888888888,
              "#b5de2b"
             ],
             [
              1,
              "#fde725"
             ]
            ],
            "type": "heatmap"
           }
          ],
          "histogram": [
           {
            "marker": {
             "line": {
              "color": "white",
              "width": 0.6
             }
            },
            "type": "histogram"
           }
          ],
          "histogram2d": [
           {
            "colorbar": {
             "outlinewidth": 1,
             "tickcolor": "rgb(36,36,36)",
             "ticks": "outside"
            },
            "colorscale": [
             [
              0,
              "#440154"
             ],
             [
              0.1111111111111111,
              "#482878"
             ],
             [
              0.2222222222222222,
              "#3e4989"
             ],
             [
              0.3333333333333333,
              "#31688e"
             ],
             [
              0.4444444444444444,
              "#26828e"
             ],
             [
              0.5555555555555556,
              "#1f9e89"
             ],
             [
              0.6666666666666666,
              "#35b779"
             ],
             [
              0.7777777777777778,
              "#6ece58"
             ],
             [
              0.8888888888888888,
              "#b5de2b"
             ],
             [
              1,
              "#fde725"
             ]
            ],
            "type": "histogram2d"
           }
          ],
          "histogram2dcontour": [
           {
            "colorbar": {
             "outlinewidth": 1,
             "tickcolor": "rgb(36,36,36)",
             "ticks": "outside"
            },
            "colorscale": [
             [
              0,
              "#440154"
             ],
             [
              0.1111111111111111,
              "#482878"
             ],
             [
              0.2222222222222222,
              "#3e4989"
             ],
             [
              0.3333333333333333,
              "#31688e"
             ],
             [
              0.4444444444444444,
              "#26828e"
             ],
             [
              0.5555555555555556,
              "#1f9e89"
             ],
             [
              0.6666666666666666,
              "#35b779"
             ],
             [
              0.7777777777777778,
              "#6ece58"
             ],
             [
              0.8888888888888888,
              "#b5de2b"
             ],
             [
              1,
              "#fde725"
             ]
            ],
            "type": "histogram2dcontour"
           }
          ],
          "mesh3d": [
           {
            "colorbar": {
             "outlinewidth": 1,
             "tickcolor": "rgb(36,36,36)",
             "ticks": "outside"
            },
            "type": "mesh3d"
           }
          ],
          "parcoords": [
           {
            "line": {
             "colorbar": {
              "outlinewidth": 1,
              "tickcolor": "rgb(36,36,36)",
              "ticks": "outside"
             }
            },
            "type": "parcoords"
           }
          ],
          "pie": [
           {
            "automargin": true,
            "type": "pie"
           }
          ],
          "scatter": [
           {
            "fillpattern": {
             "fillmode": "overlay",
             "size": 10,
             "solidity": 0.2
            },
            "type": "scatter"
           }
          ],
          "scatter3d": [
           {
            "line": {
             "colorbar": {
              "outlinewidth": 1,
              "tickcolor": "rgb(36,36,36)",
              "ticks": "outside"
             }
            },
            "marker": {
             "colorbar": {
              "outlinewidth": 1,
              "tickcolor": "rgb(36,36,36)",
              "ticks": "outside"
             }
            },
            "type": "scatter3d"
           }
          ],
          "scattercarpet": [
           {
            "marker": {
             "colorbar": {
              "outlinewidth": 1,
              "tickcolor": "rgb(36,36,36)",
              "ticks": "outside"
             }
            },
            "type": "scattercarpet"
           }
          ],
          "scattergeo": [
           {
            "marker": {
             "colorbar": {
              "outlinewidth": 1,
              "tickcolor": "rgb(36,36,36)",
              "ticks": "outside"
             }
            },
            "type": "scattergeo"
           }
          ],
          "scattergl": [
           {
            "marker": {
             "colorbar": {
              "outlinewidth": 1,
              "tickcolor": "rgb(36,36,36)",
              "ticks": "outside"
             }
            },
            "type": "scattergl"
           }
          ],
          "scattermap": [
           {
            "marker": {
             "colorbar": {
              "outlinewidth": 1,
              "tickcolor": "rgb(36,36,36)",
              "ticks": "outside"
             }
            },
            "type": "scattermap"
           }
          ],
          "scattermapbox": [
           {
            "marker": {
             "colorbar": {
              "outlinewidth": 1,
              "tickcolor": "rgb(36,36,36)",
              "ticks": "outside"
             }
            },
            "type": "scattermapbox"
           }
          ],
          "scatterpolar": [
           {
            "marker": {
             "colorbar": {
              "outlinewidth": 1,
              "tickcolor": "rgb(36,36,36)",
              "ticks": "outside"
             }
            },
            "type": "scatterpolar"
           }
          ],
          "scatterpolargl": [
           {
            "marker": {
             "colorbar": {
              "outlinewidth": 1,
              "tickcolor": "rgb(36,36,36)",
              "ticks": "outside"
             }
            },
            "type": "scatterpolargl"
           }
          ],
          "scatterternary": [
           {
            "marker": {
             "colorbar": {
              "outlinewidth": 1,
              "tickcolor": "rgb(36,36,36)",
              "ticks": "outside"
             }
            },
            "type": "scatterternary"
           }
          ],
          "surface": [
           {
            "colorbar": {
             "outlinewidth": 1,
             "tickcolor": "rgb(36,36,36)",
             "ticks": "outside"
            },
            "colorscale": [
             [
              0,
              "#440154"
             ],
             [
              0.1111111111111111,
              "#482878"
             ],
             [
              0.2222222222222222,
              "#3e4989"
             ],
             [
              0.3333333333333333,
              "#31688e"
             ],
             [
              0.4444444444444444,
              "#26828e"
             ],
             [
              0.5555555555555556,
              "#1f9e89"
             ],
             [
              0.6666666666666666,
              "#35b779"
             ],
             [
              0.7777777777777778,
              "#6ece58"
             ],
             [
              0.8888888888888888,
              "#b5de2b"
             ],
             [
              1,
              "#fde725"
             ]
            ],
            "type": "surface"
           }
          ],
          "table": [
           {
            "cells": {
             "fill": {
              "color": "rgb(237,237,237)"
             },
             "line": {
              "color": "white"
             }
            },
            "header": {
             "fill": {
              "color": "rgb(217,217,217)"
             },
             "line": {
              "color": "white"
             }
            },
            "type": "table"
           }
          ]
         },
         "layout": {
          "annotationdefaults": {
           "arrowhead": 0,
           "arrowwidth": 1
          },
          "autotypenumbers": "strict",
          "coloraxis": {
           "colorbar": {
            "outlinewidth": 1,
            "tickcolor": "rgb(36,36,36)",
            "ticks": "outside"
           }
          },
          "colorscale": {
           "diverging": [
            [
             0,
             "rgb(103,0,31)"
            ],
            [
             0.1,
             "rgb(178,24,43)"
            ],
            [
             0.2,
             "rgb(214,96,77)"
            ],
            [
             0.3,
             "rgb(244,165,130)"
            ],
            [
             0.4,
             "rgb(253,219,199)"
            ],
            [
             0.5,
             "rgb(247,247,247)"
            ],
            [
             0.6,
             "rgb(209,229,240)"
            ],
            [
             0.7,
             "rgb(146,197,222)"
            ],
            [
             0.8,
             "rgb(67,147,195)"
            ],
            [
             0.9,
             "rgb(33,102,172)"
            ],
            [
             1,
             "rgb(5,48,97)"
            ]
           ],
           "sequential": [
            [
             0,
             "#440154"
            ],
            [
             0.1111111111111111,
             "#482878"
            ],
            [
             0.2222222222222222,
             "#3e4989"
            ],
            [
             0.3333333333333333,
             "#31688e"
            ],
            [
             0.4444444444444444,
             "#26828e"
            ],
            [
             0.5555555555555556,
             "#1f9e89"
            ],
            [
             0.6666666666666666,
             "#35b779"
            ],
            [
             0.7777777777777778,
             "#6ece58"
            ],
            [
             0.8888888888888888,
             "#b5de2b"
            ],
            [
             1,
             "#fde725"
            ]
           ],
           "sequentialminus": [
            [
             0,
             "#440154"
            ],
            [
             0.1111111111111111,
             "#482878"
            ],
            [
             0.2222222222222222,
             "#3e4989"
            ],
            [
             0.3333333333333333,
             "#31688e"
            ],
            [
             0.4444444444444444,
             "#26828e"
            ],
            [
             0.5555555555555556,
             "#1f9e89"
            ],
            [
             0.6666666666666666,
             "#35b779"
            ],
            [
             0.7777777777777778,
             "#6ece58"
            ],
            [
             0.8888888888888888,
             "#b5de2b"
            ],
            [
             1,
             "#fde725"
            ]
           ]
          },
          "colorway": [
           "#1F77B4",
           "#FF7F0E",
           "#2CA02C",
           "#D62728",
           "#9467BD",
           "#8C564B",
           "#E377C2",
           "#7F7F7F",
           "#BCBD22",
           "#17BECF"
          ],
          "font": {
           "color": "rgb(36,36,36)"
          },
          "geo": {
           "bgcolor": "white",
           "lakecolor": "white",
           "landcolor": "white",
           "showlakes": true,
           "showland": true,
           "subunitcolor": "white"
          },
          "hoverlabel": {
           "align": "left"
          },
          "hovermode": "closest",
          "mapbox": {
           "style": "light"
          },
          "paper_bgcolor": "white",
          "plot_bgcolor": "white",
          "polar": {
           "angularaxis": {
            "gridcolor": "rgb(232,232,232)",
            "linecolor": "rgb(36,36,36)",
            "showgrid": false,
            "showline": true,
            "ticks": "outside"
           },
           "bgcolor": "white",
           "radialaxis": {
            "gridcolor": "rgb(232,232,232)",
            "linecolor": "rgb(36,36,36)",
            "showgrid": false,
            "showline": true,
            "ticks": "outside"
           }
          },
          "scene": {
           "xaxis": {
            "backgroundcolor": "white",
            "gridcolor": "rgb(232,232,232)",
            "gridwidth": 2,
            "linecolor": "rgb(36,36,36)",
            "showbackground": true,
            "showgrid": false,
            "showline": true,
            "ticks": "outside",
            "zeroline": false,
            "zerolinecolor": "rgb(36,36,36)"
           },
           "yaxis": {
            "backgroundcolor": "white",
            "gridcolor": "rgb(232,232,232)",
            "gridwidth": 2,
            "linecolor": "rgb(36,36,36)",
            "showbackground": true,
            "showgrid": false,
            "showline": true,
            "ticks": "outside",
            "zeroline": false,
            "zerolinecolor": "rgb(36,36,36)"
           },
           "zaxis": {
            "backgroundcolor": "white",
            "gridcolor": "rgb(232,232,232)",
            "gridwidth": 2,
            "linecolor": "rgb(36,36,36)",
            "showbackground": true,
            "showgrid": false,
            "showline": true,
            "ticks": "outside",
            "zeroline": false,
            "zerolinecolor": "rgb(36,36,36)"
           }
          },
          "shapedefaults": {
           "fillcolor": "black",
           "line": {
            "width": 0
           },
           "opacity": 0.3
          },
          "ternary": {
           "aaxis": {
            "gridcolor": "rgb(232,232,232)",
            "linecolor": "rgb(36,36,36)",
            "showgrid": false,
            "showline": true,
            "ticks": "outside"
           },
           "baxis": {
            "gridcolor": "rgb(232,232,232)",
            "linecolor": "rgb(36,36,36)",
            "showgrid": false,
            "showline": true,
            "ticks": "outside"
           },
           "bgcolor": "white",
           "caxis": {
            "gridcolor": "rgb(232,232,232)",
            "linecolor": "rgb(36,36,36)",
            "showgrid": false,
            "showline": true,
            "ticks": "outside"
           }
          },
          "title": {
           "x": 0.05
          },
          "xaxis": {
           "automargin": true,
           "gridcolor": "rgb(232,232,232)",
           "linecolor": "rgb(36,36,36)",
           "showgrid": false,
           "showline": true,
           "ticks": "outside",
           "title": {
            "standoff": 15
           },
           "zeroline": false,
           "zerolinecolor": "rgb(36,36,36)"
          },
          "yaxis": {
           "automargin": true,
           "gridcolor": "rgb(232,232,232)",
           "linecolor": "rgb(36,36,36)",
           "showgrid": false,
           "showline": true,
           "ticks": "outside",
           "title": {
            "standoff": 15
           },
           "zeroline": false,
           "zerolinecolor": "rgb(36,36,36)"
          }
         }
        },
        "xaxis": {
         "anchor": "y",
         "domain": [
          0,
          0.98
         ],
         "title": {
          "text": "sample_type"
         }
        },
        "xaxis2": {
         "anchor": "y2",
         "domain": [
          0,
          0.98
         ],
         "matches": "x",
         "showticklabels": false
        },
        "yaxis": {
         "anchor": "x",
         "domain": [
          0,
          0.485
         ],
         "range": [
          3,
          10
         ],
         "title": {
          "text": "value"
         },
         "type": "log"
        },
        "yaxis2": {
         "anchor": "x2",
         "domain": [
          0.515,
          1
         ],
         "matches": "y",
         "range": [
          1,
          7
         ],
         "title": {
          "text": "value"
         },
         "type": "log"
        }
       }
      }
     },
     "metadata": {},
     "output_type": "display_data"
    }
   ],
   "source": [
    "df_strains_gpd = df_total_stack.groupby(['sample_type', 'sample', 'strain']).agg(**agg_dict)\n",
    "\n",
    "df_strains_gpd = df_strains_gpd.reset_index()\n",
    "df_strains_gpd = df_strains_gpd.set_index(['sample_type', 'sample','strain']).stack()\n",
    "df_strains_gpd = df_strains_gpd.reset_index()\n",
    "display(df_strains_gpd)\n",
    "df_strains_gpd = df_strains_gpd.rename(columns = {'level_3':'type', 0:'value'})\n",
    "df_strains_gpd\n",
    "\n",
    "fig = px.box(df_strains_gpd,\n",
    "             x = 'sample_type',\n",
    "             y = 'value',\n",
    "             color = 'strain',\n",
    "             facet_row='type',\n",
    "             hover_data = ['sample'],\n",
    "             template = 'simple_white',\n",
    "             points = 'all',\n",
    "             log_y = True,\n",
    "             )\n",
    "#for i, facet in fig.facets\n",
    "#fig.update_yaxes(matches = None, showticklabels = True)\n",
    "fig.update_yaxes(row = 1,col = 1 ,range = [3, 10])\n",
    "fig.update_yaxes(row = 2, col = 1,range = [1, 7])\n",
    "fig.show()\n"
   ]
  },
  {
   "cell_type": "code",
   "execution_count": 144,
   "id": "e4c93fbb",
   "metadata": {},
   "outputs": [
    {
     "data": {
      "text/html": [
       "<div>\n",
       "<style scoped>\n",
       "    .dataframe tbody tr th:only-of-type {\n",
       "        vertical-align: middle;\n",
       "    }\n",
       "\n",
       "    .dataframe tbody tr th {\n",
       "        vertical-align: top;\n",
       "    }\n",
       "\n",
       "    .dataframe thead th {\n",
       "        text-align: right;\n",
       "    }\n",
       "</style>\n",
       "<table border=\"1\" class=\"dataframe\">\n",
       "  <thead>\n",
       "    <tr style=\"text-align: right;\">\n",
       "      <th></th>\n",
       "      <th>sample_type</th>\n",
       "      <th>sample</th>\n",
       "      <th>type</th>\n",
       "      <th>value</th>\n",
       "    </tr>\n",
       "  </thead>\n",
       "  <tbody>\n",
       "    <tr>\n",
       "      <th>0</th>\n",
       "      <td>gavage</td>\n",
       "      <td>s1_gavage-DNA</td>\n",
       "      <td>total_count</td>\n",
       "      <td>8.929582e+07</td>\n",
       "    </tr>\n",
       "    <tr>\n",
       "      <th>1</th>\n",
       "      <td>gavage</td>\n",
       "      <td>s1_gavage-DNA</td>\n",
       "      <td>total_unique_umi</td>\n",
       "      <td>5.125110e+05</td>\n",
       "    </tr>\n",
       "    <tr>\n",
       "      <th>2</th>\n",
       "      <td>gavage</td>\n",
       "      <td>s2_gavage-DNA</td>\n",
       "      <td>total_count</td>\n",
       "      <td>3.908464e+07</td>\n",
       "    </tr>\n",
       "    <tr>\n",
       "      <th>3</th>\n",
       "      <td>gavage</td>\n",
       "      <td>s2_gavage-DNA</td>\n",
       "      <td>total_unique_umi</td>\n",
       "      <td>5.073150e+05</td>\n",
       "    </tr>\n",
       "    <tr>\n",
       "      <th>4</th>\n",
       "      <td>gavage</td>\n",
       "      <td>s3_gavage-DNA</td>\n",
       "      <td>total_count</td>\n",
       "      <td>7.030600e+04</td>\n",
       "    </tr>\n",
       "    <tr>\n",
       "      <th>...</th>\n",
       "      <td>...</td>\n",
       "      <td>...</td>\n",
       "      <td>...</td>\n",
       "      <td>...</td>\n",
       "    </tr>\n",
       "    <tr>\n",
       "      <th>163</th>\n",
       "      <td>sample</td>\n",
       "      <td>s57_stool-DNA</td>\n",
       "      <td>total_unique_umi</td>\n",
       "      <td>6.347600e+04</td>\n",
       "    </tr>\n",
       "    <tr>\n",
       "      <th>164</th>\n",
       "      <td>sample</td>\n",
       "      <td>s58_stool-DNA</td>\n",
       "      <td>total_count</td>\n",
       "      <td>1.112938e+09</td>\n",
       "    </tr>\n",
       "    <tr>\n",
       "      <th>165</th>\n",
       "      <td>sample</td>\n",
       "      <td>s58_stool-DNA</td>\n",
       "      <td>total_unique_umi</td>\n",
       "      <td>6.724400e+04</td>\n",
       "    </tr>\n",
       "    <tr>\n",
       "      <th>166</th>\n",
       "      <td>sample</td>\n",
       "      <td>s99_SI-DNA</td>\n",
       "      <td>total_count</td>\n",
       "      <td>2.352472e+07</td>\n",
       "    </tr>\n",
       "    <tr>\n",
       "      <th>167</th>\n",
       "      <td>sample</td>\n",
       "      <td>s99_SI-DNA</td>\n",
       "      <td>total_unique_umi</td>\n",
       "      <td>3.145800e+04</td>\n",
       "    </tr>\n",
       "  </tbody>\n",
       "</table>\n",
       "<p>168 rows × 4 columns</p>\n",
       "</div>"
      ],
      "text/plain": [
       "    sample_type         sample              type         value\n",
       "0        gavage  s1_gavage-DNA       total_count  8.929582e+07\n",
       "1        gavage  s1_gavage-DNA  total_unique_umi  5.125110e+05\n",
       "2        gavage  s2_gavage-DNA       total_count  3.908464e+07\n",
       "3        gavage  s2_gavage-DNA  total_unique_umi  5.073150e+05\n",
       "4        gavage  s3_gavage-DNA       total_count  7.030600e+04\n",
       "..          ...            ...               ...           ...\n",
       "163      sample  s57_stool-DNA  total_unique_umi  6.347600e+04\n",
       "164      sample  s58_stool-DNA       total_count  1.112938e+09\n",
       "165      sample  s58_stool-DNA  total_unique_umi  6.724400e+04\n",
       "166      sample     s99_SI-DNA       total_count  2.352472e+07\n",
       "167      sample     s99_SI-DNA  total_unique_umi  3.145800e+04\n",
       "\n",
       "[168 rows x 4 columns]"
      ]
     },
     "execution_count": 144,
     "metadata": {},
     "output_type": "execute_result"
    }
   ],
   "source": [
    "\n",
    "df_gavage_stack = df_gavageonly.stack().reset_index()\n",
    "df_gavage_stack.columns = ['umi_seq', 'sample', 'counts']\n",
    "df_gavage_stack = df_gavage_stack.loc[df_gavage_stack['counts']>0].copy()\n",
    "df_gavage_stack['sample_type'] = df_gavage_stack['sample'].apply(\n",
    "                                                        lambda x: 'gavage' if 'gavage' in x \n",
    "                                                        else ('negative_control' if ('WATER' in x or 'NTC' in x) \n",
    "                                                        else 'sample')\n",
    "                                                    )\n",
    "df_gavage_stack['strain'] = df_gavage_stack['umi_seq'].apply(lambda x: str(x).split('-')[0])\n",
    "df_gavage_stack\n",
    "\n",
    "df_gavage_gpd = df_gavage_stack.groupby(['sample_type', 'sample']).agg(**{'total_count': ('counts', 'sum'),\n",
    "                                                                        'total_unique_umi': ('umi_seq', 'nunique')})\n",
    "df_gavage_gpd = df_gavage_gpd.reset_index()\n",
    "df_gavage_gpd = df_gavage_gpd.set_index(['sample_type', 'sample']).stack()\n",
    "\n",
    "df_gavage_gpd = df_gavage_gpd.reset_index()\n",
    "df_gavage_gpd = df_gavage_gpd.rename(columns = {'level_2':'type', 0:'value'})\n",
    "df_gavage_gpd"
   ]
  },
  {
   "cell_type": "code",
   "execution_count": 145,
   "id": "d471a49f",
   "metadata": {},
   "outputs": [
    {
     "data": {
      "application/vnd.plotly.v1+json": {
       "config": {
        "plotlyServerURL": "https://plotly.com"
       },
       "data": [
        {
         "alignmentgroup": "True",
         "boxpoints": "all",
         "customdata": [
          [
           "s1_gavage-DNA"
          ],
          [
           "s2_gavage-DNA"
          ],
          [
           "s3_gavage-DNA"
          ],
          [
           "s4_gavage-DNA"
          ],
          [
           "s5_gavage-DNA"
          ],
          [
           "s6_gavage-DNA"
          ],
          [
           "s7_gavage-DNA"
          ],
          [
           "s8_gavage-DNA"
          ],
          [
           "s9_gavage-DNA"
          ],
          [
           "NTC_H3_NTC"
          ],
          [
           "WATER_B3_WATER"
          ],
          [
           "WATER_C6_WATER"
          ],
          [
           "WATER_D2_WATER"
          ],
          [
           "WATER_F9_WATER"
          ],
          [
           "s100_SI-DNA"
          ],
          [
           "s101_SI-DNA"
          ],
          [
           "s102_SI-DNA"
          ],
          [
           "s103_SI-DNA"
          ],
          [
           "s104_SI-DNA"
          ],
          [
           "s105_SI-DNA"
          ],
          [
           "s106_SI-DNA"
          ],
          [
           "s107_SI-DNA"
          ],
          [
           "s108_SI-DNA"
          ],
          [
           "s109_Cecum-DNA"
          ],
          [
           "s110_Cecum-DNA"
          ],
          [
           "s111_Cecum-DNA"
          ],
          [
           "s112_Cecum-DNA"
          ],
          [
           "s113_Cecum-DNA"
          ],
          [
           "s114_Cecum-DNA"
          ],
          [
           "s115_Cecum-DNA"
          ],
          [
           "s116_Cecum-DNA"
          ],
          [
           "s117_Cecum-DNA"
          ],
          [
           "s118_Cecum-DNA"
          ],
          [
           "s119_Pr.-Colon-DNA"
          ],
          [
           "s120_Pr.-Colon-DNA"
          ],
          [
           "s121_Pr.-Colon-DNA"
          ],
          [
           "s122_Pr.-Colon-DNA"
          ],
          [
           "s123_Pr.-Colon-DNA"
          ],
          [
           "s124_Pr.-Colon-DNA"
          ],
          [
           "s125_Pr.-Colon-DNA"
          ],
          [
           "s126_Pr.-Colon-DNA"
          ],
          [
           "s127_Pr.-Colon-DNA"
          ],
          [
           "s128_Pr.-Colon-DNA"
          ],
          [
           "s19_stool-DNA"
          ],
          [
           "s20_stool-DNA"
          ],
          [
           "s21_stool-DNA"
          ],
          [
           "s22_stool-DNA"
          ],
          [
           "s23_stool-DNA"
          ],
          [
           "s24_stool-DNA"
          ],
          [
           "s25_stool-DNA"
          ],
          [
           "s26_stool-DNA"
          ],
          [
           "s27_stool-DNA"
          ],
          [
           "s28_stool-DNA"
          ],
          [
           "s29_stool-DNA"
          ],
          [
           "s30_stool-DNA"
          ],
          [
           "s31_stool-DNA"
          ],
          [
           "s32_stool-DNA"
          ],
          [
           "s33_stool-DNA"
          ],
          [
           "s34_stool-DNA"
          ],
          [
           "s35_stool-DNA"
          ],
          [
           "s36_stool-DNA"
          ],
          [
           "s37_stool-DNA"
          ],
          [
           "s38_stool-DNA"
          ],
          [
           "s39_stool-DNA"
          ],
          [
           "s40_stool-DNA"
          ],
          [
           "s41_stool-DNA"
          ],
          [
           "s42_stool-DNA"
          ],
          [
           "s43_stool-DNA"
          ],
          [
           "s44_stool-DNA"
          ],
          [
           "s45_stool-DNA"
          ],
          [
           "s46_stool-DNA"
          ],
          [
           "s47_stool-DNA"
          ],
          [
           "s48_stool-DNA"
          ],
          [
           "s49_stool-DNA"
          ],
          [
           "s50_stool-DNA"
          ],
          [
           "s51_stool-DNA"
          ],
          [
           "s52_stool-DNA"
          ],
          [
           "s53_stool-DNA"
          ],
          [
           "s54_stool-DNA"
          ],
          [
           "s55_stool-DNA"
          ],
          [
           "s56_stool-DNA"
          ],
          [
           "s57_stool-DNA"
          ],
          [
           "s58_stool-DNA"
          ],
          [
           "s99_SI-DNA"
          ]
         ],
         "hovertemplate": "type=total_count<br>sample_type=%{x}<br>value=%{y}<br>sample=%{customdata[0]}<extra></extra>",
         "legendgroup": "total_count",
         "marker": {
          "color": "#1F77B4"
         },
         "name": "total_count",
         "notched": false,
         "offsetgroup": "total_count",
         "orientation": "v",
         "showlegend": true,
         "type": "box",
         "x": [
          "gavage",
          "gavage",
          "gavage",
          "gavage",
          "gavage",
          "gavage",
          "gavage",
          "gavage",
          "gavage",
          "negative_control",
          "negative_control",
          "negative_control",
          "negative_control",
          "negative_control",
          "sample",
          "sample",
          "sample",
          "sample",
          "sample",
          "sample",
          "sample",
          "sample",
          "sample",
          "sample",
          "sample",
          "sample",
          "sample",
          "sample",
          "sample",
          "sample",
          "sample",
          "sample",
          "sample",
          "sample",
          "sample",
          "sample",
          "sample",
          "sample",
          "sample",
          "sample",
          "sample",
          "sample",
          "sample",
          "sample",
          "sample",
          "sample",
          "sample",
          "sample",
          "sample",
          "sample",
          "sample",
          "sample",
          "sample",
          "sample",
          "sample",
          "sample",
          "sample",
          "sample",
          "sample",
          "sample",
          "sample",
          "sample",
          "sample",
          "sample",
          "sample",
          "sample",
          "sample",
          "sample",
          "sample",
          "sample",
          "sample",
          "sample",
          "sample",
          "sample",
          "sample",
          "sample",
          "sample",
          "sample",
          "sample",
          "sample",
          "sample",
          "sample",
          "sample",
          "sample"
         ],
         "x0": " ",
         "xaxis": "x",
         "y": {
          "bdata": "AAAAIC9KlUEAAAAQE6OCQQAAAAAgKvFAAAAAALyMG0EAAAAAXsYjQQAAAAAwHvJAAAAAAKA8EEEAAAAAJrU+QQAAAIgTNKxBAAAAALj2D0EAAAAAUIf0QAAAAACGtiNBAAAAAOMtOEEAAAAAAIXnQAAAAMAp7lFBAAAAAAA+DUEAAAAAwEXfQAAAAMBq+VhBAAAAAOV3NEEAAADYVCOAQQAAAABoqjFBAAAAhHPdtEEAAABwLtZwQQAAgK0KV8NBAAAAWzCl2EEAAABAVuZpQQAAAABEhzJBAAAAKKSxo0EAAAA40VqOQQAAAOCS8oNBAAAAJCKcrkEAAIDtAojRQQAAABwy+8BBAAAAoCytd0EAAADog02CQQAAAABiXyxBAAAAQGfTfUEAAACADxpDQQAAAPMFHr5BAAAAAAy/aUEAAAAKcNXJQQAAgApVudRBAAAAWy7g4EEAAAAAuai1QQAAANDtlYxBAAAAAGB19UAAAAAAGa02QQAAAAAAotZAAAAAAADPw0AAAACAvX1TQQAAAAAA6NJAAAAAgP8sQ0EAAAACeuqmQQAAAIj+pa5BAACATitexUEAAAAA8hhMQQAAAKzY7q5BAAAA0mdboUEAAAAAx2hkQQAAAB8oULlBAAAAAEyVI0EAAAC6stDMQQAAAK3wr8ZBAACAd3FCzUEAAABup4SyQQAAAACEoh1BAAAAJNaOp0EAAAAQfRekQQAAAEC2m2ZBAAAAQRwOxUEAAADCIGy3QQAAgK6b4dRBAAAAN7yXx0EAAADk+DurQQAAAPwDItlBAAAAADi0MUEAAAAgBk2NQQAAAL4Z+rNBAAAAODARg0EAAABw+/NwQQAAAPRLLpZBAADg4roh40EAAAByhZXQQQAAAMBWb3ZB",
          "dtype": "f8"
         },
         "y0": " ",
         "yaxis": "y"
        },
        {
         "alignmentgroup": "True",
         "boxpoints": "all",
         "customdata": [
          [
           "s1_gavage-DNA"
          ],
          [
           "s2_gavage-DNA"
          ],
          [
           "s3_gavage-DNA"
          ],
          [
           "s4_gavage-DNA"
          ],
          [
           "s5_gavage-DNA"
          ],
          [
           "s6_gavage-DNA"
          ],
          [
           "s7_gavage-DNA"
          ],
          [
           "s8_gavage-DNA"
          ],
          [
           "s9_gavage-DNA"
          ],
          [
           "NTC_H3_NTC"
          ],
          [
           "WATER_B3_WATER"
          ],
          [
           "WATER_C6_WATER"
          ],
          [
           "WATER_D2_WATER"
          ],
          [
           "WATER_F9_WATER"
          ],
          [
           "s100_SI-DNA"
          ],
          [
           "s101_SI-DNA"
          ],
          [
           "s102_SI-DNA"
          ],
          [
           "s103_SI-DNA"
          ],
          [
           "s104_SI-DNA"
          ],
          [
           "s105_SI-DNA"
          ],
          [
           "s106_SI-DNA"
          ],
          [
           "s107_SI-DNA"
          ],
          [
           "s108_SI-DNA"
          ],
          [
           "s109_Cecum-DNA"
          ],
          [
           "s110_Cecum-DNA"
          ],
          [
           "s111_Cecum-DNA"
          ],
          [
           "s112_Cecum-DNA"
          ],
          [
           "s113_Cecum-DNA"
          ],
          [
           "s114_Cecum-DNA"
          ],
          [
           "s115_Cecum-DNA"
          ],
          [
           "s116_Cecum-DNA"
          ],
          [
           "s117_Cecum-DNA"
          ],
          [
           "s118_Cecum-DNA"
          ],
          [
           "s119_Pr.-Colon-DNA"
          ],
          [
           "s120_Pr.-Colon-DNA"
          ],
          [
           "s121_Pr.-Colon-DNA"
          ],
          [
           "s122_Pr.-Colon-DNA"
          ],
          [
           "s123_Pr.-Colon-DNA"
          ],
          [
           "s124_Pr.-Colon-DNA"
          ],
          [
           "s125_Pr.-Colon-DNA"
          ],
          [
           "s126_Pr.-Colon-DNA"
          ],
          [
           "s127_Pr.-Colon-DNA"
          ],
          [
           "s128_Pr.-Colon-DNA"
          ],
          [
           "s19_stool-DNA"
          ],
          [
           "s20_stool-DNA"
          ],
          [
           "s21_stool-DNA"
          ],
          [
           "s22_stool-DNA"
          ],
          [
           "s23_stool-DNA"
          ],
          [
           "s24_stool-DNA"
          ],
          [
           "s25_stool-DNA"
          ],
          [
           "s26_stool-DNA"
          ],
          [
           "s27_stool-DNA"
          ],
          [
           "s28_stool-DNA"
          ],
          [
           "s29_stool-DNA"
          ],
          [
           "s30_stool-DNA"
          ],
          [
           "s31_stool-DNA"
          ],
          [
           "s32_stool-DNA"
          ],
          [
           "s33_stool-DNA"
          ],
          [
           "s34_stool-DNA"
          ],
          [
           "s35_stool-DNA"
          ],
          [
           "s36_stool-DNA"
          ],
          [
           "s37_stool-DNA"
          ],
          [
           "s38_stool-DNA"
          ],
          [
           "s39_stool-DNA"
          ],
          [
           "s40_stool-DNA"
          ],
          [
           "s41_stool-DNA"
          ],
          [
           "s42_stool-DNA"
          ],
          [
           "s43_stool-DNA"
          ],
          [
           "s44_stool-DNA"
          ],
          [
           "s45_stool-DNA"
          ],
          [
           "s46_stool-DNA"
          ],
          [
           "s47_stool-DNA"
          ],
          [
           "s48_stool-DNA"
          ],
          [
           "s49_stool-DNA"
          ],
          [
           "s50_stool-DNA"
          ],
          [
           "s51_stool-DNA"
          ],
          [
           "s52_stool-DNA"
          ],
          [
           "s53_stool-DNA"
          ],
          [
           "s54_stool-DNA"
          ],
          [
           "s55_stool-DNA"
          ],
          [
           "s56_stool-DNA"
          ],
          [
           "s57_stool-DNA"
          ],
          [
           "s58_stool-DNA"
          ],
          [
           "s99_SI-DNA"
          ]
         ],
         "hovertemplate": "type=total_unique_umi<br>sample_type=%{x}<br>value=%{y}<br>sample=%{customdata[0]}<extra></extra>",
         "legendgroup": "total_unique_umi",
         "marker": {
          "color": "#FF7F0E"
         },
         "name": "total_unique_umi",
         "notched": false,
         "offsetgroup": "total_unique_umi",
         "orientation": "v",
         "showlegend": true,
         "type": "box",
         "x": [
          "gavage",
          "gavage",
          "gavage",
          "gavage",
          "gavage",
          "gavage",
          "gavage",
          "gavage",
          "gavage",
          "negative_control",
          "negative_control",
          "negative_control",
          "negative_control",
          "negative_control",
          "sample",
          "sample",
          "sample",
          "sample",
          "sample",
          "sample",
          "sample",
          "sample",
          "sample",
          "sample",
          "sample",
          "sample",
          "sample",
          "sample",
          "sample",
          "sample",
          "sample",
          "sample",
          "sample",
          "sample",
          "sample",
          "sample",
          "sample",
          "sample",
          "sample",
          "sample",
          "sample",
          "sample",
          "sample",
          "sample",
          "sample",
          "sample",
          "sample",
          "sample",
          "sample",
          "sample",
          "sample",
          "sample",
          "sample",
          "sample",
          "sample",
          "sample",
          "sample",
          "sample",
          "sample",
          "sample",
          "sample",
          "sample",
          "sample",
          "sample",
          "sample",
          "sample",
          "sample",
          "sample",
          "sample",
          "sample",
          "sample",
          "sample",
          "sample",
          "sample",
          "sample",
          "sample",
          "sample",
          "sample",
          "sample",
          "sample",
          "sample",
          "sample",
          "sample",
          "sample"
         ],
         "x0": " ",
         "xaxis": "x",
         "y": {
          "bdata": "AAAAAPxHH0EAAAAAzPYeQQAAAAAALq9AAAAAAEBF0UAAAAAAAM/HQAAAAAAAmJZAAAAAAMCt2EAAAAAAAEC5QAAAAAAYswRBAAAAAIAoykAAAAAAAK2zQAAAAAAAoOBAAAAAACBe7EAAAAAAAFirQAAAAABA49pAAAAAAABwmUAAAAAAAPiNQAAAAAAAdJFAAAAAAADIhUAAAAAAALSaQAAAAAAAKJZAAAAAAMBM6UAAAAAAQOXqQAAAAABYfQJBAAAAANCx+kAAAAAAAISsQAAAAAAAQqZAAAAAAADIlkAAAAAAANyXQAAAAAAA4qpAAAAAAACUtEAAAAAAACruQAAAAAAAROxAAAAAAFAR8kAAAAAA0LLyQAAAAAAAPKxAAAAAAACYq0AAAAAAAECNQAAAAAAApJJAAAAAAACSrEAAAAAAAOWzQAAAAAAADe5AAAAAAGDF7EAAAAAAMCz5QAAAAAAgG+tAAAAAAAD0oUAAAAAAAJ6kQAAAAAAASINAAAAAAACQf0AAAAAAANCqQAAAAAAAUHVAAAAAAID00EAAAAAAgAvZQAAAAABo7AJBAAAAAODZ9EAAAAAAAL20QAAAAAAAZbFAAAAAAACImUAAAAAAAHCVQAAAAAAAr7hAAAAAAAAYl0AAAAAAAGfvQAAAAAAgafBAAAAAACg9AEEAAAAAMC/0QAAAAAAA2K9AAAAAAAAIsEAAAAAAAHiXQAAAAAAAMJVAAAAAAACJtUAAAAAAAK21QAAAAACA8O1AAAAAAFBW8EAAAAAACLMBQQAAAABwc/tAAAAAAABaskAAAAAAAJmwQAAAAAAAnJhAAAAAAADolEAAAAAAAFC1QAAAAAAA27VAAAAAAID+7kAAAAAAwGrwQAAAAACAuN5A",
          "dtype": "f8"
         },
         "y0": " ",
         "yaxis": "y"
        }
       ],
       "layout": {
        "boxmode": "group",
        "legend": {
         "title": {
          "text": "type"
         },
         "tracegroupgap": 0
        },
        "margin": {
         "t": 60
        },
        "template": {
         "data": {
          "bar": [
           {
            "error_x": {
             "color": "rgb(36,36,36)"
            },
            "error_y": {
             "color": "rgb(36,36,36)"
            },
            "marker": {
             "line": {
              "color": "white",
              "width": 0.5
             },
             "pattern": {
              "fillmode": "overlay",
              "size": 10,
              "solidity": 0.2
             }
            },
            "type": "bar"
           }
          ],
          "barpolar": [
           {
            "marker": {
             "line": {
              "color": "white",
              "width": 0.5
             },
             "pattern": {
              "fillmode": "overlay",
              "size": 10,
              "solidity": 0.2
             }
            },
            "type": "barpolar"
           }
          ],
          "carpet": [
           {
            "aaxis": {
             "endlinecolor": "rgb(36,36,36)",
             "gridcolor": "white",
             "linecolor": "white",
             "minorgridcolor": "white",
             "startlinecolor": "rgb(36,36,36)"
            },
            "baxis": {
             "endlinecolor": "rgb(36,36,36)",
             "gridcolor": "white",
             "linecolor": "white",
             "minorgridcolor": "white",
             "startlinecolor": "rgb(36,36,36)"
            },
            "type": "carpet"
           }
          ],
          "choropleth": [
           {
            "colorbar": {
             "outlinewidth": 1,
             "tickcolor": "rgb(36,36,36)",
             "ticks": "outside"
            },
            "type": "choropleth"
           }
          ],
          "contour": [
           {
            "colorbar": {
             "outlinewidth": 1,
             "tickcolor": "rgb(36,36,36)",
             "ticks": "outside"
            },
            "colorscale": [
             [
              0,
              "#440154"
             ],
             [
              0.1111111111111111,
              "#482878"
             ],
             [
              0.2222222222222222,
              "#3e4989"
             ],
             [
              0.3333333333333333,
              "#31688e"
             ],
             [
              0.4444444444444444,
              "#26828e"
             ],
             [
              0.5555555555555556,
              "#1f9e89"
             ],
             [
              0.6666666666666666,
              "#35b779"
             ],
             [
              0.7777777777777778,
              "#6ece58"
             ],
             [
              0.8888888888888888,
              "#b5de2b"
             ],
             [
              1,
              "#fde725"
             ]
            ],
            "type": "contour"
           }
          ],
          "contourcarpet": [
           {
            "colorbar": {
             "outlinewidth": 1,
             "tickcolor": "rgb(36,36,36)",
             "ticks": "outside"
            },
            "type": "contourcarpet"
           }
          ],
          "heatmap": [
           {
            "colorbar": {
             "outlinewidth": 1,
             "tickcolor": "rgb(36,36,36)",
             "ticks": "outside"
            },
            "colorscale": [
             [
              0,
              "#440154"
             ],
             [
              0.1111111111111111,
              "#482878"
             ],
             [
              0.2222222222222222,
              "#3e4989"
             ],
             [
              0.3333333333333333,
              "#31688e"
             ],
             [
              0.4444444444444444,
              "#26828e"
             ],
             [
              0.5555555555555556,
              "#1f9e89"
             ],
             [
              0.6666666666666666,
              "#35b779"
             ],
             [
              0.7777777777777778,
              "#6ece58"
             ],
             [
              0.8888888888888888,
              "#b5de2b"
             ],
             [
              1,
              "#fde725"
             ]
            ],
            "type": "heatmap"
           }
          ],
          "histogram": [
           {
            "marker": {
             "line": {
              "color": "white",
              "width": 0.6
             }
            },
            "type": "histogram"
           }
          ],
          "histogram2d": [
           {
            "colorbar": {
             "outlinewidth": 1,
             "tickcolor": "rgb(36,36,36)",
             "ticks": "outside"
            },
            "colorscale": [
             [
              0,
              "#440154"
             ],
             [
              0.1111111111111111,
              "#482878"
             ],
             [
              0.2222222222222222,
              "#3e4989"
             ],
             [
              0.3333333333333333,
              "#31688e"
             ],
             [
              0.4444444444444444,
              "#26828e"
             ],
             [
              0.5555555555555556,
              "#1f9e89"
             ],
             [
              0.6666666666666666,
              "#35b779"
             ],
             [
              0.7777777777777778,
              "#6ece58"
             ],
             [
              0.8888888888888888,
              "#b5de2b"
             ],
             [
              1,
              "#fde725"
             ]
            ],
            "type": "histogram2d"
           }
          ],
          "histogram2dcontour": [
           {
            "colorbar": {
             "outlinewidth": 1,
             "tickcolor": "rgb(36,36,36)",
             "ticks": "outside"
            },
            "colorscale": [
             [
              0,
              "#440154"
             ],
             [
              0.1111111111111111,
              "#482878"
             ],
             [
              0.2222222222222222,
              "#3e4989"
             ],
             [
              0.3333333333333333,
              "#31688e"
             ],
             [
              0.4444444444444444,
              "#26828e"
             ],
             [
              0.5555555555555556,
              "#1f9e89"
             ],
             [
              0.6666666666666666,
              "#35b779"
             ],
             [
              0.7777777777777778,
              "#6ece58"
             ],
             [
              0.8888888888888888,
              "#b5de2b"
             ],
             [
              1,
              "#fde725"
             ]
            ],
            "type": "histogram2dcontour"
           }
          ],
          "mesh3d": [
           {
            "colorbar": {
             "outlinewidth": 1,
             "tickcolor": "rgb(36,36,36)",
             "ticks": "outside"
            },
            "type": "mesh3d"
           }
          ],
          "parcoords": [
           {
            "line": {
             "colorbar": {
              "outlinewidth": 1,
              "tickcolor": "rgb(36,36,36)",
              "ticks": "outside"
             }
            },
            "type": "parcoords"
           }
          ],
          "pie": [
           {
            "automargin": true,
            "type": "pie"
           }
          ],
          "scatter": [
           {
            "fillpattern": {
             "fillmode": "overlay",
             "size": 10,
             "solidity": 0.2
            },
            "type": "scatter"
           }
          ],
          "scatter3d": [
           {
            "line": {
             "colorbar": {
              "outlinewidth": 1,
              "tickcolor": "rgb(36,36,36)",
              "ticks": "outside"
             }
            },
            "marker": {
             "colorbar": {
              "outlinewidth": 1,
              "tickcolor": "rgb(36,36,36)",
              "ticks": "outside"
             }
            },
            "type": "scatter3d"
           }
          ],
          "scattercarpet": [
           {
            "marker": {
             "colorbar": {
              "outlinewidth": 1,
              "tickcolor": "rgb(36,36,36)",
              "ticks": "outside"
             }
            },
            "type": "scattercarpet"
           }
          ],
          "scattergeo": [
           {
            "marker": {
             "colorbar": {
              "outlinewidth": 1,
              "tickcolor": "rgb(36,36,36)",
              "ticks": "outside"
             }
            },
            "type": "scattergeo"
           }
          ],
          "scattergl": [
           {
            "marker": {
             "colorbar": {
              "outlinewidth": 1,
              "tickcolor": "rgb(36,36,36)",
              "ticks": "outside"
             }
            },
            "type": "scattergl"
           }
          ],
          "scattermap": [
           {
            "marker": {
             "colorbar": {
              "outlinewidth": 1,
              "tickcolor": "rgb(36,36,36)",
              "ticks": "outside"
             }
            },
            "type": "scattermap"
           }
          ],
          "scattermapbox": [
           {
            "marker": {
             "colorbar": {
              "outlinewidth": 1,
              "tickcolor": "rgb(36,36,36)",
              "ticks": "outside"
             }
            },
            "type": "scattermapbox"
           }
          ],
          "scatterpolar": [
           {
            "marker": {
             "colorbar": {
              "outlinewidth": 1,
              "tickcolor": "rgb(36,36,36)",
              "ticks": "outside"
             }
            },
            "type": "scatterpolar"
           }
          ],
          "scatterpolargl": [
           {
            "marker": {
             "colorbar": {
              "outlinewidth": 1,
              "tickcolor": "rgb(36,36,36)",
              "ticks": "outside"
             }
            },
            "type": "scatterpolargl"
           }
          ],
          "scatterternary": [
           {
            "marker": {
             "colorbar": {
              "outlinewidth": 1,
              "tickcolor": "rgb(36,36,36)",
              "ticks": "outside"
             }
            },
            "type": "scatterternary"
           }
          ],
          "surface": [
           {
            "colorbar": {
             "outlinewidth": 1,
             "tickcolor": "rgb(36,36,36)",
             "ticks": "outside"
            },
            "colorscale": [
             [
              0,
              "#440154"
             ],
             [
              0.1111111111111111,
              "#482878"
             ],
             [
              0.2222222222222222,
              "#3e4989"
             ],
             [
              0.3333333333333333,
              "#31688e"
             ],
             [
              0.4444444444444444,
              "#26828e"
             ],
             [
              0.5555555555555556,
              "#1f9e89"
             ],
             [
              0.6666666666666666,
              "#35b779"
             ],
             [
              0.7777777777777778,
              "#6ece58"
             ],
             [
              0.8888888888888888,
              "#b5de2b"
             ],
             [
              1,
              "#fde725"
             ]
            ],
            "type": "surface"
           }
          ],
          "table": [
           {
            "cells": {
             "fill": {
              "color": "rgb(237,237,237)"
             },
             "line": {
              "color": "white"
             }
            },
            "header": {
             "fill": {
              "color": "rgb(217,217,217)"
             },
             "line": {
              "color": "white"
             }
            },
            "type": "table"
           }
          ]
         },
         "layout": {
          "annotationdefaults": {
           "arrowhead": 0,
           "arrowwidth": 1
          },
          "autotypenumbers": "strict",
          "coloraxis": {
           "colorbar": {
            "outlinewidth": 1,
            "tickcolor": "rgb(36,36,36)",
            "ticks": "outside"
           }
          },
          "colorscale": {
           "diverging": [
            [
             0,
             "rgb(103,0,31)"
            ],
            [
             0.1,
             "rgb(178,24,43)"
            ],
            [
             0.2,
             "rgb(214,96,77)"
            ],
            [
             0.3,
             "rgb(244,165,130)"
            ],
            [
             0.4,
             "rgb(253,219,199)"
            ],
            [
             0.5,
             "rgb(247,247,247)"
            ],
            [
             0.6,
             "rgb(209,229,240)"
            ],
            [
             0.7,
             "rgb(146,197,222)"
            ],
            [
             0.8,
             "rgb(67,147,195)"
            ],
            [
             0.9,
             "rgb(33,102,172)"
            ],
            [
             1,
             "rgb(5,48,97)"
            ]
           ],
           "sequential": [
            [
             0,
             "#440154"
            ],
            [
             0.1111111111111111,
             "#482878"
            ],
            [
             0.2222222222222222,
             "#3e4989"
            ],
            [
             0.3333333333333333,
             "#31688e"
            ],
            [
             0.4444444444444444,
             "#26828e"
            ],
            [
             0.5555555555555556,
             "#1f9e89"
            ],
            [
             0.6666666666666666,
             "#35b779"
            ],
            [
             0.7777777777777778,
             "#6ece58"
            ],
            [
             0.8888888888888888,
             "#b5de2b"
            ],
            [
             1,
             "#fde725"
            ]
           ],
           "sequentialminus": [
            [
             0,
             "#440154"
            ],
            [
             0.1111111111111111,
             "#482878"
            ],
            [
             0.2222222222222222,
             "#3e4989"
            ],
            [
             0.3333333333333333,
             "#31688e"
            ],
            [
             0.4444444444444444,
             "#26828e"
            ],
            [
             0.5555555555555556,
             "#1f9e89"
            ],
            [
             0.6666666666666666,
             "#35b779"
            ],
            [
             0.7777777777777778,
             "#6ece58"
            ],
            [
             0.8888888888888888,
             "#b5de2b"
            ],
            [
             1,
             "#fde725"
            ]
           ]
          },
          "colorway": [
           "#1F77B4",
           "#FF7F0E",
           "#2CA02C",
           "#D62728",
           "#9467BD",
           "#8C564B",
           "#E377C2",
           "#7F7F7F",
           "#BCBD22",
           "#17BECF"
          ],
          "font": {
           "color": "rgb(36,36,36)"
          },
          "geo": {
           "bgcolor": "white",
           "lakecolor": "white",
           "landcolor": "white",
           "showlakes": true,
           "showland": true,
           "subunitcolor": "white"
          },
          "hoverlabel": {
           "align": "left"
          },
          "hovermode": "closest",
          "mapbox": {
           "style": "light"
          },
          "paper_bgcolor": "white",
          "plot_bgcolor": "white",
          "polar": {
           "angularaxis": {
            "gridcolor": "rgb(232,232,232)",
            "linecolor": "rgb(36,36,36)",
            "showgrid": false,
            "showline": true,
            "ticks": "outside"
           },
           "bgcolor": "white",
           "radialaxis": {
            "gridcolor": "rgb(232,232,232)",
            "linecolor": "rgb(36,36,36)",
            "showgrid": false,
            "showline": true,
            "ticks": "outside"
           }
          },
          "scene": {
           "xaxis": {
            "backgroundcolor": "white",
            "gridcolor": "rgb(232,232,232)",
            "gridwidth": 2,
            "linecolor": "rgb(36,36,36)",
            "showbackground": true,
            "showgrid": false,
            "showline": true,
            "ticks": "outside",
            "zeroline": false,
            "zerolinecolor": "rgb(36,36,36)"
           },
           "yaxis": {
            "backgroundcolor": "white",
            "gridcolor": "rgb(232,232,232)",
            "gridwidth": 2,
            "linecolor": "rgb(36,36,36)",
            "showbackground": true,
            "showgrid": false,
            "showline": true,
            "ticks": "outside",
            "zeroline": false,
            "zerolinecolor": "rgb(36,36,36)"
           },
           "zaxis": {
            "backgroundcolor": "white",
            "gridcolor": "rgb(232,232,232)",
            "gridwidth": 2,
            "linecolor": "rgb(36,36,36)",
            "showbackground": true,
            "showgrid": false,
            "showline": true,
            "ticks": "outside",
            "zeroline": false,
            "zerolinecolor": "rgb(36,36,36)"
           }
          },
          "shapedefaults": {
           "fillcolor": "black",
           "line": {
            "width": 0
           },
           "opacity": 0.3
          },
          "ternary": {
           "aaxis": {
            "gridcolor": "rgb(232,232,232)",
            "linecolor": "rgb(36,36,36)",
            "showgrid": false,
            "showline": true,
            "ticks": "outside"
           },
           "baxis": {
            "gridcolor": "rgb(232,232,232)",
            "linecolor": "rgb(36,36,36)",
            "showgrid": false,
            "showline": true,
            "ticks": "outside"
           },
           "bgcolor": "white",
           "caxis": {
            "gridcolor": "rgb(232,232,232)",
            "linecolor": "rgb(36,36,36)",
            "showgrid": false,
            "showline": true,
            "ticks": "outside"
           }
          },
          "title": {
           "x": 0.05
          },
          "xaxis": {
           "automargin": true,
           "gridcolor": "rgb(232,232,232)",
           "linecolor": "rgb(36,36,36)",
           "showgrid": false,
           "showline": true,
           "ticks": "outside",
           "title": {
            "standoff": 15
           },
           "zeroline": false,
           "zerolinecolor": "rgb(36,36,36)"
          },
          "yaxis": {
           "automargin": true,
           "gridcolor": "rgb(232,232,232)",
           "linecolor": "rgb(36,36,36)",
           "showgrid": false,
           "showline": true,
           "ticks": "outside",
           "title": {
            "standoff": 15
           },
           "zeroline": false,
           "zerolinecolor": "rgb(36,36,36)"
          }
         }
        },
        "width": 800,
        "xaxis": {
         "anchor": "y",
         "domain": [
          0,
          1
         ],
         "title": {
          "text": "sample_type"
         }
        },
        "yaxis": {
         "anchor": "x",
         "domain": [
          0,
          1
         ],
         "range": [
          2,
          10
         ],
         "title": {
          "text": "value"
         },
         "type": "log"
        }
       }
      }
     },
     "metadata": {},
     "output_type": "display_data"
    }
   ],
   "source": [
    "fig = px.box(df_gavage_gpd,\n",
    "             x = 'sample_type',\n",
    "             y = 'value',\n",
    "             color = 'type',\n",
    "             hover_data = ['sample'],\n",
    "             template = 'simple_white',\n",
    "             points = 'all',\n",
    "             log_y = True,\n",
    "             width = 800\n",
    "             )\n",
    "fig.update_yaxes(range = [2, 10])\n",
    "fig.show()"
   ]
  },
  {
   "cell_type": "code",
   "execution_count": 152,
   "id": "4cd8500a",
   "metadata": {},
   "outputs": [
    {
     "data": {
      "text/html": [
       "<div>\n",
       "<style scoped>\n",
       "    .dataframe tbody tr th:only-of-type {\n",
       "        vertical-align: middle;\n",
       "    }\n",
       "\n",
       "    .dataframe tbody tr th {\n",
       "        vertical-align: top;\n",
       "    }\n",
       "\n",
       "    .dataframe thead th {\n",
       "        text-align: right;\n",
       "    }\n",
       "</style>\n",
       "<table border=\"1\" class=\"dataframe\">\n",
       "  <thead>\n",
       "    <tr style=\"text-align: right;\">\n",
       "      <th></th>\n",
       "      <th>sample_type</th>\n",
       "      <th>sample</th>\n",
       "      <th>strain</th>\n",
       "      <th>level_3</th>\n",
       "      <th>0</th>\n",
       "    </tr>\n",
       "  </thead>\n",
       "  <tbody>\n",
       "    <tr>\n",
       "      <th>0</th>\n",
       "      <td>gavage</td>\n",
       "      <td>s1_gavage-DNA</td>\n",
       "      <td>ST1</td>\n",
       "      <td>total_count</td>\n",
       "      <td>48588736.0</td>\n",
       "    </tr>\n",
       "    <tr>\n",
       "      <th>1</th>\n",
       "      <td>gavage</td>\n",
       "      <td>s1_gavage-DNA</td>\n",
       "      <td>ST1</td>\n",
       "      <td>total_unique_umi</td>\n",
       "      <td>298059.0</td>\n",
       "    </tr>\n",
       "    <tr>\n",
       "      <th>2</th>\n",
       "      <td>gavage</td>\n",
       "      <td>s1_gavage-DNA</td>\n",
       "      <td>ST2</td>\n",
       "      <td>total_count</td>\n",
       "      <td>40707080.0</td>\n",
       "    </tr>\n",
       "    <tr>\n",
       "      <th>3</th>\n",
       "      <td>gavage</td>\n",
       "      <td>s1_gavage-DNA</td>\n",
       "      <td>ST2</td>\n",
       "      <td>total_unique_umi</td>\n",
       "      <td>214452.0</td>\n",
       "    </tr>\n",
       "    <tr>\n",
       "      <th>4</th>\n",
       "      <td>gavage</td>\n",
       "      <td>s2_gavage-DNA</td>\n",
       "      <td>ST5</td>\n",
       "      <td>total_count</td>\n",
       "      <td>10611011.0</td>\n",
       "    </tr>\n",
       "    <tr>\n",
       "      <th>...</th>\n",
       "      <td>...</td>\n",
       "      <td>...</td>\n",
       "      <td>...</td>\n",
       "      <td>...</td>\n",
       "      <td>...</td>\n",
       "    </tr>\n",
       "    <tr>\n",
       "      <th>585</th>\n",
       "      <td>sample</td>\n",
       "      <td>s99_SI-DNA</td>\n",
       "      <td>ST2</td>\n",
       "      <td>total_unique_umi</td>\n",
       "      <td>13.0</td>\n",
       "    </tr>\n",
       "    <tr>\n",
       "      <th>586</th>\n",
       "      <td>sample</td>\n",
       "      <td>s99_SI-DNA</td>\n",
       "      <td>ST5</td>\n",
       "      <td>total_count</td>\n",
       "      <td>5280812.0</td>\n",
       "    </tr>\n",
       "    <tr>\n",
       "      <th>587</th>\n",
       "      <td>sample</td>\n",
       "      <td>s99_SI-DNA</td>\n",
       "      <td>ST5</td>\n",
       "      <td>total_unique_umi</td>\n",
       "      <td>2871.0</td>\n",
       "    </tr>\n",
       "    <tr>\n",
       "      <th>588</th>\n",
       "      <td>sample</td>\n",
       "      <td>s99_SI-DNA</td>\n",
       "      <td>ST6</td>\n",
       "      <td>total_count</td>\n",
       "      <td>4107.0</td>\n",
       "    </tr>\n",
       "    <tr>\n",
       "      <th>589</th>\n",
       "      <td>sample</td>\n",
       "      <td>s99_SI-DNA</td>\n",
       "      <td>ST6</td>\n",
       "      <td>total_unique_umi</td>\n",
       "      <td>24.0</td>\n",
       "    </tr>\n",
       "  </tbody>\n",
       "</table>\n",
       "<p>590 rows × 5 columns</p>\n",
       "</div>"
      ],
      "text/plain": [
       "    sample_type         sample strain           level_3           0\n",
       "0        gavage  s1_gavage-DNA    ST1       total_count  48588736.0\n",
       "1        gavage  s1_gavage-DNA    ST1  total_unique_umi    298059.0\n",
       "2        gavage  s1_gavage-DNA    ST2       total_count  40707080.0\n",
       "3        gavage  s1_gavage-DNA    ST2  total_unique_umi    214452.0\n",
       "4        gavage  s2_gavage-DNA    ST5       total_count  10611011.0\n",
       "..          ...            ...    ...               ...         ...\n",
       "585      sample     s99_SI-DNA    ST2  total_unique_umi        13.0\n",
       "586      sample     s99_SI-DNA    ST5       total_count   5280812.0\n",
       "587      sample     s99_SI-DNA    ST5  total_unique_umi      2871.0\n",
       "588      sample     s99_SI-DNA    ST6       total_count      4107.0\n",
       "589      sample     s99_SI-DNA    ST6  total_unique_umi        24.0\n",
       "\n",
       "[590 rows x 5 columns]"
      ]
     },
     "metadata": {},
     "output_type": "display_data"
    },
    {
     "data": {
      "application/vnd.plotly.v1+json": {
       "config": {
        "plotlyServerURL": "https://plotly.com"
       },
       "data": [
        {
         "alignmentgroup": "True",
         "boxpoints": "all",
         "customdata": [
          [
           "s1_gavage-DNA"
          ],
          [
           "s3_gavage-DNA"
          ],
          [
           "s5_gavage-DNA"
          ],
          [
           "s7_gavage-DNA"
          ],
          [
           "s9_gavage-DNA"
          ],
          [
           "NTC_H3_NTC"
          ],
          [
           "WATER_B3_WATER"
          ],
          [
           "WATER_C6_WATER"
          ],
          [
           "WATER_D2_WATER"
          ],
          [
           "WATER_F9_WATER"
          ],
          [
           "s100_SI-DNA"
          ],
          [
           "s101_SI-DNA"
          ],
          [
           "s102_SI-DNA"
          ],
          [
           "s103_SI-DNA"
          ],
          [
           "s104_SI-DNA"
          ],
          [
           "s105_SI-DNA"
          ],
          [
           "s106_SI-DNA"
          ],
          [
           "s107_SI-DNA"
          ],
          [
           "s108_SI-DNA"
          ],
          [
           "s109_Cecum-DNA"
          ],
          [
           "s110_Cecum-DNA"
          ],
          [
           "s111_Cecum-DNA"
          ],
          [
           "s112_Cecum-DNA"
          ],
          [
           "s113_Cecum-DNA"
          ],
          [
           "s114_Cecum-DNA"
          ],
          [
           "s115_Cecum-DNA"
          ],
          [
           "s116_Cecum-DNA"
          ],
          [
           "s117_Cecum-DNA"
          ],
          [
           "s118_Cecum-DNA"
          ],
          [
           "s119_Pr.-Colon-DNA"
          ],
          [
           "s120_Pr.-Colon-DNA"
          ],
          [
           "s121_Pr.-Colon-DNA"
          ],
          [
           "s122_Pr.-Colon-DNA"
          ],
          [
           "s123_Pr.-Colon-DNA"
          ],
          [
           "s124_Pr.-Colon-DNA"
          ],
          [
           "s125_Pr.-Colon-DNA"
          ],
          [
           "s126_Pr.-Colon-DNA"
          ],
          [
           "s127_Pr.-Colon-DNA"
          ],
          [
           "s128_Pr.-Colon-DNA"
          ],
          [
           "s19_stool-DNA"
          ],
          [
           "s20_stool-DNA"
          ],
          [
           "s21_stool-DNA"
          ],
          [
           "s22_stool-DNA"
          ],
          [
           "s23_stool-DNA"
          ],
          [
           "s24_stool-DNA"
          ],
          [
           "s25_stool-DNA"
          ],
          [
           "s26_stool-DNA"
          ],
          [
           "s27_stool-DNA"
          ],
          [
           "s28_stool-DNA"
          ],
          [
           "s29_stool-DNA"
          ],
          [
           "s30_stool-DNA"
          ],
          [
           "s31_stool-DNA"
          ],
          [
           "s32_stool-DNA"
          ],
          [
           "s33_stool-DNA"
          ],
          [
           "s34_stool-DNA"
          ],
          [
           "s35_stool-DNA"
          ],
          [
           "s36_stool-DNA"
          ],
          [
           "s37_stool-DNA"
          ],
          [
           "s38_stool-DNA"
          ],
          [
           "s39_stool-DNA"
          ],
          [
           "s40_stool-DNA"
          ],
          [
           "s41_stool-DNA"
          ],
          [
           "s42_stool-DNA"
          ],
          [
           "s43_stool-DNA"
          ],
          [
           "s44_stool-DNA"
          ],
          [
           "s45_stool-DNA"
          ],
          [
           "s46_stool-DNA"
          ],
          [
           "s47_stool-DNA"
          ],
          [
           "s48_stool-DNA"
          ],
          [
           "s49_stool-DNA"
          ],
          [
           "s50_stool-DNA"
          ],
          [
           "s51_stool-DNA"
          ],
          [
           "s52_stool-DNA"
          ],
          [
           "s53_stool-DNA"
          ],
          [
           "s54_stool-DNA"
          ],
          [
           "s55_stool-DNA"
          ],
          [
           "s56_stool-DNA"
          ],
          [
           "s57_stool-DNA"
          ],
          [
           "s58_stool-DNA"
          ],
          [
           "s99_SI-DNA"
          ]
         ],
         "hovertemplate": "strain=ST1<br>type=total_count<br>sample_type=%{x}<br>value=%{y}<br>sample=%{customdata[0]}<extra></extra>",
         "legendgroup": "ST1",
         "marker": {
          "color": "#1F77B4"
         },
         "name": "ST1",
         "notched": false,
         "offsetgroup": "ST1",
         "orientation": "v",
         "showlegend": true,
         "type": "box",
         "x": [
          "gavage",
          "gavage",
          "gavage",
          "gavage",
          "gavage",
          "negative_control",
          "negative_control",
          "negative_control",
          "negative_control",
          "negative_control",
          "sample",
          "sample",
          "sample",
          "sample",
          "sample",
          "sample",
          "sample",
          "sample",
          "sample",
          "sample",
          "sample",
          "sample",
          "sample",
          "sample",
          "sample",
          "sample",
          "sample",
          "sample",
          "sample",
          "sample",
          "sample",
          "sample",
          "sample",
          "sample",
          "sample",
          "sample",
          "sample",
          "sample",
          "sample",
          "sample",
          "sample",
          "sample",
          "sample",
          "sample",
          "sample",
          "sample",
          "sample",
          "sample",
          "sample",
          "sample",
          "sample",
          "sample",
          "sample",
          "sample",
          "sample",
          "sample",
          "sample",
          "sample",
          "sample",
          "sample",
          "sample",
          "sample",
          "sample",
          "sample",
          "sample",
          "sample",
          "sample",
          "sample",
          "sample",
          "sample",
          "sample",
          "sample",
          "sample",
          "sample",
          "sample",
          "sample",
          "sample",
          "sample",
          "sample",
          "sample"
         ],
         "x0": " ",
         "xaxis": "x2",
         "y": {
          "bdata": "AAAAAD4rh0EAAAAAAOTqQAAAAABk5iFBAAAAAGhsDkEAAAAA4OMzQQAAAAD47gpBAAAAAIAzzEAAAAAAeGEAQQAAAACQkw5BAAAAAAC0yEAAAAAAqPEfQQAAAADgyfBAAAAAAADjs0AAAACA64JQQQAAAAC0ZxBBAAAAkLUAekEAAAAAmmIuQQAAAABV+TFBAAAAAAAO0EAAAIB6JsLCQQAAANT7CKFBAAAAAKu2ZUEAAAAAAJHRQAAAAJKcGaNBAAAAwInBWkEAAAAgtOuDQQAAAEiAkK5BAAAAAAnYPkEAAAAAeNU2QQAAAOADIXZBAAAAACOwR0EAAAAAbGYnQQAAAACEqhlBAAAAAGqZQkEAAADQU8d+QQAAAKCnsWlBAAAABYDPyUEAAADA+9xYQQAAAIAE1FJBAAAA/4CXtUEAAAAAtGkRQQAAAAAw/vJAAAAAACAU/0AAAAAAgHXUQAAAAAAApKlAAAAAAM5NOkEAAAAAgODIQAAAAACcJiFBAAAAkMdke0EAAADAqHOuQQAAAOANDnJBAAAAgBAeR0EAAACAI+JKQQAAADB0QaBBAAAAAKxtJkEAAADOe0q5QQAAAAAEUyNBAAAAAASvN0EAAAAAG401QQAAAO9GM8xBAAAAMKstg0EAAAAANC0ZQQAAAABFY0FBAAAApK7rokEAAAAAXEkpQQAAAKs2CsVBAAAA8HZgt0EAAAAAi3dDQQAAAAASPTdBAAAA+Jk9qkEAAACY/paiQQAAAADIcSxBAAAAAHbRJkEAAAAoNT6zQQAAAIC0PUJBAAAAEP3vcEEAAACcwyaWQQAAAAAH8k5BAAAAAK9RPUEAAABQ0WRxQQ==",
          "dtype": "f8"
         },
         "y0": " ",
         "yaxis": "y2"
        },
        {
         "alignmentgroup": "True",
         "boxpoints": "all",
         "customdata": [
          [
           "s1_gavage-DNA"
          ],
          [
           "s3_gavage-DNA"
          ],
          [
           "s5_gavage-DNA"
          ],
          [
           "s7_gavage-DNA"
          ],
          [
           "s9_gavage-DNA"
          ],
          [
           "NTC_H3_NTC"
          ],
          [
           "WATER_B3_WATER"
          ],
          [
           "WATER_C6_WATER"
          ],
          [
           "WATER_D2_WATER"
          ],
          [
           "WATER_F9_WATER"
          ],
          [
           "s100_SI-DNA"
          ],
          [
           "s101_SI-DNA"
          ],
          [
           "s102_SI-DNA"
          ],
          [
           "s103_SI-DNA"
          ],
          [
           "s104_SI-DNA"
          ],
          [
           "s105_SI-DNA"
          ],
          [
           "s106_SI-DNA"
          ],
          [
           "s107_SI-DNA"
          ],
          [
           "s108_SI-DNA"
          ],
          [
           "s109_Cecum-DNA"
          ],
          [
           "s110_Cecum-DNA"
          ],
          [
           "s111_Cecum-DNA"
          ],
          [
           "s112_Cecum-DNA"
          ],
          [
           "s113_Cecum-DNA"
          ],
          [
           "s114_Cecum-DNA"
          ],
          [
           "s115_Cecum-DNA"
          ],
          [
           "s116_Cecum-DNA"
          ],
          [
           "s117_Cecum-DNA"
          ],
          [
           "s118_Cecum-DNA"
          ],
          [
           "s119_Pr.-Colon-DNA"
          ],
          [
           "s120_Pr.-Colon-DNA"
          ],
          [
           "s121_Pr.-Colon-DNA"
          ],
          [
           "s122_Pr.-Colon-DNA"
          ],
          [
           "s123_Pr.-Colon-DNA"
          ],
          [
           "s124_Pr.-Colon-DNA"
          ],
          [
           "s125_Pr.-Colon-DNA"
          ],
          [
           "s126_Pr.-Colon-DNA"
          ],
          [
           "s127_Pr.-Colon-DNA"
          ],
          [
           "s128_Pr.-Colon-DNA"
          ],
          [
           "s19_stool-DNA"
          ],
          [
           "s20_stool-DNA"
          ],
          [
           "s21_stool-DNA"
          ],
          [
           "s22_stool-DNA"
          ],
          [
           "s23_stool-DNA"
          ],
          [
           "s24_stool-DNA"
          ],
          [
           "s25_stool-DNA"
          ],
          [
           "s26_stool-DNA"
          ],
          [
           "s27_stool-DNA"
          ],
          [
           "s28_stool-DNA"
          ],
          [
           "s29_stool-DNA"
          ],
          [
           "s30_stool-DNA"
          ],
          [
           "s31_stool-DNA"
          ],
          [
           "s32_stool-DNA"
          ],
          [
           "s33_stool-DNA"
          ],
          [
           "s34_stool-DNA"
          ],
          [
           "s35_stool-DNA"
          ],
          [
           "s36_stool-DNA"
          ],
          [
           "s37_stool-DNA"
          ],
          [
           "s38_stool-DNA"
          ],
          [
           "s39_stool-DNA"
          ],
          [
           "s40_stool-DNA"
          ],
          [
           "s41_stool-DNA"
          ],
          [
           "s42_stool-DNA"
          ],
          [
           "s43_stool-DNA"
          ],
          [
           "s44_stool-DNA"
          ],
          [
           "s45_stool-DNA"
          ],
          [
           "s46_stool-DNA"
          ],
          [
           "s47_stool-DNA"
          ],
          [
           "s48_stool-DNA"
          ],
          [
           "s49_stool-DNA"
          ],
          [
           "s50_stool-DNA"
          ],
          [
           "s51_stool-DNA"
          ],
          [
           "s52_stool-DNA"
          ],
          [
           "s53_stool-DNA"
          ],
          [
           "s54_stool-DNA"
          ],
          [
           "s55_stool-DNA"
          ],
          [
           "s56_stool-DNA"
          ],
          [
           "s57_stool-DNA"
          ],
          [
           "s58_stool-DNA"
          ],
          [
           "s99_SI-DNA"
          ]
         ],
         "hovertemplate": "strain=ST1<br>type=total_unique_umi<br>sample_type=%{x}<br>value=%{y}<br>sample=%{customdata[0]}<extra></extra>",
         "legendgroup": "ST1",
         "marker": {
          "color": "#1F77B4"
         },
         "name": "ST1",
         "notched": false,
         "offsetgroup": "ST1",
         "orientation": "v",
         "showlegend": false,
         "type": "box",
         "x": [
          "gavage",
          "gavage",
          "gavage",
          "gavage",
          "gavage",
          "negative_control",
          "negative_control",
          "negative_control",
          "negative_control",
          "negative_control",
          "sample",
          "sample",
          "sample",
          "sample",
          "sample",
          "sample",
          "sample",
          "sample",
          "sample",
          "sample",
          "sample",
          "sample",
          "sample",
          "sample",
          "sample",
          "sample",
          "sample",
          "sample",
          "sample",
          "sample",
          "sample",
          "sample",
          "sample",
          "sample",
          "sample",
          "sample",
          "sample",
          "sample",
          "sample",
          "sample",
          "sample",
          "sample",
          "sample",
          "sample",
          "sample",
          "sample",
          "sample",
          "sample",
          "sample",
          "sample",
          "sample",
          "sample",
          "sample",
          "sample",
          "sample",
          "sample",
          "sample",
          "sample",
          "sample",
          "sample",
          "sample",
          "sample",
          "sample",
          "sample",
          "sample",
          "sample",
          "sample",
          "sample",
          "sample",
          "sample",
          "sample",
          "sample",
          "sample",
          "sample",
          "sample",
          "sample",
          "sample",
          "sample",
          "sample",
          "sample"
         ],
         "x0": " ",
         "xaxis": "x",
         "y": {
          "bdata": "AAAAACwxEkEAAAAAAMqoQAAAAAAAnsBAAAAAAIC80UAAAAAAACHEQAAAAAAAEcZAAAAAAAA2p0AAAAAAgGfMQAAAAACAlM1AAAAAAAD4gUAAAAAAADquQAAAAAAAcH9AAAAAAACAa0AAAAAAAAiKQAAAAAAASIJAAAAAAADAlkAAAAAAALCRQAAAAAAA2IZAAAAAAADwgEAAAAAAmJQAQQAAAACA8N5AAAAAAACskkAAAAAAAGCCQAAAAAAAeJFAAAAAAABokkAAAAAAAIqoQAAAAAAACLNAAAAAAACknkAAAAAAACicQAAAAACgy+1AAAAAAECE0EAAAAAAAAiQQAAAAAAA0IZAAAAAAAAAhUAAAAAAAFiMQAAAAAAA/qlAAAAAAAA/skAAAAAAAICZQAAAAAAAhJxAAAAAAMCS9kAAAAAAAGTOQAAAAAAAoIlAAAAAAACYiEAAAAAAABB8QAAAAAAAcHpAAAAAAAD4pUAAAAAAAFBxQAAAAAAAeqNAAAAAAABypkAAAAAAcPn+QAAAAACALdFAAAAAAAA0kkAAAAAAAECDQAAAAAAAKJRAAAAAAADkkEAAAAAAAMC0QAAAAAAAZJVAAAAAAAAip0AAAAAAAPynQAAAAAAwsvxAAAAAAEBd2EAAAAAAAMyUQAAAAAAA7JFAAAAAAABMkkAAAAAAAISQQAAAAAAAkrNAAAAAAAC2s0AAAAAAAAKgQAAAAAAAJKNAAAAAAPD2/kAAAAAAgN/kQAAAAAAAFJJAAAAAAADwgkAAAAAAAHiTQAAAAAAARJBAAAAAAAAvs0AAAAAAAI+zQAAAAAAAGqJAAAAAAAAko0AAAAAAgOHbQA==",
          "dtype": "f8"
         },
         "y0": " ",
         "yaxis": "y"
        },
        {
         "alignmentgroup": "True",
         "boxpoints": "all",
         "customdata": [
          [
           "s1_gavage-DNA"
          ],
          [
           "s3_gavage-DNA"
          ],
          [
           "s5_gavage-DNA"
          ],
          [
           "s7_gavage-DNA"
          ],
          [
           "s9_gavage-DNA"
          ],
          [
           "NTC_H3_NTC"
          ],
          [
           "WATER_B3_WATER"
          ],
          [
           "WATER_C6_WATER"
          ],
          [
           "WATER_D2_WATER"
          ],
          [
           "s100_SI-DNA"
          ],
          [
           "s103_SI-DNA"
          ],
          [
           "s104_SI-DNA"
          ],
          [
           "s105_SI-DNA"
          ],
          [
           "s106_SI-DNA"
          ],
          [
           "s107_SI-DNA"
          ],
          [
           "s108_SI-DNA"
          ],
          [
           "s109_Cecum-DNA"
          ],
          [
           "s110_Cecum-DNA"
          ],
          [
           "s114_Cecum-DNA"
          ],
          [
           "s116_Cecum-DNA"
          ],
          [
           "s117_Cecum-DNA"
          ],
          [
           "s118_Cecum-DNA"
          ],
          [
           "s119_Pr.-Colon-DNA"
          ],
          [
           "s120_Pr.-Colon-DNA"
          ],
          [
           "s121_Pr.-Colon-DNA"
          ],
          [
           "s122_Pr.-Colon-DNA"
          ],
          [
           "s124_Pr.-Colon-DNA"
          ],
          [
           "s125_Pr.-Colon-DNA"
          ],
          [
           "s126_Pr.-Colon-DNA"
          ],
          [
           "s127_Pr.-Colon-DNA"
          ],
          [
           "s128_Pr.-Colon-DNA"
          ],
          [
           "s19_stool-DNA"
          ],
          [
           "s20_stool-DNA"
          ],
          [
           "s21_stool-DNA"
          ],
          [
           "s22_stool-DNA"
          ],
          [
           "s23_stool-DNA"
          ],
          [
           "s24_stool-DNA"
          ],
          [
           "s25_stool-DNA"
          ],
          [
           "s26_stool-DNA"
          ],
          [
           "s27_stool-DNA"
          ],
          [
           "s28_stool-DNA"
          ],
          [
           "s29_stool-DNA"
          ],
          [
           "s30_stool-DNA"
          ],
          [
           "s31_stool-DNA"
          ],
          [
           "s33_stool-DNA"
          ],
          [
           "s35_stool-DNA"
          ],
          [
           "s37_stool-DNA"
          ],
          [
           "s38_stool-DNA"
          ],
          [
           "s39_stool-DNA"
          ],
          [
           "s40_stool-DNA"
          ],
          [
           "s41_stool-DNA"
          ],
          [
           "s42_stool-DNA"
          ],
          [
           "s43_stool-DNA"
          ],
          [
           "s44_stool-DNA"
          ],
          [
           "s45_stool-DNA"
          ],
          [
           "s46_stool-DNA"
          ],
          [
           "s47_stool-DNA"
          ],
          [
           "s48_stool-DNA"
          ],
          [
           "s49_stool-DNA"
          ],
          [
           "s50_stool-DNA"
          ],
          [
           "s53_stool-DNA"
          ],
          [
           "s54_stool-DNA"
          ],
          [
           "s55_stool-DNA"
          ],
          [
           "s56_stool-DNA"
          ],
          [
           "s57_stool-DNA"
          ],
          [
           "s58_stool-DNA"
          ],
          [
           "s99_SI-DNA"
          ]
         ],
         "hovertemplate": "strain=ST2<br>type=total_count<br>sample_type=%{x}<br>value=%{y}<br>sample=%{customdata[0]}<extra></extra>",
         "legendgroup": "ST2",
         "marker": {
          "color": "#FF7F0E"
         },
         "name": "ST2",
         "notched": false,
         "offsetgroup": "ST2",
         "orientation": "v",
         "showlegend": true,
         "type": "box",
         "x": [
          "gavage",
          "gavage",
          "gavage",
          "gavage",
          "gavage",
          "negative_control",
          "negative_control",
          "negative_control",
          "negative_control",
          "sample",
          "sample",
          "sample",
          "sample",
          "sample",
          "sample",
          "sample",
          "sample",
          "sample",
          "sample",
          "sample",
          "sample",
          "sample",
          "sample",
          "sample",
          "sample",
          "sample",
          "sample",
          "sample",
          "sample",
          "sample",
          "sample",
          "sample",
          "sample",
          "sample",
          "sample",
          "sample",
          "sample",
          "sample",
          "sample",
          "sample",
          "sample",
          "sample",
          "sample",
          "sample",
          "sample",
          "sample",
          "sample",
          "sample",
          "sample",
          "sample",
          "sample",
          "sample",
          "sample",
          "sample",
          "sample",
          "sample",
          "sample",
          "sample",
          "sample",
          "sample",
          "sample",
          "sample",
          "sample",
          "sample",
          "sample",
          "sample",
          "sample"
         ],
         "x0": " ",
         "xaxis": "x2",
         "y": {
          "bdata": "AAAAQCBpg0EAAAAAAMHNQAAAAACg/+1AAAAAAMBm0EAAAAAAsKMfQQAAAAAAAEBAAAAAAABQeEAAAAAAAABSQAAAAAAAADJAAAAAAAAAKEAAAAAAALiDQAAAAAAAMIxAAAAAAAAAVEAAAAAAAAAiQAAAAAAAwFtAAAAAAAAAAEAAAAAAAHLXQAAAAACAvMhAAAAAAADAUUAAAAAAAABQQAAAAAAAsHBAAAAAAABAj0AAAAAAACLOQAAAAAAAgE9AAAAAAAAAAEAAAAAAAAAzQAAAAAAAwGFAAAAAAAAA8D8AAAAAAMBiQAAAAAAAQGNAAAAAAADQekAAAAAAQBsPQQAAAADAB9VAAAAAAACATEAAAAAAAJiGQAAAAAAAABxAAAAAAAAACEAAAAAAAHqyQAAAAAAAABRAAAAAAADgcUAAAAAAgGrIQAAAAAAA1LJAAAAAAADAjUAAAAAAAAAgQAAAAAAAoGJAAAAAAAAASEAAAAAAAGBxQAAAAAAAsI1AAAAAAMAq3kAAAAAAAFqiQAAAAAAAwFtAAAAAAABeukAAAAAAALB7QAAAAAAAAD5AAAAAAABIqEAAAAAAAGCZQAAAAAAAAIpAAAAAAABkm0AAAAAAgOnJQAAAAAAABqpAAAAAAABgZkAAAAAAAAAkQAAAAAAAABxAAAAAAAAALEAAAAAAAOBhQAAAAAAAUJtAAAAAAACAkEA=",
          "dtype": "f8"
         },
         "y0": " ",
         "yaxis": "y2"
        },
        {
         "alignmentgroup": "True",
         "boxpoints": "all",
         "customdata": [
          [
           "s1_gavage-DNA"
          ],
          [
           "s3_gavage-DNA"
          ],
          [
           "s5_gavage-DNA"
          ],
          [
           "s7_gavage-DNA"
          ],
          [
           "s9_gavage-DNA"
          ],
          [
           "NTC_H3_NTC"
          ],
          [
           "WATER_B3_WATER"
          ],
          [
           "WATER_C6_WATER"
          ],
          [
           "WATER_D2_WATER"
          ],
          [
           "s100_SI-DNA"
          ],
          [
           "s103_SI-DNA"
          ],
          [
           "s104_SI-DNA"
          ],
          [
           "s105_SI-DNA"
          ],
          [
           "s106_SI-DNA"
          ],
          [
           "s107_SI-DNA"
          ],
          [
           "s108_SI-DNA"
          ],
          [
           "s109_Cecum-DNA"
          ],
          [
           "s110_Cecum-DNA"
          ],
          [
           "s114_Cecum-DNA"
          ],
          [
           "s116_Cecum-DNA"
          ],
          [
           "s117_Cecum-DNA"
          ],
          [
           "s118_Cecum-DNA"
          ],
          [
           "s119_Pr.-Colon-DNA"
          ],
          [
           "s120_Pr.-Colon-DNA"
          ],
          [
           "s121_Pr.-Colon-DNA"
          ],
          [
           "s122_Pr.-Colon-DNA"
          ],
          [
           "s124_Pr.-Colon-DNA"
          ],
          [
           "s125_Pr.-Colon-DNA"
          ],
          [
           "s126_Pr.-Colon-DNA"
          ],
          [
           "s127_Pr.-Colon-DNA"
          ],
          [
           "s128_Pr.-Colon-DNA"
          ],
          [
           "s19_stool-DNA"
          ],
          [
           "s20_stool-DNA"
          ],
          [
           "s21_stool-DNA"
          ],
          [
           "s22_stool-DNA"
          ],
          [
           "s23_stool-DNA"
          ],
          [
           "s24_stool-DNA"
          ],
          [
           "s25_stool-DNA"
          ],
          [
           "s26_stool-DNA"
          ],
          [
           "s27_stool-DNA"
          ],
          [
           "s28_stool-DNA"
          ],
          [
           "s29_stool-DNA"
          ],
          [
           "s30_stool-DNA"
          ],
          [
           "s31_stool-DNA"
          ],
          [
           "s33_stool-DNA"
          ],
          [
           "s35_stool-DNA"
          ],
          [
           "s37_stool-DNA"
          ],
          [
           "s38_stool-DNA"
          ],
          [
           "s39_stool-DNA"
          ],
          [
           "s40_stool-DNA"
          ],
          [
           "s41_stool-DNA"
          ],
          [
           "s42_stool-DNA"
          ],
          [
           "s43_stool-DNA"
          ],
          [
           "s44_stool-DNA"
          ],
          [
           "s45_stool-DNA"
          ],
          [
           "s46_stool-DNA"
          ],
          [
           "s47_stool-DNA"
          ],
          [
           "s48_stool-DNA"
          ],
          [
           "s49_stool-DNA"
          ],
          [
           "s50_stool-DNA"
          ],
          [
           "s53_stool-DNA"
          ],
          [
           "s54_stool-DNA"
          ],
          [
           "s55_stool-DNA"
          ],
          [
           "s56_stool-DNA"
          ],
          [
           "s57_stool-DNA"
          ],
          [
           "s58_stool-DNA"
          ],
          [
           "s99_SI-DNA"
          ]
         ],
         "hovertemplate": "strain=ST2<br>type=total_unique_umi<br>sample_type=%{x}<br>value=%{y}<br>sample=%{customdata[0]}<extra></extra>",
         "legendgroup": "ST2",
         "marker": {
          "color": "#FF7F0E"
         },
         "name": "ST2",
         "notched": false,
         "offsetgroup": "ST2",
         "orientation": "v",
         "showlegend": false,
         "type": "box",
         "x": [
          "gavage",
          "gavage",
          "gavage",
          "gavage",
          "gavage",
          "negative_control",
          "negative_control",
          "negative_control",
          "negative_control",
          "sample",
          "sample",
          "sample",
          "sample",
          "sample",
          "sample",
          "sample",
          "sample",
          "sample",
          "sample",
          "sample",
          "sample",
          "sample",
          "sample",
          "sample",
          "sample",
          "sample",
          "sample",
          "sample",
          "sample",
          "sample",
          "sample",
          "sample",
          "sample",
          "sample",
          "sample",
          "sample",
          "sample",
          "sample",
          "sample",
          "sample",
          "sample",
          "sample",
          "sample",
          "sample",
          "sample",
          "sample",
          "sample",
          "sample",
          "sample",
          "sample",
          "sample",
          "sample",
          "sample",
          "sample",
          "sample",
          "sample",
          "sample",
          "sample",
          "sample",
          "sample",
          "sample",
          "sample",
          "sample",
          "sample",
          "sample",
          "sample",
          "sample"
         ],
         "x0": " ",
         "xaxis": "x",
         "y": {
          "bdata": "AAAAAKAtCkEAAAAAAJCJQAAAAAAAxKxAAAAAAADFu0AAAAAAAIuwQAAAAAAAADBAAAAAAAAAAEAAAAAAAMBQQAAAAAAAACJAAAAAAAAAIEAAAAAAAAAiQAAAAAAAAPA/AAAAAAAAFEAAAAAAAAAAQAAAAAAAAABAAAAAAAAA8D8AAAAAAABBQAAAAAAAACxAAAAAAAAACEAAAAAAAAAIQAAAAAAAAPA/AAAAAAAAOEAAAAAAAAAyQAAAAAAAAC5AAAAAAAAA8D8AAAAAAADwPwAAAAAAAABAAAAAAAAA8D8AAAAAAAAIQAAAAAAAAABAAAAAAAAA8D8AAAAAADCzQAAAAAAAdKVAAAAAAACAQUAAAAAAAIBGQAAAAAAAABBAAAAAAAAAAEAAAAAAABB4QAAAAAAAABBAAAAAAAAAaUAAAAAAAEBiQAAAAAAAgEJAAAAAAAAAMUAAAAAAAADwPwAAAAAAAAhAAAAAAAAAAEAAAAAAAAAAQAAAAAAAADlAAAAAAAAAXUAAAAAAAIBSQAAAAAAAwFJAAAAAAAAAVEAAAAAAAAAxQAAAAAAAADFAAAAAAAAASEAAAAAAAABDQAAAAAAAABhAAAAAAAAAREAAAAAAAAA7QAAAAAAAADpAAAAAAAAAAEAAAAAAAAAAQAAAAAAAABRAAAAAAAAAAEAAAAAAAADwPwAAAAAAAEBAAAAAAAAAKkA=",
          "dtype": "f8"
         },
         "y0": " ",
         "yaxis": "y"
        },
        {
         "alignmentgroup": "True",
         "boxpoints": "all",
         "customdata": [
          [
           "s2_gavage-DNA"
          ],
          [
           "s4_gavage-DNA"
          ],
          [
           "s6_gavage-DNA"
          ],
          [
           "s8_gavage-DNA"
          ],
          [
           "NTC_H3_NTC"
          ],
          [
           "WATER_B3_WATER"
          ],
          [
           "WATER_C6_WATER"
          ],
          [
           "WATER_D2_WATER"
          ],
          [
           "WATER_F9_WATER"
          ],
          [
           "s100_SI-DNA"
          ],
          [
           "s101_SI-DNA"
          ],
          [
           "s102_SI-DNA"
          ],
          [
           "s103_SI-DNA"
          ],
          [
           "s104_SI-DNA"
          ],
          [
           "s105_SI-DNA"
          ],
          [
           "s106_SI-DNA"
          ],
          [
           "s109_Cecum-DNA"
          ],
          [
           "s110_Cecum-DNA"
          ],
          [
           "s111_Cecum-DNA"
          ],
          [
           "s112_Cecum-DNA"
          ],
          [
           "s113_Cecum-DNA"
          ],
          [
           "s114_Cecum-DNA"
          ],
          [
           "s115_Cecum-DNA"
          ],
          [
           "s116_Cecum-DNA"
          ],
          [
           "s119_Pr.-Colon-DNA"
          ],
          [
           "s120_Pr.-Colon-DNA"
          ],
          [
           "s121_Pr.-Colon-DNA"
          ],
          [
           "s122_Pr.-Colon-DNA"
          ],
          [
           "s123_Pr.-Colon-DNA"
          ],
          [
           "s124_Pr.-Colon-DNA"
          ],
          [
           "s125_Pr.-Colon-DNA"
          ],
          [
           "s126_Pr.-Colon-DNA"
          ],
          [
           "s19_stool-DNA"
          ],
          [
           "s20_stool-DNA"
          ],
          [
           "s21_stool-DNA"
          ],
          [
           "s22_stool-DNA"
          ],
          [
           "s23_stool-DNA"
          ],
          [
           "s24_stool-DNA"
          ],
          [
           "s25_stool-DNA"
          ],
          [
           "s26_stool-DNA"
          ],
          [
           "s29_stool-DNA"
          ],
          [
           "s30_stool-DNA"
          ],
          [
           "s31_stool-DNA"
          ],
          [
           "s32_stool-DNA"
          ],
          [
           "s33_stool-DNA"
          ],
          [
           "s34_stool-DNA"
          ],
          [
           "s35_stool-DNA"
          ],
          [
           "s36_stool-DNA"
          ],
          [
           "s39_stool-DNA"
          ],
          [
           "s40_stool-DNA"
          ],
          [
           "s41_stool-DNA"
          ],
          [
           "s42_stool-DNA"
          ],
          [
           "s43_stool-DNA"
          ],
          [
           "s44_stool-DNA"
          ],
          [
           "s45_stool-DNA"
          ],
          [
           "s46_stool-DNA"
          ],
          [
           "s49_stool-DNA"
          ],
          [
           "s50_stool-DNA"
          ],
          [
           "s51_stool-DNA"
          ],
          [
           "s52_stool-DNA"
          ],
          [
           "s53_stool-DNA"
          ],
          [
           "s54_stool-DNA"
          ],
          [
           "s55_stool-DNA"
          ],
          [
           "s56_stool-DNA"
          ],
          [
           "s99_SI-DNA"
          ]
         ],
         "hovertemplate": "strain=ST5<br>type=total_count<br>sample_type=%{x}<br>value=%{y}<br>sample=%{customdata[0]}<extra></extra>",
         "legendgroup": "ST5",
         "marker": {
          "color": "#2CA02C"
         },
         "name": "ST5",
         "notched": false,
         "offsetgroup": "ST5",
         "orientation": "v",
         "showlegend": true,
         "type": "box",
         "x": [
          "gavage",
          "gavage",
          "gavage",
          "gavage",
          "negative_control",
          "negative_control",
          "negative_control",
          "negative_control",
          "negative_control",
          "sample",
          "sample",
          "sample",
          "sample",
          "sample",
          "sample",
          "sample",
          "sample",
          "sample",
          "sample",
          "sample",
          "sample",
          "sample",
          "sample",
          "sample",
          "sample",
          "sample",
          "sample",
          "sample",
          "sample",
          "sample",
          "sample",
          "sample",
          "sample",
          "sample",
          "sample",
          "sample",
          "sample",
          "sample",
          "sample",
          "sample",
          "sample",
          "sample",
          "sample",
          "sample",
          "sample",
          "sample",
          "sample",
          "sample",
          "sample",
          "sample",
          "sample",
          "sample",
          "sample",
          "sample",
          "sample",
          "sample",
          "sample",
          "sample",
          "sample",
          "sample",
          "sample",
          "sample",
          "sample",
          "sample",
          "sample"
         ],
         "x0": " ",
         "xaxis": "x2",
         "y": {
          "bdata": "AAAAYCg9ZEEAAAAAGL4MQQAAAACg2epAAAAAADNDOkEAAAAAgOzFQAAAAACAK99AAAAAAIAg+EAAAAAAJPoSQQAAAAAAI7xAAAAAgDTOT0EAAAAASNcEQQAAAADATNpAAAAAgAvrQEEAAAAAaVgwQQAAAIC+EFlBAAAAABjGA0EAAACAfJByQQAAQD7mg9ZBAAAAgBS9QEEAAAAA/EAyQQAAAEAQAFNBAAAAoG4Ci0EAAAAAYAPqQAAAAAA8YhZBAAAAAMUsOEEAAAAoe9KAQQAAAABIyANBAAAA8LdsfUEAAAAAYN3vQAAAAOGPMbxBAAAAAABC2kAAAAAAFKcnQQAAAADKjipBAAAA6AJpjEEAAAAAAJrDQAAAAAD9uDRBAAAAAABWoUAAAAAAAMm6QAAAAIAql0lBAAAAAADZuUAAAAAAFM00QQAAgBJBysRBAAAAAChoI0EAAAA4V4CuQQAAAMBEmWFBAAAAwJEBY0EAAAAAcAYTQQAAAAAAhsBAAAAAWKTqgEEAAABmpR6wQQAAAAAgzPFAAAAA9ApJp0EAAAAgarxiQQAAAADRBmVBAAAAAEQWHEEAAAAARi0nQQAAAIAStF9BAADAzNTO1kEAAAAAcKkLQQAAAIh/8IxBAAAAQOF6Z0EAAABYUe2BQQAAAACAGM9AAAAAAICi/UAAAAAACyVUQQ==",
          "dtype": "f8"
         },
         "y0": " ",
         "yaxis": "y2"
        },
        {
         "alignmentgroup": "True",
         "boxpoints": "all",
         "customdata": [
          [
           "s2_gavage-DNA"
          ],
          [
           "s4_gavage-DNA"
          ],
          [
           "s6_gavage-DNA"
          ],
          [
           "s8_gavage-DNA"
          ],
          [
           "NTC_H3_NTC"
          ],
          [
           "WATER_B3_WATER"
          ],
          [
           "WATER_C6_WATER"
          ],
          [
           "WATER_D2_WATER"
          ],
          [
           "WATER_F9_WATER"
          ],
          [
           "s100_SI-DNA"
          ],
          [
           "s101_SI-DNA"
          ],
          [
           "s102_SI-DNA"
          ],
          [
           "s103_SI-DNA"
          ],
          [
           "s104_SI-DNA"
          ],
          [
           "s105_SI-DNA"
          ],
          [
           "s106_SI-DNA"
          ],
          [
           "s109_Cecum-DNA"
          ],
          [
           "s110_Cecum-DNA"
          ],
          [
           "s111_Cecum-DNA"
          ],
          [
           "s112_Cecum-DNA"
          ],
          [
           "s113_Cecum-DNA"
          ],
          [
           "s114_Cecum-DNA"
          ],
          [
           "s115_Cecum-DNA"
          ],
          [
           "s116_Cecum-DNA"
          ],
          [
           "s119_Pr.-Colon-DNA"
          ],
          [
           "s120_Pr.-Colon-DNA"
          ],
          [
           "s121_Pr.-Colon-DNA"
          ],
          [
           "s122_Pr.-Colon-DNA"
          ],
          [
           "s123_Pr.-Colon-DNA"
          ],
          [
           "s124_Pr.-Colon-DNA"
          ],
          [
           "s125_Pr.-Colon-DNA"
          ],
          [
           "s126_Pr.-Colon-DNA"
          ],
          [
           "s19_stool-DNA"
          ],
          [
           "s20_stool-DNA"
          ],
          [
           "s21_stool-DNA"
          ],
          [
           "s22_stool-DNA"
          ],
          [
           "s23_stool-DNA"
          ],
          [
           "s24_stool-DNA"
          ],
          [
           "s25_stool-DNA"
          ],
          [
           "s26_stool-DNA"
          ],
          [
           "s29_stool-DNA"
          ],
          [
           "s30_stool-DNA"
          ],
          [
           "s31_stool-DNA"
          ],
          [
           "s32_stool-DNA"
          ],
          [
           "s33_stool-DNA"
          ],
          [
           "s34_stool-DNA"
          ],
          [
           "s35_stool-DNA"
          ],
          [
           "s36_stool-DNA"
          ],
          [
           "s39_stool-DNA"
          ],
          [
           "s40_stool-DNA"
          ],
          [
           "s41_stool-DNA"
          ],
          [
           "s42_stool-DNA"
          ],
          [
           "s43_stool-DNA"
          ],
          [
           "s44_stool-DNA"
          ],
          [
           "s45_stool-DNA"
          ],
          [
           "s46_stool-DNA"
          ],
          [
           "s49_stool-DNA"
          ],
          [
           "s50_stool-DNA"
          ],
          [
           "s51_stool-DNA"
          ],
          [
           "s52_stool-DNA"
          ],
          [
           "s53_stool-DNA"
          ],
          [
           "s54_stool-DNA"
          ],
          [
           "s55_stool-DNA"
          ],
          [
           "s56_stool-DNA"
          ],
          [
           "s99_SI-DNA"
          ]
         ],
         "hovertemplate": "strain=ST5<br>type=total_unique_umi<br>sample_type=%{x}<br>value=%{y}<br>sample=%{customdata[0]}<extra></extra>",
         "legendgroup": "ST5",
         "marker": {
          "color": "#2CA02C"
         },
         "name": "ST5",
         "notched": false,
         "offsetgroup": "ST5",
         "orientation": "v",
         "showlegend": false,
         "type": "box",
         "x": [
          "gavage",
          "gavage",
          "gavage",
          "gavage",
          "negative_control",
          "negative_control",
          "negative_control",
          "negative_control",
          "negative_control",
          "sample",
          "sample",
          "sample",
          "sample",
          "sample",
          "sample",
          "sample",
          "sample",
          "sample",
          "sample",
          "sample",
          "sample",
          "sample",
          "sample",
          "sample",
          "sample",
          "sample",
          "sample",
          "sample",
          "sample",
          "sample",
          "sample",
          "sample",
          "sample",
          "sample",
          "sample",
          "sample",
          "sample",
          "sample",
          "sample",
          "sample",
          "sample",
          "sample",
          "sample",
          "sample",
          "sample",
          "sample",
          "sample",
          "sample",
          "sample",
          "sample",
          "sample",
          "sample",
          "sample",
          "sample",
          "sample",
          "sample",
          "sample",
          "sample",
          "sample",
          "sample",
          "sample",
          "sample",
          "sample",
          "sample",
          "sample"
         ],
         "x0": " ",
         "xaxis": "x",
         "y": {
          "bdata": "AAAAAFgeBkEAAAAAgATBQAAAAAAAqI9AAAAAAABKrEAAAAAAALBwQAAAAAAAuI5AAAAAAACgw0AAAAAAoKPgQAAAAAAAAGNAAAAAAIAS10AAAAAAAICRQAAAAAAAEIdAAAAAAADgcEAAAAAAAABbQAAAAAAAIG1AAAAAAAAQcUAAAAAAgGDOQAAAAADQ8fJAAAAAAAAeo0AAAAAAAKShQAAAAAAAUHRAAAAAAADgc0AAAAAAADBxQAAAAAAAQHdAAAAAAABIyUAAAAAA4B7tQAAAAAAALqRAAAAAAADapUAAAAAAAHBwQAAAAAAAsHFAAAAAAABAc0AAAAAAAAB5QAAAAAAAP7ZAAAAAAIAm4kAAAAAAAHyWQAAAAAAAOJxAAAAAAACAZEAAAAAAAABUQAAAAAAAwGtAAAAAAACATUAAAAAAQFXRQAAAAACgFe5AAAAAAABapUAAAAAAAFimQAAAAAAAEHJAAAAAAACAbkAAAAAAAJB+QAAAAAAAwFhAAAAAAID1zUAAAAAAYCDsQAAAAAAAyKRAAAAAAABspkAAAAAAABBzQAAAAAAAAHFAAAAAAADgekAAAAAAACB7QAAAAACAIdFAAAAAAFDi8EAAAAAAACqnQAAAAAAAlKhAAAAAAAAwc0AAAAAAAHBxQAAAAAAAcHtAAAAAAAAQfkAAAAAAAG6mQA==",
          "dtype": "f8"
         },
         "y0": " ",
         "yaxis": "y"
        },
        {
         "alignmentgroup": "True",
         "boxpoints": "all",
         "customdata": [
          [
           "s2_gavage-DNA"
          ],
          [
           "s4_gavage-DNA"
          ],
          [
           "s6_gavage-DNA"
          ],
          [
           "s8_gavage-DNA"
          ],
          [
           "NTC_H3_NTC"
          ],
          [
           "WATER_B3_WATER"
          ],
          [
           "WATER_C6_WATER"
          ],
          [
           "WATER_D2_WATER"
          ],
          [
           "WATER_F9_WATER"
          ],
          [
           "s100_SI-DNA"
          ],
          [
           "s101_SI-DNA"
          ],
          [
           "s102_SI-DNA"
          ],
          [
           "s103_SI-DNA"
          ],
          [
           "s104_SI-DNA"
          ],
          [
           "s105_SI-DNA"
          ],
          [
           "s106_SI-DNA"
          ],
          [
           "s109_Cecum-DNA"
          ],
          [
           "s110_Cecum-DNA"
          ],
          [
           "s111_Cecum-DNA"
          ],
          [
           "s112_Cecum-DNA"
          ],
          [
           "s113_Cecum-DNA"
          ],
          [
           "s114_Cecum-DNA"
          ],
          [
           "s115_Cecum-DNA"
          ],
          [
           "s116_Cecum-DNA"
          ],
          [
           "s119_Pr.-Colon-DNA"
          ],
          [
           "s120_Pr.-Colon-DNA"
          ],
          [
           "s121_Pr.-Colon-DNA"
          ],
          [
           "s122_Pr.-Colon-DNA"
          ],
          [
           "s123_Pr.-Colon-DNA"
          ],
          [
           "s124_Pr.-Colon-DNA"
          ],
          [
           "s125_Pr.-Colon-DNA"
          ],
          [
           "s126_Pr.-Colon-DNA"
          ],
          [
           "s19_stool-DNA"
          ],
          [
           "s20_stool-DNA"
          ],
          [
           "s21_stool-DNA"
          ],
          [
           "s22_stool-DNA"
          ],
          [
           "s25_stool-DNA"
          ],
          [
           "s26_stool-DNA"
          ],
          [
           "s29_stool-DNA"
          ],
          [
           "s30_stool-DNA"
          ],
          [
           "s31_stool-DNA"
          ],
          [
           "s32_stool-DNA"
          ],
          [
           "s33_stool-DNA"
          ],
          [
           "s34_stool-DNA"
          ],
          [
           "s35_stool-DNA"
          ],
          [
           "s36_stool-DNA"
          ],
          [
           "s39_stool-DNA"
          ],
          [
           "s40_stool-DNA"
          ],
          [
           "s41_stool-DNA"
          ],
          [
           "s42_stool-DNA"
          ],
          [
           "s43_stool-DNA"
          ],
          [
           "s44_stool-DNA"
          ],
          [
           "s45_stool-DNA"
          ],
          [
           "s46_stool-DNA"
          ],
          [
           "s49_stool-DNA"
          ],
          [
           "s50_stool-DNA"
          ],
          [
           "s51_stool-DNA"
          ],
          [
           "s52_stool-DNA"
          ],
          [
           "s53_stool-DNA"
          ],
          [
           "s54_stool-DNA"
          ],
          [
           "s55_stool-DNA"
          ],
          [
           "s56_stool-DNA"
          ],
          [
           "s99_SI-DNA"
          ]
         ],
         "hovertemplate": "strain=ST6<br>type=total_count<br>sample_type=%{x}<br>value=%{y}<br>sample=%{customdata[0]}<extra></extra>",
         "legendgroup": "ST6",
         "marker": {
          "color": "#D62728"
         },
         "name": "ST6",
         "notched": false,
         "offsetgroup": "ST6",
         "orientation": "v",
         "showlegend": true,
         "type": "box",
         "x": [
          "gavage",
          "gavage",
          "gavage",
          "gavage",
          "negative_control",
          "negative_control",
          "negative_control",
          "negative_control",
          "negative_control",
          "sample",
          "sample",
          "sample",
          "sample",
          "sample",
          "sample",
          "sample",
          "sample",
          "sample",
          "sample",
          "sample",
          "sample",
          "sample",
          "sample",
          "sample",
          "sample",
          "sample",
          "sample",
          "sample",
          "sample",
          "sample",
          "sample",
          "sample",
          "sample",
          "sample",
          "sample",
          "sample",
          "sample",
          "sample",
          "sample",
          "sample",
          "sample",
          "sample",
          "sample",
          "sample",
          "sample",
          "sample",
          "sample",
          "sample",
          "sample",
          "sample",
          "sample",
          "sample",
          "sample",
          "sample",
          "sample",
          "sample",
          "sample",
          "sample",
          "sample",
          "sample",
          "sample",
          "sample",
          "sample"
         ],
         "x0": " ",
         "xaxis": "x2",
         "y": {
          "bdata": "AAAA8JEne0EAAAAAYFsKQQAAAACAxdJAAAAAAMzHEUEAAAAAAIBXQAAAAAAA+bhAAAAAAAAASkAAAAAAwKXhQAAAAAAAuIFAAAAAAADIv0AAAAAAAIBMQAAAAAAAAPA/AAAAAADwdkAAAAAAAEiAQAAAAAAA+LtAAAAAAADAU0AAAAAAgLXYQAAAAAAARN5AAAAAAACIiUAAAAAAAAAQQAAAAAAAUIxAAAAAAACUl0AAAAAAAHqnQAAAAACAD8xAAAAAAMBg1kAAAAAAAGBiQAAAAAAAgItAAAAAAABAUEAAAAAAAACDQAAAAAAAwFFAAAAAAADQgEAAAAAAANSnQAAAAAAAaKpAAAAAACDa7UAAAAAAAAAYQAAAAAAAABxAAAAAAEAW2kAAAAAAAADwPwAAAADwKxFBAAAAAIi/G0EAAAAAwGnQQAAAAAAwx/dAAAAAAACLx0AAAAAAAKCGQAAAAACgUO1AAAAAAAAAOEAAAAAAYPvgQAAAAABA3dBAAAAAAACAQUAAAAAAAMCSQAAAAAAAUIFAAAAAAADwgkAAAAAA4C7nQAAAAAAArqlAAAAAAICsxUAAAAAA4AbzQAAAAAAAmJhAAAAAAAAMxEAAAAAAALKpQAAAAAAAQFpAAAAAAADgekAAAAAAAICfQAAAAAAAC7BA",
          "dtype": "f8"
         },
         "y0": " ",
         "yaxis": "y2"
        },
        {
         "alignmentgroup": "True",
         "boxpoints": "all",
         "customdata": [
          [
           "s2_gavage-DNA"
          ],
          [
           "s4_gavage-DNA"
          ],
          [
           "s6_gavage-DNA"
          ],
          [
           "s8_gavage-DNA"
          ],
          [
           "NTC_H3_NTC"
          ],
          [
           "WATER_B3_WATER"
          ],
          [
           "WATER_C6_WATER"
          ],
          [
           "WATER_D2_WATER"
          ],
          [
           "WATER_F9_WATER"
          ],
          [
           "s100_SI-DNA"
          ],
          [
           "s101_SI-DNA"
          ],
          [
           "s102_SI-DNA"
          ],
          [
           "s103_SI-DNA"
          ],
          [
           "s104_SI-DNA"
          ],
          [
           "s105_SI-DNA"
          ],
          [
           "s106_SI-DNA"
          ],
          [
           "s109_Cecum-DNA"
          ],
          [
           "s110_Cecum-DNA"
          ],
          [
           "s111_Cecum-DNA"
          ],
          [
           "s112_Cecum-DNA"
          ],
          [
           "s113_Cecum-DNA"
          ],
          [
           "s114_Cecum-DNA"
          ],
          [
           "s115_Cecum-DNA"
          ],
          [
           "s116_Cecum-DNA"
          ],
          [
           "s119_Pr.-Colon-DNA"
          ],
          [
           "s120_Pr.-Colon-DNA"
          ],
          [
           "s121_Pr.-Colon-DNA"
          ],
          [
           "s122_Pr.-Colon-DNA"
          ],
          [
           "s123_Pr.-Colon-DNA"
          ],
          [
           "s124_Pr.-Colon-DNA"
          ],
          [
           "s125_Pr.-Colon-DNA"
          ],
          [
           "s126_Pr.-Colon-DNA"
          ],
          [
           "s19_stool-DNA"
          ],
          [
           "s20_stool-DNA"
          ],
          [
           "s21_stool-DNA"
          ],
          [
           "s22_stool-DNA"
          ],
          [
           "s25_stool-DNA"
          ],
          [
           "s26_stool-DNA"
          ],
          [
           "s29_stool-DNA"
          ],
          [
           "s30_stool-DNA"
          ],
          [
           "s31_stool-DNA"
          ],
          [
           "s32_stool-DNA"
          ],
          [
           "s33_stool-DNA"
          ],
          [
           "s34_stool-DNA"
          ],
          [
           "s35_stool-DNA"
          ],
          [
           "s36_stool-DNA"
          ],
          [
           "s39_stool-DNA"
          ],
          [
           "s40_stool-DNA"
          ],
          [
           "s41_stool-DNA"
          ],
          [
           "s42_stool-DNA"
          ],
          [
           "s43_stool-DNA"
          ],
          [
           "s44_stool-DNA"
          ],
          [
           "s45_stool-DNA"
          ],
          [
           "s46_stool-DNA"
          ],
          [
           "s49_stool-DNA"
          ],
          [
           "s50_stool-DNA"
          ],
          [
           "s51_stool-DNA"
          ],
          [
           "s52_stool-DNA"
          ],
          [
           "s53_stool-DNA"
          ],
          [
           "s54_stool-DNA"
          ],
          [
           "s55_stool-DNA"
          ],
          [
           "s56_stool-DNA"
          ],
          [
           "s99_SI-DNA"
          ]
         ],
         "hovertemplate": "strain=ST6<br>type=total_unique_umi<br>sample_type=%{x}<br>value=%{y}<br>sample=%{customdata[0]}<extra></extra>",
         "legendgroup": "ST6",
         "marker": {
          "color": "#D62728"
         },
         "name": "ST6",
         "notched": false,
         "offsetgroup": "ST6",
         "orientation": "v",
         "showlegend": false,
         "type": "box",
         "x": [
          "gavage",
          "gavage",
          "gavage",
          "gavage",
          "negative_control",
          "negative_control",
          "negative_control",
          "negative_control",
          "negative_control",
          "sample",
          "sample",
          "sample",
          "sample",
          "sample",
          "sample",
          "sample",
          "sample",
          "sample",
          "sample",
          "sample",
          "sample",
          "sample",
          "sample",
          "sample",
          "sample",
          "sample",
          "sample",
          "sample",
          "sample",
          "sample",
          "sample",
          "sample",
          "sample",
          "sample",
          "sample",
          "sample",
          "sample",
          "sample",
          "sample",
          "sample",
          "sample",
          "sample",
          "sample",
          "sample",
          "sample",
          "sample",
          "sample",
          "sample",
          "sample",
          "sample",
          "sample",
          "sample",
          "sample",
          "sample",
          "sample",
          "sample",
          "sample",
          "sample",
          "sample",
          "sample",
          "sample",
          "sample",
          "sample"
         ],
         "x0": " ",
         "xaxis": "x",
         "y": {
          "bdata": "AAAAAKDnE0EAAAAAAIbBQAAAAAAAEHtAAAAAAAA2pkAAAAAAAAA6QAAAAAAAADNAAAAAAAAAOEAAAAAAAOB6QAAAAAAAABBAAAAAAAAAPkAAAAAAAAAUQAAAAAAAAPA/AAAAAAAAFEAAAAAAAAAIQAAAAAAAAC5AAAAAAAAAJkAAAAAAAIBKQAAAAAAAAEhAAAAAAAAAIEAAAAAAAAAIQAAAAAAAAC5AAAAAAAAAPEAAAAAAAAA5QAAAAAAAADVAAAAAAAAANkAAAAAAAAA2QAAAAAAAABBAAAAAAAAAEEAAAAAAAADwPwAAAAAAAPA/AAAAAAAANUAAAAAAAAAzQAAAAAAAAERAAAAAAACAQUAAAAAAAAAQQAAAAAAAAPA/AAAAAAAAKkAAAAAAAADwPwAAAAAAPsRAAAAAAAAquEAAAAAAAAiWQAAAAAAAiI5AAAAAAAAASkAAAAAAAIBHQAAAAAAAIIBAAAAAAAAAJEAAAAAAAIBBQAAAAAAAgEhAAAAAAAAAJEAAAAAAAAAcQAAAAAAAACJAAAAAAAAAJEAAAAAAAAA5QAAAAAAAAD9AAAAAAACIgkAAAAAAAMB/QAAAAAAAAIJAAAAAAAAQf0AAAAAAAAA0QAAAAAAAADBAAAAAAABAWUAAAAAAAEBaQAAAAAAAADhA",
          "dtype": "f8"
         },
         "y0": " ",
         "yaxis": "y"
        },
        {
         "alignmentgroup": "True",
         "boxpoints": "all",
         "customdata": [
          [
           "s9_gavage-DNA"
          ],
          [
           "NTC_H3_NTC"
          ],
          [
           "WATER_B3_WATER"
          ],
          [
           "WATER_C6_WATER"
          ],
          [
           "WATER_D2_WATER"
          ],
          [
           "WATER_F9_WATER"
          ],
          [
           "s107_SI-DNA"
          ],
          [
           "s108_SI-DNA"
          ],
          [
           "s117_Cecum-DNA"
          ],
          [
           "s118_Cecum-DNA"
          ],
          [
           "s127_Pr.-Colon-DNA"
          ],
          [
           "s128_Pr.-Colon-DNA"
          ],
          [
           "s27_stool-DNA"
          ],
          [
           "s28_stool-DNA"
          ],
          [
           "s37_stool-DNA"
          ],
          [
           "s38_stool-DNA"
          ],
          [
           "s47_stool-DNA"
          ],
          [
           "s48_stool-DNA"
          ],
          [
           "s57_stool-DNA"
          ],
          [
           "s58_stool-DNA"
          ]
         ],
         "hovertemplate": "strain=ST4<br>type=total_count<br>sample_type=%{x}<br>value=%{y}<br>sample=%{customdata[0]}<extra></extra>",
         "legendgroup": "ST4",
         "marker": {
          "color": "#9467BD"
         },
         "name": "ST4",
         "notched": false,
         "offsetgroup": "ST4",
         "orientation": "v",
         "showlegend": true,
         "type": "box",
         "x": [
          "gavage",
          "negative_control",
          "negative_control",
          "negative_control",
          "negative_control",
          "negative_control",
          "sample",
          "sample",
          "sample",
          "sample",
          "sample",
          "sample",
          "sample",
          "sample",
          "sample",
          "sample",
          "sample",
          "sample",
          "sample",
          "sample"
         ],
         "x0": " ",
         "xaxis": "x2",
         "y": {
          "bdata": "AAAA8Hn8q0EAAAAAQCjdQAAAAACAON5AAAAAAEAyGUEAAAAAUB8uQQAAAACAGdtAAAAAwHnLtEEAAADQKtJwQQAAgKhMgNFBAAAAbMXvwEEAAEDod6DUQQAAICPE1uBBAAAAAJPFPUEAAABmf32jQQAAAK3axMxBAACARCilxkEAAAAZ39fUQQAAgEEajMdBAABAT/4Z40EAAEBRL47QQQ==",
          "dtype": "f8"
         },
         "y0": " ",
         "yaxis": "y2"
        },
        {
         "alignmentgroup": "True",
         "boxpoints": "all",
         "customdata": [
          [
           "s9_gavage-DNA"
          ],
          [
           "NTC_H3_NTC"
          ],
          [
           "WATER_B3_WATER"
          ],
          [
           "WATER_C6_WATER"
          ],
          [
           "WATER_D2_WATER"
          ],
          [
           "WATER_F9_WATER"
          ],
          [
           "s107_SI-DNA"
          ],
          [
           "s108_SI-DNA"
          ],
          [
           "s117_Cecum-DNA"
          ],
          [
           "s118_Cecum-DNA"
          ],
          [
           "s127_Pr.-Colon-DNA"
          ],
          [
           "s128_Pr.-Colon-DNA"
          ],
          [
           "s27_stool-DNA"
          ],
          [
           "s28_stool-DNA"
          ],
          [
           "s37_stool-DNA"
          ],
          [
           "s38_stool-DNA"
          ],
          [
           "s47_stool-DNA"
          ],
          [
           "s48_stool-DNA"
          ],
          [
           "s57_stool-DNA"
          ],
          [
           "s58_stool-DNA"
          ]
         ],
         "hovertemplate": "strain=ST4<br>type=total_unique_umi<br>sample_type=%{x}<br>value=%{y}<br>sample=%{customdata[0]}<extra></extra>",
         "legendgroup": "ST4",
         "marker": {
          "color": "#9467BD"
         },
         "name": "ST4",
         "notched": false,
         "offsetgroup": "ST4",
         "orientation": "v",
         "showlegend": false,
         "type": "box",
         "x": [
          "gavage",
          "negative_control",
          "negative_control",
          "negative_control",
          "negative_control",
          "negative_control",
          "sample",
          "sample",
          "sample",
          "sample",
          "sample",
          "sample",
          "sample",
          "sample",
          "sample",
          "sample",
          "sample",
          "sample",
          "sample",
          "sample"
         ],
         "x0": " ",
         "xaxis": "x",
         "y": {
          "bdata": "AAAAALDsAkEAAAAAAOibQAAAAAAAmJBAAAAAAABLwkAAAAAAAHrAQAAAAAAAoqVAAAAAACDx6EAAAAAAYKHqQAAAAADANO1AAAAAAMBf60AAAAAAwEDtQAAAAAAg4etAAAAAAICmzEAAAAAAwBjWQAAAAACg9O1AAAAAAGBP70AAAAAAoO/sQAAAAABgde9AAAAAAMDc7UAAAAAAQJ/vQA==",
          "dtype": "f8"
         },
         "y0": " ",
         "yaxis": "y"
        }
       ],
       "layout": {
        "annotations": [
         {
          "font": {},
          "showarrow": false,
          "text": "type=total_unique_umi",
          "textangle": 90,
          "x": 0.98,
          "xanchor": "left",
          "xref": "paper",
          "y": 0.2425,
          "yanchor": "middle",
          "yref": "paper"
         },
         {
          "font": {},
          "showarrow": false,
          "text": "type=total_count",
          "textangle": 90,
          "x": 0.98,
          "xanchor": "left",
          "xref": "paper",
          "y": 0.7575000000000001,
          "yanchor": "middle",
          "yref": "paper"
         }
        ],
        "boxmode": "group",
        "legend": {
         "title": {
          "text": "strain"
         },
         "tracegroupgap": 0
        },
        "margin": {
         "t": 60
        },
        "template": {
         "data": {
          "bar": [
           {
            "error_x": {
             "color": "rgb(36,36,36)"
            },
            "error_y": {
             "color": "rgb(36,36,36)"
            },
            "marker": {
             "line": {
              "color": "white",
              "width": 0.5
             },
             "pattern": {
              "fillmode": "overlay",
              "size": 10,
              "solidity": 0.2
             }
            },
            "type": "bar"
           }
          ],
          "barpolar": [
           {
            "marker": {
             "line": {
              "color": "white",
              "width": 0.5
             },
             "pattern": {
              "fillmode": "overlay",
              "size": 10,
              "solidity": 0.2
             }
            },
            "type": "barpolar"
           }
          ],
          "carpet": [
           {
            "aaxis": {
             "endlinecolor": "rgb(36,36,36)",
             "gridcolor": "white",
             "linecolor": "white",
             "minorgridcolor": "white",
             "startlinecolor": "rgb(36,36,36)"
            },
            "baxis": {
             "endlinecolor": "rgb(36,36,36)",
             "gridcolor": "white",
             "linecolor": "white",
             "minorgridcolor": "white",
             "startlinecolor": "rgb(36,36,36)"
            },
            "type": "carpet"
           }
          ],
          "choropleth": [
           {
            "colorbar": {
             "outlinewidth": 1,
             "tickcolor": "rgb(36,36,36)",
             "ticks": "outside"
            },
            "type": "choropleth"
           }
          ],
          "contour": [
           {
            "colorbar": {
             "outlinewidth": 1,
             "tickcolor": "rgb(36,36,36)",
             "ticks": "outside"
            },
            "colorscale": [
             [
              0,
              "#440154"
             ],
             [
              0.1111111111111111,
              "#482878"
             ],
             [
              0.2222222222222222,
              "#3e4989"
             ],
             [
              0.3333333333333333,
              "#31688e"
             ],
             [
              0.4444444444444444,
              "#26828e"
             ],
             [
              0.5555555555555556,
              "#1f9e89"
             ],
             [
              0.6666666666666666,
              "#35b779"
             ],
             [
              0.7777777777777778,
              "#6ece58"
             ],
             [
              0.8888888888888888,
              "#b5de2b"
             ],
             [
              1,
              "#fde725"
             ]
            ],
            "type": "contour"
           }
          ],
          "contourcarpet": [
           {
            "colorbar": {
             "outlinewidth": 1,
             "tickcolor": "rgb(36,36,36)",
             "ticks": "outside"
            },
            "type": "contourcarpet"
           }
          ],
          "heatmap": [
           {
            "colorbar": {
             "outlinewidth": 1,
             "tickcolor": "rgb(36,36,36)",
             "ticks": "outside"
            },
            "colorscale": [
             [
              0,
              "#440154"
             ],
             [
              0.1111111111111111,
              "#482878"
             ],
             [
              0.2222222222222222,
              "#3e4989"
             ],
             [
              0.3333333333333333,
              "#31688e"
             ],
             [
              0.4444444444444444,
              "#26828e"
             ],
             [
              0.5555555555555556,
              "#1f9e89"
             ],
             [
              0.6666666666666666,
              "#35b779"
             ],
             [
              0.7777777777777778,
              "#6ece58"
             ],
             [
              0.8888888888888888,
              "#b5de2b"
             ],
             [
              1,
              "#fde725"
             ]
            ],
            "type": "heatmap"
           }
          ],
          "histogram": [
           {
            "marker": {
             "line": {
              "color": "white",
              "width": 0.6
             }
            },
            "type": "histogram"
           }
          ],
          "histogram2d": [
           {
            "colorbar": {
             "outlinewidth": 1,
             "tickcolor": "rgb(36,36,36)",
             "ticks": "outside"
            },
            "colorscale": [
             [
              0,
              "#440154"
             ],
             [
              0.1111111111111111,
              "#482878"
             ],
             [
              0.2222222222222222,
              "#3e4989"
             ],
             [
              0.3333333333333333,
              "#31688e"
             ],
             [
              0.4444444444444444,
              "#26828e"
             ],
             [
              0.5555555555555556,
              "#1f9e89"
             ],
             [
              0.6666666666666666,
              "#35b779"
             ],
             [
              0.7777777777777778,
              "#6ece58"
             ],
             [
              0.8888888888888888,
              "#b5de2b"
             ],
             [
              1,
              "#fde725"
             ]
            ],
            "type": "histogram2d"
           }
          ],
          "histogram2dcontour": [
           {
            "colorbar": {
             "outlinewidth": 1,
             "tickcolor": "rgb(36,36,36)",
             "ticks": "outside"
            },
            "colorscale": [
             [
              0,
              "#440154"
             ],
             [
              0.1111111111111111,
              "#482878"
             ],
             [
              0.2222222222222222,
              "#3e4989"
             ],
             [
              0.3333333333333333,
              "#31688e"
             ],
             [
              0.4444444444444444,
              "#26828e"
             ],
             [
              0.5555555555555556,
              "#1f9e89"
             ],
             [
              0.6666666666666666,
              "#35b779"
             ],
             [
              0.7777777777777778,
              "#6ece58"
             ],
             [
              0.8888888888888888,
              "#b5de2b"
             ],
             [
              1,
              "#fde725"
             ]
            ],
            "type": "histogram2dcontour"
           }
          ],
          "mesh3d": [
           {
            "colorbar": {
             "outlinewidth": 1,
             "tickcolor": "rgb(36,36,36)",
             "ticks": "outside"
            },
            "type": "mesh3d"
           }
          ],
          "parcoords": [
           {
            "line": {
             "colorbar": {
              "outlinewidth": 1,
              "tickcolor": "rgb(36,36,36)",
              "ticks": "outside"
             }
            },
            "type": "parcoords"
           }
          ],
          "pie": [
           {
            "automargin": true,
            "type": "pie"
           }
          ],
          "scatter": [
           {
            "fillpattern": {
             "fillmode": "overlay",
             "size": 10,
             "solidity": 0.2
            },
            "type": "scatter"
           }
          ],
          "scatter3d": [
           {
            "line": {
             "colorbar": {
              "outlinewidth": 1,
              "tickcolor": "rgb(36,36,36)",
              "ticks": "outside"
             }
            },
            "marker": {
             "colorbar": {
              "outlinewidth": 1,
              "tickcolor": "rgb(36,36,36)",
              "ticks": "outside"
             }
            },
            "type": "scatter3d"
           }
          ],
          "scattercarpet": [
           {
            "marker": {
             "colorbar": {
              "outlinewidth": 1,
              "tickcolor": "rgb(36,36,36)",
              "ticks": "outside"
             }
            },
            "type": "scattercarpet"
           }
          ],
          "scattergeo": [
           {
            "marker": {
             "colorbar": {
              "outlinewidth": 1,
              "tickcolor": "rgb(36,36,36)",
              "ticks": "outside"
             }
            },
            "type": "scattergeo"
           }
          ],
          "scattergl": [
           {
            "marker": {
             "colorbar": {
              "outlinewidth": 1,
              "tickcolor": "rgb(36,36,36)",
              "ticks": "outside"
             }
            },
            "type": "scattergl"
           }
          ],
          "scattermap": [
           {
            "marker": {
             "colorbar": {
              "outlinewidth": 1,
              "tickcolor": "rgb(36,36,36)",
              "ticks": "outside"
             }
            },
            "type": "scattermap"
           }
          ],
          "scattermapbox": [
           {
            "marker": {
             "colorbar": {
              "outlinewidth": 1,
              "tickcolor": "rgb(36,36,36)",
              "ticks": "outside"
             }
            },
            "type": "scattermapbox"
           }
          ],
          "scatterpolar": [
           {
            "marker": {
             "colorbar": {
              "outlinewidth": 1,
              "tickcolor": "rgb(36,36,36)",
              "ticks": "outside"
             }
            },
            "type": "scatterpolar"
           }
          ],
          "scatterpolargl": [
           {
            "marker": {
             "colorbar": {
              "outlinewidth": 1,
              "tickcolor": "rgb(36,36,36)",
              "ticks": "outside"
             }
            },
            "type": "scatterpolargl"
           }
          ],
          "scatterternary": [
           {
            "marker": {
             "colorbar": {
              "outlinewidth": 1,
              "tickcolor": "rgb(36,36,36)",
              "ticks": "outside"
             }
            },
            "type": "scatterternary"
           }
          ],
          "surface": [
           {
            "colorbar": {
             "outlinewidth": 1,
             "tickcolor": "rgb(36,36,36)",
             "ticks": "outside"
            },
            "colorscale": [
             [
              0,
              "#440154"
             ],
             [
              0.1111111111111111,
              "#482878"
             ],
             [
              0.2222222222222222,
              "#3e4989"
             ],
             [
              0.3333333333333333,
              "#31688e"
             ],
             [
              0.4444444444444444,
              "#26828e"
             ],
             [
              0.5555555555555556,
              "#1f9e89"
             ],
             [
              0.6666666666666666,
              "#35b779"
             ],
             [
              0.7777777777777778,
              "#6ece58"
             ],
             [
              0.8888888888888888,
              "#b5de2b"
             ],
             [
              1,
              "#fde725"
             ]
            ],
            "type": "surface"
           }
          ],
          "table": [
           {
            "cells": {
             "fill": {
              "color": "rgb(237,237,237)"
             },
             "line": {
              "color": "white"
             }
            },
            "header": {
             "fill": {
              "color": "rgb(217,217,217)"
             },
             "line": {
              "color": "white"
             }
            },
            "type": "table"
           }
          ]
         },
         "layout": {
          "annotationdefaults": {
           "arrowhead": 0,
           "arrowwidth": 1
          },
          "autotypenumbers": "strict",
          "coloraxis": {
           "colorbar": {
            "outlinewidth": 1,
            "tickcolor": "rgb(36,36,36)",
            "ticks": "outside"
           }
          },
          "colorscale": {
           "diverging": [
            [
             0,
             "rgb(103,0,31)"
            ],
            [
             0.1,
             "rgb(178,24,43)"
            ],
            [
             0.2,
             "rgb(214,96,77)"
            ],
            [
             0.3,
             "rgb(244,165,130)"
            ],
            [
             0.4,
             "rgb(253,219,199)"
            ],
            [
             0.5,
             "rgb(247,247,247)"
            ],
            [
             0.6,
             "rgb(209,229,240)"
            ],
            [
             0.7,
             "rgb(146,197,222)"
            ],
            [
             0.8,
             "rgb(67,147,195)"
            ],
            [
             0.9,
             "rgb(33,102,172)"
            ],
            [
             1,
             "rgb(5,48,97)"
            ]
           ],
           "sequential": [
            [
             0,
             "#440154"
            ],
            [
             0.1111111111111111,
             "#482878"
            ],
            [
             0.2222222222222222,
             "#3e4989"
            ],
            [
             0.3333333333333333,
             "#31688e"
            ],
            [
             0.4444444444444444,
             "#26828e"
            ],
            [
             0.5555555555555556,
             "#1f9e89"
            ],
            [
             0.6666666666666666,
             "#35b779"
            ],
            [
             0.7777777777777778,
             "#6ece58"
            ],
            [
             0.8888888888888888,
             "#b5de2b"
            ],
            [
             1,
             "#fde725"
            ]
           ],
           "sequentialminus": [
            [
             0,
             "#440154"
            ],
            [
             0.1111111111111111,
             "#482878"
            ],
            [
             0.2222222222222222,
             "#3e4989"
            ],
            [
             0.3333333333333333,
             "#31688e"
            ],
            [
             0.4444444444444444,
             "#26828e"
            ],
            [
             0.5555555555555556,
             "#1f9e89"
            ],
            [
             0.6666666666666666,
             "#35b779"
            ],
            [
             0.7777777777777778,
             "#6ece58"
            ],
            [
             0.8888888888888888,
             "#b5de2b"
            ],
            [
             1,
             "#fde725"
            ]
           ]
          },
          "colorway": [
           "#1F77B4",
           "#FF7F0E",
           "#2CA02C",
           "#D62728",
           "#9467BD",
           "#8C564B",
           "#E377C2",
           "#7F7F7F",
           "#BCBD22",
           "#17BECF"
          ],
          "font": {
           "color": "rgb(36,36,36)"
          },
          "geo": {
           "bgcolor": "white",
           "lakecolor": "white",
           "landcolor": "white",
           "showlakes": true,
           "showland": true,
           "subunitcolor": "white"
          },
          "hoverlabel": {
           "align": "left"
          },
          "hovermode": "closest",
          "mapbox": {
           "style": "light"
          },
          "paper_bgcolor": "white",
          "plot_bgcolor": "white",
          "polar": {
           "angularaxis": {
            "gridcolor": "rgb(232,232,232)",
            "linecolor": "rgb(36,36,36)",
            "showgrid": false,
            "showline": true,
            "ticks": "outside"
           },
           "bgcolor": "white",
           "radialaxis": {
            "gridcolor": "rgb(232,232,232)",
            "linecolor": "rgb(36,36,36)",
            "showgrid": false,
            "showline": true,
            "ticks": "outside"
           }
          },
          "scene": {
           "xaxis": {
            "backgroundcolor": "white",
            "gridcolor": "rgb(232,232,232)",
            "gridwidth": 2,
            "linecolor": "rgb(36,36,36)",
            "showbackground": true,
            "showgrid": false,
            "showline": true,
            "ticks": "outside",
            "zeroline": false,
            "zerolinecolor": "rgb(36,36,36)"
           },
           "yaxis": {
            "backgroundcolor": "white",
            "gridcolor": "rgb(232,232,232)",
            "gridwidth": 2,
            "linecolor": "rgb(36,36,36)",
            "showbackground": true,
            "showgrid": false,
            "showline": true,
            "ticks": "outside",
            "zeroline": false,
            "zerolinecolor": "rgb(36,36,36)"
           },
           "zaxis": {
            "backgroundcolor": "white",
            "gridcolor": "rgb(232,232,232)",
            "gridwidth": 2,
            "linecolor": "rgb(36,36,36)",
            "showbackground": true,
            "showgrid": false,
            "showline": true,
            "ticks": "outside",
            "zeroline": false,
            "zerolinecolor": "rgb(36,36,36)"
           }
          },
          "shapedefaults": {
           "fillcolor": "black",
           "line": {
            "width": 0
           },
           "opacity": 0.3
          },
          "ternary": {
           "aaxis": {
            "gridcolor": "rgb(232,232,232)",
            "linecolor": "rgb(36,36,36)",
            "showgrid": false,
            "showline": true,
            "ticks": "outside"
           },
           "baxis": {
            "gridcolor": "rgb(232,232,232)",
            "linecolor": "rgb(36,36,36)",
            "showgrid": false,
            "showline": true,
            "ticks": "outside"
           },
           "bgcolor": "white",
           "caxis": {
            "gridcolor": "rgb(232,232,232)",
            "linecolor": "rgb(36,36,36)",
            "showgrid": false,
            "showline": true,
            "ticks": "outside"
           }
          },
          "title": {
           "x": 0.05
          },
          "xaxis": {
           "automargin": true,
           "gridcolor": "rgb(232,232,232)",
           "linecolor": "rgb(36,36,36)",
           "showgrid": false,
           "showline": true,
           "ticks": "outside",
           "title": {
            "standoff": 15
           },
           "zeroline": false,
           "zerolinecolor": "rgb(36,36,36)"
          },
          "yaxis": {
           "automargin": true,
           "gridcolor": "rgb(232,232,232)",
           "linecolor": "rgb(36,36,36)",
           "showgrid": false,
           "showline": true,
           "ticks": "outside",
           "title": {
            "standoff": 15
           },
           "zeroline": false,
           "zerolinecolor": "rgb(36,36,36)"
          }
         }
        },
        "width": 800,
        "xaxis": {
         "anchor": "y",
         "domain": [
          0,
          0.98
         ],
         "title": {
          "text": "sample_type"
         }
        },
        "xaxis2": {
         "anchor": "y2",
         "domain": [
          0,
          0.98
         ],
         "matches": "x",
         "showticklabels": false
        },
        "yaxis": {
         "anchor": "x",
         "domain": [
          0,
          0.485
         ],
         "title": {
          "text": "value"
         },
         "type": "log"
        },
        "yaxis2": {
         "anchor": "x2",
         "domain": [
          0.515,
          1
         ],
         "matches": "y",
         "title": {
          "text": "value"
         },
         "type": "log"
        }
       }
      }
     },
     "metadata": {},
     "output_type": "display_data"
    }
   ],
   "source": [
    "df_gavage_strains = df_gavage_stack.groupby(['sample_type', 'sample', 'strain']).agg(**agg_dict)\n",
    "\n",
    "df_gavage_strains = df_gavage_strains.reset_index()\n",
    "df_gavage_strains = df_gavage_strains.set_index(['sample_type', 'sample','strain']).stack()\n",
    "df_gavage_strains = df_gavage_strains.reset_index()\n",
    "display(df_gavage_strains)\n",
    "df_gavage_strains = df_gavage_strains.rename(columns = {'level_3':'type', 0:'value'})\n",
    "df_gavage_strains\n",
    "\n",
    "fig = px.box(df_gavage_strains,\n",
    "             x = 'sample_type',\n",
    "             y = 'value',\n",
    "             color = 'strain',\n",
    "             facet_row='type',\n",
    "             hover_data = ['sample'],\n",
    "             template = 'simple_white',\n",
    "             points = 'all',\n",
    "             log_y = True,\n",
    "             width = 800\n",
    "             )\n",
    "#for i, facet in fig.facets\n",
    "\n",
    "fig.show()\n"
   ]
  },
  {
   "cell_type": "markdown",
   "id": "d037f2e6",
   "metadata": {},
   "source": [
    "# P4C2T45"
   ]
  },
  {
   "cell_type": "code",
   "execution_count": 155,
   "id": "02e5d761",
   "metadata": {},
   "outputs": [
    {
     "name": "stdout",
     "output_type": "stream",
     "text": [
      "defaultdict(<class 'list'>, {'ST1': ['ST1_moleculestable.csv'], 'ST2': ['ST2_moleculestable.csv'], 'ST4': ['ST4_moleculestable.csv'], 'ST5': ['ST5_moleculestable.csv'], 'ST6': ['ST6_moleculestable.csv']})\n",
      "ST1 ['ST1_moleculestable.csv']\n",
      "ST2 ['ST2_moleculestable.csv']\n",
      "ST4 ['ST4_moleculestable.csv']\n",
      "ST5 ['ST5_moleculestable.csv']\n",
      "ST6 ['ST6_moleculestable.csv']\n",
      "defaultdict(<class 'list'>, {'ST1': ['ST1_onlygavage_moleculestable.csv'], 'ST2': ['ST2_onlygavage_moleculestable.csv'], 'ST4': ['ST4_onlygavage_moleculestable.csv'], 'ST5': ['ST5_onlygavage_moleculestable.csv'], 'ST6': ['ST6_onlygavage_moleculestable.csv']})\n",
      "ST1 ['ST1_onlygavage_moleculestable.csv']\n",
      "ST2 ['ST2_onlygavage_moleculestable.csv']\n",
      "ST4 ['ST4_onlygavage_moleculestable.csv']\n",
      "ST5 ['ST5_onlygavage_moleculestable.csv']\n",
      "ST6 ['ST6_onlygavage_moleculestable.csv']\n"
     ]
    }
   ],
   "source": [
    "df_total, df_gavageonly = get_readtables('/Volumes/sd/faith/MTCSB/projects/P4-barcoding_strains/r2_data/population-bottlenecks/fp_inputs/P4C2T4T5')\n"
   ]
  },
  {
   "cell_type": "code",
   "execution_count": 158,
   "id": "f6684c0c",
   "metadata": {},
   "outputs": [
    {
     "data": {
      "text/html": [
       "<div>\n",
       "<style scoped>\n",
       "    .dataframe tbody tr th:only-of-type {\n",
       "        vertical-align: middle;\n",
       "    }\n",
       "\n",
       "    .dataframe tbody tr th {\n",
       "        vertical-align: top;\n",
       "    }\n",
       "\n",
       "    .dataframe thead th {\n",
       "        text-align: right;\n",
       "    }\n",
       "</style>\n",
       "<table border=\"1\" class=\"dataframe\">\n",
       "  <thead>\n",
       "    <tr style=\"text-align: right;\">\n",
       "      <th></th>\n",
       "      <th>umi_seq</th>\n",
       "      <th>sample</th>\n",
       "      <th>counts</th>\n",
       "      <th>sample_type</th>\n",
       "      <th>strain</th>\n",
       "    </tr>\n",
       "  </thead>\n",
       "  <tbody>\n",
       "    <tr>\n",
       "      <th>3</th>\n",
       "      <td>ST6-AAAAAAACCATTTCGGGG</td>\n",
       "      <td>P4C2T4_s82-A5_Gavage-DNA</td>\n",
       "      <td>1.0</td>\n",
       "      <td>gavage</td>\n",
       "      <td>ST6</td>\n",
       "    </tr>\n",
       "    <tr>\n",
       "      <th>144</th>\n",
       "      <td>ST6-AAAAAAACCCAAATATCT</td>\n",
       "      <td>P4C2T4_s81-B8_Gavage-DNA</td>\n",
       "      <td>1.0</td>\n",
       "      <td>gavage</td>\n",
       "      <td>ST6</td>\n",
       "    </tr>\n",
       "    <tr>\n",
       "      <th>290</th>\n",
       "      <td>ST6-AAAAAAACTAAACCGAAA</td>\n",
       "      <td>P4C2T5_s121-F8_Gavage-DNA</td>\n",
       "      <td>3.0</td>\n",
       "      <td>gavage</td>\n",
       "      <td>ST6</td>\n",
       "    </tr>\n",
       "    <tr>\n",
       "      <th>430</th>\n",
       "      <td>ST6-AAAAAAAGTAAATTGACA</td>\n",
       "      <td>P4C2T4_s81-B8_Gavage-DNA</td>\n",
       "      <td>1.0</td>\n",
       "      <td>gavage</td>\n",
       "      <td>ST6</td>\n",
       "    </tr>\n",
       "    <tr>\n",
       "      <th>575</th>\n",
       "      <td>ST6-AAAAAACCCGCCGCCATA</td>\n",
       "      <td>P4C2T4_s82-A5_Gavage-DNA</td>\n",
       "      <td>1.0</td>\n",
       "      <td>gavage</td>\n",
       "      <td>ST6</td>\n",
       "    </tr>\n",
       "    <tr>\n",
       "      <th>...</th>\n",
       "      <td>...</td>\n",
       "      <td>...</td>\n",
       "      <td>...</td>\n",
       "      <td>...</td>\n",
       "      <td>...</td>\n",
       "    </tr>\n",
       "    <tr>\n",
       "      <th>345360581</th>\n",
       "      <td>ST1-TTGTCAACCATGTCACAG</td>\n",
       "      <td>NTC_G10_NTC</td>\n",
       "      <td>21.0</td>\n",
       "      <td>negative_control</td>\n",
       "      <td>ST1</td>\n",
       "    </tr>\n",
       "    <tr>\n",
       "      <th>345360727</th>\n",
       "      <td>ST1-TTTCAAACTAATGCGAAC</td>\n",
       "      <td>NTC_H5_NTC</td>\n",
       "      <td>31.0</td>\n",
       "      <td>negative_control</td>\n",
       "      <td>ST1</td>\n",
       "    </tr>\n",
       "    <tr>\n",
       "      <th>345360867</th>\n",
       "      <td>ST1-TTTCAACCTGCGACATAT</td>\n",
       "      <td>NTC_G10_NTC</td>\n",
       "      <td>168.0</td>\n",
       "      <td>negative_control</td>\n",
       "      <td>ST1</td>\n",
       "    </tr>\n",
       "    <tr>\n",
       "      <th>345361013</th>\n",
       "      <td>ST1-TTTCATATCGCGTTAGCA</td>\n",
       "      <td>NTC_H5_NTC</td>\n",
       "      <td>1.0</td>\n",
       "      <td>negative_control</td>\n",
       "      <td>ST1</td>\n",
       "    </tr>\n",
       "    <tr>\n",
       "      <th>345361156</th>\n",
       "      <td>ST1-TTTTACATTGCCTTGTAA</td>\n",
       "      <td>NTC_H5_NTC</td>\n",
       "      <td>25.0</td>\n",
       "      <td>negative_control</td>\n",
       "      <td>ST1</td>\n",
       "    </tr>\n",
       "  </tbody>\n",
       "</table>\n",
       "<p>6638821 rows × 5 columns</p>\n",
       "</div>"
      ],
      "text/plain": [
       "                          umi_seq                     sample  counts  \\\n",
       "3          ST6-AAAAAAACCATTTCGGGG   P4C2T4_s82-A5_Gavage-DNA     1.0   \n",
       "144        ST6-AAAAAAACCCAAATATCT   P4C2T4_s81-B8_Gavage-DNA     1.0   \n",
       "290        ST6-AAAAAAACTAAACCGAAA  P4C2T5_s121-F8_Gavage-DNA     3.0   \n",
       "430        ST6-AAAAAAAGTAAATTGACA   P4C2T4_s81-B8_Gavage-DNA     1.0   \n",
       "575        ST6-AAAAAACCCGCCGCCATA   P4C2T4_s82-A5_Gavage-DNA     1.0   \n",
       "...                           ...                        ...     ...   \n",
       "345360581  ST1-TTGTCAACCATGTCACAG                NTC_G10_NTC    21.0   \n",
       "345360727  ST1-TTTCAAACTAATGCGAAC                 NTC_H5_NTC    31.0   \n",
       "345360867  ST1-TTTCAACCTGCGACATAT                NTC_G10_NTC   168.0   \n",
       "345361013  ST1-TTTCATATCGCGTTAGCA                 NTC_H5_NTC     1.0   \n",
       "345361156  ST1-TTTTACATTGCCTTGTAA                 NTC_H5_NTC    25.0   \n",
       "\n",
       "                sample_type strain  \n",
       "3                    gavage    ST6  \n",
       "144                  gavage    ST6  \n",
       "290                  gavage    ST6  \n",
       "430                  gavage    ST6  \n",
       "575                  gavage    ST6  \n",
       "...                     ...    ...  \n",
       "345360581  negative_control    ST1  \n",
       "345360727  negative_control    ST1  \n",
       "345360867  negative_control    ST1  \n",
       "345361013  negative_control    ST1  \n",
       "345361156  negative_control    ST1  \n",
       "\n",
       "[6638821 rows x 5 columns]"
      ]
     },
     "execution_count": 158,
     "metadata": {},
     "output_type": "execute_result"
    }
   ],
   "source": [
    "df_total_stack = df_total.stack().reset_index()\n",
    "df_total_stack.columns = ['umi_seq', 'sample', 'counts']\n",
    "df_total_stack = df_total_stack.loc[df_total_stack['counts']>0].copy()\n",
    "df_total_stack['sample_type'] = df_total_stack['sample'].apply(\n",
    "                                                        lambda x: 'gavage' if 'Gavage' in x \n",
    "                                                        else ('negative_control' if ('WATER' in x or 'NTC' in x) \n",
    "                                                        else 'sample')\n",
    "                                                    )\n",
    "df_total_stack['strain'] = df_total_stack['umi_seq'].apply(lambda x: str(x).split('-')[0])\n",
    "df_total_stack\n",
    "df_total_stack"
   ]
  },
  {
   "cell_type": "code",
   "execution_count": 160,
   "id": "40918da6",
   "metadata": {},
   "outputs": [
    {
     "data": {
      "application/vnd.plotly.v1+json": {
       "config": {
        "plotlyServerURL": "https://plotly.com"
       },
       "data": [
        {
         "alignmentgroup": "True",
         "boxpoints": "all",
         "customdata": [
          [
           "P4C2T4_s81-B3_Gavage-DNA"
          ],
          [
           "P4C2T4_s81-B8_Gavage-DNA"
          ],
          [
           "P4C2T4_s82-A10_Gavage-DNA"
          ],
          [
           "P4C2T4_s82-A5_Gavage-DNA"
          ],
          [
           "P4C2T5_s121-F8_Gavage-DNA"
          ],
          [
           "P4C2T5_s122-G8_Gavage-DNA"
          ],
          [
           "NTC_F3_NTC"
          ],
          [
           "NTC_G10_NTC"
          ],
          [
           "NTC_G5_NTC"
          ],
          [
           "NTC_H10_NTC"
          ],
          [
           "NTC_H5_NTC"
          ],
          [
           "WATER_A2_WATER"
          ],
          [
           "WATER_A7_WATER"
          ],
          [
           "P4C2T4_s1-A1_stool-DNA"
          ],
          [
           "P4C2T4_s1-A6_stool-DNA"
          ],
          [
           "P4C2T4_s11-F1_stool-DNA"
          ],
          [
           "P4C2T4_s11-F6_stool-DNA"
          ],
          [
           "P4C2T4_s13-G1_stool-DNA"
          ],
          [
           "P4C2T4_s13-G6_stool-DNA"
          ],
          [
           "P4C2T4_s17-H1_stool-DNA"
          ],
          [
           "P4C2T4_s17-H6_stool-DNA"
          ],
          [
           "P4C2T4_s19-B2_stool-DNA"
          ],
          [
           "P4C2T4_s19-B7_stool-DNA"
          ],
          [
           "P4C2T4_s21-C2_stool-DNA"
          ],
          [
           "P4C2T4_s21-C7_stool-DNA"
          ],
          [
           "P4C2T4_s23-D2_stool-DNA"
          ],
          [
           "P4C2T4_s23-D7_stool-DNA"
          ],
          [
           "P4C2T4_s25-E2_stool-DNA"
          ],
          [
           "P4C2T4_s25-E7_stool-DNA"
          ],
          [
           "P4C2T4_s27-F2_stool-DNA"
          ],
          [
           "P4C2T4_s27-F7_stool-DNA"
          ],
          [
           "P4C2T4_s29-G2_stool-DNA"
          ],
          [
           "P4C2T4_s29-G7_stool-DNA"
          ],
          [
           "P4C2T4_s3-B1_stool-DNA"
          ],
          [
           "P4C2T4_s3-B6_stool-DNA"
          ],
          [
           "P4C2T4_s33-H2_SI-DNA"
          ],
          [
           "P4C2T4_s33-H7_SI-DNA"
          ],
          [
           "P4C2T4_s35-A3_SI-DNA"
          ],
          [
           "P4C2T4_s35-A8_SI-DNA"
          ],
          [
           "P4C2T4_s37-C3_SI-DNA"
          ],
          [
           "P4C2T4_s37-C8_SI-DNA"
          ],
          [
           "P4C2T4_s39-D3_SI-DNA"
          ],
          [
           "P4C2T4_s39-D8_SI-DNA"
          ],
          [
           "P4C2T4_s41-E3_SI-DNA"
          ],
          [
           "P4C2T4_s41-E8_SI-DNA"
          ],
          [
           "P4C2T4_s43-F3_SI-DNA"
          ],
          [
           "P4C2T4_s43-F8_SI-DNA"
          ],
          [
           "P4C2T4_s45-G3_SI-DNA"
          ],
          [
           "P4C2T4_s45-G8_SI-DNA"
          ],
          [
           "P4C2T4_s49-H3_Cecum-DNA"
          ],
          [
           "P4C2T4_s49-H8_Cecum-DNA"
          ],
          [
           "P4C2T4_s5-C1_stool-DNA"
          ],
          [
           "P4C2T4_s5-C6_stool-DNA"
          ],
          [
           "P4C2T4_s51-A4_Cecum-DNA"
          ],
          [
           "P4C2T4_s51-A9_Cecum-DNA"
          ],
          [
           "P4C2T4_s53-B4_Cecum-DNA"
          ],
          [
           "P4C2T4_s53-B9_Cecum-DNA"
          ],
          [
           "P4C2T4_s55-C4_Cecum-DNA"
          ],
          [
           "P4C2T4_s55-C9_Cecum-DNA"
          ],
          [
           "P4C2T4_s57-D4_Cecum-DNA"
          ],
          [
           "P4C2T4_s57-D9_Cecum-DNA"
          ],
          [
           "P4C2T4_s59-E4_Cecum-DNA"
          ],
          [
           "P4C2T4_s59-E9_Cecum-DNA"
          ],
          [
           "P4C2T4_s61-F4_Cecum-DNA"
          ],
          [
           "P4C2T4_s61-F9_Cecum-DNA"
          ],
          [
           "P4C2T4_s65-G4_Pr.-Colon-DNA"
          ],
          [
           "P4C2T4_s65-G9_Pr.-Colon-DNA"
          ],
          [
           "P4C2T4_s67-H4_Pr.-Colon-DNA"
          ],
          [
           "P4C2T4_s67-H9_Pr.-Colon-DNA"
          ],
          [
           "P4C2T4_s69-B10_Pr.-Colon-DNA"
          ],
          [
           "P4C2T4_s69-B5_Pr.-Colon-DNA"
          ],
          [
           "P4C2T4_s7-D1_stool-DNA"
          ],
          [
           "P4C2T4_s7-D6_stool-DNA"
          ],
          [
           "P4C2T4_s71-C10_Pr.-Colon-DNA"
          ],
          [
           "P4C2T4_s71-C5_Pr.-Colon-DNA"
          ],
          [
           "P4C2T4_s73-D10_Pr.-Colon-DNA"
          ],
          [
           "P4C2T4_s73-D5_Pr.-Colon-DNA"
          ],
          [
           "P4C2T4_s75-E10_Pr.-Colon-DNA"
          ],
          [
           "P4C2T4_s75-E5_Pr.-Colon-DNA"
          ],
          [
           "P4C2T4_s77-F10_Pr.-Colon-DNA"
          ],
          [
           "P4C2T4_s77-F5_Pr.-Colon-DNA"
          ],
          [
           "P4C2T4_s9-E1_stool-DNA"
          ],
          [
           "P4C2T4_s9-E6_stool-DNA"
          ],
          [
           "P4C2T5_s1-A1_stool-DNA"
          ],
          [
           "P4C2T5_s101-D7_Pr.-Colon-DNA"
          ],
          [
           "P4C2T5_s103-E7_Pr.-Colon-DNA"
          ],
          [
           "P4C2T5_s105-F7_Pr.-Colon-DNA"
          ],
          [
           "P4C2T5_s107-G7_Pr.-Colon-DNA"
          ],
          [
           "P4C2T5_s109-H7_Pr.-Colon-DNA"
          ],
          [
           "P4C2T5_s11-F1_stool-DNA"
          ],
          [
           "P4C2T5_s111-A8_Pr.-Colon-DNA"
          ],
          [
           "P4C2T5_s113-B8_Pr.-Colon-DNA"
          ],
          [
           "P4C2T5_s115-C8_Pr.-Colon-DNA"
          ],
          [
           "P4C2T5_s117-D8_Pr.-Colon-DNA"
          ],
          [
           "P4C2T5_s119-E8_Pr.-Colon-DNA"
          ],
          [
           "P4C2T5_s13-G1_stool-DNA"
          ],
          [
           "P4C2T5_s15-H1_stool-DNA"
          ],
          [
           "P4C2T5_s17-A2_stool-DNA"
          ],
          [
           "P4C2T5_s19-B2_stool-DNA"
          ],
          [
           "P4C2T5_s21-C2_stool-DNA"
          ],
          [
           "P4C2T5_s23-D2_stool-DNA"
          ],
          [
           "P4C2T5_s25-E2_stool-DNA"
          ],
          [
           "P4C2T5_s27-F2_stool-DNA"
          ],
          [
           "P4C2T5_s29-G2_stool-DNA"
          ],
          [
           "P4C2T5_s3-B1_stool-DNA"
          ],
          [
           "P4C2T5_s31-H2_stool-DNA"
          ],
          [
           "P4C2T5_s33-A3_stool-DNA"
          ],
          [
           "P4C2T5_s35-B3_stool-DNA"
          ],
          [
           "P4C2T5_s37-C3_stool-DNA"
          ],
          [
           "P4C2T5_s39-D3_stool-DNA"
          ],
          [
           "P4C2T5_s41-E3_stool-DNA"
          ],
          [
           "P4C2T5_s43-G3_stool-DNA"
          ],
          [
           "P4C2T5_s45-H3_stool-DNA"
          ],
          [
           "P4C2T5_s47-A4_stool-DNA"
          ],
          [
           "P4C2T5_s49-B4_SI-DNA"
          ],
          [
           "P4C2T5_s5-C1_stool-DNA"
          ],
          [
           "P4C2T5_s51-C4_SI-DNA"
          ],
          [
           "P4C2T5_s53-D4_SI-DNA"
          ],
          [
           "P4C2T5_s55-E4_SI-DNA"
          ],
          [
           "P4C2T5_s57-F4_SI-DNA"
          ],
          [
           "P4C2T5_s59-G4_SI-DNA"
          ],
          [
           "P4C2T5_s61-H4_SI-DNA"
          ],
          [
           "P4C2T5_s63-A5_SI-DNA"
          ],
          [
           "P4C2T5_s65-B5_SI-DNA"
          ],
          [
           "P4C2T5_s67-C5_SI-DNA"
          ],
          [
           "P4C2T5_s69-D5_SI-DNA"
          ],
          [
           "P4C2T5_s7-D1_stool-DNA"
          ],
          [
           "P4C2T5_s71-E5_SI-DNA"
          ],
          [
           "P4C2T5_s73-F5_Cecum-DNA"
          ],
          [
           "P4C2T5_s75-G5_Cecum-DNA"
          ],
          [
           "P4C2T5_s77-H5_Cecum-DNA"
          ],
          [
           "P4C2T5_s79-A6_Cecum-DNA"
          ],
          [
           "P4C2T5_s81-B6_Cecum-DNA"
          ],
          [
           "P4C2T5_s83-C6_Cecum-DNA"
          ],
          [
           "P4C2T5_s85-D6_Cecum-DNA"
          ],
          [
           "P4C2T5_s87-E6_Cecum-DNA"
          ],
          [
           "P4C2T5_s89-F6_Cecum-DNA"
          ],
          [
           "P4C2T5_s9-E1_stool-DNA"
          ],
          [
           "P4C2T5_s91-G6_Cecum-DNA"
          ],
          [
           "P4C2T5_s93-H6_Cecum-DNA"
          ],
          [
           "P4C2T5_s95-A7_Cecum-DNA"
          ],
          [
           "P4C2T5_s97-B7_Pr.-Colon-DNA"
          ],
          [
           "P4C2T5_s99-C7_Pr.-Colon-DNA"
          ]
         ],
         "hovertemplate": "type=total_count<br>sample_type=%{x}<br>value=%{y}<br>sample=%{customdata[0]}<extra></extra>",
         "legendgroup": "total_count",
         "marker": {
          "color": "#1F77B4"
         },
         "name": "total_count",
         "notched": false,
         "offsetgroup": "total_count",
         "orientation": "v",
         "showlegend": true,
         "type": "box",
         "x": [
          "gavage",
          "gavage",
          "gavage",
          "gavage",
          "gavage",
          "gavage",
          "negative_control",
          "negative_control",
          "negative_control",
          "negative_control",
          "negative_control",
          "negative_control",
          "negative_control",
          "sample",
          "sample",
          "sample",
          "sample",
          "sample",
          "sample",
          "sample",
          "sample",
          "sample",
          "sample",
          "sample",
          "sample",
          "sample",
          "sample",
          "sample",
          "sample",
          "sample",
          "sample",
          "sample",
          "sample",
          "sample",
          "sample",
          "sample",
          "sample",
          "sample",
          "sample",
          "sample",
          "sample",
          "sample",
          "sample",
          "sample",
          "sample",
          "sample",
          "sample",
          "sample",
          "sample",
          "sample",
          "sample",
          "sample",
          "sample",
          "sample",
          "sample",
          "sample",
          "sample",
          "sample",
          "sample",
          "sample",
          "sample",
          "sample",
          "sample",
          "sample",
          "sample",
          "sample",
          "sample",
          "sample",
          "sample",
          "sample",
          "sample",
          "sample",
          "sample",
          "sample",
          "sample",
          "sample",
          "sample",
          "sample",
          "sample",
          "sample",
          "sample",
          "sample",
          "sample",
          "sample",
          "sample",
          "sample",
          "sample",
          "sample",
          "sample",
          "sample",
          "sample",
          "sample",
          "sample",
          "sample",
          "sample",
          "sample",
          "sample",
          "sample",
          "sample",
          "sample",
          "sample",
          "sample",
          "sample",
          "sample",
          "sample",
          "sample",
          "sample",
          "sample",
          "sample",
          "sample",
          "sample",
          "sample",
          "sample",
          "sample",
          "sample",
          "sample",
          "sample",
          "sample",
          "sample",
          "sample",
          "sample",
          "sample",
          "sample",
          "sample",
          "sample",
          "sample",
          "sample",
          "sample",
          "sample",
          "sample",
          "sample",
          "sample",
          "sample",
          "sample",
          "sample",
          "sample",
          "sample",
          "sample",
          "sample",
          "sample",
          "sample",
          "sample",
          "sample"
         ],
         "x0": " ",
         "xaxis": "x",
         "y": {
          "bdata": "AAAAIGiVZUEAAADAI2NcQQAAAOAjNmhBAAAAwJUgakEAAAAooVGFQQAAAIieK4xBAAAAAJw6F0EAAAAAAFP5QAAAAABwLfFAAAAAABC79EAAAAAAEK30QAAAAAAwqPBAAAAAAACN8kAAAAAAoAzwQAAAAADgbO1AAAAAAE/8MUEAAAAAgG8QQQAAAABguiVBAAAAAIx2LEEAAAAgvTGQQQAAAACeUohBAAAAKDg0tUEAAAAo86O0QQAAAKBZX21BAAAAAIDPzEAAAAAAQHvTQAAAAAAAZdRAAAAAgMNgU0EAAADgpp9oQQAAAABAR/1AAAAAAOgSA0EAAAAAEOfzQAAAAACAfuhAAAAAAFBRE0EAAAAA/O0ZQQAAAACTNThBAAAAAApeMkEAAACu4lanQQAAAGQRBbBBAAAAAGD9CEEAAAAAwDHwQAAAAABAROBAAAAAAGAx4EAAAAAAHAsYQQAAAAD4PBBBAAAAAMDW7UAAAAAAYLr3QAAAAABW+jJBAAAAAOLDKUEAAAAWHDygQQAAAIBWcqZBAAAAAED9+0AAAAAA0K7xQAAAAADkTa5BAAAAGiIarUEAAAAA8DTwQAAAAAAgzuFAAAAAAMDK4UAAAAAAAFvSQAAAAAC8mEBBAAAAACF4MUEAAAAAOC0KQQAAAABAq9tAAAAAAKAT40AAAAAAoBjrQAAAANiFDp5BAAAASPyulEEAAABsDTWUQQAAAPzg+LBBAAAAABCn8kAAAAAA0LnyQAAAAAA6siBBAAAAAHzDG0EAAAAAQEj/QAAAAABgZvtAAAAAABd4SkEAAAAAdGJBQQAAAADAy9BAAAAAACCe7EAAAAAAQNDpQAAAAACAvNhAAAAAAMBF3kAAAAAAoCrlQAAAAACapihBAAAAAABMBkEAAIAbvvvIQQAAAAAeU1tBAACAxnJa0UEAAACyXjC9QQAAAEAe71xBAAAAipbyyUEAAAAAr0idQQAAAACQSflAAAAAAGDn/0AAAAAAPkI6QQAAANqgZaZBAAAAbM5Mn0EAAAAAKUFJQQAAAGpasaRBAAAAAIhFAEEAAADATDFvQQAAAEA4zFVBAAAAACxZEUEAAABATUxxQQAAAABMWh9BAAAAb8B+ukEAAIBInrbPQQAAgCbCis5BAAAAzNs4sUEAAAAu2DO3QQAAADItkN9BAAAAAOgmFUEAAAAAgEMCQQAAAKwJ45VBAAAAAOCM40AAAADYhc6gQQAAAEC4xWdBAAAAAAC49EAAAADg3Wh2QQAAADhbH4hBAAAA2E/7v0EAAIB+QObDQQAAwAFKa9BBAAAA8HYtoUEAAAAIm4+DQQAAAAAAaxlBAAAAAFiZR0EAAACAiIhyQQAAAADQpPBAAAAAAECJ10AAAAAAgJP3QAAAgOKdFtJBAAAAA6iI10EAAABmdDyqQQAAACAIKJxBAADAkrjL7EEAAAB48JLFQQAAAAAtilZBAAAAPi2rqUEAAAAAQLbpQAAAgJIe+sxBAAAAfLV5kkEAAAAAKLsCQQ==",
          "dtype": "f8"
         },
         "y0": " ",
         "yaxis": "y"
        },
        {
         "alignmentgroup": "True",
         "boxpoints": "all",
         "customdata": [
          [
           "P4C2T4_s81-B3_Gavage-DNA"
          ],
          [
           "P4C2T4_s81-B8_Gavage-DNA"
          ],
          [
           "P4C2T4_s82-A10_Gavage-DNA"
          ],
          [
           "P4C2T4_s82-A5_Gavage-DNA"
          ],
          [
           "P4C2T5_s121-F8_Gavage-DNA"
          ],
          [
           "P4C2T5_s122-G8_Gavage-DNA"
          ],
          [
           "NTC_F3_NTC"
          ],
          [
           "NTC_G10_NTC"
          ],
          [
           "NTC_G5_NTC"
          ],
          [
           "NTC_H10_NTC"
          ],
          [
           "NTC_H5_NTC"
          ],
          [
           "WATER_A2_WATER"
          ],
          [
           "WATER_A7_WATER"
          ],
          [
           "P4C2T4_s1-A1_stool-DNA"
          ],
          [
           "P4C2T4_s1-A6_stool-DNA"
          ],
          [
           "P4C2T4_s11-F1_stool-DNA"
          ],
          [
           "P4C2T4_s11-F6_stool-DNA"
          ],
          [
           "P4C2T4_s13-G1_stool-DNA"
          ],
          [
           "P4C2T4_s13-G6_stool-DNA"
          ],
          [
           "P4C2T4_s17-H1_stool-DNA"
          ],
          [
           "P4C2T4_s17-H6_stool-DNA"
          ],
          [
           "P4C2T4_s19-B2_stool-DNA"
          ],
          [
           "P4C2T4_s19-B7_stool-DNA"
          ],
          [
           "P4C2T4_s21-C2_stool-DNA"
          ],
          [
           "P4C2T4_s21-C7_stool-DNA"
          ],
          [
           "P4C2T4_s23-D2_stool-DNA"
          ],
          [
           "P4C2T4_s23-D7_stool-DNA"
          ],
          [
           "P4C2T4_s25-E2_stool-DNA"
          ],
          [
           "P4C2T4_s25-E7_stool-DNA"
          ],
          [
           "P4C2T4_s27-F2_stool-DNA"
          ],
          [
           "P4C2T4_s27-F7_stool-DNA"
          ],
          [
           "P4C2T4_s29-G2_stool-DNA"
          ],
          [
           "P4C2T4_s29-G7_stool-DNA"
          ],
          [
           "P4C2T4_s3-B1_stool-DNA"
          ],
          [
           "P4C2T4_s3-B6_stool-DNA"
          ],
          [
           "P4C2T4_s33-H2_SI-DNA"
          ],
          [
           "P4C2T4_s33-H7_SI-DNA"
          ],
          [
           "P4C2T4_s35-A3_SI-DNA"
          ],
          [
           "P4C2T4_s35-A8_SI-DNA"
          ],
          [
           "P4C2T4_s37-C3_SI-DNA"
          ],
          [
           "P4C2T4_s37-C8_SI-DNA"
          ],
          [
           "P4C2T4_s39-D3_SI-DNA"
          ],
          [
           "P4C2T4_s39-D8_SI-DNA"
          ],
          [
           "P4C2T4_s41-E3_SI-DNA"
          ],
          [
           "P4C2T4_s41-E8_SI-DNA"
          ],
          [
           "P4C2T4_s43-F3_SI-DNA"
          ],
          [
           "P4C2T4_s43-F8_SI-DNA"
          ],
          [
           "P4C2T4_s45-G3_SI-DNA"
          ],
          [
           "P4C2T4_s45-G8_SI-DNA"
          ],
          [
           "P4C2T4_s49-H3_Cecum-DNA"
          ],
          [
           "P4C2T4_s49-H8_Cecum-DNA"
          ],
          [
           "P4C2T4_s5-C1_stool-DNA"
          ],
          [
           "P4C2T4_s5-C6_stool-DNA"
          ],
          [
           "P4C2T4_s51-A4_Cecum-DNA"
          ],
          [
           "P4C2T4_s51-A9_Cecum-DNA"
          ],
          [
           "P4C2T4_s53-B4_Cecum-DNA"
          ],
          [
           "P4C2T4_s53-B9_Cecum-DNA"
          ],
          [
           "P4C2T4_s55-C4_Cecum-DNA"
          ],
          [
           "P4C2T4_s55-C9_Cecum-DNA"
          ],
          [
           "P4C2T4_s57-D4_Cecum-DNA"
          ],
          [
           "P4C2T4_s57-D9_Cecum-DNA"
          ],
          [
           "P4C2T4_s59-E4_Cecum-DNA"
          ],
          [
           "P4C2T4_s59-E9_Cecum-DNA"
          ],
          [
           "P4C2T4_s61-F4_Cecum-DNA"
          ],
          [
           "P4C2T4_s61-F9_Cecum-DNA"
          ],
          [
           "P4C2T4_s65-G4_Pr.-Colon-DNA"
          ],
          [
           "P4C2T4_s65-G9_Pr.-Colon-DNA"
          ],
          [
           "P4C2T4_s67-H4_Pr.-Colon-DNA"
          ],
          [
           "P4C2T4_s67-H9_Pr.-Colon-DNA"
          ],
          [
           "P4C2T4_s69-B10_Pr.-Colon-DNA"
          ],
          [
           "P4C2T4_s69-B5_Pr.-Colon-DNA"
          ],
          [
           "P4C2T4_s7-D1_stool-DNA"
          ],
          [
           "P4C2T4_s7-D6_stool-DNA"
          ],
          [
           "P4C2T4_s71-C10_Pr.-Colon-DNA"
          ],
          [
           "P4C2T4_s71-C5_Pr.-Colon-DNA"
          ],
          [
           "P4C2T4_s73-D10_Pr.-Colon-DNA"
          ],
          [
           "P4C2T4_s73-D5_Pr.-Colon-DNA"
          ],
          [
           "P4C2T4_s75-E10_Pr.-Colon-DNA"
          ],
          [
           "P4C2T4_s75-E5_Pr.-Colon-DNA"
          ],
          [
           "P4C2T4_s77-F10_Pr.-Colon-DNA"
          ],
          [
           "P4C2T4_s77-F5_Pr.-Colon-DNA"
          ],
          [
           "P4C2T4_s9-E1_stool-DNA"
          ],
          [
           "P4C2T4_s9-E6_stool-DNA"
          ],
          [
           "P4C2T5_s1-A1_stool-DNA"
          ],
          [
           "P4C2T5_s101-D7_Pr.-Colon-DNA"
          ],
          [
           "P4C2T5_s103-E7_Pr.-Colon-DNA"
          ],
          [
           "P4C2T5_s105-F7_Pr.-Colon-DNA"
          ],
          [
           "P4C2T5_s107-G7_Pr.-Colon-DNA"
          ],
          [
           "P4C2T5_s109-H7_Pr.-Colon-DNA"
          ],
          [
           "P4C2T5_s11-F1_stool-DNA"
          ],
          [
           "P4C2T5_s111-A8_Pr.-Colon-DNA"
          ],
          [
           "P4C2T5_s113-B8_Pr.-Colon-DNA"
          ],
          [
           "P4C2T5_s115-C8_Pr.-Colon-DNA"
          ],
          [
           "P4C2T5_s117-D8_Pr.-Colon-DNA"
          ],
          [
           "P4C2T5_s119-E8_Pr.-Colon-DNA"
          ],
          [
           "P4C2T5_s13-G1_stool-DNA"
          ],
          [
           "P4C2T5_s15-H1_stool-DNA"
          ],
          [
           "P4C2T5_s17-A2_stool-DNA"
          ],
          [
           "P4C2T5_s19-B2_stool-DNA"
          ],
          [
           "P4C2T5_s21-C2_stool-DNA"
          ],
          [
           "P4C2T5_s23-D2_stool-DNA"
          ],
          [
           "P4C2T5_s25-E2_stool-DNA"
          ],
          [
           "P4C2T5_s27-F2_stool-DNA"
          ],
          [
           "P4C2T5_s29-G2_stool-DNA"
          ],
          [
           "P4C2T5_s3-B1_stool-DNA"
          ],
          [
           "P4C2T5_s31-H2_stool-DNA"
          ],
          [
           "P4C2T5_s33-A3_stool-DNA"
          ],
          [
           "P4C2T5_s35-B3_stool-DNA"
          ],
          [
           "P4C2T5_s37-C3_stool-DNA"
          ],
          [
           "P4C2T5_s39-D3_stool-DNA"
          ],
          [
           "P4C2T5_s41-E3_stool-DNA"
          ],
          [
           "P4C2T5_s43-G3_stool-DNA"
          ],
          [
           "P4C2T5_s45-H3_stool-DNA"
          ],
          [
           "P4C2T5_s47-A4_stool-DNA"
          ],
          [
           "P4C2T5_s49-B4_SI-DNA"
          ],
          [
           "P4C2T5_s5-C1_stool-DNA"
          ],
          [
           "P4C2T5_s51-C4_SI-DNA"
          ],
          [
           "P4C2T5_s53-D4_SI-DNA"
          ],
          [
           "P4C2T5_s55-E4_SI-DNA"
          ],
          [
           "P4C2T5_s57-F4_SI-DNA"
          ],
          [
           "P4C2T5_s59-G4_SI-DNA"
          ],
          [
           "P4C2T5_s61-H4_SI-DNA"
          ],
          [
           "P4C2T5_s63-A5_SI-DNA"
          ],
          [
           "P4C2T5_s65-B5_SI-DNA"
          ],
          [
           "P4C2T5_s67-C5_SI-DNA"
          ],
          [
           "P4C2T5_s69-D5_SI-DNA"
          ],
          [
           "P4C2T5_s7-D1_stool-DNA"
          ],
          [
           "P4C2T5_s71-E5_SI-DNA"
          ],
          [
           "P4C2T5_s73-F5_Cecum-DNA"
          ],
          [
           "P4C2T5_s75-G5_Cecum-DNA"
          ],
          [
           "P4C2T5_s77-H5_Cecum-DNA"
          ],
          [
           "P4C2T5_s79-A6_Cecum-DNA"
          ],
          [
           "P4C2T5_s81-B6_Cecum-DNA"
          ],
          [
           "P4C2T5_s83-C6_Cecum-DNA"
          ],
          [
           "P4C2T5_s85-D6_Cecum-DNA"
          ],
          [
           "P4C2T5_s87-E6_Cecum-DNA"
          ],
          [
           "P4C2T5_s89-F6_Cecum-DNA"
          ],
          [
           "P4C2T5_s9-E1_stool-DNA"
          ],
          [
           "P4C2T5_s91-G6_Cecum-DNA"
          ],
          [
           "P4C2T5_s93-H6_Cecum-DNA"
          ],
          [
           "P4C2T5_s95-A7_Cecum-DNA"
          ],
          [
           "P4C2T5_s97-B7_Pr.-Colon-DNA"
          ],
          [
           "P4C2T5_s99-C7_Pr.-Colon-DNA"
          ]
         ],
         "hovertemplate": "type=total_unique_umi<br>sample_type=%{x}<br>value=%{y}<br>sample=%{customdata[0]}<extra></extra>",
         "legendgroup": "total_unique_umi",
         "marker": {
          "color": "#FF7F0E"
         },
         "name": "total_unique_umi",
         "notched": false,
         "offsetgroup": "total_unique_umi",
         "orientation": "v",
         "showlegend": true,
         "type": "box",
         "x": [
          "gavage",
          "gavage",
          "gavage",
          "gavage",
          "gavage",
          "gavage",
          "negative_control",
          "negative_control",
          "negative_control",
          "negative_control",
          "negative_control",
          "negative_control",
          "negative_control",
          "sample",
          "sample",
          "sample",
          "sample",
          "sample",
          "sample",
          "sample",
          "sample",
          "sample",
          "sample",
          "sample",
          "sample",
          "sample",
          "sample",
          "sample",
          "sample",
          "sample",
          "sample",
          "sample",
          "sample",
          "sample",
          "sample",
          "sample",
          "sample",
          "sample",
          "sample",
          "sample",
          "sample",
          "sample",
          "sample",
          "sample",
          "sample",
          "sample",
          "sample",
          "sample",
          "sample",
          "sample",
          "sample",
          "sample",
          "sample",
          "sample",
          "sample",
          "sample",
          "sample",
          "sample",
          "sample",
          "sample",
          "sample",
          "sample",
          "sample",
          "sample",
          "sample",
          "sample",
          "sample",
          "sample",
          "sample",
          "sample",
          "sample",
          "sample",
          "sample",
          "sample",
          "sample",
          "sample",
          "sample",
          "sample",
          "sample",
          "sample",
          "sample",
          "sample",
          "sample",
          "sample",
          "sample",
          "sample",
          "sample",
          "sample",
          "sample",
          "sample",
          "sample",
          "sample",
          "sample",
          "sample",
          "sample",
          "sample",
          "sample",
          "sample",
          "sample",
          "sample",
          "sample",
          "sample",
          "sample",
          "sample",
          "sample",
          "sample",
          "sample",
          "sample",
          "sample",
          "sample",
          "sample",
          "sample",
          "sample",
          "sample",
          "sample",
          "sample",
          "sample",
          "sample",
          "sample",
          "sample",
          "sample",
          "sample",
          "sample",
          "sample",
          "sample",
          "sample",
          "sample",
          "sample",
          "sample",
          "sample",
          "sample",
          "sample",
          "sample",
          "sample",
          "sample",
          "sample",
          "sample",
          "sample",
          "sample",
          "sample",
          "sample",
          "sample",
          "sample"
         ],
         "x0": " ",
         "xaxis": "x",
         "y": {
          "bdata": "AAAAAKBN/UAAAAAAgC3+QAAAAABQbP5AAAAAADC9AEEAAAAApB4RQQAAAADguftAAAAAAMBl20AAAAAAADCNQAAAAAAAAIxAAAAAAABEq0AAAAAAAPClQAAAAAAAsJVAAAAAAACcmEAAAAAAALyVQAAAAAAA7JdAAAAAAADJv0AAAAAAAEu5QAAAAAAAPchAAAAAAACVwUAAAAAAMDf2QAAAAAAAWPZAAAAAACAQ9EAAAAAAMBj6QAAAAAAAPMBAAAAAAACAe0AAAAAAAOiDQAAAAAAAUIRAAAAAAODT8UAAAAAA8En3QAAAAAAAwItAAAAAAACglEAAAAAAAHiPQAAAAAAAmIhAAAAAAAAJukAAAAAAAKG6QAAAAACAR8tAAAAAAADtykAAAAAA0CT1QAAAAABg5/VAAAAAAADcnEAAAAAAABCXQAAAAAAASItAAAAAAAAIi0AAAAAAAJOzQAAAAAAAQbFAAAAAAACoi0AAAAAAAOCNQAAAAAAA4sFAAAAAAAAOwEAAAAAAkGv2QAAAAABwtfZAAAAAAAC8qUAAAAAAAMSnQAAAAABw+PlAAAAAAJCB+kAAAAAAAEqlQAAAAAAAbKBAAAAAAAC8kEAAAAAAAPSQQAAAAADA3tJAAAAAAMCB0EAAAAAAACyrQAAAAAAAoH9AAAAAAAAAlkAAAAAAAOSXQAAAAADQOfdAAAAAAMDD+EAAAAAA0DP3QAAAAACQo/VAAAAAAADUokAAAAAAADSjQAAAAAAANb1AAAAAAAC2vUAAAAAAAMewQAAAAAAAY7BAAAAAAMBA0EAAAAAAgD7RQAAAAAAA6IVAAAAAAAAUlUAAAAAAAFiJQAAAAAAAWIZAAAAAAADggkAAAAAAAHiDQAAAAACACspAAAAAAACQrUAAAAAAwPP8QAAAAACACNZAAAAAAKjfAkEAAAAAcNb2QAAAAAAgwe1AAAAAALgDBEEAAAAAQLn8QAAAAAAA/LhAAAAAAAAwoEAAAAAAgEnPQAAAAAAgzuRAAAAAAKAH6kAAAAAAINbhQAAAAACQyflAAAAAAAAnwkAAAAAAgITpQAAAAADAStJAAAAAAIAX1kAAAAAAYJLpQAAAAAAAssNAAAAAANAH+kAAAAAAuD4EQQAAAADwEgJBAAAAAOh1AEEAAAAA0LX5QAAAAAAgZfZAAAAAAAAmvkAAAAAAAHCvQAAAAAAguuNAAAAAAACUpkAAAAAAgI7nQAAAAAAA4dZAAAAAAACct0AAAAAA8LP1QAAAAABw5QhBAAAAABBB/EAAAAAACFgAQQAAAACYAgBBAAAAANDm80AAAAAAACrZQAAAAAAAKbFAAAAAAKDS5kAAAAAAAJ7NQAAAAAAASqNAAAAAAAAUlEAAAAAAAAKrQAAAAADA3QFBAAAAACBqA0EAAAAAiO0CQQAAAABwzQBBAAAAAMg9AEEAAAAAgHn/QAAAAAAAkdtAAAAAAOA37kAAAAAAAC+4QAAAAAAgQOdAAAAAAEA42kAAAAAAACqyQA==",
          "dtype": "f8"
         },
         "y0": " ",
         "yaxis": "y"
        }
       ],
       "layout": {
        "boxmode": "group",
        "legend": {
         "title": {
          "text": "type"
         },
         "tracegroupgap": 0
        },
        "margin": {
         "t": 60
        },
        "template": {
         "data": {
          "bar": [
           {
            "error_x": {
             "color": "rgb(36,36,36)"
            },
            "error_y": {
             "color": "rgb(36,36,36)"
            },
            "marker": {
             "line": {
              "color": "white",
              "width": 0.5
             },
             "pattern": {
              "fillmode": "overlay",
              "size": 10,
              "solidity": 0.2
             }
            },
            "type": "bar"
           }
          ],
          "barpolar": [
           {
            "marker": {
             "line": {
              "color": "white",
              "width": 0.5
             },
             "pattern": {
              "fillmode": "overlay",
              "size": 10,
              "solidity": 0.2
             }
            },
            "type": "barpolar"
           }
          ],
          "carpet": [
           {
            "aaxis": {
             "endlinecolor": "rgb(36,36,36)",
             "gridcolor": "white",
             "linecolor": "white",
             "minorgridcolor": "white",
             "startlinecolor": "rgb(36,36,36)"
            },
            "baxis": {
             "endlinecolor": "rgb(36,36,36)",
             "gridcolor": "white",
             "linecolor": "white",
             "minorgridcolor": "white",
             "startlinecolor": "rgb(36,36,36)"
            },
            "type": "carpet"
           }
          ],
          "choropleth": [
           {
            "colorbar": {
             "outlinewidth": 1,
             "tickcolor": "rgb(36,36,36)",
             "ticks": "outside"
            },
            "type": "choropleth"
           }
          ],
          "contour": [
           {
            "colorbar": {
             "outlinewidth": 1,
             "tickcolor": "rgb(36,36,36)",
             "ticks": "outside"
            },
            "colorscale": [
             [
              0,
              "#440154"
             ],
             [
              0.1111111111111111,
              "#482878"
             ],
             [
              0.2222222222222222,
              "#3e4989"
             ],
             [
              0.3333333333333333,
              "#31688e"
             ],
             [
              0.4444444444444444,
              "#26828e"
             ],
             [
              0.5555555555555556,
              "#1f9e89"
             ],
             [
              0.6666666666666666,
              "#35b779"
             ],
             [
              0.7777777777777778,
              "#6ece58"
             ],
             [
              0.8888888888888888,
              "#b5de2b"
             ],
             [
              1,
              "#fde725"
             ]
            ],
            "type": "contour"
           }
          ],
          "contourcarpet": [
           {
            "colorbar": {
             "outlinewidth": 1,
             "tickcolor": "rgb(36,36,36)",
             "ticks": "outside"
            },
            "type": "contourcarpet"
           }
          ],
          "heatmap": [
           {
            "colorbar": {
             "outlinewidth": 1,
             "tickcolor": "rgb(36,36,36)",
             "ticks": "outside"
            },
            "colorscale": [
             [
              0,
              "#440154"
             ],
             [
              0.1111111111111111,
              "#482878"
             ],
             [
              0.2222222222222222,
              "#3e4989"
             ],
             [
              0.3333333333333333,
              "#31688e"
             ],
             [
              0.4444444444444444,
              "#26828e"
             ],
             [
              0.5555555555555556,
              "#1f9e89"
             ],
             [
              0.6666666666666666,
              "#35b779"
             ],
             [
              0.7777777777777778,
              "#6ece58"
             ],
             [
              0.8888888888888888,
              "#b5de2b"
             ],
             [
              1,
              "#fde725"
             ]
            ],
            "type": "heatmap"
           }
          ],
          "histogram": [
           {
            "marker": {
             "line": {
              "color": "white",
              "width": 0.6
             }
            },
            "type": "histogram"
           }
          ],
          "histogram2d": [
           {
            "colorbar": {
             "outlinewidth": 1,
             "tickcolor": "rgb(36,36,36)",
             "ticks": "outside"
            },
            "colorscale": [
             [
              0,
              "#440154"
             ],
             [
              0.1111111111111111,
              "#482878"
             ],
             [
              0.2222222222222222,
              "#3e4989"
             ],
             [
              0.3333333333333333,
              "#31688e"
             ],
             [
              0.4444444444444444,
              "#26828e"
             ],
             [
              0.5555555555555556,
              "#1f9e89"
             ],
             [
              0.6666666666666666,
              "#35b779"
             ],
             [
              0.7777777777777778,
              "#6ece58"
             ],
             [
              0.8888888888888888,
              "#b5de2b"
             ],
             [
              1,
              "#fde725"
             ]
            ],
            "type": "histogram2d"
           }
          ],
          "histogram2dcontour": [
           {
            "colorbar": {
             "outlinewidth": 1,
             "tickcolor": "rgb(36,36,36)",
             "ticks": "outside"
            },
            "colorscale": [
             [
              0,
              "#440154"
             ],
             [
              0.1111111111111111,
              "#482878"
             ],
             [
              0.2222222222222222,
              "#3e4989"
             ],
             [
              0.3333333333333333,
              "#31688e"
             ],
             [
              0.4444444444444444,
              "#26828e"
             ],
             [
              0.5555555555555556,
              "#1f9e89"
             ],
             [
              0.6666666666666666,
              "#35b779"
             ],
             [
              0.7777777777777778,
              "#6ece58"
             ],
             [
              0.8888888888888888,
              "#b5de2b"
             ],
             [
              1,
              "#fde725"
             ]
            ],
            "type": "histogram2dcontour"
           }
          ],
          "mesh3d": [
           {
            "colorbar": {
             "outlinewidth": 1,
             "tickcolor": "rgb(36,36,36)",
             "ticks": "outside"
            },
            "type": "mesh3d"
           }
          ],
          "parcoords": [
           {
            "line": {
             "colorbar": {
              "outlinewidth": 1,
              "tickcolor": "rgb(36,36,36)",
              "ticks": "outside"
             }
            },
            "type": "parcoords"
           }
          ],
          "pie": [
           {
            "automargin": true,
            "type": "pie"
           }
          ],
          "scatter": [
           {
            "fillpattern": {
             "fillmode": "overlay",
             "size": 10,
             "solidity": 0.2
            },
            "type": "scatter"
           }
          ],
          "scatter3d": [
           {
            "line": {
             "colorbar": {
              "outlinewidth": 1,
              "tickcolor": "rgb(36,36,36)",
              "ticks": "outside"
             }
            },
            "marker": {
             "colorbar": {
              "outlinewidth": 1,
              "tickcolor": "rgb(36,36,36)",
              "ticks": "outside"
             }
            },
            "type": "scatter3d"
           }
          ],
          "scattercarpet": [
           {
            "marker": {
             "colorbar": {
              "outlinewidth": 1,
              "tickcolor": "rgb(36,36,36)",
              "ticks": "outside"
             }
            },
            "type": "scattercarpet"
           }
          ],
          "scattergeo": [
           {
            "marker": {
             "colorbar": {
              "outlinewidth": 1,
              "tickcolor": "rgb(36,36,36)",
              "ticks": "outside"
             }
            },
            "type": "scattergeo"
           }
          ],
          "scattergl": [
           {
            "marker": {
             "colorbar": {
              "outlinewidth": 1,
              "tickcolor": "rgb(36,36,36)",
              "ticks": "outside"
             }
            },
            "type": "scattergl"
           }
          ],
          "scattermap": [
           {
            "marker": {
             "colorbar": {
              "outlinewidth": 1,
              "tickcolor": "rgb(36,36,36)",
              "ticks": "outside"
             }
            },
            "type": "scattermap"
           }
          ],
          "scattermapbox": [
           {
            "marker": {
             "colorbar": {
              "outlinewidth": 1,
              "tickcolor": "rgb(36,36,36)",
              "ticks": "outside"
             }
            },
            "type": "scattermapbox"
           }
          ],
          "scatterpolar": [
           {
            "marker": {
             "colorbar": {
              "outlinewidth": 1,
              "tickcolor": "rgb(36,36,36)",
              "ticks": "outside"
             }
            },
            "type": "scatterpolar"
           }
          ],
          "scatterpolargl": [
           {
            "marker": {
             "colorbar": {
              "outlinewidth": 1,
              "tickcolor": "rgb(36,36,36)",
              "ticks": "outside"
             }
            },
            "type": "scatterpolargl"
           }
          ],
          "scatterternary": [
           {
            "marker": {
             "colorbar": {
              "outlinewidth": 1,
              "tickcolor": "rgb(36,36,36)",
              "ticks": "outside"
             }
            },
            "type": "scatterternary"
           }
          ],
          "surface": [
           {
            "colorbar": {
             "outlinewidth": 1,
             "tickcolor": "rgb(36,36,36)",
             "ticks": "outside"
            },
            "colorscale": [
             [
              0,
              "#440154"
             ],
             [
              0.1111111111111111,
              "#482878"
             ],
             [
              0.2222222222222222,
              "#3e4989"
             ],
             [
              0.3333333333333333,
              "#31688e"
             ],
             [
              0.4444444444444444,
              "#26828e"
             ],
             [
              0.5555555555555556,
              "#1f9e89"
             ],
             [
              0.6666666666666666,
              "#35b779"
             ],
             [
              0.7777777777777778,
              "#6ece58"
             ],
             [
              0.8888888888888888,
              "#b5de2b"
             ],
             [
              1,
              "#fde725"
             ]
            ],
            "type": "surface"
           }
          ],
          "table": [
           {
            "cells": {
             "fill": {
              "color": "rgb(237,237,237)"
             },
             "line": {
              "color": "white"
             }
            },
            "header": {
             "fill": {
              "color": "rgb(217,217,217)"
             },
             "line": {
              "color": "white"
             }
            },
            "type": "table"
           }
          ]
         },
         "layout": {
          "annotationdefaults": {
           "arrowhead": 0,
           "arrowwidth": 1
          },
          "autotypenumbers": "strict",
          "coloraxis": {
           "colorbar": {
            "outlinewidth": 1,
            "tickcolor": "rgb(36,36,36)",
            "ticks": "outside"
           }
          },
          "colorscale": {
           "diverging": [
            [
             0,
             "rgb(103,0,31)"
            ],
            [
             0.1,
             "rgb(178,24,43)"
            ],
            [
             0.2,
             "rgb(214,96,77)"
            ],
            [
             0.3,
             "rgb(244,165,130)"
            ],
            [
             0.4,
             "rgb(253,219,199)"
            ],
            [
             0.5,
             "rgb(247,247,247)"
            ],
            [
             0.6,
             "rgb(209,229,240)"
            ],
            [
             0.7,
             "rgb(146,197,222)"
            ],
            [
             0.8,
             "rgb(67,147,195)"
            ],
            [
             0.9,
             "rgb(33,102,172)"
            ],
            [
             1,
             "rgb(5,48,97)"
            ]
           ],
           "sequential": [
            [
             0,
             "#440154"
            ],
            [
             0.1111111111111111,
             "#482878"
            ],
            [
             0.2222222222222222,
             "#3e4989"
            ],
            [
             0.3333333333333333,
             "#31688e"
            ],
            [
             0.4444444444444444,
             "#26828e"
            ],
            [
             0.5555555555555556,
             "#1f9e89"
            ],
            [
             0.6666666666666666,
             "#35b779"
            ],
            [
             0.7777777777777778,
             "#6ece58"
            ],
            [
             0.8888888888888888,
             "#b5de2b"
            ],
            [
             1,
             "#fde725"
            ]
           ],
           "sequentialminus": [
            [
             0,
             "#440154"
            ],
            [
             0.1111111111111111,
             "#482878"
            ],
            [
             0.2222222222222222,
             "#3e4989"
            ],
            [
             0.3333333333333333,
             "#31688e"
            ],
            [
             0.4444444444444444,
             "#26828e"
            ],
            [
             0.5555555555555556,
             "#1f9e89"
            ],
            [
             0.6666666666666666,
             "#35b779"
            ],
            [
             0.7777777777777778,
             "#6ece58"
            ],
            [
             0.8888888888888888,
             "#b5de2b"
            ],
            [
             1,
             "#fde725"
            ]
           ]
          },
          "colorway": [
           "#1F77B4",
           "#FF7F0E",
           "#2CA02C",
           "#D62728",
           "#9467BD",
           "#8C564B",
           "#E377C2",
           "#7F7F7F",
           "#BCBD22",
           "#17BECF"
          ],
          "font": {
           "color": "rgb(36,36,36)"
          },
          "geo": {
           "bgcolor": "white",
           "lakecolor": "white",
           "landcolor": "white",
           "showlakes": true,
           "showland": true,
           "subunitcolor": "white"
          },
          "hoverlabel": {
           "align": "left"
          },
          "hovermode": "closest",
          "mapbox": {
           "style": "light"
          },
          "paper_bgcolor": "white",
          "plot_bgcolor": "white",
          "polar": {
           "angularaxis": {
            "gridcolor": "rgb(232,232,232)",
            "linecolor": "rgb(36,36,36)",
            "showgrid": false,
            "showline": true,
            "ticks": "outside"
           },
           "bgcolor": "white",
           "radialaxis": {
            "gridcolor": "rgb(232,232,232)",
            "linecolor": "rgb(36,36,36)",
            "showgrid": false,
            "showline": true,
            "ticks": "outside"
           }
          },
          "scene": {
           "xaxis": {
            "backgroundcolor": "white",
            "gridcolor": "rgb(232,232,232)",
            "gridwidth": 2,
            "linecolor": "rgb(36,36,36)",
            "showbackground": true,
            "showgrid": false,
            "showline": true,
            "ticks": "outside",
            "zeroline": false,
            "zerolinecolor": "rgb(36,36,36)"
           },
           "yaxis": {
            "backgroundcolor": "white",
            "gridcolor": "rgb(232,232,232)",
            "gridwidth": 2,
            "linecolor": "rgb(36,36,36)",
            "showbackground": true,
            "showgrid": false,
            "showline": true,
            "ticks": "outside",
            "zeroline": false,
            "zerolinecolor": "rgb(36,36,36)"
           },
           "zaxis": {
            "backgroundcolor": "white",
            "gridcolor": "rgb(232,232,232)",
            "gridwidth": 2,
            "linecolor": "rgb(36,36,36)",
            "showbackground": true,
            "showgrid": false,
            "showline": true,
            "ticks": "outside",
            "zeroline": false,
            "zerolinecolor": "rgb(36,36,36)"
           }
          },
          "shapedefaults": {
           "fillcolor": "black",
           "line": {
            "width": 0
           },
           "opacity": 0.3
          },
          "ternary": {
           "aaxis": {
            "gridcolor": "rgb(232,232,232)",
            "linecolor": "rgb(36,36,36)",
            "showgrid": false,
            "showline": true,
            "ticks": "outside"
           },
           "baxis": {
            "gridcolor": "rgb(232,232,232)",
            "linecolor": "rgb(36,36,36)",
            "showgrid": false,
            "showline": true,
            "ticks": "outside"
           },
           "bgcolor": "white",
           "caxis": {
            "gridcolor": "rgb(232,232,232)",
            "linecolor": "rgb(36,36,36)",
            "showgrid": false,
            "showline": true,
            "ticks": "outside"
           }
          },
          "title": {
           "x": 0.05
          },
          "xaxis": {
           "automargin": true,
           "gridcolor": "rgb(232,232,232)",
           "linecolor": "rgb(36,36,36)",
           "showgrid": false,
           "showline": true,
           "ticks": "outside",
           "title": {
            "standoff": 15
           },
           "zeroline": false,
           "zerolinecolor": "rgb(36,36,36)"
          },
          "yaxis": {
           "automargin": true,
           "gridcolor": "rgb(232,232,232)",
           "linecolor": "rgb(36,36,36)",
           "showgrid": false,
           "showline": true,
           "ticks": "outside",
           "title": {
            "standoff": 15
           },
           "zeroline": false,
           "zerolinecolor": "rgb(36,36,36)"
          }
         }
        },
        "xaxis": {
         "anchor": "y",
         "categoryarray": [
          "gavage",
          "negative_control",
          "sample"
         ],
         "categoryorder": "trace",
         "domain": [
          0,
          1
         ],
         "showticklabels": true,
         "title": {
          "text": "sample_type"
         }
        },
        "yaxis": {
         "anchor": "x",
         "domain": [
          0,
          1
         ],
         "range": [
          2,
          10
         ],
         "showticklabels": true,
         "title": {
          "text": "value"
         },
         "type": "log"
        }
       }
      }
     },
     "metadata": {},
     "output_type": "display_data"
    }
   ],
   "source": [
    "agg_dict = {'total_count': ('counts', 'sum'),\n",
    "        'total_unique_umi': ('umi_seq', 'nunique')}\n",
    "\n",
    "df_total_gpd = df_total_stack.groupby(['sample_type', 'sample']).agg(**agg_dict)\n",
    "\n",
    "df_total_gpd = df_total_gpd.reset_index()\n",
    "df_total_gpd = df_total_gpd.set_index(['sample_type', 'sample']).stack()\n",
    "df_total_gpd = df_total_gpd.reset_index()\n",
    "df_total_gpd = df_total_gpd.rename(columns = {'level_2':'type', 0:'value'})\n",
    "df_total_gpd\n",
    "\n",
    "df_plot = df_total_gpd.loc[df_total_gpd['type'].str.contains('ST')==False]\n",
    "fig = px.box(df_plot,\n",
    "             x = 'sample_type',\n",
    "             y = 'value',\n",
    "             color = 'type',\n",
    "             hover_data = ['sample'],\n",
    "             template = 'simple_white',\n",
    "             points = 'all',\n",
    "             log_y = True,\n",
    "            category_orders={'sample_type': sorted(df_plot['sample_type'].unique())}\n",
    "             )\n",
    "\n",
    "fig.update_xaxes(matches=None, categoryorder='trace', showticklabels=True)\n",
    "fig.update_yaxes(matches=None, showticklabels=True)\n",
    "fig.update_yaxes(col=1, range=[2, 10])\n",
    "fig.show()"
   ]
  },
  {
   "cell_type": "code",
   "execution_count": 162,
   "id": "983658a7",
   "metadata": {},
   "outputs": [
    {
     "data": {
      "text/html": [
       "<div>\n",
       "<style scoped>\n",
       "    .dataframe tbody tr th:only-of-type {\n",
       "        vertical-align: middle;\n",
       "    }\n",
       "\n",
       "    .dataframe tbody tr th {\n",
       "        vertical-align: top;\n",
       "    }\n",
       "\n",
       "    .dataframe thead th {\n",
       "        text-align: right;\n",
       "    }\n",
       "</style>\n",
       "<table border=\"1\" class=\"dataframe\">\n",
       "  <thead>\n",
       "    <tr style=\"text-align: right;\">\n",
       "      <th></th>\n",
       "      <th>sample_type</th>\n",
       "      <th>sample</th>\n",
       "      <th>strain</th>\n",
       "      <th>level_3</th>\n",
       "      <th>0</th>\n",
       "    </tr>\n",
       "  </thead>\n",
       "  <tbody>\n",
       "    <tr>\n",
       "      <th>0</th>\n",
       "      <td>gavage</td>\n",
       "      <td>P4C2T4_s81-B3_Gavage-DNA</td>\n",
       "      <td>ST1</td>\n",
       "      <td>total_count</td>\n",
       "      <td>61718.0</td>\n",
       "    </tr>\n",
       "    <tr>\n",
       "      <th>1</th>\n",
       "      <td>gavage</td>\n",
       "      <td>P4C2T4_s81-B3_Gavage-DNA</td>\n",
       "      <td>ST1</td>\n",
       "      <td>total_unique_umi</td>\n",
       "      <td>4942.0</td>\n",
       "    </tr>\n",
       "    <tr>\n",
       "      <th>2</th>\n",
       "      <td>gavage</td>\n",
       "      <td>P4C2T4_s81-B3_Gavage-DNA</td>\n",
       "      <td>ST2</td>\n",
       "      <td>total_count</td>\n",
       "      <td>12077.0</td>\n",
       "    </tr>\n",
       "    <tr>\n",
       "      <th>3</th>\n",
       "      <td>gavage</td>\n",
       "      <td>P4C2T4_s81-B3_Gavage-DNA</td>\n",
       "      <td>ST2</td>\n",
       "      <td>total_unique_umi</td>\n",
       "      <td>975.0</td>\n",
       "    </tr>\n",
       "    <tr>\n",
       "      <th>4</th>\n",
       "      <td>gavage</td>\n",
       "      <td>P4C2T4_s81-B3_Gavage-DNA</td>\n",
       "      <td>ST4</td>\n",
       "      <td>total_count</td>\n",
       "      <td>3045434.0</td>\n",
       "    </tr>\n",
       "    <tr>\n",
       "      <th>...</th>\n",
       "      <td>...</td>\n",
       "      <td>...</td>\n",
       "      <td>...</td>\n",
       "      <td>...</td>\n",
       "      <td>...</td>\n",
       "    </tr>\n",
       "    <tr>\n",
       "      <th>1281</th>\n",
       "      <td>sample</td>\n",
       "      <td>P4C2T5_s99-C7_Pr.-Colon-DNA</td>\n",
       "      <td>ST4</td>\n",
       "      <td>total_unique_umi</td>\n",
       "      <td>1696.0</td>\n",
       "    </tr>\n",
       "    <tr>\n",
       "      <th>1282</th>\n",
       "      <td>sample</td>\n",
       "      <td>P4C2T5_s99-C7_Pr.-Colon-DNA</td>\n",
       "      <td>ST5</td>\n",
       "      <td>total_count</td>\n",
       "      <td>100681.0</td>\n",
       "    </tr>\n",
       "    <tr>\n",
       "      <th>1283</th>\n",
       "      <td>sample</td>\n",
       "      <td>P4C2T5_s99-C7_Pr.-Colon-DNA</td>\n",
       "      <td>ST5</td>\n",
       "      <td>total_unique_umi</td>\n",
       "      <td>2329.0</td>\n",
       "    </tr>\n",
       "    <tr>\n",
       "      <th>1284</th>\n",
       "      <td>sample</td>\n",
       "      <td>P4C2T5_s99-C7_Pr.-Colon-DNA</td>\n",
       "      <td>ST6</td>\n",
       "      <td>total_count</td>\n",
       "      <td>96.0</td>\n",
       "    </tr>\n",
       "    <tr>\n",
       "      <th>1285</th>\n",
       "      <td>sample</td>\n",
       "      <td>P4C2T5_s99-C7_Pr.-Colon-DNA</td>\n",
       "      <td>ST6</td>\n",
       "      <td>total_unique_umi</td>\n",
       "      <td>91.0</td>\n",
       "    </tr>\n",
       "  </tbody>\n",
       "</table>\n",
       "<p>1286 rows × 5 columns</p>\n",
       "</div>"
      ],
      "text/plain": [
       "     sample_type                       sample strain           level_3  \\\n",
       "0         gavage     P4C2T4_s81-B3_Gavage-DNA    ST1       total_count   \n",
       "1         gavage     P4C2T4_s81-B3_Gavage-DNA    ST1  total_unique_umi   \n",
       "2         gavage     P4C2T4_s81-B3_Gavage-DNA    ST2       total_count   \n",
       "3         gavage     P4C2T4_s81-B3_Gavage-DNA    ST2  total_unique_umi   \n",
       "4         gavage     P4C2T4_s81-B3_Gavage-DNA    ST4       total_count   \n",
       "...          ...                          ...    ...               ...   \n",
       "1281      sample  P4C2T5_s99-C7_Pr.-Colon-DNA    ST4  total_unique_umi   \n",
       "1282      sample  P4C2T5_s99-C7_Pr.-Colon-DNA    ST5       total_count   \n",
       "1283      sample  P4C2T5_s99-C7_Pr.-Colon-DNA    ST5  total_unique_umi   \n",
       "1284      sample  P4C2T5_s99-C7_Pr.-Colon-DNA    ST6       total_count   \n",
       "1285      sample  P4C2T5_s99-C7_Pr.-Colon-DNA    ST6  total_unique_umi   \n",
       "\n",
       "              0  \n",
       "0       61718.0  \n",
       "1        4942.0  \n",
       "2       12077.0  \n",
       "3         975.0  \n",
       "4     3045434.0  \n",
       "...         ...  \n",
       "1281     1696.0  \n",
       "1282   100681.0  \n",
       "1283     2329.0  \n",
       "1284       96.0  \n",
       "1285       91.0  \n",
       "\n",
       "[1286 rows x 5 columns]"
      ]
     },
     "metadata": {},
     "output_type": "display_data"
    },
    {
     "data": {
      "application/vnd.plotly.v1+json": {
       "config": {
        "plotlyServerURL": "https://plotly.com"
       },
       "data": [
        {
         "alignmentgroup": "True",
         "boxpoints": "all",
         "customdata": [
          [
           "P4C2T4_s81-B3_Gavage-DNA"
          ],
          [
           "P4C2T4_s81-B8_Gavage-DNA"
          ],
          [
           "P4C2T4_s82-A10_Gavage-DNA"
          ],
          [
           "P4C2T4_s82-A5_Gavage-DNA"
          ],
          [
           "P4C2T5_s121-F8_Gavage-DNA"
          ],
          [
           "P4C2T5_s122-G8_Gavage-DNA"
          ],
          [
           "NTC_F3_NTC"
          ],
          [
           "NTC_G10_NTC"
          ],
          [
           "NTC_G5_NTC"
          ],
          [
           "NTC_H10_NTC"
          ],
          [
           "NTC_H5_NTC"
          ],
          [
           "WATER_A2_WATER"
          ],
          [
           "WATER_A7_WATER"
          ],
          [
           "P4C2T4_s1-A1_stool-DNA"
          ],
          [
           "P4C2T4_s1-A6_stool-DNA"
          ],
          [
           "P4C2T4_s11-F1_stool-DNA"
          ],
          [
           "P4C2T4_s11-F6_stool-DNA"
          ],
          [
           "P4C2T4_s13-G1_stool-DNA"
          ],
          [
           "P4C2T4_s13-G6_stool-DNA"
          ],
          [
           "P4C2T4_s17-H1_stool-DNA"
          ],
          [
           "P4C2T4_s17-H6_stool-DNA"
          ],
          [
           "P4C2T4_s19-B2_stool-DNA"
          ],
          [
           "P4C2T4_s19-B7_stool-DNA"
          ],
          [
           "P4C2T4_s21-C2_stool-DNA"
          ],
          [
           "P4C2T4_s21-C7_stool-DNA"
          ],
          [
           "P4C2T4_s23-D2_stool-DNA"
          ],
          [
           "P4C2T4_s23-D7_stool-DNA"
          ],
          [
           "P4C2T4_s25-E2_stool-DNA"
          ],
          [
           "P4C2T4_s25-E7_stool-DNA"
          ],
          [
           "P4C2T4_s27-F2_stool-DNA"
          ],
          [
           "P4C2T4_s27-F7_stool-DNA"
          ],
          [
           "P4C2T4_s29-G2_stool-DNA"
          ],
          [
           "P4C2T4_s29-G7_stool-DNA"
          ],
          [
           "P4C2T4_s3-B1_stool-DNA"
          ],
          [
           "P4C2T4_s3-B6_stool-DNA"
          ],
          [
           "P4C2T4_s33-H2_SI-DNA"
          ],
          [
           "P4C2T4_s33-H7_SI-DNA"
          ],
          [
           "P4C2T4_s35-A3_SI-DNA"
          ],
          [
           "P4C2T4_s35-A8_SI-DNA"
          ],
          [
           "P4C2T4_s37-C3_SI-DNA"
          ],
          [
           "P4C2T4_s37-C8_SI-DNA"
          ],
          [
           "P4C2T4_s39-D3_SI-DNA"
          ],
          [
           "P4C2T4_s39-D8_SI-DNA"
          ],
          [
           "P4C2T4_s41-E3_SI-DNA"
          ],
          [
           "P4C2T4_s41-E8_SI-DNA"
          ],
          [
           "P4C2T4_s43-F3_SI-DNA"
          ],
          [
           "P4C2T4_s43-F8_SI-DNA"
          ],
          [
           "P4C2T4_s45-G3_SI-DNA"
          ],
          [
           "P4C2T4_s45-G8_SI-DNA"
          ],
          [
           "P4C2T4_s49-H3_Cecum-DNA"
          ],
          [
           "P4C2T4_s49-H8_Cecum-DNA"
          ],
          [
           "P4C2T4_s5-C1_stool-DNA"
          ],
          [
           "P4C2T4_s5-C6_stool-DNA"
          ],
          [
           "P4C2T4_s51-A4_Cecum-DNA"
          ],
          [
           "P4C2T4_s51-A9_Cecum-DNA"
          ],
          [
           "P4C2T4_s53-B4_Cecum-DNA"
          ],
          [
           "P4C2T4_s53-B9_Cecum-DNA"
          ],
          [
           "P4C2T4_s55-C4_Cecum-DNA"
          ],
          [
           "P4C2T4_s55-C9_Cecum-DNA"
          ],
          [
           "P4C2T4_s57-D4_Cecum-DNA"
          ],
          [
           "P4C2T4_s57-D9_Cecum-DNA"
          ],
          [
           "P4C2T4_s59-E4_Cecum-DNA"
          ],
          [
           "P4C2T4_s59-E9_Cecum-DNA"
          ],
          [
           "P4C2T4_s61-F4_Cecum-DNA"
          ],
          [
           "P4C2T4_s61-F9_Cecum-DNA"
          ],
          [
           "P4C2T4_s65-G4_Pr.-Colon-DNA"
          ],
          [
           "P4C2T4_s65-G9_Pr.-Colon-DNA"
          ],
          [
           "P4C2T4_s67-H4_Pr.-Colon-DNA"
          ],
          [
           "P4C2T4_s67-H9_Pr.-Colon-DNA"
          ],
          [
           "P4C2T4_s69-B10_Pr.-Colon-DNA"
          ],
          [
           "P4C2T4_s69-B5_Pr.-Colon-DNA"
          ],
          [
           "P4C2T4_s7-D1_stool-DNA"
          ],
          [
           "P4C2T4_s7-D6_stool-DNA"
          ],
          [
           "P4C2T4_s71-C10_Pr.-Colon-DNA"
          ],
          [
           "P4C2T4_s71-C5_Pr.-Colon-DNA"
          ],
          [
           "P4C2T4_s73-D10_Pr.-Colon-DNA"
          ],
          [
           "P4C2T4_s73-D5_Pr.-Colon-DNA"
          ],
          [
           "P4C2T4_s75-E10_Pr.-Colon-DNA"
          ],
          [
           "P4C2T4_s75-E5_Pr.-Colon-DNA"
          ],
          [
           "P4C2T4_s77-F10_Pr.-Colon-DNA"
          ],
          [
           "P4C2T4_s77-F5_Pr.-Colon-DNA"
          ],
          [
           "P4C2T4_s9-E1_stool-DNA"
          ],
          [
           "P4C2T4_s9-E6_stool-DNA"
          ],
          [
           "P4C2T5_s1-A1_stool-DNA"
          ],
          [
           "P4C2T5_s101-D7_Pr.-Colon-DNA"
          ],
          [
           "P4C2T5_s103-E7_Pr.-Colon-DNA"
          ],
          [
           "P4C2T5_s105-F7_Pr.-Colon-DNA"
          ],
          [
           "P4C2T5_s107-G7_Pr.-Colon-DNA"
          ],
          [
           "P4C2T5_s109-H7_Pr.-Colon-DNA"
          ],
          [
           "P4C2T5_s11-F1_stool-DNA"
          ],
          [
           "P4C2T5_s111-A8_Pr.-Colon-DNA"
          ],
          [
           "P4C2T5_s113-B8_Pr.-Colon-DNA"
          ],
          [
           "P4C2T5_s115-C8_Pr.-Colon-DNA"
          ],
          [
           "P4C2T5_s117-D8_Pr.-Colon-DNA"
          ],
          [
           "P4C2T5_s119-E8_Pr.-Colon-DNA"
          ],
          [
           "P4C2T5_s13-G1_stool-DNA"
          ],
          [
           "P4C2T5_s15-H1_stool-DNA"
          ],
          [
           "P4C2T5_s17-A2_stool-DNA"
          ],
          [
           "P4C2T5_s19-B2_stool-DNA"
          ],
          [
           "P4C2T5_s21-C2_stool-DNA"
          ],
          [
           "P4C2T5_s23-D2_stool-DNA"
          ],
          [
           "P4C2T5_s25-E2_stool-DNA"
          ],
          [
           "P4C2T5_s27-F2_stool-DNA"
          ],
          [
           "P4C2T5_s29-G2_stool-DNA"
          ],
          [
           "P4C2T5_s3-B1_stool-DNA"
          ],
          [
           "P4C2T5_s31-H2_stool-DNA"
          ],
          [
           "P4C2T5_s33-A3_stool-DNA"
          ],
          [
           "P4C2T5_s35-B3_stool-DNA"
          ],
          [
           "P4C2T5_s37-C3_stool-DNA"
          ],
          [
           "P4C2T5_s39-D3_stool-DNA"
          ],
          [
           "P4C2T5_s41-E3_stool-DNA"
          ],
          [
           "P4C2T5_s43-G3_stool-DNA"
          ],
          [
           "P4C2T5_s45-H3_stool-DNA"
          ],
          [
           "P4C2T5_s47-A4_stool-DNA"
          ],
          [
           "P4C2T5_s49-B4_SI-DNA"
          ],
          [
           "P4C2T5_s5-C1_stool-DNA"
          ],
          [
           "P4C2T5_s51-C4_SI-DNA"
          ],
          [
           "P4C2T5_s53-D4_SI-DNA"
          ],
          [
           "P4C2T5_s55-E4_SI-DNA"
          ],
          [
           "P4C2T5_s57-F4_SI-DNA"
          ],
          [
           "P4C2T5_s59-G4_SI-DNA"
          ],
          [
           "P4C2T5_s61-H4_SI-DNA"
          ],
          [
           "P4C2T5_s63-A5_SI-DNA"
          ],
          [
           "P4C2T5_s65-B5_SI-DNA"
          ],
          [
           "P4C2T5_s67-C5_SI-DNA"
          ],
          [
           "P4C2T5_s69-D5_SI-DNA"
          ],
          [
           "P4C2T5_s7-D1_stool-DNA"
          ],
          [
           "P4C2T5_s71-E5_SI-DNA"
          ],
          [
           "P4C2T5_s73-F5_Cecum-DNA"
          ],
          [
           "P4C2T5_s75-G5_Cecum-DNA"
          ],
          [
           "P4C2T5_s77-H5_Cecum-DNA"
          ],
          [
           "P4C2T5_s79-A6_Cecum-DNA"
          ],
          [
           "P4C2T5_s81-B6_Cecum-DNA"
          ],
          [
           "P4C2T5_s83-C6_Cecum-DNA"
          ],
          [
           "P4C2T5_s85-D6_Cecum-DNA"
          ],
          [
           "P4C2T5_s87-E6_Cecum-DNA"
          ],
          [
           "P4C2T5_s89-F6_Cecum-DNA"
          ],
          [
           "P4C2T5_s9-E1_stool-DNA"
          ],
          [
           "P4C2T5_s91-G6_Cecum-DNA"
          ],
          [
           "P4C2T5_s93-H6_Cecum-DNA"
          ],
          [
           "P4C2T5_s95-A7_Cecum-DNA"
          ],
          [
           "P4C2T5_s97-B7_Pr.-Colon-DNA"
          ],
          [
           "P4C2T5_s99-C7_Pr.-Colon-DNA"
          ]
         ],
         "hovertemplate": "strain=ST1<br>type=total_count<br>sample_type=%{x}<br>value=%{y}<br>sample=%{customdata[0]}<extra></extra>",
         "legendgroup": "ST1",
         "marker": {
          "color": "#1F77B4"
         },
         "name": "ST1",
         "notched": false,
         "offsetgroup": "ST1",
         "orientation": "v",
         "showlegend": true,
         "type": "box",
         "x": [
          "gavage",
          "gavage",
          "gavage",
          "gavage",
          "gavage",
          "gavage",
          "negative_control",
          "negative_control",
          "negative_control",
          "negative_control",
          "negative_control",
          "negative_control",
          "negative_control",
          "sample",
          "sample",
          "sample",
          "sample",
          "sample",
          "sample",
          "sample",
          "sample",
          "sample",
          "sample",
          "sample",
          "sample",
          "sample",
          "sample",
          "sample",
          "sample",
          "sample",
          "sample",
          "sample",
          "sample",
          "sample",
          "sample",
          "sample",
          "sample",
          "sample",
          "sample",
          "sample",
          "sample",
          "sample",
          "sample",
          "sample",
          "sample",
          "sample",
          "sample",
          "sample",
          "sample",
          "sample",
          "sample",
          "sample",
          "sample",
          "sample",
          "sample",
          "sample",
          "sample",
          "sample",
          "sample",
          "sample",
          "sample",
          "sample",
          "sample",
          "sample",
          "sample",
          "sample",
          "sample",
          "sample",
          "sample",
          "sample",
          "sample",
          "sample",
          "sample",
          "sample",
          "sample",
          "sample",
          "sample",
          "sample",
          "sample",
          "sample",
          "sample",
          "sample",
          "sample",
          "sample",
          "sample",
          "sample",
          "sample",
          "sample",
          "sample",
          "sample",
          "sample",
          "sample",
          "sample",
          "sample",
          "sample",
          "sample",
          "sample",
          "sample",
          "sample",
          "sample",
          "sample",
          "sample",
          "sample",
          "sample",
          "sample",
          "sample",
          "sample",
          "sample",
          "sample",
          "sample",
          "sample",
          "sample",
          "sample",
          "sample",
          "sample",
          "sample",
          "sample",
          "sample",
          "sample",
          "sample",
          "sample",
          "sample",
          "sample",
          "sample",
          "sample",
          "sample",
          "sample",
          "sample",
          "sample",
          "sample",
          "sample",
          "sample",
          "sample",
          "sample",
          "sample",
          "sample",
          "sample",
          "sample",
          "sample",
          "sample",
          "sample",
          "sample",
          "sample"
         ],
         "x0": " ",
         "xaxis": "x2",
         "y": {
          "bdata": "AAAAAMAi7kAAAAAA4HjkQAAAAACA5uxAAAAAAIBX7UAAAAAA2MwIQQAAAAC9+TBBAAAAAJDBBEEAAAAAUGfyQAAAAAAgn+lAAAAAAIDUxEAAAAAAsLTyQAAAAAAAQrNAAAAAAAAqsEAAAAAAAODLQAAAAAAAWMtAAAAAAABq7EAAAAAAwB/RQAAAAADAoedAAAAAAGAG8EAAAAAAMLsJQQAAAACoqAtBAAAAALYBI0EAAAAA/CwrQQAAAIC+bkVBAAAAAABGpkAAAAAAANG5QAAAAAAAg7VAAAAAgKIFU0EAAADgEy9oQQAAAACAlupAAAAAAAC58EAAAAAAUCLwQAAAAACAzORAAAAAAFAL/kAAAAAA+AUFQQAAAABwYPNAAAAAAOAr8UAAAAAAgHrlQAAAAAAg4+9AAAAAAABv0EAAAAAAAGCfQAAAAAAAg7FAAAAAAAAutEAAAAAAKIMUQQAAAAAI1AxBAAAAAMAZ3EAAAAAAIArrQAAAAABA0fFAAAAAAKAr5kAAAAAAbLUvQQAAAAAcTjhBAAAAAAA5uEAAAAAAAMS5QAAAAACAdC9BAAAAAGsEM0EAAAAAAIC2QAAAAAAAuqFAAAAAAABwx0AAAAAAAHW1QAAAAACz2z5BAAAAALD7L0EAAAAAQM3UQAAAAAAAxKNAAAAAAACA1EAAAAAAQALbQAAAAABI3SlBAAAAAGxKHUEAAAAAaOoGQQAAAABELR9BAAAAAACOtkAAAAAAAHirQAAAAAAAnKVAAAAAAAAQpEAAAAAAADCvQAAAAAAA4bRAAAAAgDOdSUEAAAAAi/BAQQAAAAAAPLJAAAAAAAD6yEAAAAAAIFbgQAAAAADAAtBAAAAAAACFsUAAAAAAAOzDQAAAAAAACK1AAAAAAOB9AUEAAAAAW4xWQQAAAAAwphVBAAAAQIP4XEEAAAAAZA47QQAAAABojUVBAAAAAKwaO0EAAAAA+uQ4QQAAAAAA1NdAAAAAAJA2+UAAAAAAACW/QAAAAABiw2hBAAAAwGcjXUEAAAAA4JEaQQAAAAA0LDtBAAAAAIAe70AAAAAA9E08QQAAAABr8D9BAAAAAGBM90AAAAAAsLkgQQAAAACAy9NAAAAAABuxR0EAAACAmEVOQQAAAMC481BBAAAAAIVVRkEAAAAAWT8zQQAAAIBxnoBBAAAAAIAq4kAAAAAAAA67QAAAAMDUHlBBAAAAAABls0AAAAAAla5OQQAAAAAtuExBAAAAAIBD40AAAAAAAFjvQAAAAIBC8GFBAAAAAAypIUEAAAAAWB9BQQAAAFCv4npBAAAASNUsh0EAAAAA4uk3QQAAAAAAuNRAAAAAAEiQAEEAAABAbEtRQQAAAAAAfqJAAAAAAACjsUAAAAAAwDf1QAAAAOCbp2NBAAAAgDLFXkEAAAAAfrhCQQAAAAA+6S5BAAAAyI10gEEAAABASsBVQQAAAIDKDEFBAAAAQGm/U0EAAAAAwK/SQAAAAOBoA2RBAAAAQGqLYEEAAAAAQHjkQA==",
          "dtype": "f8"
         },
         "y0": " ",
         "yaxis": "y2"
        },
        {
         "alignmentgroup": "True",
         "boxpoints": "all",
         "customdata": [
          [
           "P4C2T4_s81-B3_Gavage-DNA"
          ],
          [
           "P4C2T4_s81-B8_Gavage-DNA"
          ],
          [
           "P4C2T4_s82-A10_Gavage-DNA"
          ],
          [
           "P4C2T4_s82-A5_Gavage-DNA"
          ],
          [
           "P4C2T5_s121-F8_Gavage-DNA"
          ],
          [
           "P4C2T5_s122-G8_Gavage-DNA"
          ],
          [
           "NTC_F3_NTC"
          ],
          [
           "NTC_G10_NTC"
          ],
          [
           "NTC_G5_NTC"
          ],
          [
           "NTC_H10_NTC"
          ],
          [
           "NTC_H5_NTC"
          ],
          [
           "WATER_A2_WATER"
          ],
          [
           "WATER_A7_WATER"
          ],
          [
           "P4C2T4_s1-A1_stool-DNA"
          ],
          [
           "P4C2T4_s1-A6_stool-DNA"
          ],
          [
           "P4C2T4_s11-F1_stool-DNA"
          ],
          [
           "P4C2T4_s11-F6_stool-DNA"
          ],
          [
           "P4C2T4_s13-G1_stool-DNA"
          ],
          [
           "P4C2T4_s13-G6_stool-DNA"
          ],
          [
           "P4C2T4_s17-H1_stool-DNA"
          ],
          [
           "P4C2T4_s17-H6_stool-DNA"
          ],
          [
           "P4C2T4_s19-B2_stool-DNA"
          ],
          [
           "P4C2T4_s19-B7_stool-DNA"
          ],
          [
           "P4C2T4_s21-C2_stool-DNA"
          ],
          [
           "P4C2T4_s21-C7_stool-DNA"
          ],
          [
           "P4C2T4_s23-D2_stool-DNA"
          ],
          [
           "P4C2T4_s23-D7_stool-DNA"
          ],
          [
           "P4C2T4_s25-E2_stool-DNA"
          ],
          [
           "P4C2T4_s25-E7_stool-DNA"
          ],
          [
           "P4C2T4_s27-F2_stool-DNA"
          ],
          [
           "P4C2T4_s27-F7_stool-DNA"
          ],
          [
           "P4C2T4_s29-G2_stool-DNA"
          ],
          [
           "P4C2T4_s29-G7_stool-DNA"
          ],
          [
           "P4C2T4_s3-B1_stool-DNA"
          ],
          [
           "P4C2T4_s3-B6_stool-DNA"
          ],
          [
           "P4C2T4_s33-H2_SI-DNA"
          ],
          [
           "P4C2T4_s33-H7_SI-DNA"
          ],
          [
           "P4C2T4_s35-A3_SI-DNA"
          ],
          [
           "P4C2T4_s35-A8_SI-DNA"
          ],
          [
           "P4C2T4_s37-C3_SI-DNA"
          ],
          [
           "P4C2T4_s37-C8_SI-DNA"
          ],
          [
           "P4C2T4_s39-D3_SI-DNA"
          ],
          [
           "P4C2T4_s39-D8_SI-DNA"
          ],
          [
           "P4C2T4_s41-E3_SI-DNA"
          ],
          [
           "P4C2T4_s41-E8_SI-DNA"
          ],
          [
           "P4C2T4_s43-F3_SI-DNA"
          ],
          [
           "P4C2T4_s43-F8_SI-DNA"
          ],
          [
           "P4C2T4_s45-G3_SI-DNA"
          ],
          [
           "P4C2T4_s45-G8_SI-DNA"
          ],
          [
           "P4C2T4_s49-H3_Cecum-DNA"
          ],
          [
           "P4C2T4_s49-H8_Cecum-DNA"
          ],
          [
           "P4C2T4_s5-C1_stool-DNA"
          ],
          [
           "P4C2T4_s5-C6_stool-DNA"
          ],
          [
           "P4C2T4_s51-A4_Cecum-DNA"
          ],
          [
           "P4C2T4_s51-A9_Cecum-DNA"
          ],
          [
           "P4C2T4_s53-B4_Cecum-DNA"
          ],
          [
           "P4C2T4_s53-B9_Cecum-DNA"
          ],
          [
           "P4C2T4_s55-C4_Cecum-DNA"
          ],
          [
           "P4C2T4_s55-C9_Cecum-DNA"
          ],
          [
           "P4C2T4_s57-D4_Cecum-DNA"
          ],
          [
           "P4C2T4_s57-D9_Cecum-DNA"
          ],
          [
           "P4C2T4_s59-E4_Cecum-DNA"
          ],
          [
           "P4C2T4_s59-E9_Cecum-DNA"
          ],
          [
           "P4C2T4_s61-F4_Cecum-DNA"
          ],
          [
           "P4C2T4_s61-F9_Cecum-DNA"
          ],
          [
           "P4C2T4_s65-G4_Pr.-Colon-DNA"
          ],
          [
           "P4C2T4_s65-G9_Pr.-Colon-DNA"
          ],
          [
           "P4C2T4_s67-H4_Pr.-Colon-DNA"
          ],
          [
           "P4C2T4_s67-H9_Pr.-Colon-DNA"
          ],
          [
           "P4C2T4_s69-B10_Pr.-Colon-DNA"
          ],
          [
           "P4C2T4_s69-B5_Pr.-Colon-DNA"
          ],
          [
           "P4C2T4_s7-D1_stool-DNA"
          ],
          [
           "P4C2T4_s7-D6_stool-DNA"
          ],
          [
           "P4C2T4_s71-C10_Pr.-Colon-DNA"
          ],
          [
           "P4C2T4_s71-C5_Pr.-Colon-DNA"
          ],
          [
           "P4C2T4_s73-D10_Pr.-Colon-DNA"
          ],
          [
           "P4C2T4_s73-D5_Pr.-Colon-DNA"
          ],
          [
           "P4C2T4_s75-E10_Pr.-Colon-DNA"
          ],
          [
           "P4C2T4_s75-E5_Pr.-Colon-DNA"
          ],
          [
           "P4C2T4_s77-F10_Pr.-Colon-DNA"
          ],
          [
           "P4C2T4_s77-F5_Pr.-Colon-DNA"
          ],
          [
           "P4C2T4_s9-E1_stool-DNA"
          ],
          [
           "P4C2T4_s9-E6_stool-DNA"
          ],
          [
           "P4C2T5_s1-A1_stool-DNA"
          ],
          [
           "P4C2T5_s101-D7_Pr.-Colon-DNA"
          ],
          [
           "P4C2T5_s103-E7_Pr.-Colon-DNA"
          ],
          [
           "P4C2T5_s105-F7_Pr.-Colon-DNA"
          ],
          [
           "P4C2T5_s107-G7_Pr.-Colon-DNA"
          ],
          [
           "P4C2T5_s109-H7_Pr.-Colon-DNA"
          ],
          [
           "P4C2T5_s11-F1_stool-DNA"
          ],
          [
           "P4C2T5_s111-A8_Pr.-Colon-DNA"
          ],
          [
           "P4C2T5_s113-B8_Pr.-Colon-DNA"
          ],
          [
           "P4C2T5_s115-C8_Pr.-Colon-DNA"
          ],
          [
           "P4C2T5_s117-D8_Pr.-Colon-DNA"
          ],
          [
           "P4C2T5_s119-E8_Pr.-Colon-DNA"
          ],
          [
           "P4C2T5_s13-G1_stool-DNA"
          ],
          [
           "P4C2T5_s15-H1_stool-DNA"
          ],
          [
           "P4C2T5_s17-A2_stool-DNA"
          ],
          [
           "P4C2T5_s19-B2_stool-DNA"
          ],
          [
           "P4C2T5_s21-C2_stool-DNA"
          ],
          [
           "P4C2T5_s23-D2_stool-DNA"
          ],
          [
           "P4C2T5_s25-E2_stool-DNA"
          ],
          [
           "P4C2T5_s27-F2_stool-DNA"
          ],
          [
           "P4C2T5_s29-G2_stool-DNA"
          ],
          [
           "P4C2T5_s3-B1_stool-DNA"
          ],
          [
           "P4C2T5_s31-H2_stool-DNA"
          ],
          [
           "P4C2T5_s33-A3_stool-DNA"
          ],
          [
           "P4C2T5_s35-B3_stool-DNA"
          ],
          [
           "P4C2T5_s37-C3_stool-DNA"
          ],
          [
           "P4C2T5_s39-D3_stool-DNA"
          ],
          [
           "P4C2T5_s41-E3_stool-DNA"
          ],
          [
           "P4C2T5_s43-G3_stool-DNA"
          ],
          [
           "P4C2T5_s45-H3_stool-DNA"
          ],
          [
           "P4C2T5_s47-A4_stool-DNA"
          ],
          [
           "P4C2T5_s49-B4_SI-DNA"
          ],
          [
           "P4C2T5_s5-C1_stool-DNA"
          ],
          [
           "P4C2T5_s51-C4_SI-DNA"
          ],
          [
           "P4C2T5_s53-D4_SI-DNA"
          ],
          [
           "P4C2T5_s55-E4_SI-DNA"
          ],
          [
           "P4C2T5_s57-F4_SI-DNA"
          ],
          [
           "P4C2T5_s59-G4_SI-DNA"
          ],
          [
           "P4C2T5_s61-H4_SI-DNA"
          ],
          [
           "P4C2T5_s63-A5_SI-DNA"
          ],
          [
           "P4C2T5_s65-B5_SI-DNA"
          ],
          [
           "P4C2T5_s67-C5_SI-DNA"
          ],
          [
           "P4C2T5_s69-D5_SI-DNA"
          ],
          [
           "P4C2T5_s7-D1_stool-DNA"
          ],
          [
           "P4C2T5_s71-E5_SI-DNA"
          ],
          [
           "P4C2T5_s73-F5_Cecum-DNA"
          ],
          [
           "P4C2T5_s75-G5_Cecum-DNA"
          ],
          [
           "P4C2T5_s77-H5_Cecum-DNA"
          ],
          [
           "P4C2T5_s79-A6_Cecum-DNA"
          ],
          [
           "P4C2T5_s81-B6_Cecum-DNA"
          ],
          [
           "P4C2T5_s83-C6_Cecum-DNA"
          ],
          [
           "P4C2T5_s85-D6_Cecum-DNA"
          ],
          [
           "P4C2T5_s87-E6_Cecum-DNA"
          ],
          [
           "P4C2T5_s89-F6_Cecum-DNA"
          ],
          [
           "P4C2T5_s9-E1_stool-DNA"
          ],
          [
           "P4C2T5_s91-G6_Cecum-DNA"
          ],
          [
           "P4C2T5_s93-H6_Cecum-DNA"
          ],
          [
           "P4C2T5_s95-A7_Cecum-DNA"
          ],
          [
           "P4C2T5_s97-B7_Pr.-Colon-DNA"
          ],
          [
           "P4C2T5_s99-C7_Pr.-Colon-DNA"
          ]
         ],
         "hovertemplate": "strain=ST1<br>type=total_unique_umi<br>sample_type=%{x}<br>value=%{y}<br>sample=%{customdata[0]}<extra></extra>",
         "legendgroup": "ST1",
         "marker": {
          "color": "#1F77B4"
         },
         "name": "ST1",
         "notched": false,
         "offsetgroup": "ST1",
         "orientation": "v",
         "showlegend": false,
         "type": "box",
         "x": [
          "gavage",
          "gavage",
          "gavage",
          "gavage",
          "gavage",
          "gavage",
          "negative_control",
          "negative_control",
          "negative_control",
          "negative_control",
          "negative_control",
          "negative_control",
          "negative_control",
          "sample",
          "sample",
          "sample",
          "sample",
          "sample",
          "sample",
          "sample",
          "sample",
          "sample",
          "sample",
          "sample",
          "sample",
          "sample",
          "sample",
          "sample",
          "sample",
          "sample",
          "sample",
          "sample",
          "sample",
          "sample",
          "sample",
          "sample",
          "sample",
          "sample",
          "sample",
          "sample",
          "sample",
          "sample",
          "sample",
          "sample",
          "sample",
          "sample",
          "sample",
          "sample",
          "sample",
          "sample",
          "sample",
          "sample",
          "sample",
          "sample",
          "sample",
          "sample",
          "sample",
          "sample",
          "sample",
          "sample",
          "sample",
          "sample",
          "sample",
          "sample",
          "sample",
          "sample",
          "sample",
          "sample",
          "sample",
          "sample",
          "sample",
          "sample",
          "sample",
          "sample",
          "sample",
          "sample",
          "sample",
          "sample",
          "sample",
          "sample",
          "sample",
          "sample",
          "sample",
          "sample",
          "sample",
          "sample",
          "sample",
          "sample",
          "sample",
          "sample",
          "sample",
          "sample",
          "sample",
          "sample",
          "sample",
          "sample",
          "sample",
          "sample",
          "sample",
          "sample",
          "sample",
          "sample",
          "sample",
          "sample",
          "sample",
          "sample",
          "sample",
          "sample",
          "sample",
          "sample",
          "sample",
          "sample",
          "sample",
          "sample",
          "sample",
          "sample",
          "sample",
          "sample",
          "sample",
          "sample",
          "sample",
          "sample",
          "sample",
          "sample",
          "sample",
          "sample",
          "sample",
          "sample",
          "sample",
          "sample",
          "sample",
          "sample",
          "sample",
          "sample",
          "sample",
          "sample",
          "sample",
          "sample",
          "sample",
          "sample",
          "sample",
          "sample",
          "sample"
         ],
         "x0": " ",
         "xaxis": "x",
         "y": {
          "bdata": "AAAAAABOs0AAAAAAAMqyQAAAAAAABbdAAAAAAAA/vUAAAAAAANe+QAAAAAAAzKZAAAAAAACmq0AAAAAAAFB7QAAAAAAAkHtAAAAAAACweUAAAAAAAP6hQAAAAAAAAE9AAAAAAABAUUAAAAAAAKBpQAAAAAAAQGlAAAAAAABAc0AAAAAAAOBnQAAAAAAAxJZAAAAAAACwe0AAAAAAAI63QAAAAAAAv7tAAAAAAABCvUAAAAAAgNvBQAAAAAAACJpAAAAAAAAANkAAAAAAAABVQAAAAAAAQFJAAAAAACBp8EAAAAAAEKP1QAAAAAAA4G9AAAAAAACgeEAAAAAAAEB5QAAAAAAAQHdAAAAAAAAAqUAAAAAAAJqoQAAAAAAA/KJAAAAAAAA+oUAAAAAAAKiaQAAAAAAATJtAAAAAAACAWEAAAAAAAAA9QAAAAAAAAE5AAAAAAAAAUEAAAAAAALqtQAAAAAAAhqtAAAAAAAAAZkAAAAAAAIByQAAAAAAAIIJAAAAAAADIgEAAAAAAgBLCQAAAAAAAIMJAAAAAAAAARkAAAAAAAABIQAAAAAAATsNAAAAAAIAUxEAAAAAAAAA8QAAAAAAAADdAAAAAAAAARUAAAAAAAIBGQAAAAACAJ8lAAAAAAID4xUAAAAAAAJiUQAAAAAAAADxAAAAAAAAAZ0AAAAAAAMBoQAAAAAAA0b9AAAAAAABivUAAAAAAANnBQAAAAAAAYrtAAAAAAAAAREAAAAAAAAA9QAAAAAAAgEdAAAAAAABAVkAAAAAAAIBDQAAAAAAAgEZAAAAAAICzy0AAAAAAAGXOQAAAAAAAgERAAAAAAABwekAAAAAAACBnQAAAAAAAwGNAAAAAAAAATkAAAAAAAIBVQAAAAAAAwF5AAAAAAAAgnEAAAAAAAPG3QAAAAAAApqFAAAAAAADqxkAAAAAAADK4QAAAAADAXtJAAAAAAAAouEAAAAAAgBXAQAAAAAAAWIBAAAAAAACoj0AAAAAAACB1QAAAAAAAYqNAAAAAAABQrkAAAAAAAEyuQAAAAAAA3qRAAAAAAACAnUAAAAAAAGSwQAAAAAAA8qBAAAAAAAAkrEAAAAAAAJqgQAAAAAAAQHhAAAAAAAAnukAAAAAAAAfEQAAAAACAxcNAAAAAAIBzxUAAAAAAAJS4QAAAAAAArL1AAAAAAAAQdUAAAAAAAEBZQAAAAAAAOKlAAAAAAADAU0AAAAAAAKigQAAAAAAAfKlAAAAAAABog0AAAAAAAGieQAAAAABAu+9AAAAAAADAo0AAAAAAAGG1QAAAAAAA4sNAAAAAAEDQ3EAAAAAAAFihQAAAAAAAEHNAAAAAAADEpkAAAAAAACCeQAAAAAAAAERAAAAAAACAR0AAAAAAACiSQAAAAAAATL1AAAAAAIAkxUAAAAAAAKDMQAAAAAAAu8VAAAAAAACdwEAAAAAAALHAQAAAAAAAl7dAAAAAAADwmEAAAAAAANBzQAAAAAAAQJlAAAAAAAAgnUAAAAAAALCAQA==",
          "dtype": "f8"
         },
         "y0": " ",
         "yaxis": "y"
        },
        {
         "alignmentgroup": "True",
         "boxpoints": "all",
         "customdata": [
          [
           "P4C2T4_s81-B3_Gavage-DNA"
          ],
          [
           "P4C2T4_s81-B8_Gavage-DNA"
          ],
          [
           "P4C2T4_s82-A10_Gavage-DNA"
          ],
          [
           "P4C2T4_s82-A5_Gavage-DNA"
          ],
          [
           "P4C2T5_s121-F8_Gavage-DNA"
          ],
          [
           "P4C2T5_s122-G8_Gavage-DNA"
          ],
          [
           "NTC_F3_NTC"
          ],
          [
           "P4C2T4_s17-H6_stool-DNA"
          ],
          [
           "P4C2T4_s19-B2_stool-DNA"
          ],
          [
           "P4C2T4_s19-B7_stool-DNA"
          ],
          [
           "P4C2T4_s35-A3_SI-DNA"
          ],
          [
           "P4C2T4_s35-A8_SI-DNA"
          ],
          [
           "P4C2T4_s43-F3_SI-DNA"
          ],
          [
           "P4C2T4_s49-H3_Cecum-DNA"
          ],
          [
           "P4C2T4_s49-H8_Cecum-DNA"
          ],
          [
           "P4C2T4_s51-A4_Cecum-DNA"
          ],
          [
           "P4C2T4_s51-A9_Cecum-DNA"
          ],
          [
           "P4C2T4_s75-E5_Pr.-Colon-DNA"
          ],
          [
           "P4C2T5_s1-A1_stool-DNA"
          ],
          [
           "P4C2T5_s101-D7_Pr.-Colon-DNA"
          ],
          [
           "P4C2T5_s103-E7_Pr.-Colon-DNA"
          ],
          [
           "P4C2T5_s105-F7_Pr.-Colon-DNA"
          ],
          [
           "P4C2T5_s107-G7_Pr.-Colon-DNA"
          ],
          [
           "P4C2T5_s109-H7_Pr.-Colon-DNA"
          ],
          [
           "P4C2T5_s11-F1_stool-DNA"
          ],
          [
           "P4C2T5_s111-A8_Pr.-Colon-DNA"
          ],
          [
           "P4C2T5_s113-B8_Pr.-Colon-DNA"
          ],
          [
           "P4C2T5_s117-D8_Pr.-Colon-DNA"
          ],
          [
           "P4C2T5_s119-E8_Pr.-Colon-DNA"
          ],
          [
           "P4C2T5_s13-G1_stool-DNA"
          ],
          [
           "P4C2T5_s15-H1_stool-DNA"
          ],
          [
           "P4C2T5_s17-A2_stool-DNA"
          ],
          [
           "P4C2T5_s19-B2_stool-DNA"
          ],
          [
           "P4C2T5_s21-C2_stool-DNA"
          ],
          [
           "P4C2T5_s23-D2_stool-DNA"
          ],
          [
           "P4C2T5_s25-E2_stool-DNA"
          ],
          [
           "P4C2T5_s27-F2_stool-DNA"
          ],
          [
           "P4C2T5_s29-G2_stool-DNA"
          ],
          [
           "P4C2T5_s3-B1_stool-DNA"
          ],
          [
           "P4C2T5_s31-H2_stool-DNA"
          ],
          [
           "P4C2T5_s33-A3_stool-DNA"
          ],
          [
           "P4C2T5_s35-B3_stool-DNA"
          ],
          [
           "P4C2T5_s37-C3_stool-DNA"
          ],
          [
           "P4C2T5_s39-D3_stool-DNA"
          ],
          [
           "P4C2T5_s41-E3_stool-DNA"
          ],
          [
           "P4C2T5_s45-H3_stool-DNA"
          ],
          [
           "P4C2T5_s47-A4_stool-DNA"
          ],
          [
           "P4C2T5_s49-B4_SI-DNA"
          ],
          [
           "P4C2T5_s5-C1_stool-DNA"
          ],
          [
           "P4C2T5_s51-C4_SI-DNA"
          ],
          [
           "P4C2T5_s53-D4_SI-DNA"
          ],
          [
           "P4C2T5_s55-E4_SI-DNA"
          ],
          [
           "P4C2T5_s57-F4_SI-DNA"
          ],
          [
           "P4C2T5_s59-G4_SI-DNA"
          ],
          [
           "P4C2T5_s61-H4_SI-DNA"
          ],
          [
           "P4C2T5_s63-A5_SI-DNA"
          ],
          [
           "P4C2T5_s65-B5_SI-DNA"
          ],
          [
           "P4C2T5_s67-C5_SI-DNA"
          ],
          [
           "P4C2T5_s69-D5_SI-DNA"
          ],
          [
           "P4C2T5_s7-D1_stool-DNA"
          ],
          [
           "P4C2T5_s71-E5_SI-DNA"
          ],
          [
           "P4C2T5_s79-A6_Cecum-DNA"
          ],
          [
           "P4C2T5_s81-B6_Cecum-DNA"
          ],
          [
           "P4C2T5_s83-C6_Cecum-DNA"
          ],
          [
           "P4C2T5_s85-D6_Cecum-DNA"
          ],
          [
           "P4C2T5_s87-E6_Cecum-DNA"
          ],
          [
           "P4C2T5_s89-F6_Cecum-DNA"
          ],
          [
           "P4C2T5_s9-E1_stool-DNA"
          ],
          [
           "P4C2T5_s91-G6_Cecum-DNA"
          ],
          [
           "P4C2T5_s95-A7_Cecum-DNA"
          ],
          [
           "P4C2T5_s97-B7_Pr.-Colon-DNA"
          ]
         ],
         "hovertemplate": "strain=ST2<br>type=total_count<br>sample_type=%{x}<br>value=%{y}<br>sample=%{customdata[0]}<extra></extra>",
         "legendgroup": "ST2",
         "marker": {
          "color": "#FF7F0E"
         },
         "name": "ST2",
         "notched": false,
         "offsetgroup": "ST2",
         "orientation": "v",
         "showlegend": true,
         "type": "box",
         "x": [
          "gavage",
          "gavage",
          "gavage",
          "gavage",
          "gavage",
          "gavage",
          "negative_control",
          "sample",
          "sample",
          "sample",
          "sample",
          "sample",
          "sample",
          "sample",
          "sample",
          "sample",
          "sample",
          "sample",
          "sample",
          "sample",
          "sample",
          "sample",
          "sample",
          "sample",
          "sample",
          "sample",
          "sample",
          "sample",
          "sample",
          "sample",
          "sample",
          "sample",
          "sample",
          "sample",
          "sample",
          "sample",
          "sample",
          "sample",
          "sample",
          "sample",
          "sample",
          "sample",
          "sample",
          "sample",
          "sample",
          "sample",
          "sample",
          "sample",
          "sample",
          "sample",
          "sample",
          "sample",
          "sample",
          "sample",
          "sample",
          "sample",
          "sample",
          "sample",
          "sample",
          "sample",
          "sample",
          "sample",
          "sample",
          "sample",
          "sample",
          "sample",
          "sample",
          "sample",
          "sample",
          "sample",
          "sample"
         ],
         "x0": " ",
         "xaxis": "x2",
         "y": {
          "bdata": "AAAAAICWx0AAAAAAgHXAQAAAAAAAXcBAAAAAAAAMxUAAAAAAYI7tQAAAAADgNOhAAAAAAAAAM0AAAAAAAAAUQAAAAAAAgFlAAAAAAACAYUAAAAAAAABeQAAAAAAAQFpAAAAAAAAA8D8AAAAAAIBYQAAAAAAAAF5AAAAAAAAAVEAAAAAAAABVQAAAAAAAAPA/AAAAAAAACEAAAAAAAJSvQAAAAAAAPKRAAAAAAAAEsEAAAAAAANahQAAAAAAAkJBAAAAAAAAANUAAAAAAAGigQAAAAAAAcItAAAAAAAD6o0AAAAAAAAAoQAAAAAAARJZAAAAAAADgcUAAAAAAAAAkQAAAAAAASOBAAAAAAAAAPkAAAAAAgIzQQAAAAAAAAGtAAAAAAAAwuUAAAAAAoNfiQAAAAAAAAPA/AAAAAAAAfUAAAAAAANB0QAAAAAAAEIhAAAAAAABAV0AAAAAAANKjQAAAAAAAwLJAAAAAAAAAfUAAAAAAAOBmQAAAAAAAgIhAAAAAAADgbUAAAAAAAABjQAAAAAAAmIRAAAAAAAAATEAAAAAAAKyUQAAAAAAAwIVAAAAAAAAAcUAAAAAAAKBgQAAAAABABO9AAAAAAACASkAAAAAAAICAQAAAAAAAAEdAAAAAAADYhEAAAAAAAOBsQAAAAAAATJ1AAAAAAACASkAAAAAAAKCeQAAAAAAAZMlAAAAAAAAUnEAAAAAA+CUBQQAAAADEphdBAAAAAADGoUAAAAAAAASbQA==",
          "dtype": "f8"
         },
         "y0": " ",
         "yaxis": "y2"
        },
        {
         "alignmentgroup": "True",
         "boxpoints": "all",
         "customdata": [
          [
           "P4C2T4_s81-B3_Gavage-DNA"
          ],
          [
           "P4C2T4_s81-B8_Gavage-DNA"
          ],
          [
           "P4C2T4_s82-A10_Gavage-DNA"
          ],
          [
           "P4C2T4_s82-A5_Gavage-DNA"
          ],
          [
           "P4C2T5_s121-F8_Gavage-DNA"
          ],
          [
           "P4C2T5_s122-G8_Gavage-DNA"
          ],
          [
           "NTC_F3_NTC"
          ],
          [
           "P4C2T4_s17-H6_stool-DNA"
          ],
          [
           "P4C2T4_s19-B2_stool-DNA"
          ],
          [
           "P4C2T4_s19-B7_stool-DNA"
          ],
          [
           "P4C2T4_s35-A3_SI-DNA"
          ],
          [
           "P4C2T4_s35-A8_SI-DNA"
          ],
          [
           "P4C2T4_s43-F3_SI-DNA"
          ],
          [
           "P4C2T4_s49-H3_Cecum-DNA"
          ],
          [
           "P4C2T4_s49-H8_Cecum-DNA"
          ],
          [
           "P4C2T4_s51-A4_Cecum-DNA"
          ],
          [
           "P4C2T4_s51-A9_Cecum-DNA"
          ],
          [
           "P4C2T4_s75-E5_Pr.-Colon-DNA"
          ],
          [
           "P4C2T5_s1-A1_stool-DNA"
          ],
          [
           "P4C2T5_s101-D7_Pr.-Colon-DNA"
          ],
          [
           "P4C2T5_s103-E7_Pr.-Colon-DNA"
          ],
          [
           "P4C2T5_s105-F7_Pr.-Colon-DNA"
          ],
          [
           "P4C2T5_s107-G7_Pr.-Colon-DNA"
          ],
          [
           "P4C2T5_s109-H7_Pr.-Colon-DNA"
          ],
          [
           "P4C2T5_s11-F1_stool-DNA"
          ],
          [
           "P4C2T5_s111-A8_Pr.-Colon-DNA"
          ],
          [
           "P4C2T5_s113-B8_Pr.-Colon-DNA"
          ],
          [
           "P4C2T5_s117-D8_Pr.-Colon-DNA"
          ],
          [
           "P4C2T5_s119-E8_Pr.-Colon-DNA"
          ],
          [
           "P4C2T5_s13-G1_stool-DNA"
          ],
          [
           "P4C2T5_s15-H1_stool-DNA"
          ],
          [
           "P4C2T5_s17-A2_stool-DNA"
          ],
          [
           "P4C2T5_s19-B2_stool-DNA"
          ],
          [
           "P4C2T5_s21-C2_stool-DNA"
          ],
          [
           "P4C2T5_s23-D2_stool-DNA"
          ],
          [
           "P4C2T5_s25-E2_stool-DNA"
          ],
          [
           "P4C2T5_s27-F2_stool-DNA"
          ],
          [
           "P4C2T5_s29-G2_stool-DNA"
          ],
          [
           "P4C2T5_s3-B1_stool-DNA"
          ],
          [
           "P4C2T5_s31-H2_stool-DNA"
          ],
          [
           "P4C2T5_s33-A3_stool-DNA"
          ],
          [
           "P4C2T5_s35-B3_stool-DNA"
          ],
          [
           "P4C2T5_s37-C3_stool-DNA"
          ],
          [
           "P4C2T5_s39-D3_stool-DNA"
          ],
          [
           "P4C2T5_s41-E3_stool-DNA"
          ],
          [
           "P4C2T5_s45-H3_stool-DNA"
          ],
          [
           "P4C2T5_s47-A4_stool-DNA"
          ],
          [
           "P4C2T5_s49-B4_SI-DNA"
          ],
          [
           "P4C2T5_s5-C1_stool-DNA"
          ],
          [
           "P4C2T5_s51-C4_SI-DNA"
          ],
          [
           "P4C2T5_s53-D4_SI-DNA"
          ],
          [
           "P4C2T5_s55-E4_SI-DNA"
          ],
          [
           "P4C2T5_s57-F4_SI-DNA"
          ],
          [
           "P4C2T5_s59-G4_SI-DNA"
          ],
          [
           "P4C2T5_s61-H4_SI-DNA"
          ],
          [
           "P4C2T5_s63-A5_SI-DNA"
          ],
          [
           "P4C2T5_s65-B5_SI-DNA"
          ],
          [
           "P4C2T5_s67-C5_SI-DNA"
          ],
          [
           "P4C2T5_s69-D5_SI-DNA"
          ],
          [
           "P4C2T5_s7-D1_stool-DNA"
          ],
          [
           "P4C2T5_s71-E5_SI-DNA"
          ],
          [
           "P4C2T5_s79-A6_Cecum-DNA"
          ],
          [
           "P4C2T5_s81-B6_Cecum-DNA"
          ],
          [
           "P4C2T5_s83-C6_Cecum-DNA"
          ],
          [
           "P4C2T5_s85-D6_Cecum-DNA"
          ],
          [
           "P4C2T5_s87-E6_Cecum-DNA"
          ],
          [
           "P4C2T5_s89-F6_Cecum-DNA"
          ],
          [
           "P4C2T5_s9-E1_stool-DNA"
          ],
          [
           "P4C2T5_s91-G6_Cecum-DNA"
          ],
          [
           "P4C2T5_s95-A7_Cecum-DNA"
          ],
          [
           "P4C2T5_s97-B7_Pr.-Colon-DNA"
          ]
         ],
         "hovertemplate": "strain=ST2<br>type=total_unique_umi<br>sample_type=%{x}<br>value=%{y}<br>sample=%{customdata[0]}<extra></extra>",
         "legendgroup": "ST2",
         "marker": {
          "color": "#FF7F0E"
         },
         "name": "ST2",
         "notched": false,
         "offsetgroup": "ST2",
         "orientation": "v",
         "showlegend": false,
         "type": "box",
         "x": [
          "gavage",
          "gavage",
          "gavage",
          "gavage",
          "gavage",
          "gavage",
          "negative_control",
          "sample",
          "sample",
          "sample",
          "sample",
          "sample",
          "sample",
          "sample",
          "sample",
          "sample",
          "sample",
          "sample",
          "sample",
          "sample",
          "sample",
          "sample",
          "sample",
          "sample",
          "sample",
          "sample",
          "sample",
          "sample",
          "sample",
          "sample",
          "sample",
          "sample",
          "sample",
          "sample",
          "sample",
          "sample",
          "sample",
          "sample",
          "sample",
          "sample",
          "sample",
          "sample",
          "sample",
          "sample",
          "sample",
          "sample",
          "sample",
          "sample",
          "sample",
          "sample",
          "sample",
          "sample",
          "sample",
          "sample",
          "sample",
          "sample",
          "sample",
          "sample",
          "sample",
          "sample",
          "sample",
          "sample",
          "sample",
          "sample",
          "sample",
          "sample",
          "sample",
          "sample",
          "sample",
          "sample",
          "sample"
         ],
         "x0": " ",
         "xaxis": "x",
         "y": {
          "bdata": "AAAAAAB4jkAAAAAAAHCNQAAAAAAAIJBAAAAAAAAEkEAAAAAAAPqmQAAAAAAAoGZAAAAAAAAAMUAAAAAAAADwPwAAAAAAAAhAAAAAAAAAFEAAAAAAAAAgQAAAAAAAABRAAAAAAAAA8D8AAAAAAAAcQAAAAAAAABhAAAAAAAAAEEAAAAAAAAAQQAAAAAAAAPA/AAAAAAAACEAAAAAAAEBXQAAAAAAAADZAAAAAAAAAOkAAAAAAAAAuQAAAAAAAACBAAAAAAAAALkAAAAAAAAA6QAAAAAAAAEFAAAAAAAAAOUAAAAAAAAAmQAAAAAAAACpAAAAAAAAAEEAAAAAAAAAUQAAAAAAAADZAAAAAAAAA8D8AAAAAAABQQAAAAAAAACZAAAAAAAAAVUAAAAAAAIBPQAAAAAAAAPA/AAAAAAAAHEAAAAAAAAAIQAAAAAAAABBAAAAAAAAACEAAAAAAAIBGQAAAAAAAACRAAAAAAAAAHEAAAAAAAAAcQAAAAAAAACpAAAAAAAAAFEAAAAAAAAAAQAAAAAAAADFAAAAAAAAAKEAAAAAAAAA5QAAAAAAAACJAAAAAAAAACEAAAAAAAADwPwAAAAAAgERAAAAAAAAA8D8AAAAAAAAYQAAAAAAAAERAAAAAAAAAHEAAAAAAAAAAQAAAAAAAABhAAAAAAAAAAEAAAAAAAIBUQAAAAAAAACRAAAAAAAAAPEAAAAAAAJBzQAAAAAAAgExAAAAAAAAAMEAAAAAAAAAxQA==",
          "dtype": "f8"
         },
         "y0": " ",
         "yaxis": "y"
        },
        {
         "alignmentgroup": "True",
         "boxpoints": "all",
         "customdata": [
          [
           "P4C2T4_s81-B3_Gavage-DNA"
          ],
          [
           "P4C2T4_s81-B8_Gavage-DNA"
          ],
          [
           "P4C2T4_s82-A10_Gavage-DNA"
          ],
          [
           "P4C2T4_s82-A5_Gavage-DNA"
          ],
          [
           "P4C2T5_s121-F8_Gavage-DNA"
          ],
          [
           "P4C2T5_s122-G8_Gavage-DNA"
          ],
          [
           "NTC_F3_NTC"
          ],
          [
           "NTC_G10_NTC"
          ],
          [
           "NTC_G5_NTC"
          ],
          [
           "NTC_H10_NTC"
          ],
          [
           "NTC_H5_NTC"
          ],
          [
           "WATER_A2_WATER"
          ],
          [
           "WATER_A7_WATER"
          ],
          [
           "P4C2T4_s1-A1_stool-DNA"
          ],
          [
           "P4C2T4_s1-A6_stool-DNA"
          ],
          [
           "P4C2T4_s11-F1_stool-DNA"
          ],
          [
           "P4C2T4_s11-F6_stool-DNA"
          ],
          [
           "P4C2T4_s13-G1_stool-DNA"
          ],
          [
           "P4C2T4_s13-G6_stool-DNA"
          ],
          [
           "P4C2T4_s17-H1_stool-DNA"
          ],
          [
           "P4C2T4_s17-H6_stool-DNA"
          ],
          [
           "P4C2T4_s19-B2_stool-DNA"
          ],
          [
           "P4C2T4_s19-B7_stool-DNA"
          ],
          [
           "P4C2T4_s21-C2_stool-DNA"
          ],
          [
           "P4C2T4_s21-C7_stool-DNA"
          ],
          [
           "P4C2T4_s23-D2_stool-DNA"
          ],
          [
           "P4C2T4_s23-D7_stool-DNA"
          ],
          [
           "P4C2T4_s25-E2_stool-DNA"
          ],
          [
           "P4C2T4_s25-E7_stool-DNA"
          ],
          [
           "P4C2T4_s27-F2_stool-DNA"
          ],
          [
           "P4C2T4_s27-F7_stool-DNA"
          ],
          [
           "P4C2T4_s29-G2_stool-DNA"
          ],
          [
           "P4C2T4_s29-G7_stool-DNA"
          ],
          [
           "P4C2T4_s3-B1_stool-DNA"
          ],
          [
           "P4C2T4_s3-B6_stool-DNA"
          ],
          [
           "P4C2T4_s33-H2_SI-DNA"
          ],
          [
           "P4C2T4_s33-H7_SI-DNA"
          ],
          [
           "P4C2T4_s35-A3_SI-DNA"
          ],
          [
           "P4C2T4_s35-A8_SI-DNA"
          ],
          [
           "P4C2T4_s37-C3_SI-DNA"
          ],
          [
           "P4C2T4_s37-C8_SI-DNA"
          ],
          [
           "P4C2T4_s39-D3_SI-DNA"
          ],
          [
           "P4C2T4_s39-D8_SI-DNA"
          ],
          [
           "P4C2T4_s41-E3_SI-DNA"
          ],
          [
           "P4C2T4_s41-E8_SI-DNA"
          ],
          [
           "P4C2T4_s43-F3_SI-DNA"
          ],
          [
           "P4C2T4_s43-F8_SI-DNA"
          ],
          [
           "P4C2T4_s45-G3_SI-DNA"
          ],
          [
           "P4C2T4_s45-G8_SI-DNA"
          ],
          [
           "P4C2T4_s49-H3_Cecum-DNA"
          ],
          [
           "P4C2T4_s49-H8_Cecum-DNA"
          ],
          [
           "P4C2T4_s5-C1_stool-DNA"
          ],
          [
           "P4C2T4_s5-C6_stool-DNA"
          ],
          [
           "P4C2T4_s51-A4_Cecum-DNA"
          ],
          [
           "P4C2T4_s51-A9_Cecum-DNA"
          ],
          [
           "P4C2T4_s53-B4_Cecum-DNA"
          ],
          [
           "P4C2T4_s53-B9_Cecum-DNA"
          ],
          [
           "P4C2T4_s55-C4_Cecum-DNA"
          ],
          [
           "P4C2T4_s55-C9_Cecum-DNA"
          ],
          [
           "P4C2T4_s57-D4_Cecum-DNA"
          ],
          [
           "P4C2T4_s57-D9_Cecum-DNA"
          ],
          [
           "P4C2T4_s59-E4_Cecum-DNA"
          ],
          [
           "P4C2T4_s59-E9_Cecum-DNA"
          ],
          [
           "P4C2T4_s61-F4_Cecum-DNA"
          ],
          [
           "P4C2T4_s61-F9_Cecum-DNA"
          ],
          [
           "P4C2T4_s65-G4_Pr.-Colon-DNA"
          ],
          [
           "P4C2T4_s65-G9_Pr.-Colon-DNA"
          ],
          [
           "P4C2T4_s67-H4_Pr.-Colon-DNA"
          ],
          [
           "P4C2T4_s67-H9_Pr.-Colon-DNA"
          ],
          [
           "P4C2T4_s69-B10_Pr.-Colon-DNA"
          ],
          [
           "P4C2T4_s69-B5_Pr.-Colon-DNA"
          ],
          [
           "P4C2T4_s7-D1_stool-DNA"
          ],
          [
           "P4C2T4_s7-D6_stool-DNA"
          ],
          [
           "P4C2T4_s71-C10_Pr.-Colon-DNA"
          ],
          [
           "P4C2T4_s71-C5_Pr.-Colon-DNA"
          ],
          [
           "P4C2T4_s73-D10_Pr.-Colon-DNA"
          ],
          [
           "P4C2T4_s73-D5_Pr.-Colon-DNA"
          ],
          [
           "P4C2T4_s75-E10_Pr.-Colon-DNA"
          ],
          [
           "P4C2T4_s75-E5_Pr.-Colon-DNA"
          ],
          [
           "P4C2T4_s77-F10_Pr.-Colon-DNA"
          ],
          [
           "P4C2T4_s77-F5_Pr.-Colon-DNA"
          ],
          [
           "P4C2T4_s9-E1_stool-DNA"
          ],
          [
           "P4C2T4_s9-E6_stool-DNA"
          ],
          [
           "P4C2T5_s1-A1_stool-DNA"
          ],
          [
           "P4C2T5_s101-D7_Pr.-Colon-DNA"
          ],
          [
           "P4C2T5_s103-E7_Pr.-Colon-DNA"
          ],
          [
           "P4C2T5_s105-F7_Pr.-Colon-DNA"
          ],
          [
           "P4C2T5_s107-G7_Pr.-Colon-DNA"
          ],
          [
           "P4C2T5_s109-H7_Pr.-Colon-DNA"
          ],
          [
           "P4C2T5_s11-F1_stool-DNA"
          ],
          [
           "P4C2T5_s111-A8_Pr.-Colon-DNA"
          ],
          [
           "P4C2T5_s113-B8_Pr.-Colon-DNA"
          ],
          [
           "P4C2T5_s115-C8_Pr.-Colon-DNA"
          ],
          [
           "P4C2T5_s117-D8_Pr.-Colon-DNA"
          ],
          [
           "P4C2T5_s119-E8_Pr.-Colon-DNA"
          ],
          [
           "P4C2T5_s13-G1_stool-DNA"
          ],
          [
           "P4C2T5_s15-H1_stool-DNA"
          ],
          [
           "P4C2T5_s17-A2_stool-DNA"
          ],
          [
           "P4C2T5_s19-B2_stool-DNA"
          ],
          [
           "P4C2T5_s21-C2_stool-DNA"
          ],
          [
           "P4C2T5_s23-D2_stool-DNA"
          ],
          [
           "P4C2T5_s25-E2_stool-DNA"
          ],
          [
           "P4C2T5_s27-F2_stool-DNA"
          ],
          [
           "P4C2T5_s29-G2_stool-DNA"
          ],
          [
           "P4C2T5_s3-B1_stool-DNA"
          ],
          [
           "P4C2T5_s31-H2_stool-DNA"
          ],
          [
           "P4C2T5_s33-A3_stool-DNA"
          ],
          [
           "P4C2T5_s35-B3_stool-DNA"
          ],
          [
           "P4C2T5_s37-C3_stool-DNA"
          ],
          [
           "P4C2T5_s39-D3_stool-DNA"
          ],
          [
           "P4C2T5_s41-E3_stool-DNA"
          ],
          [
           "P4C2T5_s43-G3_stool-DNA"
          ],
          [
           "P4C2T5_s45-H3_stool-DNA"
          ],
          [
           "P4C2T5_s47-A4_stool-DNA"
          ],
          [
           "P4C2T5_s49-B4_SI-DNA"
          ],
          [
           "P4C2T5_s5-C1_stool-DNA"
          ],
          [
           "P4C2T5_s51-C4_SI-DNA"
          ],
          [
           "P4C2T5_s53-D4_SI-DNA"
          ],
          [
           "P4C2T5_s55-E4_SI-DNA"
          ],
          [
           "P4C2T5_s57-F4_SI-DNA"
          ],
          [
           "P4C2T5_s59-G4_SI-DNA"
          ],
          [
           "P4C2T5_s61-H4_SI-DNA"
          ],
          [
           "P4C2T5_s63-A5_SI-DNA"
          ],
          [
           "P4C2T5_s65-B5_SI-DNA"
          ],
          [
           "P4C2T5_s67-C5_SI-DNA"
          ],
          [
           "P4C2T5_s69-D5_SI-DNA"
          ],
          [
           "P4C2T5_s7-D1_stool-DNA"
          ],
          [
           "P4C2T5_s71-E5_SI-DNA"
          ],
          [
           "P4C2T5_s73-F5_Cecum-DNA"
          ],
          [
           "P4C2T5_s75-G5_Cecum-DNA"
          ],
          [
           "P4C2T5_s77-H5_Cecum-DNA"
          ],
          [
           "P4C2T5_s79-A6_Cecum-DNA"
          ],
          [
           "P4C2T5_s81-B6_Cecum-DNA"
          ],
          [
           "P4C2T5_s83-C6_Cecum-DNA"
          ],
          [
           "P4C2T5_s85-D6_Cecum-DNA"
          ],
          [
           "P4C2T5_s87-E6_Cecum-DNA"
          ],
          [
           "P4C2T5_s89-F6_Cecum-DNA"
          ],
          [
           "P4C2T5_s9-E1_stool-DNA"
          ],
          [
           "P4C2T5_s91-G6_Cecum-DNA"
          ],
          [
           "P4C2T5_s93-H6_Cecum-DNA"
          ],
          [
           "P4C2T5_s95-A7_Cecum-DNA"
          ],
          [
           "P4C2T5_s97-B7_Pr.-Colon-DNA"
          ],
          [
           "P4C2T5_s99-C7_Pr.-Colon-DNA"
          ]
         ],
         "hovertemplate": "strain=ST4<br>type=total_count<br>sample_type=%{x}<br>value=%{y}<br>sample=%{customdata[0]}<extra></extra>",
         "legendgroup": "ST4",
         "marker": {
          "color": "#2CA02C"
         },
         "name": "ST4",
         "notched": false,
         "offsetgroup": "ST4",
         "orientation": "v",
         "showlegend": true,
         "type": "box",
         "x": [
          "gavage",
          "gavage",
          "gavage",
          "gavage",
          "gavage",
          "gavage",
          "negative_control",
          "negative_control",
          "negative_control",
          "negative_control",
          "negative_control",
          "negative_control",
          "negative_control",
          "sample",
          "sample",
          "sample",
          "sample",
          "sample",
          "sample",
          "sample",
          "sample",
          "sample",
          "sample",
          "sample",
          "sample",
          "sample",
          "sample",
          "sample",
          "sample",
          "sample",
          "sample",
          "sample",
          "sample",
          "sample",
          "sample",
          "sample",
          "sample",
          "sample",
          "sample",
          "sample",
          "sample",
          "sample",
          "sample",
          "sample",
          "sample",
          "sample",
          "sample",
          "sample",
          "sample",
          "sample",
          "sample",
          "sample",
          "sample",
          "sample",
          "sample",
          "sample",
          "sample",
          "sample",
          "sample",
          "sample",
          "sample",
          "sample",
          "sample",
          "sample",
          "sample",
          "sample",
          "sample",
          "sample",
          "sample",
          "sample",
          "sample",
          "sample",
          "sample",
          "sample",
          "sample",
          "sample",
          "sample",
          "sample",
          "sample",
          "sample",
          "sample",
          "sample",
          "sample",
          "sample",
          "sample",
          "sample",
          "sample",
          "sample",
          "sample",
          "sample",
          "sample",
          "sample",
          "sample",
          "sample",
          "sample",
          "sample",
          "sample",
          "sample",
          "sample",
          "sample",
          "sample",
          "sample",
          "sample",
          "sample",
          "sample",
          "sample",
          "sample",
          "sample",
          "sample",
          "sample",
          "sample",
          "sample",
          "sample",
          "sample",
          "sample",
          "sample",
          "sample",
          "sample",
          "sample",
          "sample",
          "sample",
          "sample",
          "sample",
          "sample",
          "sample",
          "sample",
          "sample",
          "sample",
          "sample",
          "sample",
          "sample",
          "sample",
          "sample",
          "sample",
          "sample",
          "sample",
          "sample",
          "sample",
          "sample",
          "sample",
          "sample",
          "sample",
          "sample"
         ],
         "x0": " ",
         "xaxis": "x2",
         "y": {
          "bdata": "AAAAAB08R0EAAAAA9W4+QQAAAIDk9EZBAAAAgOS1SEEAAACArVFkQQAAAKjmRYFBAAAAAIBnAUEAAAAAAMBYQAAAAAAAADNAAAAAAAB4gUAAAAAAAEBUQAAAAAAAKMBAAAAAAICewkAAAAAAAFB6QAAAAAAAaIRAAAAAAABkmUAAAAAAAOBsQAAAAAAATuRAAAAAAABAV0AAAACArQhfQQAAAIDcT1dBAAAArBVuokEAAAAAWjWiQQAAAICcnUNBAAAAAAAKpEAAAAAAAFBxQAAAAAAAYGxAAAAAAADMmUAAAAAAACSoQAAAAADgaONAAAAAAEAp50AAAAAAAAByQAAAAAAAAGNAAAAAAAAztkAAAAAAAP29QAAAAACw3ftAAAAAANDc9EAAAAAAGAodQQAAAAAyOCNBAAAAAABYrUAAAAAAAIiPQAAAAAAAQKBAAAAAAADQlkAAAAAAAHB4QAAAAAAAaINAAAAAAACQlEAAAAAAALCSQAAAAACwUQdBAAAAAEjsAEEAAABgKKx+QQAAAEBS24RBAAAAAACAV0AAAAAAAMBqQAAAAPBu5ZBBAAAAhL4dkEEAAAAAAEe+QAAAAAAAEq1AAAAAAADIkUAAAAAAAECOQAAAAAAA5JdAAAAAAAAkkUAAAAAA6GYCQQAAAAAAzdNAAAAAAAAmsUAAAAAAADO4QAAAAIBNh1tBAAAAAD6FUkEAAADAbBJ9QQAAAERJOJhBAAAAAAAquEAAAAAAANC2QAAAAAAACINAAAAAAAAAKEAAAAAAQIvkQAAAAAAgneJAAAAAAAArsUAAAAAAAHSjQAAAAAAA/7BAAAAAAABRzUAAAAAAACiaQAAAAAAAeIZAAAAAAACYiUAAAAAAABSUQAAAAAAAUKhAAAAAAIChy0AAAAAYh2mYQQAAAAAO/0VBAAAAxn+csUEAAABe4kS4QQAAAABAUwRBAAAAAEnexEEAAACsY86UQQAAAAAAbetAAAAAAIAWwEAAAAAAOzY5QQAAAIBjblhBAAAAgDQYS0EAAAAAwBTqQAAAAACSezJBAAAAAAAWpEAAAAAATtwmQQAAAADQjSFBAAAAAIDewUAAAAAAoPYsQQAAAAAA7JZAAAAAEI+QcEEAAACuh3O1QQAAALSyM7BBAAAAEH6nrUEAAAAhdu2zQQAAACr2iNVBAAAAAMA5EUEAAAAAUAr9QAAAAJxTLZRBAAAAAMDg1kAAAAAARGQjQQAAAABq3E1BAAAAAAB6wUAAAAAAkNMCQQAAAGAHOmZBAAAAAE2fN0EAAIBHnOPAQQAAgNoNxMpBAAAAyBz7j0EAAACgTitrQQAAAAAsChNBAAAAAPCY9EAAAABgVkhnQQAAAAAgOORAAAAAAAAuw0AAAAAAAAqlQAAAAKRfipVBAAAAPD0mwEEAAADM6FSRQQAAAJRd75VBAABgQVVr50EAAADBpza7QQAAAAB4oQRBAAAA6vYEokEAAAAAANXJQAAAgKF/x8tBAAAAMJ98fEEAAAAAAP3EQA==",
          "dtype": "f8"
         },
         "y0": " ",
         "yaxis": "y2"
        },
        {
         "alignmentgroup": "True",
         "boxpoints": "all",
         "customdata": [
          [
           "P4C2T4_s81-B3_Gavage-DNA"
          ],
          [
           "P4C2T4_s81-B8_Gavage-DNA"
          ],
          [
           "P4C2T4_s82-A10_Gavage-DNA"
          ],
          [
           "P4C2T4_s82-A5_Gavage-DNA"
          ],
          [
           "P4C2T5_s121-F8_Gavage-DNA"
          ],
          [
           "P4C2T5_s122-G8_Gavage-DNA"
          ],
          [
           "NTC_F3_NTC"
          ],
          [
           "NTC_G10_NTC"
          ],
          [
           "NTC_G5_NTC"
          ],
          [
           "NTC_H10_NTC"
          ],
          [
           "NTC_H5_NTC"
          ],
          [
           "WATER_A2_WATER"
          ],
          [
           "WATER_A7_WATER"
          ],
          [
           "P4C2T4_s1-A1_stool-DNA"
          ],
          [
           "P4C2T4_s1-A6_stool-DNA"
          ],
          [
           "P4C2T4_s11-F1_stool-DNA"
          ],
          [
           "P4C2T4_s11-F6_stool-DNA"
          ],
          [
           "P4C2T4_s13-G1_stool-DNA"
          ],
          [
           "P4C2T4_s13-G6_stool-DNA"
          ],
          [
           "P4C2T4_s17-H1_stool-DNA"
          ],
          [
           "P4C2T4_s17-H6_stool-DNA"
          ],
          [
           "P4C2T4_s19-B2_stool-DNA"
          ],
          [
           "P4C2T4_s19-B7_stool-DNA"
          ],
          [
           "P4C2T4_s21-C2_stool-DNA"
          ],
          [
           "P4C2T4_s21-C7_stool-DNA"
          ],
          [
           "P4C2T4_s23-D2_stool-DNA"
          ],
          [
           "P4C2T4_s23-D7_stool-DNA"
          ],
          [
           "P4C2T4_s25-E2_stool-DNA"
          ],
          [
           "P4C2T4_s25-E7_stool-DNA"
          ],
          [
           "P4C2T4_s27-F2_stool-DNA"
          ],
          [
           "P4C2T4_s27-F7_stool-DNA"
          ],
          [
           "P4C2T4_s29-G2_stool-DNA"
          ],
          [
           "P4C2T4_s29-G7_stool-DNA"
          ],
          [
           "P4C2T4_s3-B1_stool-DNA"
          ],
          [
           "P4C2T4_s3-B6_stool-DNA"
          ],
          [
           "P4C2T4_s33-H2_SI-DNA"
          ],
          [
           "P4C2T4_s33-H7_SI-DNA"
          ],
          [
           "P4C2T4_s35-A3_SI-DNA"
          ],
          [
           "P4C2T4_s35-A8_SI-DNA"
          ],
          [
           "P4C2T4_s37-C3_SI-DNA"
          ],
          [
           "P4C2T4_s37-C8_SI-DNA"
          ],
          [
           "P4C2T4_s39-D3_SI-DNA"
          ],
          [
           "P4C2T4_s39-D8_SI-DNA"
          ],
          [
           "P4C2T4_s41-E3_SI-DNA"
          ],
          [
           "P4C2T4_s41-E8_SI-DNA"
          ],
          [
           "P4C2T4_s43-F3_SI-DNA"
          ],
          [
           "P4C2T4_s43-F8_SI-DNA"
          ],
          [
           "P4C2T4_s45-G3_SI-DNA"
          ],
          [
           "P4C2T4_s45-G8_SI-DNA"
          ],
          [
           "P4C2T4_s49-H3_Cecum-DNA"
          ],
          [
           "P4C2T4_s49-H8_Cecum-DNA"
          ],
          [
           "P4C2T4_s5-C1_stool-DNA"
          ],
          [
           "P4C2T4_s5-C6_stool-DNA"
          ],
          [
           "P4C2T4_s51-A4_Cecum-DNA"
          ],
          [
           "P4C2T4_s51-A9_Cecum-DNA"
          ],
          [
           "P4C2T4_s53-B4_Cecum-DNA"
          ],
          [
           "P4C2T4_s53-B9_Cecum-DNA"
          ],
          [
           "P4C2T4_s55-C4_Cecum-DNA"
          ],
          [
           "P4C2T4_s55-C9_Cecum-DNA"
          ],
          [
           "P4C2T4_s57-D4_Cecum-DNA"
          ],
          [
           "P4C2T4_s57-D9_Cecum-DNA"
          ],
          [
           "P4C2T4_s59-E4_Cecum-DNA"
          ],
          [
           "P4C2T4_s59-E9_Cecum-DNA"
          ],
          [
           "P4C2T4_s61-F4_Cecum-DNA"
          ],
          [
           "P4C2T4_s61-F9_Cecum-DNA"
          ],
          [
           "P4C2T4_s65-G4_Pr.-Colon-DNA"
          ],
          [
           "P4C2T4_s65-G9_Pr.-Colon-DNA"
          ],
          [
           "P4C2T4_s67-H4_Pr.-Colon-DNA"
          ],
          [
           "P4C2T4_s67-H9_Pr.-Colon-DNA"
          ],
          [
           "P4C2T4_s69-B10_Pr.-Colon-DNA"
          ],
          [
           "P4C2T4_s69-B5_Pr.-Colon-DNA"
          ],
          [
           "P4C2T4_s7-D1_stool-DNA"
          ],
          [
           "P4C2T4_s7-D6_stool-DNA"
          ],
          [
           "P4C2T4_s71-C10_Pr.-Colon-DNA"
          ],
          [
           "P4C2T4_s71-C5_Pr.-Colon-DNA"
          ],
          [
           "P4C2T4_s73-D10_Pr.-Colon-DNA"
          ],
          [
           "P4C2T4_s73-D5_Pr.-Colon-DNA"
          ],
          [
           "P4C2T4_s75-E10_Pr.-Colon-DNA"
          ],
          [
           "P4C2T4_s75-E5_Pr.-Colon-DNA"
          ],
          [
           "P4C2T4_s77-F10_Pr.-Colon-DNA"
          ],
          [
           "P4C2T4_s77-F5_Pr.-Colon-DNA"
          ],
          [
           "P4C2T4_s9-E1_stool-DNA"
          ],
          [
           "P4C2T4_s9-E6_stool-DNA"
          ],
          [
           "P4C2T5_s1-A1_stool-DNA"
          ],
          [
           "P4C2T5_s101-D7_Pr.-Colon-DNA"
          ],
          [
           "P4C2T5_s103-E7_Pr.-Colon-DNA"
          ],
          [
           "P4C2T5_s105-F7_Pr.-Colon-DNA"
          ],
          [
           "P4C2T5_s107-G7_Pr.-Colon-DNA"
          ],
          [
           "P4C2T5_s109-H7_Pr.-Colon-DNA"
          ],
          [
           "P4C2T5_s11-F1_stool-DNA"
          ],
          [
           "P4C2T5_s111-A8_Pr.-Colon-DNA"
          ],
          [
           "P4C2T5_s113-B8_Pr.-Colon-DNA"
          ],
          [
           "P4C2T5_s115-C8_Pr.-Colon-DNA"
          ],
          [
           "P4C2T5_s117-D8_Pr.-Colon-DNA"
          ],
          [
           "P4C2T5_s119-E8_Pr.-Colon-DNA"
          ],
          [
           "P4C2T5_s13-G1_stool-DNA"
          ],
          [
           "P4C2T5_s15-H1_stool-DNA"
          ],
          [
           "P4C2T5_s17-A2_stool-DNA"
          ],
          [
           "P4C2T5_s19-B2_stool-DNA"
          ],
          [
           "P4C2T5_s21-C2_stool-DNA"
          ],
          [
           "P4C2T5_s23-D2_stool-DNA"
          ],
          [
           "P4C2T5_s25-E2_stool-DNA"
          ],
          [
           "P4C2T5_s27-F2_stool-DNA"
          ],
          [
           "P4C2T5_s29-G2_stool-DNA"
          ],
          [
           "P4C2T5_s3-B1_stool-DNA"
          ],
          [
           "P4C2T5_s31-H2_stool-DNA"
          ],
          [
           "P4C2T5_s33-A3_stool-DNA"
          ],
          [
           "P4C2T5_s35-B3_stool-DNA"
          ],
          [
           "P4C2T5_s37-C3_stool-DNA"
          ],
          [
           "P4C2T5_s39-D3_stool-DNA"
          ],
          [
           "P4C2T5_s41-E3_stool-DNA"
          ],
          [
           "P4C2T5_s43-G3_stool-DNA"
          ],
          [
           "P4C2T5_s45-H3_stool-DNA"
          ],
          [
           "P4C2T5_s47-A4_stool-DNA"
          ],
          [
           "P4C2T5_s49-B4_SI-DNA"
          ],
          [
           "P4C2T5_s5-C1_stool-DNA"
          ],
          [
           "P4C2T5_s51-C4_SI-DNA"
          ],
          [
           "P4C2T5_s53-D4_SI-DNA"
          ],
          [
           "P4C2T5_s55-E4_SI-DNA"
          ],
          [
           "P4C2T5_s57-F4_SI-DNA"
          ],
          [
           "P4C2T5_s59-G4_SI-DNA"
          ],
          [
           "P4C2T5_s61-H4_SI-DNA"
          ],
          [
           "P4C2T5_s63-A5_SI-DNA"
          ],
          [
           "P4C2T5_s65-B5_SI-DNA"
          ],
          [
           "P4C2T5_s67-C5_SI-DNA"
          ],
          [
           "P4C2T5_s69-D5_SI-DNA"
          ],
          [
           "P4C2T5_s7-D1_stool-DNA"
          ],
          [
           "P4C2T5_s71-E5_SI-DNA"
          ],
          [
           "P4C2T5_s73-F5_Cecum-DNA"
          ],
          [
           "P4C2T5_s75-G5_Cecum-DNA"
          ],
          [
           "P4C2T5_s77-H5_Cecum-DNA"
          ],
          [
           "P4C2T5_s79-A6_Cecum-DNA"
          ],
          [
           "P4C2T5_s81-B6_Cecum-DNA"
          ],
          [
           "P4C2T5_s83-C6_Cecum-DNA"
          ],
          [
           "P4C2T5_s85-D6_Cecum-DNA"
          ],
          [
           "P4C2T5_s87-E6_Cecum-DNA"
          ],
          [
           "P4C2T5_s89-F6_Cecum-DNA"
          ],
          [
           "P4C2T5_s9-E1_stool-DNA"
          ],
          [
           "P4C2T5_s91-G6_Cecum-DNA"
          ],
          [
           "P4C2T5_s93-H6_Cecum-DNA"
          ],
          [
           "P4C2T5_s95-A7_Cecum-DNA"
          ],
          [
           "P4C2T5_s97-B7_Pr.-Colon-DNA"
          ],
          [
           "P4C2T5_s99-C7_Pr.-Colon-DNA"
          ]
         ],
         "hovertemplate": "strain=ST4<br>type=total_unique_umi<br>sample_type=%{x}<br>value=%{y}<br>sample=%{customdata[0]}<extra></extra>",
         "legendgroup": "ST4",
         "marker": {
          "color": "#2CA02C"
         },
         "name": "ST4",
         "notched": false,
         "offsetgroup": "ST4",
         "orientation": "v",
         "showlegend": false,
         "type": "box",
         "x": [
          "gavage",
          "gavage",
          "gavage",
          "gavage",
          "gavage",
          "gavage",
          "negative_control",
          "negative_control",
          "negative_control",
          "negative_control",
          "negative_control",
          "negative_control",
          "negative_control",
          "sample",
          "sample",
          "sample",
          "sample",
          "sample",
          "sample",
          "sample",
          "sample",
          "sample",
          "sample",
          "sample",
          "sample",
          "sample",
          "sample",
          "sample",
          "sample",
          "sample",
          "sample",
          "sample",
          "sample",
          "sample",
          "sample",
          "sample",
          "sample",
          "sample",
          "sample",
          "sample",
          "sample",
          "sample",
          "sample",
          "sample",
          "sample",
          "sample",
          "sample",
          "sample",
          "sample",
          "sample",
          "sample",
          "sample",
          "sample",
          "sample",
          "sample",
          "sample",
          "sample",
          "sample",
          "sample",
          "sample",
          "sample",
          "sample",
          "sample",
          "sample",
          "sample",
          "sample",
          "sample",
          "sample",
          "sample",
          "sample",
          "sample",
          "sample",
          "sample",
          "sample",
          "sample",
          "sample",
          "sample",
          "sample",
          "sample",
          "sample",
          "sample",
          "sample",
          "sample",
          "sample",
          "sample",
          "sample",
          "sample",
          "sample",
          "sample",
          "sample",
          "sample",
          "sample",
          "sample",
          "sample",
          "sample",
          "sample",
          "sample",
          "sample",
          "sample",
          "sample",
          "sample",
          "sample",
          "sample",
          "sample",
          "sample",
          "sample",
          "sample",
          "sample",
          "sample",
          "sample",
          "sample",
          "sample",
          "sample",
          "sample",
          "sample",
          "sample",
          "sample",
          "sample",
          "sample",
          "sample",
          "sample",
          "sample",
          "sample",
          "sample",
          "sample",
          "sample",
          "sample",
          "sample",
          "sample",
          "sample",
          "sample",
          "sample",
          "sample",
          "sample",
          "sample",
          "sample",
          "sample",
          "sample",
          "sample",
          "sample",
          "sample",
          "sample",
          "sample"
         ],
         "x0": " ",
         "xaxis": "x",
         "y": {
          "bdata": "AAAAAMBo30AAAAAAYDDgQAAAAABAP95AAAAAACAZ4EAAAAAAIDvyQAAAAABAgO9AAAAAAAA4x0AAAAAAAADwPwAAAAAAAPA/AAAAAABwdUAAAAAAAAAIQAAAAAAAAF1AAAAAAABAYEAAAAAAAAAcQAAAAAAAACpAAAAAAAAAOkAAAAAAAAAsQAAAAAAAcI9AAAAAAAAAREAAAAAAgPjIQAAAAAAA48hAAAAAAKDQ4EAAAAAA4HvmQAAAAAAATJZAAAAAAAAAVkAAAAAAAAAsQAAAAAAAAChAAAAAAABEkEAAAAAAAPyTQAAAAAAAYGFAAAAAAACAbUAAAAAAAAAsQAAAAAAAABxAAAAAAACgYkAAAAAAAGBiQAAAAAAAtqJAAAAAAAC6oUAAAAAAABG8QAAAAAAADLtAAAAAAAAATEAAAAAAAAA7QAAAAAAAgEpAAAAAAAAAREAAAAAAAAA+QAAAAAAAADRAAAAAAAAANUAAAAAAAAA0QAAAAAAAIJtAAAAAAADAmUAAAAAAwJnSQAAAAADAttJAAAAAAAAAGEAAAAAAAAAmQAAAAAAgA+BAAAAAAKBs4EAAAAAAAHBzQAAAAAAAoGRAAAAAAAAATkAAAAAAAMBRQAAAAAAAoHhAAAAAAAAAY0AAAAAAAMCFQAAAAAAAoGJAAAAAAACgd0AAAAAAAGB3QAAAAAAAgsFAAAAAAIALwkAAAAAAYGjgQAAAAACAJt9AAAAAAABAbUAAAAAAAEBsQAAAAAAAACBAAAAAAAAAIEAAAAAAACSfQAAAAAAAOJ5AAAAAAABgZEAAAAAAAIBbQAAAAAAAgGJAAAAAAADgZkAAAAAAAIBOQAAAAAAAAEVAAAAAAAAAKEAAAAAAAAAzQAAAAAAANJRAAAAAAAB4kEAAAAAAAC/cQAAAAACALcFAAAAAAKBI60AAAAAAAJLvQAAAAAAAH7RAAAAAABBB/UAAAAAAECzyQAAAAAAAeqtAAAAAAABohEAAAAAAgOvEQAAAAAAAmrBAAAAAAAAQsUAAAAAAAEu2QAAAAAAAzbRAAAAAAADQf0AAAAAAALm4QAAAAAAAQbJAAAAAAAANskAAAAAAAIe4QAAAAAAA8JBAAAAAAIDGyEAAAAAAAHnzQAAAAADgoOtAAAAAAGBv90AAAAAAIFfzQAAAAACgyutAAAAAAAAYsUAAAAAAAI6iQAAAAACALtdAAAAAAAAQkUAAAAAAALavQAAAAACA5MBAAAAAAABUo0AAAAAAADvBQAAAAACgiu5AAAAAAIDJwEAAAAAA4Kr3QAAAAAAwAvdAAAAAAICs4EAAAAAAAGzFQAAAAAAAlqdAAAAAAADZs0AAAAAAAMu/QAAAAAAAbJZAAAAAAAA4gUAAAAAAAACZQAAAAABA+d5AAAAAAAD98UAAAAAA4CXvQAAAAAAg3vVAAAAAALAP90AAAAAAAFzyQAAAAAAAIrFAAAAAAGCw4UAAAAAAALinQAAAAAAAN+BAAAAAAICpxEAAAAAAAICaQA==",
          "dtype": "f8"
         },
         "y0": " ",
         "yaxis": "y"
        },
        {
         "alignmentgroup": "True",
         "boxpoints": "all",
         "customdata": [
          [
           "P4C2T4_s81-B3_Gavage-DNA"
          ],
          [
           "P4C2T4_s81-B8_Gavage-DNA"
          ],
          [
           "P4C2T4_s82-A10_Gavage-DNA"
          ],
          [
           "P4C2T4_s82-A5_Gavage-DNA"
          ],
          [
           "P4C2T5_s121-F8_Gavage-DNA"
          ],
          [
           "P4C2T5_s122-G8_Gavage-DNA"
          ],
          [
           "NTC_F3_NTC"
          ],
          [
           "NTC_G10_NTC"
          ],
          [
           "NTC_G5_NTC"
          ],
          [
           "NTC_H10_NTC"
          ],
          [
           "NTC_H5_NTC"
          ],
          [
           "WATER_A2_WATER"
          ],
          [
           "WATER_A7_WATER"
          ],
          [
           "P4C2T4_s1-A1_stool-DNA"
          ],
          [
           "P4C2T4_s1-A6_stool-DNA"
          ],
          [
           "P4C2T4_s11-F1_stool-DNA"
          ],
          [
           "P4C2T4_s11-F6_stool-DNA"
          ],
          [
           "P4C2T4_s13-G1_stool-DNA"
          ],
          [
           "P4C2T4_s13-G6_stool-DNA"
          ],
          [
           "P4C2T4_s17-H1_stool-DNA"
          ],
          [
           "P4C2T4_s17-H6_stool-DNA"
          ],
          [
           "P4C2T4_s19-B2_stool-DNA"
          ],
          [
           "P4C2T4_s19-B7_stool-DNA"
          ],
          [
           "P4C2T4_s21-C2_stool-DNA"
          ],
          [
           "P4C2T4_s21-C7_stool-DNA"
          ],
          [
           "P4C2T4_s23-D2_stool-DNA"
          ],
          [
           "P4C2T4_s23-D7_stool-DNA"
          ],
          [
           "P4C2T4_s25-E2_stool-DNA"
          ],
          [
           "P4C2T4_s25-E7_stool-DNA"
          ],
          [
           "P4C2T4_s27-F2_stool-DNA"
          ],
          [
           "P4C2T4_s27-F7_stool-DNA"
          ],
          [
           "P4C2T4_s29-G2_stool-DNA"
          ],
          [
           "P4C2T4_s29-G7_stool-DNA"
          ],
          [
           "P4C2T4_s3-B1_stool-DNA"
          ],
          [
           "P4C2T4_s3-B6_stool-DNA"
          ],
          [
           "P4C2T4_s33-H2_SI-DNA"
          ],
          [
           "P4C2T4_s33-H7_SI-DNA"
          ],
          [
           "P4C2T4_s35-A3_SI-DNA"
          ],
          [
           "P4C2T4_s35-A8_SI-DNA"
          ],
          [
           "P4C2T4_s37-C3_SI-DNA"
          ],
          [
           "P4C2T4_s37-C8_SI-DNA"
          ],
          [
           "P4C2T4_s39-D3_SI-DNA"
          ],
          [
           "P4C2T4_s39-D8_SI-DNA"
          ],
          [
           "P4C2T4_s41-E3_SI-DNA"
          ],
          [
           "P4C2T4_s41-E8_SI-DNA"
          ],
          [
           "P4C2T4_s43-F3_SI-DNA"
          ],
          [
           "P4C2T4_s43-F8_SI-DNA"
          ],
          [
           "P4C2T4_s45-G3_SI-DNA"
          ],
          [
           "P4C2T4_s45-G8_SI-DNA"
          ],
          [
           "P4C2T4_s49-H3_Cecum-DNA"
          ],
          [
           "P4C2T4_s49-H8_Cecum-DNA"
          ],
          [
           "P4C2T4_s5-C1_stool-DNA"
          ],
          [
           "P4C2T4_s5-C6_stool-DNA"
          ],
          [
           "P4C2T4_s51-A4_Cecum-DNA"
          ],
          [
           "P4C2T4_s51-A9_Cecum-DNA"
          ],
          [
           "P4C2T4_s53-B4_Cecum-DNA"
          ],
          [
           "P4C2T4_s53-B9_Cecum-DNA"
          ],
          [
           "P4C2T4_s55-C4_Cecum-DNA"
          ],
          [
           "P4C2T4_s55-C9_Cecum-DNA"
          ],
          [
           "P4C2T4_s57-D4_Cecum-DNA"
          ],
          [
           "P4C2T4_s57-D9_Cecum-DNA"
          ],
          [
           "P4C2T4_s59-E4_Cecum-DNA"
          ],
          [
           "P4C2T4_s59-E9_Cecum-DNA"
          ],
          [
           "P4C2T4_s61-F4_Cecum-DNA"
          ],
          [
           "P4C2T4_s61-F9_Cecum-DNA"
          ],
          [
           "P4C2T4_s65-G4_Pr.-Colon-DNA"
          ],
          [
           "P4C2T4_s65-G9_Pr.-Colon-DNA"
          ],
          [
           "P4C2T4_s67-H4_Pr.-Colon-DNA"
          ],
          [
           "P4C2T4_s67-H9_Pr.-Colon-DNA"
          ],
          [
           "P4C2T4_s69-B10_Pr.-Colon-DNA"
          ],
          [
           "P4C2T4_s69-B5_Pr.-Colon-DNA"
          ],
          [
           "P4C2T4_s7-D1_stool-DNA"
          ],
          [
           "P4C2T4_s7-D6_stool-DNA"
          ],
          [
           "P4C2T4_s71-C10_Pr.-Colon-DNA"
          ],
          [
           "P4C2T4_s71-C5_Pr.-Colon-DNA"
          ],
          [
           "P4C2T4_s73-D10_Pr.-Colon-DNA"
          ],
          [
           "P4C2T4_s73-D5_Pr.-Colon-DNA"
          ],
          [
           "P4C2T4_s75-E10_Pr.-Colon-DNA"
          ],
          [
           "P4C2T4_s75-E5_Pr.-Colon-DNA"
          ],
          [
           "P4C2T4_s77-F10_Pr.-Colon-DNA"
          ],
          [
           "P4C2T4_s77-F5_Pr.-Colon-DNA"
          ],
          [
           "P4C2T4_s9-E1_stool-DNA"
          ],
          [
           "P4C2T4_s9-E6_stool-DNA"
          ],
          [
           "P4C2T5_s1-A1_stool-DNA"
          ],
          [
           "P4C2T5_s101-D7_Pr.-Colon-DNA"
          ],
          [
           "P4C2T5_s103-E7_Pr.-Colon-DNA"
          ],
          [
           "P4C2T5_s105-F7_Pr.-Colon-DNA"
          ],
          [
           "P4C2T5_s107-G7_Pr.-Colon-DNA"
          ],
          [
           "P4C2T5_s109-H7_Pr.-Colon-DNA"
          ],
          [
           "P4C2T5_s11-F1_stool-DNA"
          ],
          [
           "P4C2T5_s111-A8_Pr.-Colon-DNA"
          ],
          [
           "P4C2T5_s113-B8_Pr.-Colon-DNA"
          ],
          [
           "P4C2T5_s115-C8_Pr.-Colon-DNA"
          ],
          [
           "P4C2T5_s117-D8_Pr.-Colon-DNA"
          ],
          [
           "P4C2T5_s119-E8_Pr.-Colon-DNA"
          ],
          [
           "P4C2T5_s13-G1_stool-DNA"
          ],
          [
           "P4C2T5_s15-H1_stool-DNA"
          ],
          [
           "P4C2T5_s17-A2_stool-DNA"
          ],
          [
           "P4C2T5_s19-B2_stool-DNA"
          ],
          [
           "P4C2T5_s21-C2_stool-DNA"
          ],
          [
           "P4C2T5_s23-D2_stool-DNA"
          ],
          [
           "P4C2T5_s25-E2_stool-DNA"
          ],
          [
           "P4C2T5_s27-F2_stool-DNA"
          ],
          [
           "P4C2T5_s29-G2_stool-DNA"
          ],
          [
           "P4C2T5_s3-B1_stool-DNA"
          ],
          [
           "P4C2T5_s31-H2_stool-DNA"
          ],
          [
           "P4C2T5_s33-A3_stool-DNA"
          ],
          [
           "P4C2T5_s35-B3_stool-DNA"
          ],
          [
           "P4C2T5_s37-C3_stool-DNA"
          ],
          [
           "P4C2T5_s39-D3_stool-DNA"
          ],
          [
           "P4C2T5_s41-E3_stool-DNA"
          ],
          [
           "P4C2T5_s43-G3_stool-DNA"
          ],
          [
           "P4C2T5_s45-H3_stool-DNA"
          ],
          [
           "P4C2T5_s47-A4_stool-DNA"
          ],
          [
           "P4C2T5_s49-B4_SI-DNA"
          ],
          [
           "P4C2T5_s5-C1_stool-DNA"
          ],
          [
           "P4C2T5_s51-C4_SI-DNA"
          ],
          [
           "P4C2T5_s53-D4_SI-DNA"
          ],
          [
           "P4C2T5_s55-E4_SI-DNA"
          ],
          [
           "P4C2T5_s57-F4_SI-DNA"
          ],
          [
           "P4C2T5_s59-G4_SI-DNA"
          ],
          [
           "P4C2T5_s61-H4_SI-DNA"
          ],
          [
           "P4C2T5_s63-A5_SI-DNA"
          ],
          [
           "P4C2T5_s65-B5_SI-DNA"
          ],
          [
           "P4C2T5_s67-C5_SI-DNA"
          ],
          [
           "P4C2T5_s69-D5_SI-DNA"
          ],
          [
           "P4C2T5_s7-D1_stool-DNA"
          ],
          [
           "P4C2T5_s71-E5_SI-DNA"
          ],
          [
           "P4C2T5_s73-F5_Cecum-DNA"
          ],
          [
           "P4C2T5_s75-G5_Cecum-DNA"
          ],
          [
           "P4C2T5_s77-H5_Cecum-DNA"
          ],
          [
           "P4C2T5_s79-A6_Cecum-DNA"
          ],
          [
           "P4C2T5_s81-B6_Cecum-DNA"
          ],
          [
           "P4C2T5_s83-C6_Cecum-DNA"
          ],
          [
           "P4C2T5_s85-D6_Cecum-DNA"
          ],
          [
           "P4C2T5_s87-E6_Cecum-DNA"
          ],
          [
           "P4C2T5_s89-F6_Cecum-DNA"
          ],
          [
           "P4C2T5_s9-E1_stool-DNA"
          ],
          [
           "P4C2T5_s91-G6_Cecum-DNA"
          ],
          [
           "P4C2T5_s93-H6_Cecum-DNA"
          ],
          [
           "P4C2T5_s95-A7_Cecum-DNA"
          ],
          [
           "P4C2T5_s97-B7_Pr.-Colon-DNA"
          ],
          [
           "P4C2T5_s99-C7_Pr.-Colon-DNA"
          ]
         ],
         "hovertemplate": "strain=ST5<br>type=total_count<br>sample_type=%{x}<br>value=%{y}<br>sample=%{customdata[0]}<extra></extra>",
         "legendgroup": "ST5",
         "marker": {
          "color": "#D62728"
         },
         "name": "ST5",
         "notched": false,
         "offsetgroup": "ST5",
         "orientation": "v",
         "showlegend": true,
         "type": "box",
         "x": [
          "gavage",
          "gavage",
          "gavage",
          "gavage",
          "gavage",
          "gavage",
          "negative_control",
          "negative_control",
          "negative_control",
          "negative_control",
          "negative_control",
          "negative_control",
          "negative_control",
          "sample",
          "sample",
          "sample",
          "sample",
          "sample",
          "sample",
          "sample",
          "sample",
          "sample",
          "sample",
          "sample",
          "sample",
          "sample",
          "sample",
          "sample",
          "sample",
          "sample",
          "sample",
          "sample",
          "sample",
          "sample",
          "sample",
          "sample",
          "sample",
          "sample",
          "sample",
          "sample",
          "sample",
          "sample",
          "sample",
          "sample",
          "sample",
          "sample",
          "sample",
          "sample",
          "sample",
          "sample",
          "sample",
          "sample",
          "sample",
          "sample",
          "sample",
          "sample",
          "sample",
          "sample",
          "sample",
          "sample",
          "sample",
          "sample",
          "sample",
          "sample",
          "sample",
          "sample",
          "sample",
          "sample",
          "sample",
          "sample",
          "sample",
          "sample",
          "sample",
          "sample",
          "sample",
          "sample",
          "sample",
          "sample",
          "sample",
          "sample",
          "sample",
          "sample",
          "sample",
          "sample",
          "sample",
          "sample",
          "sample",
          "sample",
          "sample",
          "sample",
          "sample",
          "sample",
          "sample",
          "sample",
          "sample",
          "sample",
          "sample",
          "sample",
          "sample",
          "sample",
          "sample",
          "sample",
          "sample",
          "sample",
          "sample",
          "sample",
          "sample",
          "sample",
          "sample",
          "sample",
          "sample",
          "sample",
          "sample",
          "sample",
          "sample",
          "sample",
          "sample",
          "sample",
          "sample",
          "sample",
          "sample",
          "sample",
          "sample",
          "sample",
          "sample",
          "sample",
          "sample",
          "sample",
          "sample",
          "sample",
          "sample",
          "sample",
          "sample",
          "sample",
          "sample",
          "sample",
          "sample",
          "sample",
          "sample",
          "sample",
          "sample",
          "sample",
          "sample"
         ],
         "x0": " ",
         "xaxis": "x2",
         "y": {
          "bdata": "AAAAwLv7WUEAAABABi9RQQAAAABgTl9BAAAA4MT3YEEAAACgt+R6QQAAAIBV6nFBAAAAAEBR6UAAAAAAAJnKQAAAAAAApcFAAAAAACDd4kAAAAAAAKyzQAAAAABgV+NAAAAAAGAu50AAAAAAgBjkQAAAAABgSOFAAAAAAGzaMEEAAAAA+DwOQQAAAAAsQCJBAAAAALxFKkEAAAAIDRSLQQAAAJDvToRBAAAAlhogpkEAAAAa+DKlQQAAAEAnHFBBAAAAAADmrUAAAAAAgMXAQAAAAAAABsNAAAAAAHCl9EAAAAAAKPcIQQAAAACAWMZAAAAAAECY0kAAAAAAABPBQAAAAAAAfrBAAAAAAEDfBUEAAAAAsIwMQQAAAAARETVBAAAAAByuL0EAAABuU0GnQQAAABgk7a9BAAAAACiUBEEAAAAA4CbsQAAAAAAAzdJAAAAAAEBH0UAAAAAAgJfmQAAAAADAztZAAAAAAIDF1EAAAAAAgOfaQAAAAADm6StBAAAAAObQIkEAAADY9ySWQQAAAJD3zJ5BAAAAAABv+UAAAAAAQNTtQAAAABgT1KRBAAAA2AQKpEEAAAAAADnkQAAAAADA7dZAAAAAAMCc0kAAAAAAAMDEQAAAAADgNgJBAAAAAHCx9kAAAAAAAP3UQAAAAAAA7KdAAAAAAIApxkAAAAAAgOrQQAAAABR+SptBAAAAdJzYkkEAAADQV22IQQAAAGKroqRBAAAAAKD+60AAAAAAgHPtQAAAAAB2dCBBAAAAALhjG0EAAAAAgH3yQAAAAADgYO9AAAAAAMAS90AAAAAAIAnoQAAAAAAAKrdAAAAAAECA10AAAAAAAC3KQAAAAAAAubVAAAAAAECV0EAAAAAAgK/TQAAAAACqbyhBAAAAAACZxUAAAICStIDFQQAAAADwPElBAACAcdk2yUEAAAAA0Sg2QQAAAIDRcFFBAAAAAIzGO0EAAAAAOH8SQQAAAAAA6M9AAAAAAACOxEAAAAAAADfRQAAAAFIM8aNBAAAArJ91nEEAAACAeUNFQQAAAB5iT6RBAAAAACC+70AAAADAGP5pQQAAAIBPsUZBAAAAALD/A0EAAAAgVIZvQQAAAAC05B1BAAAAXrIvuUEAAAARmg/EQQAAgOgk5MVBAAAAACBVH0EAAAAASNYZQQAAAABKYFlBAAAAAAB/xEAAAAAAAMDQQAAAAAAWMDVBAAAAAICWwEAAAAD6ACygQQAAAACe7U1BAAAAACD84EAAAACwDy92QQAAAJAPgXtBAAAA7VHYv0EAAAAAa/o2QQAAAEBax2VBAAAAAMFQOUEAAADAnKh2QQAAAADAPt9AAAAAgN3MRUEAAAAA+OYvQQAAAACAscxAAAAAAAA5v0AAAAAAACizQAAAQE2nddBBAACAzwouzUEAAAAy6rygQQAAAAD4zg9BAAAAgIrkb0EAAACAekNFQQAAAABc70hBAAAAAKqER0EAAAAAQCfSQAAAAADY/1pBAAAAsMMAgUEAAAAAkJT4QA==",
          "dtype": "f8"
         },
         "y0": " ",
         "yaxis": "y2"
        },
        {
         "alignmentgroup": "True",
         "boxpoints": "all",
         "customdata": [
          [
           "P4C2T4_s81-B3_Gavage-DNA"
          ],
          [
           "P4C2T4_s81-B8_Gavage-DNA"
          ],
          [
           "P4C2T4_s82-A10_Gavage-DNA"
          ],
          [
           "P4C2T4_s82-A5_Gavage-DNA"
          ],
          [
           "P4C2T5_s121-F8_Gavage-DNA"
          ],
          [
           "P4C2T5_s122-G8_Gavage-DNA"
          ],
          [
           "NTC_F3_NTC"
          ],
          [
           "NTC_G10_NTC"
          ],
          [
           "NTC_G5_NTC"
          ],
          [
           "NTC_H10_NTC"
          ],
          [
           "NTC_H5_NTC"
          ],
          [
           "WATER_A2_WATER"
          ],
          [
           "WATER_A7_WATER"
          ],
          [
           "P4C2T4_s1-A1_stool-DNA"
          ],
          [
           "P4C2T4_s1-A6_stool-DNA"
          ],
          [
           "P4C2T4_s11-F1_stool-DNA"
          ],
          [
           "P4C2T4_s11-F6_stool-DNA"
          ],
          [
           "P4C2T4_s13-G1_stool-DNA"
          ],
          [
           "P4C2T4_s13-G6_stool-DNA"
          ],
          [
           "P4C2T4_s17-H1_stool-DNA"
          ],
          [
           "P4C2T4_s17-H6_stool-DNA"
          ],
          [
           "P4C2T4_s19-B2_stool-DNA"
          ],
          [
           "P4C2T4_s19-B7_stool-DNA"
          ],
          [
           "P4C2T4_s21-C2_stool-DNA"
          ],
          [
           "P4C2T4_s21-C7_stool-DNA"
          ],
          [
           "P4C2T4_s23-D2_stool-DNA"
          ],
          [
           "P4C2T4_s23-D7_stool-DNA"
          ],
          [
           "P4C2T4_s25-E2_stool-DNA"
          ],
          [
           "P4C2T4_s25-E7_stool-DNA"
          ],
          [
           "P4C2T4_s27-F2_stool-DNA"
          ],
          [
           "P4C2T4_s27-F7_stool-DNA"
          ],
          [
           "P4C2T4_s29-G2_stool-DNA"
          ],
          [
           "P4C2T4_s29-G7_stool-DNA"
          ],
          [
           "P4C2T4_s3-B1_stool-DNA"
          ],
          [
           "P4C2T4_s3-B6_stool-DNA"
          ],
          [
           "P4C2T4_s33-H2_SI-DNA"
          ],
          [
           "P4C2T4_s33-H7_SI-DNA"
          ],
          [
           "P4C2T4_s35-A3_SI-DNA"
          ],
          [
           "P4C2T4_s35-A8_SI-DNA"
          ],
          [
           "P4C2T4_s37-C3_SI-DNA"
          ],
          [
           "P4C2T4_s37-C8_SI-DNA"
          ],
          [
           "P4C2T4_s39-D3_SI-DNA"
          ],
          [
           "P4C2T4_s39-D8_SI-DNA"
          ],
          [
           "P4C2T4_s41-E3_SI-DNA"
          ],
          [
           "P4C2T4_s41-E8_SI-DNA"
          ],
          [
           "P4C2T4_s43-F3_SI-DNA"
          ],
          [
           "P4C2T4_s43-F8_SI-DNA"
          ],
          [
           "P4C2T4_s45-G3_SI-DNA"
          ],
          [
           "P4C2T4_s45-G8_SI-DNA"
          ],
          [
           "P4C2T4_s49-H3_Cecum-DNA"
          ],
          [
           "P4C2T4_s49-H8_Cecum-DNA"
          ],
          [
           "P4C2T4_s5-C1_stool-DNA"
          ],
          [
           "P4C2T4_s5-C6_stool-DNA"
          ],
          [
           "P4C2T4_s51-A4_Cecum-DNA"
          ],
          [
           "P4C2T4_s51-A9_Cecum-DNA"
          ],
          [
           "P4C2T4_s53-B4_Cecum-DNA"
          ],
          [
           "P4C2T4_s53-B9_Cecum-DNA"
          ],
          [
           "P4C2T4_s55-C4_Cecum-DNA"
          ],
          [
           "P4C2T4_s55-C9_Cecum-DNA"
          ],
          [
           "P4C2T4_s57-D4_Cecum-DNA"
          ],
          [
           "P4C2T4_s57-D9_Cecum-DNA"
          ],
          [
           "P4C2T4_s59-E4_Cecum-DNA"
          ],
          [
           "P4C2T4_s59-E9_Cecum-DNA"
          ],
          [
           "P4C2T4_s61-F4_Cecum-DNA"
          ],
          [
           "P4C2T4_s61-F9_Cecum-DNA"
          ],
          [
           "P4C2T4_s65-G4_Pr.-Colon-DNA"
          ],
          [
           "P4C2T4_s65-G9_Pr.-Colon-DNA"
          ],
          [
           "P4C2T4_s67-H4_Pr.-Colon-DNA"
          ],
          [
           "P4C2T4_s67-H9_Pr.-Colon-DNA"
          ],
          [
           "P4C2T4_s69-B10_Pr.-Colon-DNA"
          ],
          [
           "P4C2T4_s69-B5_Pr.-Colon-DNA"
          ],
          [
           "P4C2T4_s7-D1_stool-DNA"
          ],
          [
           "P4C2T4_s7-D6_stool-DNA"
          ],
          [
           "P4C2T4_s71-C10_Pr.-Colon-DNA"
          ],
          [
           "P4C2T4_s71-C5_Pr.-Colon-DNA"
          ],
          [
           "P4C2T4_s73-D10_Pr.-Colon-DNA"
          ],
          [
           "P4C2T4_s73-D5_Pr.-Colon-DNA"
          ],
          [
           "P4C2T4_s75-E10_Pr.-Colon-DNA"
          ],
          [
           "P4C2T4_s75-E5_Pr.-Colon-DNA"
          ],
          [
           "P4C2T4_s77-F10_Pr.-Colon-DNA"
          ],
          [
           "P4C2T4_s77-F5_Pr.-Colon-DNA"
          ],
          [
           "P4C2T4_s9-E1_stool-DNA"
          ],
          [
           "P4C2T4_s9-E6_stool-DNA"
          ],
          [
           "P4C2T5_s1-A1_stool-DNA"
          ],
          [
           "P4C2T5_s101-D7_Pr.-Colon-DNA"
          ],
          [
           "P4C2T5_s103-E7_Pr.-Colon-DNA"
          ],
          [
           "P4C2T5_s105-F7_Pr.-Colon-DNA"
          ],
          [
           "P4C2T5_s107-G7_Pr.-Colon-DNA"
          ],
          [
           "P4C2T5_s109-H7_Pr.-Colon-DNA"
          ],
          [
           "P4C2T5_s11-F1_stool-DNA"
          ],
          [
           "P4C2T5_s111-A8_Pr.-Colon-DNA"
          ],
          [
           "P4C2T5_s113-B8_Pr.-Colon-DNA"
          ],
          [
           "P4C2T5_s115-C8_Pr.-Colon-DNA"
          ],
          [
           "P4C2T5_s117-D8_Pr.-Colon-DNA"
          ],
          [
           "P4C2T5_s119-E8_Pr.-Colon-DNA"
          ],
          [
           "P4C2T5_s13-G1_stool-DNA"
          ],
          [
           "P4C2T5_s15-H1_stool-DNA"
          ],
          [
           "P4C2T5_s17-A2_stool-DNA"
          ],
          [
           "P4C2T5_s19-B2_stool-DNA"
          ],
          [
           "P4C2T5_s21-C2_stool-DNA"
          ],
          [
           "P4C2T5_s23-D2_stool-DNA"
          ],
          [
           "P4C2T5_s25-E2_stool-DNA"
          ],
          [
           "P4C2T5_s27-F2_stool-DNA"
          ],
          [
           "P4C2T5_s29-G2_stool-DNA"
          ],
          [
           "P4C2T5_s3-B1_stool-DNA"
          ],
          [
           "P4C2T5_s31-H2_stool-DNA"
          ],
          [
           "P4C2T5_s33-A3_stool-DNA"
          ],
          [
           "P4C2T5_s35-B3_stool-DNA"
          ],
          [
           "P4C2T5_s37-C3_stool-DNA"
          ],
          [
           "P4C2T5_s39-D3_stool-DNA"
          ],
          [
           "P4C2T5_s41-E3_stool-DNA"
          ],
          [
           "P4C2T5_s43-G3_stool-DNA"
          ],
          [
           "P4C2T5_s45-H3_stool-DNA"
          ],
          [
           "P4C2T5_s47-A4_stool-DNA"
          ],
          [
           "P4C2T5_s49-B4_SI-DNA"
          ],
          [
           "P4C2T5_s5-C1_stool-DNA"
          ],
          [
           "P4C2T5_s51-C4_SI-DNA"
          ],
          [
           "P4C2T5_s53-D4_SI-DNA"
          ],
          [
           "P4C2T5_s55-E4_SI-DNA"
          ],
          [
           "P4C2T5_s57-F4_SI-DNA"
          ],
          [
           "P4C2T5_s59-G4_SI-DNA"
          ],
          [
           "P4C2T5_s61-H4_SI-DNA"
          ],
          [
           "P4C2T5_s63-A5_SI-DNA"
          ],
          [
           "P4C2T5_s65-B5_SI-DNA"
          ],
          [
           "P4C2T5_s67-C5_SI-DNA"
          ],
          [
           "P4C2T5_s69-D5_SI-DNA"
          ],
          [
           "P4C2T5_s7-D1_stool-DNA"
          ],
          [
           "P4C2T5_s71-E5_SI-DNA"
          ],
          [
           "P4C2T5_s73-F5_Cecum-DNA"
          ],
          [
           "P4C2T5_s75-G5_Cecum-DNA"
          ],
          [
           "P4C2T5_s77-H5_Cecum-DNA"
          ],
          [
           "P4C2T5_s79-A6_Cecum-DNA"
          ],
          [
           "P4C2T5_s81-B6_Cecum-DNA"
          ],
          [
           "P4C2T5_s83-C6_Cecum-DNA"
          ],
          [
           "P4C2T5_s85-D6_Cecum-DNA"
          ],
          [
           "P4C2T5_s87-E6_Cecum-DNA"
          ],
          [
           "P4C2T5_s89-F6_Cecum-DNA"
          ],
          [
           "P4C2T5_s9-E1_stool-DNA"
          ],
          [
           "P4C2T5_s91-G6_Cecum-DNA"
          ],
          [
           "P4C2T5_s93-H6_Cecum-DNA"
          ],
          [
           "P4C2T5_s95-A7_Cecum-DNA"
          ],
          [
           "P4C2T5_s97-B7_Pr.-Colon-DNA"
          ],
          [
           "P4C2T5_s99-C7_Pr.-Colon-DNA"
          ]
         ],
         "hovertemplate": "strain=ST5<br>type=total_unique_umi<br>sample_type=%{x}<br>value=%{y}<br>sample=%{customdata[0]}<extra></extra>",
         "legendgroup": "ST5",
         "marker": {
          "color": "#D62728"
         },
         "name": "ST5",
         "notched": false,
         "offsetgroup": "ST5",
         "orientation": "v",
         "showlegend": false,
         "type": "box",
         "x": [
          "gavage",
          "gavage",
          "gavage",
          "gavage",
          "gavage",
          "gavage",
          "negative_control",
          "negative_control",
          "negative_control",
          "negative_control",
          "negative_control",
          "negative_control",
          "negative_control",
          "sample",
          "sample",
          "sample",
          "sample",
          "sample",
          "sample",
          "sample",
          "sample",
          "sample",
          "sample",
          "sample",
          "sample",
          "sample",
          "sample",
          "sample",
          "sample",
          "sample",
          "sample",
          "sample",
          "sample",
          "sample",
          "sample",
          "sample",
          "sample",
          "sample",
          "sample",
          "sample",
          "sample",
          "sample",
          "sample",
          "sample",
          "sample",
          "sample",
          "sample",
          "sample",
          "sample",
          "sample",
          "sample",
          "sample",
          "sample",
          "sample",
          "sample",
          "sample",
          "sample",
          "sample",
          "sample",
          "sample",
          "sample",
          "sample",
          "sample",
          "sample",
          "sample",
          "sample",
          "sample",
          "sample",
          "sample",
          "sample",
          "sample",
          "sample",
          "sample",
          "sample",
          "sample",
          "sample",
          "sample",
          "sample",
          "sample",
          "sample",
          "sample",
          "sample",
          "sample",
          "sample",
          "sample",
          "sample",
          "sample",
          "sample",
          "sample",
          "sample",
          "sample",
          "sample",
          "sample",
          "sample",
          "sample",
          "sample",
          "sample",
          "sample",
          "sample",
          "sample",
          "sample",
          "sample",
          "sample",
          "sample",
          "sample",
          "sample",
          "sample",
          "sample",
          "sample",
          "sample",
          "sample",
          "sample",
          "sample",
          "sample",
          "sample",
          "sample",
          "sample",
          "sample",
          "sample",
          "sample",
          "sample",
          "sample",
          "sample",
          "sample",
          "sample",
          "sample",
          "sample",
          "sample",
          "sample",
          "sample",
          "sample",
          "sample",
          "sample",
          "sample",
          "sample",
          "sample",
          "sample",
          "sample",
          "sample",
          "sample",
          "sample",
          "sample",
          "sample"
         ],
         "x0": " ",
         "xaxis": "x",
         "y": {
          "bdata": "AAAAAOD67EAAAAAAQFDuQAAAAABA9e1AAAAAANDm8EAAAAAAQK0AQQAAAADAr+JAAAAAAAC0wEAAAAAAAIBvQAAAAAAAIGtAAAAAAADMokAAAAAAAMBvQAAAAAAAuI1AAAAAAAD0kUAAAAAAAHiNQAAAAAAAgJBAAAAAAACPvUAAAAAAALC3QAAAAACAEcJAAAAAAIArwEAAAAAAIHfwQAAAAABQVfBAAAAAAOCj4EAAAAAAoG7lQAAAAAAAvq5AAAAAAABAaUAAAAAAAAB3QAAAAAAAkHhAAAAAAABCsEAAAAAAAKOyQAAAAAAAwGtAAAAAAABAeEAAAAAAALB3QAAAAAAA4GtAAAAAAACWp0AAAAAAAIqpQAAAAAAAcMBAAAAAAIDQwEAAAAAAAAHyQAAAAADQ3fJAAAAAAAAgl0AAAAAAAGSSQAAAAAAAwH9AAAAAAABggEAAAAAAACCOQAAAAAAAoIRAAAAAAABQe0AAAAAAACB6QAAAAAAAtLdAAAAAAACotEAAAAAAILbrQAAAAADgDOxAAAAAAAC2p0AAAAAAAOylQAAAAABguOtAAAAAAEAQ7EAAAAAAAHahQAAAAAAA1JtAAAAAAAAgi0AAAAAAAJCKQAAAAAAACrdAAAAAAADItEAAAAAAAGCTQAAAAAAAQGhAAAAAAABYhUAAAAAAAAiHQAAAAABwGvJAAAAAAMCg80AAAAAAIIHmQAAAAACAU+VAAAAAAABsnkAAAAAAAESfQAAAAAAAOLxAAAAAAAC8vEAAAAAAANCdQAAAAAAAeJ1AAAAAAABkn0AAAAAAAESbQAAAAAAAIHhAAAAAAACwgUAAAAAAAKB3QAAAAAAA0HVAAAAAAADwckAAAAAAAJBxQAAAAAAA58ZAAAAAAACAg0AAAAAAcE3zQAAAAAAA08BAAAAAAADZ80AAAAAAAOC3QAAAAACAN+FAAAAAAABuwkAAAAAAgEvCQAAAAAAA8JxAAAAAAABwckAAAAAAAKipQAAAAABANuFAAAAAACBu5UAAAAAAgAfZQAAAAADwjfdAAAAAAAB/ukAAAAAAAJXjQAAAAAAAtcRAAAAAAACOyEAAAAAAIAvlQAAAAAAAO8BAAAAAALDG9EAAAAAA4JDvQAAAAABgR/JAAAAAAADkukAAAAAAADCzQAAAAAAAALpAAAAAAACco0AAAAAAAPCTQAAAAAAAZsRAAAAAAABUmEAAAAAAQB7kQAAAAACACcNAAAAAAAAMpEAAAAAA8ITyQAAAAAAAsfBAAAAAACAW+UAAAAAAAPG+QAAAAAAAebpAAAAAAAAYt0AAAAAAgIfEQAAAAAAAwHlAAAAAAMA24kAAAAAAAH6oQAAAAAAASINAAAAAAACAgkAAAAAAAGB/QAAAAABQpvhAAAAAACC87kAAAAAAsMXwQAAAAAAANLxAAAAAAICswEAAAAAAgLHHQAAAAAAAs89AAAAAAIBKxkAAAAAAANagQAAAAACAKsFAAAAAAIDLx0AAAAAAADKiQA==",
          "dtype": "f8"
         },
         "y0": " ",
         "yaxis": "y"
        },
        {
         "alignmentgroup": "True",
         "boxpoints": "all",
         "customdata": [
          [
           "P4C2T4_s81-B3_Gavage-DNA"
          ],
          [
           "P4C2T4_s81-B8_Gavage-DNA"
          ],
          [
           "P4C2T4_s82-A10_Gavage-DNA"
          ],
          [
           "P4C2T4_s82-A5_Gavage-DNA"
          ],
          [
           "P4C2T5_s121-F8_Gavage-DNA"
          ],
          [
           "P4C2T5_s122-G8_Gavage-DNA"
          ],
          [
           "NTC_F3_NTC"
          ],
          [
           "NTC_G10_NTC"
          ],
          [
           "NTC_G5_NTC"
          ],
          [
           "NTC_H10_NTC"
          ],
          [
           "NTC_H5_NTC"
          ],
          [
           "WATER_A2_WATER"
          ],
          [
           "WATER_A7_WATER"
          ],
          [
           "P4C2T4_s1-A1_stool-DNA"
          ],
          [
           "P4C2T4_s1-A6_stool-DNA"
          ],
          [
           "P4C2T4_s11-F1_stool-DNA"
          ],
          [
           "P4C2T4_s11-F6_stool-DNA"
          ],
          [
           "P4C2T4_s13-G1_stool-DNA"
          ],
          [
           "P4C2T4_s13-G6_stool-DNA"
          ],
          [
           "P4C2T4_s17-H1_stool-DNA"
          ],
          [
           "P4C2T4_s17-H6_stool-DNA"
          ],
          [
           "P4C2T4_s19-B2_stool-DNA"
          ],
          [
           "P4C2T4_s19-B7_stool-DNA"
          ],
          [
           "P4C2T4_s21-C2_stool-DNA"
          ],
          [
           "P4C2T4_s21-C7_stool-DNA"
          ],
          [
           "P4C2T4_s23-D2_stool-DNA"
          ],
          [
           "P4C2T4_s23-D7_stool-DNA"
          ],
          [
           "P4C2T4_s25-E2_stool-DNA"
          ],
          [
           "P4C2T4_s25-E7_stool-DNA"
          ],
          [
           "P4C2T4_s27-F2_stool-DNA"
          ],
          [
           "P4C2T4_s27-F7_stool-DNA"
          ],
          [
           "P4C2T4_s29-G2_stool-DNA"
          ],
          [
           "P4C2T4_s29-G7_stool-DNA"
          ],
          [
           "P4C2T4_s3-B1_stool-DNA"
          ],
          [
           "P4C2T4_s3-B6_stool-DNA"
          ],
          [
           "P4C2T4_s33-H2_SI-DNA"
          ],
          [
           "P4C2T4_s33-H7_SI-DNA"
          ],
          [
           "P4C2T4_s35-A3_SI-DNA"
          ],
          [
           "P4C2T4_s35-A8_SI-DNA"
          ],
          [
           "P4C2T4_s37-C3_SI-DNA"
          ],
          [
           "P4C2T4_s37-C8_SI-DNA"
          ],
          [
           "P4C2T4_s39-D3_SI-DNA"
          ],
          [
           "P4C2T4_s39-D8_SI-DNA"
          ],
          [
           "P4C2T4_s41-E3_SI-DNA"
          ],
          [
           "P4C2T4_s41-E8_SI-DNA"
          ],
          [
           "P4C2T4_s43-F3_SI-DNA"
          ],
          [
           "P4C2T4_s43-F8_SI-DNA"
          ],
          [
           "P4C2T4_s45-G3_SI-DNA"
          ],
          [
           "P4C2T4_s45-G8_SI-DNA"
          ],
          [
           "P4C2T4_s49-H3_Cecum-DNA"
          ],
          [
           "P4C2T4_s49-H8_Cecum-DNA"
          ],
          [
           "P4C2T4_s5-C1_stool-DNA"
          ],
          [
           "P4C2T4_s5-C6_stool-DNA"
          ],
          [
           "P4C2T4_s51-A4_Cecum-DNA"
          ],
          [
           "P4C2T4_s51-A9_Cecum-DNA"
          ],
          [
           "P4C2T4_s53-B4_Cecum-DNA"
          ],
          [
           "P4C2T4_s53-B9_Cecum-DNA"
          ],
          [
           "P4C2T4_s55-C4_Cecum-DNA"
          ],
          [
           "P4C2T4_s55-C9_Cecum-DNA"
          ],
          [
           "P4C2T4_s57-D4_Cecum-DNA"
          ],
          [
           "P4C2T4_s57-D9_Cecum-DNA"
          ],
          [
           "P4C2T4_s59-E4_Cecum-DNA"
          ],
          [
           "P4C2T4_s59-E9_Cecum-DNA"
          ],
          [
           "P4C2T4_s61-F4_Cecum-DNA"
          ],
          [
           "P4C2T4_s61-F9_Cecum-DNA"
          ],
          [
           "P4C2T4_s65-G4_Pr.-Colon-DNA"
          ],
          [
           "P4C2T4_s65-G9_Pr.-Colon-DNA"
          ],
          [
           "P4C2T4_s67-H4_Pr.-Colon-DNA"
          ],
          [
           "P4C2T4_s67-H9_Pr.-Colon-DNA"
          ],
          [
           "P4C2T4_s69-B10_Pr.-Colon-DNA"
          ],
          [
           "P4C2T4_s69-B5_Pr.-Colon-DNA"
          ],
          [
           "P4C2T4_s7-D1_stool-DNA"
          ],
          [
           "P4C2T4_s7-D6_stool-DNA"
          ],
          [
           "P4C2T4_s71-C10_Pr.-Colon-DNA"
          ],
          [
           "P4C2T4_s71-C5_Pr.-Colon-DNA"
          ],
          [
           "P4C2T4_s73-D10_Pr.-Colon-DNA"
          ],
          [
           "P4C2T4_s73-D5_Pr.-Colon-DNA"
          ],
          [
           "P4C2T4_s75-E10_Pr.-Colon-DNA"
          ],
          [
           "P4C2T4_s75-E5_Pr.-Colon-DNA"
          ],
          [
           "P4C2T4_s77-F10_Pr.-Colon-DNA"
          ],
          [
           "P4C2T4_s77-F5_Pr.-Colon-DNA"
          ],
          [
           "P4C2T4_s9-E1_stool-DNA"
          ],
          [
           "P4C2T4_s9-E6_stool-DNA"
          ],
          [
           "P4C2T5_s1-A1_stool-DNA"
          ],
          [
           "P4C2T5_s101-D7_Pr.-Colon-DNA"
          ],
          [
           "P4C2T5_s103-E7_Pr.-Colon-DNA"
          ],
          [
           "P4C2T5_s105-F7_Pr.-Colon-DNA"
          ],
          [
           "P4C2T5_s107-G7_Pr.-Colon-DNA"
          ],
          [
           "P4C2T5_s109-H7_Pr.-Colon-DNA"
          ],
          [
           "P4C2T5_s11-F1_stool-DNA"
          ],
          [
           "P4C2T5_s111-A8_Pr.-Colon-DNA"
          ],
          [
           "P4C2T5_s113-B8_Pr.-Colon-DNA"
          ],
          [
           "P4C2T5_s115-C8_Pr.-Colon-DNA"
          ],
          [
           "P4C2T5_s117-D8_Pr.-Colon-DNA"
          ],
          [
           "P4C2T5_s119-E8_Pr.-Colon-DNA"
          ],
          [
           "P4C2T5_s13-G1_stool-DNA"
          ],
          [
           "P4C2T5_s15-H1_stool-DNA"
          ],
          [
           "P4C2T5_s17-A2_stool-DNA"
          ],
          [
           "P4C2T5_s19-B2_stool-DNA"
          ],
          [
           "P4C2T5_s21-C2_stool-DNA"
          ],
          [
           "P4C2T5_s23-D2_stool-DNA"
          ],
          [
           "P4C2T5_s25-E2_stool-DNA"
          ],
          [
           "P4C2T5_s27-F2_stool-DNA"
          ],
          [
           "P4C2T5_s29-G2_stool-DNA"
          ],
          [
           "P4C2T5_s3-B1_stool-DNA"
          ],
          [
           "P4C2T5_s31-H2_stool-DNA"
          ],
          [
           "P4C2T5_s33-A3_stool-DNA"
          ],
          [
           "P4C2T5_s35-B3_stool-DNA"
          ],
          [
           "P4C2T5_s37-C3_stool-DNA"
          ],
          [
           "P4C2T5_s39-D3_stool-DNA"
          ],
          [
           "P4C2T5_s41-E3_stool-DNA"
          ],
          [
           "P4C2T5_s43-G3_stool-DNA"
          ],
          [
           "P4C2T5_s45-H3_stool-DNA"
          ],
          [
           "P4C2T5_s47-A4_stool-DNA"
          ],
          [
           "P4C2T5_s49-B4_SI-DNA"
          ],
          [
           "P4C2T5_s5-C1_stool-DNA"
          ],
          [
           "P4C2T5_s51-C4_SI-DNA"
          ],
          [
           "P4C2T5_s53-D4_SI-DNA"
          ],
          [
           "P4C2T5_s55-E4_SI-DNA"
          ],
          [
           "P4C2T5_s57-F4_SI-DNA"
          ],
          [
           "P4C2T5_s59-G4_SI-DNA"
          ],
          [
           "P4C2T5_s61-H4_SI-DNA"
          ],
          [
           "P4C2T5_s63-A5_SI-DNA"
          ],
          [
           "P4C2T5_s65-B5_SI-DNA"
          ],
          [
           "P4C2T5_s67-C5_SI-DNA"
          ],
          [
           "P4C2T5_s69-D5_SI-DNA"
          ],
          [
           "P4C2T5_s7-D1_stool-DNA"
          ],
          [
           "P4C2T5_s71-E5_SI-DNA"
          ],
          [
           "P4C2T5_s73-F5_Cecum-DNA"
          ],
          [
           "P4C2T5_s75-G5_Cecum-DNA"
          ],
          [
           "P4C2T5_s77-H5_Cecum-DNA"
          ],
          [
           "P4C2T5_s79-A6_Cecum-DNA"
          ],
          [
           "P4C2T5_s81-B6_Cecum-DNA"
          ],
          [
           "P4C2T5_s83-C6_Cecum-DNA"
          ],
          [
           "P4C2T5_s85-D6_Cecum-DNA"
          ],
          [
           "P4C2T5_s87-E6_Cecum-DNA"
          ],
          [
           "P4C2T5_s89-F6_Cecum-DNA"
          ],
          [
           "P4C2T5_s9-E1_stool-DNA"
          ],
          [
           "P4C2T5_s91-G6_Cecum-DNA"
          ],
          [
           "P4C2T5_s93-H6_Cecum-DNA"
          ],
          [
           "P4C2T5_s95-A7_Cecum-DNA"
          ],
          [
           "P4C2T5_s97-B7_Pr.-Colon-DNA"
          ],
          [
           "P4C2T5_s99-C7_Pr.-Colon-DNA"
          ]
         ],
         "hovertemplate": "strain=ST6<br>type=total_count<br>sample_type=%{x}<br>value=%{y}<br>sample=%{customdata[0]}<extra></extra>",
         "legendgroup": "ST6",
         "marker": {
          "color": "#9467BD"
         },
         "name": "ST6",
         "notched": false,
         "offsetgroup": "ST6",
         "orientation": "v",
         "showlegend": true,
         "type": "box",
         "x": [
          "gavage",
          "gavage",
          "gavage",
          "gavage",
          "gavage",
          "gavage",
          "negative_control",
          "negative_control",
          "negative_control",
          "negative_control",
          "negative_control",
          "negative_control",
          "negative_control",
          "sample",
          "sample",
          "sample",
          "sample",
          "sample",
          "sample",
          "sample",
          "sample",
          "sample",
          "sample",
          "sample",
          "sample",
          "sample",
          "sample",
          "sample",
          "sample",
          "sample",
          "sample",
          "sample",
          "sample",
          "sample",
          "sample",
          "sample",
          "sample",
          "sample",
          "sample",
          "sample",
          "sample",
          "sample",
          "sample",
          "sample",
          "sample",
          "sample",
          "sample",
          "sample",
          "sample",
          "sample",
          "sample",
          "sample",
          "sample",
          "sample",
          "sample",
          "sample",
          "sample",
          "sample",
          "sample",
          "sample",
          "sample",
          "sample",
          "sample",
          "sample",
          "sample",
          "sample",
          "sample",
          "sample",
          "sample",
          "sample",
          "sample",
          "sample",
          "sample",
          "sample",
          "sample",
          "sample",
          "sample",
          "sample",
          "sample",
          "sample",
          "sample",
          "sample",
          "sample",
          "sample",
          "sample",
          "sample",
          "sample",
          "sample",
          "sample",
          "sample",
          "sample",
          "sample",
          "sample",
          "sample",
          "sample",
          "sample",
          "sample",
          "sample",
          "sample",
          "sample",
          "sample",
          "sample",
          "sample",
          "sample",
          "sample",
          "sample",
          "sample",
          "sample",
          "sample",
          "sample",
          "sample",
          "sample",
          "sample",
          "sample",
          "sample",
          "sample",
          "sample",
          "sample",
          "sample",
          "sample",
          "sample",
          "sample",
          "sample",
          "sample",
          "sample",
          "sample",
          "sample",
          "sample",
          "sample",
          "sample",
          "sample",
          "sample",
          "sample",
          "sample",
          "sample",
          "sample",
          "sample",
          "sample",
          "sample",
          "sample",
          "sample",
          "sample",
          "sample"
         ],
         "x0": " ",
         "xaxis": "x2",
         "y": {
          "bdata": "AAAAANUjNUEAAAAAnjkrQQAAAADohTVBAAAAAOrFNkEAAABATFVVQQAAAAAgK0ZBAAAAAAB0z0AAAAAAAJPMQAAAAACAQMFAAAAAAAAe4UAAAAAAABKnQAAAAAAAG85AAAAAAAD7zEAAAAAAgFDDQAAAAACA88NAAAAAAAAdzEAAAAAAALatQAAAAAAAZ9dAAAAAAAClt0AAAACAxUlFQQAAAABCwT9BAAAAwNhzbEEAAAAgYkZsQQAAAIBeHFZBAAAAAACEtUAAAAAAAHyxQAAAAAAAIrVAAAAAAAC6u0AAAAAAQGjWQAAAAAAA5MtAAAAAAIDI1EAAAAAAAAa5QAAAAAAA9KhAAAAAAADCwEAAAAAAgJbFQAAAAAAAUMhAAAAAAIA4w0AAAAAAcMYGQQAAAADoHQ9BAAAAAIBfzkAAAAAAABy2QAAAAAAAS71AAAAAAABGwUAAAAAAAN3FQAAAAAAAFbdAAAAAAAAKw0AAAAAAgIXJQAAAAAAgw+9AAAAAAABT5UAAAADgTkZjQQAAAACQRmpBAAAAAABNsEAAAAAAALGxQAAAAACK9FxBAAAAQJBmW0EAAAAAAGDGQAAAAAAAVLtAAAAAAACRsEAAAAAAALyaQAAAAAAA4KFAAAAAAADSpUAAAAAAQGjUQAAAAAAAQqNAAAAAAABIokAAAAAAAN+wQAAAAIAL+0pBAAAAADEYQkEAAAAAJMpFQQAAACC1NWJBAAAAAADEu0AAAAAAAHW7QAAAAAAAs7FAAAAAAAC6q0AAAAAAALq4QAAAAAAAlbFAAAAAAAC4yUAAAAAAAM+5QAAAAAAAlKFAAAAAAABZukAAAAAAAO2wQAAAAAAAvqRAAAAAAAAFwUAAAAAAAN3GQAAAAAAAIGlAAAAAAIDCw0AAAABAuC5gQQAAAADYtSJBAAAAIK91bUEAAADsA+mSQQAAAACA+dRAAAAAUGPjo0EAAAD4VAiAQQAAAAAAEbpAAAAAAADHt0AAAAAAwP7kQAAAAAAVcDJBAAAAABQZJkEAAAAA4MbgQAAAAAAAkQZBAAAAAACMnkAAAAAAMLX5QAAAAABwYfFAAAAAAABRwkAAAAAA4DTyQAAAAAAA+KBAAAAAABqhNkEAAAAwRN95QQAAAGC8tmpBAAAAqOCEgUEAAADIGWWJQQAAAAS90cJBAAAAAAA+0EAAAAAAAO23QAAAAABkwTdBAAAAAACEokAAAAAAaGQkQQAAAACAUSpBAAAAAADgj0AAAAAAQN7RQAAAAADoBSVBAAAAAAA7BEEAAAAMOTCXQQAAAAxMkaNBAAAAMEV3eUEAAAAACSU2QQAAAABAyehAAAAAAICXzkAAAAAADSI5QQAAAAAA9cJAAAAAAAC0m0AAAAAAAB6gQAAAAMCUgGBBAAAAwJ73h0EAAACAbUZRQQAAANBHq3dBAAAA25j6w0EAAAAYVNuuQQAAAACQd/dAAAAAAFR5ikEAAAAAALCaQAAAAIClkXVBAAAAgHEUSUEAAAAAAABYQA==",
          "dtype": "f8"
         },
         "y0": " ",
         "yaxis": "y2"
        },
        {
         "alignmentgroup": "True",
         "boxpoints": "all",
         "customdata": [
          [
           "P4C2T4_s81-B3_Gavage-DNA"
          ],
          [
           "P4C2T4_s81-B8_Gavage-DNA"
          ],
          [
           "P4C2T4_s82-A10_Gavage-DNA"
          ],
          [
           "P4C2T4_s82-A5_Gavage-DNA"
          ],
          [
           "P4C2T5_s121-F8_Gavage-DNA"
          ],
          [
           "P4C2T5_s122-G8_Gavage-DNA"
          ],
          [
           "NTC_F3_NTC"
          ],
          [
           "NTC_G10_NTC"
          ],
          [
           "NTC_G5_NTC"
          ],
          [
           "NTC_H10_NTC"
          ],
          [
           "NTC_H5_NTC"
          ],
          [
           "WATER_A2_WATER"
          ],
          [
           "WATER_A7_WATER"
          ],
          [
           "P4C2T4_s1-A1_stool-DNA"
          ],
          [
           "P4C2T4_s1-A6_stool-DNA"
          ],
          [
           "P4C2T4_s11-F1_stool-DNA"
          ],
          [
           "P4C2T4_s11-F6_stool-DNA"
          ],
          [
           "P4C2T4_s13-G1_stool-DNA"
          ],
          [
           "P4C2T4_s13-G6_stool-DNA"
          ],
          [
           "P4C2T4_s17-H1_stool-DNA"
          ],
          [
           "P4C2T4_s17-H6_stool-DNA"
          ],
          [
           "P4C2T4_s19-B2_stool-DNA"
          ],
          [
           "P4C2T4_s19-B7_stool-DNA"
          ],
          [
           "P4C2T4_s21-C2_stool-DNA"
          ],
          [
           "P4C2T4_s21-C7_stool-DNA"
          ],
          [
           "P4C2T4_s23-D2_stool-DNA"
          ],
          [
           "P4C2T4_s23-D7_stool-DNA"
          ],
          [
           "P4C2T4_s25-E2_stool-DNA"
          ],
          [
           "P4C2T4_s25-E7_stool-DNA"
          ],
          [
           "P4C2T4_s27-F2_stool-DNA"
          ],
          [
           "P4C2T4_s27-F7_stool-DNA"
          ],
          [
           "P4C2T4_s29-G2_stool-DNA"
          ],
          [
           "P4C2T4_s29-G7_stool-DNA"
          ],
          [
           "P4C2T4_s3-B1_stool-DNA"
          ],
          [
           "P4C2T4_s3-B6_stool-DNA"
          ],
          [
           "P4C2T4_s33-H2_SI-DNA"
          ],
          [
           "P4C2T4_s33-H7_SI-DNA"
          ],
          [
           "P4C2T4_s35-A3_SI-DNA"
          ],
          [
           "P4C2T4_s35-A8_SI-DNA"
          ],
          [
           "P4C2T4_s37-C3_SI-DNA"
          ],
          [
           "P4C2T4_s37-C8_SI-DNA"
          ],
          [
           "P4C2T4_s39-D3_SI-DNA"
          ],
          [
           "P4C2T4_s39-D8_SI-DNA"
          ],
          [
           "P4C2T4_s41-E3_SI-DNA"
          ],
          [
           "P4C2T4_s41-E8_SI-DNA"
          ],
          [
           "P4C2T4_s43-F3_SI-DNA"
          ],
          [
           "P4C2T4_s43-F8_SI-DNA"
          ],
          [
           "P4C2T4_s45-G3_SI-DNA"
          ],
          [
           "P4C2T4_s45-G8_SI-DNA"
          ],
          [
           "P4C2T4_s49-H3_Cecum-DNA"
          ],
          [
           "P4C2T4_s49-H8_Cecum-DNA"
          ],
          [
           "P4C2T4_s5-C1_stool-DNA"
          ],
          [
           "P4C2T4_s5-C6_stool-DNA"
          ],
          [
           "P4C2T4_s51-A4_Cecum-DNA"
          ],
          [
           "P4C2T4_s51-A9_Cecum-DNA"
          ],
          [
           "P4C2T4_s53-B4_Cecum-DNA"
          ],
          [
           "P4C2T4_s53-B9_Cecum-DNA"
          ],
          [
           "P4C2T4_s55-C4_Cecum-DNA"
          ],
          [
           "P4C2T4_s55-C9_Cecum-DNA"
          ],
          [
           "P4C2T4_s57-D4_Cecum-DNA"
          ],
          [
           "P4C2T4_s57-D9_Cecum-DNA"
          ],
          [
           "P4C2T4_s59-E4_Cecum-DNA"
          ],
          [
           "P4C2T4_s59-E9_Cecum-DNA"
          ],
          [
           "P4C2T4_s61-F4_Cecum-DNA"
          ],
          [
           "P4C2T4_s61-F9_Cecum-DNA"
          ],
          [
           "P4C2T4_s65-G4_Pr.-Colon-DNA"
          ],
          [
           "P4C2T4_s65-G9_Pr.-Colon-DNA"
          ],
          [
           "P4C2T4_s67-H4_Pr.-Colon-DNA"
          ],
          [
           "P4C2T4_s67-H9_Pr.-Colon-DNA"
          ],
          [
           "P4C2T4_s69-B10_Pr.-Colon-DNA"
          ],
          [
           "P4C2T4_s69-B5_Pr.-Colon-DNA"
          ],
          [
           "P4C2T4_s7-D1_stool-DNA"
          ],
          [
           "P4C2T4_s7-D6_stool-DNA"
          ],
          [
           "P4C2T4_s71-C10_Pr.-Colon-DNA"
          ],
          [
           "P4C2T4_s71-C5_Pr.-Colon-DNA"
          ],
          [
           "P4C2T4_s73-D10_Pr.-Colon-DNA"
          ],
          [
           "P4C2T4_s73-D5_Pr.-Colon-DNA"
          ],
          [
           "P4C2T4_s75-E10_Pr.-Colon-DNA"
          ],
          [
           "P4C2T4_s75-E5_Pr.-Colon-DNA"
          ],
          [
           "P4C2T4_s77-F10_Pr.-Colon-DNA"
          ],
          [
           "P4C2T4_s77-F5_Pr.-Colon-DNA"
          ],
          [
           "P4C2T4_s9-E1_stool-DNA"
          ],
          [
           "P4C2T4_s9-E6_stool-DNA"
          ],
          [
           "P4C2T5_s1-A1_stool-DNA"
          ],
          [
           "P4C2T5_s101-D7_Pr.-Colon-DNA"
          ],
          [
           "P4C2T5_s103-E7_Pr.-Colon-DNA"
          ],
          [
           "P4C2T5_s105-F7_Pr.-Colon-DNA"
          ],
          [
           "P4C2T5_s107-G7_Pr.-Colon-DNA"
          ],
          [
           "P4C2T5_s109-H7_Pr.-Colon-DNA"
          ],
          [
           "P4C2T5_s11-F1_stool-DNA"
          ],
          [
           "P4C2T5_s111-A8_Pr.-Colon-DNA"
          ],
          [
           "P4C2T5_s113-B8_Pr.-Colon-DNA"
          ],
          [
           "P4C2T5_s115-C8_Pr.-Colon-DNA"
          ],
          [
           "P4C2T5_s117-D8_Pr.-Colon-DNA"
          ],
          [
           "P4C2T5_s119-E8_Pr.-Colon-DNA"
          ],
          [
           "P4C2T5_s13-G1_stool-DNA"
          ],
          [
           "P4C2T5_s15-H1_stool-DNA"
          ],
          [
           "P4C2T5_s17-A2_stool-DNA"
          ],
          [
           "P4C2T5_s19-B2_stool-DNA"
          ],
          [
           "P4C2T5_s21-C2_stool-DNA"
          ],
          [
           "P4C2T5_s23-D2_stool-DNA"
          ],
          [
           "P4C2T5_s25-E2_stool-DNA"
          ],
          [
           "P4C2T5_s27-F2_stool-DNA"
          ],
          [
           "P4C2T5_s29-G2_stool-DNA"
          ],
          [
           "P4C2T5_s3-B1_stool-DNA"
          ],
          [
           "P4C2T5_s31-H2_stool-DNA"
          ],
          [
           "P4C2T5_s33-A3_stool-DNA"
          ],
          [
           "P4C2T5_s35-B3_stool-DNA"
          ],
          [
           "P4C2T5_s37-C3_stool-DNA"
          ],
          [
           "P4C2T5_s39-D3_stool-DNA"
          ],
          [
           "P4C2T5_s41-E3_stool-DNA"
          ],
          [
           "P4C2T5_s43-G3_stool-DNA"
          ],
          [
           "P4C2T5_s45-H3_stool-DNA"
          ],
          [
           "P4C2T5_s47-A4_stool-DNA"
          ],
          [
           "P4C2T5_s49-B4_SI-DNA"
          ],
          [
           "P4C2T5_s5-C1_stool-DNA"
          ],
          [
           "P4C2T5_s51-C4_SI-DNA"
          ],
          [
           "P4C2T5_s53-D4_SI-DNA"
          ],
          [
           "P4C2T5_s55-E4_SI-DNA"
          ],
          [
           "P4C2T5_s57-F4_SI-DNA"
          ],
          [
           "P4C2T5_s59-G4_SI-DNA"
          ],
          [
           "P4C2T5_s61-H4_SI-DNA"
          ],
          [
           "P4C2T5_s63-A5_SI-DNA"
          ],
          [
           "P4C2T5_s65-B5_SI-DNA"
          ],
          [
           "P4C2T5_s67-C5_SI-DNA"
          ],
          [
           "P4C2T5_s69-D5_SI-DNA"
          ],
          [
           "P4C2T5_s7-D1_stool-DNA"
          ],
          [
           "P4C2T5_s71-E5_SI-DNA"
          ],
          [
           "P4C2T5_s73-F5_Cecum-DNA"
          ],
          [
           "P4C2T5_s75-G5_Cecum-DNA"
          ],
          [
           "P4C2T5_s77-H5_Cecum-DNA"
          ],
          [
           "P4C2T5_s79-A6_Cecum-DNA"
          ],
          [
           "P4C2T5_s81-B6_Cecum-DNA"
          ],
          [
           "P4C2T5_s83-C6_Cecum-DNA"
          ],
          [
           "P4C2T5_s85-D6_Cecum-DNA"
          ],
          [
           "P4C2T5_s87-E6_Cecum-DNA"
          ],
          [
           "P4C2T5_s89-F6_Cecum-DNA"
          ],
          [
           "P4C2T5_s9-E1_stool-DNA"
          ],
          [
           "P4C2T5_s91-G6_Cecum-DNA"
          ],
          [
           "P4C2T5_s93-H6_Cecum-DNA"
          ],
          [
           "P4C2T5_s95-A7_Cecum-DNA"
          ],
          [
           "P4C2T5_s97-B7_Pr.-Colon-DNA"
          ],
          [
           "P4C2T5_s99-C7_Pr.-Colon-DNA"
          ]
         ],
         "hovertemplate": "strain=ST6<br>type=total_unique_umi<br>sample_type=%{x}<br>value=%{y}<br>sample=%{customdata[0]}<extra></extra>",
         "legendgroup": "ST6",
         "marker": {
          "color": "#9467BD"
         },
         "name": "ST6",
         "notched": false,
         "offsetgroup": "ST6",
         "orientation": "v",
         "showlegend": false,
         "type": "box",
         "x": [
          "gavage",
          "gavage",
          "gavage",
          "gavage",
          "gavage",
          "gavage",
          "negative_control",
          "negative_control",
          "negative_control",
          "negative_control",
          "negative_control",
          "negative_control",
          "negative_control",
          "sample",
          "sample",
          "sample",
          "sample",
          "sample",
          "sample",
          "sample",
          "sample",
          "sample",
          "sample",
          "sample",
          "sample",
          "sample",
          "sample",
          "sample",
          "sample",
          "sample",
          "sample",
          "sample",
          "sample",
          "sample",
          "sample",
          "sample",
          "sample",
          "sample",
          "sample",
          "sample",
          "sample",
          "sample",
          "sample",
          "sample",
          "sample",
          "sample",
          "sample",
          "sample",
          "sample",
          "sample",
          "sample",
          "sample",
          "sample",
          "sample",
          "sample",
          "sample",
          "sample",
          "sample",
          "sample",
          "sample",
          "sample",
          "sample",
          "sample",
          "sample",
          "sample",
          "sample",
          "sample",
          "sample",
          "sample",
          "sample",
          "sample",
          "sample",
          "sample",
          "sample",
          "sample",
          "sample",
          "sample",
          "sample",
          "sample",
          "sample",
          "sample",
          "sample",
          "sample",
          "sample",
          "sample",
          "sample",
          "sample",
          "sample",
          "sample",
          "sample",
          "sample",
          "sample",
          "sample",
          "sample",
          "sample",
          "sample",
          "sample",
          "sample",
          "sample",
          "sample",
          "sample",
          "sample",
          "sample",
          "sample",
          "sample",
          "sample",
          "sample",
          "sample",
          "sample",
          "sample",
          "sample",
          "sample",
          "sample",
          "sample",
          "sample",
          "sample",
          "sample",
          "sample",
          "sample",
          "sample",
          "sample",
          "sample",
          "sample",
          "sample",
          "sample",
          "sample",
          "sample",
          "sample",
          "sample",
          "sample",
          "sample",
          "sample",
          "sample",
          "sample",
          "sample",
          "sample",
          "sample",
          "sample",
          "sample",
          "sample",
          "sample",
          "sample",
          "sample"
         ],
         "x0": " ",
         "xaxis": "x",
         "y": {
          "bdata": "AAAAAMAQ1kAAAAAAwBbWQAAAAABAxNhAAAAAAADM2UAAAAAAYH/sQAAAAAAAA75AAAAAAAC2r0AAAAAAAIBuQAAAAAAAoG1AAAAAAACgdEAAAAAAAABvQAAAAAAAMHBAAAAAAABgbEAAAAAAAIBtQAAAAAAAQHBAAAAAAACAbUAAAAAAAMBpQAAAAAAAwIVAAAAAAAAAbkAAAAAAAIKyQAAAAAAApbJAAAAAAAAZuEAAAAAAAHO+QAAAAAAAEJRAAAAAAAAAYEAAAAAAAGBlQAAAAAAAgGVAAAAAAADIgkAAAAAAAGCGQAAAAAAAAHFAAAAAAADgckAAAAAAAEBqQAAAAAAAIGdAAAAAAACQckAAAAAAAIBvQAAAAAAAsIZAAAAAAADohUAAAAAAAPSuQAAAAAAAaq1AAAAAAACgakAAAAAAAGBuQAAAAAAAgG9AAAAAAACgbUAAAAAAAIBqQAAAAAAAwGpAAAAAAABAb0AAAAAAAMBrQAAAAAAAIIhAAAAAAABYh0AAAAAAAHW6QAAAAAAAz7tAAAAAAAAgakAAAAAAACBmQAAAAAAAC7tAAAAAAAAFvEAAAAAAAOBiQAAAAAAAoGBAAAAAAABAWUAAAAAAAMBdQAAAAAAAAGNAAAAAAADAZkAAAAAAAABsQAAAAAAA4GBAAAAAAABgZEAAAAAAAIBrQAAAAAAAQq5AAAAAAAC3sEAAAAAAAD+4QAAAAAAAobdAAAAAAACgZ0AAAAAAAEBpQAAAAAAAwGhAAAAAAAAgY0AAAAAAADB2QAAAAAAAoHRAAAAAAAAAckAAAAAAACBuQAAAAAAAgF9AAAAAAAAAZkAAAAAAAGBnQAAAAAAAwGRAAAAAAACgbEAAAAAAAKBtQAAAAAAAgGdAAAAAAACgakAAAAAAAKKxQAAAAAAAaKZAAAAAAAA9tkAAAAAAQC/QQAAAAAAAkJpAAAAAAADS20AAAAAAwPvYQAAAAAAAgH9AAAAAAACAVUAAAAAAACyaQAAAAAAAOINAAAAAAABAkkAAAAAAAHSUQAAAAAAAoJFAAAAAAABAXEAAAAAAAHyYQAAAAAAA8JNAAAAAAAA8m0AAAAAAADiJQAAAAAAA0HJAAAAAAACuoEAAAAAAgNfFQAAAAAAAUrlAAAAAAEB+1EAAAAAAAP3MQAAAAADAEdRAAAAAAADwfkAAAAAAAJBwQAAAAAAAUKdAAAAAAACgYkAAAAAAAHCKQAAAAAAAoJtAAAAAAADgdkAAAAAAAKihQAAAAAAAVr9AAAAAAADMnEAAAAAAgP/WQAAAAACAfNNAAAAAAIBDx0AAAAAAACigQAAAAAAAWIRAAAAAAADwlUAAAAAAAIyeQAAAAAAAkHdAAAAAAADAV0AAAAAAACBoQAAAAAAAILhAAAAAAACixkAAAAAAAOW+QAAAAAAA9NxAAAAAAEAI1UAAAAAA4B7gQAAAAAAAsJNAAAAAAACZyEAAAAAAAFiFQAAAAAAAKK9AAAAAAAA8oUAAAAAAAMBWQA==",
          "dtype": "f8"
         },
         "y0": " ",
         "yaxis": "y"
        }
       ],
       "layout": {
        "annotations": [
         {
          "font": {},
          "showarrow": false,
          "text": "type=total_unique_umi",
          "textangle": 90,
          "x": 0.98,
          "xanchor": "left",
          "xref": "paper",
          "y": 0.2425,
          "yanchor": "middle",
          "yref": "paper"
         },
         {
          "font": {},
          "showarrow": false,
          "text": "type=total_count",
          "textangle": 90,
          "x": 0.98,
          "xanchor": "left",
          "xref": "paper",
          "y": 0.7575000000000001,
          "yanchor": "middle",
          "yref": "paper"
         }
        ],
        "boxmode": "group",
        "legend": {
         "title": {
          "text": "strain"
         },
         "tracegroupgap": 0
        },
        "margin": {
         "t": 60
        },
        "template": {
         "data": {
          "bar": [
           {
            "error_x": {
             "color": "rgb(36,36,36)"
            },
            "error_y": {
             "color": "rgb(36,36,36)"
            },
            "marker": {
             "line": {
              "color": "white",
              "width": 0.5
             },
             "pattern": {
              "fillmode": "overlay",
              "size": 10,
              "solidity": 0.2
             }
            },
            "type": "bar"
           }
          ],
          "barpolar": [
           {
            "marker": {
             "line": {
              "color": "white",
              "width": 0.5
             },
             "pattern": {
              "fillmode": "overlay",
              "size": 10,
              "solidity": 0.2
             }
            },
            "type": "barpolar"
           }
          ],
          "carpet": [
           {
            "aaxis": {
             "endlinecolor": "rgb(36,36,36)",
             "gridcolor": "white",
             "linecolor": "white",
             "minorgridcolor": "white",
             "startlinecolor": "rgb(36,36,36)"
            },
            "baxis": {
             "endlinecolor": "rgb(36,36,36)",
             "gridcolor": "white",
             "linecolor": "white",
             "minorgridcolor": "white",
             "startlinecolor": "rgb(36,36,36)"
            },
            "type": "carpet"
           }
          ],
          "choropleth": [
           {
            "colorbar": {
             "outlinewidth": 1,
             "tickcolor": "rgb(36,36,36)",
             "ticks": "outside"
            },
            "type": "choropleth"
           }
          ],
          "contour": [
           {
            "colorbar": {
             "outlinewidth": 1,
             "tickcolor": "rgb(36,36,36)",
             "ticks": "outside"
            },
            "colorscale": [
             [
              0,
              "#440154"
             ],
             [
              0.1111111111111111,
              "#482878"
             ],
             [
              0.2222222222222222,
              "#3e4989"
             ],
             [
              0.3333333333333333,
              "#31688e"
             ],
             [
              0.4444444444444444,
              "#26828e"
             ],
             [
              0.5555555555555556,
              "#1f9e89"
             ],
             [
              0.6666666666666666,
              "#35b779"
             ],
             [
              0.7777777777777778,
              "#6ece58"
             ],
             [
              0.8888888888888888,
              "#b5de2b"
             ],
             [
              1,
              "#fde725"
             ]
            ],
            "type": "contour"
           }
          ],
          "contourcarpet": [
           {
            "colorbar": {
             "outlinewidth": 1,
             "tickcolor": "rgb(36,36,36)",
             "ticks": "outside"
            },
            "type": "contourcarpet"
           }
          ],
          "heatmap": [
           {
            "colorbar": {
             "outlinewidth": 1,
             "tickcolor": "rgb(36,36,36)",
             "ticks": "outside"
            },
            "colorscale": [
             [
              0,
              "#440154"
             ],
             [
              0.1111111111111111,
              "#482878"
             ],
             [
              0.2222222222222222,
              "#3e4989"
             ],
             [
              0.3333333333333333,
              "#31688e"
             ],
             [
              0.4444444444444444,
              "#26828e"
             ],
             [
              0.5555555555555556,
              "#1f9e89"
             ],
             [
              0.6666666666666666,
              "#35b779"
             ],
             [
              0.7777777777777778,
              "#6ece58"
             ],
             [
              0.8888888888888888,
              "#b5de2b"
             ],
             [
              1,
              "#fde725"
             ]
            ],
            "type": "heatmap"
           }
          ],
          "histogram": [
           {
            "marker": {
             "line": {
              "color": "white",
              "width": 0.6
             }
            },
            "type": "histogram"
           }
          ],
          "histogram2d": [
           {
            "colorbar": {
             "outlinewidth": 1,
             "tickcolor": "rgb(36,36,36)",
             "ticks": "outside"
            },
            "colorscale": [
             [
              0,
              "#440154"
             ],
             [
              0.1111111111111111,
              "#482878"
             ],
             [
              0.2222222222222222,
              "#3e4989"
             ],
             [
              0.3333333333333333,
              "#31688e"
             ],
             [
              0.4444444444444444,
              "#26828e"
             ],
             [
              0.5555555555555556,
              "#1f9e89"
             ],
             [
              0.6666666666666666,
              "#35b779"
             ],
             [
              0.7777777777777778,
              "#6ece58"
             ],
             [
              0.8888888888888888,
              "#b5de2b"
             ],
             [
              1,
              "#fde725"
             ]
            ],
            "type": "histogram2d"
           }
          ],
          "histogram2dcontour": [
           {
            "colorbar": {
             "outlinewidth": 1,
             "tickcolor": "rgb(36,36,36)",
             "ticks": "outside"
            },
            "colorscale": [
             [
              0,
              "#440154"
             ],
             [
              0.1111111111111111,
              "#482878"
             ],
             [
              0.2222222222222222,
              "#3e4989"
             ],
             [
              0.3333333333333333,
              "#31688e"
             ],
             [
              0.4444444444444444,
              "#26828e"
             ],
             [
              0.5555555555555556,
              "#1f9e89"
             ],
             [
              0.6666666666666666,
              "#35b779"
             ],
             [
              0.7777777777777778,
              "#6ece58"
             ],
             [
              0.8888888888888888,
              "#b5de2b"
             ],
             [
              1,
              "#fde725"
             ]
            ],
            "type": "histogram2dcontour"
           }
          ],
          "mesh3d": [
           {
            "colorbar": {
             "outlinewidth": 1,
             "tickcolor": "rgb(36,36,36)",
             "ticks": "outside"
            },
            "type": "mesh3d"
           }
          ],
          "parcoords": [
           {
            "line": {
             "colorbar": {
              "outlinewidth": 1,
              "tickcolor": "rgb(36,36,36)",
              "ticks": "outside"
             }
            },
            "type": "parcoords"
           }
          ],
          "pie": [
           {
            "automargin": true,
            "type": "pie"
           }
          ],
          "scatter": [
           {
            "fillpattern": {
             "fillmode": "overlay",
             "size": 10,
             "solidity": 0.2
            },
            "type": "scatter"
           }
          ],
          "scatter3d": [
           {
            "line": {
             "colorbar": {
              "outlinewidth": 1,
              "tickcolor": "rgb(36,36,36)",
              "ticks": "outside"
             }
            },
            "marker": {
             "colorbar": {
              "outlinewidth": 1,
              "tickcolor": "rgb(36,36,36)",
              "ticks": "outside"
             }
            },
            "type": "scatter3d"
           }
          ],
          "scattercarpet": [
           {
            "marker": {
             "colorbar": {
              "outlinewidth": 1,
              "tickcolor": "rgb(36,36,36)",
              "ticks": "outside"
             }
            },
            "type": "scattercarpet"
           }
          ],
          "scattergeo": [
           {
            "marker": {
             "colorbar": {
              "outlinewidth": 1,
              "tickcolor": "rgb(36,36,36)",
              "ticks": "outside"
             }
            },
            "type": "scattergeo"
           }
          ],
          "scattergl": [
           {
            "marker": {
             "colorbar": {
              "outlinewidth": 1,
              "tickcolor": "rgb(36,36,36)",
              "ticks": "outside"
             }
            },
            "type": "scattergl"
           }
          ],
          "scattermap": [
           {
            "marker": {
             "colorbar": {
              "outlinewidth": 1,
              "tickcolor": "rgb(36,36,36)",
              "ticks": "outside"
             }
            },
            "type": "scattermap"
           }
          ],
          "scattermapbox": [
           {
            "marker": {
             "colorbar": {
              "outlinewidth": 1,
              "tickcolor": "rgb(36,36,36)",
              "ticks": "outside"
             }
            },
            "type": "scattermapbox"
           }
          ],
          "scatterpolar": [
           {
            "marker": {
             "colorbar": {
              "outlinewidth": 1,
              "tickcolor": "rgb(36,36,36)",
              "ticks": "outside"
             }
            },
            "type": "scatterpolar"
           }
          ],
          "scatterpolargl": [
           {
            "marker": {
             "colorbar": {
              "outlinewidth": 1,
              "tickcolor": "rgb(36,36,36)",
              "ticks": "outside"
             }
            },
            "type": "scatterpolargl"
           }
          ],
          "scatterternary": [
           {
            "marker": {
             "colorbar": {
              "outlinewidth": 1,
              "tickcolor": "rgb(36,36,36)",
              "ticks": "outside"
             }
            },
            "type": "scatterternary"
           }
          ],
          "surface": [
           {
            "colorbar": {
             "outlinewidth": 1,
             "tickcolor": "rgb(36,36,36)",
             "ticks": "outside"
            },
            "colorscale": [
             [
              0,
              "#440154"
             ],
             [
              0.1111111111111111,
              "#482878"
             ],
             [
              0.2222222222222222,
              "#3e4989"
             ],
             [
              0.3333333333333333,
              "#31688e"
             ],
             [
              0.4444444444444444,
              "#26828e"
             ],
             [
              0.5555555555555556,
              "#1f9e89"
             ],
             [
              0.6666666666666666,
              "#35b779"
             ],
             [
              0.7777777777777778,
              "#6ece58"
             ],
             [
              0.8888888888888888,
              "#b5de2b"
             ],
             [
              1,
              "#fde725"
             ]
            ],
            "type": "surface"
           }
          ],
          "table": [
           {
            "cells": {
             "fill": {
              "color": "rgb(237,237,237)"
             },
             "line": {
              "color": "white"
             }
            },
            "header": {
             "fill": {
              "color": "rgb(217,217,217)"
             },
             "line": {
              "color": "white"
             }
            },
            "type": "table"
           }
          ]
         },
         "layout": {
          "annotationdefaults": {
           "arrowhead": 0,
           "arrowwidth": 1
          },
          "autotypenumbers": "strict",
          "coloraxis": {
           "colorbar": {
            "outlinewidth": 1,
            "tickcolor": "rgb(36,36,36)",
            "ticks": "outside"
           }
          },
          "colorscale": {
           "diverging": [
            [
             0,
             "rgb(103,0,31)"
            ],
            [
             0.1,
             "rgb(178,24,43)"
            ],
            [
             0.2,
             "rgb(214,96,77)"
            ],
            [
             0.3,
             "rgb(244,165,130)"
            ],
            [
             0.4,
             "rgb(253,219,199)"
            ],
            [
             0.5,
             "rgb(247,247,247)"
            ],
            [
             0.6,
             "rgb(209,229,240)"
            ],
            [
             0.7,
             "rgb(146,197,222)"
            ],
            [
             0.8,
             "rgb(67,147,195)"
            ],
            [
             0.9,
             "rgb(33,102,172)"
            ],
            [
             1,
             "rgb(5,48,97)"
            ]
           ],
           "sequential": [
            [
             0,
             "#440154"
            ],
            [
             0.1111111111111111,
             "#482878"
            ],
            [
             0.2222222222222222,
             "#3e4989"
            ],
            [
             0.3333333333333333,
             "#31688e"
            ],
            [
             0.4444444444444444,
             "#26828e"
            ],
            [
             0.5555555555555556,
             "#1f9e89"
            ],
            [
             0.6666666666666666,
             "#35b779"
            ],
            [
             0.7777777777777778,
             "#6ece58"
            ],
            [
             0.8888888888888888,
             "#b5de2b"
            ],
            [
             1,
             "#fde725"
            ]
           ],
           "sequentialminus": [
            [
             0,
             "#440154"
            ],
            [
             0.1111111111111111,
             "#482878"
            ],
            [
             0.2222222222222222,
             "#3e4989"
            ],
            [
             0.3333333333333333,
             "#31688e"
            ],
            [
             0.4444444444444444,
             "#26828e"
            ],
            [
             0.5555555555555556,
             "#1f9e89"
            ],
            [
             0.6666666666666666,
             "#35b779"
            ],
            [
             0.7777777777777778,
             "#6ece58"
            ],
            [
             0.8888888888888888,
             "#b5de2b"
            ],
            [
             1,
             "#fde725"
            ]
           ]
          },
          "colorway": [
           "#1F77B4",
           "#FF7F0E",
           "#2CA02C",
           "#D62728",
           "#9467BD",
           "#8C564B",
           "#E377C2",
           "#7F7F7F",
           "#BCBD22",
           "#17BECF"
          ],
          "font": {
           "color": "rgb(36,36,36)"
          },
          "geo": {
           "bgcolor": "white",
           "lakecolor": "white",
           "landcolor": "white",
           "showlakes": true,
           "showland": true,
           "subunitcolor": "white"
          },
          "hoverlabel": {
           "align": "left"
          },
          "hovermode": "closest",
          "mapbox": {
           "style": "light"
          },
          "paper_bgcolor": "white",
          "plot_bgcolor": "white",
          "polar": {
           "angularaxis": {
            "gridcolor": "rgb(232,232,232)",
            "linecolor": "rgb(36,36,36)",
            "showgrid": false,
            "showline": true,
            "ticks": "outside"
           },
           "bgcolor": "white",
           "radialaxis": {
            "gridcolor": "rgb(232,232,232)",
            "linecolor": "rgb(36,36,36)",
            "showgrid": false,
            "showline": true,
            "ticks": "outside"
           }
          },
          "scene": {
           "xaxis": {
            "backgroundcolor": "white",
            "gridcolor": "rgb(232,232,232)",
            "gridwidth": 2,
            "linecolor": "rgb(36,36,36)",
            "showbackground": true,
            "showgrid": false,
            "showline": true,
            "ticks": "outside",
            "zeroline": false,
            "zerolinecolor": "rgb(36,36,36)"
           },
           "yaxis": {
            "backgroundcolor": "white",
            "gridcolor": "rgb(232,232,232)",
            "gridwidth": 2,
            "linecolor": "rgb(36,36,36)",
            "showbackground": true,
            "showgrid": false,
            "showline": true,
            "ticks": "outside",
            "zeroline": false,
            "zerolinecolor": "rgb(36,36,36)"
           },
           "zaxis": {
            "backgroundcolor": "white",
            "gridcolor": "rgb(232,232,232)",
            "gridwidth": 2,
            "linecolor": "rgb(36,36,36)",
            "showbackground": true,
            "showgrid": false,
            "showline": true,
            "ticks": "outside",
            "zeroline": false,
            "zerolinecolor": "rgb(36,36,36)"
           }
          },
          "shapedefaults": {
           "fillcolor": "black",
           "line": {
            "width": 0
           },
           "opacity": 0.3
          },
          "ternary": {
           "aaxis": {
            "gridcolor": "rgb(232,232,232)",
            "linecolor": "rgb(36,36,36)",
            "showgrid": false,
            "showline": true,
            "ticks": "outside"
           },
           "baxis": {
            "gridcolor": "rgb(232,232,232)",
            "linecolor": "rgb(36,36,36)",
            "showgrid": false,
            "showline": true,
            "ticks": "outside"
           },
           "bgcolor": "white",
           "caxis": {
            "gridcolor": "rgb(232,232,232)",
            "linecolor": "rgb(36,36,36)",
            "showgrid": false,
            "showline": true,
            "ticks": "outside"
           }
          },
          "title": {
           "x": 0.05
          },
          "xaxis": {
           "automargin": true,
           "gridcolor": "rgb(232,232,232)",
           "linecolor": "rgb(36,36,36)",
           "showgrid": false,
           "showline": true,
           "ticks": "outside",
           "title": {
            "standoff": 15
           },
           "zeroline": false,
           "zerolinecolor": "rgb(36,36,36)"
          },
          "yaxis": {
           "automargin": true,
           "gridcolor": "rgb(232,232,232)",
           "linecolor": "rgb(36,36,36)",
           "showgrid": false,
           "showline": true,
           "ticks": "outside",
           "title": {
            "standoff": 15
           },
           "zeroline": false,
           "zerolinecolor": "rgb(36,36,36)"
          }
         }
        },
        "xaxis": {
         "anchor": "y",
         "categoryorder": "trace",
         "domain": [
          0,
          0.98
         ],
         "showticklabels": true,
         "title": {
          "text": "sample_type"
         }
        },
        "xaxis2": {
         "anchor": "y2",
         "categoryorder": "trace",
         "domain": [
          0,
          0.98
         ],
         "showticklabels": true
        },
        "yaxis": {
         "anchor": "x",
         "domain": [
          0,
          0.485
         ],
         "range": [
          2,
          10
         ],
         "showticklabels": true,
         "title": {
          "text": "value"
         },
         "type": "log"
        },
        "yaxis2": {
         "anchor": "x2",
         "domain": [
          0.515,
          1
         ],
         "range": [
          2,
          10
         ],
         "showticklabels": true,
         "title": {
          "text": "value"
         },
         "type": "log"
        }
       }
      }
     },
     "metadata": {},
     "output_type": "display_data"
    }
   ],
   "source": [
    "df_strains_gpd = df_total_stack.groupby(['sample_type', 'sample', 'strain']).agg(**agg_dict)\n",
    "\n",
    "df_strains_gpd = df_strains_gpd.reset_index()\n",
    "df_strains_gpd = df_strains_gpd.set_index(['sample_type', 'sample','strain']).stack()\n",
    "df_strains_gpd = df_strains_gpd.reset_index()\n",
    "display(df_strains_gpd)\n",
    "df_strains_gpd = df_strains_gpd.rename(columns = {'level_3':'type', 0:'value'})\n",
    "df_strains_gpd\n",
    "\n",
    "fig = px.box(df_strains_gpd,\n",
    "             x = 'sample_type',\n",
    "             y = 'value',\n",
    "             color = 'strain',\n",
    "             facet_row='type',\n",
    "             hover_data = ['sample'],\n",
    "             template = 'simple_white',\n",
    "             points = 'all',\n",
    "             log_y = True,\n",
    "             )\n",
    "fig.update_xaxes(matches=None, categoryorder='trace', showticklabels=True)\n",
    "fig.update_yaxes(matches=None, showticklabels=True)\n",
    "fig.update_yaxes(col=1, range=[2, 10])\n",
    "fig.update_yaxes(col=2, range=[1, 7])\n",
    "\n",
    "fig.show()\n"
   ]
  },
  {
   "cell_type": "code",
   "execution_count": 165,
   "id": "8f9931ef",
   "metadata": {},
   "outputs": [
    {
     "data": {
      "application/vnd.plotly.v1+json": {
       "config": {
        "plotlyServerURL": "https://plotly.com"
       },
       "data": [
        {
         "alignmentgroup": "True",
         "boxpoints": "all",
         "customdata": [
          [
           "P4C2T4_s81-B3_Gavage-DNA"
          ],
          [
           "P4C2T4_s81-B8_Gavage-DNA"
          ],
          [
           "P4C2T4_s82-A10_Gavage-DNA"
          ],
          [
           "P4C2T4_s82-A5_Gavage-DNA"
          ],
          [
           "P4C2T5_s121-F8_Gavage-DNA"
          ],
          [
           "P4C2T5_s122-G8_Gavage-DNA"
          ],
          [
           "NTC_F3_NTC"
          ],
          [
           "NTC_G10_NTC"
          ],
          [
           "NTC_G5_NTC"
          ],
          [
           "NTC_H10_NTC"
          ],
          [
           "NTC_H5_NTC"
          ],
          [
           "WATER_A2_WATER"
          ],
          [
           "WATER_A7_WATER"
          ],
          [
           "P4C2T4_s1-A1_stool-DNA"
          ],
          [
           "P4C2T4_s1-A6_stool-DNA"
          ],
          [
           "P4C2T4_s11-F1_stool-DNA"
          ],
          [
           "P4C2T4_s11-F6_stool-DNA"
          ],
          [
           "P4C2T4_s13-G1_stool-DNA"
          ],
          [
           "P4C2T4_s13-G6_stool-DNA"
          ],
          [
           "P4C2T4_s17-H1_stool-DNA"
          ],
          [
           "P4C2T4_s17-H6_stool-DNA"
          ],
          [
           "P4C2T4_s19-B2_stool-DNA"
          ],
          [
           "P4C2T4_s19-B7_stool-DNA"
          ],
          [
           "P4C2T4_s21-C2_stool-DNA"
          ],
          [
           "P4C2T4_s21-C7_stool-DNA"
          ],
          [
           "P4C2T4_s23-D2_stool-DNA"
          ],
          [
           "P4C2T4_s23-D7_stool-DNA"
          ],
          [
           "P4C2T4_s25-E2_stool-DNA"
          ],
          [
           "P4C2T4_s25-E7_stool-DNA"
          ],
          [
           "P4C2T4_s27-F2_stool-DNA"
          ],
          [
           "P4C2T4_s27-F7_stool-DNA"
          ],
          [
           "P4C2T4_s29-G2_stool-DNA"
          ],
          [
           "P4C2T4_s29-G7_stool-DNA"
          ],
          [
           "P4C2T4_s3-B1_stool-DNA"
          ],
          [
           "P4C2T4_s3-B6_stool-DNA"
          ],
          [
           "P4C2T4_s33-H2_SI-DNA"
          ],
          [
           "P4C2T4_s33-H7_SI-DNA"
          ],
          [
           "P4C2T4_s35-A3_SI-DNA"
          ],
          [
           "P4C2T4_s35-A8_SI-DNA"
          ],
          [
           "P4C2T4_s37-C3_SI-DNA"
          ],
          [
           "P4C2T4_s37-C8_SI-DNA"
          ],
          [
           "P4C2T4_s39-D3_SI-DNA"
          ],
          [
           "P4C2T4_s39-D8_SI-DNA"
          ],
          [
           "P4C2T4_s41-E3_SI-DNA"
          ],
          [
           "P4C2T4_s41-E8_SI-DNA"
          ],
          [
           "P4C2T4_s43-F3_SI-DNA"
          ],
          [
           "P4C2T4_s43-F8_SI-DNA"
          ],
          [
           "P4C2T4_s45-G3_SI-DNA"
          ],
          [
           "P4C2T4_s45-G8_SI-DNA"
          ],
          [
           "P4C2T4_s49-H3_Cecum-DNA"
          ],
          [
           "P4C2T4_s49-H8_Cecum-DNA"
          ],
          [
           "P4C2T4_s5-C1_stool-DNA"
          ],
          [
           "P4C2T4_s5-C6_stool-DNA"
          ],
          [
           "P4C2T4_s51-A4_Cecum-DNA"
          ],
          [
           "P4C2T4_s51-A9_Cecum-DNA"
          ],
          [
           "P4C2T4_s53-B4_Cecum-DNA"
          ],
          [
           "P4C2T4_s53-B9_Cecum-DNA"
          ],
          [
           "P4C2T4_s55-C4_Cecum-DNA"
          ],
          [
           "P4C2T4_s55-C9_Cecum-DNA"
          ],
          [
           "P4C2T4_s57-D4_Cecum-DNA"
          ],
          [
           "P4C2T4_s57-D9_Cecum-DNA"
          ],
          [
           "P4C2T4_s59-E4_Cecum-DNA"
          ],
          [
           "P4C2T4_s59-E9_Cecum-DNA"
          ],
          [
           "P4C2T4_s61-F4_Cecum-DNA"
          ],
          [
           "P4C2T4_s61-F9_Cecum-DNA"
          ],
          [
           "P4C2T4_s65-G4_Pr.-Colon-DNA"
          ],
          [
           "P4C2T4_s65-G9_Pr.-Colon-DNA"
          ],
          [
           "P4C2T4_s67-H4_Pr.-Colon-DNA"
          ],
          [
           "P4C2T4_s67-H9_Pr.-Colon-DNA"
          ],
          [
           "P4C2T4_s69-B10_Pr.-Colon-DNA"
          ],
          [
           "P4C2T4_s69-B5_Pr.-Colon-DNA"
          ],
          [
           "P4C2T4_s7-D1_stool-DNA"
          ],
          [
           "P4C2T4_s7-D6_stool-DNA"
          ],
          [
           "P4C2T4_s71-C10_Pr.-Colon-DNA"
          ],
          [
           "P4C2T4_s71-C5_Pr.-Colon-DNA"
          ],
          [
           "P4C2T4_s73-D10_Pr.-Colon-DNA"
          ],
          [
           "P4C2T4_s73-D5_Pr.-Colon-DNA"
          ],
          [
           "P4C2T4_s75-E10_Pr.-Colon-DNA"
          ],
          [
           "P4C2T4_s75-E5_Pr.-Colon-DNA"
          ],
          [
           "P4C2T4_s77-F10_Pr.-Colon-DNA"
          ],
          [
           "P4C2T4_s77-F5_Pr.-Colon-DNA"
          ],
          [
           "P4C2T4_s9-E1_stool-DNA"
          ],
          [
           "P4C2T4_s9-E6_stool-DNA"
          ],
          [
           "P4C2T5_s1-A1_stool-DNA"
          ],
          [
           "P4C2T5_s101-D7_Pr.-Colon-DNA"
          ],
          [
           "P4C2T5_s103-E7_Pr.-Colon-DNA"
          ],
          [
           "P4C2T5_s105-F7_Pr.-Colon-DNA"
          ],
          [
           "P4C2T5_s107-G7_Pr.-Colon-DNA"
          ],
          [
           "P4C2T5_s109-H7_Pr.-Colon-DNA"
          ],
          [
           "P4C2T5_s11-F1_stool-DNA"
          ],
          [
           "P4C2T5_s111-A8_Pr.-Colon-DNA"
          ],
          [
           "P4C2T5_s113-B8_Pr.-Colon-DNA"
          ],
          [
           "P4C2T5_s115-C8_Pr.-Colon-DNA"
          ],
          [
           "P4C2T5_s117-D8_Pr.-Colon-DNA"
          ],
          [
           "P4C2T5_s119-E8_Pr.-Colon-DNA"
          ],
          [
           "P4C2T5_s13-G1_stool-DNA"
          ],
          [
           "P4C2T5_s15-H1_stool-DNA"
          ],
          [
           "P4C2T5_s17-A2_stool-DNA"
          ],
          [
           "P4C2T5_s19-B2_stool-DNA"
          ],
          [
           "P4C2T5_s21-C2_stool-DNA"
          ],
          [
           "P4C2T5_s23-D2_stool-DNA"
          ],
          [
           "P4C2T5_s25-E2_stool-DNA"
          ],
          [
           "P4C2T5_s27-F2_stool-DNA"
          ],
          [
           "P4C2T5_s29-G2_stool-DNA"
          ],
          [
           "P4C2T5_s3-B1_stool-DNA"
          ],
          [
           "P4C2T5_s31-H2_stool-DNA"
          ],
          [
           "P4C2T5_s33-A3_stool-DNA"
          ],
          [
           "P4C2T5_s35-B3_stool-DNA"
          ],
          [
           "P4C2T5_s37-C3_stool-DNA"
          ],
          [
           "P4C2T5_s39-D3_stool-DNA"
          ],
          [
           "P4C2T5_s41-E3_stool-DNA"
          ],
          [
           "P4C2T5_s43-G3_stool-DNA"
          ],
          [
           "P4C2T5_s45-H3_stool-DNA"
          ],
          [
           "P4C2T5_s47-A4_stool-DNA"
          ],
          [
           "P4C2T5_s49-B4_SI-DNA"
          ],
          [
           "P4C2T5_s5-C1_stool-DNA"
          ],
          [
           "P4C2T5_s51-C4_SI-DNA"
          ],
          [
           "P4C2T5_s53-D4_SI-DNA"
          ],
          [
           "P4C2T5_s55-E4_SI-DNA"
          ],
          [
           "P4C2T5_s57-F4_SI-DNA"
          ],
          [
           "P4C2T5_s59-G4_SI-DNA"
          ],
          [
           "P4C2T5_s61-H4_SI-DNA"
          ],
          [
           "P4C2T5_s63-A5_SI-DNA"
          ],
          [
           "P4C2T5_s65-B5_SI-DNA"
          ],
          [
           "P4C2T5_s67-C5_SI-DNA"
          ],
          [
           "P4C2T5_s69-D5_SI-DNA"
          ],
          [
           "P4C2T5_s7-D1_stool-DNA"
          ],
          [
           "P4C2T5_s71-E5_SI-DNA"
          ],
          [
           "P4C2T5_s73-F5_Cecum-DNA"
          ],
          [
           "P4C2T5_s75-G5_Cecum-DNA"
          ],
          [
           "P4C2T5_s77-H5_Cecum-DNA"
          ],
          [
           "P4C2T5_s79-A6_Cecum-DNA"
          ],
          [
           "P4C2T5_s81-B6_Cecum-DNA"
          ],
          [
           "P4C2T5_s83-C6_Cecum-DNA"
          ],
          [
           "P4C2T5_s85-D6_Cecum-DNA"
          ],
          [
           "P4C2T5_s87-E6_Cecum-DNA"
          ],
          [
           "P4C2T5_s89-F6_Cecum-DNA"
          ],
          [
           "P4C2T5_s9-E1_stool-DNA"
          ],
          [
           "P4C2T5_s91-G6_Cecum-DNA"
          ],
          [
           "P4C2T5_s93-H6_Cecum-DNA"
          ],
          [
           "P4C2T5_s95-A7_Cecum-DNA"
          ],
          [
           "P4C2T5_s97-B7_Pr.-Colon-DNA"
          ],
          [
           "P4C2T5_s99-C7_Pr.-Colon-DNA"
          ]
         ],
         "hovertemplate": "type=total_count<br>sample_type=%{x}<br>value=%{y}<br>sample=%{customdata[0]}<extra></extra>",
         "legendgroup": "total_count",
         "marker": {
          "color": "#1F77B4"
         },
         "name": "total_count",
         "notched": false,
         "offsetgroup": "total_count",
         "orientation": "v",
         "showlegend": true,
         "type": "box",
         "x": [
          "gavage",
          "gavage",
          "gavage",
          "gavage",
          "gavage",
          "gavage",
          "negative_control",
          "negative_control",
          "negative_control",
          "negative_control",
          "negative_control",
          "negative_control",
          "negative_control",
          "sample",
          "sample",
          "sample",
          "sample",
          "sample",
          "sample",
          "sample",
          "sample",
          "sample",
          "sample",
          "sample",
          "sample",
          "sample",
          "sample",
          "sample",
          "sample",
          "sample",
          "sample",
          "sample",
          "sample",
          "sample",
          "sample",
          "sample",
          "sample",
          "sample",
          "sample",
          "sample",
          "sample",
          "sample",
          "sample",
          "sample",
          "sample",
          "sample",
          "sample",
          "sample",
          "sample",
          "sample",
          "sample",
          "sample",
          "sample",
          "sample",
          "sample",
          "sample",
          "sample",
          "sample",
          "sample",
          "sample",
          "sample",
          "sample",
          "sample",
          "sample",
          "sample",
          "sample",
          "sample",
          "sample",
          "sample",
          "sample",
          "sample",
          "sample",
          "sample",
          "sample",
          "sample",
          "sample",
          "sample",
          "sample",
          "sample",
          "sample",
          "sample",
          "sample",
          "sample",
          "sample",
          "sample",
          "sample",
          "sample",
          "sample",
          "sample",
          "sample",
          "sample",
          "sample",
          "sample",
          "sample",
          "sample",
          "sample",
          "sample",
          "sample",
          "sample",
          "sample",
          "sample",
          "sample",
          "sample",
          "sample",
          "sample",
          "sample",
          "sample",
          "sample",
          "sample",
          "sample",
          "sample",
          "sample",
          "sample",
          "sample",
          "sample",
          "sample",
          "sample",
          "sample",
          "sample",
          "sample",
          "sample",
          "sample",
          "sample",
          "sample",
          "sample",
          "sample",
          "sample",
          "sample",
          "sample",
          "sample",
          "sample",
          "sample",
          "sample",
          "sample",
          "sample",
          "sample",
          "sample",
          "sample",
          "sample",
          "sample",
          "sample",
          "sample",
          "sample"
         ],
         "x0": " ",
         "xaxis": "x",
         "y": {
          "bdata": "AAAAIGiVZUEAAADAI2NcQQAAAOAjNmhBAAAAwJUgakEAAAAooVGFQQAAAIieK4xBAAAAACRsFkEAAAAAMPrwQAAAAAAgHOhAAAAAAGBh9EAAAAAAgMbsQAAAAABAWPBAAAAAAHA78kAAAAAAgIPvQAAAAABg0exAAAAAAAElMUEAAAAAwP0OQQAAAABCPiNBAAAAAPqiKkEAAAB4ShKQQQAAAOC+JohBAAAA1a0StUEAAAAY9n20QQAAAOBkgWhBAAAAAICix0AAAAAAgFLKQAAAAACAV9BAAAAAgEbQUUEAAAAg06FmQQAAAABQQfFAAAAAAGBl9UAAAAAAQLnVQAAAAACAmcdAAAAAAIzREkEAAAAAHEAZQQAAAAD8KjdBAAAAAERtMUEAAAAyMz6nQQAAABbM5K9BAAAAANBWCEEAAAAAAMvvQAAAAAAA/d5AAAAAAABb3kAAAAAAXPIWQQAAAAAI9w5BAAAAAGAT6EAAAAAAwM3wQAAAAABBQzJBAAAAAAjgKEEAAACaHB6gQQAAACCMR6ZBAAAAALDF+kAAAAAAkETwQAAAANCkHK5BAAAA4JvlrEEAAAAAwMbvQAAAAACAouFAAAAAAEAo2UAAAAAAgMTLQAAAAAD43z5BAAAAAAU2MEEAAAAAwEgHQQAAAAAAqdlAAAAAAAA500AAAAAAQGbdQAAAAGz35Z1BAAAAZNiMlEEAAABQzhGUQQAAAIp62rBBAAAAAICG8kAAAAAA8K/yQAAAAABaoCBBAAAAAPCdG0EAAAAAMNT+QAAAAACgIftAAAAAgI/PSEEAAAAA8ENAQQAAAADAJdBAAAAAAGAM60AAAAAAgC3kQAAAAAAAgdNAAAAAAICG2UAAAAAAgHTgQAAAAADMmChBAAAAACBN/UAAAIAqmMnIQQAAAABb71lBAACAEOEz0UEAAADR0Zq8QQAAAEBZdVxBAAAAAcaXyUEAAAAgb+KcQQAAAACAyfhAAAAAAFDg/EAAAAAAcww6QQAAACgtOKZBAAAAxBHcnkEAAACA9FdHQQAAAG4wbKRBAAAAAHAJ90AAAAAAKxZtQQAAAMD1IFFBAAAAAMCMEEEAAACgtCxxQQAAAADEjR5BAAAAoGxIukEAAIB2V1/PQQAAgKZ1Qs5BAAAAUZfnsEEAAABwWf22QQAAAPglLN9BAAAAADDrFEEAAAAAAJEBQQAAANzRDpVBAAAAAOBv4kAAAABgDlugQQAAAKCNZmRBAAAAAMCe70AAAADwwT52QQAAAACXbYdBAAAAMZbLv0EAAIB5r4DDQQAAwGhPMdBBAAAAxOVZoEEAAACwo/WCQQAAAADMghhBAAAAAGUqR0EAAAAQHm9wQQAAAADwkPBAAAAAAEBc10AAAAAAAAbjQAAAQFx16tFBAACAziA910EAAAD0PvCpQQAAALhFdptBAACgTv1g7EEAAIB8R0PFQQAAAAAeXFFBAAAAmIxQqUEAAAAAoJLkQAAAgES8gMxBAAAAqJiZkUEAAAAAAJH/QA==",
          "dtype": "f8"
         },
         "y0": " ",
         "yaxis": "y"
        },
        {
         "alignmentgroup": "True",
         "boxpoints": "all",
         "customdata": [
          [
           "P4C2T4_s81-B3_Gavage-DNA"
          ],
          [
           "P4C2T4_s81-B8_Gavage-DNA"
          ],
          [
           "P4C2T4_s82-A10_Gavage-DNA"
          ],
          [
           "P4C2T4_s82-A5_Gavage-DNA"
          ],
          [
           "P4C2T5_s121-F8_Gavage-DNA"
          ],
          [
           "P4C2T5_s122-G8_Gavage-DNA"
          ],
          [
           "NTC_F3_NTC"
          ],
          [
           "NTC_G10_NTC"
          ],
          [
           "NTC_G5_NTC"
          ],
          [
           "NTC_H10_NTC"
          ],
          [
           "NTC_H5_NTC"
          ],
          [
           "WATER_A2_WATER"
          ],
          [
           "WATER_A7_WATER"
          ],
          [
           "P4C2T4_s1-A1_stool-DNA"
          ],
          [
           "P4C2T4_s1-A6_stool-DNA"
          ],
          [
           "P4C2T4_s11-F1_stool-DNA"
          ],
          [
           "P4C2T4_s11-F6_stool-DNA"
          ],
          [
           "P4C2T4_s13-G1_stool-DNA"
          ],
          [
           "P4C2T4_s13-G6_stool-DNA"
          ],
          [
           "P4C2T4_s17-H1_stool-DNA"
          ],
          [
           "P4C2T4_s17-H6_stool-DNA"
          ],
          [
           "P4C2T4_s19-B2_stool-DNA"
          ],
          [
           "P4C2T4_s19-B7_stool-DNA"
          ],
          [
           "P4C2T4_s21-C2_stool-DNA"
          ],
          [
           "P4C2T4_s21-C7_stool-DNA"
          ],
          [
           "P4C2T4_s23-D2_stool-DNA"
          ],
          [
           "P4C2T4_s23-D7_stool-DNA"
          ],
          [
           "P4C2T4_s25-E2_stool-DNA"
          ],
          [
           "P4C2T4_s25-E7_stool-DNA"
          ],
          [
           "P4C2T4_s27-F2_stool-DNA"
          ],
          [
           "P4C2T4_s27-F7_stool-DNA"
          ],
          [
           "P4C2T4_s29-G2_stool-DNA"
          ],
          [
           "P4C2T4_s29-G7_stool-DNA"
          ],
          [
           "P4C2T4_s3-B1_stool-DNA"
          ],
          [
           "P4C2T4_s3-B6_stool-DNA"
          ],
          [
           "P4C2T4_s33-H2_SI-DNA"
          ],
          [
           "P4C2T4_s33-H7_SI-DNA"
          ],
          [
           "P4C2T4_s35-A3_SI-DNA"
          ],
          [
           "P4C2T4_s35-A8_SI-DNA"
          ],
          [
           "P4C2T4_s37-C3_SI-DNA"
          ],
          [
           "P4C2T4_s37-C8_SI-DNA"
          ],
          [
           "P4C2T4_s39-D3_SI-DNA"
          ],
          [
           "P4C2T4_s39-D8_SI-DNA"
          ],
          [
           "P4C2T4_s41-E3_SI-DNA"
          ],
          [
           "P4C2T4_s41-E8_SI-DNA"
          ],
          [
           "P4C2T4_s43-F3_SI-DNA"
          ],
          [
           "P4C2T4_s43-F8_SI-DNA"
          ],
          [
           "P4C2T4_s45-G3_SI-DNA"
          ],
          [
           "P4C2T4_s45-G8_SI-DNA"
          ],
          [
           "P4C2T4_s49-H3_Cecum-DNA"
          ],
          [
           "P4C2T4_s49-H8_Cecum-DNA"
          ],
          [
           "P4C2T4_s5-C1_stool-DNA"
          ],
          [
           "P4C2T4_s5-C6_stool-DNA"
          ],
          [
           "P4C2T4_s51-A4_Cecum-DNA"
          ],
          [
           "P4C2T4_s51-A9_Cecum-DNA"
          ],
          [
           "P4C2T4_s53-B4_Cecum-DNA"
          ],
          [
           "P4C2T4_s53-B9_Cecum-DNA"
          ],
          [
           "P4C2T4_s55-C4_Cecum-DNA"
          ],
          [
           "P4C2T4_s55-C9_Cecum-DNA"
          ],
          [
           "P4C2T4_s57-D4_Cecum-DNA"
          ],
          [
           "P4C2T4_s57-D9_Cecum-DNA"
          ],
          [
           "P4C2T4_s59-E4_Cecum-DNA"
          ],
          [
           "P4C2T4_s59-E9_Cecum-DNA"
          ],
          [
           "P4C2T4_s61-F4_Cecum-DNA"
          ],
          [
           "P4C2T4_s61-F9_Cecum-DNA"
          ],
          [
           "P4C2T4_s65-G4_Pr.-Colon-DNA"
          ],
          [
           "P4C2T4_s65-G9_Pr.-Colon-DNA"
          ],
          [
           "P4C2T4_s67-H4_Pr.-Colon-DNA"
          ],
          [
           "P4C2T4_s67-H9_Pr.-Colon-DNA"
          ],
          [
           "P4C2T4_s69-B10_Pr.-Colon-DNA"
          ],
          [
           "P4C2T4_s69-B5_Pr.-Colon-DNA"
          ],
          [
           "P4C2T4_s7-D1_stool-DNA"
          ],
          [
           "P4C2T4_s7-D6_stool-DNA"
          ],
          [
           "P4C2T4_s71-C10_Pr.-Colon-DNA"
          ],
          [
           "P4C2T4_s71-C5_Pr.-Colon-DNA"
          ],
          [
           "P4C2T4_s73-D10_Pr.-Colon-DNA"
          ],
          [
           "P4C2T4_s73-D5_Pr.-Colon-DNA"
          ],
          [
           "P4C2T4_s75-E10_Pr.-Colon-DNA"
          ],
          [
           "P4C2T4_s75-E5_Pr.-Colon-DNA"
          ],
          [
           "P4C2T4_s77-F10_Pr.-Colon-DNA"
          ],
          [
           "P4C2T4_s77-F5_Pr.-Colon-DNA"
          ],
          [
           "P4C2T4_s9-E1_stool-DNA"
          ],
          [
           "P4C2T4_s9-E6_stool-DNA"
          ],
          [
           "P4C2T5_s1-A1_stool-DNA"
          ],
          [
           "P4C2T5_s101-D7_Pr.-Colon-DNA"
          ],
          [
           "P4C2T5_s103-E7_Pr.-Colon-DNA"
          ],
          [
           "P4C2T5_s105-F7_Pr.-Colon-DNA"
          ],
          [
           "P4C2T5_s107-G7_Pr.-Colon-DNA"
          ],
          [
           "P4C2T5_s109-H7_Pr.-Colon-DNA"
          ],
          [
           "P4C2T5_s11-F1_stool-DNA"
          ],
          [
           "P4C2T5_s111-A8_Pr.-Colon-DNA"
          ],
          [
           "P4C2T5_s113-B8_Pr.-Colon-DNA"
          ],
          [
           "P4C2T5_s115-C8_Pr.-Colon-DNA"
          ],
          [
           "P4C2T5_s117-D8_Pr.-Colon-DNA"
          ],
          [
           "P4C2T5_s119-E8_Pr.-Colon-DNA"
          ],
          [
           "P4C2T5_s13-G1_stool-DNA"
          ],
          [
           "P4C2T5_s15-H1_stool-DNA"
          ],
          [
           "P4C2T5_s17-A2_stool-DNA"
          ],
          [
           "P4C2T5_s19-B2_stool-DNA"
          ],
          [
           "P4C2T5_s21-C2_stool-DNA"
          ],
          [
           "P4C2T5_s23-D2_stool-DNA"
          ],
          [
           "P4C2T5_s25-E2_stool-DNA"
          ],
          [
           "P4C2T5_s27-F2_stool-DNA"
          ],
          [
           "P4C2T5_s29-G2_stool-DNA"
          ],
          [
           "P4C2T5_s3-B1_stool-DNA"
          ],
          [
           "P4C2T5_s31-H2_stool-DNA"
          ],
          [
           "P4C2T5_s33-A3_stool-DNA"
          ],
          [
           "P4C2T5_s35-B3_stool-DNA"
          ],
          [
           "P4C2T5_s37-C3_stool-DNA"
          ],
          [
           "P4C2T5_s39-D3_stool-DNA"
          ],
          [
           "P4C2T5_s41-E3_stool-DNA"
          ],
          [
           "P4C2T5_s43-G3_stool-DNA"
          ],
          [
           "P4C2T5_s45-H3_stool-DNA"
          ],
          [
           "P4C2T5_s47-A4_stool-DNA"
          ],
          [
           "P4C2T5_s49-B4_SI-DNA"
          ],
          [
           "P4C2T5_s5-C1_stool-DNA"
          ],
          [
           "P4C2T5_s51-C4_SI-DNA"
          ],
          [
           "P4C2T5_s53-D4_SI-DNA"
          ],
          [
           "P4C2T5_s55-E4_SI-DNA"
          ],
          [
           "P4C2T5_s57-F4_SI-DNA"
          ],
          [
           "P4C2T5_s59-G4_SI-DNA"
          ],
          [
           "P4C2T5_s61-H4_SI-DNA"
          ],
          [
           "P4C2T5_s63-A5_SI-DNA"
          ],
          [
           "P4C2T5_s65-B5_SI-DNA"
          ],
          [
           "P4C2T5_s67-C5_SI-DNA"
          ],
          [
           "P4C2T5_s69-D5_SI-DNA"
          ],
          [
           "P4C2T5_s7-D1_stool-DNA"
          ],
          [
           "P4C2T5_s71-E5_SI-DNA"
          ],
          [
           "P4C2T5_s73-F5_Cecum-DNA"
          ],
          [
           "P4C2T5_s75-G5_Cecum-DNA"
          ],
          [
           "P4C2T5_s77-H5_Cecum-DNA"
          ],
          [
           "P4C2T5_s79-A6_Cecum-DNA"
          ],
          [
           "P4C2T5_s81-B6_Cecum-DNA"
          ],
          [
           "P4C2T5_s83-C6_Cecum-DNA"
          ],
          [
           "P4C2T5_s85-D6_Cecum-DNA"
          ],
          [
           "P4C2T5_s87-E6_Cecum-DNA"
          ],
          [
           "P4C2T5_s89-F6_Cecum-DNA"
          ],
          [
           "P4C2T5_s9-E1_stool-DNA"
          ],
          [
           "P4C2T5_s91-G6_Cecum-DNA"
          ],
          [
           "P4C2T5_s93-H6_Cecum-DNA"
          ],
          [
           "P4C2T5_s95-A7_Cecum-DNA"
          ],
          [
           "P4C2T5_s97-B7_Pr.-Colon-DNA"
          ],
          [
           "P4C2T5_s99-C7_Pr.-Colon-DNA"
          ]
         ],
         "hovertemplate": "type=total_unique_umi<br>sample_type=%{x}<br>value=%{y}<br>sample=%{customdata[0]}<extra></extra>",
         "legendgroup": "total_unique_umi",
         "marker": {
          "color": "#FF7F0E"
         },
         "name": "total_unique_umi",
         "notched": false,
         "offsetgroup": "total_unique_umi",
         "orientation": "v",
         "showlegend": true,
         "type": "box",
         "x": [
          "gavage",
          "gavage",
          "gavage",
          "gavage",
          "gavage",
          "gavage",
          "negative_control",
          "negative_control",
          "negative_control",
          "negative_control",
          "negative_control",
          "negative_control",
          "negative_control",
          "sample",
          "sample",
          "sample",
          "sample",
          "sample",
          "sample",
          "sample",
          "sample",
          "sample",
          "sample",
          "sample",
          "sample",
          "sample",
          "sample",
          "sample",
          "sample",
          "sample",
          "sample",
          "sample",
          "sample",
          "sample",
          "sample",
          "sample",
          "sample",
          "sample",
          "sample",
          "sample",
          "sample",
          "sample",
          "sample",
          "sample",
          "sample",
          "sample",
          "sample",
          "sample",
          "sample",
          "sample",
          "sample",
          "sample",
          "sample",
          "sample",
          "sample",
          "sample",
          "sample",
          "sample",
          "sample",
          "sample",
          "sample",
          "sample",
          "sample",
          "sample",
          "sample",
          "sample",
          "sample",
          "sample",
          "sample",
          "sample",
          "sample",
          "sample",
          "sample",
          "sample",
          "sample",
          "sample",
          "sample",
          "sample",
          "sample",
          "sample",
          "sample",
          "sample",
          "sample",
          "sample",
          "sample",
          "sample",
          "sample",
          "sample",
          "sample",
          "sample",
          "sample",
          "sample",
          "sample",
          "sample",
          "sample",
          "sample",
          "sample",
          "sample",
          "sample",
          "sample",
          "sample",
          "sample",
          "sample",
          "sample",
          "sample",
          "sample",
          "sample",
          "sample",
          "sample",
          "sample",
          "sample",
          "sample",
          "sample",
          "sample",
          "sample",
          "sample",
          "sample",
          "sample",
          "sample",
          "sample",
          "sample",
          "sample",
          "sample",
          "sample",
          "sample",
          "sample",
          "sample",
          "sample",
          "sample",
          "sample",
          "sample",
          "sample",
          "sample",
          "sample",
          "sample",
          "sample",
          "sample",
          "sample",
          "sample",
          "sample",
          "sample",
          "sample",
          "sample"
         ],
         "x0": " ",
         "xaxis": "x",
         "y": {
          "bdata": "AAAAAKBN/UAAAAAAgC3+QAAAAABQbP5AAAAAADC9AEEAAAAApB4RQQAAAADguftAAAAAAADM1UAAAAAAALCFQAAAAAAAeIVAAAAAAABQqkAAAAAAAESdQAAAAAAAUJVAAAAAAAAImEAAAAAAAPyUQAAAAAAAUJdAAAAAAAAtvkAAAAAAAJa4QAAAAAAAfMJAAAAAAAC+wEAAAAAAwD3nQAAAAADAkudAAAAAAKBl5kAAAAAAIPXqQAAAAAAA8LZAAAAAAADAeUAAAAAAAICCQAAAAAAAoINAAAAAAIDozUAAAAAAgLXPQAAAAAAAmINAAAAAAABoikAAAAAAAICDQAAAAAAAsHtAAAAAAABouEAAAAAAAOu4QAAAAAAAvMZAAAAAAACVxkAAAAAAQP/lQAAAAABAKuZAAAAAAACcm0AAAAAAAJyWQAAAAAAAeIpAAAAAAADwiUAAAAAAAGKxQAAAAAAAOq9AAAAAAACAiEAAAAAAADCIQAAAAAAA2cBAAAAAAAB9vkAAAAAAIMHnQAAAAAAAQ+hAAAAAAABgqUAAAAAAAGynQAAAAADgRutAAAAAAACz60AAAAAAABSlQAAAAAAATqBAAAAAAADgj0AAAAAAAFyQQAAAAACA+sxAAAAAAADNykAAAAAAAKanQAAAAAAAsHxAAAAAAABok0AAAAAAAPCUQAAAAABgXuhAAAAAAODb6UAAAAAA4GXoQAAAAACgo+dAAAAAAACeokAAAAAAACSjQAAAAAAAFL1AAAAAAABxvUAAAAAAAKKwQAAAAAAARrBAAAAAAABbxkAAAAAAgN/FQAAAAAAAUIVAAAAAAACwk0AAAAAAAEiGQAAAAAAACIRAAAAAAAAggUAAAAAAAJCBQAAAAAAANMhAAAAAAAD8n0AAAAAAAMXrQAAAAAAAr9JAAAAAAHAa8kAAAAAA4ILhQAAAAABAf9xAAAAAAED66UAAAAAAwLTjQAAAAAAAt7ZAAAAAAAAkmUAAAAAAAEbHQAAAAACAWdlAAAAAACAM4EAAAAAAgELWQAAAAACAme5AAAAAAAAxvkAAAAAAIA3gQAAAAACARMtAAAAAAIAA0UAAAAAAQO7dQAAAAACAMsJAAAAAAMDO6EAAAAAAQGjyQAAAAADgrvFAAAAAACDq5kAAAAAAQKLjQAAAAAAg6uBAAAAAAAAVu0AAAAAAADKtQAAAAABApNVAAAAAAADkpUAAAAAAwCfeQAAAAADAKNBAAAAAAACUtUAAAAAAwPrlQAAAAACwNvJAAAAAAOBC6kAAAAAAQJPkQAAAAAAAI+VAAAAAAEDJ2EAAAAAAgMbQQAAAAAAAfKxAAAAAAMA73EAAAAAAgFLFQAAAAAAA0qJAAAAAAAC8k0AAAAAAAIiiQAAAAAAAZe9AAAAAAGCg8UAAAAAAMEjyQAAAAAAgZ+dAAAAAAMA/50AAAAAA4KPmQAAAAACA3s9AAAAAAMDI3EAAAAAAAA63QAAAAAAA19RAAAAAAADi0kAAAAAAADCwQA==",
          "dtype": "f8"
         },
         "y0": " ",
         "yaxis": "y"
        }
       ],
       "layout": {
        "boxmode": "group",
        "legend": {
         "title": {
          "text": "type"
         },
         "tracegroupgap": 0
        },
        "margin": {
         "t": 60
        },
        "template": {
         "data": {
          "bar": [
           {
            "error_x": {
             "color": "rgb(36,36,36)"
            },
            "error_y": {
             "color": "rgb(36,36,36)"
            },
            "marker": {
             "line": {
              "color": "white",
              "width": 0.5
             },
             "pattern": {
              "fillmode": "overlay",
              "size": 10,
              "solidity": 0.2
             }
            },
            "type": "bar"
           }
          ],
          "barpolar": [
           {
            "marker": {
             "line": {
              "color": "white",
              "width": 0.5
             },
             "pattern": {
              "fillmode": "overlay",
              "size": 10,
              "solidity": 0.2
             }
            },
            "type": "barpolar"
           }
          ],
          "carpet": [
           {
            "aaxis": {
             "endlinecolor": "rgb(36,36,36)",
             "gridcolor": "white",
             "linecolor": "white",
             "minorgridcolor": "white",
             "startlinecolor": "rgb(36,36,36)"
            },
            "baxis": {
             "endlinecolor": "rgb(36,36,36)",
             "gridcolor": "white",
             "linecolor": "white",
             "minorgridcolor": "white",
             "startlinecolor": "rgb(36,36,36)"
            },
            "type": "carpet"
           }
          ],
          "choropleth": [
           {
            "colorbar": {
             "outlinewidth": 1,
             "tickcolor": "rgb(36,36,36)",
             "ticks": "outside"
            },
            "type": "choropleth"
           }
          ],
          "contour": [
           {
            "colorbar": {
             "outlinewidth": 1,
             "tickcolor": "rgb(36,36,36)",
             "ticks": "outside"
            },
            "colorscale": [
             [
              0,
              "#440154"
             ],
             [
              0.1111111111111111,
              "#482878"
             ],
             [
              0.2222222222222222,
              "#3e4989"
             ],
             [
              0.3333333333333333,
              "#31688e"
             ],
             [
              0.4444444444444444,
              "#26828e"
             ],
             [
              0.5555555555555556,
              "#1f9e89"
             ],
             [
              0.6666666666666666,
              "#35b779"
             ],
             [
              0.7777777777777778,
              "#6ece58"
             ],
             [
              0.8888888888888888,
              "#b5de2b"
             ],
             [
              1,
              "#fde725"
             ]
            ],
            "type": "contour"
           }
          ],
          "contourcarpet": [
           {
            "colorbar": {
             "outlinewidth": 1,
             "tickcolor": "rgb(36,36,36)",
             "ticks": "outside"
            },
            "type": "contourcarpet"
           }
          ],
          "heatmap": [
           {
            "colorbar": {
             "outlinewidth": 1,
             "tickcolor": "rgb(36,36,36)",
             "ticks": "outside"
            },
            "colorscale": [
             [
              0,
              "#440154"
             ],
             [
              0.1111111111111111,
              "#482878"
             ],
             [
              0.2222222222222222,
              "#3e4989"
             ],
             [
              0.3333333333333333,
              "#31688e"
             ],
             [
              0.4444444444444444,
              "#26828e"
             ],
             [
              0.5555555555555556,
              "#1f9e89"
             ],
             [
              0.6666666666666666,
              "#35b779"
             ],
             [
              0.7777777777777778,
              "#6ece58"
             ],
             [
              0.8888888888888888,
              "#b5de2b"
             ],
             [
              1,
              "#fde725"
             ]
            ],
            "type": "heatmap"
           }
          ],
          "histogram": [
           {
            "marker": {
             "line": {
              "color": "white",
              "width": 0.6
             }
            },
            "type": "histogram"
           }
          ],
          "histogram2d": [
           {
            "colorbar": {
             "outlinewidth": 1,
             "tickcolor": "rgb(36,36,36)",
             "ticks": "outside"
            },
            "colorscale": [
             [
              0,
              "#440154"
             ],
             [
              0.1111111111111111,
              "#482878"
             ],
             [
              0.2222222222222222,
              "#3e4989"
             ],
             [
              0.3333333333333333,
              "#31688e"
             ],
             [
              0.4444444444444444,
              "#26828e"
             ],
             [
              0.5555555555555556,
              "#1f9e89"
             ],
             [
              0.6666666666666666,
              "#35b779"
             ],
             [
              0.7777777777777778,
              "#6ece58"
             ],
             [
              0.8888888888888888,
              "#b5de2b"
             ],
             [
              1,
              "#fde725"
             ]
            ],
            "type": "histogram2d"
           }
          ],
          "histogram2dcontour": [
           {
            "colorbar": {
             "outlinewidth": 1,
             "tickcolor": "rgb(36,36,36)",
             "ticks": "outside"
            },
            "colorscale": [
             [
              0,
              "#440154"
             ],
             [
              0.1111111111111111,
              "#482878"
             ],
             [
              0.2222222222222222,
              "#3e4989"
             ],
             [
              0.3333333333333333,
              "#31688e"
             ],
             [
              0.4444444444444444,
              "#26828e"
             ],
             [
              0.5555555555555556,
              "#1f9e89"
             ],
             [
              0.6666666666666666,
              "#35b779"
             ],
             [
              0.7777777777777778,
              "#6ece58"
             ],
             [
              0.8888888888888888,
              "#b5de2b"
             ],
             [
              1,
              "#fde725"
             ]
            ],
            "type": "histogram2dcontour"
           }
          ],
          "mesh3d": [
           {
            "colorbar": {
             "outlinewidth": 1,
             "tickcolor": "rgb(36,36,36)",
             "ticks": "outside"
            },
            "type": "mesh3d"
           }
          ],
          "parcoords": [
           {
            "line": {
             "colorbar": {
              "outlinewidth": 1,
              "tickcolor": "rgb(36,36,36)",
              "ticks": "outside"
             }
            },
            "type": "parcoords"
           }
          ],
          "pie": [
           {
            "automargin": true,
            "type": "pie"
           }
          ],
          "scatter": [
           {
            "fillpattern": {
             "fillmode": "overlay",
             "size": 10,
             "solidity": 0.2
            },
            "type": "scatter"
           }
          ],
          "scatter3d": [
           {
            "line": {
             "colorbar": {
              "outlinewidth": 1,
              "tickcolor": "rgb(36,36,36)",
              "ticks": "outside"
             }
            },
            "marker": {
             "colorbar": {
              "outlinewidth": 1,
              "tickcolor": "rgb(36,36,36)",
              "ticks": "outside"
             }
            },
            "type": "scatter3d"
           }
          ],
          "scattercarpet": [
           {
            "marker": {
             "colorbar": {
              "outlinewidth": 1,
              "tickcolor": "rgb(36,36,36)",
              "ticks": "outside"
             }
            },
            "type": "scattercarpet"
           }
          ],
          "scattergeo": [
           {
            "marker": {
             "colorbar": {
              "outlinewidth": 1,
              "tickcolor": "rgb(36,36,36)",
              "ticks": "outside"
             }
            },
            "type": "scattergeo"
           }
          ],
          "scattergl": [
           {
            "marker": {
             "colorbar": {
              "outlinewidth": 1,
              "tickcolor": "rgb(36,36,36)",
              "ticks": "outside"
             }
            },
            "type": "scattergl"
           }
          ],
          "scattermap": [
           {
            "marker": {
             "colorbar": {
              "outlinewidth": 1,
              "tickcolor": "rgb(36,36,36)",
              "ticks": "outside"
             }
            },
            "type": "scattermap"
           }
          ],
          "scattermapbox": [
           {
            "marker": {
             "colorbar": {
              "outlinewidth": 1,
              "tickcolor": "rgb(36,36,36)",
              "ticks": "outside"
             }
            },
            "type": "scattermapbox"
           }
          ],
          "scatterpolar": [
           {
            "marker": {
             "colorbar": {
              "outlinewidth": 1,
              "tickcolor": "rgb(36,36,36)",
              "ticks": "outside"
             }
            },
            "type": "scatterpolar"
           }
          ],
          "scatterpolargl": [
           {
            "marker": {
             "colorbar": {
              "outlinewidth": 1,
              "tickcolor": "rgb(36,36,36)",
              "ticks": "outside"
             }
            },
            "type": "scatterpolargl"
           }
          ],
          "scatterternary": [
           {
            "marker": {
             "colorbar": {
              "outlinewidth": 1,
              "tickcolor": "rgb(36,36,36)",
              "ticks": "outside"
             }
            },
            "type": "scatterternary"
           }
          ],
          "surface": [
           {
            "colorbar": {
             "outlinewidth": 1,
             "tickcolor": "rgb(36,36,36)",
             "ticks": "outside"
            },
            "colorscale": [
             [
              0,
              "#440154"
             ],
             [
              0.1111111111111111,
              "#482878"
             ],
             [
              0.2222222222222222,
              "#3e4989"
             ],
             [
              0.3333333333333333,
              "#31688e"
             ],
             [
              0.4444444444444444,
              "#26828e"
             ],
             [
              0.5555555555555556,
              "#1f9e89"
             ],
             [
              0.6666666666666666,
              "#35b779"
             ],
             [
              0.7777777777777778,
              "#6ece58"
             ],
             [
              0.8888888888888888,
              "#b5de2b"
             ],
             [
              1,
              "#fde725"
             ]
            ],
            "type": "surface"
           }
          ],
          "table": [
           {
            "cells": {
             "fill": {
              "color": "rgb(237,237,237)"
             },
             "line": {
              "color": "white"
             }
            },
            "header": {
             "fill": {
              "color": "rgb(217,217,217)"
             },
             "line": {
              "color": "white"
             }
            },
            "type": "table"
           }
          ]
         },
         "layout": {
          "annotationdefaults": {
           "arrowhead": 0,
           "arrowwidth": 1
          },
          "autotypenumbers": "strict",
          "coloraxis": {
           "colorbar": {
            "outlinewidth": 1,
            "tickcolor": "rgb(36,36,36)",
            "ticks": "outside"
           }
          },
          "colorscale": {
           "diverging": [
            [
             0,
             "rgb(103,0,31)"
            ],
            [
             0.1,
             "rgb(178,24,43)"
            ],
            [
             0.2,
             "rgb(214,96,77)"
            ],
            [
             0.3,
             "rgb(244,165,130)"
            ],
            [
             0.4,
             "rgb(253,219,199)"
            ],
            [
             0.5,
             "rgb(247,247,247)"
            ],
            [
             0.6,
             "rgb(209,229,240)"
            ],
            [
             0.7,
             "rgb(146,197,222)"
            ],
            [
             0.8,
             "rgb(67,147,195)"
            ],
            [
             0.9,
             "rgb(33,102,172)"
            ],
            [
             1,
             "rgb(5,48,97)"
            ]
           ],
           "sequential": [
            [
             0,
             "#440154"
            ],
            [
             0.1111111111111111,
             "#482878"
            ],
            [
             0.2222222222222222,
             "#3e4989"
            ],
            [
             0.3333333333333333,
             "#31688e"
            ],
            [
             0.4444444444444444,
             "#26828e"
            ],
            [
             0.5555555555555556,
             "#1f9e89"
            ],
            [
             0.6666666666666666,
             "#35b779"
            ],
            [
             0.7777777777777778,
             "#6ece58"
            ],
            [
             0.8888888888888888,
             "#b5de2b"
            ],
            [
             1,
             "#fde725"
            ]
           ],
           "sequentialminus": [
            [
             0,
             "#440154"
            ],
            [
             0.1111111111111111,
             "#482878"
            ],
            [
             0.2222222222222222,
             "#3e4989"
            ],
            [
             0.3333333333333333,
             "#31688e"
            ],
            [
             0.4444444444444444,
             "#26828e"
            ],
            [
             0.5555555555555556,
             "#1f9e89"
            ],
            [
             0.6666666666666666,
             "#35b779"
            ],
            [
             0.7777777777777778,
             "#6ece58"
            ],
            [
             0.8888888888888888,
             "#b5de2b"
            ],
            [
             1,
             "#fde725"
            ]
           ]
          },
          "colorway": [
           "#1F77B4",
           "#FF7F0E",
           "#2CA02C",
           "#D62728",
           "#9467BD",
           "#8C564B",
           "#E377C2",
           "#7F7F7F",
           "#BCBD22",
           "#17BECF"
          ],
          "font": {
           "color": "rgb(36,36,36)"
          },
          "geo": {
           "bgcolor": "white",
           "lakecolor": "white",
           "landcolor": "white",
           "showlakes": true,
           "showland": true,
           "subunitcolor": "white"
          },
          "hoverlabel": {
           "align": "left"
          },
          "hovermode": "closest",
          "mapbox": {
           "style": "light"
          },
          "paper_bgcolor": "white",
          "plot_bgcolor": "white",
          "polar": {
           "angularaxis": {
            "gridcolor": "rgb(232,232,232)",
            "linecolor": "rgb(36,36,36)",
            "showgrid": false,
            "showline": true,
            "ticks": "outside"
           },
           "bgcolor": "white",
           "radialaxis": {
            "gridcolor": "rgb(232,232,232)",
            "linecolor": "rgb(36,36,36)",
            "showgrid": false,
            "showline": true,
            "ticks": "outside"
           }
          },
          "scene": {
           "xaxis": {
            "backgroundcolor": "white",
            "gridcolor": "rgb(232,232,232)",
            "gridwidth": 2,
            "linecolor": "rgb(36,36,36)",
            "showbackground": true,
            "showgrid": false,
            "showline": true,
            "ticks": "outside",
            "zeroline": false,
            "zerolinecolor": "rgb(36,36,36)"
           },
           "yaxis": {
            "backgroundcolor": "white",
            "gridcolor": "rgb(232,232,232)",
            "gridwidth": 2,
            "linecolor": "rgb(36,36,36)",
            "showbackground": true,
            "showgrid": false,
            "showline": true,
            "ticks": "outside",
            "zeroline": false,
            "zerolinecolor": "rgb(36,36,36)"
           },
           "zaxis": {
            "backgroundcolor": "white",
            "gridcolor": "rgb(232,232,232)",
            "gridwidth": 2,
            "linecolor": "rgb(36,36,36)",
            "showbackground": true,
            "showgrid": false,
            "showline": true,
            "ticks": "outside",
            "zeroline": false,
            "zerolinecolor": "rgb(36,36,36)"
           }
          },
          "shapedefaults": {
           "fillcolor": "black",
           "line": {
            "width": 0
           },
           "opacity": 0.3
          },
          "ternary": {
           "aaxis": {
            "gridcolor": "rgb(232,232,232)",
            "linecolor": "rgb(36,36,36)",
            "showgrid": false,
            "showline": true,
            "ticks": "outside"
           },
           "baxis": {
            "gridcolor": "rgb(232,232,232)",
            "linecolor": "rgb(36,36,36)",
            "showgrid": false,
            "showline": true,
            "ticks": "outside"
           },
           "bgcolor": "white",
           "caxis": {
            "gridcolor": "rgb(232,232,232)",
            "linecolor": "rgb(36,36,36)",
            "showgrid": false,
            "showline": true,
            "ticks": "outside"
           }
          },
          "title": {
           "x": 0.05
          },
          "xaxis": {
           "automargin": true,
           "gridcolor": "rgb(232,232,232)",
           "linecolor": "rgb(36,36,36)",
           "showgrid": false,
           "showline": true,
           "ticks": "outside",
           "title": {
            "standoff": 15
           },
           "zeroline": false,
           "zerolinecolor": "rgb(36,36,36)"
          },
          "yaxis": {
           "automargin": true,
           "gridcolor": "rgb(232,232,232)",
           "linecolor": "rgb(36,36,36)",
           "showgrid": false,
           "showline": true,
           "ticks": "outside",
           "title": {
            "standoff": 15
           },
           "zeroline": false,
           "zerolinecolor": "rgb(36,36,36)"
          }
         }
        },
        "width": 800,
        "xaxis": {
         "anchor": "y",
         "domain": [
          0,
          1
         ],
         "title": {
          "text": "sample_type"
         }
        },
        "yaxis": {
         "anchor": "x",
         "domain": [
          0,
          1
         ],
         "range": [
          2,
          10
         ],
         "title": {
          "text": "value"
         },
         "type": "log"
        }
       }
      }
     },
     "metadata": {},
     "output_type": "display_data"
    }
   ],
   "source": [
    "df_gavage_stack = df_gavageonly.stack().reset_index()\n",
    "df_gavage_stack.columns = ['umi_seq', 'sample', 'counts']\n",
    "df_gavage_stack = df_gavage_stack.loc[df_gavage_stack['counts']>0].copy()\n",
    "df_gavage_stack['sample_type'] = df_gavage_stack['sample'].apply(\n",
    "                                                        lambda x: 'gavage' if 'Gavage' in x \n",
    "                                                        else ('negative_control' if ('WATER' in x or 'NTC' in x) \n",
    "                                                        else 'sample')\n",
    "                                                    )\n",
    "df_gavage_stack['strain'] = df_gavage_stack['umi_seq'].apply(lambda x: str(x).split('-')[0])\n",
    "df_gavage_stack\n",
    "\n",
    "df_gavage_gpd = df_gavage_stack.groupby(['sample_type', 'sample']).agg(**{'total_count': ('counts', 'sum'),\n",
    "                                                                        'total_unique_umi': ('umi_seq', 'nunique')})\n",
    "df_gavage_gpd = df_gavage_gpd.reset_index()\n",
    "df_gavage_gpd = df_gavage_gpd.set_index(['sample_type', 'sample']).stack()\n",
    "\n",
    "df_gavage_gpd = df_gavage_gpd.reset_index()\n",
    "df_gavage_gpd = df_gavage_gpd.rename(columns = {'level_2':'type', 0:'value'})\n",
    "df_gavage_gpd\n",
    "\n",
    "fig = px.box(df_gavage_gpd,\n",
    "             x = 'sample_type',\n",
    "             y = 'value',\n",
    "             color = 'type',\n",
    "             hover_data = ['sample'],\n",
    "             template = 'simple_white',\n",
    "             points = 'all',\n",
    "             log_y = True,\n",
    "             width = 800\n",
    "             )\n",
    "fig.update_yaxes(range = [2, 10])\n",
    "fig.show()"
   ]
  },
  {
   "cell_type": "code",
   "execution_count": 166,
   "id": "1469f2e8",
   "metadata": {},
   "outputs": [
    {
     "data": {
      "text/html": [
       "<div>\n",
       "<style scoped>\n",
       "    .dataframe tbody tr th:only-of-type {\n",
       "        vertical-align: middle;\n",
       "    }\n",
       "\n",
       "    .dataframe tbody tr th {\n",
       "        vertical-align: top;\n",
       "    }\n",
       "\n",
       "    .dataframe thead th {\n",
       "        text-align: right;\n",
       "    }\n",
       "</style>\n",
       "<table border=\"1\" class=\"dataframe\">\n",
       "  <thead>\n",
       "    <tr style=\"text-align: right;\">\n",
       "      <th></th>\n",
       "      <th>sample_type</th>\n",
       "      <th>sample</th>\n",
       "      <th>strain</th>\n",
       "      <th>level_3</th>\n",
       "      <th>0</th>\n",
       "    </tr>\n",
       "  </thead>\n",
       "  <tbody>\n",
       "    <tr>\n",
       "      <th>0</th>\n",
       "      <td>gavage</td>\n",
       "      <td>P4C2T4_s81-B3_Gavage-DNA</td>\n",
       "      <td>ST1</td>\n",
       "      <td>total_count</td>\n",
       "      <td>61718.0</td>\n",
       "    </tr>\n",
       "    <tr>\n",
       "      <th>1</th>\n",
       "      <td>gavage</td>\n",
       "      <td>P4C2T4_s81-B3_Gavage-DNA</td>\n",
       "      <td>ST1</td>\n",
       "      <td>total_unique_umi</td>\n",
       "      <td>4942.0</td>\n",
       "    </tr>\n",
       "    <tr>\n",
       "      <th>2</th>\n",
       "      <td>gavage</td>\n",
       "      <td>P4C2T4_s81-B3_Gavage-DNA</td>\n",
       "      <td>ST2</td>\n",
       "      <td>total_count</td>\n",
       "      <td>12077.0</td>\n",
       "    </tr>\n",
       "    <tr>\n",
       "      <th>3</th>\n",
       "      <td>gavage</td>\n",
       "      <td>P4C2T4_s81-B3_Gavage-DNA</td>\n",
       "      <td>ST2</td>\n",
       "      <td>total_unique_umi</td>\n",
       "      <td>975.0</td>\n",
       "    </tr>\n",
       "    <tr>\n",
       "      <th>4</th>\n",
       "      <td>gavage</td>\n",
       "      <td>P4C2T4_s81-B3_Gavage-DNA</td>\n",
       "      <td>ST4</td>\n",
       "      <td>total_count</td>\n",
       "      <td>3045434.0</td>\n",
       "    </tr>\n",
       "    <tr>\n",
       "      <th>...</th>\n",
       "      <td>...</td>\n",
       "      <td>...</td>\n",
       "      <td>...</td>\n",
       "      <td>...</td>\n",
       "      <td>...</td>\n",
       "    </tr>\n",
       "    <tr>\n",
       "      <th>1233</th>\n",
       "      <td>sample</td>\n",
       "      <td>P4C2T5_s99-C7_Pr.-Colon-DNA</td>\n",
       "      <td>ST4</td>\n",
       "      <td>total_unique_umi</td>\n",
       "      <td>1678.0</td>\n",
       "    </tr>\n",
       "    <tr>\n",
       "      <th>1234</th>\n",
       "      <td>sample</td>\n",
       "      <td>P4C2T5_s99-C7_Pr.-Colon-DNA</td>\n",
       "      <td>ST5</td>\n",
       "      <td>total_count</td>\n",
       "      <td>100642.0</td>\n",
       "    </tr>\n",
       "    <tr>\n",
       "      <th>1235</th>\n",
       "      <td>sample</td>\n",
       "      <td>P4C2T5_s99-C7_Pr.-Colon-DNA</td>\n",
       "      <td>ST5</td>\n",
       "      <td>total_unique_umi</td>\n",
       "      <td>2290.0</td>\n",
       "    </tr>\n",
       "    <tr>\n",
       "      <th>1236</th>\n",
       "      <td>sample</td>\n",
       "      <td>P4C2T5_s99-C7_Pr.-Colon-DNA</td>\n",
       "      <td>ST6</td>\n",
       "      <td>total_count</td>\n",
       "      <td>89.0</td>\n",
       "    </tr>\n",
       "    <tr>\n",
       "      <th>1237</th>\n",
       "      <td>sample</td>\n",
       "      <td>P4C2T5_s99-C7_Pr.-Colon-DNA</td>\n",
       "      <td>ST6</td>\n",
       "      <td>total_unique_umi</td>\n",
       "      <td>84.0</td>\n",
       "    </tr>\n",
       "  </tbody>\n",
       "</table>\n",
       "<p>1238 rows × 5 columns</p>\n",
       "</div>"
      ],
      "text/plain": [
       "     sample_type                       sample strain           level_3  \\\n",
       "0         gavage     P4C2T4_s81-B3_Gavage-DNA    ST1       total_count   \n",
       "1         gavage     P4C2T4_s81-B3_Gavage-DNA    ST1  total_unique_umi   \n",
       "2         gavage     P4C2T4_s81-B3_Gavage-DNA    ST2       total_count   \n",
       "3         gavage     P4C2T4_s81-B3_Gavage-DNA    ST2  total_unique_umi   \n",
       "4         gavage     P4C2T4_s81-B3_Gavage-DNA    ST4       total_count   \n",
       "...          ...                          ...    ...               ...   \n",
       "1233      sample  P4C2T5_s99-C7_Pr.-Colon-DNA    ST4  total_unique_umi   \n",
       "1234      sample  P4C2T5_s99-C7_Pr.-Colon-DNA    ST5       total_count   \n",
       "1235      sample  P4C2T5_s99-C7_Pr.-Colon-DNA    ST5  total_unique_umi   \n",
       "1236      sample  P4C2T5_s99-C7_Pr.-Colon-DNA    ST6       total_count   \n",
       "1237      sample  P4C2T5_s99-C7_Pr.-Colon-DNA    ST6  total_unique_umi   \n",
       "\n",
       "              0  \n",
       "0       61718.0  \n",
       "1        4942.0  \n",
       "2       12077.0  \n",
       "3         975.0  \n",
       "4     3045434.0  \n",
       "...         ...  \n",
       "1233     1678.0  \n",
       "1234   100642.0  \n",
       "1235     2290.0  \n",
       "1236       89.0  \n",
       "1237       84.0  \n",
       "\n",
       "[1238 rows x 5 columns]"
      ]
     },
     "metadata": {},
     "output_type": "display_data"
    },
    {
     "data": {
      "application/vnd.plotly.v1+json": {
       "config": {
        "plotlyServerURL": "https://plotly.com"
       },
       "data": [
        {
         "alignmentgroup": "True",
         "boxpoints": "all",
         "customdata": [
          [
           "P4C2T4_s81-B3_Gavage-DNA"
          ],
          [
           "P4C2T4_s81-B8_Gavage-DNA"
          ],
          [
           "P4C2T4_s82-A10_Gavage-DNA"
          ],
          [
           "P4C2T4_s82-A5_Gavage-DNA"
          ],
          [
           "P4C2T5_s121-F8_Gavage-DNA"
          ],
          [
           "P4C2T5_s122-G8_Gavage-DNA"
          ],
          [
           "NTC_F3_NTC"
          ],
          [
           "NTC_G10_NTC"
          ],
          [
           "NTC_G5_NTC"
          ],
          [
           "NTC_H10_NTC"
          ],
          [
           "NTC_H5_NTC"
          ],
          [
           "WATER_A2_WATER"
          ],
          [
           "WATER_A7_WATER"
          ],
          [
           "P4C2T4_s1-A1_stool-DNA"
          ],
          [
           "P4C2T4_s1-A6_stool-DNA"
          ],
          [
           "P4C2T4_s11-F1_stool-DNA"
          ],
          [
           "P4C2T4_s11-F6_stool-DNA"
          ],
          [
           "P4C2T4_s13-G1_stool-DNA"
          ],
          [
           "P4C2T4_s13-G6_stool-DNA"
          ],
          [
           "P4C2T4_s17-H1_stool-DNA"
          ],
          [
           "P4C2T4_s17-H6_stool-DNA"
          ],
          [
           "P4C2T4_s19-B2_stool-DNA"
          ],
          [
           "P4C2T4_s19-B7_stool-DNA"
          ],
          [
           "P4C2T4_s21-C2_stool-DNA"
          ],
          [
           "P4C2T4_s21-C7_stool-DNA"
          ],
          [
           "P4C2T4_s23-D2_stool-DNA"
          ],
          [
           "P4C2T4_s23-D7_stool-DNA"
          ],
          [
           "P4C2T4_s25-E2_stool-DNA"
          ],
          [
           "P4C2T4_s25-E7_stool-DNA"
          ],
          [
           "P4C2T4_s27-F2_stool-DNA"
          ],
          [
           "P4C2T4_s27-F7_stool-DNA"
          ],
          [
           "P4C2T4_s29-G2_stool-DNA"
          ],
          [
           "P4C2T4_s29-G7_stool-DNA"
          ],
          [
           "P4C2T4_s3-B1_stool-DNA"
          ],
          [
           "P4C2T4_s3-B6_stool-DNA"
          ],
          [
           "P4C2T4_s33-H2_SI-DNA"
          ],
          [
           "P4C2T4_s33-H7_SI-DNA"
          ],
          [
           "P4C2T4_s35-A3_SI-DNA"
          ],
          [
           "P4C2T4_s35-A8_SI-DNA"
          ],
          [
           "P4C2T4_s37-C3_SI-DNA"
          ],
          [
           "P4C2T4_s37-C8_SI-DNA"
          ],
          [
           "P4C2T4_s39-D3_SI-DNA"
          ],
          [
           "P4C2T4_s39-D8_SI-DNA"
          ],
          [
           "P4C2T4_s41-E3_SI-DNA"
          ],
          [
           "P4C2T4_s41-E8_SI-DNA"
          ],
          [
           "P4C2T4_s43-F3_SI-DNA"
          ],
          [
           "P4C2T4_s43-F8_SI-DNA"
          ],
          [
           "P4C2T4_s45-G3_SI-DNA"
          ],
          [
           "P4C2T4_s45-G8_SI-DNA"
          ],
          [
           "P4C2T4_s49-H3_Cecum-DNA"
          ],
          [
           "P4C2T4_s49-H8_Cecum-DNA"
          ],
          [
           "P4C2T4_s5-C1_stool-DNA"
          ],
          [
           "P4C2T4_s5-C6_stool-DNA"
          ],
          [
           "P4C2T4_s51-A4_Cecum-DNA"
          ],
          [
           "P4C2T4_s51-A9_Cecum-DNA"
          ],
          [
           "P4C2T4_s53-B4_Cecum-DNA"
          ],
          [
           "P4C2T4_s53-B9_Cecum-DNA"
          ],
          [
           "P4C2T4_s55-C4_Cecum-DNA"
          ],
          [
           "P4C2T4_s55-C9_Cecum-DNA"
          ],
          [
           "P4C2T4_s57-D4_Cecum-DNA"
          ],
          [
           "P4C2T4_s57-D9_Cecum-DNA"
          ],
          [
           "P4C2T4_s59-E4_Cecum-DNA"
          ],
          [
           "P4C2T4_s59-E9_Cecum-DNA"
          ],
          [
           "P4C2T4_s61-F4_Cecum-DNA"
          ],
          [
           "P4C2T4_s61-F9_Cecum-DNA"
          ],
          [
           "P4C2T4_s65-G4_Pr.-Colon-DNA"
          ],
          [
           "P4C2T4_s65-G9_Pr.-Colon-DNA"
          ],
          [
           "P4C2T4_s67-H4_Pr.-Colon-DNA"
          ],
          [
           "P4C2T4_s67-H9_Pr.-Colon-DNA"
          ],
          [
           "P4C2T4_s69-B10_Pr.-Colon-DNA"
          ],
          [
           "P4C2T4_s69-B5_Pr.-Colon-DNA"
          ],
          [
           "P4C2T4_s7-D1_stool-DNA"
          ],
          [
           "P4C2T4_s7-D6_stool-DNA"
          ],
          [
           "P4C2T4_s71-C10_Pr.-Colon-DNA"
          ],
          [
           "P4C2T4_s71-C5_Pr.-Colon-DNA"
          ],
          [
           "P4C2T4_s73-D10_Pr.-Colon-DNA"
          ],
          [
           "P4C2T4_s73-D5_Pr.-Colon-DNA"
          ],
          [
           "P4C2T4_s75-E10_Pr.-Colon-DNA"
          ],
          [
           "P4C2T4_s75-E5_Pr.-Colon-DNA"
          ],
          [
           "P4C2T4_s77-F10_Pr.-Colon-DNA"
          ],
          [
           "P4C2T4_s77-F5_Pr.-Colon-DNA"
          ],
          [
           "P4C2T4_s9-E1_stool-DNA"
          ],
          [
           "P4C2T4_s9-E6_stool-DNA"
          ],
          [
           "P4C2T5_s1-A1_stool-DNA"
          ],
          [
           "P4C2T5_s101-D7_Pr.-Colon-DNA"
          ],
          [
           "P4C2T5_s103-E7_Pr.-Colon-DNA"
          ],
          [
           "P4C2T5_s105-F7_Pr.-Colon-DNA"
          ],
          [
           "P4C2T5_s107-G7_Pr.-Colon-DNA"
          ],
          [
           "P4C2T5_s109-H7_Pr.-Colon-DNA"
          ],
          [
           "P4C2T5_s11-F1_stool-DNA"
          ],
          [
           "P4C2T5_s111-A8_Pr.-Colon-DNA"
          ],
          [
           "P4C2T5_s113-B8_Pr.-Colon-DNA"
          ],
          [
           "P4C2T5_s115-C8_Pr.-Colon-DNA"
          ],
          [
           "P4C2T5_s117-D8_Pr.-Colon-DNA"
          ],
          [
           "P4C2T5_s119-E8_Pr.-Colon-DNA"
          ],
          [
           "P4C2T5_s13-G1_stool-DNA"
          ],
          [
           "P4C2T5_s15-H1_stool-DNA"
          ],
          [
           "P4C2T5_s17-A2_stool-DNA"
          ],
          [
           "P4C2T5_s19-B2_stool-DNA"
          ],
          [
           "P4C2T5_s21-C2_stool-DNA"
          ],
          [
           "P4C2T5_s23-D2_stool-DNA"
          ],
          [
           "P4C2T5_s25-E2_stool-DNA"
          ],
          [
           "P4C2T5_s27-F2_stool-DNA"
          ],
          [
           "P4C2T5_s29-G2_stool-DNA"
          ],
          [
           "P4C2T5_s3-B1_stool-DNA"
          ],
          [
           "P4C2T5_s31-H2_stool-DNA"
          ],
          [
           "P4C2T5_s33-A3_stool-DNA"
          ],
          [
           "P4C2T5_s35-B3_stool-DNA"
          ],
          [
           "P4C2T5_s37-C3_stool-DNA"
          ],
          [
           "P4C2T5_s39-D3_stool-DNA"
          ],
          [
           "P4C2T5_s41-E3_stool-DNA"
          ],
          [
           "P4C2T5_s43-G3_stool-DNA"
          ],
          [
           "P4C2T5_s45-H3_stool-DNA"
          ],
          [
           "P4C2T5_s47-A4_stool-DNA"
          ],
          [
           "P4C2T5_s49-B4_SI-DNA"
          ],
          [
           "P4C2T5_s5-C1_stool-DNA"
          ],
          [
           "P4C2T5_s51-C4_SI-DNA"
          ],
          [
           "P4C2T5_s53-D4_SI-DNA"
          ],
          [
           "P4C2T5_s55-E4_SI-DNA"
          ],
          [
           "P4C2T5_s57-F4_SI-DNA"
          ],
          [
           "P4C2T5_s59-G4_SI-DNA"
          ],
          [
           "P4C2T5_s61-H4_SI-DNA"
          ],
          [
           "P4C2T5_s63-A5_SI-DNA"
          ],
          [
           "P4C2T5_s65-B5_SI-DNA"
          ],
          [
           "P4C2T5_s67-C5_SI-DNA"
          ],
          [
           "P4C2T5_s69-D5_SI-DNA"
          ],
          [
           "P4C2T5_s7-D1_stool-DNA"
          ],
          [
           "P4C2T5_s71-E5_SI-DNA"
          ],
          [
           "P4C2T5_s73-F5_Cecum-DNA"
          ],
          [
           "P4C2T5_s75-G5_Cecum-DNA"
          ],
          [
           "P4C2T5_s77-H5_Cecum-DNA"
          ],
          [
           "P4C2T5_s79-A6_Cecum-DNA"
          ],
          [
           "P4C2T5_s81-B6_Cecum-DNA"
          ],
          [
           "P4C2T5_s83-C6_Cecum-DNA"
          ],
          [
           "P4C2T5_s85-D6_Cecum-DNA"
          ],
          [
           "P4C2T5_s87-E6_Cecum-DNA"
          ],
          [
           "P4C2T5_s89-F6_Cecum-DNA"
          ],
          [
           "P4C2T5_s9-E1_stool-DNA"
          ],
          [
           "P4C2T5_s91-G6_Cecum-DNA"
          ],
          [
           "P4C2T5_s93-H6_Cecum-DNA"
          ],
          [
           "P4C2T5_s95-A7_Cecum-DNA"
          ],
          [
           "P4C2T5_s97-B7_Pr.-Colon-DNA"
          ],
          [
           "P4C2T5_s99-C7_Pr.-Colon-DNA"
          ]
         ],
         "hovertemplate": "strain=ST1<br>type=total_count<br>sample_type=%{x}<br>value=%{y}<br>sample=%{customdata[0]}<extra></extra>",
         "legendgroup": "ST1",
         "marker": {
          "color": "#1F77B4"
         },
         "name": "ST1",
         "notched": false,
         "offsetgroup": "ST1",
         "orientation": "v",
         "showlegend": true,
         "type": "box",
         "x": [
          "gavage",
          "gavage",
          "gavage",
          "gavage",
          "gavage",
          "gavage",
          "negative_control",
          "negative_control",
          "negative_control",
          "negative_control",
          "negative_control",
          "negative_control",
          "negative_control",
          "sample",
          "sample",
          "sample",
          "sample",
          "sample",
          "sample",
          "sample",
          "sample",
          "sample",
          "sample",
          "sample",
          "sample",
          "sample",
          "sample",
          "sample",
          "sample",
          "sample",
          "sample",
          "sample",
          "sample",
          "sample",
          "sample",
          "sample",
          "sample",
          "sample",
          "sample",
          "sample",
          "sample",
          "sample",
          "sample",
          "sample",
          "sample",
          "sample",
          "sample",
          "sample",
          "sample",
          "sample",
          "sample",
          "sample",
          "sample",
          "sample",
          "sample",
          "sample",
          "sample",
          "sample",
          "sample",
          "sample",
          "sample",
          "sample",
          "sample",
          "sample",
          "sample",
          "sample",
          "sample",
          "sample",
          "sample",
          "sample",
          "sample",
          "sample",
          "sample",
          "sample",
          "sample",
          "sample",
          "sample",
          "sample",
          "sample",
          "sample",
          "sample",
          "sample",
          "sample",
          "sample",
          "sample",
          "sample",
          "sample",
          "sample",
          "sample",
          "sample",
          "sample",
          "sample",
          "sample",
          "sample",
          "sample",
          "sample",
          "sample",
          "sample",
          "sample",
          "sample",
          "sample",
          "sample",
          "sample",
          "sample",
          "sample",
          "sample",
          "sample",
          "sample",
          "sample",
          "sample",
          "sample",
          "sample",
          "sample",
          "sample",
          "sample",
          "sample",
          "sample",
          "sample",
          "sample",
          "sample",
          "sample",
          "sample",
          "sample",
          "sample",
          "sample",
          "sample",
          "sample",
          "sample",
          "sample",
          "sample",
          "sample",
          "sample",
          "sample",
          "sample",
          "sample",
          "sample",
          "sample",
          "sample",
          "sample",
          "sample",
          "sample",
          "sample",
          "sample"
         ],
         "x0": " ",
         "xaxis": "x2",
         "y": {
          "bdata": "AAAAAMAi7kAAAAAA4HjkQAAAAACA5uxAAAAAAIBX7UAAAAAA2MwIQQAAAAC9+TBBAAAAALC6A0EAAAAAAEbkQAAAAACAf99AAAAAAADmwkAAAAAAgCjpQAAAAAAA/LBAAAAAAADyqUAAAAAAAH/KQAAAAAAAa8lAAAAAAACpuUAAAAAAAESkQAAAAADAE9hAAAAAAAAgwUAAAAAAYGf8QAAAAABgtABBAAAAABBDIEEAAAAADrAnQQAAAAAo7yRBAAAAAAAAdUAAAAAAAPiFQAAAAAAAjJpAAAAAgCx2UUEAAACACzJmQQAAAAAAar5AAAAAAAC0rkAAAAAAAObAQAAAAAAAVLVAAAAAAJA3/EAAAAAAOMADQQAAAAAAKMpAAAAAAIDdxEAAAAAAIBjiQAAAAAAAeOpAAAAAAAA2x0AAAAAAAGiRQAAAAAAAdKhAAAAAAADwqUAAAAAAMHETQQAAAAD4WQtBAAAAAMBJ0UAAAAAAgN3aQAAAAACA2NtAAAAAAEBv0UAAAAAA8lsrQQAAAADAFjVBAAAAAACkl0AAAAAAACCcQAAAAADQyCtBAAAAAM3NMEEAAAAAAJKyQAAAAAAAsJ9AAAAAAABQm0AAAAAAAEiOQAAAAACvijxBAAAAAHp6LUEAAAAAAByjQAAAAAAA8IZAAAAAAAByoUAAAAAAALamQAAAAADcpyVBAAAAAMwwGEEAAAAAwJgAQQAAAAAwFBpBAAAAAABStUAAAAAAAFqqQAAAAAAACItAAAAAAAAYgUAAAAAAAGCjQAAAAAAAcLFAAAAAAL/3R0EAAAAAgaU/QQAAAAAAiK9AAAAAAIAlw0AAAAAAAMXVQAAAAAAA/MVAAAAAAABAjEAAAAAAAJicQAAAAAAA4KdAAAAAACDj9EAAAADAQ6lTQQAAAABQXRFBAAAAAFdaWUEAAAAAFjY3QQAAAABHy0RBAAAAAMqqN0EAAAAA3541QQAAAADAFtZAAAAAAKA/9kAAAAAAABm5QAAAACDO8mdBAAAAgApJWUEAAAAAqK8IQQAAAADQuBxBAAAAAEBn2EAAAAAA7BMqQQAAAACqxCtBAAAAACB79kAAAAAA1NYeQQAAAAAALb5AAAAAgB6kREEAAAAA5pNKQQAAAIAInk1BAAAAgKJcQ0EAAAAAwIMwQQAAAAApQX1BAAAAAKC74EAAAAAAAJqjQAAAAABjKDxBAAAAAADiq0AAAAAAACMtQQAAAIDyTEBBAAAAAACU00AAAAAAwDbdQAAAAIAxwl9BAAAAAOjcHUEAAAAAeQY9QQAAAID5PXdBAAAAeAddhEEAAAAAslooQQAAAACAT8RAAAAAAIBV+EAAAACANPVDQQAAAAAAXKJAAAAAAAD/sEAAAAAAAKTcQAAAAOCPQWFBAAAAQBAcW0EAAACAuShAQQAAAABmOCpBAAAA4CfZfEEAAAAAaxtTQQAAAAAyyi9BAAAAQFrrUUEAAAAAgOzAQAAAAADCj1BBAAAAwDaVV0EAAAAAwGzRQA==",
          "dtype": "f8"
         },
         "y0": " ",
         "yaxis": "y2"
        },
        {
         "alignmentgroup": "True",
         "boxpoints": "all",
         "customdata": [
          [
           "P4C2T4_s81-B3_Gavage-DNA"
          ],
          [
           "P4C2T4_s81-B8_Gavage-DNA"
          ],
          [
           "P4C2T4_s82-A10_Gavage-DNA"
          ],
          [
           "P4C2T4_s82-A5_Gavage-DNA"
          ],
          [
           "P4C2T5_s121-F8_Gavage-DNA"
          ],
          [
           "P4C2T5_s122-G8_Gavage-DNA"
          ],
          [
           "NTC_F3_NTC"
          ],
          [
           "NTC_G10_NTC"
          ],
          [
           "NTC_G5_NTC"
          ],
          [
           "NTC_H10_NTC"
          ],
          [
           "NTC_H5_NTC"
          ],
          [
           "WATER_A2_WATER"
          ],
          [
           "WATER_A7_WATER"
          ],
          [
           "P4C2T4_s1-A1_stool-DNA"
          ],
          [
           "P4C2T4_s1-A6_stool-DNA"
          ],
          [
           "P4C2T4_s11-F1_stool-DNA"
          ],
          [
           "P4C2T4_s11-F6_stool-DNA"
          ],
          [
           "P4C2T4_s13-G1_stool-DNA"
          ],
          [
           "P4C2T4_s13-G6_stool-DNA"
          ],
          [
           "P4C2T4_s17-H1_stool-DNA"
          ],
          [
           "P4C2T4_s17-H6_stool-DNA"
          ],
          [
           "P4C2T4_s19-B2_stool-DNA"
          ],
          [
           "P4C2T4_s19-B7_stool-DNA"
          ],
          [
           "P4C2T4_s21-C2_stool-DNA"
          ],
          [
           "P4C2T4_s21-C7_stool-DNA"
          ],
          [
           "P4C2T4_s23-D2_stool-DNA"
          ],
          [
           "P4C2T4_s23-D7_stool-DNA"
          ],
          [
           "P4C2T4_s25-E2_stool-DNA"
          ],
          [
           "P4C2T4_s25-E7_stool-DNA"
          ],
          [
           "P4C2T4_s27-F2_stool-DNA"
          ],
          [
           "P4C2T4_s27-F7_stool-DNA"
          ],
          [
           "P4C2T4_s29-G2_stool-DNA"
          ],
          [
           "P4C2T4_s29-G7_stool-DNA"
          ],
          [
           "P4C2T4_s3-B1_stool-DNA"
          ],
          [
           "P4C2T4_s3-B6_stool-DNA"
          ],
          [
           "P4C2T4_s33-H2_SI-DNA"
          ],
          [
           "P4C2T4_s33-H7_SI-DNA"
          ],
          [
           "P4C2T4_s35-A3_SI-DNA"
          ],
          [
           "P4C2T4_s35-A8_SI-DNA"
          ],
          [
           "P4C2T4_s37-C3_SI-DNA"
          ],
          [
           "P4C2T4_s37-C8_SI-DNA"
          ],
          [
           "P4C2T4_s39-D3_SI-DNA"
          ],
          [
           "P4C2T4_s39-D8_SI-DNA"
          ],
          [
           "P4C2T4_s41-E3_SI-DNA"
          ],
          [
           "P4C2T4_s41-E8_SI-DNA"
          ],
          [
           "P4C2T4_s43-F3_SI-DNA"
          ],
          [
           "P4C2T4_s43-F8_SI-DNA"
          ],
          [
           "P4C2T4_s45-G3_SI-DNA"
          ],
          [
           "P4C2T4_s45-G8_SI-DNA"
          ],
          [
           "P4C2T4_s49-H3_Cecum-DNA"
          ],
          [
           "P4C2T4_s49-H8_Cecum-DNA"
          ],
          [
           "P4C2T4_s5-C1_stool-DNA"
          ],
          [
           "P4C2T4_s5-C6_stool-DNA"
          ],
          [
           "P4C2T4_s51-A4_Cecum-DNA"
          ],
          [
           "P4C2T4_s51-A9_Cecum-DNA"
          ],
          [
           "P4C2T4_s53-B4_Cecum-DNA"
          ],
          [
           "P4C2T4_s53-B9_Cecum-DNA"
          ],
          [
           "P4C2T4_s55-C4_Cecum-DNA"
          ],
          [
           "P4C2T4_s55-C9_Cecum-DNA"
          ],
          [
           "P4C2T4_s57-D4_Cecum-DNA"
          ],
          [
           "P4C2T4_s57-D9_Cecum-DNA"
          ],
          [
           "P4C2T4_s59-E4_Cecum-DNA"
          ],
          [
           "P4C2T4_s59-E9_Cecum-DNA"
          ],
          [
           "P4C2T4_s61-F4_Cecum-DNA"
          ],
          [
           "P4C2T4_s61-F9_Cecum-DNA"
          ],
          [
           "P4C2T4_s65-G4_Pr.-Colon-DNA"
          ],
          [
           "P4C2T4_s65-G9_Pr.-Colon-DNA"
          ],
          [
           "P4C2T4_s67-H4_Pr.-Colon-DNA"
          ],
          [
           "P4C2T4_s67-H9_Pr.-Colon-DNA"
          ],
          [
           "P4C2T4_s69-B10_Pr.-Colon-DNA"
          ],
          [
           "P4C2T4_s69-B5_Pr.-Colon-DNA"
          ],
          [
           "P4C2T4_s7-D1_stool-DNA"
          ],
          [
           "P4C2T4_s7-D6_stool-DNA"
          ],
          [
           "P4C2T4_s71-C10_Pr.-Colon-DNA"
          ],
          [
           "P4C2T4_s71-C5_Pr.-Colon-DNA"
          ],
          [
           "P4C2T4_s73-D10_Pr.-Colon-DNA"
          ],
          [
           "P4C2T4_s73-D5_Pr.-Colon-DNA"
          ],
          [
           "P4C2T4_s75-E10_Pr.-Colon-DNA"
          ],
          [
           "P4C2T4_s75-E5_Pr.-Colon-DNA"
          ],
          [
           "P4C2T4_s77-F10_Pr.-Colon-DNA"
          ],
          [
           "P4C2T4_s77-F5_Pr.-Colon-DNA"
          ],
          [
           "P4C2T4_s9-E1_stool-DNA"
          ],
          [
           "P4C2T4_s9-E6_stool-DNA"
          ],
          [
           "P4C2T5_s1-A1_stool-DNA"
          ],
          [
           "P4C2T5_s101-D7_Pr.-Colon-DNA"
          ],
          [
           "P4C2T5_s103-E7_Pr.-Colon-DNA"
          ],
          [
           "P4C2T5_s105-F7_Pr.-Colon-DNA"
          ],
          [
           "P4C2T5_s107-G7_Pr.-Colon-DNA"
          ],
          [
           "P4C2T5_s109-H7_Pr.-Colon-DNA"
          ],
          [
           "P4C2T5_s11-F1_stool-DNA"
          ],
          [
           "P4C2T5_s111-A8_Pr.-Colon-DNA"
          ],
          [
           "P4C2T5_s113-B8_Pr.-Colon-DNA"
          ],
          [
           "P4C2T5_s115-C8_Pr.-Colon-DNA"
          ],
          [
           "P4C2T5_s117-D8_Pr.-Colon-DNA"
          ],
          [
           "P4C2T5_s119-E8_Pr.-Colon-DNA"
          ],
          [
           "P4C2T5_s13-G1_stool-DNA"
          ],
          [
           "P4C2T5_s15-H1_stool-DNA"
          ],
          [
           "P4C2T5_s17-A2_stool-DNA"
          ],
          [
           "P4C2T5_s19-B2_stool-DNA"
          ],
          [
           "P4C2T5_s21-C2_stool-DNA"
          ],
          [
           "P4C2T5_s23-D2_stool-DNA"
          ],
          [
           "P4C2T5_s25-E2_stool-DNA"
          ],
          [
           "P4C2T5_s27-F2_stool-DNA"
          ],
          [
           "P4C2T5_s29-G2_stool-DNA"
          ],
          [
           "P4C2T5_s3-B1_stool-DNA"
          ],
          [
           "P4C2T5_s31-H2_stool-DNA"
          ],
          [
           "P4C2T5_s33-A3_stool-DNA"
          ],
          [
           "P4C2T5_s35-B3_stool-DNA"
          ],
          [
           "P4C2T5_s37-C3_stool-DNA"
          ],
          [
           "P4C2T5_s39-D3_stool-DNA"
          ],
          [
           "P4C2T5_s41-E3_stool-DNA"
          ],
          [
           "P4C2T5_s43-G3_stool-DNA"
          ],
          [
           "P4C2T5_s45-H3_stool-DNA"
          ],
          [
           "P4C2T5_s47-A4_stool-DNA"
          ],
          [
           "P4C2T5_s49-B4_SI-DNA"
          ],
          [
           "P4C2T5_s5-C1_stool-DNA"
          ],
          [
           "P4C2T5_s51-C4_SI-DNA"
          ],
          [
           "P4C2T5_s53-D4_SI-DNA"
          ],
          [
           "P4C2T5_s55-E4_SI-DNA"
          ],
          [
           "P4C2T5_s57-F4_SI-DNA"
          ],
          [
           "P4C2T5_s59-G4_SI-DNA"
          ],
          [
           "P4C2T5_s61-H4_SI-DNA"
          ],
          [
           "P4C2T5_s63-A5_SI-DNA"
          ],
          [
           "P4C2T5_s65-B5_SI-DNA"
          ],
          [
           "P4C2T5_s67-C5_SI-DNA"
          ],
          [
           "P4C2T5_s69-D5_SI-DNA"
          ],
          [
           "P4C2T5_s7-D1_stool-DNA"
          ],
          [
           "P4C2T5_s71-E5_SI-DNA"
          ],
          [
           "P4C2T5_s73-F5_Cecum-DNA"
          ],
          [
           "P4C2T5_s75-G5_Cecum-DNA"
          ],
          [
           "P4C2T5_s77-H5_Cecum-DNA"
          ],
          [
           "P4C2T5_s79-A6_Cecum-DNA"
          ],
          [
           "P4C2T5_s81-B6_Cecum-DNA"
          ],
          [
           "P4C2T5_s83-C6_Cecum-DNA"
          ],
          [
           "P4C2T5_s85-D6_Cecum-DNA"
          ],
          [
           "P4C2T5_s87-E6_Cecum-DNA"
          ],
          [
           "P4C2T5_s89-F6_Cecum-DNA"
          ],
          [
           "P4C2T5_s9-E1_stool-DNA"
          ],
          [
           "P4C2T5_s91-G6_Cecum-DNA"
          ],
          [
           "P4C2T5_s93-H6_Cecum-DNA"
          ],
          [
           "P4C2T5_s95-A7_Cecum-DNA"
          ],
          [
           "P4C2T5_s97-B7_Pr.-Colon-DNA"
          ],
          [
           "P4C2T5_s99-C7_Pr.-Colon-DNA"
          ]
         ],
         "hovertemplate": "strain=ST1<br>type=total_unique_umi<br>sample_type=%{x}<br>value=%{y}<br>sample=%{customdata[0]}<extra></extra>",
         "legendgroup": "ST1",
         "marker": {
          "color": "#1F77B4"
         },
         "name": "ST1",
         "notched": false,
         "offsetgroup": "ST1",
         "orientation": "v",
         "showlegend": false,
         "type": "box",
         "x": [
          "gavage",
          "gavage",
          "gavage",
          "gavage",
          "gavage",
          "gavage",
          "negative_control",
          "negative_control",
          "negative_control",
          "negative_control",
          "negative_control",
          "negative_control",
          "negative_control",
          "sample",
          "sample",
          "sample",
          "sample",
          "sample",
          "sample",
          "sample",
          "sample",
          "sample",
          "sample",
          "sample",
          "sample",
          "sample",
          "sample",
          "sample",
          "sample",
          "sample",
          "sample",
          "sample",
          "sample",
          "sample",
          "sample",
          "sample",
          "sample",
          "sample",
          "sample",
          "sample",
          "sample",
          "sample",
          "sample",
          "sample",
          "sample",
          "sample",
          "sample",
          "sample",
          "sample",
          "sample",
          "sample",
          "sample",
          "sample",
          "sample",
          "sample",
          "sample",
          "sample",
          "sample",
          "sample",
          "sample",
          "sample",
          "sample",
          "sample",
          "sample",
          "sample",
          "sample",
          "sample",
          "sample",
          "sample",
          "sample",
          "sample",
          "sample",
          "sample",
          "sample",
          "sample",
          "sample",
          "sample",
          "sample",
          "sample",
          "sample",
          "sample",
          "sample",
          "sample",
          "sample",
          "sample",
          "sample",
          "sample",
          "sample",
          "sample",
          "sample",
          "sample",
          "sample",
          "sample",
          "sample",
          "sample",
          "sample",
          "sample",
          "sample",
          "sample",
          "sample",
          "sample",
          "sample",
          "sample",
          "sample",
          "sample",
          "sample",
          "sample",
          "sample",
          "sample",
          "sample",
          "sample",
          "sample",
          "sample",
          "sample",
          "sample",
          "sample",
          "sample",
          "sample",
          "sample",
          "sample",
          "sample",
          "sample",
          "sample",
          "sample",
          "sample",
          "sample",
          "sample",
          "sample",
          "sample",
          "sample",
          "sample",
          "sample",
          "sample",
          "sample",
          "sample",
          "sample",
          "sample",
          "sample",
          "sample",
          "sample",
          "sample",
          "sample",
          "sample"
         ],
         "x0": " ",
         "xaxis": "x",
         "y": {
          "bdata": "AAAAAABOs0AAAAAAAMqyQAAAAAAABbdAAAAAAAA/vUAAAAAAANe+QAAAAAAAzKZAAAAAAAA0oUAAAAAAAOBpQAAAAAAAYG9AAAAAAAAQdUAAAAAAAKyVQAAAAAAAgEtAAAAAAAAASUAAAAAAAIBlQAAAAAAAgGVAAAAAAACAREAAAAAAAIBDQAAAAAAAaIZAAAAAAABAUkAAAAAAAHSpQAAAAAAAsK1AAAAAAAASt0AAAAAAAIm7QAAAAAAAEIxAAAAAAAAAIEAAAAAAAABMQAAAAAAAAE1AAAAAAIC9w0AAAAAAACHEQAAAAAAAgEhAAAAAAAAAPUAAAAAAAABKQAAAAAAAAEdAAAAAAADypUAAAAAAAHClQAAAAAAAiINAAAAAAABAe0AAAAAAAJyVQAAAAAAAlJVAAAAAAAAASUAAAAAAAAAyQAAAAAAAAEdAAAAAAACAR0AAAAAAAHipQAAAAAAAYKhAAAAAAACAWEAAAAAAAIBfQAAAAAAAAG5AAAAAAACAbkAAAAAAAKy3QAAAAAAAobdAAAAAAAAAMEAAAAAAAAAyQAAAAAAAUr5AAAAAAABKv0AAAAAAAAAzQAAAAAAAADJAAAAAAAAAIEAAAAAAAAAoQAAAAACAb8BAAAAAAACWv0AAAAAAADiSQAAAAAAAACxAAAAAAAAAPUAAAAAAAAA7QAAAAAAAkLRAAAAAAACCskAAAAAAAFO3QAAAAAAA5rRAAAAAAAAAPUAAAAAAAAA5QAAAAAAAAENAAAAAAAAAUUAAAAAAAAA3QAAAAAAAgEFAAAAAAACbwUAAAAAAgNPBQAAAAAAAAD1AAAAAAABwdkAAAAAAAABaQAAAAAAAgFhAAAAAAACAQUAAAAAAAABHQAAAAAAAwFBAAAAAAABwckAAAAAAAIarQAAAAAAAiJpAAAAAAAAMwEAAAAAAADuyQAAAAAAA7KRAAAAAAABAskAAAAAAABivQAAAAAAAYGNAAAAAAAAYgkAAAAAAAIBnQAAAAAAAgINAAAAAAACojkAAAAAAAOCEQAAAAAAAwIpAAAAAAAAgdUAAAAAAAJiFQAAAAAAA4H9AAAAAAABImUAAAAAAAEB+QAAAAAAAQGJAAAAAAAAIrkAAAAAAACq+QAAAAAAAqr1AAAAAAAC+uEAAAAAAAPmxQAAAAAAAaK9AAAAAAAAAX0AAAAAAAIBCQAAAAAAAsJhAAAAAAAAAOEAAAAAAAKiBQAAAAAAAOJNAAAAAAAAAZEAAAAAAAASTQAAAAAAA6cNAAAAAAAB4nUAAAAAAAP6sQAAAAAAAeKdAAAAAAABAp0AAAAAAANiMQAAAAAAAgFhAAAAAAABgikAAAAAAAOCOQAAAAAAAADhAAAAAAAAAPkAAAAAAAABaQAAAAAAAeK9AAAAAAACIv0AAAAAAgN7BQAAAAAAAzrlAAAAAAABMtUAAAAAAAEa1QAAAAAAAKIdAAAAAAACAg0AAAAAAAABUQAAAAAAAEIBAAAAAAACYi0AAAAAAAABXQA==",
          "dtype": "f8"
         },
         "y0": " ",
         "yaxis": "y"
        },
        {
         "alignmentgroup": "True",
         "boxpoints": "all",
         "customdata": [
          [
           "P4C2T4_s81-B3_Gavage-DNA"
          ],
          [
           "P4C2T4_s81-B8_Gavage-DNA"
          ],
          [
           "P4C2T4_s82-A10_Gavage-DNA"
          ],
          [
           "P4C2T4_s82-A5_Gavage-DNA"
          ],
          [
           "P4C2T5_s121-F8_Gavage-DNA"
          ],
          [
           "P4C2T5_s122-G8_Gavage-DNA"
          ],
          [
           "NTC_F3_NTC"
          ],
          [
           "P4C2T4_s17-H6_stool-DNA"
          ],
          [
           "P4C2T4_s19-B2_stool-DNA"
          ],
          [
           "P4C2T4_s19-B7_stool-DNA"
          ],
          [
           "P4C2T4_s35-A3_SI-DNA"
          ],
          [
           "P4C2T4_s35-A8_SI-DNA"
          ],
          [
           "P4C2T4_s49-H3_Cecum-DNA"
          ],
          [
           "P4C2T4_s49-H8_Cecum-DNA"
          ],
          [
           "P4C2T4_s51-A4_Cecum-DNA"
          ],
          [
           "P4C2T4_s51-A9_Cecum-DNA"
          ],
          [
           "P4C2T5_s101-D7_Pr.-Colon-DNA"
          ],
          [
           "P4C2T5_s105-F7_Pr.-Colon-DNA"
          ],
          [
           "P4C2T5_s107-G7_Pr.-Colon-DNA"
          ],
          [
           "P4C2T5_s11-F1_stool-DNA"
          ],
          [
           "P4C2T5_s111-A8_Pr.-Colon-DNA"
          ],
          [
           "P4C2T5_s113-B8_Pr.-Colon-DNA"
          ],
          [
           "P4C2T5_s117-D8_Pr.-Colon-DNA"
          ],
          [
           "P4C2T5_s119-E8_Pr.-Colon-DNA"
          ],
          [
           "P4C2T5_s13-G1_stool-DNA"
          ],
          [
           "P4C2T5_s17-A2_stool-DNA"
          ],
          [
           "P4C2T5_s19-B2_stool-DNA"
          ],
          [
           "P4C2T5_s23-D2_stool-DNA"
          ],
          [
           "P4C2T5_s25-E2_stool-DNA"
          ],
          [
           "P4C2T5_s27-F2_stool-DNA"
          ],
          [
           "P4C2T5_s29-G2_stool-DNA"
          ],
          [
           "P4C2T5_s31-H2_stool-DNA"
          ],
          [
           "P4C2T5_s33-A3_stool-DNA"
          ],
          [
           "P4C2T5_s39-D3_stool-DNA"
          ],
          [
           "P4C2T5_s47-A4_stool-DNA"
          ],
          [
           "P4C2T5_s53-D4_SI-DNA"
          ],
          [
           "P4C2T5_s57-F4_SI-DNA"
          ],
          [
           "P4C2T5_s59-G4_SI-DNA"
          ],
          [
           "P4C2T5_s7-D1_stool-DNA"
          ],
          [
           "P4C2T5_s79-A6_Cecum-DNA"
          ],
          [
           "P4C2T5_s81-B6_Cecum-DNA"
          ],
          [
           "P4C2T5_s83-C6_Cecum-DNA"
          ],
          [
           "P4C2T5_s85-D6_Cecum-DNA"
          ],
          [
           "P4C2T5_s87-E6_Cecum-DNA"
          ],
          [
           "P4C2T5_s89-F6_Cecum-DNA"
          ],
          [
           "P4C2T5_s91-G6_Cecum-DNA"
          ],
          [
           "P4C2T5_s97-B7_Pr.-Colon-DNA"
          ]
         ],
         "hovertemplate": "strain=ST2<br>type=total_count<br>sample_type=%{x}<br>value=%{y}<br>sample=%{customdata[0]}<extra></extra>",
         "legendgroup": "ST2",
         "marker": {
          "color": "#FF7F0E"
         },
         "name": "ST2",
         "notched": false,
         "offsetgroup": "ST2",
         "orientation": "v",
         "showlegend": true,
         "type": "box",
         "x": [
          "gavage",
          "gavage",
          "gavage",
          "gavage",
          "gavage",
          "gavage",
          "negative_control",
          "sample",
          "sample",
          "sample",
          "sample",
          "sample",
          "sample",
          "sample",
          "sample",
          "sample",
          "sample",
          "sample",
          "sample",
          "sample",
          "sample",
          "sample",
          "sample",
          "sample",
          "sample",
          "sample",
          "sample",
          "sample",
          "sample",
          "sample",
          "sample",
          "sample",
          "sample",
          "sample",
          "sample",
          "sample",
          "sample",
          "sample",
          "sample",
          "sample",
          "sample",
          "sample",
          "sample",
          "sample",
          "sample",
          "sample",
          "sample"
         ],
         "x0": " ",
         "xaxis": "x2",
         "y": {
          "bdata": "AAAAAICWx0AAAAAAgHXAQAAAAAAAXcBAAAAAAAAMxUAAAAAAYI7tQAAAAADgNOhAAAAAAAAAJkAAAAAAAAAUQAAAAAAAgFlAAAAAAACAYUAAAAAAAIBWQAAAAAAAQFpAAAAAAAAAVUAAAAAAAABeQAAAAAAAAE5AAAAAAAAAVUAAAAAAAGBpQAAAAAAAsJ1AAAAAAAAQhEAAAAAAAAAkQAAAAAAAQJ9AAAAAAABwcUAAAAAAACyiQAAAAAAAABRAAAAAAAAgd0AAAAAAAAAYQAAAAADAzN9AAAAAAACAWkAAAAAAAABOQAAAAAAAACJAAAAAAOCY4kAAAAAAAABbQAAAAAAAwFBAAAAAAAB4jkAAAAAAAAA3QAAAAAAAAABAAAAAAADAbEAAAAAAAGB8QAAAAAAAADJAAAAAAABAU0AAAAAAAEBvQAAAAAAAADJAAAAAAAAwg0AAAAAAANiEQAAAAAAAfJVAAAAAALguF0EAAAAAAMBmQA==",
          "dtype": "f8"
         },
         "y0": " ",
         "yaxis": "y2"
        },
        {
         "alignmentgroup": "True",
         "boxpoints": "all",
         "customdata": [
          [
           "P4C2T4_s81-B3_Gavage-DNA"
          ],
          [
           "P4C2T4_s81-B8_Gavage-DNA"
          ],
          [
           "P4C2T4_s82-A10_Gavage-DNA"
          ],
          [
           "P4C2T4_s82-A5_Gavage-DNA"
          ],
          [
           "P4C2T5_s121-F8_Gavage-DNA"
          ],
          [
           "P4C2T5_s122-G8_Gavage-DNA"
          ],
          [
           "NTC_F3_NTC"
          ],
          [
           "P4C2T4_s17-H6_stool-DNA"
          ],
          [
           "P4C2T4_s19-B2_stool-DNA"
          ],
          [
           "P4C2T4_s19-B7_stool-DNA"
          ],
          [
           "P4C2T4_s35-A3_SI-DNA"
          ],
          [
           "P4C2T4_s35-A8_SI-DNA"
          ],
          [
           "P4C2T4_s49-H3_Cecum-DNA"
          ],
          [
           "P4C2T4_s49-H8_Cecum-DNA"
          ],
          [
           "P4C2T4_s51-A4_Cecum-DNA"
          ],
          [
           "P4C2T4_s51-A9_Cecum-DNA"
          ],
          [
           "P4C2T5_s101-D7_Pr.-Colon-DNA"
          ],
          [
           "P4C2T5_s105-F7_Pr.-Colon-DNA"
          ],
          [
           "P4C2T5_s107-G7_Pr.-Colon-DNA"
          ],
          [
           "P4C2T5_s11-F1_stool-DNA"
          ],
          [
           "P4C2T5_s111-A8_Pr.-Colon-DNA"
          ],
          [
           "P4C2T5_s113-B8_Pr.-Colon-DNA"
          ],
          [
           "P4C2T5_s117-D8_Pr.-Colon-DNA"
          ],
          [
           "P4C2T5_s119-E8_Pr.-Colon-DNA"
          ],
          [
           "P4C2T5_s13-G1_stool-DNA"
          ],
          [
           "P4C2T5_s17-A2_stool-DNA"
          ],
          [
           "P4C2T5_s19-B2_stool-DNA"
          ],
          [
           "P4C2T5_s23-D2_stool-DNA"
          ],
          [
           "P4C2T5_s25-E2_stool-DNA"
          ],
          [
           "P4C2T5_s27-F2_stool-DNA"
          ],
          [
           "P4C2T5_s29-G2_stool-DNA"
          ],
          [
           "P4C2T5_s31-H2_stool-DNA"
          ],
          [
           "P4C2T5_s33-A3_stool-DNA"
          ],
          [
           "P4C2T5_s39-D3_stool-DNA"
          ],
          [
           "P4C2T5_s47-A4_stool-DNA"
          ],
          [
           "P4C2T5_s53-D4_SI-DNA"
          ],
          [
           "P4C2T5_s57-F4_SI-DNA"
          ],
          [
           "P4C2T5_s59-G4_SI-DNA"
          ],
          [
           "P4C2T5_s7-D1_stool-DNA"
          ],
          [
           "P4C2T5_s79-A6_Cecum-DNA"
          ],
          [
           "P4C2T5_s81-B6_Cecum-DNA"
          ],
          [
           "P4C2T5_s83-C6_Cecum-DNA"
          ],
          [
           "P4C2T5_s85-D6_Cecum-DNA"
          ],
          [
           "P4C2T5_s87-E6_Cecum-DNA"
          ],
          [
           "P4C2T5_s89-F6_Cecum-DNA"
          ],
          [
           "P4C2T5_s91-G6_Cecum-DNA"
          ],
          [
           "P4C2T5_s97-B7_Pr.-Colon-DNA"
          ]
         ],
         "hovertemplate": "strain=ST2<br>type=total_unique_umi<br>sample_type=%{x}<br>value=%{y}<br>sample=%{customdata[0]}<extra></extra>",
         "legendgroup": "ST2",
         "marker": {
          "color": "#FF7F0E"
         },
         "name": "ST2",
         "notched": false,
         "offsetgroup": "ST2",
         "orientation": "v",
         "showlegend": false,
         "type": "box",
         "x": [
          "gavage",
          "gavage",
          "gavage",
          "gavage",
          "gavage",
          "gavage",
          "negative_control",
          "sample",
          "sample",
          "sample",
          "sample",
          "sample",
          "sample",
          "sample",
          "sample",
          "sample",
          "sample",
          "sample",
          "sample",
          "sample",
          "sample",
          "sample",
          "sample",
          "sample",
          "sample",
          "sample",
          "sample",
          "sample",
          "sample",
          "sample",
          "sample",
          "sample",
          "sample",
          "sample",
          "sample",
          "sample",
          "sample",
          "sample",
          "sample",
          "sample",
          "sample",
          "sample",
          "sample",
          "sample",
          "sample",
          "sample",
          "sample"
         ],
         "x0": " ",
         "xaxis": "x",
         "y": {
          "bdata": "AAAAAAB4jkAAAAAAAHCNQAAAAAAAIJBAAAAAAAAEkEAAAAAAAPqmQAAAAAAAoGZAAAAAAAAAIkAAAAAAAADwPwAAAAAAAAhAAAAAAAAAFEAAAAAAAAAYQAAAAAAAABRAAAAAAAAAGEAAAAAAAAAYQAAAAAAAAAhAAAAAAAAAEEAAAAAAAAAAQAAAAAAAACxAAAAAAAAAFEAAAAAAAAAkQAAAAAAAADhAAAAAAAAAN0AAAAAAAAAzQAAAAAAAABRAAAAAAAAAEEAAAAAAAAAAQAAAAAAAAABAAAAAAAAAMUAAAAAAAAAIQAAAAAAAACJAAAAAAAAAGEAAAAAAAAAIQAAAAAAAAPA/AAAAAAAALkAAAAAAAADwPwAAAAAAAABAAAAAAAAAJEAAAAAAAAAYQAAAAAAAADBAAAAAAAAA8D8AAAAAAADwPwAAAAAAAPA/AAAAAAAANEAAAAAAAADwPwAAAAAAADdAAAAAAAAAIkAAAAAAAAAAQA==",
          "dtype": "f8"
         },
         "y0": " ",
         "yaxis": "y"
        },
        {
         "alignmentgroup": "True",
         "boxpoints": "all",
         "customdata": [
          [
           "P4C2T4_s81-B3_Gavage-DNA"
          ],
          [
           "P4C2T4_s81-B8_Gavage-DNA"
          ],
          [
           "P4C2T4_s82-A10_Gavage-DNA"
          ],
          [
           "P4C2T4_s82-A5_Gavage-DNA"
          ],
          [
           "P4C2T5_s121-F8_Gavage-DNA"
          ],
          [
           "P4C2T5_s122-G8_Gavage-DNA"
          ],
          [
           "NTC_F3_NTC"
          ],
          [
           "NTC_G10_NTC"
          ],
          [
           "NTC_G5_NTC"
          ],
          [
           "NTC_H10_NTC"
          ],
          [
           "NTC_H5_NTC"
          ],
          [
           "WATER_A2_WATER"
          ],
          [
           "WATER_A7_WATER"
          ],
          [
           "P4C2T4_s1-A1_stool-DNA"
          ],
          [
           "P4C2T4_s1-A6_stool-DNA"
          ],
          [
           "P4C2T4_s11-F1_stool-DNA"
          ],
          [
           "P4C2T4_s11-F6_stool-DNA"
          ],
          [
           "P4C2T4_s13-G1_stool-DNA"
          ],
          [
           "P4C2T4_s13-G6_stool-DNA"
          ],
          [
           "P4C2T4_s17-H1_stool-DNA"
          ],
          [
           "P4C2T4_s17-H6_stool-DNA"
          ],
          [
           "P4C2T4_s19-B2_stool-DNA"
          ],
          [
           "P4C2T4_s19-B7_stool-DNA"
          ],
          [
           "P4C2T4_s21-C2_stool-DNA"
          ],
          [
           "P4C2T4_s21-C7_stool-DNA"
          ],
          [
           "P4C2T4_s23-D2_stool-DNA"
          ],
          [
           "P4C2T4_s23-D7_stool-DNA"
          ],
          [
           "P4C2T4_s25-E2_stool-DNA"
          ],
          [
           "P4C2T4_s25-E7_stool-DNA"
          ],
          [
           "P4C2T4_s27-F2_stool-DNA"
          ],
          [
           "P4C2T4_s27-F7_stool-DNA"
          ],
          [
           "P4C2T4_s29-G2_stool-DNA"
          ],
          [
           "P4C2T4_s29-G7_stool-DNA"
          ],
          [
           "P4C2T4_s3-B1_stool-DNA"
          ],
          [
           "P4C2T4_s3-B6_stool-DNA"
          ],
          [
           "P4C2T4_s33-H2_SI-DNA"
          ],
          [
           "P4C2T4_s33-H7_SI-DNA"
          ],
          [
           "P4C2T4_s35-A3_SI-DNA"
          ],
          [
           "P4C2T4_s35-A8_SI-DNA"
          ],
          [
           "P4C2T4_s37-C3_SI-DNA"
          ],
          [
           "P4C2T4_s37-C8_SI-DNA"
          ],
          [
           "P4C2T4_s39-D3_SI-DNA"
          ],
          [
           "P4C2T4_s39-D8_SI-DNA"
          ],
          [
           "P4C2T4_s41-E3_SI-DNA"
          ],
          [
           "P4C2T4_s41-E8_SI-DNA"
          ],
          [
           "P4C2T4_s43-F3_SI-DNA"
          ],
          [
           "P4C2T4_s43-F8_SI-DNA"
          ],
          [
           "P4C2T4_s45-G3_SI-DNA"
          ],
          [
           "P4C2T4_s45-G8_SI-DNA"
          ],
          [
           "P4C2T4_s49-H3_Cecum-DNA"
          ],
          [
           "P4C2T4_s49-H8_Cecum-DNA"
          ],
          [
           "P4C2T4_s5-C1_stool-DNA"
          ],
          [
           "P4C2T4_s5-C6_stool-DNA"
          ],
          [
           "P4C2T4_s51-A4_Cecum-DNA"
          ],
          [
           "P4C2T4_s51-A9_Cecum-DNA"
          ],
          [
           "P4C2T4_s53-B4_Cecum-DNA"
          ],
          [
           "P4C2T4_s53-B9_Cecum-DNA"
          ],
          [
           "P4C2T4_s55-C4_Cecum-DNA"
          ],
          [
           "P4C2T4_s55-C9_Cecum-DNA"
          ],
          [
           "P4C2T4_s57-D4_Cecum-DNA"
          ],
          [
           "P4C2T4_s57-D9_Cecum-DNA"
          ],
          [
           "P4C2T4_s59-E4_Cecum-DNA"
          ],
          [
           "P4C2T4_s59-E9_Cecum-DNA"
          ],
          [
           "P4C2T4_s61-F4_Cecum-DNA"
          ],
          [
           "P4C2T4_s61-F9_Cecum-DNA"
          ],
          [
           "P4C2T4_s65-G4_Pr.-Colon-DNA"
          ],
          [
           "P4C2T4_s65-G9_Pr.-Colon-DNA"
          ],
          [
           "P4C2T4_s67-H4_Pr.-Colon-DNA"
          ],
          [
           "P4C2T4_s67-H9_Pr.-Colon-DNA"
          ],
          [
           "P4C2T4_s69-B10_Pr.-Colon-DNA"
          ],
          [
           "P4C2T4_s69-B5_Pr.-Colon-DNA"
          ],
          [
           "P4C2T4_s7-D1_stool-DNA"
          ],
          [
           "P4C2T4_s7-D6_stool-DNA"
          ],
          [
           "P4C2T4_s71-C10_Pr.-Colon-DNA"
          ],
          [
           "P4C2T4_s71-C5_Pr.-Colon-DNA"
          ],
          [
           "P4C2T4_s73-D10_Pr.-Colon-DNA"
          ],
          [
           "P4C2T4_s73-D5_Pr.-Colon-DNA"
          ],
          [
           "P4C2T4_s75-E10_Pr.-Colon-DNA"
          ],
          [
           "P4C2T4_s75-E5_Pr.-Colon-DNA"
          ],
          [
           "P4C2T4_s77-F10_Pr.-Colon-DNA"
          ],
          [
           "P4C2T4_s77-F5_Pr.-Colon-DNA"
          ],
          [
           "P4C2T4_s9-E1_stool-DNA"
          ],
          [
           "P4C2T4_s9-E6_stool-DNA"
          ],
          [
           "P4C2T5_s1-A1_stool-DNA"
          ],
          [
           "P4C2T5_s101-D7_Pr.-Colon-DNA"
          ],
          [
           "P4C2T5_s103-E7_Pr.-Colon-DNA"
          ],
          [
           "P4C2T5_s105-F7_Pr.-Colon-DNA"
          ],
          [
           "P4C2T5_s107-G7_Pr.-Colon-DNA"
          ],
          [
           "P4C2T5_s109-H7_Pr.-Colon-DNA"
          ],
          [
           "P4C2T5_s11-F1_stool-DNA"
          ],
          [
           "P4C2T5_s111-A8_Pr.-Colon-DNA"
          ],
          [
           "P4C2T5_s113-B8_Pr.-Colon-DNA"
          ],
          [
           "P4C2T5_s115-C8_Pr.-Colon-DNA"
          ],
          [
           "P4C2T5_s117-D8_Pr.-Colon-DNA"
          ],
          [
           "P4C2T5_s119-E8_Pr.-Colon-DNA"
          ],
          [
           "P4C2T5_s13-G1_stool-DNA"
          ],
          [
           "P4C2T5_s15-H1_stool-DNA"
          ],
          [
           "P4C2T5_s17-A2_stool-DNA"
          ],
          [
           "P4C2T5_s19-B2_stool-DNA"
          ],
          [
           "P4C2T5_s21-C2_stool-DNA"
          ],
          [
           "P4C2T5_s23-D2_stool-DNA"
          ],
          [
           "P4C2T5_s25-E2_stool-DNA"
          ],
          [
           "P4C2T5_s27-F2_stool-DNA"
          ],
          [
           "P4C2T5_s29-G2_stool-DNA"
          ],
          [
           "P4C2T5_s3-B1_stool-DNA"
          ],
          [
           "P4C2T5_s31-H2_stool-DNA"
          ],
          [
           "P4C2T5_s33-A3_stool-DNA"
          ],
          [
           "P4C2T5_s35-B3_stool-DNA"
          ],
          [
           "P4C2T5_s37-C3_stool-DNA"
          ],
          [
           "P4C2T5_s39-D3_stool-DNA"
          ],
          [
           "P4C2T5_s41-E3_stool-DNA"
          ],
          [
           "P4C2T5_s43-G3_stool-DNA"
          ],
          [
           "P4C2T5_s45-H3_stool-DNA"
          ],
          [
           "P4C2T5_s47-A4_stool-DNA"
          ],
          [
           "P4C2T5_s49-B4_SI-DNA"
          ],
          [
           "P4C2T5_s5-C1_stool-DNA"
          ],
          [
           "P4C2T5_s51-C4_SI-DNA"
          ],
          [
           "P4C2T5_s53-D4_SI-DNA"
          ],
          [
           "P4C2T5_s55-E4_SI-DNA"
          ],
          [
           "P4C2T5_s57-F4_SI-DNA"
          ],
          [
           "P4C2T5_s59-G4_SI-DNA"
          ],
          [
           "P4C2T5_s61-H4_SI-DNA"
          ],
          [
           "P4C2T5_s63-A5_SI-DNA"
          ],
          [
           "P4C2T5_s65-B5_SI-DNA"
          ],
          [
           "P4C2T5_s67-C5_SI-DNA"
          ],
          [
           "P4C2T5_s69-D5_SI-DNA"
          ],
          [
           "P4C2T5_s7-D1_stool-DNA"
          ],
          [
           "P4C2T5_s71-E5_SI-DNA"
          ],
          [
           "P4C2T5_s73-F5_Cecum-DNA"
          ],
          [
           "P4C2T5_s75-G5_Cecum-DNA"
          ],
          [
           "P4C2T5_s77-H5_Cecum-DNA"
          ],
          [
           "P4C2T5_s79-A6_Cecum-DNA"
          ],
          [
           "P4C2T5_s81-B6_Cecum-DNA"
          ],
          [
           "P4C2T5_s83-C6_Cecum-DNA"
          ],
          [
           "P4C2T5_s85-D6_Cecum-DNA"
          ],
          [
           "P4C2T5_s87-E6_Cecum-DNA"
          ],
          [
           "P4C2T5_s89-F6_Cecum-DNA"
          ],
          [
           "P4C2T5_s9-E1_stool-DNA"
          ],
          [
           "P4C2T5_s91-G6_Cecum-DNA"
          ],
          [
           "P4C2T5_s93-H6_Cecum-DNA"
          ],
          [
           "P4C2T5_s95-A7_Cecum-DNA"
          ],
          [
           "P4C2T5_s97-B7_Pr.-Colon-DNA"
          ],
          [
           "P4C2T5_s99-C7_Pr.-Colon-DNA"
          ]
         ],
         "hovertemplate": "strain=ST4<br>type=total_count<br>sample_type=%{x}<br>value=%{y}<br>sample=%{customdata[0]}<extra></extra>",
         "legendgroup": "ST4",
         "marker": {
          "color": "#2CA02C"
         },
         "name": "ST4",
         "notched": false,
         "offsetgroup": "ST4",
         "orientation": "v",
         "showlegend": true,
         "type": "box",
         "x": [
          "gavage",
          "gavage",
          "gavage",
          "gavage",
          "gavage",
          "gavage",
          "negative_control",
          "negative_control",
          "negative_control",
          "negative_control",
          "negative_control",
          "negative_control",
          "negative_control",
          "sample",
          "sample",
          "sample",
          "sample",
          "sample",
          "sample",
          "sample",
          "sample",
          "sample",
          "sample",
          "sample",
          "sample",
          "sample",
          "sample",
          "sample",
          "sample",
          "sample",
          "sample",
          "sample",
          "sample",
          "sample",
          "sample",
          "sample",
          "sample",
          "sample",
          "sample",
          "sample",
          "sample",
          "sample",
          "sample",
          "sample",
          "sample",
          "sample",
          "sample",
          "sample",
          "sample",
          "sample",
          "sample",
          "sample",
          "sample",
          "sample",
          "sample",
          "sample",
          "sample",
          "sample",
          "sample",
          "sample",
          "sample",
          "sample",
          "sample",
          "sample",
          "sample",
          "sample",
          "sample",
          "sample",
          "sample",
          "sample",
          "sample",
          "sample",
          "sample",
          "sample",
          "sample",
          "sample",
          "sample",
          "sample",
          "sample",
          "sample",
          "sample",
          "sample",
          "sample",
          "sample",
          "sample",
          "sample",
          "sample",
          "sample",
          "sample",
          "sample",
          "sample",
          "sample",
          "sample",
          "sample",
          "sample",
          "sample",
          "sample",
          "sample",
          "sample",
          "sample",
          "sample",
          "sample",
          "sample",
          "sample",
          "sample",
          "sample",
          "sample",
          "sample",
          "sample",
          "sample",
          "sample",
          "sample",
          "sample",
          "sample",
          "sample",
          "sample",
          "sample",
          "sample",
          "sample",
          "sample",
          "sample",
          "sample",
          "sample",
          "sample",
          "sample",
          "sample",
          "sample",
          "sample",
          "sample",
          "sample",
          "sample",
          "sample",
          "sample",
          "sample",
          "sample",
          "sample",
          "sample",
          "sample",
          "sample",
          "sample",
          "sample",
          "sample",
          "sample"
         ],
         "x0": " ",
         "xaxis": "x2",
         "y": {
          "bdata": "AAAAAB08R0EAAAAA9W4+QQAAAIDk9EZBAAAAgOS1SEEAAACArVFkQQAAAKjmRYFBAAAAACAOAUEAAAAAAMBYQAAAAAAAADNAAAAAAAB4gUAAAAAAAEBUQAAAAAAAKMBAAAAAAICewkAAAAAAAFB6QAAAAAAAaIRAAAAAAABgmUAAAAAAAOBsQAAAAADAlONAAAAAAABAV0AAAADAr9xeQQAAAABaNFdBAAAA4udUokEAAACsyxeiQQAAAABQZ0NBAAAAAAD4o0AAAAAAAFBxQAAAAAAAYGxAAAAAAABMmUAAAAAAAKqnQAAAAACAX+NAAAAAAIAg50AAAAAAAAByQAAAAAAAAGNAAAAAAAAztkAAAAAAAPy9QAAAAAAw1/tAAAAAAGDX9EAAAAAAbKccQQAAAAB07iJBAAAAAABWrUAAAAAAAIiPQAAAAAAAQKBAAAAAAADQlkAAAAAAAHB4QAAAAAAAaINAAAAAAACQlEAAAAAAALCSQAAAAAAYUQdBAAAAAGDqAEEAAABA54Z+QQAAAMApwIRBAAAAAACAV0AAAAAAAMBqQAAAANDzy5BBAAAAXEgCkEEAAAAAAA++QAAAAAAAWqxAAAAAAAC8kUAAAAAAAECOQAAAAAAA5JdAAAAAAAAkkUAAAAAAgFkCQQAAAABAx9NAAAAAAAAmsUAAAAAAADO4QAAAAIB8bFtBAAAAANBqUkEAAACAmuZ8QQAAAEgJEJhBAAAAAAAYuEAAAAAAAM22QAAAAAAACINAAAAAAAAAKEAAAAAAQIfkQAAAAABgm+JAAAAAAAAqsUAAAAAAAHKjQAAAAAAA/7BAAAAAAABKzUAAAAAAACiaQAAAAAAAeIZAAAAAAACYiUAAAAAAAMyTQAAAAAAATqhAAAAAAAABy0AAAACcsyqYQQAAAAC0+kRBAAAAa1xvsUEAAABvGAW4QQAAAADoHwRBAAAAvFWixEEAAAAkaJeUQQAAAABgVOtAAAAAAAAMwEAAAAAAXg05QQAAAEAGOVhBAAAAADHESkEAAAAAwK/pQAAAAAD1QTJBAAAAAAAWpEAAAAAA2K8mQQAAAADIUyFBAAAAAIA9wUAAAAAAVr8sQQAAAAAA6JZAAAAAwFdicEEAAAB1xDG1QQAAAOOKA7BBAAAAYv9brUEAAADZe8ezQQAAAB6OV9VBAAAAAMQsEUEAAAAAgNv8QAAAABRj9JNBAAAAAADd1kAAAAAAZgYjQQAAAIBwb01BAAAAAIB2wUAAAAAAWC0CQQAAAIAr+WVBAAAAAIEON0EAAACC17TAQQAAgMuOh8pBAAAAYIy1j0EAAAAgzetqQQAAAAC4/hJBAAAAAIBW9EAAAACAJf1mQQAAAAAgNeRAAAAAAAAqw0AAAAAAAAilQAAAAJRuNpVBAAAAKTbgv0EAAADg6B+RQQAAAFSasJVBAAAAZgEo50EAAAAWF+m6QQAAAACAXwRBAAAAwofaoUEAAAAAgM/JQAAAgIg6jMtBAAAAYJwqfEEAAAAAAPHEQA==",
          "dtype": "f8"
         },
         "y0": " ",
         "yaxis": "y2"
        },
        {
         "alignmentgroup": "True",
         "boxpoints": "all",
         "customdata": [
          [
           "P4C2T4_s81-B3_Gavage-DNA"
          ],
          [
           "P4C2T4_s81-B8_Gavage-DNA"
          ],
          [
           "P4C2T4_s82-A10_Gavage-DNA"
          ],
          [
           "P4C2T4_s82-A5_Gavage-DNA"
          ],
          [
           "P4C2T5_s121-F8_Gavage-DNA"
          ],
          [
           "P4C2T5_s122-G8_Gavage-DNA"
          ],
          [
           "NTC_F3_NTC"
          ],
          [
           "NTC_G10_NTC"
          ],
          [
           "NTC_G5_NTC"
          ],
          [
           "NTC_H10_NTC"
          ],
          [
           "NTC_H5_NTC"
          ],
          [
           "WATER_A2_WATER"
          ],
          [
           "WATER_A7_WATER"
          ],
          [
           "P4C2T4_s1-A1_stool-DNA"
          ],
          [
           "P4C2T4_s1-A6_stool-DNA"
          ],
          [
           "P4C2T4_s11-F1_stool-DNA"
          ],
          [
           "P4C2T4_s11-F6_stool-DNA"
          ],
          [
           "P4C2T4_s13-G1_stool-DNA"
          ],
          [
           "P4C2T4_s13-G6_stool-DNA"
          ],
          [
           "P4C2T4_s17-H1_stool-DNA"
          ],
          [
           "P4C2T4_s17-H6_stool-DNA"
          ],
          [
           "P4C2T4_s19-B2_stool-DNA"
          ],
          [
           "P4C2T4_s19-B7_stool-DNA"
          ],
          [
           "P4C2T4_s21-C2_stool-DNA"
          ],
          [
           "P4C2T4_s21-C7_stool-DNA"
          ],
          [
           "P4C2T4_s23-D2_stool-DNA"
          ],
          [
           "P4C2T4_s23-D7_stool-DNA"
          ],
          [
           "P4C2T4_s25-E2_stool-DNA"
          ],
          [
           "P4C2T4_s25-E7_stool-DNA"
          ],
          [
           "P4C2T4_s27-F2_stool-DNA"
          ],
          [
           "P4C2T4_s27-F7_stool-DNA"
          ],
          [
           "P4C2T4_s29-G2_stool-DNA"
          ],
          [
           "P4C2T4_s29-G7_stool-DNA"
          ],
          [
           "P4C2T4_s3-B1_stool-DNA"
          ],
          [
           "P4C2T4_s3-B6_stool-DNA"
          ],
          [
           "P4C2T4_s33-H2_SI-DNA"
          ],
          [
           "P4C2T4_s33-H7_SI-DNA"
          ],
          [
           "P4C2T4_s35-A3_SI-DNA"
          ],
          [
           "P4C2T4_s35-A8_SI-DNA"
          ],
          [
           "P4C2T4_s37-C3_SI-DNA"
          ],
          [
           "P4C2T4_s37-C8_SI-DNA"
          ],
          [
           "P4C2T4_s39-D3_SI-DNA"
          ],
          [
           "P4C2T4_s39-D8_SI-DNA"
          ],
          [
           "P4C2T4_s41-E3_SI-DNA"
          ],
          [
           "P4C2T4_s41-E8_SI-DNA"
          ],
          [
           "P4C2T4_s43-F3_SI-DNA"
          ],
          [
           "P4C2T4_s43-F8_SI-DNA"
          ],
          [
           "P4C2T4_s45-G3_SI-DNA"
          ],
          [
           "P4C2T4_s45-G8_SI-DNA"
          ],
          [
           "P4C2T4_s49-H3_Cecum-DNA"
          ],
          [
           "P4C2T4_s49-H8_Cecum-DNA"
          ],
          [
           "P4C2T4_s5-C1_stool-DNA"
          ],
          [
           "P4C2T4_s5-C6_stool-DNA"
          ],
          [
           "P4C2T4_s51-A4_Cecum-DNA"
          ],
          [
           "P4C2T4_s51-A9_Cecum-DNA"
          ],
          [
           "P4C2T4_s53-B4_Cecum-DNA"
          ],
          [
           "P4C2T4_s53-B9_Cecum-DNA"
          ],
          [
           "P4C2T4_s55-C4_Cecum-DNA"
          ],
          [
           "P4C2T4_s55-C9_Cecum-DNA"
          ],
          [
           "P4C2T4_s57-D4_Cecum-DNA"
          ],
          [
           "P4C2T4_s57-D9_Cecum-DNA"
          ],
          [
           "P4C2T4_s59-E4_Cecum-DNA"
          ],
          [
           "P4C2T4_s59-E9_Cecum-DNA"
          ],
          [
           "P4C2T4_s61-F4_Cecum-DNA"
          ],
          [
           "P4C2T4_s61-F9_Cecum-DNA"
          ],
          [
           "P4C2T4_s65-G4_Pr.-Colon-DNA"
          ],
          [
           "P4C2T4_s65-G9_Pr.-Colon-DNA"
          ],
          [
           "P4C2T4_s67-H4_Pr.-Colon-DNA"
          ],
          [
           "P4C2T4_s67-H9_Pr.-Colon-DNA"
          ],
          [
           "P4C2T4_s69-B10_Pr.-Colon-DNA"
          ],
          [
           "P4C2T4_s69-B5_Pr.-Colon-DNA"
          ],
          [
           "P4C2T4_s7-D1_stool-DNA"
          ],
          [
           "P4C2T4_s7-D6_stool-DNA"
          ],
          [
           "P4C2T4_s71-C10_Pr.-Colon-DNA"
          ],
          [
           "P4C2T4_s71-C5_Pr.-Colon-DNA"
          ],
          [
           "P4C2T4_s73-D10_Pr.-Colon-DNA"
          ],
          [
           "P4C2T4_s73-D5_Pr.-Colon-DNA"
          ],
          [
           "P4C2T4_s75-E10_Pr.-Colon-DNA"
          ],
          [
           "P4C2T4_s75-E5_Pr.-Colon-DNA"
          ],
          [
           "P4C2T4_s77-F10_Pr.-Colon-DNA"
          ],
          [
           "P4C2T4_s77-F5_Pr.-Colon-DNA"
          ],
          [
           "P4C2T4_s9-E1_stool-DNA"
          ],
          [
           "P4C2T4_s9-E6_stool-DNA"
          ],
          [
           "P4C2T5_s1-A1_stool-DNA"
          ],
          [
           "P4C2T5_s101-D7_Pr.-Colon-DNA"
          ],
          [
           "P4C2T5_s103-E7_Pr.-Colon-DNA"
          ],
          [
           "P4C2T5_s105-F7_Pr.-Colon-DNA"
          ],
          [
           "P4C2T5_s107-G7_Pr.-Colon-DNA"
          ],
          [
           "P4C2T5_s109-H7_Pr.-Colon-DNA"
          ],
          [
           "P4C2T5_s11-F1_stool-DNA"
          ],
          [
           "P4C2T5_s111-A8_Pr.-Colon-DNA"
          ],
          [
           "P4C2T5_s113-B8_Pr.-Colon-DNA"
          ],
          [
           "P4C2T5_s115-C8_Pr.-Colon-DNA"
          ],
          [
           "P4C2T5_s117-D8_Pr.-Colon-DNA"
          ],
          [
           "P4C2T5_s119-E8_Pr.-Colon-DNA"
          ],
          [
           "P4C2T5_s13-G1_stool-DNA"
          ],
          [
           "P4C2T5_s15-H1_stool-DNA"
          ],
          [
           "P4C2T5_s17-A2_stool-DNA"
          ],
          [
           "P4C2T5_s19-B2_stool-DNA"
          ],
          [
           "P4C2T5_s21-C2_stool-DNA"
          ],
          [
           "P4C2T5_s23-D2_stool-DNA"
          ],
          [
           "P4C2T5_s25-E2_stool-DNA"
          ],
          [
           "P4C2T5_s27-F2_stool-DNA"
          ],
          [
           "P4C2T5_s29-G2_stool-DNA"
          ],
          [
           "P4C2T5_s3-B1_stool-DNA"
          ],
          [
           "P4C2T5_s31-H2_stool-DNA"
          ],
          [
           "P4C2T5_s33-A3_stool-DNA"
          ],
          [
           "P4C2T5_s35-B3_stool-DNA"
          ],
          [
           "P4C2T5_s37-C3_stool-DNA"
          ],
          [
           "P4C2T5_s39-D3_stool-DNA"
          ],
          [
           "P4C2T5_s41-E3_stool-DNA"
          ],
          [
           "P4C2T5_s43-G3_stool-DNA"
          ],
          [
           "P4C2T5_s45-H3_stool-DNA"
          ],
          [
           "P4C2T5_s47-A4_stool-DNA"
          ],
          [
           "P4C2T5_s49-B4_SI-DNA"
          ],
          [
           "P4C2T5_s5-C1_stool-DNA"
          ],
          [
           "P4C2T5_s51-C4_SI-DNA"
          ],
          [
           "P4C2T5_s53-D4_SI-DNA"
          ],
          [
           "P4C2T5_s55-E4_SI-DNA"
          ],
          [
           "P4C2T5_s57-F4_SI-DNA"
          ],
          [
           "P4C2T5_s59-G4_SI-DNA"
          ],
          [
           "P4C2T5_s61-H4_SI-DNA"
          ],
          [
           "P4C2T5_s63-A5_SI-DNA"
          ],
          [
           "P4C2T5_s65-B5_SI-DNA"
          ],
          [
           "P4C2T5_s67-C5_SI-DNA"
          ],
          [
           "P4C2T5_s69-D5_SI-DNA"
          ],
          [
           "P4C2T5_s7-D1_stool-DNA"
          ],
          [
           "P4C2T5_s71-E5_SI-DNA"
          ],
          [
           "P4C2T5_s73-F5_Cecum-DNA"
          ],
          [
           "P4C2T5_s75-G5_Cecum-DNA"
          ],
          [
           "P4C2T5_s77-H5_Cecum-DNA"
          ],
          [
           "P4C2T5_s79-A6_Cecum-DNA"
          ],
          [
           "P4C2T5_s81-B6_Cecum-DNA"
          ],
          [
           "P4C2T5_s83-C6_Cecum-DNA"
          ],
          [
           "P4C2T5_s85-D6_Cecum-DNA"
          ],
          [
           "P4C2T5_s87-E6_Cecum-DNA"
          ],
          [
           "P4C2T5_s89-F6_Cecum-DNA"
          ],
          [
           "P4C2T5_s9-E1_stool-DNA"
          ],
          [
           "P4C2T5_s91-G6_Cecum-DNA"
          ],
          [
           "P4C2T5_s93-H6_Cecum-DNA"
          ],
          [
           "P4C2T5_s95-A7_Cecum-DNA"
          ],
          [
           "P4C2T5_s97-B7_Pr.-Colon-DNA"
          ],
          [
           "P4C2T5_s99-C7_Pr.-Colon-DNA"
          ]
         ],
         "hovertemplate": "strain=ST4<br>type=total_unique_umi<br>sample_type=%{x}<br>value=%{y}<br>sample=%{customdata[0]}<extra></extra>",
         "legendgroup": "ST4",
         "marker": {
          "color": "#2CA02C"
         },
         "name": "ST4",
         "notched": false,
         "offsetgroup": "ST4",
         "orientation": "v",
         "showlegend": false,
         "type": "box",
         "x": [
          "gavage",
          "gavage",
          "gavage",
          "gavage",
          "gavage",
          "gavage",
          "negative_control",
          "negative_control",
          "negative_control",
          "negative_control",
          "negative_control",
          "negative_control",
          "negative_control",
          "sample",
          "sample",
          "sample",
          "sample",
          "sample",
          "sample",
          "sample",
          "sample",
          "sample",
          "sample",
          "sample",
          "sample",
          "sample",
          "sample",
          "sample",
          "sample",
          "sample",
          "sample",
          "sample",
          "sample",
          "sample",
          "sample",
          "sample",
          "sample",
          "sample",
          "sample",
          "sample",
          "sample",
          "sample",
          "sample",
          "sample",
          "sample",
          "sample",
          "sample",
          "sample",
          "sample",
          "sample",
          "sample",
          "sample",
          "sample",
          "sample",
          "sample",
          "sample",
          "sample",
          "sample",
          "sample",
          "sample",
          "sample",
          "sample",
          "sample",
          "sample",
          "sample",
          "sample",
          "sample",
          "sample",
          "sample",
          "sample",
          "sample",
          "sample",
          "sample",
          "sample",
          "sample",
          "sample",
          "sample",
          "sample",
          "sample",
          "sample",
          "sample",
          "sample",
          "sample",
          "sample",
          "sample",
          "sample",
          "sample",
          "sample",
          "sample",
          "sample",
          "sample",
          "sample",
          "sample",
          "sample",
          "sample",
          "sample",
          "sample",
          "sample",
          "sample",
          "sample",
          "sample",
          "sample",
          "sample",
          "sample",
          "sample",
          "sample",
          "sample",
          "sample",
          "sample",
          "sample",
          "sample",
          "sample",
          "sample",
          "sample",
          "sample",
          "sample",
          "sample",
          "sample",
          "sample",
          "sample",
          "sample",
          "sample",
          "sample",
          "sample",
          "sample",
          "sample",
          "sample",
          "sample",
          "sample",
          "sample",
          "sample",
          "sample",
          "sample",
          "sample",
          "sample",
          "sample",
          "sample",
          "sample",
          "sample",
          "sample",
          "sample",
          "sample",
          "sample"
         ],
         "x0": " ",
         "xaxis": "x",
         "y": {
          "bdata": "AAAAAMBo30AAAAAAYDDgQAAAAABAP95AAAAAACAZ4EAAAAAAIDvyQAAAAABAgO9AAAAAAIAwwkAAAAAAAADwPwAAAAAAAPA/AAAAAABwdUAAAAAAAAAIQAAAAAAAAF1AAAAAAABAYEAAAAAAAAAcQAAAAAAAACpAAAAAAAAAOUAAAAAAAAAsQAAAAAAAqI1AAAAAAAAAREAAAAAAAAm+QAAAAAAAQb5AAAAAAAB60EAAAAAAwE7UQAAAAAAA3JFAAAAAAACAVUAAAAAAAAAsQAAAAAAAAChAAAAAAACIj0AAAAAAAAiTQAAAAAAAQFtAAAAAAADAZUAAAAAAAAAsQAAAAAAAABxAAAAAAACgYkAAAAAAAEBiQAAAAAAAMqJAAAAAAAA8oUAAAAAAAG+6QAAAAAAAYblAAAAAAACAS0AAAAAAAAA7QAAAAAAAgEpAAAAAAAAAREAAAAAAAAA+QAAAAAAAADRAAAAAAAAANUAAAAAAAAA0QAAAAAAA2JpAAAAAAABwmUAAAAAAgFLDQAAAAAAAOcNAAAAAAAAAGEAAAAAAAAAmQAAAAAAAk9BAAAAAAMDM0EAAAAAAAFBzQAAAAAAAYGRAAAAAAACATUAAAAAAAMBRQAAAAAAAoHhAAAAAAAAAY0AAAAAAAKB7QAAAAAAAAGBAAAAAAACgd0AAAAAAAGB3QAAAAAAAP7hAAAAAAAD4t0AAAAAAAFfQQAAAAAAACtBAAAAAAAAAbUAAAAAAACBsQAAAAAAAACBAAAAAAAAAIEAAAAAAABifQAAAAAAAKJ5AAAAAAABAZEAAAAAAAEBbQAAAAAAAgGJAAAAAAACAZUAAAAAAAIBOQAAAAAAAAEVAAAAAAAAAKEAAAAAAAAAyQAAAAAAAMJRAAAAAAAAUkEAAAAAAgJPNQAAAAAAAM71AAAAAAID92EAAAAAAANXVQAAAAAAAY7BAAAAAAIAw4UAAAAAAACbXQAAAAAAAUqpAAAAAAADQg0AAAAAAAL+7QAAAAAAAFqtAAAAAAAAKqkAAAAAAAK6zQAAAAAAA1LFAAAAAAADQf0AAAAAAACGzQAAAAAAABbBAAAAAAADMsEAAAAAAANKxQAAAAAAA7JBAAAAAAAAYwEAAAAAAIGHgQAAAAADAt9hAAAAAAAD+3EAAAAAAwHzaQAAAAABAjdRAAAAAAAAirkAAAAAAACyhQAAAAAAAmMRAAAAAAADUkEAAAAAAABatQAAAAAAAGrlAAAAAAABGo0AAAAAAANm6QAAAAABAr9xAAAAAAADZvEAAAAAAQELbQAAAAADAYN5AAAAAAACzzEAAAAAAAIu8QAAAAAAAwKRAAAAAAAAVsEAAAAAAACS2QAAAAAAAJJZAAAAAAAAwgUAAAAAAAPyYQAAAAABAY9BAAAAAAMDA3kAAAAAAQBbbQAAAAACAfNxAAAAAAACY3kAAAAAAQIjYQAAAAAAAvK1AAAAAAECL0EAAAAAAAKKnQAAAAACAkcZAAAAAAAA+vkAAAAAAADiaQA==",
          "dtype": "f8"
         },
         "y0": " ",
         "yaxis": "y"
        },
        {
         "alignmentgroup": "True",
         "boxpoints": "all",
         "customdata": [
          [
           "P4C2T4_s81-B3_Gavage-DNA"
          ],
          [
           "P4C2T4_s81-B8_Gavage-DNA"
          ],
          [
           "P4C2T4_s82-A10_Gavage-DNA"
          ],
          [
           "P4C2T4_s82-A5_Gavage-DNA"
          ],
          [
           "P4C2T5_s121-F8_Gavage-DNA"
          ],
          [
           "P4C2T5_s122-G8_Gavage-DNA"
          ],
          [
           "NTC_F3_NTC"
          ],
          [
           "NTC_G10_NTC"
          ],
          [
           "NTC_G5_NTC"
          ],
          [
           "NTC_H10_NTC"
          ],
          [
           "NTC_H5_NTC"
          ],
          [
           "WATER_A2_WATER"
          ],
          [
           "WATER_A7_WATER"
          ],
          [
           "P4C2T4_s1-A1_stool-DNA"
          ],
          [
           "P4C2T4_s1-A6_stool-DNA"
          ],
          [
           "P4C2T4_s11-F1_stool-DNA"
          ],
          [
           "P4C2T4_s11-F6_stool-DNA"
          ],
          [
           "P4C2T4_s13-G1_stool-DNA"
          ],
          [
           "P4C2T4_s13-G6_stool-DNA"
          ],
          [
           "P4C2T4_s17-H1_stool-DNA"
          ],
          [
           "P4C2T4_s17-H6_stool-DNA"
          ],
          [
           "P4C2T4_s19-B2_stool-DNA"
          ],
          [
           "P4C2T4_s19-B7_stool-DNA"
          ],
          [
           "P4C2T4_s21-C2_stool-DNA"
          ],
          [
           "P4C2T4_s21-C7_stool-DNA"
          ],
          [
           "P4C2T4_s23-D2_stool-DNA"
          ],
          [
           "P4C2T4_s23-D7_stool-DNA"
          ],
          [
           "P4C2T4_s25-E2_stool-DNA"
          ],
          [
           "P4C2T4_s25-E7_stool-DNA"
          ],
          [
           "P4C2T4_s27-F2_stool-DNA"
          ],
          [
           "P4C2T4_s27-F7_stool-DNA"
          ],
          [
           "P4C2T4_s29-G2_stool-DNA"
          ],
          [
           "P4C2T4_s29-G7_stool-DNA"
          ],
          [
           "P4C2T4_s3-B1_stool-DNA"
          ],
          [
           "P4C2T4_s3-B6_stool-DNA"
          ],
          [
           "P4C2T4_s33-H2_SI-DNA"
          ],
          [
           "P4C2T4_s33-H7_SI-DNA"
          ],
          [
           "P4C2T4_s35-A3_SI-DNA"
          ],
          [
           "P4C2T4_s35-A8_SI-DNA"
          ],
          [
           "P4C2T4_s37-C3_SI-DNA"
          ],
          [
           "P4C2T4_s37-C8_SI-DNA"
          ],
          [
           "P4C2T4_s39-D3_SI-DNA"
          ],
          [
           "P4C2T4_s39-D8_SI-DNA"
          ],
          [
           "P4C2T4_s41-E3_SI-DNA"
          ],
          [
           "P4C2T4_s41-E8_SI-DNA"
          ],
          [
           "P4C2T4_s43-F3_SI-DNA"
          ],
          [
           "P4C2T4_s43-F8_SI-DNA"
          ],
          [
           "P4C2T4_s45-G3_SI-DNA"
          ],
          [
           "P4C2T4_s45-G8_SI-DNA"
          ],
          [
           "P4C2T4_s49-H3_Cecum-DNA"
          ],
          [
           "P4C2T4_s49-H8_Cecum-DNA"
          ],
          [
           "P4C2T4_s5-C1_stool-DNA"
          ],
          [
           "P4C2T4_s5-C6_stool-DNA"
          ],
          [
           "P4C2T4_s51-A4_Cecum-DNA"
          ],
          [
           "P4C2T4_s51-A9_Cecum-DNA"
          ],
          [
           "P4C2T4_s53-B4_Cecum-DNA"
          ],
          [
           "P4C2T4_s53-B9_Cecum-DNA"
          ],
          [
           "P4C2T4_s55-C4_Cecum-DNA"
          ],
          [
           "P4C2T4_s55-C9_Cecum-DNA"
          ],
          [
           "P4C2T4_s57-D4_Cecum-DNA"
          ],
          [
           "P4C2T4_s57-D9_Cecum-DNA"
          ],
          [
           "P4C2T4_s59-E4_Cecum-DNA"
          ],
          [
           "P4C2T4_s59-E9_Cecum-DNA"
          ],
          [
           "P4C2T4_s61-F4_Cecum-DNA"
          ],
          [
           "P4C2T4_s61-F9_Cecum-DNA"
          ],
          [
           "P4C2T4_s65-G4_Pr.-Colon-DNA"
          ],
          [
           "P4C2T4_s65-G9_Pr.-Colon-DNA"
          ],
          [
           "P4C2T4_s67-H4_Pr.-Colon-DNA"
          ],
          [
           "P4C2T4_s67-H9_Pr.-Colon-DNA"
          ],
          [
           "P4C2T4_s69-B10_Pr.-Colon-DNA"
          ],
          [
           "P4C2T4_s69-B5_Pr.-Colon-DNA"
          ],
          [
           "P4C2T4_s7-D1_stool-DNA"
          ],
          [
           "P4C2T4_s7-D6_stool-DNA"
          ],
          [
           "P4C2T4_s71-C10_Pr.-Colon-DNA"
          ],
          [
           "P4C2T4_s71-C5_Pr.-Colon-DNA"
          ],
          [
           "P4C2T4_s73-D10_Pr.-Colon-DNA"
          ],
          [
           "P4C2T4_s73-D5_Pr.-Colon-DNA"
          ],
          [
           "P4C2T4_s75-E10_Pr.-Colon-DNA"
          ],
          [
           "P4C2T4_s75-E5_Pr.-Colon-DNA"
          ],
          [
           "P4C2T4_s77-F10_Pr.-Colon-DNA"
          ],
          [
           "P4C2T4_s77-F5_Pr.-Colon-DNA"
          ],
          [
           "P4C2T4_s9-E1_stool-DNA"
          ],
          [
           "P4C2T4_s9-E6_stool-DNA"
          ],
          [
           "P4C2T5_s1-A1_stool-DNA"
          ],
          [
           "P4C2T5_s101-D7_Pr.-Colon-DNA"
          ],
          [
           "P4C2T5_s103-E7_Pr.-Colon-DNA"
          ],
          [
           "P4C2T5_s105-F7_Pr.-Colon-DNA"
          ],
          [
           "P4C2T5_s107-G7_Pr.-Colon-DNA"
          ],
          [
           "P4C2T5_s109-H7_Pr.-Colon-DNA"
          ],
          [
           "P4C2T5_s11-F1_stool-DNA"
          ],
          [
           "P4C2T5_s111-A8_Pr.-Colon-DNA"
          ],
          [
           "P4C2T5_s113-B8_Pr.-Colon-DNA"
          ],
          [
           "P4C2T5_s115-C8_Pr.-Colon-DNA"
          ],
          [
           "P4C2T5_s117-D8_Pr.-Colon-DNA"
          ],
          [
           "P4C2T5_s119-E8_Pr.-Colon-DNA"
          ],
          [
           "P4C2T5_s13-G1_stool-DNA"
          ],
          [
           "P4C2T5_s15-H1_stool-DNA"
          ],
          [
           "P4C2T5_s17-A2_stool-DNA"
          ],
          [
           "P4C2T5_s19-B2_stool-DNA"
          ],
          [
           "P4C2T5_s21-C2_stool-DNA"
          ],
          [
           "P4C2T5_s23-D2_stool-DNA"
          ],
          [
           "P4C2T5_s25-E2_stool-DNA"
          ],
          [
           "P4C2T5_s27-F2_stool-DNA"
          ],
          [
           "P4C2T5_s29-G2_stool-DNA"
          ],
          [
           "P4C2T5_s3-B1_stool-DNA"
          ],
          [
           "P4C2T5_s31-H2_stool-DNA"
          ],
          [
           "P4C2T5_s33-A3_stool-DNA"
          ],
          [
           "P4C2T5_s35-B3_stool-DNA"
          ],
          [
           "P4C2T5_s37-C3_stool-DNA"
          ],
          [
           "P4C2T5_s39-D3_stool-DNA"
          ],
          [
           "P4C2T5_s41-E3_stool-DNA"
          ],
          [
           "P4C2T5_s43-G3_stool-DNA"
          ],
          [
           "P4C2T5_s45-H3_stool-DNA"
          ],
          [
           "P4C2T5_s47-A4_stool-DNA"
          ],
          [
           "P4C2T5_s49-B4_SI-DNA"
          ],
          [
           "P4C2T5_s5-C1_stool-DNA"
          ],
          [
           "P4C2T5_s51-C4_SI-DNA"
          ],
          [
           "P4C2T5_s53-D4_SI-DNA"
          ],
          [
           "P4C2T5_s55-E4_SI-DNA"
          ],
          [
           "P4C2T5_s57-F4_SI-DNA"
          ],
          [
           "P4C2T5_s59-G4_SI-DNA"
          ],
          [
           "P4C2T5_s61-H4_SI-DNA"
          ],
          [
           "P4C2T5_s63-A5_SI-DNA"
          ],
          [
           "P4C2T5_s65-B5_SI-DNA"
          ],
          [
           "P4C2T5_s67-C5_SI-DNA"
          ],
          [
           "P4C2T5_s69-D5_SI-DNA"
          ],
          [
           "P4C2T5_s7-D1_stool-DNA"
          ],
          [
           "P4C2T5_s71-E5_SI-DNA"
          ],
          [
           "P4C2T5_s73-F5_Cecum-DNA"
          ],
          [
           "P4C2T5_s75-G5_Cecum-DNA"
          ],
          [
           "P4C2T5_s77-H5_Cecum-DNA"
          ],
          [
           "P4C2T5_s79-A6_Cecum-DNA"
          ],
          [
           "P4C2T5_s81-B6_Cecum-DNA"
          ],
          [
           "P4C2T5_s83-C6_Cecum-DNA"
          ],
          [
           "P4C2T5_s85-D6_Cecum-DNA"
          ],
          [
           "P4C2T5_s87-E6_Cecum-DNA"
          ],
          [
           "P4C2T5_s89-F6_Cecum-DNA"
          ],
          [
           "P4C2T5_s9-E1_stool-DNA"
          ],
          [
           "P4C2T5_s91-G6_Cecum-DNA"
          ],
          [
           "P4C2T5_s93-H6_Cecum-DNA"
          ],
          [
           "P4C2T5_s95-A7_Cecum-DNA"
          ],
          [
           "P4C2T5_s97-B7_Pr.-Colon-DNA"
          ],
          [
           "P4C2T5_s99-C7_Pr.-Colon-DNA"
          ]
         ],
         "hovertemplate": "strain=ST5<br>type=total_count<br>sample_type=%{x}<br>value=%{y}<br>sample=%{customdata[0]}<extra></extra>",
         "legendgroup": "ST5",
         "marker": {
          "color": "#D62728"
         },
         "name": "ST5",
         "notched": false,
         "offsetgroup": "ST5",
         "orientation": "v",
         "showlegend": true,
         "type": "box",
         "x": [
          "gavage",
          "gavage",
          "gavage",
          "gavage",
          "gavage",
          "gavage",
          "negative_control",
          "negative_control",
          "negative_control",
          "negative_control",
          "negative_control",
          "negative_control",
          "negative_control",
          "sample",
          "sample",
          "sample",
          "sample",
          "sample",
          "sample",
          "sample",
          "sample",
          "sample",
          "sample",
          "sample",
          "sample",
          "sample",
          "sample",
          "sample",
          "sample",
          "sample",
          "sample",
          "sample",
          "sample",
          "sample",
          "sample",
          "sample",
          "sample",
          "sample",
          "sample",
          "sample",
          "sample",
          "sample",
          "sample",
          "sample",
          "sample",
          "sample",
          "sample",
          "sample",
          "sample",
          "sample",
          "sample",
          "sample",
          "sample",
          "sample",
          "sample",
          "sample",
          "sample",
          "sample",
          "sample",
          "sample",
          "sample",
          "sample",
          "sample",
          "sample",
          "sample",
          "sample",
          "sample",
          "sample",
          "sample",
          "sample",
          "sample",
          "sample",
          "sample",
          "sample",
          "sample",
          "sample",
          "sample",
          "sample",
          "sample",
          "sample",
          "sample",
          "sample",
          "sample",
          "sample",
          "sample",
          "sample",
          "sample",
          "sample",
          "sample",
          "sample",
          "sample",
          "sample",
          "sample",
          "sample",
          "sample",
          "sample",
          "sample",
          "sample",
          "sample",
          "sample",
          "sample",
          "sample",
          "sample",
          "sample",
          "sample",
          "sample",
          "sample",
          "sample",
          "sample",
          "sample",
          "sample",
          "sample",
          "sample",
          "sample",
          "sample",
          "sample",
          "sample",
          "sample",
          "sample",
          "sample",
          "sample",
          "sample",
          "sample",
          "sample",
          "sample",
          "sample",
          "sample",
          "sample",
          "sample",
          "sample",
          "sample",
          "sample",
          "sample",
          "sample",
          "sample",
          "sample",
          "sample",
          "sample",
          "sample",
          "sample",
          "sample",
          "sample",
          "sample"
         ],
         "x0": " ",
         "xaxis": "x2",
         "y": {
          "bdata": "AAAAwLv7WUEAAABABi9RQQAAAABgTl9BAAAA4MT3YEEAAACgt+R6QQAAAIBV6nFBAAAAAMC76EAAAAAAgJjKQAAAAACAzMBAAAAAAADc4kAAAAAAAGaxQAAAAAAgQuNAAAAAAIAi50AAAAAAIBTkQAAAAABgSOFAAAAAAEfRMEEAAAAAaDcOQQAAAAAOnCBBAAAAAJAwKkEAAABQ6O+KQQAAADBBOIRBAAAA4pEOpkEAAABcSB6lQQAAAIDFpk1BAAAAAADmrUAAAAAAAMXAQAAAAACAhMJAAAAAABB99EAAAAAA2OMIQQAAAACAD8RAAAAAAIC/z0AAAAAAADO9QAAAAAAANKxAAAAAAHDYBUEAAAAA+IgMQQAAAAB1CTVBAAAAAH6hL0EAAAAyVymnQQAAAI7TyK9BAAAAAJCTBEEAAAAAICLsQAAAAAAAzdJAAAAAAMBC0UAAAAAA4JbmQAAAAAAAxdZAAAAAAAA31EAAAAAAgOfaQAAAAAB65CtBAAAAAGrLIkEAAACwiQuWQQAAADA6qZ5BAAAAAEBu+UAAAAAAAHHtQAAAALDrvaRBAAAAYCPyo0EAAAAAADnkQAAAAADA7dZAAAAAAICc0kAAAAAAgL/EQAAAAACgNgJBAAAAANCh9kAAAAAAQPzUQAAAAAAA6qdAAAAAAIBJxUAAAAAAAH7QQAAAADCLMZtBAAAAjHTBkkEAAADQ01OIQQAAALrDiqRBAAAAAID+60AAAAAAQHPtQAAAAAAmcyBBAAAAABxgG0EAAAAAMHryQAAAAAAAVe9AAAAAACDy9kAAAAAAIAjoQAAAAAAAKbdAAAAAAIB/10AAAAAAANLJQAAAAAAAhbVAAAAAAAB90EAAAAAAQHPTQAAAAAAMZyhBAAAAAACNxUAAAICFPmDFQQAAAADiVUhBAAAA4FwQyUEAAAAAPGE1QQAAAEAmWlFBAAAAAJTTOkEAAAAAQNsRQQAAAACA4M9AAAAAAACOxEAAAAAAQDTRQAAAAKDh0qNBAAAAdNZGnEEAAACALyRFQQAAAGzYMqRBAAAAAEC670AAAADg991pQQAAAIBpdkZBAAAAAIirA0EAAACAQWBvQQAAAACU3B1BAAAADeQDuUEAAAAL4u7DQQAAgEwxwMVBAAAAAJRIHkEAAAAAyE0ZQQAAAABilFhBAAAAAAB8xEAAAAAAgLzQQAAAAAAATzRBAAAAAABtwEAAAAAi3xagQQAAAAAOik1BAAAAAGD54EAAAABw2w52QQAAANCyU3tBAAAA2Lmqv0EAAAAAXPI1QQAAAKD5omVBAAAAAC0cOUEAAABwQo12QQAAAAAAO99AAAAAgBKnRUEAAAAA6nkvQQAAAACAscxAAAAAAAA5v0AAAAAAAB+zQAAAQHgtVtBBAAAADXz1zEEAAAAqP6CgQQAAAADIwg5BAAAAgHWGbkEAAAAA9DVEQQAAAID6xkhBAAAAABl3RkEAAAAAgCTSQAAAAEBfYlpBAAAAyPbYgEEAAAAAIJL4QA==",
          "dtype": "f8"
         },
         "y0": " ",
         "yaxis": "y2"
        },
        {
         "alignmentgroup": "True",
         "boxpoints": "all",
         "customdata": [
          [
           "P4C2T4_s81-B3_Gavage-DNA"
          ],
          [
           "P4C2T4_s81-B8_Gavage-DNA"
          ],
          [
           "P4C2T4_s82-A10_Gavage-DNA"
          ],
          [
           "P4C2T4_s82-A5_Gavage-DNA"
          ],
          [
           "P4C2T5_s121-F8_Gavage-DNA"
          ],
          [
           "P4C2T5_s122-G8_Gavage-DNA"
          ],
          [
           "NTC_F3_NTC"
          ],
          [
           "NTC_G10_NTC"
          ],
          [
           "NTC_G5_NTC"
          ],
          [
           "NTC_H10_NTC"
          ],
          [
           "NTC_H5_NTC"
          ],
          [
           "WATER_A2_WATER"
          ],
          [
           "WATER_A7_WATER"
          ],
          [
           "P4C2T4_s1-A1_stool-DNA"
          ],
          [
           "P4C2T4_s1-A6_stool-DNA"
          ],
          [
           "P4C2T4_s11-F1_stool-DNA"
          ],
          [
           "P4C2T4_s11-F6_stool-DNA"
          ],
          [
           "P4C2T4_s13-G1_stool-DNA"
          ],
          [
           "P4C2T4_s13-G6_stool-DNA"
          ],
          [
           "P4C2T4_s17-H1_stool-DNA"
          ],
          [
           "P4C2T4_s17-H6_stool-DNA"
          ],
          [
           "P4C2T4_s19-B2_stool-DNA"
          ],
          [
           "P4C2T4_s19-B7_stool-DNA"
          ],
          [
           "P4C2T4_s21-C2_stool-DNA"
          ],
          [
           "P4C2T4_s21-C7_stool-DNA"
          ],
          [
           "P4C2T4_s23-D2_stool-DNA"
          ],
          [
           "P4C2T4_s23-D7_stool-DNA"
          ],
          [
           "P4C2T4_s25-E2_stool-DNA"
          ],
          [
           "P4C2T4_s25-E7_stool-DNA"
          ],
          [
           "P4C2T4_s27-F2_stool-DNA"
          ],
          [
           "P4C2T4_s27-F7_stool-DNA"
          ],
          [
           "P4C2T4_s29-G2_stool-DNA"
          ],
          [
           "P4C2T4_s29-G7_stool-DNA"
          ],
          [
           "P4C2T4_s3-B1_stool-DNA"
          ],
          [
           "P4C2T4_s3-B6_stool-DNA"
          ],
          [
           "P4C2T4_s33-H2_SI-DNA"
          ],
          [
           "P4C2T4_s33-H7_SI-DNA"
          ],
          [
           "P4C2T4_s35-A3_SI-DNA"
          ],
          [
           "P4C2T4_s35-A8_SI-DNA"
          ],
          [
           "P4C2T4_s37-C3_SI-DNA"
          ],
          [
           "P4C2T4_s37-C8_SI-DNA"
          ],
          [
           "P4C2T4_s39-D3_SI-DNA"
          ],
          [
           "P4C2T4_s39-D8_SI-DNA"
          ],
          [
           "P4C2T4_s41-E3_SI-DNA"
          ],
          [
           "P4C2T4_s41-E8_SI-DNA"
          ],
          [
           "P4C2T4_s43-F3_SI-DNA"
          ],
          [
           "P4C2T4_s43-F8_SI-DNA"
          ],
          [
           "P4C2T4_s45-G3_SI-DNA"
          ],
          [
           "P4C2T4_s45-G8_SI-DNA"
          ],
          [
           "P4C2T4_s49-H3_Cecum-DNA"
          ],
          [
           "P4C2T4_s49-H8_Cecum-DNA"
          ],
          [
           "P4C2T4_s5-C1_stool-DNA"
          ],
          [
           "P4C2T4_s5-C6_stool-DNA"
          ],
          [
           "P4C2T4_s51-A4_Cecum-DNA"
          ],
          [
           "P4C2T4_s51-A9_Cecum-DNA"
          ],
          [
           "P4C2T4_s53-B4_Cecum-DNA"
          ],
          [
           "P4C2T4_s53-B9_Cecum-DNA"
          ],
          [
           "P4C2T4_s55-C4_Cecum-DNA"
          ],
          [
           "P4C2T4_s55-C9_Cecum-DNA"
          ],
          [
           "P4C2T4_s57-D4_Cecum-DNA"
          ],
          [
           "P4C2T4_s57-D9_Cecum-DNA"
          ],
          [
           "P4C2T4_s59-E4_Cecum-DNA"
          ],
          [
           "P4C2T4_s59-E9_Cecum-DNA"
          ],
          [
           "P4C2T4_s61-F4_Cecum-DNA"
          ],
          [
           "P4C2T4_s61-F9_Cecum-DNA"
          ],
          [
           "P4C2T4_s65-G4_Pr.-Colon-DNA"
          ],
          [
           "P4C2T4_s65-G9_Pr.-Colon-DNA"
          ],
          [
           "P4C2T4_s67-H4_Pr.-Colon-DNA"
          ],
          [
           "P4C2T4_s67-H9_Pr.-Colon-DNA"
          ],
          [
           "P4C2T4_s69-B10_Pr.-Colon-DNA"
          ],
          [
           "P4C2T4_s69-B5_Pr.-Colon-DNA"
          ],
          [
           "P4C2T4_s7-D1_stool-DNA"
          ],
          [
           "P4C2T4_s7-D6_stool-DNA"
          ],
          [
           "P4C2T4_s71-C10_Pr.-Colon-DNA"
          ],
          [
           "P4C2T4_s71-C5_Pr.-Colon-DNA"
          ],
          [
           "P4C2T4_s73-D10_Pr.-Colon-DNA"
          ],
          [
           "P4C2T4_s73-D5_Pr.-Colon-DNA"
          ],
          [
           "P4C2T4_s75-E10_Pr.-Colon-DNA"
          ],
          [
           "P4C2T4_s75-E5_Pr.-Colon-DNA"
          ],
          [
           "P4C2T4_s77-F10_Pr.-Colon-DNA"
          ],
          [
           "P4C2T4_s77-F5_Pr.-Colon-DNA"
          ],
          [
           "P4C2T4_s9-E1_stool-DNA"
          ],
          [
           "P4C2T4_s9-E6_stool-DNA"
          ],
          [
           "P4C2T5_s1-A1_stool-DNA"
          ],
          [
           "P4C2T5_s101-D7_Pr.-Colon-DNA"
          ],
          [
           "P4C2T5_s103-E7_Pr.-Colon-DNA"
          ],
          [
           "P4C2T5_s105-F7_Pr.-Colon-DNA"
          ],
          [
           "P4C2T5_s107-G7_Pr.-Colon-DNA"
          ],
          [
           "P4C2T5_s109-H7_Pr.-Colon-DNA"
          ],
          [
           "P4C2T5_s11-F1_stool-DNA"
          ],
          [
           "P4C2T5_s111-A8_Pr.-Colon-DNA"
          ],
          [
           "P4C2T5_s113-B8_Pr.-Colon-DNA"
          ],
          [
           "P4C2T5_s115-C8_Pr.-Colon-DNA"
          ],
          [
           "P4C2T5_s117-D8_Pr.-Colon-DNA"
          ],
          [
           "P4C2T5_s119-E8_Pr.-Colon-DNA"
          ],
          [
           "P4C2T5_s13-G1_stool-DNA"
          ],
          [
           "P4C2T5_s15-H1_stool-DNA"
          ],
          [
           "P4C2T5_s17-A2_stool-DNA"
          ],
          [
           "P4C2T5_s19-B2_stool-DNA"
          ],
          [
           "P4C2T5_s21-C2_stool-DNA"
          ],
          [
           "P4C2T5_s23-D2_stool-DNA"
          ],
          [
           "P4C2T5_s25-E2_stool-DNA"
          ],
          [
           "P4C2T5_s27-F2_stool-DNA"
          ],
          [
           "P4C2T5_s29-G2_stool-DNA"
          ],
          [
           "P4C2T5_s3-B1_stool-DNA"
          ],
          [
           "P4C2T5_s31-H2_stool-DNA"
          ],
          [
           "P4C2T5_s33-A3_stool-DNA"
          ],
          [
           "P4C2T5_s35-B3_stool-DNA"
          ],
          [
           "P4C2T5_s37-C3_stool-DNA"
          ],
          [
           "P4C2T5_s39-D3_stool-DNA"
          ],
          [
           "P4C2T5_s41-E3_stool-DNA"
          ],
          [
           "P4C2T5_s43-G3_stool-DNA"
          ],
          [
           "P4C2T5_s45-H3_stool-DNA"
          ],
          [
           "P4C2T5_s47-A4_stool-DNA"
          ],
          [
           "P4C2T5_s49-B4_SI-DNA"
          ],
          [
           "P4C2T5_s5-C1_stool-DNA"
          ],
          [
           "P4C2T5_s51-C4_SI-DNA"
          ],
          [
           "P4C2T5_s53-D4_SI-DNA"
          ],
          [
           "P4C2T5_s55-E4_SI-DNA"
          ],
          [
           "P4C2T5_s57-F4_SI-DNA"
          ],
          [
           "P4C2T5_s59-G4_SI-DNA"
          ],
          [
           "P4C2T5_s61-H4_SI-DNA"
          ],
          [
           "P4C2T5_s63-A5_SI-DNA"
          ],
          [
           "P4C2T5_s65-B5_SI-DNA"
          ],
          [
           "P4C2T5_s67-C5_SI-DNA"
          ],
          [
           "P4C2T5_s69-D5_SI-DNA"
          ],
          [
           "P4C2T5_s7-D1_stool-DNA"
          ],
          [
           "P4C2T5_s71-E5_SI-DNA"
          ],
          [
           "P4C2T5_s73-F5_Cecum-DNA"
          ],
          [
           "P4C2T5_s75-G5_Cecum-DNA"
          ],
          [
           "P4C2T5_s77-H5_Cecum-DNA"
          ],
          [
           "P4C2T5_s79-A6_Cecum-DNA"
          ],
          [
           "P4C2T5_s81-B6_Cecum-DNA"
          ],
          [
           "P4C2T5_s83-C6_Cecum-DNA"
          ],
          [
           "P4C2T5_s85-D6_Cecum-DNA"
          ],
          [
           "P4C2T5_s87-E6_Cecum-DNA"
          ],
          [
           "P4C2T5_s89-F6_Cecum-DNA"
          ],
          [
           "P4C2T5_s9-E1_stool-DNA"
          ],
          [
           "P4C2T5_s91-G6_Cecum-DNA"
          ],
          [
           "P4C2T5_s93-H6_Cecum-DNA"
          ],
          [
           "P4C2T5_s95-A7_Cecum-DNA"
          ],
          [
           "P4C2T5_s97-B7_Pr.-Colon-DNA"
          ],
          [
           "P4C2T5_s99-C7_Pr.-Colon-DNA"
          ]
         ],
         "hovertemplate": "strain=ST5<br>type=total_unique_umi<br>sample_type=%{x}<br>value=%{y}<br>sample=%{customdata[0]}<extra></extra>",
         "legendgroup": "ST5",
         "marker": {
          "color": "#D62728"
         },
         "name": "ST5",
         "notched": false,
         "offsetgroup": "ST5",
         "orientation": "v",
         "showlegend": false,
         "type": "box",
         "x": [
          "gavage",
          "gavage",
          "gavage",
          "gavage",
          "gavage",
          "gavage",
          "negative_control",
          "negative_control",
          "negative_control",
          "negative_control",
          "negative_control",
          "negative_control",
          "negative_control",
          "sample",
          "sample",
          "sample",
          "sample",
          "sample",
          "sample",
          "sample",
          "sample",
          "sample",
          "sample",
          "sample",
          "sample",
          "sample",
          "sample",
          "sample",
          "sample",
          "sample",
          "sample",
          "sample",
          "sample",
          "sample",
          "sample",
          "sample",
          "sample",
          "sample",
          "sample",
          "sample",
          "sample",
          "sample",
          "sample",
          "sample",
          "sample",
          "sample",
          "sample",
          "sample",
          "sample",
          "sample",
          "sample",
          "sample",
          "sample",
          "sample",
          "sample",
          "sample",
          "sample",
          "sample",
          "sample",
          "sample",
          "sample",
          "sample",
          "sample",
          "sample",
          "sample",
          "sample",
          "sample",
          "sample",
          "sample",
          "sample",
          "sample",
          "sample",
          "sample",
          "sample",
          "sample",
          "sample",
          "sample",
          "sample",
          "sample",
          "sample",
          "sample",
          "sample",
          "sample",
          "sample",
          "sample",
          "sample",
          "sample",
          "sample",
          "sample",
          "sample",
          "sample",
          "sample",
          "sample",
          "sample",
          "sample",
          "sample",
          "sample",
          "sample",
          "sample",
          "sample",
          "sample",
          "sample",
          "sample",
          "sample",
          "sample",
          "sample",
          "sample",
          "sample",
          "sample",
          "sample",
          "sample",
          "sample",
          "sample",
          "sample",
          "sample",
          "sample",
          "sample",
          "sample",
          "sample",
          "sample",
          "sample",
          "sample",
          "sample",
          "sample",
          "sample",
          "sample",
          "sample",
          "sample",
          "sample",
          "sample",
          "sample",
          "sample",
          "sample",
          "sample",
          "sample",
          "sample",
          "sample",
          "sample",
          "sample",
          "sample",
          "sample",
          "sample",
          "sample"
         ],
         "x0": " ",
         "xaxis": "x",
         "y": {
          "bdata": "AAAAAOD67EAAAAAAQFDuQAAAAABA9e1AAAAAANDm8EAAAAAAQK0AQQAAAADAr+JAAAAAAADuvEAAAAAAAGBvQAAAAAAAoGpAAAAAAAC6okAAAAAAAABuQAAAAAAAkI1AAAAAAADkkUAAAAAAAGiNQAAAAAAAgJBAAAAAAAAUvUAAAAAAAKS3QAAAAAAAFrxAAAAAAAAUwEAAAAAAoAPhQAAAAADgA+FAAAAAAAAt00AAAAAAACjXQAAAAAAAJqpAAAAAAABAaUAAAAAAAPB2QAAAAAAAgHhAAAAAAAAWrUAAAAAAAE+wQAAAAAAAIGtAAAAAAAAQd0AAAAAAADB3QAAAAAAAQGtAAAAAAACMp0AAAAAAAGypQAAAAAAAM79AAAAAAIAWwEAAAAAAwD3gQAAAAADgpOBAAAAAAADslkAAAAAAAFySQAAAAAAAwH9AAAAAAAA4gEAAAAAAAAiOQAAAAAAAkIRAAAAAAACwekAAAAAAACB6QAAAAAAANrdAAAAAAABttEAAAAAAwJPdQAAAAAAAq95AAAAAAAC0p0AAAAAAAN6lQAAAAAAAmdpAAAAAAIDg2kAAAAAAAHahQAAAAAAA1JtAAAAAAAAYi0AAAAAAAIiKQAAAAAAABLdAAAAAAADCtEAAAAAAAFSTQAAAAAAAIGhAAAAAAABAhUAAAAAAAPCGQAAAAABA8+FAAAAAAGC+40AAAAAAwDzXQAAAAABArdZAAAAAAABonkAAAAAAAECfQAAAAAAALLxAAAAAAACXvEAAAAAAAMSdQAAAAAAAbJ1AAAAAAABIn0AAAAAAADybQAAAAAAAEHhAAAAAAACYgUAAAAAAAJB3QAAAAAAAkHVAAAAAAADQckAAAAAAAIBxQAAAAACALsVAAAAAAAAAg0AAAAAAoGjhQAAAAAAADL1AAAAAAKBU4kAAAAAAAIa0QAAAAADAZNRAAAAAAIAGwEAAAAAAAAfAQAAAAAAAuJxAAAAAAABwckAAAAAAAJKpQAAAAACA7tRAAAAAAEAR20AAAAAAgFzPQAAAAACAiOtAAAAAAAB4ukAAAAAAwHDZQAAAAAAAKsBAAAAAAACAw0AAAAAAwHTYQAAAAAAAeL5AAAAAAKAz4kAAAAAAQDPcQAAAAABAh+FAAAAAAABkt0AAAAAAAPixQAAAAAAA+rVAAAAAAACSo0AAAAAAAMiTQAAAAAAAE79AAAAAAABImEAAAAAAwFDZQAAAAAAApb1AAAAAAADio0AAAAAAwCDhQAAAAACAE95AAAAAAGD45EAAAAAAABy5QAAAAAAAcrZAAAAAAABntEAAAAAAAB69QAAAAAAA0HhAAAAAAMBH1kAAAAAAAFamQAAAAAAASINAAAAAAACAgkAAAAAAAOB+QAAAAAAgY+NAAAAAAEDh2kAAAAAA4KbgQAAAAAAAgLhAAAAAAAADuUAAAAAAgKPCQAAAAAAAG8VAAAAAAAAYwEAAAAAAAMCgQAAAAAAAlLtAAAAAAAChwUAAAAAAAOShQA==",
          "dtype": "f8"
         },
         "y0": " ",
         "yaxis": "y"
        },
        {
         "alignmentgroup": "True",
         "boxpoints": "all",
         "customdata": [
          [
           "P4C2T4_s81-B3_Gavage-DNA"
          ],
          [
           "P4C2T4_s81-B8_Gavage-DNA"
          ],
          [
           "P4C2T4_s82-A10_Gavage-DNA"
          ],
          [
           "P4C2T4_s82-A5_Gavage-DNA"
          ],
          [
           "P4C2T5_s121-F8_Gavage-DNA"
          ],
          [
           "P4C2T5_s122-G8_Gavage-DNA"
          ],
          [
           "NTC_F3_NTC"
          ],
          [
           "NTC_G10_NTC"
          ],
          [
           "NTC_G5_NTC"
          ],
          [
           "NTC_H10_NTC"
          ],
          [
           "NTC_H5_NTC"
          ],
          [
           "WATER_A2_WATER"
          ],
          [
           "WATER_A7_WATER"
          ],
          [
           "P4C2T4_s1-A1_stool-DNA"
          ],
          [
           "P4C2T4_s1-A6_stool-DNA"
          ],
          [
           "P4C2T4_s11-F1_stool-DNA"
          ],
          [
           "P4C2T4_s11-F6_stool-DNA"
          ],
          [
           "P4C2T4_s13-G1_stool-DNA"
          ],
          [
           "P4C2T4_s13-G6_stool-DNA"
          ],
          [
           "P4C2T4_s17-H1_stool-DNA"
          ],
          [
           "P4C2T4_s17-H6_stool-DNA"
          ],
          [
           "P4C2T4_s19-B2_stool-DNA"
          ],
          [
           "P4C2T4_s19-B7_stool-DNA"
          ],
          [
           "P4C2T4_s21-C2_stool-DNA"
          ],
          [
           "P4C2T4_s21-C7_stool-DNA"
          ],
          [
           "P4C2T4_s23-D2_stool-DNA"
          ],
          [
           "P4C2T4_s23-D7_stool-DNA"
          ],
          [
           "P4C2T4_s25-E2_stool-DNA"
          ],
          [
           "P4C2T4_s25-E7_stool-DNA"
          ],
          [
           "P4C2T4_s27-F2_stool-DNA"
          ],
          [
           "P4C2T4_s27-F7_stool-DNA"
          ],
          [
           "P4C2T4_s29-G2_stool-DNA"
          ],
          [
           "P4C2T4_s29-G7_stool-DNA"
          ],
          [
           "P4C2T4_s3-B1_stool-DNA"
          ],
          [
           "P4C2T4_s3-B6_stool-DNA"
          ],
          [
           "P4C2T4_s33-H2_SI-DNA"
          ],
          [
           "P4C2T4_s33-H7_SI-DNA"
          ],
          [
           "P4C2T4_s35-A3_SI-DNA"
          ],
          [
           "P4C2T4_s35-A8_SI-DNA"
          ],
          [
           "P4C2T4_s37-C3_SI-DNA"
          ],
          [
           "P4C2T4_s37-C8_SI-DNA"
          ],
          [
           "P4C2T4_s39-D3_SI-DNA"
          ],
          [
           "P4C2T4_s39-D8_SI-DNA"
          ],
          [
           "P4C2T4_s41-E3_SI-DNA"
          ],
          [
           "P4C2T4_s41-E8_SI-DNA"
          ],
          [
           "P4C2T4_s43-F3_SI-DNA"
          ],
          [
           "P4C2T4_s43-F8_SI-DNA"
          ],
          [
           "P4C2T4_s45-G3_SI-DNA"
          ],
          [
           "P4C2T4_s45-G8_SI-DNA"
          ],
          [
           "P4C2T4_s49-H3_Cecum-DNA"
          ],
          [
           "P4C2T4_s49-H8_Cecum-DNA"
          ],
          [
           "P4C2T4_s5-C1_stool-DNA"
          ],
          [
           "P4C2T4_s5-C6_stool-DNA"
          ],
          [
           "P4C2T4_s51-A4_Cecum-DNA"
          ],
          [
           "P4C2T4_s51-A9_Cecum-DNA"
          ],
          [
           "P4C2T4_s53-B4_Cecum-DNA"
          ],
          [
           "P4C2T4_s53-B9_Cecum-DNA"
          ],
          [
           "P4C2T4_s55-C4_Cecum-DNA"
          ],
          [
           "P4C2T4_s55-C9_Cecum-DNA"
          ],
          [
           "P4C2T4_s57-D4_Cecum-DNA"
          ],
          [
           "P4C2T4_s57-D9_Cecum-DNA"
          ],
          [
           "P4C2T4_s59-E4_Cecum-DNA"
          ],
          [
           "P4C2T4_s59-E9_Cecum-DNA"
          ],
          [
           "P4C2T4_s61-F4_Cecum-DNA"
          ],
          [
           "P4C2T4_s61-F9_Cecum-DNA"
          ],
          [
           "P4C2T4_s65-G4_Pr.-Colon-DNA"
          ],
          [
           "P4C2T4_s65-G9_Pr.-Colon-DNA"
          ],
          [
           "P4C2T4_s67-H4_Pr.-Colon-DNA"
          ],
          [
           "P4C2T4_s67-H9_Pr.-Colon-DNA"
          ],
          [
           "P4C2T4_s69-B10_Pr.-Colon-DNA"
          ],
          [
           "P4C2T4_s69-B5_Pr.-Colon-DNA"
          ],
          [
           "P4C2T4_s7-D1_stool-DNA"
          ],
          [
           "P4C2T4_s7-D6_stool-DNA"
          ],
          [
           "P4C2T4_s71-C10_Pr.-Colon-DNA"
          ],
          [
           "P4C2T4_s71-C5_Pr.-Colon-DNA"
          ],
          [
           "P4C2T4_s73-D10_Pr.-Colon-DNA"
          ],
          [
           "P4C2T4_s73-D5_Pr.-Colon-DNA"
          ],
          [
           "P4C2T4_s75-E10_Pr.-Colon-DNA"
          ],
          [
           "P4C2T4_s75-E5_Pr.-Colon-DNA"
          ],
          [
           "P4C2T4_s77-F10_Pr.-Colon-DNA"
          ],
          [
           "P4C2T4_s77-F5_Pr.-Colon-DNA"
          ],
          [
           "P4C2T4_s9-E1_stool-DNA"
          ],
          [
           "P4C2T4_s9-E6_stool-DNA"
          ],
          [
           "P4C2T5_s1-A1_stool-DNA"
          ],
          [
           "P4C2T5_s101-D7_Pr.-Colon-DNA"
          ],
          [
           "P4C2T5_s103-E7_Pr.-Colon-DNA"
          ],
          [
           "P4C2T5_s105-F7_Pr.-Colon-DNA"
          ],
          [
           "P4C2T5_s107-G7_Pr.-Colon-DNA"
          ],
          [
           "P4C2T5_s109-H7_Pr.-Colon-DNA"
          ],
          [
           "P4C2T5_s11-F1_stool-DNA"
          ],
          [
           "P4C2T5_s111-A8_Pr.-Colon-DNA"
          ],
          [
           "P4C2T5_s113-B8_Pr.-Colon-DNA"
          ],
          [
           "P4C2T5_s115-C8_Pr.-Colon-DNA"
          ],
          [
           "P4C2T5_s117-D8_Pr.-Colon-DNA"
          ],
          [
           "P4C2T5_s119-E8_Pr.-Colon-DNA"
          ],
          [
           "P4C2T5_s13-G1_stool-DNA"
          ],
          [
           "P4C2T5_s15-H1_stool-DNA"
          ],
          [
           "P4C2T5_s17-A2_stool-DNA"
          ],
          [
           "P4C2T5_s19-B2_stool-DNA"
          ],
          [
           "P4C2T5_s21-C2_stool-DNA"
          ],
          [
           "P4C2T5_s23-D2_stool-DNA"
          ],
          [
           "P4C2T5_s25-E2_stool-DNA"
          ],
          [
           "P4C2T5_s27-F2_stool-DNA"
          ],
          [
           "P4C2T5_s29-G2_stool-DNA"
          ],
          [
           "P4C2T5_s3-B1_stool-DNA"
          ],
          [
           "P4C2T5_s31-H2_stool-DNA"
          ],
          [
           "P4C2T5_s33-A3_stool-DNA"
          ],
          [
           "P4C2T5_s35-B3_stool-DNA"
          ],
          [
           "P4C2T5_s37-C3_stool-DNA"
          ],
          [
           "P4C2T5_s39-D3_stool-DNA"
          ],
          [
           "P4C2T5_s41-E3_stool-DNA"
          ],
          [
           "P4C2T5_s43-G3_stool-DNA"
          ],
          [
           "P4C2T5_s45-H3_stool-DNA"
          ],
          [
           "P4C2T5_s47-A4_stool-DNA"
          ],
          [
           "P4C2T5_s49-B4_SI-DNA"
          ],
          [
           "P4C2T5_s5-C1_stool-DNA"
          ],
          [
           "P4C2T5_s51-C4_SI-DNA"
          ],
          [
           "P4C2T5_s53-D4_SI-DNA"
          ],
          [
           "P4C2T5_s55-E4_SI-DNA"
          ],
          [
           "P4C2T5_s57-F4_SI-DNA"
          ],
          [
           "P4C2T5_s59-G4_SI-DNA"
          ],
          [
           "P4C2T5_s61-H4_SI-DNA"
          ],
          [
           "P4C2T5_s63-A5_SI-DNA"
          ],
          [
           "P4C2T5_s65-B5_SI-DNA"
          ],
          [
           "P4C2T5_s67-C5_SI-DNA"
          ],
          [
           "P4C2T5_s69-D5_SI-DNA"
          ],
          [
           "P4C2T5_s7-D1_stool-DNA"
          ],
          [
           "P4C2T5_s71-E5_SI-DNA"
          ],
          [
           "P4C2T5_s73-F5_Cecum-DNA"
          ],
          [
           "P4C2T5_s75-G5_Cecum-DNA"
          ],
          [
           "P4C2T5_s77-H5_Cecum-DNA"
          ],
          [
           "P4C2T5_s79-A6_Cecum-DNA"
          ],
          [
           "P4C2T5_s81-B6_Cecum-DNA"
          ],
          [
           "P4C2T5_s83-C6_Cecum-DNA"
          ],
          [
           "P4C2T5_s85-D6_Cecum-DNA"
          ],
          [
           "P4C2T5_s87-E6_Cecum-DNA"
          ],
          [
           "P4C2T5_s89-F6_Cecum-DNA"
          ],
          [
           "P4C2T5_s9-E1_stool-DNA"
          ],
          [
           "P4C2T5_s91-G6_Cecum-DNA"
          ],
          [
           "P4C2T5_s93-H6_Cecum-DNA"
          ],
          [
           "P4C2T5_s95-A7_Cecum-DNA"
          ],
          [
           "P4C2T5_s97-B7_Pr.-Colon-DNA"
          ],
          [
           "P4C2T5_s99-C7_Pr.-Colon-DNA"
          ]
         ],
         "hovertemplate": "strain=ST6<br>type=total_count<br>sample_type=%{x}<br>value=%{y}<br>sample=%{customdata[0]}<extra></extra>",
         "legendgroup": "ST6",
         "marker": {
          "color": "#9467BD"
         },
         "name": "ST6",
         "notched": false,
         "offsetgroup": "ST6",
         "orientation": "v",
         "showlegend": true,
         "type": "box",
         "x": [
          "gavage",
          "gavage",
          "gavage",
          "gavage",
          "gavage",
          "gavage",
          "negative_control",
          "negative_control",
          "negative_control",
          "negative_control",
          "negative_control",
          "negative_control",
          "negative_control",
          "sample",
          "sample",
          "sample",
          "sample",
          "sample",
          "sample",
          "sample",
          "sample",
          "sample",
          "sample",
          "sample",
          "sample",
          "sample",
          "sample",
          "sample",
          "sample",
          "sample",
          "sample",
          "sample",
          "sample",
          "sample",
          "sample",
          "sample",
          "sample",
          "sample",
          "sample",
          "sample",
          "sample",
          "sample",
          "sample",
          "sample",
          "sample",
          "sample",
          "sample",
          "sample",
          "sample",
          "sample",
          "sample",
          "sample",
          "sample",
          "sample",
          "sample",
          "sample",
          "sample",
          "sample",
          "sample",
          "sample",
          "sample",
          "sample",
          "sample",
          "sample",
          "sample",
          "sample",
          "sample",
          "sample",
          "sample",
          "sample",
          "sample",
          "sample",
          "sample",
          "sample",
          "sample",
          "sample",
          "sample",
          "sample",
          "sample",
          "sample",
          "sample",
          "sample",
          "sample",
          "sample",
          "sample",
          "sample",
          "sample",
          "sample",
          "sample",
          "sample",
          "sample",
          "sample",
          "sample",
          "sample",
          "sample",
          "sample",
          "sample",
          "sample",
          "sample",
          "sample",
          "sample",
          "sample",
          "sample",
          "sample",
          "sample",
          "sample",
          "sample",
          "sample",
          "sample",
          "sample",
          "sample",
          "sample",
          "sample",
          "sample",
          "sample",
          "sample",
          "sample",
          "sample",
          "sample",
          "sample",
          "sample",
          "sample",
          "sample",
          "sample",
          "sample",
          "sample",
          "sample",
          "sample",
          "sample",
          "sample",
          "sample",
          "sample",
          "sample",
          "sample",
          "sample",
          "sample",
          "sample",
          "sample",
          "sample",
          "sample",
          "sample",
          "sample",
          "sample"
         ],
         "x0": " ",
         "xaxis": "x2",
         "y": {
          "bdata": "AAAAANUjNUEAAAAAnjkrQQAAAADohTVBAAAAAOrFNkEAAABATFVVQQAAAAAgK0ZBAAAAAAADzkAAAAAAgO/LQAAAAACAm8BAAAAAAGDn4EAAAAAAAHKmQAAAAACAE81AAAAAAIA2zEAAAAAAAGzCQAAAAACAcsNAAAAAAIDcyUAAAAAAAISrQAAAAABACdVAAAAAAACYtkAAAACAL65EQQAAAAC95z5BAAAAoOAZa0EAAAAgcOJqQQAAAADa3VVBAAAAAAAGtUAAAAAAAI6uQAAAAAAAz7RAAAAAAABEukAAAAAAQHvVQAAAAAAASMlAAAAAAECe00AAAAAAAMa2QAAAAAAAWqZAAAAAAACpv0AAAAAAgHLEQAAAAAAA4sdAAAAAAACqwkAAAAAAUJgFQQAAAAAIhw1BAAAAAICozUAAAAAAAPy0QAAAAAAAZrxAAAAAAIDawEAAAAAAgAbFQAAAAAAAIbZAAAAAAAC6wkAAAAAAAI7IQAAAAADg7+5AAAAAAMDo5EAAAAAA5MFiQQAAAIBii2lBAAAAAABgrkAAAAAAAOOwQAAAAAC+nltBAAAAAAIXWkEAAAAAgObFQAAAAAAARLtAAAAAAADYrUAAAAAAAOSZQAAAAAAA+KBAAAAAAADEpEAAAAAAQBrQQAAAAAAAaKFAAAAAAADkoEAAAAAAABOwQAAAAICXSkpBAAAAgMGQQUEAAAAALb5EQQAAAOApUmFBAAAAAAAKu0AAAAAAAGu7QAAAAAAA2LBAAAAAAACMqkAAAAAAALa3QAAAAAAAJ7FAAAAAAICqx0AAAAAAAGW4QAAAAAAAVqFAAAAAAACGuUAAAAAAACqwQAAAAAAAcKNAAAAAAABrvUAAAAAAAN/EQAAAAAAAIGlAAAAAAIBcwkAAAAAAVVheQQAAAAAAeyFBAAAAIEdAa0EAAABAiKSRQQAAAADAjdRAAAAAuLRwo0EAAACQr4p/QQAAAAAA2blAAAAAAADBt0AAAAAAwCTkQAAAAADIKTJBAAAAAJBEJUEAAAAAIILgQAAAAAAo5QVBAAAAAAB0nEAAAAAA0PT1QAAAAADwqPBAAAAAAIDEwUAAAAAAcPHxQAAAAAAAyqBAAAAAAG4aNUEAAAAw5Z93QQAAAAA4uGhBAAAAsGFagEEAAACwFPiIQQAAAKj9jcJBAAAAAIAx0EAAAAAAAKm3QAAAAAA4JDZBAAAAAACAokAAAAAA2AUkQQAAAAAWTylBAAAAAABgj0AAAAAAgPjQQAAAAABWSSNBAAAAAMCmAkEAAABo3JKVQQAAAE5RKqNBAAAAoEMYeUEAAAAAjVQyQQAAAABAb+dAAAAAAIDpzUAAAAAAV2E3QQAAAACAasJAAAAAAACUm0AAAAAAAPSfQAAAAMDHXV5BAAAA4B3nhUEAAAAAFNpPQQAAAHA+B3ZBAAAAQAuDw0EAAADgMVGuQQAAAACgF/dAAAAAENkEikEAAAAAACyaQAAAADCv03NBAAAAAP0jRUEAAAAAAEBWQA==",
          "dtype": "f8"
         },
         "y0": " ",
         "yaxis": "y2"
        },
        {
         "alignmentgroup": "True",
         "boxpoints": "all",
         "customdata": [
          [
           "P4C2T4_s81-B3_Gavage-DNA"
          ],
          [
           "P4C2T4_s81-B8_Gavage-DNA"
          ],
          [
           "P4C2T4_s82-A10_Gavage-DNA"
          ],
          [
           "P4C2T4_s82-A5_Gavage-DNA"
          ],
          [
           "P4C2T5_s121-F8_Gavage-DNA"
          ],
          [
           "P4C2T5_s122-G8_Gavage-DNA"
          ],
          [
           "NTC_F3_NTC"
          ],
          [
           "NTC_G10_NTC"
          ],
          [
           "NTC_G5_NTC"
          ],
          [
           "NTC_H10_NTC"
          ],
          [
           "NTC_H5_NTC"
          ],
          [
           "WATER_A2_WATER"
          ],
          [
           "WATER_A7_WATER"
          ],
          [
           "P4C2T4_s1-A1_stool-DNA"
          ],
          [
           "P4C2T4_s1-A6_stool-DNA"
          ],
          [
           "P4C2T4_s11-F1_stool-DNA"
          ],
          [
           "P4C2T4_s11-F6_stool-DNA"
          ],
          [
           "P4C2T4_s13-G1_stool-DNA"
          ],
          [
           "P4C2T4_s13-G6_stool-DNA"
          ],
          [
           "P4C2T4_s17-H1_stool-DNA"
          ],
          [
           "P4C2T4_s17-H6_stool-DNA"
          ],
          [
           "P4C2T4_s19-B2_stool-DNA"
          ],
          [
           "P4C2T4_s19-B7_stool-DNA"
          ],
          [
           "P4C2T4_s21-C2_stool-DNA"
          ],
          [
           "P4C2T4_s21-C7_stool-DNA"
          ],
          [
           "P4C2T4_s23-D2_stool-DNA"
          ],
          [
           "P4C2T4_s23-D7_stool-DNA"
          ],
          [
           "P4C2T4_s25-E2_stool-DNA"
          ],
          [
           "P4C2T4_s25-E7_stool-DNA"
          ],
          [
           "P4C2T4_s27-F2_stool-DNA"
          ],
          [
           "P4C2T4_s27-F7_stool-DNA"
          ],
          [
           "P4C2T4_s29-G2_stool-DNA"
          ],
          [
           "P4C2T4_s29-G7_stool-DNA"
          ],
          [
           "P4C2T4_s3-B1_stool-DNA"
          ],
          [
           "P4C2T4_s3-B6_stool-DNA"
          ],
          [
           "P4C2T4_s33-H2_SI-DNA"
          ],
          [
           "P4C2T4_s33-H7_SI-DNA"
          ],
          [
           "P4C2T4_s35-A3_SI-DNA"
          ],
          [
           "P4C2T4_s35-A8_SI-DNA"
          ],
          [
           "P4C2T4_s37-C3_SI-DNA"
          ],
          [
           "P4C2T4_s37-C8_SI-DNA"
          ],
          [
           "P4C2T4_s39-D3_SI-DNA"
          ],
          [
           "P4C2T4_s39-D8_SI-DNA"
          ],
          [
           "P4C2T4_s41-E3_SI-DNA"
          ],
          [
           "P4C2T4_s41-E8_SI-DNA"
          ],
          [
           "P4C2T4_s43-F3_SI-DNA"
          ],
          [
           "P4C2T4_s43-F8_SI-DNA"
          ],
          [
           "P4C2T4_s45-G3_SI-DNA"
          ],
          [
           "P4C2T4_s45-G8_SI-DNA"
          ],
          [
           "P4C2T4_s49-H3_Cecum-DNA"
          ],
          [
           "P4C2T4_s49-H8_Cecum-DNA"
          ],
          [
           "P4C2T4_s5-C1_stool-DNA"
          ],
          [
           "P4C2T4_s5-C6_stool-DNA"
          ],
          [
           "P4C2T4_s51-A4_Cecum-DNA"
          ],
          [
           "P4C2T4_s51-A9_Cecum-DNA"
          ],
          [
           "P4C2T4_s53-B4_Cecum-DNA"
          ],
          [
           "P4C2T4_s53-B9_Cecum-DNA"
          ],
          [
           "P4C2T4_s55-C4_Cecum-DNA"
          ],
          [
           "P4C2T4_s55-C9_Cecum-DNA"
          ],
          [
           "P4C2T4_s57-D4_Cecum-DNA"
          ],
          [
           "P4C2T4_s57-D9_Cecum-DNA"
          ],
          [
           "P4C2T4_s59-E4_Cecum-DNA"
          ],
          [
           "P4C2T4_s59-E9_Cecum-DNA"
          ],
          [
           "P4C2T4_s61-F4_Cecum-DNA"
          ],
          [
           "P4C2T4_s61-F9_Cecum-DNA"
          ],
          [
           "P4C2T4_s65-G4_Pr.-Colon-DNA"
          ],
          [
           "P4C2T4_s65-G9_Pr.-Colon-DNA"
          ],
          [
           "P4C2T4_s67-H4_Pr.-Colon-DNA"
          ],
          [
           "P4C2T4_s67-H9_Pr.-Colon-DNA"
          ],
          [
           "P4C2T4_s69-B10_Pr.-Colon-DNA"
          ],
          [
           "P4C2T4_s69-B5_Pr.-Colon-DNA"
          ],
          [
           "P4C2T4_s7-D1_stool-DNA"
          ],
          [
           "P4C2T4_s7-D6_stool-DNA"
          ],
          [
           "P4C2T4_s71-C10_Pr.-Colon-DNA"
          ],
          [
           "P4C2T4_s71-C5_Pr.-Colon-DNA"
          ],
          [
           "P4C2T4_s73-D10_Pr.-Colon-DNA"
          ],
          [
           "P4C2T4_s73-D5_Pr.-Colon-DNA"
          ],
          [
           "P4C2T4_s75-E10_Pr.-Colon-DNA"
          ],
          [
           "P4C2T4_s75-E5_Pr.-Colon-DNA"
          ],
          [
           "P4C2T4_s77-F10_Pr.-Colon-DNA"
          ],
          [
           "P4C2T4_s77-F5_Pr.-Colon-DNA"
          ],
          [
           "P4C2T4_s9-E1_stool-DNA"
          ],
          [
           "P4C2T4_s9-E6_stool-DNA"
          ],
          [
           "P4C2T5_s1-A1_stool-DNA"
          ],
          [
           "P4C2T5_s101-D7_Pr.-Colon-DNA"
          ],
          [
           "P4C2T5_s103-E7_Pr.-Colon-DNA"
          ],
          [
           "P4C2T5_s105-F7_Pr.-Colon-DNA"
          ],
          [
           "P4C2T5_s107-G7_Pr.-Colon-DNA"
          ],
          [
           "P4C2T5_s109-H7_Pr.-Colon-DNA"
          ],
          [
           "P4C2T5_s11-F1_stool-DNA"
          ],
          [
           "P4C2T5_s111-A8_Pr.-Colon-DNA"
          ],
          [
           "P4C2T5_s113-B8_Pr.-Colon-DNA"
          ],
          [
           "P4C2T5_s115-C8_Pr.-Colon-DNA"
          ],
          [
           "P4C2T5_s117-D8_Pr.-Colon-DNA"
          ],
          [
           "P4C2T5_s119-E8_Pr.-Colon-DNA"
          ],
          [
           "P4C2T5_s13-G1_stool-DNA"
          ],
          [
           "P4C2T5_s15-H1_stool-DNA"
          ],
          [
           "P4C2T5_s17-A2_stool-DNA"
          ],
          [
           "P4C2T5_s19-B2_stool-DNA"
          ],
          [
           "P4C2T5_s21-C2_stool-DNA"
          ],
          [
           "P4C2T5_s23-D2_stool-DNA"
          ],
          [
           "P4C2T5_s25-E2_stool-DNA"
          ],
          [
           "P4C2T5_s27-F2_stool-DNA"
          ],
          [
           "P4C2T5_s29-G2_stool-DNA"
          ],
          [
           "P4C2T5_s3-B1_stool-DNA"
          ],
          [
           "P4C2T5_s31-H2_stool-DNA"
          ],
          [
           "P4C2T5_s33-A3_stool-DNA"
          ],
          [
           "P4C2T5_s35-B3_stool-DNA"
          ],
          [
           "P4C2T5_s37-C3_stool-DNA"
          ],
          [
           "P4C2T5_s39-D3_stool-DNA"
          ],
          [
           "P4C2T5_s41-E3_stool-DNA"
          ],
          [
           "P4C2T5_s43-G3_stool-DNA"
          ],
          [
           "P4C2T5_s45-H3_stool-DNA"
          ],
          [
           "P4C2T5_s47-A4_stool-DNA"
          ],
          [
           "P4C2T5_s49-B4_SI-DNA"
          ],
          [
           "P4C2T5_s5-C1_stool-DNA"
          ],
          [
           "P4C2T5_s51-C4_SI-DNA"
          ],
          [
           "P4C2T5_s53-D4_SI-DNA"
          ],
          [
           "P4C2T5_s55-E4_SI-DNA"
          ],
          [
           "P4C2T5_s57-F4_SI-DNA"
          ],
          [
           "P4C2T5_s59-G4_SI-DNA"
          ],
          [
           "P4C2T5_s61-H4_SI-DNA"
          ],
          [
           "P4C2T5_s63-A5_SI-DNA"
          ],
          [
           "P4C2T5_s65-B5_SI-DNA"
          ],
          [
           "P4C2T5_s67-C5_SI-DNA"
          ],
          [
           "P4C2T5_s69-D5_SI-DNA"
          ],
          [
           "P4C2T5_s7-D1_stool-DNA"
          ],
          [
           "P4C2T5_s71-E5_SI-DNA"
          ],
          [
           "P4C2T5_s73-F5_Cecum-DNA"
          ],
          [
           "P4C2T5_s75-G5_Cecum-DNA"
          ],
          [
           "P4C2T5_s77-H5_Cecum-DNA"
          ],
          [
           "P4C2T5_s79-A6_Cecum-DNA"
          ],
          [
           "P4C2T5_s81-B6_Cecum-DNA"
          ],
          [
           "P4C2T5_s83-C6_Cecum-DNA"
          ],
          [
           "P4C2T5_s85-D6_Cecum-DNA"
          ],
          [
           "P4C2T5_s87-E6_Cecum-DNA"
          ],
          [
           "P4C2T5_s89-F6_Cecum-DNA"
          ],
          [
           "P4C2T5_s9-E1_stool-DNA"
          ],
          [
           "P4C2T5_s91-G6_Cecum-DNA"
          ],
          [
           "P4C2T5_s93-H6_Cecum-DNA"
          ],
          [
           "P4C2T5_s95-A7_Cecum-DNA"
          ],
          [
           "P4C2T5_s97-B7_Pr.-Colon-DNA"
          ],
          [
           "P4C2T5_s99-C7_Pr.-Colon-DNA"
          ]
         ],
         "hovertemplate": "strain=ST6<br>type=total_unique_umi<br>sample_type=%{x}<br>value=%{y}<br>sample=%{customdata[0]}<extra></extra>",
         "legendgroup": "ST6",
         "marker": {
          "color": "#9467BD"
         },
         "name": "ST6",
         "notched": false,
         "offsetgroup": "ST6",
         "orientation": "v",
         "showlegend": false,
         "type": "box",
         "x": [
          "gavage",
          "gavage",
          "gavage",
          "gavage",
          "gavage",
          "gavage",
          "negative_control",
          "negative_control",
          "negative_control",
          "negative_control",
          "negative_control",
          "negative_control",
          "negative_control",
          "sample",
          "sample",
          "sample",
          "sample",
          "sample",
          "sample",
          "sample",
          "sample",
          "sample",
          "sample",
          "sample",
          "sample",
          "sample",
          "sample",
          "sample",
          "sample",
          "sample",
          "sample",
          "sample",
          "sample",
          "sample",
          "sample",
          "sample",
          "sample",
          "sample",
          "sample",
          "sample",
          "sample",
          "sample",
          "sample",
          "sample",
          "sample",
          "sample",
          "sample",
          "sample",
          "sample",
          "sample",
          "sample",
          "sample",
          "sample",
          "sample",
          "sample",
          "sample",
          "sample",
          "sample",
          "sample",
          "sample",
          "sample",
          "sample",
          "sample",
          "sample",
          "sample",
          "sample",
          "sample",
          "sample",
          "sample",
          "sample",
          "sample",
          "sample",
          "sample",
          "sample",
          "sample",
          "sample",
          "sample",
          "sample",
          "sample",
          "sample",
          "sample",
          "sample",
          "sample",
          "sample",
          "sample",
          "sample",
          "sample",
          "sample",
          "sample",
          "sample",
          "sample",
          "sample",
          "sample",
          "sample",
          "sample",
          "sample",
          "sample",
          "sample",
          "sample",
          "sample",
          "sample",
          "sample",
          "sample",
          "sample",
          "sample",
          "sample",
          "sample",
          "sample",
          "sample",
          "sample",
          "sample",
          "sample",
          "sample",
          "sample",
          "sample",
          "sample",
          "sample",
          "sample",
          "sample",
          "sample",
          "sample",
          "sample",
          "sample",
          "sample",
          "sample",
          "sample",
          "sample",
          "sample",
          "sample",
          "sample",
          "sample",
          "sample",
          "sample",
          "sample",
          "sample",
          "sample",
          "sample",
          "sample",
          "sample",
          "sample",
          "sample",
          "sample",
          "sample"
         ],
         "x0": " ",
         "xaxis": "x",
         "y": {
          "bdata": "AAAAAMAQ1kAAAAAAwBbWQAAAAABAxNhAAAAAAADM2UAAAAAAYH/sQAAAAAAAA75AAAAAAAB8qkAAAAAAAGBtQAAAAAAAwGtAAAAAAAAwckAAAAAAAGBuQAAAAAAA4G5AAAAAAACgakAAAAAAAOBrQAAAAAAAYG9AAAAAAADgakAAAAAAAKBnQAAAAAAAAINAAAAAAABgbEAAAAAAADicQAAAAAAAdJ1AAAAAAAD4qkAAAAAAAICsQAAAAAAAQH5AAAAAAAAAXUAAAAAAAGBjQAAAAAAAwGRAAAAAAACgfUAAAAAAAMCAQAAAAAAAgG9AAAAAAAAQcUAAAAAAAGBnQAAAAAAAgGVAAAAAAABAcUAAAAAAAGBtQAAAAAAA2IVAAAAAAABYhUAAAAAAAGCsQAAAAAAAwKpAAAAAAABgaEAAAAAAAGBsQAAAAAAAAG5AAAAAAAAAbEAAAAAAAOBoQAAAAAAA4GhAAAAAAADAbUAAAAAAAEBqQAAAAAAAsIZAAAAAAAAAhkAAAAAAAMaiQAAAAAAApqJAAAAAAAAAaEAAAAAAAEBlQAAAAAAAZK5AAAAAAAAqr0AAAAAAAOBgQAAAAAAAQF9AAAAAAACAVUAAAAAAAMBcQAAAAAAAAGFAAAAAAABAZUAAAAAAAMBmQAAAAAAAAF9AAAAAAABgY0AAAAAAAKBpQAAAAAAAKJpAAAAAAADImUAAAAAAABqrQAAAAAAAtKpAAAAAAAAAZkAAAAAAAABpQAAAAAAAQGdAAAAAAADAYUAAAAAAAEB1QAAAAAAA4HNAAAAAAADAcEAAAAAAAIBrQAAAAAAAAF5AAAAAAADAZEAAAAAAAGBlQAAAAAAAgGNAAAAAAAAAaUAAAAAAAEBrQAAAAAAAgGdAAAAAAABAXEAAAAAAAPKjQAAAAAAAmqNAAAAAAADepUAAAAAAAASsQAAAAAAAHJZAAAAAAADps0AAAAAAAF2xQAAAAAAAUHxAAAAAAACAVEAAAAAAAAyVQAAAAAAA0HpAAAAAAAAQikAAAAAAABSQQAAAAAAA0IpAAAAAAACAWkAAAAAAAASTQAAAAAAAvJBAAAAAAABsl0AAAAAAAFCBQAAAAAAAAHJAAAAAAACIlkAAAAAAAIO0QAAAAAAAVqxAAAAAAAA3s0AAAAAAAD6uQAAAAAAA3K5AAAAAAADwe0AAAAAAAIBtQAAAAAAAQqBAAAAAAABgYkAAAAAAAOCEQAAAAAAAWJRAAAAAAADgdUAAAAAAANicQAAAAAAAhLBAAAAAAABcmEAAAAAAAOyvQAAAAAAAzqpAAAAAAABwo0AAAAAAAFiXQAAAAAAA8H5AAAAAAAB8kUAAAAAAAOiVQAAAAAAA8HVAAAAAAADAVkAAAAAAAOBlQAAAAAAAiq1AAAAAAAD1s0AAAAAAAGquQAAAAAAA5bZAAAAAAABOsUAAAAAAAFq4QAAAAAAAII5AAAAAAACarEAAAAAAAGiEQAAAAAAARqFAAAAAAABMmkAAAAAAAABVQA==",
          "dtype": "f8"
         },
         "y0": " ",
         "yaxis": "y"
        }
       ],
       "layout": {
        "annotations": [
         {
          "font": {},
          "showarrow": false,
          "text": "type=total_unique_umi",
          "textangle": 90,
          "x": 0.98,
          "xanchor": "left",
          "xref": "paper",
          "y": 0.2425,
          "yanchor": "middle",
          "yref": "paper"
         },
         {
          "font": {},
          "showarrow": false,
          "text": "type=total_count",
          "textangle": 90,
          "x": 0.98,
          "xanchor": "left",
          "xref": "paper",
          "y": 0.7575000000000001,
          "yanchor": "middle",
          "yref": "paper"
         }
        ],
        "boxmode": "group",
        "legend": {
         "title": {
          "text": "strain"
         },
         "tracegroupgap": 0
        },
        "margin": {
         "t": 60
        },
        "template": {
         "data": {
          "bar": [
           {
            "error_x": {
             "color": "rgb(36,36,36)"
            },
            "error_y": {
             "color": "rgb(36,36,36)"
            },
            "marker": {
             "line": {
              "color": "white",
              "width": 0.5
             },
             "pattern": {
              "fillmode": "overlay",
              "size": 10,
              "solidity": 0.2
             }
            },
            "type": "bar"
           }
          ],
          "barpolar": [
           {
            "marker": {
             "line": {
              "color": "white",
              "width": 0.5
             },
             "pattern": {
              "fillmode": "overlay",
              "size": 10,
              "solidity": 0.2
             }
            },
            "type": "barpolar"
           }
          ],
          "carpet": [
           {
            "aaxis": {
             "endlinecolor": "rgb(36,36,36)",
             "gridcolor": "white",
             "linecolor": "white",
             "minorgridcolor": "white",
             "startlinecolor": "rgb(36,36,36)"
            },
            "baxis": {
             "endlinecolor": "rgb(36,36,36)",
             "gridcolor": "white",
             "linecolor": "white",
             "minorgridcolor": "white",
             "startlinecolor": "rgb(36,36,36)"
            },
            "type": "carpet"
           }
          ],
          "choropleth": [
           {
            "colorbar": {
             "outlinewidth": 1,
             "tickcolor": "rgb(36,36,36)",
             "ticks": "outside"
            },
            "type": "choropleth"
           }
          ],
          "contour": [
           {
            "colorbar": {
             "outlinewidth": 1,
             "tickcolor": "rgb(36,36,36)",
             "ticks": "outside"
            },
            "colorscale": [
             [
              0,
              "#440154"
             ],
             [
              0.1111111111111111,
              "#482878"
             ],
             [
              0.2222222222222222,
              "#3e4989"
             ],
             [
              0.3333333333333333,
              "#31688e"
             ],
             [
              0.4444444444444444,
              "#26828e"
             ],
             [
              0.5555555555555556,
              "#1f9e89"
             ],
             [
              0.6666666666666666,
              "#35b779"
             ],
             [
              0.7777777777777778,
              "#6ece58"
             ],
             [
              0.8888888888888888,
              "#b5de2b"
             ],
             [
              1,
              "#fde725"
             ]
            ],
            "type": "contour"
           }
          ],
          "contourcarpet": [
           {
            "colorbar": {
             "outlinewidth": 1,
             "tickcolor": "rgb(36,36,36)",
             "ticks": "outside"
            },
            "type": "contourcarpet"
           }
          ],
          "heatmap": [
           {
            "colorbar": {
             "outlinewidth": 1,
             "tickcolor": "rgb(36,36,36)",
             "ticks": "outside"
            },
            "colorscale": [
             [
              0,
              "#440154"
             ],
             [
              0.1111111111111111,
              "#482878"
             ],
             [
              0.2222222222222222,
              "#3e4989"
             ],
             [
              0.3333333333333333,
              "#31688e"
             ],
             [
              0.4444444444444444,
              "#26828e"
             ],
             [
              0.5555555555555556,
              "#1f9e89"
             ],
             [
              0.6666666666666666,
              "#35b779"
             ],
             [
              0.7777777777777778,
              "#6ece58"
             ],
             [
              0.8888888888888888,
              "#b5de2b"
             ],
             [
              1,
              "#fde725"
             ]
            ],
            "type": "heatmap"
           }
          ],
          "histogram": [
           {
            "marker": {
             "line": {
              "color": "white",
              "width": 0.6
             }
            },
            "type": "histogram"
           }
          ],
          "histogram2d": [
           {
            "colorbar": {
             "outlinewidth": 1,
             "tickcolor": "rgb(36,36,36)",
             "ticks": "outside"
            },
            "colorscale": [
             [
              0,
              "#440154"
             ],
             [
              0.1111111111111111,
              "#482878"
             ],
             [
              0.2222222222222222,
              "#3e4989"
             ],
             [
              0.3333333333333333,
              "#31688e"
             ],
             [
              0.4444444444444444,
              "#26828e"
             ],
             [
              0.5555555555555556,
              "#1f9e89"
             ],
             [
              0.6666666666666666,
              "#35b779"
             ],
             [
              0.7777777777777778,
              "#6ece58"
             ],
             [
              0.8888888888888888,
              "#b5de2b"
             ],
             [
              1,
              "#fde725"
             ]
            ],
            "type": "histogram2d"
           }
          ],
          "histogram2dcontour": [
           {
            "colorbar": {
             "outlinewidth": 1,
             "tickcolor": "rgb(36,36,36)",
             "ticks": "outside"
            },
            "colorscale": [
             [
              0,
              "#440154"
             ],
             [
              0.1111111111111111,
              "#482878"
             ],
             [
              0.2222222222222222,
              "#3e4989"
             ],
             [
              0.3333333333333333,
              "#31688e"
             ],
             [
              0.4444444444444444,
              "#26828e"
             ],
             [
              0.5555555555555556,
              "#1f9e89"
             ],
             [
              0.6666666666666666,
              "#35b779"
             ],
             [
              0.7777777777777778,
              "#6ece58"
             ],
             [
              0.8888888888888888,
              "#b5de2b"
             ],
             [
              1,
              "#fde725"
             ]
            ],
            "type": "histogram2dcontour"
           }
          ],
          "mesh3d": [
           {
            "colorbar": {
             "outlinewidth": 1,
             "tickcolor": "rgb(36,36,36)",
             "ticks": "outside"
            },
            "type": "mesh3d"
           }
          ],
          "parcoords": [
           {
            "line": {
             "colorbar": {
              "outlinewidth": 1,
              "tickcolor": "rgb(36,36,36)",
              "ticks": "outside"
             }
            },
            "type": "parcoords"
           }
          ],
          "pie": [
           {
            "automargin": true,
            "type": "pie"
           }
          ],
          "scatter": [
           {
            "fillpattern": {
             "fillmode": "overlay",
             "size": 10,
             "solidity": 0.2
            },
            "type": "scatter"
           }
          ],
          "scatter3d": [
           {
            "line": {
             "colorbar": {
              "outlinewidth": 1,
              "tickcolor": "rgb(36,36,36)",
              "ticks": "outside"
             }
            },
            "marker": {
             "colorbar": {
              "outlinewidth": 1,
              "tickcolor": "rgb(36,36,36)",
              "ticks": "outside"
             }
            },
            "type": "scatter3d"
           }
          ],
          "scattercarpet": [
           {
            "marker": {
             "colorbar": {
              "outlinewidth": 1,
              "tickcolor": "rgb(36,36,36)",
              "ticks": "outside"
             }
            },
            "type": "scattercarpet"
           }
          ],
          "scattergeo": [
           {
            "marker": {
             "colorbar": {
              "outlinewidth": 1,
              "tickcolor": "rgb(36,36,36)",
              "ticks": "outside"
             }
            },
            "type": "scattergeo"
           }
          ],
          "scattergl": [
           {
            "marker": {
             "colorbar": {
              "outlinewidth": 1,
              "tickcolor": "rgb(36,36,36)",
              "ticks": "outside"
             }
            },
            "type": "scattergl"
           }
          ],
          "scattermap": [
           {
            "marker": {
             "colorbar": {
              "outlinewidth": 1,
              "tickcolor": "rgb(36,36,36)",
              "ticks": "outside"
             }
            },
            "type": "scattermap"
           }
          ],
          "scattermapbox": [
           {
            "marker": {
             "colorbar": {
              "outlinewidth": 1,
              "tickcolor": "rgb(36,36,36)",
              "ticks": "outside"
             }
            },
            "type": "scattermapbox"
           }
          ],
          "scatterpolar": [
           {
            "marker": {
             "colorbar": {
              "outlinewidth": 1,
              "tickcolor": "rgb(36,36,36)",
              "ticks": "outside"
             }
            },
            "type": "scatterpolar"
           }
          ],
          "scatterpolargl": [
           {
            "marker": {
             "colorbar": {
              "outlinewidth": 1,
              "tickcolor": "rgb(36,36,36)",
              "ticks": "outside"
             }
            },
            "type": "scatterpolargl"
           }
          ],
          "scatterternary": [
           {
            "marker": {
             "colorbar": {
              "outlinewidth": 1,
              "tickcolor": "rgb(36,36,36)",
              "ticks": "outside"
             }
            },
            "type": "scatterternary"
           }
          ],
          "surface": [
           {
            "colorbar": {
             "outlinewidth": 1,
             "tickcolor": "rgb(36,36,36)",
             "ticks": "outside"
            },
            "colorscale": [
             [
              0,
              "#440154"
             ],
             [
              0.1111111111111111,
              "#482878"
             ],
             [
              0.2222222222222222,
              "#3e4989"
             ],
             [
              0.3333333333333333,
              "#31688e"
             ],
             [
              0.4444444444444444,
              "#26828e"
             ],
             [
              0.5555555555555556,
              "#1f9e89"
             ],
             [
              0.6666666666666666,
              "#35b779"
             ],
             [
              0.7777777777777778,
              "#6ece58"
             ],
             [
              0.8888888888888888,
              "#b5de2b"
             ],
             [
              1,
              "#fde725"
             ]
            ],
            "type": "surface"
           }
          ],
          "table": [
           {
            "cells": {
             "fill": {
              "color": "rgb(237,237,237)"
             },
             "line": {
              "color": "white"
             }
            },
            "header": {
             "fill": {
              "color": "rgb(217,217,217)"
             },
             "line": {
              "color": "white"
             }
            },
            "type": "table"
           }
          ]
         },
         "layout": {
          "annotationdefaults": {
           "arrowhead": 0,
           "arrowwidth": 1
          },
          "autotypenumbers": "strict",
          "coloraxis": {
           "colorbar": {
            "outlinewidth": 1,
            "tickcolor": "rgb(36,36,36)",
            "ticks": "outside"
           }
          },
          "colorscale": {
           "diverging": [
            [
             0,
             "rgb(103,0,31)"
            ],
            [
             0.1,
             "rgb(178,24,43)"
            ],
            [
             0.2,
             "rgb(214,96,77)"
            ],
            [
             0.3,
             "rgb(244,165,130)"
            ],
            [
             0.4,
             "rgb(253,219,199)"
            ],
            [
             0.5,
             "rgb(247,247,247)"
            ],
            [
             0.6,
             "rgb(209,229,240)"
            ],
            [
             0.7,
             "rgb(146,197,222)"
            ],
            [
             0.8,
             "rgb(67,147,195)"
            ],
            [
             0.9,
             "rgb(33,102,172)"
            ],
            [
             1,
             "rgb(5,48,97)"
            ]
           ],
           "sequential": [
            [
             0,
             "#440154"
            ],
            [
             0.1111111111111111,
             "#482878"
            ],
            [
             0.2222222222222222,
             "#3e4989"
            ],
            [
             0.3333333333333333,
             "#31688e"
            ],
            [
             0.4444444444444444,
             "#26828e"
            ],
            [
             0.5555555555555556,
             "#1f9e89"
            ],
            [
             0.6666666666666666,
             "#35b779"
            ],
            [
             0.7777777777777778,
             "#6ece58"
            ],
            [
             0.8888888888888888,
             "#b5de2b"
            ],
            [
             1,
             "#fde725"
            ]
           ],
           "sequentialminus": [
            [
             0,
             "#440154"
            ],
            [
             0.1111111111111111,
             "#482878"
            ],
            [
             0.2222222222222222,
             "#3e4989"
            ],
            [
             0.3333333333333333,
             "#31688e"
            ],
            [
             0.4444444444444444,
             "#26828e"
            ],
            [
             0.5555555555555556,
             "#1f9e89"
            ],
            [
             0.6666666666666666,
             "#35b779"
            ],
            [
             0.7777777777777778,
             "#6ece58"
            ],
            [
             0.8888888888888888,
             "#b5de2b"
            ],
            [
             1,
             "#fde725"
            ]
           ]
          },
          "colorway": [
           "#1F77B4",
           "#FF7F0E",
           "#2CA02C",
           "#D62728",
           "#9467BD",
           "#8C564B",
           "#E377C2",
           "#7F7F7F",
           "#BCBD22",
           "#17BECF"
          ],
          "font": {
           "color": "rgb(36,36,36)"
          },
          "geo": {
           "bgcolor": "white",
           "lakecolor": "white",
           "landcolor": "white",
           "showlakes": true,
           "showland": true,
           "subunitcolor": "white"
          },
          "hoverlabel": {
           "align": "left"
          },
          "hovermode": "closest",
          "mapbox": {
           "style": "light"
          },
          "paper_bgcolor": "white",
          "plot_bgcolor": "white",
          "polar": {
           "angularaxis": {
            "gridcolor": "rgb(232,232,232)",
            "linecolor": "rgb(36,36,36)",
            "showgrid": false,
            "showline": true,
            "ticks": "outside"
           },
           "bgcolor": "white",
           "radialaxis": {
            "gridcolor": "rgb(232,232,232)",
            "linecolor": "rgb(36,36,36)",
            "showgrid": false,
            "showline": true,
            "ticks": "outside"
           }
          },
          "scene": {
           "xaxis": {
            "backgroundcolor": "white",
            "gridcolor": "rgb(232,232,232)",
            "gridwidth": 2,
            "linecolor": "rgb(36,36,36)",
            "showbackground": true,
            "showgrid": false,
            "showline": true,
            "ticks": "outside",
            "zeroline": false,
            "zerolinecolor": "rgb(36,36,36)"
           },
           "yaxis": {
            "backgroundcolor": "white",
            "gridcolor": "rgb(232,232,232)",
            "gridwidth": 2,
            "linecolor": "rgb(36,36,36)",
            "showbackground": true,
            "showgrid": false,
            "showline": true,
            "ticks": "outside",
            "zeroline": false,
            "zerolinecolor": "rgb(36,36,36)"
           },
           "zaxis": {
            "backgroundcolor": "white",
            "gridcolor": "rgb(232,232,232)",
            "gridwidth": 2,
            "linecolor": "rgb(36,36,36)",
            "showbackground": true,
            "showgrid": false,
            "showline": true,
            "ticks": "outside",
            "zeroline": false,
            "zerolinecolor": "rgb(36,36,36)"
           }
          },
          "shapedefaults": {
           "fillcolor": "black",
           "line": {
            "width": 0
           },
           "opacity": 0.3
          },
          "ternary": {
           "aaxis": {
            "gridcolor": "rgb(232,232,232)",
            "linecolor": "rgb(36,36,36)",
            "showgrid": false,
            "showline": true,
            "ticks": "outside"
           },
           "baxis": {
            "gridcolor": "rgb(232,232,232)",
            "linecolor": "rgb(36,36,36)",
            "showgrid": false,
            "showline": true,
            "ticks": "outside"
           },
           "bgcolor": "white",
           "caxis": {
            "gridcolor": "rgb(232,232,232)",
            "linecolor": "rgb(36,36,36)",
            "showgrid": false,
            "showline": true,
            "ticks": "outside"
           }
          },
          "title": {
           "x": 0.05
          },
          "xaxis": {
           "automargin": true,
           "gridcolor": "rgb(232,232,232)",
           "linecolor": "rgb(36,36,36)",
           "showgrid": false,
           "showline": true,
           "ticks": "outside",
           "title": {
            "standoff": 15
           },
           "zeroline": false,
           "zerolinecolor": "rgb(36,36,36)"
          },
          "yaxis": {
           "automargin": true,
           "gridcolor": "rgb(232,232,232)",
           "linecolor": "rgb(36,36,36)",
           "showgrid": false,
           "showline": true,
           "ticks": "outside",
           "title": {
            "standoff": 15
           },
           "zeroline": false,
           "zerolinecolor": "rgb(36,36,36)"
          }
         }
        },
        "width": 800,
        "xaxis": {
         "anchor": "y",
         "domain": [
          0,
          0.98
         ],
         "title": {
          "text": "sample_type"
         }
        },
        "xaxis2": {
         "anchor": "y2",
         "domain": [
          0,
          0.98
         ],
         "matches": "x",
         "showticklabels": false
        },
        "yaxis": {
         "anchor": "x",
         "domain": [
          0,
          0.485
         ],
         "title": {
          "text": "value"
         },
         "type": "log"
        },
        "yaxis2": {
         "anchor": "x2",
         "domain": [
          0.515,
          1
         ],
         "matches": "y",
         "title": {
          "text": "value"
         },
         "type": "log"
        }
       }
      }
     },
     "metadata": {},
     "output_type": "display_data"
    }
   ],
   "source": [
    "df_gavage_strains = df_gavage_stack.groupby(['sample_type', 'sample', 'strain']).agg(**agg_dict)\n",
    "\n",
    "df_gavage_strains = df_gavage_strains.reset_index()\n",
    "df_gavage_strains = df_gavage_strains.set_index(['sample_type', 'sample','strain']).stack()\n",
    "df_gavage_strains = df_gavage_strains.reset_index()\n",
    "display(df_gavage_strains)\n",
    "df_gavage_strains = df_gavage_strains.rename(columns = {'level_3':'type', 0:'value'})\n",
    "df_gavage_strains\n",
    "\n",
    "fig = px.box(df_gavage_strains,\n",
    "             x = 'sample_type',\n",
    "             y = 'value',\n",
    "             color = 'strain',\n",
    "             facet_row='type',\n",
    "             hover_data = ['sample'],\n",
    "             template = 'simple_white',\n",
    "             points = 'all',\n",
    "             log_y = True,\n",
    "             width = 800\n",
    "             )\n",
    "#for i, facet in fig.facets\n",
    "\n",
    "fig.show()"
   ]
  }
 ],
 "metadata": {
  "kernelspec": {
   "display_name": "pouch",
   "language": "python",
   "name": "python3"
  },
  "language_info": {
   "codemirror_mode": {
    "name": "ipython",
    "version": 3
   },
   "file_extension": ".py",
   "mimetype": "text/x-python",
   "name": "python",
   "nbconvert_exporter": "python",
   "pygments_lexer": "ipython3",
   "version": "3.13.7"
  }
 },
 "nbformat": 4,
 "nbformat_minor": 5
}
