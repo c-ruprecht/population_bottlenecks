{
 "cells": [
  {
   "cell_type": "code",
   "execution_count": 1,
   "id": "23c8522f",
   "metadata": {},
   "outputs": [],
   "source": [
    "import pandas as pd"
   ]
  },
  {
   "cell_type": "markdown",
   "id": "82ad5bdd",
   "metadata": {},
   "source": [
    "# P4C2T4T5"
   ]
  },
  {
   "cell_type": "code",
   "execution_count": 27,
   "id": "6718d5f7",
   "metadata": {},
   "outputs": [
    {
     "data": {
      "text/plain": [
       "Index(['Unnamed: 0', 'TotalReads', 'Number of barcodes', 'Ns_MinCutoff', 'Nb',\n",
       "       'Ns', 'AverageFrequency', 'CFU', 'Log10Ns', 'Log10CFU', 'CFU/Ns',\n",
       "       'project', 'sample_id', 'sample_type', 'date_collected', 'time_point_h',\n",
       "       'cage_id', 'mouse_type', 'pretreatment', 'mouse_id', 'gender',\n",
       "       'gavage_dose_200ul', 'strain_bcs', 'strains', 'tube_type',\n",
       "       'tube_weight_empty', 'tube_weight_full', 'stool_weight_mg',\n",
       "       'cfu_g_stool', 'cfu_incubation_time', 'dna_conc_ng_ul',\n",
       "       'dna_conc_ng_ul.1'],\n",
       "      dtype='object')"
      ]
     },
     "execution_count": 27,
     "metadata": {},
     "output_type": "execute_result"
    }
   ],
   "source": [
    "df = pd.read_csv('/Volumes/sd/faith/MTCSB/projects/P4-barcoding_strains/20241029_analysis/rerun/P4C2T4T5/FP/ST1/TableOfEstimates.csv')\n",
    "df['project'] = df['Unnamed: 0'].apply(lambda x: str(x).split(\"_\")[0])\n",
    "df['sample_id'] = df['Unnamed: 0'].apply(lambda x: str(x).split(\"_\")[1].split(\".\")[0])\n",
    "df\n",
    "#P4C2T4:\n",
    "df_P4C2T4 = pd.read_csv('/Users/ruprec01/Documents/Faith_lab/Git/population_bottlenecks/input_files/metadata/P4C2T4_cr_mouse_sample - P4C2T4.tsv', sep = '\\t')\n",
    "\n",
    "df_P4C2T5 = pd.read_csv('/Users/ruprec01/Documents/Faith_lab/Git/population_bottlenecks/input_files/metadata/P4C2T5_cr_mouse_sample - P4C2T5.tsv', sep = '\\t')\n",
    "\n",
    "df_meta = pd.concat([df_P4C2T4, df_P4C2T5], axis = 0)\n",
    "df_meta\n",
    "\n",
    "df_merge = pd.merge(df, df_meta, on = ['sample_id', 'project'], how = 'left')\n",
    "df_merge.columns"
   ]
  },
  {
   "cell_type": "code",
   "execution_count": null,
   "id": "9de404ba",
   "metadata": {},
   "outputs": [
    {
     "data": {
      "text/plain": [
       "gd_name                           sample_id  project\n",
       "P4C2T4 SPF NA                     s27        P4C2T4     P4C2T4_s27.F2_stool.DNA\n",
       "                                  s29        P4C2T4     P4C2T4_s29.G2_stool.DNA\n",
       "P4C2T4 SPF antibiotic_vancomycin  s25        P4C2T4     P4C2T4_s25.E2_stool.DNA\n",
       "P4C2T4 germ_free NA               s17        P4C2T4     P4C2T4_s17.H1_stool.DNA\n",
       "                                  s19        P4C2T4     P4C2T4_s19.B2_stool.DNA\n",
       "P4C2T4 germ_free donor_BSD2780    s21        P4C2T4     P4C2T4_s21.C2_stool.DNA\n",
       "                                  s23        P4C2T4     P4C2T4_s23.D2_stool.DNA\n",
       "P4C2T5 SPF NA                     s43        P4C2T5     P4C2T5_s43.G3_stool.DNA\n",
       "                                  s45        P4C2T5     P4C2T5_s45.H3_stool.DNA\n",
       "                                  s47        P4C2T5     P4C2T5_s47.A4_stool.DNA\n",
       "P4C2T5 SPF antibiotic_vancomycin  s37        P4C2T5     P4C2T5_s37.C3_stool.DNA\n",
       "                                  s39        P4C2T5     P4C2T5_s39.D3_stool.DNA\n",
       "                                  s41        P4C2T5     P4C2T5_s41.E3_stool.DNA\n",
       "P4C2T5 germ_free NA               s25        P4C2T5     P4C2T5_s25.E2_stool.DNA\n",
       "                                  s27        P4C2T5     P4C2T5_s27.F2_stool.DNA\n",
       "                                  s29        P4C2T5     P4C2T5_s29.G2_stool.DNA\n",
       "P4C2T5 germ_free donor_BSD2780    s31        P4C2T5     P4C2T5_s31.H2_stool.DNA\n",
       "                                  s33        P4C2T5     P4C2T5_s33.A3_stool.DNA\n",
       "                                  s35        P4C2T5     P4C2T5_s35.B3_stool.DNA\n",
       "Name: Unnamed: 0, dtype: object"
      ]
     },
     "execution_count": 38,
     "metadata": {},
     "output_type": "execute_result"
    }
   ],
   "source": [
    "\n"
   ]
  },
  {
   "cell_type": "code",
   "execution_count": 45,
   "id": "26987f1e",
   "metadata": {},
   "outputs": [],
   "source": [
    "df_select = df_merge.loc[(df_merge['sample_type'] == 'stool DNA') & (df_merge['time_point_h'] == '24 h')].copy()\n",
    "df_select['gd_name'] = df_select['project'] + \" \" +df_select['mouse_type'] + \" \" + df_select['pretreatment'].fillna('NA')\n",
    "\n",
    "#gets first of duplicate sequencing\n",
    "df_select.sort_values(['mouse_type', 'pretreatment','cage_id'], ascending = True, inplace = True)\n",
    "\n",
    "df_select = df_select.groupby(['gd_name', 'sample_id' ])['Unnamed: 0'].first()\n",
    "df_select = df_select.reset_index()\n",
    "\n",
    "#create Sample,Group,Order,BioSample csv\n",
    "df_gd_meta = df_select[['Unnamed: 0', 'gd_name']].copy()\n",
    "df_gd_meta['Group'] = 1\n",
    "df_gd_meta = df_gd_meta.rename(columns = {'Unnamed: 0': 'Sample', 'gd_name': 'BioSample'})\n",
    "df_gd_meta.reset_index(drop = True, inplace = True)\n",
    "df_gd_meta['Order'] = df_gd_meta.index+1\n",
    "\n",
    "df_gd_meta[[\"Sample\",\"Group\",\"Order\",\"BioSample\"]].to_csv('/Users/ruprec01/Documents/Faith_lab/Git/population_bottlenecks/input_files/gd_sheets/P4C2T4T5/24h_stool_gdmeta.csv',\n",
    "                                                            index = False)"
   ]
  },
  {
   "cell_type": "code",
   "execution_count": null,
   "id": "2b35ef19",
   "metadata": {},
   "outputs": [],
   "source": []
  }
 ],
 "metadata": {
  "kernelspec": {
   "display_name": "pouch",
   "language": "python",
   "name": "python3"
  },
  "language_info": {
   "codemirror_mode": {
    "name": "ipython",
    "version": 3
   },
   "file_extension": ".py",
   "mimetype": "text/x-python",
   "name": "python",
   "nbconvert_exporter": "python",
   "pygments_lexer": "ipython3",
   "version": "3.13.7"
  }
 },
 "nbformat": 4,
 "nbformat_minor": 5
}
